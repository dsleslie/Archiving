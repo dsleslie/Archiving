{
 "cells": [
  {
   "cell_type": "code",
   "execution_count": 1,
   "id": "7987677e",
   "metadata": {},
   "outputs": [],
   "source": [
    "import pandas as pd\n",
    "import numpy as np\n",
    "import seaborn as sns\n",
    "import matplotlib.pyplot as plt\n",
    "import statsmodels.api as sm\n",
    "from sklearn.model_selection import train_test_split\n",
    "import warnings\n",
    "warnings.filterwarnings(\"ignore\")\n",
    "\n",
    "from ggplot import *\n",
    "from scipy.stats import logistic\n",
    "from sklearn.metrics import roc_curve\n",
    "from sklearn.metrics import roc_auc_score\n",
    "from sklearn.linear_model import LogisticRegression\n",
    "from sklearn.metrics import confusion_matrix, mean_squared_error\n",
    "from sklearn.model_selection import train_test_split\n",
    "from sklearn import preprocessing\n",
    "from sklearn.neighbors import KNeighborsClassifier\n",
    "from sklearn.naive_bayes import *\n",
    "from sklearn.tree import DecisionTreeClassifier, DecisionTreeRegressor, export_graphviz\n",
    "import graphviz\n",
    "from sklearn.ensemble import RandomForestRegressor, RandomForestClassifier\n",
    "from sklearn.svm import SVC, SVR\n",
    "from sklearn.cluster import KMeans\n",
    "from sklearn.preprocessing import StandardScaler"
   ]
  },
  {
   "cell_type": "code",
   "execution_count": 2,
   "id": "4075744f",
   "metadata": {},
   "outputs": [
    {
     "data": {
      "text/html": [
       "<div>\n",
       "<style scoped>\n",
       "    .dataframe tbody tr th:only-of-type {\n",
       "        vertical-align: middle;\n",
       "    }\n",
       "\n",
       "    .dataframe tbody tr th {\n",
       "        vertical-align: top;\n",
       "    }\n",
       "\n",
       "    .dataframe thead th {\n",
       "        text-align: right;\n",
       "    }\n",
       "</style>\n",
       "<table border=\"1\" class=\"dataframe\">\n",
       "  <thead>\n",
       "    <tr style=\"text-align: right;\">\n",
       "      <th></th>\n",
       "      <th>X1</th>\n",
       "      <th>X2</th>\n",
       "      <th>y</th>\n",
       "    </tr>\n",
       "  </thead>\n",
       "  <tbody>\n",
       "    <tr>\n",
       "      <th>0</th>\n",
       "      <td>-0.486850</td>\n",
       "      <td>-0.621107</td>\n",
       "      <td>1</td>\n",
       "    </tr>\n",
       "    <tr>\n",
       "      <th>1</th>\n",
       "      <td>-1.476004</td>\n",
       "      <td>0.132181</td>\n",
       "      <td>1</td>\n",
       "    </tr>\n",
       "    <tr>\n",
       "      <th>2</th>\n",
       "      <td>-0.010911</td>\n",
       "      <td>2.037849</td>\n",
       "      <td>1</td>\n",
       "    </tr>\n",
       "    <tr>\n",
       "      <th>3</th>\n",
       "      <td>-0.013760</td>\n",
       "      <td>1.164893</td>\n",
       "      <td>1</td>\n",
       "    </tr>\n",
       "    <tr>\n",
       "      <th>4</th>\n",
       "      <td>0.515579</td>\n",
       "      <td>1.049514</td>\n",
       "      <td>1</td>\n",
       "    </tr>\n",
       "    <tr>\n",
       "      <th>5</th>\n",
       "      <td>-0.139122</td>\n",
       "      <td>0.329392</td>\n",
       "      <td>1</td>\n",
       "    </tr>\n",
       "    <tr>\n",
       "      <th>6</th>\n",
       "      <td>1.287317</td>\n",
       "      <td>0.728701</td>\n",
       "      <td>1</td>\n",
       "    </tr>\n",
       "    <tr>\n",
       "      <th>7</th>\n",
       "      <td>-0.587773</td>\n",
       "      <td>0.815217</td>\n",
       "      <td>1</td>\n",
       "    </tr>\n",
       "    <tr>\n",
       "      <th>8</th>\n",
       "      <td>-0.030600</td>\n",
       "      <td>0.882825</td>\n",
       "      <td>1</td>\n",
       "    </tr>\n",
       "    <tr>\n",
       "      <th>9</th>\n",
       "      <td>-2.196844</td>\n",
       "      <td>-0.021392</td>\n",
       "      <td>1</td>\n",
       "    </tr>\n",
       "    <tr>\n",
       "      <th>10</th>\n",
       "      <td>0.084499</td>\n",
       "      <td>1.959912</td>\n",
       "      <td>-1</td>\n",
       "    </tr>\n",
       "    <tr>\n",
       "      <th>11</th>\n",
       "      <td>0.776998</td>\n",
       "      <td>1.605411</td>\n",
       "      <td>-1</td>\n",
       "    </tr>\n",
       "    <tr>\n",
       "      <th>12</th>\n",
       "      <td>1.494550</td>\n",
       "      <td>0.347884</td>\n",
       "      <td>-1</td>\n",
       "    </tr>\n",
       "    <tr>\n",
       "      <th>13</th>\n",
       "      <td>0.737689</td>\n",
       "      <td>1.788305</td>\n",
       "      <td>-1</td>\n",
       "    </tr>\n",
       "    <tr>\n",
       "      <th>14</th>\n",
       "      <td>1.366124</td>\n",
       "      <td>-1.079254</td>\n",
       "      <td>-1</td>\n",
       "    </tr>\n",
       "    <tr>\n",
       "      <th>15</th>\n",
       "      <td>0.037535</td>\n",
       "      <td>1.435385</td>\n",
       "      <td>-1</td>\n",
       "    </tr>\n",
       "    <tr>\n",
       "      <th>16</th>\n",
       "      <td>1.253292</td>\n",
       "      <td>1.803933</td>\n",
       "      <td>-1</td>\n",
       "    </tr>\n",
       "    <tr>\n",
       "      <th>17</th>\n",
       "      <td>3.284249</td>\n",
       "      <td>2.953395</td>\n",
       "      <td>-1</td>\n",
       "    </tr>\n",
       "    <tr>\n",
       "      <th>18</th>\n",
       "      <td>1.322381</td>\n",
       "      <td>-0.299420</td>\n",
       "      <td>-1</td>\n",
       "    </tr>\n",
       "    <tr>\n",
       "      <th>19</th>\n",
       "      <td>0.594095</td>\n",
       "      <td>0.871666</td>\n",
       "      <td>-1</td>\n",
       "    </tr>\n",
       "  </tbody>\n",
       "</table>\n",
       "</div>"
      ],
      "text/plain": [
       "          X1        X2  y\n",
       "0  -0.486850 -0.621107  1\n",
       "1  -1.476004  0.132181  1\n",
       "2  -0.010911  2.037849  1\n",
       "3  -0.013760  1.164893  1\n",
       "4   0.515579  1.049514  1\n",
       "5  -0.139122  0.329392  1\n",
       "6   1.287317  0.728701  1\n",
       "7  -0.587773  0.815217  1\n",
       "8  -0.030600  0.882825  1\n",
       "9  -2.196844 -0.021392  1\n",
       "10  0.084499  1.959912 -1\n",
       "11  0.776998  1.605411 -1\n",
       "12  1.494550  0.347884 -1\n",
       "13  0.737689  1.788305 -1\n",
       "14  1.366124 -1.079254 -1\n",
       "15  0.037535  1.435385 -1\n",
       "16  1.253292  1.803933 -1\n",
       "17  3.284249  2.953395 -1\n",
       "18  1.322381 -0.299420 -1\n",
       "19  0.594095  0.871666 -1"
      ]
     },
     "execution_count": 2,
     "metadata": {},
     "output_type": "execute_result"
    }
   ],
   "source": [
    "file1=\"c:/temp/svm_data1.csv\"\n",
    "data1=pd.read_csv(file1)\n",
    "data1"
   ]
  },
  {
   "cell_type": "code",
   "execution_count": 3,
   "id": "572c9124",
   "metadata": {},
   "outputs": [
    {
     "data": {
      "image/png": "[encoded data removed]",
      "text/plain": [
       "<Figure size 640x480 with 1 Axes>"
      ]
     },
     "metadata": {},
     "output_type": "display_data"
    }
   ],
   "source": [
    "plt.scatter(data1['X1'],data1['X2'],c=data1['y']) \n",
    "plt.show()"
   ]
  },
  {
   "cell_type": "code",
   "execution_count": 5,
   "id": "e14dd7d6",
   "metadata": {},
   "outputs": [
    {
     "data": {
      "text/plain": [
       "SVC(C=0.1, kernel='linear', random_state=0)"
      ]
     },
     "execution_count": 5,
     "metadata": {},
     "output_type": "execute_result"
    }
   ],
   "source": [
    "# svc1, c=0.1->small C->large margin\n",
    "X=data1[['X1','X2']]\n",
    "y=data1['y']\n",
    "svc1=SVC(C=0.1, kernel='linear',random_state=0)\n",
    "result1=svc1.fit(X,y)\n",
    "result1"
   ]
  },
  {
   "cell_type": "code",
   "execution_count": 6,
   "id": "67a0faec",
   "metadata": {},
   "outputs": [
    {
     "data": {
      "text/plain": [
       "18"
      ]
     },
     "execution_count": 6,
     "metadata": {},
     "output_type": "execute_result"
    }
   ],
   "source": [
    "# svc1에 쓰인 서포트 벡터 개수\n",
    "result1.support_.size"
   ]
  },
  {
   "cell_type": "code",
   "execution_count": 7,
   "id": "39c9080f",
   "metadata": {},
   "outputs": [
    {
     "data": {
      "text/plain": [
       "array([10, 11, 12, 13, 14, 15, 16, 18, 19,  0,  1,  2,  3,  4,  5,  6,  7,\n",
       "        8])"
      ]
     },
     "execution_count": 7,
     "metadata": {},
     "output_type": "execute_result"
    }
   ],
   "source": [
    "#  svc1에 쓰인 서포트 벡터 qjsgh\n",
    "result1.support_"
   ]
  },
  {
   "cell_type": "code",
   "execution_count": 8,
   "id": "10d98016",
   "metadata": {},
   "outputs": [
    {
     "data": {
      "text/plain": [
       "array([[ 0.08449906,  1.9599125 ],\n",
       "       [ 0.77699828,  1.6054105 ],\n",
       "       [ 1.4945496 ,  0.34788412],\n",
       "       [ 0.73768926,  1.7883046 ],\n",
       "       [ 1.3661239 , -1.0792539 ],\n",
       "       [ 0.03753495,  1.4353855 ],\n",
       "       [ 1.2532923 ,  1.8039327 ],\n",
       "       [ 1.3223809 , -0.29942036],\n",
       "       [ 0.59409535,  0.8716656 ],\n",
       "       [-0.48685038, -0.62110734],\n",
       "       [-1.4760038 ,  0.13218145],\n",
       "       [-0.01091149,  2.0378487 ],\n",
       "       [-0.01376025,  1.1648929 ],\n",
       "       [ 0.51557881,  1.0495144 ],\n",
       "       [-0.13912173,  0.32939234],\n",
       "       [ 1.2873173 ,  0.72870135],\n",
       "       [-0.58777297,  0.81521714],\n",
       "       [-0.03060045,  0.88282478]])"
      ]
     },
     "execution_count": 8,
     "metadata": {},
     "output_type": "execute_result"
    }
   ],
   "source": [
    "#  svc1에 쓰인 서포트 벡터의 좌표 값\n",
    "result1.support_vectors_"
   ]
  },
  {
   "cell_type": "code",
   "execution_count": 9,
   "id": "47a79de7",
   "metadata": {},
   "outputs": [
    {
     "data": {
      "text/plain": [
       "array([[10,  0],\n",
       "       [ 5,  5]], dtype=int64)"
      ]
     },
     "execution_count": 9,
     "metadata": {},
     "output_type": "execute_result"
    }
   ],
   "source": [
    "# svc 1 예측성과\n",
    "pred1=result1.predict(X)\n",
    "confusion_matrix(y,pred1)"
   ]
  },
  {
   "cell_type": "code",
   "execution_count": 10,
   "id": "031ebcf1",
   "metadata": {},
   "outputs": [
    {
     "data": {
      "text/plain": [
       "0.75"
      ]
     },
     "execution_count": 10,
     "metadata": {},
     "output_type": "execute_result"
    }
   ],
   "source": [
    "# CCR 1\n",
    "(10+5)/(10+5+5)"
   ]
  },
  {
   "cell_type": "code",
   "execution_count": 11,
   "id": "d5cc60be",
   "metadata": {},
   "outputs": [
    {
     "data": {
      "text/plain": [
       "SVC(kernel='linear', random_state=0)"
      ]
     },
     "execution_count": 11,
     "metadata": {},
     "output_type": "execute_result"
    }
   ],
   "source": [
    "# svc2, C=1.0 -> large C -> tiny margin\n",
    "svc2=SVC(C=1.0,kernel='linear',random_state=0)\n",
    "result2=svc2.fit(X,y)\n",
    "result2"
   ]
  },
  {
   "cell_type": "code",
   "execution_count": 12,
   "id": "28c99155",
   "metadata": {},
   "outputs": [
    {
     "data": {
      "text/plain": [
       "12"
      ]
     },
     "execution_count": 12,
     "metadata": {},
     "output_type": "execute_result"
    }
   ],
   "source": [
    "# svc2 서포트 벡터 개수\n",
    "result2.support_.size"
   ]
  },
  {
   "cell_type": "code",
   "execution_count": 13,
   "id": "0dddb8d6",
   "metadata": {},
   "outputs": [
    {
     "data": {
      "text/plain": [
       "array([10, 11, 13, 14, 15, 19,  2,  3,  4,  5,  6,  8])"
      ]
     },
     "execution_count": 13,
     "metadata": {},
     "output_type": "execute_result"
    }
   ],
   "source": [
    "# svc2 서포트 벡터 번호\n",
    "result2.support_"
   ]
  },
  {
   "cell_type": "code",
   "execution_count": 14,
   "id": "da02699f",
   "metadata": {},
   "outputs": [
    {
     "data": {
      "text/plain": [
       "array([[ 0.08449906,  1.9599125 ],\n",
       "       [ 0.77699828,  1.6054105 ],\n",
       "       [ 0.73768926,  1.7883046 ],\n",
       "       [ 1.3661239 , -1.0792539 ],\n",
       "       [ 0.03753495,  1.4353855 ],\n",
       "       [ 0.59409535,  0.8716656 ],\n",
       "       [-0.01091149,  2.0378487 ],\n",
       "       [-0.01376025,  1.1648929 ],\n",
       "       [ 0.51557881,  1.0495144 ],\n",
       "       [-0.13912173,  0.32939234],\n",
       "       [ 1.2873173 ,  0.72870135],\n",
       "       [-0.03060045,  0.88282478]])"
      ]
     },
     "execution_count": 14,
     "metadata": {},
     "output_type": "execute_result"
    }
   ],
   "source": [
    "# svc2 서포트 벡터 의 좌표 값\n",
    "result2.support_vectors_"
   ]
  },
  {
   "cell_type": "code",
   "execution_count": 16,
   "id": "ef8e9d9c",
   "metadata": {},
   "outputs": [
    {
     "data": {
      "text/plain": [
       "SVC(C=0.1, kernel='linear', random_state=0)"
      ]
     },
     "execution_count": 16,
     "metadata": {},
     "output_type": "execute_result"
    }
   ],
   "source": [
    "# svc3, small C -> large margin, train test split\n",
    "\n",
    "X=data1[['X1','X2']]\n",
    "y=data1['y']\n",
    "X_train,X_test,y_train,y_test=train_test_split(X,y,train_size=0.7,random_state=0)\n",
    "svc3=SVC(C=0.1, kernel='linear',random_state=0)\n",
    "result3=svc3.fit(X_train,y_train)\n",
    "result3"
   ]
  },
  {
   "cell_type": "code",
   "execution_count": 17,
   "id": "5d87ee09",
   "metadata": {},
   "outputs": [
    {
     "data": {
      "text/plain": [
       "array([ 1,  5,  8,  9, 12, 13,  0,  2,  3,  4,  7, 10, 11])"
      ]
     },
     "execution_count": 17,
     "metadata": {},
     "output_type": "execute_result"
    }
   ],
   "source": [
    "# svc3 서포트 벡터 번호\n",
    "result3.support_"
   ]
  },
  {
   "cell_type": "code",
   "execution_count": 18,
   "id": "36595ead",
   "metadata": {},
   "outputs": [
    {
     "data": {
      "text/plain": [
       "13"
      ]
     },
     "execution_count": 18,
     "metadata": {},
     "output_type": "execute_result"
    }
   ],
   "source": [
    "# svc3 서포트 벡터 개수\n",
    "result3.support_.size"
   ]
  },
  {
   "cell_type": "code",
   "execution_count": 19,
   "id": "4bbffc3c",
   "metadata": {},
   "outputs": [
    {
     "data": {
      "text/plain": [
       "array([[ 0.73768926,  1.7883046 ],\n",
       "       [ 1.3661239 , -1.0792539 ],\n",
       "       [ 1.2532923 ,  1.8039327 ],\n",
       "       [ 0.77699828,  1.6054105 ],\n",
       "       [ 0.03753495,  1.4353855 ],\n",
       "       [ 1.4945496 ,  0.34788412],\n",
       "       [ 1.2873173 ,  0.72870135],\n",
       "       [ 0.51557881,  1.0495144 ],\n",
       "       [-0.01091149,  2.0378487 ],\n",
       "       [-0.13912173,  0.32939234],\n",
       "       [-0.58777297,  0.81521714],\n",
       "       [-0.01376025,  1.1648929 ],\n",
       "       [-0.48685038, -0.62110734]])"
      ]
     },
     "execution_count": 19,
     "metadata": {},
     "output_type": "execute_result"
    }
   ],
   "source": [
    "# svc3 서포트 벡터 좌표값\n",
    "result3.support_vectors_"
   ]
  },
  {
   "cell_type": "code",
   "execution_count": 20,
   "id": "7d9527e5",
   "metadata": {},
   "outputs": [
    {
     "data": {
      "text/plain": [
       "array([[1, 3],\n",
       "       [0, 2]], dtype=int64)"
      ]
     },
     "execution_count": 20,
     "metadata": {},
     "output_type": "execute_result"
    }
   ],
   "source": [
    "# svc3 예측 성과\n",
    "pred3=result3.predict(X_test)\n",
    "confusion_matrix(y_test,pred3)"
   ]
  },
  {
   "cell_type": "code",
   "execution_count": 21,
   "id": "cdc45430",
   "metadata": {},
   "outputs": [
    {
     "data": {
      "text/html": [
       "<div>\n",
       "<style scoped>\n",
       "    .dataframe tbody tr th:only-of-type {\n",
       "        vertical-align: middle;\n",
       "    }\n",
       "\n",
       "    .dataframe tbody tr th {\n",
       "        vertical-align: top;\n",
       "    }\n",
       "\n",
       "    .dataframe thead th {\n",
       "        text-align: right;\n",
       "    }\n",
       "</style>\n",
       "<table border=\"1\" class=\"dataframe\">\n",
       "  <thead>\n",
       "    <tr style=\"text-align: right;\">\n",
       "      <th></th>\n",
       "      <th>X1</th>\n",
       "      <th>X2</th>\n",
       "      <th>y</th>\n",
       "    </tr>\n",
       "  </thead>\n",
       "  <tbody>\n",
       "    <tr>\n",
       "      <th>0</th>\n",
       "      <td>-0.486850</td>\n",
       "      <td>-0.621107</td>\n",
       "      <td>1</td>\n",
       "    </tr>\n",
       "    <tr>\n",
       "      <th>1</th>\n",
       "      <td>-1.476004</td>\n",
       "      <td>0.132181</td>\n",
       "      <td>1</td>\n",
       "    </tr>\n",
       "    <tr>\n",
       "      <th>2</th>\n",
       "      <td>-0.010911</td>\n",
       "      <td>2.037849</td>\n",
       "      <td>1</td>\n",
       "    </tr>\n",
       "    <tr>\n",
       "      <th>3</th>\n",
       "      <td>-0.013760</td>\n",
       "      <td>1.164893</td>\n",
       "      <td>1</td>\n",
       "    </tr>\n",
       "    <tr>\n",
       "      <th>4</th>\n",
       "      <td>0.515579</td>\n",
       "      <td>1.049514</td>\n",
       "      <td>1</td>\n",
       "    </tr>\n",
       "    <tr>\n",
       "      <th>5</th>\n",
       "      <td>-0.139122</td>\n",
       "      <td>0.329392</td>\n",
       "      <td>1</td>\n",
       "    </tr>\n",
       "    <tr>\n",
       "      <th>6</th>\n",
       "      <td>1.287317</td>\n",
       "      <td>0.728701</td>\n",
       "      <td>1</td>\n",
       "    </tr>\n",
       "    <tr>\n",
       "      <th>7</th>\n",
       "      <td>-0.587773</td>\n",
       "      <td>0.815217</td>\n",
       "      <td>1</td>\n",
       "    </tr>\n",
       "    <tr>\n",
       "      <th>8</th>\n",
       "      <td>-0.030600</td>\n",
       "      <td>0.882825</td>\n",
       "      <td>1</td>\n",
       "    </tr>\n",
       "    <tr>\n",
       "      <th>9</th>\n",
       "      <td>-2.196844</td>\n",
       "      <td>-0.021392</td>\n",
       "      <td>1</td>\n",
       "    </tr>\n",
       "    <tr>\n",
       "      <th>10</th>\n",
       "      <td>0.084499</td>\n",
       "      <td>1.959912</td>\n",
       "      <td>-1</td>\n",
       "    </tr>\n",
       "    <tr>\n",
       "      <th>11</th>\n",
       "      <td>0.776998</td>\n",
       "      <td>1.605411</td>\n",
       "      <td>-1</td>\n",
       "    </tr>\n",
       "    <tr>\n",
       "      <th>12</th>\n",
       "      <td>1.494550</td>\n",
       "      <td>0.347884</td>\n",
       "      <td>-1</td>\n",
       "    </tr>\n",
       "    <tr>\n",
       "      <th>13</th>\n",
       "      <td>0.737689</td>\n",
       "      <td>1.788305</td>\n",
       "      <td>-1</td>\n",
       "    </tr>\n",
       "    <tr>\n",
       "      <th>14</th>\n",
       "      <td>1.366124</td>\n",
       "      <td>-1.079254</td>\n",
       "      <td>-1</td>\n",
       "    </tr>\n",
       "    <tr>\n",
       "      <th>15</th>\n",
       "      <td>0.037535</td>\n",
       "      <td>1.435385</td>\n",
       "      <td>-1</td>\n",
       "    </tr>\n",
       "    <tr>\n",
       "      <th>16</th>\n",
       "      <td>1.253292</td>\n",
       "      <td>1.803933</td>\n",
       "      <td>-1</td>\n",
       "    </tr>\n",
       "    <tr>\n",
       "      <th>17</th>\n",
       "      <td>3.284249</td>\n",
       "      <td>2.953395</td>\n",
       "      <td>-1</td>\n",
       "    </tr>\n",
       "    <tr>\n",
       "      <th>18</th>\n",
       "      <td>1.322381</td>\n",
       "      <td>-0.299420</td>\n",
       "      <td>-1</td>\n",
       "    </tr>\n",
       "    <tr>\n",
       "      <th>19</th>\n",
       "      <td>0.594095</td>\n",
       "      <td>0.871666</td>\n",
       "      <td>-1</td>\n",
       "    </tr>\n",
       "  </tbody>\n",
       "</table>\n",
       "</div>"
      ],
      "text/plain": [
       "          X1        X2  y\n",
       "0  -0.486850 -0.621107  1\n",
       "1  -1.476004  0.132181  1\n",
       "2  -0.010911  2.037849  1\n",
       "3  -0.013760  1.164893  1\n",
       "4   0.515579  1.049514  1\n",
       "5  -0.139122  0.329392  1\n",
       "6   1.287317  0.728701  1\n",
       "7  -0.587773  0.815217  1\n",
       "8  -0.030600  0.882825  1\n",
       "9  -2.196844 -0.021392  1\n",
       "10  0.084499  1.959912 -1\n",
       "11  0.776998  1.605411 -1\n",
       "12  1.494550  0.347884 -1\n",
       "13  0.737689  1.788305 -1\n",
       "14  1.366124 -1.079254 -1\n",
       "15  0.037535  1.435385 -1\n",
       "16  1.253292  1.803933 -1\n",
       "17  3.284249  2.953395 -1\n",
       "18  1.322381 -0.299420 -1\n",
       "19  0.594095  0.871666 -1"
      ]
     },
     "execution_count": 21,
     "metadata": {},
     "output_type": "execute_result"
    }
   ],
   "source": [
    "file2=\"c:/temp/svm_data1.csv\"\n",
    "data2=pd.read_csv(file2)\n",
    "data2"
   ]
  },
  {
   "cell_type": "code",
   "execution_count": 23,
   "id": "2c95cb07",
   "metadata": {},
   "outputs": [
    {
     "data": {
      "text/plain": [
       "SVC(C=0.1, random_state=0)"
      ]
     },
     "execution_count": 23,
     "metadata": {},
     "output_type": "execute_result"
    }
   ],
   "source": [
    "# svc4, kernel function, small C -> large margin\n",
    "X=data2[['X1','X2']]\n",
    "y=data2['y']\n",
    "svc4=SVC(C=0.1,kernel='rbf',gamma='scale',random_state=0)\n",
    "result4=svc4.fit(X,y)\n",
    "result4"
   ]
  },
  {
   "cell_type": "code",
   "execution_count": 24,
   "id": "b239021b",
   "metadata": {},
   "outputs": [
    {
     "data": {
      "text/plain": [
       "array([[10,  0],\n",
       "       [ 3,  7]], dtype=int64)"
      ]
     },
     "execution_count": 24,
     "metadata": {},
     "output_type": "execute_result"
    }
   ],
   "source": [
    "# svc 4 예측 성과\n",
    "pred4=result4.predict(X)\n",
    "confusion_matrix(y,pred4)"
   ]
  },
  {
   "cell_type": "code",
   "execution_count": 25,
   "id": "f3325a57",
   "metadata": {},
   "outputs": [
    {
     "data": {
      "text/plain": [
       "SVC(C=0.1, kernel='poly', random_state=0)"
      ]
     },
     "execution_count": 25,
     "metadata": {},
     "output_type": "execute_result"
    }
   ],
   "source": [
    "# svc5, kernel function, small C -> large margin\n",
    "X=data2[['X1','X2']]\n",
    "y=data2['y']\n",
    "svc5=SVC(C=0.1,kernel='poly',degree=3,random_state=0)\n",
    "result5=svc5.fit(X,y)\n",
    "result5"
   ]
  },
  {
   "cell_type": "code",
   "execution_count": 26,
   "id": "e2ab4e64",
   "metadata": {},
   "outputs": [
    {
     "data": {
      "text/plain": [
       "array([[5, 5],\n",
       "       [1, 9]], dtype=int64)"
      ]
     },
     "execution_count": 26,
     "metadata": {},
     "output_type": "execute_result"
    }
   ],
   "source": [
    "pred5=result5.predict(X)\n",
    "confusion_matrix(y,pred5)"
   ]
  },
  {
   "cell_type": "code",
   "execution_count": null,
   "id": "360a9c22",
   "metadata": {},
   "outputs": [],
   "source": []
  },
  {
   "cell_type": "code",
   "execution_count": null,
   "id": "f9e7f381",
   "metadata": {},
   "outputs": [],
   "source": []
  },
  {
   "cell_type": "code",
   "execution_count": null,
   "id": "075cb4f5",
   "metadata": {},
   "outputs": [],
   "source": []
  },
  {
   "cell_type": "code",
   "execution_count": null,
   "id": "fb0a6176",
   "metadata": {},
   "outputs": [],
   "source": []
  }
 ],
 "metadata": {
  "kernelspec": {
   "display_name": "Python 3 (ipykernel)",
   "language": "python",
   "name": "python3"
  },
  "language_info": {
   "codemirror_mode": {
    "name": "ipython",
    "version": 3
   },
   "file_extension": ".py",
   "mimetype": "text/x-python",
   "name": "python",
   "nbconvert_exporter": "python",
   "pygments_lexer": "ipython3",
   "version": "3.9.13"
  }
 },
 "nbformat": 4,
 "nbformat_minor": 5
}
