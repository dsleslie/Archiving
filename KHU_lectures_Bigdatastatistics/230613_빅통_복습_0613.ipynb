{
 "cells": [
  {
   "cell_type": "code",
   "execution_count": 2,
   "id": "62a462ea",
   "metadata": {},
   "outputs": [],
   "source": [
    "import pandas as pd\n",
    "import numpy as np\n",
    "import seaborn as sns\n",
    "import matplotlib.pyplot as plt\n",
    "import statsmodels.api as sm\n",
    "from sklearn.model_selection import train_test_split\n",
    "import warnings\n",
    "warnings.filterwarnings(\"ignore\")\n",
    "\n",
    "from ggplot import *\n",
    "from scipy.stats import logistic\n",
    "from sklearn.metrics import roc_curve\n",
    "from sklearn.metrics import roc_auc_score\n",
    "from sklearn.linear_model import LogisticRegression\n",
    "from sklearn.metrics import confusion_matrix, mean_squared_error\n",
    "from sklearn.model_selection import train_test_split\n",
    "from sklearn import preprocessing\n",
    "from sklearn.neighbors import KNeighborsClassifier\n",
    "from sklearn.naive_bayes import *\n",
    "from sklearn.tree import DecisionTreeClassifier, DecisionTreeRegressor, export_graphviz\n",
    "import graphviz\n",
    "from sklearn.ensemble import RandomForestRegressor, RandomForestClassifier\n",
    "from sklearn.svm import SVC, SVR\n",
    "from sklearn.cluster import KMeans\n",
    "from sklearn.preprocessing import StandardScaler"
   ]
  },
  {
   "cell_type": "markdown",
   "id": "5f07eb49",
   "metadata": {},
   "source": [
    "# Lec 10 \n",
    "## non linear seperable\n",
    "### 1) 슬랙 2) 커널 function\n",
    "- 지금은 kernel function"
   ]
  },
  {
   "cell_type": "code",
   "execution_count": 3,
   "id": "2afa386e",
   "metadata": {},
   "outputs": [
    {
     "data": {
      "text/html": [
       "<div>\n",
       "<style scoped>\n",
       "    .dataframe tbody tr th:only-of-type {\n",
       "        vertical-align: middle;\n",
       "    }\n",
       "\n",
       "    .dataframe tbody tr th {\n",
       "        vertical-align: top;\n",
       "    }\n",
       "\n",
       "    .dataframe thead th {\n",
       "        text-align: right;\n",
       "    }\n",
       "</style>\n",
       "<table border=\"1\" class=\"dataframe\">\n",
       "  <thead>\n",
       "    <tr style=\"text-align: right;\">\n",
       "      <th></th>\n",
       "      <th>X1</th>\n",
       "      <th>X2</th>\n",
       "      <th>y</th>\n",
       "    </tr>\n",
       "  </thead>\n",
       "  <tbody>\n",
       "    <tr>\n",
       "      <th>0</th>\n",
       "      <td>-0.486850</td>\n",
       "      <td>-0.621107</td>\n",
       "      <td>1</td>\n",
       "    </tr>\n",
       "    <tr>\n",
       "      <th>1</th>\n",
       "      <td>-1.476004</td>\n",
       "      <td>0.132181</td>\n",
       "      <td>1</td>\n",
       "    </tr>\n",
       "    <tr>\n",
       "      <th>2</th>\n",
       "      <td>-0.010911</td>\n",
       "      <td>2.037849</td>\n",
       "      <td>1</td>\n",
       "    </tr>\n",
       "    <tr>\n",
       "      <th>3</th>\n",
       "      <td>-0.013760</td>\n",
       "      <td>1.164893</td>\n",
       "      <td>1</td>\n",
       "    </tr>\n",
       "    <tr>\n",
       "      <th>4</th>\n",
       "      <td>0.515579</td>\n",
       "      <td>1.049514</td>\n",
       "      <td>1</td>\n",
       "    </tr>\n",
       "    <tr>\n",
       "      <th>5</th>\n",
       "      <td>-0.139122</td>\n",
       "      <td>0.329392</td>\n",
       "      <td>1</td>\n",
       "    </tr>\n",
       "    <tr>\n",
       "      <th>6</th>\n",
       "      <td>1.287317</td>\n",
       "      <td>0.728701</td>\n",
       "      <td>1</td>\n",
       "    </tr>\n",
       "    <tr>\n",
       "      <th>7</th>\n",
       "      <td>-0.587773</td>\n",
       "      <td>0.815217</td>\n",
       "      <td>1</td>\n",
       "    </tr>\n",
       "    <tr>\n",
       "      <th>8</th>\n",
       "      <td>-0.030600</td>\n",
       "      <td>0.882825</td>\n",
       "      <td>1</td>\n",
       "    </tr>\n",
       "    <tr>\n",
       "      <th>9</th>\n",
       "      <td>-2.196844</td>\n",
       "      <td>-0.021392</td>\n",
       "      <td>1</td>\n",
       "    </tr>\n",
       "    <tr>\n",
       "      <th>10</th>\n",
       "      <td>0.084499</td>\n",
       "      <td>1.959912</td>\n",
       "      <td>-1</td>\n",
       "    </tr>\n",
       "    <tr>\n",
       "      <th>11</th>\n",
       "      <td>0.776998</td>\n",
       "      <td>1.605411</td>\n",
       "      <td>-1</td>\n",
       "    </tr>\n",
       "    <tr>\n",
       "      <th>12</th>\n",
       "      <td>1.494550</td>\n",
       "      <td>0.347884</td>\n",
       "      <td>-1</td>\n",
       "    </tr>\n",
       "    <tr>\n",
       "      <th>13</th>\n",
       "      <td>0.737689</td>\n",
       "      <td>1.788305</td>\n",
       "      <td>-1</td>\n",
       "    </tr>\n",
       "    <tr>\n",
       "      <th>14</th>\n",
       "      <td>1.366124</td>\n",
       "      <td>-1.079254</td>\n",
       "      <td>-1</td>\n",
       "    </tr>\n",
       "    <tr>\n",
       "      <th>15</th>\n",
       "      <td>0.037535</td>\n",
       "      <td>1.435385</td>\n",
       "      <td>-1</td>\n",
       "    </tr>\n",
       "    <tr>\n",
       "      <th>16</th>\n",
       "      <td>1.253292</td>\n",
       "      <td>1.803933</td>\n",
       "      <td>-1</td>\n",
       "    </tr>\n",
       "    <tr>\n",
       "      <th>17</th>\n",
       "      <td>3.284249</td>\n",
       "      <td>2.953395</td>\n",
       "      <td>-1</td>\n",
       "    </tr>\n",
       "    <tr>\n",
       "      <th>18</th>\n",
       "      <td>1.322381</td>\n",
       "      <td>-0.299420</td>\n",
       "      <td>-1</td>\n",
       "    </tr>\n",
       "    <tr>\n",
       "      <th>19</th>\n",
       "      <td>0.594095</td>\n",
       "      <td>0.871666</td>\n",
       "      <td>-1</td>\n",
       "    </tr>\n",
       "  </tbody>\n",
       "</table>\n",
       "</div>"
      ],
      "text/plain": [
       "          X1        X2  y\n",
       "0  -0.486850 -0.621107  1\n",
       "1  -1.476004  0.132181  1\n",
       "2  -0.010911  2.037849  1\n",
       "3  -0.013760  1.164893  1\n",
       "4   0.515579  1.049514  1\n",
       "5  -0.139122  0.329392  1\n",
       "6   1.287317  0.728701  1\n",
       "7  -0.587773  0.815217  1\n",
       "8  -0.030600  0.882825  1\n",
       "9  -2.196844 -0.021392  1\n",
       "10  0.084499  1.959912 -1\n",
       "11  0.776998  1.605411 -1\n",
       "12  1.494550  0.347884 -1\n",
       "13  0.737689  1.788305 -1\n",
       "14  1.366124 -1.079254 -1\n",
       "15  0.037535  1.435385 -1\n",
       "16  1.253292  1.803933 -1\n",
       "17  3.284249  2.953395 -1\n",
       "18  1.322381 -0.299420 -1\n",
       "19  0.594095  0.871666 -1"
      ]
     },
     "execution_count": 3,
     "metadata": {},
     "output_type": "execute_result"
    }
   ],
   "source": [
    "file1=\"c:/temp/svm_data1.csv\"\n",
    "data1=pd.read_csv(file1)\n",
    "data1"
   ]
  },
  {
   "cell_type": "code",
   "execution_count": 4,
   "id": "ccde3fbd",
   "metadata": {},
   "outputs": [
    {
     "data": {
      "text/plain": [
       "SVC(C=0.1, random_state=0)"
      ]
     },
     "execution_count": 4,
     "metadata": {},
     "output_type": "execute_result"
    }
   ],
   "source": [
    "# non linear hyperplane : gaussain rbf\n",
    "X=data1[['X1','X2']]\n",
    "y=data1['y']\n",
    "svc3=SVC(C=0.1,kernel='rbf',gamma='scale',random_state=0)\n",
    "# gamma 지정해주지 않으면 자동으로 'scale' 사용됨\n",
    "# gamma = 'auto' (x 변수의 역수, 지금의 경우 1/2일 것) 로 지정할 수도 있음.\n",
    "result3=svc3.fit(X,y)\n",
    "result3"
   ]
  },
  {
   "cell_type": "code",
   "execution_count": 5,
   "id": "4ccf7ff5",
   "metadata": {},
   "outputs": [
    {
     "data": {
      "text/plain": [
       "array([ 1,  1, -1,  1, -1,  1, -1,  1,  1,  1, -1, -1, -1, -1, -1, -1, -1,\n",
       "       -1, -1, -1], dtype=int64)"
      ]
     },
     "execution_count": 5,
     "metadata": {},
     "output_type": "execute_result"
    }
   ],
   "source": [
    "pred3=result3.predict(X)\n",
    "pred3"
   ]
  },
  {
   "cell_type": "code",
   "execution_count": 6,
   "id": "96e0a459",
   "metadata": {},
   "outputs": [
    {
     "data": {
      "text/plain": [
       "array([[10,  0],\n",
       "       [ 3,  7]], dtype=int64)"
      ]
     },
     "execution_count": 6,
     "metadata": {},
     "output_type": "execute_result"
    }
   ],
   "source": [
    "confusion_matrix(y,pred3)"
   ]
  },
  {
   "cell_type": "code",
   "execution_count": 7,
   "id": "7c990828",
   "metadata": {},
   "outputs": [
    {
     "data": {
      "text/plain": [
       "0.85"
      ]
     },
     "execution_count": 7,
     "metadata": {},
     "output_type": "execute_result"
    }
   ],
   "source": [
    "# CCR \n",
    "(10+7)/20"
   ]
  },
  {
   "cell_type": "code",
   "execution_count": 8,
   "id": "e1ea671f",
   "metadata": {},
   "outputs": [
    {
     "data": {
      "text/plain": [
       "array([[5, 5],\n",
       "       [1, 9]], dtype=int64)"
      ]
     },
     "execution_count": 8,
     "metadata": {},
     "output_type": "execute_result"
    }
   ],
   "source": [
    "# non linear hyperplane: polynomial kernel\n",
    "X=data1[['X1','X2']]\n",
    "y=data1['y']\n",
    "svc4=SVC(C=0.1,kernel='poly',degree=3,random_state=0)\n",
    "result4=svc4.fit(X,y)\n",
    "pred4=result4.predict(X)\n",
    "confusion_matrix(y,pred4)"
   ]
  },
  {
   "cell_type": "code",
   "execution_count": 9,
   "id": "f64bbb86",
   "metadata": {},
   "outputs": [
    {
     "data": {
      "text/plain": [
       "0.7"
      ]
     },
     "execution_count": 9,
     "metadata": {},
     "output_type": "execute_result"
    }
   ],
   "source": [
    "# CCR polynomial function\n",
    "(9+5)/(9+5+5+1)"
   ]
  },
  {
   "cell_type": "markdown",
   "id": "e6134d32",
   "metadata": {},
   "source": [
    "# Lec 11 K-means Clustering \n",
    "## unsupervised learning : y가 없다\n",
    "## x가 연속형일 때 사용\n",
    "- 중심점을 k개 지정하고, 그 점 지정 과정 이동시키면서 여러번 반복한다. \n",
    "- 그 과정에서 중심점과 원래 점들 까지의 거리 의 합들의 평균이 최저가 될 때가 최적 상태 \n",
    "    - MSE가 최저일때\n",
    "    - Euclidean distance \n",
    "        - 점~중심점 까지의 거리 = dissimilarity\n",
    "- 고객A와 4개의 중심점과의 ED를 모두 계산한다.\n",
    "- 나머지 모든 고객에 대해서도 같은 방식으로 4개의 중심점과의 ED를 계산\n",
    "- 각 고객에 대해 최소 ED를 가진 중심점을 선택한다.\n",
    "- 최적 중심점 어케 찾음?\n",
    "    - 각 고객에 할당된 eD의 합이 최소화 되도록 4개 중심점 위치 찾아야 함. \n",
    "    - 합이 최소=평균 ED가 최소\n",
    "    - WSS가 최소\n",
    "    - 평균 거리가 확 줄어들고 그 뒤부터 잘 안줄어드는 그 지점 : Elbpw\n",
    "    - 평균 거리 줄이겠다고 중심점 k개를 무작정 늘이면 군집화의 의미가 없음\n",
    "    "
   ]
  },
  {
   "cell_type": "code",
   "execution_count": 10,
   "id": "01f58a02",
   "metadata": {},
   "outputs": [
    {
     "data": {
      "text/html": [
       "<div>\n",
       "<style scoped>\n",
       "    .dataframe tbody tr th:only-of-type {\n",
       "        vertical-align: middle;\n",
       "    }\n",
       "\n",
       "    .dataframe tbody tr th {\n",
       "        vertical-align: top;\n",
       "    }\n",
       "\n",
       "    .dataframe thead th {\n",
       "        text-align: right;\n",
       "    }\n",
       "</style>\n",
       "<table border=\"1\" class=\"dataframe\">\n",
       "  <thead>\n",
       "    <tr style=\"text-align: right;\">\n",
       "      <th></th>\n",
       "      <th>id</th>\n",
       "      <th>flexibility</th>\n",
       "      <th>speed</th>\n",
       "      <th>strength</th>\n",
       "    </tr>\n",
       "  </thead>\n",
       "  <tbody>\n",
       "    <tr>\n",
       "      <th>0</th>\n",
       "      <td>1</td>\n",
       "      <td>3.600000</td>\n",
       "      <td>6.11</td>\n",
       "      <td>2.07</td>\n",
       "    </tr>\n",
       "    <tr>\n",
       "      <th>1</th>\n",
       "      <td>2</td>\n",
       "      <td>1.120000</td>\n",
       "      <td>0.33</td>\n",
       "      <td>9.01</td>\n",
       "    </tr>\n",
       "    <tr>\n",
       "      <th>2</th>\n",
       "      <td>3</td>\n",
       "      <td>8.690000</td>\n",
       "      <td>8.90</td>\n",
       "      <td>3.83</td>\n",
       "    </tr>\n",
       "    <tr>\n",
       "      <th>3</th>\n",
       "      <td>4</td>\n",
       "      <td>2.670000</td>\n",
       "      <td>8.61</td>\n",
       "      <td>0.36</td>\n",
       "    </tr>\n",
       "    <tr>\n",
       "      <th>4</th>\n",
       "      <td>5</td>\n",
       "      <td>2.780000</td>\n",
       "      <td>1.69</td>\n",
       "      <td>8.64</td>\n",
       "    </tr>\n",
       "    <tr>\n",
       "      <th>...</th>\n",
       "      <td>...</td>\n",
       "      <td>...</td>\n",
       "      <td>...</td>\n",
       "      <td>...</td>\n",
       "    </tr>\n",
       "    <tr>\n",
       "      <th>75</th>\n",
       "      <td>76</td>\n",
       "      <td>2.440000</td>\n",
       "      <td>1.60</td>\n",
       "      <td>8.51</td>\n",
       "    </tr>\n",
       "    <tr>\n",
       "      <th>76</th>\n",
       "      <td>77</td>\n",
       "      <td>2.340000</td>\n",
       "      <td>1.66</td>\n",
       "      <td>8.91</td>\n",
       "    </tr>\n",
       "    <tr>\n",
       "      <th>77</th>\n",
       "      <td>78</td>\n",
       "      <td>5.080000</td>\n",
       "      <td>1.05</td>\n",
       "      <td>5.46</td>\n",
       "    </tr>\n",
       "    <tr>\n",
       "      <th>78</th>\n",
       "      <td>79</td>\n",
       "      <td>1.670000</td>\n",
       "      <td>0.87</td>\n",
       "      <td>8.70</td>\n",
       "    </tr>\n",
       "    <tr>\n",
       "      <th>79</th>\n",
       "      <td>80</td>\n",
       "      <td>9.520001</td>\n",
       "      <td>9.17</td>\n",
       "      <td>4.21</td>\n",
       "    </tr>\n",
       "  </tbody>\n",
       "</table>\n",
       "<p>80 rows × 4 columns</p>\n",
       "</div>"
      ],
      "text/plain": [
       "    id  flexibility  speed  strength\n",
       "0    1     3.600000   6.11      2.07\n",
       "1    2     1.120000   0.33      9.01\n",
       "2    3     8.690000   8.90      3.83\n",
       "3    4     2.670000   8.61      0.36\n",
       "4    5     2.780000   1.69      8.64\n",
       "..  ..          ...    ...       ...\n",
       "75  76     2.440000   1.60      8.51\n",
       "76  77     2.340000   1.66      8.91\n",
       "77  78     5.080000   1.05      5.46\n",
       "78  79     1.670000   0.87      8.70\n",
       "79  80     9.520001   9.17      4.21\n",
       "\n",
       "[80 rows x 4 columns]"
      ]
     },
     "execution_count": 10,
     "metadata": {},
     "output_type": "execute_result"
    }
   ],
   "source": [
    "file2=\"c:/temp/psysed.csv\"\n",
    "psysed=pd.read_csv(file2)\n",
    "psysed"
   ]
  },
  {
   "cell_type": "code",
   "execution_count": 11,
   "id": "14b23ee5",
   "metadata": {},
   "outputs": [
    {
     "data": {
      "image/png": "[encoded data removed]",
      "text/plain": [
       "<Figure size 640x480 with 1 Axes>"
      ]
     },
     "metadata": {},
     "output_type": "display_data"
    }
   ],
   "source": [
    "# x 변수 3개 중 두 개만 사용해서 2차원 공간에서 clustering\n",
    "plt.scatter(psysed['speed'],psysed['strength'],color='black')\n",
    "plt.show()"
   ]
  },
  {
   "cell_type": "code",
   "execution_count": 12,
   "id": "559f9540",
   "metadata": {},
   "outputs": [
    {
     "data": {
      "text/plain": [
       "array([[ 0.72019914, -1.79539379],\n",
       "       [-1.1430587 ,  1.05595396],\n",
       "       [ 1.6195916 , -1.07228546],\n",
       "       [ 1.52610638, -2.49795922],\n",
       "       [-0.70464507,  0.90393691],\n",
       "       [-0.64339614,  1.08060518],\n",
       "       [ 1.59702629, -1.03941681],\n",
       "       [ 1.38104308, -0.73538263],\n",
       "       [ 1.34558329, -0.57103978],\n",
       "       [-0.61760711,  0.73548521],\n",
       "       [-0.64017251, -0.10266284],\n",
       "       [-0.74332862,  0.72726828],\n",
       "       [ 1.90649475, -0.84220553],\n",
       "       [ 0.66862098, -1.83647945],\n",
       "       [-0.25656064,  0.34927983],\n",
       "       [-0.15018081, -0.18894285],\n",
       "       [ 1.35525408, -0.41902273],\n",
       "       [ 1.65505171, -0.45189125],\n",
       "       [-0.18564076, -0.30809134],\n",
       "       [ 0.46553245,  0.43145115],\n",
       "       [-0.82391936,  0.56703412],\n",
       "       [-0.86905024,  0.58757685],\n",
       "       [-0.97542997,  0.7888967 ],\n",
       "       [-1.04957345,  1.24905647],\n",
       "       [ 1.45196303, -1.03941681],\n",
       "       [-0.08248465,  0.22602264],\n",
       "       [ 0.19797108,  0.14385133],\n",
       "       [ 0.75565897, -1.65570232],\n",
       "       [ 1.60992081, -2.6253249 ],\n",
       "       [ 0.06257877,  0.33284555],\n",
       "       [-0.30169139,  0.31230262],\n",
       "       [-0.77234132,  0.74781121],\n",
       "       [ 0.74276445, -1.82826231],\n",
       "       [-1.23976759,  1.04773666],\n",
       "       [ 1.40038502, -0.99422258],\n",
       "       [-0.82391936,  0.58346836],\n",
       "       [-0.62727803,  0.70672534],\n",
       "       [ 0.16573481,  0.38214835],\n",
       "       [-0.85615569,  0.386257  ],\n",
       "       [-1.01411352,  1.01075945],\n",
       "       [-1.01733715,  1.04362796],\n",
       "       [-0.25011338,  0.40269128],\n",
       "       [-0.72398688,  0.79711401],\n",
       "       [-0.46287286,  0.05757131],\n",
       "       [-1.07536248,  0.75602814],\n",
       "       [-1.23332033,  0.68618245],\n",
       "       [-1.08180975,  0.62455402],\n",
       "       [-1.02378442,  0.74781121],\n",
       "       [ 0.86203887, -1.70911378],\n",
       "       [ 0.0400133 ,  0.41090842],\n",
       "       [ 1.50354107, -2.2267936 ],\n",
       "       [ 1.73886618, -1.03941681],\n",
       "       [ 0.12382773,  0.13974284],\n",
       "       [ 1.62281529, -1.15856543],\n",
       "       [-1.18818952,  1.08060518],\n",
       "       [ 0.10126229,  0.36982276],\n",
       "       [-0.61115985,  0.06578845],\n",
       "       [ 1.78077307, -1.162674  ],\n",
       "       [-1.02056079,  0.93680547],\n",
       "       [ 1.44229224, -0.69429697],\n",
       "       [-0.60471259,  0.41090842],\n",
       "       [-0.97865362,  1.28603368],\n",
       "       [-0.83359028,  0.73548521],\n",
       "       [ 1.53255376, -0.69429697],\n",
       "       [-0.80135399,  0.80533094],\n",
       "       [ 0.3978362 , -1.40507959],\n",
       "       [-0.74655232,  1.12990798],\n",
       "       [-0.93029916,  0.97789093],\n",
       "       [-0.54991086,  0.64920565],\n",
       "       [-0.06636644,  0.02470279],\n",
       "       [-0.82069576,  0.79711401],\n",
       "       [ 0.32046903,  0.50129684],\n",
       "       [-0.86260295,  0.88339402],\n",
       "       [-0.31458591,  0.07811425],\n",
       "       [ 1.24565065, -2.13640506],\n",
       "       [-0.73365777,  0.85052546],\n",
       "       [-0.71431599,  1.0148681 ],\n",
       "       [-0.91095739, -0.40258849],\n",
       "       [-0.96898272,  0.92858813],\n",
       "       [ 1.70662975, -0.91615975]])"
      ]
     },
     "execution_count": 12,
     "metadata": {},
     "output_type": "execute_result"
    }
   ],
   "source": [
    "X=psysed[['speed','strength']]\n",
    "X_scaled=StandardScaler().fit_transform(X)\n",
    "X_scaled\n",
    "# 표준화 이유 : 너무 큰(작은) 한 변수에 확 치우치면 예측 흐릴 수 있다."
   ]
  },
  {
   "cell_type": "markdown",
   "id": "71ec09e5",
   "metadata": {},
   "source": [
    "- unsupervised learning 이라서 예측 성과 y 보는게 없다.\n",
    "\n",
    "### unsupervised learning; clustering 에서 알아야 할 것\n",
    "1) 각 id가 그룹 어디에 속해있는 지\n",
    "\n",
    "2) 중심점의 위치 -> 이것으로 거리를 계산할 수 있다.\n",
    "\n",
    "3) elbow 찾기 \n",
    "    - Within Sum of squares = 평균거리 \n",
    "    - 확 줄 때 그리고 그 이후에 안 줄 때 elbow이다."
   ]
  },
  {
   "cell_type": "code",
   "execution_count": 13,
   "id": "0a918d40",
   "metadata": {},
   "outputs": [
    {
     "data": {
      "text/plain": [
       "KMeans(n_clusters=3, random_state=0)"
      ]
     },
     "execution_count": 13,
     "metadata": {},
     "output_type": "execute_result"
    }
   ],
   "source": [
    "# clustering 하기, k=3\n",
    "kmeans_3=KMeans(n_clusters=3,random_state=0,n_init=10,max_iter=300)\n",
    "# max_iter: 300 번 옮겨가기\n",
    "kmeans_3.fit(X,y)"
   ]
  },
  {
   "cell_type": "code",
   "execution_count": 14,
   "id": "634b75e8",
   "metadata": {},
   "outputs": [
    {
     "data": {
      "text/plain": [
       "145.70898465322134"
      ]
     },
     "execution_count": 14,
     "metadata": {},
     "output_type": "execute_result"
    }
   ],
   "source": [
    "# WSS, k=3\n",
    "kmeans_3.inertia_"
   ]
  },
  {
   "cell_type": "code",
   "execution_count": 15,
   "id": "51793acf",
   "metadata": {},
   "outputs": [
    {
     "data": {
      "text/plain": [
       "array([[1.14485715, 8.47885705],\n",
       "       [8.04119999, 3.27120002],\n",
       "       [3.44850002, 6.83249999]])"
      ]
     },
     "execution_count": 15,
     "metadata": {},
     "output_type": "execute_result"
    }
   ],
   "source": [
    "# 중심점의 위치, k=3\n",
    "kmeans_3.cluster_centers_"
   ]
  },
  {
   "cell_type": "code",
   "execution_count": 16,
   "id": "5cd1af5f",
   "metadata": {},
   "outputs": [
    {
     "data": {
      "text/plain": [
       "array([1, 0, 1, 1, 0, 0, 1, 1, 1, 0, 2, 0, 1, 1, 2, 2, 1, 1, 2, 2, 0, 0,\n",
       "       0, 0, 1, 2, 2, 1, 1, 2, 2, 0, 1, 0, 1, 0, 0, 2, 0, 0, 0, 2, 0, 2,\n",
       "       0, 0, 0, 0, 1, 2, 1, 1, 2, 1, 0, 2, 2, 1, 0, 1, 0, 0, 0, 1, 0, 1,\n",
       "       0, 0, 0, 2, 0, 2, 0, 2, 1, 0, 0, 2, 0, 1])"
      ]
     },
     "execution_count": 16,
     "metadata": {},
     "output_type": "execute_result"
    }
   ],
   "source": [
    "kmeans_3.labels_"
   ]
  },
  {
   "cell_type": "code",
   "execution_count": 17,
   "id": "05cef106",
   "metadata": {},
   "outputs": [
    {
     "data": {
      "text/html": [
       "<div>\n",
       "<style scoped>\n",
       "    .dataframe tbody tr th:only-of-type {\n",
       "        vertical-align: middle;\n",
       "    }\n",
       "\n",
       "    .dataframe tbody tr th {\n",
       "        vertical-align: top;\n",
       "    }\n",
       "\n",
       "    .dataframe thead th {\n",
       "        text-align: right;\n",
       "    }\n",
       "</style>\n",
       "<table border=\"1\" class=\"dataframe\">\n",
       "  <thead>\n",
       "    <tr style=\"text-align: right;\">\n",
       "      <th></th>\n",
       "      <th>cluster_3</th>\n",
       "    </tr>\n",
       "  </thead>\n",
       "  <tbody>\n",
       "    <tr>\n",
       "      <th>0</th>\n",
       "      <td>1</td>\n",
       "    </tr>\n",
       "    <tr>\n",
       "      <th>1</th>\n",
       "      <td>0</td>\n",
       "    </tr>\n",
       "    <tr>\n",
       "      <th>2</th>\n",
       "      <td>1</td>\n",
       "    </tr>\n",
       "    <tr>\n",
       "      <th>3</th>\n",
       "      <td>1</td>\n",
       "    </tr>\n",
       "    <tr>\n",
       "      <th>4</th>\n",
       "      <td>0</td>\n",
       "    </tr>\n",
       "    <tr>\n",
       "      <th>...</th>\n",
       "      <td>...</td>\n",
       "    </tr>\n",
       "    <tr>\n",
       "      <th>75</th>\n",
       "      <td>0</td>\n",
       "    </tr>\n",
       "    <tr>\n",
       "      <th>76</th>\n",
       "      <td>0</td>\n",
       "    </tr>\n",
       "    <tr>\n",
       "      <th>77</th>\n",
       "      <td>2</td>\n",
       "    </tr>\n",
       "    <tr>\n",
       "      <th>78</th>\n",
       "      <td>0</td>\n",
       "    </tr>\n",
       "    <tr>\n",
       "      <th>79</th>\n",
       "      <td>1</td>\n",
       "    </tr>\n",
       "  </tbody>\n",
       "</table>\n",
       "<p>80 rows × 1 columns</p>\n",
       "</div>"
      ],
      "text/plain": [
       "    cluster_3\n",
       "0           1\n",
       "1           0\n",
       "2           1\n",
       "3           1\n",
       "4           0\n",
       "..        ...\n",
       "75          0\n",
       "76          0\n",
       "77          2\n",
       "78          0\n",
       "79          1\n",
       "\n",
       "[80 rows x 1 columns]"
      ]
     },
     "execution_count": 17,
     "metadata": {},
     "output_type": "execute_result"
    }
   ],
   "source": [
    "df1=pd.DataFrame(kmeans_3.labels_,columns=['cluster_3'])\n",
    "df1"
   ]
  },
  {
   "cell_type": "code",
   "execution_count": 18,
   "id": "e7fa704c",
   "metadata": {},
   "outputs": [
    {
     "data": {
      "text/html": [
       "<div>\n",
       "<style scoped>\n",
       "    .dataframe tbody tr th:only-of-type {\n",
       "        vertical-align: middle;\n",
       "    }\n",
       "\n",
       "    .dataframe tbody tr th {\n",
       "        vertical-align: top;\n",
       "    }\n",
       "\n",
       "    .dataframe thead th {\n",
       "        text-align: right;\n",
       "    }\n",
       "</style>\n",
       "<table border=\"1\" class=\"dataframe\">\n",
       "  <thead>\n",
       "    <tr style=\"text-align: right;\">\n",
       "      <th></th>\n",
       "      <th>id</th>\n",
       "      <th>flexibility</th>\n",
       "      <th>speed</th>\n",
       "      <th>strength</th>\n",
       "      <th>cluster_3</th>\n",
       "    </tr>\n",
       "  </thead>\n",
       "  <tbody>\n",
       "    <tr>\n",
       "      <th>0</th>\n",
       "      <td>1</td>\n",
       "      <td>3.600000</td>\n",
       "      <td>6.11</td>\n",
       "      <td>2.07</td>\n",
       "      <td>1</td>\n",
       "    </tr>\n",
       "    <tr>\n",
       "      <th>1</th>\n",
       "      <td>2</td>\n",
       "      <td>1.120000</td>\n",
       "      <td>0.33</td>\n",
       "      <td>9.01</td>\n",
       "      <td>0</td>\n",
       "    </tr>\n",
       "    <tr>\n",
       "      <th>2</th>\n",
       "      <td>3</td>\n",
       "      <td>8.690000</td>\n",
       "      <td>8.90</td>\n",
       "      <td>3.83</td>\n",
       "      <td>1</td>\n",
       "    </tr>\n",
       "    <tr>\n",
       "      <th>3</th>\n",
       "      <td>4</td>\n",
       "      <td>2.670000</td>\n",
       "      <td>8.61</td>\n",
       "      <td>0.36</td>\n",
       "      <td>1</td>\n",
       "    </tr>\n",
       "    <tr>\n",
       "      <th>4</th>\n",
       "      <td>5</td>\n",
       "      <td>2.780000</td>\n",
       "      <td>1.69</td>\n",
       "      <td>8.64</td>\n",
       "      <td>0</td>\n",
       "    </tr>\n",
       "    <tr>\n",
       "      <th>...</th>\n",
       "      <td>...</td>\n",
       "      <td>...</td>\n",
       "      <td>...</td>\n",
       "      <td>...</td>\n",
       "      <td>...</td>\n",
       "    </tr>\n",
       "    <tr>\n",
       "      <th>75</th>\n",
       "      <td>76</td>\n",
       "      <td>2.440000</td>\n",
       "      <td>1.60</td>\n",
       "      <td>8.51</td>\n",
       "      <td>0</td>\n",
       "    </tr>\n",
       "    <tr>\n",
       "      <th>76</th>\n",
       "      <td>77</td>\n",
       "      <td>2.340000</td>\n",
       "      <td>1.66</td>\n",
       "      <td>8.91</td>\n",
       "      <td>0</td>\n",
       "    </tr>\n",
       "    <tr>\n",
       "      <th>77</th>\n",
       "      <td>78</td>\n",
       "      <td>5.080000</td>\n",
       "      <td>1.05</td>\n",
       "      <td>5.46</td>\n",
       "      <td>2</td>\n",
       "    </tr>\n",
       "    <tr>\n",
       "      <th>78</th>\n",
       "      <td>79</td>\n",
       "      <td>1.670000</td>\n",
       "      <td>0.87</td>\n",
       "      <td>8.70</td>\n",
       "      <td>0</td>\n",
       "    </tr>\n",
       "    <tr>\n",
       "      <th>79</th>\n",
       "      <td>80</td>\n",
       "      <td>9.520001</td>\n",
       "      <td>9.17</td>\n",
       "      <td>4.21</td>\n",
       "      <td>1</td>\n",
       "    </tr>\n",
       "  </tbody>\n",
       "</table>\n",
       "<p>80 rows × 5 columns</p>\n",
       "</div>"
      ],
      "text/plain": [
       "    id  flexibility  speed  strength  cluster_3\n",
       "0    1     3.600000   6.11      2.07          1\n",
       "1    2     1.120000   0.33      9.01          0\n",
       "2    3     8.690000   8.90      3.83          1\n",
       "3    4     2.670000   8.61      0.36          1\n",
       "4    5     2.780000   1.69      8.64          0\n",
       "..  ..          ...    ...       ...        ...\n",
       "75  76     2.440000   1.60      8.51          0\n",
       "76  77     2.340000   1.66      8.91          0\n",
       "77  78     5.080000   1.05      5.46          2\n",
       "78  79     1.670000   0.87      8.70          0\n",
       "79  80     9.520001   9.17      4.21          1\n",
       "\n",
       "[80 rows x 5 columns]"
      ]
     },
     "execution_count": 18,
     "metadata": {},
     "output_type": "execute_result"
    }
   ],
   "source": [
    "psysed_new=pd.concat([psysed,df1],axis=1)\n",
    "psysed_new"
   ]
  },
  {
   "cell_type": "code",
   "execution_count": 19,
   "id": "b7472d1e",
   "metadata": {},
   "outputs": [
    {
     "data": {
      "text/plain": [
       "0    35\n",
       "1    25\n",
       "2    20\n",
       "Name: cluster_3, dtype: int64"
      ]
     },
     "execution_count": 19,
     "metadata": {},
     "output_type": "execute_result"
    }
   ],
   "source": [
    "pd.value_counts(psysed_new['cluster_3'])"
   ]
  },
  {
   "cell_type": "code",
   "execution_count": 20,
   "id": "ad949229",
   "metadata": {},
   "outputs": [
    {
     "data": {
      "text/html": [
       "<div>\n",
       "<style scoped>\n",
       "    .dataframe tbody tr th:only-of-type {\n",
       "        vertical-align: middle;\n",
       "    }\n",
       "\n",
       "    .dataframe tbody tr th {\n",
       "        vertical-align: top;\n",
       "    }\n",
       "\n",
       "    .dataframe thead th {\n",
       "        text-align: right;\n",
       "    }\n",
       "</style>\n",
       "<table border=\"1\" class=\"dataframe\">\n",
       "  <thead>\n",
       "    <tr style=\"text-align: right;\">\n",
       "      <th></th>\n",
       "      <th>speed</th>\n",
       "      <th>strength</th>\n",
       "    </tr>\n",
       "    <tr>\n",
       "      <th>cluster_3</th>\n",
       "      <th></th>\n",
       "      <th></th>\n",
       "    </tr>\n",
       "  </thead>\n",
       "  <tbody>\n",
       "    <tr>\n",
       "      <th>0</th>\n",
       "      <td>1.144857</td>\n",
       "      <td>8.478857</td>\n",
       "    </tr>\n",
       "    <tr>\n",
       "      <th>1</th>\n",
       "      <td>8.041200</td>\n",
       "      <td>3.271200</td>\n",
       "    </tr>\n",
       "    <tr>\n",
       "      <th>2</th>\n",
       "      <td>3.448500</td>\n",
       "      <td>6.832500</td>\n",
       "    </tr>\n",
       "  </tbody>\n",
       "</table>\n",
       "</div>"
      ],
      "text/plain": [
       "              speed  strength\n",
       "cluster_3                    \n",
       "0          1.144857  8.478857\n",
       "1          8.041200  3.271200\n",
       "2          3.448500  6.832500"
      ]
     },
     "execution_count": 20,
     "metadata": {},
     "output_type": "execute_result"
    }
   ],
   "source": [
    "psysed_new.groupby('cluster_3')[['speed','strength']].mean()"
   ]
  },
  {
   "cell_type": "code",
   "execution_count": 21,
   "id": "1f9a2b22",
   "metadata": {},
   "outputs": [
    {
     "data": {
      "text/plain": [
       "145.70898465322134"
      ]
     },
     "execution_count": 21,
     "metadata": {},
     "output_type": "execute_result"
    }
   ],
   "source": [
    "# k=3\n",
    "kmeans_3.inertia_\n",
    "#왜이러지"
   ]
  },
  {
   "cell_type": "code",
   "execution_count": 22,
   "id": "404e0a00",
   "metadata": {},
   "outputs": [
    {
     "data": {
      "text/plain": [
       "82.92927654836562"
      ]
     },
     "execution_count": 22,
     "metadata": {},
     "output_type": "execute_result"
    }
   ],
   "source": [
    "# k=4\n",
    "kmeans_4=KMeans(n_clusters=4, random_state=0,n_init=10,max_iter=300)\n",
    "kmeans_4.fit(X,y)\n",
    "kmeans_4.inertia_"
   ]
  },
  {
   "cell_type": "code",
   "execution_count": 23,
   "id": "2023667d",
   "metadata": {},
   "outputs": [
    {
     "data": {
      "text/plain": [
       "62.555902924982604"
      ]
     },
     "execution_count": 23,
     "metadata": {},
     "output_type": "execute_result"
    }
   ],
   "source": [
    "# k=5\n",
    "kmeans_5=KMeans(n_clusters=5, random_state=0,n_init=10,max_iter=300)\n",
    "kmeans_5.fit(X,y)\n",
    "kmeans_5.inertia_"
   ]
  },
  {
   "cell_type": "code",
   "execution_count": null,
   "id": "a8940e39",
   "metadata": {},
   "outputs": [],
   "source": []
  },
  {
   "cell_type": "code",
   "execution_count": null,
   "id": "17c36ce8",
   "metadata": {},
   "outputs": [],
   "source": []
  },
  {
   "cell_type": "code",
   "execution_count": null,
   "id": "b272c445",
   "metadata": {},
   "outputs": [],
   "source": []
  },
  {
   "cell_type": "code",
   "execution_count": null,
   "id": "bbbc2a6b",
   "metadata": {},
   "outputs": [],
   "source": []
  },
  {
   "cell_type": "code",
   "execution_count": null,
   "id": "846ff450",
   "metadata": {},
   "outputs": [],
   "source": []
  }
 ],
 "metadata": {
  "kernelspec": {
   "display_name": "Python 3 (ipykernel)",
   "language": "python",
   "name": "python3"
  },
  "language_info": {
   "codemirror_mode": {
    "name": "ipython",
    "version": 3
   },
   "file_extension": ".py",
   "mimetype": "text/x-python",
   "name": "python",
   "nbconvert_exporter": "python",
   "pygments_lexer": "ipython3",
   "version": "3.9.13"
  }
 },
 "nbformat": 4,
 "nbformat_minor": 5
}
