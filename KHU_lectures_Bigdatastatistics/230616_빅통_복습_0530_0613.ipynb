{
 "cells": [
  {
   "cell_type": "code",
   "execution_count": 36,
   "id": "90606653",
   "metadata": {},
   "outputs": [],
   "source": [
    "import pandas as pd\n",
    "import numpy as np\n",
    "import seaborn as sns\n",
    "import matplotlib.pyplot as plt\n",
    "import statsmodels.api as sm\n",
    "from sklearn.model_selection import train_test_split\n",
    "import warnings\n",
    "warnings.filterwarnings(\"ignore\")\n",
    "\n",
    "from ggplot import *\n",
    "from scipy.stats import logistic\n",
    "from sklearn.metrics import roc_curve\n",
    "from sklearn.metrics import roc_auc_score\n",
    "from sklearn.linear_model import LogisticRegression\n",
    "from sklearn.metrics import confusion_matrix, mean_squared_error\n",
    "from sklearn.model_selection import train_test_split\n",
    "from sklearn import preprocessing\n",
    "from sklearn.neighbors import KNeighborsClassifier\n",
    "from sklearn.naive_bayes import *\n",
    "from sklearn.tree import DecisionTreeClassifier, DecisionTreeRegressor, export_graphviz\n",
    "import graphviz\n",
    "from sklearn.ensemble import RandomForestRegressor, RandomForestClassifier\n",
    "from sklearn.svm import SVC, SVR\n",
    "from sklearn.cluster import KMeans\n",
    "from sklearn.preprocessing import StandardScaler"
   ]
  },
  {
   "cell_type": "code",
   "execution_count": 37,
   "id": "5eeab6ca",
   "metadata": {},
   "outputs": [
    {
     "data": {
      "text/html": [
       "<div>\n",
       "<style scoped>\n",
       "    .dataframe tbody tr th:only-of-type {\n",
       "        vertical-align: middle;\n",
       "    }\n",
       "\n",
       "    .dataframe tbody tr th {\n",
       "        vertical-align: top;\n",
       "    }\n",
       "\n",
       "    .dataframe thead th {\n",
       "        text-align: right;\n",
       "    }\n",
       "</style>\n",
       "<table border=\"1\" class=\"dataframe\">\n",
       "  <thead>\n",
       "    <tr style=\"text-align: right;\">\n",
       "      <th></th>\n",
       "      <th>X1</th>\n",
       "      <th>X2</th>\n",
       "      <th>y</th>\n",
       "    </tr>\n",
       "  </thead>\n",
       "  <tbody>\n",
       "    <tr>\n",
       "      <th>0</th>\n",
       "      <td>-0.486850</td>\n",
       "      <td>-0.621107</td>\n",
       "      <td>1</td>\n",
       "    </tr>\n",
       "    <tr>\n",
       "      <th>1</th>\n",
       "      <td>-1.476004</td>\n",
       "      <td>0.132181</td>\n",
       "      <td>1</td>\n",
       "    </tr>\n",
       "    <tr>\n",
       "      <th>2</th>\n",
       "      <td>-0.010911</td>\n",
       "      <td>2.037849</td>\n",
       "      <td>1</td>\n",
       "    </tr>\n",
       "    <tr>\n",
       "      <th>3</th>\n",
       "      <td>-0.013760</td>\n",
       "      <td>1.164893</td>\n",
       "      <td>1</td>\n",
       "    </tr>\n",
       "    <tr>\n",
       "      <th>4</th>\n",
       "      <td>0.515579</td>\n",
       "      <td>1.049514</td>\n",
       "      <td>1</td>\n",
       "    </tr>\n",
       "    <tr>\n",
       "      <th>5</th>\n",
       "      <td>-0.139122</td>\n",
       "      <td>0.329392</td>\n",
       "      <td>1</td>\n",
       "    </tr>\n",
       "    <tr>\n",
       "      <th>6</th>\n",
       "      <td>1.287317</td>\n",
       "      <td>0.728701</td>\n",
       "      <td>1</td>\n",
       "    </tr>\n",
       "    <tr>\n",
       "      <th>7</th>\n",
       "      <td>-0.587773</td>\n",
       "      <td>0.815217</td>\n",
       "      <td>1</td>\n",
       "    </tr>\n",
       "    <tr>\n",
       "      <th>8</th>\n",
       "      <td>-0.030600</td>\n",
       "      <td>0.882825</td>\n",
       "      <td>1</td>\n",
       "    </tr>\n",
       "    <tr>\n",
       "      <th>9</th>\n",
       "      <td>-2.196844</td>\n",
       "      <td>-0.021392</td>\n",
       "      <td>1</td>\n",
       "    </tr>\n",
       "    <tr>\n",
       "      <th>10</th>\n",
       "      <td>0.084499</td>\n",
       "      <td>1.959912</td>\n",
       "      <td>-1</td>\n",
       "    </tr>\n",
       "    <tr>\n",
       "      <th>11</th>\n",
       "      <td>0.776998</td>\n",
       "      <td>1.605411</td>\n",
       "      <td>-1</td>\n",
       "    </tr>\n",
       "    <tr>\n",
       "      <th>12</th>\n",
       "      <td>1.494550</td>\n",
       "      <td>0.347884</td>\n",
       "      <td>-1</td>\n",
       "    </tr>\n",
       "    <tr>\n",
       "      <th>13</th>\n",
       "      <td>0.737689</td>\n",
       "      <td>1.788305</td>\n",
       "      <td>-1</td>\n",
       "    </tr>\n",
       "    <tr>\n",
       "      <th>14</th>\n",
       "      <td>1.366124</td>\n",
       "      <td>-1.079254</td>\n",
       "      <td>-1</td>\n",
       "    </tr>\n",
       "    <tr>\n",
       "      <th>15</th>\n",
       "      <td>0.037535</td>\n",
       "      <td>1.435385</td>\n",
       "      <td>-1</td>\n",
       "    </tr>\n",
       "    <tr>\n",
       "      <th>16</th>\n",
       "      <td>1.253292</td>\n",
       "      <td>1.803933</td>\n",
       "      <td>-1</td>\n",
       "    </tr>\n",
       "    <tr>\n",
       "      <th>17</th>\n",
       "      <td>3.284249</td>\n",
       "      <td>2.953395</td>\n",
       "      <td>-1</td>\n",
       "    </tr>\n",
       "    <tr>\n",
       "      <th>18</th>\n",
       "      <td>1.322381</td>\n",
       "      <td>-0.299420</td>\n",
       "      <td>-1</td>\n",
       "    </tr>\n",
       "    <tr>\n",
       "      <th>19</th>\n",
       "      <td>0.594095</td>\n",
       "      <td>0.871666</td>\n",
       "      <td>-1</td>\n",
       "    </tr>\n",
       "  </tbody>\n",
       "</table>\n",
       "</div>"
      ],
      "text/plain": [
       "          X1        X2  y\n",
       "0  -0.486850 -0.621107  1\n",
       "1  -1.476004  0.132181  1\n",
       "2  -0.010911  2.037849  1\n",
       "3  -0.013760  1.164893  1\n",
       "4   0.515579  1.049514  1\n",
       "5  -0.139122  0.329392  1\n",
       "6   1.287317  0.728701  1\n",
       "7  -0.587773  0.815217  1\n",
       "8  -0.030600  0.882825  1\n",
       "9  -2.196844 -0.021392  1\n",
       "10  0.084499  1.959912 -1\n",
       "11  0.776998  1.605411 -1\n",
       "12  1.494550  0.347884 -1\n",
       "13  0.737689  1.788305 -1\n",
       "14  1.366124 -1.079254 -1\n",
       "15  0.037535  1.435385 -1\n",
       "16  1.253292  1.803933 -1\n",
       "17  3.284249  2.953395 -1\n",
       "18  1.322381 -0.299420 -1\n",
       "19  0.594095  0.871666 -1"
      ]
     },
     "execution_count": 37,
     "metadata": {},
     "output_type": "execute_result"
    }
   ],
   "source": [
    "file1=\"c:/temp/svm_data1.csv\"\n",
    "data1=pd.read_csv(file1)\n",
    "data1"
   ]
  },
  {
   "cell_type": "code",
   "execution_count": 38,
   "id": "3e8cc200",
   "metadata": {},
   "outputs": [
    {
     "data": {
      "image/png": "[encoded data removed]",
      "text/plain": [
       "<Figure size 640x480 with 1 Axes>"
      ]
     },
     "metadata": {},
     "output_type": "display_data"
    }
   ],
   "source": [
    "plt.scatter(data1['X1'],data1['X2'],c=data1['y'])\n",
    "plt.show()"
   ]
  },
  {
   "cell_type": "markdown",
   "id": "dd2f52a6",
   "metadata": {},
   "source": [
    "## non linear seperable 1) 슬랙활용"
   ]
  },
  {
   "cell_type": "code",
   "execution_count": 39,
   "id": "21fd2737",
   "metadata": {},
   "outputs": [
    {
     "data": {
      "text/plain": [
       "SVC(C=0.1, kernel='linear', random_state=0)"
      ]
     },
     "execution_count": 39,
     "metadata": {},
     "output_type": "execute_result"
    }
   ],
   "source": [
    "# non linearly seperable , 1) 슬랙 활용\n",
    "# 슬랙 가중치 C=cost parameter\n",
    "\n",
    "# svc1, C=0.1\n",
    "X=data1[['X1','X2']]\n",
    "y=data1['y']\n",
    "svc1=SVC(C=0.1,kernel='linear',random_state=0)\n",
    "result1=svc1.fit(X,y)\n",
    "result1"
   ]
  },
  {
   "cell_type": "code",
   "execution_count": 40,
   "id": "70e4e6ec",
   "metadata": {},
   "outputs": [
    {
     "data": {
      "text/plain": [
       "array([[ 0.08449906,  1.9599125 ],\n",
       "       [ 0.77699828,  1.6054105 ],\n",
       "       [ 1.4945496 ,  0.34788412],\n",
       "       [ 0.73768926,  1.7883046 ],\n",
       "       [ 1.3661239 , -1.0792539 ],\n",
       "       [ 0.03753495,  1.4353855 ],\n",
       "       [ 1.2532923 ,  1.8039327 ],\n",
       "       [ 1.3223809 , -0.29942036],\n",
       "       [ 0.59409535,  0.8716656 ],\n",
       "       [-0.48685038, -0.62110734],\n",
       "       [-1.4760038 ,  0.13218145],\n",
       "       [-0.01091149,  2.0378487 ],\n",
       "       [-0.01376025,  1.1648929 ],\n",
       "       [ 0.51557881,  1.0495144 ],\n",
       "       [-0.13912173,  0.32939234],\n",
       "       [ 1.2873173 ,  0.72870135],\n",
       "       [-0.58777297,  0.81521714],\n",
       "       [-0.03060045,  0.88282478]])"
      ]
     },
     "execution_count": 40,
     "metadata": {},
     "output_type": "execute_result"
    }
   ],
   "source": [
    "# svc1, support vectors로 쓰인 18개 변수의 데이터 값\n",
    "result1.support_vectors_"
   ]
  },
  {
   "cell_type": "code",
   "execution_count": 41,
   "id": "d4d0fef0",
   "metadata": {},
   "outputs": [
    {
     "data": {
      "text/plain": [
       "18"
      ]
     },
     "execution_count": 41,
     "metadata": {},
     "output_type": "execute_result"
    }
   ],
   "source": [
    "# svc1, support vector 개수\n",
    "result1.support_.size"
   ]
  },
  {
   "cell_type": "code",
   "execution_count": 42,
   "id": "f0eb6f1e",
   "metadata": {},
   "outputs": [
    {
     "data": {
      "text/plain": [
       "array([10, 11, 12, 13, 14, 15, 16, 18, 19,  0,  1,  2,  3,  4,  5,  6,  7,\n",
       "        8])"
      ]
     },
     "execution_count": 42,
     "metadata": {},
     "output_type": "execute_result"
    }
   ],
   "source": [
    "# svc1, support vector로 쓰인 데이터\n",
    "result1.support_ "
   ]
  },
  {
   "cell_type": "code",
   "execution_count": 43,
   "id": "ed63fed6",
   "metadata": {},
   "outputs": [
    {
     "data": {
      "text/plain": [
       "array([[10,  0],\n",
       "       [ 5,  5]], dtype=int64)"
      ]
     },
     "execution_count": 43,
     "metadata": {},
     "output_type": "execute_result"
    }
   ],
   "source": [
    "# svc1, 예측 성과\n",
    "pred1=result1.predict(X)\n",
    "confusion_matrix(y,pred1)"
   ]
  },
  {
   "cell_type": "code",
   "execution_count": 44,
   "id": "04ecb07d",
   "metadata": {},
   "outputs": [
    {
     "data": {
      "text/plain": [
       "0.75"
      ]
     },
     "execution_count": 44,
     "metadata": {},
     "output_type": "execute_result"
    }
   ],
   "source": [
    "# svc1, CCR\n",
    "(10+5)/(10+5+5)"
   ]
  },
  {
   "cell_type": "code",
   "execution_count": 45,
   "id": "49f56d18",
   "metadata": {},
   "outputs": [
    {
     "data": {
      "text/plain": [
       "SVC(kernel='linear', random_state=0)"
      ]
     },
     "execution_count": 45,
     "metadata": {},
     "output_type": "execute_result"
    }
   ],
   "source": [
    "# svc2, Large C -> tiny margin\n",
    "svc2=SVC(C=1.0,kernel='linear',random_state=0)\n",
    "result2=svc2.fit(X,y)\n",
    "result2"
   ]
  },
  {
   "cell_type": "code",
   "execution_count": 46,
   "id": "efaa6d03",
   "metadata": {},
   "outputs": [
    {
     "data": {
      "text/plain": [
       "12"
      ]
     },
     "execution_count": 46,
     "metadata": {},
     "output_type": "execute_result"
    }
   ],
   "source": [
    "# svc2, support vector 개수\n",
    "result2.support_.size"
   ]
  },
  {
   "cell_type": "code",
   "execution_count": 47,
   "id": "be63430d",
   "metadata": {},
   "outputs": [
    {
     "data": {
      "text/plain": [
       "array([10, 11, 13, 14, 15, 19,  2,  3,  4,  5,  6,  8])"
      ]
     },
     "execution_count": 47,
     "metadata": {},
     "output_type": "execute_result"
    }
   ],
   "source": [
    "# svc2, support vector로 쓰인 데이터\n",
    "result2.support_ "
   ]
  },
  {
   "cell_type": "code",
   "execution_count": 48,
   "id": "5077c272",
   "metadata": {},
   "outputs": [
    {
     "data": {
      "text/plain": [
       "array([[ 0.08449906,  1.9599125 ],\n",
       "       [ 0.77699828,  1.6054105 ],\n",
       "       [ 0.73768926,  1.7883046 ],\n",
       "       [ 1.3661239 , -1.0792539 ],\n",
       "       [ 0.03753495,  1.4353855 ],\n",
       "       [ 0.59409535,  0.8716656 ],\n",
       "       [-0.01091149,  2.0378487 ],\n",
       "       [-0.01376025,  1.1648929 ],\n",
       "       [ 0.51557881,  1.0495144 ],\n",
       "       [-0.13912173,  0.32939234],\n",
       "       [ 1.2873173 ,  0.72870135],\n",
       "       [-0.03060045,  0.88282478]])"
      ]
     },
     "execution_count": 48,
     "metadata": {},
     "output_type": "execute_result"
    }
   ],
   "source": [
    "# svc2, support vectors로 쓰인 12개 변수의 데이터 값\n",
    "result2.support_vectors_"
   ]
  },
  {
   "cell_type": "code",
   "execution_count": 49,
   "id": "87d74096",
   "metadata": {},
   "outputs": [
    {
     "data": {
      "text/plain": [
       "array([[8, 2],\n",
       "       [2, 8]], dtype=int64)"
      ]
     },
     "execution_count": 49,
     "metadata": {},
     "output_type": "execute_result"
    }
   ],
   "source": [
    "# svc2, 예측 성과\n",
    "pred2=result2.predict(X)\n",
    "confusion_matrix(y,pred2)"
   ]
  },
  {
   "cell_type": "code",
   "execution_count": 50,
   "id": "5f6af9e0",
   "metadata": {},
   "outputs": [
    {
     "data": {
      "text/plain": [
       "0.8"
      ]
     },
     "execution_count": 50,
     "metadata": {},
     "output_type": "execute_result"
    }
   ],
   "source": [
    "# svc2, CCR\n",
    "(8+8)/(8+8+2+2)"
   ]
  },
  {
   "cell_type": "code",
   "execution_count": 51,
   "id": "5505d24d",
   "metadata": {},
   "outputs": [
    {
     "data": {
      "text/plain": [
       "SVC(C=0.1, kernel='linear', random_state=0)"
      ]
     },
     "execution_count": 51,
     "metadata": {},
     "output_type": "execute_result"
    }
   ],
   "source": [
    "# svc3, small C(large margin), train test split\n",
    "X=data1[['X1','X2']]\n",
    "y=data1['y']\n",
    "X_train,X_test,y_train,y_test=train_test_split(X,y,train_size=0.7,random_state=0)\n",
    "svc3=SVC(C=0.1,kernel='linear',random_state=0)\n",
    "result3=svc3.fit(X_train,y_train)\n",
    "result3"
   ]
  },
  {
   "cell_type": "code",
   "execution_count": 52,
   "id": "791f97f1",
   "metadata": {},
   "outputs": [
    {
     "data": {
      "text/plain": [
       "13"
      ]
     },
     "execution_count": 52,
     "metadata": {},
     "output_type": "execute_result"
    }
   ],
   "source": [
    "# svc3, 서포트 벡터 개수\n",
    "result3.support_.size"
   ]
  },
  {
   "cell_type": "code",
   "execution_count": 53,
   "id": "43e0feed",
   "metadata": {},
   "outputs": [
    {
     "data": {
      "text/plain": [
       "array([ 1,  5,  8,  9, 12, 13,  0,  2,  3,  4,  7, 10, 11])"
      ]
     },
     "execution_count": 53,
     "metadata": {},
     "output_type": "execute_result"
    }
   ],
   "source": [
    "# svc3, 서포트 벡터 번호수\n",
    "result3.support_"
   ]
  },
  {
   "cell_type": "code",
   "execution_count": 54,
   "id": "e7f2844b",
   "metadata": {},
   "outputs": [
    {
     "data": {
      "text/plain": [
       "array([[ 0.73768926,  1.7883046 ],\n",
       "       [ 1.3661239 , -1.0792539 ],\n",
       "       [ 1.2532923 ,  1.8039327 ],\n",
       "       [ 0.77699828,  1.6054105 ],\n",
       "       [ 0.03753495,  1.4353855 ],\n",
       "       [ 1.4945496 ,  0.34788412],\n",
       "       [ 1.2873173 ,  0.72870135],\n",
       "       [ 0.51557881,  1.0495144 ],\n",
       "       [-0.01091149,  2.0378487 ],\n",
       "       [-0.13912173,  0.32939234],\n",
       "       [-0.58777297,  0.81521714],\n",
       "       [-0.01376025,  1.1648929 ],\n",
       "       [-0.48685038, -0.62110734]])"
      ]
     },
     "execution_count": 54,
     "metadata": {},
     "output_type": "execute_result"
    }
   ],
   "source": [
    "# svc3, support vectors로 쓰인 12개의 데이터 값\n",
    "result3.support_vectors_"
   ]
  },
  {
   "cell_type": "code",
   "execution_count": 55,
   "id": "9e1df583",
   "metadata": {},
   "outputs": [
    {
     "data": {
      "text/plain": [
       "array([[1, 3],\n",
       "       [0, 2]], dtype=int64)"
      ]
     },
     "execution_count": 55,
     "metadata": {},
     "output_type": "execute_result"
    }
   ],
   "source": [
    "# svc3 예측성과\n",
    "pred3=result3.predict(X_test)\n",
    "confusion_matrix(y_test,pred3)"
   ]
  },
  {
   "cell_type": "code",
   "execution_count": 56,
   "id": "6285b73c",
   "metadata": {},
   "outputs": [
    {
     "data": {
      "text/plain": [
       "0.5"
      ]
     },
     "execution_count": 56,
     "metadata": {},
     "output_type": "execute_result"
    }
   ],
   "source": [
    "# svc3, CCR\n",
    "(1+2)/(1+2+3)"
   ]
  },
  {
   "cell_type": "markdown",
   "id": "417951c8",
   "metadata": {},
   "source": [
    "## non linear seperable 2) kernel function"
   ]
  },
  {
   "cell_type": "code",
   "execution_count": 57,
   "id": "e3570c7a",
   "metadata": {},
   "outputs": [
    {
     "data": {
      "text/html": [
       "<div>\n",
       "<style scoped>\n",
       "    .dataframe tbody tr th:only-of-type {\n",
       "        vertical-align: middle;\n",
       "    }\n",
       "\n",
       "    .dataframe tbody tr th {\n",
       "        vertical-align: top;\n",
       "    }\n",
       "\n",
       "    .dataframe thead th {\n",
       "        text-align: right;\n",
       "    }\n",
       "</style>\n",
       "<table border=\"1\" class=\"dataframe\">\n",
       "  <thead>\n",
       "    <tr style=\"text-align: right;\">\n",
       "      <th></th>\n",
       "      <th>X1</th>\n",
       "      <th>X2</th>\n",
       "      <th>y</th>\n",
       "    </tr>\n",
       "  </thead>\n",
       "  <tbody>\n",
       "    <tr>\n",
       "      <th>0</th>\n",
       "      <td>-0.486850</td>\n",
       "      <td>-0.621107</td>\n",
       "      <td>1</td>\n",
       "    </tr>\n",
       "    <tr>\n",
       "      <th>1</th>\n",
       "      <td>-1.476004</td>\n",
       "      <td>0.132181</td>\n",
       "      <td>1</td>\n",
       "    </tr>\n",
       "    <tr>\n",
       "      <th>2</th>\n",
       "      <td>-0.010911</td>\n",
       "      <td>2.037849</td>\n",
       "      <td>1</td>\n",
       "    </tr>\n",
       "    <tr>\n",
       "      <th>3</th>\n",
       "      <td>-0.013760</td>\n",
       "      <td>1.164893</td>\n",
       "      <td>1</td>\n",
       "    </tr>\n",
       "    <tr>\n",
       "      <th>4</th>\n",
       "      <td>0.515579</td>\n",
       "      <td>1.049514</td>\n",
       "      <td>1</td>\n",
       "    </tr>\n",
       "    <tr>\n",
       "      <th>5</th>\n",
       "      <td>-0.139122</td>\n",
       "      <td>0.329392</td>\n",
       "      <td>1</td>\n",
       "    </tr>\n",
       "    <tr>\n",
       "      <th>6</th>\n",
       "      <td>1.287317</td>\n",
       "      <td>0.728701</td>\n",
       "      <td>1</td>\n",
       "    </tr>\n",
       "    <tr>\n",
       "      <th>7</th>\n",
       "      <td>-0.587773</td>\n",
       "      <td>0.815217</td>\n",
       "      <td>1</td>\n",
       "    </tr>\n",
       "    <tr>\n",
       "      <th>8</th>\n",
       "      <td>-0.030600</td>\n",
       "      <td>0.882825</td>\n",
       "      <td>1</td>\n",
       "    </tr>\n",
       "    <tr>\n",
       "      <th>9</th>\n",
       "      <td>-2.196844</td>\n",
       "      <td>-0.021392</td>\n",
       "      <td>1</td>\n",
       "    </tr>\n",
       "    <tr>\n",
       "      <th>10</th>\n",
       "      <td>0.084499</td>\n",
       "      <td>1.959912</td>\n",
       "      <td>-1</td>\n",
       "    </tr>\n",
       "    <tr>\n",
       "      <th>11</th>\n",
       "      <td>0.776998</td>\n",
       "      <td>1.605411</td>\n",
       "      <td>-1</td>\n",
       "    </tr>\n",
       "    <tr>\n",
       "      <th>12</th>\n",
       "      <td>1.494550</td>\n",
       "      <td>0.347884</td>\n",
       "      <td>-1</td>\n",
       "    </tr>\n",
       "    <tr>\n",
       "      <th>13</th>\n",
       "      <td>0.737689</td>\n",
       "      <td>1.788305</td>\n",
       "      <td>-1</td>\n",
       "    </tr>\n",
       "    <tr>\n",
       "      <th>14</th>\n",
       "      <td>1.366124</td>\n",
       "      <td>-1.079254</td>\n",
       "      <td>-1</td>\n",
       "    </tr>\n",
       "    <tr>\n",
       "      <th>15</th>\n",
       "      <td>0.037535</td>\n",
       "      <td>1.435385</td>\n",
       "      <td>-1</td>\n",
       "    </tr>\n",
       "    <tr>\n",
       "      <th>16</th>\n",
       "      <td>1.253292</td>\n",
       "      <td>1.803933</td>\n",
       "      <td>-1</td>\n",
       "    </tr>\n",
       "    <tr>\n",
       "      <th>17</th>\n",
       "      <td>3.284249</td>\n",
       "      <td>2.953395</td>\n",
       "      <td>-1</td>\n",
       "    </tr>\n",
       "    <tr>\n",
       "      <th>18</th>\n",
       "      <td>1.322381</td>\n",
       "      <td>-0.299420</td>\n",
       "      <td>-1</td>\n",
       "    </tr>\n",
       "    <tr>\n",
       "      <th>19</th>\n",
       "      <td>0.594095</td>\n",
       "      <td>0.871666</td>\n",
       "      <td>-1</td>\n",
       "    </tr>\n",
       "  </tbody>\n",
       "</table>\n",
       "</div>"
      ],
      "text/plain": [
       "          X1        X2  y\n",
       "0  -0.486850 -0.621107  1\n",
       "1  -1.476004  0.132181  1\n",
       "2  -0.010911  2.037849  1\n",
       "3  -0.013760  1.164893  1\n",
       "4   0.515579  1.049514  1\n",
       "5  -0.139122  0.329392  1\n",
       "6   1.287317  0.728701  1\n",
       "7  -0.587773  0.815217  1\n",
       "8  -0.030600  0.882825  1\n",
       "9  -2.196844 -0.021392  1\n",
       "10  0.084499  1.959912 -1\n",
       "11  0.776998  1.605411 -1\n",
       "12  1.494550  0.347884 -1\n",
       "13  0.737689  1.788305 -1\n",
       "14  1.366124 -1.079254 -1\n",
       "15  0.037535  1.435385 -1\n",
       "16  1.253292  1.803933 -1\n",
       "17  3.284249  2.953395 -1\n",
       "18  1.322381 -0.299420 -1\n",
       "19  0.594095  0.871666 -1"
      ]
     },
     "execution_count": 57,
     "metadata": {},
     "output_type": "execute_result"
    }
   ],
   "source": [
    "file2=\"c:/temp/svm_data1.csv\"\n",
    "data2=pd.read_csv(file2)\n",
    "data2"
   ]
  },
  {
   "cell_type": "code",
   "execution_count": 68,
   "id": "2fe23239",
   "metadata": {},
   "outputs": [
    {
     "data": {
      "text/plain": [
       "SVC(C=0.1, random_state=0)"
      ]
     },
     "execution_count": 68,
     "metadata": {},
     "output_type": "execute_result"
    }
   ],
   "source": [
    "# svc4, kernel function=gaussian rbf, small C-> large margin\n",
    "X=data1[['X1','X2']]\n",
    "y=data1['y']\n",
    "svc4=SVC(C=0.1,kernel='rbf',gamma='scale',random_state=0)\n",
    "# gamma 지정 안했을 때, 자동으로 'scale' 사용됨\n",
    "# gammma='auto' (x변수의 역수)로 지정할 수도 있음\n",
    "result4=svc4.fit(X,y)\n",
    "result4"
   ]
  },
  {
   "cell_type": "code",
   "execution_count": 69,
   "id": "1c3f9064",
   "metadata": {},
   "outputs": [
    {
     "data": {
      "text/plain": [
       "array([ 1,  1, -1,  1, -1,  1, -1,  1,  1,  1, -1, -1, -1, -1, -1, -1, -1,\n",
       "       -1, -1, -1], dtype=int64)"
      ]
     },
     "execution_count": 69,
     "metadata": {},
     "output_type": "execute_result"
    }
   ],
   "source": [
    "# svc4, 예측\n",
    "pred4=result4.predict(X)\n",
    "pred4"
   ]
  },
  {
   "cell_type": "code",
   "execution_count": 60,
   "id": "eab79b4c",
   "metadata": {},
   "outputs": [
    {
     "data": {
      "text/plain": [
       "array([ 1,  1,  1,  1,  1, -1], dtype=int64)"
      ]
     },
     "execution_count": 60,
     "metadata": {},
     "output_type": "execute_result"
    }
   ],
   "source": [
    "pred3"
   ]
  },
  {
   "cell_type": "code",
   "execution_count": 61,
   "id": "30b1b65f",
   "metadata": {},
   "outputs": [
    {
     "data": {
      "text/plain": [
       "array([ 1,  1,  1,  1, -1,  1, -1,  1,  1,  1,  1, -1, -1, -1, -1,  1, -1,\n",
       "       -1, -1, -1], dtype=int64)"
      ]
     },
     "execution_count": 61,
     "metadata": {},
     "output_type": "execute_result"
    }
   ],
   "source": [
    "pred2"
   ]
  },
  {
   "cell_type": "code",
   "execution_count": 62,
   "id": "2f672610",
   "metadata": {},
   "outputs": [
    {
     "data": {
      "text/plain": [
       "array([ 1,  1, -1, -1, -1,  1, -1,  1, -1,  1, -1, -1, -1, -1, -1, -1, -1,\n",
       "       -1, -1, -1], dtype=int64)"
      ]
     },
     "execution_count": 62,
     "metadata": {},
     "output_type": "execute_result"
    }
   ],
   "source": [
    "pred1"
   ]
  },
  {
   "cell_type": "code",
   "execution_count": 70,
   "id": "8b16ffaa",
   "metadata": {},
   "outputs": [
    {
     "data": {
      "text/plain": [
       "array([[10,  0],\n",
       "       [ 3,  7]], dtype=int64)"
      ]
     },
     "execution_count": 70,
     "metadata": {},
     "output_type": "execute_result"
    }
   ],
   "source": [
    "# svc4, 예측성과\n",
    "confusion_matrix(y,pred4)"
   ]
  },
  {
   "cell_type": "code",
   "execution_count": 71,
   "id": "0effeaba",
   "metadata": {},
   "outputs": [
    {
     "data": {
      "text/plain": [
       "0.85"
      ]
     },
     "execution_count": 71,
     "metadata": {},
     "output_type": "execute_result"
    }
   ],
   "source": [
    "# svc4, CCR\n",
    "(10+7)/(10+7+3)"
   ]
  },
  {
   "cell_type": "code",
   "execution_count": 72,
   "id": "139598ee",
   "metadata": {},
   "outputs": [
    {
     "data": {
      "text/plain": [
       "array([[5, 5],\n",
       "       [1, 9]], dtype=int64)"
      ]
     },
     "execution_count": 72,
     "metadata": {},
     "output_type": "execute_result"
    }
   ],
   "source": [
    "# svc5, kernel function=polynomial, small C-> large margin\n",
    "X=data1[['X1','X2']]\n",
    "y=data1['y']\n",
    "svc5=SVC(C=0.1,kernel='poly',degree=3,random_state=0)\n",
    "result5=svc5.fit(X,y)\n",
    "pred5=result5.predict(X)\n",
    "confusion_matrix(y,pred5)"
   ]
  },
  {
   "cell_type": "code",
   "execution_count": 73,
   "id": "93387c92",
   "metadata": {},
   "outputs": [
    {
     "data": {
      "text/plain": [
       "0.7"
      ]
     },
     "execution_count": 73,
     "metadata": {},
     "output_type": "execute_result"
    }
   ],
   "source": [
    "# svc4, CCR\n",
    "(5+9)/(5+9+1+5)"
   ]
  },
  {
   "cell_type": "markdown",
   "id": "5f89840e",
   "metadata": {},
   "source": [
    "# Lec 11 K-means Clustering\n",
    "## unsupervised learning\n",
    "\n",
    "- 군집화 해서 메일 보내자\n",
    "- 공간상 어느 점을 선택하고, 그걸 k개 그룹으로 나누는 것\n",
    "- 중심점으로부터 데이터 까지 거리 측정해서 그 평균을 계산해서 평균이 최소가 되는 상태가 optimal\n",
    "- 중심점으로부터 데이터까지 거리=Euclidean distance=dissimilarity 비유사성\n",
    "\n",
    "#### 최적 중심점 어케 찾을거임?\n",
    "- 군집중심점이 4개인 경우, 고객 A와 4개의 중심점과의 ED를 모두 계산한다. 나머지 모든 고객에 대해서도 같은 방식으로 4개 중심점과의 ED를 계산한다. \n",
    "- 각 고객에 대해 최소 ED를 가진 중심점 cluster가 된다. \n",
    "\n",
    "#### K 얼마로 결정?\n",
    "- elbow\n",
    "- 평균 ED가 최소화 되도록 (각 점당 가장 가까운 중심점 까지의 거리=ED)\n",
    "- WSS(=평균 거리 합) 최소화 되도록"
   ]
  },
  {
   "cell_type": "code",
   "execution_count": 75,
   "id": "c4a51fe3",
   "metadata": {},
   "outputs": [
    {
     "data": {
      "text/html": [
       "<div>\n",
       "<style scoped>\n",
       "    .dataframe tbody tr th:only-of-type {\n",
       "        vertical-align: middle;\n",
       "    }\n",
       "\n",
       "    .dataframe tbody tr th {\n",
       "        vertical-align: top;\n",
       "    }\n",
       "\n",
       "    .dataframe thead th {\n",
       "        text-align: right;\n",
       "    }\n",
       "</style>\n",
       "<table border=\"1\" class=\"dataframe\">\n",
       "  <thead>\n",
       "    <tr style=\"text-align: right;\">\n",
       "      <th></th>\n",
       "      <th>id</th>\n",
       "      <th>flexibility</th>\n",
       "      <th>speed</th>\n",
       "      <th>strength</th>\n",
       "    </tr>\n",
       "  </thead>\n",
       "  <tbody>\n",
       "    <tr>\n",
       "      <th>0</th>\n",
       "      <td>1</td>\n",
       "      <td>3.600000</td>\n",
       "      <td>6.11</td>\n",
       "      <td>2.07</td>\n",
       "    </tr>\n",
       "    <tr>\n",
       "      <th>1</th>\n",
       "      <td>2</td>\n",
       "      <td>1.120000</td>\n",
       "      <td>0.33</td>\n",
       "      <td>9.01</td>\n",
       "    </tr>\n",
       "    <tr>\n",
       "      <th>2</th>\n",
       "      <td>3</td>\n",
       "      <td>8.690000</td>\n",
       "      <td>8.90</td>\n",
       "      <td>3.83</td>\n",
       "    </tr>\n",
       "    <tr>\n",
       "      <th>3</th>\n",
       "      <td>4</td>\n",
       "      <td>2.670000</td>\n",
       "      <td>8.61</td>\n",
       "      <td>0.36</td>\n",
       "    </tr>\n",
       "    <tr>\n",
       "      <th>4</th>\n",
       "      <td>5</td>\n",
       "      <td>2.780000</td>\n",
       "      <td>1.69</td>\n",
       "      <td>8.64</td>\n",
       "    </tr>\n",
       "    <tr>\n",
       "      <th>...</th>\n",
       "      <td>...</td>\n",
       "      <td>...</td>\n",
       "      <td>...</td>\n",
       "      <td>...</td>\n",
       "    </tr>\n",
       "    <tr>\n",
       "      <th>75</th>\n",
       "      <td>76</td>\n",
       "      <td>2.440000</td>\n",
       "      <td>1.60</td>\n",
       "      <td>8.51</td>\n",
       "    </tr>\n",
       "    <tr>\n",
       "      <th>76</th>\n",
       "      <td>77</td>\n",
       "      <td>2.340000</td>\n",
       "      <td>1.66</td>\n",
       "      <td>8.91</td>\n",
       "    </tr>\n",
       "    <tr>\n",
       "      <th>77</th>\n",
       "      <td>78</td>\n",
       "      <td>5.080000</td>\n",
       "      <td>1.05</td>\n",
       "      <td>5.46</td>\n",
       "    </tr>\n",
       "    <tr>\n",
       "      <th>78</th>\n",
       "      <td>79</td>\n",
       "      <td>1.670000</td>\n",
       "      <td>0.87</td>\n",
       "      <td>8.70</td>\n",
       "    </tr>\n",
       "    <tr>\n",
       "      <th>79</th>\n",
       "      <td>80</td>\n",
       "      <td>9.520001</td>\n",
       "      <td>9.17</td>\n",
       "      <td>4.21</td>\n",
       "    </tr>\n",
       "  </tbody>\n",
       "</table>\n",
       "<p>80 rows × 4 columns</p>\n",
       "</div>"
      ],
      "text/plain": [
       "    id  flexibility  speed  strength\n",
       "0    1     3.600000   6.11      2.07\n",
       "1    2     1.120000   0.33      9.01\n",
       "2    3     8.690000   8.90      3.83\n",
       "3    4     2.670000   8.61      0.36\n",
       "4    5     2.780000   1.69      8.64\n",
       "..  ..          ...    ...       ...\n",
       "75  76     2.440000   1.60      8.51\n",
       "76  77     2.340000   1.66      8.91\n",
       "77  78     5.080000   1.05      5.46\n",
       "78  79     1.670000   0.87      8.70\n",
       "79  80     9.520001   9.17      4.21\n",
       "\n",
       "[80 rows x 4 columns]"
      ]
     },
     "execution_count": 75,
     "metadata": {},
     "output_type": "execute_result"
    }
   ],
   "source": [
    "file3=\"c:/temp/psysed.csv\"\n",
    "psysed=pd.read_csv(file3)\n",
    "psysed"
   ]
  },
  {
   "cell_type": "code",
   "execution_count": 77,
   "id": "d58037e3",
   "metadata": {},
   "outputs": [
    {
     "data": {
      "image/png": "[encoded data removed]",
      "text/plain": [
       "<Figure size 640x480 with 1 Axes>"
      ]
     },
     "metadata": {},
     "output_type": "display_data"
    }
   ],
   "source": [
    "# k-means clustering ; flexibility, speed, strength 중에 두개만 써서 하자\n",
    "# 우선 분포를 보자\n",
    "plt.scatter(psysed['speed'],psysed['strength'],color='black')\n",
    "plt.show()"
   ]
  },
  {
   "cell_type": "code",
   "execution_count": 85,
   "id": "793b0333",
   "metadata": {},
   "outputs": [
    {
     "data": {
      "text/plain": [
       "KMeans(n_clusters=3, random_state=0)"
      ]
     },
     "execution_count": 85,
     "metadata": {},
     "output_type": "execute_result"
    }
   ],
   "source": [
    "# kmeans_3, k=3\n",
    "X=psysed[['speed','strength']]\n",
    "X_scaled=StandardScaler().fit_transform(X) # 표준화하기 : StandardSclaer\n",
    "\n",
    "kmeans_3=KMeans(n_clusters=3,random_state=0,n_init=10,max_iter=300)\n",
    "kmeans_3.fit(X,y)"
   ]
  },
  {
   "cell_type": "code",
   "execution_count": 87,
   "id": "3a523e6c",
   "metadata": {},
   "outputs": [
    {
     "data": {
      "text/plain": [
       "145.70898465322134"
      ]
     },
     "execution_count": 87,
     "metadata": {},
     "output_type": "execute_result"
    }
   ],
   "source": [
    "# WSS, k=3, kemans_3 / 중심점이 3개일 때 평균길이 합의 최소\n",
    "kmeans_3.inertia_"
   ]
  },
  {
   "cell_type": "code",
   "execution_count": 88,
   "id": "3c867b72",
   "metadata": {},
   "outputs": [
    {
     "data": {
      "text/plain": [
       "array([[1.14485715, 8.47885705],\n",
       "       [8.04119999, 3.27120002],\n",
       "       [3.44850002, 6.83249999]])"
      ]
     },
     "execution_count": 88,
     "metadata": {},
     "output_type": "execute_result"
    }
   ],
   "source": [
    "# 중심점의 위치, k=3, kemans_3\n",
    "kmeans_3.cluster_centers_"
   ]
  },
  {
   "cell_type": "code",
   "execution_count": 89,
   "id": "2a5fc25a",
   "metadata": {},
   "outputs": [
    {
     "data": {
      "text/plain": [
       "array([1, 0, 1, 1, 0, 0, 1, 1, 1, 0, 2, 0, 1, 1, 2, 2, 1, 1, 2, 2, 0, 0,\n",
       "       0, 0, 1, 2, 2, 1, 1, 2, 2, 0, 1, 0, 1, 0, 0, 2, 0, 0, 0, 2, 0, 2,\n",
       "       0, 0, 0, 0, 1, 2, 1, 1, 2, 1, 0, 2, 2, 1, 0, 1, 0, 0, 0, 1, 0, 1,\n",
       "       0, 0, 0, 2, 0, 2, 0, 2, 1, 0, 0, 2, 0, 1])"
      ]
     },
     "execution_count": 89,
     "metadata": {},
     "output_type": "execute_result"
    }
   ],
   "source": [
    "# 각 데이터 값이 어느 클러스터에 들어가 있는 지, kmeans_3\n",
    "kmeans_3.labels_"
   ]
  },
  {
   "cell_type": "code",
   "execution_count": 92,
   "id": "c9f7a525",
   "metadata": {},
   "outputs": [
    {
     "data": {
      "text/html": [
       "<div>\n",
       "<style scoped>\n",
       "    .dataframe tbody tr th:only-of-type {\n",
       "        vertical-align: middle;\n",
       "    }\n",
       "\n",
       "    .dataframe tbody tr th {\n",
       "        vertical-align: top;\n",
       "    }\n",
       "\n",
       "    .dataframe thead th {\n",
       "        text-align: right;\n",
       "    }\n",
       "</style>\n",
       "<table border=\"1\" class=\"dataframe\">\n",
       "  <thead>\n",
       "    <tr style=\"text-align: right;\">\n",
       "      <th></th>\n",
       "      <th>id</th>\n",
       "      <th>flexibility</th>\n",
       "      <th>speed</th>\n",
       "      <th>strength</th>\n",
       "      <th>cluster_3</th>\n",
       "    </tr>\n",
       "  </thead>\n",
       "  <tbody>\n",
       "    <tr>\n",
       "      <th>0</th>\n",
       "      <td>1</td>\n",
       "      <td>3.600000</td>\n",
       "      <td>6.11</td>\n",
       "      <td>2.07</td>\n",
       "      <td>1</td>\n",
       "    </tr>\n",
       "    <tr>\n",
       "      <th>1</th>\n",
       "      <td>2</td>\n",
       "      <td>1.120000</td>\n",
       "      <td>0.33</td>\n",
       "      <td>9.01</td>\n",
       "      <td>0</td>\n",
       "    </tr>\n",
       "    <tr>\n",
       "      <th>2</th>\n",
       "      <td>3</td>\n",
       "      <td>8.690000</td>\n",
       "      <td>8.90</td>\n",
       "      <td>3.83</td>\n",
       "      <td>1</td>\n",
       "    </tr>\n",
       "    <tr>\n",
       "      <th>3</th>\n",
       "      <td>4</td>\n",
       "      <td>2.670000</td>\n",
       "      <td>8.61</td>\n",
       "      <td>0.36</td>\n",
       "      <td>1</td>\n",
       "    </tr>\n",
       "    <tr>\n",
       "      <th>4</th>\n",
       "      <td>5</td>\n",
       "      <td>2.780000</td>\n",
       "      <td>1.69</td>\n",
       "      <td>8.64</td>\n",
       "      <td>0</td>\n",
       "    </tr>\n",
       "    <tr>\n",
       "      <th>...</th>\n",
       "      <td>...</td>\n",
       "      <td>...</td>\n",
       "      <td>...</td>\n",
       "      <td>...</td>\n",
       "      <td>...</td>\n",
       "    </tr>\n",
       "    <tr>\n",
       "      <th>75</th>\n",
       "      <td>76</td>\n",
       "      <td>2.440000</td>\n",
       "      <td>1.60</td>\n",
       "      <td>8.51</td>\n",
       "      <td>0</td>\n",
       "    </tr>\n",
       "    <tr>\n",
       "      <th>76</th>\n",
       "      <td>77</td>\n",
       "      <td>2.340000</td>\n",
       "      <td>1.66</td>\n",
       "      <td>8.91</td>\n",
       "      <td>0</td>\n",
       "    </tr>\n",
       "    <tr>\n",
       "      <th>77</th>\n",
       "      <td>78</td>\n",
       "      <td>5.080000</td>\n",
       "      <td>1.05</td>\n",
       "      <td>5.46</td>\n",
       "      <td>2</td>\n",
       "    </tr>\n",
       "    <tr>\n",
       "      <th>78</th>\n",
       "      <td>79</td>\n",
       "      <td>1.670000</td>\n",
       "      <td>0.87</td>\n",
       "      <td>8.70</td>\n",
       "      <td>0</td>\n",
       "    </tr>\n",
       "    <tr>\n",
       "      <th>79</th>\n",
       "      <td>80</td>\n",
       "      <td>9.520001</td>\n",
       "      <td>9.17</td>\n",
       "      <td>4.21</td>\n",
       "      <td>1</td>\n",
       "    </tr>\n",
       "  </tbody>\n",
       "</table>\n",
       "<p>80 rows × 5 columns</p>\n",
       "</div>"
      ],
      "text/plain": [
       "    id  flexibility  speed  strength  cluster_3\n",
       "0    1     3.600000   6.11      2.07          1\n",
       "1    2     1.120000   0.33      9.01          0\n",
       "2    3     8.690000   8.90      3.83          1\n",
       "3    4     2.670000   8.61      0.36          1\n",
       "4    5     2.780000   1.69      8.64          0\n",
       "..  ..          ...    ...       ...        ...\n",
       "75  76     2.440000   1.60      8.51          0\n",
       "76  77     2.340000   1.66      8.91          0\n",
       "77  78     5.080000   1.05      5.46          2\n",
       "78  79     1.670000   0.87      8.70          0\n",
       "79  80     9.520001   9.17      4.21          1\n",
       "\n",
       "[80 rows x 5 columns]"
      ]
     },
     "execution_count": 92,
     "metadata": {},
     "output_type": "execute_result"
    }
   ],
   "source": [
    "# 각 데이터가 들어간 클러스터 정보를 원 데이터에 넣자\n",
    "df1=pd.DataFrame(kmeans_3.labels_,columns=['cluster_3'])\n",
    "\n",
    "psysed_new=pd.concat([psysed,df1],axis=1)\n",
    "psysed_new"
   ]
  },
  {
   "cell_type": "code",
   "execution_count": 93,
   "id": "e3a3cb51",
   "metadata": {},
   "outputs": [
    {
     "data": {
      "text/plain": [
       "0    35\n",
       "1    25\n",
       "2    20\n",
       "Name: cluster_3, dtype: int64"
      ]
     },
     "execution_count": 93,
     "metadata": {},
     "output_type": "execute_result"
    }
   ],
   "source": [
    "pd.value_counts(psysed_new['cluster_3'])"
   ]
  },
  {
   "cell_type": "code",
   "execution_count": 94,
   "id": "72bc9ec5",
   "metadata": {},
   "outputs": [
    {
     "data": {
      "text/html": [
       "<div>\n",
       "<style scoped>\n",
       "    .dataframe tbody tr th:only-of-type {\n",
       "        vertical-align: middle;\n",
       "    }\n",
       "\n",
       "    .dataframe tbody tr th {\n",
       "        vertical-align: top;\n",
       "    }\n",
       "\n",
       "    .dataframe thead th {\n",
       "        text-align: right;\n",
       "    }\n",
       "</style>\n",
       "<table border=\"1\" class=\"dataframe\">\n",
       "  <thead>\n",
       "    <tr style=\"text-align: right;\">\n",
       "      <th></th>\n",
       "      <th>speed</th>\n",
       "      <th>strength</th>\n",
       "    </tr>\n",
       "    <tr>\n",
       "      <th>cluster_3</th>\n",
       "      <th></th>\n",
       "      <th></th>\n",
       "    </tr>\n",
       "  </thead>\n",
       "  <tbody>\n",
       "    <tr>\n",
       "      <th>0</th>\n",
       "      <td>1.144857</td>\n",
       "      <td>8.478857</td>\n",
       "    </tr>\n",
       "    <tr>\n",
       "      <th>1</th>\n",
       "      <td>8.041200</td>\n",
       "      <td>3.271200</td>\n",
       "    </tr>\n",
       "    <tr>\n",
       "      <th>2</th>\n",
       "      <td>3.448500</td>\n",
       "      <td>6.832500</td>\n",
       "    </tr>\n",
       "  </tbody>\n",
       "</table>\n",
       "</div>"
      ],
      "text/plain": [
       "              speed  strength\n",
       "cluster_3                    \n",
       "0          1.144857  8.478857\n",
       "1          8.041200  3.271200\n",
       "2          3.448500  6.832500"
      ]
     },
     "execution_count": 94,
     "metadata": {},
     "output_type": "execute_result"
    }
   ],
   "source": [
    "# 각 cluster의 x 값 평균\n",
    "psysed_new.groupby('cluster_3')[['speed','strength']].mean()"
   ]
  },
  {
   "cell_type": "code",
   "execution_count": 95,
   "id": "78768469",
   "metadata": {},
   "outputs": [
    {
     "data": {
      "text/plain": [
       "82.92927654836562"
      ]
     },
     "execution_count": 95,
     "metadata": {},
     "output_type": "execute_result"
    }
   ],
   "source": [
    "# k=4, kmeans_4\n",
    "kmeans_4=KMeans(n_clusters=4, random_state=0,n_init=10,max_iter=300)\n",
    "kmeans_4.fit(X,y)\n",
    "# WSS, k=4, kemans_4 / 중심점이 4개일 때 평균길이 합의 최소\n",
    "kmeans_4.inertia_"
   ]
  },
  {
   "cell_type": "code",
   "execution_count": 96,
   "id": "a0a4a5e9",
   "metadata": {},
   "outputs": [
    {
     "data": {
      "text/plain": [
       "62.555902924982604"
      ]
     },
     "execution_count": 96,
     "metadata": {},
     "output_type": "execute_result"
    }
   ],
   "source": [
    "# k=5, kmeans_5\n",
    "kmeans_5=KMeans(n_clusters=5, random_state=0,n_init=10,max_iter=300)\n",
    "kmeans_5.fit(X,y)\n",
    "# WSS, k=5, kemans_5 / 중심점이 5개일 때 평균길이 합의 최소\n",
    "kmeans_5.inertia_"
   ]
  },
  {
   "cell_type": "code",
   "execution_count": 97,
   "id": "8088900a",
   "metadata": {},
   "outputs": [
    {
     "data": {
      "text/plain": [
       "145.70898465322134"
      ]
     },
     "execution_count": 97,
     "metadata": {},
     "output_type": "execute_result"
    }
   ],
   "source": [
    "# WSS, k=3, kemans_3 / 중심점이 3개일 때 평균길이 합의 최소\n",
    "kmeans_3.inertia_"
   ]
  },
  {
   "cell_type": "code",
   "execution_count": 98,
   "id": "2b3eab02",
   "metadata": {},
   "outputs": [],
   "source": [
    "# elbow : 확 작아지고 그 다음 부터 안작아지면 그때가 'k'"
   ]
  },
  {
   "cell_type": "code",
   "execution_count": null,
   "id": "0e0591a7",
   "metadata": {},
   "outputs": [],
   "source": []
  },
  {
   "cell_type": "code",
   "execution_count": null,
   "id": "95ce7abf",
   "metadata": {},
   "outputs": [],
   "source": []
  }
 ],
 "metadata": {
  "kernelspec": {
   "display_name": "Python 3 (ipykernel)",
   "language": "python",
   "name": "python3"
  },
  "language_info": {
   "codemirror_mode": {
    "name": "ipython",
    "version": 3
   },
   "file_extension": ".py",
   "mimetype": "text/x-python",
   "name": "python",
   "nbconvert_exporter": "python",
   "pygments_lexer": "ipython3",
   "version": "3.9.13"
  }
 },
 "nbformat": 4,
 "nbformat_minor": 5
}
