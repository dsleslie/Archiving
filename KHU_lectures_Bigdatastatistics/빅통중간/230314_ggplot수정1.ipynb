{
 "cells": [
  {
   "cell_type": "code",
   "execution_count": 1,
   "id": "6a4b842e",
   "metadata": {},
   "outputs": [
    {
     "name": "stdout",
     "output_type": "stream",
     "text": [
      "Requirement already satisfied: ggplot in c:\\users\\chaer\\anaconda3\\lib\\site-packages (0.11.5)\n",
      "Requirement already satisfied: six in c:\\users\\chaer\\anaconda3\\lib\\site-packages (from ggplot) (1.16.0)\n",
      "Requirement already satisfied: cycler in c:\\users\\chaer\\anaconda3\\lib\\site-packages (from ggplot) (0.11.0)\n",
      "Requirement already satisfied: statsmodels in c:\\users\\chaer\\anaconda3\\lib\\site-packages (from ggplot) (0.13.2)\n",
      "Requirement already satisfied: brewer2mpl in c:\\users\\chaer\\anaconda3\\lib\\site-packages (from ggplot) (1.4.1)\n",
      "Requirement already satisfied: matplotlib in c:\\users\\chaer\\anaconda3\\lib\\site-packages (from ggplot) (3.5.2)\n",
      "Requirement already satisfied: pandas in c:\\users\\chaer\\anaconda3\\lib\\site-packages (from ggplot) (1.4.4)\n",
      "Requirement already satisfied: scipy in c:\\users\\chaer\\anaconda3\\lib\\site-packages (from ggplot) (1.9.1)\n",
      "Requirement already satisfied: numpy in c:\\users\\chaer\\anaconda3\\lib\\site-packages (from ggplot) (1.21.5)\n",
      "Requirement already satisfied: patsy>=0.4 in c:\\users\\chaer\\anaconda3\\lib\\site-packages (from ggplot) (0.5.2)\n",
      "Requirement already satisfied: pillow>=6.2.0 in c:\\users\\chaer\\anaconda3\\lib\\site-packages (from matplotlib->ggplot) (9.2.0)\n",
      "Requirement already satisfied: packaging>=20.0 in c:\\users\\chaer\\anaconda3\\lib\\site-packages (from matplotlib->ggplot) (21.3)\n",
      "Requirement already satisfied: python-dateutil>=2.7 in c:\\users\\chaer\\anaconda3\\lib\\site-packages (from matplotlib->ggplot) (2.8.2)\n",
      "Requirement already satisfied: pyparsing>=2.2.1 in c:\\users\\chaer\\anaconda3\\lib\\site-packages (from matplotlib->ggplot) (3.0.9)\n",
      "Requirement already satisfied: fonttools>=4.22.0 in c:\\users\\chaer\\anaconda3\\lib\\site-packages (from matplotlib->ggplot) (4.25.0)\n",
      "Requirement already satisfied: kiwisolver>=1.0.1 in c:\\users\\chaer\\anaconda3\\lib\\site-packages (from matplotlib->ggplot) (1.4.2)\n",
      "Requirement already satisfied: pytz>=2020.1 in c:\\users\\chaer\\anaconda3\\lib\\site-packages (from pandas->ggplot) (2022.1)\n",
      "Note: you may need to restart the kernel to use updated packages.\n"
     ]
    }
   ],
   "source": [
    "pip install ggplot"
   ]
  }
 ],
 "metadata": {
  "kernelspec": {
   "display_name": "Python 3 (ipykernel)",
   "language": "python",
   "name": "python3"
  },
  "language_info": {
   "codemirror_mode": {
    "name": "ipython",
    "version": 3
   },
   "file_extension": ".py",
   "mimetype": "text/x-python",
   "name": "python",
   "nbconvert_exporter": "python",
   "pygments_lexer": "ipython3",
   "version": "3.9.13"
  }
 },
 "nbformat": 4,
 "nbformat_minor": 5
}
