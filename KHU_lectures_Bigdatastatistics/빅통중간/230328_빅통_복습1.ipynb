{
 "cells": [
  {
   "cell_type": "code",
   "execution_count": 1,
   "id": "d6f5551f",
   "metadata": {},
   "outputs": [],
   "source": [
    "import pandas as pd\n",
    "import numpy as np\n",
    "import seaborn as sns\n",
    "import matplotlib.pyplot as plt\n",
    "import statsmodels.api as sm\n",
    "from sklearn.model_selection import train_test_split\n",
    "import warnings\n",
    "warnings.filterwarnings(\"ignore\")"
   ]
  },
  {
   "cell_type": "code",
   "execution_count": 5,
   "id": "39f2a3ef",
   "metadata": {},
   "outputs": [
    {
     "data": {
      "text/plain": [
       "0.005758517810223818"
      ]
     },
     "execution_count": 5,
     "metadata": {},
     "output_type": "execute_result"
    }
   ],
   "source": [
    "y=np.exp(-10.6513+0.0055*1000)/(1+np.exp(-10.6513+0.0055*1000))\n",
    "y"
   ]
  },
  {
   "cell_type": "code",
   "execution_count": null,
   "id": "918afaad",
   "metadata": {},
   "outputs": [],
   "source": []
  },
  {
   "cell_type": "code",
   "execution_count": 2,
   "id": "9362f51b",
   "metadata": {},
   "outputs": [],
   "source": [
    "#lec 3, Model 2 해보기"
   ]
  },
  {
   "cell_type": "code",
   "execution_count": 3,
   "id": "2345b20c",
   "metadata": {},
   "outputs": [
    {
     "data": {
      "text/plain": [
       "0      3.178054\n",
       "1      3.072647\n",
       "2      3.546740\n",
       "3      3.508556\n",
       "4      3.589032\n",
       "         ...   \n",
       "501    3.109061\n",
       "502    3.025291\n",
       "503    3.173837\n",
       "504    3.091042\n",
       "505    2.476538\n",
       "Name: price, Length: 506, dtype: float64"
      ]
     },
     "execution_count": 3,
     "metadata": {},
     "output_type": "execute_result"
    }
   ],
   "source": [
    "file1=\"c:/temp/B_data2_1.csv\"\n",
    "data2=pd.read_csv(file1)\n",
    "y=data2['price']\n",
    "x=data2['crime']\n",
    "X=sm.add_constant(x)\n",
    "y1=np.log(y)\n",
    "y1"
   ]
  },
  {
   "cell_type": "code",
   "execution_count": 4,
   "id": "c8a56c69",
   "metadata": {},
   "outputs": [
    {
     "data": {
      "text/html": [
       "<table class=\"simpletable\">\n",
       "<caption>OLS Regression Results</caption>\n",
       "<tr>\n",
       "  <th>Dep. Variable:</th>          <td>price</td>      <th>  R-squared:         </th> <td>   0.278</td>\n",
       "</tr>\n",
       "<tr>\n",
       "  <th>Model:</th>                   <td>OLS</td>       <th>  Adj. R-squared:    </th> <td>   0.277</td>\n",
       "</tr>\n",
       "<tr>\n",
       "  <th>Method:</th>             <td>Least Squares</td>  <th>  F-statistic:       </th> <td>   194.3</td>\n",
       "</tr>\n",
       "<tr>\n",
       "  <th>Date:</th>             <td>Tue, 28 Mar 2023</td> <th>  Prob (F-statistic):</th> <td>1.38e-37</td>\n",
       "</tr>\n",
       "<tr>\n",
       "  <th>Time:</th>                 <td>17:12:58</td>     <th>  Log-Likelihood:    </th> <td> -182.92</td>\n",
       "</tr>\n",
       "<tr>\n",
       "  <th>No. Observations:</th>      <td>   506</td>      <th>  AIC:               </th> <td>   369.8</td>\n",
       "</tr>\n",
       "<tr>\n",
       "  <th>Df Residuals:</th>          <td>   504</td>      <th>  BIC:               </th> <td>   378.3</td>\n",
       "</tr>\n",
       "<tr>\n",
       "  <th>Df Model:</th>              <td>     1</td>      <th>                     </th>     <td> </td>   \n",
       "</tr>\n",
       "<tr>\n",
       "  <th>Covariance Type:</th>      <td>nonrobust</td>    <th>                     </th>     <td> </td>   \n",
       "</tr>\n",
       "</table>\n",
       "<table class=\"simpletable\">\n",
       "<tr>\n",
       "    <td></td>       <th>coef</th>     <th>std err</th>      <th>t</th>      <th>P>|t|</th>  <th>[0.025</th>    <th>0.975]</th>  \n",
       "</tr>\n",
       "<tr>\n",
       "  <th>const</th> <td>    3.1241</td> <td>    0.017</td> <td>  186.110</td> <td> 0.000</td> <td>    3.091</td> <td>    3.157</td>\n",
       "</tr>\n",
       "<tr>\n",
       "  <th>crime</th> <td>   -0.0251</td> <td>    0.002</td> <td>  -13.939</td> <td> 0.000</td> <td>   -0.029</td> <td>   -0.022</td>\n",
       "</tr>\n",
       "</table>\n",
       "<table class=\"simpletable\">\n",
       "<tr>\n",
       "  <th>Omnibus:</th>       <td>29.115</td> <th>  Durbin-Watson:     </th> <td>   0.743</td>\n",
       "</tr>\n",
       "<tr>\n",
       "  <th>Prob(Omnibus):</th> <td> 0.000</td> <th>  Jarque-Bera (JB):  </th> <td>  41.923</td>\n",
       "</tr>\n",
       "<tr>\n",
       "  <th>Skew:</th>          <td> 0.455</td> <th>  Prob(JB):          </th> <td>7.88e-10</td>\n",
       "</tr>\n",
       "<tr>\n",
       "  <th>Kurtosis:</th>      <td> 4.076</td> <th>  Cond. No.          </th> <td>    10.1</td>\n",
       "</tr>\n",
       "</table><br/><br/>Notes:<br/>[1] Standard Errors assume that the covariance matrix of the errors is correctly specified."
      ],
      "text/plain": [
       "<class 'statsmodels.iolib.summary.Summary'>\n",
       "\"\"\"\n",
       "                            OLS Regression Results                            \n",
       "==============================================================================\n",
       "Dep. Variable:                  price   R-squared:                       0.278\n",
       "Model:                            OLS   Adj. R-squared:                  0.277\n",
       "Method:                 Least Squares   F-statistic:                     194.3\n",
       "Date:                Tue, 28 Mar 2023   Prob (F-statistic):           1.38e-37\n",
       "Time:                        17:12:58   Log-Likelihood:                -182.92\n",
       "No. Observations:                 506   AIC:                             369.8\n",
       "Df Residuals:                     504   BIC:                             378.3\n",
       "Df Model:                           1                                         \n",
       "Covariance Type:            nonrobust                                         \n",
       "==============================================================================\n",
       "                 coef    std err          t      P>|t|      [0.025      0.975]\n",
       "------------------------------------------------------------------------------\n",
       "const          3.1241      0.017    186.110      0.000       3.091       3.157\n",
       "crime         -0.0251      0.002    -13.939      0.000      -0.029      -0.022\n",
       "==============================================================================\n",
       "Omnibus:                       29.115   Durbin-Watson:                   0.743\n",
       "Prob(Omnibus):                  0.000   Jarque-Bera (JB):               41.923\n",
       "Skew:                           0.455   Prob(JB):                     7.88e-10\n",
       "Kurtosis:                       4.076   Cond. No.                         10.1\n",
       "==============================================================================\n",
       "\n",
       "Notes:\n",
       "[1] Standard Errors assume that the covariance matrix of the errors is correctly specified.\n",
       "\"\"\""
      ]
     },
     "execution_count": 4,
     "metadata": {},
     "output_type": "execute_result"
    }
   ],
   "source": [
    "result1=sm.OLS(y1,X).fit()\n",
    "result1.summary()"
   ]
  },
  {
   "cell_type": "code",
   "execution_count": null,
   "id": "6037d2c5",
   "metadata": {},
   "outputs": [],
   "source": [
    "yhat_log=result1.predict(X)\n",
    "sigma1_hat=sum((y1-yhat_log)**2)/(506-2) \n",
    "#아 이거 아니다."
   ]
  }
 ],
 "metadata": {
  "kernelspec": {
   "display_name": "Python 3 (ipykernel)",
   "language": "python",
   "name": "python3"
  },
  "language_info": {
   "codemirror_mode": {
    "name": "ipython",
    "version": 3
   },
   "file_extension": ".py",
   "mimetype": "text/x-python",
   "name": "python",
   "nbconvert_exporter": "python",
   "pygments_lexer": "ipython3",
   "version": "3.9.13"
  }
 },
 "nbformat": 4,
 "nbformat_minor": 5
}
