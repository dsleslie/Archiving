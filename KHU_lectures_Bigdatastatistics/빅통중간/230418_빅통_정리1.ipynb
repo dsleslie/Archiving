{
 "cells": [
  {
   "cell_type": "code",
   "execution_count": 3,
   "id": "98eb588e",
   "metadata": {},
   "outputs": [],
   "source": [
    "import pandas as pd\n",
    "import numpy as np\n",
    "import seaborn as sns\n",
    "import matplotlib.pyplot as plt\n",
    "import statsmodels.api as sm\n",
    "from sklearn.model_selection import train_test_split\n",
    "import warnings\n",
    "warnings.filterwarnings(\"ignore\")\n",
    "\n",
    "from ggplot import *\n",
    "from scipy.stats import logistic\n",
    "from sklearn.metrics import roc_curve\n",
    "from sklearn.metrics import roc_auc_score\n",
    "from sklearn.linear_model import LogisticRegression\n",
    "from sklearn.metrics import confusion_matrix\n",
    "from sklearn.model_selection import train_test_split"
   ]
  },
  {
   "cell_type": "code",
   "execution_count": 4,
   "id": "c14aefa4",
   "metadata": {},
   "outputs": [],
   "source": [
    "#파일 열기\n",
    "\n",
    "#file1=\"c:/temp/Auto.csv\"\n",
    "#Auto=pd.read_csv(file1)\n",
    "#Auto 까지 하면 파일 보임"
   ]
  },
  {
   "cell_type": "code",
   "execution_count": null,
   "id": "e924bbcd",
   "metadata": {},
   "outputs": [],
   "source": []
  }
 ],
 "metadata": {
  "kernelspec": {
   "display_name": "Python 3 (ipykernel)",
   "language": "python",
   "name": "python3"
  },
  "language_info": {
   "codemirror_mode": {
    "name": "ipython",
    "version": 3
   },
   "file_extension": ".py",
   "mimetype": "text/x-python",
   "name": "python",
   "nbconvert_exporter": "python",
   "pygments_lexer": "ipython3",
   "version": "3.9.13"
  }
 },
 "nbformat": 4,
 "nbformat_minor": 5
}
