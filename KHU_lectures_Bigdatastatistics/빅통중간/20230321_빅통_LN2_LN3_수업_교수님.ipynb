{
 "cells": [
  {
   "cell_type": "markdown",
   "id": "826f486a",
   "metadata": {},
   "source": [
    "## Lecture Note 2 and 3"
   ]
  },
  {
   "cell_type": "code",
   "execution_count": 2,
   "id": "a708a024",
   "metadata": {},
   "outputs": [],
   "source": [
    "import pandas as pd\n",
    "import matplotlib.pyplot as plt\n",
    "import seaborn as sns \n",
    "import warnings\n",
    "warnings.filterwarnings(\"ignore\")"
   ]
  },
  {
   "cell_type": "code",
   "execution_count": 4,
   "id": "eefb6dbb",
   "metadata": {},
   "outputs": [
    {
     "data": {
      "text/html": [
       "<div>\n",
       "<style scoped>\n",
       "    .dataframe tbody tr th:only-of-type {\n",
       "        vertical-align: middle;\n",
       "    }\n",
       "\n",
       "    .dataframe tbody tr th {\n",
       "        vertical-align: top;\n",
       "    }\n",
       "\n",
       "    .dataframe thead th {\n",
       "        text-align: right;\n",
       "    }\n",
       "</style>\n",
       "<table border=\"1\" class=\"dataframe\">\n",
       "  <thead>\n",
       "    <tr style=\"text-align: right;\">\n",
       "      <th></th>\n",
       "      <th>AA</th>\n",
       "      <th>AS</th>\n",
       "      <th>B6</th>\n",
       "      <th>DL</th>\n",
       "      <th>EV</th>\n",
       "      <th>F9</th>\n",
       "      <th>HA</th>\n",
       "      <th>MQ</th>\n",
       "      <th>NK</th>\n",
       "      <th>OO</th>\n",
       "      <th>UA</th>\n",
       "      <th>US</th>\n",
       "      <th>VX</th>\n",
       "      <th>WN</th>\n",
       "    </tr>\n",
       "    <tr>\n",
       "      <th>Month</th>\n",
       "      <th></th>\n",
       "      <th></th>\n",
       "      <th></th>\n",
       "      <th></th>\n",
       "      <th></th>\n",
       "      <th></th>\n",
       "      <th></th>\n",
       "      <th></th>\n",
       "      <th></th>\n",
       "      <th></th>\n",
       "      <th></th>\n",
       "      <th></th>\n",
       "      <th></th>\n",
       "      <th></th>\n",
       "    </tr>\n",
       "  </thead>\n",
       "  <tbody>\n",
       "    <tr>\n",
       "      <th>1</th>\n",
       "      <td>6.955843</td>\n",
       "      <td>-0.320888</td>\n",
       "      <td>7.347281</td>\n",
       "      <td>-2.043847</td>\n",
       "      <td>8.537497</td>\n",
       "      <td>18.357238</td>\n",
       "      <td>3.512640</td>\n",
       "      <td>18.164974</td>\n",
       "      <td>11.398054</td>\n",
       "      <td>10.889894</td>\n",
       "      <td>6.352729</td>\n",
       "      <td>3.107457</td>\n",
       "      <td>1.420702</td>\n",
       "      <td>3.389466</td>\n",
       "    </tr>\n",
       "    <tr>\n",
       "      <th>2</th>\n",
       "      <td>7.530204</td>\n",
       "      <td>-0.782923</td>\n",
       "      <td>18.657673</td>\n",
       "      <td>5.614745</td>\n",
       "      <td>10.417236</td>\n",
       "      <td>27.424179</td>\n",
       "      <td>6.029967</td>\n",
       "      <td>21.301627</td>\n",
       "      <td>16.474466</td>\n",
       "      <td>9.588895</td>\n",
       "      <td>7.260662</td>\n",
       "      <td>7.114455</td>\n",
       "      <td>7.784410</td>\n",
       "      <td>3.501363</td>\n",
       "    </tr>\n",
       "    <tr>\n",
       "      <th>3</th>\n",
       "      <td>6.693587</td>\n",
       "      <td>-0.544731</td>\n",
       "      <td>10.741317</td>\n",
       "      <td>2.077965</td>\n",
       "      <td>6.730101</td>\n",
       "      <td>20.074855</td>\n",
       "      <td>3.468383</td>\n",
       "      <td>11.018418</td>\n",
       "      <td>10.039118</td>\n",
       "      <td>3.181693</td>\n",
       "      <td>4.892212</td>\n",
       "      <td>3.330787</td>\n",
       "      <td>5.348207</td>\n",
       "      <td>3.263341</td>\n",
       "    </tr>\n",
       "    <tr>\n",
       "      <th>4</th>\n",
       "      <td>4.931778</td>\n",
       "      <td>-3.009003</td>\n",
       "      <td>2.780105</td>\n",
       "      <td>0.083343</td>\n",
       "      <td>4.821253</td>\n",
       "      <td>12.640440</td>\n",
       "      <td>0.011022</td>\n",
       "      <td>5.131228</td>\n",
       "      <td>8.766224</td>\n",
       "      <td>3.223796</td>\n",
       "      <td>4.376092</td>\n",
       "      <td>2.660290</td>\n",
       "      <td>0.995507</td>\n",
       "      <td>2.996399</td>\n",
       "    </tr>\n",
       "    <tr>\n",
       "      <th>5</th>\n",
       "      <td>5.173878</td>\n",
       "      <td>-1.716398</td>\n",
       "      <td>-0.709019</td>\n",
       "      <td>0.149333</td>\n",
       "      <td>7.724290</td>\n",
       "      <td>13.007554</td>\n",
       "      <td>0.826426</td>\n",
       "      <td>5.466790</td>\n",
       "      <td>22.397347</td>\n",
       "      <td>4.141162</td>\n",
       "      <td>6.827695</td>\n",
       "      <td>0.681605</td>\n",
       "      <td>7.102021</td>\n",
       "      <td>5.680777</td>\n",
       "    </tr>\n",
       "    <tr>\n",
       "      <th>6</th>\n",
       "      <td>8.191017</td>\n",
       "      <td>-0.220621</td>\n",
       "      <td>5.047155</td>\n",
       "      <td>4.419594</td>\n",
       "      <td>13.952793</td>\n",
       "      <td>19.712951</td>\n",
       "      <td>0.882786</td>\n",
       "      <td>9.639323</td>\n",
       "      <td>35.561501</td>\n",
       "      <td>8.338477</td>\n",
       "      <td>16.932663</td>\n",
       "      <td>5.766296</td>\n",
       "      <td>5.779415</td>\n",
       "      <td>10.743462</td>\n",
       "    </tr>\n",
       "    <tr>\n",
       "      <th>7</th>\n",
       "      <td>3.870440</td>\n",
       "      <td>0.377408</td>\n",
       "      <td>5.841454</td>\n",
       "      <td>1.204862</td>\n",
       "      <td>6.926421</td>\n",
       "      <td>14.464543</td>\n",
       "      <td>2.001586</td>\n",
       "      <td>3.980289</td>\n",
       "      <td>14.352382</td>\n",
       "      <td>6.790333</td>\n",
       "      <td>10.262551</td>\n",
       "      <td>NaN</td>\n",
       "      <td>7.135773</td>\n",
       "      <td>10.504942</td>\n",
       "    </tr>\n",
       "    <tr>\n",
       "      <th>8</th>\n",
       "      <td>3.193907</td>\n",
       "      <td>2.503899</td>\n",
       "      <td>9.280950</td>\n",
       "      <td>0.653114</td>\n",
       "      <td>5.154422</td>\n",
       "      <td>9.175737</td>\n",
       "      <td>7.448029</td>\n",
       "      <td>1.896565</td>\n",
       "      <td>20.519018</td>\n",
       "      <td>5.606689</td>\n",
       "      <td>5.014041</td>\n",
       "      <td>NaN</td>\n",
       "      <td>5.106221</td>\n",
       "      <td>5.532108</td>\n",
       "    </tr>\n",
       "    <tr>\n",
       "      <th>9</th>\n",
       "      <td>-1.432732</td>\n",
       "      <td>-1.813800</td>\n",
       "      <td>3.539154</td>\n",
       "      <td>-3.703377</td>\n",
       "      <td>0.851062</td>\n",
       "      <td>0.978460</td>\n",
       "      <td>3.696915</td>\n",
       "      <td>-2.167268</td>\n",
       "      <td>8.000101</td>\n",
       "      <td>1.530896</td>\n",
       "      <td>-1.794265</td>\n",
       "      <td>NaN</td>\n",
       "      <td>0.070998</td>\n",
       "      <td>-1.336260</td>\n",
       "    </tr>\n",
       "    <tr>\n",
       "      <th>10</th>\n",
       "      <td>-0.580930</td>\n",
       "      <td>-2.993617</td>\n",
       "      <td>3.676787</td>\n",
       "      <td>-5.011516</td>\n",
       "      <td>2.303760</td>\n",
       "      <td>0.082127</td>\n",
       "      <td>0.467074</td>\n",
       "      <td>-3.735054</td>\n",
       "      <td>6.810736</td>\n",
       "      <td>1.750897</td>\n",
       "      <td>-2.456542</td>\n",
       "      <td>NaN</td>\n",
       "      <td>2.254278</td>\n",
       "      <td>-0.688851</td>\n",
       "    </tr>\n",
       "    <tr>\n",
       "      <th>11</th>\n",
       "      <td>0.772630</td>\n",
       "      <td>-1.916516</td>\n",
       "      <td>1.418299</td>\n",
       "      <td>-3.175414</td>\n",
       "      <td>4.415930</td>\n",
       "      <td>11.164527</td>\n",
       "      <td>-2.719894</td>\n",
       "      <td>0.220061</td>\n",
       "      <td>7.543881</td>\n",
       "      <td>4.925548</td>\n",
       "      <td>0.281064</td>\n",
       "      <td>NaN</td>\n",
       "      <td>0.116370</td>\n",
       "      <td>0.995684</td>\n",
       "    </tr>\n",
       "    <tr>\n",
       "      <th>12</th>\n",
       "      <td>4.149684</td>\n",
       "      <td>-1.846681</td>\n",
       "      <td>13.839290</td>\n",
       "      <td>2.504595</td>\n",
       "      <td>6.685176</td>\n",
       "      <td>9.346221</td>\n",
       "      <td>-1.706475</td>\n",
       "      <td>0.662486</td>\n",
       "      <td>12.733123</td>\n",
       "      <td>10.947612</td>\n",
       "      <td>7.012079</td>\n",
       "      <td>NaN</td>\n",
       "      <td>13.498720</td>\n",
       "      <td>6.720893</td>\n",
       "    </tr>\n",
       "  </tbody>\n",
       "</table>\n",
       "</div>"
      ],
      "text/plain": [
       "             AA        AS         B6        DL         EV         F9  \\\n",
       "Month                                                                  \n",
       "1      6.955843 -0.320888   7.347281 -2.043847   8.537497  18.357238   \n",
       "2      7.530204 -0.782923  18.657673  5.614745  10.417236  27.424179   \n",
       "3      6.693587 -0.544731  10.741317  2.077965   6.730101  20.074855   \n",
       "4      4.931778 -3.009003   2.780105  0.083343   4.821253  12.640440   \n",
       "5      5.173878 -1.716398  -0.709019  0.149333   7.724290  13.007554   \n",
       "6      8.191017 -0.220621   5.047155  4.419594  13.952793  19.712951   \n",
       "7      3.870440  0.377408   5.841454  1.204862   6.926421  14.464543   \n",
       "8      3.193907  2.503899   9.280950  0.653114   5.154422   9.175737   \n",
       "9     -1.432732 -1.813800   3.539154 -3.703377   0.851062   0.978460   \n",
       "10    -0.580930 -2.993617   3.676787 -5.011516   2.303760   0.082127   \n",
       "11     0.772630 -1.916516   1.418299 -3.175414   4.415930  11.164527   \n",
       "12     4.149684 -1.846681  13.839290  2.504595   6.685176   9.346221   \n",
       "\n",
       "             HA         MQ         NK         OO         UA        US  \\\n",
       "Month                                                                   \n",
       "1      3.512640  18.164974  11.398054  10.889894   6.352729  3.107457   \n",
       "2      6.029967  21.301627  16.474466   9.588895   7.260662  7.114455   \n",
       "3      3.468383  11.018418  10.039118   3.181693   4.892212  3.330787   \n",
       "4      0.011022   5.131228   8.766224   3.223796   4.376092  2.660290   \n",
       "5      0.826426   5.466790  22.397347   4.141162   6.827695  0.681605   \n",
       "6      0.882786   9.639323  35.561501   8.338477  16.932663  5.766296   \n",
       "7      2.001586   3.980289  14.352382   6.790333  10.262551       NaN   \n",
       "8      7.448029   1.896565  20.519018   5.606689   5.014041       NaN   \n",
       "9      3.696915  -2.167268   8.000101   1.530896  -1.794265       NaN   \n",
       "10     0.467074  -3.735054   6.810736   1.750897  -2.456542       NaN   \n",
       "11    -2.719894   0.220061   7.543881   4.925548   0.281064       NaN   \n",
       "12    -1.706475   0.662486  12.733123  10.947612   7.012079       NaN   \n",
       "\n",
       "              VX         WN  \n",
       "Month                        \n",
       "1       1.420702   3.389466  \n",
       "2       7.784410   3.501363  \n",
       "3       5.348207   3.263341  \n",
       "4       0.995507   2.996399  \n",
       "5       7.102021   5.680777  \n",
       "6       5.779415  10.743462  \n",
       "7       7.135773  10.504942  \n",
       "8       5.106221   5.532108  \n",
       "9       0.070998  -1.336260  \n",
       "10      2.254278  -0.688851  \n",
       "11      0.116370   0.995684  \n",
       "12     13.498720   6.720893  "
      ]
     },
     "execution_count": 4,
     "metadata": {},
     "output_type": "execute_result"
    }
   ],
   "source": [
    "# Bar chart : sns.barplot \n",
    "file1=\"c:/temp100/flight_delays.csv\"\n",
    "flight_delays=pd.read_csv(file1, index_col=\"Month\")  # Month index column \n",
    "flight_delays\n"
   ]
  },
  {
   "cell_type": "code",
   "execution_count": 7,
   "id": "0fe6c108",
   "metadata": {},
   "outputs": [
    {
     "data": {
      "image/png": "[encoded data removed]",
      "text/plain": [
       "<Figure size 432x288 with 1 Axes>"
      ]
     },
     "metadata": {
      "needs_background": "light"
     },
     "output_type": "display_data"
    }
   ],
   "source": [
    "sns.barplot(x=flight_delays.index, y=flight_delays['NK'])\n",
    "plt.show()"
   ]
  },
  {
   "cell_type": "code",
   "execution_count": 9,
   "id": "2638b36b",
   "metadata": {},
   "outputs": [
    {
     "data": {
      "text/plain": [
       "<AxesSubplot:ylabel='Month'>"
      ]
     },
     "execution_count": 9,
     "metadata": {},
     "output_type": "execute_result"
    },
    {
     "data": {
      "image/png": "[encoded data removed]",
      "text/plain": [
       "<Figure size 432x288 with 2 Axes>"
      ]
     },
     "metadata": {
      "needs_background": "light"
     },
     "output_type": "display_data"
    }
   ],
   "source": [
    "sns.heatmap(data=flight_delays, annot=True)"
   ]
  },
  {
   "cell_type": "markdown",
   "id": "13a6ae7c",
   "metadata": {},
   "source": [
    "### Python에서 그래프 library 3가지: matplotlib.pyplot, seaborn, ggplot "
   ]
  },
  {
   "cell_type": "markdown",
   "id": "5e59c2ea",
   "metadata": {},
   "source": [
    "## Lecture Note 3 : Linear Regression\n",
    "### supervised learning vs. unsupervised learning \n"
   ]
  },
  {
   "cell_type": "code",
   "execution_count": 10,
   "id": "934410a1",
   "metadata": {},
   "outputs": [
    {
     "data": {
      "text/html": [
       "<div>\n",
       "<style scoped>\n",
       "    .dataframe tbody tr th:only-of-type {\n",
       "        vertical-align: middle;\n",
       "    }\n",
       "\n",
       "    .dataframe tbody tr th {\n",
       "        vertical-align: top;\n",
       "    }\n",
       "\n",
       "    .dataframe thead th {\n",
       "        text-align: right;\n",
       "    }\n",
       "</style>\n",
       "<table border=\"1\" class=\"dataframe\">\n",
       "  <thead>\n",
       "    <tr style=\"text-align: right;\">\n",
       "      <th></th>\n",
       "      <th>price</th>\n",
       "      <th>crime</th>\n",
       "      <th>nox</th>\n",
       "      <th>rooms</th>\n",
       "      <th>dist</th>\n",
       "      <th>radial</th>\n",
       "      <th>proptax</th>\n",
       "      <th>stratio</th>\n",
       "      <th>lowstat</th>\n",
       "    </tr>\n",
       "  </thead>\n",
       "  <tbody>\n",
       "    <tr>\n",
       "      <th>0</th>\n",
       "      <td>24.000000</td>\n",
       "      <td>0.006</td>\n",
       "      <td>5.38</td>\n",
       "      <td>6.57</td>\n",
       "      <td>4.09</td>\n",
       "      <td>0</td>\n",
       "      <td>29.600000</td>\n",
       "      <td>15.300000</td>\n",
       "      <td>4.98</td>\n",
       "    </tr>\n",
       "    <tr>\n",
       "      <th>1</th>\n",
       "      <td>21.599001</td>\n",
       "      <td>0.027</td>\n",
       "      <td>4.69</td>\n",
       "      <td>6.42</td>\n",
       "      <td>4.97</td>\n",
       "      <td>0</td>\n",
       "      <td>24.200001</td>\n",
       "      <td>17.799999</td>\n",
       "      <td>9.14</td>\n",
       "    </tr>\n",
       "    <tr>\n",
       "      <th>2</th>\n",
       "      <td>34.700001</td>\n",
       "      <td>0.027</td>\n",
       "      <td>4.69</td>\n",
       "      <td>7.18</td>\n",
       "      <td>4.97</td>\n",
       "      <td>0</td>\n",
       "      <td>24.200001</td>\n",
       "      <td>17.799999</td>\n",
       "      <td>4.03</td>\n",
       "    </tr>\n",
       "    <tr>\n",
       "      <th>3</th>\n",
       "      <td>33.400002</td>\n",
       "      <td>0.032</td>\n",
       "      <td>4.58</td>\n",
       "      <td>7.00</td>\n",
       "      <td>6.06</td>\n",
       "      <td>0</td>\n",
       "      <td>22.200001</td>\n",
       "      <td>18.700001</td>\n",
       "      <td>2.94</td>\n",
       "    </tr>\n",
       "    <tr>\n",
       "      <th>4</th>\n",
       "      <td>36.199001</td>\n",
       "      <td>0.069</td>\n",
       "      <td>4.58</td>\n",
       "      <td>7.15</td>\n",
       "      <td>6.06</td>\n",
       "      <td>0</td>\n",
       "      <td>22.200001</td>\n",
       "      <td>18.700001</td>\n",
       "      <td>5.33</td>\n",
       "    </tr>\n",
       "    <tr>\n",
       "      <th>...</th>\n",
       "      <td>...</td>\n",
       "      <td>...</td>\n",
       "      <td>...</td>\n",
       "      <td>...</td>\n",
       "      <td>...</td>\n",
       "      <td>...</td>\n",
       "      <td>...</td>\n",
       "      <td>...</td>\n",
       "      <td>...</td>\n",
       "    </tr>\n",
       "    <tr>\n",
       "      <th>501</th>\n",
       "      <td>22.400000</td>\n",
       "      <td>0.063</td>\n",
       "      <td>5.73</td>\n",
       "      <td>6.59</td>\n",
       "      <td>2.48</td>\n",
       "      <td>0</td>\n",
       "      <td>27.299999</td>\n",
       "      <td>21.000000</td>\n",
       "      <td>9.67</td>\n",
       "    </tr>\n",
       "    <tr>\n",
       "      <th>502</th>\n",
       "      <td>20.600000</td>\n",
       "      <td>0.045</td>\n",
       "      <td>5.73</td>\n",
       "      <td>6.12</td>\n",
       "      <td>2.29</td>\n",
       "      <td>0</td>\n",
       "      <td>27.299999</td>\n",
       "      <td>21.000000</td>\n",
       "      <td>9.08</td>\n",
       "    </tr>\n",
       "    <tr>\n",
       "      <th>503</th>\n",
       "      <td>23.899000</td>\n",
       "      <td>0.061</td>\n",
       "      <td>5.73</td>\n",
       "      <td>6.98</td>\n",
       "      <td>2.17</td>\n",
       "      <td>0</td>\n",
       "      <td>27.299999</td>\n",
       "      <td>21.000000</td>\n",
       "      <td>5.64</td>\n",
       "    </tr>\n",
       "    <tr>\n",
       "      <th>504</th>\n",
       "      <td>22.000000</td>\n",
       "      <td>0.110</td>\n",
       "      <td>5.73</td>\n",
       "      <td>6.79</td>\n",
       "      <td>2.39</td>\n",
       "      <td>0</td>\n",
       "      <td>27.299999</td>\n",
       "      <td>21.000000</td>\n",
       "      <td>6.48</td>\n",
       "    </tr>\n",
       "    <tr>\n",
       "      <th>505</th>\n",
       "      <td>11.900000</td>\n",
       "      <td>0.047</td>\n",
       "      <td>5.73</td>\n",
       "      <td>6.03</td>\n",
       "      <td>2.51</td>\n",
       "      <td>0</td>\n",
       "      <td>27.299999</td>\n",
       "      <td>21.000000</td>\n",
       "      <td>7.88</td>\n",
       "    </tr>\n",
       "  </tbody>\n",
       "</table>\n",
       "<p>506 rows × 9 columns</p>\n",
       "</div>"
      ],
      "text/plain": [
       "         price  crime   nox  rooms  dist  radial    proptax    stratio  \\\n",
       "0    24.000000  0.006  5.38   6.57  4.09       0  29.600000  15.300000   \n",
       "1    21.599001  0.027  4.69   6.42  4.97       0  24.200001  17.799999   \n",
       "2    34.700001  0.027  4.69   7.18  4.97       0  24.200001  17.799999   \n",
       "3    33.400002  0.032  4.58   7.00  6.06       0  22.200001  18.700001   \n",
       "4    36.199001  0.069  4.58   7.15  6.06       0  22.200001  18.700001   \n",
       "..         ...    ...   ...    ...   ...     ...        ...        ...   \n",
       "501  22.400000  0.063  5.73   6.59  2.48       0  27.299999  21.000000   \n",
       "502  20.600000  0.045  5.73   6.12  2.29       0  27.299999  21.000000   \n",
       "503  23.899000  0.061  5.73   6.98  2.17       0  27.299999  21.000000   \n",
       "504  22.000000  0.110  5.73   6.79  2.39       0  27.299999  21.000000   \n",
       "505  11.900000  0.047  5.73   6.03  2.51       0  27.299999  21.000000   \n",
       "\n",
       "     lowstat  \n",
       "0       4.98  \n",
       "1       9.14  \n",
       "2       4.03  \n",
       "3       2.94  \n",
       "4       5.33  \n",
       "..       ...  \n",
       "501     9.67  \n",
       "502     9.08  \n",
       "503     5.64  \n",
       "504     6.48  \n",
       "505     7.88  \n",
       "\n",
       "[506 rows x 9 columns]"
      ]
     },
     "execution_count": 10,
     "metadata": {},
     "output_type": "execute_result"
    }
   ],
   "source": [
    "# data file: B_data2_1.csv\n",
    "file2=\"c:/temp100/B_data2_1.csv\"\n",
    "data2=pd.read_csv(file2)\n",
    "data2"
   ]
  },
  {
   "cell_type": "code",
   "execution_count": 15,
   "id": "09cf8af3",
   "metadata": {
    "collapsed": true
   },
   "outputs": [
    {
     "name": "stdout",
     "output_type": "stream",
     "text": [
      "Requirement already satisfied: statsmodels in c:\\users\\housi\\anaconda3\\lib\\site-packages (0.13.2)Note: you may need to restart the kernel to use updated packages.\n",
      "Requirement already satisfied: numpy>=1.17 in c:\\users\\housi\\anaconda3\\lib\\site-packages (from statsmodels) (1.21.5)\n",
      "Requirement already satisfied: scipy>=1.3 in c:\\users\\housi\\anaconda3\\lib\\site-packages (from statsmodels) (1.7.3)\n",
      "Requirement already satisfied: pandas>=0.25 in c:\\users\\housi\\anaconda3\\lib\\site-packages (from statsmodels) (1.4.2)\n",
      "Requirement already satisfied: patsy>=0.5.2 in c:\\users\\housi\\anaconda3\\lib\\site-packages (from statsmodels) (0.5.2)\n",
      "Requirement already satisfied: packaging>=21.3 in c:\\users\\housi\\anaconda3\\lib\\site-packages (from statsmodels) (21.3)\n",
      "Requirement already satisfied: pyparsing!=3.0.5,>=2.0.2 in c:\\users\\housi\\anaconda3\\lib\\site-packages (from packaging>=21.3->statsmodels) (3.0.4)\n",
      "Requirement already satisfied: python-dateutil>=2.8.1 in c:\\users\\housi\\anaconda3\\lib\\site-packages (from pandas>=0.25->statsmodels) (2.8.2)\n",
      "Requirement already satisfied: pytz>=2020.1 in c:\\users\\housi\\anaconda3\\lib\\site-packages (from pandas>=0.25->statsmodels) (2022.7.1)\n",
      "Requirement already satisfied: six in c:\\users\\housi\\anaconda3\\lib\\site-packages (from patsy>=0.5.2->statsmodels) (1.16.0)\n",
      "\n"
     ]
    }
   ],
   "source": [
    "#pip install statsmodels"
   ]
  },
  {
   "cell_type": "markdown",
   "id": "1c217639",
   "metadata": {},
   "source": [
    "$$price = \\alpha+\\beta \\times crime + e$$ "
   ]
  },
  {
   "cell_type": "code",
   "execution_count": 11,
   "id": "4a54070b",
   "metadata": {},
   "outputs": [],
   "source": [
    "# first step : alpha_hat 와 beta_hat을 계산한다. by OLS \n",
    "# python에서 OLS를 어떻게 사용하는가? \n",
    "# pip install statsmodels\n",
    "import statsmodels.api as sm"
   ]
  },
  {
   "cell_type": "code",
   "execution_count": 12,
   "id": "8bcc46bc",
   "metadata": {},
   "outputs": [
    {
     "data": {
      "text/html": [
       "<div>\n",
       "<style scoped>\n",
       "    .dataframe tbody tr th:only-of-type {\n",
       "        vertical-align: middle;\n",
       "    }\n",
       "\n",
       "    .dataframe tbody tr th {\n",
       "        vertical-align: top;\n",
       "    }\n",
       "\n",
       "    .dataframe thead th {\n",
       "        text-align: right;\n",
       "    }\n",
       "</style>\n",
       "<table border=\"1\" class=\"dataframe\">\n",
       "  <thead>\n",
       "    <tr style=\"text-align: right;\">\n",
       "      <th></th>\n",
       "      <th>const</th>\n",
       "      <th>crime</th>\n",
       "    </tr>\n",
       "  </thead>\n",
       "  <tbody>\n",
       "    <tr>\n",
       "      <th>0</th>\n",
       "      <td>1.0</td>\n",
       "      <td>0.006</td>\n",
       "    </tr>\n",
       "    <tr>\n",
       "      <th>1</th>\n",
       "      <td>1.0</td>\n",
       "      <td>0.027</td>\n",
       "    </tr>\n",
       "    <tr>\n",
       "      <th>2</th>\n",
       "      <td>1.0</td>\n",
       "      <td>0.027</td>\n",
       "    </tr>\n",
       "    <tr>\n",
       "      <th>3</th>\n",
       "      <td>1.0</td>\n",
       "      <td>0.032</td>\n",
       "    </tr>\n",
       "    <tr>\n",
       "      <th>4</th>\n",
       "      <td>1.0</td>\n",
       "      <td>0.069</td>\n",
       "    </tr>\n",
       "    <tr>\n",
       "      <th>...</th>\n",
       "      <td>...</td>\n",
       "      <td>...</td>\n",
       "    </tr>\n",
       "    <tr>\n",
       "      <th>501</th>\n",
       "      <td>1.0</td>\n",
       "      <td>0.063</td>\n",
       "    </tr>\n",
       "    <tr>\n",
       "      <th>502</th>\n",
       "      <td>1.0</td>\n",
       "      <td>0.045</td>\n",
       "    </tr>\n",
       "    <tr>\n",
       "      <th>503</th>\n",
       "      <td>1.0</td>\n",
       "      <td>0.061</td>\n",
       "    </tr>\n",
       "    <tr>\n",
       "      <th>504</th>\n",
       "      <td>1.0</td>\n",
       "      <td>0.110</td>\n",
       "    </tr>\n",
       "    <tr>\n",
       "      <th>505</th>\n",
       "      <td>1.0</td>\n",
       "      <td>0.047</td>\n",
       "    </tr>\n",
       "  </tbody>\n",
       "</table>\n",
       "<p>506 rows × 2 columns</p>\n",
       "</div>"
      ],
      "text/plain": [
       "     const  crime\n",
       "0      1.0  0.006\n",
       "1      1.0  0.027\n",
       "2      1.0  0.027\n",
       "3      1.0  0.032\n",
       "4      1.0  0.069\n",
       "..     ...    ...\n",
       "501    1.0  0.063\n",
       "502    1.0  0.045\n",
       "503    1.0  0.061\n",
       "504    1.0  0.110\n",
       "505    1.0  0.047\n",
       "\n",
       "[506 rows x 2 columns]"
      ]
     },
     "execution_count": 12,
     "metadata": {},
     "output_type": "execute_result"
    }
   ],
   "source": [
    "y=data2['price']\n",
    "x=data2['crime']\n",
    "X=sm.add_constant(x)\n",
    "X"
   ]
  },
  {
   "cell_type": "code",
   "execution_count": 13,
   "id": "2343a28e",
   "metadata": {},
   "outputs": [
    {
     "data": {
      "text/html": [
       "<table class=\"simpletable\">\n",
       "<caption>OLS Regression Results</caption>\n",
       "<tr>\n",
       "  <th>Dep. Variable:</th>          <td>price</td>      <th>  R-squared:         </th> <td>   0.150</td>\n",
       "</tr>\n",
       "<tr>\n",
       "  <th>Model:</th>                   <td>OLS</td>       <th>  Adj. R-squared:    </th> <td>   0.149</td>\n",
       "</tr>\n",
       "<tr>\n",
       "  <th>Method:</th>             <td>Least Squares</td>  <th>  F-statistic:       </th> <td>   89.28</td>\n",
       "</tr>\n",
       "<tr>\n",
       "  <th>Date:</th>             <td>Tue, 21 Mar 2023</td> <th>  Prob (F-statistic):</th> <td>1.28e-19</td>\n",
       "</tr>\n",
       "<tr>\n",
       "  <th>Time:</th>                 <td>17:33:25</td>     <th>  Log-Likelihood:    </th> <td> -1799.6</td>\n",
       "</tr>\n",
       "<tr>\n",
       "  <th>No. Observations:</th>      <td>   506</td>      <th>  AIC:               </th> <td>   3603.</td>\n",
       "</tr>\n",
       "<tr>\n",
       "  <th>Df Residuals:</th>          <td>   504</td>      <th>  BIC:               </th> <td>   3612.</td>\n",
       "</tr>\n",
       "<tr>\n",
       "  <th>Df Model:</th>              <td>     1</td>      <th>                     </th>     <td> </td>   \n",
       "</tr>\n",
       "<tr>\n",
       "  <th>Covariance Type:</th>      <td>nonrobust</td>    <th>                     </th>     <td> </td>   \n",
       "</tr>\n",
       "</table>\n",
       "<table class=\"simpletable\">\n",
       "<tr>\n",
       "    <td></td>       <th>coef</th>     <th>std err</th>      <th>t</th>      <th>P>|t|</th>  <th>[0.025</th>    <th>0.975]</th>  \n",
       "</tr>\n",
       "<tr>\n",
       "  <th>const</th> <td>   24.0134</td> <td>    0.410</td> <td>   58.600</td> <td> 0.000</td> <td>   23.208</td> <td>   24.818</td>\n",
       "</tr>\n",
       "<tr>\n",
       "  <th>crime</th> <td>   -0.4159</td> <td>    0.044</td> <td>   -9.449</td> <td> 0.000</td> <td>   -0.502</td> <td>   -0.329</td>\n",
       "</tr>\n",
       "</table>\n",
       "<table class=\"simpletable\">\n",
       "<tr>\n",
       "  <th>Omnibus:</th>       <td>139.591</td> <th>  Durbin-Watson:     </th> <td>   0.716</td>\n",
       "</tr>\n",
       "<tr>\n",
       "  <th>Prob(Omnibus):</th> <td> 0.000</td>  <th>  Jarque-Bera (JB):  </th> <td> 294.258</td>\n",
       "</tr>\n",
       "<tr>\n",
       "  <th>Skew:</th>          <td> 1.489</td>  <th>  Prob(JB):          </th> <td>1.27e-64</td>\n",
       "</tr>\n",
       "<tr>\n",
       "  <th>Kurtosis:</th>      <td> 5.256</td>  <th>  Cond. No.          </th> <td>    10.1</td>\n",
       "</tr>\n",
       "</table><br/><br/>Notes:<br/>[1] Standard Errors assume that the covariance matrix of the errors is correctly specified."
      ],
      "text/plain": [
       "<class 'statsmodels.iolib.summary.Summary'>\n",
       "\"\"\"\n",
       "                            OLS Regression Results                            \n",
       "==============================================================================\n",
       "Dep. Variable:                  price   R-squared:                       0.150\n",
       "Model:                            OLS   Adj. R-squared:                  0.149\n",
       "Method:                 Least Squares   F-statistic:                     89.28\n",
       "Date:                Tue, 21 Mar 2023   Prob (F-statistic):           1.28e-19\n",
       "Time:                        17:33:25   Log-Likelihood:                -1799.6\n",
       "No. Observations:                 506   AIC:                             3603.\n",
       "Df Residuals:                     504   BIC:                             3612.\n",
       "Df Model:                           1                                         \n",
       "Covariance Type:            nonrobust                                         \n",
       "==============================================================================\n",
       "                 coef    std err          t      P>|t|      [0.025      0.975]\n",
       "------------------------------------------------------------------------------\n",
       "const         24.0134      0.410     58.600      0.000      23.208      24.818\n",
       "crime         -0.4159      0.044     -9.449      0.000      -0.502      -0.329\n",
       "==============================================================================\n",
       "Omnibus:                      139.591   Durbin-Watson:                   0.716\n",
       "Prob(Omnibus):                  0.000   Jarque-Bera (JB):              294.258\n",
       "Skew:                           1.489   Prob(JB):                     1.27e-64\n",
       "Kurtosis:                       5.256   Cond. No.                         10.1\n",
       "==============================================================================\n",
       "\n",
       "Notes:\n",
       "[1] Standard Errors assume that the covariance matrix of the errors is correctly specified.\n",
       "\"\"\""
      ]
     },
     "execution_count": 13,
     "metadata": {},
     "output_type": "execute_result"
    }
   ],
   "source": [
    "result1=sm.OLS(y,X).fit()\n",
    "result1.summary()"
   ]
  },
  {
   "cell_type": "code",
   "execution_count": 16,
   "id": "5fe711c6",
   "metadata": {},
   "outputs": [
    {
     "data": {
      "text/plain": [
       "0      24.010887\n",
       "1      24.002154\n",
       "2      24.002154\n",
       "3      24.000075\n",
       "4      23.984689\n",
       "         ...    \n",
       "501    23.987184\n",
       "502    23.994669\n",
       "503    23.988015\n",
       "504    23.967639\n",
       "505    23.993837\n",
       "Length: 506, dtype: float64"
      ]
     },
     "execution_count": 16,
     "metadata": {},
     "output_type": "execute_result"
    }
   ],
   "source": [
    "# Second step: MSE(loss function)을 계산한다. \n",
    "# y and yhat를 차이: MSE를 계산한다. \n",
    "yhat=result1.predict(X)\n",
    "yhat"
   ]
  },
  {
   "cell_type": "code",
   "execution_count": 17,
   "id": "c59f8731",
   "metadata": {},
   "outputs": [
    {
     "data": {
      "text/plain": [
       "71.89938969475358"
      ]
     },
     "execution_count": 17,
     "metadata": {},
     "output_type": "execute_result"
    }
   ],
   "source": [
    "MSE=(1/506)*sum((y-yhat)**2)\n",
    "MSE"
   ]
  },
  {
   "cell_type": "markdown",
   "id": "c7dd3349",
   "metadata": {},
   "source": [
    "$$price=\\alpha+\\beta \\times rooms+e $$\n",
    "MSE=70.1 (임의로 작성한 값이다. 실제로 계산한 값이 아닙니다)"
   ]
  },
  {
   "cell_type": "code",
   "execution_count": 20,
   "id": "33f43865",
   "metadata": {},
   "outputs": [
    {
     "data": {
      "text/plain": [
       "8.479350782622074"
      ]
     },
     "execution_count": 20,
     "metadata": {},
     "output_type": "execute_result"
    }
   ],
   "source": [
    "# RMSE : root MSE, sqrt(MSE)\n",
    "import numpy as np \n",
    "RMSE=np.sqrt(MSE)\n",
    "RMSE "
   ]
  },
  {
   "cell_type": "code",
   "execution_count": 24,
   "id": "03b765e1",
   "metadata": {},
   "outputs": [
    {
     "data": {
      "image/png": "[encoded data removed]",
      "text/plain": [
       "<Figure size 360x360 with 1 Axes>"
      ]
     },
     "metadata": {
      "needs_background": "light"
     },
     "output_type": "display_data"
    }
   ],
   "source": [
    "# regression plot을 그리고자 한다. \n",
    "# sns.lmplot 명령어를 이용한다. \n",
    "sns.lmplot('crime','price', data=data2, ci=None )\n",
    "plt.show()"
   ]
  },
  {
   "cell_type": "code",
   "execution_count": 29,
   "id": "4d858d32",
   "metadata": {},
   "outputs": [
    {
     "data": {
      "text/plain": [
       "[<matplotlib.lines.Line2D at 0x2242ab0fdc0>]"
      ]
     },
     "execution_count": 29,
     "metadata": {},
     "output_type": "execute_result"
    },
    {
     "data": {
      "image/png": "[encoded data removed]",
      "text/plain": [
       "<Figure size 432x288 with 1 Axes>"
      ]
     },
     "metadata": {
      "needs_background": "light"
     },
     "output_type": "display_data"
    }
   ],
   "source": [
    "x=np.linspace(1,10,100)\n",
    "x\n",
    "y=np.exp(x)\n",
    "plt.plot(x,y)"
   ]
  },
  {
   "cell_type": "markdown",
   "id": "a03c322d",
   "metadata": {},
   "source": [
    "$$\\log(price)=\\alpha+\\beta \\times crime + e $$"
   ]
  },
  {
   "cell_type": "code",
   "execution_count": 30,
   "id": "c2ab48a7",
   "metadata": {},
   "outputs": [
    {
     "data": {
      "text/html": [
       "<table class=\"simpletable\">\n",
       "<caption>OLS Regression Results</caption>\n",
       "<tr>\n",
       "  <th>Dep. Variable:</th>          <td>price</td>      <th>  R-squared:         </th> <td>   0.278</td>\n",
       "</tr>\n",
       "<tr>\n",
       "  <th>Model:</th>                   <td>OLS</td>       <th>  Adj. R-squared:    </th> <td>   0.277</td>\n",
       "</tr>\n",
       "<tr>\n",
       "  <th>Method:</th>             <td>Least Squares</td>  <th>  F-statistic:       </th> <td>   194.3</td>\n",
       "</tr>\n",
       "<tr>\n",
       "  <th>Date:</th>             <td>Tue, 21 Mar 2023</td> <th>  Prob (F-statistic):</th> <td>1.38e-37</td>\n",
       "</tr>\n",
       "<tr>\n",
       "  <th>Time:</th>                 <td>18:14:47</td>     <th>  Log-Likelihood:    </th> <td> -182.92</td>\n",
       "</tr>\n",
       "<tr>\n",
       "  <th>No. Observations:</th>      <td>   506</td>      <th>  AIC:               </th> <td>   369.8</td>\n",
       "</tr>\n",
       "<tr>\n",
       "  <th>Df Residuals:</th>          <td>   504</td>      <th>  BIC:               </th> <td>   378.3</td>\n",
       "</tr>\n",
       "<tr>\n",
       "  <th>Df Model:</th>              <td>     1</td>      <th>                     </th>     <td> </td>   \n",
       "</tr>\n",
       "<tr>\n",
       "  <th>Covariance Type:</th>      <td>nonrobust</td>    <th>                     </th>     <td> </td>   \n",
       "</tr>\n",
       "</table>\n",
       "<table class=\"simpletable\">\n",
       "<tr>\n",
       "    <td></td>       <th>coef</th>     <th>std err</th>      <th>t</th>      <th>P>|t|</th>  <th>[0.025</th>    <th>0.975]</th>  \n",
       "</tr>\n",
       "<tr>\n",
       "  <th>const</th> <td>    3.1241</td> <td>    0.017</td> <td>  186.110</td> <td> 0.000</td> <td>    3.091</td> <td>    3.157</td>\n",
       "</tr>\n",
       "<tr>\n",
       "  <th>crime</th> <td>   -0.0251</td> <td>    0.002</td> <td>  -13.939</td> <td> 0.000</td> <td>   -0.029</td> <td>   -0.022</td>\n",
       "</tr>\n",
       "</table>\n",
       "<table class=\"simpletable\">\n",
       "<tr>\n",
       "  <th>Omnibus:</th>       <td>29.115</td> <th>  Durbin-Watson:     </th> <td>   0.743</td>\n",
       "</tr>\n",
       "<tr>\n",
       "  <th>Prob(Omnibus):</th> <td> 0.000</td> <th>  Jarque-Bera (JB):  </th> <td>  41.923</td>\n",
       "</tr>\n",
       "<tr>\n",
       "  <th>Skew:</th>          <td> 0.455</td> <th>  Prob(JB):          </th> <td>7.88e-10</td>\n",
       "</tr>\n",
       "<tr>\n",
       "  <th>Kurtosis:</th>      <td> 4.076</td> <th>  Cond. No.          </th> <td>    10.1</td>\n",
       "</tr>\n",
       "</table><br/><br/>Notes:<br/>[1] Standard Errors assume that the covariance matrix of the errors is correctly specified."
      ],
      "text/plain": [
       "<class 'statsmodels.iolib.summary.Summary'>\n",
       "\"\"\"\n",
       "                            OLS Regression Results                            \n",
       "==============================================================================\n",
       "Dep. Variable:                  price   R-squared:                       0.278\n",
       "Model:                            OLS   Adj. R-squared:                  0.277\n",
       "Method:                 Least Squares   F-statistic:                     194.3\n",
       "Date:                Tue, 21 Mar 2023   Prob (F-statistic):           1.38e-37\n",
       "Time:                        18:14:47   Log-Likelihood:                -182.92\n",
       "No. Observations:                 506   AIC:                             369.8\n",
       "Df Residuals:                     504   BIC:                             378.3\n",
       "Df Model:                           1                                         \n",
       "Covariance Type:            nonrobust                                         \n",
       "==============================================================================\n",
       "                 coef    std err          t      P>|t|      [0.025      0.975]\n",
       "------------------------------------------------------------------------------\n",
       "const          3.1241      0.017    186.110      0.000       3.091       3.157\n",
       "crime         -0.0251      0.002    -13.939      0.000      -0.029      -0.022\n",
       "==============================================================================\n",
       "Omnibus:                       29.115   Durbin-Watson:                   0.743\n",
       "Prob(Omnibus):                  0.000   Jarque-Bera (JB):               41.923\n",
       "Skew:                           0.455   Prob(JB):                     7.88e-10\n",
       "Kurtosis:                       4.076   Cond. No.                         10.1\n",
       "==============================================================================\n",
       "\n",
       "Notes:\n",
       "[1] Standard Errors assume that the covariance matrix of the errors is correctly specified.\n",
       "\"\"\""
      ]
     },
     "execution_count": 30,
     "metadata": {},
     "output_type": "execute_result"
    }
   ],
   "source": [
    "y=data2['price']\n",
    "x=data2['crime']\n",
    "X=sm.add_constant(x)\n",
    "y1=np.log(y)  # 새로운 종속변수 Y가 된다. \n",
    "\n",
    "result2=sm.OLS(y1,X).fit()\n",
    "result2.summary()\n",
    "\n"
   ]
  },
  {
   "cell_type": "code",
   "execution_count": 35,
   "id": "eca4f4db",
   "metadata": {},
   "outputs": [
    {
     "data": {
      "text/plain": [
       "0      3.123912\n",
       "1      3.123384\n",
       "2      3.123384\n",
       "3      3.123258\n",
       "4      3.122329\n",
       "         ...   \n",
       "501    3.122479\n",
       "502    3.122932\n",
       "503    3.122530\n",
       "504    3.121298\n",
       "505    3.122881\n",
       "Length: 506, dtype: float64"
      ]
     },
     "execution_count": 35,
     "metadata": {},
     "output_type": "execute_result"
    }
   ],
   "source": [
    "# MSE: yhat을 계산해야 한다. log(y)의 예측값이 아니고 y의 예측값을 이용해서 MSE를 계산해야 한다. \n",
    "# 1) yhat=exp(alpha_hat + beta_hat * crime + sigma^2/2)\n",
    "yhat_log=result2.predict(X)\n",
    "\n",
    "# sigma_hat^2을 계산해야 한다. \n",
    "sigma2_hat=sum((y1-yhat_log)**2)/(506-2)\n",
    "yhat_log"
   ]
  },
  {
   "cell_type": "code",
   "execution_count": 36,
   "id": "38a4907c",
   "metadata": {},
   "outputs": [
    {
     "data": {
      "text/plain": [
       "0.12112530310061305"
      ]
     },
     "execution_count": 36,
     "metadata": {},
     "output_type": "execute_result"
    }
   ],
   "source": [
    "sigma2_hat"
   ]
  },
  {
   "cell_type": "code",
   "execution_count": 37,
   "id": "c8dbb0d8",
   "metadata": {},
   "outputs": [
    {
     "data": {
      "text/plain": [
       "0      24.154591\n",
       "1      24.141847\n",
       "2      24.141847\n",
       "3      24.138814\n",
       "4      24.116379\n",
       "         ...    \n",
       "501    24.120016\n",
       "502    24.130929\n",
       "503    24.121228\n",
       "504    24.091543\n",
       "505    24.129716\n",
       "Length: 506, dtype: float64"
      ]
     },
     "execution_count": 37,
     "metadata": {},
     "output_type": "execute_result"
    }
   ],
   "source": [
    "yhat2=np.exp(yhat_log+sigma2_hat/2)\n",
    "yhat2"
   ]
  },
  {
   "cell_type": "code",
   "execution_count": 39,
   "id": "eb9bfdbd",
   "metadata": {},
   "outputs": [
    {
     "data": {
      "text/plain": [
       "68.65166577937097"
      ]
     },
     "execution_count": 39,
     "metadata": {},
     "output_type": "execute_result"
    }
   ],
   "source": [
    "# 마지막 단계: MSE를 계산한다. price-price_hat\n",
    "MSE2=(1/506)*sum((y-yhat2)**2)\n",
    "MSE2"
   ]
  },
  {
   "cell_type": "markdown",
   "id": "22425151",
   "metadata": {},
   "source": [
    "## Model 1 : $price=\\alpha + \\beta \\times crime +e $\n",
    "## Model 2 : $price=\\alpha+\\beta \\times rooms + \\gamma \\times crime +e $"
   ]
  },
  {
   "cell_type": "code",
   "execution_count": 41,
   "id": "c376a73b",
   "metadata": {},
   "outputs": [
    {
     "data": {
      "text/html": [
       "<table class=\"simpletable\">\n",
       "<caption>OLS Regression Results</caption>\n",
       "<tr>\n",
       "  <th>Dep. Variable:</th>          <td>price</td>      <th>  R-squared:         </th> <td>   0.542</td>\n",
       "</tr>\n",
       "<tr>\n",
       "  <th>Model:</th>                   <td>OLS</td>       <th>  Adj. R-squared:    </th> <td>   0.541</td>\n",
       "</tr>\n",
       "<tr>\n",
       "  <th>Method:</th>             <td>Least Squares</td>  <th>  F-statistic:       </th> <td>   298.2</td>\n",
       "</tr>\n",
       "<tr>\n",
       "  <th>Date:</th>             <td>Tue, 21 Mar 2023</td> <th>  Prob (F-statistic):</th> <td>4.00e-86</td>\n",
       "</tr>\n",
       "<tr>\n",
       "  <th>Time:</th>                 <td>18:45:18</td>     <th>  Log-Likelihood:    </th> <td> -1643.1</td>\n",
       "</tr>\n",
       "<tr>\n",
       "  <th>No. Observations:</th>      <td>   506</td>      <th>  AIC:               </th> <td>   3292.</td>\n",
       "</tr>\n",
       "<tr>\n",
       "  <th>Df Residuals:</th>          <td>   503</td>      <th>  BIC:               </th> <td>   3305.</td>\n",
       "</tr>\n",
       "<tr>\n",
       "  <th>Df Model:</th>              <td>     2</td>      <th>                     </th>     <td> </td>   \n",
       "</tr>\n",
       "<tr>\n",
       "  <th>Covariance Type:</th>      <td>nonrobust</td>    <th>                     </th>     <td> </td>   \n",
       "</tr>\n",
       "</table>\n",
       "<table class=\"simpletable\">\n",
       "<tr>\n",
       "    <td></td>       <th>coef</th>     <th>std err</th>      <th>t</th>      <th>P>|t|</th>  <th>[0.025</th>    <th>0.975]</th>  \n",
       "</tr>\n",
       "<tr>\n",
       "  <th>const</th> <td>  -29.3769</td> <td>    2.590</td> <td>  -11.344</td> <td> 0.000</td> <td>  -34.465</td> <td>  -24.289</td>\n",
       "</tr>\n",
       "<tr>\n",
       "  <th>rooms</th> <td>    8.4097</td> <td>    0.405</td> <td>   20.758</td> <td> 0.000</td> <td>    7.614</td> <td>    9.206</td>\n",
       "</tr>\n",
       "<tr>\n",
       "  <th>crime</th> <td>   -0.2653</td> <td>    0.033</td> <td>   -8.008</td> <td> 0.000</td> <td>   -0.330</td> <td>   -0.200</td>\n",
       "</tr>\n",
       "</table>\n",
       "<table class=\"simpletable\">\n",
       "<tr>\n",
       "  <th>Omnibus:</th>       <td>173.164</td> <th>  Durbin-Watson:     </th> <td>   0.816</td> \n",
       "</tr>\n",
       "<tr>\n",
       "  <th>Prob(Omnibus):</th> <td> 0.000</td>  <th>  Jarque-Bera (JB):  </th> <td>1051.477</td> \n",
       "</tr>\n",
       "<tr>\n",
       "  <th>Skew:</th>          <td> 1.356</td>  <th>  Prob(JB):          </th> <td>4.73e-229</td>\n",
       "</tr>\n",
       "<tr>\n",
       "  <th>Kurtosis:</th>      <td> 9.521</td>  <th>  Cond. No.          </th> <td>    92.2</td> \n",
       "</tr>\n",
       "</table><br/><br/>Notes:<br/>[1] Standard Errors assume that the covariance matrix of the errors is correctly specified."
      ],
      "text/plain": [
       "<class 'statsmodels.iolib.summary.Summary'>\n",
       "\"\"\"\n",
       "                            OLS Regression Results                            \n",
       "==============================================================================\n",
       "Dep. Variable:                  price   R-squared:                       0.542\n",
       "Model:                            OLS   Adj. R-squared:                  0.541\n",
       "Method:                 Least Squares   F-statistic:                     298.2\n",
       "Date:                Tue, 21 Mar 2023   Prob (F-statistic):           4.00e-86\n",
       "Time:                        18:45:18   Log-Likelihood:                -1643.1\n",
       "No. Observations:                 506   AIC:                             3292.\n",
       "Df Residuals:                     503   BIC:                             3305.\n",
       "Df Model:                           2                                         \n",
       "Covariance Type:            nonrobust                                         \n",
       "==============================================================================\n",
       "                 coef    std err          t      P>|t|      [0.025      0.975]\n",
       "------------------------------------------------------------------------------\n",
       "const        -29.3769      2.590    -11.344      0.000     -34.465     -24.289\n",
       "rooms          8.4097      0.405     20.758      0.000       7.614       9.206\n",
       "crime         -0.2653      0.033     -8.008      0.000      -0.330      -0.200\n",
       "==============================================================================\n",
       "Omnibus:                      173.164   Durbin-Watson:                   0.816\n",
       "Prob(Omnibus):                  0.000   Jarque-Bera (JB):             1051.477\n",
       "Skew:                           1.356   Prob(JB):                    4.73e-229\n",
       "Kurtosis:                       9.521   Cond. No.                         92.2\n",
       "==============================================================================\n",
       "\n",
       "Notes:\n",
       "[1] Standard Errors assume that the covariance matrix of the errors is correctly specified.\n",
       "\"\"\""
      ]
     },
     "execution_count": 41,
     "metadata": {},
     "output_type": "execute_result"
    }
   ],
   "source": [
    "# MSE from Model 2 ???\n",
    "y=data2['price']\n",
    "x=data2[['rooms','crime']] # ????\n",
    "X=sm.add_constant(x)\n",
    "result3=sm.OLS(y,X).fit()\n",
    "result3.summary()"
   ]
  },
  {
   "cell_type": "code",
   "execution_count": 42,
   "id": "f6916a2c",
   "metadata": {},
   "outputs": [
    {
     "data": {
      "text/plain": [
       "38.725458111634765"
      ]
     },
     "execution_count": 42,
     "metadata": {},
     "output_type": "execute_result"
    }
   ],
   "source": [
    "yhat3=result3.predict(X)\n",
    "MSE3=(1/506)*sum((y-yhat3)**2)\n",
    "MSE3"
   ]
  }
 ],
 "metadata": {
  "kernelspec": {
   "display_name": "Python 3 (ipykernel)",
   "language": "python",
   "name": "python3"
  },
  "language_info": {
   "codemirror_mode": {
    "name": "ipython",
    "version": 3
   },
   "file_extension": ".py",
   "mimetype": "text/x-python",
   "name": "python",
   "nbconvert_exporter": "python",
   "pygments_lexer": "ipython3",
   "version": "3.9.13"
  }
 },
 "nbformat": 4,
 "nbformat_minor": 5
}
