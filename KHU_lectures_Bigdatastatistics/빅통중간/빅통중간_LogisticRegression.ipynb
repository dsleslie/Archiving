{
 "cells": [
  {
   "cell_type": "markdown",
   "id": "3266a060",
   "metadata": {},
   "source": [
    "# Classification 범주형 변수 예측\n",
    "\n",
    "## binary"
   ]
  },
  {
   "cell_type": "code",
   "execution_count": 3,
   "id": "001ac347",
   "metadata": {},
   "outputs": [],
   "source": [
    "import pandas as pd\n",
    "import numpy as np\n",
    "import seaborn as sns\n",
    "import matplotlib.pyplot as plt\n",
    "import statsmodels.api as sm\n",
    "from sklearn.model_selection import train_test_split\n",
    "import warnings\n",
    "warnings.filterwarnings(\"ignore\")\n",
    "\n",
    "from ggplot import *\n",
    "from scipy.stats import logistic\n",
    "from sklearn.metrics import roc_curve\n",
    "from sklearn.metrics import roc_auc_score\n",
    "from sklearn.linear_model import LogisticRegression\n",
    "from sklearn.metrics import confusion_matrix\n",
    "from sklearn.model_selection import train_test_split\n",
    "from sklearn import preprocessing\n",
    "from sklearn.neighbors import KNeighborsClassifier"
   ]
  },
  {
   "cell_type": "code",
   "execution_count": 4,
   "id": "9e8a102e",
   "metadata": {},
   "outputs": [
    {
     "data": {
      "text/html": [
       "<div>\n",
       "<style scoped>\n",
       "    .dataframe tbody tr th:only-of-type {\n",
       "        vertical-align: middle;\n",
       "    }\n",
       "\n",
       "    .dataframe tbody tr th {\n",
       "        vertical-align: top;\n",
       "    }\n",
       "\n",
       "    .dataframe thead th {\n",
       "        text-align: right;\n",
       "    }\n",
       "</style>\n",
       "<table border=\"1\" class=\"dataframe\">\n",
       "  <thead>\n",
       "    <tr style=\"text-align: right;\">\n",
       "      <th></th>\n",
       "      <th>Unnamed: 0</th>\n",
       "      <th>default</th>\n",
       "      <th>student</th>\n",
       "      <th>balance</th>\n",
       "      <th>income</th>\n",
       "    </tr>\n",
       "  </thead>\n",
       "  <tbody>\n",
       "    <tr>\n",
       "      <th>0</th>\n",
       "      <td>1</td>\n",
       "      <td>No</td>\n",
       "      <td>No</td>\n",
       "      <td>729.526495</td>\n",
       "      <td>44361.625074</td>\n",
       "    </tr>\n",
       "    <tr>\n",
       "      <th>1</th>\n",
       "      <td>2</td>\n",
       "      <td>No</td>\n",
       "      <td>Yes</td>\n",
       "      <td>817.180407</td>\n",
       "      <td>12106.134700</td>\n",
       "    </tr>\n",
       "    <tr>\n",
       "      <th>2</th>\n",
       "      <td>3</td>\n",
       "      <td>No</td>\n",
       "      <td>No</td>\n",
       "      <td>1073.549164</td>\n",
       "      <td>31767.138947</td>\n",
       "    </tr>\n",
       "    <tr>\n",
       "      <th>3</th>\n",
       "      <td>4</td>\n",
       "      <td>No</td>\n",
       "      <td>No</td>\n",
       "      <td>529.250605</td>\n",
       "      <td>35704.493935</td>\n",
       "    </tr>\n",
       "    <tr>\n",
       "      <th>4</th>\n",
       "      <td>5</td>\n",
       "      <td>No</td>\n",
       "      <td>No</td>\n",
       "      <td>785.655883</td>\n",
       "      <td>38463.495879</td>\n",
       "    </tr>\n",
       "    <tr>\n",
       "      <th>...</th>\n",
       "      <td>...</td>\n",
       "      <td>...</td>\n",
       "      <td>...</td>\n",
       "      <td>...</td>\n",
       "      <td>...</td>\n",
       "    </tr>\n",
       "    <tr>\n",
       "      <th>9995</th>\n",
       "      <td>9996</td>\n",
       "      <td>No</td>\n",
       "      <td>No</td>\n",
       "      <td>711.555020</td>\n",
       "      <td>52992.378914</td>\n",
       "    </tr>\n",
       "    <tr>\n",
       "      <th>9996</th>\n",
       "      <td>9997</td>\n",
       "      <td>No</td>\n",
       "      <td>No</td>\n",
       "      <td>757.962918</td>\n",
       "      <td>19660.721768</td>\n",
       "    </tr>\n",
       "    <tr>\n",
       "      <th>9997</th>\n",
       "      <td>9998</td>\n",
       "      <td>No</td>\n",
       "      <td>No</td>\n",
       "      <td>845.411989</td>\n",
       "      <td>58636.156984</td>\n",
       "    </tr>\n",
       "    <tr>\n",
       "      <th>9998</th>\n",
       "      <td>9999</td>\n",
       "      <td>No</td>\n",
       "      <td>No</td>\n",
       "      <td>1569.009053</td>\n",
       "      <td>36669.112365</td>\n",
       "    </tr>\n",
       "    <tr>\n",
       "      <th>9999</th>\n",
       "      <td>10000</td>\n",
       "      <td>No</td>\n",
       "      <td>Yes</td>\n",
       "      <td>200.922183</td>\n",
       "      <td>16862.952321</td>\n",
       "    </tr>\n",
       "  </tbody>\n",
       "</table>\n",
       "<p>10000 rows × 5 columns</p>\n",
       "</div>"
      ],
      "text/plain": [
       "      Unnamed: 0 default student      balance        income\n",
       "0              1      No      No   729.526495  44361.625074\n",
       "1              2      No     Yes   817.180407  12106.134700\n",
       "2              3      No      No  1073.549164  31767.138947\n",
       "3              4      No      No   529.250605  35704.493935\n",
       "4              5      No      No   785.655883  38463.495879\n",
       "...          ...     ...     ...          ...           ...\n",
       "9995        9996      No      No   711.555020  52992.378914\n",
       "9996        9997      No      No   757.962918  19660.721768\n",
       "9997        9998      No      No   845.411989  58636.156984\n",
       "9998        9999      No      No  1569.009053  36669.112365\n",
       "9999       10000      No     Yes   200.922183  16862.952321\n",
       "\n",
       "[10000 rows x 5 columns]"
      ]
     },
     "execution_count": 4,
     "metadata": {},
     "output_type": "execute_result"
    }
   ],
   "source": [
    "file1=\"c:/temp/credit_LN4.csv\"\n",
    "credit=pd.read_csv(file1)\n",
    "credit"
   ]
  },
  {
   "cell_type": "markdown",
   "id": "45a2a5aa",
   "metadata": {},
   "source": [
    "### Logistic model : sm package"
   ]
  },
  {
   "cell_type": "code",
   "execution_count": 5,
   "id": "b45e50ac",
   "metadata": {},
   "outputs": [
    {
     "name": "stdout",
     "output_type": "stream",
     "text": [
      "Optimization terminated successfully.\n",
      "         Current function value: inf\n",
      "         Iterations 10\n"
     ]
    },
    {
     "data": {
      "text/html": [
       "<table class=\"simpletable\">\n",
       "<caption>Logit Regression Results</caption>\n",
       "<tr>\n",
       "  <th>Dep. Variable:</th>          <td>Yes</td>       <th>  No. Observations:  </th>  <td> 10000</td> \n",
       "</tr>\n",
       "<tr>\n",
       "  <th>Model:</th>                 <td>Logit</td>      <th>  Df Residuals:      </th>  <td>  9998</td> \n",
       "</tr>\n",
       "<tr>\n",
       "  <th>Method:</th>                 <td>MLE</td>       <th>  Df Model:          </th>  <td>     1</td> \n",
       "</tr>\n",
       "<tr>\n",
       "  <th>Date:</th>            <td>Tue, 25 Apr 2023</td> <th>  Pseudo R-squ.:     </th>  <td>   inf</td> \n",
       "</tr>\n",
       "<tr>\n",
       "  <th>Time:</th>                <td>14:59:04</td>     <th>  Log-Likelihood:    </th> <td>    -inf</td>\n",
       "</tr>\n",
       "<tr>\n",
       "  <th>converged:</th>             <td>True</td>       <th>  LL-Null:           </th> <td>  0.0000</td>\n",
       "</tr>\n",
       "<tr>\n",
       "  <th>Covariance Type:</th>     <td>nonrobust</td>    <th>  LLR p-value:       </th>  <td> 1.000</td> \n",
       "</tr>\n",
       "</table>\n",
       "<table class=\"simpletable\">\n",
       "<tr>\n",
       "     <td></td>        <th>coef</th>     <th>std err</th>      <th>z</th>      <th>P>|z|</th>  <th>[0.025</th>    <th>0.975]</th>  \n",
       "</tr>\n",
       "<tr>\n",
       "  <th>const</th>   <td>  -10.6513</td> <td>    0.361</td> <td>  -29.491</td> <td> 0.000</td> <td>  -11.359</td> <td>   -9.943</td>\n",
       "</tr>\n",
       "<tr>\n",
       "  <th>balance</th> <td>    0.0055</td> <td>    0.000</td> <td>   24.952</td> <td> 0.000</td> <td>    0.005</td> <td>    0.006</td>\n",
       "</tr>\n",
       "</table><br/><br/>Possibly complete quasi-separation: A fraction 0.13 of observations can be<br/>perfectly predicted. This might indicate that there is complete<br/>quasi-separation. In this case some parameters will not be identified."
      ],
      "text/plain": [
       "<class 'statsmodels.iolib.summary.Summary'>\n",
       "\"\"\"\n",
       "                           Logit Regression Results                           \n",
       "==============================================================================\n",
       "Dep. Variable:                    Yes   No. Observations:                10000\n",
       "Model:                          Logit   Df Residuals:                     9998\n",
       "Method:                           MLE   Df Model:                            1\n",
       "Date:                Tue, 25 Apr 2023   Pseudo R-squ.:                     inf\n",
       "Time:                        14:59:04   Log-Likelihood:                   -inf\n",
       "converged:                       True   LL-Null:                        0.0000\n",
       "Covariance Type:            nonrobust   LLR p-value:                     1.000\n",
       "==============================================================================\n",
       "                 coef    std err          z      P>|z|      [0.025      0.975]\n",
       "------------------------------------------------------------------------------\n",
       "const        -10.6513      0.361    -29.491      0.000     -11.359      -9.943\n",
       "balance        0.0055      0.000     24.952      0.000       0.005       0.006\n",
       "==============================================================================\n",
       "\n",
       "Possibly complete quasi-separation: A fraction 0.13 of observations can be\n",
       "perfectly predicted. This might indicate that there is complete\n",
       "quasi-separation. In this case some parameters will not be identified.\n",
       "\"\"\""
      ]
     },
     "execution_count": 5,
     "metadata": {},
     "output_type": "execute_result"
    }
   ],
   "source": [
    "x=credit['balance']\n",
    "X=sm.add_constant(x)\n",
    "y=credit['default']\n",
    "y=pd.get_dummies(y)\n",
    "y=y['Yes']\n",
    "\n",
    "logit_model=sm.Logit(y,X).fit()\n",
    "logit_model.summary()"
   ]
  },
  {
   "cell_type": "markdown",
   "id": "07c833d5",
   "metadata": {},
   "source": [
    "### logistic에서 coefficient 값 : 양 음이 중요\n",
    "\n",
    "양수면 Pr(y=1)일 확률 증가"
   ]
  },
  {
   "cell_type": "code",
   "execution_count": 7,
   "id": "c9ab2627",
   "metadata": {},
   "outputs": [
    {
     "data": {
      "text/plain": [
       "array([0.00575215])"
      ]
     },
     "execution_count": 7,
     "metadata": {},
     "output_type": "execute_result"
    }
   ],
   "source": [
    "# 만든 모델로 y=1이 될 확률구해보자\n",
    "X1=[1,1000]\n",
    "logit_model.predict(X1)\n",
    "# 상수항이 1이고, balance 가 1000 인 경우"
   ]
  },
  {
   "cell_type": "code",
   "execution_count": 8,
   "id": "dd6c66c0",
   "metadata": {},
   "outputs": [
    {
     "data": {
      "text/plain": [
       "array([0.58576937])"
      ]
     },
     "execution_count": 8,
     "metadata": {},
     "output_type": "execute_result"
    }
   ],
   "source": [
    "# Pr(Y=1|balance=2000)\n",
    "X1=[1,2000]\n",
    "logit_model.predict(X1)"
   ]
  },
  {
   "cell_type": "markdown",
   "id": "14578361",
   "metadata": {},
   "source": [
    "### regression 돌리려는데 x 변수가 더미 변수인 경우\n",
    "\n",
    "새로 더미 변수를 정의해서 새로 정의한 변수를 넣고 reg 돌린다."
   ]
  },
  {
   "cell_type": "code",
   "execution_count": 9,
   "id": "bf81a284",
   "metadata": {},
   "outputs": [
    {
     "data": {
      "text/html": [
       "<div>\n",
       "<style scoped>\n",
       "    .dataframe tbody tr th:only-of-type {\n",
       "        vertical-align: middle;\n",
       "    }\n",
       "\n",
       "    .dataframe tbody tr th {\n",
       "        vertical-align: top;\n",
       "    }\n",
       "\n",
       "    .dataframe thead th {\n",
       "        text-align: right;\n",
       "    }\n",
       "</style>\n",
       "<table border=\"1\" class=\"dataframe\">\n",
       "  <thead>\n",
       "    <tr style=\"text-align: right;\">\n",
       "      <th></th>\n",
       "      <th>Unnamed: 0</th>\n",
       "      <th>default</th>\n",
       "      <th>student</th>\n",
       "      <th>balance</th>\n",
       "      <th>income</th>\n",
       "      <th>stu_yes</th>\n",
       "    </tr>\n",
       "  </thead>\n",
       "  <tbody>\n",
       "    <tr>\n",
       "      <th>0</th>\n",
       "      <td>1</td>\n",
       "      <td>No</td>\n",
       "      <td>No</td>\n",
       "      <td>729.526495</td>\n",
       "      <td>44361.625074</td>\n",
       "      <td>0</td>\n",
       "    </tr>\n",
       "    <tr>\n",
       "      <th>1</th>\n",
       "      <td>2</td>\n",
       "      <td>No</td>\n",
       "      <td>Yes</td>\n",
       "      <td>817.180407</td>\n",
       "      <td>12106.134700</td>\n",
       "      <td>1</td>\n",
       "    </tr>\n",
       "    <tr>\n",
       "      <th>2</th>\n",
       "      <td>3</td>\n",
       "      <td>No</td>\n",
       "      <td>No</td>\n",
       "      <td>1073.549164</td>\n",
       "      <td>31767.138947</td>\n",
       "      <td>0</td>\n",
       "    </tr>\n",
       "    <tr>\n",
       "      <th>3</th>\n",
       "      <td>4</td>\n",
       "      <td>No</td>\n",
       "      <td>No</td>\n",
       "      <td>529.250605</td>\n",
       "      <td>35704.493935</td>\n",
       "      <td>0</td>\n",
       "    </tr>\n",
       "    <tr>\n",
       "      <th>4</th>\n",
       "      <td>5</td>\n",
       "      <td>No</td>\n",
       "      <td>No</td>\n",
       "      <td>785.655883</td>\n",
       "      <td>38463.495879</td>\n",
       "      <td>0</td>\n",
       "    </tr>\n",
       "    <tr>\n",
       "      <th>...</th>\n",
       "      <td>...</td>\n",
       "      <td>...</td>\n",
       "      <td>...</td>\n",
       "      <td>...</td>\n",
       "      <td>...</td>\n",
       "      <td>...</td>\n",
       "    </tr>\n",
       "    <tr>\n",
       "      <th>9995</th>\n",
       "      <td>9996</td>\n",
       "      <td>No</td>\n",
       "      <td>No</td>\n",
       "      <td>711.555020</td>\n",
       "      <td>52992.378914</td>\n",
       "      <td>0</td>\n",
       "    </tr>\n",
       "    <tr>\n",
       "      <th>9996</th>\n",
       "      <td>9997</td>\n",
       "      <td>No</td>\n",
       "      <td>No</td>\n",
       "      <td>757.962918</td>\n",
       "      <td>19660.721768</td>\n",
       "      <td>0</td>\n",
       "    </tr>\n",
       "    <tr>\n",
       "      <th>9997</th>\n",
       "      <td>9998</td>\n",
       "      <td>No</td>\n",
       "      <td>No</td>\n",
       "      <td>845.411989</td>\n",
       "      <td>58636.156984</td>\n",
       "      <td>0</td>\n",
       "    </tr>\n",
       "    <tr>\n",
       "      <th>9998</th>\n",
       "      <td>9999</td>\n",
       "      <td>No</td>\n",
       "      <td>No</td>\n",
       "      <td>1569.009053</td>\n",
       "      <td>36669.112365</td>\n",
       "      <td>0</td>\n",
       "    </tr>\n",
       "    <tr>\n",
       "      <th>9999</th>\n",
       "      <td>10000</td>\n",
       "      <td>No</td>\n",
       "      <td>Yes</td>\n",
       "      <td>200.922183</td>\n",
       "      <td>16862.952321</td>\n",
       "      <td>1</td>\n",
       "    </tr>\n",
       "  </tbody>\n",
       "</table>\n",
       "<p>10000 rows × 6 columns</p>\n",
       "</div>"
      ],
      "text/plain": [
       "      Unnamed: 0 default student      balance        income  stu_yes\n",
       "0              1      No      No   729.526495  44361.625074        0\n",
       "1              2      No     Yes   817.180407  12106.134700        1\n",
       "2              3      No      No  1073.549164  31767.138947        0\n",
       "3              4      No      No   529.250605  35704.493935        0\n",
       "4              5      No      No   785.655883  38463.495879        0\n",
       "...          ...     ...     ...          ...           ...      ...\n",
       "9995        9996      No      No   711.555020  52992.378914        0\n",
       "9996        9997      No      No   757.962918  19660.721768        0\n",
       "9997        9998      No      No   845.411989  58636.156984        0\n",
       "9998        9999      No      No  1569.009053  36669.112365        0\n",
       "9999       10000      No     Yes   200.922183  16862.952321        1\n",
       "\n",
       "[10000 rows x 6 columns]"
      ]
     },
     "execution_count": 9,
     "metadata": {},
     "output_type": "execute_result"
    }
   ],
   "source": [
    "stu=pd.get_dummies(credit['student'])\n",
    "credit['stu_yes']=stu['Yes']\n",
    "credit"
   ]
  },
  {
   "cell_type": "code",
   "execution_count": 10,
   "id": "d947e127",
   "metadata": {},
   "outputs": [
    {
     "name": "stdout",
     "output_type": "stream",
     "text": [
      "Optimization terminated successfully.\n",
      "         Current function value: inf\n",
      "         Iterations 10\n"
     ]
    },
    {
     "data": {
      "text/html": [
       "<table class=\"simpletable\">\n",
       "<caption>Logit Regression Results</caption>\n",
       "<tr>\n",
       "  <th>Dep. Variable:</th>          <td>Yes</td>       <th>  No. Observations:  </th>  <td> 10000</td> \n",
       "</tr>\n",
       "<tr>\n",
       "  <th>Model:</th>                 <td>Logit</td>      <th>  Df Residuals:      </th>  <td>  9996</td> \n",
       "</tr>\n",
       "<tr>\n",
       "  <th>Method:</th>                 <td>MLE</td>       <th>  Df Model:          </th>  <td>     3</td> \n",
       "</tr>\n",
       "<tr>\n",
       "  <th>Date:</th>            <td>Tue, 25 Apr 2023</td> <th>  Pseudo R-squ.:     </th>  <td>   inf</td> \n",
       "</tr>\n",
       "<tr>\n",
       "  <th>Time:</th>                <td>15:05:18</td>     <th>  Log-Likelihood:    </th> <td>    -inf</td>\n",
       "</tr>\n",
       "<tr>\n",
       "  <th>converged:</th>             <td>True</td>       <th>  LL-Null:           </th> <td>  0.0000</td>\n",
       "</tr>\n",
       "<tr>\n",
       "  <th>Covariance Type:</th>     <td>nonrobust</td>    <th>  LLR p-value:       </th>  <td> 1.000</td> \n",
       "</tr>\n",
       "</table>\n",
       "<table class=\"simpletable\">\n",
       "<tr>\n",
       "     <td></td>        <th>coef</th>     <th>std err</th>      <th>z</th>      <th>P>|z|</th>  <th>[0.025</th>    <th>0.975]</th>  \n",
       "</tr>\n",
       "<tr>\n",
       "  <th>const</th>   <td>  -10.8690</td> <td>    0.492</td> <td>  -22.079</td> <td> 0.000</td> <td>  -11.834</td> <td>   -9.904</td>\n",
       "</tr>\n",
       "<tr>\n",
       "  <th>stu_yes</th> <td>   -0.6468</td> <td>    0.236</td> <td>   -2.738</td> <td> 0.006</td> <td>   -1.110</td> <td>   -0.184</td>\n",
       "</tr>\n",
       "<tr>\n",
       "  <th>income</th>  <td> 3.033e-06</td> <td>  8.2e-06</td> <td>    0.370</td> <td> 0.712</td> <td> -1.3e-05</td> <td> 1.91e-05</td>\n",
       "</tr>\n",
       "<tr>\n",
       "  <th>balance</th> <td>    0.0057</td> <td>    0.000</td> <td>   24.737</td> <td> 0.000</td> <td>    0.005</td> <td>    0.006</td>\n",
       "</tr>\n",
       "</table><br/><br/>Possibly complete quasi-separation: A fraction 0.15 of observations can be<br/>perfectly predicted. This might indicate that there is complete<br/>quasi-separation. In this case some parameters will not be identified."
      ],
      "text/plain": [
       "<class 'statsmodels.iolib.summary.Summary'>\n",
       "\"\"\"\n",
       "                           Logit Regression Results                           \n",
       "==============================================================================\n",
       "Dep. Variable:                    Yes   No. Observations:                10000\n",
       "Model:                          Logit   Df Residuals:                     9996\n",
       "Method:                           MLE   Df Model:                            3\n",
       "Date:                Tue, 25 Apr 2023   Pseudo R-squ.:                     inf\n",
       "Time:                        15:05:18   Log-Likelihood:                   -inf\n",
       "converged:                       True   LL-Null:                        0.0000\n",
       "Covariance Type:            nonrobust   LLR p-value:                     1.000\n",
       "==============================================================================\n",
       "                 coef    std err          z      P>|z|      [0.025      0.975]\n",
       "------------------------------------------------------------------------------\n",
       "const        -10.8690      0.492    -22.079      0.000     -11.834      -9.904\n",
       "stu_yes       -0.6468      0.236     -2.738      0.006      -1.110      -0.184\n",
       "income      3.033e-06    8.2e-06      0.370      0.712    -1.3e-05    1.91e-05\n",
       "balance        0.0057      0.000     24.737      0.000       0.005       0.006\n",
       "==============================================================================\n",
       "\n",
       "Possibly complete quasi-separation: A fraction 0.15 of observations can be\n",
       "perfectly predicted. This might indicate that there is complete\n",
       "quasi-separation. In this case some parameters will not be identified.\n",
       "\"\"\""
      ]
     },
     "execution_count": 10,
     "metadata": {},
     "output_type": "execute_result"
    }
   ],
   "source": [
    "x=credit[['stu_yes','income','balance']]\n",
    "X=sm.add_constant(x) # sm 패키지 쓸 때는 상수항 추가\n",
    "y=credit['default']\n",
    "y=pd.get_dummies(y)\n",
    "y=y['Yes']\n",
    "\n",
    "logit_model1=sm.Logit(y,X).fit()\n",
    "logit_model1.summary()"
   ]
  },
  {
   "cell_type": "markdown",
   "id": "c327e556",
   "metadata": {},
   "source": [
    "###  결과 해석\n",
    "\n",
    "-0.6468: 부호가 마이너스 : 학생이면 default할 확률이 낮아진다. \n",
    "\n",
    "3.033e-06: 양수 : income 증가할 수록 default할 확률이 커진다.\n",
    "\n",
    "0.0057 : 양수 : balance 많을 수록 default할 확률 크다.\n",
    "\n",
    "(e: 10의 마이너스 6승)\n",
    "\n",
    "계량에서는 p value 계산함. (유의성) \n",
    "\n",
    "income은 통계적으로 유의하지 않다. 왜냐면 p value가 너무 크기 때문에.\n",
    "\n",
    "\n",
    "\n",
    "\n",
    "-해석의 정확한 의미\n",
    "\n",
    "\n",
    "계량에서는 해석할때는 '다른 조건은 일정할 때' 학생이면~~ 이렇게 해석해야함.\n",
    "\n",
    "현실에서는 학생이더 balance가 많을 거기떄문에 학생이 더 risky 하다고 나올것\n",
    "\n",
    "balance가 같다면! 학생이 덜 위험\n",
    "\n",
    "boxplot 보면 알 수 있다.\n",
    "\n",
    "\n",
    "#### confounding effect: \n",
    "\n",
    "학생만 변수로 사용하면 학생이 더 위험함.\n",
    "\n",
    "학생과 발란스를 동시에 넣어서 추정? 학생이 덜 위험하게 나옴.\n",
    "\n",
    "두 변수가 혼합되어있다!\n",
    "\n",
    "분리해봤더니 오히려 학생은 덜 위험한 사람이더라.\n",
    "\n",
    "그래서 혼합되어있을때는 balance가 많아서 위험한건지, 학생이라 위험한건지..."
   ]
  },
  {
   "cell_type": "code",
   "execution_count": 11,
   "id": "9b6c4114",
   "metadata": {},
   "outputs": [
    {
     "data": {
      "text/plain": [
       "array([0.05788194])"
      ]
     },
     "execution_count": 11,
     "metadata": {},
     "output_type": "execute_result"
    }
   ],
   "source": [
    "# prediction\n",
    "\n",
    "X1=[1,1,40000,1500]\n",
    "logit_model1.predict(X1)"
   ]
  },
  {
   "cell_type": "code",
   "execution_count": 12,
   "id": "750b0109",
   "metadata": {},
   "outputs": [
    {
     "data": {
      "text/plain": [
       "array([0.10499192])"
      ]
     },
     "execution_count": 12,
     "metadata": {},
     "output_type": "execute_result"
    }
   ],
   "source": [
    "X1=[1,0,40000,1500]\n",
    "logit_model1.predict(X1)"
   ]
  },
  {
   "cell_type": "markdown",
   "id": "56b962fc",
   "metadata": {},
   "source": [
    "# Multinomial Logistic Regression\n",
    "\n",
    "binary 아닌 classification\n",
    "\n",
    "이때는 sm 아닌 sk 패키지 사용 : LogisticRegression\n",
    "\n",
    "# ROC curve, confusion matrix\n",
    "\n",
    "Roc curve: 가능한 모든 threshold에서 측정한 classificaiton rate을 그래프로 보여주는 방식\n",
    "\n",
    "roc curve의 모양이 중요함!\n",
    "\n",
    "모형 별로 roc curve 나오는데, 그 모양 비교해서 뭐가더 예측 잘하는 모형인지 비교함. \n",
    "\n",
    "Q) 어떻게 모양이 되어야 예측을 잘하는 모형일까\n",
    "\n",
    "곡선의 아랜쪽면적(AUC)이 클수록 예측을 잘한다!\n",
    "\n",
    "AUC의 최댓값=1\n",
    "\n",
    "일반적으로 AUC=0.85이면 아주 좋다고 판단한다."
   ]
  },
  {
   "cell_type": "code",
   "execution_count": 13,
   "id": "8d62fc90",
   "metadata": {},
   "outputs": [
    {
     "data": {
      "text/plain": [
       "0       0\n",
       "1       0\n",
       "2       0\n",
       "3       0\n",
       "4       0\n",
       "       ..\n",
       "9995    0\n",
       "9996    0\n",
       "9997    0\n",
       "9998    0\n",
       "9999    0\n",
       "Name: Yes, Length: 10000, dtype: uint8"
      ]
     },
     "execution_count": 13,
     "metadata": {},
     "output_type": "execute_result"
    }
   ],
   "source": [
    "# sm 과 달리 sk에는 따로 상수 추가할 필요가 없음.\n",
    "# 변수 하나라도 [[]] 이렇게\n",
    "\n",
    "x=credit[['balance']]\n",
    "y=credit['default']\n",
    "y=pd.get_dummies(y)\n",
    "y=y['Yes']\n",
    "y"
   ]
  },
  {
   "cell_type": "code",
   "execution_count": 15,
   "id": "f4c0bb38",
   "metadata": {},
   "outputs": [
    {
     "data": {
      "text/plain": [
       "LogisticRegression()"
      ]
     },
     "execution_count": 15,
     "metadata": {},
     "output_type": "execute_result"
    }
   ],
   "source": [
    "clf=LogisticRegression().fit(x,y)\n",
    "clf"
   ]
  },
  {
   "cell_type": "code",
   "execution_count": 16,
   "id": "b259cdc9",
   "metadata": {},
   "outputs": [
    {
     "data": {
      "text/plain": [
       "array([[0.00549892]])"
      ]
     },
     "execution_count": 16,
     "metadata": {},
     "output_type": "execute_result"
    }
   ],
   "source": [
    "clf.coef_"
   ]
  },
  {
   "cell_type": "code",
   "execution_count": 17,
   "id": "cab0e9fd",
   "metadata": {},
   "outputs": [
    {
     "data": {
      "text/plain": [
       "array([-10.65132824])"
      ]
     },
     "execution_count": 17,
     "metadata": {},
     "output_type": "execute_result"
    }
   ],
   "source": [
    "clf.intercept_"
   ]
  },
  {
   "cell_type": "code",
   "execution_count": 18,
   "id": "5d52cf5a",
   "metadata": {},
   "outputs": [],
   "source": [
    "# x변수가 2개 이상인 경우에는 다음과 같이 실행해야 sm.Logit 과 같은 결과가 나온다. \n",
    "# clf=LogisticRegression(penalty='none', solver='newton-cg').fit(x,y)"
   ]
  },
  {
   "cell_type": "code",
   "execution_count": 21,
   "id": "05793023",
   "metadata": {},
   "outputs": [
    {
     "data": {
      "text/plain": [
       "array([[9.98694319e-01, 1.30568146e-03],\n",
       "       [9.97887402e-01, 2.11259754e-03],\n",
       "       [9.91405252e-01, 8.59474814e-03],\n",
       "       ...,\n",
       "       [9.97533484e-01, 2.46651596e-03],\n",
       "       [8.83240365e-01, 1.16759635e-01],\n",
       "       [9.99928552e-01, 7.14476480e-05]])"
      ]
     },
     "execution_count": 21,
     "metadata": {},
     "output_type": "execute_result"
    }
   ],
   "source": [
    "# ROC, AUC\n",
    "pred1=clf.predict_proba(x)\n",
    "pred1\n",
    "# 첫번째값 넣었을 때[y=0일확률, y가 1일 확률]"
   ]
  },
  {
   "cell_type": "code",
   "execution_count": 23,
   "id": "406f1da5",
   "metadata": {},
   "outputs": [
    {
     "data": {
      "text/plain": [
       "0    9858\n",
       "1     142\n",
       "dtype: int64"
      ]
     },
     "execution_count": 23,
     "metadata": {},
     "output_type": "execute_result"
    }
   ],
   "source": [
    "pred2=clf.predict(x)\n",
    "pred2\n",
    "pd.value_counts(pred2)\n",
    "# 1이 나오는, default 하는 경우가 142"
   ]
  },
  {
   "cell_type": "code",
   "execution_count": 24,
   "id": "951c8bbe",
   "metadata": {},
   "outputs": [
    {
     "data": {
      "text/plain": [
       "array([[9625,   42],\n",
       "       [ 233,  100]], dtype=int64)"
      ]
     },
     "execution_count": 24,
     "metadata": {},
     "output_type": "execute_result"
    }
   ],
   "source": [
    "# confusion matrix\n",
    "\n",
    "confusion_matrix(y,pred2)"
   ]
  },
  {
   "cell_type": "code",
   "execution_count": 25,
   "id": "92ae5c5a",
   "metadata": {},
   "outputs": [
    {
     "data": {
      "text/plain": [
       "0.9725"
      ]
     },
     "execution_count": 25,
     "metadata": {},
     "output_type": "execute_result"
    }
   ],
   "source": [
    "# ccr\n",
    "(9625+100)/10000"
   ]
  },
  {
   "cell_type": "code",
   "execution_count": 28,
   "id": "80605269",
   "metadata": {},
   "outputs": [
    {
     "data": {
      "text/plain": [
       "0.9956553222302679"
      ]
     },
     "execution_count": 28,
     "metadata": {},
     "output_type": "execute_result"
    }
   ],
   "source": [
    "# sensitivity 진양성 true positive rate tpr\n",
    "# specificity true negative rate tnr\n",
    "# 1-spec 위양성 Pr(y_hat=1|y=0) false positive rate\n",
    "\n",
    "# sepcificity\n",
    "9625/(9625+42)"
   ]
  },
  {
   "cell_type": "code",
   "execution_count": 29,
   "id": "6cd7fa85",
   "metadata": {},
   "outputs": [
    {
     "data": {
      "text/plain": [
       "0.3003003003003003"
      ]
     },
     "execution_count": 29,
     "metadata": {},
     "output_type": "execute_result"
    }
   ],
   "source": [
    "# sensitivity\n",
    "100/(100+233)"
   ]
  },
  {
   "cell_type": "code",
   "execution_count": 30,
   "id": "496f6ae9",
   "metadata": {},
   "outputs": [
    {
     "data": {
      "image/png": "[encoded data removed]",
      "text/plain": [
       "<Figure size 640x480 with 1 Axes>"
      ]
     },
     "metadata": {},
     "output_type": "display_data"
    }
   ],
   "source": [
    "# roc 그리기\n",
    "\n",
    "fpr, tpr, thresholds=roc_curve(y,pred1[:,1])\n",
    "plt.plot(fpr, tpr)\n",
    "plt.show()"
   ]
  },
  {
   "cell_type": "code",
   "execution_count": 31,
   "id": "93ea4b6d",
   "metadata": {},
   "outputs": [
    {
     "data": {
      "text/plain": [
       "0.9479784946837808"
      ]
     },
     "execution_count": 31,
     "metadata": {},
     "output_type": "execute_result"
    }
   ],
   "source": [
    "#auc\n",
    "roc_auc_score(y,pred1[:,1])"
   ]
  },
  {
   "cell_type": "markdown",
   "id": "a54bfc49",
   "metadata": {},
   "source": [
    "# sklearn 변수 여러개 모델"
   ]
  },
  {
   "cell_type": "code",
   "execution_count": 50,
   "id": "ff334c55",
   "metadata": {},
   "outputs": [
    {
     "data": {
      "text/plain": [
       "LogisticRegression(penalty='none', solver='newton-cg')"
      ]
     },
     "execution_count": 50,
     "metadata": {},
     "output_type": "execute_result"
    }
   ],
   "source": [
    "x=credit[['stu_yes','income','balance']]\n",
    "y=credit['default']\n",
    "y=pd.get_dummies(y)\n",
    "y=y['Yes']\n",
    "\n",
    "clf2=LogisticRegression(penalty='none', solver='newton-cg').fit(x,y)\n",
    "clf2"
   ]
  },
  {
   "cell_type": "code",
   "execution_count": 51,
   "id": "c13ff047",
   "metadata": {},
   "outputs": [
    {
     "data": {
      "text/plain": [
       "array([[-6.54138022e-01,  2.70107145e-06,  5.72790417e-03]])"
      ]
     },
     "execution_count": 51,
     "metadata": {},
     "output_type": "execute_result"
    }
   ],
   "source": [
    "clf2.coef_"
   ]
  },
  {
   "cell_type": "code",
   "execution_count": 52,
   "id": "734ff300",
   "metadata": {},
   "outputs": [
    {
     "data": {
      "text/plain": [
       "array([-10.84133093])"
      ]
     },
     "execution_count": 52,
     "metadata": {},
     "output_type": "execute_result"
    }
   ],
   "source": [
    "clf2.intercept_"
   ]
  },
  {
   "cell_type": "code",
   "execution_count": 53,
   "id": "878e4bf9",
   "metadata": {},
   "outputs": [
    {
     "data": {
      "text/plain": [
       "array([[9.98561693e-01, 1.43830708e-03],\n",
       "       [9.98867323e-01, 1.13267671e-03],\n",
       "       [9.90110460e-01, 9.88953999e-03],\n",
       "       ...,\n",
       "       [9.97101073e-01, 2.89892658e-03],\n",
       "       [8.52601383e-01, 1.47398617e-01],\n",
       "       [9.99966336e-01, 3.36636624e-05]])"
      ]
     },
     "execution_count": 53,
     "metadata": {},
     "output_type": "execute_result"
    }
   ],
   "source": [
    "# roc\n",
    "\n",
    "pred1=clf2.predict_proba(x)\n",
    "pred1"
   ]
  },
  {
   "cell_type": "code",
   "execution_count": 54,
   "id": "483c2b13",
   "metadata": {},
   "outputs": [
    {
     "data": {
      "text/plain": [
       "0    9855\n",
       "1     145\n",
       "dtype: int64"
      ]
     },
     "execution_count": 54,
     "metadata": {},
     "output_type": "execute_result"
    }
   ],
   "source": [
    "pred2=clf2.predict(x)\n",
    "pred2\n",
    "pd.value_counts(pred2)"
   ]
  },
  {
   "cell_type": "code",
   "execution_count": 55,
   "id": "0cbf61a3",
   "metadata": {},
   "outputs": [
    {
     "data": {
      "text/plain": [
       "(array([0.00000000e+00, 0.00000000e+00, 0.00000000e+00, 1.03444709e-04,\n",
       "        1.03444709e-04, 3.10334126e-04, 3.10334126e-04, 4.13778835e-04,\n",
       "        4.13778835e-04, 6.20668253e-04, 6.20668253e-04, 7.24112962e-04,\n",
       "        7.24112962e-04, 8.27557670e-04, 8.27557670e-04, 9.31002379e-04,\n",
       "        9.31002379e-04, 1.13789180e-03, 1.13789180e-03, 1.24133651e-03,\n",
       "        1.24133651e-03, 1.44822592e-03, 1.44822592e-03, 1.55167063e-03,\n",
       "        1.55167063e-03, 1.65511534e-03, 1.65511534e-03, 1.75856005e-03,\n",
       "        1.75856005e-03, 1.86200476e-03, 1.86200476e-03, 1.96544947e-03,\n",
       "        1.96544947e-03, 2.06889418e-03, 2.06889418e-03, 2.17233888e-03,\n",
       "        2.17233888e-03, 2.27578359e-03, 2.27578359e-03, 2.37922830e-03,\n",
       "        2.37922830e-03, 2.48267301e-03, 2.48267301e-03, 2.58611772e-03,\n",
       "        2.58611772e-03, 2.68956243e-03, 2.68956243e-03, 2.79300714e-03,\n",
       "        2.79300714e-03, 2.89645185e-03, 2.89645185e-03, 3.10334126e-03,\n",
       "        3.10334126e-03, 3.20678597e-03, 3.20678597e-03, 3.41367539e-03,\n",
       "        3.41367539e-03, 3.51712010e-03, 3.51712010e-03, 3.62056481e-03,\n",
       "        3.62056481e-03, 3.93089893e-03, 3.93089893e-03, 4.13778835e-03,\n",
       "        4.13778835e-03, 4.24123306e-03, 4.24123306e-03, 4.44812248e-03,\n",
       "        4.44812248e-03, 4.55156719e-03, 4.55156719e-03, 4.86190131e-03,\n",
       "        4.86190131e-03, 5.17223544e-03, 5.17223544e-03, 5.27568015e-03,\n",
       "        5.27568015e-03, 5.37912486e-03, 5.37912486e-03, 6.20668253e-03,\n",
       "        6.20668253e-03, 6.82735078e-03, 6.82735078e-03, 7.13768491e-03,\n",
       "        7.13768491e-03, 7.34457433e-03, 7.34457433e-03, 7.55146374e-03,\n",
       "        7.55146374e-03, 7.65490845e-03, 7.65490845e-03, 7.75835316e-03,\n",
       "        7.75835316e-03, 8.17213200e-03, 8.17213200e-03, 8.48246612e-03,\n",
       "        8.48246612e-03, 8.68935554e-03, 8.68935554e-03, 8.79280025e-03,\n",
       "        8.79280025e-03, 9.51691321e-03, 9.51691321e-03, 9.62035792e-03,\n",
       "        9.62035792e-03, 9.72380263e-03, 9.72380263e-03, 9.82724734e-03,\n",
       "        9.82724734e-03, 1.03444709e-02, 1.03444709e-02, 1.06548050e-02,\n",
       "        1.06548050e-02, 1.09651391e-02, 1.09651391e-02, 1.10685838e-02,\n",
       "        1.10685838e-02, 1.11720286e-02, 1.11720286e-02, 1.12754733e-02,\n",
       "        1.12754733e-02, 1.13789180e-02, 1.13789180e-02, 1.14823627e-02,\n",
       "        1.14823627e-02, 1.16892521e-02, 1.16892521e-02, 1.24133651e-02,\n",
       "        1.24133651e-02, 1.25168098e-02, 1.25168098e-02, 1.27236992e-02,\n",
       "        1.27236992e-02, 1.38615910e-02, 1.38615910e-02, 1.42753698e-02,\n",
       "        1.42753698e-02, 1.45857039e-02, 1.45857039e-02, 1.55167063e-02,\n",
       "        1.55167063e-02, 1.59304852e-02, 1.59304852e-02, 1.64477087e-02,\n",
       "        1.64477087e-02, 1.74821558e-02, 1.74821558e-02, 1.78959346e-02,\n",
       "        1.78959346e-02, 1.79993793e-02, 1.79993793e-02, 1.87234923e-02,\n",
       "        1.87234923e-02, 1.91372711e-02, 1.91372711e-02, 1.92407158e-02,\n",
       "        1.92407158e-02, 1.93441605e-02, 1.93441605e-02, 1.97579394e-02,\n",
       "        1.97579394e-02, 2.03786076e-02, 2.03786076e-02, 2.04820523e-02,\n",
       "        2.04820523e-02, 2.07923865e-02, 2.07923865e-02, 2.28612806e-02,\n",
       "        2.28612806e-02, 2.30681701e-02, 2.30681701e-02, 2.32750595e-02,\n",
       "        2.32750595e-02, 2.36888383e-02, 2.36888383e-02, 2.37922830e-02,\n",
       "        2.37922830e-02, 2.43095066e-02, 2.43095066e-02, 2.50336195e-02,\n",
       "        2.50336195e-02, 2.52405089e-02, 2.52405089e-02, 2.56542878e-02,\n",
       "        2.56542878e-02, 2.57577325e-02, 2.57577325e-02, 2.59646219e-02,\n",
       "        2.59646219e-02, 2.81369608e-02, 2.81369608e-02, 2.85507396e-02,\n",
       "        2.85507396e-02, 2.88610738e-02, 2.88610738e-02, 2.99989656e-02,\n",
       "        2.99989656e-02, 3.03092997e-02, 3.03092997e-02, 3.10334126e-02,\n",
       "        3.10334126e-02, 3.15506362e-02, 3.15506362e-02, 3.25850833e-02,\n",
       "        3.25850833e-02, 3.36195304e-02, 3.36195304e-02, 3.44470880e-02,\n",
       "        3.44470880e-02, 3.45505327e-02, 3.45505327e-02, 3.48608669e-02,\n",
       "        3.48608669e-02, 3.52746457e-02, 3.52746457e-02, 3.59987587e-02,\n",
       "        3.59987587e-02, 3.61022034e-02, 3.61022034e-02, 3.64125375e-02,\n",
       "        3.64125375e-02, 3.69297610e-02, 3.69297610e-02, 3.70332058e-02,\n",
       "        3.70332058e-02, 3.82745423e-02, 3.82745423e-02, 3.94124341e-02,\n",
       "        3.94124341e-02, 3.96193235e-02, 3.96193235e-02, 4.03434364e-02,\n",
       "        4.03434364e-02, 4.09641047e-02, 4.09641047e-02, 4.14813282e-02,\n",
       "        4.14813282e-02, 4.24123306e-02, 4.24123306e-02, 4.27226647e-02,\n",
       "        4.27226647e-02, 4.37571118e-02, 4.37571118e-02, 4.39640012e-02,\n",
       "        4.39640012e-02, 4.48950036e-02, 4.48950036e-02, 4.52053377e-02,\n",
       "        4.52053377e-02, 4.61363401e-02, 4.61363401e-02, 4.76880108e-02,\n",
       "        4.76880108e-02, 4.95500155e-02, 4.95500155e-02, 5.04810179e-02,\n",
       "        5.04810179e-02, 5.07913520e-02, 5.07913520e-02, 5.09982414e-02,\n",
       "        5.09982414e-02, 5.25499121e-02, 5.25499121e-02, 5.31705803e-02,\n",
       "        5.31705803e-02, 5.45153615e-02, 5.45153615e-02, 5.50325851e-02,\n",
       "        5.50325851e-02, 5.59635875e-02, 5.59635875e-02, 5.64808110e-02,\n",
       "        5.64808110e-02, 5.69980346e-02, 5.69980346e-02, 5.86531499e-02,\n",
       "        5.86531499e-02, 6.02048205e-02, 6.02048205e-02, 6.11358229e-02,\n",
       "        6.11358229e-02, 6.23771594e-02, 6.23771594e-02, 6.52736113e-02,\n",
       "        6.52736113e-02, 6.56873901e-02, 6.56873901e-02, 7.04458467e-02,\n",
       "        7.04458467e-02, 7.08596255e-02, 7.08596255e-02, 7.10665149e-02,\n",
       "        7.10665149e-02, 7.21009620e-02, 7.21009620e-02, 7.54111927e-02,\n",
       "        7.54111927e-02, 7.60318610e-02, 7.60318610e-02, 7.61353057e-02,\n",
       "        7.61353057e-02, 7.83076446e-02, 7.83076446e-02, 7.93420917e-02,\n",
       "        7.93420917e-02, 8.00662046e-02, 8.00662046e-02, 8.03765387e-02,\n",
       "        8.03765387e-02, 8.20316541e-02, 8.20316541e-02, 8.42039930e-02,\n",
       "        8.42039930e-02, 8.72038895e-02, 8.72038895e-02, 8.95831178e-02,\n",
       "        8.95831178e-02, 9.29967932e-02, 9.29967932e-02, 9.34105720e-02,\n",
       "        9.34105720e-02, 9.36174615e-02, 9.36174615e-02, 9.43415744e-02,\n",
       "        9.43415744e-02, 9.52725768e-02, 9.52725768e-02, 9.54794662e-02,\n",
       "        9.54794662e-02, 9.74449157e-02, 9.74449157e-02, 9.77552498e-02,\n",
       "        9.77552498e-02, 9.94103652e-02, 9.94103652e-02, 1.01065481e-01,\n",
       "        1.01065481e-01, 1.02927485e-01, 1.02927485e-01, 1.04582601e-01,\n",
       "        1.04582601e-01, 1.08203165e-01, 1.08203165e-01, 1.09030723e-01,\n",
       "        1.09030723e-01, 1.09651391e-01, 1.09651391e-01, 1.12134064e-01,\n",
       "        1.12134064e-01, 1.15651184e-01, 1.15651184e-01, 1.19064860e-01,\n",
       "        1.19064860e-01, 1.20616530e-01, 1.20616530e-01, 1.21030309e-01,\n",
       "        1.21030309e-01, 1.21237199e-01, 1.21237199e-01, 1.22892314e-01,\n",
       "        1.22892314e-01, 1.25271542e-01, 1.25271542e-01, 1.25892211e-01,\n",
       "        1.25892211e-01, 1.28374884e-01, 1.28374884e-01, 1.31271335e-01,\n",
       "        1.31271335e-01, 1.37684907e-01, 1.37684907e-01, 1.38822799e-01,\n",
       "        1.38822799e-01, 1.49994828e-01, 1.49994828e-01, 1.55580842e-01,\n",
       "        1.55580842e-01, 1.57856626e-01, 1.57856626e-01, 1.59201407e-01,\n",
       "        1.59201407e-01, 1.66959760e-01, 1.66959760e-01, 1.77511120e-01,\n",
       "        1.77511120e-01, 1.89510707e-01, 1.89510707e-01, 1.92820937e-01,\n",
       "        1.92820937e-01, 1.94786387e-01, 1.94786387e-01, 2.00786180e-01,\n",
       "        2.00786180e-01, 2.01303403e-01, 2.01303403e-01, 2.06165305e-01,\n",
       "        2.06165305e-01, 2.12475432e-01, 2.12475432e-01, 2.14647771e-01,\n",
       "        2.14647771e-01, 2.24888797e-01, 2.24888797e-01, 2.28199028e-01,\n",
       "        2.28199028e-01, 2.29854143e-01, 2.29854143e-01, 2.32336816e-01,\n",
       "        2.32336816e-01, 2.35440157e-01, 2.35440157e-01, 2.39164167e-01,\n",
       "        2.39164167e-01, 2.61301334e-01, 2.61301334e-01, 2.87886625e-01,\n",
       "        2.87886625e-01, 2.90783076e-01, 2.90783076e-01, 3.14058136e-01,\n",
       "        3.14058136e-01, 3.26574946e-01, 3.26574946e-01, 3.33816075e-01,\n",
       "        3.33816075e-01, 3.44367436e-01, 3.44367436e-01, 3.44677770e-01,\n",
       "        3.44677770e-01, 3.98779352e-01, 3.98779352e-01, 4.84948795e-01,\n",
       "        4.84948795e-01, 5.56635978e-01, 5.56635978e-01, 5.89738285e-01,\n",
       "        5.89738285e-01, 1.00000000e+00]),\n",
       " array([0.        , 0.003003  , 0.01201201, 0.01201201, 0.03003003,\n",
       "        0.03003003, 0.05705706, 0.05705706, 0.09009009, 0.09009009,\n",
       "        0.09309309, 0.09309309, 0.0960961 , 0.0960961 , 0.12012012,\n",
       "        0.12012012, 0.16516517, 0.16516517, 0.17117117, 0.17117117,\n",
       "        0.18018018, 0.18018018, 0.18318318, 0.18318318, 0.18618619,\n",
       "        0.18618619, 0.1981982 , 0.1981982 , 0.20720721, 0.20720721,\n",
       "        0.21921922, 0.21921922, 0.22822823, 0.22822823, 0.23423423,\n",
       "        0.23423423, 0.23723724, 0.23723724, 0.24024024, 0.24024024,\n",
       "        0.24924925, 0.24924925, 0.25525526, 0.25525526, 0.26126126,\n",
       "        0.26126126, 0.27027027, 0.27027027, 0.27927928, 0.27927928,\n",
       "        0.28828829, 0.28828829, 0.29129129, 0.29129129, 0.29429429,\n",
       "        0.29429429, 0.3003003 , 0.3003003 , 0.3033033 , 0.3033033 ,\n",
       "        0.30930931, 0.30930931, 0.31531532, 0.31531532, 0.31831832,\n",
       "        0.31831832, 0.32132132, 0.32132132, 0.33033033, 0.33033033,\n",
       "        0.33933934, 0.33933934, 0.34834835, 0.34834835, 0.35435435,\n",
       "        0.35435435, 0.36636637, 0.36636637, 0.37537538, 0.37537538,\n",
       "        0.37837838, 0.37837838, 0.38438438, 0.38438438, 0.39039039,\n",
       "        0.39039039, 0.39339339, 0.39339339, 0.3963964 , 0.3963964 ,\n",
       "        0.3993994 , 0.3993994 , 0.4024024 , 0.4024024 , 0.41741742,\n",
       "        0.41741742, 0.42042042, 0.42042042, 0.42342342, 0.42342342,\n",
       "        0.42942943, 0.42942943, 0.43243243, 0.43243243, 0.43543544,\n",
       "        0.43543544, 0.44744745, 0.44744745, 0.45945946, 0.45945946,\n",
       "        0.46546547, 0.46546547, 0.46846847, 0.46846847, 0.47147147,\n",
       "        0.47147147, 0.47447447, 0.47447447, 0.47747748, 0.47747748,\n",
       "        0.48048048, 0.48048048, 0.48348348, 0.48348348, 0.48948949,\n",
       "        0.48948949, 0.49249249, 0.49249249, 0.4984985 , 0.4984985 ,\n",
       "        0.5015015 , 0.5015015 , 0.5045045 , 0.5045045 , 0.50750751,\n",
       "        0.50750751, 0.51051051, 0.51051051, 0.51351351, 0.51351351,\n",
       "        0.51651652, 0.51651652, 0.51951952, 0.51951952, 0.52252252,\n",
       "        0.52252252, 0.52552553, 0.52552553, 0.52852853, 0.52852853,\n",
       "        0.53453453, 0.53453453, 0.53753754, 0.53753754, 0.54054054,\n",
       "        0.54054054, 0.54654655, 0.54654655, 0.55255255, 0.55255255,\n",
       "        0.55555556, 0.55555556, 0.55855856, 0.55855856, 0.56156156,\n",
       "        0.56156156, 0.56456456, 0.56456456, 0.57057057, 0.57057057,\n",
       "        0.57357357, 0.57357357, 0.57957958, 0.57957958, 0.58258258,\n",
       "        0.58258258, 0.58558559, 0.58558559, 0.58858859, 0.58858859,\n",
       "        0.59159159, 0.59159159, 0.59459459, 0.59459459, 0.5975976 ,\n",
       "        0.5975976 , 0.6006006 , 0.6006006 , 0.6036036 , 0.6036036 ,\n",
       "        0.60660661, 0.60660661, 0.60960961, 0.60960961, 0.61261261,\n",
       "        0.61261261, 0.61861862, 0.61861862, 0.62162162, 0.62162162,\n",
       "        0.62462462, 0.62462462, 0.62762763, 0.62762763, 0.63063063,\n",
       "        0.63063063, 0.63363363, 0.63363363, 0.63663664, 0.63663664,\n",
       "        0.63963964, 0.63963964, 0.64264264, 0.64264264, 0.64564565,\n",
       "        0.64564565, 0.64864865, 0.64864865, 0.65165165, 0.65165165,\n",
       "        0.65465465, 0.65465465, 0.65765766, 0.65765766, 0.66066066,\n",
       "        0.66066066, 0.66666667, 0.66666667, 0.66966967, 0.66966967,\n",
       "        0.67267267, 0.67267267, 0.67567568, 0.67567568, 0.68168168,\n",
       "        0.68168168, 0.68468468, 0.68468468, 0.68768769, 0.68768769,\n",
       "        0.69069069, 0.69069069, 0.69369369, 0.69369369, 0.6966967 ,\n",
       "        0.6966967 , 0.6996997 , 0.6996997 , 0.7027027 , 0.7027027 ,\n",
       "        0.70570571, 0.70570571, 0.71171171, 0.71171171, 0.71471471,\n",
       "        0.71471471, 0.71771772, 0.71771772, 0.72072072, 0.72072072,\n",
       "        0.72372372, 0.72372372, 0.72672673, 0.72672673, 0.72972973,\n",
       "        0.72972973, 0.73273273, 0.73273273, 0.73573574, 0.73573574,\n",
       "        0.73873874, 0.73873874, 0.74174174, 0.74174174, 0.74474474,\n",
       "        0.74474474, 0.74774775, 0.74774775, 0.75075075, 0.75075075,\n",
       "        0.75375375, 0.75375375, 0.75975976, 0.75975976, 0.76276276,\n",
       "        0.76276276, 0.76576577, 0.76576577, 0.76876877, 0.76876877,\n",
       "        0.77177177, 0.77177177, 0.77477477, 0.77477477, 0.77777778,\n",
       "        0.77777778, 0.78078078, 0.78078078, 0.78378378, 0.78378378,\n",
       "        0.78678679, 0.78678679, 0.79279279, 0.79279279, 0.7957958 ,\n",
       "        0.7957958 , 0.7987988 , 0.7987988 , 0.8018018 , 0.8018018 ,\n",
       "        0.8048048 , 0.8048048 , 0.80780781, 0.80780781, 0.81081081,\n",
       "        0.81081081, 0.81381381, 0.81381381, 0.81681682, 0.81681682,\n",
       "        0.82282282, 0.82282282, 0.82582583, 0.82582583, 0.82882883,\n",
       "        0.82882883, 0.83183183, 0.83183183, 0.83483483, 0.83483483,\n",
       "        0.83783784, 0.83783784, 0.84084084, 0.84084084, 0.84384384,\n",
       "        0.84384384, 0.84684685, 0.84684685, 0.84984985, 0.84984985,\n",
       "        0.85285285, 0.85285285, 0.85585586, 0.85585586, 0.85885886,\n",
       "        0.85885886, 0.86186186, 0.86186186, 0.86486486, 0.86486486,\n",
       "        0.86786787, 0.86786787, 0.87087087, 0.87087087, 0.87387387,\n",
       "        0.87387387, 0.87687688, 0.87687688, 0.87987988, 0.87987988,\n",
       "        0.88288288, 0.88288288, 0.88588589, 0.88588589, 0.88888889,\n",
       "        0.88888889, 0.89189189, 0.89189189, 0.89489489, 0.89489489,\n",
       "        0.9009009 , 0.9009009 , 0.9039039 , 0.9039039 , 0.90690691,\n",
       "        0.90690691, 0.90990991, 0.90990991, 0.91291291, 0.91291291,\n",
       "        0.91591592, 0.91591592, 0.91891892, 0.91891892, 0.92192192,\n",
       "        0.92192192, 0.92492492, 0.92492492, 0.92792793, 0.92792793,\n",
       "        0.93093093, 0.93093093, 0.93393393, 0.93393393, 0.93693694,\n",
       "        0.93693694, 0.93993994, 0.93993994, 0.94294294, 0.94294294,\n",
       "        0.94594595, 0.94594595, 0.94894895, 0.94894895, 0.95195195,\n",
       "        0.95195195, 0.95495495, 0.95495495, 0.95795796, 0.95795796,\n",
       "        0.96096096, 0.96096096, 0.96396396, 0.96396396, 0.96696697,\n",
       "        0.96696697, 0.96996997, 0.96996997, 0.97297297, 0.97297297,\n",
       "        0.97597598, 0.97597598, 0.97897898, 0.97897898, 0.98198198,\n",
       "        0.98198198, 0.98498498, 0.98498498, 0.98798799, 0.98798799,\n",
       "        0.99099099, 0.99099099, 0.99399399, 0.99399399, 0.996997  ,\n",
       "        0.996997  , 1.        , 1.        ]),\n",
       " array([1.97741161e+00, 9.77411613e-01, 9.56312907e-01, 9.52120494e-01,\n",
       "        9.05104475e-01, 8.95465425e-01, 8.58256321e-01, 8.55853423e-01,\n",
       "        8.06272560e-01, 7.85863735e-01, 7.82429740e-01, 7.80103928e-01,\n",
       "        7.78017745e-01, 7.75256456e-01, 7.59196577e-01, 7.50224157e-01,\n",
       "        7.16291600e-01, 7.13233720e-01, 7.02218605e-01, 7.01928017e-01,\n",
       "        6.87433173e-01, 6.84884481e-01, 6.80888226e-01, 6.80748898e-01,\n",
       "        6.78168507e-01, 6.75699113e-01, 6.68933546e-01, 6.66317388e-01,\n",
       "        6.60157337e-01, 6.56316423e-01, 6.40666984e-01, 6.34123925e-01,\n",
       "        6.31435603e-01, 6.29282141e-01, 6.26327484e-01, 6.26271996e-01,\n",
       "        6.23479285e-01, 6.22880810e-01, 6.20427898e-01, 6.18416937e-01,\n",
       "        5.91615392e-01, 5.88719814e-01, 5.80361306e-01, 5.78768863e-01,\n",
       "        5.74330191e-01, 5.73078295e-01, 5.66819422e-01, 5.62458393e-01,\n",
       "        5.51007738e-01, 5.50215333e-01, 5.49061578e-01, 5.46665125e-01,\n",
       "        5.43367024e-01, 5.42274443e-01, 5.40795749e-01, 5.34879862e-01,\n",
       "        5.28555461e-01, 5.26796451e-01, 5.22286305e-01, 5.21453200e-01,\n",
       "        5.20940770e-01, 5.15174384e-01, 5.09112068e-01, 5.01816387e-01,\n",
       "        4.94709790e-01, 4.93097248e-01, 4.92255795e-01, 4.86536544e-01,\n",
       "        4.83429322e-01, 4.80920827e-01, 4.71340854e-01, 4.62335508e-01,\n",
       "        4.53598137e-01, 4.45729126e-01, 4.44808734e-01, 4.43971142e-01,\n",
       "        4.36590250e-01, 4.34183857e-01, 4.28783436e-01, 4.20425292e-01,\n",
       "        4.20344698e-01, 4.12624483e-01, 4.11579880e-01, 4.08872280e-01,\n",
       "        4.07862713e-01, 4.06839869e-01, 4.06051768e-01, 4.05254341e-01,\n",
       "        4.04477134e-01, 4.04421429e-01, 4.03502536e-01, 4.02894546e-01,\n",
       "        4.02307124e-01, 3.99299919e-01, 3.95705857e-01, 3.90749218e-01,\n",
       "        3.90617713e-01, 3.89384084e-01, 3.88042155e-01, 3.86459507e-01,\n",
       "        3.86030620e-01, 3.66936231e-01, 3.63512687e-01, 3.63263833e-01,\n",
       "        3.63136936e-01, 3.62930579e-01, 3.55513801e-01, 3.54980263e-01,\n",
       "        3.50952212e-01, 3.47034834e-01, 3.46426399e-01, 3.44195695e-01,\n",
       "        3.39040580e-01, 3.38044714e-01, 3.37107694e-01, 3.37017150e-01,\n",
       "        3.36991478e-01, 3.36413900e-01, 3.33752387e-01, 3.33586356e-01,\n",
       "        3.30729880e-01, 3.30566387e-01, 3.30458685e-01, 3.29213078e-01,\n",
       "        3.26434337e-01, 3.24965037e-01, 3.24551514e-01, 3.17345269e-01,\n",
       "        3.16359903e-01, 3.16023357e-01, 3.14790097e-01, 3.14160714e-01,\n",
       "        3.10674582e-01, 3.01974742e-01, 3.01739386e-01, 2.98611193e-01,\n",
       "        2.98479908e-01, 2.97136805e-01, 2.95738842e-01, 2.88727762e-01,\n",
       "        2.88564890e-01, 2.84097396e-01, 2.83546130e-01, 2.81695070e-01,\n",
       "        2.78663380e-01, 2.72162747e-01, 2.70964452e-01, 2.69728033e-01,\n",
       "        2.67895227e-01, 2.67435618e-01, 2.65292692e-01, 2.61817200e-01,\n",
       "        2.61791861e-01, 2.55899514e-01, 2.55872905e-01, 2.53460091e-01,\n",
       "        2.53111446e-01, 2.53044821e-01, 2.51192655e-01, 2.49552879e-01,\n",
       "        2.49499046e-01, 2.47452369e-01, 2.47030176e-01, 2.46700683e-01,\n",
       "        2.45534747e-01, 2.44748910e-01, 2.44501379e-01, 2.32036573e-01,\n",
       "        2.31153098e-01, 2.29500470e-01, 2.28344823e-01, 2.27007198e-01,\n",
       "        2.25179956e-01, 2.23449728e-01, 2.22875037e-01, 2.22845305e-01,\n",
       "        2.21901749e-01, 2.20481342e-01, 2.20304181e-01, 2.18373790e-01,\n",
       "        2.18368735e-01, 2.17387175e-01, 2.16199647e-01, 2.13890270e-01,\n",
       "        2.13852813e-01, 2.13592704e-01, 2.13349658e-01, 2.12914194e-01,\n",
       "        2.12758954e-01, 2.02888319e-01, 2.02855733e-01, 2.01068697e-01,\n",
       "        2.00217717e-01, 1.99431600e-01, 1.99327539e-01, 1.91277602e-01,\n",
       "        1.91213205e-01, 1.89814904e-01, 1.89340544e-01, 1.86709682e-01,\n",
       "        1.86114126e-01, 1.84468340e-01, 1.84467725e-01, 1.79654104e-01,\n",
       "        1.79387550e-01, 1.74638999e-01, 1.74342218e-01, 1.72380764e-01,\n",
       "        1.72290944e-01, 1.71458820e-01, 1.71336474e-01, 1.70489467e-01,\n",
       "        1.70478802e-01, 1.69298413e-01, 1.69219227e-01, 1.67279076e-01,\n",
       "        1.67257489e-01, 1.67023565e-01, 1.65587692e-01, 1.64999690e-01,\n",
       "        1.64950452e-01, 1.63502608e-01, 1.63490388e-01, 1.63188416e-01,\n",
       "        1.62502488e-01, 1.57594278e-01, 1.56277234e-01, 1.51933062e-01,\n",
       "        1.51798575e-01, 1.50326126e-01, 1.50238908e-01, 1.49083875e-01,\n",
       "        1.48566028e-01, 1.47361810e-01, 1.47110623e-01, 1.44941667e-01,\n",
       "        1.44870479e-01, 1.42024108e-01, 1.41594847e-01, 1.40946792e-01,\n",
       "        1.40818624e-01, 1.38456722e-01, 1.37731873e-01, 1.37482197e-01,\n",
       "        1.37445156e-01, 1.34493814e-01, 1.34225715e-01, 1.33381549e-01,\n",
       "        1.33171235e-01, 1.30406469e-01, 1.30373177e-01, 1.25074941e-01,\n",
       "        1.24503625e-01, 1.20911154e-01, 1.19773981e-01, 1.17590743e-01,\n",
       "        1.17495927e-01, 1.16296169e-01, 1.16235483e-01, 1.15339866e-01,\n",
       "        1.15225456e-01, 1.10483650e-01, 1.10377376e-01, 1.09207715e-01,\n",
       "        1.09126728e-01, 1.07119046e-01, 1.06821459e-01, 1.05677227e-01,\n",
       "        1.05616374e-01, 1.04315788e-01, 1.04189877e-01, 1.03391170e-01,\n",
       "        1.03090226e-01, 1.01810963e-01, 1.01631939e-01, 9.89412415e-02,\n",
       "        9.82303154e-02, 9.52187048e-02, 9.49283657e-02, 9.38302435e-02,\n",
       "        9.38148560e-02, 9.22013497e-02, 9.19382965e-02, 8.70917998e-02,\n",
       "        8.63336236e-02, 8.60302424e-02, 8.60000791e-02, 7.97643158e-02,\n",
       "        7.97337352e-02, 7.92840455e-02, 7.90720122e-02, 7.86005817e-02,\n",
       "        7.84088073e-02, 7.61328881e-02, 7.59288062e-02, 7.27389898e-02,\n",
       "        7.24827132e-02, 7.19029383e-02, 7.17601739e-02, 7.17065547e-02,\n",
       "        7.15269744e-02, 6.88494488e-02, 6.86700640e-02, 6.75798988e-02,\n",
       "        6.73469063e-02, 6.64838313e-02, 6.63445264e-02, 6.61653469e-02,\n",
       "        6.58828409e-02, 6.35502628e-02, 6.33584601e-02, 6.12240953e-02,\n",
       "        6.11336287e-02, 5.93890592e-02, 5.93545207e-02, 5.75577346e-02,\n",
       "        5.74836903e-02, 5.55943046e-02, 5.54586907e-02, 5.53001502e-02,\n",
       "        5.51568552e-02, 5.51351389e-02, 5.51318400e-02, 5.44379802e-02,\n",
       "        5.43819760e-02, 5.36789510e-02, 5.35674695e-02, 5.35189619e-02,\n",
       "        5.35048171e-02, 5.19005731e-02, 5.18816322e-02, 5.14802087e-02,\n",
       "        5.14629015e-02, 5.07570047e-02, 5.06970525e-02, 4.88730308e-02,\n",
       "        4.87597230e-02, 4.78209347e-02, 4.77935168e-02, 4.71325352e-02,\n",
       "        4.70140108e-02, 4.54019825e-02, 4.53462907e-02, 4.49778424e-02,\n",
       "        4.49345816e-02, 4.46141563e-02, 4.45744340e-02, 4.35453078e-02,\n",
       "        4.35415923e-02, 4.16604849e-02, 4.16542034e-02, 3.98985671e-02,\n",
       "        3.98170823e-02, 3.91489883e-02, 3.90849289e-02, 3.89194933e-02,\n",
       "        3.88329370e-02, 3.87942270e-02, 3.87849708e-02, 3.78016719e-02,\n",
       "        3.77762672e-02, 3.69324924e-02, 3.69191070e-02, 3.67295532e-02,\n",
       "        3.67162950e-02, 3.55497384e-02, 3.55476856e-02, 3.42170296e-02,\n",
       "        3.41604966e-02, 3.17120062e-02, 3.16563447e-02, 3.13778161e-02,\n",
       "        3.13490498e-02, 2.76907448e-02, 2.76490913e-02, 2.62101770e-02,\n",
       "        2.61675396e-02, 2.55733713e-02, 2.55555395e-02, 2.52368795e-02,\n",
       "        2.52267295e-02, 2.30535057e-02, 2.30352708e-02, 2.06003359e-02,\n",
       "        2.05983555e-02, 1.84801540e-02, 1.84707787e-02, 1.77875062e-02,\n",
       "        1.77680666e-02, 1.74797173e-02, 1.74767230e-02, 1.67371510e-02,\n",
       "        1.67249161e-02, 1.67008207e-02, 1.66919531e-02, 1.58185058e-02,\n",
       "        1.58180997e-02, 1.49550701e-02, 1.49427959e-02, 1.46722179e-02,\n",
       "        1.46640463e-02, 1.33994240e-02, 1.33896411e-02, 1.30059509e-02,\n",
       "        1.29874028e-02, 1.27658887e-02, 1.27645280e-02, 1.25599372e-02,\n",
       "        1.25383678e-02, 1.21780881e-02, 1.21714983e-02, 1.17842264e-02,\n",
       "        1.17626611e-02, 9.86425194e-03, 9.86358249e-03, 8.08071562e-03,\n",
       "        8.07644842e-03, 7.85369002e-03, 7.84758207e-03, 6.50755856e-03,\n",
       "        6.50510032e-03, 5.85938365e-03, 5.85928850e-03, 5.57154021e-03,\n",
       "        5.55868204e-03, 5.18173699e-03, 5.17839789e-03, 5.17525578e-03,\n",
       "        5.17283732e-03, 3.54624891e-03, 3.54459578e-03, 1.96127696e-03,\n",
       "        1.95960993e-03, 1.16479455e-03, 1.16457613e-03, 9.29811880e-04,\n",
       "        9.29629302e-04, 1.04354546e-05]))"
      ]
     },
     "execution_count": 55,
     "metadata": {},
     "output_type": "execute_result"
    }
   ],
   "source": [
    "roc_curve(y,pred1[:,1])"
   ]
  },
  {
   "cell_type": "code",
   "execution_count": 56,
   "id": "07da829c",
   "metadata": {},
   "outputs": [
    {
     "data": {
      "image/png": "[encoded data removed]",
      "text/plain": [
       "<Figure size 640x480 with 1 Axes>"
      ]
     },
     "metadata": {},
     "output_type": "display_data"
    }
   ],
   "source": [
    "fpr, tpr, thresolds=roc_curve(y,pred1[:,1])\n",
    "plt.plot(fpr, tpr)\n",
    "plt.show()"
   ]
  },
  {
   "cell_type": "code",
   "execution_count": 57,
   "id": "d8163d2a",
   "metadata": {},
   "outputs": [
    {
     "data": {
      "text/plain": [
       "0.949549425291641"
      ]
     },
     "execution_count": 57,
     "metadata": {},
     "output_type": "execute_result"
    }
   ],
   "source": [
    "roc_auc_score(y,pred1[:,1])"
   ]
  },
  {
   "cell_type": "code",
   "execution_count": 58,
   "id": "27f66bdf",
   "metadata": {},
   "outputs": [
    {
     "data": {
      "text/plain": [
       "array([[9627,   40],\n",
       "       [ 228,  105]], dtype=int64)"
      ]
     },
     "execution_count": 58,
     "metadata": {},
     "output_type": "execute_result"
    }
   ],
   "source": [
    "confusion_matrix(y,pred2)"
   ]
  },
  {
   "cell_type": "code",
   "execution_count": 60,
   "id": "1e055d0e",
   "metadata": {},
   "outputs": [
    {
     "data": {
      "text/plain": [
       "0.9732"
      ]
     },
     "execution_count": 60,
     "metadata": {},
     "output_type": "execute_result"
    }
   ],
   "source": [
    "#전체 개수에서 대각선의 개수의 합을 분자로 하면 CCR\n",
    "# ccr : correctly classified rate\n",
    "(9627+105)/10000"
   ]
  },
  {
   "cell_type": "code",
   "execution_count": 62,
   "id": "0d2ead5b",
   "metadata": {},
   "outputs": [
    {
     "data": {
      "text/plain": [
       "0.9958622116478743"
      ]
     },
     "execution_count": 62,
     "metadata": {},
     "output_type": "execute_result"
    }
   ],
   "source": [
    "spec=(9627)/(9627+40)\n",
    "spec"
   ]
  },
  {
   "cell_type": "code",
   "execution_count": 63,
   "id": "4fbccd4d",
   "metadata": {},
   "outputs": [
    {
     "data": {
      "text/plain": [
       "0.3153153153153153"
      ]
     },
     "execution_count": 63,
     "metadata": {},
     "output_type": "execute_result"
    }
   ],
   "source": [
    "sen=(105)/(228+105)\n",
    "sen"
   ]
  },
  {
   "cell_type": "markdown",
   "id": "0ca66fbb",
   "metadata": {},
   "source": [
    "# out of sample prediction - sklearn\n",
    "\n",
    "## 시계열데이터"
   ]
  },
  {
   "cell_type": "code",
   "execution_count": 65,
   "id": "3f7523a1",
   "metadata": {},
   "outputs": [
    {
     "data": {
      "text/html": [
       "<div>\n",
       "<style scoped>\n",
       "    .dataframe tbody tr th:only-of-type {\n",
       "        vertical-align: middle;\n",
       "    }\n",
       "\n",
       "    .dataframe tbody tr th {\n",
       "        vertical-align: top;\n",
       "    }\n",
       "\n",
       "    .dataframe thead th {\n",
       "        text-align: right;\n",
       "    }\n",
       "</style>\n",
       "<table border=\"1\" class=\"dataframe\">\n",
       "  <thead>\n",
       "    <tr style=\"text-align: right;\">\n",
       "      <th></th>\n",
       "      <th>Lag1</th>\n",
       "      <th>Lag2</th>\n",
       "      <th>Lag3</th>\n",
       "      <th>Lag4</th>\n",
       "      <th>Lag5</th>\n",
       "      <th>Volume</th>\n",
       "      <th>Today</th>\n",
       "      <th>Direction</th>\n",
       "    </tr>\n",
       "    <tr>\n",
       "      <th>Year</th>\n",
       "      <th></th>\n",
       "      <th></th>\n",
       "      <th></th>\n",
       "      <th></th>\n",
       "      <th></th>\n",
       "      <th></th>\n",
       "      <th></th>\n",
       "      <th></th>\n",
       "    </tr>\n",
       "  </thead>\n",
       "  <tbody>\n",
       "    <tr>\n",
       "      <th>2001</th>\n",
       "      <td>0.381</td>\n",
       "      <td>-0.192</td>\n",
       "      <td>-2.624</td>\n",
       "      <td>-1.055</td>\n",
       "      <td>5.010</td>\n",
       "      <td>1.19130</td>\n",
       "      <td>0.959</td>\n",
       "      <td>Up</td>\n",
       "    </tr>\n",
       "    <tr>\n",
       "      <th>2001</th>\n",
       "      <td>0.959</td>\n",
       "      <td>0.381</td>\n",
       "      <td>-0.192</td>\n",
       "      <td>-2.624</td>\n",
       "      <td>-1.055</td>\n",
       "      <td>1.29650</td>\n",
       "      <td>1.032</td>\n",
       "      <td>Up</td>\n",
       "    </tr>\n",
       "    <tr>\n",
       "      <th>2001</th>\n",
       "      <td>1.032</td>\n",
       "      <td>0.959</td>\n",
       "      <td>0.381</td>\n",
       "      <td>-0.192</td>\n",
       "      <td>-2.624</td>\n",
       "      <td>1.41120</td>\n",
       "      <td>-0.623</td>\n",
       "      <td>Down</td>\n",
       "    </tr>\n",
       "    <tr>\n",
       "      <th>2001</th>\n",
       "      <td>-0.623</td>\n",
       "      <td>1.032</td>\n",
       "      <td>0.959</td>\n",
       "      <td>0.381</td>\n",
       "      <td>-0.192</td>\n",
       "      <td>1.27600</td>\n",
       "      <td>0.614</td>\n",
       "      <td>Up</td>\n",
       "    </tr>\n",
       "    <tr>\n",
       "      <th>2001</th>\n",
       "      <td>0.614</td>\n",
       "      <td>-0.623</td>\n",
       "      <td>1.032</td>\n",
       "      <td>0.959</td>\n",
       "      <td>0.381</td>\n",
       "      <td>1.20570</td>\n",
       "      <td>0.213</td>\n",
       "      <td>Up</td>\n",
       "    </tr>\n",
       "    <tr>\n",
       "      <th>...</th>\n",
       "      <td>...</td>\n",
       "      <td>...</td>\n",
       "      <td>...</td>\n",
       "      <td>...</td>\n",
       "      <td>...</td>\n",
       "      <td>...</td>\n",
       "      <td>...</td>\n",
       "      <td>...</td>\n",
       "    </tr>\n",
       "    <tr>\n",
       "      <th>2005</th>\n",
       "      <td>0.422</td>\n",
       "      <td>0.252</td>\n",
       "      <td>-0.024</td>\n",
       "      <td>-0.584</td>\n",
       "      <td>-0.285</td>\n",
       "      <td>1.88850</td>\n",
       "      <td>0.043</td>\n",
       "      <td>Up</td>\n",
       "    </tr>\n",
       "    <tr>\n",
       "      <th>2005</th>\n",
       "      <td>0.043</td>\n",
       "      <td>0.422</td>\n",
       "      <td>0.252</td>\n",
       "      <td>-0.024</td>\n",
       "      <td>-0.584</td>\n",
       "      <td>1.28581</td>\n",
       "      <td>-0.955</td>\n",
       "      <td>Down</td>\n",
       "    </tr>\n",
       "    <tr>\n",
       "      <th>2005</th>\n",
       "      <td>-0.955</td>\n",
       "      <td>0.043</td>\n",
       "      <td>0.422</td>\n",
       "      <td>0.252</td>\n",
       "      <td>-0.024</td>\n",
       "      <td>1.54047</td>\n",
       "      <td>0.130</td>\n",
       "      <td>Up</td>\n",
       "    </tr>\n",
       "    <tr>\n",
       "      <th>2005</th>\n",
       "      <td>0.130</td>\n",
       "      <td>-0.955</td>\n",
       "      <td>0.043</td>\n",
       "      <td>0.422</td>\n",
       "      <td>0.252</td>\n",
       "      <td>1.42236</td>\n",
       "      <td>-0.298</td>\n",
       "      <td>Down</td>\n",
       "    </tr>\n",
       "    <tr>\n",
       "      <th>2005</th>\n",
       "      <td>-0.298</td>\n",
       "      <td>0.130</td>\n",
       "      <td>-0.955</td>\n",
       "      <td>0.043</td>\n",
       "      <td>0.422</td>\n",
       "      <td>1.38254</td>\n",
       "      <td>-0.489</td>\n",
       "      <td>Down</td>\n",
       "    </tr>\n",
       "  </tbody>\n",
       "</table>\n",
       "<p>1250 rows × 8 columns</p>\n",
       "</div>"
      ],
      "text/plain": [
       "       Lag1   Lag2   Lag3   Lag4   Lag5   Volume  Today Direction\n",
       "Year                                                             \n",
       "2001  0.381 -0.192 -2.624 -1.055  5.010  1.19130  0.959        Up\n",
       "2001  0.959  0.381 -0.192 -2.624 -1.055  1.29650  1.032        Up\n",
       "2001  1.032  0.959  0.381 -0.192 -2.624  1.41120 -0.623      Down\n",
       "2001 -0.623  1.032  0.959  0.381 -0.192  1.27600  0.614        Up\n",
       "2001  0.614 -0.623  1.032  0.959  0.381  1.20570  0.213        Up\n",
       "...     ...    ...    ...    ...    ...      ...    ...       ...\n",
       "2005  0.422  0.252 -0.024 -0.584 -0.285  1.88850  0.043        Up\n",
       "2005  0.043  0.422  0.252 -0.024 -0.584  1.28581 -0.955      Down\n",
       "2005 -0.955  0.043  0.422  0.252 -0.024  1.54047  0.130        Up\n",
       "2005  0.130 -0.955  0.043  0.422  0.252  1.42236 -0.298      Down\n",
       "2005 -0.298  0.130 -0.955  0.043  0.422  1.38254 -0.489      Down\n",
       "\n",
       "[1250 rows x 8 columns]"
      ]
     },
     "execution_count": 65,
     "metadata": {},
     "output_type": "execute_result"
    }
   ],
   "source": [
    "file2=\"c:/temp/smarket.csv\"\n",
    "smarket=pd.read_csv(file2, index_col='Year', parse_dates=True)\n",
    "\n",
    "# 시계열 데이터를 불러올 때는 time variable이 index column 되도록 지정해야 한다. \n",
    "smarket.index=smarket.index.year\n",
    "smarket"
   ]
  },
  {
   "cell_type": "code",
   "execution_count": 66,
   "id": "ca9abef3",
   "metadata": {},
   "outputs": [],
   "source": [
    "train_set=smarket[smarket.index<=2004]\n",
    "test_set=smarket[smarket.index>=2005]"
   ]
  },
  {
   "cell_type": "code",
   "execution_count": 67,
   "id": "6f9a0262",
   "metadata": {},
   "outputs": [],
   "source": [
    "train_set=smarket.loc[:2004]\n",
    "test_set=smarket.loc[2005:]"
   ]
  },
  {
   "cell_type": "code",
   "execution_count": null,
   "id": "98620e69",
   "metadata": {},
   "outputs": [],
   "source": []
  },
  {
   "cell_type": "code",
   "execution_count": null,
   "id": "a1991d03",
   "metadata": {},
   "outputs": [],
   "source": []
  },
  {
   "cell_type": "code",
   "execution_count": null,
   "id": "7edf0b2e",
   "metadata": {},
   "outputs": [],
   "source": []
  },
  {
   "cell_type": "code",
   "execution_count": null,
   "id": "4479e815",
   "metadata": {},
   "outputs": [],
   "source": []
  },
  {
   "cell_type": "code",
   "execution_count": null,
   "id": "502d126b",
   "metadata": {},
   "outputs": [],
   "source": []
  },
  {
   "cell_type": "code",
   "execution_count": null,
   "id": "a162c6d0",
   "metadata": {},
   "outputs": [],
   "source": []
  },
  {
   "cell_type": "code",
   "execution_count": null,
   "id": "d0b51cbb",
   "metadata": {},
   "outputs": [],
   "source": []
  },
  {
   "cell_type": "code",
   "execution_count": null,
   "id": "85451dd1",
   "metadata": {},
   "outputs": [],
   "source": []
  },
  {
   "cell_type": "code",
   "execution_count": null,
   "id": "56023608",
   "metadata": {},
   "outputs": [],
   "source": []
  },
  {
   "cell_type": "code",
   "execution_count": null,
   "id": "92a5f577",
   "metadata": {},
   "outputs": [],
   "source": []
  },
  {
   "cell_type": "code",
   "execution_count": null,
   "id": "d6802a46",
   "metadata": {},
   "outputs": [],
   "source": []
  },
  {
   "cell_type": "code",
   "execution_count": null,
   "id": "3715d308",
   "metadata": {},
   "outputs": [],
   "source": []
  },
  {
   "cell_type": "code",
   "execution_count": null,
   "id": "20cd7666",
   "metadata": {},
   "outputs": [],
   "source": []
  },
  {
   "cell_type": "code",
   "execution_count": null,
   "id": "2a6257a1",
   "metadata": {},
   "outputs": [],
   "source": []
  },
  {
   "cell_type": "code",
   "execution_count": null,
   "id": "c9bf15f8",
   "metadata": {},
   "outputs": [],
   "source": []
  },
  {
   "cell_type": "code",
   "execution_count": null,
   "id": "c60ea678",
   "metadata": {},
   "outputs": [],
   "source": []
  },
  {
   "cell_type": "code",
   "execution_count": null,
   "id": "3c7381a2",
   "metadata": {},
   "outputs": [],
   "source": []
  },
  {
   "cell_type": "code",
   "execution_count": null,
   "id": "c36fca74",
   "metadata": {},
   "outputs": [],
   "source": []
  }
 ],
 "metadata": {
  "kernelspec": {
   "display_name": "Python 3 (ipykernel)",
   "language": "python",
   "name": "python3"
  },
  "language_info": {
   "codemirror_mode": {
    "name": "ipython",
    "version": 3
   },
   "file_extension": ".py",
   "mimetype": "text/x-python",
   "name": "python",
   "nbconvert_exporter": "python",
   "pygments_lexer": "ipython3",
   "version": "3.12.6"
  }
 },
 "nbformat": 4,
 "nbformat_minor": 5
}
