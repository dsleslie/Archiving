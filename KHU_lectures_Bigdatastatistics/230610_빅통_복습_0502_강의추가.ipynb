{
 "cells": [
  {
   "cell_type": "code",
   "execution_count": 33,
   "id": "a6774be7",
   "metadata": {},
   "outputs": [],
   "source": [
    "import pandas as pd\n",
    "import numpy as np\n",
    "import seaborn as sns\n",
    "import matplotlib.pyplot as plt\n",
    "import statsmodels.api as sm\n",
    "from sklearn.model_selection import train_test_split\n",
    "import warnings\n",
    "warnings.filterwarnings(\"ignore\")\n",
    "\n",
    "from ggplot import *\n",
    "from scipy.stats import logistic\n",
    "from sklearn.metrics import roc_curve\n",
    "from sklearn.metrics import roc_auc_score\n",
    "from sklearn.linear_model import LogisticRegression\n",
    "from sklearn.metrics import confusion_matrix, mean_squared_error\n",
    "from sklearn.model_selection import train_test_split\n",
    "from sklearn import preprocessing\n",
    "from sklearn.neighbors import KNeighborsClassifier\n",
    "from sklearn.naive_bayes import *\n",
    "from sklearn.tree import DecisionTreeClassifier, DecisionTreeRegressor, export_graphviz\n",
    "import graphviz\n",
    "from sklearn.ensemble import RandomForestRegressor, RandomForestClassifier\n",
    "from sklearn.svm import SVC, SVR"
   ]
  },
  {
   "cell_type": "markdown",
   "id": "354a649e",
   "metadata": {},
   "source": [
    "# Lecture note 6 Classification using Naive Bayes\n",
    "\n",
    "## 2.3 Bayes' Theorem"
   ]
  },
  {
   "cell_type": "code",
   "execution_count": 34,
   "id": "0791fcfd",
   "metadata": {},
   "outputs": [
    {
     "data": {
      "text/plain": [
       "0.8000000000000002"
      ]
     },
     "execution_count": 34,
     "metadata": {},
     "output_type": "execute_result"
    }
   ],
   "source": [
    "(4/20)*0.2/0.05 "
   ]
  },
  {
   "cell_type": "code",
   "execution_count": 35,
   "id": "606de06b",
   "metadata": {},
   "outputs": [
    {
     "data": {
      "text/plain": [
       "0.4285714285714286"
      ]
     },
     "execution_count": 35,
     "metadata": {},
     "output_type": "execute_result"
    }
   ],
   "source": [
    "(0.2*0.9)/(0.2*0.9+0.8*0.3)"
   ]
  },
  {
   "cell_type": "code",
   "execution_count": 36,
   "id": "eb8a5672",
   "metadata": {},
   "outputs": [
    {
     "data": {
      "text/plain": [
       "0.7999999999999999"
      ]
     },
     "execution_count": 36,
     "metadata": {},
     "output_type": "execute_result"
    }
   ],
   "source": [
    "(0.2*4/20)/(0.2*4/20+0.8*1/80)"
   ]
  },
  {
   "cell_type": "markdown",
   "id": "a1608844",
   "metadata": {},
   "source": [
    "$\\Pr(W_1|Spam)\\times\\Pr(\\sim W_2|Spam)\\times\\Pr(\\sim W_3|Spam)\\Pr(W_4|Spam)$"
   ]
  },
  {
   "cell_type": "code",
   "execution_count": 37,
   "id": "3250694f",
   "metadata": {},
   "outputs": [
    {
     "data": {
      "text/plain": [
       "0.06"
      ]
     },
     "execution_count": 37,
     "metadata": {},
     "output_type": "execute_result"
    }
   ],
   "source": [
    "(4/20)*(10/20)*(20/20)*(12/20)\n",
    "# likelihood"
   ]
  },
  {
   "cell_type": "markdown",
   "id": "8eb87635",
   "metadata": {},
   "source": [
    "## 정리\n",
    "\n",
    "- Gaussian Distribution = Normal Distribution"
   ]
  },
  {
   "cell_type": "markdown",
   "id": "1ec6649b",
   "metadata": {},
   "source": [
    "# Gaussian NB\n",
    "## x 변수가 연속형 변수 일 때 사용한다."
   ]
  },
  {
   "cell_type": "code",
   "execution_count": 38,
   "id": "6e4b3864",
   "metadata": {},
   "outputs": [
    {
     "data": {
      "text/html": [
       "<div>\n",
       "<style scoped>\n",
       "    .dataframe tbody tr th:only-of-type {\n",
       "        vertical-align: middle;\n",
       "    }\n",
       "\n",
       "    .dataframe tbody tr th {\n",
       "        vertical-align: top;\n",
       "    }\n",
       "\n",
       "    .dataframe thead th {\n",
       "        text-align: right;\n",
       "    }\n",
       "</style>\n",
       "<table border=\"1\" class=\"dataframe\">\n",
       "  <thead>\n",
       "    <tr style=\"text-align: right;\">\n",
       "      <th></th>\n",
       "      <th>Sepal.Length</th>\n",
       "      <th>Sepal.Width</th>\n",
       "      <th>Petal.Length</th>\n",
       "      <th>Petal.Width</th>\n",
       "      <th>Species</th>\n",
       "    </tr>\n",
       "  </thead>\n",
       "  <tbody>\n",
       "    <tr>\n",
       "      <th>0</th>\n",
       "      <td>5.1</td>\n",
       "      <td>3.5</td>\n",
       "      <td>1.4</td>\n",
       "      <td>0.2</td>\n",
       "      <td>setosa</td>\n",
       "    </tr>\n",
       "    <tr>\n",
       "      <th>1</th>\n",
       "      <td>4.9</td>\n",
       "      <td>3.0</td>\n",
       "      <td>1.4</td>\n",
       "      <td>0.2</td>\n",
       "      <td>setosa</td>\n",
       "    </tr>\n",
       "    <tr>\n",
       "      <th>2</th>\n",
       "      <td>4.7</td>\n",
       "      <td>3.2</td>\n",
       "      <td>1.3</td>\n",
       "      <td>0.2</td>\n",
       "      <td>setosa</td>\n",
       "    </tr>\n",
       "    <tr>\n",
       "      <th>3</th>\n",
       "      <td>4.6</td>\n",
       "      <td>3.1</td>\n",
       "      <td>1.5</td>\n",
       "      <td>0.2</td>\n",
       "      <td>setosa</td>\n",
       "    </tr>\n",
       "    <tr>\n",
       "      <th>4</th>\n",
       "      <td>5.0</td>\n",
       "      <td>3.6</td>\n",
       "      <td>1.4</td>\n",
       "      <td>0.2</td>\n",
       "      <td>setosa</td>\n",
       "    </tr>\n",
       "    <tr>\n",
       "      <th>...</th>\n",
       "      <td>...</td>\n",
       "      <td>...</td>\n",
       "      <td>...</td>\n",
       "      <td>...</td>\n",
       "      <td>...</td>\n",
       "    </tr>\n",
       "    <tr>\n",
       "      <th>145</th>\n",
       "      <td>6.7</td>\n",
       "      <td>3.0</td>\n",
       "      <td>5.2</td>\n",
       "      <td>2.3</td>\n",
       "      <td>virginica</td>\n",
       "    </tr>\n",
       "    <tr>\n",
       "      <th>146</th>\n",
       "      <td>6.3</td>\n",
       "      <td>2.5</td>\n",
       "      <td>5.0</td>\n",
       "      <td>1.9</td>\n",
       "      <td>virginica</td>\n",
       "    </tr>\n",
       "    <tr>\n",
       "      <th>147</th>\n",
       "      <td>6.5</td>\n",
       "      <td>3.0</td>\n",
       "      <td>5.2</td>\n",
       "      <td>2.0</td>\n",
       "      <td>virginica</td>\n",
       "    </tr>\n",
       "    <tr>\n",
       "      <th>148</th>\n",
       "      <td>6.2</td>\n",
       "      <td>3.4</td>\n",
       "      <td>5.4</td>\n",
       "      <td>2.3</td>\n",
       "      <td>virginica</td>\n",
       "    </tr>\n",
       "    <tr>\n",
       "      <th>149</th>\n",
       "      <td>5.9</td>\n",
       "      <td>3.0</td>\n",
       "      <td>5.1</td>\n",
       "      <td>1.8</td>\n",
       "      <td>virginica</td>\n",
       "    </tr>\n",
       "  </tbody>\n",
       "</table>\n",
       "<p>150 rows × 5 columns</p>\n",
       "</div>"
      ],
      "text/plain": [
       "     Sepal.Length  Sepal.Width  Petal.Length  Petal.Width    Species\n",
       "0             5.1          3.5           1.4          0.2     setosa\n",
       "1             4.9          3.0           1.4          0.2     setosa\n",
       "2             4.7          3.2           1.3          0.2     setosa\n",
       "3             4.6          3.1           1.5          0.2     setosa\n",
       "4             5.0          3.6           1.4          0.2     setosa\n",
       "..            ...          ...           ...          ...        ...\n",
       "145           6.7          3.0           5.2          2.3  virginica\n",
       "146           6.3          2.5           5.0          1.9  virginica\n",
       "147           6.5          3.0           5.2          2.0  virginica\n",
       "148           6.2          3.4           5.4          2.3  virginica\n",
       "149           5.9          3.0           5.1          1.8  virginica\n",
       "\n",
       "[150 rows x 5 columns]"
      ]
     },
     "execution_count": 38,
     "metadata": {},
     "output_type": "execute_result"
    }
   ],
   "source": [
    "file1=\"c:/temp/iris.csv\"\n",
    "data1=pd.read_csv(file1)\n",
    "data1"
   ]
  },
  {
   "cell_type": "code",
   "execution_count": 39,
   "id": "358a8ba6",
   "metadata": {},
   "outputs": [
    {
     "data": {
      "text/plain": [
       "setosa        50\n",
       "versicolor    50\n",
       "virginica     50\n",
       "Name: Species, dtype: int64"
      ]
     },
     "execution_count": 39,
     "metadata": {},
     "output_type": "execute_result"
    }
   ],
   "source": [
    "pd.value_counts(data1['Species'])"
   ]
  },
  {
   "cell_type": "code",
   "execution_count": 40,
   "id": "708cc8d5",
   "metadata": {},
   "outputs": [],
   "source": [
    "# 데이터를 보면 x 변수들은 연속형 변수인 것을 알 수 있다"
   ]
  },
  {
   "cell_type": "markdown",
   "id": "921a2778",
   "metadata": {},
   "source": [
    "구하려는 것\n",
    "\n",
    "$ \\Pr(species=setosa|x1=x1,x2=x2,x3=x3,x4=x4)$\n",
    "$ \\Pr(species=virginica|x1=x1,x2=x2,x3=x3,x4=x4)$\n",
    "$ \\Pr(species=versicolor|x1=x1,x2=x2,x3=x3,x4=x4)$\n",
    "\n",
    "이렇게 각각 계산해서 가장 높은 걸로 예측된다.\n",
    "\n",
    "위 세개를 계산 할 때 Naive Bayes를 사용한다.\n",
    "\n",
    "각 x 들은 normal 따른다고 가정"
   ]
  },
  {
   "cell_type": "code",
   "execution_count": 41,
   "id": "a948e883",
   "metadata": {},
   "outputs": [
    {
     "data": {
      "text/plain": [
       "array([[50,  0,  0],\n",
       "       [ 0, 47,  3],\n",
       "       [ 0,  3, 47]], dtype=int64)"
      ]
     },
     "execution_count": 41,
     "metadata": {},
     "output_type": "execute_result"
    }
   ],
   "source": [
    "# Normal NB (Gaussian NB)\n",
    "\n",
    "# train test set 하지말고 전체 표본을 가지고 예측 해보자\n",
    "\n",
    "# 먼저 x, y 변수 지정\n",
    "X=data1[['Sepal.Length','Sepal.Width','Petal.Length','Petal.Width']]\n",
    "y=data1['Species']\n",
    "\n",
    "# Gaussian NB 실행\n",
    "gnb=GaussianNB().fit(X,y)\n",
    "# gnb가 한 것: 150개의 데이터에 대해서 각각이 setos일 확률, versicolor일 확률, virginica 일 확률을 계산한 것\n",
    "\n",
    "# 가장 확률 높은 것을 예측 해라 (?)\n",
    "y_pred=gnb.predict(X)\n",
    "confusion_matrix(y,y_pred)"
   ]
  },
  {
   "cell_type": "markdown",
   "id": "4d31591a",
   "metadata": {},
   "source": [
    "#### confusion matrix 해석\n",
    "\n",
    "- 50 0 0 : setosa는 50개 다 맞춤\n",
    "- 0 47 3 : versicolor는 47개 맞추고, 3개는 virginica로 예측\n",
    "- 0 3 47 : virginca 47개 맞추고, 3개는 versicolor로 잘못 예측\n",
    "- ccr = 정확히 맞춘 비율"
   ]
  },
  {
   "cell_type": "code",
   "execution_count": 42,
   "id": "1aba2526",
   "metadata": {},
   "outputs": [
    {
     "data": {
      "text/plain": [
       "0.96"
      ]
     },
     "execution_count": 42,
     "metadata": {},
     "output_type": "execute_result"
    }
   ],
   "source": [
    "# CCR <- 여기선 'NB 방법으로 예측한 분류 예측의 성과'\n",
    "(144/150)"
   ]
  },
  {
   "cell_type": "markdown",
   "id": "f3ed2041",
   "metadata": {},
   "source": [
    "# Multinomial NB\n",
    "## x변수가 count 형일 때 사용한다.\n",
    "- count 형 : 정수형태로 x 값이 떨어지는 데이터일 때\n",
    "    - 아이가 몇명이냐? 3명 (3.5명이런건 없음.)\n",
    "\n",
    "\n",
    "\n",
    "\n",
    "# Bernoulli NB\n",
    "## x변수가 0/1 (-> 이향형)로 나타날때 사용한다."
   ]
  },
  {
   "cell_type": "markdown",
   "id": "f069593d",
   "metadata": {},
   "source": [
    "# 강의안 정리\n",
    "\n",
    "- 조건부 확률\n",
    "- Bayes' Theorem\n",
    "- Posterior probability\n",
    "- Prior probability"
   ]
  }
 ],
 "metadata": {
  "kernelspec": {
   "display_name": "Python 3 (ipykernel)",
   "language": "python",
   "name": "python3"
  },
  "language_info": {
   "codemirror_mode": {
    "name": "ipython",
    "version": 3
   },
   "file_extension": ".py",
   "mimetype": "text/x-python",
   "name": "python",
   "nbconvert_exporter": "python",
   "pygments_lexer": "ipython3",
   "version": "3.9.13"
  }
 },
 "nbformat": 4,
 "nbformat_minor": 5
}
