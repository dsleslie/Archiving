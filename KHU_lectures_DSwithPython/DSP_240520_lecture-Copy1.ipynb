{
 "cells": [
  {
   "cell_type": "code",
   "execution_count": 216,
   "id": "4e28f014",
   "metadata": {},
   "outputs": [],
   "source": [
    "import pandas as pd\n",
    "import numpy as np\n",
    "import numpy_financial as npf\n",
    "import seaborn as sns\n",
    "import matplotlib.pyplot as plt\n",
    "import statsmodels.api as sm\n",
    "from statsmodels.formula.api import ols\n",
    "from sklearn.model_selection import train_test_split\n",
    "import warnings\n",
    "warnings.filterwarnings(\"ignore\")\n",
    "from numpy import *\n",
    "\n",
    "from ggplot import *\n",
    "from scipy.stats import logistic\n",
    "from sklearn.metrics import roc_curve\n",
    "from sklearn.metrics import roc_auc_score\n",
    "from sklearn.linear_model import LogisticRegression\n",
    "from sklearn.metrics import confusion_matrix, mean_squared_error\n",
    "from sklearn.model_selection import train_test_split\n",
    "from sklearn import preprocessing\n",
    "from sklearn.neighbors import KNeighborsClassifier\n",
    "from sklearn.naive_bayes import *\n",
    "from sklearn.tree import DecisionTreeClassifier, DecisionTreeRegressor, export_graphviz\n",
    "import graphviz\n",
    "from sklearn.ensemble import RandomForestRegressor, RandomForestClassifier\n",
    "from sklearn.svm import SVC, SVR\n",
    "from sklearn.cluster import KMeans\n",
    "from sklearn.preprocessing import StandardScaler\n",
    "\n",
    "\n",
    "from linearmodels.iv import IV2SLS\n",
    "from scipy import stats\n",
    "from scipy.stats import trim_mean #trimmed mean\n",
    "from scipy.stats import * #chi2_contingency로 카이제곱통계량계산\n",
    "from scipy.stats import norm\n",
    "\n",
    "import keyword\n",
    "import random\n",
    "\n",
    "#open api 불러올 때 필요한 것\n",
    "from urllib.request import urlopen #request package 설치\n",
    "from bs4 import BeautifulSoup #bs4 package 설치\n",
    "\n",
    "# 그래프에서 한글 깨지지 않기 위헤 사용함\n",
    "from matplotlib import rcParams\n",
    "from matplotlib import font_manager,rc\n",
    "\n",
    "rcParams['axes.unicode_minus']=False\n",
    "plt.rcParams['font.family']='Malgun Gothic'\n",
    "font_name=font_manager.FontProperties(fname='c:/Windows/Fonts/malgun.ttf').get_name()\n",
    "rc('font',family=font_name)\n",
    "\n",
    "import FinanceDataReader as fdr\n",
    "import plotly.graph_objects as go\n",
    "import plotly.subplots as ms\n",
    "import math\n",
    "\n"
   ]
  },
  {
   "cell_type": "markdown",
   "id": "55a8f6e3",
   "metadata": {},
   "source": [
    "# LN10 : 회귀분석(1)\n",
    " \n",
    "## 4 30대 1인가구의 소득과 자산 간 회귀 분석 이어서\n",
    "\n",
    "\n"
   ]
  },
  {
   "cell_type": "code",
   "execution_count": 217,
   "id": "8d8a6398",
   "metadata": {},
   "outputs": [
    {
     "data": {
      "text/html": [
       "<div>\n",
       "<style scoped>\n",
       "    .dataframe tbody tr th:only-of-type {\n",
       "        vertical-align: middle;\n",
       "    }\n",
       "\n",
       "    .dataframe tbody tr th {\n",
       "        vertical-align: top;\n",
       "    }\n",
       "\n",
       "    .dataframe thead th {\n",
       "        text-align: right;\n",
       "    }\n",
       "</style>\n",
       "<table border=\"1\" class=\"dataframe\">\n",
       "  <thead>\n",
       "    <tr style=\"text-align: right;\">\n",
       "      <th></th>\n",
       "      <th>Unnamed: 0</th>\n",
       "      <th>year</th>\n",
       "      <th>metro</th>\n",
       "      <th>id</th>\n",
       "      <th>sex</th>\n",
       "      <th>age</th>\n",
       "      <th>number</th>\n",
       "      <th>education</th>\n",
       "      <th>marriage</th>\n",
       "      <th>asset</th>\n",
       "      <th>debt</th>\n",
       "      <th>income</th>\n",
       "      <th>income_d</th>\n",
       "      <th>industry</th>\n",
       "      <th>job</th>\n",
       "      <th>house</th>\n",
       "    </tr>\n",
       "  </thead>\n",
       "  <tbody>\n",
       "    <tr>\n",
       "      <th>0</th>\n",
       "      <td>19</td>\n",
       "      <td>2020</td>\n",
       "      <td>G1</td>\n",
       "      <td>10001102</td>\n",
       "      <td>1</td>\n",
       "      <td>35</td>\n",
       "      <td>1</td>\n",
       "      <td>5</td>\n",
       "      <td>1</td>\n",
       "      <td>5252</td>\n",
       "      <td>0</td>\n",
       "      <td>1089</td>\n",
       "      <td>1033</td>\n",
       "      <td>L</td>\n",
       "      <td>5</td>\n",
       "      <td>2</td>\n",
       "    </tr>\n",
       "    <tr>\n",
       "      <th>1</th>\n",
       "      <td>134</td>\n",
       "      <td>2020</td>\n",
       "      <td>G2</td>\n",
       "      <td>11800271</td>\n",
       "      <td>2</td>\n",
       "      <td>30</td>\n",
       "      <td>1</td>\n",
       "      <td>6</td>\n",
       "      <td>1</td>\n",
       "      <td>17920</td>\n",
       "      <td>5000</td>\n",
       "      <td>3756</td>\n",
       "      <td>3032</td>\n",
       "      <td>O</td>\n",
       "      <td>4</td>\n",
       "      <td>2</td>\n",
       "    </tr>\n",
       "    <tr>\n",
       "      <th>2</th>\n",
       "      <td>157</td>\n",
       "      <td>2020</td>\n",
       "      <td>G1</td>\n",
       "      <td>12000102</td>\n",
       "      <td>1</td>\n",
       "      <td>30</td>\n",
       "      <td>1</td>\n",
       "      <td>6</td>\n",
       "      <td>1</td>\n",
       "      <td>540</td>\n",
       "      <td>0</td>\n",
       "      <td>2004</td>\n",
       "      <td>1812</td>\n",
       "      <td>G</td>\n",
       "      <td>5</td>\n",
       "      <td>3</td>\n",
       "    </tr>\n",
       "    <tr>\n",
       "      <th>3</th>\n",
       "      <td>190</td>\n",
       "      <td>2020</td>\n",
       "      <td>G1</td>\n",
       "      <td>12600311</td>\n",
       "      <td>1</td>\n",
       "      <td>36</td>\n",
       "      <td>1</td>\n",
       "      <td>6</td>\n",
       "      <td>1</td>\n",
       "      <td>1500</td>\n",
       "      <td>6280</td>\n",
       "      <td>5802</td>\n",
       "      <td>3959</td>\n",
       "      <td>C</td>\n",
       "      <td>2</td>\n",
       "      <td>3</td>\n",
       "    </tr>\n",
       "    <tr>\n",
       "      <th>4</th>\n",
       "      <td>191</td>\n",
       "      <td>2020</td>\n",
       "      <td>G1</td>\n",
       "      <td>12600321</td>\n",
       "      <td>2</td>\n",
       "      <td>31</td>\n",
       "      <td>1</td>\n",
       "      <td>6</td>\n",
       "      <td>1</td>\n",
       "      <td>1610</td>\n",
       "      <td>0</td>\n",
       "      <td>3032</td>\n",
       "      <td>1197</td>\n",
       "      <td>J</td>\n",
       "      <td>2</td>\n",
       "      <td>5</td>\n",
       "    </tr>\n",
       "  </tbody>\n",
       "</table>\n",
       "</div>"
      ],
      "text/plain": [
       "   Unnamed: 0  year metro        id  sex  age  number  education  marriage  \\\n",
       "0          19  2020    G1  10001102    1   35       1          5         1   \n",
       "1         134  2020    G2  11800271    2   30       1          6         1   \n",
       "2         157  2020    G1  12000102    1   30       1          6         1   \n",
       "3         190  2020    G1  12600311    1   36       1          6         1   \n",
       "4         191  2020    G1  12600321    2   31       1          6         1   \n",
       "\n",
       "   asset  debt  income  income_d industry job  house  \n",
       "0   5252     0    1089      1033        L   5      2  \n",
       "1  17920  5000    3756      3032        O   4      2  \n",
       "2    540     0    2004      1812        G   5      3  \n",
       "3   1500  6280    5802      3959        C   2      3  \n",
       "4   1610     0    3032      1197        J   2      5  "
      ]
     },
     "execution_count": 217,
     "metadata": {},
     "output_type": "execute_result"
    }
   ],
   "source": [
    "df=pd.read_csv('c:/temp/household_2020a_1_30.csv')\n",
    "df.head()"
   ]
  },
  {
   "cell_type": "code",
   "execution_count": 218,
   "id": "ce5f06e9",
   "metadata": {},
   "outputs": [
    {
     "data": {
      "text/html": [
       "<div>\n",
       "<style scoped>\n",
       "    .dataframe tbody tr th:only-of-type {\n",
       "        vertical-align: middle;\n",
       "    }\n",
       "\n",
       "    .dataframe tbody tr th {\n",
       "        vertical-align: top;\n",
       "    }\n",
       "\n",
       "    .dataframe thead th {\n",
       "        text-align: right;\n",
       "    }\n",
       "</style>\n",
       "<table border=\"1\" class=\"dataframe\">\n",
       "  <thead>\n",
       "    <tr style=\"text-align: right;\">\n",
       "      <th></th>\n",
       "      <th>income_d</th>\n",
       "      <th>asset</th>\n",
       "      <th>income</th>\n",
       "      <th>net_asset</th>\n",
       "    </tr>\n",
       "  </thead>\n",
       "  <tbody>\n",
       "    <tr>\n",
       "      <th>0</th>\n",
       "      <td>1033</td>\n",
       "      <td>5252</td>\n",
       "      <td>0.1033</td>\n",
       "      <td>0.5252</td>\n",
       "    </tr>\n",
       "    <tr>\n",
       "      <th>1</th>\n",
       "      <td>3032</td>\n",
       "      <td>17920</td>\n",
       "      <td>0.3032</td>\n",
       "      <td>1.7920</td>\n",
       "    </tr>\n",
       "    <tr>\n",
       "      <th>2</th>\n",
       "      <td>1812</td>\n",
       "      <td>540</td>\n",
       "      <td>0.1812</td>\n",
       "      <td>0.0540</td>\n",
       "    </tr>\n",
       "    <tr>\n",
       "      <th>3</th>\n",
       "      <td>3959</td>\n",
       "      <td>1500</td>\n",
       "      <td>0.3959</td>\n",
       "      <td>0.1500</td>\n",
       "    </tr>\n",
       "    <tr>\n",
       "      <th>4</th>\n",
       "      <td>1197</td>\n",
       "      <td>1610</td>\n",
       "      <td>0.1197</td>\n",
       "      <td>0.1610</td>\n",
       "    </tr>\n",
       "  </tbody>\n",
       "</table>\n",
       "</div>"
      ],
      "text/plain": [
       "   income_d  asset  income  net_asset\n",
       "0      1033   5252  0.1033     0.5252\n",
       "1      3032  17920  0.3032     1.7920\n",
       "2      1812    540  0.1812     0.0540\n",
       "3      3959   1500  0.3959     0.1500\n",
       "4      1197   1610  0.1197     0.1610"
      ]
     },
     "execution_count": 218,
     "metadata": {},
     "output_type": "execute_result"
    }
   ],
   "source": [
    "df1=df[['income_d','asset']]\n",
    "df1['income']=df1['income_d']/10000\n",
    "df1['net_asset']=df1['asset']/10000\n",
    "df1.head()"
   ]
  },
  {
   "cell_type": "code",
   "execution_count": 219,
   "id": "0a9c7c78",
   "metadata": {
    "scrolled": true
   },
   "outputs": [
    {
     "name": "stdout",
     "output_type": "stream",
     "text": [
      "                            OLS Regression Results                            \n",
      "==============================================================================\n",
      "Dep. Variable:              net_asset   R-squared:                       0.135\n",
      "Model:                            OLS   Adj. R-squared:                  0.133\n",
      "Method:                 Least Squares   F-statistic:                     60.16\n",
      "Date:                Mon, 10 Jun 2024   Prob (F-statistic):           7.87e-14\n",
      "Time:                        21:43:58   Log-Likelihood:                -718.77\n",
      "No. Observations:                 388   AIC:                             1442.\n",
      "Df Residuals:                     386   BIC:                             1449.\n",
      "Df Model:                           1                                         \n",
      "Covariance Type:            nonrobust                                         \n",
      "==============================================================================\n",
      "                 coef    std err          t      P>|t|      [0.025      0.975]\n",
      "------------------------------------------------------------------------------\n",
      "Intercept      0.5051      0.145      3.494      0.001       0.221       0.789\n",
      "income         3.2045      0.413      7.756      0.000       2.392       4.017\n",
      "==============================================================================\n",
      "Omnibus:                      224.958   Durbin-Watson:                   2.059\n",
      "Prob(Omnibus):                  0.000   Jarque-Bera (JB):             1543.642\n",
      "Skew:                           2.458   Prob(JB):                         0.00\n",
      "Kurtosis:                      11.445   Cond. No.                         5.73\n",
      "==============================================================================\n",
      "\n",
      "Notes:\n",
      "[1] Standard Errors assume that the covariance matrix of the errors is correctly specified.\n"
     ]
    }
   ],
   "source": [
    "asset_model=ols('net_asset ~ income',data=df1).fit()\n",
    "print(asset_model.summary())"
   ]
  },
  {
   "cell_type": "code",
   "execution_count": 220,
   "id": "53052aac",
   "metadata": {},
   "outputs": [],
   "source": [
    "# 설명 필기 추가"
   ]
  },
  {
   "cell_type": "code",
   "execution_count": 221,
   "id": "17b68fc6",
   "metadata": {},
   "outputs": [],
   "source": [
    "# intercept: alpha hat, "
   ]
  },
  {
   "cell_type": "code",
   "execution_count": 222,
   "id": "9d402ef7",
   "metadata": {},
   "outputs": [
    {
     "data": {
      "text/plain": [
       "2.1074002820860476"
      ]
     },
     "execution_count": 222,
     "metadata": {},
     "output_type": "execute_result"
    }
   ],
   "source": [
    "# 소득이 0.5억원인 가구의 자산이 2억 이상일 확률\n",
    "# 저번엔 손으로 계산, 이번엔 파이썬으로 계산\n",
    "# 1단계) 평균을 계산한다\n",
    "# params[0]: 위에 분석 결과에서 parameter 값 중에 0번째 값(intercept coef) 가져온다 \n",
    "intercept=asset_model.params[0] # alpha hat\n",
    "slope=asset_model.params[1] # beta hat'\n",
    "mean=intercept+slope*0.5\n",
    "mean"
   ]
  },
  {
   "cell_type": "code",
   "execution_count": 223,
   "id": "5e6e548a",
   "metadata": {},
   "outputs": [],
   "source": [
    "# 해석\n",
    "# mean =2.1... : 소득이 5000만원인 사람은 평균 자산이 2.1억이다"
   ]
  },
  {
   "cell_type": "code",
   "execution_count": 224,
   "id": "f9929db2",
   "metadata": {},
   "outputs": [
    {
     "data": {
      "text/plain": [
       "1.5467233297058174"
      ]
     },
     "execution_count": 224,
     "metadata": {},
     "output_type": "execute_result"
    }
   ],
   "source": [
    "# 구하고 싶은 것: 소득이 0.5억원인 가구의 자산이 2억 이상일 확률\n",
    "# 그러려면 z 값 필요함\n",
    "# 그러려면 se 있어야하니까 rmse 알아야함\n",
    "#rmse계산\n",
    "rmse=np.sqrt(asset_model.mse_resid)\n",
    "rmse"
   ]
  },
  {
   "cell_type": "code",
   "execution_count": 225,
   "id": "86a66032",
   "metadata": {},
   "outputs": [],
   "source": [
    "# 이러케 하거나, 아님 지난 시간처럼 직접 계산해서 하던지 똑같음"
   ]
  },
  {
   "cell_type": "code",
   "execution_count": 226,
   "id": "58f33eb3",
   "metadata": {},
   "outputs": [
    {
     "name": "stdout",
     "output_type": "stream",
     "text": [
      "-0.06943729367971375\n"
     ]
    }
   ],
   "source": [
    "z=(2-mean)/rmse # (2억-평균)/표준오차\n",
    "print(z)"
   ]
  },
  {
   "cell_type": "code",
   "execution_count": 227,
   "id": "35ec8d70",
   "metadata": {},
   "outputs": [],
   "source": [
    "# 필기추가 18:13"
   ]
  },
  {
   "cell_type": "code",
   "execution_count": 228,
   "id": "32c41449",
   "metadata": {},
   "outputs": [
    {
     "data": {
      "text/plain": [
       "0.5276792277600699"
      ]
     },
     "execution_count": 228,
     "metadata": {},
     "output_type": "execute_result"
    }
   ],
   "source": [
    "1-norm.cdf(z)"
   ]
  },
  {
   "cell_type": "code",
   "execution_count": 229,
   "id": "77491400",
   "metadata": {},
   "outputs": [],
   "source": [
    "# 소득이 0.5억원인 가구의 자산이 2억 이상일 확률이 52.7% 이다"
   ]
  },
  {
   "cell_type": "code",
   "execution_count": 230,
   "id": "9e9759c8",
   "metadata": {},
   "outputs": [],
   "source": [
    "# 19:39 모징?"
   ]
  },
  {
   "cell_type": "markdown",
   "id": "cb8f9202",
   "metadata": {},
   "source": [
    "## 4 아파트 연령과 평당가격과의 회귀관계\n",
    "- 니가 해보셈\n",
    "- 필기추가 20:18\n",
    "- y: 아파트 평당가격 , x: 아파트 연령"
   ]
  },
  {
   "cell_type": "code",
   "execution_count": 231,
   "id": "f1e51df6",
   "metadata": {},
   "outputs": [
    {
     "data": {
      "text/html": [
       "<div>\n",
       "<style scoped>\n",
       "    .dataframe tbody tr th:only-of-type {\n",
       "        vertical-align: middle;\n",
       "    }\n",
       "\n",
       "    .dataframe tbody tr th {\n",
       "        vertical-align: top;\n",
       "    }\n",
       "\n",
       "    .dataframe thead th {\n",
       "        text-align: right;\n",
       "    }\n",
       "</style>\n",
       "<table border=\"1\" class=\"dataframe\">\n",
       "  <thead>\n",
       "    <tr style=\"text-align: right;\">\n",
       "      <th></th>\n",
       "      <th>Unnamed: 0</th>\n",
       "      <th>year</th>\n",
       "      <th>ymonth</th>\n",
       "      <th>price</th>\n",
       "      <th>built_yr</th>\n",
       "      <th>dong_name</th>\n",
       "      <th>apt_name</th>\n",
       "      <th>size</th>\n",
       "      <th>gu_code</th>\n",
       "    </tr>\n",
       "  </thead>\n",
       "  <tbody>\n",
       "    <tr>\n",
       "      <th>0</th>\n",
       "      <td>0</td>\n",
       "      <td>2023</td>\n",
       "      <td>202303</td>\n",
       "      <td>170,000</td>\n",
       "      <td>2006</td>\n",
       "      <td>역삼동</td>\n",
       "      <td>역삼푸르지오</td>\n",
       "      <td>59.8848</td>\n",
       "      <td>11680</td>\n",
       "    </tr>\n",
       "    <tr>\n",
       "      <th>1</th>\n",
       "      <td>1</td>\n",
       "      <td>2023</td>\n",
       "      <td>202303</td>\n",
       "      <td>175,500</td>\n",
       "      <td>2006</td>\n",
       "      <td>역삼동</td>\n",
       "      <td>역삼푸르지오</td>\n",
       "      <td>59.8848</td>\n",
       "      <td>11680</td>\n",
       "    </tr>\n",
       "    <tr>\n",
       "      <th>2</th>\n",
       "      <td>2</td>\n",
       "      <td>2023</td>\n",
       "      <td>202303</td>\n",
       "      <td>205,000</td>\n",
       "      <td>2006</td>\n",
       "      <td>역삼동</td>\n",
       "      <td>역삼푸르지오</td>\n",
       "      <td>84.9097</td>\n",
       "      <td>11680</td>\n",
       "    </tr>\n",
       "    <tr>\n",
       "      <th>3</th>\n",
       "      <td>3</td>\n",
       "      <td>2023</td>\n",
       "      <td>202303</td>\n",
       "      <td>330,000</td>\n",
       "      <td>2001</td>\n",
       "      <td>역삼동</td>\n",
       "      <td>현대까르띠에710</td>\n",
       "      <td>171.9440</td>\n",
       "      <td>11680</td>\n",
       "    </tr>\n",
       "    <tr>\n",
       "      <th>4</th>\n",
       "      <td>4</td>\n",
       "      <td>2023</td>\n",
       "      <td>202303</td>\n",
       "      <td>224,000</td>\n",
       "      <td>2006</td>\n",
       "      <td>역삼동</td>\n",
       "      <td>역삼푸르지오</td>\n",
       "      <td>84.9097</td>\n",
       "      <td>11680</td>\n",
       "    </tr>\n",
       "  </tbody>\n",
       "</table>\n",
       "</div>"
      ],
      "text/plain": [
       "   Unnamed: 0  year  ymonth    price  built_yr dong_name   apt_name      size  \\\n",
       "0           0  2023  202303  170,000      2006       역삼동     역삼푸르지오   59.8848   \n",
       "1           1  2023  202303  175,500      2006       역삼동     역삼푸르지오   59.8848   \n",
       "2           2  2023  202303  205,000      2006       역삼동     역삼푸르지오   84.9097   \n",
       "3           3  2023  202303  330,000      2001       역삼동  현대까르띠에710  171.9440   \n",
       "4           4  2023  202303  224,000      2006       역삼동     역삼푸르지오   84.9097   \n",
       "\n",
       "   gu_code  \n",
       "0    11680  \n",
       "1    11680  \n",
       "2    11680  \n",
       "3    11680  \n",
       "4    11680  "
      ]
     },
     "execution_count": 231,
     "metadata": {},
     "output_type": "execute_result"
    }
   ],
   "source": [
    "df=pd.read_csv('c:/temp/gangnam_20240510.csv')\n",
    "df.head()"
   ]
  },
  {
   "cell_type": "code",
   "execution_count": 232,
   "id": "67bc3e9f",
   "metadata": {},
   "outputs": [],
   "source": [
    "# year-built_yr: 아파트 연령\n",
    "# (price/size)/3.3 : 아파트 평당 가격\n",
    "# 이걸로 회귀분석 하면됨"
   ]
  },
  {
   "cell_type": "code",
   "execution_count": 233,
   "id": "973a36de",
   "metadata": {},
   "outputs": [
    {
     "data": {
      "text/html": [
       "<div>\n",
       "<style scoped>\n",
       "    .dataframe tbody tr th:only-of-type {\n",
       "        vertical-align: middle;\n",
       "    }\n",
       "\n",
       "    .dataframe tbody tr th {\n",
       "        vertical-align: top;\n",
       "    }\n",
       "\n",
       "    .dataframe thead th {\n",
       "        text-align: right;\n",
       "    }\n",
       "</style>\n",
       "<table border=\"1\" class=\"dataframe\">\n",
       "  <thead>\n",
       "    <tr style=\"text-align: right;\">\n",
       "      <th></th>\n",
       "      <th>year</th>\n",
       "      <th>price</th>\n",
       "      <th>built_yr</th>\n",
       "      <th>size</th>\n",
       "    </tr>\n",
       "  </thead>\n",
       "  <tbody>\n",
       "    <tr>\n",
       "      <th>0</th>\n",
       "      <td>2023</td>\n",
       "      <td>170,000</td>\n",
       "      <td>2006</td>\n",
       "      <td>59.8848</td>\n",
       "    </tr>\n",
       "    <tr>\n",
       "      <th>1</th>\n",
       "      <td>2023</td>\n",
       "      <td>175,500</td>\n",
       "      <td>2006</td>\n",
       "      <td>59.8848</td>\n",
       "    </tr>\n",
       "    <tr>\n",
       "      <th>2</th>\n",
       "      <td>2023</td>\n",
       "      <td>205,000</td>\n",
       "      <td>2006</td>\n",
       "      <td>84.9097</td>\n",
       "    </tr>\n",
       "    <tr>\n",
       "      <th>3</th>\n",
       "      <td>2023</td>\n",
       "      <td>330,000</td>\n",
       "      <td>2001</td>\n",
       "      <td>171.9440</td>\n",
       "    </tr>\n",
       "    <tr>\n",
       "      <th>4</th>\n",
       "      <td>2023</td>\n",
       "      <td>224,000</td>\n",
       "      <td>2006</td>\n",
       "      <td>84.9097</td>\n",
       "    </tr>\n",
       "  </tbody>\n",
       "</table>\n",
       "</div>"
      ],
      "text/plain": [
       "   year    price  built_yr      size\n",
       "0  2023  170,000      2006   59.8848\n",
       "1  2023  175,500      2006   59.8848\n",
       "2  2023  205,000      2006   84.9097\n",
       "3  2023  330,000      2001  171.9440\n",
       "4  2023  224,000      2006   84.9097"
      ]
     },
     "execution_count": 233,
     "metadata": {},
     "output_type": "execute_result"
    }
   ],
   "source": [
    "df1=df[['year','price','built_yr','size']]\n",
    "df1.head()"
   ]
  },
  {
   "cell_type": "code",
   "execution_count": 234,
   "id": "6343d3d8",
   "metadata": {},
   "outputs": [
    {
     "name": "stdout",
     "output_type": "stream",
     "text": [
      "<class 'pandas.core.frame.DataFrame'>\n",
      "RangeIndex: 2382 entries, 0 to 2381\n",
      "Data columns (total 4 columns):\n",
      " #   Column    Non-Null Count  Dtype  \n",
      "---  ------    --------------  -----  \n",
      " 0   year      2382 non-null   int64  \n",
      " 1   price     2382 non-null   object \n",
      " 2   built_yr  2382 non-null   int64  \n",
      " 3   size      2382 non-null   float64\n",
      "dtypes: float64(1), int64(2), object(1)\n",
      "memory usage: 74.6+ KB\n"
     ]
    }
   ],
   "source": [
    "df1.info()"
   ]
  },
  {
   "cell_type": "code",
   "execution_count": 235,
   "id": "3934f656",
   "metadata": {},
   "outputs": [
    {
     "data": {
      "text/html": [
       "<div>\n",
       "<style scoped>\n",
       "    .dataframe tbody tr th:only-of-type {\n",
       "        vertical-align: middle;\n",
       "    }\n",
       "\n",
       "    .dataframe tbody tr th {\n",
       "        vertical-align: top;\n",
       "    }\n",
       "\n",
       "    .dataframe thead th {\n",
       "        text-align: right;\n",
       "    }\n",
       "</style>\n",
       "<table border=\"1\" class=\"dataframe\">\n",
       "  <thead>\n",
       "    <tr style=\"text-align: right;\">\n",
       "      <th></th>\n",
       "      <th>year</th>\n",
       "      <th>price</th>\n",
       "      <th>built_yr</th>\n",
       "      <th>size</th>\n",
       "      <th>age</th>\n",
       "    </tr>\n",
       "  </thead>\n",
       "  <tbody>\n",
       "    <tr>\n",
       "      <th>0</th>\n",
       "      <td>2023</td>\n",
       "      <td>170,000</td>\n",
       "      <td>2006</td>\n",
       "      <td>59.8848</td>\n",
       "      <td>17</td>\n",
       "    </tr>\n",
       "    <tr>\n",
       "      <th>1</th>\n",
       "      <td>2023</td>\n",
       "      <td>175,500</td>\n",
       "      <td>2006</td>\n",
       "      <td>59.8848</td>\n",
       "      <td>17</td>\n",
       "    </tr>\n",
       "    <tr>\n",
       "      <th>2</th>\n",
       "      <td>2023</td>\n",
       "      <td>205,000</td>\n",
       "      <td>2006</td>\n",
       "      <td>84.9097</td>\n",
       "      <td>17</td>\n",
       "    </tr>\n",
       "    <tr>\n",
       "      <th>3</th>\n",
       "      <td>2023</td>\n",
       "      <td>330,000</td>\n",
       "      <td>2001</td>\n",
       "      <td>171.9440</td>\n",
       "      <td>22</td>\n",
       "    </tr>\n",
       "    <tr>\n",
       "      <th>4</th>\n",
       "      <td>2023</td>\n",
       "      <td>224,000</td>\n",
       "      <td>2006</td>\n",
       "      <td>84.9097</td>\n",
       "      <td>17</td>\n",
       "    </tr>\n",
       "  </tbody>\n",
       "</table>\n",
       "</div>"
      ],
      "text/plain": [
       "   year    price  built_yr      size  age\n",
       "0  2023  170,000      2006   59.8848   17\n",
       "1  2023  175,500      2006   59.8848   17\n",
       "2  2023  205,000      2006   84.9097   17\n",
       "3  2023  330,000      2001  171.9440   22\n",
       "4  2023  224,000      2006   84.9097   17"
      ]
     },
     "execution_count": 235,
     "metadata": {},
     "output_type": "execute_result"
    }
   ],
   "source": [
    "df1['age']=df1['year']-df1['built_yr']\n",
    "df1.head()"
   ]
  },
  {
   "cell_type": "code",
   "execution_count": 236,
   "id": "0bf00eb0",
   "metadata": {},
   "outputs": [
    {
     "data": {
      "text/html": [
       "<div>\n",
       "<style scoped>\n",
       "    .dataframe tbody tr th:only-of-type {\n",
       "        vertical-align: middle;\n",
       "    }\n",
       "\n",
       "    .dataframe tbody tr th {\n",
       "        vertical-align: top;\n",
       "    }\n",
       "\n",
       "    .dataframe thead th {\n",
       "        text-align: right;\n",
       "    }\n",
       "</style>\n",
       "<table border=\"1\" class=\"dataframe\">\n",
       "  <thead>\n",
       "    <tr style=\"text-align: right;\">\n",
       "      <th></th>\n",
       "      <th>year</th>\n",
       "      <th>price</th>\n",
       "      <th>built_yr</th>\n",
       "      <th>size</th>\n",
       "      <th>age</th>\n",
       "    </tr>\n",
       "  </thead>\n",
       "  <tbody>\n",
       "    <tr>\n",
       "      <th>0</th>\n",
       "      <td>2023</td>\n",
       "      <td>170000</td>\n",
       "      <td>2006</td>\n",
       "      <td>59.8848</td>\n",
       "      <td>17</td>\n",
       "    </tr>\n",
       "    <tr>\n",
       "      <th>1</th>\n",
       "      <td>2023</td>\n",
       "      <td>175500</td>\n",
       "      <td>2006</td>\n",
       "      <td>59.8848</td>\n",
       "      <td>17</td>\n",
       "    </tr>\n",
       "    <tr>\n",
       "      <th>2</th>\n",
       "      <td>2023</td>\n",
       "      <td>205000</td>\n",
       "      <td>2006</td>\n",
       "      <td>84.9097</td>\n",
       "      <td>17</td>\n",
       "    </tr>\n",
       "    <tr>\n",
       "      <th>3</th>\n",
       "      <td>2023</td>\n",
       "      <td>330000</td>\n",
       "      <td>2001</td>\n",
       "      <td>171.9440</td>\n",
       "      <td>22</td>\n",
       "    </tr>\n",
       "    <tr>\n",
       "      <th>4</th>\n",
       "      <td>2023</td>\n",
       "      <td>224000</td>\n",
       "      <td>2006</td>\n",
       "      <td>84.9097</td>\n",
       "      <td>17</td>\n",
       "    </tr>\n",
       "  </tbody>\n",
       "</table>\n",
       "</div>"
      ],
      "text/plain": [
       "   year   price  built_yr      size  age\n",
       "0  2023  170000      2006   59.8848   17\n",
       "1  2023  175500      2006   59.8848   17\n",
       "2  2023  205000      2006   84.9097   17\n",
       "3  2023  330000      2001  171.9440   22\n",
       "4  2023  224000      2006   84.9097   17"
      ]
     },
     "execution_count": 236,
     "metadata": {},
     "output_type": "execute_result"
    }
   ],
   "source": [
    "df1['price'] = df['price'].str.replace(',', '').astype(int64)\n",
    "df1.head()"
   ]
  },
  {
   "cell_type": "code",
   "execution_count": 237,
   "id": "b9c72959",
   "metadata": {},
   "outputs": [
    {
     "name": "stdout",
     "output_type": "stream",
     "text": [
      "<class 'pandas.core.frame.DataFrame'>\n",
      "RangeIndex: 2382 entries, 0 to 2381\n",
      "Data columns (total 5 columns):\n",
      " #   Column    Non-Null Count  Dtype  \n",
      "---  ------    --------------  -----  \n",
      " 0   year      2382 non-null   int64  \n",
      " 1   price     2382 non-null   int64  \n",
      " 2   built_yr  2382 non-null   int64  \n",
      " 3   size      2382 non-null   float64\n",
      " 4   age       2382 non-null   int64  \n",
      "dtypes: float64(1), int64(4)\n",
      "memory usage: 93.2 KB\n"
     ]
    }
   ],
   "source": [
    "df1.info()"
   ]
  },
  {
   "cell_type": "code",
   "execution_count": 238,
   "id": "6a90bc91",
   "metadata": {},
   "outputs": [
    {
     "data": {
      "text/html": [
       "<div>\n",
       "<style scoped>\n",
       "    .dataframe tbody tr th:only-of-type {\n",
       "        vertical-align: middle;\n",
       "    }\n",
       "\n",
       "    .dataframe tbody tr th {\n",
       "        vertical-align: top;\n",
       "    }\n",
       "\n",
       "    .dataframe thead th {\n",
       "        text-align: right;\n",
       "    }\n",
       "</style>\n",
       "<table border=\"1\" class=\"dataframe\">\n",
       "  <thead>\n",
       "    <tr style=\"text-align: right;\">\n",
       "      <th></th>\n",
       "      <th>year</th>\n",
       "      <th>price</th>\n",
       "      <th>built_yr</th>\n",
       "      <th>size</th>\n",
       "      <th>age</th>\n",
       "    </tr>\n",
       "  </thead>\n",
       "  <tbody>\n",
       "    <tr>\n",
       "      <th>0</th>\n",
       "      <td>2023</td>\n",
       "      <td>170000</td>\n",
       "      <td>2006</td>\n",
       "      <td>59.8848</td>\n",
       "      <td>17</td>\n",
       "    </tr>\n",
       "    <tr>\n",
       "      <th>1</th>\n",
       "      <td>2023</td>\n",
       "      <td>175500</td>\n",
       "      <td>2006</td>\n",
       "      <td>59.8848</td>\n",
       "      <td>17</td>\n",
       "    </tr>\n",
       "    <tr>\n",
       "      <th>2</th>\n",
       "      <td>2023</td>\n",
       "      <td>205000</td>\n",
       "      <td>2006</td>\n",
       "      <td>84.9097</td>\n",
       "      <td>17</td>\n",
       "    </tr>\n",
       "    <tr>\n",
       "      <th>3</th>\n",
       "      <td>2023</td>\n",
       "      <td>330000</td>\n",
       "      <td>2001</td>\n",
       "      <td>171.9440</td>\n",
       "      <td>22</td>\n",
       "    </tr>\n",
       "    <tr>\n",
       "      <th>4</th>\n",
       "      <td>2023</td>\n",
       "      <td>224000</td>\n",
       "      <td>2006</td>\n",
       "      <td>84.9097</td>\n",
       "      <td>17</td>\n",
       "    </tr>\n",
       "  </tbody>\n",
       "</table>\n",
       "</div>"
      ],
      "text/plain": [
       "   year   price  built_yr      size  age\n",
       "0  2023  170000      2006   59.8848   17\n",
       "1  2023  175500      2006   59.8848   17\n",
       "2  2023  205000      2006   84.9097   17\n",
       "3  2023  330000      2001  171.9440   22\n",
       "4  2023  224000      2006   84.9097   17"
      ]
     },
     "execution_count": 238,
     "metadata": {},
     "output_type": "execute_result"
    }
   ],
   "source": [
    "df2=df1\n",
    "df2.head()"
   ]
  },
  {
   "cell_type": "code",
   "execution_count": 239,
   "id": "3b204514",
   "metadata": {},
   "outputs": [
    {
     "data": {
      "text/html": [
       "<div>\n",
       "<style scoped>\n",
       "    .dataframe tbody tr th:only-of-type {\n",
       "        vertical-align: middle;\n",
       "    }\n",
       "\n",
       "    .dataframe tbody tr th {\n",
       "        vertical-align: top;\n",
       "    }\n",
       "\n",
       "    .dataframe thead th {\n",
       "        text-align: right;\n",
       "    }\n",
       "</style>\n",
       "<table border=\"1\" class=\"dataframe\">\n",
       "  <thead>\n",
       "    <tr style=\"text-align: right;\">\n",
       "      <th></th>\n",
       "      <th>year</th>\n",
       "      <th>price</th>\n",
       "      <th>built_yr</th>\n",
       "      <th>size</th>\n",
       "      <th>age</th>\n",
       "      <th>price_2</th>\n",
       "    </tr>\n",
       "  </thead>\n",
       "  <tbody>\n",
       "    <tr>\n",
       "      <th>0</th>\n",
       "      <td>2023</td>\n",
       "      <td>170000</td>\n",
       "      <td>2006</td>\n",
       "      <td>59.8848</td>\n",
       "      <td>17</td>\n",
       "      <td>1.700</td>\n",
       "    </tr>\n",
       "    <tr>\n",
       "      <th>1</th>\n",
       "      <td>2023</td>\n",
       "      <td>175500</td>\n",
       "      <td>2006</td>\n",
       "      <td>59.8848</td>\n",
       "      <td>17</td>\n",
       "      <td>1.755</td>\n",
       "    </tr>\n",
       "    <tr>\n",
       "      <th>2</th>\n",
       "      <td>2023</td>\n",
       "      <td>205000</td>\n",
       "      <td>2006</td>\n",
       "      <td>84.9097</td>\n",
       "      <td>17</td>\n",
       "      <td>2.050</td>\n",
       "    </tr>\n",
       "    <tr>\n",
       "      <th>3</th>\n",
       "      <td>2023</td>\n",
       "      <td>330000</td>\n",
       "      <td>2001</td>\n",
       "      <td>171.9440</td>\n",
       "      <td>22</td>\n",
       "      <td>3.300</td>\n",
       "    </tr>\n",
       "    <tr>\n",
       "      <th>4</th>\n",
       "      <td>2023</td>\n",
       "      <td>224000</td>\n",
       "      <td>2006</td>\n",
       "      <td>84.9097</td>\n",
       "      <td>17</td>\n",
       "      <td>2.240</td>\n",
       "    </tr>\n",
       "  </tbody>\n",
       "</table>\n",
       "</div>"
      ],
      "text/plain": [
       "   year   price  built_yr      size  age  price_2\n",
       "0  2023  170000      2006   59.8848   17    1.700\n",
       "1  2023  175500      2006   59.8848   17    1.755\n",
       "2  2023  205000      2006   84.9097   17    2.050\n",
       "3  2023  330000      2001  171.9440   22    3.300\n",
       "4  2023  224000      2006   84.9097   17    2.240"
      ]
     },
     "execution_count": 239,
     "metadata": {},
     "output_type": "execute_result"
    }
   ],
   "source": [
    "df2['price_2']=df2['price']/100000\n",
    "df2.head()"
   ]
  },
  {
   "cell_type": "code",
   "execution_count": 240,
   "id": "613ebd5c",
   "metadata": {},
   "outputs": [
    {
     "data": {
      "text/html": [
       "<div>\n",
       "<style scoped>\n",
       "    .dataframe tbody tr th:only-of-type {\n",
       "        vertical-align: middle;\n",
       "    }\n",
       "\n",
       "    .dataframe tbody tr th {\n",
       "        vertical-align: top;\n",
       "    }\n",
       "\n",
       "    .dataframe thead th {\n",
       "        text-align: right;\n",
       "    }\n",
       "</style>\n",
       "<table border=\"1\" class=\"dataframe\">\n",
       "  <thead>\n",
       "    <tr style=\"text-align: right;\">\n",
       "      <th></th>\n",
       "      <th>year</th>\n",
       "      <th>price</th>\n",
       "      <th>built_yr</th>\n",
       "      <th>size</th>\n",
       "      <th>age</th>\n",
       "      <th>price_2</th>\n",
       "      <th>per_size</th>\n",
       "    </tr>\n",
       "  </thead>\n",
       "  <tbody>\n",
       "    <tr>\n",
       "      <th>0</th>\n",
       "      <td>2023</td>\n",
       "      <td>170000</td>\n",
       "      <td>2006</td>\n",
       "      <td>59.8848</td>\n",
       "      <td>17</td>\n",
       "      <td>1.700</td>\n",
       "      <td>0.008602</td>\n",
       "    </tr>\n",
       "    <tr>\n",
       "      <th>1</th>\n",
       "      <td>2023</td>\n",
       "      <td>175500</td>\n",
       "      <td>2006</td>\n",
       "      <td>59.8848</td>\n",
       "      <td>17</td>\n",
       "      <td>1.755</td>\n",
       "      <td>0.008881</td>\n",
       "    </tr>\n",
       "    <tr>\n",
       "      <th>2</th>\n",
       "      <td>2023</td>\n",
       "      <td>205000</td>\n",
       "      <td>2006</td>\n",
       "      <td>84.9097</td>\n",
       "      <td>17</td>\n",
       "      <td>2.050</td>\n",
       "      <td>0.007316</td>\n",
       "    </tr>\n",
       "    <tr>\n",
       "      <th>3</th>\n",
       "      <td>2023</td>\n",
       "      <td>330000</td>\n",
       "      <td>2001</td>\n",
       "      <td>171.9440</td>\n",
       "      <td>22</td>\n",
       "      <td>3.300</td>\n",
       "      <td>0.005816</td>\n",
       "    </tr>\n",
       "    <tr>\n",
       "      <th>4</th>\n",
       "      <td>2023</td>\n",
       "      <td>224000</td>\n",
       "      <td>2006</td>\n",
       "      <td>84.9097</td>\n",
       "      <td>17</td>\n",
       "      <td>2.240</td>\n",
       "      <td>0.007994</td>\n",
       "    </tr>\n",
       "  </tbody>\n",
       "</table>\n",
       "</div>"
      ],
      "text/plain": [
       "   year   price  built_yr      size  age  price_2  per_size\n",
       "0  2023  170000      2006   59.8848   17    1.700  0.008602\n",
       "1  2023  175500      2006   59.8848   17    1.755  0.008881\n",
       "2  2023  205000      2006   84.9097   17    2.050  0.007316\n",
       "3  2023  330000      2001  171.9440   22    3.300  0.005816\n",
       "4  2023  224000      2006   84.9097   17    2.240  0.007994"
      ]
     },
     "execution_count": 240,
     "metadata": {},
     "output_type": "execute_result"
    }
   ],
   "source": [
    "df2['per_size']=(df2['price_2']/df2['size'])/3.3\n",
    "df2.head()"
   ]
  },
  {
   "cell_type": "code",
   "execution_count": 241,
   "id": "cad88fc0",
   "metadata": {},
   "outputs": [
    {
     "name": "stdout",
     "output_type": "stream",
     "text": [
      "                            OLS Regression Results                            \n",
      "==============================================================================\n",
      "Dep. Variable:               per_size   R-squared:                       0.002\n",
      "Model:                            OLS   Adj. R-squared:                  0.001\n",
      "Method:                 Least Squares   F-statistic:                     3.721\n",
      "Date:                Mon, 10 Jun 2024   Prob (F-statistic):             0.0539\n",
      "Time:                        21:43:59   Log-Likelihood:                 11158.\n",
      "No. Observations:                2382   AIC:                        -2.231e+04\n",
      "Df Residuals:                    2380   BIC:                        -2.230e+04\n",
      "Df Model:                           1                                         \n",
      "Covariance Type:            nonrobust                                         \n",
      "==============================================================================\n",
      "                 coef    std err          t      P>|t|      [0.025      0.975]\n",
      "------------------------------------------------------------------------------\n",
      "Intercept      0.0076   9.64e-05     78.882      0.000       0.007       0.008\n",
      "age         7.002e-06   3.63e-06      1.929      0.054   -1.16e-07    1.41e-05\n",
      "==============================================================================\n",
      "Omnibus:                       24.583   Durbin-Watson:                   1.405\n",
      "Prob(Omnibus):                  0.000   Jarque-Bera (JB):               23.807\n",
      "Skew:                          -0.217   Prob(JB):                     6.77e-06\n",
      "Kurtosis:                       2.773   Cond. No.                         55.9\n",
      "==============================================================================\n",
      "\n",
      "Notes:\n",
      "[1] Standard Errors assume that the covariance matrix of the errors is correctly specified.\n"
     ]
    }
   ],
   "source": [
    "# X: age, Y: per_size\n",
    "apt_model=ols('per_size~age',data=df2).fit()\n",
    "print(apt_model.summary())"
   ]
  },
  {
   "cell_type": "code",
   "execution_count": 242,
   "id": "516408c6",
   "metadata": {},
   "outputs": [
    {
     "data": {
      "image/png": "[encoded data removed]",
      "text/plain": [
       "<Figure size 640x480 with 1 Axes>"
      ]
     },
     "metadata": {},
     "output_type": "display_data"
    }
   ],
   "source": [
    "# 산포도 그리기: plt.scatter이용\n",
    "plt.scatter(x=df2['age'],y=df2['per_size'])\n",
    "plt.xlabel('Age')\n",
    "plt.ylabel('Per Size')\n",
    "plt.title('아파트 평당가격과 연령간의 회귀관계')\n",
    "plt.grid()\n",
    "plt.show()"
   ]
  },
  {
   "cell_type": "markdown",
   "id": "b35856d9",
   "metadata": {},
   "source": [
    "위에까지 part 1"
   ]
  },
  {
   "cell_type": "code",
   "execution_count": 243,
   "id": "cf61a5d4",
   "metadata": {},
   "outputs": [],
   "source": [
    "# Q: 회귀식을 이용하여 20년된 아파트의 평당가격이 1억원 이상인 아파트는 몇 %?"
   ]
  },
  {
   "cell_type": "code",
   "execution_count": 244,
   "id": "9e34097b",
   "metadata": {},
   "outputs": [
    {
     "name": "stdout",
     "output_type": "stream",
     "text": [
      "                            OLS Regression Results                            \n",
      "==============================================================================\n",
      "Dep. Variable:               per_size   R-squared:                       0.002\n",
      "Model:                            OLS   Adj. R-squared:                  0.001\n",
      "Method:                 Least Squares   F-statistic:                     3.721\n",
      "Date:                Mon, 10 Jun 2024   Prob (F-statistic):             0.0539\n",
      "Time:                        21:43:59   Log-Likelihood:                 11158.\n",
      "No. Observations:                2382   AIC:                        -2.231e+04\n",
      "Df Residuals:                    2380   BIC:                        -2.230e+04\n",
      "Df Model:                           1                                         \n",
      "Covariance Type:            nonrobust                                         \n",
      "==============================================================================\n",
      "                 coef    std err          t      P>|t|      [0.025      0.975]\n",
      "------------------------------------------------------------------------------\n",
      "Intercept      0.0076   9.64e-05     78.882      0.000       0.007       0.008\n",
      "age         7.002e-06   3.63e-06      1.929      0.054   -1.16e-07    1.41e-05\n",
      "==============================================================================\n",
      "Omnibus:                       24.583   Durbin-Watson:                   1.405\n",
      "Prob(Omnibus):                  0.000   Jarque-Bera (JB):               23.807\n",
      "Skew:                          -0.217   Prob(JB):                     6.77e-06\n",
      "Kurtosis:                       2.773   Cond. No.                         55.9\n",
      "==============================================================================\n",
      "\n",
      "Notes:\n",
      "[1] Standard Errors assume that the covariance matrix of the errors is correctly specified.\n"
     ]
    }
   ],
   "source": [
    "print(apt_model.summary())"
   ]
  },
  {
   "cell_type": "code",
   "execution_count": 245,
   "id": "80667e65",
   "metadata": {},
   "outputs": [],
   "source": [
    "# 직접 계산해보기"
   ]
  },
  {
   "cell_type": "code",
   "execution_count": 260,
   "id": "30ac3940",
   "metadata": {},
   "outputs": [
    {
     "data": {
      "text/plain": [
       "0.0090004"
      ]
     },
     "execution_count": 260,
     "metadata": {},
     "output_type": "execute_result"
    }
   ],
   "source": [
    "# 연령이 20년인 이파트의 평당가격의 평균은?\n",
    "0.0076+7.002e-05*20"
   ]
  },
  {
   "cell_type": "code",
   "execution_count": 247,
   "id": "ea4c26ae",
   "metadata": {},
   "outputs": [],
   "source": [
    "#90만원"
   ]
  },
  {
   "cell_type": "code",
   "execution_count": 248,
   "id": "d373bfe8",
   "metadata": {},
   "outputs": [],
   "source": [
    "# 그중에 평당가격이 1억원 이상인 아파트는?"
   ]
  },
  {
   "cell_type": "code",
   "execution_count": 249,
   "id": "4b32e7e2",
   "metadata": {},
   "outputs": [],
   "source": [
    "# 회귀직선의 표준편차 = RMSE = sqrt(1-상관계수**2)*(standard deviation y)"
   ]
  },
  {
   "cell_type": "code",
   "execution_count": 250,
   "id": "6ba09838",
   "metadata": {},
   "outputs": [
    {
     "data": {
      "text/html": [
       "<div>\n",
       "<style scoped>\n",
       "    .dataframe tbody tr th:only-of-type {\n",
       "        vertical-align: middle;\n",
       "    }\n",
       "\n",
       "    .dataframe tbody tr th {\n",
       "        vertical-align: top;\n",
       "    }\n",
       "\n",
       "    .dataframe thead th {\n",
       "        text-align: right;\n",
       "    }\n",
       "</style>\n",
       "<table border=\"1\" class=\"dataframe\">\n",
       "  <thead>\n",
       "    <tr style=\"text-align: right;\">\n",
       "      <th></th>\n",
       "      <th>age</th>\n",
       "      <th>per_size</th>\n",
       "    </tr>\n",
       "  </thead>\n",
       "  <tbody>\n",
       "    <tr>\n",
       "      <th>age</th>\n",
       "      <td>1.000000</td>\n",
       "      <td>0.039509</td>\n",
       "    </tr>\n",
       "    <tr>\n",
       "      <th>per_size</th>\n",
       "      <td>0.039509</td>\n",
       "      <td>1.000000</td>\n",
       "    </tr>\n",
       "  </tbody>\n",
       "</table>\n",
       "</div>"
      ],
      "text/plain": [
       "               age  per_size\n",
       "age       1.000000  0.039509\n",
       "per_size  0.039509  1.000000"
      ]
     },
     "execution_count": 250,
     "metadata": {},
     "output_type": "execute_result"
    }
   ],
   "source": [
    "# 상관계수 r\n",
    "df2[['age','per_size']].corr()"
   ]
  },
  {
   "cell_type": "code",
   "execution_count": 251,
   "id": "42a2fa92",
   "metadata": {},
   "outputs": [
    {
     "data": {
      "text/plain": [
       "0.00223534323356712"
      ]
     },
     "execution_count": 251,
     "metadata": {},
     "output_type": "execute_result"
    }
   ],
   "source": [
    "# RMSE\n",
    "np.sqrt(1-0.039**2)*np.std(df2['per_size'])"
   ]
  },
  {
   "cell_type": "code",
   "execution_count": 252,
   "id": "4220ebd2",
   "metadata": {},
   "outputs": [
    {
     "data": {
      "text/plain": [
       "-3.462890887129244"
      ]
     },
     "execution_count": 252,
     "metadata": {},
     "output_type": "execute_result"
    }
   ],
   "source": [
    "# 표준화 \n",
    "z=(-774.06)/223.53\n",
    "z"
   ]
  },
  {
   "cell_type": "code",
   "execution_count": 253,
   "id": "94b696d5",
   "metadata": {},
   "outputs": [
    {
     "name": "stdout",
     "output_type": "stream",
     "text": [
      "0.9997327974699397\n"
     ]
    }
   ],
   "source": [
    "# Pr(z>-3.46) 일 확률?\n",
    "p_value=1-norm.cdf(z)\n",
    "print(p_value)"
   ]
  },
  {
   "cell_type": "code",
   "execution_count": 254,
   "id": "a2ea53fa",
   "metadata": {},
   "outputs": [],
   "source": [
    "# 99% = 아파트가 20년 된 거의 평균 펴당가격은 774만원이지만, 그 중에 평당가격이 1억 이상일 확률은 99퍼"
   ]
  },
  {
   "cell_type": "code",
   "execution_count": 255,
   "id": "42637b88",
   "metadata": {},
   "outputs": [],
   "source": [
    "# 파이썬으로 해보기"
   ]
  },
  {
   "cell_type": "code",
   "execution_count": 256,
   "id": "66203a11",
   "metadata": {},
   "outputs": [
    {
     "data": {
      "text/plain": [
       "0.007740685962819866"
      ]
     },
     "execution_count": 256,
     "metadata": {},
     "output_type": "execute_result"
    }
   ],
   "source": [
    "# age가 20년인 아파트의 평당 가격이 1억원 이상일 확률\n",
    "# 1단계) 평균을 계산한다\n",
    "# params[0]: 위에 분석 결과에서 parameter 값 중에 0번째 값(intercept coef) 가져온다 \n",
    "intercept=apt_model.params[0] # alpha hat\n",
    "slope=apt_model.params[1] # beta hat'\n",
    "mean=intercept+slope*20\n",
    "mean"
   ]
  },
  {
   "cell_type": "code",
   "execution_count": 257,
   "id": "464bc3eb",
   "metadata": {},
   "outputs": [
    {
     "data": {
      "text/plain": [
       "0.0022362375300113368"
      ]
     },
     "execution_count": 257,
     "metadata": {},
     "output_type": "execute_result"
    }
   ],
   "source": [
    "# 구하고 싶은 것: 20년된 아파트의 평당가격이 1억 이상일 확률\n",
    "# 그러려면 z 값 필요함\n",
    "# 그러려면 se 있어야하니까 rmse 알아야함\n",
    "#rmse계산\n",
    "rmse=np.sqrt(apt_model.mse_resid)\n",
    "rmse"
   ]
  },
  {
   "cell_type": "code",
   "execution_count": 258,
   "id": "9de3e2cf",
   "metadata": {},
   "outputs": [
    {
     "name": "stdout",
     "output_type": "stream",
     "text": [
      "443.71821003833605\n"
     ]
    }
   ],
   "source": [
    "z=(1-mean)/rmse # (1억-평균)/표준오차\n",
    "print(z)"
   ]
  },
  {
   "cell_type": "code",
   "execution_count": null,
   "id": "94ae4b10",
   "metadata": {},
   "outputs": [],
   "source": []
  }
 ],
 "metadata": {
  "kernelspec": {
   "display_name": "Python 3 (ipykernel)",
   "language": "python",
   "name": "python3"
  },
  "language_info": {
   "codemirror_mode": {
    "name": "ipython",
    "version": 3
   },
   "file_extension": ".py",
   "mimetype": "text/x-python",
   "name": "python",
   "nbconvert_exporter": "python",
   "pygments_lexer": "ipython3",
   "version": "3.9.13"
  }
 },
 "nbformat": 4,
 "nbformat_minor": 5
}
