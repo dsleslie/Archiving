{
 "cells": [
  {
   "cell_type": "code",
   "execution_count": 2,
   "id": "03dc689a",
   "metadata": {},
   "outputs": [],
   "source": [
    "import pandas as pd\n",
    "import numpy as np\n",
    "import numpy_financial as npf\n",
    "import seaborn as sns\n",
    "import matplotlib.pyplot as plt\n",
    "import statsmodels.api as sm\n",
    "from sklearn.model_selection import train_test_split\n",
    "import warnings\n",
    "warnings.filterwarnings(\"ignore\")\n",
    "\n",
    "\n",
    "from ggplot import *\n",
    "from scipy.stats import logistic\n",
    "from sklearn.metrics import roc_curve\n",
    "from sklearn.metrics import roc_auc_score\n",
    "from sklearn.linear_model import LogisticRegression\n",
    "from sklearn.metrics import confusion_matrix, mean_squared_error\n",
    "from sklearn.model_selection import train_test_split\n",
    "from sklearn import preprocessing\n",
    "from sklearn.neighbors import KNeighborsClassifier\n",
    "from sklearn.naive_bayes import *\n",
    "from sklearn.tree import DecisionTreeClassifier, DecisionTreeRegressor, export_graphviz\n",
    "import graphviz\n",
    "from sklearn.ensemble import RandomForestRegressor, RandomForestClassifier\n",
    "from sklearn.svm import SVC, SVR\n",
    "from sklearn.cluster import KMeans\n",
    "from sklearn.preprocessing import StandardScaler\n",
    "\n",
    "\n",
    "from linearmodels.iv import IV2SLS\n",
    "from scipy import stats\n",
    "from scipy.stats import trim_mean #trimmed mean\n",
    "\n",
    "import keyword\n",
    "\n",
    "#open api 불러올 때 필요한 것\n",
    "from urllib.request import urlopen #request package 설치\n",
    "from bs4 import BeautifulSoup #bs4 package 설치\n",
    "\n",
    "# 그래프에서 한글 깨지지 않기 위헤 사용함\n",
    "from matplotlib import rcParams\n",
    "from matplotlib import font_manager,rc\n",
    "\n",
    "rcParams['axes.unicode_minus']=False\n",
    "plt.rcParams['font.family']='Malgun Gothic'\n",
    "font_name=font_manager.FontProperties(fname='c:/Windows/Fonts/malgun.ttf').get_name()\n",
    "rc('font',family=font_name)"
   ]
  },
  {
   "cell_type": "markdown",
   "id": "fae4f345",
   "metadata": {},
   "source": [
    "# 240306 두번째 수업\n",
    "\n",
    "# LN1"
   ]
  },
  {
   "cell_type": "code",
   "execution_count": 3,
   "id": "fbd48347",
   "metadata": {},
   "outputs": [
    {
     "data": {
      "text/plain": [
       "['False',\n",
       " 'None',\n",
       " 'True',\n",
       " '__peg_parser__',\n",
       " 'and',\n",
       " 'as',\n",
       " 'assert',\n",
       " 'async',\n",
       " 'await',\n",
       " 'break',\n",
       " 'class',\n",
       " 'continue',\n",
       " 'def',\n",
       " 'del',\n",
       " 'elif',\n",
       " 'else',\n",
       " 'except',\n",
       " 'finally',\n",
       " 'for',\n",
       " 'from',\n",
       " 'global',\n",
       " 'if',\n",
       " 'import',\n",
       " 'in',\n",
       " 'is',\n",
       " 'lambda',\n",
       " 'nonlocal',\n",
       " 'not',\n",
       " 'or',\n",
       " 'pass',\n",
       " 'raise',\n",
       " 'return',\n",
       " 'try',\n",
       " 'while',\n",
       " 'with',\n",
       " 'yield']"
      ]
     },
     "execution_count": 3,
     "metadata": {},
     "output_type": "execute_result"
    }
   ],
   "source": [
    "# 파이썬에 내장 함수들, 파이썬에서 내가 정의해서 쓰면 안되는 단어\n",
    "keyword.kwlist"
   ]
  },
  {
   "cell_type": "code",
   "execution_count": 4,
   "id": "b87962c3",
   "metadata": {},
   "outputs": [
    {
     "data": {
      "text/plain": [
       "['False',\n",
       " 'None',\n",
       " 'True',\n",
       " '__peg_parser__',\n",
       " 'and',\n",
       " 'as',\n",
       " 'assert',\n",
       " 'async',\n",
       " 'await',\n",
       " 'break',\n",
       " 'class',\n",
       " 'continue',\n",
       " 'def',\n",
       " 'del',\n",
       " 'elif',\n",
       " 'else',\n",
       " 'except',\n",
       " 'finally',\n",
       " 'for',\n",
       " 'from',\n",
       " 'global',\n",
       " 'if',\n",
       " 'import',\n",
       " 'in',\n",
       " 'is',\n",
       " 'lambda',\n",
       " 'nonlocal',\n",
       " 'not',\n",
       " 'or',\n",
       " 'pass',\n",
       " 'raise',\n",
       " 'return',\n",
       " 'try',\n",
       " 'while',\n",
       " 'with',\n",
       " 'yield']"
      ]
     },
     "execution_count": 4,
     "metadata": {},
     "output_type": "execute_result"
    }
   ],
   "source": [
    "aa=keyword.kwlist\n",
    "aa"
   ]
  },
  {
   "cell_type": "code",
   "execution_count": 6,
   "id": "68fa46cc",
   "metadata": {},
   "outputs": [
    {
     "data": {
      "text/plain": [
       "36"
      ]
     },
     "execution_count": 6,
     "metadata": {},
     "output_type": "execute_result"
    }
   ],
   "source": [
    "# aa가 몇개?\n",
    "len(aa)"
   ]
  },
  {
   "cell_type": "code",
   "execution_count": 7,
   "id": "a07eea78",
   "metadata": {},
   "outputs": [],
   "source": [
    "# list data structure 리스트 라는 데이터 형식\n",
    "x=[1,2,3]"
   ]
  },
  {
   "cell_type": "code",
   "execution_count": 8,
   "id": "9d6b5cbf",
   "metadata": {},
   "outputs": [
    {
     "data": {
      "text/plain": [
       "[1, 2, 3]"
      ]
     },
     "execution_count": 8,
     "metadata": {},
     "output_type": "execute_result"
    }
   ],
   "source": [
    "x"
   ]
  },
  {
   "cell_type": "markdown",
   "id": "c435c121",
   "metadata": {},
   "source": [
    "### Loop\n",
    "- ** 제곱\n",
    "- range(a,b) : a에서 b-1까지 정수 쭉 가져오기\n",
    "- a%b : a를 b로 나눈 나머지를 가져와라\n",
    "- ==a: a와 같은 것 만 가져와라"
   ]
  },
  {
   "cell_type": "code",
   "execution_count": 10,
   "id": "29c1f6e7",
   "metadata": {},
   "outputs": [
    {
     "name": "stdout",
     "output_type": "stream",
     "text": [
      "1\n",
      "4\n",
      "9\n"
     ]
    }
   ],
   "source": [
    "x=[1,2,3]\n",
    "\n",
    "for i in x:\n",
    "    y=i**2 #**은 제곱\n",
    "    print(y)"
   ]
  },
  {
   "cell_type": "code",
   "execution_count": 12,
   "id": "5e2a1107",
   "metadata": {},
   "outputs": [
    {
     "name": "stdout",
     "output_type": "stream",
     "text": [
      "2\n",
      "4\n",
      "6\n",
      "8\n",
      "10\n",
      "12\n",
      "14\n",
      "16\n",
      "18\n",
      "20\n",
      "22\n",
      "24\n",
      "26\n",
      "28\n",
      "30\n",
      "32\n",
      "34\n",
      "36\n",
      "38\n",
      "40\n",
      "42\n",
      "44\n",
      "46\n",
      "48\n",
      "50\n",
      "52\n",
      "54\n",
      "56\n",
      "58\n",
      "60\n",
      "62\n",
      "64\n",
      "66\n",
      "68\n",
      "70\n",
      "72\n",
      "74\n",
      "76\n",
      "78\n",
      "80\n",
      "82\n",
      "84\n",
      "86\n",
      "88\n",
      "90\n",
      "92\n",
      "94\n",
      "96\n",
      "98\n"
     ]
    }
   ],
   "source": [
    "# Q2: 1~100 가지 숫자 중 짝수만 프린트 하도록 하는 코드\n",
    "\n",
    "for i in range(1,100):\n",
    "    if i%2==0: # %: 앞숫자를 뒤숫자로 나누고 그 나머지가 0과 같으면(==0) 가져와라\n",
    "        print(i)"
   ]
  },
  {
   "cell_type": "code",
   "execution_count": 15,
   "id": "aecfa5ad",
   "metadata": {},
   "outputs": [
    {
     "name": "stdout",
     "output_type": "stream",
     "text": [
      "2\n",
      "4\n",
      "6\n",
      "8\n",
      "10\n",
      "12\n",
      "14\n",
      "16\n",
      "18\n",
      "20\n",
      "22\n",
      "24\n",
      "26\n",
      "28\n",
      "30\n",
      "32\n",
      "34\n",
      "36\n",
      "38\n",
      "40\n",
      "42\n",
      "44\n",
      "46\n",
      "48\n",
      "50\n",
      "52\n",
      "54\n",
      "56\n",
      "58\n",
      "60\n",
      "62\n",
      "64\n",
      "66\n",
      "68\n",
      "70\n",
      "72\n",
      "74\n",
      "76\n",
      "78\n",
      "80\n",
      "82\n",
      "84\n",
      "86\n",
      "88\n",
      "90\n",
      "92\n",
      "94\n",
      "96\n",
      "98\n",
      "100\n"
     ]
    }
   ],
   "source": [
    "for i in range(1,101):\n",
    "    if i%2==0:\n",
    "        print(i)"
   ]
  },
  {
   "cell_type": "code",
   "execution_count": 17,
   "id": "d261d96b",
   "metadata": {},
   "outputs": [
    {
     "name": "stdout",
     "output_type": "stream",
     "text": [
      "1\n",
      "3\n",
      "5\n",
      "7\n",
      "9\n",
      "11\n",
      "13\n",
      "15\n",
      "17\n",
      "19\n",
      "21\n",
      "23\n",
      "25\n",
      "27\n",
      "29\n",
      "31\n",
      "33\n",
      "35\n",
      "37\n",
      "39\n",
      "41\n",
      "43\n",
      "45\n",
      "47\n",
      "49\n",
      "51\n",
      "53\n",
      "55\n",
      "57\n",
      "59\n",
      "61\n",
      "63\n",
      "65\n",
      "67\n",
      "69\n",
      "71\n",
      "73\n",
      "75\n",
      "77\n",
      "79\n",
      "81\n",
      "83\n",
      "85\n",
      "87\n",
      "89\n",
      "91\n",
      "93\n",
      "95\n",
      "97\n",
      "99\n"
     ]
    }
   ],
   "source": [
    "for i in range(1,101):\n",
    "    if i%2==1:\n",
    "        print(i)"
   ]
  },
  {
   "cell_type": "code",
   "execution_count": 18,
   "id": "8c0f36d1",
   "metadata": {},
   "outputs": [
    {
     "data": {
      "text/plain": [
       "3"
      ]
     },
     "execution_count": 18,
     "metadata": {},
     "output_type": "execute_result"
    }
   ],
   "source": [
    "# 절대값\n",
    "abs(-3)"
   ]
  },
  {
   "cell_type": "code",
   "execution_count": 19,
   "id": "f8df656e",
   "metadata": {},
   "outputs": [
    {
     "data": {
      "text/plain": [
       "100"
      ]
     },
     "execution_count": 19,
     "metadata": {},
     "output_type": "execute_result"
    }
   ],
   "source": [
    "#절댓값\n",
    "np.abs(-100)"
   ]
  },
  {
   "cell_type": "code",
   "execution_count": 20,
   "id": "ac30c1d8",
   "metadata": {},
   "outputs": [
    {
     "data": {
      "text/plain": [
       "10.0"
      ]
     },
     "execution_count": 20,
     "metadata": {},
     "output_type": "execute_result"
    }
   ],
   "source": [
    "np.sqrt(100)"
   ]
  },
  {
   "cell_type": "code",
   "execution_count": 21,
   "id": "2590e0c8",
   "metadata": {},
   "outputs": [
    {
     "ename": "NameError",
     "evalue": "name 'sqrt' is not defined",
     "output_type": "error",
     "traceback": [
      "\u001b[1;31m---------------------------------------------------------------------------\u001b[0m",
      "\u001b[1;31mNameError\u001b[0m                                 Traceback (most recent call last)",
      "\u001b[1;32m~\\AppData\\Local\\Temp\\ipykernel_5844\\2032787314.py\u001b[0m in \u001b[0;36m<module>\u001b[1;34m\u001b[0m\n\u001b[1;32m----> 1\u001b[1;33m \u001b[0msqrt\u001b[0m\u001b[1;33m(\u001b[0m\u001b[1;36m100\u001b[0m\u001b[1;33m)\u001b[0m\u001b[1;33m\u001b[0m\u001b[1;33m\u001b[0m\u001b[0m\n\u001b[0m",
      "\u001b[1;31mNameError\u001b[0m: name 'sqrt' is not defined"
     ]
    }
   ],
   "source": [
    "sqrt(100)"
   ]
  },
  {
   "cell_type": "code",
   "execution_count": 22,
   "id": "52aa9269",
   "metadata": {},
   "outputs": [
    {
     "data": {
      "text/plain": [
       "2.0"
      ]
     },
     "execution_count": 22,
     "metadata": {},
     "output_type": "execute_result"
    }
   ],
   "source": [
    "from numpy import *\n",
    "sqrt(4)"
   ]
  },
  {
   "cell_type": "code",
   "execution_count": 24,
   "id": "a4ef04f2",
   "metadata": {},
   "outputs": [
    {
     "data": {
      "text/plain": [
       "<AxesSubplot:ylabel='Count'>"
      ]
     },
     "execution_count": 24,
     "metadata": {},
     "output_type": "execute_result"
    },
    {
     "data": {
      "image/png": "[encoded data removed]",
      "text/plain": [
       "<Figure size 640x480 with 1 Axes>"
      ]
     },
     "metadata": {},
     "output_type": "display_data"
    }
   ],
   "source": [
    "x=[1,2,3,4,5]\n",
    "sns.histplot(x)"
   ]
  },
  {
   "cell_type": "code",
   "execution_count": 25,
   "id": "b18efaa3",
   "metadata": {},
   "outputs": [
    {
     "data": {
      "text/plain": [
       "<AxesSubplot:ylabel='Count'>"
      ]
     },
     "execution_count": 25,
     "metadata": {},
     "output_type": "execute_result"
    },
    {
     "data": {
      "image/png": "[encoded data removed]",
      "text/plain": [
       "<Figure size 640x480 with 1 Axes>"
      ]
     },
     "metadata": {},
     "output_type": "display_data"
    }
   ],
   "source": [
    "x=[1,2,3,4,5,6]\n",
    "sns.histplot(x)"
   ]
  },
  {
   "cell_type": "code",
   "execution_count": 26,
   "id": "fc9b5a3f",
   "metadata": {},
   "outputs": [
    {
     "data": {
      "text/plain": [
       "<AxesSubplot:>"
      ]
     },
     "execution_count": 26,
     "metadata": {},
     "output_type": "execute_result"
    },
    {
     "data": {
      "image/png": "[encoded data removed]",
      "text/plain": [
       "<Figure size 640x480 with 1 Axes>"
      ]
     },
     "metadata": {},
     "output_type": "display_data"
    }
   ],
   "source": [
    "sns.boxplot(x)"
   ]
  },
  {
   "cell_type": "markdown",
   "id": "e69389ea",
   "metadata": {},
   "source": [
    "# 세번째 수업 240311\n",
    "\n",
    "# LN1\n",
    "\n",
    "## 5 Data input and saving"
   ]
  },
  {
   "cell_type": "code",
   "execution_count": 28,
   "id": "343659bf",
   "metadata": {},
   "outputs": [
    {
     "data": {
      "text/html": [
       "<div>\n",
       "<style scoped>\n",
       "    .dataframe tbody tr th:only-of-type {\n",
       "        vertical-align: middle;\n",
       "    }\n",
       "\n",
       "    .dataframe tbody tr th {\n",
       "        vertical-align: top;\n",
       "    }\n",
       "\n",
       "    .dataframe thead th {\n",
       "        text-align: right;\n",
       "    }\n",
       "</style>\n",
       "<table border=\"1\" class=\"dataframe\">\n",
       "  <thead>\n",
       "    <tr style=\"text-align: right;\">\n",
       "      <th></th>\n",
       "      <th>AMC Concord</th>\n",
       "      <th>4099</th>\n",
       "      <th>22</th>\n",
       "      <th>3</th>\n",
       "      <th>2.5</th>\n",
       "      <th>11</th>\n",
       "      <th>2930</th>\n",
       "      <th>186</th>\n",
       "      <th>40</th>\n",
       "      <th>121</th>\n",
       "      <th>3.5799999237060547</th>\n",
       "      <th>Domestic</th>\n",
       "    </tr>\n",
       "  </thead>\n",
       "  <tbody>\n",
       "    <tr>\n",
       "      <th>0</th>\n",
       "      <td>AMC Pacer</td>\n",
       "      <td>4749</td>\n",
       "      <td>17</td>\n",
       "      <td>3.0</td>\n",
       "      <td>3.0</td>\n",
       "      <td>11</td>\n",
       "      <td>3350</td>\n",
       "      <td>173</td>\n",
       "      <td>40</td>\n",
       "      <td>258</td>\n",
       "      <td>2.53</td>\n",
       "      <td>Domestic</td>\n",
       "    </tr>\n",
       "    <tr>\n",
       "      <th>1</th>\n",
       "      <td>AMC Spirit</td>\n",
       "      <td>3799</td>\n",
       "      <td>22</td>\n",
       "      <td>NaN</td>\n",
       "      <td>3.0</td>\n",
       "      <td>12</td>\n",
       "      <td>2640</td>\n",
       "      <td>168</td>\n",
       "      <td>35</td>\n",
       "      <td>121</td>\n",
       "      <td>3.08</td>\n",
       "      <td>Domestic</td>\n",
       "    </tr>\n",
       "    <tr>\n",
       "      <th>2</th>\n",
       "      <td>Buick Century</td>\n",
       "      <td>4816</td>\n",
       "      <td>20</td>\n",
       "      <td>3.0</td>\n",
       "      <td>4.5</td>\n",
       "      <td>16</td>\n",
       "      <td>3250</td>\n",
       "      <td>196</td>\n",
       "      <td>40</td>\n",
       "      <td>196</td>\n",
       "      <td>2.93</td>\n",
       "      <td>Domestic</td>\n",
       "    </tr>\n",
       "    <tr>\n",
       "      <th>3</th>\n",
       "      <td>Buick Electra</td>\n",
       "      <td>7827</td>\n",
       "      <td>15</td>\n",
       "      <td>4.0</td>\n",
       "      <td>4.0</td>\n",
       "      <td>20</td>\n",
       "      <td>4080</td>\n",
       "      <td>222</td>\n",
       "      <td>43</td>\n",
       "      <td>350</td>\n",
       "      <td>2.41</td>\n",
       "      <td>Domestic</td>\n",
       "    </tr>\n",
       "    <tr>\n",
       "      <th>4</th>\n",
       "      <td>Buick LeSabre</td>\n",
       "      <td>5788</td>\n",
       "      <td>18</td>\n",
       "      <td>3.0</td>\n",
       "      <td>4.0</td>\n",
       "      <td>21</td>\n",
       "      <td>3670</td>\n",
       "      <td>218</td>\n",
       "      <td>43</td>\n",
       "      <td>231</td>\n",
       "      <td>2.73</td>\n",
       "      <td>Domestic</td>\n",
       "    </tr>\n",
       "    <tr>\n",
       "      <th>...</th>\n",
       "      <td>...</td>\n",
       "      <td>...</td>\n",
       "      <td>...</td>\n",
       "      <td>...</td>\n",
       "      <td>...</td>\n",
       "      <td>...</td>\n",
       "      <td>...</td>\n",
       "      <td>...</td>\n",
       "      <td>...</td>\n",
       "      <td>...</td>\n",
       "      <td>...</td>\n",
       "      <td>...</td>\n",
       "    </tr>\n",
       "    <tr>\n",
       "      <th>68</th>\n",
       "      <td>VW Dasher</td>\n",
       "      <td>7140</td>\n",
       "      <td>23</td>\n",
       "      <td>4.0</td>\n",
       "      <td>2.5</td>\n",
       "      <td>12</td>\n",
       "      <td>2160</td>\n",
       "      <td>172</td>\n",
       "      <td>36</td>\n",
       "      <td>97</td>\n",
       "      <td>3.74</td>\n",
       "      <td>Foreign</td>\n",
       "    </tr>\n",
       "    <tr>\n",
       "      <th>69</th>\n",
       "      <td>VW Diesel</td>\n",
       "      <td>5397</td>\n",
       "      <td>41</td>\n",
       "      <td>5.0</td>\n",
       "      <td>3.0</td>\n",
       "      <td>15</td>\n",
       "      <td>2040</td>\n",
       "      <td>155</td>\n",
       "      <td>35</td>\n",
       "      <td>90</td>\n",
       "      <td>3.78</td>\n",
       "      <td>Foreign</td>\n",
       "    </tr>\n",
       "    <tr>\n",
       "      <th>70</th>\n",
       "      <td>VW Rabbit</td>\n",
       "      <td>4697</td>\n",
       "      <td>25</td>\n",
       "      <td>4.0</td>\n",
       "      <td>3.0</td>\n",
       "      <td>15</td>\n",
       "      <td>1930</td>\n",
       "      <td>155</td>\n",
       "      <td>35</td>\n",
       "      <td>89</td>\n",
       "      <td>3.78</td>\n",
       "      <td>Foreign</td>\n",
       "    </tr>\n",
       "    <tr>\n",
       "      <th>71</th>\n",
       "      <td>VW Scirocco</td>\n",
       "      <td>6850</td>\n",
       "      <td>25</td>\n",
       "      <td>4.0</td>\n",
       "      <td>2.0</td>\n",
       "      <td>16</td>\n",
       "      <td>1990</td>\n",
       "      <td>156</td>\n",
       "      <td>36</td>\n",
       "      <td>97</td>\n",
       "      <td>3.78</td>\n",
       "      <td>Foreign</td>\n",
       "    </tr>\n",
       "    <tr>\n",
       "      <th>72</th>\n",
       "      <td>Volvo 260</td>\n",
       "      <td>11995</td>\n",
       "      <td>17</td>\n",
       "      <td>5.0</td>\n",
       "      <td>2.5</td>\n",
       "      <td>14</td>\n",
       "      <td>3170</td>\n",
       "      <td>193</td>\n",
       "      <td>37</td>\n",
       "      <td>163</td>\n",
       "      <td>2.98</td>\n",
       "      <td>Foreign</td>\n",
       "    </tr>\n",
       "  </tbody>\n",
       "</table>\n",
       "<p>73 rows × 12 columns</p>\n",
       "</div>"
      ],
      "text/plain": [
       "      AMC Concord   4099  22    3  2.5  11  2930  186  40  121  \\\n",
       "0       AMC Pacer   4749  17  3.0  3.0  11  3350  173  40  258   \n",
       "1      AMC Spirit   3799  22  NaN  3.0  12  2640  168  35  121   \n",
       "2   Buick Century   4816  20  3.0  4.5  16  3250  196  40  196   \n",
       "3   Buick Electra   7827  15  4.0  4.0  20  4080  222  43  350   \n",
       "4   Buick LeSabre   5788  18  3.0  4.0  21  3670  218  43  231   \n",
       "..            ...    ...  ..  ...  ...  ..   ...  ...  ..  ...   \n",
       "68      VW Dasher   7140  23  4.0  2.5  12  2160  172  36   97   \n",
       "69      VW Diesel   5397  41  5.0  3.0  15  2040  155  35   90   \n",
       "70      VW Rabbit   4697  25  4.0  3.0  15  1930  155  35   89   \n",
       "71    VW Scirocco   6850  25  4.0  2.0  16  1990  156  36   97   \n",
       "72      Volvo 260  11995  17  5.0  2.5  14  3170  193  37  163   \n",
       "\n",
       "    3.5799999237060547  Domestic  \n",
       "0                 2.53  Domestic  \n",
       "1                 3.08  Domestic  \n",
       "2                 2.93  Domestic  \n",
       "3                 2.41  Domestic  \n",
       "4                 2.73  Domestic  \n",
       "..                 ...       ...  \n",
       "68                3.74   Foreign  \n",
       "69                3.78   Foreign  \n",
       "70                3.78   Foreign  \n",
       "71                3.78   Foreign  \n",
       "72                2.98   Foreign  \n",
       "\n",
       "[73 rows x 12 columns]"
      ]
     },
     "execution_count": 28,
     "metadata": {},
     "output_type": "execute_result"
    }
   ],
   "source": [
    "data1=pd.read_excel('c:/temp/auto.xlsx')\n",
    "data1"
   ]
  },
  {
   "cell_type": "code",
   "execution_count": 1,
   "id": "e05b0142",
   "metadata": {},
   "outputs": [
    {
     "ename": "NameError",
     "evalue": "name 'pd' is not defined",
     "output_type": "error",
     "traceback": [
      "\u001b[1;31m---------------------------------------------------------------------------\u001b[0m",
      "\u001b[1;31mNameError\u001b[0m                                 Traceback (most recent call last)",
      "\u001b[1;32m~\\AppData\\Local\\Temp\\ipykernel_12480\\2502640591.py\u001b[0m in \u001b[0;36m<module>\u001b[1;34m\u001b[0m\n\u001b[1;32m----> 1\u001b[1;33m \u001b[0mdata2\u001b[0m\u001b[1;33m=\u001b[0m\u001b[0mpd\u001b[0m\u001b[1;33m.\u001b[0m\u001b[0mread_csv\u001b[0m\u001b[1;33m(\u001b[0m\u001b[1;34m'c:/temp/barium.csv'\u001b[0m\u001b[1;33m)\u001b[0m\u001b[1;33m\u001b[0m\u001b[1;33m\u001b[0m\u001b[0m\n\u001b[0m\u001b[0;32m      2\u001b[0m \u001b[0mdata2\u001b[0m\u001b[1;33m\u001b[0m\u001b[1;33m\u001b[0m\u001b[0m\n",
      "\u001b[1;31mNameError\u001b[0m: name 'pd' is not defined"
     ]
    }
   ],
   "source": [
    "data2=pd.read_csv('c:/temp/barium.csv')\n",
    "data2"
   ]
  },
  {
   "cell_type": "code",
   "execution_count": null,
   "id": "6dd1bbc3",
   "metadata": {},
   "outputs": [],
   "source": []
  },
  {
   "cell_type": "markdown",
   "id": "75f52818",
   "metadata": {},
   "source": [
    "## 6 Data description 기술 통계 and calculation\n",
    "- summary statistics\n",
    "- 평균\n",
    "- 표준편차\n",
    "- skewness 왜도: 치우친 정도/양,0,음\n",
    "- kurtosis 첨도: 뾰족한 정도/양,0,음/뾰족할 수록 꼬리 두꺼워짐(특이하게 양쪽 극단적인 값 많이 나타난다)/완만하면 꼬리 얇아진다.\n"
   ]
  },
  {
   "cell_type": "code",
   "execution_count": 30,
   "id": "717a310d",
   "metadata": {},
   "outputs": [
    {
     "data": {
      "text/html": [
       "<div>\n",
       "<style scoped>\n",
       "    .dataframe tbody tr th:only-of-type {\n",
       "        vertical-align: middle;\n",
       "    }\n",
       "\n",
       "    .dataframe tbody tr th {\n",
       "        vertical-align: top;\n",
       "    }\n",
       "\n",
       "    .dataframe thead th {\n",
       "        text-align: right;\n",
       "    }\n",
       "</style>\n",
       "<table border=\"1\" class=\"dataframe\">\n",
       "  <thead>\n",
       "    <tr style=\"text-align: right;\">\n",
       "      <th></th>\n",
       "      <th>chnimp</th>\n",
       "      <th>bchlimp</th>\n",
       "      <th>befile6</th>\n",
       "      <th>affile6</th>\n",
       "      <th>afdec6</th>\n",
       "      <th>befile12</th>\n",
       "      <th>affile12</th>\n",
       "      <th>afdec12</th>\n",
       "      <th>chempi</th>\n",
       "      <th>gas</th>\n",
       "      <th>...</th>\n",
       "      <th>apr</th>\n",
       "      <th>may</th>\n",
       "      <th>jun</th>\n",
       "      <th>jul</th>\n",
       "      <th>aug</th>\n",
       "      <th>sep</th>\n",
       "      <th>oct</th>\n",
       "      <th>nov</th>\n",
       "      <th>dec</th>\n",
       "      <th>percchn</th>\n",
       "    </tr>\n",
       "  </thead>\n",
       "  <tbody>\n",
       "    <tr>\n",
       "      <th>0</th>\n",
       "      <td>220.462010</td>\n",
       "      <td>9578.3760</td>\n",
       "      <td>0</td>\n",
       "      <td>0</td>\n",
       "      <td>0</td>\n",
       "      <td>0</td>\n",
       "      <td>0</td>\n",
       "      <td>0</td>\n",
       "      <td>100.1</td>\n",
       "      <td>7830000128</td>\n",
       "      <td>...</td>\n",
       "      <td>0</td>\n",
       "      <td>0</td>\n",
       "      <td>0</td>\n",
       "      <td>0</td>\n",
       "      <td>0</td>\n",
       "      <td>0</td>\n",
       "      <td>0</td>\n",
       "      <td>0</td>\n",
       "      <td>0</td>\n",
       "      <td>2.301664</td>\n",
       "    </tr>\n",
       "    <tr>\n",
       "      <th>1</th>\n",
       "      <td>94.797997</td>\n",
       "      <td>11219.4800</td>\n",
       "      <td>0</td>\n",
       "      <td>0</td>\n",
       "      <td>0</td>\n",
       "      <td>0</td>\n",
       "      <td>0</td>\n",
       "      <td>0</td>\n",
       "      <td>100.9</td>\n",
       "      <td>8819999744</td>\n",
       "      <td>...</td>\n",
       "      <td>0</td>\n",
       "      <td>0</td>\n",
       "      <td>0</td>\n",
       "      <td>0</td>\n",
       "      <td>0</td>\n",
       "      <td>0</td>\n",
       "      <td>0</td>\n",
       "      <td>0</td>\n",
       "      <td>0</td>\n",
       "      <td>0.844941</td>\n",
       "    </tr>\n",
       "    <tr>\n",
       "      <th>2</th>\n",
       "      <td>219.357500</td>\n",
       "      <td>9719.9004</td>\n",
       "      <td>0</td>\n",
       "      <td>0</td>\n",
       "      <td>0</td>\n",
       "      <td>0</td>\n",
       "      <td>0</td>\n",
       "      <td>0</td>\n",
       "      <td>101.1</td>\n",
       "      <td>8449999872</td>\n",
       "      <td>...</td>\n",
       "      <td>1</td>\n",
       "      <td>0</td>\n",
       "      <td>0</td>\n",
       "      <td>0</td>\n",
       "      <td>0</td>\n",
       "      <td>0</td>\n",
       "      <td>0</td>\n",
       "      <td>0</td>\n",
       "      <td>0</td>\n",
       "      <td>2.256788</td>\n",
       "    </tr>\n",
       "    <tr>\n",
       "      <th>3</th>\n",
       "      <td>317.421510</td>\n",
       "      <td>12920.9500</td>\n",
       "      <td>0</td>\n",
       "      <td>0</td>\n",
       "      <td>0</td>\n",
       "      <td>0</td>\n",
       "      <td>0</td>\n",
       "      <td>0</td>\n",
       "      <td>102.5</td>\n",
       "      <td>9240000512</td>\n",
       "      <td>...</td>\n",
       "      <td>0</td>\n",
       "      <td>1</td>\n",
       "      <td>0</td>\n",
       "      <td>0</td>\n",
       "      <td>0</td>\n",
       "      <td>0</td>\n",
       "      <td>0</td>\n",
       "      <td>0</td>\n",
       "      <td>0</td>\n",
       "      <td>2.456642</td>\n",
       "    </tr>\n",
       "    <tr>\n",
       "      <th>4</th>\n",
       "      <td>114.639000</td>\n",
       "      <td>9790.4463</td>\n",
       "      <td>0</td>\n",
       "      <td>0</td>\n",
       "      <td>0</td>\n",
       "      <td>0</td>\n",
       "      <td>0</td>\n",
       "      <td>0</td>\n",
       "      <td>104.1</td>\n",
       "      <td>9150000128</td>\n",
       "      <td>...</td>\n",
       "      <td>0</td>\n",
       "      <td>0</td>\n",
       "      <td>1</td>\n",
       "      <td>0</td>\n",
       "      <td>0</td>\n",
       "      <td>0</td>\n",
       "      <td>0</td>\n",
       "      <td>0</td>\n",
       "      <td>0</td>\n",
       "      <td>1.170927</td>\n",
       "    </tr>\n",
       "    <tr>\n",
       "      <th>...</th>\n",
       "      <td>...</td>\n",
       "      <td>...</td>\n",
       "      <td>...</td>\n",
       "      <td>...</td>\n",
       "      <td>...</td>\n",
       "      <td>...</td>\n",
       "      <td>...</td>\n",
       "      <td>...</td>\n",
       "      <td>...</td>\n",
       "      <td>...</td>\n",
       "      <td>...</td>\n",
       "      <td>...</td>\n",
       "      <td>...</td>\n",
       "      <td>...</td>\n",
       "      <td>...</td>\n",
       "      <td>...</td>\n",
       "      <td>...</td>\n",
       "      <td>...</td>\n",
       "      <td>...</td>\n",
       "      <td>...</td>\n",
       "      <td>...</td>\n",
       "    </tr>\n",
       "    <tr>\n",
       "      <th>126</th>\n",
       "      <td>589.422000</td>\n",
       "      <td>31686.8590</td>\n",
       "      <td>0</td>\n",
       "      <td>0</td>\n",
       "      <td>0</td>\n",
       "      <td>0</td>\n",
       "      <td>0</td>\n",
       "      <td>0</td>\n",
       "      <td>154.8</td>\n",
       "      <td>9420000256</td>\n",
       "      <td>...</td>\n",
       "      <td>0</td>\n",
       "      <td>0</td>\n",
       "      <td>0</td>\n",
       "      <td>0</td>\n",
       "      <td>1</td>\n",
       "      <td>0</td>\n",
       "      <td>0</td>\n",
       "      <td>0</td>\n",
       "      <td>0</td>\n",
       "      <td>1.860146</td>\n",
       "    </tr>\n",
       "    <tr>\n",
       "      <th>127</th>\n",
       "      <td>529.733520</td>\n",
       "      <td>16370.3400</td>\n",
       "      <td>0</td>\n",
       "      <td>0</td>\n",
       "      <td>0</td>\n",
       "      <td>0</td>\n",
       "      <td>0</td>\n",
       "      <td>0</td>\n",
       "      <td>155.3</td>\n",
       "      <td>8789999616</td>\n",
       "      <td>...</td>\n",
       "      <td>0</td>\n",
       "      <td>0</td>\n",
       "      <td>0</td>\n",
       "      <td>0</td>\n",
       "      <td>0</td>\n",
       "      <td>1</td>\n",
       "      <td>0</td>\n",
       "      <td>0</td>\n",
       "      <td>0</td>\n",
       "      <td>3.235935</td>\n",
       "    </tr>\n",
       "    <tr>\n",
       "      <th>128</th>\n",
       "      <td>968.037480</td>\n",
       "      <td>15653.9600</td>\n",
       "      <td>0</td>\n",
       "      <td>0</td>\n",
       "      <td>0</td>\n",
       "      <td>0</td>\n",
       "      <td>0</td>\n",
       "      <td>0</td>\n",
       "      <td>156.7</td>\n",
       "      <td>8990000128</td>\n",
       "      <td>...</td>\n",
       "      <td>0</td>\n",
       "      <td>0</td>\n",
       "      <td>0</td>\n",
       "      <td>0</td>\n",
       "      <td>0</td>\n",
       "      <td>0</td>\n",
       "      <td>1</td>\n",
       "      <td>0</td>\n",
       "      <td>0</td>\n",
       "      <td>6.183978</td>\n",
       "    </tr>\n",
       "    <tr>\n",
       "      <th>129</th>\n",
       "      <td>794.060000</td>\n",
       "      <td>45716.6090</td>\n",
       "      <td>0</td>\n",
       "      <td>0</td>\n",
       "      <td>0</td>\n",
       "      <td>0</td>\n",
       "      <td>0</td>\n",
       "      <td>0</td>\n",
       "      <td>157.5</td>\n",
       "      <td>8920000512</td>\n",
       "      <td>...</td>\n",
       "      <td>0</td>\n",
       "      <td>0</td>\n",
       "      <td>0</td>\n",
       "      <td>0</td>\n",
       "      <td>0</td>\n",
       "      <td>0</td>\n",
       "      <td>0</td>\n",
       "      <td>1</td>\n",
       "      <td>0</td>\n",
       "      <td>1.736918</td>\n",
       "    </tr>\n",
       "    <tr>\n",
       "      <th>130</th>\n",
       "      <td>1087.806000</td>\n",
       "      <td>29580.5000</td>\n",
       "      <td>0</td>\n",
       "      <td>0</td>\n",
       "      <td>0</td>\n",
       "      <td>0</td>\n",
       "      <td>0</td>\n",
       "      <td>0</td>\n",
       "      <td>159.0</td>\n",
       "      <td>9539999744</td>\n",
       "      <td>...</td>\n",
       "      <td>0</td>\n",
       "      <td>0</td>\n",
       "      <td>0</td>\n",
       "      <td>0</td>\n",
       "      <td>0</td>\n",
       "      <td>0</td>\n",
       "      <td>0</td>\n",
       "      <td>0</td>\n",
       "      <td>1</td>\n",
       "      <td>3.677443</td>\n",
       "    </tr>\n",
       "  </tbody>\n",
       "</table>\n",
       "<p>131 rows × 31 columns</p>\n",
       "</div>"
      ],
      "text/plain": [
       "          chnimp     bchlimp  befile6  affile6  afdec6  befile12  affile12  \\\n",
       "0     220.462010   9578.3760        0        0       0         0         0   \n",
       "1      94.797997  11219.4800        0        0       0         0         0   \n",
       "2     219.357500   9719.9004        0        0       0         0         0   \n",
       "3     317.421510  12920.9500        0        0       0         0         0   \n",
       "4     114.639000   9790.4463        0        0       0         0         0   \n",
       "..           ...         ...      ...      ...     ...       ...       ...   \n",
       "126   589.422000  31686.8590        0        0       0         0         0   \n",
       "127   529.733520  16370.3400        0        0       0         0         0   \n",
       "128   968.037480  15653.9600        0        0       0         0         0   \n",
       "129   794.060000  45716.6090        0        0       0         0         0   \n",
       "130  1087.806000  29580.5000        0        0       0         0         0   \n",
       "\n",
       "     afdec12  chempi         gas  ...  apr  may  jun  jul  aug  sep  oct  nov  \\\n",
       "0          0   100.1  7830000128  ...    0    0    0    0    0    0    0    0   \n",
       "1          0   100.9  8819999744  ...    0    0    0    0    0    0    0    0   \n",
       "2          0   101.1  8449999872  ...    1    0    0    0    0    0    0    0   \n",
       "3          0   102.5  9240000512  ...    0    1    0    0    0    0    0    0   \n",
       "4          0   104.1  9150000128  ...    0    0    1    0    0    0    0    0   \n",
       "..       ...     ...         ...  ...  ...  ...  ...  ...  ...  ...  ...  ...   \n",
       "126        0   154.8  9420000256  ...    0    0    0    0    1    0    0    0   \n",
       "127        0   155.3  8789999616  ...    0    0    0    0    0    1    0    0   \n",
       "128        0   156.7  8990000128  ...    0    0    0    0    0    0    1    0   \n",
       "129        0   157.5  8920000512  ...    0    0    0    0    0    0    0    1   \n",
       "130        0   159.0  9539999744  ...    0    0    0    0    0    0    0    0   \n",
       "\n",
       "     dec   percchn  \n",
       "0      0  2.301664  \n",
       "1      0  0.844941  \n",
       "2      0  2.256788  \n",
       "3      0  2.456642  \n",
       "4      0  1.170927  \n",
       "..   ...       ...  \n",
       "126    0  1.860146  \n",
       "127    0  3.235935  \n",
       "128    0  6.183978  \n",
       "129    0  1.736918  \n",
       "130    1  3.677443  \n",
       "\n",
       "[131 rows x 31 columns]"
      ]
     },
     "execution_count": 30,
     "metadata": {},
     "output_type": "execute_result"
    }
   ],
   "source": [
    "data2"
   ]
  },
  {
   "cell_type": "code",
   "execution_count": 31,
   "id": "0cbc67d1",
   "metadata": {},
   "outputs": [
    {
     "name": "stdout",
     "output_type": "stream",
     "text": [
      "          chnimp     bchlimp  befile6  affile6  afdec6  befile12  affile12  \\\n",
      "0     220.462010   9578.3760        0        0       0         0         0   \n",
      "1      94.797997  11219.4800        0        0       0         0         0   \n",
      "2     219.357500   9719.9004        0        0       0         0         0   \n",
      "3     317.421510  12920.9500        0        0       0         0         0   \n",
      "4     114.639000   9790.4463        0        0       0         0         0   \n",
      "..           ...         ...      ...      ...     ...       ...       ...   \n",
      "126   589.422000  31686.8590        0        0       0         0         0   \n",
      "127   529.733520  16370.3400        0        0       0         0         0   \n",
      "128   968.037480  15653.9600        0        0       0         0         0   \n",
      "129   794.060000  45716.6090        0        0       0         0         0   \n",
      "130  1087.806000  29580.5000        0        0       0         0         0   \n",
      "\n",
      "     afdec12  chempi         gas  ...  apr  may  jun  jul  aug  sep  oct  nov  \\\n",
      "0          0   100.1  7830000128  ...    0    0    0    0    0    0    0    0   \n",
      "1          0   100.9  8819999744  ...    0    0    0    0    0    0    0    0   \n",
      "2          0   101.1  8449999872  ...    1    0    0    0    0    0    0    0   \n",
      "3          0   102.5  9240000512  ...    0    1    0    0    0    0    0    0   \n",
      "4          0   104.1  9150000128  ...    0    0    1    0    0    0    0    0   \n",
      "..       ...     ...         ...  ...  ...  ...  ...  ...  ...  ...  ...  ...   \n",
      "126        0   154.8  9420000256  ...    0    0    0    0    1    0    0    0   \n",
      "127        0   155.3  8789999616  ...    0    0    0    0    0    1    0    0   \n",
      "128        0   156.7  8990000128  ...    0    0    0    0    0    0    1    0   \n",
      "129        0   157.5  8920000512  ...    0    0    0    0    0    0    0    1   \n",
      "130        0   159.0  9539999744  ...    0    0    0    0    0    0    0    0   \n",
      "\n",
      "     dec   percchn  \n",
      "0      0  2.301664  \n",
      "1      0  0.844941  \n",
      "2      0  2.256788  \n",
      "3      0  2.456642  \n",
      "4      0  1.170927  \n",
      "..   ...       ...  \n",
      "126    0  1.860146  \n",
      "127    0  3.235935  \n",
      "128    0  6.183978  \n",
      "129    0  1.736918  \n",
      "130    1  3.677443  \n",
      "\n",
      "[131 rows x 31 columns]\n"
     ]
    }
   ],
   "source": [
    "print(data2)"
   ]
  },
  {
   "cell_type": "code",
   "execution_count": 32,
   "id": "787e88d3",
   "metadata": {},
   "outputs": [
    {
     "data": {
      "text/plain": [
       "0       220.462010\n",
       "1        94.797997\n",
       "2       219.357500\n",
       "3       317.421510\n",
       "4       114.639000\n",
       "          ...     \n",
       "126     589.422000\n",
       "127     529.733520\n",
       "128     968.037480\n",
       "129     794.060000\n",
       "130    1087.806000\n",
       "Name: chnimp, Length: 131, dtype: float64"
      ]
     },
     "execution_count": 32,
     "metadata": {},
     "output_type": "execute_result"
    }
   ],
   "source": [
    "data2['chnimp']"
   ]
  },
  {
   "cell_type": "code",
   "execution_count": 34,
   "id": "80a2671d",
   "metadata": {},
   "outputs": [
    {
     "data": {
      "text/html": [
       "<div>\n",
       "<style scoped>\n",
       "    .dataframe tbody tr th:only-of-type {\n",
       "        vertical-align: middle;\n",
       "    }\n",
       "\n",
       "    .dataframe tbody tr th {\n",
       "        vertical-align: top;\n",
       "    }\n",
       "\n",
       "    .dataframe thead th {\n",
       "        text-align: right;\n",
       "    }\n",
       "</style>\n",
       "<table border=\"1\" class=\"dataframe\">\n",
       "  <thead>\n",
       "    <tr style=\"text-align: right;\">\n",
       "      <th></th>\n",
       "      <th>bchlimp</th>\n",
       "    </tr>\n",
       "  </thead>\n",
       "  <tbody>\n",
       "    <tr>\n",
       "      <th>0</th>\n",
       "      <td>9578.3760</td>\n",
       "    </tr>\n",
       "    <tr>\n",
       "      <th>1</th>\n",
       "      <td>11219.4800</td>\n",
       "    </tr>\n",
       "    <tr>\n",
       "      <th>2</th>\n",
       "      <td>9719.9004</td>\n",
       "    </tr>\n",
       "    <tr>\n",
       "      <th>3</th>\n",
       "      <td>12920.9500</td>\n",
       "    </tr>\n",
       "    <tr>\n",
       "      <th>4</th>\n",
       "      <td>9790.4463</td>\n",
       "    </tr>\n",
       "    <tr>\n",
       "      <th>...</th>\n",
       "      <td>...</td>\n",
       "    </tr>\n",
       "    <tr>\n",
       "      <th>126</th>\n",
       "      <td>31686.8590</td>\n",
       "    </tr>\n",
       "    <tr>\n",
       "      <th>127</th>\n",
       "      <td>16370.3400</td>\n",
       "    </tr>\n",
       "    <tr>\n",
       "      <th>128</th>\n",
       "      <td>15653.9600</td>\n",
       "    </tr>\n",
       "    <tr>\n",
       "      <th>129</th>\n",
       "      <td>45716.6090</td>\n",
       "    </tr>\n",
       "    <tr>\n",
       "      <th>130</th>\n",
       "      <td>29580.5000</td>\n",
       "    </tr>\n",
       "  </tbody>\n",
       "</table>\n",
       "<p>131 rows × 1 columns</p>\n",
       "</div>"
      ],
      "text/plain": [
       "        bchlimp\n",
       "0     9578.3760\n",
       "1    11219.4800\n",
       "2     9719.9004\n",
       "3    12920.9500\n",
       "4     9790.4463\n",
       "..          ...\n",
       "126  31686.8590\n",
       "127  16370.3400\n",
       "128  15653.9600\n",
       "129  45716.6090\n",
       "130  29580.5000\n",
       "\n",
       "[131 rows x 1 columns]"
      ]
     },
     "execution_count": 34,
     "metadata": {},
     "output_type": "execute_result"
    }
   ],
   "source": [
    "data2[['bchlimp']]"
   ]
  },
  {
   "cell_type": "code",
   "execution_count": 35,
   "id": "efe4a4b9",
   "metadata": {},
   "outputs": [
    {
     "data": {
      "text/plain": [
       "589.236995"
      ]
     },
     "execution_count": 35,
     "metadata": {},
     "output_type": "execute_result"
    }
   ],
   "source": [
    "data2['chnimp'].mean()"
   ]
  },
  {
   "cell_type": "code",
   "execution_count": 36,
   "id": "7bf01842",
   "metadata": {},
   "outputs": [
    {
     "data": {
      "text/plain": [
       "349.54155187578453"
      ]
     },
     "execution_count": 36,
     "metadata": {},
     "output_type": "execute_result"
    }
   ],
   "source": [
    "data2['chnimp'].std()"
   ]
  },
  {
   "cell_type": "code",
   "execution_count": 37,
   "id": "9575bc5b",
   "metadata": {},
   "outputs": [],
   "source": [
    "# 실제로 표편 어케 구하는 지 알고 있어야함"
   ]
  },
  {
   "cell_type": "code",
   "execution_count": 38,
   "id": "dc862508",
   "metadata": {},
   "outputs": [
    {
     "data": {
      "text/plain": [
       "0.8582378497720544"
      ]
     },
     "execution_count": 38,
     "metadata": {},
     "output_type": "execute_result"
    }
   ],
   "source": [
    "data2['chnimp'].skew()"
   ]
  },
  {
   "cell_type": "code",
   "execution_count": 39,
   "id": "5366ff24",
   "metadata": {},
   "outputs": [
    {
     "data": {
      "text/plain": [
       "0.6578490924101974"
      ]
     },
     "execution_count": 39,
     "metadata": {},
     "output_type": "execute_result"
    }
   ],
   "source": [
    "data2['chnimp'].kurtosis()"
   ]
  },
  {
   "cell_type": "code",
   "execution_count": 40,
   "id": "c87e9ed8",
   "metadata": {},
   "outputs": [
    {
     "data": {
      "text/html": [
       "<div>\n",
       "<style scoped>\n",
       "    .dataframe tbody tr th:only-of-type {\n",
       "        vertical-align: middle;\n",
       "    }\n",
       "\n",
       "    .dataframe tbody tr th {\n",
       "        vertical-align: top;\n",
       "    }\n",
       "\n",
       "    .dataframe thead th {\n",
       "        text-align: right;\n",
       "    }\n",
       "</style>\n",
       "<table border=\"1\" class=\"dataframe\">\n",
       "  <thead>\n",
       "    <tr style=\"text-align: right;\">\n",
       "      <th></th>\n",
       "      <th>chnimp</th>\n",
       "      <th>bchlimp</th>\n",
       "      <th>befile6</th>\n",
       "      <th>affile6</th>\n",
       "      <th>afdec6</th>\n",
       "      <th>befile12</th>\n",
       "      <th>affile12</th>\n",
       "      <th>afdec12</th>\n",
       "      <th>chempi</th>\n",
       "      <th>gas</th>\n",
       "      <th>...</th>\n",
       "      <th>apr</th>\n",
       "      <th>may</th>\n",
       "      <th>jun</th>\n",
       "      <th>jul</th>\n",
       "      <th>aug</th>\n",
       "      <th>sep</th>\n",
       "      <th>oct</th>\n",
       "      <th>nov</th>\n",
       "      <th>dec</th>\n",
       "      <th>percchn</th>\n",
       "    </tr>\n",
       "  </thead>\n",
       "  <tbody>\n",
       "    <tr>\n",
       "      <th>count</th>\n",
       "      <td>131.000000</td>\n",
       "      <td>131.000000</td>\n",
       "      <td>131.000000</td>\n",
       "      <td>131.000000</td>\n",
       "      <td>131.000000</td>\n",
       "      <td>131.000000</td>\n",
       "      <td>131.000000</td>\n",
       "      <td>131.000000</td>\n",
       "      <td>131.000000</td>\n",
       "      <td>1.310000e+02</td>\n",
       "      <td>...</td>\n",
       "      <td>131.000000</td>\n",
       "      <td>131.000000</td>\n",
       "      <td>131.000000</td>\n",
       "      <td>131.000000</td>\n",
       "      <td>131.000000</td>\n",
       "      <td>131.000000</td>\n",
       "      <td>131.000000</td>\n",
       "      <td>131.000000</td>\n",
       "      <td>131.000000</td>\n",
       "      <td>131.000000</td>\n",
       "    </tr>\n",
       "    <tr>\n",
       "      <th>mean</th>\n",
       "      <td>589.236995</td>\n",
       "      <td>19157.173172</td>\n",
       "      <td>0.045802</td>\n",
       "      <td>0.045802</td>\n",
       "      <td>0.045802</td>\n",
       "      <td>0.091603</td>\n",
       "      <td>0.091603</td>\n",
       "      <td>0.091603</td>\n",
       "      <td>122.831297</td>\n",
       "      <td>8.518550e+09</td>\n",
       "      <td>...</td>\n",
       "      <td>0.083969</td>\n",
       "      <td>0.083969</td>\n",
       "      <td>0.083969</td>\n",
       "      <td>0.083969</td>\n",
       "      <td>0.083969</td>\n",
       "      <td>0.083969</td>\n",
       "      <td>0.083969</td>\n",
       "      <td>0.083969</td>\n",
       "      <td>0.083969</td>\n",
       "      <td>3.272603</td>\n",
       "    </tr>\n",
       "    <tr>\n",
       "      <th>std</th>\n",
       "      <td>349.541552</td>\n",
       "      <td>7481.549846</td>\n",
       "      <td>0.209857</td>\n",
       "      <td>0.209857</td>\n",
       "      <td>0.209857</td>\n",
       "      <td>0.289572</td>\n",
       "      <td>0.289572</td>\n",
       "      <td>0.289572</td>\n",
       "      <td>14.235081</td>\n",
       "      <td>5.629280e+08</td>\n",
       "      <td>...</td>\n",
       "      <td>0.278407</td>\n",
       "      <td>0.278407</td>\n",
       "      <td>0.278407</td>\n",
       "      <td>0.278407</td>\n",
       "      <td>0.278407</td>\n",
       "      <td>0.278407</td>\n",
       "      <td>0.278407</td>\n",
       "      <td>0.278407</td>\n",
       "      <td>0.278407</td>\n",
       "      <td>1.985512</td>\n",
       "    </tr>\n",
       "    <tr>\n",
       "      <th>min</th>\n",
       "      <td>39.682999</td>\n",
       "      <td>8302.168000</td>\n",
       "      <td>0.000000</td>\n",
       "      <td>0.000000</td>\n",
       "      <td>0.000000</td>\n",
       "      <td>0.000000</td>\n",
       "      <td>0.000000</td>\n",
       "      <td>0.000000</td>\n",
       "      <td>100.100000</td>\n",
       "      <td>6.900000e+09</td>\n",
       "      <td>...</td>\n",
       "      <td>0.000000</td>\n",
       "      <td>0.000000</td>\n",
       "      <td>0.000000</td>\n",
       "      <td>0.000000</td>\n",
       "      <td>0.000000</td>\n",
       "      <td>0.000000</td>\n",
       "      <td>0.000000</td>\n",
       "      <td>0.000000</td>\n",
       "      <td>0.000000</td>\n",
       "      <td>0.172642</td>\n",
       "    </tr>\n",
       "    <tr>\n",
       "      <th>25%</th>\n",
       "      <td>317.880995</td>\n",
       "      <td>13765.315000</td>\n",
       "      <td>0.000000</td>\n",
       "      <td>0.000000</td>\n",
       "      <td>0.000000</td>\n",
       "      <td>0.000000</td>\n",
       "      <td>0.000000</td>\n",
       "      <td>0.000000</td>\n",
       "      <td>112.600000</td>\n",
       "      <td>8.210000e+09</td>\n",
       "      <td>...</td>\n",
       "      <td>0.000000</td>\n",
       "      <td>0.000000</td>\n",
       "      <td>0.000000</td>\n",
       "      <td>0.000000</td>\n",
       "      <td>0.000000</td>\n",
       "      <td>0.000000</td>\n",
       "      <td>0.000000</td>\n",
       "      <td>0.000000</td>\n",
       "      <td>0.000000</td>\n",
       "      <td>1.805929</td>\n",
       "    </tr>\n",
       "    <tr>\n",
       "      <th>50%</th>\n",
       "      <td>535.718020</td>\n",
       "      <td>17716.330000</td>\n",
       "      <td>0.000000</td>\n",
       "      <td>0.000000</td>\n",
       "      <td>0.000000</td>\n",
       "      <td>0.000000</td>\n",
       "      <td>0.000000</td>\n",
       "      <td>0.000000</td>\n",
       "      <td>120.200000</td>\n",
       "      <td>8.520000e+09</td>\n",
       "      <td>...</td>\n",
       "      <td>0.000000</td>\n",
       "      <td>0.000000</td>\n",
       "      <td>0.000000</td>\n",
       "      <td>0.000000</td>\n",
       "      <td>0.000000</td>\n",
       "      <td>0.000000</td>\n",
       "      <td>0.000000</td>\n",
       "      <td>0.000000</td>\n",
       "      <td>0.000000</td>\n",
       "      <td>2.782447</td>\n",
       "    </tr>\n",
       "    <tr>\n",
       "      <th>75%</th>\n",
       "      <td>821.356755</td>\n",
       "      <td>23646.409000</td>\n",
       "      <td>0.000000</td>\n",
       "      <td>0.000000</td>\n",
       "      <td>0.000000</td>\n",
       "      <td>0.000000</td>\n",
       "      <td>0.000000</td>\n",
       "      <td>0.000000</td>\n",
       "      <td>131.850000</td>\n",
       "      <td>8.860000e+09</td>\n",
       "      <td>...</td>\n",
       "      <td>0.000000</td>\n",
       "      <td>0.000000</td>\n",
       "      <td>0.000000</td>\n",
       "      <td>0.000000</td>\n",
       "      <td>0.000000</td>\n",
       "      <td>0.000000</td>\n",
       "      <td>0.000000</td>\n",
       "      <td>0.000000</td>\n",
       "      <td>0.000000</td>\n",
       "      <td>4.249461</td>\n",
       "    </tr>\n",
       "    <tr>\n",
       "      <th>max</th>\n",
       "      <td>1794.516000</td>\n",
       "      <td>45716.609000</td>\n",
       "      <td>1.000000</td>\n",
       "      <td>1.000000</td>\n",
       "      <td>1.000000</td>\n",
       "      <td>1.000000</td>\n",
       "      <td>1.000000</td>\n",
       "      <td>1.000000</td>\n",
       "      <td>159.000000</td>\n",
       "      <td>1.020000e+10</td>\n",
       "      <td>...</td>\n",
       "      <td>1.000000</td>\n",
       "      <td>1.000000</td>\n",
       "      <td>1.000000</td>\n",
       "      <td>1.000000</td>\n",
       "      <td>1.000000</td>\n",
       "      <td>1.000000</td>\n",
       "      <td>1.000000</td>\n",
       "      <td>1.000000</td>\n",
       "      <td>1.000000</td>\n",
       "      <td>10.232608</td>\n",
       "    </tr>\n",
       "  </tbody>\n",
       "</table>\n",
       "<p>8 rows × 31 columns</p>\n",
       "</div>"
      ],
      "text/plain": [
       "            chnimp       bchlimp     befile6     affile6      afdec6  \\\n",
       "count   131.000000    131.000000  131.000000  131.000000  131.000000   \n",
       "mean    589.236995  19157.173172    0.045802    0.045802    0.045802   \n",
       "std     349.541552   7481.549846    0.209857    0.209857    0.209857   \n",
       "min      39.682999   8302.168000    0.000000    0.000000    0.000000   \n",
       "25%     317.880995  13765.315000    0.000000    0.000000    0.000000   \n",
       "50%     535.718020  17716.330000    0.000000    0.000000    0.000000   \n",
       "75%     821.356755  23646.409000    0.000000    0.000000    0.000000   \n",
       "max    1794.516000  45716.609000    1.000000    1.000000    1.000000   \n",
       "\n",
       "         befile12    affile12     afdec12      chempi           gas  ...  \\\n",
       "count  131.000000  131.000000  131.000000  131.000000  1.310000e+02  ...   \n",
       "mean     0.091603    0.091603    0.091603  122.831297  8.518550e+09  ...   \n",
       "std      0.289572    0.289572    0.289572   14.235081  5.629280e+08  ...   \n",
       "min      0.000000    0.000000    0.000000  100.100000  6.900000e+09  ...   \n",
       "25%      0.000000    0.000000    0.000000  112.600000  8.210000e+09  ...   \n",
       "50%      0.000000    0.000000    0.000000  120.200000  8.520000e+09  ...   \n",
       "75%      0.000000    0.000000    0.000000  131.850000  8.860000e+09  ...   \n",
       "max      1.000000    1.000000    1.000000  159.000000  1.020000e+10  ...   \n",
       "\n",
       "              apr         may         jun         jul         aug         sep  \\\n",
       "count  131.000000  131.000000  131.000000  131.000000  131.000000  131.000000   \n",
       "mean     0.083969    0.083969    0.083969    0.083969    0.083969    0.083969   \n",
       "std      0.278407    0.278407    0.278407    0.278407    0.278407    0.278407   \n",
       "min      0.000000    0.000000    0.000000    0.000000    0.000000    0.000000   \n",
       "25%      0.000000    0.000000    0.000000    0.000000    0.000000    0.000000   \n",
       "50%      0.000000    0.000000    0.000000    0.000000    0.000000    0.000000   \n",
       "75%      0.000000    0.000000    0.000000    0.000000    0.000000    0.000000   \n",
       "max      1.000000    1.000000    1.000000    1.000000    1.000000    1.000000   \n",
       "\n",
       "              oct         nov         dec     percchn  \n",
       "count  131.000000  131.000000  131.000000  131.000000  \n",
       "mean     0.083969    0.083969    0.083969    3.272603  \n",
       "std      0.278407    0.278407    0.278407    1.985512  \n",
       "min      0.000000    0.000000    0.000000    0.172642  \n",
       "25%      0.000000    0.000000    0.000000    1.805929  \n",
       "50%      0.000000    0.000000    0.000000    2.782447  \n",
       "75%      0.000000    0.000000    0.000000    4.249461  \n",
       "max      1.000000    1.000000    1.000000   10.232608  \n",
       "\n",
       "[8 rows x 31 columns]"
      ]
     },
     "execution_count": 40,
     "metadata": {},
     "output_type": "execute_result"
    }
   ],
   "source": [
    "# 기술통계값 한꺼번에 나오게 하기\n",
    "data2.describe()"
   ]
  },
  {
   "cell_type": "code",
   "execution_count": 41,
   "id": "797b8c0b",
   "metadata": {},
   "outputs": [
    {
     "data": {
      "text/plain": [
       "count     131.000000\n",
       "mean      589.236995\n",
       "std       349.541552\n",
       "min        39.682999\n",
       "25%       317.880995\n",
       "50%       535.718020\n",
       "75%       821.356755\n",
       "max      1794.516000\n",
       "Name: chnimp, dtype: float64"
      ]
     },
     "execution_count": 41,
     "metadata": {},
     "output_type": "execute_result"
    }
   ],
   "source": [
    "data2['chnimp'].describe()"
   ]
  },
  {
   "cell_type": "markdown",
   "id": "70af8e3b",
   "metadata": {},
   "source": [
    "### > 상관계수 correlation coefficient\n",
    "- 두 변수가 같은 방향으로 움직이면: 양\n",
    "- 두 변수가 다른 방향으로 움직이면: 음\n",
    "- Pearson's correlation 씀 < 책 참고\n",
    "- 상관계수 계산법: < 책 참고\n",
    "- correlation, causality 차이 < 책 참고\n",
    "- 다음 복습 때 넣기\n"
   ]
  },
  {
   "cell_type": "code",
   "execution_count": 42,
   "id": "bd3d7630",
   "metadata": {},
   "outputs": [
    {
     "data": {
      "text/html": [
       "<div>\n",
       "<style scoped>\n",
       "    .dataframe tbody tr th:only-of-type {\n",
       "        vertical-align: middle;\n",
       "    }\n",
       "\n",
       "    .dataframe tbody tr th {\n",
       "        vertical-align: top;\n",
       "    }\n",
       "\n",
       "    .dataframe thead th {\n",
       "        text-align: right;\n",
       "    }\n",
       "</style>\n",
       "<table border=\"1\" class=\"dataframe\">\n",
       "  <thead>\n",
       "    <tr style=\"text-align: right;\">\n",
       "      <th></th>\n",
       "      <th>chnimp</th>\n",
       "      <th>bchlimp</th>\n",
       "    </tr>\n",
       "  </thead>\n",
       "  <tbody>\n",
       "    <tr>\n",
       "      <th>chnimp</th>\n",
       "      <td>1.00000</td>\n",
       "      <td>0.27206</td>\n",
       "    </tr>\n",
       "    <tr>\n",
       "      <th>bchlimp</th>\n",
       "      <td>0.27206</td>\n",
       "      <td>1.00000</td>\n",
       "    </tr>\n",
       "  </tbody>\n",
       "</table>\n",
       "</div>"
      ],
      "text/plain": [
       "          chnimp  bchlimp\n",
       "chnimp   1.00000  0.27206\n",
       "bchlimp  0.27206  1.00000"
      ]
     },
     "execution_count": 42,
     "metadata": {},
     "output_type": "execute_result"
    }
   ],
   "source": [
    "# 두 변수의 상관계수 구하기\n",
    "data2[['chnimp','bchlimp']].corr()"
   ]
  },
  {
   "cell_type": "code",
   "execution_count": 43,
   "id": "e3956c57",
   "metadata": {},
   "outputs": [],
   "source": [
    "# 0.27206: 양수 -> 두 변수 정비례관계, 양의 상관관계"
   ]
  },
  {
   "cell_type": "markdown",
   "id": "74fffcb9",
   "metadata": {},
   "source": [
    "### > numpy 모듈 활용\n",
    "#### - Series 함수 사용해서 직접 데이터 입력하기"
   ]
  },
  {
   "cell_type": "code",
   "execution_count": 53,
   "id": "8985d41f",
   "metadata": {},
   "outputs": [
    {
     "data": {
      "text/plain": [
       "0   -100\n",
       "1      5\n",
       "2      5\n",
       "3      5\n",
       "4      5\n",
       "5    105\n",
       "Name: Cashflow, dtype: int64"
      ]
     },
     "execution_count": 53,
     "metadata": {},
     "output_type": "execute_result"
    }
   ],
   "source": [
    "cashflow=pd.Series(index=[0,1,2,3,4,5],name='Cashflow',data=[-100,5,5,5,5,105])\n",
    "cashflow"
   ]
  },
  {
   "cell_type": "markdown",
   "id": "dfb038ab",
   "metadata": {},
   "source": [
    "### > 내부수익률 IRR Internal Rate of Return 계산법\n",
    "- 투자안을 보고 투자를 결정하는 방법 중 하나\n",
    "- 내부수익률 정의: net preseent value(순현재가치, npv)을 0으로 만드는 할인율\n",
    "- 내부수익률이 높을 수록 투자해야함\n",
    "- 이자비용보다 IRR이 높다면 '투자'\n",
    "- numpy 안에 IRR 계산해주는 함수 있음\n",
    "- pip install numpy_financial"
   ]
  },
  {
   "cell_type": "code",
   "execution_count": 54,
   "id": "d15f4169",
   "metadata": {},
   "outputs": [
    {
     "data": {
      "text/plain": [
       "0.04999999999999982"
      ]
     },
     "execution_count": 54,
     "metadata": {},
     "output_type": "execute_result"
    }
   ],
   "source": [
    "# IRR 계산하는 함수: npf.irr()\n",
    "\n",
    "npf.irr(cashflow)"
   ]
  },
  {
   "cell_type": "code",
   "execution_count": 55,
   "id": "2a3a7f3b",
   "metadata": {},
   "outputs": [],
   "source": [
    "# 내부수익률(IRR)= 약 4.9%\n",
    "# 현재 금리가 4.9%보다 낮다면 투자해야함"
   ]
  },
  {
   "cell_type": "markdown",
   "id": "1562d4d9",
   "metadata": {},
   "source": [
    "# 네번째 수업 240313\n",
    "\n",
    "# LN2\n",
    "# 주택실거래가 데이터분석(1)\n",
    "\n",
    "\n",
    "## 1 데이터의 대표값과 퍼진 정도 dispersion\n",
    "- 통계학은 기술통계학과 추론통계학으로 나뉨\n",
    "- 기술통계학: 다음 복습 때 찾아서 넣기\n",
    "- 추론통계학: 모집단에서 추출된 표본에서 얻은 통계량을 의미 해석해 모수를 추론하고자 함 ?????????? 필추\n",
    "\n",
    "- 아래 필추\n",
    "- 범주형 변수의 경우 최빈값이 대푯값으로 사용될 수 있음\n",
    "- 평균은 극단치에 영향 받음\n",
    "- 중앙값은 극단치에 영향 덜받음\n",
    "- 극단치가 존재하면 대푯값은 중앙값이 더 적절\n",
    "- 극단치 영향을 줄이고 평균을 계산하기 위해 trimmed mean 구할 수 있음"
   ]
  },
  {
   "cell_type": "code",
   "execution_count": 57,
   "id": "99ea577a",
   "metadata": {},
   "outputs": [
    {
     "data": {
      "text/plain": [
       "31.571428571428573"
      ]
     },
     "execution_count": 57,
     "metadata": {},
     "output_type": "execute_result"
    }
   ],
   "source": [
    "data=np.array([1,2,3,4,5,6,200])\n",
    "data.mean() # 전체평균: 극단치에 영향 받음"
   ]
  },
  {
   "cell_type": "code",
   "execution_count": 58,
   "id": "2f757963",
   "metadata": {},
   "outputs": [
    {
     "data": {
      "text/plain": [
       "31.571428571428573"
      ]
     },
     "execution_count": 58,
     "metadata": {},
     "output_type": "execute_result"
    }
   ],
   "source": [
    "# trimmed mean 구하기\n",
    "# 앞 뒤 0.05씩 자르고, 총 99%로 trimmed mean 구해보자\n",
    "trim_mean(data,proportiontocut=0.05)"
   ]
  },
  {
   "cell_type": "code",
   "execution_count": 59,
   "id": "8793980c",
   "metadata": {},
   "outputs": [
    {
     "data": {
      "text/plain": [
       "31.571428571428573"
      ]
     },
     "execution_count": 59,
     "metadata": {},
     "output_type": "execute_result"
    }
   ],
   "source": [
    "trim_mean(data,proportiontocut=0.1)"
   ]
  },
  {
   "cell_type": "code",
   "execution_count": 60,
   "id": "7b7a155b",
   "metadata": {},
   "outputs": [
    {
     "data": {
      "text/plain": [
       "4.0"
      ]
     },
     "execution_count": 60,
     "metadata": {},
     "output_type": "execute_result"
    }
   ],
   "source": [
    "trim_mean(data,proportiontocut=0.15)"
   ]
  },
  {
   "cell_type": "code",
   "execution_count": 61,
   "id": "bbfd89a6",
   "metadata": {},
   "outputs": [
    {
     "data": {
      "text/plain": [
       "4.0"
      ]
     },
     "execution_count": 61,
     "metadata": {},
     "output_type": "execute_result"
    }
   ],
   "source": [
    "trim_mean(data,proportiontocut=0.2)"
   ]
  },
  {
   "cell_type": "markdown",
   "id": "4b91bd56",
   "metadata": {},
   "source": [
    "### > 데이터 퍼진 정도\n",
    "- 필추\n",
    "- 표편, 분산\n",
    "\n",
    "\n",
    "### > MAD Median Absolute Deviation 중앙값 절대편차\n",
    "- 평균이 극단치 영향을 받기 때문에, 표준편차 역시 극단치에 영향 받음\n",
    "- 이를 보완하기 위해 극단치 영향을 덜 받는 퍼진 정도 -> '중앙값 절대편차'\n",
    "- 각 값에서 중앙값 빼고, 그 값들의 중앙값 구한다\n",
    "- 공식은 필추, 필기 참고"
   ]
  },
  {
   "cell_type": "code",
   "execution_count": 62,
   "id": "4d7d911a",
   "metadata": {},
   "outputs": [
    {
     "data": {
      "text/html": [
       "<div>\n",
       "<style scoped>\n",
       "    .dataframe tbody tr th:only-of-type {\n",
       "        vertical-align: middle;\n",
       "    }\n",
       "\n",
       "    .dataframe tbody tr th {\n",
       "        vertical-align: top;\n",
       "    }\n",
       "\n",
       "    .dataframe thead th {\n",
       "        text-align: right;\n",
       "    }\n",
       "</style>\n",
       "<table border=\"1\" class=\"dataframe\">\n",
       "  <thead>\n",
       "    <tr style=\"text-align: right;\">\n",
       "      <th></th>\n",
       "      <th>Unnamed: 0</th>\n",
       "      <th>year</th>\n",
       "      <th>month</th>\n",
       "      <th>day</th>\n",
       "      <th>price</th>\n",
       "      <th>built_yr</th>\n",
       "      <th>dong_name</th>\n",
       "      <th>apt_name</th>\n",
       "      <th>size</th>\n",
       "      <th>gu_code</th>\n",
       "      <th>size_pyung</th>\n",
       "      <th>price_pyung</th>\n",
       "    </tr>\n",
       "  </thead>\n",
       "  <tbody>\n",
       "    <tr>\n",
       "      <th>0</th>\n",
       "      <td>0</td>\n",
       "      <td>2021</td>\n",
       "      <td>6</td>\n",
       "      <td>1</td>\n",
       "      <td>150000</td>\n",
       "      <td>1988</td>\n",
       "      <td>방배동</td>\n",
       "      <td>방배임광</td>\n",
       "      <td>82.34</td>\n",
       "      <td>11650</td>\n",
       "      <td>24.726727</td>\n",
       "      <td>6066.310420</td>\n",
       "    </tr>\n",
       "    <tr>\n",
       "      <th>1</th>\n",
       "      <td>1</td>\n",
       "      <td>2021</td>\n",
       "      <td>6</td>\n",
       "      <td>1</td>\n",
       "      <td>155000</td>\n",
       "      <td>2003</td>\n",
       "      <td>방배동</td>\n",
       "      <td>삼환나띠르빌(1002-9)</td>\n",
       "      <td>148.99</td>\n",
       "      <td>11650</td>\n",
       "      <td>44.741742</td>\n",
       "      <td>3464.326465</td>\n",
       "    </tr>\n",
       "    <tr>\n",
       "      <th>2</th>\n",
       "      <td>2</td>\n",
       "      <td>2021</td>\n",
       "      <td>6</td>\n",
       "      <td>2</td>\n",
       "      <td>290000</td>\n",
       "      <td>1983</td>\n",
       "      <td>방배동</td>\n",
       "      <td>방배신삼호</td>\n",
       "      <td>185.46</td>\n",
       "      <td>11650</td>\n",
       "      <td>55.693694</td>\n",
       "      <td>5207.052734</td>\n",
       "    </tr>\n",
       "    <tr>\n",
       "      <th>3</th>\n",
       "      <td>3</td>\n",
       "      <td>2021</td>\n",
       "      <td>6</td>\n",
       "      <td>2</td>\n",
       "      <td>210000</td>\n",
       "      <td>2006</td>\n",
       "      <td>방배동</td>\n",
       "      <td>롯데캐슬헤론</td>\n",
       "      <td>169.08</td>\n",
       "      <td>11650</td>\n",
       "      <td>50.774775</td>\n",
       "      <td>4135.911994</td>\n",
       "    </tr>\n",
       "    <tr>\n",
       "      <th>4</th>\n",
       "      <td>4</td>\n",
       "      <td>2021</td>\n",
       "      <td>6</td>\n",
       "      <td>2</td>\n",
       "      <td>175000</td>\n",
       "      <td>1992</td>\n",
       "      <td>방배동</td>\n",
       "      <td>대우(효령)</td>\n",
       "      <td>84.91</td>\n",
       "      <td>11650</td>\n",
       "      <td>25.498498</td>\n",
       "      <td>6863.149217</td>\n",
       "    </tr>\n",
       "    <tr>\n",
       "      <th>...</th>\n",
       "      <td>...</td>\n",
       "      <td>...</td>\n",
       "      <td>...</td>\n",
       "      <td>...</td>\n",
       "      <td>...</td>\n",
       "      <td>...</td>\n",
       "      <td>...</td>\n",
       "      <td>...</td>\n",
       "      <td>...</td>\n",
       "      <td>...</td>\n",
       "      <td>...</td>\n",
       "      <td>...</td>\n",
       "    </tr>\n",
       "    <tr>\n",
       "      <th>191</th>\n",
       "      <td>191</td>\n",
       "      <td>2021</td>\n",
       "      <td>6</td>\n",
       "      <td>24</td>\n",
       "      <td>147000</td>\n",
       "      <td>2014</td>\n",
       "      <td>내곡동</td>\n",
       "      <td>서초더샵포레</td>\n",
       "      <td>59.69</td>\n",
       "      <td>11650</td>\n",
       "      <td>17.924925</td>\n",
       "      <td>8200.871168</td>\n",
       "    </tr>\n",
       "    <tr>\n",
       "      <th>192</th>\n",
       "      <td>192</td>\n",
       "      <td>2021</td>\n",
       "      <td>6</td>\n",
       "      <td>28</td>\n",
       "      <td>160000</td>\n",
       "      <td>2014</td>\n",
       "      <td>내곡동</td>\n",
       "      <td>서초더샵포레</td>\n",
       "      <td>84.81</td>\n",
       "      <td>11650</td>\n",
       "      <td>25.468468</td>\n",
       "      <td>6282.278033</td>\n",
       "    </tr>\n",
       "    <tr>\n",
       "      <th>193</th>\n",
       "      <td>193</td>\n",
       "      <td>2021</td>\n",
       "      <td>6</td>\n",
       "      <td>3</td>\n",
       "      <td>192500</td>\n",
       "      <td>2014</td>\n",
       "      <td>신원동</td>\n",
       "      <td>서초포레스타5단지</td>\n",
       "      <td>101.35</td>\n",
       "      <td>11650</td>\n",
       "      <td>30.435435</td>\n",
       "      <td>6324.864332</td>\n",
       "    </tr>\n",
       "    <tr>\n",
       "      <th>194</th>\n",
       "      <td>194</td>\n",
       "      <td>2021</td>\n",
       "      <td>6</td>\n",
       "      <td>3</td>\n",
       "      <td>192500</td>\n",
       "      <td>2014</td>\n",
       "      <td>신원동</td>\n",
       "      <td>서초포레스타5단지</td>\n",
       "      <td>101.35</td>\n",
       "      <td>11650</td>\n",
       "      <td>30.435435</td>\n",
       "      <td>6324.864332</td>\n",
       "    </tr>\n",
       "    <tr>\n",
       "      <th>195</th>\n",
       "      <td>195</td>\n",
       "      <td>2021</td>\n",
       "      <td>6</td>\n",
       "      <td>11</td>\n",
       "      <td>185000</td>\n",
       "      <td>2014</td>\n",
       "      <td>신원동</td>\n",
       "      <td>서초포레스타5단지</td>\n",
       "      <td>84.41</td>\n",
       "      <td>11650</td>\n",
       "      <td>25.348348</td>\n",
       "      <td>7298.305888</td>\n",
       "    </tr>\n",
       "  </tbody>\n",
       "</table>\n",
       "<p>196 rows × 12 columns</p>\n",
       "</div>"
      ],
      "text/plain": [
       "     Unnamed: 0  year  month  day   price  built_yr dong_name        apt_name  \\\n",
       "0             0  2021      6    1  150000      1988       방배동            방배임광   \n",
       "1             1  2021      6    1  155000      2003       방배동  삼환나띠르빌(1002-9)   \n",
       "2             2  2021      6    2  290000      1983       방배동           방배신삼호   \n",
       "3             3  2021      6    2  210000      2006       방배동          롯데캐슬헤론   \n",
       "4             4  2021      6    2  175000      1992       방배동          대우(효령)   \n",
       "..          ...   ...    ...  ...     ...       ...       ...             ...   \n",
       "191         191  2021      6   24  147000      2014       내곡동          서초더샵포레   \n",
       "192         192  2021      6   28  160000      2014       내곡동          서초더샵포레   \n",
       "193         193  2021      6    3  192500      2014       신원동       서초포레스타5단지   \n",
       "194         194  2021      6    3  192500      2014       신원동       서초포레스타5단지   \n",
       "195         195  2021      6   11  185000      2014       신원동       서초포레스타5단지   \n",
       "\n",
       "       size  gu_code  size_pyung  price_pyung  \n",
       "0     82.34    11650   24.726727  6066.310420  \n",
       "1    148.99    11650   44.741742  3464.326465  \n",
       "2    185.46    11650   55.693694  5207.052734  \n",
       "3    169.08    11650   50.774775  4135.911994  \n",
       "4     84.91    11650   25.498498  6863.149217  \n",
       "..      ...      ...         ...          ...  \n",
       "191   59.69    11650   17.924925  8200.871168  \n",
       "192   84.81    11650   25.468468  6282.278033  \n",
       "193  101.35    11650   30.435435  6324.864332  \n",
       "194  101.35    11650   30.435435  6324.864332  \n",
       "195   84.41    11650   25.348348  7298.305888  \n",
       "\n",
       "[196 rows x 12 columns]"
      ]
     },
     "execution_count": 62,
     "metadata": {},
     "output_type": "execute_result"
    }
   ],
   "source": [
    "df=pd.read_csv('c:/temp/LN2_data1.csv')\n",
    "df"
   ]
  },
  {
   "cell_type": "code",
   "execution_count": 63,
   "id": "53713f10",
   "metadata": {},
   "outputs": [],
   "source": [
    "# df: 서초구에서 거래된 주택 실거래가 데이터\n",
    "# 평수가 섞여 있으니 price를 바로 평균 내면 의미 없음\n",
    "# 평당 가격을 봐야함. \n",
    "# 한 평=3.3m2\n",
    "# 평당 가격 보는 변수: price_pyung"
   ]
  },
  {
   "cell_type": "code",
   "execution_count": 64,
   "id": "b3e859ca",
   "metadata": {},
   "outputs": [
    {
     "data": {
      "text/plain": [
       "95597.31932419787"
      ]
     },
     "execution_count": 64,
     "metadata": {},
     "output_type": "execute_result"
    }
   ],
   "source": [
    "# price의 표편\n",
    "df['price'].std()"
   ]
  },
  {
   "cell_type": "code",
   "execution_count": 65,
   "id": "943213ef",
   "metadata": {},
   "outputs": [
    {
     "data": {
      "text/plain": [
       "63125.0"
      ]
     },
     "execution_count": 65,
     "metadata": {},
     "output_type": "execute_result"
    }
   ],
   "source": [
    "# MAD\n",
    "stats.median_abs_deviation(df['price'])"
   ]
  },
  {
   "cell_type": "code",
   "execution_count": 66,
   "id": "51276a5a",
   "metadata": {},
   "outputs": [
    {
     "data": {
      "text/plain": [
       "3221.817175665056"
      ]
     },
     "execution_count": 66,
     "metadata": {},
     "output_type": "execute_result"
    }
   ],
   "source": [
    "df['price_pyung'].std()"
   ]
  },
  {
   "cell_type": "code",
   "execution_count": 67,
   "id": "6c98697f",
   "metadata": {},
   "outputs": [],
   "source": [
    "# 강의 확인\n",
    "# 내용이 어케되는거지?"
   ]
  },
  {
   "cell_type": "markdown",
   "id": "3c661ca1",
   "metadata": {},
   "source": [
    "## 2 히스토그램과 사분위수\n",
    "\n",
    "- 히스토그램이 오른쪽으로 긴 꼬리 모양: 중<평\n",
    "- 히스토그램이 좌우대치인 분포: 중앙값과 평균값 거의 유사\n",
    "- 백분위수 percentile 필추\n",
    "- 4분위수 quantile"
   ]
  },
  {
   "cell_type": "code",
   "execution_count": 69,
   "id": "2ddaa130",
   "metadata": {},
   "outputs": [
    {
     "data": {
      "text/html": [
       "<div>\n",
       "<style scoped>\n",
       "    .dataframe tbody tr th:only-of-type {\n",
       "        vertical-align: middle;\n",
       "    }\n",
       "\n",
       "    .dataframe tbody tr th {\n",
       "        vertical-align: top;\n",
       "    }\n",
       "\n",
       "    .dataframe thead th {\n",
       "        text-align: right;\n",
       "    }\n",
       "</style>\n",
       "<table border=\"1\" class=\"dataframe\">\n",
       "  <thead>\n",
       "    <tr style=\"text-align: right;\">\n",
       "      <th></th>\n",
       "      <th>year</th>\n",
       "      <th>metro</th>\n",
       "      <th>id</th>\n",
       "      <th>sex</th>\n",
       "      <th>age</th>\n",
       "      <th>number</th>\n",
       "      <th>education</th>\n",
       "      <th>marriage</th>\n",
       "      <th>asset</th>\n",
       "      <th>debt</th>\n",
       "      <th>income</th>\n",
       "      <th>income_d</th>\n",
       "      <th>industry</th>\n",
       "      <th>job</th>\n",
       "      <th>house</th>\n",
       "    </tr>\n",
       "  </thead>\n",
       "  <tbody>\n",
       "    <tr>\n",
       "      <th>0</th>\n",
       "      <td>2020</td>\n",
       "      <td>G1</td>\n",
       "      <td>10000112</td>\n",
       "      <td>1</td>\n",
       "      <td>34</td>\n",
       "      <td>3</td>\n",
       "      <td>6</td>\n",
       "      <td>2</td>\n",
       "      <td>112000</td>\n",
       "      <td>54500</td>\n",
       "      <td>6593</td>\n",
       "      <td>4599</td>\n",
       "      <td>F</td>\n",
       "      <td>3</td>\n",
       "      <td>2</td>\n",
       "    </tr>\n",
       "    <tr>\n",
       "      <th>1</th>\n",
       "      <td>2020</td>\n",
       "      <td>G1</td>\n",
       "      <td>10000132</td>\n",
       "      <td>2</td>\n",
       "      <td>45</td>\n",
       "      <td>2</td>\n",
       "      <td>8</td>\n",
       "      <td>2</td>\n",
       "      <td>42500</td>\n",
       "      <td>17500</td>\n",
       "      <td>17720</td>\n",
       "      <td>15257</td>\n",
       "      <td>J</td>\n",
       "      <td>2</td>\n",
       "      <td>3</td>\n",
       "    </tr>\n",
       "    <tr>\n",
       "      <th>2</th>\n",
       "      <td>2020</td>\n",
       "      <td>G1</td>\n",
       "      <td>10000162</td>\n",
       "      <td>2</td>\n",
       "      <td>73</td>\n",
       "      <td>1</td>\n",
       "      <td>2</td>\n",
       "      <td>3</td>\n",
       "      <td>5712</td>\n",
       "      <td>0</td>\n",
       "      <td>908</td>\n",
       "      <td>725</td>\n",
       "      <td>T</td>\n",
       "      <td>4</td>\n",
       "      <td>2</td>\n",
       "    </tr>\n",
       "    <tr>\n",
       "      <th>3</th>\n",
       "      <td>2020</td>\n",
       "      <td>G1</td>\n",
       "      <td>10000182</td>\n",
       "      <td>1</td>\n",
       "      <td>58</td>\n",
       "      <td>2</td>\n",
       "      <td>4</td>\n",
       "      <td>2</td>\n",
       "      <td>14870</td>\n",
       "      <td>0</td>\n",
       "      <td>2748</td>\n",
       "      <td>2431</td>\n",
       "      <td>C</td>\n",
       "      <td>5</td>\n",
       "      <td>2</td>\n",
       "    </tr>\n",
       "    <tr>\n",
       "      <th>4</th>\n",
       "      <td>2020</td>\n",
       "      <td>G1</td>\n",
       "      <td>10000192</td>\n",
       "      <td>2</td>\n",
       "      <td>27</td>\n",
       "      <td>1</td>\n",
       "      <td>4</td>\n",
       "      <td>1</td>\n",
       "      <td>814</td>\n",
       "      <td>0</td>\n",
       "      <td>1015</td>\n",
       "      <td>893</td>\n",
       "      <td>R</td>\n",
       "      <td>2</td>\n",
       "      <td>3</td>\n",
       "    </tr>\n",
       "    <tr>\n",
       "      <th>...</th>\n",
       "      <td>...</td>\n",
       "      <td>...</td>\n",
       "      <td>...</td>\n",
       "      <td>...</td>\n",
       "      <td>...</td>\n",
       "      <td>...</td>\n",
       "      <td>...</td>\n",
       "      <td>...</td>\n",
       "      <td>...</td>\n",
       "      <td>...</td>\n",
       "      <td>...</td>\n",
       "      <td>...</td>\n",
       "      <td>...</td>\n",
       "      <td>...</td>\n",
       "      <td>...</td>\n",
       "    </tr>\n",
       "    <tr>\n",
       "      <th>18059</th>\n",
       "      <td>2020</td>\n",
       "      <td>G2</td>\n",
       "      <td>993800291</td>\n",
       "      <td>1</td>\n",
       "      <td>42</td>\n",
       "      <td>3</td>\n",
       "      <td>6</td>\n",
       "      <td>2</td>\n",
       "      <td>6705</td>\n",
       "      <td>2200</td>\n",
       "      <td>179</td>\n",
       "      <td>-390</td>\n",
       "      <td>NaN</td>\n",
       "      <td>NaN</td>\n",
       "      <td>3</td>\n",
       "    </tr>\n",
       "    <tr>\n",
       "      <th>18060</th>\n",
       "      <td>2020</td>\n",
       "      <td>G2</td>\n",
       "      <td>994800251</td>\n",
       "      <td>1</td>\n",
       "      <td>49</td>\n",
       "      <td>5</td>\n",
       "      <td>6</td>\n",
       "      <td>2</td>\n",
       "      <td>130180</td>\n",
       "      <td>22000</td>\n",
       "      <td>15454</td>\n",
       "      <td>11784</td>\n",
       "      <td>O</td>\n",
       "      <td>3</td>\n",
       "      <td>1</td>\n",
       "    </tr>\n",
       "    <tr>\n",
       "      <th>18061</th>\n",
       "      <td>2020</td>\n",
       "      <td>G2</td>\n",
       "      <td>994800261</td>\n",
       "      <td>1</td>\n",
       "      <td>57</td>\n",
       "      <td>5</td>\n",
       "      <td>6</td>\n",
       "      <td>2</td>\n",
       "      <td>265226</td>\n",
       "      <td>29000</td>\n",
       "      <td>15098</td>\n",
       "      <td>11560</td>\n",
       "      <td>NaN</td>\n",
       "      <td>NaN</td>\n",
       "      <td>1</td>\n",
       "    </tr>\n",
       "    <tr>\n",
       "      <th>18062</th>\n",
       "      <td>2020</td>\n",
       "      <td>G2</td>\n",
       "      <td>994800291</td>\n",
       "      <td>2</td>\n",
       "      <td>53</td>\n",
       "      <td>2</td>\n",
       "      <td>7</td>\n",
       "      <td>4</td>\n",
       "      <td>109695</td>\n",
       "      <td>25000</td>\n",
       "      <td>9114</td>\n",
       "      <td>7074</td>\n",
       "      <td>O</td>\n",
       "      <td>2</td>\n",
       "      <td>2</td>\n",
       "    </tr>\n",
       "    <tr>\n",
       "      <th>18063</th>\n",
       "      <td>2020</td>\n",
       "      <td>G2</td>\n",
       "      <td>995800261</td>\n",
       "      <td>1</td>\n",
       "      <td>44</td>\n",
       "      <td>5</td>\n",
       "      <td>6</td>\n",
       "      <td>2</td>\n",
       "      <td>71223</td>\n",
       "      <td>13000</td>\n",
       "      <td>7857</td>\n",
       "      <td>5404</td>\n",
       "      <td>C</td>\n",
       "      <td>3</td>\n",
       "      <td>1</td>\n",
       "    </tr>\n",
       "  </tbody>\n",
       "</table>\n",
       "<p>18064 rows × 15 columns</p>\n",
       "</div>"
      ],
      "text/plain": [
       "       year metro         id  sex  age  number  education  marriage   asset  \\\n",
       "0      2020    G1   10000112    1   34       3          6         2  112000   \n",
       "1      2020    G1   10000132    2   45       2          8         2   42500   \n",
       "2      2020    G1   10000162    2   73       1          2         3    5712   \n",
       "3      2020    G1   10000182    1   58       2          4         2   14870   \n",
       "4      2020    G1   10000192    2   27       1          4         1     814   \n",
       "...     ...   ...        ...  ...  ...     ...        ...       ...     ...   \n",
       "18059  2020    G2  993800291    1   42       3          6         2    6705   \n",
       "18060  2020    G2  994800251    1   49       5          6         2  130180   \n",
       "18061  2020    G2  994800261    1   57       5          6         2  265226   \n",
       "18062  2020    G2  994800291    2   53       2          7         4  109695   \n",
       "18063  2020    G2  995800261    1   44       5          6         2   71223   \n",
       "\n",
       "        debt  income  income_d industry  job  house  \n",
       "0      54500    6593      4599        F    3      2  \n",
       "1      17500   17720     15257        J    2      3  \n",
       "2          0     908       725        T    4      2  \n",
       "3          0    2748      2431        C    5      2  \n",
       "4          0    1015       893        R    2      3  \n",
       "...      ...     ...       ...      ...  ...    ...  \n",
       "18059   2200     179      -390      NaN  NaN      3  \n",
       "18060  22000   15454     11784        O    3      1  \n",
       "18061  29000   15098     11560      NaN  NaN      1  \n",
       "18062  25000    9114      7074        O    2      2  \n",
       "18063  13000    7857      5404        C    3      1  \n",
       "\n",
       "[18064 rows x 15 columns]"
      ]
     },
     "execution_count": 69,
     "metadata": {},
     "output_type": "execute_result"
    }
   ],
   "source": [
    "# 2022년 가계금융복지조사\n",
    "\n",
    "df2=pd.read_csv('c:/temp/LN2_data2.csv')\n",
    "df2"
   ]
  },
  {
   "cell_type": "code",
   "execution_count": 70,
   "id": "1e225a30",
   "metadata": {},
   "outputs": [],
   "source": [
    "# sex: 가구주의 성별\n",
    "# income: 가구의 소득, ex. 17720: 1억 7천 7백 20 만원"
   ]
  },
  {
   "cell_type": "code",
   "execution_count": 71,
   "id": "05a141d0",
   "metadata": {},
   "outputs": [
    {
     "data": {
      "image/png": "[encoded data removed]",
      "text/plain": [
       "<Figure size 640x480 with 1 Axes>"
      ]
     },
     "metadata": {},
     "output_type": "display_data"
    }
   ],
   "source": [
    "# 히스토그램 그리기\n",
    "\n",
    "plt.hist(df2['income'])\n",
    "plt.show()"
   ]
  },
  {
   "cell_type": "code",
   "execution_count": 72,
   "id": "d24ef6d5",
   "metadata": {},
   "outputs": [
    {
     "data": {
      "image/png": "[encoded data removed]",
      "text/plain": [
       "<Figure size 640x480 with 1 Axes>"
      ]
     },
     "metadata": {},
     "output_type": "display_data"
    }
   ],
   "source": [
    "# 그릴 때, 막대기 몇 개 나올지 정하는 옵션 넣기\n",
    "plt.hist(df2['income'],bins=200)\n",
    "plt.show()"
   ]
  },
  {
   "cell_type": "code",
   "execution_count": 73,
   "id": "510c958d",
   "metadata": {},
   "outputs": [],
   "source": [
    "# 오른쪽으로 꼬리가 긴 분포\n",
    "# 적은 수지만, 돈 많이 버는 사람들 있다"
   ]
  },
  {
   "cell_type": "code",
   "execution_count": 74,
   "id": "ba14bb49",
   "metadata": {},
   "outputs": [
    {
     "data": {
      "image/png": "[encoded data removed]",
      "text/plain": [
       "<Figure size 640x480 with 1 Axes>"
      ]
     },
     "metadata": {},
     "output_type": "display_data"
    }
   ],
   "source": [
    "# alpha: 투명도 지정\n",
    "plt.hist(df2['income'],bins=200,alpha=0.3)\n",
    "plt.show()"
   ]
  },
  {
   "cell_type": "code",
   "execution_count": 75,
   "id": "c774e965",
   "metadata": {},
   "outputs": [
    {
     "data": {
      "text/plain": [
       "2026.0"
      ]
     },
     "execution_count": 75,
     "metadata": {},
     "output_type": "execute_result"
    }
   ],
   "source": [
    "# 사분위수 계산하기\n",
    "\n",
    "df2['income'].quantile(0.25)"
   ]
  },
  {
   "cell_type": "code",
   "execution_count": 76,
   "id": "2237a447",
   "metadata": {},
   "outputs": [],
   "source": [
    "# 하위 25%의 소득이 2026만원"
   ]
  },
  {
   "cell_type": "code",
   "execution_count": 77,
   "id": "167c0824",
   "metadata": {},
   "outputs": [
    {
     "data": {
      "text/plain": [
       "7331.75"
      ]
     },
     "execution_count": 77,
     "metadata": {},
     "output_type": "execute_result"
    }
   ],
   "source": [
    "df2['income'].quantile(0.75)"
   ]
  },
  {
   "cell_type": "code",
   "execution_count": 78,
   "id": "e3addd72",
   "metadata": {},
   "outputs": [],
   "source": [
    "# 상위 25%의 소득이 7331만원"
   ]
  },
  {
   "cell_type": "code",
   "execution_count": 79,
   "id": "15d8a22f",
   "metadata": {},
   "outputs": [
    {
     "name": "stdout",
     "output_type": "stream",
     "text": [
      "5305.75\n"
     ]
    }
   ],
   "source": [
    "# IQR = 사분위수 범위: 3사분위와 1사분위 값의 차이\n",
    "IQR=df2['income'].quantile(0.75)-df2['income'].quantile(0.25)\n",
    "print(IQR)"
   ]
  },
  {
   "cell_type": "code",
   "execution_count": 80,
   "id": "903b5a7b",
   "metadata": {},
   "outputs": [],
   "source": [
    "# IQR <- data의 dispersion을 측정하는 방법\n",
    "# IQR 클수록 사람들 분포가 펼쳐져 있음 \n",
    "# = 돈 많이 버는 사람과 적게 버는 사람들의 격차가 크다."
   ]
  },
  {
   "cell_type": "code",
   "execution_count": 81,
   "id": "8a66cd12",
   "metadata": {},
   "outputs": [
    {
     "data": {
      "image/png": "[encoded data removed]",
      "text/plain": [
       "<Figure size 640x480 with 1 Axes>"
      ]
     },
     "metadata": {},
     "output_type": "display_data"
    }
   ],
   "source": [
    "# Boxplot 그리기\n",
    "\n",
    "df2.boxplot(column=['income'])\n",
    "plt.show()"
   ]
  },
  {
   "cell_type": "code",
   "execution_count": 83,
   "id": "bc453442",
   "metadata": {},
   "outputs": [],
   "source": [
    "# 위에 boxplot 해석 필참해서 적기!!!!"
   ]
  },
  {
   "cell_type": "markdown",
   "id": "e5e76005",
   "metadata": {},
   "source": [
    "## 3 데이터 형식과 반복문\n",
    "\n",
    "- 데이터 형식: list, tuple 알아보자\n",
    "- list:\n",
    "- tuple:\n",
    "\n",
    "- 필기참고"
   ]
  },
  {
   "cell_type": "code",
   "execution_count": 84,
   "id": "3325be9c",
   "metadata": {},
   "outputs": [
    {
     "data": {
      "text/plain": [
       "[10, 'economics', False]"
      ]
     },
     "execution_count": 84,
     "metadata": {},
     "output_type": "execute_result"
    }
   ],
   "source": [
    "# list\n",
    "\n",
    "x=[10,'economics', False]\n",
    "x"
   ]
  },
  {
   "cell_type": "code",
   "execution_count": 86,
   "id": "a72adb32",
   "metadata": {},
   "outputs": [
    {
     "data": {
      "text/plain": [
       "list"
      ]
     },
     "execution_count": 86,
     "metadata": {},
     "output_type": "execute_result"
    }
   ],
   "source": [
    "# x의 데이터형식\n",
    "type(x)"
   ]
  },
  {
   "cell_type": "code",
   "execution_count": 90,
   "id": "ed5cb7ce",
   "metadata": {},
   "outputs": [
    {
     "data": {
      "text/plain": [
       "10"
      ]
     },
     "execution_count": 90,
     "metadata": {},
     "output_type": "execute_result"
    }
   ],
   "source": [
    "# x중 첫번째 값 불러오기\n",
    "# 파이썬은 0부터 시작함\n",
    "x[0]"
   ]
  },
  {
   "cell_type": "code",
   "execution_count": 89,
   "id": "3bdea651",
   "metadata": {},
   "outputs": [
    {
     "data": {
      "text/plain": [
       "'economics'"
      ]
     },
     "execution_count": 89,
     "metadata": {},
     "output_type": "execute_result"
    }
   ],
   "source": [
    "x[1]"
   ]
  },
  {
   "cell_type": "code",
   "execution_count": 91,
   "id": "43e283ef",
   "metadata": {},
   "outputs": [
    {
     "data": {
      "text/plain": [
       "[10]"
      ]
     },
     "execution_count": 91,
     "metadata": {},
     "output_type": "execute_result"
    }
   ],
   "source": [
    "x[0:1]"
   ]
  },
  {
   "cell_type": "code",
   "execution_count": 92,
   "id": "3d484a22",
   "metadata": {},
   "outputs": [
    {
     "data": {
      "text/plain": [
       "['economics']"
      ]
     },
     "execution_count": 92,
     "metadata": {},
     "output_type": "execute_result"
    }
   ],
   "source": [
    "x[1:2]"
   ]
  },
  {
   "cell_type": "code",
   "execution_count": 93,
   "id": "95e13a0c",
   "metadata": {},
   "outputs": [
    {
     "data": {
      "text/plain": [
       "[10, 'economics', False]"
      ]
     },
     "execution_count": 93,
     "metadata": {},
     "output_type": "execute_result"
    }
   ],
   "source": [
    "x[0:3]"
   ]
  },
  {
   "cell_type": "code",
   "execution_count": 94,
   "id": "8a2d45e0",
   "metadata": {},
   "outputs": [
    {
     "data": {
      "text/plain": [
       "[10, 'economics']"
      ]
     },
     "execution_count": 94,
     "metadata": {},
     "output_type": "execute_result"
    }
   ],
   "source": [
    "x[0:2]"
   ]
  },
  {
   "cell_type": "code",
   "execution_count": 95,
   "id": "4a89d8ad",
   "metadata": {},
   "outputs": [
    {
     "data": {
      "text/plain": [
       "[10, 'economics', False]"
      ]
     },
     "execution_count": 95,
     "metadata": {},
     "output_type": "execute_result"
    }
   ],
   "source": [
    "x[0:5]"
   ]
  },
  {
   "cell_type": "code",
   "execution_count": 96,
   "id": "8ba287d6",
   "metadata": {},
   "outputs": [
    {
     "data": {
      "text/plain": [
       "False"
      ]
     },
     "execution_count": 96,
     "metadata": {},
     "output_type": "execute_result"
    }
   ],
   "source": [
    "x[-1]\n",
    "# 음수 쓰면 뒤쪽부터 가져올 수 있음"
   ]
  },
  {
   "cell_type": "code",
   "execution_count": 98,
   "id": "e12e7cb5",
   "metadata": {},
   "outputs": [
    {
     "data": {
      "text/plain": [
       "[10, 'economics', False, 21, 21]"
      ]
     },
     "execution_count": 98,
     "metadata": {},
     "output_type": "execute_result"
    }
   ],
   "source": [
    "# list는 값 변경하거나 추가할 수 있음\n",
    "\n",
    "# 추가하기: append()\n",
    "\n",
    "x.append(21)\n",
    "x"
   ]
  },
  {
   "cell_type": "code",
   "execution_count": 100,
   "id": "b61efc28",
   "metadata": {},
   "outputs": [
    {
     "data": {
      "text/plain": [
       "[15, 'economics', False, 21, 21]"
      ]
     },
     "execution_count": 100,
     "metadata": {},
     "output_type": "execute_result"
    }
   ],
   "source": [
    "# 변경하기\n",
    "\n",
    "# x의 0번째 값을 15로 바꿔라\n",
    "x[0]=15\n",
    "x"
   ]
  },
  {
   "cell_type": "code",
   "execution_count": 102,
   "id": "b2cabbe8",
   "metadata": {},
   "outputs": [],
   "source": [
    "# 왜 21 여러번 나오지????????????\n",
    "# 강의 참고\n",
    "# tuple 이어서 함"
   ]
  },
  {
   "cell_type": "markdown",
   "id": "b0bdb1d2",
   "metadata": {},
   "source": [
    "# 240318 \n",
    "\n",
    "# LN2 이어서\n",
    "\n",
    "### > list tuple 차이점\n",
    "- list 값 추가, 변경 가능\n",
    "- tuple은 정의 하면 변경 불가능\n",
    "- tuple은 append 사용불가능"
   ]
  },
  {
   "cell_type": "code",
   "execution_count": 103,
   "id": "cfd973ec",
   "metadata": {},
   "outputs": [],
   "source": [
    "# Tuple 정의: 같은 형식으로 된 거 , 숫자만 , 글자만 등?? 맞나??\n",
    "# 필기 참고"
   ]
  },
  {
   "cell_type": "code",
   "execution_count": 104,
   "id": "a2f55bc6",
   "metadata": {},
   "outputs": [
    {
     "data": {
      "text/plain": [
       "tuple"
      ]
     },
     "execution_count": 104,
     "metadata": {},
     "output_type": "execute_result"
    }
   ],
   "source": [
    "x=(1,2)\n",
    "type(x)"
   ]
  },
  {
   "cell_type": "code",
   "execution_count": 105,
   "id": "b425914e",
   "metadata": {},
   "outputs": [
    {
     "data": {
      "text/plain": [
       "(1, 2)"
      ]
     },
     "execution_count": 105,
     "metadata": {},
     "output_type": "execute_result"
    }
   ],
   "source": [
    "x"
   ]
  },
  {
   "cell_type": "code",
   "execution_count": 106,
   "id": "b59a5309",
   "metadata": {},
   "outputs": [
    {
     "ename": "TypeError",
     "evalue": "'tuple' object does not support item assignment",
     "output_type": "error",
     "traceback": [
      "\u001b[1;31m---------------------------------------------------------------------------\u001b[0m",
      "\u001b[1;31mTypeError\u001b[0m                                 Traceback (most recent call last)",
      "\u001b[1;32m~\\AppData\\Local\\Temp\\ipykernel_5844\\4236325219.py\u001b[0m in \u001b[0;36m<module>\u001b[1;34m\u001b[0m\n\u001b[1;32m----> 1\u001b[1;33m \u001b[0mx\u001b[0m\u001b[1;33m[\u001b[0m\u001b[1;36m2\u001b[0m\u001b[1;33m]\u001b[0m\u001b[1;33m=\u001b[0m\u001b[1;36m4\u001b[0m\u001b[1;33m\u001b[0m\u001b[1;33m\u001b[0m\u001b[0m\n\u001b[0m",
      "\u001b[1;31mTypeError\u001b[0m: 'tuple' object does not support item assignment"
     ]
    }
   ],
   "source": [
    "x[2]=4"
   ]
  },
  {
   "cell_type": "code",
   "execution_count": 107,
   "id": "cf4d12a3",
   "metadata": {},
   "outputs": [
    {
     "ename": "AttributeError",
     "evalue": "'tuple' object has no attribute 'append'",
     "output_type": "error",
     "traceback": [
      "\u001b[1;31m---------------------------------------------------------------------------\u001b[0m",
      "\u001b[1;31mAttributeError\u001b[0m                            Traceback (most recent call last)",
      "\u001b[1;32m~\\AppData\\Local\\Temp\\ipykernel_5844\\1397086028.py\u001b[0m in \u001b[0;36m<module>\u001b[1;34m\u001b[0m\n\u001b[1;32m----> 1\u001b[1;33m \u001b[0mx\u001b[0m\u001b[1;33m.\u001b[0m\u001b[0mappend\u001b[0m\u001b[1;33m(\u001b[0m\u001b[1;36m5\u001b[0m\u001b[1;33m)\u001b[0m\u001b[1;33m\u001b[0m\u001b[1;33m\u001b[0m\u001b[0m\n\u001b[0m",
      "\u001b[1;31mAttributeError\u001b[0m: 'tuple' object has no attribute 'append'"
     ]
    }
   ],
   "source": [
    "x.append(5)"
   ]
  },
  {
   "cell_type": "markdown",
   "id": "232385f5",
   "metadata": {},
   "source": [
    "### > 반복문\n",
    "- for\n",
    "- range *범위 주의\n",
    "- while"
   ]
  },
  {
   "cell_type": "code",
   "execution_count": 108,
   "id": "158d6b7b",
   "metadata": {},
   "outputs": [
    {
     "data": {
      "text/plain": [
       "list"
      ]
     },
     "execution_count": 108,
     "metadata": {},
     "output_type": "execute_result"
    }
   ],
   "source": [
    "animals=['dog','cat','bird']\n",
    "type(animals)"
   ]
  },
  {
   "cell_type": "code",
   "execution_count": 109,
   "id": "d35fa7b2",
   "metadata": {},
   "outputs": [
    {
     "name": "stdout",
     "output_type": "stream",
     "text": [
      "dog\n",
      "cat\n",
      "bird\n"
     ]
    }
   ],
   "source": [
    "for i in animals:\n",
    "    print(i)"
   ]
  },
  {
   "cell_type": "code",
   "execution_count": 110,
   "id": "f9bfe092",
   "metadata": {},
   "outputs": [
    {
     "data": {
      "text/plain": [
       "3"
      ]
     },
     "execution_count": 110,
     "metadata": {},
     "output_type": "execute_result"
    }
   ],
   "source": [
    "k=len(animals)\n",
    "k"
   ]
  },
  {
   "cell_type": "code",
   "execution_count": 112,
   "id": "0ce92431",
   "metadata": {},
   "outputs": [
    {
     "name": "stdout",
     "output_type": "stream",
     "text": [
      "dog\n",
      "cat\n",
      "bird\n"
     ]
    }
   ],
   "source": [
    "# range 사용해서 반복문 쓰기\n",
    "# ?? 뭐지?? 다음에 보고 \n",
    "for i in range(k):\n",
    "    print(animals[i])"
   ]
  },
  {
   "cell_type": "code",
   "execution_count": 116,
   "id": "1e8cd2a9",
   "metadata": {},
   "outputs": [
    {
     "name": "stdout",
     "output_type": "stream",
     "text": [
      "1\n",
      "2\n",
      "3\n",
      "4\n"
     ]
    }
   ],
   "source": [
    "# while 사용해서 loop 반복문 실행하기\n",
    "\n",
    "i=1\n",
    "while i<5:\n",
    "    print(i)\n",
    "    i=i+1"
   ]
  },
  {
   "cell_type": "code",
   "execution_count": 117,
   "id": "83019404",
   "metadata": {},
   "outputs": [
    {
     "name": "stdout",
     "output_type": "stream",
     "text": [
      "0\n",
      "2\n",
      "4\n",
      "6\n",
      "8\n",
      "10\n",
      "12\n",
      "14\n",
      "16\n",
      "18\n"
     ]
    }
   ],
   "source": [
    "# 0~9까지 숫자를 2를 매번 곱해서 리스트로 생성하자\n",
    "\n",
    "for i in range(10):\n",
    "    x=i*2\n",
    "    print(x)"
   ]
  },
  {
   "cell_type": "code",
   "execution_count": 118,
   "id": "540c8497",
   "metadata": {},
   "outputs": [
    {
     "name": "stdout",
     "output_type": "stream",
     "text": [
      "[0, 2, 4, 6, 8, 10, 12, 14, 16, 18]\n"
     ]
    }
   ],
   "source": [
    "# Q11: 실행된 값을 모아서 리스트로 만들려면\n",
    "\n",
    "y=[] #비어있는 리스트 object\n",
    "for i in range(10):\n",
    "    x=i*2\n",
    "    y.append(x)\n",
    "print(y)"
   ]
  },
  {
   "cell_type": "code",
   "execution_count": 119,
   "id": "55376389",
   "metadata": {},
   "outputs": [
    {
     "data": {
      "text/plain": [
       "[0, 2, 4, 6, 8, 10, 12, 14, 16, 18]"
      ]
     },
     "execution_count": 119,
     "metadata": {},
     "output_type": "execute_result"
    }
   ],
   "source": [
    "# list comprehenshion 이용해서 Q11 해보자\n",
    "# list comprehension: loop 구문을 list 안에서 정의할 수 있는 것\n",
    "\n",
    "y1=[2*x for x in range(10)]\n",
    "y1"
   ]
  },
  {
   "cell_type": "markdown",
   "id": "ea6ea2e4",
   "metadata": {},
   "source": [
    "## 4 API 이용한 주택실거래가 데이터 수집\n",
    "\n",
    "\n",
    "#### > 아파트 매매거래 데이터 api"
   ]
  },
  {
   "cell_type": "code",
   "execution_count": 120,
   "id": "e6db430e",
   "metadata": {},
   "outputs": [],
   "source": [
    "# 강의 다시 보기"
   ]
  },
  {
   "cell_type": "code",
   "execution_count": 121,
   "id": "ad97b093",
   "metadata": {},
   "outputs": [],
   "source": [
    "# 표에 있는 걸 미리 정의 해야 함\n",
    "# 표가 뭐지>? 그냥 그 강의노트 보고 그랬던거 같은데"
   ]
  },
  {
   "cell_type": "code",
   "execution_count": 122,
   "id": "310918e1",
   "metadata": {},
   "outputs": [],
   "source": [
    "# http://openapi.molit.go.kr:8081/OpenAPI_ToolInstallPackage/service/rest/RTMSOBJSvc/getRTMSDataSvcAptTrade? 구 코드 LAWD_CD=11110& 달 DEAL_YMD=202401&numOfRows=1000&serviceKey=29jTU1S%2B7bDI1Rb2LV0S5D0d3Xn%2Fji9T3k%2FWjsLR%2FyI9O3wEU0atKsr9hj9ATsfIpKgWmV8k8Ll67O%2F73Nyj6w%3D%3D\n",
    "# numOfRows: 링크 들어가서 보면 밑에 나옴"
   ]
  },
  {
   "cell_type": "code",
   "execution_count": 123,
   "id": "1921dfb4",
   "metadata": {},
   "outputs": [],
   "source": [
    "Servicekey=\"29jTU1S%2B7bDI1Rb2LV0S5D0d3Xn%2Fji9T3k%2FWjsLR%2FyI9O3wEU0atKsr9hj9ATsfIpKgWmV8k8Ll67O%2F73Nyj6w%3D%3D\"\n",
    "month=202401\n",
    "gu_code=11110\n",
    "numOfRows=1000\n",
    "url=\"http://openapi.molit.go.kr:8081/OpenAPI_ToolInstallPackage/service/rest/RTMSOBJSvc/getRTMSDataSvcAptTrade?LAWD_CD=\"+str(gu_code)+\"&DEAL_YMD=\"+str(month)+\"&numOfRows=\"+str(numOfRows)+\"&serviceKey=\"+Servicekey"
   ]
  },
  {
   "cell_type": "code",
   "execution_count": 124,
   "id": "1fc8486f",
   "metadata": {},
   "outputs": [
    {
     "name": "stdout",
     "output_type": "stream",
     "text": [
      "http://openapi.molit.go.kr:8081/OpenAPI_ToolInstallPackage/service/rest/RTMSOBJSvc/getRTMSDataSvcAptTrade?LAWD_CD=11110&DEAL_YMD=202401&numOfRows=1000&serviceKey=29jTU1S%2B7bDI1Rb2LV0S5D0d3Xn%2Fji9T3k%2FWjsLR%2FyI9O3wEU0atKsr9hj9ATsfIpKgWmV8k8Ll67O%2F73Nyj6w%3D%3D\n"
     ]
    }
   ],
   "source": [
    "print(url)"
   ]
  },
  {
   "cell_type": "code",
   "execution_count": 125,
   "id": "de77b0cf",
   "metadata": {},
   "outputs": [
    {
     "data": {
      "text/plain": [
       "<?xml version=\"1.0\" encoding=\"utf-8\"?>\n",
       "<response><header><resultCode>00</resultCode><resultMsg>NORMAL SERVICE.</resultMsg></header><body><items><item><거래금액>     192,000</거래금액><거래유형>중개거래</거래유형><건축년도>2004</건축년도><년>2024</년><동> </동><등기일자> </등기일자><매도자>개인</매도자><매수자>개인</매수자><법정동> 내수동</법정동><아파트>경희궁의아침3단지</아파트><월>1</월><일>13</일><전용면적>149</전용면적><중개사소재지>서울 종로구</중개사소재지><지번>72</지번><지역코드>11110</지역코드><층>4</층><해제사유발생일> </해제사유발생일><해제여부> </해제여부></item><item><거래금액>     192,000</거래금액><거래유형>중개거래</거래유형><건축년도>2004</건축년도><년>2024</년><동> </동><등기일자> </등기일자><매도자>개인</매도자><매수자>개인</매수자><법정동> 내수동</법정동><아파트>경희궁의아침3단지</아파트><월>1</월><일>13</일><전용면적>149</전용면적><중개사소재지>서울 종로구</중개사소재지><지번>72</지번><지역코드>11110</지역코드><층>4</층><해제사유발생일> </해제사유발생일><해제여부> </해제여부></item><item><거래금액>      42,000</거래금액><거래유형>중개거래</거래유형><건축년도>2003</건축년도><년>2024</년><동> </동><등기일자> </등기일자><매도자>개인</매도자><매수자>개인</매수자><법정동> 익선동</법정동><아파트>현대뜨레비앙</아파트><월>1</월><일>30</일><전용면적>48.54</전용면적><중개사소재지>서울 종로구</중개사소재지><지번>55</지번><지역코드>11110</지역코드><층>2</층><해제사유발생일> </해제사유발생일><해제여부> </해제여부></item><item><거래금액>      46,000</거래금액><거래유형>중개거래</거래유형><건축년도>2003</건축년도><년>2024</년><동> </동><등기일자>24.02.29</등기일자><매도자>개인</매도자><매수자>개인</매수자><법정동> 명륜1가</법정동><아파트>리치캐슬아파트</아파트><월>1</월><일>4</일><전용면적>64.68</전용면적><중개사소재지>서울 종로구</중개사소재지><지번>33-85</지번><지역코드>11110</지역코드><층>4</층><해제사유발생일> </해제사유발생일><해제여부> </해제여부></item><item><거래금액>      57,400</거래금액><거래유형>중개거래</거래유형><건축년도>2003</건축년도><년>2024</년><동> </동><등기일자>24.02.05</등기일자><매도자>개인</매도자><매수자>개인</매수자><법정동> 명륜1가</법정동><아파트>송림아마레스아파트</아파트><월>1</월><일>26</일><전용면적>75.62</전용면적><중개사소재지>서울 종로구</중개사소재지><지번>2-12</지번><지역코드>11110</지역코드><층>5</층><해제사유발생일> </해제사유발생일><해제여부> </해제여부></item><item><거래금액>      57,500</거래금액><거래유형>중개거래</거래유형><건축년도>1993</건축년도><년>2024</년><동>202</동><등기일자>24.02.23</등기일자><매도자>개인</매도자><매수자>개인</매수자><법정동> 창신동</법정동><아파트>창신쌍용2</아파트><월>1</월><일>8</일><전용면적>64.66</전용면적><중개사소재지>서울 종로구</중개사소재지><지번>703</지번><지역코드>11110</지역코드><층>9</층><해제사유발생일> </해제사유발생일><해제여부> </해제여부></item><item><거래금액>      13,500</거래금액><거래유형>중개거래</거래유형><건축년도>2014</건축년도><년>2024</년><동>삼전솔하임4차</동><등기일자>24.01.25</등기일자><매도자>개인</매도자><매수자>개인</매수자><법정동> 숭인동</법정동><아파트>삼전솔하임4차</아파트><월>1</월><일>9</일><전용면적>15.09</전용면적><중개사소재지>서울 종로구</중개사소재지><지번>318-2</지번><지역코드>11110</지역코드><층>15</층><해제사유발생일> </해제사유발생일><해제여부> </해제여부></item><item><거래금액>      95,000</거래금액><거래유형>중개거래</거래유형><건축년도>2008</건축년도><년>2024</년><동> </동><등기일자> </등기일자><매도자>개인</매도자><매수자>개인</매수자><법정동> 숭인동</법정동><아파트>종로센트레빌</아파트><월>1</월><일>19</일><전용면적>84.92</전용면적><중개사소재지>서울 종로구</중개사소재지><지번>2-1</지번><지역코드>11110</지역코드><층>2</층><해제사유발생일> </해제사유발생일><해제여부> </해제여부></item><item><거래금액>     101,300</거래금액><거래유형>중개거래</거래유형><건축년도>2009</건축년도><년>2024</년><동> </동><등기일자> </등기일자><매도자>개인</매도자><매수자>개인</매수자><법정동> 숭인동</법정동><아파트>종로청계힐스테이트</아파트><월>1</월><일>19</일><전용면적>84.9478</전용면적><중개사소재지>서울 종로구</중개사소재지><지번>766</지번><지역코드>11110</지역코드><층>13</층><해제사유발생일> </해제사유발생일><해제여부> </해제여부></item><item><거래금액>      80,000</거래금액><거래유형>중개거래</거래유형><건축년도>2009</건축년도><년>2024</년><동>104</동><등기일자>24.02.27</등기일자><매도자>개인</매도자><매수자>개인</매수자><법정동> 숭인동</법정동><아파트>종로청계힐스테이트</아파트><월>1</월><일>27</일><전용면적>59.9426</전용면적><중개사소재지>서울 종로구</중개사소재지><지번>766</지번><지역코드>11110</지역코드><층>11</층><해제사유발생일> </해제사유발생일><해제여부> </해제여부></item><item><거래금액>     200,000</거래금액><거래유형>중개거래</거래유형><건축년도>2017</건축년도><년>2024</년><동> </동><등기일자> </등기일자><매도자>개인</매도자><매수자>개인</매수자><법정동> 평동</법정동><아파트>경희궁자이(3단지)</아파트><월>1</월><일>27</일><전용면적>84.8359</전용면적><중개사소재지>서울 종로구</중개사소재지><지번>233</지번><지역코드>11110</지역코드><층>14</층><해제사유발생일> </해제사유발생일><해제여부> </해제여부></item><item><거래금액>     195,000</거래금액><거래유형>중개거래</거래유형><건축년도>2017</건축년도><년>2024</년><동> </동><등기일자> </등기일자><매도자>개인</매도자><매수자>개인</매수자><법정동> 홍파동</법정동><아파트>경희궁자이(2단지)</아파트><월>1</월><일>18</일><전용면적>84.8359</전용면적><중개사소재지>서울 종로구</중개사소재지><지번>199</지번><지역코드>11110</지역코드><층>12</층><해제사유발생일> </해제사유발생일><해제여부> </해제여부></item><item><거래금액>     200,000</거래금액><거래유형>중개거래</거래유형><건축년도>2017</건축년도><년>2024</년><동> </동><등기일자> </등기일자><매도자>개인</매도자><매수자>개인</매수자><법정동> 홍파동</법정동><아파트>경희궁자이(2단지)</아파트><월>1</월><일>22</일><전용면적>84.614</전용면적><중개사소재지>서울 종로구</중개사소재지><지번>199</지번><지역코드>11110</지역코드><층>4</층><해제사유발생일> </해제사유발생일><해제여부> </해제여부></item><item><거래금액>     156,000</거래금액><거래유형>중개거래</거래유형><건축년도>2017</건축년도><년>2024</년><동> </동><등기일자> </등기일자><매도자>개인</매도자><매수자>개인</매수자><법정동> 홍파동</법정동><아파트>경희궁자이(2단지)</아파트><월>1</월><일>24</일><전용면적>59.8547</전용면적><중개사소재지>서울 종로구</중개사소재지><지번>199</지번><지역코드>11110</지역코드><층>9</층><해제사유발생일> </해제사유발생일><해제여부> </해제여부></item><item><거래금액>     135,000</거래금액><거래유형>직거래</거래유형><건축년도>2009</건축년도><년>2024</년><동>102</동><등기일자>24.02.08</등기일자><매도자>개인</매도자><매수자>개인</매수자><법정동> 평창동</법정동><아파트>롯데캐슬로잔</아파트><월>1</월><일>22</일><전용면적>191.725</전용면적><중개사소재지> </중개사소재지><지번>108</지번><지역코드>11110</지역코드><층>1</층><해제사유발생일> </해제사유발생일><해제여부> </해제여부></item><item><거래금액>      70,500</거래금액><거래유형>중개거래</거래유형><건축년도>1996</건축년도><년>2024</년><동> </동><등기일자> </등기일자><매도자>개인</매도자><매수자>개인</매수자><법정동> 평창동</법정동><아파트>일성빌라트</아파트><월>1</월><일>27</일><전용면적>84.99</전용면적><중개사소재지>서울 종로구</중개사소재지><지번>145-5</지번><지역코드>11110</지역코드><층>3</층><해제사유발생일> </해제사유발생일><해제여부> </해제여부></item><item><거래금액>      39,000</거래금액><거래유형>중개거래</거래유형><건축년도>2011</건축년도><년>2024</년><동> </동><등기일자>24.03.19</등기일자><매도자>개인</매도자><매수자>개인</매수자><법정동> 무악동</법정동><아파트>무악다온채</아파트><월>1</월><일>29</일><전용면적>33.76</전용면적><중개사소재지> </중개사소재지><지번>66-1</지번><지역코드>11110</지역코드><층>9</층><해제사유발생일> </해제사유발생일><해제여부> </해제여부></item><item><거래금액>     101,000</거래금액><거래유형>중개거래</거래유형><건축년도>2008</건축년도><년>2024</년><동>116</동><등기일자>24.03.20</등기일자><매도자>개인</매도자><매수자>개인</매수자><법정동> 무악동</법정동><아파트>인왕산아이파크</아파트><월>1</월><일>29</일><전용면적>59.993</전용면적><중개사소재지>서울 종로구</중개사소재지><지번>60</지번><지역코드>11110</지역코드><층>11</층><해제사유발생일> </해제사유발생일><해제여부> </해제여부></item></items><numOfRows>1000</numOfRows><pageNo>1</pageNo><totalCount>18</totalCount></body></response>"
      ]
     },
     "execution_count": 125,
     "metadata": {},
     "output_type": "execute_result"
    }
   ],
   "source": [
    "# url 불러오기\n",
    "result=urlopen(url)\n",
    "house=BeautifulSoup(result,'lxml-xml')\n",
    "house"
   ]
  },
  {
   "cell_type": "code",
   "execution_count": 127,
   "id": "58d42da7",
   "metadata": {},
   "outputs": [
    {
     "data": {
      "text/plain": [
       "[<item><거래금액>     192,000</거래금액><거래유형>중개거래</거래유형><건축년도>2004</건축년도><년>2024</년><동> </동><등기일자> </등기일자><매도자>개인</매도자><매수자>개인</매수자><법정동> 내수동</법정동><아파트>경희궁의아침3단지</아파트><월>1</월><일>13</일><전용면적>149</전용면적><중개사소재지>서울 종로구</중개사소재지><지번>72</지번><지역코드>11110</지역코드><층>4</층><해제사유발생일> </해제사유발생일><해제여부> </해제여부></item>,\n",
       " <item><거래금액>     192,000</거래금액><거래유형>중개거래</거래유형><건축년도>2004</건축년도><년>2024</년><동> </동><등기일자> </등기일자><매도자>개인</매도자><매수자>개인</매수자><법정동> 내수동</법정동><아파트>경희궁의아침3단지</아파트><월>1</월><일>13</일><전용면적>149</전용면적><중개사소재지>서울 종로구</중개사소재지><지번>72</지번><지역코드>11110</지역코드><층>4</층><해제사유발생일> </해제사유발생일><해제여부> </해제여부></item>,\n",
       " <item><거래금액>      42,000</거래금액><거래유형>중개거래</거래유형><건축년도>2003</건축년도><년>2024</년><동> </동><등기일자> </등기일자><매도자>개인</매도자><매수자>개인</매수자><법정동> 익선동</법정동><아파트>현대뜨레비앙</아파트><월>1</월><일>30</일><전용면적>48.54</전용면적><중개사소재지>서울 종로구</중개사소재지><지번>55</지번><지역코드>11110</지역코드><층>2</층><해제사유발생일> </해제사유발생일><해제여부> </해제여부></item>,\n",
       " <item><거래금액>      46,000</거래금액><거래유형>중개거래</거래유형><건축년도>2003</건축년도><년>2024</년><동> </동><등기일자>24.02.29</등기일자><매도자>개인</매도자><매수자>개인</매수자><법정동> 명륜1가</법정동><아파트>리치캐슬아파트</아파트><월>1</월><일>4</일><전용면적>64.68</전용면적><중개사소재지>서울 종로구</중개사소재지><지번>33-85</지번><지역코드>11110</지역코드><층>4</층><해제사유발생일> </해제사유발생일><해제여부> </해제여부></item>,\n",
       " <item><거래금액>      57,400</거래금액><거래유형>중개거래</거래유형><건축년도>2003</건축년도><년>2024</년><동> </동><등기일자>24.02.05</등기일자><매도자>개인</매도자><매수자>개인</매수자><법정동> 명륜1가</법정동><아파트>송림아마레스아파트</아파트><월>1</월><일>26</일><전용면적>75.62</전용면적><중개사소재지>서울 종로구</중개사소재지><지번>2-12</지번><지역코드>11110</지역코드><층>5</층><해제사유발생일> </해제사유발생일><해제여부> </해제여부></item>,\n",
       " <item><거래금액>      57,500</거래금액><거래유형>중개거래</거래유형><건축년도>1993</건축년도><년>2024</년><동>202</동><등기일자>24.02.23</등기일자><매도자>개인</매도자><매수자>개인</매수자><법정동> 창신동</법정동><아파트>창신쌍용2</아파트><월>1</월><일>8</일><전용면적>64.66</전용면적><중개사소재지>서울 종로구</중개사소재지><지번>703</지번><지역코드>11110</지역코드><층>9</층><해제사유발생일> </해제사유발생일><해제여부> </해제여부></item>,\n",
       " <item><거래금액>      13,500</거래금액><거래유형>중개거래</거래유형><건축년도>2014</건축년도><년>2024</년><동>삼전솔하임4차</동><등기일자>24.01.25</등기일자><매도자>개인</매도자><매수자>개인</매수자><법정동> 숭인동</법정동><아파트>삼전솔하임4차</아파트><월>1</월><일>9</일><전용면적>15.09</전용면적><중개사소재지>서울 종로구</중개사소재지><지번>318-2</지번><지역코드>11110</지역코드><층>15</층><해제사유발생일> </해제사유발생일><해제여부> </해제여부></item>,\n",
       " <item><거래금액>      95,000</거래금액><거래유형>중개거래</거래유형><건축년도>2008</건축년도><년>2024</년><동> </동><등기일자> </등기일자><매도자>개인</매도자><매수자>개인</매수자><법정동> 숭인동</법정동><아파트>종로센트레빌</아파트><월>1</월><일>19</일><전용면적>84.92</전용면적><중개사소재지>서울 종로구</중개사소재지><지번>2-1</지번><지역코드>11110</지역코드><층>2</층><해제사유발생일> </해제사유발생일><해제여부> </해제여부></item>,\n",
       " <item><거래금액>     101,300</거래금액><거래유형>중개거래</거래유형><건축년도>2009</건축년도><년>2024</년><동> </동><등기일자> </등기일자><매도자>개인</매도자><매수자>개인</매수자><법정동> 숭인동</법정동><아파트>종로청계힐스테이트</아파트><월>1</월><일>19</일><전용면적>84.9478</전용면적><중개사소재지>서울 종로구</중개사소재지><지번>766</지번><지역코드>11110</지역코드><층>13</층><해제사유발생일> </해제사유발생일><해제여부> </해제여부></item>,\n",
       " <item><거래금액>      80,000</거래금액><거래유형>중개거래</거래유형><건축년도>2009</건축년도><년>2024</년><동>104</동><등기일자>24.02.27</등기일자><매도자>개인</매도자><매수자>개인</매수자><법정동> 숭인동</법정동><아파트>종로청계힐스테이트</아파트><월>1</월><일>27</일><전용면적>59.9426</전용면적><중개사소재지>서울 종로구</중개사소재지><지번>766</지번><지역코드>11110</지역코드><층>11</층><해제사유발생일> </해제사유발생일><해제여부> </해제여부></item>,\n",
       " <item><거래금액>     200,000</거래금액><거래유형>중개거래</거래유형><건축년도>2017</건축년도><년>2024</년><동> </동><등기일자> </등기일자><매도자>개인</매도자><매수자>개인</매수자><법정동> 평동</법정동><아파트>경희궁자이(3단지)</아파트><월>1</월><일>27</일><전용면적>84.8359</전용면적><중개사소재지>서울 종로구</중개사소재지><지번>233</지번><지역코드>11110</지역코드><층>14</층><해제사유발생일> </해제사유발생일><해제여부> </해제여부></item>,\n",
       " <item><거래금액>     195,000</거래금액><거래유형>중개거래</거래유형><건축년도>2017</건축년도><년>2024</년><동> </동><등기일자> </등기일자><매도자>개인</매도자><매수자>개인</매수자><법정동> 홍파동</법정동><아파트>경희궁자이(2단지)</아파트><월>1</월><일>18</일><전용면적>84.8359</전용면적><중개사소재지>서울 종로구</중개사소재지><지번>199</지번><지역코드>11110</지역코드><층>12</층><해제사유발생일> </해제사유발생일><해제여부> </해제여부></item>,\n",
       " <item><거래금액>     200,000</거래금액><거래유형>중개거래</거래유형><건축년도>2017</건축년도><년>2024</년><동> </동><등기일자> </등기일자><매도자>개인</매도자><매수자>개인</매수자><법정동> 홍파동</법정동><아파트>경희궁자이(2단지)</아파트><월>1</월><일>22</일><전용면적>84.614</전용면적><중개사소재지>서울 종로구</중개사소재지><지번>199</지번><지역코드>11110</지역코드><층>4</층><해제사유발생일> </해제사유발생일><해제여부> </해제여부></item>,\n",
       " <item><거래금액>     156,000</거래금액><거래유형>중개거래</거래유형><건축년도>2017</건축년도><년>2024</년><동> </동><등기일자> </등기일자><매도자>개인</매도자><매수자>개인</매수자><법정동> 홍파동</법정동><아파트>경희궁자이(2단지)</아파트><월>1</월><일>24</일><전용면적>59.8547</전용면적><중개사소재지>서울 종로구</중개사소재지><지번>199</지번><지역코드>11110</지역코드><층>9</층><해제사유발생일> </해제사유발생일><해제여부> </해제여부></item>,\n",
       " <item><거래금액>     135,000</거래금액><거래유형>직거래</거래유형><건축년도>2009</건축년도><년>2024</년><동>102</동><등기일자>24.02.08</등기일자><매도자>개인</매도자><매수자>개인</매수자><법정동> 평창동</법정동><아파트>롯데캐슬로잔</아파트><월>1</월><일>22</일><전용면적>191.725</전용면적><중개사소재지> </중개사소재지><지번>108</지번><지역코드>11110</지역코드><층>1</층><해제사유발생일> </해제사유발생일><해제여부> </해제여부></item>,\n",
       " <item><거래금액>      70,500</거래금액><거래유형>중개거래</거래유형><건축년도>1996</건축년도><년>2024</년><동> </동><등기일자> </등기일자><매도자>개인</매도자><매수자>개인</매수자><법정동> 평창동</법정동><아파트>일성빌라트</아파트><월>1</월><일>27</일><전용면적>84.99</전용면적><중개사소재지>서울 종로구</중개사소재지><지번>145-5</지번><지역코드>11110</지역코드><층>3</층><해제사유발생일> </해제사유발생일><해제여부> </해제여부></item>,\n",
       " <item><거래금액>      39,000</거래금액><거래유형>중개거래</거래유형><건축년도>2011</건축년도><년>2024</년><동> </동><등기일자>24.03.19</등기일자><매도자>개인</매도자><매수자>개인</매수자><법정동> 무악동</법정동><아파트>무악다온채</아파트><월>1</월><일>29</일><전용면적>33.76</전용면적><중개사소재지> </중개사소재지><지번>66-1</지번><지역코드>11110</지역코드><층>9</층><해제사유발생일> </해제사유발생일><해제여부> </해제여부></item>,\n",
       " <item><거래금액>     101,000</거래금액><거래유형>중개거래</거래유형><건축년도>2008</건축년도><년>2024</년><동>116</동><등기일자>24.03.20</등기일자><매도자>개인</매도자><매수자>개인</매수자><법정동> 무악동</법정동><아파트>인왕산아이파크</아파트><월>1</월><일>29</일><전용면적>59.993</전용면적><중개사소재지>서울 종로구</중개사소재지><지번>60</지번><지역코드>11110</지역코드><층>11</층><해제사유발생일> </해제사유발생일><해제여부> </해제여부></item>]"
      ]
     },
     "execution_count": 127,
     "metadata": {},
     "output_type": "execute_result"
    }
   ],
   "source": [
    "# 위에 걸 같은 변수 끼리 엑셀처럼 묶어 보려면...\n",
    "# 위에 대충 읽어보면 item으로 시작해서 끝남.. \n",
    "\n",
    "te=house.find_all(\"item\")\n",
    "te\n",
    "# 이게 뭐지?? 강의 보기!!!!!!!!!!!1"
   ]
  },
  {
   "cell_type": "code",
   "execution_count": 131,
   "id": "5bb4a34b",
   "metadata": {},
   "outputs": [],
   "source": [
    "# 하나 매물: <item><거래금액>     192,000</거래금액><거래유형>중개거래</거래유형><건축년도>2004</건축년도><년>2024</년><동> </동><등기일자> </등기일자><매도자>개인</매도자><매수자>개인</매수자><법정동> 내수동</법정동><아파트>경희궁의아침3단지</아파트><월>1</월><일>13</일><전용면적>149</전용면적><중개사소재지>서울 종로구</중개사소재지><지번>72</지번><지역코드>11110</지역코드><층>4</층><해제사유발생일> </해제사유발생일><해제여부> </해제여부></item>\n",
    "# url 들어가면 맨 아래 보면, <totalCount>18</totalCount> 보면 총 매물이 18개 인 걸 알 수 있음\n",
    "# len(te)=19? "
   ]
  },
  {
   "cell_type": "code",
   "execution_count": 132,
   "id": "6f2839ff",
   "metadata": {},
   "outputs": [
    {
     "data": {
      "text/plain": [
       "18"
      ]
     },
     "execution_count": 132,
     "metadata": {},
     "output_type": "execute_result"
    }
   ],
   "source": [
    "len(te)"
   ]
  },
  {
   "cell_type": "code",
   "execution_count": 133,
   "id": "8ddd46a6",
   "metadata": {},
   "outputs": [],
   "source": [
    "# 맞네"
   ]
  },
  {
   "cell_type": "code",
   "execution_count": 130,
   "id": "dfeab6e2",
   "metadata": {},
   "outputs": [
    {
     "name": "stdout",
     "output_type": "stream",
     "text": [
      "[['192,000', '경희궁의아침3단지'], ['192,000', '경희궁의아침3단지'], ['42,000', '현대뜨레비앙'], ['46,000', '리치캐슬아파트'], ['57,400', '송림아마레스아파트'], ['57,500', '창신쌍용2'], ['13,500', '삼전솔하임4차'], ['95,000', '종로센트레빌'], ['101,300', '종로청계힐스테이트'], ['80,000', '종로청계힐스테이트'], ['200,000', '경희궁자이(3단지)'], ['195,000', '경희궁자이(2단지)'], ['200,000', '경희궁자이(2단지)'], ['156,000', '경희궁자이(2단지)'], ['135,000', '롯데캐슬로잔'], ['70,500', '일성빌라트'], ['39,000', '무악다온채'], ['101,000', '인왕산아이파크']]\n"
     ]
    }
   ],
   "source": [
    "data=[]\n",
    "for i in range(len(te)):\n",
    "    price=te[i].거래금액.string.strip()\n",
    "    # .string.strip(): 거래금액 19200을 숫자 말고 문자로 가져와라\n",
    "    apt_name=te[i].아파트.string.strip()\n",
    "    total=[price,apt_name] \n",
    "    # Price랑 apt_name 묶어서 리스트로 나타내자\n",
    "    data.append(total)\n",
    "print(data)"
   ]
  },
  {
   "cell_type": "code",
   "execution_count": 134,
   "id": "16cb271c",
   "metadata": {},
   "outputs": [
    {
     "name": "stdout",
     "output_type": "stream",
     "text": [
      "[['192,000', '경희궁의아침3단지', '내수동'], ['192,000', '경희궁의아침3단지', '내수동'], ['42,000', '현대뜨레비앙', '익선동'], ['46,000', '리치캐슬아파트', '명륜1가'], ['57,400', '송림아마레스아파트', '명륜1가'], ['57,500', '창신쌍용2', '창신동'], ['13,500', '삼전솔하임4차', '숭인동'], ['95,000', '종로센트레빌', '숭인동'], ['101,300', '종로청계힐스테이트', '숭인동'], ['80,000', '종로청계힐스테이트', '숭인동'], ['200,000', '경희궁자이(3단지)', '평동'], ['195,000', '경희궁자이(2단지)', '홍파동'], ['200,000', '경희궁자이(2단지)', '홍파동'], ['156,000', '경희궁자이(2단지)', '홍파동'], ['135,000', '롯데캐슬로잔', '평창동'], ['70,500', '일성빌라트', '평창동'], ['39,000', '무악다온채', '무악동'], ['101,000', '인왕산아이파크', '무악동']]\n"
     ]
    }
   ],
   "source": [
    "# 동이름도 넣어보자\n",
    "data1=[]\n",
    "for i in range(len(te)):\n",
    "    price=te[i].거래금액.string.strip()\n",
    "    apt_name=te[i].아파트.string.strip()\n",
    "    dong_name=te[i].법정동.string.strip()\n",
    "    total1=[price,apt_name,dong_name] \n",
    "    data1.append(total1)\n",
    "print(data1)"
   ]
  },
  {
   "cell_type": "code",
   "execution_count": 135,
   "id": "c40cb6f0",
   "metadata": {},
   "outputs": [],
   "source": [
    "# 이렇게 뽑아내 list data를 excel 혹은 csv 파일로 내보내자"
   ]
  },
  {
   "cell_type": "code",
   "execution_count": 136,
   "id": "832a7901",
   "metadata": {},
   "outputs": [],
   "source": [
    "# csv 파일로 내보내기\n",
    "\n",
    "# 1단계: list를 데이터 프레임으로 생성 using data frame in pandas\n",
    "# 2단계: pandas data frame 을 csv 파일로 내보낸다"
   ]
  },
  {
   "cell_type": "code",
   "execution_count": 137,
   "id": "a07a52df",
   "metadata": {},
   "outputs": [
    {
     "data": {
      "text/html": [
       "<div>\n",
       "<style scoped>\n",
       "    .dataframe tbody tr th:only-of-type {\n",
       "        vertical-align: middle;\n",
       "    }\n",
       "\n",
       "    .dataframe tbody tr th {\n",
       "        vertical-align: top;\n",
       "    }\n",
       "\n",
       "    .dataframe thead th {\n",
       "        text-align: right;\n",
       "    }\n",
       "</style>\n",
       "<table border=\"1\" class=\"dataframe\">\n",
       "  <thead>\n",
       "    <tr style=\"text-align: right;\">\n",
       "      <th></th>\n",
       "      <th>price</th>\n",
       "      <th>apt_name</th>\n",
       "      <th>dong_name</th>\n",
       "    </tr>\n",
       "  </thead>\n",
       "  <tbody>\n",
       "    <tr>\n",
       "      <th>0</th>\n",
       "      <td>192,000</td>\n",
       "      <td>경희궁의아침3단지</td>\n",
       "      <td>내수동</td>\n",
       "    </tr>\n",
       "    <tr>\n",
       "      <th>1</th>\n",
       "      <td>192,000</td>\n",
       "      <td>경희궁의아침3단지</td>\n",
       "      <td>내수동</td>\n",
       "    </tr>\n",
       "    <tr>\n",
       "      <th>2</th>\n",
       "      <td>42,000</td>\n",
       "      <td>현대뜨레비앙</td>\n",
       "      <td>익선동</td>\n",
       "    </tr>\n",
       "    <tr>\n",
       "      <th>3</th>\n",
       "      <td>46,000</td>\n",
       "      <td>리치캐슬아파트</td>\n",
       "      <td>명륜1가</td>\n",
       "    </tr>\n",
       "    <tr>\n",
       "      <th>4</th>\n",
       "      <td>57,400</td>\n",
       "      <td>송림아마레스아파트</td>\n",
       "      <td>명륜1가</td>\n",
       "    </tr>\n",
       "    <tr>\n",
       "      <th>5</th>\n",
       "      <td>57,500</td>\n",
       "      <td>창신쌍용2</td>\n",
       "      <td>창신동</td>\n",
       "    </tr>\n",
       "    <tr>\n",
       "      <th>6</th>\n",
       "      <td>13,500</td>\n",
       "      <td>삼전솔하임4차</td>\n",
       "      <td>숭인동</td>\n",
       "    </tr>\n",
       "    <tr>\n",
       "      <th>7</th>\n",
       "      <td>95,000</td>\n",
       "      <td>종로센트레빌</td>\n",
       "      <td>숭인동</td>\n",
       "    </tr>\n",
       "    <tr>\n",
       "      <th>8</th>\n",
       "      <td>101,300</td>\n",
       "      <td>종로청계힐스테이트</td>\n",
       "      <td>숭인동</td>\n",
       "    </tr>\n",
       "    <tr>\n",
       "      <th>9</th>\n",
       "      <td>80,000</td>\n",
       "      <td>종로청계힐스테이트</td>\n",
       "      <td>숭인동</td>\n",
       "    </tr>\n",
       "    <tr>\n",
       "      <th>10</th>\n",
       "      <td>200,000</td>\n",
       "      <td>경희궁자이(3단지)</td>\n",
       "      <td>평동</td>\n",
       "    </tr>\n",
       "    <tr>\n",
       "      <th>11</th>\n",
       "      <td>195,000</td>\n",
       "      <td>경희궁자이(2단지)</td>\n",
       "      <td>홍파동</td>\n",
       "    </tr>\n",
       "    <tr>\n",
       "      <th>12</th>\n",
       "      <td>200,000</td>\n",
       "      <td>경희궁자이(2단지)</td>\n",
       "      <td>홍파동</td>\n",
       "    </tr>\n",
       "    <tr>\n",
       "      <th>13</th>\n",
       "      <td>156,000</td>\n",
       "      <td>경희궁자이(2단지)</td>\n",
       "      <td>홍파동</td>\n",
       "    </tr>\n",
       "    <tr>\n",
       "      <th>14</th>\n",
       "      <td>135,000</td>\n",
       "      <td>롯데캐슬로잔</td>\n",
       "      <td>평창동</td>\n",
       "    </tr>\n",
       "    <tr>\n",
       "      <th>15</th>\n",
       "      <td>70,500</td>\n",
       "      <td>일성빌라트</td>\n",
       "      <td>평창동</td>\n",
       "    </tr>\n",
       "    <tr>\n",
       "      <th>16</th>\n",
       "      <td>39,000</td>\n",
       "      <td>무악다온채</td>\n",
       "      <td>무악동</td>\n",
       "    </tr>\n",
       "    <tr>\n",
       "      <th>17</th>\n",
       "      <td>101,000</td>\n",
       "      <td>인왕산아이파크</td>\n",
       "      <td>무악동</td>\n",
       "    </tr>\n",
       "  </tbody>\n",
       "</table>\n",
       "</div>"
      ],
      "text/plain": [
       "      price    apt_name dong_name\n",
       "0   192,000   경희궁의아침3단지       내수동\n",
       "1   192,000   경희궁의아침3단지       내수동\n",
       "2    42,000      현대뜨레비앙       익선동\n",
       "3    46,000     리치캐슬아파트      명륜1가\n",
       "4    57,400   송림아마레스아파트      명륜1가\n",
       "5    57,500       창신쌍용2       창신동\n",
       "6    13,500     삼전솔하임4차       숭인동\n",
       "7    95,000      종로센트레빌       숭인동\n",
       "8   101,300   종로청계힐스테이트       숭인동\n",
       "9    80,000   종로청계힐스테이트       숭인동\n",
       "10  200,000  경희궁자이(3단지)        평동\n",
       "11  195,000  경희궁자이(2단지)       홍파동\n",
       "12  200,000  경희궁자이(2단지)       홍파동\n",
       "13  156,000  경희궁자이(2단지)       홍파동\n",
       "14  135,000      롯데캐슬로잔       평창동\n",
       "15   70,500       일성빌라트       평창동\n",
       "16   39,000       무악다온채       무악동\n",
       "17  101,000     인왕산아이파크       무악동"
      ]
     },
     "execution_count": 137,
     "metadata": {},
     "output_type": "execute_result"
    }
   ],
   "source": [
    "temp=pd.DataFrame(data1,columns=['price','apt_name','dong_name'])\n",
    "temp"
   ]
  },
  {
   "cell_type": "code",
   "execution_count": 138,
   "id": "be5a7be2",
   "metadata": {},
   "outputs": [],
   "source": [
    "# csv 파일로 내보내기\n",
    "temp.to_csv(\"c:/temp/house_price100.csv\")"
   ]
  },
  {
   "cell_type": "markdown",
   "id": "83eb09b5",
   "metadata": {},
   "source": [
    "# 240320\n",
    "\n",
    "# LN3\n",
    "# 주택실거래가 데이터분석(2)\n",
    "\n",
    "- series : array 같이 한 칼럼만 있는 데이터 유형\n",
    "- dataframe: 여러 칼럼 가짐"
   ]
  },
  {
   "cell_type": "code",
   "execution_count": 140,
   "id": "f5abd102",
   "metadata": {},
   "outputs": [
    {
     "data": {
      "text/plain": [
       "0   -0.889906\n",
       "1    0.014414\n",
       "2    0.244517\n",
       "3   -1.404537\n",
       "Name: return, dtype: float64"
      ]
     },
     "execution_count": 140,
     "metadata": {},
     "output_type": "execute_result"
    }
   ],
   "source": [
    "# 데이터 유형 중 Series 만들어보자\n",
    "s=pd.Series(np.random.randn(4),name='return')\n",
    "# 무작위 숫자 4개를 정규분포(randn: 보통 -3에서 3까지 값을 가진다)에서 생성한다\n",
    "# return이라는 이름으로 저장한다\n",
    "s"
   ]
  },
  {
   "cell_type": "code",
   "execution_count": 141,
   "id": "ab489ce0",
   "metadata": {},
   "outputs": [
    {
     "data": {
      "text/plain": [
       "pandas.core.series.Series"
      ]
     },
     "execution_count": 141,
     "metadata": {},
     "output_type": "execute_result"
    }
   ],
   "source": [
    "type(s)"
   ]
  },
  {
   "cell_type": "code",
   "execution_count": 142,
   "id": "f54b2347",
   "metadata": {},
   "outputs": [
    {
     "data": {
      "text/html": [
       "<div>\n",
       "<style scoped>\n",
       "    .dataframe tbody tr th:only-of-type {\n",
       "        vertical-align: middle;\n",
       "    }\n",
       "\n",
       "    .dataframe tbody tr th {\n",
       "        vertical-align: top;\n",
       "    }\n",
       "\n",
       "    .dataframe thead th {\n",
       "        text-align: right;\n",
       "    }\n",
       "</style>\n",
       "<table border=\"1\" class=\"dataframe\">\n",
       "  <thead>\n",
       "    <tr style=\"text-align: right;\">\n",
       "      <th></th>\n",
       "      <th>0</th>\n",
       "      <th>1</th>\n",
       "      <th>2</th>\n",
       "    </tr>\n",
       "  </thead>\n",
       "  <tbody>\n",
       "    <tr>\n",
       "      <th>0</th>\n",
       "      <td>1</td>\n",
       "      <td>2</td>\n",
       "      <td>3</td>\n",
       "    </tr>\n",
       "    <tr>\n",
       "      <th>1</th>\n",
       "      <td>4</td>\n",
       "      <td>5</td>\n",
       "      <td>6</td>\n",
       "    </tr>\n",
       "    <tr>\n",
       "      <th>2</th>\n",
       "      <td>7</td>\n",
       "      <td>8</td>\n",
       "      <td>9</td>\n",
       "    </tr>\n",
       "  </tbody>\n",
       "</table>\n",
       "</div>"
      ],
      "text/plain": [
       "   0  1  2\n",
       "0  1  2  3\n",
       "1  4  5  6\n",
       "2  7  8  9"
      ]
     },
     "execution_count": 142,
     "metadata": {},
     "output_type": "execute_result"
    }
   ],
   "source": [
    "# pandas 로 데이터 프레임 만들기\n",
    "\n",
    "# 먼저 list 생성\n",
    "data=[[1,2,3],[4,5,6],[7,8,9]]\n",
    "\n",
    "# pandas로 위의 리스트롤 data frame으로 바꾸자\n",
    "df2=pd.DataFrame(data)\n",
    "df2"
   ]
  },
  {
   "cell_type": "code",
   "execution_count": 143,
   "id": "0d3d193e",
   "metadata": {},
   "outputs": [
    {
     "data": {
      "text/html": [
       "<div>\n",
       "<style scoped>\n",
       "    .dataframe tbody tr th:only-of-type {\n",
       "        vertical-align: middle;\n",
       "    }\n",
       "\n",
       "    .dataframe tbody tr th {\n",
       "        vertical-align: top;\n",
       "    }\n",
       "\n",
       "    .dataframe thead th {\n",
       "        text-align: right;\n",
       "    }\n",
       "</style>\n",
       "<table border=\"1\" class=\"dataframe\">\n",
       "  <thead>\n",
       "    <tr style=\"text-align: right;\">\n",
       "      <th></th>\n",
       "      <th>a</th>\n",
       "      <th>b</th>\n",
       "      <th>c</th>\n",
       "    </tr>\n",
       "  </thead>\n",
       "  <tbody>\n",
       "    <tr>\n",
       "      <th>0</th>\n",
       "      <td>1</td>\n",
       "      <td>2</td>\n",
       "      <td>3</td>\n",
       "    </tr>\n",
       "    <tr>\n",
       "      <th>1</th>\n",
       "      <td>4</td>\n",
       "      <td>5</td>\n",
       "      <td>6</td>\n",
       "    </tr>\n",
       "    <tr>\n",
       "      <th>2</th>\n",
       "      <td>7</td>\n",
       "      <td>8</td>\n",
       "      <td>9</td>\n",
       "    </tr>\n",
       "  </tbody>\n",
       "</table>\n",
       "</div>"
      ],
      "text/plain": [
       "   a  b  c\n",
       "0  1  2  3\n",
       "1  4  5  6\n",
       "2  7  8  9"
      ]
     },
     "execution_count": 143,
     "metadata": {},
     "output_type": "execute_result"
    }
   ],
   "source": [
    "# 칼럼 이름 바꾸고 싶으면 ,columns= 하고 이름을 바꾼다\n",
    "df1=pd.DataFrame(data,columns=['a','b','c'])\n",
    "df1"
   ]
  },
  {
   "cell_type": "code",
   "execution_count": 149,
   "id": "de0f7346",
   "metadata": {},
   "outputs": [
    {
     "data": {
      "text/html": [
       "<div>\n",
       "<style scoped>\n",
       "    .dataframe tbody tr th:only-of-type {\n",
       "        vertical-align: middle;\n",
       "    }\n",
       "\n",
       "    .dataframe tbody tr th {\n",
       "        vertical-align: top;\n",
       "    }\n",
       "\n",
       "    .dataframe thead th {\n",
       "        text-align: right;\n",
       "    }\n",
       "</style>\n",
       "<table border=\"1\" class=\"dataframe\">\n",
       "  <thead>\n",
       "    <tr style=\"text-align: right;\">\n",
       "      <th></th>\n",
       "      <th>0</th>\n",
       "      <th>1</th>\n",
       "    </tr>\n",
       "  </thead>\n",
       "  <tbody>\n",
       "    <tr>\n",
       "      <th>0</th>\n",
       "      <td>[[00], [NORMAL SERVICE.]]</td>\n",
       "      <td>[[[&lt;거래금액&gt;     192,000&lt;/거래금액&gt;, &lt;거래유형&gt;중개거래&lt;/거래유형...</td>\n",
       "    </tr>\n",
       "  </tbody>\n",
       "</table>\n",
       "</div>"
      ],
      "text/plain": [
       "                           0  \\\n",
       "0  [[00], [NORMAL SERVICE.]]   \n",
       "\n",
       "                                                   1  \n",
       "0  [[[<거래금액>     192,000</거래금액>, <거래유형>중개거래</거래유형...  "
      ]
     },
     "execution_count": 149,
     "metadata": {},
     "output_type": "execute_result"
    }
   ],
   "source": [
    "temp2=pd.DataFrame(house)\n",
    "temp2\n",
    "#???"
   ]
  },
  {
   "cell_type": "code",
   "execution_count": 150,
   "id": "5c01b6af",
   "metadata": {},
   "outputs": [],
   "source": [
    "# 아니 house_price.csv로 하면 되긴 하는데,\n",
    "# api 불러온걸로는 어떻게 하지?\n",
    "# api 공부해야함"
   ]
  },
  {
   "cell_type": "code",
   "execution_count": 151,
   "id": "4b8af6b2",
   "metadata": {},
   "outputs": [
    {
     "data": {
      "text/html": [
       "<div>\n",
       "<style scoped>\n",
       "    .dataframe tbody tr th:only-of-type {\n",
       "        vertical-align: middle;\n",
       "    }\n",
       "\n",
       "    .dataframe tbody tr th {\n",
       "        vertical-align: top;\n",
       "    }\n",
       "\n",
       "    .dataframe thead th {\n",
       "        text-align: right;\n",
       "    }\n",
       "</style>\n",
       "<table border=\"1\" class=\"dataframe\">\n",
       "  <thead>\n",
       "    <tr style=\"text-align: right;\">\n",
       "      <th></th>\n",
       "      <th>Unnamed: 0</th>\n",
       "      <th>year</th>\n",
       "      <th>month</th>\n",
       "      <th>day</th>\n",
       "      <th>price</th>\n",
       "      <th>built_yr</th>\n",
       "      <th>dong_name</th>\n",
       "      <th>apt_name</th>\n",
       "      <th>size</th>\n",
       "      <th>gu_code</th>\n",
       "      <th>size_pyung</th>\n",
       "      <th>price_pyung</th>\n",
       "    </tr>\n",
       "  </thead>\n",
       "  <tbody>\n",
       "    <tr>\n",
       "      <th>0</th>\n",
       "      <td>0</td>\n",
       "      <td>2021</td>\n",
       "      <td>6</td>\n",
       "      <td>1</td>\n",
       "      <td>150000</td>\n",
       "      <td>1988</td>\n",
       "      <td>방배동</td>\n",
       "      <td>방배임광</td>\n",
       "      <td>82.34</td>\n",
       "      <td>11650</td>\n",
       "      <td>24.726727</td>\n",
       "      <td>6066.310420</td>\n",
       "    </tr>\n",
       "    <tr>\n",
       "      <th>1</th>\n",
       "      <td>1</td>\n",
       "      <td>2021</td>\n",
       "      <td>6</td>\n",
       "      <td>1</td>\n",
       "      <td>155000</td>\n",
       "      <td>2003</td>\n",
       "      <td>방배동</td>\n",
       "      <td>삼환나띠르빌(1002-9)</td>\n",
       "      <td>148.99</td>\n",
       "      <td>11650</td>\n",
       "      <td>44.741742</td>\n",
       "      <td>3464.326465</td>\n",
       "    </tr>\n",
       "    <tr>\n",
       "      <th>2</th>\n",
       "      <td>2</td>\n",
       "      <td>2021</td>\n",
       "      <td>6</td>\n",
       "      <td>2</td>\n",
       "      <td>290000</td>\n",
       "      <td>1983</td>\n",
       "      <td>방배동</td>\n",
       "      <td>방배신삼호</td>\n",
       "      <td>185.46</td>\n",
       "      <td>11650</td>\n",
       "      <td>55.693694</td>\n",
       "      <td>5207.052734</td>\n",
       "    </tr>\n",
       "    <tr>\n",
       "      <th>3</th>\n",
       "      <td>3</td>\n",
       "      <td>2021</td>\n",
       "      <td>6</td>\n",
       "      <td>2</td>\n",
       "      <td>210000</td>\n",
       "      <td>2006</td>\n",
       "      <td>방배동</td>\n",
       "      <td>롯데캐슬헤론</td>\n",
       "      <td>169.08</td>\n",
       "      <td>11650</td>\n",
       "      <td>50.774775</td>\n",
       "      <td>4135.911994</td>\n",
       "    </tr>\n",
       "    <tr>\n",
       "      <th>4</th>\n",
       "      <td>4</td>\n",
       "      <td>2021</td>\n",
       "      <td>6</td>\n",
       "      <td>2</td>\n",
       "      <td>175000</td>\n",
       "      <td>1992</td>\n",
       "      <td>방배동</td>\n",
       "      <td>대우(효령)</td>\n",
       "      <td>84.91</td>\n",
       "      <td>11650</td>\n",
       "      <td>25.498498</td>\n",
       "      <td>6863.149217</td>\n",
       "    </tr>\n",
       "    <tr>\n",
       "      <th>...</th>\n",
       "      <td>...</td>\n",
       "      <td>...</td>\n",
       "      <td>...</td>\n",
       "      <td>...</td>\n",
       "      <td>...</td>\n",
       "      <td>...</td>\n",
       "      <td>...</td>\n",
       "      <td>...</td>\n",
       "      <td>...</td>\n",
       "      <td>...</td>\n",
       "      <td>...</td>\n",
       "      <td>...</td>\n",
       "    </tr>\n",
       "    <tr>\n",
       "      <th>191</th>\n",
       "      <td>191</td>\n",
       "      <td>2021</td>\n",
       "      <td>6</td>\n",
       "      <td>24</td>\n",
       "      <td>147000</td>\n",
       "      <td>2014</td>\n",
       "      <td>내곡동</td>\n",
       "      <td>서초더샵포레</td>\n",
       "      <td>59.69</td>\n",
       "      <td>11650</td>\n",
       "      <td>17.924925</td>\n",
       "      <td>8200.871168</td>\n",
       "    </tr>\n",
       "    <tr>\n",
       "      <th>192</th>\n",
       "      <td>192</td>\n",
       "      <td>2021</td>\n",
       "      <td>6</td>\n",
       "      <td>28</td>\n",
       "      <td>160000</td>\n",
       "      <td>2014</td>\n",
       "      <td>내곡동</td>\n",
       "      <td>서초더샵포레</td>\n",
       "      <td>84.81</td>\n",
       "      <td>11650</td>\n",
       "      <td>25.468468</td>\n",
       "      <td>6282.278033</td>\n",
       "    </tr>\n",
       "    <tr>\n",
       "      <th>193</th>\n",
       "      <td>193</td>\n",
       "      <td>2021</td>\n",
       "      <td>6</td>\n",
       "      <td>3</td>\n",
       "      <td>192500</td>\n",
       "      <td>2014</td>\n",
       "      <td>신원동</td>\n",
       "      <td>서초포레스타5단지</td>\n",
       "      <td>101.35</td>\n",
       "      <td>11650</td>\n",
       "      <td>30.435435</td>\n",
       "      <td>6324.864332</td>\n",
       "    </tr>\n",
       "    <tr>\n",
       "      <th>194</th>\n",
       "      <td>194</td>\n",
       "      <td>2021</td>\n",
       "      <td>6</td>\n",
       "      <td>3</td>\n",
       "      <td>192500</td>\n",
       "      <td>2014</td>\n",
       "      <td>신원동</td>\n",
       "      <td>서초포레스타5단지</td>\n",
       "      <td>101.35</td>\n",
       "      <td>11650</td>\n",
       "      <td>30.435435</td>\n",
       "      <td>6324.864332</td>\n",
       "    </tr>\n",
       "    <tr>\n",
       "      <th>195</th>\n",
       "      <td>195</td>\n",
       "      <td>2021</td>\n",
       "      <td>6</td>\n",
       "      <td>11</td>\n",
       "      <td>185000</td>\n",
       "      <td>2014</td>\n",
       "      <td>신원동</td>\n",
       "      <td>서초포레스타5단지</td>\n",
       "      <td>84.41</td>\n",
       "      <td>11650</td>\n",
       "      <td>25.348348</td>\n",
       "      <td>7298.305888</td>\n",
       "    </tr>\n",
       "  </tbody>\n",
       "</table>\n",
       "<p>196 rows × 12 columns</p>\n",
       "</div>"
      ],
      "text/plain": [
       "     Unnamed: 0  year  month  day   price  built_yr dong_name        apt_name  \\\n",
       "0             0  2021      6    1  150000      1988       방배동            방배임광   \n",
       "1             1  2021      6    1  155000      2003       방배동  삼환나띠르빌(1002-9)   \n",
       "2             2  2021      6    2  290000      1983       방배동           방배신삼호   \n",
       "3             3  2021      6    2  210000      2006       방배동          롯데캐슬헤론   \n",
       "4             4  2021      6    2  175000      1992       방배동          대우(효령)   \n",
       "..          ...   ...    ...  ...     ...       ...       ...             ...   \n",
       "191         191  2021      6   24  147000      2014       내곡동          서초더샵포레   \n",
       "192         192  2021      6   28  160000      2014       내곡동          서초더샵포레   \n",
       "193         193  2021      6    3  192500      2014       신원동       서초포레스타5단지   \n",
       "194         194  2021      6    3  192500      2014       신원동       서초포레스타5단지   \n",
       "195         195  2021      6   11  185000      2014       신원동       서초포레스타5단지   \n",
       "\n",
       "       size  gu_code  size_pyung  price_pyung  \n",
       "0     82.34    11650   24.726727  6066.310420  \n",
       "1    148.99    11650   44.741742  3464.326465  \n",
       "2    185.46    11650   55.693694  5207.052734  \n",
       "3    169.08    11650   50.774775  4135.911994  \n",
       "4     84.91    11650   25.498498  6863.149217  \n",
       "..      ...      ...         ...          ...  \n",
       "191   59.69    11650   17.924925  8200.871168  \n",
       "192   84.81    11650   25.468468  6282.278033  \n",
       "193  101.35    11650   30.435435  6324.864332  \n",
       "194  101.35    11650   30.435435  6324.864332  \n",
       "195   84.41    11650   25.348348  7298.305888  \n",
       "\n",
       "[196 rows x 12 columns]"
      ]
     },
     "execution_count": 151,
     "metadata": {},
     "output_type": "execute_result"
    }
   ],
   "source": [
    "df=pd.read_csv(\"c:/temp/house_price.csv\")\n",
    "df"
   ]
  },
  {
   "cell_type": "code",
   "execution_count": 152,
   "id": "70698159",
   "metadata": {},
   "outputs": [],
   "source": [
    "# 196 rows: 거래된 수가 196건이라는 뜻"
   ]
  },
  {
   "cell_type": "code",
   "execution_count": 154,
   "id": "83c17d94",
   "metadata": {},
   "outputs": [
    {
     "data": {
      "text/plain": [
       "Index(['Unnamed: 0', 'year', 'month', 'day', 'price', 'built_yr', 'dong_name',\n",
       "       'apt_name', 'size', 'gu_code', 'size_pyung', 'price_pyung'],\n",
       "      dtype='object')"
      ]
     },
     "execution_count": 154,
     "metadata": {},
     "output_type": "execute_result"
    }
   ],
   "source": [
    "# 칼럼 보기\n",
    "df.columns"
   ]
  },
  {
   "cell_type": "code",
   "execution_count": 157,
   "id": "c0038b9f",
   "metadata": {},
   "outputs": [
    {
     "data": {
      "text/html": [
       "<div>\n",
       "<style scoped>\n",
       "    .dataframe tbody tr th:only-of-type {\n",
       "        vertical-align: middle;\n",
       "    }\n",
       "\n",
       "    .dataframe tbody tr th {\n",
       "        vertical-align: top;\n",
       "    }\n",
       "\n",
       "    .dataframe thead th {\n",
       "        text-align: right;\n",
       "    }\n",
       "</style>\n",
       "<table border=\"1\" class=\"dataframe\">\n",
       "  <thead>\n",
       "    <tr style=\"text-align: right;\">\n",
       "      <th></th>\n",
       "      <th>year</th>\n",
       "      <th>month</th>\n",
       "      <th>day</th>\n",
       "      <th>price</th>\n",
       "      <th>built_yr</th>\n",
       "      <th>dong_name</th>\n",
       "      <th>apt_name</th>\n",
       "      <th>size</th>\n",
       "      <th>gu_code</th>\n",
       "      <th>size_pyung</th>\n",
       "      <th>price_pyung</th>\n",
       "    </tr>\n",
       "  </thead>\n",
       "  <tbody>\n",
       "    <tr>\n",
       "      <th>0</th>\n",
       "      <td>2021</td>\n",
       "      <td>6</td>\n",
       "      <td>1</td>\n",
       "      <td>150000</td>\n",
       "      <td>1988</td>\n",
       "      <td>방배동</td>\n",
       "      <td>방배임광</td>\n",
       "      <td>82.34</td>\n",
       "      <td>11650</td>\n",
       "      <td>24.726727</td>\n",
       "      <td>6066.310420</td>\n",
       "    </tr>\n",
       "    <tr>\n",
       "      <th>1</th>\n",
       "      <td>2021</td>\n",
       "      <td>6</td>\n",
       "      <td>1</td>\n",
       "      <td>155000</td>\n",
       "      <td>2003</td>\n",
       "      <td>방배동</td>\n",
       "      <td>삼환나띠르빌(1002-9)</td>\n",
       "      <td>148.99</td>\n",
       "      <td>11650</td>\n",
       "      <td>44.741742</td>\n",
       "      <td>3464.326465</td>\n",
       "    </tr>\n",
       "    <tr>\n",
       "      <th>2</th>\n",
       "      <td>2021</td>\n",
       "      <td>6</td>\n",
       "      <td>2</td>\n",
       "      <td>290000</td>\n",
       "      <td>1983</td>\n",
       "      <td>방배동</td>\n",
       "      <td>방배신삼호</td>\n",
       "      <td>185.46</td>\n",
       "      <td>11650</td>\n",
       "      <td>55.693694</td>\n",
       "      <td>5207.052734</td>\n",
       "    </tr>\n",
       "    <tr>\n",
       "      <th>3</th>\n",
       "      <td>2021</td>\n",
       "      <td>6</td>\n",
       "      <td>2</td>\n",
       "      <td>210000</td>\n",
       "      <td>2006</td>\n",
       "      <td>방배동</td>\n",
       "      <td>롯데캐슬헤론</td>\n",
       "      <td>169.08</td>\n",
       "      <td>11650</td>\n",
       "      <td>50.774775</td>\n",
       "      <td>4135.911994</td>\n",
       "    </tr>\n",
       "    <tr>\n",
       "      <th>4</th>\n",
       "      <td>2021</td>\n",
       "      <td>6</td>\n",
       "      <td>2</td>\n",
       "      <td>175000</td>\n",
       "      <td>1992</td>\n",
       "      <td>방배동</td>\n",
       "      <td>대우(효령)</td>\n",
       "      <td>84.91</td>\n",
       "      <td>11650</td>\n",
       "      <td>25.498498</td>\n",
       "      <td>6863.149217</td>\n",
       "    </tr>\n",
       "    <tr>\n",
       "      <th>...</th>\n",
       "      <td>...</td>\n",
       "      <td>...</td>\n",
       "      <td>...</td>\n",
       "      <td>...</td>\n",
       "      <td>...</td>\n",
       "      <td>...</td>\n",
       "      <td>...</td>\n",
       "      <td>...</td>\n",
       "      <td>...</td>\n",
       "      <td>...</td>\n",
       "      <td>...</td>\n",
       "    </tr>\n",
       "    <tr>\n",
       "      <th>191</th>\n",
       "      <td>2021</td>\n",
       "      <td>6</td>\n",
       "      <td>24</td>\n",
       "      <td>147000</td>\n",
       "      <td>2014</td>\n",
       "      <td>내곡동</td>\n",
       "      <td>서초더샵포레</td>\n",
       "      <td>59.69</td>\n",
       "      <td>11650</td>\n",
       "      <td>17.924925</td>\n",
       "      <td>8200.871168</td>\n",
       "    </tr>\n",
       "    <tr>\n",
       "      <th>192</th>\n",
       "      <td>2021</td>\n",
       "      <td>6</td>\n",
       "      <td>28</td>\n",
       "      <td>160000</td>\n",
       "      <td>2014</td>\n",
       "      <td>내곡동</td>\n",
       "      <td>서초더샵포레</td>\n",
       "      <td>84.81</td>\n",
       "      <td>11650</td>\n",
       "      <td>25.468468</td>\n",
       "      <td>6282.278033</td>\n",
       "    </tr>\n",
       "    <tr>\n",
       "      <th>193</th>\n",
       "      <td>2021</td>\n",
       "      <td>6</td>\n",
       "      <td>3</td>\n",
       "      <td>192500</td>\n",
       "      <td>2014</td>\n",
       "      <td>신원동</td>\n",
       "      <td>서초포레스타5단지</td>\n",
       "      <td>101.35</td>\n",
       "      <td>11650</td>\n",
       "      <td>30.435435</td>\n",
       "      <td>6324.864332</td>\n",
       "    </tr>\n",
       "    <tr>\n",
       "      <th>194</th>\n",
       "      <td>2021</td>\n",
       "      <td>6</td>\n",
       "      <td>3</td>\n",
       "      <td>192500</td>\n",
       "      <td>2014</td>\n",
       "      <td>신원동</td>\n",
       "      <td>서초포레스타5단지</td>\n",
       "      <td>101.35</td>\n",
       "      <td>11650</td>\n",
       "      <td>30.435435</td>\n",
       "      <td>6324.864332</td>\n",
       "    </tr>\n",
       "    <tr>\n",
       "      <th>195</th>\n",
       "      <td>2021</td>\n",
       "      <td>6</td>\n",
       "      <td>11</td>\n",
       "      <td>185000</td>\n",
       "      <td>2014</td>\n",
       "      <td>신원동</td>\n",
       "      <td>서초포레스타5단지</td>\n",
       "      <td>84.41</td>\n",
       "      <td>11650</td>\n",
       "      <td>25.348348</td>\n",
       "      <td>7298.305888</td>\n",
       "    </tr>\n",
       "  </tbody>\n",
       "</table>\n",
       "<p>196 rows × 11 columns</p>\n",
       "</div>"
      ],
      "text/plain": [
       "     year  month  day   price  built_yr dong_name        apt_name    size  \\\n",
       "0    2021      6    1  150000      1988       방배동            방배임광   82.34   \n",
       "1    2021      6    1  155000      2003       방배동  삼환나띠르빌(1002-9)  148.99   \n",
       "2    2021      6    2  290000      1983       방배동           방배신삼호  185.46   \n",
       "3    2021      6    2  210000      2006       방배동          롯데캐슬헤론  169.08   \n",
       "4    2021      6    2  175000      1992       방배동          대우(효령)   84.91   \n",
       "..    ...    ...  ...     ...       ...       ...             ...     ...   \n",
       "191  2021      6   24  147000      2014       내곡동          서초더샵포레   59.69   \n",
       "192  2021      6   28  160000      2014       내곡동          서초더샵포레   84.81   \n",
       "193  2021      6    3  192500      2014       신원동       서초포레스타5단지  101.35   \n",
       "194  2021      6    3  192500      2014       신원동       서초포레스타5단지  101.35   \n",
       "195  2021      6   11  185000      2014       신원동       서초포레스타5단지   84.41   \n",
       "\n",
       "     gu_code  size_pyung  price_pyung  \n",
       "0      11650   24.726727  6066.310420  \n",
       "1      11650   44.741742  3464.326465  \n",
       "2      11650   55.693694  5207.052734  \n",
       "3      11650   50.774775  4135.911994  \n",
       "4      11650   25.498498  6863.149217  \n",
       "..       ...         ...          ...  \n",
       "191    11650   17.924925  8200.871168  \n",
       "192    11650   25.468468  6282.278033  \n",
       "193    11650   30.435435  6324.864332  \n",
       "194    11650   30.435435  6324.864332  \n",
       "195    11650   25.348348  7298.305888  \n",
       "\n",
       "[196 rows x 11 columns]"
      ]
     },
     "execution_count": 157,
     "metadata": {},
     "output_type": "execute_result"
    }
   ],
   "source": [
    "# 칼럼 하나 삭제\n",
    "df2=df.drop('Unnamed: 0',axis=1)\n",
    "df2"
   ]
  },
  {
   "cell_type": "code",
   "execution_count": null,
   "id": "7a8572c8",
   "metadata": {},
   "outputs": [],
   "source": []
  },
  {
   "cell_type": "code",
   "execution_count": null,
   "id": "7a7f7480",
   "metadata": {},
   "outputs": [],
   "source": []
  },
  {
   "cell_type": "code",
   "execution_count": null,
   "id": "4d3040d3",
   "metadata": {},
   "outputs": [],
   "source": []
  },
  {
   "cell_type": "code",
   "execution_count": null,
   "id": "cebde463",
   "metadata": {},
   "outputs": [],
   "source": []
  },
  {
   "cell_type": "code",
   "execution_count": null,
   "id": "ec3e184d",
   "metadata": {},
   "outputs": [],
   "source": []
  },
  {
   "cell_type": "code",
   "execution_count": null,
   "id": "76d16f86",
   "metadata": {},
   "outputs": [],
   "source": []
  },
  {
   "cell_type": "code",
   "execution_count": null,
   "id": "d654678c",
   "metadata": {},
   "outputs": [],
   "source": []
  },
  {
   "cell_type": "code",
   "execution_count": null,
   "id": "1ff37014",
   "metadata": {},
   "outputs": [],
   "source": []
  },
  {
   "cell_type": "code",
   "execution_count": null,
   "id": "0a51f44c",
   "metadata": {},
   "outputs": [],
   "source": []
  },
  {
   "cell_type": "code",
   "execution_count": null,
   "id": "fee5435e",
   "metadata": {},
   "outputs": [],
   "source": []
  },
  {
   "cell_type": "code",
   "execution_count": null,
   "id": "eb979a4a",
   "metadata": {},
   "outputs": [],
   "source": []
  },
  {
   "cell_type": "code",
   "execution_count": null,
   "id": "89dc66c2",
   "metadata": {},
   "outputs": [],
   "source": []
  },
  {
   "cell_type": "code",
   "execution_count": null,
   "id": "65ebaa3b",
   "metadata": {},
   "outputs": [],
   "source": []
  },
  {
   "cell_type": "code",
   "execution_count": null,
   "id": "5a4ccb2e",
   "metadata": {},
   "outputs": [],
   "source": []
  },
  {
   "cell_type": "code",
   "execution_count": null,
   "id": "c9aed4c0",
   "metadata": {},
   "outputs": [],
   "source": []
  },
  {
   "cell_type": "code",
   "execution_count": null,
   "id": "69ba4127",
   "metadata": {},
   "outputs": [],
   "source": []
  },
  {
   "cell_type": "code",
   "execution_count": null,
   "id": "2152db32",
   "metadata": {},
   "outputs": [],
   "source": []
  },
  {
   "cell_type": "code",
   "execution_count": null,
   "id": "133d754b",
   "metadata": {},
   "outputs": [],
   "source": []
  },
  {
   "cell_type": "code",
   "execution_count": null,
   "id": "c6e51d9b",
   "metadata": {},
   "outputs": [],
   "source": []
  },
  {
   "cell_type": "code",
   "execution_count": null,
   "id": "8038c21e",
   "metadata": {},
   "outputs": [],
   "source": []
  },
  {
   "cell_type": "code",
   "execution_count": null,
   "id": "e4548dd0",
   "metadata": {},
   "outputs": [],
   "source": []
  },
  {
   "cell_type": "code",
   "execution_count": null,
   "id": "add18a50",
   "metadata": {},
   "outputs": [],
   "source": []
  }
 ],
 "metadata": {
  "kernelspec": {
   "display_name": "Python 3 (ipykernel)",
   "language": "python",
   "name": "python3"
  },
  "language_info": {
   "codemirror_mode": {
    "name": "ipython",
    "version": 3
   },
   "file_extension": ".py",
   "mimetype": "text/x-python",
   "name": "python",
   "nbconvert_exporter": "python",
   "pygments_lexer": "ipython3",
   "version": "3.9.13"
  }
 },
 "nbformat": 4,
 "nbformat_minor": 5
}
