{
 "cells": [
  {
   "cell_type": "code",
   "execution_count": 1,
   "id": "0e52c772",
   "metadata": {},
   "outputs": [],
   "source": [
    "import pandas as pd\n",
    "import numpy as np\n",
    "import numpy_financial as npf\n",
    "import seaborn as sns\n",
    "import matplotlib.pyplot as plt\n",
    "import statsmodels.api as sm\n",
    "from sklearn.model_selection import train_test_split\n",
    "import warnings\n",
    "warnings.filterwarnings(\"ignore\")\n",
    "\n",
    "\n",
    "from ggplot import *\n",
    "from scipy.stats import logistic\n",
    "from sklearn.metrics import roc_curve\n",
    "from sklearn.metrics import roc_auc_score\n",
    "from sklearn.linear_model import LogisticRegression\n",
    "from sklearn.metrics import confusion_matrix, mean_squared_error\n",
    "from sklearn.model_selection import train_test_split\n",
    "from sklearn import preprocessing\n",
    "from sklearn.neighbors import KNeighborsClassifier\n",
    "from sklearn.naive_bayes import *\n",
    "from sklearn.tree import DecisionTreeClassifier, DecisionTreeRegressor, export_graphviz\n",
    "import graphviz\n",
    "from sklearn.ensemble import RandomForestRegressor, RandomForestClassifier\n",
    "from sklearn.svm import SVC, SVR\n",
    "from sklearn.cluster import KMeans\n",
    "from sklearn.preprocessing import StandardScaler\n",
    "\n",
    "\n",
    "from linearmodels.iv import IV2SLS"
   ]
  },
  {
   "cell_type": "markdown",
   "id": "7ec86523",
   "metadata": {},
   "source": [
    "# LN2 주택실거래가 데이터 분석(1)\n",
    "\n",
    "\n",
    "\n",
    "## 1. 데이터의 대표값과 퍼진 정도 disperison\n",
    "\n",
    "- 통계학은 크게 기술통계학과 추론통계학으로 나뉜다.\n",
    "- 기술통계학:\n",
    "- 추론통계학: 모집단에서 추출된 표본에서 얻은 통계량을 의미를 해석하여 모수를 추론하고자 함\n",
    "- 범주형 변수의 경우라면 최빈값이 대표값으로 사용될 수 있음\n",
    "- 평균은 극단치에 영향 받는다. 중앙값은 극단치에 영향 받는 것 적다\n",
    "- 극단치가 존재하면 대표값은 중앙값이 더 적절\n",
    "- 극단치의 영향을 줄이고 평균을 계산하기 위해 trimmed mean을 구할 수 있다. <- Q3"
   ]
  },
  {
   "cell_type": "code",
   "execution_count": 2,
   "id": "dd180e41",
   "metadata": {},
   "outputs": [
    {
     "name": "stdout",
     "output_type": "stream",
     "text": [
      "Requirement already satisfied: scipy in c:\\users\\chaer\\anaconda3\\lib\\site-packages (1.9.1)\n",
      "Requirement already satisfied: numpy<1.25.0,>=1.18.5 in c:\\users\\chaer\\anaconda3\\lib\\site-packages (from scipy) (1.21.5)\n",
      "Note: you may need to restart the kernel to use updated packages.\n"
     ]
    }
   ],
   "source": [
    "pip install scipy"
   ]
  },
  {
   "cell_type": "code",
   "execution_count": 4,
   "id": "2e5040ed",
   "metadata": {},
   "outputs": [],
   "source": [
    "from scipy import stats\n",
    "from scipy.stats import trim_mean #trimmed mean"
   ]
  },
  {
   "cell_type": "code",
   "execution_count": 11,
   "id": "617812a0",
   "metadata": {},
   "outputs": [
    {
     "data": {
      "text/plain": [
       "17.285714285714285"
      ]
     },
     "execution_count": 11,
     "metadata": {},
     "output_type": "execute_result"
    }
   ],
   "source": [
    "# trimmed mean 구하기\n",
    "\n",
    "data=np.array([1,2,3,4,5,6,100])\n",
    "data.mean() # 전체 평균"
   ]
  },
  {
   "cell_type": "code",
   "execution_count": 12,
   "id": "5a930355",
   "metadata": {},
   "outputs": [
    {
     "data": {
      "text/plain": [
       "17.285714285714285"
      ]
     },
     "execution_count": 12,
     "metadata": {},
     "output_type": "execute_result"
    }
   ],
   "source": [
    "# trimmed mean\n",
    "\n",
    "# 앞 뒤 0.05 씩 짜르고, 총 90%로 trimmed mean 구해보자\n",
    "trim_mean(data, proportiontocut=0.05) "
   ]
  },
  {
   "cell_type": "code",
   "execution_count": 14,
   "id": "f28fdb1b",
   "metadata": {},
   "outputs": [
    {
     "data": {
      "text/plain": [
       "4.0"
      ]
     },
     "execution_count": 14,
     "metadata": {},
     "output_type": "execute_result"
    }
   ],
   "source": [
    "# trim_mean(data, proportiontocut=0.05) <- 값이 7개 밖에 없어서 자를게 없었음. 그래서 전체 평균과 같았음\n",
    "\n",
    "trim_mean(data, proportiontocut=0.15) "
   ]
  },
  {
   "cell_type": "markdown",
   "id": "08953232",
   "metadata": {},
   "source": [
    "### 데이터 퍼진 정도\n",
    "- 필기 참고\n",
    "- 표편, 분산\n",
    "\n",
    "#### MAD Median absolute deviation 중앙값 절대편차\n",
    "- 평균이 극단치의 영향을 받기 때문에, 표준편차 역시 그렇다. \n",
    "- 이를 보완하기 위해 극단치의 영향을 덜 받는 퍼진 정도는 '중앙값 절대편차'\n",
    "- 각각의 값에서 중앙값을 빼고, 그 값의 중앙값을 구한다\n",
    "- 공식은 필기 참고"
   ]
  },
  {
   "cell_type": "code",
   "execution_count": 17,
   "id": "0ab6f0da",
   "metadata": {},
   "outputs": [
    {
     "data": {
      "text/html": [
       "<div>\n",
       "<style scoped>\n",
       "    .dataframe tbody tr th:only-of-type {\n",
       "        vertical-align: middle;\n",
       "    }\n",
       "\n",
       "    .dataframe tbody tr th {\n",
       "        vertical-align: top;\n",
       "    }\n",
       "\n",
       "    .dataframe thead th {\n",
       "        text-align: right;\n",
       "    }\n",
       "</style>\n",
       "<table border=\"1\" class=\"dataframe\">\n",
       "  <thead>\n",
       "    <tr style=\"text-align: right;\">\n",
       "      <th></th>\n",
       "      <th>Unnamed: 0</th>\n",
       "      <th>year</th>\n",
       "      <th>month</th>\n",
       "      <th>day</th>\n",
       "      <th>price</th>\n",
       "      <th>built_yr</th>\n",
       "      <th>dong_name</th>\n",
       "      <th>apt_name</th>\n",
       "      <th>size</th>\n",
       "      <th>gu_code</th>\n",
       "      <th>size_pyung</th>\n",
       "      <th>price_pyung</th>\n",
       "    </tr>\n",
       "  </thead>\n",
       "  <tbody>\n",
       "    <tr>\n",
       "      <th>0</th>\n",
       "      <td>0</td>\n",
       "      <td>2021</td>\n",
       "      <td>6</td>\n",
       "      <td>1</td>\n",
       "      <td>150000</td>\n",
       "      <td>1988</td>\n",
       "      <td>방배동</td>\n",
       "      <td>방배임광</td>\n",
       "      <td>82.34</td>\n",
       "      <td>11650</td>\n",
       "      <td>24.726727</td>\n",
       "      <td>6066.310420</td>\n",
       "    </tr>\n",
       "    <tr>\n",
       "      <th>1</th>\n",
       "      <td>1</td>\n",
       "      <td>2021</td>\n",
       "      <td>6</td>\n",
       "      <td>1</td>\n",
       "      <td>155000</td>\n",
       "      <td>2003</td>\n",
       "      <td>방배동</td>\n",
       "      <td>삼환나띠르빌(1002-9)</td>\n",
       "      <td>148.99</td>\n",
       "      <td>11650</td>\n",
       "      <td>44.741742</td>\n",
       "      <td>3464.326465</td>\n",
       "    </tr>\n",
       "    <tr>\n",
       "      <th>2</th>\n",
       "      <td>2</td>\n",
       "      <td>2021</td>\n",
       "      <td>6</td>\n",
       "      <td>2</td>\n",
       "      <td>290000</td>\n",
       "      <td>1983</td>\n",
       "      <td>방배동</td>\n",
       "      <td>방배신삼호</td>\n",
       "      <td>185.46</td>\n",
       "      <td>11650</td>\n",
       "      <td>55.693694</td>\n",
       "      <td>5207.052734</td>\n",
       "    </tr>\n",
       "    <tr>\n",
       "      <th>3</th>\n",
       "      <td>3</td>\n",
       "      <td>2021</td>\n",
       "      <td>6</td>\n",
       "      <td>2</td>\n",
       "      <td>210000</td>\n",
       "      <td>2006</td>\n",
       "      <td>방배동</td>\n",
       "      <td>롯데캐슬헤론</td>\n",
       "      <td>169.08</td>\n",
       "      <td>11650</td>\n",
       "      <td>50.774775</td>\n",
       "      <td>4135.911994</td>\n",
       "    </tr>\n",
       "    <tr>\n",
       "      <th>4</th>\n",
       "      <td>4</td>\n",
       "      <td>2021</td>\n",
       "      <td>6</td>\n",
       "      <td>2</td>\n",
       "      <td>175000</td>\n",
       "      <td>1992</td>\n",
       "      <td>방배동</td>\n",
       "      <td>대우(효령)</td>\n",
       "      <td>84.91</td>\n",
       "      <td>11650</td>\n",
       "      <td>25.498498</td>\n",
       "      <td>6863.149217</td>\n",
       "    </tr>\n",
       "    <tr>\n",
       "      <th>...</th>\n",
       "      <td>...</td>\n",
       "      <td>...</td>\n",
       "      <td>...</td>\n",
       "      <td>...</td>\n",
       "      <td>...</td>\n",
       "      <td>...</td>\n",
       "      <td>...</td>\n",
       "      <td>...</td>\n",
       "      <td>...</td>\n",
       "      <td>...</td>\n",
       "      <td>...</td>\n",
       "      <td>...</td>\n",
       "    </tr>\n",
       "    <tr>\n",
       "      <th>191</th>\n",
       "      <td>191</td>\n",
       "      <td>2021</td>\n",
       "      <td>6</td>\n",
       "      <td>24</td>\n",
       "      <td>147000</td>\n",
       "      <td>2014</td>\n",
       "      <td>내곡동</td>\n",
       "      <td>서초더샵포레</td>\n",
       "      <td>59.69</td>\n",
       "      <td>11650</td>\n",
       "      <td>17.924925</td>\n",
       "      <td>8200.871168</td>\n",
       "    </tr>\n",
       "    <tr>\n",
       "      <th>192</th>\n",
       "      <td>192</td>\n",
       "      <td>2021</td>\n",
       "      <td>6</td>\n",
       "      <td>28</td>\n",
       "      <td>160000</td>\n",
       "      <td>2014</td>\n",
       "      <td>내곡동</td>\n",
       "      <td>서초더샵포레</td>\n",
       "      <td>84.81</td>\n",
       "      <td>11650</td>\n",
       "      <td>25.468468</td>\n",
       "      <td>6282.278033</td>\n",
       "    </tr>\n",
       "    <tr>\n",
       "      <th>193</th>\n",
       "      <td>193</td>\n",
       "      <td>2021</td>\n",
       "      <td>6</td>\n",
       "      <td>3</td>\n",
       "      <td>192500</td>\n",
       "      <td>2014</td>\n",
       "      <td>신원동</td>\n",
       "      <td>서초포레스타5단지</td>\n",
       "      <td>101.35</td>\n",
       "      <td>11650</td>\n",
       "      <td>30.435435</td>\n",
       "      <td>6324.864332</td>\n",
       "    </tr>\n",
       "    <tr>\n",
       "      <th>194</th>\n",
       "      <td>194</td>\n",
       "      <td>2021</td>\n",
       "      <td>6</td>\n",
       "      <td>3</td>\n",
       "      <td>192500</td>\n",
       "      <td>2014</td>\n",
       "      <td>신원동</td>\n",
       "      <td>서초포레스타5단지</td>\n",
       "      <td>101.35</td>\n",
       "      <td>11650</td>\n",
       "      <td>30.435435</td>\n",
       "      <td>6324.864332</td>\n",
       "    </tr>\n",
       "    <tr>\n",
       "      <th>195</th>\n",
       "      <td>195</td>\n",
       "      <td>2021</td>\n",
       "      <td>6</td>\n",
       "      <td>11</td>\n",
       "      <td>185000</td>\n",
       "      <td>2014</td>\n",
       "      <td>신원동</td>\n",
       "      <td>서초포레스타5단지</td>\n",
       "      <td>84.41</td>\n",
       "      <td>11650</td>\n",
       "      <td>25.348348</td>\n",
       "      <td>7298.305888</td>\n",
       "    </tr>\n",
       "  </tbody>\n",
       "</table>\n",
       "<p>196 rows × 12 columns</p>\n",
       "</div>"
      ],
      "text/plain": [
       "     Unnamed: 0  year  month  day   price  built_yr dong_name        apt_name  \\\n",
       "0             0  2021      6    1  150000      1988       방배동            방배임광   \n",
       "1             1  2021      6    1  155000      2003       방배동  삼환나띠르빌(1002-9)   \n",
       "2             2  2021      6    2  290000      1983       방배동           방배신삼호   \n",
       "3             3  2021      6    2  210000      2006       방배동          롯데캐슬헤론   \n",
       "4             4  2021      6    2  175000      1992       방배동          대우(효령)   \n",
       "..          ...   ...    ...  ...     ...       ...       ...             ...   \n",
       "191         191  2021      6   24  147000      2014       내곡동          서초더샵포레   \n",
       "192         192  2021      6   28  160000      2014       내곡동          서초더샵포레   \n",
       "193         193  2021      6    3  192500      2014       신원동       서초포레스타5단지   \n",
       "194         194  2021      6    3  192500      2014       신원동       서초포레스타5단지   \n",
       "195         195  2021      6   11  185000      2014       신원동       서초포레스타5단지   \n",
       "\n",
       "       size  gu_code  size_pyung  price_pyung  \n",
       "0     82.34    11650   24.726727  6066.310420  \n",
       "1    148.99    11650   44.741742  3464.326465  \n",
       "2    185.46    11650   55.693694  5207.052734  \n",
       "3    169.08    11650   50.774775  4135.911994  \n",
       "4     84.91    11650   25.498498  6863.149217  \n",
       "..      ...      ...         ...          ...  \n",
       "191   59.69    11650   17.924925  8200.871168  \n",
       "192   84.81    11650   25.468468  6282.278033  \n",
       "193  101.35    11650   30.435435  6324.864332  \n",
       "194  101.35    11650   30.435435  6324.864332  \n",
       "195   84.41    11650   25.348348  7298.305888  \n",
       "\n",
       "[196 rows x 12 columns]"
      ]
     },
     "execution_count": 17,
     "metadata": {},
     "output_type": "execute_result"
    }
   ],
   "source": [
    "# csv file을 불러오자\n",
    "\n",
    "df=pd.read_csv('c:/temp/LN2_data1.csv')\n",
    "df"
   ]
  },
  {
   "cell_type": "code",
   "execution_count": 18,
   "id": "2bfb244a",
   "metadata": {},
   "outputs": [
    {
     "data": {
      "text/plain": [
       "95597.31932419787"
      ]
     },
     "execution_count": 18,
     "metadata": {},
     "output_type": "execute_result"
    }
   ],
   "source": [
    "# 위 데이터는, 서초구에서 거래된 실거래가 데이터\n",
    "# 2021년 6월 1일 방배동, 15억 ㅎㅎ\n",
    "\n",
    "# 평수가 섞여 있으니 price를 냅다 평균 내면 의미 없을 거 같다\n",
    "# 그래서 평당 가격을 보자. 한 평은 3.3m2\n",
    "# 그 값이 price_pyung\n",
    "\n",
    "# dispersion \n",
    "\n",
    "# price의 표편을 구해보자\n",
    "df['price'].std()"
   ]
  },
  {
   "cell_type": "code",
   "execution_count": 20,
   "id": "067a2d09",
   "metadata": {},
   "outputs": [
    {
     "data": {
      "text/plain": [
       "63125.0"
      ]
     },
     "execution_count": 20,
     "metadata": {},
     "output_type": "execute_result"
    }
   ],
   "source": [
    "# MAD 계산해보자\n",
    "stats.median_abs_deviation(df['price'])"
   ]
  },
  {
   "cell_type": "markdown",
   "id": "c6769ed7",
   "metadata": {},
   "source": [
    "## 2. 히스토그램과 사분위수\n",
    "\n",
    "- 히스토그램이 오른쪽으로 긴 꼬리 모양: 중<평\n",
    "- 왼쪽으로 : 중>평\n",
    "- 좌우가 대칭인 분포: 중앙값과 평균이 거의 유사하다\n",
    "\n",
    "- 백분위수 percentile : 필기참고\n",
    "- 4분위수 quantile"
   ]
  },
  {
   "cell_type": "code",
   "execution_count": 21,
   "id": "c093cce1",
   "metadata": {},
   "outputs": [
    {
     "data": {
      "text/html": [
       "<div>\n",
       "<style scoped>\n",
       "    .dataframe tbody tr th:only-of-type {\n",
       "        vertical-align: middle;\n",
       "    }\n",
       "\n",
       "    .dataframe tbody tr th {\n",
       "        vertical-align: top;\n",
       "    }\n",
       "\n",
       "    .dataframe thead th {\n",
       "        text-align: right;\n",
       "    }\n",
       "</style>\n",
       "<table border=\"1\" class=\"dataframe\">\n",
       "  <thead>\n",
       "    <tr style=\"text-align: right;\">\n",
       "      <th></th>\n",
       "      <th>year</th>\n",
       "      <th>metro</th>\n",
       "      <th>id</th>\n",
       "      <th>sex</th>\n",
       "      <th>age</th>\n",
       "      <th>number</th>\n",
       "      <th>education</th>\n",
       "      <th>marriage</th>\n",
       "      <th>asset</th>\n",
       "      <th>debt</th>\n",
       "      <th>income</th>\n",
       "      <th>income_d</th>\n",
       "      <th>industry</th>\n",
       "      <th>job</th>\n",
       "      <th>house</th>\n",
       "    </tr>\n",
       "  </thead>\n",
       "  <tbody>\n",
       "    <tr>\n",
       "      <th>0</th>\n",
       "      <td>2020</td>\n",
       "      <td>G1</td>\n",
       "      <td>10000112</td>\n",
       "      <td>1</td>\n",
       "      <td>34</td>\n",
       "      <td>3</td>\n",
       "      <td>6</td>\n",
       "      <td>2</td>\n",
       "      <td>112000</td>\n",
       "      <td>54500</td>\n",
       "      <td>6593</td>\n",
       "      <td>4599</td>\n",
       "      <td>F</td>\n",
       "      <td>3</td>\n",
       "      <td>2</td>\n",
       "    </tr>\n",
       "    <tr>\n",
       "      <th>1</th>\n",
       "      <td>2020</td>\n",
       "      <td>G1</td>\n",
       "      <td>10000132</td>\n",
       "      <td>2</td>\n",
       "      <td>45</td>\n",
       "      <td>2</td>\n",
       "      <td>8</td>\n",
       "      <td>2</td>\n",
       "      <td>42500</td>\n",
       "      <td>17500</td>\n",
       "      <td>17720</td>\n",
       "      <td>15257</td>\n",
       "      <td>J</td>\n",
       "      <td>2</td>\n",
       "      <td>3</td>\n",
       "    </tr>\n",
       "    <tr>\n",
       "      <th>2</th>\n",
       "      <td>2020</td>\n",
       "      <td>G1</td>\n",
       "      <td>10000162</td>\n",
       "      <td>2</td>\n",
       "      <td>73</td>\n",
       "      <td>1</td>\n",
       "      <td>2</td>\n",
       "      <td>3</td>\n",
       "      <td>5712</td>\n",
       "      <td>0</td>\n",
       "      <td>908</td>\n",
       "      <td>725</td>\n",
       "      <td>T</td>\n",
       "      <td>4</td>\n",
       "      <td>2</td>\n",
       "    </tr>\n",
       "    <tr>\n",
       "      <th>3</th>\n",
       "      <td>2020</td>\n",
       "      <td>G1</td>\n",
       "      <td>10000182</td>\n",
       "      <td>1</td>\n",
       "      <td>58</td>\n",
       "      <td>2</td>\n",
       "      <td>4</td>\n",
       "      <td>2</td>\n",
       "      <td>14870</td>\n",
       "      <td>0</td>\n",
       "      <td>2748</td>\n",
       "      <td>2431</td>\n",
       "      <td>C</td>\n",
       "      <td>5</td>\n",
       "      <td>2</td>\n",
       "    </tr>\n",
       "    <tr>\n",
       "      <th>4</th>\n",
       "      <td>2020</td>\n",
       "      <td>G1</td>\n",
       "      <td>10000192</td>\n",
       "      <td>2</td>\n",
       "      <td>27</td>\n",
       "      <td>1</td>\n",
       "      <td>4</td>\n",
       "      <td>1</td>\n",
       "      <td>814</td>\n",
       "      <td>0</td>\n",
       "      <td>1015</td>\n",
       "      <td>893</td>\n",
       "      <td>R</td>\n",
       "      <td>2</td>\n",
       "      <td>3</td>\n",
       "    </tr>\n",
       "    <tr>\n",
       "      <th>...</th>\n",
       "      <td>...</td>\n",
       "      <td>...</td>\n",
       "      <td>...</td>\n",
       "      <td>...</td>\n",
       "      <td>...</td>\n",
       "      <td>...</td>\n",
       "      <td>...</td>\n",
       "      <td>...</td>\n",
       "      <td>...</td>\n",
       "      <td>...</td>\n",
       "      <td>...</td>\n",
       "      <td>...</td>\n",
       "      <td>...</td>\n",
       "      <td>...</td>\n",
       "      <td>...</td>\n",
       "    </tr>\n",
       "    <tr>\n",
       "      <th>18059</th>\n",
       "      <td>2020</td>\n",
       "      <td>G2</td>\n",
       "      <td>993800291</td>\n",
       "      <td>1</td>\n",
       "      <td>42</td>\n",
       "      <td>3</td>\n",
       "      <td>6</td>\n",
       "      <td>2</td>\n",
       "      <td>6705</td>\n",
       "      <td>2200</td>\n",
       "      <td>179</td>\n",
       "      <td>-390</td>\n",
       "      <td>NaN</td>\n",
       "      <td>NaN</td>\n",
       "      <td>3</td>\n",
       "    </tr>\n",
       "    <tr>\n",
       "      <th>18060</th>\n",
       "      <td>2020</td>\n",
       "      <td>G2</td>\n",
       "      <td>994800251</td>\n",
       "      <td>1</td>\n",
       "      <td>49</td>\n",
       "      <td>5</td>\n",
       "      <td>6</td>\n",
       "      <td>2</td>\n",
       "      <td>130180</td>\n",
       "      <td>22000</td>\n",
       "      <td>15454</td>\n",
       "      <td>11784</td>\n",
       "      <td>O</td>\n",
       "      <td>3</td>\n",
       "      <td>1</td>\n",
       "    </tr>\n",
       "    <tr>\n",
       "      <th>18061</th>\n",
       "      <td>2020</td>\n",
       "      <td>G2</td>\n",
       "      <td>994800261</td>\n",
       "      <td>1</td>\n",
       "      <td>57</td>\n",
       "      <td>5</td>\n",
       "      <td>6</td>\n",
       "      <td>2</td>\n",
       "      <td>265226</td>\n",
       "      <td>29000</td>\n",
       "      <td>15098</td>\n",
       "      <td>11560</td>\n",
       "      <td>NaN</td>\n",
       "      <td>NaN</td>\n",
       "      <td>1</td>\n",
       "    </tr>\n",
       "    <tr>\n",
       "      <th>18062</th>\n",
       "      <td>2020</td>\n",
       "      <td>G2</td>\n",
       "      <td>994800291</td>\n",
       "      <td>2</td>\n",
       "      <td>53</td>\n",
       "      <td>2</td>\n",
       "      <td>7</td>\n",
       "      <td>4</td>\n",
       "      <td>109695</td>\n",
       "      <td>25000</td>\n",
       "      <td>9114</td>\n",
       "      <td>7074</td>\n",
       "      <td>O</td>\n",
       "      <td>2</td>\n",
       "      <td>2</td>\n",
       "    </tr>\n",
       "    <tr>\n",
       "      <th>18063</th>\n",
       "      <td>2020</td>\n",
       "      <td>G2</td>\n",
       "      <td>995800261</td>\n",
       "      <td>1</td>\n",
       "      <td>44</td>\n",
       "      <td>5</td>\n",
       "      <td>6</td>\n",
       "      <td>2</td>\n",
       "      <td>71223</td>\n",
       "      <td>13000</td>\n",
       "      <td>7857</td>\n",
       "      <td>5404</td>\n",
       "      <td>C</td>\n",
       "      <td>3</td>\n",
       "      <td>1</td>\n",
       "    </tr>\n",
       "  </tbody>\n",
       "</table>\n",
       "<p>18064 rows × 15 columns</p>\n",
       "</div>"
      ],
      "text/plain": [
       "       year metro         id  sex  age  number  education  marriage   asset  \\\n",
       "0      2020    G1   10000112    1   34       3          6         2  112000   \n",
       "1      2020    G1   10000132    2   45       2          8         2   42500   \n",
       "2      2020    G1   10000162    2   73       1          2         3    5712   \n",
       "3      2020    G1   10000182    1   58       2          4         2   14870   \n",
       "4      2020    G1   10000192    2   27       1          4         1     814   \n",
       "...     ...   ...        ...  ...  ...     ...        ...       ...     ...   \n",
       "18059  2020    G2  993800291    1   42       3          6         2    6705   \n",
       "18060  2020    G2  994800251    1   49       5          6         2  130180   \n",
       "18061  2020    G2  994800261    1   57       5          6         2  265226   \n",
       "18062  2020    G2  994800291    2   53       2          7         4  109695   \n",
       "18063  2020    G2  995800261    1   44       5          6         2   71223   \n",
       "\n",
       "        debt  income  income_d industry  job  house  \n",
       "0      54500    6593      4599        F    3      2  \n",
       "1      17500   17720     15257        J    2      3  \n",
       "2          0     908       725        T    4      2  \n",
       "3          0    2748      2431        C    5      2  \n",
       "4          0    1015       893        R    2      3  \n",
       "...      ...     ...       ...      ...  ...    ...  \n",
       "18059   2200     179      -390      NaN  NaN      3  \n",
       "18060  22000   15454     11784        O    3      1  \n",
       "18061  29000   15098     11560      NaN  NaN      1  \n",
       "18062  25000    9114      7074        O    2      2  \n",
       "18063  13000    7857      5404        C    3      1  \n",
       "\n",
       "[18064 rows x 15 columns]"
      ]
     },
     "execution_count": 21,
     "metadata": {},
     "output_type": "execute_result"
    }
   ],
   "source": [
    "# 202년 가계금융복지조사\n",
    "\n",
    "df2=pd.read_csv('c:/temp/LN2_data2.csv')\n",
    "df2"
   ]
  },
  {
   "cell_type": "code",
   "execution_count": 22,
   "id": "cdd2d647",
   "metadata": {},
   "outputs": [
    {
     "data": {
      "image/png": "[encoded data removed]",
      "text/plain": [
       "<Figure size 640x480 with 1 Axes>"
      ]
     },
     "metadata": {},
     "output_type": "display_data"
    }
   ],
   "source": [
    "# sex 가구주의 성별\n",
    "# income 가구의 소득, ex. 17720: 1억 7천 7백 20만원\n",
    "\n",
    "# 히스토그램을 그려보자\n",
    "\n",
    "%matplotlib inline\n",
    "\n",
    "plt.hist(df2['income'])\n",
    "plt.show()"
   ]
  },
  {
   "cell_type": "code",
   "execution_count": 24,
   "id": "0e7db4da",
   "metadata": {},
   "outputs": [
    {
     "data": {
      "image/png": "[encoded data removed]",
      "text/plain": [
       "<Figure size 640x480 with 1 Axes>"
      ]
     },
     "metadata": {},
     "output_type": "display_data"
    }
   ],
   "source": [
    "# 왜 막대기가 하나밖에 안 나오지?\n",
    "# 그래프를 그릴때 막대기 몇개 그릴지 정하는 옶션을 넣어보자. bins=\n",
    "\n",
    "plt.hist(df2['income'], bins=200)\n",
    "plt.show()"
   ]
  },
  {
   "cell_type": "code",
   "execution_count": 26,
   "id": "d92726f7",
   "metadata": {},
   "outputs": [
    {
     "data": {
      "image/png": "[encoded data removed]",
      "text/plain": [
       "<Figure size 640x480 with 1 Axes>"
      ]
     },
     "metadata": {},
     "output_type": "display_data"
    }
   ],
   "source": [
    "# 아주 오른쪽으로 꼬리가 긴 분포\n",
    "# 적은 수지만, 돈 많이 버는 사람들이 있다는 것\n",
    "\n",
    "\n",
    "plt.hist(df2['income'], bins=200, alpha=0.3) # alpha: 투명도 opacity 지정, 투명도 30%\n",
    "plt.show()"
   ]
  },
  {
   "cell_type": "code",
   "execution_count": 30,
   "id": "3112f099",
   "metadata": {},
   "outputs": [
    {
     "data": {
      "text/plain": [
       "2026.0"
      ]
     },
     "execution_count": 30,
     "metadata": {},
     "output_type": "execute_result"
    }
   ],
   "source": [
    "# 사분위수 계산해보기\n",
    "\n",
    "df2['income'].quantile(0.25)\n",
    "# 하위 25%의 소득이 2026만원"
   ]
  },
  {
   "cell_type": "code",
   "execution_count": 31,
   "id": "47cfd7f7",
   "metadata": {},
   "outputs": [
    {
     "data": {
      "text/plain": [
       "7331.75"
      ]
     },
     "execution_count": 31,
     "metadata": {},
     "output_type": "execute_result"
    }
   ],
   "source": [
    "df2['income'].quantile(0.75)\n",
    "# 상위 25%의 소득이 7331만원"
   ]
  },
  {
   "cell_type": "code",
   "execution_count": 32,
   "id": "9bfdb7f4",
   "metadata": {},
   "outputs": [
    {
     "name": "stdout",
     "output_type": "stream",
     "text": [
      "5305.75\n"
     ]
    }
   ],
   "source": [
    "# IQR 사분위수 범위 : 3사분위와 1사분위 값의 차이\n",
    "IQR=df2['income'].quantile(0.75)-df2['income'].quantile(0.25)\n",
    "print(IQR)"
   ]
  },
  {
   "cell_type": "code",
   "execution_count": 33,
   "id": "fbb736fe",
   "metadata": {},
   "outputs": [],
   "source": [
    "# IQR <- data의 dispersion을 측정하는 방법 ! \n",
    "# 이 값이 클 수록 사람들이 분포가 펼쳐져 있다. 돈 많이 버는 사람과 적게 버는 사람들의 격차가 크다"
   ]
  },
  {
   "cell_type": "code",
   "execution_count": 35,
   "id": "58f87a62",
   "metadata": {},
   "outputs": [
    {
     "data": {
      "image/png": "[encoded data removed]",
      "text/plain": [
       "<Figure size 640x480 with 1 Axes>"
      ]
     },
     "metadata": {},
     "output_type": "display_data"
    }
   ],
   "source": [
    "# Boxplot을 그려보자\n",
    "\n",
    "df2.boxplot(column=['income'])\n",
    "plt.show()\n",
    "\n",
    "#boxplot 해석 !!! >>>>>> 필기 참고"
   ]
  },
  {
   "cell_type": "markdown",
   "id": "5b716531",
   "metadata": {},
   "source": [
    "## 3 데이터 형식과 반복문\n",
    "\n",
    "- 데이터 형식 중 list와 tuple에 대해 알아보자\n",
    "- 리스트: << 필 참"
   ]
  },
  {
   "cell_type": "markdown",
   "id": "f09cf2a5",
   "metadata": {},
   "source": [
    "##### list"
   ]
  },
  {
   "cell_type": "code",
   "execution_count": 36,
   "id": "b2e822cb",
   "metadata": {},
   "outputs": [
    {
     "data": {
      "text/plain": [
       "[10, 'economics', False]"
      ]
     },
     "execution_count": 36,
     "metadata": {},
     "output_type": "execute_result"
    }
   ],
   "source": [
    "x=[10, 'economics', False]\n",
    "x"
   ]
  },
  {
   "cell_type": "code",
   "execution_count": 37,
   "id": "e566e553",
   "metadata": {},
   "outputs": [
    {
     "data": {
      "text/plain": [
       "list"
      ]
     },
     "execution_count": 37,
     "metadata": {},
     "output_type": "execute_result"
    }
   ],
   "source": [
    "type(x) # x의 형식은 모야?"
   ]
  },
  {
   "cell_type": "code",
   "execution_count": 38,
   "id": "15d8a718",
   "metadata": {},
   "outputs": [
    {
     "data": {
      "text/plain": [
       "'economics'"
      ]
     },
     "execution_count": 38,
     "metadata": {},
     "output_type": "execute_result"
    }
   ],
   "source": [
    "x[1] # x 중 첫번째 값 불러와"
   ]
  },
  {
   "cell_type": "code",
   "execution_count": 39,
   "id": "34c9c482",
   "metadata": {},
   "outputs": [
    {
     "data": {
      "text/plain": [
       "10"
      ]
     },
     "execution_count": 39,
     "metadata": {},
     "output_type": "execute_result"
    }
   ],
   "source": [
    "x[0] # 파이썬은 0번째 값부터 시작함"
   ]
  },
  {
   "cell_type": "code",
   "execution_count": 41,
   "id": "0fd86416",
   "metadata": {},
   "outputs": [
    {
     "data": {
      "text/plain": [
       "[10]"
      ]
     },
     "execution_count": 41,
     "metadata": {},
     "output_type": "execute_result"
    }
   ],
   "source": [
    "x[0:1] # 콜론을 잘 이해해야함, 0에서 시작해서 1을 제외한 바로 앞 의 값 까지 가져와 라는 뜻."
   ]
  },
  {
   "cell_type": "code",
   "execution_count": 42,
   "id": "8b744a08",
   "metadata": {},
   "outputs": [
    {
     "data": {
      "text/plain": [
       "[10, 'economics']"
      ]
     },
     "execution_count": 42,
     "metadata": {},
     "output_type": "execute_result"
    }
   ],
   "source": [
    "x[0:2]"
   ]
  },
  {
   "cell_type": "code",
   "execution_count": 43,
   "id": "708078ed",
   "metadata": {},
   "outputs": [
    {
     "data": {
      "text/plain": [
       "[10, 'economics', False]"
      ]
     },
     "execution_count": 43,
     "metadata": {},
     "output_type": "execute_result"
    }
   ],
   "source": [
    "x[0:3]"
   ]
  },
  {
   "cell_type": "code",
   "execution_count": 45,
   "id": "2aa961cb",
   "metadata": {},
   "outputs": [
    {
     "data": {
      "text/plain": [
       "False"
      ]
     },
     "execution_count": 45,
     "metadata": {},
     "output_type": "execute_result"
    }
   ],
   "source": [
    "x[-1] # 음수를 쓰면 뒤쪽부터 가져올 수 있다"
   ]
  },
  {
   "cell_type": "code",
   "execution_count": 48,
   "id": "b2bc201a",
   "metadata": {},
   "outputs": [
    {
     "data": {
      "text/plain": [
       "[10, 'economics', False, 21, 21, 21]"
      ]
     },
     "execution_count": 48,
     "metadata": {},
     "output_type": "execute_result"
    }
   ],
   "source": [
    "# list는 값을 변경하거나 추가할 수 있음 \n",
    "# 추가하기: append()\n",
    "\n",
    "x.append(21)\n",
    "x\n",
    "# x의 마지막에 21에 추가되었다"
   ]
  },
  {
   "cell_type": "code",
   "execution_count": 49,
   "id": "ec1cd68b",
   "metadata": {},
   "outputs": [
    {
     "data": {
      "text/plain": [
       "[15, 'economics', False, 21, 21, 21]"
      ]
     },
     "execution_count": 49,
     "metadata": {},
     "output_type": "execute_result"
    }
   ],
   "source": [
    "# 변경하기\n",
    "\n",
    "x[0]=15 # x의 0번째 값을 15로 바꿔라\n",
    "x"
   ]
  },
  {
   "cell_type": "markdown",
   "id": "443437d0",
   "metadata": {},
   "source": [
    "#### tuple은 다음 시간에"
   ]
  },
  {
   "cell_type": "code",
   "execution_count": null,
   "id": "0abf98bf",
   "metadata": {},
   "outputs": [],
   "source": []
  },
  {
   "cell_type": "code",
   "execution_count": null,
   "id": "3c82ca42",
   "metadata": {},
   "outputs": [],
   "source": []
  },
  {
   "cell_type": "code",
   "execution_count": null,
   "id": "faf222e0",
   "metadata": {},
   "outputs": [],
   "source": []
  },
  {
   "cell_type": "code",
   "execution_count": null,
   "id": "0688982f",
   "metadata": {},
   "outputs": [],
   "source": []
  },
  {
   "cell_type": "code",
   "execution_count": null,
   "id": "afc28f8f",
   "metadata": {},
   "outputs": [],
   "source": []
  },
  {
   "cell_type": "code",
   "execution_count": null,
   "id": "38430306",
   "metadata": {},
   "outputs": [],
   "source": []
  },
  {
   "cell_type": "code",
   "execution_count": null,
   "id": "bb35dc50",
   "metadata": {},
   "outputs": [],
   "source": []
  },
  {
   "cell_type": "code",
   "execution_count": null,
   "id": "3d437c53",
   "metadata": {},
   "outputs": [],
   "source": []
  },
  {
   "cell_type": "code",
   "execution_count": null,
   "id": "e466ecd4",
   "metadata": {},
   "outputs": [],
   "source": []
  },
  {
   "cell_type": "code",
   "execution_count": null,
   "id": "fdce705a",
   "metadata": {},
   "outputs": [],
   "source": []
  }
 ],
 "metadata": {
  "kernelspec": {
   "display_name": "Python 3 (ipykernel)",
   "language": "python",
   "name": "python3"
  },
  "language_info": {
   "codemirror_mode": {
    "name": "ipython",
    "version": 3
   },
   "file_extension": ".py",
   "mimetype": "text/x-python",
   "name": "python",
   "nbconvert_exporter": "python",
   "pygments_lexer": "ipython3",
   "version": "3.9.13"
  }
 },
 "nbformat": 4,
 "nbformat_minor": 5
}
