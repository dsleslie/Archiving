{
 "cells": [
  {
   "cell_type": "code",
   "execution_count": 2,
   "id": "2ac75e42",
   "metadata": {},
   "outputs": [],
   "source": [
    "import pandas as pd\n",
    "import numpy as np\n",
    "import numpy_financial as npf\n",
    "import seaborn as sns\n",
    "import matplotlib.pyplot as plt\n",
    "import statsmodels.api as sm\n",
    "from sklearn.model_selection import train_test_split\n",
    "import warnings\n",
    "warnings.filterwarnings(\"ignore\")\n",
    "from numpy import *\n",
    "\n",
    "from ggplot import *\n",
    "from scipy.stats import logistic\n",
    "from sklearn.metrics import roc_curve\n",
    "from sklearn.metrics import roc_auc_score\n",
    "from sklearn.linear_model import LogisticRegression\n",
    "from sklearn.metrics import confusion_matrix, mean_squared_error\n",
    "from sklearn.model_selection import train_test_split\n",
    "from sklearn import preprocessing\n",
    "from sklearn.neighbors import KNeighborsClassifier\n",
    "from sklearn.naive_bayes import *\n",
    "from sklearn.tree import DecisionTreeClassifier, DecisionTreeRegressor, export_graphviz\n",
    "import graphviz\n",
    "from sklearn.ensemble import RandomForestRegressor, RandomForestClassifier\n",
    "from sklearn.svm import SVC, SVR\n",
    "from sklearn.cluster import KMeans\n",
    "from sklearn.preprocessing import StandardScaler\n",
    "\n",
    "\n",
    "from linearmodels.iv import IV2SLS\n",
    "from scipy import stats\n",
    "from scipy.stats import trim_mean #trimmed mean\n",
    "from scipy.stats import *\n",
    "\n",
    "import keyword\n",
    "\n",
    "#open api 불러올 때 필요한 것\n",
    "from urllib.request import urlopen #request package 설치\n",
    "from bs4 import BeautifulSoup #bs4 package 설치\n",
    "\n",
    "# 그래프에서 한글 깨지지 않기 위헤 사용함\n",
    "from matplotlib import rcParams\n",
    "from matplotlib import font_manager,rc\n",
    "\n",
    "rcParams['axes.unicode_minus']=False\n",
    "plt.rcParams['font.family']='Malgun Gothic'\n",
    "font_name=font_manager.FontProperties(fname='c:/Windows/Fonts/malgun.ttf').get_name()\n",
    "rc('font',family=font_name)\n",
    "\n",
    "import FinanceDataReader as fdr\n",
    "import plotly.graph_objects as go\n",
    "import plotly.subplots as ms\n",
    "import math"
   ]
  },
  {
   "cell_type": "markdown",
   "id": "35a771eb",
   "metadata": {},
   "source": [
    "# LN7 : 주가수익률 분포(2)\n",
    "## 2 주가등락을 이항분포로 설명\n",
    "- 주가등락은 매일은 베르누이 시행, 누적되면 이항분포\n",
    "- 이항분포의 성공확률 p를 알기 위해 과거 데이터를 사용한다"
   ]
  },
  {
   "cell_type": "code",
   "execution_count": 8,
   "id": "ccc5a15d",
   "metadata": {},
   "outputs": [
    {
     "data": {
      "text/html": [
       "<div>\n",
       "<style scoped>\n",
       "    .dataframe tbody tr th:only-of-type {\n",
       "        vertical-align: middle;\n",
       "    }\n",
       "\n",
       "    .dataframe tbody tr th {\n",
       "        vertical-align: top;\n",
       "    }\n",
       "\n",
       "    .dataframe thead th {\n",
       "        text-align: right;\n",
       "    }\n",
       "</style>\n",
       "<table border=\"1\" class=\"dataframe\">\n",
       "  <thead>\n",
       "    <tr style=\"text-align: right;\">\n",
       "      <th></th>\n",
       "      <th>Open</th>\n",
       "      <th>High</th>\n",
       "      <th>Low</th>\n",
       "      <th>Close</th>\n",
       "      <th>Volume</th>\n",
       "      <th>Change</th>\n",
       "    </tr>\n",
       "    <tr>\n",
       "      <th>Date</th>\n",
       "      <th></th>\n",
       "      <th></th>\n",
       "      <th></th>\n",
       "      <th></th>\n",
       "      <th></th>\n",
       "      <th></th>\n",
       "    </tr>\n",
       "  </thead>\n",
       "  <tbody>\n",
       "    <tr>\n",
       "      <th>2010-01-04</th>\n",
       "      <td>16060</td>\n",
       "      <td>16180</td>\n",
       "      <td>16000</td>\n",
       "      <td>16180</td>\n",
       "      <td>239271</td>\n",
       "      <td>0.012516</td>\n",
       "    </tr>\n",
       "    <tr>\n",
       "      <th>2010-01-05</th>\n",
       "      <td>16520</td>\n",
       "      <td>16580</td>\n",
       "      <td>16300</td>\n",
       "      <td>16440</td>\n",
       "      <td>559219</td>\n",
       "      <td>0.016069</td>\n",
       "    </tr>\n",
       "    <tr>\n",
       "      <th>2010-01-06</th>\n",
       "      <td>16580</td>\n",
       "      <td>16820</td>\n",
       "      <td>16520</td>\n",
       "      <td>16820</td>\n",
       "      <td>459755</td>\n",
       "      <td>0.023114</td>\n",
       "    </tr>\n",
       "    <tr>\n",
       "      <th>2010-01-07</th>\n",
       "      <td>16820</td>\n",
       "      <td>16820</td>\n",
       "      <td>16260</td>\n",
       "      <td>16260</td>\n",
       "      <td>443237</td>\n",
       "      <td>-0.033294</td>\n",
       "    </tr>\n",
       "    <tr>\n",
       "      <th>2010-01-08</th>\n",
       "      <td>16400</td>\n",
       "      <td>16420</td>\n",
       "      <td>16120</td>\n",
       "      <td>16420</td>\n",
       "      <td>295798</td>\n",
       "      <td>0.009840</td>\n",
       "    </tr>\n",
       "  </tbody>\n",
       "</table>\n",
       "</div>"
      ],
      "text/plain": [
       "             Open   High    Low  Close  Volume    Change\n",
       "Date                                                    \n",
       "2010-01-04  16060  16180  16000  16180  239271  0.012516\n",
       "2010-01-05  16520  16580  16300  16440  559219  0.016069\n",
       "2010-01-06  16580  16820  16520  16820  459755  0.023114\n",
       "2010-01-07  16820  16820  16260  16260  443237 -0.033294\n",
       "2010-01-08  16400  16420  16120  16420  295798  0.009840"
      ]
     },
     "execution_count": 8,
     "metadata": {},
     "output_type": "execute_result"
    }
   ],
   "source": [
    "# 데이터를 불러올 때\n",
    "# date를 인덱스 칼럼으로 지정하고, index_col='Date'\n",
    "# 그 칼럼이 날짜로 되어있는걸 알려주면서 하자, parse_dates=True\n",
    "\n",
    "df=pd.read_csv('c:/temp/samsung_LN7.csv',index_col='Date', parse_dates=True)\n",
    "df.head()"
   ]
  },
  {
   "cell_type": "code",
   "execution_count": 9,
   "id": "96f147d7",
   "metadata": {},
   "outputs": [
    {
     "data": {
      "text/html": [
       "<div>\n",
       "<style scoped>\n",
       "    .dataframe tbody tr th:only-of-type {\n",
       "        vertical-align: middle;\n",
       "    }\n",
       "\n",
       "    .dataframe tbody tr th {\n",
       "        vertical-align: top;\n",
       "    }\n",
       "\n",
       "    .dataframe thead th {\n",
       "        text-align: right;\n",
       "    }\n",
       "</style>\n",
       "<table border=\"1\" class=\"dataframe\">\n",
       "  <thead>\n",
       "    <tr style=\"text-align: right;\">\n",
       "      <th></th>\n",
       "      <th>Open</th>\n",
       "      <th>High</th>\n",
       "      <th>Low</th>\n",
       "      <th>Close</th>\n",
       "      <th>Volume</th>\n",
       "      <th>Change</th>\n",
       "    </tr>\n",
       "    <tr>\n",
       "      <th>Date</th>\n",
       "      <th></th>\n",
       "      <th></th>\n",
       "      <th></th>\n",
       "      <th></th>\n",
       "      <th></th>\n",
       "      <th></th>\n",
       "    </tr>\n",
       "  </thead>\n",
       "  <tbody>\n",
       "    <tr>\n",
       "      <th>2021-01-04</th>\n",
       "      <td>81000</td>\n",
       "      <td>84400</td>\n",
       "      <td>80200</td>\n",
       "      <td>83000</td>\n",
       "      <td>38655276</td>\n",
       "      <td>0.024691</td>\n",
       "    </tr>\n",
       "    <tr>\n",
       "      <th>2021-01-05</th>\n",
       "      <td>81600</td>\n",
       "      <td>83900</td>\n",
       "      <td>81600</td>\n",
       "      <td>83900</td>\n",
       "      <td>35335669</td>\n",
       "      <td>0.010843</td>\n",
       "    </tr>\n",
       "    <tr>\n",
       "      <th>2021-01-06</th>\n",
       "      <td>83300</td>\n",
       "      <td>84500</td>\n",
       "      <td>82100</td>\n",
       "      <td>82200</td>\n",
       "      <td>42089013</td>\n",
       "      <td>-0.020262</td>\n",
       "    </tr>\n",
       "    <tr>\n",
       "      <th>2021-01-07</th>\n",
       "      <td>82800</td>\n",
       "      <td>84200</td>\n",
       "      <td>82700</td>\n",
       "      <td>82900</td>\n",
       "      <td>32644642</td>\n",
       "      <td>0.008516</td>\n",
       "    </tr>\n",
       "    <tr>\n",
       "      <th>2021-01-08</th>\n",
       "      <td>83300</td>\n",
       "      <td>90000</td>\n",
       "      <td>83000</td>\n",
       "      <td>88800</td>\n",
       "      <td>59013307</td>\n",
       "      <td>0.071170</td>\n",
       "    </tr>\n",
       "  </tbody>\n",
       "</table>\n",
       "</div>"
      ],
      "text/plain": [
       "             Open   High    Low  Close    Volume    Change\n",
       "Date                                                      \n",
       "2021-01-04  81000  84400  80200  83000  38655276  0.024691\n",
       "2021-01-05  81600  83900  81600  83900  35335669  0.010843\n",
       "2021-01-06  83300  84500  82100  82200  42089013 -0.020262\n",
       "2021-01-07  82800  84200  82700  82900  32644642  0.008516\n",
       "2021-01-08  83300  90000  83000  88800  59013307  0.071170"
      ]
     },
     "execution_count": 9,
     "metadata": {},
     "output_type": "execute_result"
    }
   ],
   "source": [
    "# 최근 1년치만 가지고 p를 계산해보자\n",
    "# 2021-01-01: 2021-12-31\n",
    "# loc: label을 이용해서 가져오는 방식\n",
    "df1=df.loc['2021-01-01':'2021-12-31']\n",
    "df1.head()"
   ]
  },
  {
   "cell_type": "code",
   "execution_count": 12,
   "id": "07e147f3",
   "metadata": {},
   "outputs": [
    {
     "data": {
      "text/html": [
       "<div>\n",
       "<style scoped>\n",
       "    .dataframe tbody tr th:only-of-type {\n",
       "        vertical-align: middle;\n",
       "    }\n",
       "\n",
       "    .dataframe tbody tr th {\n",
       "        vertical-align: top;\n",
       "    }\n",
       "\n",
       "    .dataframe thead th {\n",
       "        text-align: right;\n",
       "    }\n",
       "</style>\n",
       "<table border=\"1\" class=\"dataframe\">\n",
       "  <thead>\n",
       "    <tr style=\"text-align: right;\">\n",
       "      <th></th>\n",
       "      <th>Open</th>\n",
       "      <th>High</th>\n",
       "      <th>Low</th>\n",
       "      <th>Close</th>\n",
       "      <th>Volume</th>\n",
       "      <th>Change</th>\n",
       "      <th>ret</th>\n",
       "    </tr>\n",
       "    <tr>\n",
       "      <th>Date</th>\n",
       "      <th></th>\n",
       "      <th></th>\n",
       "      <th></th>\n",
       "      <th></th>\n",
       "      <th></th>\n",
       "      <th></th>\n",
       "      <th></th>\n",
       "    </tr>\n",
       "  </thead>\n",
       "  <tbody>\n",
       "    <tr>\n",
       "      <th>2021-01-04</th>\n",
       "      <td>81000</td>\n",
       "      <td>84400</td>\n",
       "      <td>80200</td>\n",
       "      <td>83000</td>\n",
       "      <td>38655276</td>\n",
       "      <td>0.024691</td>\n",
       "      <td>NaN</td>\n",
       "    </tr>\n",
       "    <tr>\n",
       "      <th>2021-01-05</th>\n",
       "      <td>81600</td>\n",
       "      <td>83900</td>\n",
       "      <td>81600</td>\n",
       "      <td>83900</td>\n",
       "      <td>35335669</td>\n",
       "      <td>0.010843</td>\n",
       "      <td>1.084337</td>\n",
       "    </tr>\n",
       "    <tr>\n",
       "      <th>2021-01-06</th>\n",
       "      <td>83300</td>\n",
       "      <td>84500</td>\n",
       "      <td>82100</td>\n",
       "      <td>82200</td>\n",
       "      <td>42089013</td>\n",
       "      <td>-0.020262</td>\n",
       "      <td>-2.026222</td>\n",
       "    </tr>\n",
       "    <tr>\n",
       "      <th>2021-01-07</th>\n",
       "      <td>82800</td>\n",
       "      <td>84200</td>\n",
       "      <td>82700</td>\n",
       "      <td>82900</td>\n",
       "      <td>32644642</td>\n",
       "      <td>0.008516</td>\n",
       "      <td>0.851582</td>\n",
       "    </tr>\n",
       "    <tr>\n",
       "      <th>2021-01-08</th>\n",
       "      <td>83300</td>\n",
       "      <td>90000</td>\n",
       "      <td>83000</td>\n",
       "      <td>88800</td>\n",
       "      <td>59013307</td>\n",
       "      <td>0.071170</td>\n",
       "      <td>7.117008</td>\n",
       "    </tr>\n",
       "  </tbody>\n",
       "</table>\n",
       "</div>"
      ],
      "text/plain": [
       "             Open   High    Low  Close    Volume    Change       ret\n",
       "Date                                                                \n",
       "2021-01-04  81000  84400  80200  83000  38655276  0.024691       NaN\n",
       "2021-01-05  81600  83900  81600  83900  35335669  0.010843  1.084337\n",
       "2021-01-06  83300  84500  82100  82200  42089013 -0.020262 -2.026222\n",
       "2021-01-07  82800  84200  82700  82900  32644642  0.008516  0.851582\n",
       "2021-01-08  83300  90000  83000  88800  59013307  0.071170  7.117008"
      ]
     },
     "execution_count": 12,
     "metadata": {},
     "output_type": "execute_result"
    }
   ],
   "source": [
    "# return 수익률 r\n",
    "# 양수면 주가 상승, 음수면 주가하락\n",
    "# python에서 계산 가능\n",
    "\n",
    "df1['ret']=100*(df1['Close'].pct_change())\n",
    "df1.head()"
   ]
  },
  {
   "cell_type": "code",
   "execution_count": 13,
   "id": "aa929b63",
   "metadata": {},
   "outputs": [],
   "source": [
    "# ret 변수 만들어짐\n",
    "# 2021-01-04는 결측치일 수 밖에 없음, 앞에 데이터가 없으니까"
   ]
  },
  {
   "cell_type": "code",
   "execution_count": 14,
   "id": "6d875802",
   "metadata": {},
   "outputs": [
    {
     "data": {
      "text/plain": [
       "Date\n",
       "2021-01-04         NaN\n",
       "2021-01-05    1.084337\n",
       "2021-01-06   -2.026222\n",
       "2021-01-07    0.851582\n",
       "2021-01-08    7.117008\n",
       "                ...   \n",
       "2021-12-24    0.750939\n",
       "2021-12-27   -0.372671\n",
       "2021-12-28    0.124688\n",
       "2021-12-29   -1.867995\n",
       "2021-12-30   -0.634518\n",
       "Name: ret, Length: 248, dtype: float64"
      ]
     },
     "execution_count": 14,
     "metadata": {},
     "output_type": "execute_result"
    }
   ],
   "source": [
    "df2=df1['ret'] # return 만 있는 데이터 프레임\n",
    "df2"
   ]
  },
  {
   "cell_type": "code",
   "execution_count": 15,
   "id": "f613b202",
   "metadata": {},
   "outputs": [
    {
     "data": {
      "text/plain": [
       "Date\n",
       "2021-01-05    1.084337\n",
       "2021-01-06   -2.026222\n",
       "2021-01-07    0.851582\n",
       "2021-01-08    7.117008\n",
       "2021-01-11    2.477477\n",
       "                ...   \n",
       "2021-12-24    0.750939\n",
       "2021-12-27   -0.372671\n",
       "2021-12-28    0.124688\n",
       "2021-12-29   -1.867995\n",
       "2021-12-30   -0.634518\n",
       "Name: ret, Length: 247, dtype: float64"
      ]
     },
     "execution_count": 15,
     "metadata": {},
     "output_type": "execute_result"
    }
   ],
   "source": [
    "r=df2.dropna() # dropna(): 결측치만 없애겠다\n",
    "r"
   ]
  },
  {
   "cell_type": "code",
   "execution_count": 16,
   "id": "1d1eaba0",
   "metadata": {},
   "outputs": [
    {
     "data": {
      "text/plain": [
       "247"
      ]
     },
     "execution_count": 16,
     "metadata": {},
     "output_type": "execute_result"
    }
   ],
   "source": [
    "# r: 필요한 data가 들어있는 데이터 프레임이다!!\n",
    "len(r) # r의 길이 = 2022년의 영업일"
   ]
  },
  {
   "cell_type": "code",
   "execution_count": 17,
   "id": "0afbb6b5",
   "metadata": {},
   "outputs": [
    {
     "data": {
      "text/plain": [
       "count    247.000000\n",
       "mean      -0.014333\n",
       "std        1.369006\n",
       "min       -3.496503\n",
       "25%       -0.731262\n",
       "50%       -0.123305\n",
       "75%        0.724664\n",
       "max        7.117008\n",
       "Name: ret, dtype: float64"
      ]
     },
     "execution_count": 17,
     "metadata": {},
     "output_type": "execute_result"
    }
   ],
   "source": [
    "# r에 247일 동안 주가가 오르고 내린게 기록되어 있는 것\n",
    "\n",
    "r.describe()"
   ]
  },
  {
   "cell_type": "code",
   "execution_count": 20,
   "id": "f05e6a1a",
   "metadata": {},
   "outputs": [
    {
     "data": {
      "text/plain": [
       "110"
      ]
     },
     "execution_count": 20,
     "metadata": {},
     "output_type": "execute_result"
    }
   ],
   "source": [
    "# 2022년 평균적으로는 -0.01%,,, 거의 평균 수익률은 0\n",
    "\n",
    "# 알고 싶은 것: 247일 동안 몇 일 동안 + 인가\n",
    "# + 인게 몇 개인지 계산하기\n",
    "positive_count=(r>0).sum()\n",
    "positive_count"
   ]
  },
  {
   "cell_type": "code",
   "execution_count": 21,
   "id": "1cabaa4c",
   "metadata": {},
   "outputs": [],
   "source": [
    "# 2021년 1년동안 110일만큼은 주가가 증가함"
   ]
  },
  {
   "cell_type": "code",
   "execution_count": 22,
   "id": "05e29560",
   "metadata": {},
   "outputs": [
    {
     "data": {
      "text/plain": [
       "0.44534412955465585"
      ]
     },
     "execution_count": 22,
     "metadata": {},
     "output_type": "execute_result"
    }
   ],
   "source": [
    "110/247 # 주가가 오를 확률"
   ]
  },
  {
   "cell_type": "code",
   "execution_count": 24,
   "id": "301b4cbe",
   "metadata": {},
   "outputs": [
    {
     "data": {
      "text/plain": [
       "0.2716904775542357"
      ]
     },
     "execution_count": 24,
     "metadata": {},
     "output_type": "execute_result"
    }
   ],
   "source": [
    "# p = 0.4453\n",
    "# 5일간 삼전 보유할 예정, 그중에서 3일이 주가가 상승할 확률은 얼마인가?\n",
    "prob=math.comb(5,3)*(0.4453**3)*(1-0.4453)**2\n",
    "prob"
   ]
  },
  {
   "cell_type": "code",
   "execution_count": 25,
   "id": "0823c113",
   "metadata": {},
   "outputs": [],
   "source": [
    "# 27%"
   ]
  },
  {
   "cell_type": "markdown",
   "id": "816fee53",
   "metadata": {},
   "source": [
    "## 3 합의 표준오차\n",
    "\n",
    "- 이항분포는 정규분포로 근사 가능\n",
    "- 정규분포 이용해서 확률 구할 수 있음\n",
    "- 정규분포의 평균, 표준오차를 알아야 함\n",
    "\n",
    "### 평균\n",
    "- 필참\n",
    "### 합의 표준오차\n",
    "- 필참\n",
    "- 손계산 or python으로 계산\n",
    "- 합(며칠이 오를꺼냐)"
   ]
  },
  {
   "cell_type": "code",
   "execution_count": 27,
   "id": "a99a0058",
   "metadata": {},
   "outputs": [
    {
     "data": {
      "text/plain": [
       "0.4969989034193134"
      ]
     },
     "execution_count": 27,
     "metadata": {},
     "output_type": "execute_result"
    }
   ],
   "source": [
    "# 합의 표준오차 손 계산\n",
    "# 먼저 상자의 분산 varX 계산\n",
    "varX=0.4453-(0.4453**2)\n",
    "sdX=np.sqrt(varX)\n",
    "sdX # 상자의 표준편차"
   ]
  },
  {
   "cell_type": "code",
   "execution_count": 29,
   "id": "fd8b02b7",
   "metadata": {},
   "outputs": [
    {
     "data": {
      "text/plain": [
       "4.969989034193134"
      ]
     },
     "execution_count": 29,
     "metadata": {},
     "output_type": "execute_result"
    }
   ],
   "source": [
    "# 합의 표준오차 = 상자의 표준편차*sqrt(시행횟수)\n",
    "se=sdX*np.sqrt(100)\n",
    "se"
   ]
  },
  {
   "cell_type": "code",
   "execution_count": 31,
   "id": "0c56baad",
   "metadata": {},
   "outputs": [],
   "source": [
    "# 우리에게 필요한 합의 정규분포: 평균 44.53, 표준오차가 4.969인 분포가 된다\n",
    "# 평균적으로 44일 정도 오르는데 +-5일정도 오차가 있다..는 뜻"
   ]
  },
  {
   "cell_type": "markdown",
   "id": "dd825977",
   "metadata": {},
   "source": [
    "## 4 비율의 표준오차\n",
    "\n",
    "- 100일 동안 보유할껀데, 주가가 100일 중에 주가가 오르는 날의 비율이 몇 퍼센트야?\n",
    "- 247일간 보유할건데, 이 중에 주가가 오를 확률은 44.5%(아까꼐산한거) 임. \n",
    "- 비율에 대한 평균과 표준오차 계산하는 것\n",
    "\n",
    "### 평균\n",
    "- 필참"
   ]
  },
  {
   "cell_type": "code",
   "execution_count": 32,
   "id": "6ec3998b",
   "metadata": {},
   "outputs": [
    {
     "name": "stdout",
     "output_type": "stream",
     "text": [
      "0.03162328294613793\n"
     ]
    }
   ],
   "source": [
    "# 비율의 표준오차를 계산한다.\n",
    "# 삼성전자 주식을 247일(1년)동안 보유한다고 가정한다.\n",
    "# 주가가 오른 날의 비율 ~ 평균=0.4453, 표준오차?\n",
    "\n",
    "#표준오차\n",
    "se_ratio=sdX/np.sqrt(247)\n",
    "print(se_ratio)"
   ]
  },
  {
   "cell_type": "code",
   "execution_count": 33,
   "id": "56b52466",
   "metadata": {},
   "outputs": [],
   "source": [
    "# 평균적으로는 44.53%라고 오르는 비율이지만, +- 3.1% 정도는 왔다갔다 한다."
   ]
  },
  {
   "cell_type": "markdown",
   "id": "50871f41",
   "metadata": {},
   "source": [
    "## 5 최대 예상손실액 구하기\n",
    "\n",
    "- 최대예상손실액 = VaR = Value at Risk\n",
    "- VaR: 위험관리를 위해 만들어진 개념, 정상적인 시장 하에서 일정기간동안 발새알 수 있는 최대손실금액을 의미\n",
    "- 95% VaR=1,000만원 : 해당 자산의 가치변동으로 인해 6개월 동안 발생가능할 수 있는 최대 손실금액이 1000만원을 넘지 않을 확률이 95% = 손실금액이 1000만원 초과할 확률이 5%\n",
    "- 근데 5%의 확률로 손실하는 1000만원이라는 값!! 은 어케 나온거임?\n",
    "- 근거가 있어야함. 과거의 데이터에서 온 것\n",
    "- 삼전 과거 10년치를 봤음, 봤더니 극단적인 상황이 나올 가능성이 가령 5%의 가능성으로 극단적인 -나오는게 어느정도인지 보는 것\n",
    "- 왼쪽 꼬리 가 5%정도인 -수익률이 얼마냐라는 것\n",
    "\n",
    "> 구하는 방법\n",
    "1) bootstrapping\n"
   ]
  },
  {
   "cell_type": "code",
   "execution_count": null,
   "id": "9b2da16a",
   "metadata": {},
   "outputs": [],
   "source": []
  },
  {
   "cell_type": "code",
   "execution_count": null,
   "id": "2ba88cd7",
   "metadata": {},
   "outputs": [],
   "source": []
  },
  {
   "cell_type": "code",
   "execution_count": null,
   "id": "8285a114",
   "metadata": {},
   "outputs": [],
   "source": []
  },
  {
   "cell_type": "code",
   "execution_count": null,
   "id": "3b72a73c",
   "metadata": {},
   "outputs": [],
   "source": []
  },
  {
   "cell_type": "code",
   "execution_count": null,
   "id": "fb0516f3",
   "metadata": {},
   "outputs": [],
   "source": []
  },
  {
   "cell_type": "code",
   "execution_count": null,
   "id": "e1d7525b",
   "metadata": {},
   "outputs": [],
   "source": []
  },
  {
   "cell_type": "code",
   "execution_count": null,
   "id": "32c54b59",
   "metadata": {},
   "outputs": [],
   "source": []
  },
  {
   "cell_type": "code",
   "execution_count": null,
   "id": "ee734e4e",
   "metadata": {},
   "outputs": [],
   "source": []
  },
  {
   "cell_type": "code",
   "execution_count": null,
   "id": "93ccb52d",
   "metadata": {},
   "outputs": [],
   "source": []
  },
  {
   "cell_type": "code",
   "execution_count": null,
   "id": "3a405482",
   "metadata": {},
   "outputs": [],
   "source": []
  },
  {
   "cell_type": "code",
   "execution_count": null,
   "id": "f5bc7855",
   "metadata": {},
   "outputs": [],
   "source": []
  }
 ],
 "metadata": {
  "kernelspec": {
   "display_name": "Python 3 (ipykernel)",
   "language": "python",
   "name": "python3"
  },
  "language_info": {
   "codemirror_mode": {
    "name": "ipython",
    "version": 3
   },
   "file_extension": ".py",
   "mimetype": "text/x-python",
   "name": "python",
   "nbconvert_exporter": "python",
   "pygments_lexer": "ipython3",
   "version": "3.9.13"
  }
 },
 "nbformat": 4,
 "nbformat_minor": 5
}
