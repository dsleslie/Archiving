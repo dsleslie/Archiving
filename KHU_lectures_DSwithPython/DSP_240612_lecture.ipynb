{
 "cells": [
  {
   "cell_type": "code",
   "execution_count": 30,
   "id": "5498841c",
   "metadata": {},
   "outputs": [],
   "source": [
    "import pandas as pd\n",
    "import numpy as np\n",
    "import numpy_financial as npf\n",
    "import seaborn as sns\n",
    "import matplotlib.pyplot as plt\n",
    "import statsmodels.api as sm\n",
    "from statsmodels.formula.api import ols\n",
    "from sklearn.model_selection import train_test_split\n",
    "import warnings\n",
    "warnings.filterwarnings(\"ignore\")\n",
    "from numpy import *\n",
    "\n",
    "from ggplot import *\n",
    "from scipy.stats import logistic\n",
    "from sklearn.metrics import roc_curve\n",
    "from sklearn.metrics import roc_auc_score\n",
    "from sklearn.linear_model import LogisticRegression\n",
    "from sklearn.metrics import confusion_matrix, mean_squared_error\n",
    "from sklearn.model_selection import train_test_split\n",
    "from sklearn import preprocessing\n",
    "from sklearn.neighbors import KNeighborsClassifier\n",
    "from sklearn.naive_bayes import *\n",
    "from sklearn.tree import DecisionTreeClassifier, DecisionTreeRegressor, export_graphviz\n",
    "import graphviz\n",
    "from sklearn.ensemble import RandomForestRegressor, RandomForestClassifier\n",
    "from sklearn.svm import SVC, SVR\n",
    "from sklearn.cluster import KMeans\n",
    "from sklearn.preprocessing import StandardScaler\n",
    "from sklearn.preprocessing import MinMaxScaler\n",
    "\n",
    "\n",
    "from linearmodels.iv import IV2SLS\n",
    "from scipy import stats\n",
    "from scipy.stats import trim_mean #trimmed mean\n",
    "from scipy.stats import * #chi2_contingency로 카이제곱통계량계산\n",
    "from scipy.stats import norm\n",
    "\n",
    "import keyword\n",
    "import random\n",
    "\n",
    "#open api 불러올 때 필요한 것\n",
    "from urllib.request import urlopen #request package 설치\n",
    "from bs4 import BeautifulSoup #bs4 package 설치\n",
    "\n",
    "# 그래프에서 한글 깨지지 않기 위헤 사용함\n",
    "from matplotlib import rcParams\n",
    "from matplotlib import font_manager,rc\n",
    "\n",
    "rcParams['axes.unicode_minus']=False\n",
    "plt.rcParams['font.family']='Malgun Gothic'\n",
    "font_name=font_manager.FontProperties(fname='c:/Windows/Fonts/malgun.ttf').get_name()\n",
    "rc('font',family=font_name)\n",
    "\n",
    "import FinanceDataReader as fdr\n",
    "import plotly.graph_objects as go\n",
    "import plotly.subplots as ms\n",
    "import math\n",
    "\n",
    "import tensorflow as tf\n",
    "\n",
    "import qgrid"
   ]
  },
  {
   "cell_type": "markdown",
   "id": "8cf379f6",
   "metadata": {},
   "source": [
    "# Lecture 14 회귀분석과 머신러닝\n",
    "- LN13: binary 종속변수\n",
    "- 전통적 계량방식 sm.logit 저번에 했음 MLE\n",
    "- 오늘은 ML로다가 해본다. 경사하강법쓴다."
   ]
  },
  {
   "cell_type": "code",
   "execution_count": 31,
   "id": "9dc685e9",
   "metadata": {},
   "outputs": [],
   "source": [
    "# part 2 실습"
   ]
  },
  {
   "cell_type": "code",
   "execution_count": 32,
   "id": "23fb8236",
   "metadata": {},
   "outputs": [
    {
     "data": {
      "text/plain": [
       "0.7310585786300049"
      ]
     },
     "execution_count": 32,
     "metadata": {},
     "output_type": "execute_result"
    }
   ],
   "source": [
    "def sigmoid(z):\n",
    "    return 1/(1+np.exp(-z)) # 이 값은 무조건 0~1의 값이 나오게 된다\n",
    "sigmoid(1)"
   ]
  },
  {
   "cell_type": "code",
   "execution_count": 33,
   "id": "4ecd401f",
   "metadata": {},
   "outputs": [],
   "source": [
    "# 73%"
   ]
  },
  {
   "cell_type": "code",
   "execution_count": 34,
   "id": "d93634ab",
   "metadata": {},
   "outputs": [
    {
     "data": {
      "text/plain": [
       "array([-6.00000000e+00, -5.80000000e+00, -5.60000000e+00, -5.40000000e+00,\n",
       "       -5.20000000e+00, -5.00000000e+00, -4.80000000e+00, -4.60000000e+00,\n",
       "       -4.40000000e+00, -4.20000000e+00, -4.00000000e+00, -3.80000000e+00,\n",
       "       -3.60000000e+00, -3.40000000e+00, -3.20000000e+00, -3.00000000e+00,\n",
       "       -2.80000000e+00, -2.60000000e+00, -2.40000000e+00, -2.20000000e+00,\n",
       "       -2.00000000e+00, -1.80000000e+00, -1.60000000e+00, -1.40000000e+00,\n",
       "       -1.20000000e+00, -1.00000000e+00, -8.00000000e-01, -6.00000000e-01,\n",
       "       -4.00000000e-01, -2.00000000e-01,  5.32907052e-15,  2.00000000e-01,\n",
       "        4.00000000e-01,  6.00000000e-01,  8.00000000e-01,  1.00000000e+00,\n",
       "        1.20000000e+00,  1.40000000e+00,  1.60000000e+00,  1.80000000e+00,\n",
       "        2.00000000e+00,  2.20000000e+00,  2.40000000e+00,  2.60000000e+00,\n",
       "        2.80000000e+00,  3.00000000e+00,  3.20000000e+00,  3.40000000e+00,\n",
       "        3.60000000e+00,  3.80000000e+00,  4.00000000e+00,  4.20000000e+00,\n",
       "        4.40000000e+00,  4.60000000e+00,  4.80000000e+00,  5.00000000e+00,\n",
       "        5.20000000e+00,  5.40000000e+00,  5.60000000e+00,  5.80000000e+00])"
      ]
     },
     "execution_count": 34,
     "metadata": {},
     "output_type": "execute_result"
    }
   ],
   "source": [
    "z=np.arange(-6,6,0.2) # -6에서 6까지 0.2의 간격으로\n",
    "z"
   ]
  },
  {
   "cell_type": "code",
   "execution_count": 35,
   "id": "c678825c",
   "metadata": {},
   "outputs": [
    {
     "name": "stdout",
     "output_type": "stream",
     "text": [
      "[0.00247262 0.00301842 0.00368424 0.00449627 0.0054863  0.00669285\n",
      " 0.00816257 0.0099518  0.01212843 0.01477403 0.01798621 0.02188127\n",
      " 0.02659699 0.03229546 0.03916572 0.04742587 0.05732418 0.06913842\n",
      " 0.0831727  0.09975049 0.11920292 0.14185106 0.16798161 0.19781611\n",
      " 0.23147522 0.26894142 0.31002552 0.35434369 0.40131234 0.450166\n",
      " 0.5        0.549834   0.59868766 0.64565631 0.68997448 0.73105858\n",
      " 0.76852478 0.80218389 0.83201839 0.85814894 0.88079708 0.90024951\n",
      " 0.9168273  0.93086158 0.94267582 0.95257413 0.96083428 0.96770454\n",
      " 0.97340301 0.97811873 0.98201379 0.98522597 0.98787157 0.9900482\n",
      " 0.99183743 0.99330715 0.9945137  0.99550373 0.99631576 0.99698158]\n"
     ]
    }
   ],
   "source": [
    "sig=sigmoid(z)\n",
    "print(sig)"
   ]
  },
  {
   "cell_type": "code",
   "execution_count": 36,
   "id": "430b5d09",
   "metadata": {},
   "outputs": [
    {
     "ename": "AttributeError",
     "evalue": "module 'matplotlib.pyplot' has no attribute 'gird'",
     "output_type": "error",
     "traceback": [
      "\u001b[1;31m---------------------------------------------------------------------------\u001b[0m",
      "\u001b[1;31mAttributeError\u001b[0m                            Traceback (most recent call last)",
      "\u001b[1;32m~\\AppData\\Local\\Temp\\ipykernel_20724\\1320122382.py\u001b[0m in \u001b[0;36m<module>\u001b[1;34m\u001b[0m\n\u001b[0;32m      1\u001b[0m \u001b[0mplt\u001b[0m\u001b[1;33m.\u001b[0m\u001b[0mplot\u001b[0m\u001b[1;33m(\u001b[0m\u001b[0mz\u001b[0m\u001b[1;33m,\u001b[0m\u001b[0msig\u001b[0m\u001b[1;33m)\u001b[0m\u001b[1;33m\u001b[0m\u001b[1;33m\u001b[0m\u001b[0m\n\u001b[1;32m----> 2\u001b[1;33m \u001b[0mplt\u001b[0m\u001b[1;33m.\u001b[0m\u001b[0mgird\u001b[0m\u001b[1;33m\u001b[0m\u001b[1;33m\u001b[0m\u001b[0m\n\u001b[0m\u001b[0;32m      3\u001b[0m \u001b[0mplt\u001b[0m\u001b[1;33m.\u001b[0m\u001b[0mshow\u001b[0m\u001b[1;33m(\u001b[0m\u001b[1;33m)\u001b[0m\u001b[1;33m\u001b[0m\u001b[1;33m\u001b[0m\u001b[0m\n",
      "\u001b[1;31mAttributeError\u001b[0m: module 'matplotlib.pyplot' has no attribute 'gird'"
     ]
    },
    {
     "data": {
      "image/png": "[encoded data removed]",
      "text/plain": [
       "<Figure size 640x480 with 1 Axes>"
      ]
     },
     "metadata": {},
     "output_type": "display_data"
    }
   ],
   "source": [
    "plt.plot(z,sig)\n",
    "plt.gird\n",
    "plt.show()"
   ]
  },
  {
   "cell_type": "code",
   "execution_count": 37,
   "id": "c8287715",
   "metadata": {},
   "outputs": [],
   "source": [
    "# s자 형태의 시그모이드 함수가 그려진다"
   ]
  },
  {
   "cell_type": "code",
   "execution_count": 38,
   "id": "9c6c4d62",
   "metadata": {},
   "outputs": [],
   "source": [
    "# 실제 데이터를 가지고 ML방식으로 y변수와 x변수의 관계를 추정하자. W*X_b , W와 b를 추정한다.\n",
    "# y변수는 0과 1, 2개 범주를 가지는 변수이다. binary dependent variable"
   ]
  },
  {
   "cell_type": "markdown",
   "id": "def45d67",
   "metadata": {},
   "source": [
    "## 1.5 불황과 호황예측"
   ]
  },
  {
   "cell_type": "code",
   "execution_count": 39,
   "id": "59a01a70",
   "metadata": {},
   "outputs": [],
   "source": [
    "# 로짓분석(범주가 2개) 머신러닝 방식을 이용하여 거시 데이터에 기반한 호황(1)과 불황(0)을 예측해보자\n",
    "# Pr(y=1) : 호황일 확률\n",
    "# 해당데이터는 한국은행 경제통계시스템(ECOS) Open API를 이용하여 입수할 수 있음"
   ]
  },
  {
   "cell_type": "code",
   "execution_count": 40,
   "id": "b9fffdda",
   "metadata": {},
   "outputs": [
    {
     "data": {
      "text/html": [
       "<div>\n",
       "<style scoped>\n",
       "    .dataframe tbody tr th:only-of-type {\n",
       "        vertical-align: middle;\n",
       "    }\n",
       "\n",
       "    .dataframe tbody tr th {\n",
       "        vertical-align: top;\n",
       "    }\n",
       "\n",
       "    .dataframe thead th {\n",
       "        text-align: right;\n",
       "    }\n",
       "</style>\n",
       "<table border=\"1\" class=\"dataframe\">\n",
       "  <thead>\n",
       "    <tr style=\"text-align: right;\">\n",
       "      <th></th>\n",
       "      <th>Unnamed: 0</th>\n",
       "      <th>YYM</th>\n",
       "      <th>REALGDP</th>\n",
       "      <th>REALCONS</th>\n",
       "      <th>INV</th>\n",
       "      <th>M2</th>\n",
       "      <th>INFL</th>\n",
       "      <th>UNEMP</th>\n",
       "      <th>EMPLOY</th>\n",
       "      <th>CD_3M</th>\n",
       "      <th>RollingMean</th>\n",
       "      <th>TARGET1</th>\n",
       "      <th>QUARTER_2</th>\n",
       "      <th>QUARTER_3</th>\n",
       "      <th>QUARTER_4</th>\n",
       "    </tr>\n",
       "  </thead>\n",
       "  <tbody>\n",
       "    <tr>\n",
       "      <th>0</th>\n",
       "      <td>19</td>\n",
       "      <td>200609</td>\n",
       "      <td>1.6</td>\n",
       "      <td>1.1</td>\n",
       "      <td>7.383225</td>\n",
       "      <td>0.034784</td>\n",
       "      <td>0.012735</td>\n",
       "      <td>3.5</td>\n",
       "      <td>0.219907</td>\n",
       "      <td>4.64</td>\n",
       "      <td>1.265</td>\n",
       "      <td>0.0</td>\n",
       "      <td>0</td>\n",
       "      <td>1</td>\n",
       "      <td>0</td>\n",
       "    </tr>\n",
       "    <tr>\n",
       "      <th>1</th>\n",
       "      <td>20</td>\n",
       "      <td>200612</td>\n",
       "      <td>0.8</td>\n",
       "      <td>1.4</td>\n",
       "      <td>-4.720107</td>\n",
       "      <td>0.028761</td>\n",
       "      <td>-0.006775</td>\n",
       "      <td>3.4</td>\n",
       "      <td>0.535845</td>\n",
       "      <td>4.76</td>\n",
       "      <td>1.215</td>\n",
       "      <td>1.0</td>\n",
       "      <td>0</td>\n",
       "      <td>0</td>\n",
       "      <td>1</td>\n",
       "    </tr>\n",
       "    <tr>\n",
       "      <th>2</th>\n",
       "      <td>21</td>\n",
       "      <td>200703</td>\n",
       "      <td>1.7</td>\n",
       "      <td>1.2</td>\n",
       "      <td>6.486645</td>\n",
       "      <td>0.013717</td>\n",
       "      <td>0.014624</td>\n",
       "      <td>3.2</td>\n",
       "      <td>0.659054</td>\n",
       "      <td>4.94</td>\n",
       "      <td>1.175</td>\n",
       "      <td>1.0</td>\n",
       "      <td>0</td>\n",
       "      <td>0</td>\n",
       "      <td>0</td>\n",
       "    </tr>\n",
       "    <tr>\n",
       "      <th>3</th>\n",
       "      <td>22</td>\n",
       "      <td>200706</td>\n",
       "      <td>1.7</td>\n",
       "      <td>1.7</td>\n",
       "      <td>4.321228</td>\n",
       "      <td>0.028269</td>\n",
       "      <td>0.004800</td>\n",
       "      <td>3.2</td>\n",
       "      <td>0.198935</td>\n",
       "      <td>5.03</td>\n",
       "      <td>1.170</td>\n",
       "      <td>1.0</td>\n",
       "      <td>1</td>\n",
       "      <td>0</td>\n",
       "      <td>0</td>\n",
       "    </tr>\n",
       "    <tr>\n",
       "      <th>4</th>\n",
       "      <td>23</td>\n",
       "      <td>200709</td>\n",
       "      <td>1.2</td>\n",
       "      <td>1.1</td>\n",
       "      <td>-3.417600</td>\n",
       "      <td>0.026569</td>\n",
       "      <td>0.010518</td>\n",
       "      <td>3.2</td>\n",
       "      <td>0.179834</td>\n",
       "      <td>5.34</td>\n",
       "      <td>1.130</td>\n",
       "      <td>1.0</td>\n",
       "      <td>0</td>\n",
       "      <td>1</td>\n",
       "      <td>0</td>\n",
       "    </tr>\n",
       "  </tbody>\n",
       "</table>\n",
       "</div>"
      ],
      "text/plain": [
       "   Unnamed: 0     YYM  REALGDP  REALCONS       INV        M2      INFL  UNEMP  \\\n",
       "0          19  200609      1.6       1.1  7.383225  0.034784  0.012735    3.5   \n",
       "1          20  200612      0.8       1.4 -4.720107  0.028761 -0.006775    3.4   \n",
       "2          21  200703      1.7       1.2  6.486645  0.013717  0.014624    3.2   \n",
       "3          22  200706      1.7       1.7  4.321228  0.028269  0.004800    3.2   \n",
       "4          23  200709      1.2       1.1 -3.417600  0.026569  0.010518    3.2   \n",
       "\n",
       "     EMPLOY  CD_3M  RollingMean  TARGET1  QUARTER_2  QUARTER_3  QUARTER_4  \n",
       "0  0.219907   4.64        1.265      0.0          0          1          0  \n",
       "1  0.535845   4.76        1.215      1.0          0          0          1  \n",
       "2  0.659054   4.94        1.175      1.0          0          0          0  \n",
       "3  0.198935   5.03        1.170      1.0          1          0          0  \n",
       "4  0.179834   5.34        1.130      1.0          0          1          0  "
      ]
     },
     "execution_count": 40,
     "metadata": {},
     "output_type": "execute_result"
    }
   ],
   "source": [
    "df=pd.read_csv('c:/temp/MACRO_Binary.csv')\n",
    "df.head()"
   ]
  },
  {
   "cell_type": "code",
   "execution_count": 41,
   "id": "20bfd415",
   "metadata": {},
   "outputs": [],
   "source": [
    "# REALGDP: 실질GDP의 증가율\n",
    "# TARGET1: 호황/불황"
   ]
  },
  {
   "cell_type": "code",
   "execution_count": 42,
   "id": "d998bac1",
   "metadata": {},
   "outputs": [
    {
     "data": {
      "text/plain": [
       "0.0    32\n",
       "1.0    23\n",
       "Name: TARGET1, dtype: int64"
      ]
     },
     "execution_count": 42,
     "metadata": {},
     "output_type": "execute_result"
    }
   ],
   "source": [
    "df['TARGET1'].value_counts()"
   ]
  },
  {
   "cell_type": "code",
   "execution_count": 43,
   "id": "7d8ae938",
   "metadata": {},
   "outputs": [],
   "source": [
    "# 32분기는 불황, 23분기는 호황"
   ]
  },
  {
   "cell_type": "code",
   "execution_count": 44,
   "id": "ae058ca2",
   "metadata": {},
   "outputs": [
    {
     "data": {
      "text/html": [
       "<div>\n",
       "<style scoped>\n",
       "    .dataframe tbody tr th:only-of-type {\n",
       "        vertical-align: middle;\n",
       "    }\n",
       "\n",
       "    .dataframe tbody tr th {\n",
       "        vertical-align: top;\n",
       "    }\n",
       "\n",
       "    .dataframe thead th {\n",
       "        text-align: right;\n",
       "    }\n",
       "</style>\n",
       "<table border=\"1\" class=\"dataframe\">\n",
       "  <thead>\n",
       "    <tr style=\"text-align: right;\">\n",
       "      <th></th>\n",
       "      <th>REALGDP</th>\n",
       "      <th>REALCONS</th>\n",
       "      <th>INV</th>\n",
       "    </tr>\n",
       "  </thead>\n",
       "  <tbody>\n",
       "    <tr>\n",
       "      <th>0</th>\n",
       "      <td>1.6</td>\n",
       "      <td>1.1</td>\n",
       "      <td>7.383225</td>\n",
       "    </tr>\n",
       "    <tr>\n",
       "      <th>1</th>\n",
       "      <td>0.8</td>\n",
       "      <td>1.4</td>\n",
       "      <td>-4.720107</td>\n",
       "    </tr>\n",
       "    <tr>\n",
       "      <th>2</th>\n",
       "      <td>1.7</td>\n",
       "      <td>1.2</td>\n",
       "      <td>6.486645</td>\n",
       "    </tr>\n",
       "    <tr>\n",
       "      <th>3</th>\n",
       "      <td>1.7</td>\n",
       "      <td>1.7</td>\n",
       "      <td>4.321228</td>\n",
       "    </tr>\n",
       "    <tr>\n",
       "      <th>4</th>\n",
       "      <td>1.2</td>\n",
       "      <td>1.1</td>\n",
       "      <td>-3.417600</td>\n",
       "    </tr>\n",
       "  </tbody>\n",
       "</table>\n",
       "</div>"
      ],
      "text/plain": [
       "   REALGDP  REALCONS       INV\n",
       "0      1.6       1.1  7.383225\n",
       "1      0.8       1.4 -4.720107\n",
       "2      1.7       1.2  6.486645\n",
       "3      1.7       1.7  4.321228\n",
       "4      1.2       1.1 -3.417600"
      ]
     },
     "execution_count": 44,
     "metadata": {},
     "output_type": "execute_result"
    }
   ],
   "source": [
    "# x와 y의 data frame을 만든다.\n",
    "x_data=df[['REALGDP','REALCONS','INV']]\n",
    "x_data.head()"
   ]
  },
  {
   "cell_type": "code",
   "execution_count": 45,
   "id": "ca4be578",
   "metadata": {},
   "outputs": [
    {
     "data": {
      "text/plain": [
       "0    0.0\n",
       "1    1.0\n",
       "2    1.0\n",
       "3    1.0\n",
       "4    1.0\n",
       "Name: TARGET1, dtype: float64"
      ]
     },
     "execution_count": 45,
     "metadata": {},
     "output_type": "execute_result"
    }
   ],
   "source": [
    "y_data=df['TARGET1']\n",
    "y_data.head()"
   ]
  },
  {
   "cell_type": "code",
   "execution_count": 46,
   "id": "7d2a1df3",
   "metadata": {},
   "outputs": [],
   "source": [
    "# ML 방식은 tensor flow 에서 사용해야 한다. data frame -> numpy array 형식으로 바꿔야 한다.\n",
    "x_data=x_data.to_numpy()\n",
    "y_data=y_data.to_numpy()"
   ]
  },
  {
   "cell_type": "code",
   "execution_count": 47,
   "id": "8132eeca",
   "metadata": {},
   "outputs": [
    {
     "data": {
      "text/plain": [
       "numpy.ndarray"
      ]
     },
     "execution_count": 47,
     "metadata": {},
     "output_type": "execute_result"
    }
   ],
   "source": [
    "type(x_data)"
   ]
  },
  {
   "cell_type": "code",
   "execution_count": 48,
   "id": "835ae486",
   "metadata": {},
   "outputs": [],
   "source": [
    "# x_data에 대해서 정규화를 한다\n",
    "# 정규화: 모든 값을 0~1 사이의 값으로 바꾼다. 변수들 간 범위가 다 너무 다르기 때문에 , 범위를 맞춰준다\n",
    "# X_정규화=(X-X_min)/(X_max-X_min)\n",
    "# X=X_max 이면 X_정규화=1"
   ]
  },
  {
   "cell_type": "code",
   "execution_count": 49,
   "id": "a9323ebf",
   "metadata": {},
   "outputs": [
    {
     "data": {
      "text/plain": [
       "array([[0.77777778, 0.75247525, 0.73784493],\n",
       "       [0.65079365, 0.78217822, 0.41754596],\n",
       "       [0.79365079, 0.76237624, 0.7141181 ],\n",
       "       [0.79365079, 0.81188119, 0.65681316],\n",
       "       [0.71428571, 0.75247525, 0.45201513],\n",
       "       [0.87301587, 0.73267327, 0.72291107],\n",
       "       [0.58730159, 0.74257426, 0.58282057],\n",
       "       [0.6031746 , 0.63366337, 0.69765418],\n",
       "       [0.65079365, 0.63366337, 0.69653629],\n",
       "       [0.        , 0.26732673, 0.        ],\n",
       "       [0.53968254, 0.61386139, 0.31888721],\n",
       "       [0.73015873, 1.        , 0.70653259],\n",
       "       [1.        , 0.75247525, 1.        ],\n",
       "       [0.63492063, 0.74257426, 0.53862911],\n",
       "       [0.84126984, 0.73267327, 0.8443659 ],\n",
       "       [0.82539683, 0.73267327, 0.43615468],\n",
       "       [0.71428571, 0.74257426, 0.63506522],\n",
       "       [0.71428571, 0.72277228, 0.65919998],\n",
       "       [0.66666667, 0.76237624, 0.61942298],\n",
       "       [0.6031746 , 0.71287129, 0.65071241],\n",
       "       [0.6031746 , 0.62376238, 0.32783345],\n",
       "       [0.6031746 , 0.66336634, 0.72123848],\n",
       "       [0.66666667, 0.7029703 , 0.62893894],\n",
       "       [0.61904762, 0.67326733, 0.41155032],\n",
       "       [0.58730159, 0.74257426, 0.3618292 ],\n",
       "       [0.6031746 , 0.67326733, 0.51844732],\n",
       "       [0.66666667, 0.61386139, 0.66457086],\n",
       "       [0.71428571, 0.73267327, 0.48528779],\n",
       "       [0.66666667, 0.72277228, 0.61561996],\n",
       "       [0.65079365, 0.71287129, 0.63086599],\n",
       "       [0.68253968, 0.69306931, 0.5111316 ],\n",
       "       [0.66666667, 0.64356436, 0.56236401],\n",
       "       [0.57142857, 0.68316832, 0.60734586],\n",
       "       [0.58730159, 0.68316832, 0.53052049],\n",
       "       [0.66666667, 0.72277228, 0.58283565],\n",
       "       [0.58730159, 0.66336634, 0.55994552],\n",
       "       [0.76190476, 0.7029703 , 0.64080383],\n",
       "       [0.63492063, 0.82178218, 0.55514363],\n",
       "       [0.57142857, 0.63366337, 0.46498843],\n",
       "       [0.6984127 , 0.72277228, 0.7559627 ],\n",
       "       [0.58730159, 0.69306931, 0.59180918],\n",
       "       [0.65079365, 0.66336634, 0.62018532],\n",
       "       [0.65079365, 0.7029703 , 0.63569421],\n",
       "       [0.63492063, 0.76237624, 0.64427248],\n",
       "       [0.76190476, 0.74257426, 0.57396369],\n",
       "       [0.50793651, 0.69306931, 0.57899115],\n",
       "       [0.6984127 , 0.77227723, 0.50098521],\n",
       "       [0.61904762, 0.67326733, 0.56487167],\n",
       "       [0.61904762, 0.69306931, 0.44940878],\n",
       "       [0.66666667, 0.69306931, 0.65310839],\n",
       "       [0.47619048, 0.65346535, 0.42525893],\n",
       "       [0.68253968, 0.71287129, 0.73641567],\n",
       "       [0.58730159, 0.68316832, 0.45081809],\n",
       "       [0.73015873, 0.71287129, 0.5556214 ],\n",
       "       [0.31746032, 0.        , 0.52753329]])"
      ]
     },
     "execution_count": 49,
     "metadata": {},
     "output_type": "execute_result"
    }
   ],
   "source": [
    "x_data_norm=MinMaxScaler().fit_transform(x_data)\n",
    "x_data_norm"
   ]
  },
  {
   "cell_type": "code",
   "execution_count": 50,
   "id": "c27d20ab",
   "metadata": {},
   "outputs": [],
   "source": [
    "# 3개의 칼럼. x 변수가 3개였으니까"
   ]
  },
  {
   "cell_type": "code",
   "execution_count": 52,
   "id": "a2bcd255",
   "metadata": {},
   "outputs": [
    {
     "data": {
      "text/plain": [
       "array([0., 0., 0.])"
      ]
     },
     "execution_count": 52,
     "metadata": {},
     "output_type": "execute_result"
    }
   ],
   "source": [
    "# array structure에서 최대 최소를 보려면\n",
    "# 최솟값\n",
    "np.min(x_data_norm, axis=0) # axis=0 : 칼럼 방향"
   ]
  },
  {
   "cell_type": "code",
   "execution_count": 53,
   "id": "2b040e82",
   "metadata": {},
   "outputs": [
    {
     "data": {
      "text/plain": [
       "array([1., 1., 1.])"
      ]
     },
     "execution_count": 53,
     "metadata": {},
     "output_type": "execute_result"
    }
   ],
   "source": [
    "# 최댓값\n",
    "np.max(x_data_norm, axis=0) # axis=0 : 칼럼 방향"
   ]
  },
  {
   "cell_type": "code",
   "execution_count": 54,
   "id": "7915190c",
   "metadata": {},
   "outputs": [],
   "source": [
    "# 정규화를 하니 0~1로 범위가 바뀐걸 볼 수 있다"
   ]
  },
  {
   "cell_type": "code",
   "execution_count": 55,
   "id": "40f9caf8",
   "metadata": {},
   "outputs": [],
   "source": [
    "# x_data_norm, y_data: float32 (float32로 저장되어 있어야 tensor flow에서 사용할 수 있다)\n",
    "x_data_norm=x_data_norm.astype('float32')\n",
    "y_data=y_data.astype('float32')"
   ]
  },
  {
   "cell_type": "code",
   "execution_count": 57,
   "id": "b554520b",
   "metadata": {},
   "outputs": [],
   "source": [
    "# 여기서부터 우리는 ML을 이용한 경사하강법으로 W와 b를 찾는다 계산한다"
   ]
  },
  {
   "cell_type": "code",
   "execution_count": 59,
   "id": "91eb5506",
   "metadata": {},
   "outputs": [
    {
     "name": "stdout",
     "output_type": "stream",
     "text": [
      "3\n"
     ]
    }
   ],
   "source": [
    "# 먼저 x 변수의 개수를 계산한다\n",
    "k=x_data_norm.shape[1]\n",
    "print(k)"
   ]
  },
  {
   "cell_type": "code",
   "execution_count": 61,
   "id": "3995994d",
   "metadata": {},
   "outputs": [
    {
     "name": "stdout",
     "output_type": "stream",
     "text": [
      "[[ 0.8369314]\n",
      " [-0.7342977]\n",
      " [ 1.0402943]] [1.1468066]\n"
     ]
    }
   ],
   "source": [
    "# W와 b에 대한 초기값을 설정하자\n",
    "# random seed를 주고 시작한다.\n",
    "\n",
    "tf.random.set_seed(1234)\n",
    "learning_rate=tf.Variable(0.0001)\n",
    "W=tf.Variable(tf.random.normal((k,1),name='Weignt'))\n",
    "b=tf.Variable(tf.random.normal([1]),name='bias')\n",
    "\n",
    "print(W.numpy(),b.numpy()) # 초기값 보기"
   ]
  },
  {
   "cell_type": "code",
   "execution_count": 62,
   "id": "e3c0d91e",
   "metadata": {},
   "outputs": [],
   "source": [
    "# W 3개/ b 1개"
   ]
  },
  {
   "cell_type": "code",
   "execution_count": 64,
   "id": "4b7a31db",
   "metadata": {},
   "outputs": [
    {
     "name": "stdout",
     "output_type": "stream",
     "text": [
      "0 0.88241714 [ 0.59385544 -0.9909419   0.82270795] [0.77646405]\n",
      "1000 0.862748 [ 0.57447183 -1.0113261   0.80529237] [0.7469369]\n",
      "2000 0.8448178 [ 0.5559652 -1.0307744  0.7886523] [0.718742]\n",
      "3000 0.82851267 [ 0.5383181 -1.0493045  0.772772 ] [0.6918513]\n",
      "4000 0.8137188 [ 0.52150935 -1.0669377   0.75763315] [0.6662327]\n",
      "5000 0.80032325 [ 0.50551546 -1.0837008   0.7432157 ] [0.64184976]\n",
      "6000 0.7882154 [ 0.49031183 -1.0996213   0.72949684] [0.6186633]\n",
      "7000 0.7772892 [ 0.47587073 -1.1147295   0.7164541 ] [0.59663224]\n",
      "8000 0.7674446 [ 0.4621645  -1.1290513   0.70406175] [0.5757136]\n",
      "9000 0.75858533 [ 0.4491642 -1.1426226  0.6922957] [0.55586296]\n",
      "10000 0.7506217 [ 0.4368408 -1.1554717  0.6811289] [0.53703636]\n"
     ]
    }
   ],
   "source": [
    "# 10000번 실행한다\n",
    "for i in range(10000+1):\n",
    "    with tf.GradientTape() as tape:\n",
    "        hypothesis=tf.sigmoid(tf.matmul(x_data_norm,W)+b) # tensor flow 내에 내장된 sigmoid 함수 들어가 있다. hypothesis=H(x)\n",
    "        cost=-tf.reduce_mean(y_data*tf.math.log(hypothesis)+(1-y_data)*tf.math.log(1-hypothesis))\n",
    "        W_grad, b_grad=tape.gradient(cost,[W,b])\n",
    "        # W, b를 경사하강법에 의해 update 한다\n",
    "        W.assign_sub(learning_rate*W_grad)\n",
    "        b.assign_sub(learning_rate*b_grad)\n",
    "        # 다른 부분은 다 같고, hypothesis, cost만 잘 정의하면 됨\n",
    "    \n",
    "    # 결과보기\n",
    "    if i%1000==0:\n",
    "        print(i,cost.numpy(),W.numpy().flatten(),b.numpy())"
   ]
  },
  {
   "cell_type": "code",
   "execution_count": 66,
   "id": "ae047ec8",
   "metadata": {},
   "outputs": [],
   "source": [
    "# 1000번 단위로 결과 나옴\n",
    "# 10000 0.7506217 [ 0.4368408 -1.1554717  0.6811289] [0.53703636] : 요게 원하는 결과\n",
    "# 0.4368408 : 소득이 증가할 수록 경기가 호황일 가능성이 크다\n",
    "# -1.1554717  : 소비 증가율이 높을 수록 경ㄱ 호황 가능성 작다\n",
    "# 0.6811289 : 투자 증가율이 높을 수록 호황 가능성 높다\n",
    "# RealGDP 증가율이 높아질수록 y=1(호황)일 가능성이 증가한다.\n",
    "# RealCons 증가율이 높아질수록 y=1(호황)일 가능성이 감소한다.\n",
    "# INV 증가율이 높아질수록 y=1(호황)일 가능성이 증가한다."
   ]
  },
  {
   "cell_type": "code",
   "execution_count": 67,
   "id": "022e2b13",
   "metadata": {},
   "outputs": [],
   "source": [
    "# 시간이 되면 위 데이터 가지고 y,x 가지고 전통적 계량ㄱ여제학적 추정인 sm.Logit 결과도 한번 얻어보세요"
   ]
  },
  {
   "cell_type": "code",
   "execution_count": null,
   "id": "99569152",
   "metadata": {},
   "outputs": [],
   "source": []
  },
  {
   "cell_type": "code",
   "execution_count": null,
   "id": "c11f4bd5",
   "metadata": {},
   "outputs": [],
   "source": []
  },
  {
   "cell_type": "code",
   "execution_count": null,
   "id": "f992572a",
   "metadata": {},
   "outputs": [],
   "source": []
  },
  {
   "cell_type": "code",
   "execution_count": null,
   "id": "9301f15f",
   "metadata": {},
   "outputs": [],
   "source": []
  },
  {
   "cell_type": "code",
   "execution_count": null,
   "id": "4107d0c2",
   "metadata": {},
   "outputs": [],
   "source": []
  }
 ],
 "metadata": {
  "kernelspec": {
   "display_name": "Python 3 (ipykernel)",
   "language": "python",
   "name": "python3"
  },
  "language_info": {
   "codemirror_mode": {
    "name": "ipython",
    "version": 3
   },
   "file_extension": ".py",
   "mimetype": "text/x-python",
   "name": "python",
   "nbconvert_exporter": "python",
   "pygments_lexer": "ipython3",
   "version": "3.9.13"
  },
  "toc": {
   "base_numbering": 1,
   "nav_menu": {},
   "number_sections": true,
   "sideBar": true,
   "skip_h1_title": false,
   "title_cell": "Table of Contents",
   "title_sidebar": "Contents",
   "toc_cell": false,
   "toc_position": {},
   "toc_section_display": true,
   "toc_window_display": false
  },
  "varInspector": {
   "cols": {
    "lenName": 16,
    "lenType": 16,
    "lenVar": 40
   },
   "kernels_config": {
    "python": {
     "delete_cmd_postfix": "",
     "delete_cmd_prefix": "del ",
     "library": "var_list.py",
     "varRefreshCmd": "print(var_dic_list())"
    },
    "r": {
     "delete_cmd_postfix": ") ",
     "delete_cmd_prefix": "rm(",
     "library": "var_list.r",
     "varRefreshCmd": "cat(var_dic_list()) "
    }
   },
   "types_to_exclude": [
    "module",
    "function",
    "builtin_function_or_method",
    "instance",
    "_Feature"
   ],
   "window_display": false
  }
 },
 "nbformat": 4,
 "nbformat_minor": 5
}
