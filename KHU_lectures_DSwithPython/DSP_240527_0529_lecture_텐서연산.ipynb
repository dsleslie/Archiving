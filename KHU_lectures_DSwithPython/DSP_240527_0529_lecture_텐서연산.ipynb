{
 "cells": [
  {
   "cell_type": "code",
   "execution_count": 2,
   "id": "b3fa1ca8",
   "metadata": {},
   "outputs": [],
   "source": [
    "import pandas as pd\n",
    "import numpy as np\n",
    "import numpy_financial as npf\n",
    "import seaborn as sns\n",
    "import matplotlib.pyplot as plt\n",
    "import statsmodels.api as sm\n",
    "from statsmodels.formula.api import ols\n",
    "from sklearn.model_selection import train_test_split\n",
    "import warnings\n",
    "warnings.filterwarnings(\"ignore\")\n",
    "from numpy import *\n",
    "\n",
    "from ggplot import *\n",
    "from scipy.stats import logistic\n",
    "from sklearn.metrics import roc_curve\n",
    "from sklearn.metrics import roc_auc_score\n",
    "from sklearn.linear_model import LogisticRegression\n",
    "from sklearn.metrics import confusion_matrix, mean_squared_error\n",
    "from sklearn.model_selection import train_test_split\n",
    "from sklearn import preprocessing\n",
    "from sklearn.neighbors import KNeighborsClassifier\n",
    "from sklearn.naive_bayes import *\n",
    "from sklearn.tree import DecisionTreeClassifier, DecisionTreeRegressor, export_graphviz\n",
    "import graphviz\n",
    "from sklearn.ensemble import RandomForestRegressor, RandomForestClassifier\n",
    "from sklearn.svm import SVC, SVR\n",
    "from sklearn.cluster import KMeans\n",
    "from sklearn.preprocessing import StandardScaler\n",
    "\n",
    "\n",
    "from linearmodels.iv import IV2SLS\n",
    "from scipy import stats\n",
    "from scipy.stats import trim_mean #trimmed mean\n",
    "from scipy.stats import * #chi2_contingency로 카이제곱통계량계산\n",
    "from scipy.stats import norm\n",
    "\n",
    "import keyword\n",
    "import random\n",
    "\n",
    "#open api 불러올 때 필요한 것\n",
    "from urllib.request import urlopen #request package 설치\n",
    "from bs4 import BeautifulSoup #bs4 package 설치\n",
    "\n",
    "# 그래프에서 한글 깨지지 않기 위헤 사용함\n",
    "from matplotlib import rcParams\n",
    "from matplotlib import font_manager,rc\n",
    "\n",
    "rcParams['axes.unicode_minus']=False\n",
    "plt.rcParams['font.family']='Malgun Gothic'\n",
    "font_name=font_manager.FontProperties(fname='c:/Windows/Fonts/malgun.ttf').get_name()\n",
    "rc('font',family=font_name)\n",
    "\n",
    "import FinanceDataReader as fdr\n",
    "import plotly.graph_objects as go\n",
    "import plotly.subplots as ms\n",
    "import math\n",
    "\n"
   ]
  },
  {
   "cell_type": "markdown",
   "id": "43122c33",
   "metadata": {},
   "source": [
    "# Lecture 11"
   ]
  },
  {
   "cell_type": "code",
   "execution_count": 3,
   "id": "48373d51",
   "metadata": {},
   "outputs": [],
   "source": [
    "df=pd.read_csv('c:/temp/education2020.csv')\n",
    "df1=df[['income','age','education_year']]\n",
    "sex_dummies=pd.get_dummies(df['sex'],prefix='s')"
   ]
  },
  {
   "cell_type": "code",
   "execution_count": 4,
   "id": "eaf3eea5",
   "metadata": {},
   "outputs": [
    {
     "data": {
      "text/html": [
       "<div>\n",
       "<style scoped>\n",
       "    .dataframe tbody tr th:only-of-type {\n",
       "        vertical-align: middle;\n",
       "    }\n",
       "\n",
       "    .dataframe tbody tr th {\n",
       "        vertical-align: top;\n",
       "    }\n",
       "\n",
       "    .dataframe thead th {\n",
       "        text-align: right;\n",
       "    }\n",
       "</style>\n",
       "<table border=\"1\" class=\"dataframe\">\n",
       "  <thead>\n",
       "    <tr style=\"text-align: right;\">\n",
       "      <th></th>\n",
       "      <th>j_1</th>\n",
       "      <th>j_2</th>\n",
       "      <th>j_3</th>\n",
       "      <th>j_4</th>\n",
       "      <th>j_5</th>\n",
       "      <th>j_6</th>\n",
       "      <th>j_7</th>\n",
       "      <th>j_8</th>\n",
       "      <th>j_9</th>\n",
       "    </tr>\n",
       "  </thead>\n",
       "  <tbody>\n",
       "    <tr>\n",
       "      <th>0</th>\n",
       "      <td>0</td>\n",
       "      <td>0</td>\n",
       "      <td>1</td>\n",
       "      <td>0</td>\n",
       "      <td>0</td>\n",
       "      <td>0</td>\n",
       "      <td>0</td>\n",
       "      <td>0</td>\n",
       "      <td>0</td>\n",
       "    </tr>\n",
       "    <tr>\n",
       "      <th>1</th>\n",
       "      <td>0</td>\n",
       "      <td>1</td>\n",
       "      <td>0</td>\n",
       "      <td>0</td>\n",
       "      <td>0</td>\n",
       "      <td>0</td>\n",
       "      <td>0</td>\n",
       "      <td>0</td>\n",
       "      <td>0</td>\n",
       "    </tr>\n",
       "    <tr>\n",
       "      <th>2</th>\n",
       "      <td>0</td>\n",
       "      <td>0</td>\n",
       "      <td>0</td>\n",
       "      <td>1</td>\n",
       "      <td>0</td>\n",
       "      <td>0</td>\n",
       "      <td>0</td>\n",
       "      <td>0</td>\n",
       "      <td>0</td>\n",
       "    </tr>\n",
       "    <tr>\n",
       "      <th>3</th>\n",
       "      <td>0</td>\n",
       "      <td>0</td>\n",
       "      <td>0</td>\n",
       "      <td>0</td>\n",
       "      <td>1</td>\n",
       "      <td>0</td>\n",
       "      <td>0</td>\n",
       "      <td>0</td>\n",
       "      <td>0</td>\n",
       "    </tr>\n",
       "    <tr>\n",
       "      <th>4</th>\n",
       "      <td>0</td>\n",
       "      <td>1</td>\n",
       "      <td>0</td>\n",
       "      <td>0</td>\n",
       "      <td>0</td>\n",
       "      <td>0</td>\n",
       "      <td>0</td>\n",
       "      <td>0</td>\n",
       "      <td>0</td>\n",
       "    </tr>\n",
       "    <tr>\n",
       "      <th>...</th>\n",
       "      <td>...</td>\n",
       "      <td>...</td>\n",
       "      <td>...</td>\n",
       "      <td>...</td>\n",
       "      <td>...</td>\n",
       "      <td>...</td>\n",
       "      <td>...</td>\n",
       "      <td>...</td>\n",
       "      <td>...</td>\n",
       "    </tr>\n",
       "    <tr>\n",
       "      <th>18059</th>\n",
       "      <td>0</td>\n",
       "      <td>0</td>\n",
       "      <td>0</td>\n",
       "      <td>0</td>\n",
       "      <td>0</td>\n",
       "      <td>0</td>\n",
       "      <td>0</td>\n",
       "      <td>0</td>\n",
       "      <td>0</td>\n",
       "    </tr>\n",
       "    <tr>\n",
       "      <th>18060</th>\n",
       "      <td>0</td>\n",
       "      <td>0</td>\n",
       "      <td>1</td>\n",
       "      <td>0</td>\n",
       "      <td>0</td>\n",
       "      <td>0</td>\n",
       "      <td>0</td>\n",
       "      <td>0</td>\n",
       "      <td>0</td>\n",
       "    </tr>\n",
       "    <tr>\n",
       "      <th>18061</th>\n",
       "      <td>0</td>\n",
       "      <td>0</td>\n",
       "      <td>0</td>\n",
       "      <td>0</td>\n",
       "      <td>0</td>\n",
       "      <td>0</td>\n",
       "      <td>0</td>\n",
       "      <td>0</td>\n",
       "      <td>0</td>\n",
       "    </tr>\n",
       "    <tr>\n",
       "      <th>18062</th>\n",
       "      <td>0</td>\n",
       "      <td>1</td>\n",
       "      <td>0</td>\n",
       "      <td>0</td>\n",
       "      <td>0</td>\n",
       "      <td>0</td>\n",
       "      <td>0</td>\n",
       "      <td>0</td>\n",
       "      <td>0</td>\n",
       "    </tr>\n",
       "    <tr>\n",
       "      <th>18063</th>\n",
       "      <td>0</td>\n",
       "      <td>0</td>\n",
       "      <td>1</td>\n",
       "      <td>0</td>\n",
       "      <td>0</td>\n",
       "      <td>0</td>\n",
       "      <td>0</td>\n",
       "      <td>0</td>\n",
       "      <td>0</td>\n",
       "    </tr>\n",
       "  </tbody>\n",
       "</table>\n",
       "<p>18039 rows × 9 columns</p>\n",
       "</div>"
      ],
      "text/plain": [
       "       j_1  j_2  j_3  j_4  j_5  j_6  j_7  j_8  j_9\n",
       "0        0    0    1    0    0    0    0    0    0\n",
       "1        0    1    0    0    0    0    0    0    0\n",
       "2        0    0    0    1    0    0    0    0    0\n",
       "3        0    0    0    0    1    0    0    0    0\n",
       "4        0    1    0    0    0    0    0    0    0\n",
       "...    ...  ...  ...  ...  ...  ...  ...  ...  ...\n",
       "18059    0    0    0    0    0    0    0    0    0\n",
       "18060    0    0    1    0    0    0    0    0    0\n",
       "18061    0    0    0    0    0    0    0    0    0\n",
       "18062    0    1    0    0    0    0    0    0    0\n",
       "18063    0    0    1    0    0    0    0    0    0\n",
       "\n",
       "[18039 rows x 9 columns]"
      ]
     },
     "execution_count": 4,
     "metadata": {},
     "output_type": "execute_result"
    }
   ],
   "source": [
    "# job 9개 범주를 가지고 있다. 9개 더미변수를 만든다. (A는 없애고 하기)\n",
    "df=df.loc[df['job']!='A']\n",
    "job_dummies=pd.get_dummies(df['job'],prefix='j')\n",
    "job_dummies"
   ]
  },
  {
   "cell_type": "code",
   "execution_count": 5,
   "id": "21fb9706",
   "metadata": {},
   "outputs": [
    {
     "data": {
      "text/html": [
       "<div>\n",
       "<style scoped>\n",
       "    .dataframe tbody tr th:only-of-type {\n",
       "        vertical-align: middle;\n",
       "    }\n",
       "\n",
       "    .dataframe tbody tr th {\n",
       "        vertical-align: top;\n",
       "    }\n",
       "\n",
       "    .dataframe thead th {\n",
       "        text-align: right;\n",
       "    }\n",
       "</style>\n",
       "<table border=\"1\" class=\"dataframe\">\n",
       "  <thead>\n",
       "    <tr style=\"text-align: right;\">\n",
       "      <th></th>\n",
       "      <th>income</th>\n",
       "      <th>age</th>\n",
       "      <th>education_year</th>\n",
       "      <th>s_1</th>\n",
       "      <th>s_2</th>\n",
       "      <th>j_1</th>\n",
       "      <th>j_2</th>\n",
       "      <th>j_3</th>\n",
       "      <th>j_4</th>\n",
       "      <th>j_5</th>\n",
       "      <th>j_6</th>\n",
       "      <th>j_7</th>\n",
       "      <th>j_8</th>\n",
       "      <th>j_9</th>\n",
       "    </tr>\n",
       "  </thead>\n",
       "  <tbody>\n",
       "    <tr>\n",
       "      <th>0</th>\n",
       "      <td>6593</td>\n",
       "      <td>34</td>\n",
       "      <td>16</td>\n",
       "      <td>1</td>\n",
       "      <td>0</td>\n",
       "      <td>0.0</td>\n",
       "      <td>0.0</td>\n",
       "      <td>1.0</td>\n",
       "      <td>0.0</td>\n",
       "      <td>0.0</td>\n",
       "      <td>0.0</td>\n",
       "      <td>0.0</td>\n",
       "      <td>0.0</td>\n",
       "      <td>0.0</td>\n",
       "    </tr>\n",
       "    <tr>\n",
       "      <th>1</th>\n",
       "      <td>17720</td>\n",
       "      <td>45</td>\n",
       "      <td>21</td>\n",
       "      <td>0</td>\n",
       "      <td>1</td>\n",
       "      <td>0.0</td>\n",
       "      <td>1.0</td>\n",
       "      <td>0.0</td>\n",
       "      <td>0.0</td>\n",
       "      <td>0.0</td>\n",
       "      <td>0.0</td>\n",
       "      <td>0.0</td>\n",
       "      <td>0.0</td>\n",
       "      <td>0.0</td>\n",
       "    </tr>\n",
       "    <tr>\n",
       "      <th>2</th>\n",
       "      <td>908</td>\n",
       "      <td>73</td>\n",
       "      <td>6</td>\n",
       "      <td>0</td>\n",
       "      <td>1</td>\n",
       "      <td>0.0</td>\n",
       "      <td>0.0</td>\n",
       "      <td>0.0</td>\n",
       "      <td>1.0</td>\n",
       "      <td>0.0</td>\n",
       "      <td>0.0</td>\n",
       "      <td>0.0</td>\n",
       "      <td>0.0</td>\n",
       "      <td>0.0</td>\n",
       "    </tr>\n",
       "    <tr>\n",
       "      <th>3</th>\n",
       "      <td>2748</td>\n",
       "      <td>58</td>\n",
       "      <td>12</td>\n",
       "      <td>1</td>\n",
       "      <td>0</td>\n",
       "      <td>0.0</td>\n",
       "      <td>0.0</td>\n",
       "      <td>0.0</td>\n",
       "      <td>0.0</td>\n",
       "      <td>1.0</td>\n",
       "      <td>0.0</td>\n",
       "      <td>0.0</td>\n",
       "      <td>0.0</td>\n",
       "      <td>0.0</td>\n",
       "    </tr>\n",
       "    <tr>\n",
       "      <th>4</th>\n",
       "      <td>1015</td>\n",
       "      <td>27</td>\n",
       "      <td>12</td>\n",
       "      <td>0</td>\n",
       "      <td>1</td>\n",
       "      <td>0.0</td>\n",
       "      <td>1.0</td>\n",
       "      <td>0.0</td>\n",
       "      <td>0.0</td>\n",
       "      <td>0.0</td>\n",
       "      <td>0.0</td>\n",
       "      <td>0.0</td>\n",
       "      <td>0.0</td>\n",
       "      <td>0.0</td>\n",
       "    </tr>\n",
       "  </tbody>\n",
       "</table>\n",
       "</div>"
      ],
      "text/plain": [
       "   income  age  education_year  s_1  s_2  j_1  j_2  j_3  j_4  j_5  j_6  j_7  \\\n",
       "0    6593   34              16    1    0  0.0  0.0  1.0  0.0  0.0  0.0  0.0   \n",
       "1   17720   45              21    0    1  0.0  1.0  0.0  0.0  0.0  0.0  0.0   \n",
       "2     908   73               6    0    1  0.0  0.0  0.0  1.0  0.0  0.0  0.0   \n",
       "3    2748   58              12    1    0  0.0  0.0  0.0  0.0  1.0  0.0  0.0   \n",
       "4    1015   27              12    0    1  0.0  1.0  0.0  0.0  0.0  0.0  0.0   \n",
       "\n",
       "   j_8  j_9  \n",
       "0  0.0  0.0  \n",
       "1  0.0  0.0  \n",
       "2  0.0  0.0  \n",
       "3  0.0  0.0  \n",
       "4  0.0  0.0  "
      ]
     },
     "execution_count": 5,
     "metadata": {},
     "output_type": "execute_result"
    }
   ],
   "source": [
    "df2=pd.concat([df1,sex_dummies,job_dummies],axis=1)\n",
    "df2.head()"
   ]
  },
  {
   "cell_type": "code",
   "execution_count": 6,
   "id": "384fece3",
   "metadata": {},
   "outputs": [
    {
     "name": "stdout",
     "output_type": "stream",
     "text": [
      "                            OLS Regression Results                            \n",
      "==============================================================================\n",
      "Dep. Variable:                 income   R-squared:                       0.164\n",
      "Model:                            OLS   Adj. R-squared:                  0.164\n",
      "Method:                 Least Squares   F-statistic:                     1773.\n",
      "Date:                Thu, 13 Jun 2024   Prob (F-statistic):               0.00\n",
      "Time:                        20:27:50   Log-Likelihood:            -1.7980e+05\n",
      "No. Observations:               18064   AIC:                         3.596e+05\n",
      "Df Residuals:                   18061   BIC:                         3.596e+05\n",
      "Df Model:                           2                                         \n",
      "Covariance Type:            nonrobust                                         \n",
      "==================================================================================\n",
      "                     coef    std err          t      P>|t|      [0.025      0.975]\n",
      "----------------------------------------------------------------------------------\n",
      "Intercept        322.1142    277.944      1.159      0.247    -222.682     866.910\n",
      "age               -9.7072      3.170     -3.062      0.002     -15.921      -3.494\n",
      "education_year   488.0565     10.601     46.040      0.000     467.278     508.835\n",
      "==============================================================================\n",
      "Omnibus:                    28244.543   Durbin-Watson:                   1.919\n",
      "Prob(Omnibus):                  0.000   Jarque-Bera (JB):         58037057.877\n",
      "Skew:                           9.460   Prob(JB):                         0.00\n",
      "Kurtosis:                     280.039   Cond. No.                         444.\n",
      "==============================================================================\n",
      "\n",
      "Notes:\n",
      "[1] Standard Errors assume that the covariance matrix of the errors is correctly specified.\n"
     ]
    }
   ],
   "source": [
    "edu_model2=ols('income~age+education_year',data=df2).fit()\n",
    "print(edu_model2.summary())"
   ]
  },
  {
   "cell_type": "code",
   "execution_count": 7,
   "id": "e912ec62",
   "metadata": {},
   "outputs": [
    {
     "name": "stdout",
     "output_type": "stream",
     "text": [
      "                            OLS Regression Results                            \n",
      "==============================================================================\n",
      "Dep. Variable:                 income   R-squared:                       0.228\n",
      "Model:                            OLS   Adj. R-squared:                  0.228\n",
      "Method:                 Least Squares   F-statistic:                     484.8\n",
      "Date:                Thu, 13 Jun 2024   Prob (F-statistic):               0.00\n",
      "Time:                        20:27:50   Log-Likelihood:            -1.7883e+05\n",
      "No. Observations:               18039   AIC:                         3.577e+05\n",
      "Df Residuals:                   18027   BIC:                         3.578e+05\n",
      "Df Model:                          11                                         \n",
      "Covariance Type:            nonrobust                                         \n",
      "==================================================================================\n",
      "                     coef    std err          t      P>|t|      [0.025      0.975]\n",
      "----------------------------------------------------------------------------------\n",
      "Intercept      -2686.6412    304.369     -8.827      0.000   -3283.234   -2090.048\n",
      "age               25.7915      3.447      7.483      0.000      19.036      32.547\n",
      "education_year   318.5723     11.445     27.835      0.000     296.139     341.005\n",
      "s_1             1971.4080     93.776     21.023      0.000    1787.598    2155.218\n",
      "j_2             4115.6540    150.220     27.398      0.000    3821.209    4410.099\n",
      "j_3             3649.1653    148.460     24.580      0.000    3358.170    3940.160\n",
      "j_4             1595.2434    166.586      9.576      0.000    1268.719    1921.768\n",
      "j_5             1888.2839    166.323     11.353      0.000    1562.275    2214.293\n",
      "j_6              630.9427    158.449      3.982      0.000     320.367     941.519\n",
      "j_7             1507.6025    157.028      9.601      0.000    1199.812    1815.393\n",
      "j_8             1867.8125    143.349     13.030      0.000    1586.835    2148.790\n",
      "j_9              369.1482    134.015      2.755      0.006     106.467     631.830\n",
      "==============================================================================\n",
      "Omnibus:                    29352.408   Durbin-Watson:                   1.928\n",
      "Prob(Omnibus):                  0.000   Jarque-Bera (JB):         74361836.330\n",
      "Skew:                          10.239   Prob(JB):                         0.00\n",
      "Kurtosis:                     316.872   Cond. No.                         580.\n",
      "==============================================================================\n",
      "\n",
      "Notes:\n",
      "[1] Standard Errors assume that the covariance matrix of the errors is correctly specified.\n"
     ]
    }
   ],
   "source": [
    "# 더미변수 포함한 regression 해보기\n",
    "edu_model3=ols('income~age+education_year+s_1+j_2+j_3+j_4+j_5+j_6+j_7+j_8+j_9',data=df2).fit()\n",
    "print(edu_model3.summary())"
   ]
  },
  {
   "cell_type": "code",
   "execution_count": 8,
   "id": "d0adbd7e",
   "metadata": {},
   "outputs": [],
   "source": [
    "# 더미변수 회귀분석할 때는, 하나 범주 빼고 regression 하면됨"
   ]
  },
  {
   "cell_type": "code",
   "execution_count": 9,
   "id": "00885865",
   "metadata": {},
   "outputs": [],
   "source": [
    "# s_1: 1971 (양수)\n",
    "# 남자가 여자(빠진 더미)보다 돈 더 많이 번다"
   ]
  },
  {
   "cell_type": "code",
   "execution_count": 10,
   "id": "d720091f",
   "metadata": {},
   "outputs": [],
   "source": [
    "# j_2: 4115\n",
    "# j_1 보다 4115만큼 돈을 더 벌고 있구나"
   ]
  },
  {
   "cell_type": "markdown",
   "id": "c3fb3db6",
   "metadata": {},
   "source": [
    "# Lecture 12 회귀분석과 머신러닝(1)\n",
    "## 1 머신러닝을 이용한 회귀분석\n",
    "## 1.1 기계학습\n",
    "## 1.4 경사하강법\n",
    "## 2 Tensor flow\n",
    "- tensor: 숫자를 저장하는 방식, 자료구조를 tensor로 표현한다, 보통 차원을 의미\n",
    "- scalar는 0차원, 벡터는 1차원, 행렬은 2차원"
   ]
  },
  {
   "cell_type": "code",
   "execution_count": 11,
   "id": "e8d1f8ef",
   "metadata": {},
   "outputs": [
    {
     "name": "stdout",
     "output_type": "stream",
     "text": [
      "Requirement already satisfied: tensorflow in c:\\users\\chaer\\anaconda3\\lib\\site-packages (2.16.1)Note: you may need to restart the kernel to use updated packages.\n",
      "\n",
      "Requirement already satisfied: tensorflow-intel==2.16.1 in c:\\users\\chaer\\anaconda3\\lib\\site-packages (from tensorflow) (2.16.1)\n",
      "Requirement already satisfied: tensorboard<2.17,>=2.16 in c:\\users\\chaer\\anaconda3\\lib\\site-packages (from tensorflow-intel==2.16.1->tensorflow) (2.16.2)\n",
      "Requirement already satisfied: termcolor>=1.1.0 in c:\\users\\chaer\\anaconda3\\lib\\site-packages (from tensorflow-intel==2.16.1->tensorflow) (2.4.0)\n",
      "Requirement already satisfied: astunparse>=1.6.0 in c:\\users\\chaer\\anaconda3\\lib\\site-packages (from tensorflow-intel==2.16.1->tensorflow) (1.6.3)\n",
      "Requirement already satisfied: ml-dtypes~=0.3.1 in c:\\users\\chaer\\anaconda3\\lib\\site-packages (from tensorflow-intel==2.16.1->tensorflow) (0.3.2)\n",
      "Requirement already satisfied: tensorflow-io-gcs-filesystem>=0.23.1 in c:\\users\\chaer\\anaconda3\\lib\\site-packages (from tensorflow-intel==2.16.1->tensorflow) (0.31.0)\n",
      "Requirement already satisfied: six>=1.12.0 in c:\\users\\chaer\\anaconda3\\lib\\site-packages (from tensorflow-intel==2.16.1->tensorflow) (1.16.0)\n",
      "Requirement already satisfied: setuptools in c:\\users\\chaer\\anaconda3\\lib\\site-packages (from tensorflow-intel==2.16.1->tensorflow) (63.4.1)\n",
      "Requirement already satisfied: opt-einsum>=2.3.2 in c:\\users\\chaer\\anaconda3\\lib\\site-packages (from tensorflow-intel==2.16.1->tensorflow) (3.3.0)\n",
      "Requirement already satisfied: packaging in c:\\users\\chaer\\anaconda3\\lib\\site-packages (from tensorflow-intel==2.16.1->tensorflow) (21.3)\n",
      "Requirement already satisfied: requests<3,>=2.21.0 in c:\\users\\chaer\\anaconda3\\lib\\site-packages (from tensorflow-intel==2.16.1->tensorflow) (2.28.1)\n",
      "Requirement already satisfied: gast!=0.5.0,!=0.5.1,!=0.5.2,>=0.2.1 in c:\\users\\chaer\\anaconda3\\lib\\site-packages (from tensorflow-intel==2.16.1->tensorflow) (0.4.0)\n",
      "Requirement already satisfied: numpy<2.0.0,>=1.23.5 in c:\\users\\chaer\\anaconda3\\lib\\site-packages (from tensorflow-intel==2.16.1->tensorflow) (1.24.3)\n",
      "Requirement already satisfied: protobuf!=4.21.0,!=4.21.1,!=4.21.2,!=4.21.3,!=4.21.4,!=4.21.5,<5.0.0dev,>=3.20.3 in c:\\users\\chaer\\anaconda3\\lib\\site-packages (from tensorflow-intel==2.16.1->tensorflow) (4.25.3)\n",
      "Requirement already satisfied: typing-extensions>=3.6.6 in c:\\users\\chaer\\anaconda3\\lib\\site-packages (from tensorflow-intel==2.16.1->tensorflow) (4.3.0)\n",
      "Requirement already satisfied: h5py>=3.10.0 in c:\\users\\chaer\\anaconda3\\lib\\site-packages (from tensorflow-intel==2.16.1->tensorflow) (3.11.0)\n",
      "Requirement already satisfied: keras>=3.0.0 in c:\\users\\chaer\\anaconda3\\lib\\site-packages (from tensorflow-intel==2.16.1->tensorflow) (3.3.3)\n",
      "Requirement already satisfied: wrapt>=1.11.0 in c:\\users\\chaer\\anaconda3\\lib\\site-packages (from tensorflow-intel==2.16.1->tensorflow) (1.14.1)\n",
      "Requirement already satisfied: flatbuffers>=23.5.26 in c:\\users\\chaer\\anaconda3\\lib\\site-packages (from tensorflow-intel==2.16.1->tensorflow) (24.3.25)\n",
      "Requirement already satisfied: libclang>=13.0.0 in c:\\users\\chaer\\anaconda3\\lib\\site-packages (from tensorflow-intel==2.16.1->tensorflow) (18.1.1)\n",
      "Requirement already satisfied: google-pasta>=0.1.1 in c:\\users\\chaer\\anaconda3\\lib\\site-packages (from tensorflow-intel==2.16.1->tensorflow) (0.2.0)\n",
      "Requirement already satisfied: grpcio<2.0,>=1.24.3 in c:\\users\\chaer\\anaconda3\\lib\\site-packages (from tensorflow-intel==2.16.1->tensorflow) (1.64.1)\n",
      "Requirement already satisfied: absl-py>=1.0.0 in c:\\users\\chaer\\anaconda3\\lib\\site-packages (from tensorflow-intel==2.16.1->tensorflow) (2.1.0)\n",
      "Requirement already satisfied: wheel<1.0,>=0.23.0 in c:\\users\\chaer\\anaconda3\\lib\\site-packages (from astunparse>=1.6.0->tensorflow-intel==2.16.1->tensorflow) (0.37.1)\n",
      "Requirement already satisfied: rich in c:\\users\\chaer\\anaconda3\\lib\\site-packages (from keras>=3.0.0->tensorflow-intel==2.16.1->tensorflow) (13.7.1)\n",
      "Requirement already satisfied: optree in c:\\users\\chaer\\anaconda3\\lib\\site-packages (from keras>=3.0.0->tensorflow-intel==2.16.1->tensorflow) (0.11.0)\n",
      "Requirement already satisfied: namex in c:\\users\\chaer\\anaconda3\\lib\\site-packages (from keras>=3.0.0->tensorflow-intel==2.16.1->tensorflow) (0.0.8)\n",
      "Requirement already satisfied: idna<4,>=2.5 in c:\\users\\chaer\\anaconda3\\lib\\site-packages (from requests<3,>=2.21.0->tensorflow-intel==2.16.1->tensorflow) (3.3)\n",
      "Requirement already satisfied: charset-normalizer<3,>=2 in c:\\users\\chaer\\anaconda3\\lib\\site-packages (from requests<3,>=2.21.0->tensorflow-intel==2.16.1->tensorflow) (2.0.4)\n",
      "Requirement already satisfied: urllib3<1.27,>=1.21.1 in c:\\users\\chaer\\anaconda3\\lib\\site-packages (from requests<3,>=2.21.0->tensorflow-intel==2.16.1->tensorflow) (1.26.11)\n",
      "Requirement already satisfied: certifi>=2017.4.17 in c:\\users\\chaer\\anaconda3\\lib\\site-packages (from requests<3,>=2.21.0->tensorflow-intel==2.16.1->tensorflow) (2022.9.14)\n",
      "Requirement already satisfied: tensorboard-data-server<0.8.0,>=0.7.0 in c:\\users\\chaer\\anaconda3\\lib\\site-packages (from tensorboard<2.17,>=2.16->tensorflow-intel==2.16.1->tensorflow) (0.7.2)\n",
      "Requirement already satisfied: werkzeug>=1.0.1 in c:\\users\\chaer\\anaconda3\\lib\\site-packages (from tensorboard<2.17,>=2.16->tensorflow-intel==2.16.1->tensorflow) (2.0.3)\n",
      "Requirement already satisfied: markdown>=2.6.8 in c:\\users\\chaer\\anaconda3\\lib\\site-packages (from tensorboard<2.17,>=2.16->tensorflow-intel==2.16.1->tensorflow) (3.3.4)\n",
      "Requirement already satisfied: pyparsing!=3.0.5,>=2.0.2 in c:\\users\\chaer\\anaconda3\\lib\\site-packages (from packaging->tensorflow-intel==2.16.1->tensorflow) (3.0.9)\n",
      "Requirement already satisfied: pygments<3.0.0,>=2.13.0 in c:\\users\\chaer\\anaconda3\\lib\\site-packages (from rich->keras>=3.0.0->tensorflow-intel==2.16.1->tensorflow) (2.18.0)\n",
      "Requirement already satisfied: markdown-it-py>=2.2.0 in c:\\users\\chaer\\anaconda3\\lib\\site-packages (from rich->keras>=3.0.0->tensorflow-intel==2.16.1->tensorflow) (3.0.0)\n",
      "Requirement already satisfied: mdurl~=0.1 in c:\\users\\chaer\\anaconda3\\lib\\site-packages (from markdown-it-py>=2.2.0->rich->keras>=3.0.0->tensorflow-intel==2.16.1->tensorflow) (0.1.2)\n"
     ]
    },
    {
     "name": "stderr",
     "output_type": "stream",
     "text": [
      "WARNING: Ignoring invalid distribution -ensorflow-intel (c:\\users\\chaer\\anaconda3\\lib\\site-packages)\n",
      "WARNING: Ignoring invalid distribution -ensorflow-intel (c:\\users\\chaer\\anaconda3\\lib\\site-packages)\n",
      "WARNING: Ignoring invalid distribution -ensorflow-intel (c:\\users\\chaer\\anaconda3\\lib\\site-packages)\n",
      "WARNING: Ignoring invalid distribution -ensorflow-intel (c:\\users\\chaer\\anaconda3\\lib\\site-packages)\n",
      "WARNING: Ignoring invalid distribution -ensorflow-intel (c:\\users\\chaer\\anaconda3\\lib\\site-packages)\n",
      "WARNING: Ignoring invalid distribution -ensorflow-intel (c:\\users\\chaer\\anaconda3\\lib\\site-packages)\n"
     ]
    }
   ],
   "source": [
    "pip install tensorflow"
   ]
  },
  {
   "cell_type": "code",
   "execution_count": 12,
   "id": "cbd90b25",
   "metadata": {},
   "outputs": [],
   "source": [
    "import tensorflow as tf"
   ]
  },
  {
   "cell_type": "code",
   "execution_count": 13,
   "id": "6d3a5bbe",
   "metadata": {},
   "outputs": [
    {
     "data": {
      "text/html": [
       "<div>\n",
       "<style scoped>\n",
       "    .dataframe tbody tr th:only-of-type {\n",
       "        vertical-align: middle;\n",
       "    }\n",
       "\n",
       "    .dataframe tbody tr th {\n",
       "        vertical-align: top;\n",
       "    }\n",
       "\n",
       "    .dataframe thead th {\n",
       "        text-align: right;\n",
       "    }\n",
       "</style>\n",
       "<table border=\"1\" class=\"dataframe\">\n",
       "  <thead>\n",
       "    <tr style=\"text-align: right;\">\n",
       "      <th></th>\n",
       "      <th>YYM1</th>\n",
       "      <th>CITY</th>\n",
       "      <th>CITY_CODE</th>\n",
       "      <th>GU_NAME</th>\n",
       "      <th>GU_CODE2</th>\n",
       "      <th>API_TT0</th>\n",
       "      <th>BaseRate</th>\n",
       "      <th>MoRate</th>\n",
       "      <th>FREQ</th>\n",
       "      <th>A_PSUM</th>\n",
       "      <th>...</th>\n",
       "      <th>LTV</th>\n",
       "      <th>DTI</th>\n",
       "      <th>MV_APT</th>\n",
       "      <th>JAEGO</th>\n",
       "      <th>BUNYANG</th>\n",
       "      <th>N_BUNYANG</th>\n",
       "      <th>IND_INDEX</th>\n",
       "      <th>JTP</th>\n",
       "      <th>LOAN_T</th>\n",
       "      <th>MON</th>\n",
       "    </tr>\n",
       "  </thead>\n",
       "  <tbody>\n",
       "    <tr>\n",
       "      <th>0</th>\n",
       "      <td>200603</td>\n",
       "      <td>서울특별시</td>\n",
       "      <td>11</td>\n",
       "      <td>종로중구</td>\n",
       "      <td>1111</td>\n",
       "      <td>75.245608</td>\n",
       "      <td>4.00</td>\n",
       "      <td>5.46</td>\n",
       "      <td>71</td>\n",
       "      <td>2.559029</td>\n",
       "      <td>...</td>\n",
       "      <td>42.912677</td>\n",
       "      <td>93.255607</td>\n",
       "      <td>4.891421</td>\n",
       "      <td>110</td>\n",
       "      <td>0</td>\n",
       "      <td>277</td>\n",
       "      <td>109.907</td>\n",
       "      <td>48.372</td>\n",
       "      <td>104.381241</td>\n",
       "      <td>3</td>\n",
       "    </tr>\n",
       "    <tr>\n",
       "      <th>1</th>\n",
       "      <td>200606</td>\n",
       "      <td>서울특별시</td>\n",
       "      <td>11</td>\n",
       "      <td>종로중구</td>\n",
       "      <td>1111</td>\n",
       "      <td>81.009183</td>\n",
       "      <td>4.25</td>\n",
       "      <td>5.48</td>\n",
       "      <td>58</td>\n",
       "      <td>1.774481</td>\n",
       "      <td>...</td>\n",
       "      <td>43.944172</td>\n",
       "      <td>94.827586</td>\n",
       "      <td>4.891421</td>\n",
       "      <td>0</td>\n",
       "      <td>0</td>\n",
       "      <td>277</td>\n",
       "      <td>99.469</td>\n",
       "      <td>47.454</td>\n",
       "      <td>107.564252</td>\n",
       "      <td>6</td>\n",
       "    </tr>\n",
       "    <tr>\n",
       "      <th>2</th>\n",
       "      <td>200609</td>\n",
       "      <td>서울특별시</td>\n",
       "      <td>11</td>\n",
       "      <td>종로중구</td>\n",
       "      <td>1111</td>\n",
       "      <td>81.208640</td>\n",
       "      <td>4.50</td>\n",
       "      <td>5.77</td>\n",
       "      <td>90</td>\n",
       "      <td>2.898839</td>\n",
       "      <td>...</td>\n",
       "      <td>44.425621</td>\n",
       "      <td>94.000000</td>\n",
       "      <td>4.891421</td>\n",
       "      <td>0</td>\n",
       "      <td>0</td>\n",
       "      <td>14</td>\n",
       "      <td>123.203</td>\n",
       "      <td>47.670</td>\n",
       "      <td>110.666410</td>\n",
       "      <td>9</td>\n",
       "    </tr>\n",
       "    <tr>\n",
       "      <th>3</th>\n",
       "      <td>200612</td>\n",
       "      <td>서울특별시</td>\n",
       "      <td>11</td>\n",
       "      <td>종로중구</td>\n",
       "      <td>1111</td>\n",
       "      <td>88.068940</td>\n",
       "      <td>4.50</td>\n",
       "      <td>5.88</td>\n",
       "      <td>99</td>\n",
       "      <td>3.181162</td>\n",
       "      <td>...</td>\n",
       "      <td>50.340131</td>\n",
       "      <td>95.151515</td>\n",
       "      <td>4.891421</td>\n",
       "      <td>0</td>\n",
       "      <td>136</td>\n",
       "      <td>6</td>\n",
       "      <td>128.718</td>\n",
       "      <td>43.811</td>\n",
       "      <td>101.843742</td>\n",
       "      <td>12</td>\n",
       "    </tr>\n",
       "    <tr>\n",
       "      <th>4</th>\n",
       "      <td>200703</td>\n",
       "      <td>서울특별시</td>\n",
       "      <td>11</td>\n",
       "      <td>종로중구</td>\n",
       "      <td>1111</td>\n",
       "      <td>86.507762</td>\n",
       "      <td>4.50</td>\n",
       "      <td>6.20</td>\n",
       "      <td>68</td>\n",
       "      <td>1.955622</td>\n",
       "      <td>...</td>\n",
       "      <td>50.951451</td>\n",
       "      <td>48.890836</td>\n",
       "      <td>6.083816</td>\n",
       "      <td>0</td>\n",
       "      <td>112</td>\n",
       "      <td>0</td>\n",
       "      <td>110.893</td>\n",
       "      <td>42.987</td>\n",
       "      <td>107.877226</td>\n",
       "      <td>3</td>\n",
       "    </tr>\n",
       "  </tbody>\n",
       "</table>\n",
       "<p>5 rows × 22 columns</p>\n",
       "</div>"
      ],
      "text/plain": [
       "     YYM1   CITY  CITY_CODE GU_NAME  GU_CODE2    API_TT0  BaseRate  MoRate  \\\n",
       "0  200603  서울특별시         11    종로중구      1111  75.245608      4.00    5.46   \n",
       "1  200606  서울특별시         11    종로중구      1111  81.009183      4.25    5.48   \n",
       "2  200609  서울특별시         11    종로중구      1111  81.208640      4.50    5.77   \n",
       "3  200612  서울특별시         11    종로중구      1111  88.068940      4.50    5.88   \n",
       "4  200703  서울특별시         11    종로중구      1111  86.507762      4.50    6.20   \n",
       "\n",
       "   FREQ    A_PSUM  ...        LTV        DTI    MV_APT  JAEGO  BUNYANG  \\\n",
       "0    71  2.559029  ...  42.912677  93.255607  4.891421    110        0   \n",
       "1    58  1.774481  ...  43.944172  94.827586  4.891421      0        0   \n",
       "2    90  2.898839  ...  44.425621  94.000000  4.891421      0        0   \n",
       "3    99  3.181162  ...  50.340131  95.151515  4.891421      0      136   \n",
       "4    68  1.955622  ...  50.951451  48.890836  6.083816      0      112   \n",
       "\n",
       "   N_BUNYANG  IND_INDEX     JTP      LOAN_T  MON  \n",
       "0        277    109.907  48.372  104.381241    3  \n",
       "1        277     99.469  47.454  107.564252    6  \n",
       "2         14    123.203  47.670  110.666410    9  \n",
       "3          6    128.718  43.811  101.843742   12  \n",
       "4          0    110.893  42.987  107.877226    3  \n",
       "\n",
       "[5 rows x 22 columns]"
      ]
     },
     "execution_count": 13,
     "metadata": {},
     "output_type": "execute_result"
    }
   ],
   "source": [
    "df=pd.read_csv('c:/temp/HPI_SEOUL.csv',encoding='CP949')\n",
    "df.head()"
   ]
  },
  {
   "cell_type": "code",
   "execution_count": 15,
   "id": "a5180a72",
   "metadata": {},
   "outputs": [],
   "source": [
    "# LTV: Loan to value : 집값 대비 부채\n",
    "# DTI: Debt to income ratio : 소득 대비 부채가 몇퍼센트인지\n",
    "# DSR: ...\n",
    "# 가장 최근 규제가 무엇인지"
   ]
  },
  {
   "cell_type": "code",
   "execution_count": 16,
   "id": "0e957be6",
   "metadata": {},
   "outputs": [
    {
     "data": {
      "text/plain": [
       "<tf.Tensor: shape=(), dtype=int32, numpy=12>"
      ]
     },
     "execution_count": 16,
     "metadata": {},
     "output_type": "execute_result"
    }
   ],
   "source": [
    "a=tf.constant(12)\n",
    "a"
   ]
  },
  {
   "cell_type": "code",
   "execution_count": 17,
   "id": "bb900c0f",
   "metadata": {},
   "outputs": [],
   "source": [
    "# constant, variable 등으로 가져올 수 있다"
   ]
  },
  {
   "cell_type": "code",
   "execution_count": 18,
   "id": "af58e43e",
   "metadata": {},
   "outputs": [
    {
     "data": {
      "text/plain": [
       "<tf.Tensor: shape=(3,), dtype=int32, numpy=array([1, 2, 3])>"
      ]
     },
     "execution_count": 18,
     "metadata": {},
     "output_type": "execute_result"
    }
   ],
   "source": [
    "b=tf.constant([1,2,3])\n",
    "b"
   ]
  },
  {
   "cell_type": "code",
   "execution_count": 19,
   "id": "5202cedc",
   "metadata": {},
   "outputs": [],
   "source": [
    "# b는 벡터, a는 스칼라가 된다\n",
    "# shape=(3,): 행의 갯수가 3개라는 뜻"
   ]
  },
  {
   "cell_type": "code",
   "execution_count": 20,
   "id": "c29af9c9",
   "metadata": {},
   "outputs": [
    {
     "data": {
      "text/plain": [
       "0"
      ]
     },
     "execution_count": 20,
     "metadata": {},
     "output_type": "execute_result"
    }
   ],
   "source": [
    "a.ndim"
   ]
  },
  {
   "cell_type": "code",
   "execution_count": 21,
   "id": "13798bbd",
   "metadata": {},
   "outputs": [],
   "source": [
    "# a는 0차원"
   ]
  },
  {
   "cell_type": "code",
   "execution_count": 22,
   "id": "0ac62b72",
   "metadata": {},
   "outputs": [
    {
     "data": {
      "text/plain": [
       "1"
      ]
     },
     "execution_count": 22,
     "metadata": {},
     "output_type": "execute_result"
    }
   ],
   "source": [
    "b.ndim"
   ]
  },
  {
   "cell_type": "code",
   "execution_count": 23,
   "id": "0d4b9bb6",
   "metadata": {},
   "outputs": [],
   "source": [
    "# b는 1차원"
   ]
  },
  {
   "cell_type": "code",
   "execution_count": 24,
   "id": "ef4dbdb3",
   "metadata": {},
   "outputs": [
    {
     "data": {
      "text/plain": [
       "TensorShape([])"
      ]
     },
     "execution_count": 24,
     "metadata": {},
     "output_type": "execute_result"
    }
   ],
   "source": [
    "a.shape"
   ]
  },
  {
   "cell_type": "code",
   "execution_count": 25,
   "id": "3df6e051",
   "metadata": {},
   "outputs": [],
   "source": [
    "# a는 0차원"
   ]
  },
  {
   "cell_type": "code",
   "execution_count": 26,
   "id": "178d15d5",
   "metadata": {},
   "outputs": [
    {
     "data": {
      "text/plain": [
       "TensorShape([3])"
      ]
     },
     "execution_count": 26,
     "metadata": {},
     "output_type": "execute_result"
    }
   ],
   "source": [
    "b.shape"
   ]
  },
  {
   "cell_type": "code",
   "execution_count": 27,
   "id": "63e64fff",
   "metadata": {},
   "outputs": [],
   "source": [
    "# b는 3개의 행으로 구성된 벡터"
   ]
  },
  {
   "cell_type": "code",
   "execution_count": 29,
   "id": "620495b8",
   "metadata": {},
   "outputs": [
    {
     "data": {
      "text/plain": [
       "<tf.Tensor: shape=(2, 3), dtype=int32, numpy=\n",
       "array([[1, 2, 3],\n",
       "       [4, 5, 6]])>"
      ]
     },
     "execution_count": 29,
     "metadata": {},
     "output_type": "execute_result"
    }
   ],
   "source": [
    "c=tf.constant([[1,2,3],[4,5,6]])\n",
    "c"
   ]
  },
  {
   "cell_type": "code",
   "execution_count": 30,
   "id": "7e57ef1e",
   "metadata": {},
   "outputs": [],
   "source": [
    "# shape=(2,3): 행렬의 dimension이 2x3이라는 뜻 가로 2 세로3"
   ]
  },
  {
   "cell_type": "code",
   "execution_count": 31,
   "id": "aab481e5",
   "metadata": {},
   "outputs": [
    {
     "data": {
      "text/plain": [
       "2"
      ]
     },
     "execution_count": 31,
     "metadata": {},
     "output_type": "execute_result"
    }
   ],
   "source": [
    "c.ndim"
   ]
  },
  {
   "cell_type": "code",
   "execution_count": 32,
   "id": "9e2676db",
   "metadata": {},
   "outputs": [
    {
     "data": {
      "text/plain": [
       "TensorShape([2, 3])"
      ]
     },
     "execution_count": 32,
     "metadata": {},
     "output_type": "execute_result"
    }
   ],
   "source": [
    "c.shape"
   ]
  },
  {
   "cell_type": "code",
   "execution_count": 33,
   "id": "f3040ecb",
   "metadata": {},
   "outputs": [
    {
     "data": {
      "text/plain": [
       "<tf.Tensor: shape=(2,), dtype=int32, numpy=array([2, 3])>"
      ]
     },
     "execution_count": 33,
     "metadata": {},
     "output_type": "execute_result"
    }
   ],
   "source": [
    "tf.constant([2,3]) # 2개의 값이 있는 1차원의 텐서 구조라는 뜻"
   ]
  },
  {
   "cell_type": "code",
   "execution_count": 36,
   "id": "0835afc2",
   "metadata": {},
   "outputs": [],
   "source": [
    "# 3차원의 텐서구조 만들기\n",
    "d=tf.constant([[[1,2,3],[4,5,6],[7,8,9]]])"
   ]
  },
  {
   "cell_type": "code",
   "execution_count": 37,
   "id": "2711afaa",
   "metadata": {},
   "outputs": [
    {
     "data": {
      "text/plain": [
       "3"
      ]
     },
     "execution_count": 37,
     "metadata": {},
     "output_type": "execute_result"
    }
   ],
   "source": [
    "d.ndim"
   ]
  },
  {
   "cell_type": "code",
   "execution_count": 38,
   "id": "3d3f565b",
   "metadata": {},
   "outputs": [
    {
     "data": {
      "text/plain": [
       "TensorShape([1, 3, 3])"
      ]
     },
     "execution_count": 38,
     "metadata": {},
     "output_type": "execute_result"
    }
   ],
   "source": [
    "d.shape"
   ]
  },
  {
   "cell_type": "code",
   "execution_count": 40,
   "id": "78140ccb",
   "metadata": {},
   "outputs": [],
   "source": [
    "# TensorShape([1, 3, 3])\n",
    "# 뒤에 3,3: 행의 갯수, 열 갯수\n",
    "# 앞에 1: depth, 행렬의 층\n",
    "# 3x3 행렬이 하나 있다는 뜻"
   ]
  },
  {
   "cell_type": "code",
   "execution_count": 41,
   "id": "6755502a",
   "metadata": {},
   "outputs": [
    {
     "data": {
      "text/plain": [
       "1"
      ]
     },
     "execution_count": 41,
     "metadata": {},
     "output_type": "execute_result"
    }
   ],
   "source": [
    "a=tf.constant(np.arange(1,13)) # np.arange: 1부터 12까지 연속적 숫자 , 벡터임\n",
    "a.ndim"
   ]
  },
  {
   "cell_type": "code",
   "execution_count": 42,
   "id": "33d65318",
   "metadata": {},
   "outputs": [
    {
     "data": {
      "text/plain": [
       "<tf.Tensor: shape=(12,), dtype=int32, numpy=array([ 1,  2,  3,  4,  5,  6,  7,  8,  9, 10, 11, 12])>"
      ]
     },
     "execution_count": 42,
     "metadata": {},
     "output_type": "execute_result"
    }
   ],
   "source": [
    "a"
   ]
  },
  {
   "cell_type": "code",
   "execution_count": 43,
   "id": "38c649d9",
   "metadata": {},
   "outputs": [],
   "source": [
    "# reshape: 다른 텐서구조로 바꾸자\n",
    "# 2x6구조로 바꾸자\n",
    "b=tf.reshape(a,[2,6])"
   ]
  },
  {
   "cell_type": "code",
   "execution_count": 44,
   "id": "33dc0557",
   "metadata": {},
   "outputs": [
    {
     "data": {
      "text/plain": [
       "<tf.Tensor: shape=(2, 6), dtype=int32, numpy=\n",
       "array([[ 1,  2,  3,  4,  5,  6],\n",
       "       [ 7,  8,  9, 10, 11, 12]])>"
      ]
     },
     "execution_count": 44,
     "metadata": {},
     "output_type": "execute_result"
    }
   ],
   "source": [
    "b"
   ]
  },
  {
   "cell_type": "code",
   "execution_count": 45,
   "id": "be031240",
   "metadata": {},
   "outputs": [
    {
     "data": {
      "text/plain": [
       "3"
      ]
     },
     "execution_count": 45,
     "metadata": {},
     "output_type": "execute_result"
    }
   ],
   "source": [
    "# a를 3차원으로 바꿔보자\n",
    "# 2x3 행렬을 겹겹이(2층) 쌓아보자\n",
    "c=tf.reshape(a,[2,2,3])\n",
    "c.ndim"
   ]
  },
  {
   "cell_type": "code",
   "execution_count": 46,
   "id": "3fc5ac1d",
   "metadata": {},
   "outputs": [
    {
     "data": {
      "text/plain": [
       "<tf.Tensor: shape=(2, 2, 3), dtype=int32, numpy=\n",
       "array([[[ 1,  2,  3],\n",
       "        [ 4,  5,  6]],\n",
       "\n",
       "       [[ 7,  8,  9],\n",
       "        [10, 11, 12]]])>"
      ]
     },
     "execution_count": 46,
     "metadata": {},
     "output_type": "execute_result"
    }
   ],
   "source": [
    "c"
   ]
  },
  {
   "cell_type": "code",
   "execution_count": 47,
   "id": "983ddd58",
   "metadata": {},
   "outputs": [],
   "source": [
    "# 깊이가 2인 2x3 행렬"
   ]
  },
  {
   "cell_type": "markdown",
   "id": "7ef44bb2",
   "metadata": {},
   "source": [
    "#### part2"
   ]
  },
  {
   "cell_type": "code",
   "execution_count": 48,
   "id": "9565dcbc",
   "metadata": {},
   "outputs": [
    {
     "data": {
      "text/plain": [
       "<tf.Tensor: shape=(2, 3), dtype=int32, numpy=\n",
       "array([[1, 2, 3],\n",
       "       [4, 5, 6]])>"
      ]
     },
     "execution_count": 48,
     "metadata": {},
     "output_type": "execute_result"
    }
   ],
   "source": [
    "# tensor 연산\n",
    "x=tf.constant([1,2,3,4,5,6],shape=[2,3])\n",
    "x"
   ]
  },
  {
   "cell_type": "code",
   "execution_count": 49,
   "id": "efccb4e0",
   "metadata": {},
   "outputs": [
    {
     "data": {
      "text/plain": [
       "<tf.Tensor: shape=(2, 3), dtype=int32, numpy=\n",
       "array([[1, 2, 3],\n",
       "       [4, 5, 6]])>"
      ]
     },
     "execution_count": 49,
     "metadata": {},
     "output_type": "execute_result"
    }
   ],
   "source": [
    "y=tf.constant([1,2,3,4,5,6],shape=[2,3])\n",
    "y"
   ]
  },
  {
   "cell_type": "code",
   "execution_count": 50,
   "id": "52ad00d1",
   "metadata": {},
   "outputs": [
    {
     "data": {
      "text/plain": [
       "<tf.Tensor: shape=(2, 3), dtype=int32, numpy=\n",
       "array([[0, 0, 0],\n",
       "       [0, 0, 0]])>"
      ]
     },
     "execution_count": 50,
     "metadata": {},
     "output_type": "execute_result"
    }
   ],
   "source": [
    "tf.math.subtract(x,y)"
   ]
  },
  {
   "cell_type": "code",
   "execution_count": 51,
   "id": "1f3f1dd7",
   "metadata": {},
   "outputs": [
    {
     "data": {
      "text/plain": [
       "<tf.Tensor: shape=(2, 3), dtype=int32, numpy=\n",
       "array([[ 2,  4,  6],\n",
       "       [ 8, 10, 12]])>"
      ]
     },
     "execution_count": 51,
     "metadata": {},
     "output_type": "execute_result"
    }
   ],
   "source": [
    "tf.math.add(x,y)"
   ]
  },
  {
   "cell_type": "code",
   "execution_count": 53,
   "id": "c77e3dce",
   "metadata": {},
   "outputs": [
    {
     "data": {
      "text/plain": [
       "<tf.Tensor: shape=(2, 3), dtype=int32, numpy=\n",
       "array([[ 1,  4,  9],\n",
       "       [16, 25, 36]])>"
      ]
     },
     "execution_count": 53,
     "metadata": {},
     "output_type": "execute_result"
    }
   ],
   "source": [
    "tf.math.multiply(x,y)"
   ]
  },
  {
   "cell_type": "code",
   "execution_count": 54,
   "id": "00cf9ada",
   "metadata": {},
   "outputs": [],
   "source": [
    "# 위에는 element by element 곱셈"
   ]
  },
  {
   "cell_type": "code",
   "execution_count": 55,
   "id": "66411768",
   "metadata": {},
   "outputs": [
    {
     "data": {
      "text/plain": [
       "<tf.Tensor: shape=(2, 2), dtype=int32, numpy=\n",
       "array([[14, 32],\n",
       "       [32, 77]])>"
      ]
     },
     "execution_count": 55,
     "metadata": {},
     "output_type": "execute_result"
    }
   ],
   "source": [
    "# 행렬 곱셈 matmul\n",
    "y1=tf.transpose(y)\n",
    "tf.matmul(x,y1)"
   ]
  },
  {
   "cell_type": "markdown",
   "id": "a4da39cf",
   "metadata": {},
   "source": [
    "### 텐서로 미분하기"
   ]
  },
  {
   "cell_type": "code",
   "execution_count": 56,
   "id": "9d26b956",
   "metadata": {},
   "outputs": [],
   "source": [
    "# 미분.. x가 움직일 수 있는 여지 있음 -> x를 Variable로 정의\n",
    "x=tf.Variable(2.0)"
   ]
  },
  {
   "cell_type": "code",
   "execution_count": 57,
   "id": "52464a8f",
   "metadata": {},
   "outputs": [
    {
     "name": "stdout",
     "output_type": "stream",
     "text": [
      "tf.Tensor(12.0, shape=(), dtype=float32)\n"
     ]
    }
   ],
   "source": [
    "with tf.GradientTape() as t:\n",
    "    y=x**3\n",
    "    dy_dx=t.gradient(y,x) # 미분해라\n",
    "print(dy_dx)"
   ]
  },
  {
   "cell_type": "code",
   "execution_count": 58,
   "id": "af661055",
   "metadata": {},
   "outputs": [],
   "source": [
    "# 미분한 값 : 12 로 나옴"
   ]
  },
  {
   "cell_type": "code",
   "execution_count": 59,
   "id": "14a118ae",
   "metadata": {},
   "outputs": [],
   "source": [
    "# 미지수가 두개인  경우 텐서에서 미분하기"
   ]
  },
  {
   "cell_type": "code",
   "execution_count": 62,
   "id": "b78db449",
   "metadata": {},
   "outputs": [
    {
     "name": "stdout",
     "output_type": "stream",
     "text": [
      "[<tf.Tensor: shape=(), dtype=float32, numpy=8.0>, <tf.Tensor: shape=(), dtype=float32, numpy=2.0>]\n"
     ]
    }
   ],
   "source": [
    "# y=f(w1, w2)=3*(w1**2)+2*(w1)*(w2)\n",
    "w1=tf.Variable(1.0) # 1.0에서 시작\n",
    "w2=tf.Variable(1.0) # 1.0에서 시작\n",
    "\n",
    "with tf.GradientTape() as t:\n",
    "    y=3*(w1**2)+2*w1*w2\n",
    "    grad=t.gradient(y,[w1,w2])\n",
    "print(grad)"
   ]
  },
  {
   "cell_type": "code",
   "execution_count": 63,
   "id": "cbf18c8d",
   "metadata": {},
   "outputs": [],
   "source": [
    "# numpy=8.0, numpy=2.0"
   ]
  },
  {
   "cell_type": "markdown",
   "id": "eac68562",
   "metadata": {},
   "source": [
    "## 3 ML을 이용한 회귀분석 원리"
   ]
  },
  {
   "cell_type": "code",
   "execution_count": 64,
   "id": "14e48391",
   "metadata": {},
   "outputs": [
    {
     "name": "stdout",
     "output_type": "stream",
     "text": [
      "tf.Tensor([ 2.5  4.5  6.5  8.5 10.5], shape=(5,), dtype=float32)\n"
     ]
    }
   ],
   "source": [
    "x_data=[1,2,3,4,5]\n",
    "W=tf.Variable(2.0)\n",
    "b=tf.Variable(0.5)\n",
    "\n",
    "hypothesis=W*x_data+b\n",
    "print(hypothesis)"
   ]
  },
  {
   "cell_type": "code",
   "execution_count": 65,
   "id": "04f58141",
   "metadata": {},
   "outputs": [],
   "source": [
    "# 2.5  4.5  6.5  8.5 10.5: 이게 알아낸 가설의 값\n",
    "# 이 가설의 값과, y값이 얼마나 가까운지 측정하는게 cost function"
   ]
  },
  {
   "cell_type": "code",
   "execution_count": null,
   "id": "d3a9a45f",
   "metadata": {},
   "outputs": [],
   "source": []
  },
  {
   "cell_type": "code",
   "execution_count": null,
   "id": "f52bfb82",
   "metadata": {},
   "outputs": [],
   "source": []
  },
  {
   "cell_type": "code",
   "execution_count": null,
   "id": "9a23a5ad",
   "metadata": {},
   "outputs": [],
   "source": []
  },
  {
   "cell_type": "code",
   "execution_count": null,
   "id": "75b05997",
   "metadata": {},
   "outputs": [],
   "source": []
  },
  {
   "cell_type": "code",
   "execution_count": null,
   "id": "52f733d6",
   "metadata": {},
   "outputs": [],
   "source": []
  }
 ],
 "metadata": {
  "kernelspec": {
   "display_name": "Python 3 (ipykernel)",
   "language": "python",
   "name": "python3"
  },
  "language_info": {
   "codemirror_mode": {
    "name": "ipython",
    "version": 3
   },
   "file_extension": ".py",
   "mimetype": "text/x-python",
   "name": "python",
   "nbconvert_exporter": "python",
   "pygments_lexer": "ipython3",
   "version": "3.9.13"
  }
 },
 "nbformat": 4,
 "nbformat_minor": 5
}
