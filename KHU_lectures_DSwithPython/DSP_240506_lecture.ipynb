{
 "cells": [
  {
   "cell_type": "code",
   "execution_count": 4,
   "id": "1972455c",
   "metadata": {},
   "outputs": [],
   "source": [
    "import pandas as pd\n",
    "import numpy as np\n",
    "import numpy_financial as npf\n",
    "import seaborn as sns\n",
    "import matplotlib.pyplot as plt\n",
    "import statsmodels.api as sm\n",
    "from sklearn.model_selection import train_test_split\n",
    "import warnings\n",
    "warnings.filterwarnings(\"ignore\")\n",
    "from numpy import *\n",
    "\n",
    "from ggplot import *\n",
    "from scipy.stats import logistic\n",
    "from sklearn.metrics import roc_curve\n",
    "from sklearn.metrics import roc_auc_score\n",
    "from sklearn.linear_model import LogisticRegression\n",
    "from sklearn.metrics import confusion_matrix, mean_squared_error\n",
    "from sklearn.model_selection import train_test_split\n",
    "from sklearn import preprocessing\n",
    "from sklearn.neighbors import KNeighborsClassifier\n",
    "from sklearn.naive_bayes import *\n",
    "from sklearn.tree import DecisionTreeClassifier, DecisionTreeRegressor, export_graphviz\n",
    "import graphviz\n",
    "from sklearn.ensemble import RandomForestRegressor, RandomForestClassifier\n",
    "from sklearn.svm import SVC, SVR\n",
    "from sklearn.cluster import KMeans\n",
    "from sklearn.preprocessing import StandardScaler\n",
    "\n",
    "\n",
    "from linearmodels.iv import IV2SLS\n",
    "from scipy import stats\n",
    "from scipy.stats import trim_mean #trimmed mean\n",
    "from scipy.stats import *\n",
    "\n",
    "import keyword\n",
    "\n",
    "#open api 불러올 때 필요한 것\n",
    "from urllib.request import urlopen #request package 설치\n",
    "from bs4 import BeautifulSoup #bs4 package 설치\n",
    "\n",
    "# 그래프에서 한글 깨지지 않기 위헤 사용함\n",
    "from matplotlib import rcParams\n",
    "from matplotlib import font_manager,rc\n",
    "\n",
    "rcParams['axes.unicode_minus']=False\n",
    "plt.rcParams['font.family']='Malgun Gothic'\n",
    "font_name=font_manager.FontProperties(fname='c:/Windows/Fonts/malgun.ttf').get_name()\n",
    "rc('font',family=font_name)\n",
    "\n",
    "import FinanceDataReader as fdr\n",
    "import plotly.graph_objects as go\n",
    "import plotly.subplots as ms\n",
    "import math"
   ]
  },
  {
   "cell_type": "markdown",
   "id": "b86b6787",
   "metadata": {},
   "source": [
    "# LN8 가구주 직업별 소득 차이(1) 이어서\n",
    "## 2 가계금융복지조사 데이터 분석\n",
    "\n"
   ]
  },
  {
   "cell_type": "code",
   "execution_count": 5,
   "id": "aee9418c",
   "metadata": {},
   "outputs": [
    {
     "data": {
      "text/html": [
       "<div>\n",
       "<style scoped>\n",
       "    .dataframe tbody tr th:only-of-type {\n",
       "        vertical-align: middle;\n",
       "    }\n",
       "\n",
       "    .dataframe tbody tr th {\n",
       "        vertical-align: top;\n",
       "    }\n",
       "\n",
       "    .dataframe thead th {\n",
       "        text-align: right;\n",
       "    }\n",
       "</style>\n",
       "<table border=\"1\" class=\"dataframe\">\n",
       "  <thead>\n",
       "    <tr style=\"text-align: right;\">\n",
       "      <th></th>\n",
       "      <th>year</th>\n",
       "      <th>metro</th>\n",
       "      <th>id</th>\n",
       "      <th>sex</th>\n",
       "      <th>age</th>\n",
       "      <th>number</th>\n",
       "      <th>education</th>\n",
       "      <th>marriage</th>\n",
       "      <th>asset</th>\n",
       "      <th>debt</th>\n",
       "      <th>income</th>\n",
       "      <th>income_d</th>\n",
       "      <th>industry</th>\n",
       "      <th>job</th>\n",
       "      <th>house</th>\n",
       "    </tr>\n",
       "  </thead>\n",
       "  <tbody>\n",
       "    <tr>\n",
       "      <th>0</th>\n",
       "      <td>2020</td>\n",
       "      <td>G1</td>\n",
       "      <td>10000112</td>\n",
       "      <td>1</td>\n",
       "      <td>34</td>\n",
       "      <td>3</td>\n",
       "      <td>6</td>\n",
       "      <td>2</td>\n",
       "      <td>112000</td>\n",
       "      <td>54500</td>\n",
       "      <td>6593</td>\n",
       "      <td>4599</td>\n",
       "      <td>F</td>\n",
       "      <td>3</td>\n",
       "      <td>2</td>\n",
       "    </tr>\n",
       "    <tr>\n",
       "      <th>1</th>\n",
       "      <td>2020</td>\n",
       "      <td>G1</td>\n",
       "      <td>10000132</td>\n",
       "      <td>2</td>\n",
       "      <td>45</td>\n",
       "      <td>2</td>\n",
       "      <td>8</td>\n",
       "      <td>2</td>\n",
       "      <td>42500</td>\n",
       "      <td>17500</td>\n",
       "      <td>17720</td>\n",
       "      <td>15257</td>\n",
       "      <td>J</td>\n",
       "      <td>2</td>\n",
       "      <td>3</td>\n",
       "    </tr>\n",
       "    <tr>\n",
       "      <th>2</th>\n",
       "      <td>2020</td>\n",
       "      <td>G1</td>\n",
       "      <td>10000162</td>\n",
       "      <td>2</td>\n",
       "      <td>73</td>\n",
       "      <td>1</td>\n",
       "      <td>2</td>\n",
       "      <td>3</td>\n",
       "      <td>5712</td>\n",
       "      <td>0</td>\n",
       "      <td>908</td>\n",
       "      <td>725</td>\n",
       "      <td>T</td>\n",
       "      <td>4</td>\n",
       "      <td>2</td>\n",
       "    </tr>\n",
       "    <tr>\n",
       "      <th>3</th>\n",
       "      <td>2020</td>\n",
       "      <td>G1</td>\n",
       "      <td>10000182</td>\n",
       "      <td>1</td>\n",
       "      <td>58</td>\n",
       "      <td>2</td>\n",
       "      <td>4</td>\n",
       "      <td>2</td>\n",
       "      <td>14870</td>\n",
       "      <td>0</td>\n",
       "      <td>2748</td>\n",
       "      <td>2431</td>\n",
       "      <td>C</td>\n",
       "      <td>5</td>\n",
       "      <td>2</td>\n",
       "    </tr>\n",
       "    <tr>\n",
       "      <th>4</th>\n",
       "      <td>2020</td>\n",
       "      <td>G1</td>\n",
       "      <td>10000192</td>\n",
       "      <td>2</td>\n",
       "      <td>27</td>\n",
       "      <td>1</td>\n",
       "      <td>4</td>\n",
       "      <td>1</td>\n",
       "      <td>814</td>\n",
       "      <td>0</td>\n",
       "      <td>1015</td>\n",
       "      <td>893</td>\n",
       "      <td>R</td>\n",
       "      <td>2</td>\n",
       "      <td>3</td>\n",
       "    </tr>\n",
       "  </tbody>\n",
       "</table>\n",
       "</div>"
      ],
      "text/plain": [
       "   year metro        id  sex  age  number  education  marriage   asset   debt  \\\n",
       "0  2020    G1  10000112    1   34       3          6         2  112000  54500   \n",
       "1  2020    G1  10000132    2   45       2          8         2   42500  17500   \n",
       "2  2020    G1  10000162    2   73       1          2         3    5712      0   \n",
       "3  2020    G1  10000182    1   58       2          4         2   14870      0   \n",
       "4  2020    G1  10000192    2   27       1          4         1     814      0   \n",
       "\n",
       "   income  income_d industry job  house  \n",
       "0    6593      4599        F   3      2  \n",
       "1   17720     15257        J   2      3  \n",
       "2     908       725        T   4      2  \n",
       "3    2748      2431        C   5      2  \n",
       "4    1015       893        R   2      3  "
      ]
     },
     "execution_count": 5,
     "metadata": {},
     "output_type": "execute_result"
    }
   ],
   "source": [
    "df=pd.read_csv('c:/temp/household_2020a.csv')\n",
    "df.head()"
   ]
  },
  {
   "cell_type": "code",
   "execution_count": 6,
   "id": "f8b01374",
   "metadata": {},
   "outputs": [],
   "source": [
    "# id: 가구 번호\n",
    "# income: 경상소득, _d: 가처분소득"
   ]
  },
  {
   "cell_type": "code",
   "execution_count": 7,
   "id": "5fb20479",
   "metadata": {},
   "outputs": [
    {
     "data": {
      "text/plain": [
       "18064"
      ]
     },
     "execution_count": 7,
     "metadata": {},
     "output_type": "execute_result"
    }
   ],
   "source": [
    "income=df['income'].dropna()\n",
    "len(income)"
   ]
  },
  {
   "cell_type": "code",
   "execution_count": 8,
   "id": "9d40cdab",
   "metadata": {},
   "outputs": [
    {
     "data": {
      "text/plain": [
       "count     18064.000000\n",
       "mean       5494.711138\n",
       "std        5563.512946\n",
       "min           0.000000\n",
       "25%        2026.000000\n",
       "50%        4183.500000\n",
       "75%        7331.750000\n",
       "max      225116.000000\n",
       "Name: income, dtype: float64"
      ]
     },
     "execution_count": 8,
     "metadata": {},
     "output_type": "execute_result"
    }
   ],
   "source": [
    "income.describe()"
   ]
  },
  {
   "cell_type": "code",
   "execution_count": 9,
   "id": "d381b53b",
   "metadata": {},
   "outputs": [],
   "source": [
    "# 평균  : 5400만원 연봉, 등등, 최대 22억 5000만원 등등."
   ]
  },
  {
   "cell_type": "code",
   "execution_count": 10,
   "id": "e16a84a4",
   "metadata": {},
   "outputs": [
    {
     "data": {
      "text/plain": [
       "5563.51"
      ]
     },
     "execution_count": 10,
     "metadata": {},
     "output_type": "execute_result"
    }
   ],
   "source": [
    "# 소수점 둘째자리까지 반올림 해라 = 셋째자리에서 반올림해라\n",
    "np.round(5563.512946,2)"
   ]
  },
  {
   "cell_type": "code",
   "execution_count": 11,
   "id": "51d1f3cc",
   "metadata": {},
   "outputs": [
    {
     "data": {
      "text/plain": [
       "(array([1.7854e+04, 1.8600e+02, 1.7000e+01, 3.0000e+00, 1.0000e+00,\n",
       "        1.0000e+00, 0.0000e+00, 1.0000e+00, 0.0000e+00, 1.0000e+00]),\n",
       " array([     0. ,  22511.6,  45023.2,  67534.8,  90046.4, 112558. ,\n",
       "        135069.6, 157581.2, 180092.8, 202604.4, 225116. ]),\n",
       " <BarContainer object of 10 artists>)"
      ]
     },
     "execution_count": 11,
     "metadata": {},
     "output_type": "execute_result"
    },
    {
     "data": {
      "image/png": "[encoded data removed]",
      "text/plain": [
       "<Figure size 640x480 with 1 Axes>"
      ]
     },
     "metadata": {},
     "output_type": "display_data"
    }
   ],
   "source": [
    "# 소득 분포 알아보자 = 소득 히스토그램 그려보자\n",
    "# 경상소득의 분포를 알고 싶다\n",
    "# 히스토그램을 그려본다\n",
    "\n",
    "plt.hist(income)"
   ]
  },
  {
   "cell_type": "code",
   "execution_count": 12,
   "id": "856ab92c",
   "metadata": {},
   "outputs": [
    {
     "data": {
      "image/png": "[encoded data removed]",
      "text/plain": [
       "<Figure size 1500x600 with 1 Axes>"
      ]
     },
     "metadata": {},
     "output_type": "display_data"
    }
   ],
   "source": [
    "fig, ax=plt.subplots(figsize=(15,6))\n",
    "ax.hist(income, alpha=0.3, bins=2000)\n",
    "ax.grid()\n",
    "plt.show()"
   ]
  },
  {
   "cell_type": "code",
   "execution_count": 13,
   "id": "b4d4ce92",
   "metadata": {},
   "outputs": [
    {
     "data": {
      "image/png": "[encoded data removed]",
      "text/plain": [
       "<Figure size 1500x600 with 1 Axes>"
      ]
     },
     "metadata": {},
     "output_type": "display_data"
    }
   ],
   "source": [
    "fig, ax=plt.subplots(figsize=(15,6))\n",
    "ax.hist(income, alpha=0.3, bins=2000)\n",
    "ax.grid()\n",
    "ax.set_xlim(0,40000) # 최대 값이 20억이라서 위에가 길게 나와서, limit을 한 4억까지 그리도록 함\n",
    "plt.show()"
   ]
  },
  {
   "cell_type": "code",
   "execution_count": 14,
   "id": "0dda86a2",
   "metadata": {},
   "outputs": [
    {
     "name": "stdout",
     "output_type": "stream",
     "text": [
      "[5472.12, 5581.984, 5281.398, 6184.036, 5586.734, 5396.402, 5503.626, 5281.9, 5376.394, 5315.102, 5336.202, 5351.736, 5817.744, 6057.282, 5204.344, 5582.552, 5638.164, 5476.048, 5701.32, 5570.49, 5294.716, 4794.888, 5018.956, 5213.098, 5582.878, 5513.344, 5558.91, 5137.83, 5503.646, 5466.084, 4850.056, 5081.858, 5390.524, 5598.818, 5315.37, 5395.668, 5747.786, 5318.064, 5831.558, 5562.634, 5553.898, 5112.304, 5126.584, 5775.254, 5124.828, 5468.948, 5552.744, 5316.96, 5575.948, 5181.196, 5755.814, 5244.65, 5899.044, 5463.658, 5374.088, 5470.65, 5444.948, 6022.294, 5242.51, 5678.768, 5635.454, 6057.998, 5606.232, 6231.238, 4942.754, 5566.2, 5028.374, 5317.938, 5157.92, 5772.504, 5309.472, 5544.022, 5189.776, 5381.282, 5554.086, 5421.852, 5516.356, 5591.25, 5325.226, 5675.844, 5808.842, 5738.804, 5252.394, 5477.28, 5546.584, 5320.156, 5141.736, 5681.168, 5448.016, 5884.944, 5718.876, 5723.48, 5767.03, 5210.948, 5553.458, 5114.208, 5557.156, 5675.122, 5684.368, 5540.014, 5337.212, 5551.922, 5131.842, 5327.212, 5563.24, 5553.274, 5415.448, 5416.414, 5003.896, 5202.114, 5691.328, 5445.25, 5353.59, 5571.638, 5466.892, 5385.734, 5773.408, 5126.018, 5761.234, 5017.78, 5144.146, 5411.774, 5360.598, 5681.054, 5104.358, 5432.966, 5363.172, 5379.284, 5570.204, 5431.43, 5145.958, 5560.222, 5447.656, 5460.94, 5004.528, 5379.78, 5354.858, 5234.608, 5509.114, 5785.988, 5590.682, 5649.2, 6325.934, 5426.56, 5589.016, 6139.546, 5662.7, 5511.222, 5153.65, 5724.078, 5277.552, 5580.652, 5209.068, 5301.812, 5674.21, 5524.782, 5551.944, 5059.084, 5287.812, 5318.182, 5282.87, 5437.908, 5626.008, 5243.612, 5405.342, 5618.43, 5423.55, 5085.72, 5680.348, 5674.718, 5565.682, 5658.402, 5185.61, 5872.91, 5671.81, 5566.734, 5382.264, 5365.576, 5981.38, 5393.448, 5163.996, 5609.746, 5269.488, 5410.582, 5780.678, 5508.998, 5411.756, 5066.396, 5670.654, 5613.342, 5238.154, 5337.198, 5206.082, 5806.488, 5786.52, 5377.064, 5604.356, 5591.688, 4956.776, 5370.09, 5451.384, 5746.612, 5327.288, 5340.278, 5731.62, 5404.532, 5269.688, 5398.054, 5536.716, 5142.282, 5325.67, 5180.46, 5489.504, 5387.73, 5488.756, 5185.048, 5420.838, 5548.972, 5078.406, 5396.052, 5902.81, 5440.134, 5461.166, 5544.398, 6022.816, 5431.806, 5493.348, 5530.358, 5527.244, 5373.298, 5498.968, 5517.846, 5584.114, 5455.296, 5496.288, 5282.608, 5793.892, 5440.066, 5593.78, 5553.702, 5309.474, 5337.868, 5390.008, 5614.242, 5592.174, 5229.61, 5234.404, 5645.878, 6011.51, 5533.408, 5135.452, 5277.052, 5149.96, 5787.854, 5470.56, 5154.564, 5358.14, 5262.096, 5312.582, 5153.828, 5693.956, 5596.992, 5583.316, 5424.562, 5210.854, 5353.934, 5724.462, 5294.57, 5559.6, 5302.76, 5104.854, 5520.282, 5754.402, 5953.1, 5075.936, 5704.892, 5372.532, 5240.366, 5080.72, 5239.852, 5175.466, 5490.82, 5362.548, 5190.27, 5261.346, 5350.22, 5638.634, 5112.758, 5561.536, 5660.172, 5218.896, 5451.462, 5811.036, 5125.748, 5035.756, 5085.842, 5801.03, 5540.382, 5236.742, 5712.474, 5136.342, 5921.634, 5400.812, 6102.668, 5688.496, 5285.888, 5612.936, 5808.218, 5699.428, 5086.994, 5548.36, 5610.238, 5186.156, 5360.514, 5197.508, 5697.266, 5844.018, 5510.176, 5550.108, 5408.234, 5363.522, 5391.848, 5108.954, 5129.318, 5650.624, 5541.246, 5722.954, 5435.814, 5067.676, 5571.504, 4831.598, 5600.16, 5637.326, 5623.958, 5768.754, 5476.114, 5208.086, 5626.29, 5438.122, 5299.83, 5533.212, 5321.95, 5274.688, 5096.954, 5652.1, 5895.236, 5349.49, 5502.44, 5403.394, 5080.668, 5273.022, 6103.426, 5350.87, 5324.118, 5236.544, 5134.566, 5302.882, 5388.124, 5602.164, 5641.364, 5623.916, 5788.426, 5256.828, 6203.692, 5669.552, 5466.776, 5457.264, 5434.966, 5639.364, 5706.252, 5322.988, 5359.056, 5939.318, 5664.926, 5309.286, 5588.654, 5515.286, 5461.684, 5299.1, 5401.782, 5449.92, 5609.348, 5488.166, 5295.112, 5777.06, 5294.856, 5065.024, 5624.646, 5557.142, 5230.72, 5221.734, 5189.644, 5235.71, 5313.36, 5779.818, 5077.88, 5581.004, 5643.664, 5188.864, 5695.882, 5221.27, 5189.578, 5934.694, 5540.148, 5458.572, 5567.066, 5466.118, 5624.822, 5777.536, 5213.552, 5761.564, 5727.768, 5506.62, 5524.422, 5301.816, 5481.226, 5485.484, 5554.502, 5652.03, 5481.24, 5473.23, 5646.73, 5367.904, 5375.3, 5251.87, 5942.84, 5312.746, 5578.022, 5649.628, 5147.832, 5646.946, 5379.802, 5857.906, 5439.482, 5471.438, 4974.736, 5356.142, 5736.066, 5891.082, 5335.178, 5923.5, 5117.828, 5156.342, 5729.278, 6178.868, 5611.836, 5539.222, 5458.946, 5660.712, 5545.314, 5519.238, 5316.634, 5452.338, 5684.826, 5490.802, 5679.312, 5338.964, 5345.194, 5254.536, 5720.054, 5507.48, 5451.682, 5347.974, 5968.836, 5341.468, 5833.704, 5523.422, 5307.06, 5402.198, 5438.49, 5429.18, 5570.118, 6038.112, 5526.374, 5639.222, 5971.942, 5620.43, 5459.884, 5959.524, 5298.176, 5724.08, 5693.762, 5281.252, 5697.532, 5600.136, 5190.166, 5737.662, 5400.968, 5406.992, 4880.518, 5315.396, 5631.062, 5251.784, 5458.478, 5469.058, 5876.558, 5429.492, 6092.446, 5429.682, 6044.218, 5930.994, 5602.238, 5850.078, 5376.518, 5253.838, 5619.472, 5686.242, 4785.112, 5344.17, 5693.328, 5354.624, 5749.764, 5305.928, 5380.254, 5027.73, 5539.376, 5757.68, 5466.09, 5272.306, 5563.226, 5676.136, 5751.652, 5280.072, 5346.292, 5319.808, 5864.558, 5248.954, 5417.928, 5289.142, 5380.442, 5287.262, 5923.17, 5359.592, 5699.14, 5600.374, 5654.614, 5540.688, 5132.792, 5352.708, 5511.448, 5540.498, 5360.804, 5787.942, 5231.524, 5056.16, 5825.836, 5227.78, 5790.194, 5052.892, 5199.242, 5536.168, 5414.036, 5307.848, 5352.336, 5361.36, 5705.326, 5431.402, 5039.236, 6082.04, 5604.11, 5427.474, 5492.722, 6255.542, 5320.49, 5354.668, 5489.854, 5500.036, 5814.572, 5830.288, 5799.702, 5051.148, 5428.656, 5179.816, 5231.49, 5392.862, 5353.202, 5713.034, 6133.98, 5281.666, 5190.81, 5379.332, 6318.036, 5435.114, 5345.452, 5244.878, 5256.714, 5790.48, 5150.978, 5588.598, 5474.19, 5696.752, 5334.6, 5740.526, 5398.202, 5926.59, 5555.498, 5702.424, 5448.402, 5650.944, 5433.854, 5190.144, 5638.162, 5976.876, 5618.896, 5940.102, 5630.744, 5672.728, 6191.74, 5861.464, 5568.316, 5138.496, 5634.218, 5114.084, 5209.788, 5377.304, 5625.724, 5320.624, 5653.966, 5383.23, 5357.634, 5327.378, 6003.522, 6255.676, 5336.99, 5378.034, 5453.892, 5404.498, 5760.526, 5030.134, 5589.738, 4710.722, 5834.504, 5991.194, 5345.838, 5349.696, 5375.386, 5587.762, 5447.036, 5302.31, 5197.934, 5134.366, 4996.204, 5165.376, 4898.776, 5773.44, 5316.59, 5437.424, 5393.908, 5555.784, 5338.138, 5422.896, 5351.854, 5712.17, 5450.748, 5175.852, 5447.964, 5410.734, 5360.102, 5495.13, 5410.506, 5175.994, 5752.014, 5341.956, 5503.664, 5339.91, 5478.732, 5332.83, 5443.614, 4932.222, 5474.348, 5422.546, 5571.432, 5432.814, 5344.97, 5613.948, 5244.722, 5321.448, 5323.594, 5583.028, 5431.03, 5531.314, 5855.148, 6255.6, 5135.088, 5798.53, 5483.446, 5780.032, 5505.31, 5452.764, 6049.356, 5334.43, 5468.71, 5116.53, 5534.17, 5226.896, 5540.086, 5684.004, 5476.824, 5276.376, 5647.902, 5333.526, 5497.628, 5324.718, 5505.396, 5472.632, 4966.098, 5061.99, 5753.978, 5191.49, 5362.428, 5103.554, 4901.044, 5518.08, 5373.856, 5884.278, 5167.318, 5301.486, 5338.824, 5646.572, 6017.178, 5359.658, 6325.972, 5350.642, 5175.068, 5880.882, 6224.132, 5309.31, 5910.646, 5367.746, 5166.966, 5577.958, 5358.02, 5339.46, 5868.444, 5679.082, 5202.026, 5166.908, 5748.462, 5498.046, 5803.816, 5228.858, 5919.088, 5588.052, 5111.622, 6228.28, 5432.738, 5496.93, 5720.998, 5858.77, 5538.76, 5471.936, 5095.958, 5530.336, 5545.782, 5376.814, 5609.708, 5564.394, 5440.986, 5553.898, 5506.066, 5258.822, 5449.38, 5352.506, 5478.43, 5239.62, 5529.74, 5615.964, 5131.808, 5239.49, 5294.14, 5406.814, 5340.154, 5428.024, 5851.476, 5559.454, 5504.006, 5781.216, 5804.366, 5179.548, 5842.1, 5507.648, 5467.376, 5862.98, 6304.33, 5713.148, 5886.458, 5466.794, 5316.718, 5397.184, 5547.258, 5649.608, 5466.63, 5352.394, 5653.246, 5515.092, 5091.596, 6056.984, 5532.916, 5587.612, 5680.46, 5726.65, 5477.018, 5691.888, 5636.678, 5614.8, 5681.476, 5306.404, 5672.374, 5557.522, 5795.258, 5222.582, 5729.032, 5627.626, 5497.418, 5268.744, 6056.73, 5560.696, 5295.952, 5295.032, 5924.862, 6041.544, 5261.024, 5450.584, 5404.578, 5870.468, 5298.358, 5235.972, 5260.258, 5632.364, 5238.768, 5094.904, 5016.254, 4725.12, 5213.616, 5376.218, 5571.332, 5883.042, 5242.952, 5171.738, 6154.958, 5466.062, 5484.158, 5144.406, 5668.18, 5495.232, 5561.152, 5058.736, 5779.998, 5603.236, 5221.682, 5390.634, 5275.988, 5322.598, 5849.992, 5494.674, 5505.546, 5582.616, 5716.368, 5732.15, 5606.558, 5976.368, 5469.028, 5343.194, 5501.512, 5446.896, 5972.894, 5480.876, 5401.294, 5976.158, 4991.562, 5783.412, 5652.252, 5636.23, 5406.86, 5712.664, 5372.16, 5581.194, 5497.034, 5438.248, 5613.158, 5809.926, 5301.698, 5508.624, 5562.034, 5800.528, 5673.584, 5660.45, 5344.126, 5408.688, 4929.944, 5548.092, 5304.468, 5240.124, 5556.014, 5279.01, 5554.452, 5690.61, 5372.136, 5578.874, 5226.588, 5709.41, 5398.466, 5860.892, 5602.528, 5150.81, 5332.196, 5413.17, 5234.552, 5402.534, 5460.754, 5378.826, 5817.33, 5516.542, 5771.48, 5572.166, 5343.61, 5241.5, 5217.406, 5668.648, 5412.556, 5666.07, 5662.36, 4951.73, 5607.126, 5427.924, 5298.57, 5272.586, 5732.342, 5233.922, 5639.128, 5507.192, 5414.55, 5523.078, 5738.11, 5394.448, 5438.886, 5387.668, 5488.4, 5350.268, 5064.374, 5294.96, 5527.936, 5611.76, 5902.986, 5482.24, 5358.93, 5364.962, 5663.662, 5233.38, 5164.87, 5430.352, 5419.58, 5342.308, 5544.78, 5359.658, 5617.98, 5908.92, 5434.932, 5837.476, 5817.688, 5730.564, 5397.108, 5695.508, 5353.552, 5700.076, 5676.386, 5782.934, 5620.612, 5771.584, 5357.862, 5115.246, 5561.578, 5633.014, 5379.64, 5570.046, 4903.19, 5379.944, 5057.882, 5600.39, 5901.938, 5376.92, 5716.63, 5077.382, 5579.47, 5221.338, 4994.858, 5462.064, 5283.674, 5110.452, 5842.576, 5561.484, 5385.934, 5767.766, 5768.778, 5508.642, 5210.354, 5526.958, 5740.158, 5735.094, 5345.596, 5566.546, 5794.932, 5567.51, 5467.042, 5056.386, 6075.862, 5411.714, 5450.728, 5656.196, 5414.344, 5496.584, 5504.108, 5575.476, 6114.376, 5309.47, 5384.6, 5178.882, 5530.952, 5716.832, 5467.416, 5562.47, 5712.988, 5607.002, 5382.736, 5043.892, 5332.37, 5600.534, 5188.95, 5986.006, 5522.074, 5486.49, 5333.114, 5633.224, 5265.536, 5838.966, 5590.912, 5641.74, 5635.362, 5682.954, 5801.682, 4970.966, 5770.844, 5275.602, 5538.154, 5612.202, 5624.58, 5324.654, 5055.554, 5265.78, 5489.73, 5833.064, 5904.602, 5330.652, 5913.752, 5165.32, 5352.71, 5088.084, 5664.028, 5288.526, 5380.584, 5907.434, 5625.416, 5665.628, 5310.38, 5668.358, 5753.982, 5467.868, 5230.526, 5566.192, 5063.634, 5308.406, 5179.934, 5312.47, 5757.808, 5367.898, 5638.762, 5686.548, 5776.746, 5553.74, 5653.876, 5643.706, 5499.832, 5276.95, 5544.41, 5451.974, 5355.824, 5310.674, 5972.316, 5439.766, 5485.208, 5440.172, 5639.606, 5866.46, 5758.798, 5661.632, 5672.044, 5166.984, 5210.692, 4818.186, 5824.67, 5329.408, 5666.506, 5470.066, 5701.452, 5930.04, 5568.96, 5308.244, 5572.222, 5131.696, 5269.668, 5600.016, 5552.136, 5889.086, 5540.964, 5216.214, 5488.474, 5506.678, 5683.03, 5132.794, 5391.422, 5539.704, 5749.152, 5379.53, 5414.206, 5467.496, 5457.87, 5751.114, 5017.642, 5451.174, 5274.898, 5507.872, 5440.408, 5236.634, 6098.946, 5362.834, 5274.922, 5294.448, 5207.05, 5647.484, 5741.852, 5472.152, 5221.086, 5514.574, 5554.546, 5563.69, 5429.118, 5210.832, 5307.194, 5800.264, 5766.48, 5289.578, 5660.386, 5546.668, 5644.674, 5571.996, 5409.97, 5530.864, 5516.442, 5278.768, 5392.5, 5659.662, 5294.574, 5586.242, 5651.014, 5520.49, 5398.184, 5277.374, 5604.752, 5229.466, 5474.182, 5336.176, 5420.576, 5588.048, 5429.278, 5172.738, 5140.528, 5136.164, 5226.548, 5560.582, 5255.676, 5386.954, 4942.686, 5591.676, 5524.162, 5547.316, 5743.948, 5502.964, 5135.458, 5328.5, 4910.462, 5403.586, 5239.046, 5523.84, 5055.386, 5713.732, 5529.266, 5305.43, 5505.224, 5644.676, 5390.218, 5748.692, 6033.752, 5390.58, 5554.684, 5350.418, 4938.996, 5456.61, 5695.964, 5488.342, 5668.028, 5795.94, 5525.522, 5742.216, 5789.462, 5790.468, 5182.684, 5861.5, 5579.122, 5310.352, 5983.098, 5536.342, 5637.948, 5229.192, 5393.162, 5772.86, 5267.908, 4824.882, 5289.554, 5167.146, 5582.052, 5475.624, 5573.442, 5599.17, 5316.844, 5235.214, 5402.676, 5234.93, 5824.238, 5606.788, 5763.098, 5228.114, 5624.736, 5558.138, 5226.502, 5317.252, 5870.722, 5653.194, 5678.914, 5462.348, 5438.7, 5542.122, 5587.176, 5614.494, 5409.838, 5329.248, 5085.066, 5292.228, 5384.77, 5120.72, 5125.924, 5477.16, 5664.802, 5347.59, 5515.356, 6009.858, 5955.384, 5765.174, 5466.612, 5546.51, 5206.362, 5015.876, 5351.154, 5589.636, 6032.97, 5280.81, 5606.414, 5259.764, 5330.946, 5650.266, 5448.174, 5836.942, 5373.66, 5448.928, 5809.892, 5562.112, 5444.364, 5161.184, 5141.568, 5773.066, 5510.726, 5882.374, 5769.254, 5486.564, 5620.586, 5825.87, 5296.832, 5375.642, 5324.976, 5151.018, 5304.51, 5905.222, 5459.938, 5663.088, 5231.816, 5675.334, 5028.11, 5525.882, 5308.748, 5909.366, 5281.562, 5647.302, 5647.306, 5376.304, 5580.376, 5504.998, 5557.282, 5674.11, 5538.002, 5825.692, 5302.934, 5439.882, 5345.792, 5551.432, 5356.492, 5769.164, 5176.582, 5824.526, 5509.952, 5221.676, 5277.13, 5670.758, 5702.968, 6002.884, 5785.202, 5836.418, 5664.342, 5783.834, 5246.346, 5360.222, 5538.714, 5449.91, 5120.074, 5889.332, 5428.356, 5127.286, 5458.242, 5120.202, 5827.502, 5785.542, 5421.284, 5682.25, 5464.866, 5703.484, 5638.822, 5368.396, 5307.796, 6211.292, 5564.764, 5438.278, 5378.596, 5859.452, 5599.7, 5429.19, 5307.688, 5349.898, 5476.94, 5325.078, 5724.378, 5958.064, 5645.79, 5467.732, 5598.686, 5608.0, 6299.36, 5608.09, 5506.48, 5413.904, 5413.148, 5248.966, 4669.52, 5842.34, 5282.862, 5017.55, 5399.294, 5454.798, 5656.22, 5583.042, 5495.798, 5143.602, 5603.068, 5525.042, 5380.92, 5077.706, 5574.126, 5466.2, 5086.008, 5586.968, 5290.272, 5263.95, 5937.76, 5429.314, 5418.818, 5340.622, 5310.198, 5530.524, 5451.772, 5719.684, 5329.178, 5653.358, 5585.432, 5212.668, 5942.602, 5333.41, 5580.234, 5256.944, 5694.67, 5621.632, 5650.33, 5992.746, 5680.992, 5569.074, 5112.502, 5673.572, 5745.172, 5212.66, 5229.53, 5308.584, 5665.286, 5506.736, 5460.228, 5806.222, 5235.984, 5456.58, 5602.046, 5986.912, 5446.234, 5386.074, 5381.932, 5241.302, 5487.588, 5122.0, 5329.952, 5593.56, 5360.22, 5742.472, 5656.396, 5431.106, 5749.738, 5681.258, 5237.464, 5385.09, 5289.71, 5439.228, 5709.356, 5661.044, 5520.556, 5486.472, 5828.886, 5128.866, 5360.832, 5414.396, 5419.88, 5316.396, 5473.854, 5633.62, 5654.292, 5728.312, 5712.902, 5694.396, 5323.008, 5511.172, 5376.502, 5519.568, 5844.374, 5385.95, 5634.47, 5374.868, 5491.45, 5147.44, 5586.826, 5879.132, 5476.462, 5492.354, 5447.076, 5406.072, 5336.582, 5435.21, 5841.632, 5220.202, 5444.092, 5399.758, 5191.684, 5564.982, 6029.696, 5989.396, 5642.468, 5491.044, 5517.532, 5130.266, 5606.908, 5791.748, 5396.666, 5265.58, 5572.988, 5536.922, 5612.642, 5553.252, 5711.97, 5611.706, 5679.854, 5709.24, 5803.674, 5516.172, 5547.61, 5509.938, 5404.944, 5222.612, 5740.5, 5382.766, 6373.606, 5896.764, 5490.7, 5912.902, 5772.166, 5308.816, 5756.644, 5409.86, 5432.328, 5717.948, 5499.128, 5664.136, 6148.832, 5616.816, 5863.184, 5511.804, 5270.774, 5583.764, 5480.29, 5496.612, 5772.2, 5354.086, 5419.02, 5574.196, 5589.608, 5470.9, 5195.168, 5503.416, 5666.16, 4996.882, 5297.778, 6108.742, 5371.976, 5169.428, 5325.04, 5290.46, 5512.578, 5381.402, 5456.882, 5435.186, 5530.918, 5699.988, 5356.96, 5568.296, 5343.256, 5416.87, 5158.94, 5100.444, 5448.27, 5863.456, 5502.966, 5483.006, 5518.284, 5585.208, 5537.982, 5298.994, 5382.054, 5349.708, 5752.342, 5546.592, 5375.522, 5334.796, 5616.39, 5453.908, 5575.07, 5458.9, 5070.34, 5187.192, 5151.954, 5340.356, 5544.922, 5213.44, 5257.352, 5593.022, 5035.966, 5364.186, 6107.922, 5562.616, 5165.474, 5812.424, 5336.752, 5262.428, 5680.248, 5045.216, 5677.45, 4940.18, 5368.926, 5204.532, 5491.88, 5485.96, 5511.664, 5341.696, 5632.14, 5860.15, 5137.774, 5411.79, 5407.502, 5675.5, 5269.91, 5220.946, 5450.51, 5340.226, 5171.52, 5150.926, 5432.992, 5255.072, 5842.06, 5383.114, 5349.598, 5270.194, 5563.58, 5550.53, 5518.392, 5577.954, 5640.384, 5126.718, 5413.09, 5500.514, 5985.184, 5305.06, 5807.83, 5651.958, 5458.486, 6000.906, 5999.914, 5600.902, 5314.922, 5547.82, 5152.392, 6440.076, 5367.598, 5590.042, 5829.378, 5589.016, 5171.0, 5526.164, 5073.962, 5551.13, 5506.948, 5510.556, 5466.42, 5803.85, 5731.242, 5680.138, 5697.148, 5336.878, 5416.778, 5601.574, 5487.238, 6019.166, 5333.158, 5428.644, 5735.786, 5707.426, 5494.088, 5729.272, 4933.35, 5346.786, 5336.488, 5417.402, 5325.54, 5355.39, 5407.712, 5387.272, 5308.716, 5597.576, 5345.022, 5404.41, 5825.668, 5487.008, 5766.546, 6084.102, 5227.588, 5491.932, 5547.114, 5820.128, 5157.256, 5677.926, 5799.164, 5352.374, 5051.53, 5778.32, 5304.314, 5457.542, 5192.604, 5852.258, 5526.34, 5079.174, 5537.71, 5539.928, 5463.796, 5598.162, 5387.474, 5484.552, 5688.698, 5482.468, 5534.442, 4869.616, 5853.984, 5600.336, 5868.816, 5619.588, 5281.144, 5181.208, 5400.906, 5585.672, 5617.552, 6001.214, 6217.628, 5442.59, 5828.764, 5485.388, 6002.898, 5713.526, 5112.104, 5184.896, 5460.308, 5023.958, 5758.272, 5483.074, 5202.276, 5333.338, 5644.734, 5729.848, 5773.566, 5843.426, 5179.886, 5535.164, 5907.83, 5592.398, 5988.342, 5173.83, 6180.176, 4970.432, 5003.198, 5842.054, 4901.828, 5158.138, 5523.226, 5764.752, 5272.502, 5572.974, 5606.878, 5350.74, 5255.76, 5168.4, 5451.43, 5581.012, 5585.742, 5373.718, 5649.26, 5415.762, 5300.704, 5834.484, 5588.162, 5366.074, 5463.232, 5550.804, 5603.238, 5513.128, 5489.486, 5412.646, 5378.106, 5830.04, 5647.57, 5711.35, 5262.27, 5415.21, 5534.974, 5605.036, 5136.442, 5214.76, 5576.084, 5420.648, 5704.412, 5336.366, 5415.236, 5058.014, 5678.206, 5430.146, 5422.36, 5141.702, 6142.856, 5468.578, 5203.114, 5592.014, 5370.482, 5732.764, 5362.258, 5302.38, 5553.97, 5580.252, 5851.604, 5345.556, 5464.214, 5441.706, 5303.914, 5317.198, 6160.288, 5638.704, 5689.82, 5369.242, 5178.754, 5691.064, 5217.29, 5943.318, 5833.85, 5576.968, 5390.518, 5499.07, 5123.07, 5823.894, 5138.55, 5208.82, 5392.792, 5411.22, 5460.81, 5503.592, 5482.082, 5990.626, 5438.002, 5550.91, 5550.29, 5162.552, 5533.284, 6468.816, 5487.78, 5761.258, 5412.62, 5462.938, 5349.014, 5554.462, 5912.316, 5365.368, 5825.77, 5421.284, 5338.786, 5557.772, 5114.008, 5442.742, 5206.264, 5465.974, 5095.378, 5274.318, 5859.188, 5431.936, 5266.028, 5760.634, 5589.912, 5648.322, 5387.712, 5836.838, 5368.238, 5313.63, 5074.042, 5346.334, 5196.7, 5032.34, 5255.472, 5534.764, 5682.796, 5591.356, 6040.608, 5748.888, 5534.696, 5255.92, 5438.584, 5482.702, 5353.448, 5638.376, 5403.108, 5194.632, 5567.51, 5578.84, 5899.546, 5759.358, 5500.972, 5564.488, 5255.102, 5668.406, 5637.018, 5371.33, 5450.994, 5862.772, 5637.132, 5772.84, 5621.104, 5355.882, 5689.274, 5486.752, 5518.188, 5639.806, 5348.748, 5640.212, 6200.366, 5404.63, 5303.93, 5698.182, 5059.604, 5636.304, 5176.464, 5436.536, 5298.386, 5353.072, 5119.6, 5414.756, 5692.894, 5618.51, 6185.962, 5508.01, 5342.378, 5594.05, 5386.416, 5372.796, 5264.902, 5488.046, 5409.95, 4957.034, 5468.188, 5828.146, 5443.232, 5735.372, 5494.438, 5333.332, 5218.344, 5751.934, 5411.064, 5275.248, 5309.57, 5531.178, 5774.754, 5610.722, 5650.656, 5143.786, 5686.38, 5660.402, 5082.562, 5537.356, 5476.05, 6010.448, 5484.538, 5395.748, 5695.444, 5548.884, 5411.05, 5217.252, 5084.846, 5310.562, 5167.136, 5659.306, 5130.836, 5032.764, 5762.15, 5744.862, 6197.838, 5771.85, 5250.652, 5450.806, 5219.774, 6211.212, 5896.914, 5065.914, 5215.792, 5900.232, 5713.388, 5816.012, 5626.7, 5405.176, 4966.082, 6113.908, 5652.866, 5490.46, 5761.412, 5848.786, 5020.056, 5455.472, 5482.238, 5203.424, 5692.654, 5255.002, 5354.864, 5287.4, 5430.634, 5430.702, 5292.338, 5634.694, 5419.746, 5619.508, 5279.414, 5507.464, 5588.372, 5673.476, 5729.14, 6073.548, 5494.226, 5512.682, 5628.422, 5429.642, 5887.294, 5423.014, 6157.848, 5593.92, 5542.1, 5528.01, 5707.926, 5388.74, 5581.758, 5233.568, 5514.898, 5254.632, 5356.262, 6011.574, 5342.766, 5687.054, 5906.028, 5421.512, 5765.348, 5862.658, 5345.3, 5270.086, 5453.532, 5948.926, 5538.144, 5311.774, 5577.356, 5486.084, 5215.306, 5283.21, 5074.994, 5408.776, 5151.248, 5693.344, 5064.846, 5197.338, 5632.568, 5650.066, 5646.628, 5286.926, 5423.258, 4982.66, 5632.238, 5473.674, 5546.194, 5301.662, 5321.906, 5598.082, 5257.084, 5540.312, 5750.764, 5382.672, 5183.332, 5537.25, 5384.286, 5756.158, 5467.648, 5552.23, 5399.208, 5369.53, 5635.136, 5152.044, 5940.074, 5266.542, 5683.482, 5604.014, 5664.762, 5404.316, 5950.854, 5760.15, 5464.696, 6041.916, 5513.682, 5587.272, 5786.054, 6071.202, 5633.252, 5682.17, 5235.718, 4839.402, 5675.584, 5587.62, 6122.292, 5300.44, 5324.462, 5093.876, 5869.086, 5588.586, 5284.426, 5789.506, 5517.052, 5472.492, 5153.688, 5697.104, 5639.73, 5350.018, 5751.088, 5546.884, 5650.906, 5414.8, 5391.858, 5896.104, 5341.616, 5816.818, 5361.89, 5057.338, 5230.524, 5403.99, 5141.37, 5350.1, 4857.942, 5352.03, 5335.942, 5324.472, 5267.598, 5267.01, 5305.966, 5434.03, 5273.83, 5607.134, 5897.176, 5625.758, 5465.076, 5669.024, 5372.03, 5778.182, 5619.15, 5141.53, 5438.432, 5682.18, 5502.08, 5334.894, 5731.286, 5219.646, 5588.182, 5960.738, 5338.972, 5629.808, 5707.19, 5682.926, 5412.81, 5385.568, 5331.068, 5345.598, 5307.116, 5584.136, 5473.13, 5329.392, 5353.118, 5876.854, 5119.262, 5010.546, 5532.698, 5679.622, 5540.406, 5385.326, 5730.808, 5626.502, 5156.25, 5565.418, 5550.88, 5173.298, 5224.276, 5436.014, 5611.614, 5611.956, 5691.9, 5420.196, 5862.266, 5595.304, 5811.818, 5501.46, 5408.14, 5467.952, 5447.47, 5459.922, 5072.95, 5605.906, 5601.718, 5346.336, 5630.69, 5876.282, 5142.11, 5183.848, 5114.58, 5134.234, 5287.396, 5446.152, 5453.136, 5398.766, 5381.15, 5308.978, 5411.648, 5307.19, 5269.956, 5116.642, 5746.806, 5041.268, 5381.872, 5510.372, 5491.15, 5695.142, 5473.726, 5516.124, 5555.246, 5558.664, 4988.19, 5683.408, 5588.094, 5634.404, 5759.344, 5522.332, 6213.298, 5257.424, 6189.286, 5037.774, 5613.916, 5300.356, 4946.574, 5584.532, 5594.964, 5395.992, 5564.762, 5445.528, 5403.958, 5473.098, 5150.544, 5895.75, 5425.924, 5500.194, 5770.264, 6057.468, 5565.34, 5061.218, 5731.586, 5459.794, 5677.808, 5623.536, 5268.678, 5407.756, 5748.53, 5489.902, 5981.63, 5263.644, 5410.986, 5507.854, 5453.324, 5459.866, 5502.746, 5752.522, 5873.148, 5307.978, 5332.644, 5907.5, 5697.808, 5295.656, 5680.83, 5603.05, 5448.76, 5247.058, 5583.198, 5334.934, 5455.55, 4983.492, 5545.708, 5497.856, 5386.66, 5412.35, 5391.316, 5718.568, 5391.94, 5381.946, 5950.414, 5276.496, 5822.718, 5627.65, 5316.116, 5189.84, 5445.388, 5851.208, 5652.576, 5395.582, 5830.27, 5533.646, 5496.512, 5936.768, 5490.142, 5216.844, 5234.93, 5409.346, 5481.502, 5587.118, 5558.02, 5621.734, 5759.55, 5616.746, 5153.626, 5633.8, 5118.844, 5347.942, 6158.898, 5668.03, 5738.522, 5252.228, 5691.954, 5416.424, 5160.856, 5592.124, 5519.144, 5549.116, 5348.378, 5203.93, 5307.696, 5642.308, 5230.552, 5615.84, 5711.256, 5594.042, 5436.162, 5578.868, 5345.792, 5518.422, 5080.776, 5647.092, 5454.136, 5570.918, 5157.296, 5401.332, 5861.148, 5795.922, 5709.976, 5527.988, 5361.97, 5453.804, 5374.862, 5383.692, 5414.952, 5963.096, 5602.818, 5621.936, 5533.5, 5177.544, 5386.326, 5320.798, 5543.648, 5691.348, 5606.812, 5689.764, 4861.688, 5406.736, 5518.08, 5694.168, 5428.296, 5237.116, 5725.534, 5404.948, 5269.402, 5684.984, 5893.602, 5704.772, 5175.618, 5653.104, 5229.744, 5749.586, 5147.844, 5204.704, 5309.386, 5915.716, 5979.414, 5749.512, 5279.746, 5244.068, 5377.64, 5682.544, 5650.61, 5349.694, 5259.42, 5887.852, 5383.138, 5252.416, 6027.548, 5375.85, 5189.288, 5549.93, 5166.364, 5643.19, 4915.282, 5391.612, 5376.262, 5452.448, 5650.222, 5636.718, 5906.066, 5282.508, 5376.84, 5312.196, 5139.018, 5134.444, 5828.092, 5310.274, 5528.066, 5450.244, 5270.47, 5669.766, 5420.69, 5046.808, 5592.014, 5547.024, 5185.078, 5780.958, 5607.854, 5458.096, 5857.54, 5519.02, 5707.462, 5791.708, 5671.312, 5820.716, 5055.794, 5440.962, 5483.718, 5376.144, 5240.546, 5240.424, 5320.72, 5324.474, 5262.886, 5499.558, 5822.46, 6429.434, 5587.922, 5428.534, 5763.944, 5209.802, 5329.156, 5405.96, 5710.034, 5452.874, 5903.566, 6041.78, 5709.718, 5713.652, 6267.246, 5514.858, 5624.534, 5412.1, 5179.442, 5427.484, 5533.032, 5485.012, 5428.928, 5613.632, 5871.706, 5634.66, 5461.494, 5669.474, 5376.284, 6059.91, 5720.37, 5510.724, 5219.286, 5232.202, 5574.052, 5394.968, 5425.26, 5622.102, 5336.328, 5403.362, 5688.436, 5265.518, 5649.29, 5615.862, 5505.454, 5085.01, 5419.414, 5156.946, 5711.584, 5480.762, 5359.002, 5560.286, 5305.69, 5479.472, 5302.298, 5284.67, 5568.38, 5040.706, 5730.584, 5484.058, 5399.354, 5397.794, 5443.824, 5086.02, 5678.594, 5401.038, 5473.842, 5235.648, 5694.676, 5537.468, 6004.78, 5454.36, 5551.052, 5481.346, 5997.296, 5743.306, 5194.972, 5487.496, 5631.04, 5309.434, 5195.872, 5445.412, 5400.516, 5448.386, 5340.274, 5359.03, 5755.12, 5347.356, 5658.4, 5994.242, 5724.508, 5628.414, 5179.298, 5637.646, 5340.966, 5622.172, 5246.166, 5896.854, 5826.61, 5731.212, 5161.01, 5442.238, 5549.118, 5183.512, 5182.966, 5499.802, 5768.458, 5116.67, 5047.884, 5547.198, 5064.688, 5658.74, 5762.998, 6147.938, 5631.086, 5573.702, 5000.632, 5270.958, 5565.618, 5461.712, 4950.76, 5581.044, 5389.174, 5381.096, 5387.028, 5003.088, 5315.762, 5124.324, 5408.462, 5943.182, 5094.832, 5696.59, 5243.862, 5492.962, 5466.464, 5270.204, 5824.84, 5470.456, 5245.09, 6124.138, 5515.026, 5984.266, 5221.296, 5525.976, 5659.496, 5473.378, 5176.856, 5039.498, 5240.974, 5611.766, 5197.212, 5943.658, 5168.254, 5419.694, 5316.126, 5515.028, 5379.478, 5194.246, 5257.774, 5668.962, 5664.198, 5154.47, 5564.878, 5400.452, 5742.336, 5543.206, 5147.816, 5312.51, 6013.238, 5698.608, 5121.658, 5474.284, 5825.544, 5454.508, 5452.148, 5213.1, 5133.82, 5588.62, 5378.794, 5528.798, 5472.968, 5653.024, 5770.744, 6025.316, 5471.1, 5419.492, 5572.82, 5827.514, 5150.67, 5475.968, 5691.66, 5329.166, 5768.694, 5859.296, 5528.204, 5915.604, 5205.436, 5204.72, 5044.718, 5223.422, 5147.836, 6083.082, 5683.904, 5402.51, 5576.344, 5728.694, 5322.488, 5262.03, 5441.94, 5451.126, 5154.28, 5660.336, 5456.672, 5155.28, 5722.778, 5754.826, 5294.516, 5285.99, 5118.39, 5640.576, 5248.646, 5529.6, 5774.472, 5635.128, 5634.438, 5569.134, 5550.464, 5395.44, 6023.214, 5584.052, 5435.36, 5657.226, 5533.054, 5530.016, 5447.716, 5147.596, 4963.152, 5423.102, 5369.018, 5647.862, 5249.058, 5571.422, 5353.436, 5110.356, 5613.3, 5142.368, 5288.312, 5481.092, 5671.49, 5366.336, 5568.51, 5477.908, 5606.772, 5365.136, 5303.448, 5310.63, 5475.174, 5892.76, 5452.59, 5359.616, 5285.956, 5279.776, 5195.284, 5103.79, 5152.502, 5358.152, 4916.92, 5366.326, 5546.626, 5525.878, 5730.742, 5282.998, 5612.036, 5181.062, 6004.08, 5607.484, 5645.072, 5185.714, 5567.96, 5310.664, 5324.594, 5719.848, 5621.166, 5383.624, 5350.586, 5652.872, 5185.57, 5930.644, 5179.84, 5370.1, 5435.946, 5383.828, 5423.636, 5047.644, 5264.608, 5964.634, 5445.582, 5538.504, 5440.524, 5299.276, 5745.982, 5356.28, 6017.322, 5375.338, 5419.15, 5416.262, 5718.29, 5655.384, 5538.26, 5839.994, 5606.648, 5471.044, 5370.126, 5267.018, 5646.42, 5649.256, 5597.834, 5242.474, 5447.936, 5502.028, 4958.602, 5282.736, 5505.19, 5614.408, 5262.468, 5198.42, 5418.324, 5304.93, 5447.712, 5989.478, 5802.838, 5292.352, 5537.32, 5871.574, 5615.496, 5936.998, 5405.376, 5211.082, 5657.764, 5607.526, 5604.32, 5642.218, 5562.21, 5714.016, 5470.852, 5583.812, 5467.782, 5639.07, 5604.734, 5426.556, 5426.486, 5778.67, 5187.064, 5443.262, 5908.222, 5324.552, 5544.404, 5166.45, 5116.416, 5604.44, 5863.93, 5001.094, 5394.44, 5405.904, 5171.628, 5868.224, 5943.986, 5383.302, 5546.31, 5508.89, 5649.722, 5276.69, 6005.542, 5733.822, 5431.292, 5376.66, 5111.422, 5444.162, 4981.128, 5533.676, 5664.298, 5428.038, 5324.4, 5704.32, 5258.004, 5605.964, 5713.468, 5691.818, 5426.7, 5430.62, 5411.738, 5635.508, 5462.49, 6047.658, 5814.868, 5410.908, 5522.938, 5463.994, 5164.98, 5348.532, 5599.848, 5227.236, 5447.796, 5763.656, 5248.772, 5351.498, 5281.978, 5307.544, 5357.444, 5409.528, 5456.624, 5200.0, 5290.682, 5723.124, 5141.422, 5511.992, 5783.272, 5616.668, 5332.698, 5728.016, 5750.36, 5485.884, 5522.698, 5309.878, 5375.952, 5375.728, 5721.21, 5828.952, 5770.728, 5383.796, 5307.022, 5451.368, 5329.092, 5203.77, 5674.876, 5362.154, 5447.836, 5781.56, 5627.47, 5018.084, 5642.516, 5846.456, 5882.648, 5559.968, 5540.778, 5484.032, 5283.676, 5518.794, 5259.886, 5328.214, 5618.748, 5647.15, 6006.524, 5308.834, 5349.124, 5401.108, 5295.22, 5391.056, 5130.698, 5246.002, 5534.436, 5462.0, 5539.822, 5709.296, 5672.994, 5550.828, 5803.184, 5233.468, 5361.992, 5449.976, 5614.04, 5225.26, 5622.132, 5779.012, 5496.74, 5422.222, 5346.72, 5446.91, 5506.764, 5635.244, 5390.812, 5241.876, 5432.424, 5553.106, 5322.34, 5671.46, 5522.658, 5589.014, 5216.066, 5617.944, 5320.52, 5530.162, 5914.366, 5672.178, 5562.1, 5555.06, 5757.078, 5615.088, 5303.346, 5374.684, 5441.036, 5861.94, 5510.046, 5395.484, 5630.692, 5761.738, 5576.438, 5610.454, 5237.14, 5618.7, 5873.232, 5455.834, 5636.55, 6107.394, 5266.526, 5526.506, 5583.748, 5665.29, 5056.308, 5290.548, 5288.832, 5489.474, 5093.734, 5666.942, 5211.722, 5180.506, 5299.038, 5960.976, 5895.962, 4990.018, 5523.708, 5150.588, 5308.178, 5447.42, 5612.88, 5268.56, 5751.24, 5932.656, 5891.618, 5584.04, 5235.914, 5687.194, 5413.824, 5210.19, 5868.56, 5466.72, 5547.412, 5536.064, 5486.846, 5158.318, 5703.382, 5355.668, 5322.712, 5662.016, 5611.626, 5584.456, 5393.432, 5532.074, 5264.246, 5605.044, 5620.142, 5443.766, 5641.462, 5238.844, 5281.56, 5240.634, 5973.512, 5629.024, 6024.326, 5478.434, 5159.968, 5538.52, 5864.512, 5471.694, 5529.75, 5191.736, 5503.352, 5421.802, 5427.808, 5547.194, 5067.434, 5331.782, 4902.888, 5855.276, 5346.976, 5781.366, 5355.662, 5510.334, 5863.108, 5417.0, 5510.936, 5468.49, 5335.466, 5525.55, 5261.36, 5581.374, 5244.238, 5232.908, 5396.694, 5044.824, 5651.076, 5385.866, 5536.08, 5500.71, 5603.684, 5775.214, 5764.172, 5416.29, 5397.004, 5464.846, 5372.102, 5224.982, 5381.18, 5114.206, 5327.58, 5638.92, 5316.96, 5656.202, 5841.56, 5994.266, 5703.366, 5566.882, 5213.944, 5701.06, 5310.064, 5538.32, 5468.156, 5324.704, 5866.832, 5105.836, 5485.244, 5419.586, 5087.1, 5286.314, 5287.642, 5281.59, 5850.838, 5487.968, 5508.28, 6209.508, 5563.188, 5331.194, 5349.91, 5637.394, 5371.168, 5944.972, 5750.328, 5106.114, 5292.612, 5160.918, 5507.564, 5535.524, 5428.496, 5545.98, 5147.966, 5405.49, 4985.966, 5519.7, 5460.604, 5557.494, 5908.078, 5433.76, 5466.93, 5274.204, 5630.814, 5263.844, 5711.728, 4965.548, 5570.522, 5649.168, 5842.222, 5725.928, 5072.34, 5474.478, 6218.744, 5238.574, 5696.07, 5430.768, 5029.868, 5384.45, 5651.18, 5415.79, 5517.844, 5641.262, 5521.292, 5827.674, 5439.978, 5406.016, 5588.634, 5572.15, 5482.74, 5458.708, 5382.086, 5572.424, 5124.118, 6012.488, 5306.36, 5485.478, 5097.874, 5508.972, 5570.592, 5474.784, 5751.496, 5867.89, 5274.986, 5895.272, 5726.294, 4876.552, 5607.228, 5706.484, 5052.632, 5592.378, 5958.73, 5393.132, 5483.714, 5599.824, 5193.002, 5504.962, 6622.738, 5758.294, 5557.584, 5113.448, 5459.374, 5578.688, 5130.158, 5501.158, 5467.91, 5444.216, 5462.176, 5829.714, 5096.518, 5425.382, 5280.406, 5357.546, 5232.918, 5674.708, 5329.472, 5142.092, 5506.918, 5464.268, 5727.632, 5389.36, 5459.976, 5387.73, 5347.55, 5303.832, 5084.842, 5604.702, 5194.15, 5697.348, 5067.362, 5560.282, 6278.786, 5443.016, 5625.744, 5610.506, 6092.286, 5550.122, 5442.494, 5424.554, 5645.388, 5048.048, 5670.554, 5600.806, 5214.368, 6141.746, 5546.796, 5763.2, 5520.084, 5532.512, 5018.982, 5336.096, 6120.082, 5446.424, 5737.964, 5331.12, 5401.182, 5311.476, 5412.548, 5751.67, 5695.108, 5725.136, 5460.636, 5465.12, 5337.32, 5536.69, 5479.064, 5500.596, 5547.814, 6055.034, 5549.708, 5415.538, 5368.402, 5618.274, 5426.312, 5346.674, 5269.47, 5334.688, 5409.364, 5436.916, 5646.008, 5361.458, 5243.604, 5308.46, 5577.438, 5885.664, 5569.712, 5474.046, 5295.202, 5101.138, 5597.466, 5784.078, 5579.018, 5454.136, 5519.968, 5717.364, 5546.122, 5579.736, 5127.616, 5300.872, 5938.09, 5313.376, 5508.616, 5360.464, 5205.096, 5549.11, 5621.186, 5749.486, 5543.696, 5800.016, 4983.64, 5509.076, 5184.462, 5560.508, 5863.576, 5784.03, 5430.79, 5948.096, 5564.444, 5347.83, 5386.884, 5228.236, 5559.366, 5540.706, 5395.25, 5078.266, 5520.12, 5497.262, 5595.596, 5522.098, 5625.884, 5206.394, 5852.292, 5304.572, 5589.704, 5328.06, 5793.594, 5442.64, 5632.346, 5492.808, 5195.612, 5662.596, 5299.654, 5235.964, 5906.562, 5413.728, 5160.03, 5375.21, 5511.592, 4939.598, 5472.3, 5217.908, 5460.992, 5384.8, 5564.98, 5482.82, 5594.356, 5726.216, 5283.012, 5501.976, 5619.942, 5172.578, 5272.658, 5318.982, 5793.524, 5821.754, 5502.032, 5639.914, 5193.392, 5390.146, 5539.916, 5713.544, 5331.118, 5551.41, 5294.822, 5523.66, 5066.224, 5510.132, 5319.556, 5410.634, 5255.008, 5278.166, 5747.29, 5262.698, 5300.036, 5581.8, 5512.678, 5215.9, 5380.284, 5953.472, 5071.926, 5490.282, 5818.672, 5375.594, 5296.714, 5791.378, 5968.622, 5536.646, 5491.674, 5438.716, 5354.008, 5726.894, 5331.998, 5438.918, 5955.768, 5594.576, 5714.612, 5484.172, 5447.41, 5708.2, 5535.36, 5503.166, 5984.84, 5632.712, 5387.438, 5373.266, 5579.586, 5432.518, 5379.91, 5771.27, 5129.206, 5282.792, 5408.146, 5395.29, 5629.88, 5553.032, 5933.774, 5288.344, 5603.096, 5596.186, 5488.526, 5246.942, 5973.55, 5347.196, 5899.46, 4836.4, 5712.7, 5470.136, 5689.394, 6021.498, 5459.92, 5731.804, 5615.458, 5730.298, 5643.828, 5371.246, 5552.054, 5690.73, 5692.168, 5202.734, 6009.23, 4927.596, 5859.892, 5189.438, 5825.828, 5207.64, 5506.42, 5324.792, 5203.174, 5276.226, 5409.968, 5354.432, 5339.908, 5438.602, 5447.194, 5220.336, 5444.924, 5597.334, 6228.31, 5312.734, 4901.822, 5388.676, 5719.64, 5520.06, 5406.508, 5943.298, 5456.894, 5552.766, 5194.062, 5785.67, 5226.804, 5364.056, 5661.994, 5374.272, 5220.672, 5324.08, 5522.738, 5330.854, 5560.566, 5432.186, 5581.566, 5601.872, 5377.484, 5162.032, 5038.364, 5182.706, 5127.182, 5290.696, 5662.924, 5306.712, 5641.33, 5904.18, 5206.138, 5805.056, 5637.552, 5334.1, 5325.206, 5743.904, 5601.748, 5659.678, 5304.772, 5442.604, 5553.562, 5382.68, 5617.594, 5524.652, 5440.392, 5477.868, 5191.55, 5750.84, 5898.14, 5424.3, 5795.116, 5533.53, 5775.476, 5063.112, 5784.664, 5860.93, 5332.584, 5294.86, 5815.632, 4889.458, 5765.204, 5461.282, 5399.3, 5242.6, 5388.394, 5705.232, 5712.33, 5326.792, 5409.466, 5433.326, 6080.63, 5332.668, 5761.542, 5915.11, 5534.974, 5202.514, 5270.558, 5373.064, 5556.334, 5146.422, 5649.108, 5295.966, 5744.346, 5605.07, 5730.946, 5225.916, 5436.472, 5635.068, 5651.042, 5227.462, 5707.516, 5845.632, 5654.156, 5636.534, 5282.316, 5853.168, 5173.678, 5552.38, 5383.03, 5657.988, 5427.106, 5497.218, 5287.832, 5606.902, 5394.272, 5453.554, 5579.374, 5014.972, 5355.87, 5561.81, 5659.662, 5128.1, 5219.64, 5283.038, 5890.81, 5194.186, 5594.358, 5343.708, 5185.03, 5405.312, 5010.176, 5700.124, 5153.682, 5001.438, 5088.738, 5211.992, 5514.804, 5548.672, 6079.372, 5365.706, 5719.732, 5226.336, 5612.418, 5790.96, 5607.78, 5292.992, 5268.976, 5301.914, 5331.522, 5684.386, 5703.87, 5638.244, 5409.348, 5512.66, 5656.17, 5736.414, 5442.106, 5519.604, 5589.078, 5350.716, 6018.394, 5291.57, 5239.13, 5280.08, 5474.764, 5792.878, 5348.186, 5453.56, 5327.33, 5776.686, 4997.574, 5062.798, 5468.598, 5626.052, 5509.266, 5130.32, 5442.766, 6194.33, 5427.242, 5359.904, 5372.834, 5339.406, 5630.898, 5482.866, 5404.854, 5937.614, 5259.21, 5407.15, 5476.626, 5131.854, 5499.56, 5566.69, 5644.354, 5411.666, 5616.28, 5236.968, 5502.14, 5780.246, 5373.392, 5563.232, 5395.154, 4957.396, 5378.238, 5323.356, 5378.24, 5525.17, 5702.372, 5781.664, 5728.284, 5663.198, 5691.616, 5243.78, 5364.274, 5644.524, 5447.172, 5220.184, 5970.738, 5283.168, 5656.578, 5611.354, 5064.12, 5114.466, 5428.798, 5144.956, 5472.678, 5458.606, 5376.37, 5322.022, 5008.828, 5372.168, 5335.67, 5227.1, 5539.962, 5107.282, 5312.594, 5410.674, 5482.88, 5225.728, 5597.718, 6117.122, 6401.422, 5231.752, 4999.35, 5479.016, 5559.426, 5846.24, 5705.416, 5226.122, 5306.298, 5597.436, 5588.754, 5478.834, 5562.58, 5304.5, 5857.886, 5375.846, 5416.552, 5662.17, 5894.266, 5375.732, 5234.972, 5893.556, 5225.916, 5149.708, 5366.338, 5683.976, 5229.812, 5292.126, 5210.956, 5281.492, 5277.392, 5091.24, 5603.118, 5214.21, 5538.392, 5180.968, 5606.166, 5559.934, 5473.86, 5590.902, 5626.866, 5576.696, 4969.002, 5639.358, 5245.116, 5927.18, 5449.022, 5228.732, 5416.308, 5852.29, 5664.818, 5543.152, 5291.986, 5508.052, 5426.348, 5849.368, 5733.542, 5249.928, 5648.06, 5699.836, 5750.058, 5027.19, 5327.398, 5406.862, 5431.558, 5550.702, 5339.642, 5426.09, 5237.554, 5156.692, 5372.926, 5720.012, 6092.846, 5160.888, 5384.22, 5776.622, 6418.502, 5572.308, 5211.102, 5543.582, 5751.436, 5325.39, 5614.356, 5060.18, 5235.116, 5528.798, 5719.584, 5508.352, 5077.64, 5236.896, 5883.18, 5291.784, 5551.454, 5533.66, 5552.986, 5784.93, 5628.884, 5623.746, 5763.772, 5956.826, 5444.862, 5463.894, 5250.284, 5483.594, 5277.508, 5770.67, 5499.91, 5475.47, 5509.614, 5605.582, 5932.852, 5604.888, 5284.57, 5505.44, 5302.988, 5499.762, 5281.458, 5759.304, 5391.306, 5648.772, 5389.66, 5413.914, 5211.284, 5619.968, 5135.14, 5467.252, 5371.978, 5371.114, 5957.064, 5964.93, 5567.612, 5336.59, 5516.452, 5169.59, 5659.552, 5203.886, 5461.85, 6048.084, 5528.2, 5488.138, 5802.23, 5788.348, 5579.594, 5544.986, 5765.514, 5551.044, 5580.36, 6217.272, 5264.462, 5546.258, 5352.802, 5288.612, 5103.974, 5228.334, 5210.004, 5424.41, 5927.586, 5397.1, 5302.63, 5778.98, 5596.674, 5837.706, 5671.818, 5112.622, 5230.798, 5204.614, 5360.552, 5811.376, 5400.066, 5829.63, 5446.556, 5384.158, 5560.886, 5203.516, 5788.912, 5799.248, 5429.742, 4958.104, 5151.308, 5775.25, 5410.602, 5449.922, 5512.464, 5777.034, 5240.218, 5615.896, 5403.26, 5595.354, 5472.154, 5343.834, 5200.89, 6145.868, 5656.42, 5171.858, 5441.448, 5253.176, 6016.732, 5132.19, 5651.85, 5272.214, 5866.868, 5370.056, 5373.512, 5406.224, 5187.39, 5013.656, 5585.424, 5399.204, 5001.584, 5830.874, 5174.486, 5593.718, 6165.182, 5248.718, 5389.32, 5810.678, 5977.744, 5377.64, 5792.246, 5352.088, 5547.72, 5716.886, 5718.842, 5361.824, 5876.204, 5494.868, 5681.49, 5626.728, 5236.212, 5703.55, 5744.576, 5396.876, 5424.474, 5626.648, 5656.056, 5355.118, 5663.578, 5558.798, 5936.696, 5370.034, 5518.816, 5722.472, 5672.728, 5944.322, 5577.608, 4985.38, 5717.362, 5663.252, 5546.494, 5794.092, 5923.886, 5675.818, 5369.398, 5301.404, 5557.258, 5350.186, 5711.378, 5596.434, 5736.436, 5655.244, 5466.58, 5605.218, 5205.996, 5501.13, 5663.55, 5198.45, 5838.806, 5290.01, 5788.412, 5553.776, 5484.05, 5388.678, 5436.44, 5439.11, 5655.332, 5351.644, 5868.564, 6260.046, 5879.404, 5693.304, 5502.636, 5542.528, 5257.256, 5450.952, 5542.27, 5316.662, 5601.786, 5137.964, 5925.014, 5292.904, 5178.12, 5487.254, 5822.74, 5555.128, 5481.342, 6172.524, 5326.57, 5465.464, 5447.562, 5485.77, 5490.602, 5407.848, 5151.902, 5219.898, 5835.978, 5221.254, 5508.526, 5260.824, 5379.308, 5242.636, 5717.946, 5568.268, 5487.82, 5480.682, 5201.85, 5553.072, 5730.116, 5179.914, 5545.884, 5179.324, 5158.906, 5315.996, 5395.3, 5260.13, 5254.038, 5488.356, 5427.62, 5864.972, 5744.016, 5391.178, 5352.224, 5422.02, 5355.292, 5000.264, 5083.884, 5236.878, 5477.04, 5884.534, 5451.67, 5667.466, 5500.916, 5516.422, 5361.43, 5902.938, 5888.124, 5462.104, 5476.946, 5367.374, 5457.01, 6130.144, 5506.586, 5287.646, 5972.578, 5733.534, 5532.676, 5494.014, 5535.122, 5253.566, 5045.064, 5148.294, 5443.138, 5085.478, 5707.206, 5741.752, 5290.672, 5715.904, 5840.084, 4851.018, 5217.764, 5432.736, 5155.392, 5465.898, 5263.48, 5646.364, 5700.24, 5353.76, 5747.08, 5515.196, 5390.782, 5531.94, 5737.84, 5674.638, 5367.342, 5753.916, 5621.922, 5372.746, 5516.656, 5118.896, 5198.002, 5286.234, 5541.808, 5964.492, 5350.548, 5538.516, 5456.9, 5497.04, 5483.148, 5258.864, 5059.47, 5520.208, 5447.756, 5328.686, 5339.022, 5586.174, 5806.594, 5625.39, 5613.38, 5388.992, 5572.008, 5550.988, 5641.844, 5536.786, 5797.462, 5775.428, 5856.196, 5588.726, 5863.278, 5421.24, 4906.408, 5798.938, 5724.848, 5117.966, 5390.808, 5878.494, 5412.966, 5152.226, 5085.302, 5815.776, 5557.368, 5376.056, 5633.33, 5322.43, 5197.058, 5393.76, 5875.65, 6098.15, 5474.886, 5665.892, 5271.586, 5128.612, 5395.88, 5552.014, 5531.544, 5993.942, 5415.94, 5839.756, 5429.572, 5903.19, 5405.316, 5345.712, 5680.222, 5314.078, 5647.472, 5345.934, 5598.802, 5492.124, 5759.022, 5320.648, 5626.92, 5668.33, 5348.17, 5234.574, 5400.394, 5491.148, 5480.996, 5425.598, 5671.346, 5671.386, 5562.404, 5193.118, 5621.568, 5283.62, 5176.062, 5689.344, 5484.634, 5811.224, 5783.306, 5396.494, 5781.092, 5366.064, 5137.48, 5171.386, 5416.454, 5425.336, 5831.56, 5643.21, 5188.288, 5647.794, 5313.37, 5139.108, 5202.774, 5479.078, 5645.578, 5118.946, 5331.782, 5317.966, 5652.458, 5618.654, 5480.266, 5294.244, 5488.194, 6168.992, 5352.75, 5447.736, 5349.206, 5710.582, 5339.642, 4950.848, 5346.506, 5497.48, 5252.556, 5564.878, 5276.978, 6016.578, 5685.43, 5452.564, 5117.594, 5400.78, 5333.742, 5389.332, 5364.178, 5698.076, 6012.748, 5614.326, 5399.834, 5482.8, 5523.692, 5231.1, 5598.182, 5420.576, 5472.64, 5129.256, 5219.858, 5399.994, 5499.46, 5030.056, 5251.886, 5554.55, 4983.928, 5683.9, 5204.218, 5903.696, 5682.874, 5979.386, 5473.834, 5844.192, 5803.69, 5363.65, 5373.446, 5406.802, 5251.438, 5844.696, 5470.04, 5092.61, 5799.828, 5429.314, 5644.732, 5167.516, 5594.82, 5542.964, 5723.21, 5060.954, 5664.118, 4942.88, 5387.172, 5479.63, 5382.734, 5621.24, 5635.244, 5420.682, 5327.896, 5291.696, 5376.196, 5538.318, 5469.772, 5072.25, 5621.21, 5682.568, 5584.254, 5479.804, 5530.38, 5324.926, 5804.486, 6040.464, 5533.876, 5696.148, 5058.466, 5518.044, 5292.85, 5449.848, 5474.352, 5655.53, 5485.488, 5336.2, 5434.106, 4992.988, 5752.966, 5377.246, 5585.61, 5567.636, 5434.808, 5146.55, 5453.338, 5346.458, 5641.342, 6017.732, 4986.44, 5391.438, 5667.956, 6072.362, 5364.588, 5615.886, 5331.324, 5618.21, 5553.828, 5397.824, 5112.598, 5349.99, 5457.302, 5439.026, 5759.694, 5395.086, 5839.134, 5450.108, 5439.172, 5318.526, 5813.472, 5394.148, 5294.922, 5642.732, 5214.192, 5432.552, 5112.512, 5618.374, 5602.238, 5606.884, 5272.818, 5129.526, 5372.324, 5743.766, 6778.846, 5454.804, 5239.714, 5338.132, 5528.826, 5531.188, 5845.908, 5231.284, 5031.438, 5448.16, 6131.546, 5510.81, 5882.892, 5259.304, 5111.916, 5257.594, 5618.18, 5200.104, 5917.234, 5839.874, 5353.668, 5633.152, 5599.446, 5115.864, 5453.028, 5501.734, 5417.956, 5302.498, 5921.376, 5462.474, 5783.354, 5400.766, 5489.79, 5569.456, 5582.968, 5597.0, 6000.19, 5632.532, 5412.982, 5540.534, 6018.938, 5603.876, 5379.424, 5675.544, 5471.542, 5520.6, 5716.008, 5242.976, 5433.928, 5315.448, 5092.156, 5772.09, 5548.028, 5044.81, 5404.654, 5305.528, 5781.324, 5267.974, 5370.018, 5447.736, 5638.11, 5312.496, 6014.726, 5558.872, 5505.742, 5470.176, 5734.948, 5937.59, 6225.258, 5221.464, 5621.062, 5472.252, 5514.454, 5217.296, 6140.708, 5279.37, 5525.888, 5574.19, 5569.524, 5311.552, 5168.846, 5326.328, 5420.56, 5370.074, 5540.552, 5426.466, 5753.0, 5860.0, 5461.572, 5487.682, 5516.486, 5258.822, 5130.742, 5928.658, 5819.068, 5379.572, 5403.308, 5748.49, 5328.3, 5553.06, 5448.95, 5204.298, 5339.062, 5489.51, 5312.754, 5547.126, 6039.77, 5518.064, 5574.25, 5701.908, 5729.88, 5444.204, 5428.628, 5132.082, 5127.106, 5780.388, 5508.478, 5165.644, 5790.612, 5507.754, 5251.132, 5339.184, 5327.626, 5285.402, 5652.806, 5863.878, 4986.346, 5710.58, 5531.834, 5371.464, 5760.382, 5409.636, 5100.34, 5095.204, 5694.062, 5239.418, 5874.794, 5564.732, 5290.458, 5208.92, 5356.928, 5059.0, 5619.64, 5509.734, 5370.434, 5142.728, 5676.008, 5387.894, 5367.026, 5673.296, 5337.586, 5304.644, 5744.66, 5217.024, 5755.254, 5604.7, 5161.866, 5639.65, 5298.512, 5542.902, 5194.504, 5480.694, 5919.648, 5217.714, 5381.506, 5511.302, 5254.346, 5377.384, 5429.104, 5360.676, 5361.804, 5813.202, 5390.214, 5694.648, 5288.886, 5518.574, 5444.542, 5748.636, 5423.566, 5432.992, 5191.526, 5608.518, 5422.294, 5888.462, 5497.162, 5640.116, 5523.17, 5822.286, 5102.562, 5462.028, 5664.132, 5088.048, 4719.956, 5367.734, 5558.45, 5351.706, 5175.388, 5488.412, 5717.516, 5448.61, 5282.526, 5590.114, 5340.658, 5199.184, 5550.892, 5448.768, 5552.802, 5249.204, 5697.892, 5296.838, 5590.3, 5330.414, 5607.83, 5435.77, 5503.7, 5272.26, 5131.552, 5424.49, 5497.422, 5449.502, 5363.5, 6023.908, 5566.834, 5259.126, 5834.398, 5345.366, 5238.598, 5535.198, 5506.578, 5691.44, 5322.258, 5830.484, 5615.716, 5376.358, 5192.186, 5836.066, 5410.764, 5368.076, 4955.444, 5725.588, 5409.3, 5362.3, 5230.516, 5894.516, 5562.462, 5124.67, 5552.224, 5222.874, 5328.938, 5770.166, 5052.314, 5125.336, 5589.628, 5618.64, 5631.312, 5523.146, 5376.188, 5555.412, 5305.876, 5470.326, 5717.964, 5211.714, 5259.342, 5765.64, 5360.342, 5772.066, 6027.132, 6033.25, 5550.194, 5252.386, 5684.594, 5319.692, 5771.376, 5599.738, 5605.76, 6186.838, 5446.698, 5570.834, 5668.254, 5384.706, 5435.166, 6085.294, 5712.616, 4994.91, 5078.964, 5400.458, 5704.42, 5450.612, 5410.082, 5528.104, 5120.404, 5455.272, 5468.558, 5611.646, 5542.18, 5241.674, 5585.26, 5295.742, 5583.072, 5525.43, 5532.278, 5006.6, 5459.808, 5607.922, 5203.3, 5392.206, 5564.778, 5484.204, 5333.872, 5615.232, 5093.888, 5231.334, 5720.724, 5642.798, 5290.38, 5765.35, 5524.052, 5689.132, 5369.272, 5787.94, 5793.702, 5483.356, 5100.982, 5514.074, 5747.638, 5306.65, 5305.342, 5685.72, 5015.228, 5442.894, 5645.506, 5403.228, 5488.19, 5449.382, 5324.33, 5893.276, 5379.354, 5795.564, 5139.208, 5750.276, 5613.52, 5435.634, 5500.162, 5735.512, 5393.446, 5248.288, 5768.452, 5202.482, 5350.332, 5390.588, 5581.526, 5407.134, 5728.546, 5131.35, 5782.726, 5730.492, 5698.43, 5680.268, 5278.018, 5718.768, 6187.366, 5185.378, 5897.38, 5232.044, 5512.284, 5271.63, 5591.434, 5921.732, 5602.86, 5833.98, 5781.494, 5475.542, 5915.886, 5108.434, 5304.096, 5435.072, 5661.66, 5108.546, 5035.932, 5780.44, 5739.406, 5431.692, 5535.908, 5434.654, 5615.698, 5780.214, 5276.804, 5400.524, 5107.324, 5890.862, 5290.652, 5435.452, 5366.246, 5767.55, 5771.724, 5497.894, 5432.674, 5379.236, 5032.916, 5382.376, 5753.672, 5801.288, 5323.35, 5347.618, 5596.08, 5495.016, 5611.66, 5660.93, 5454.29, 5419.29, 5320.388, 5628.058, 4924.912, 5480.632, 5108.756, 5763.232, 5918.09, 5510.36, 5463.168, 5489.916, 6280.004, 5384.876, 5460.47, 5508.46, 5763.556, 5306.284, 5372.586, 5442.78, 5215.406, 5578.642, 5779.742, 5567.552, 5220.498, 5026.724, 5182.94, 5776.018, 5774.316, 5118.34, 5545.45, 5696.632, 5508.962, 5943.546, 5138.93, 5803.156, 5508.71, 5519.456, 5244.266, 5455.748, 5592.806, 5463.658, 5598.374, 5473.902, 5382.728, 5541.186, 5772.782, 5611.37, 5420.502, 5748.824, 5436.148, 5627.522, 5038.982, 5417.432, 5434.292, 5799.912, 5231.052, 5810.092, 5371.844, 5933.096, 5489.772, 5539.984, 5302.52, 5811.444, 5454.204, 5370.508, 5890.922, 5486.598, 5329.322, 5636.668, 5269.896, 5336.218, 5640.1, 5317.236, 5270.242, 5661.064, 4999.054, 4936.64, 5486.498, 5534.054, 6016.618, 5623.056, 5177.57, 5650.274, 5108.062, 5806.076, 5088.956, 5087.854, 5262.4, 5973.364, 5360.658, 6089.65, 5188.73, 5482.824, 5859.458, 5320.246, 5535.436, 5698.79, 5309.23, 5678.692, 5210.514, 5872.996, 5374.018, 5221.544, 5796.86, 5966.17, 5410.668, 5395.152, 5443.28, 5597.632, 5304.14, 5291.964, 5096.89, 5805.656, 5264.754, 5383.422, 5556.262, 5278.526, 5214.928, 5441.372, 5516.796, 5019.918, 5421.274, 5385.432, 5403.98, 6010.916, 5413.876, 4946.084, 5529.306, 5526.37, 5475.912, 5624.994, 5598.832, 5251.358, 5931.924, 5521.662, 5624.494, 5361.132, 5656.406, 5282.638, 5328.256, 5596.202, 5249.064, 5198.298, 5333.014, 5425.742, 5490.554, 5425.366, 5587.688, 5394.444, 5746.668, 5813.814, 5374.226, 5631.682, 5555.722, 5766.498, 5437.584, 5312.326, 5480.428, 5546.786, 5815.07, 5387.358, 5581.342, 5354.774, 5200.032, 5179.494, 5587.536, 5138.554, 5661.998, 5580.416, 5459.248, 5178.474, 5656.194, 5531.51, 5810.648, 5461.884, 5470.444, 5398.414, 5406.292, 5659.778, 5372.028, 5224.248, 5698.16, 5430.778, 5351.068, 5285.862, 5593.86, 5447.06, 5521.242, 5257.696, 5629.37, 5576.074, 5062.182, 5478.962, 5867.306, 5506.928, 5816.896, 5512.098, 5738.902, 5947.506, 5301.398, 5599.076, 5192.21, 5676.138, 5697.412, 5358.212, 5729.512, 5448.758, 5854.634, 5551.632, 5889.562, 5412.13, 5609.0, 5185.3, 5228.59, 5188.066, 5348.07, 5319.738, 5494.696, 5361.622, 5374.298, 5474.272, 5296.4, 5293.184, 5437.206, 5381.956, 5120.464, 5330.584, 5338.608, 5226.576, 5832.658, 5491.862, 5615.874, 5427.686, 5064.95, 5496.72, 5541.092, 5360.458, 5880.776, 5438.174, 5005.56, 5231.606, 5338.302, 5328.628, 5622.534, 5248.564, 5570.918, 5542.352, 5151.96, 5607.014, 5176.912, 5480.858, 5354.022, 5776.232, 5765.618, 5303.152, 5525.082, 5786.73, 5451.1, 5406.648, 5260.834, 5642.242, 5742.254, 5459.35, 5424.99, 5235.308, 5584.764, 5509.814, 5622.486, 5369.964, 5361.382, 5586.236, 5269.172, 5153.392, 5696.124, 5663.488, 4896.518, 5826.792, 5281.514, 5480.294, 5577.722, 5483.338, 5266.848, 5685.908, 5621.862, 5603.054, 5838.926, 5791.56, 5684.22, 6319.324, 5547.128, 5287.988, 6073.87, 5395.212, 5705.832, 5184.298, 5559.824, 5094.382, 5402.624, 5335.416, 5809.646, 5333.402, 5372.964, 5581.838, 5604.972, 5991.954, 5565.694, 5778.046, 5311.174, 5524.958, 5352.642, 6019.55, 5158.348, 5428.868, 5696.394, 5589.666, 5445.282, 5500.56, 5725.228, 5570.188, 5487.1, 6161.586, 5488.31, 5878.58, 4932.024, 5345.842, 5415.006, 5432.392, 5400.206, 5500.2, 5624.912, 5265.548, 5627.088, 5211.202, 5315.892, 5923.806, 5381.064, 5248.812, 5306.346, 5786.814, 5782.352, 5395.286, 5557.45, 5173.94, 5185.498, 5785.708, 5720.734, 5312.86, 5239.886, 5344.018, 5613.43, 5364.222, 5920.734, 5272.842, 5541.31, 5829.73, 5362.06, 5777.452, 5141.808, 5490.878, 5605.702, 5150.362, 5349.124, 5348.64, 5573.206, 5359.644, 5453.216, 5722.272, 5342.858, 5304.92, 5701.292, 5328.378, 5183.914, 5337.88, 5803.704, 5785.866, 5824.378, 5393.134, 5348.574, 5285.552, 5060.782, 5511.328, 5607.158, 5119.058, 5336.12, 5270.746, 5152.868, 5290.656, 5436.642, 5505.014, 5945.86, 5765.196, 5778.204, 5712.24, 5448.718, 5431.982, 4953.7, 5262.342, 5139.496, 5368.308, 5463.992, 5134.83, 5560.258, 5159.724, 5470.632, 5325.5, 5604.412, 5351.82, 5331.922, 5542.076, 5401.814, 5289.184, 5688.126, 5583.484, 5618.896, 5307.212, 5180.386, 5810.164, 5334.998, 5289.156, 5181.52, 5535.01, 5372.316, 5362.214, 5465.808, 5174.088, 5472.426, 4981.026, 5463.572, 5319.382, 5290.814, 5047.228, 5540.702, 5965.68, 5651.664, 5582.522, 5229.06, 5407.358, 5818.466, 5951.72, 5642.364, 5502.734, 5009.14, 5363.128, 5376.884, 5240.658, 5257.176, 5409.554, 5345.654, 5294.482, 5637.05, 5614.916, 5474.982, 5145.124, 5598.322, 5623.506, 4991.234, 5592.234, 5760.76, 5607.95, 5367.468, 4943.254, 5067.748, 5650.716, 5399.302, 5596.178, 5256.89, 5215.548, 5866.68, 5310.278, 5386.61, 5416.222, 5353.702, 5549.79, 6078.14, 5998.216, 5779.334, 5343.9, 5636.616, 5449.242, 5185.224, 5725.906, 5703.622, 5538.796, 5626.216, 5095.066, 5292.884, 5594.904, 6281.286, 5665.06, 5692.256, 5253.446, 5234.012, 5269.748, 5452.002, 5583.638, 5449.92, 5701.046, 5722.03, 5228.476, 4906.948, 5560.234, 5345.306, 5188.126, 5230.808, 5714.864, 5650.618, 5621.164, 5664.034, 5674.164, 5726.482, 5483.538, 5898.3, 5749.514, 5193.256, 5400.432, 5522.526, 5499.086, 5359.938, 5650.474, 5795.142, 5665.132, 5691.288, 5347.712, 5366.638, 5726.708, 5458.998, 6070.306, 5169.842, 5450.614, 5180.138, 5263.096, 5608.088, 5649.252, 5516.388, 5357.02, 5546.448, 5628.884, 5325.982, 5079.484, 5596.888, 5615.478, 5330.092, 5377.722, 5500.574, 5686.718, 5404.168, 4836.338, 5552.644, 5384.118, 5805.0, 5344.108, 5381.446, 5758.606, 5416.078, 5679.804, 5822.62, 5527.27, 5252.774, 5460.81, 5529.97, 6176.124, 5407.676, 5517.466, 5239.748, 5014.106, 5516.614, 5566.954, 5246.43, 5445.042, 5164.24, 5741.14, 5239.188, 5175.222, 5607.002, 5915.9, 5385.042, 5788.086, 5881.236, 5539.776, 5516.098, 5490.202, 5475.97, 5826.376, 5026.172, 5593.226, 5479.918, 5852.334, 5290.894, 5618.498, 5477.404, 5024.116, 5195.004, 5747.962, 5278.946, 5603.2, 5368.06, 5439.056, 5142.94, 5943.29, 5335.962, 5734.38, 5099.588, 5449.866, 5142.79, 5721.206, 5386.244, 5260.63, 5466.994, 5770.084, 6022.888, 5659.522, 5366.824, 5218.202, 5515.48, 5418.572, 5498.168, 5381.2, 5309.682, 5338.194, 5338.034, 5498.334, 5310.514, 5403.304, 5454.386, 5319.324, 5586.16, 6039.818, 5314.968, 5434.262, 5713.184, 5241.788, 5509.09, 5381.126, 5251.92, 5458.064, 5517.746, 5491.56, 5209.418, 5348.178, 5458.952, 5373.584, 5612.494, 5426.592, 5047.862, 5261.712, 5605.274, 5192.472, 5543.192, 5746.258, 5753.252, 5531.738, 5732.196, 5767.07, 5527.576, 5757.298, 5683.634, 5688.186, 5372.862, 5603.7, 5716.74, 5371.468, 5448.812, 5426.234, 5580.284, 5633.564, 5366.8, 5592.84, 5756.548, 5372.022, 5438.364, 5337.734, 5450.466, 5135.594, 5611.46, 5046.596, 5557.768, 5355.672, 5595.924, 5582.418, 5374.756, 5191.168, 5358.704, 5701.36, 5705.884, 5636.768, 5505.38, 5552.442, 5452.148, 5172.12, 5284.736, 5495.638, 5949.922, 5426.256, 5356.122, 5534.378, 4948.782, 5306.024, 5495.286, 5480.606, 5532.564, 5258.302, 5493.078, 5445.022, 5283.842, 5279.994, 5426.028, 5706.214, 5689.284, 5730.548, 5329.41, 5664.384, 5731.158, 6139.836, 5530.066, 5808.39, 5124.66, 5685.118, 5450.496, 5690.958, 5579.156, 5658.974, 5301.676, 5335.82, 5521.25, 5894.794, 5354.708, 5728.71, 5624.29, 5445.764, 5743.156, 5508.828, 5302.74, 5858.99, 5561.52, 5597.51, 5535.822, 5311.14, 5458.852, 5122.942, 5209.098, 5129.756, 5408.806, 5664.568, 5696.096, 5337.798, 5592.504, 5577.914, 5545.02, 5625.564, 5377.334, 5541.942, 5269.42, 5985.07, 5612.266, 5214.43, 5121.79, 5625.482, 5534.194, 5703.632, 5499.034, 5394.272, 5294.274, 5790.666, 5054.73, 5175.336, 5767.404, 5795.76, 5295.226, 5292.744, 5306.61, 5808.602, 5229.982, 5305.778, 5438.154, 5226.598, 5804.808, 5548.536, 5524.628, 5629.812, 5475.446, 5666.064, 5383.744, 5204.586, 5271.656, 5241.07, 5335.774, 5456.904, 5374.472, 5678.346, 5668.914, 5575.53, 5229.52, 5196.892, 5184.314, 5473.99, 5438.274, 5336.992, 5890.472, 5128.41, 5374.808, 5581.502, 5430.376, 5785.684, 5759.082, 5332.59, 5580.328, 5449.382, 5645.318, 5498.52, 5736.848, 6023.072, 5472.228, 5811.808, 5318.552, 5488.444, 5448.918, 5643.472, 5070.116, 5408.036, 5394.838, 5404.226, 5752.504, 5449.842, 6087.288, 5650.03, 5318.43, 5417.858, 5503.64, 5556.386, 5306.24, 5558.366, 5216.164, 5417.036, 5253.222, 5198.372, 5473.926, 5143.4, 5611.466, 5675.036, 5595.896, 5908.792, 5271.228, 5542.462, 5648.214, 5605.816, 6069.254, 5342.988, 5586.588, 5451.508, 5667.552, 5316.926, 5475.922, 5551.684, 5344.114, 5364.248, 5308.742, 5697.334, 5811.108, 5390.704, 5558.4, 5808.014, 5438.81, 5524.23, 5613.95, 5584.626, 5812.954, 5601.42, 5528.584, 4936.166, 5483.592, 5483.256, 5446.966, 5301.562, 5676.538, 5587.354, 5504.78, 5395.136, 5371.896, 5549.88, 5393.16, 5033.748, 5377.242, 5158.63, 5543.674, 5664.94, 5503.636, 5248.486, 5613.95, 5655.83, 5245.472, 5481.248, 5650.78, 5375.044, 5406.39, 5530.4, 5510.008, 5810.39, 5430.658, 5684.152, 6093.502, 5166.3, 5594.994, 5576.778, 5322.806, 5991.868, 5235.53, 5263.596, 5330.568, 5169.97, 5422.532, 5863.478, 5226.53, 5487.174, 5833.282, 5953.998, 5325.33, 5643.752, 5430.362, 5561.62, 5365.294, 5293.788, 5360.498, 5167.022, 5828.92, 5787.096, 5336.288, 5237.84, 5937.908, 5548.896, 5341.086, 5439.814, 5348.576, 5900.776, 5855.578, 5492.872, 5704.286, 5343.414, 5419.294, 5577.43, 5736.944, 5704.166, 5304.228, 5547.652, 5494.628, 5968.172, 5280.776, 5304.358, 5213.502, 5415.244, 5795.76, 5558.47, 5352.66, 5563.466, 5400.044, 5586.978, 5802.672, 5364.32, 5937.928, 5508.33, 5661.784, 5526.952, 5542.818, 5679.56, 5892.922, 5424.138, 5847.686, 5005.292, 5740.898, 5445.438, 5582.946, 5625.158, 5160.324, 5759.912, 5335.606, 5466.934, 5371.36, 5811.458, 5530.632, 5228.154, 5685.22, 5824.184, 5959.172, 5483.378, 5898.752, 5506.718, 5167.138, 5236.998, 5462.844, 5218.006, 5953.1, 5096.0, 5476.236, 5643.862, 5725.09, 5407.76, 5304.1, 5268.334, 5481.118, 5931.298, 5638.208, 5479.804, 6677.612, 5345.756, 5108.484, 5229.07, 5896.988, 5607.624, 5372.74, 5638.072, 5558.236, 5930.782, 5634.438, 5369.41, 5317.356, 5632.398, 5516.488, 5425.618, 5804.128, 5598.498, 5857.302, 5460.012, 5401.524, 6427.598, 5674.73, 5908.618, 5796.834, 5084.682, 5364.844, 5445.03, 5498.988, 5620.222, 5806.572, 5508.998, 5804.594, 5628.978, 5677.414, 5527.154, 6265.96, 5235.612, 5434.728, 5199.286, 5430.938, 5696.52, 5503.05, 5309.71, 6000.966, 5875.142, 5563.684, 5511.276, 5528.706, 5797.818, 5265.83, 5637.326, 5223.542, 5413.228, 6093.644, 5158.036, 6029.986, 5308.71, 5971.382, 5972.398, 5254.562, 5338.834, 5412.824, 5645.118, 5057.17, 5419.944, 5940.538, 5641.266, 5765.132, 5435.194, 5522.514, 5620.186, 5351.078, 5246.272, 5794.93, 5501.88, 5374.258, 5290.754, 5706.578, 4966.902, 5616.93, 5328.904, 5649.09, 5137.444, 5592.818, 5420.156, 5088.772, 5997.252, 5861.664, 5960.424, 5244.932, 5335.166, 5377.758, 5866.204, 5664.87, 5011.102, 5410.38, 5840.646, 5351.906, 5182.266, 6312.144, 5765.946, 4852.406, 5292.972, 5492.754, 5397.168, 5455.694, 5720.672, 5354.228, 5135.028, 5142.056, 5796.58, 5804.946, 5455.594, 5427.428, 5359.426, 5756.268, 5215.866, 5325.204, 5392.232, 5595.114, 5507.302, 5532.418, 5188.044, 5310.266, 5588.916, 5523.516, 5915.412, 5210.438, 5106.848, 5289.314, 5469.594, 5626.95, 5803.762, 5353.972, 5729.618, 5761.232, 5571.81, 5210.172, 5669.634, 5071.818, 5072.202, 5418.722, 5504.012, 5443.538, 5263.208, 5461.882, 5559.44, 5514.56, 5510.62, 5776.004, 5761.766, 5290.774, 5688.378, 5403.782, 5576.436, 5524.428, 5187.732, 5450.752, 5374.528, 5324.598, 5732.464, 5464.37, 5724.13, 5329.786, 5387.018, 5317.306, 5698.24, 5566.234, 5517.834, 5236.796, 5636.76, 5416.144, 5030.596, 5153.574, 5569.098, 5398.656, 5315.206, 5347.878, 5555.508, 5578.758, 5215.57, 5847.244, 5355.774, 5244.754, 5541.354, 5632.49, 5334.088, 5070.204, 5198.756, 5681.588, 5501.862, 5351.654, 5206.628, 5870.13, 5388.414, 5579.284, 5205.372, 5441.662, 6010.83, 5376.524, 5060.916, 5104.614, 5438.878, 5209.036, 5088.77, 5924.156, 5376.892, 5509.012, 5822.052, 5266.724, 5889.628, 5748.472, 5264.98, 5752.31, 5138.94, 5466.428, 5287.712, 5378.254, 5692.658, 5638.966, 5727.66, 5074.396, 5569.538, 5930.852, 5307.94, 5397.756, 5287.258, 5623.676, 5486.232, 5550.288, 5554.38, 5747.02, 5665.08, 5196.75, 5597.952, 5248.402, 5482.434, 5933.304, 5360.49, 5588.784, 5208.94, 5431.276, 5517.364, 5378.424, 5141.192, 5885.84, 5185.082, 5335.178, 5422.85, 5471.842, 5602.17, 5839.516, 5464.162, 5414.724, 5708.036, 5450.296, 5235.934, 5756.862, 5325.544, 5381.162, 5441.166, 5485.106, 5573.974, 6250.286, 5647.048, 5221.008, 5316.408, 5420.65, 5078.828, 5403.916, 5534.542, 5304.706, 5107.574, 5275.328, 5815.744, 5478.84, 5927.126, 5122.486, 5453.532, 5944.262, 5571.374, 5324.49, 5213.136, 5490.494, 5516.982, 5652.704, 5230.91, 5689.864, 5962.944, 5793.236, 5597.122, 5369.76, 5161.042, 5700.678, 5617.336, 5111.612, 5709.056, 5473.644, 5159.498, 5240.066, 5348.682, 5323.5, 5263.49, 5675.498, 5392.514, 5404.06, 5305.146, 5411.69, 5513.806, 5652.574, 5351.952, 5352.376, 5542.666, 5524.652, 5721.54, 6015.462, 5426.898, 5401.95, 5805.794, 5381.18, 5630.868, 5730.966, 5878.576, 5040.738, 5803.396, 5321.82, 5863.934, 5487.94, 5413.196, 5825.056, 5478.76, 5478.978, 5195.446, 5673.872, 5364.266, 5190.864, 5721.964, 5325.788, 5448.622, 5501.58, 6024.506, 5715.214, 6254.356, 5656.096, 5564.54, 5701.622, 5701.34, 5886.402, 6583.688, 5618.262, 5529.802, 5993.892, 5609.392, 5326.5, 5398.582, 5538.186, 5355.74, 5341.164, 5269.086, 6155.87, 5953.718, 5311.264, 5336.512, 5846.502, 5658.988, 5352.236, 5848.45, 5471.954, 5677.552, 5622.814, 5061.842, 5582.35, 5426.82, 5732.774, 5544.83, 5395.034, 5151.748, 5427.754, 5559.668, 5582.126, 5272.85, 5629.994, 5475.94, 5609.058, 5659.264, 5522.132, 5459.874, 5988.334, 5769.374, 5607.05, 5343.812, 5516.192, 5437.246, 5973.98, 5489.914, 5625.318, 6038.974, 5491.146, 5118.87, 5468.952, 5350.956, 5127.428, 6214.732, 5723.842, 5470.646, 5545.98, 5942.786, 5515.674, 5501.07, 5234.614, 5752.13, 5502.424, 5857.478, 5847.85, 5367.452, 5615.722, 5933.298, 5360.7, 5352.612, 5450.196, 5580.236, 5178.882, 5425.004, 5363.16, 5115.888, 5479.638, 5304.336, 5452.932, 5683.966, 5281.266, 5547.826, 5342.508, 5460.712, 5519.742, 5423.624, 5220.81, 5648.104, 5277.766, 5423.04, 5459.474, 5420.518, 5405.872, 5975.562, 5625.012, 5580.56, 5317.844, 5348.778, 5537.472, 5845.166, 5490.564, 6051.44, 5694.758, 5664.876, 5336.472, 5540.23, 5499.648, 5199.208, 5550.826, 5776.934, 5340.634, 5226.188, 5369.372, 5579.856, 5142.644, 5175.984, 5178.296, 5749.794, 5459.908, 5376.834, 5776.326, 5813.272, 5178.686, 5662.162, 5184.156, 5471.17, 5524.602, 5328.23, 5196.792, 5423.86, 5687.92, 5754.584, 5476.752, 5295.854, 5379.232, 5369.73, 5526.676, 5456.216, 5987.108, 5434.738, 5247.474, 4773.198, 5591.666, 5644.812, 5538.188, 5496.946, 6474.05, 5450.4, 5350.274, 5525.836, 4970.946, 5315.466, 5499.688, 5485.52, 5254.788, 5564.33, 5195.246, 5123.676, 5485.178, 5750.512, 5818.092, 5685.226, 5299.83, 5166.16, 5722.08, 5103.742, 5359.616, 5732.936, 5651.032, 5069.914, 5661.78, 5518.398, 5357.946, 5811.95, 6251.018, 5573.326, 5390.49, 5825.2, 5513.884, 5352.722, 5313.704, 5794.642, 5597.076, 5231.158, 5531.152, 5479.648, 5348.552, 5450.282, 5443.276, 5420.598, 5361.258, 5446.944, 5549.004, 5161.622, 5204.546, 5730.97, 5784.678, 5520.424, 5437.826, 5851.982, 4865.334, 4994.62, 5663.304, 5988.56, 5607.876, 5752.584, 5315.712, 5434.848, 6098.486, 5304.33, 5774.814, 5416.996, 5580.752, 5672.002, 5499.914, 5593.762, 5372.698, 5897.4, 5557.758, 5294.996, 5512.876, 5611.184, 5570.796, 5665.578, 5531.468, 5417.45, 5727.338, 5596.96, 5755.678, 5338.384, 5596.334, 5207.932, 5231.45, 4996.67, 5513.144, 5970.208, 5433.648, 5088.508, 5306.31, 5758.328, 5478.368, 5467.776, 5401.014, 5246.846, 5414.676, 5464.32, 5491.146, 5868.68, 5455.77, 5674.552, 5569.284, 5697.05, 5703.978, 6059.1, 5231.866, 5141.09, 5247.072, 5376.582, 5662.114, 5674.378, 5337.202, 5241.744, 5372.014, 5617.456, 5508.262, 5596.238, 5088.65, 5548.874, 5363.792, 5099.344, 5558.582, 5564.458, 5538.868, 5462.09, 5197.82, 5160.922, 5669.542, 5461.726, 5421.116, 5512.066, 5696.178, 5376.996, 5760.302, 5418.654, 5374.322, 5420.114, 5132.638, 5126.976, 4927.818, 5542.964, 5465.858, 5440.5, 5463.598, 5546.254, 5266.654, 5518.706, 5818.242, 5322.776, 5402.646, 5468.138, 5720.542, 5440.81, 5240.894, 5480.486, 5774.196, 5435.304, 5399.158, 5379.55, 5192.036, 5135.692, 5346.132, 6123.13, 5840.598, 5304.294, 5556.592, 5570.832, 5264.448, 5706.722, 5400.554, 5049.43, 5482.692, 5804.18, 4997.604, 5442.314, 5622.082, 5282.62, 5096.478, 4981.814, 5800.292, 5332.094, 5488.77, 5275.148, 5873.558, 5415.822, 6025.426, 5803.884, 5634.568, 5528.498, 5239.612, 5380.63, 5392.13, 5213.684, 5567.338, 5725.59, 5344.212, 5372.304, 5413.552, 5617.164, 5549.956, 5390.858, 5557.57, 5086.662, 5206.334, 5310.262, 5721.516, 5124.124, 5617.608, 5417.598, 6061.964, 5480.646, 5693.582, 5367.772, 5483.376, 5404.224, 5378.964, 5295.68, 5592.212, 5785.11, 5626.218, 5063.878, 5960.876, 5257.886, 5914.0, 5656.112, 5801.048, 5903.142, 5332.296, 5764.098, 5885.008, 5116.684, 5227.572, 5610.374, 5560.696, 5335.572, 5351.658, 5383.88, 5505.026, 5521.61, 5798.238, 5448.562, 5588.128, 5536.424, 5648.95, 5669.96, 5087.208, 5454.32, 5667.964, 5530.664, 5484.934, 5711.312, 5406.414, 5900.974, 5331.974, 5434.04, 6361.684, 5370.608, 5664.14, 5359.522, 5342.128, 5566.904, 5345.934, 5473.804, 5532.918, 6067.982, 5575.462, 5284.122, 5220.026, 5327.154, 5423.07, 5529.06, 5653.632, 5276.336, 5145.93, 5374.614, 5530.08, 5283.168, 5459.54, 5639.132, 5918.01, 5649.688, 5233.272, 5386.372, 6062.794, 5187.762, 5399.298, 5488.058, 5662.2, 5544.3, 5729.008, 5786.574, 5234.222, 6137.56, 5179.494, 5803.374, 5052.014, 5459.484, 5318.604, 5677.536, 5561.946, 5235.104, 5800.458, 5253.16, 5579.288, 5518.334, 5522.794, 4933.494, 5263.21, 5192.28, 5163.442, 6322.798, 5625.554, 5640.26, 5365.334, 5560.19, 5473.592, 5509.62, 5717.76, 5318.788, 5393.186, 5193.366, 5611.476, 5582.2, 5422.174, 5442.236, 5660.644, 5152.552, 5670.458, 5677.864, 5446.944, 5341.536, 5930.968, 5235.308, 5251.122, 5268.568, 5673.364, 5536.398, 4922.68, 5254.74, 5493.182, 5509.178, 5597.082, 5510.848, 5128.038, 5504.998, 5465.712, 5744.448, 5260.242, 5822.198, 5510.846, 5657.842, 5664.36, 5632.914, 5459.772, 5516.574, 5389.904, 5919.682, 5541.5, 5274.428, 5471.676, 5987.076, 5789.448, 5629.156, 5601.304, 6052.08, 5253.778, 6133.446, 5603.056, 5340.258, 5867.924, 5401.284, 5684.414, 5491.734, 5014.598, 5117.6, 5493.166, 4971.116, 5471.914, 5187.958, 5212.078, 5389.836, 5618.632, 5219.226, 5460.658, 5344.98, 5186.226, 5840.204, 5559.222, 5493.304, 5380.262, 5780.754, 5220.22, 5522.956, 5777.762, 5695.484, 5610.384, 5115.618, 5707.254, 5463.732, 5562.686, 5296.274, 5281.866, 5452.102, 5799.18, 5538.084, 6016.49, 5717.616, 5389.228, 5621.678, 5210.698, 5721.376, 5448.042, 5412.716, 5354.056, 5364.168, 6158.388, 5278.642, 5303.248, 5317.024, 6060.794, 5519.21, 5305.394, 5860.712, 5566.64, 5324.082, 5425.946, 5296.426, 5820.762, 5441.562, 5556.756, 5300.596, 5099.716, 5615.632, 5606.36, 5863.59, 5725.696, 5143.05, 5182.144, 5536.768, 5414.308, 5662.102, 5496.996, 5875.296, 5161.86, 5867.762, 5811.172, 5628.494, 5793.576, 5719.708, 5482.752, 5683.77, 5473.098, 5832.426, 5815.244, 5793.736, 5995.03, 5413.608, 6086.34, 5268.976, 5682.436, 5266.704, 5219.81, 5873.436, 5736.826, 5425.826, 5813.91, 5236.722, 5357.332, 5421.068, 5971.466, 5549.312, 6040.308, 5523.502, 5205.492, 5407.644, 5734.332, 5178.078, 5790.79, 5347.21, 5586.896, 5359.042, 5601.568, 5743.176, 5594.924, 5247.43, 5991.972, 5490.004, 5488.894, 5400.82, 5149.526, 5325.198, 5644.412, 5665.916, 5162.978, 5474.478, 5391.692, 5390.026, 5992.888, 5638.79, 5116.55, 5420.312, 5245.348, 5637.814, 5641.42, 5325.654, 5567.58, 5508.062, 5243.506, 5450.04, 5517.89, 5504.434, 5397.824, 5649.522, 5644.294, 5451.932, 5360.52, 4918.492, 5290.054, 5627.86, 5173.776, 5631.482, 5582.876, 5664.396, 5774.268, 5614.746, 5421.346, 5373.366, 5366.654, 5533.144, 5462.338, 5657.648, 5595.154, 5475.582, 5540.606, 5670.198, 5217.622, 5265.714, 6151.36, 4994.868, 5539.99, 5379.652, 5778.824, 5338.996, 5154.072, 5169.158, 5065.838, 5359.792, 5544.908, 5566.894, 5612.344, 5557.452, 5379.31, 5412.454, 5669.466, 5515.884, 5527.346, 5333.54, 5563.748, 5334.224, 5545.34, 5220.18, 5588.456, 5518.09, 5575.91, 5973.372, 5488.06, 5553.794, 5369.964, 5487.91, 5585.27, 5233.634, 5918.35, 5279.106, 5273.338, 5637.158, 5400.908, 5509.476, 5677.828, 4983.34, 5287.722, 5488.718, 5699.404, 5353.99, 5623.37, 5748.77, 6001.166, 5373.062, 5320.262, 5599.75, 5288.104, 5487.396, 5318.288, 5394.816, 5365.436, 5576.0, 5093.754, 5235.088, 5144.564, 5381.51, 5531.608, 5296.808, 5303.034, 4897.874, 5805.786, 5426.876, 5585.44, 5254.034, 5480.886, 5859.894, 5748.518, 5510.95, 5359.546, 5504.404, 5251.742, 5032.782, 5355.23, 5706.548, 5439.644, 5567.506, 5885.672, 5337.952, 5349.054, 5384.512, 5444.648, 5570.308, 5721.072, 5464.532, 5773.452, 5185.244, 5669.066, 5215.452, 5624.83, 5299.58, 5315.09, 5540.624, 5610.074, 5494.254, 5360.128, 5752.934, 5332.45, 5338.934, 5941.138, 5659.522, 5022.372, 5109.282, 5572.524, 5508.658, 5426.016, 5329.72, 4873.206, 5403.014, 5712.668, 5413.824, 5078.428, 5890.368, 5588.348, 5889.498, 5548.552, 5595.762, 5653.33, 5217.348, 4830.09, 5883.876, 5354.99, 5140.374, 5610.658, 5384.04, 5774.432, 5318.46, 5713.976, 5478.16, 5423.932, 5137.164, 5749.336, 5338.838, 5834.106, 5817.348, 5637.568, 5293.272, 6026.3, 5721.61, 5804.026, 5457.584, 5285.51, 5534.662, 5469.358, 5203.336, 5490.514, 5713.93, 5555.39, 5731.55, 5521.616, 5592.06, 6160.968, 5921.126, 5506.202, 5784.422, 5669.638, 5252.84, 5752.914, 5856.406, 5403.752, 5939.206, 5548.606, 5670.676, 6004.724, 5430.796, 5535.252, 5571.588, 5109.424, 5518.782, 6317.618, 5863.66, 5549.864, 5239.19, 5877.998, 5425.452, 5509.186, 5469.786, 5309.724, 5596.076, 5826.672, 5436.758, 6005.184, 5554.114, 5697.142, 5382.15, 5511.296, 5293.214, 5946.332, 6068.926, 5574.812, 5593.344, 5169.864, 5780.636, 5655.672, 5165.604, 5117.28, 5750.454, 5614.268, 5420.312, 5645.594, 5682.318, 5117.876, 4960.794, 5228.688, 5358.842, 5361.768, 5243.266, 5177.012, 5474.752, 5906.712, 5443.89, 5215.37, 5450.49, 5446.354, 5622.632, 5172.394, 5889.6, 5146.088, 5462.67, 5486.228, 5867.804, 5019.914, 6192.704, 5704.188, 5396.966, 5799.42, 5352.266, 5589.73, 5429.826, 5800.138, 5435.152, 5454.308, 5292.476, 5643.922, 5566.326, 5302.482, 5663.964, 5426.454, 5481.072, 5379.23, 5463.032, 5433.986, 5078.548, 5510.548, 5586.99, 5812.842, 4942.186, 5773.14, 5825.638, 5489.304, 5349.544, 5171.234, 6262.978, 5338.37, 5517.104, 5729.762, 5553.388, 5566.15, 5523.944, 6201.904, 5412.948, 5795.15, 5231.576, 5802.776, 5648.73, 5441.682, 5666.672, 5644.86, 5931.998, 5446.816, 5209.78, 5713.292, 5418.61, 5222.918, 5894.55, 5548.792, 5345.752, 5330.382, 5739.472, 5764.368, 5410.016, 5001.524, 5176.666, 5561.204, 5348.0, 5561.678, 5492.574, 5303.164, 5505.038, 5155.346, 5451.76, 5088.718, 5248.01, 5585.11, 5643.59, 5234.796, 5340.85, 5231.962, 5516.908, 5442.048, 5591.026, 5691.866, 5740.066, 5463.994, 5459.614, 5323.31, 5754.336, 5794.3, 5319.154, 5710.262, 5753.306, 5695.268, 5959.3, 5279.264, 5352.432, 5550.208, 5438.102, 5590.838, 5786.216, 5094.804, 5411.776, 6012.602, 5612.076, 5462.996, 5335.7, 5590.532, 5273.936, 5256.05, 5839.454, 5578.336, 5192.848, 5756.344, 5401.208, 5256.242, 5573.568, 5127.52, 4978.968, 5392.908, 5319.846, 5211.038, 5391.66, 5485.944, 5753.014, 5539.828, 5272.588, 5463.616, 5316.368, 5181.044, 5555.364, 5163.37, 5087.658, 5362.878, 5575.7, 5305.978, 4910.224, 5367.642, 5421.852, 5658.698, 5501.388, 5605.336, 5936.348, 5543.886, 5215.34, 5012.514, 5983.824, 5632.364, 5666.004, 5234.106, 5068.112, 5896.22, 6001.616, 5003.552, 5503.88, 5534.886, 5626.454, 5293.616, 6111.528, 5830.45, 5751.39, 5061.74, 5478.958, 5337.434, 5585.674, 5685.5, 5254.896, 5359.93, 5402.222, 5577.872, 4951.034, 5342.216, 5472.266, 5678.8, 4994.656, 5737.552, 5927.38, 5596.038, 5881.282, 5355.366, 5260.418, 5708.476, 5834.794, 5576.968, 5430.734, 5058.516, 5689.25, 5376.154, 5789.792, 5287.222, 5206.368, 5632.862, 5639.98, 5495.212, 5000.882, 5514.25, 5782.826, 5437.256, 5484.102, 5249.88, 5679.972, 6033.662, 5198.862, 5148.88, 5326.372, 5187.256, 5347.524, 5463.406, 5517.96, 5395.012, 5613.168, 5220.876, 5565.228, 5801.134, 5360.706, 5106.066, 5676.616, 5433.366, 5652.936, 5929.624, 5205.01, 5914.384, 5528.822, 5866.282, 5295.602, 5304.272, 5835.532, 5467.006, 5630.584, 5379.904, 5196.552, 5719.094, 5479.314, 5565.464, 6020.358, 5176.316, 5372.008, 5591.126, 5520.77, 5928.002, 5507.97, 5138.504, 5719.508, 5658.608, 6076.442, 5063.886, 5730.192, 5528.856, 5839.528, 5965.34, 5348.964, 5771.498, 5909.776, 5092.802, 5579.23, 5297.782, 5759.858, 5946.652, 5572.24, 5321.572, 5652.332, 5562.134, 5294.984, 5489.564, 6077.04, 5455.374, 5629.05, 5459.546, 5709.646, 5543.99, 5366.902, 5496.86, 5414.276, 5536.768, 5580.194, 5561.102, 5682.064, 5557.522, 5501.322, 5344.902, 5733.138, 5448.436, 5500.532, 5181.704, 5472.3, 5703.668, 5367.162, 6019.288, 5318.962, 4968.916, 5739.322, 5214.532, 4978.826, 5756.606, 5345.33, 5629.442, 6007.55, 5768.064, 5850.164, 4995.854, 5324.202, 5693.788, 5354.036, 5302.652, 5910.292, 5563.43, 5550.658, 5373.82, 5160.114, 5919.71, 5316.99, 6221.708, 5451.922, 5620.474, 5566.908, 5662.772, 4664.22, 5620.324, 5277.634, 5361.778, 5582.262, 5630.682, 5690.8, 5801.86, 5600.446, 5254.018, 5591.914, 5617.782, 5176.014, 5608.062, 6224.336, 5479.706, 5602.216, 5139.572, 5277.444, 5376.914, 5605.578, 5281.634, 5689.024, 5574.124, 5187.854, 5253.324, 5626.502, 5284.352, 5898.34, 5470.312, 5588.726, 5066.454, 5664.666, 5679.624, 5470.312, 5561.422, 5675.192, 5076.752, 5793.062, 5039.794, 5523.288, 5699.776, 5586.718, 5546.894, 5798.122, 5280.774, 5822.052, 5033.766, 5315.45, 5273.248, 5567.306, 5435.33, 5440.06, 5858.612, 4929.38, 5357.486, 5442.898, 5431.044, 5828.73, 5700.97, 5593.534, 4981.274, 5757.822, 6277.826, 5548.166, 5185.374, 5291.074, 5328.618, 5137.602, 5464.148, 5617.67, 5557.206, 5601.686, 5677.448, 5896.6, 5574.588, 5597.776, 5336.676, 5557.116, 5502.2, 5621.294, 5263.792, 5583.03, 5348.792, 5262.512, 5486.946, 5734.194, 5721.028, 5473.482, 5296.884, 5432.85, 6127.506, 5314.696, 5495.558, 5283.538, 5350.148, 5501.848, 5479.37, 5209.162, 5962.196, 5340.438, 5778.37, 5602.022, 5257.174, 5627.56, 5692.916, 5252.734, 5601.934, 5304.194, 5581.9, 5321.534, 5755.67, 5361.328, 5352.436, 6084.132, 5324.38, 5535.886, 5112.972, 5630.362, 5359.154, 5369.552, 6060.53, 5186.814, 5695.77, 6090.868, 5595.396, 5167.312, 5563.844, 5626.26, 5207.05, 5456.394, 5474.104, 5356.518, 5463.836, 5705.41, 5698.944, 5261.402, 5558.22, 5664.748, 5487.924, 5583.238, 5549.62, 5411.308, 5638.542, 5742.96, 5665.318, 5551.864, 5683.556, 5988.664, 5279.614, 5279.86, 5035.354, 5368.582, 5803.698, 5826.476, 5246.036, 5705.67, 5482.392, 5599.402, 5433.146, 5541.32, 5592.566, 5564.966, 5324.484, 5686.864, 5512.288, 5607.85, 5400.738, 5296.61, 5178.442, 5389.834, 5032.506, 5303.752, 5475.782, 5827.132, 5633.338, 5319.656, 4834.744, 5310.554, 5264.518, 5546.964, 5293.226, 5514.7, 5608.856, 5906.936, 5161.066, 5661.57, 5921.084, 5677.82, 5481.604, 5720.12, 5232.692, 5546.572, 5340.32, 6035.888, 5915.476, 5544.926, 5658.114, 5430.954, 5627.866, 5493.33, 5736.246, 6080.042, 5471.858, 5417.652, 5126.2, 5572.196, 5893.384, 5536.646, 5306.34, 5728.156, 5154.48, 5401.418, 5945.574, 5500.784, 5029.008, 6020.9, 5503.024, 5639.812, 5489.332, 5372.832, 5371.008, 5734.872, 5285.314, 5690.32, 5232.998, 5211.35, 5351.042, 5101.016, 5389.712, 5390.536, 5307.382, 5383.896, 5351.774, 5523.266, 5197.94, 5302.592, 5603.256, 5615.556, 5655.176, 5337.662, 5258.13, 5567.71, 5344.356, 5235.02, 5660.894, 5487.408, 5931.09, 5432.246, 5250.832, 5794.668, 5278.52, 5911.08, 5447.122, 5385.978, 5539.296, 4991.172, 5691.252, 5225.24, 5798.102, 5483.908, 5575.654, 5253.886, 5626.368, 5740.92, 5703.58, 6052.57, 5747.592, 5520.64, 5561.612, 5261.298, 5362.066, 5691.468, 5429.304, 5789.018, 5587.216, 6003.124, 5858.534, 5730.37, 5259.148, 5536.654, 5516.874, 5742.28, 5602.13, 5544.802, 6141.718, 5280.5, 5547.328, 5297.764, 5124.618, 5525.344, 5815.14, 5212.752, 5586.446, 5715.718, 5386.034, 5876.06, 5511.134, 5309.782, 5536.348, 5217.714, 5353.658, 5291.184, 5348.676, 5307.506, 5670.894, 5484.336, 5517.702, 5811.352, 5648.054, 5216.14, 5439.708, 5364.604, 5452.508, 5492.806, 5170.498, 5766.996, 5488.142, 5238.608, 5552.168, 5771.104, 5643.542, 5446.97, 5351.178, 5265.996, 5472.742, 5501.354, 5434.014, 5297.624, 5342.122, 5376.038, 5273.318, 5150.14, 5275.112, 5520.776, 5583.882, 5448.522, 5572.29, 5398.484, 5409.512, 5665.12, 5478.548, 5385.766, 5376.56, 5466.486, 5547.642, 5557.018, 5734.77, 5167.568, 5502.234, 5555.602, 5770.622, 5479.094, 5112.956, 5604.75, 5239.544, 5391.198, 5726.176, 5183.536, 5568.318, 5231.076, 5479.322, 5374.186, 5613.662, 5713.996, 5414.206, 5780.142, 5081.466, 5471.764, 5288.2, 5793.764, 5278.924, 5556.95, 5388.07, 5559.7, 5707.662, 6225.146, 5438.832, 5056.56, 5302.306, 6123.254, 5624.18, 5586.318, 5565.562, 5323.578, 5344.918, 5205.574, 5170.1, 5604.814, 5769.868, 5469.284, 5008.588, 5441.072, 5823.634, 5362.05, 5130.562, 5467.02, 5418.264, 5428.784, 5348.554, 5736.262, 5735.994, 5597.012, 5421.226, 5656.41, 5220.428, 5380.906, 5804.338, 5414.952, 5550.77, 5197.214, 5351.374, 5327.27, 5309.214, 5569.804, 5024.42, 5450.688, 5127.788, 5170.602, 5537.84, 5381.352, 5132.44, 5324.182, 5295.9, 5388.158, 5508.66, 5443.138, 5742.568, 5362.544, 5563.666, 5627.044, 5741.812, 5707.2, 5591.828, 5440.162, 5640.914, 5714.924, 5652.314, 5442.266, 5589.244, 5658.942, 5155.838, 5446.304, 5558.426, 5503.736, 5394.162, 5262.242, 5469.558, 5593.462, 5373.22, 5329.338, 5508.104, 5169.166, 5500.884, 5081.81, 5337.002, 5966.612, 5774.504, 5453.59, 6045.936, 5414.664, 5444.324, 5148.61, 5081.19, 5230.242, 5592.35, 5706.104, 5770.744, 5882.142, 5088.168, 5638.244, 5298.07, 5548.492, 5452.24, 5184.972, 5485.606, 5619.342, 5318.812, 5467.118, 5796.826, 5632.034, 5747.486, 5098.83, 5967.614, 6564.706, 5667.344, 5386.294, 5491.06, 5769.222, 5419.104, 5155.176, 5426.272, 5118.754, 5154.664, 5778.792, 5463.662, 5459.828, 5350.25, 5919.296, 5427.29, 5736.474, 5604.042, 5739.334, 5383.892, 5362.026, 5809.996, 5438.39, 5404.236, 5091.096, 5734.672, 5476.622, 5644.354, 5160.254, 5085.518, 5489.24, 5528.716, 5095.806, 5268.216, 5590.974, 5282.688, 5246.424, 5534.884, 5616.558, 5617.928, 5533.598, 5428.2, 5703.322, 5496.924, 5200.208, 5624.482, 5211.816, 5989.46, 6071.052, 5233.048, 5128.568, 5485.916, 5767.464, 5829.762, 5528.006, 5569.728, 5246.352, 5459.974, 5442.72, 5483.106, 5728.506, 5111.5, 5508.434, 5506.148, 5754.314, 5750.88, 5627.346, 5394.278, 5392.232, 5201.452, 5955.06, 5485.59, 5578.102, 5672.094, 5548.392, 5478.108, 5682.876, 5436.026, 5542.286, 5423.288, 5621.68, 5814.248, 5689.41, 5103.598, 5446.956, 5782.148, 5337.24, 5648.616, 5191.048, 5202.528, 5601.442, 5637.254, 5635.606, 5659.56, 5210.206, 5344.388, 5732.736, 5621.948, 5597.656, 5451.788, 5770.044, 5648.782, 5967.588, 5189.522, 5224.018, 5348.856, 5638.848, 5348.886, 5467.27, 5592.93, 5771.636, 5668.416, 5303.866, 5389.574, 5354.11, 5507.23, 5114.546, 5171.974, 5309.198, 5829.086, 5320.248, 5566.852, 5129.934, 5805.26, 5313.48, 5253.504, 5408.828, 5614.056, 5742.026, 5547.664, 5312.852, 5318.83, 5244.038, 5673.736, 5286.154, 5674.546, 5082.81, 5849.5, 5612.4, 5571.392, 5680.892, 5456.526, 5155.598, 5428.042, 5592.524, 5561.82, 5375.494, 5663.534, 6328.12, 6031.418, 5262.896, 5407.804, 5371.64, 5301.964, 5401.896, 5503.628, 5630.306, 5424.156, 5303.14, 5797.802, 5838.396, 5070.94, 5511.9, 5450.066, 5383.95, 5303.862, 5169.982, 5580.0, 5372.294, 5284.394, 5241.298, 5730.884, 5526.066, 5514.202, 5415.762, 5143.066, 5532.822, 5623.584, 5292.324, 5547.724, 5336.222, 5463.528, 5734.034, 5104.592, 5140.536, 5045.736, 5101.352, 5512.58, 5160.658, 5631.43, 5479.668, 5116.116, 5787.782, 5460.762, 5345.264, 5720.754, 5644.104, 6054.042, 5481.414, 5622.092, 5760.356, 5299.002, 5054.866, 5676.69, 5631.848, 5730.656, 5233.914, 5044.202, 5161.958, 5150.226, 5105.038, 5405.374, 5423.634, 5424.426, 5496.652, 5429.166, 5276.694, 5501.738, 5197.736, 5593.652, 5619.376, 5364.56, 5277.972, 5597.14, 5202.682, 5161.302, 5640.444, 5403.38, 5270.082, 5063.468, 5640.034, 5429.004, 5603.07, 5678.892, 5408.29, 5425.164, 5518.766, 5299.012, 5126.884, 5954.788, 5749.518, 5480.682, 5636.174, 5385.27, 5647.328, 5128.156, 5023.35, 5900.394, 5393.092, 5585.66, 5772.114, 5228.636, 5709.882, 5643.86, 5173.666, 5452.462, 6092.28, 5426.862, 5556.542, 5512.898, 5422.066, 5422.26, 6201.564, 6176.724, 5491.384, 5815.964, 5352.836, 5684.098, 5813.724, 5795.432, 5431.252, 5398.602, 5333.598, 5861.926, 5453.014, 5291.534, 5331.294, 5547.698, 5349.426, 5426.418, 5638.042, 5278.682, 5144.558, 5538.322, 5418.254, 6060.694, 5454.166, 5623.2, 5750.932, 5113.184, 5307.16, 5252.29, 5627.006, 5460.948, 5381.858, 5531.48, 6045.1, 5176.686, 5448.036, 5483.494, 5763.04, 5810.092, 5243.344, 5870.12, 5379.8, 5466.43, 5604.95, 5618.2, 5568.378, 5259.114, 5768.73, 5307.764, 5304.984, 5171.466, 5374.688, 5552.866, 5778.038, 5627.144, 5408.296, 5420.838, 5214.286, 5492.224, 5509.534, 5629.368, 5143.082, 5570.656, 5436.948, 5690.648, 5529.246, 5313.546, 5716.896, 5165.28, 5421.06, 5268.648, 5678.53, 5592.986, 6002.226, 5462.788, 5856.006, 5802.828, 5316.612, 5897.474, 5871.574, 5288.48, 5401.81, 5321.324, 5437.89, 5644.354, 5378.472, 5671.116, 5583.698, 5176.744, 5199.646, 5350.17, 5513.282, 5401.838, 5516.298, 5368.526, 5538.74, 5011.434, 5499.282, 5918.282, 6116.164, 5210.192, 5276.494, 5342.83, 5284.426, 5529.986, 5447.522, 5516.61, 5210.366, 6026.656, 5927.38, 4993.188, 5259.892, 5479.452, 5774.75, 5864.554, 5754.856, 5663.498, 6016.66, 5891.69, 5498.374, 5564.184, 5800.874, 5437.73, 5241.758, 5808.582, 5264.33, 5878.096, 5593.87, 5499.882, 5305.104, 5250.266, 5488.896, 5280.338, 5468.906, 5196.564, 5103.284, 5439.92, 5251.706, 6031.592, 5298.576, 5232.064, 5346.636, 5391.76, 5557.754, 5957.848, 6000.642, 5401.692, 5090.962, 5388.748, 5641.318, 5850.944, 5366.488, 5763.07, 5121.388, 4978.392, 5657.422, 5291.266, 5861.612, 5522.994, 5674.974, 5256.064, 5520.998, 5130.926, 5571.638, 5441.392, 5754.096, 5452.896, 5571.084, 5925.574, 5464.122, 5485.136, 5436.42, 5289.924, 5203.954, 5308.042, 5539.738, 5516.408, 5806.712, 6062.334, 5293.418, 5061.228, 5147.092, 5339.976, 5436.976, 5202.142, 5622.524, 5510.554, 5658.378, 5451.752, 5246.834, 5169.114, 5784.3, 5633.738, 5231.158, 5302.31, 5815.642, 5377.464, 5526.964, 5187.894, 5560.806, 5501.724, 5405.012, 5520.136, 5023.83, 5381.19, 5466.372, 5452.34, 5457.778, 5152.458, 5119.016, 5743.638, 5795.838, 5416.02, 5041.704, 5951.782, 5863.154, 5726.468, 5198.256, 5823.754, 5414.954, 5364.798, 4918.692, 5507.508, 5801.52, 5591.212, 5410.524, 5709.816, 5375.85, 5427.392, 5646.03, 5409.208, 5426.41, 5149.158, 5971.104, 5561.19, 5305.548, 5444.274, 5538.41, 5622.1, 5600.208, 4989.722, 5312.704, 5621.442, 5266.042, 5305.122, 5618.482, 5446.952, 5562.348, 5238.674, 5734.83, 5119.554, 5237.828, 5395.466, 5495.08, 5396.148, 5103.328, 5780.896, 6225.942, 5036.894, 5812.722, 5261.852, 5572.254, 5394.808, 5591.654, 5531.94, 5564.384, 5666.094, 5380.234, 5808.772, 5436.684, 5321.948, 5266.42, 5118.462, 5421.212, 5763.442, 5414.086, 4994.676, 5530.57, 5342.86, 5546.01, 5176.604, 4945.234, 5518.84, 4745.482, 5866.542, 5780.642, 5559.152, 5103.556, 5611.056, 5760.436, 5380.762, 5591.858, 5389.322, 5427.016, 5533.41, 5784.498, 5519.564, 5341.944, 5435.684, 5325.28, 5533.25, 5264.92, 5543.244, 5612.506, 5090.39, 5593.412, 5510.572, 5549.61, 5493.152, 5588.168, 5587.9, 5371.244, 5204.99, 5399.884, 6047.304, 5720.89, 4865.95, 5374.06, 5294.646, 5778.838, 5685.082, 5145.778, 5440.806, 5777.862, 5741.95, 5190.886, 5362.646, 5735.636, 5336.474, 5877.192, 5194.306, 5349.674, 5209.298, 5337.234, 5272.922, 5547.924, 5365.438, 5289.09, 5566.902, 6029.882, 5074.858, 5538.866, 5139.062, 5621.852, 5961.82, 5853.234, 5369.968, 5667.662, 5660.672, 5532.99, 5218.96, 5666.35, 5620.362, 5131.942, 5568.67, 5948.994, 5447.964, 5375.596, 5639.922, 6034.994, 5246.706, 5813.95, 5330.532, 4963.89, 5486.172, 6145.376, 5485.444, 5992.584, 5310.362, 5212.766, 5884.426, 5818.152, 5202.698, 5583.76, 5520.408, 5554.898, 5568.28, 5428.514, 5284.524, 5180.05, 5804.246, 5072.306, 5337.944, 5530.076, 5516.116, 5475.4, 5822.256, 6022.152, 5377.906, 5226.622, 5722.242, 5849.496, 5779.018, 5177.722, 5733.88, 5766.378, 4949.602, 5213.23, 5861.936, 5478.464, 5414.866, 5441.124, 5468.438, 5669.504, 5534.676, 6048.346, 5662.742, 5443.044, 5969.684, 5583.684, 5541.02, 5383.616, 5574.0, 5917.322, 5626.164, 5529.786, 5252.276, 5455.358, 5699.074, 5603.33, 5236.05, 5458.304, 5360.176, 6100.748, 5749.08, 5432.888, 5245.176, 5052.788, 5308.078, 5263.238, 5706.172, 5794.012, 5478.206, 5432.182, 5361.07, 5599.45, 5701.816, 5288.03, 5536.018, 5558.472, 5468.56, 4940.892, 5251.252, 5496.168, 5565.828, 5965.638, 5406.53, 5358.754, 5633.18, 5731.496, 5098.95, 5082.812, 5693.72, 5377.382, 5510.188, 5224.308, 5149.564, 5839.916, 5646.336, 5669.854, 5869.352, 5175.416, 5518.038, 5465.072, 5453.962, 5215.246, 5254.656, 5440.08, 5596.756, 5270.8, 5563.542, 5266.178, 5371.124, 5553.108, 5221.886, 5235.316, 5769.412, 5444.424, 5329.224, 5980.486, 5410.492, 5352.096, 5666.56, 5652.63, 5345.69, 5577.702, 5402.276, 5398.07, 5672.466, 5099.764, 5778.456, 5643.5, 5485.274, 5789.108, 5446.426, 4975.948, 5484.768, 5296.998, 5301.224, 5978.948, 5295.706, 5658.8, 5426.818, 5639.622, 5342.558, 5381.418, 5394.714, 5474.376, 5429.414, 5922.518, 5700.042, 5427.934, 5963.814, 5425.832, 5770.872, 5826.274, 5581.714, 5535.936, 5708.366, 5574.13, 4839.976, 5528.024, 5467.334, 5159.788, 5566.872, 5418.184, 5195.854, 5426.686, 5715.292, 6008.152, 5567.672, 5622.354, 5191.238, 5731.612, 5707.216, 5029.208, 5346.664, 5827.962, 6507.348, 5544.964, 5475.01, 5011.19, 5420.1, 5624.318, 5578.236, 5551.852, 5041.446, 5906.596, 5577.364, 5889.738, 5547.52, 5336.712, 5468.54, 5647.728, 5554.076, 5664.882, 5361.362, 5359.136, 4947.962, 5446.056, 5047.37, 5000.274, 5536.208, 5409.464, 5179.006, 5330.58, 5338.038, 5305.254, 5404.246, 5080.21, 5427.802, 5544.926, 5538.416, 5335.236, 5207.93, 5755.192, 5808.264, 5377.922, 5623.444, 4903.82, 6005.702, 5753.786, 5470.4, 5277.662, 5378.15, 5037.542, 5587.304, 5575.652, 5831.146, 5146.762, 5293.112, 5515.826, 5584.424, 5613.5, 5723.058, 5242.264, 5290.886, 5785.66, 5531.31, 5808.114, 5346.912, 5466.442, 5097.734, 5206.182, 5421.94, 5366.602, 5779.572, 5730.184, 5388.75, 5423.616, 5408.102, 5375.698, 5351.446, 5744.594, 5535.092, 5467.952, 5653.946, 5536.434, 5464.346, 5705.784, 5712.678, 5585.2, 5585.844, 5646.98, 4964.126, 5437.28, 5439.028, 5753.968, 5621.232, 5484.29, 5229.308, 5640.204, 6082.242, 6007.586, 5151.586, 5236.014, 5732.35, 5024.386, 5959.868, 5463.256, 5233.792, 5893.848, 5554.224, 5530.588, 5963.348, 5261.218, 5004.494, 5317.938, 5609.088, 5570.954, 5746.054, 5237.432, 5623.912, 5705.79, 5085.428, 5600.36, 5690.044, 5492.632, 5506.574, 5972.94, 5820.426, 5539.898, 5439.85, 5415.5, 5222.826, 5346.29, 5449.704, 5234.904, 5261.262, 5480.102, 5520.954, 5747.0, 5293.028, 5963.792, 5352.748, 5519.982, 5769.124, 5577.722, 5503.866, 5700.5, 5590.528, 5457.584, 5221.91, 5248.48, 5376.572, 5222.07, 5451.604, 5017.876, 6042.634, 6334.304, 5700.808, 5193.184, 5513.266, 5296.314, 5151.578, 5404.708, 5532.5, 5558.872, 5102.442, 5739.368, 5435.878, 4974.676, 5458.388, 5501.574, 5499.304, 5489.712, 5380.168, 4873.934, 5382.738, 5649.814, 5626.58, 5558.714, 5351.548, 5568.28, 4996.694, 5354.874, 5468.2, 5635.004, 5066.75, 5860.546, 5633.254, 5158.358, 5618.64, 5578.772, 5549.092, 5493.558, 5507.446, 5227.922, 5223.072, 5711.006, 5682.056, 5230.2, 5669.21, 5418.326, 5548.74, 5614.396, 5813.88, 5186.2, 5348.31, 5502.49, 5682.404, 5736.196, 5449.344, 5487.932, 5933.502, 5364.758, 5407.702, 5418.736, 5437.024, 5214.626, 4971.392, 5367.712, 5760.658, 5489.022, 5342.83, 5475.238, 5334.098, 5698.064, 5695.038, 5788.698, 4970.912, 5849.742, 5516.346, 5799.03, 5452.322, 5275.386, 5680.904, 5404.912, 5247.562, 5171.762, 5070.502, 5532.084, 5881.204, 5243.844, 5163.96, 5428.08, 5182.758, 5376.298, 5230.908, 5326.464, 5484.25, 5243.784, 5454.782, 5296.974, 5394.77, 5292.106, 5441.63, 5510.988, 5521.648, 5273.984, 5593.524, 5521.39, 5434.866, 5212.492, 5726.272, 5774.52, 5725.588, 5373.574, 5758.5, 5662.796, 5079.198, 6143.176, 5410.596, 5518.902, 5265.198, 5434.346, 5804.586, 5730.344, 5362.536, 5559.472, 5421.512, 5746.55, 5486.448, 5111.912, 5775.774, 5405.894, 5360.512, 5452.982, 5587.77, 5324.868, 5903.516, 5663.626, 5897.514, 5691.69, 5040.588, 5518.432, 5411.14, 5335.718, 5410.478, 5512.9, 5811.806, 5911.062, 5883.472, 5712.792, 5662.364, 5247.502, 5688.438, 5417.434, 5129.694, 5779.568, 5728.424, 5325.72, 5196.924, 5817.94, 5434.29, 5107.934, 5690.466, 5678.418, 5749.67, 4997.388, 5761.62, 5873.75, 5649.958, 5327.364, 5343.35, 5348.494, 5621.39, 5683.258, 5295.318, 5347.586, 5894.698, 5514.038, 5604.706, 5965.402, 5349.784, 5753.06, 5508.498, 6025.394, 5720.274, 5701.644, 5270.018, 5257.08, 5229.684, 5501.228, 5812.472, 5383.528, 5244.786, 5406.298, 5612.086, 5685.564, 5411.488, 5950.168, 5685.126, 5425.254, 5650.924, 5880.198, 5224.962, 5602.258, 5669.214, 5559.474, 5401.072, 5160.478, 5318.406, 5418.14, 6001.898, 5217.09, 5156.546, 5216.392, 5440.388, 5319.998, 5709.868, 5251.524, 5028.396, 5484.568, 4999.924, 5960.862, 5391.286, 5600.676, 5343.492, 5096.84, 5826.974, 5395.048, 5549.538, 5646.472, 5514.316, 5404.176, 5341.122, 5689.794, 5900.93, 5608.396, 5368.008, 5538.892, 5528.89, 5418.974, 5588.618, 5129.742, 5290.312, 5670.196, 5463.294, 5313.39, 5418.786, 5590.676, 6163.98, 5659.336, 5634.59, 5508.846, 5179.606, 5398.168, 5569.73, 5480.086, 6024.392, 5628.502, 5046.03, 5436.49, 5588.618, 5151.768, 5324.376, 5871.244, 4992.098, 5420.6, 5514.748, 5998.196, 5324.948, 5269.11, 5485.948, 5225.38, 5631.326, 5513.628, 5184.238, 5183.568, 5388.582, 5177.13, 5224.836, 5681.838, 5284.478, 5303.032, 5593.82, 5067.506, 5526.244, 5230.666, 5817.024, 5535.422, 5223.88, 5885.458, 5376.596, 5278.464, 5484.664, 5476.316, 5414.802, 5439.25, 5332.882, 5549.942, 5874.422, 5318.09, 4734.666, 4969.534, 5415.688, 5612.236, 5119.018, 5784.682, 6010.222, 5847.012, 6309.362, 5933.164, 5469.496, 5836.392, 5545.31, 5446.072, 5466.898, 5177.342, 5129.776, 5989.092, 5239.634, 5409.252, 5523.752, 5143.444, 5398.44, 5834.538, 5643.76, 5642.9, 5769.708, 5368.39, 5637.64, 5340.396, 5162.2, 5212.924, 5710.696, 5483.04, 5638.134, 5472.586, 5303.948, 5281.634, 5420.268, 5372.91, 5945.384, 5836.758, 5880.53, 4836.508, 5361.072, 6132.722, 5659.6, 5648.016, 5613.65, 5364.702, 5266.28, 5087.418, 5717.734, 5490.832, 5686.174, 5246.976, 5387.474, 5456.056, 5305.318, 5569.148, 5391.816, 5353.11, 5473.946, 5724.582, 5723.434, 5553.102, 5590.57, 5804.964, 5603.768, 5243.212, 5494.3, 5354.328, 5787.762, 5258.06, 5275.226, 5217.522, 5506.536, 5427.652, 5368.834, 5559.32, 5169.61, 5460.748, 6018.36, 5107.932, 5946.214, 5757.744, 5433.108, 5639.346, 5344.522, 5570.758, 5404.256, 5521.108, 5619.072, 5253.998, 5304.434, 5541.248, 6028.62, 5287.994, 5411.194, 5459.66, 5224.166, 5385.186, 5410.312, 5304.578, 5307.6, 4995.972, 5220.192, 5668.832, 5138.646, 5771.334, 5270.492, 5569.282, 5523.538, 5914.434, 5304.038, 5491.858, 5498.366, 5272.174, 5690.868, 4907.622, 5428.648, 5588.062, 5875.962, 5482.818, 5151.364, 5467.698, 5325.09, 5894.23, 5606.052, 5465.75, 5318.55, 5146.542, 5540.78, 5963.708, 5385.162, 5679.108, 5599.014, 5626.12, 5618.828, 5337.268, 4940.498, 5835.9, 5859.108, 5456.19, 5428.138, 5295.336, 5338.862, 5535.326, 4961.258, 6291.746, 5367.85, 5578.942, 5170.968, 5224.878, 5558.656, 5629.872, 5698.96, 5749.126, 5304.26, 5311.146, 5480.256, 5504.706, 5680.628, 5431.62, 5462.132, 5498.546, 5306.814, 5996.608, 5453.53, 5272.328, 5371.936, 5335.958, 5470.108, 6120.716, 5657.194, 5652.56, 5196.926, 5739.166, 5194.234, 5144.418, 5499.164, 5308.488, 5379.91, 5497.216, 5810.676, 5329.284, 5324.468, 5420.914, 5320.324, 5457.556, 5627.076, 5222.948, 6081.038, 5326.652, 5602.16, 5314.918, 5451.556, 5504.24, 5391.638, 6020.35, 5525.012, 4939.806, 5948.974, 5477.75, 5947.166, 5630.712, 6152.48, 5297.266, 5491.11, 5322.32, 5605.684, 5492.676, 5429.92, 5459.514, 5251.756, 5989.382, 5486.202, 5385.088, 4799.922, 6065.528, 5395.91, 5219.472, 5283.644, 5586.016, 5506.838, 5645.446, 5111.974, 5457.534, 5271.206, 5504.75, 5331.208, 5215.9, 5366.43, 5365.082, 5391.574, 5494.136, 5771.738, 5291.284, 5732.924, 5532.262, 5763.938, 5434.704, 5540.426, 5399.928, 6089.004, 5134.362, 5491.914, 5586.298, 5582.832, 5443.752, 5268.666, 5364.052, 5332.544, 5294.552, 5377.1, 5628.552, 5393.708, 5080.65, 5859.986, 5581.88, 4963.388, 5215.526, 6077.874, 5434.968, 5551.708, 5401.884, 5468.588, 5276.082, 5539.836, 5372.624, 5574.766, 5763.264, 5364.464, 5378.574, 5127.968, 5224.324, 5501.48, 5481.008, 5740.788, 5333.102, 5627.432, 5598.256, 5410.4, 5263.722, 5269.458, 5295.46, 5379.722, 5990.866, 5427.532, 5529.448, 5407.198, 4946.478, 5551.936, 5267.824, 5539.23, 5180.682, 5613.692, 5512.816, 5676.13, 5376.088, 5684.52, 5858.7, 5421.404, 5522.934, 5176.09, 5376.09, 5744.614, 5027.858, 5732.804, 5391.71, 5368.642, 5438.546, 5251.826, 5817.96, 5719.754, 5551.346, 5385.822, 5702.1, 5763.018, 5644.73, 5160.188, 5704.674, 5667.71, 5882.026, 5449.562, 5407.682, 5714.072, 5545.778, 5369.606, 5602.858, 5873.764, 5399.292, 5109.53, 5671.926, 5182.54, 5542.594, 5341.11, 6177.162, 5689.002, 5615.26, 5460.67, 5236.066, 5374.908, 5472.694, 5143.612, 5348.742, 5298.158, 5509.864, 5687.834, 5778.776, 5982.548, 5840.472, 5869.462, 5645.34, 5620.248, 5611.37, 5765.834, 5281.776, 5765.196, 5340.822, 5480.082, 5428.266, 5495.978, 5469.444, 5472.678, 5716.204, 5052.424, 5639.968, 5202.164, 5868.014, 5545.528, 5588.046, 5390.88, 5452.608, 5219.886, 5325.954, 5334.264, 5527.758, 5291.618, 5685.888, 5190.404, 5558.228, 5751.67, 5042.142, 5350.278, 5100.548, 5602.906, 6142.142, 6092.228, 5599.624, 5592.924, 5286.256, 5784.83, 5493.776, 5545.666, 5464.484, 5029.014, 5241.266, 5257.366, 5301.95, 5748.482, 5617.31, 5064.546, 5474.034, 5242.374, 5617.318, 5559.982, 5260.784, 5089.374, 5407.342, 5647.506, 5632.168, 5670.442, 5780.796, 5399.79, 5515.988, 5297.958, 5881.326, 5337.48, 5361.448, 5600.28, 5653.934, 5355.594, 5568.874, 5250.18, 5474.626, 4919.758, 5605.236, 5275.146, 5536.616, 5625.666, 6161.614, 5547.068, 6023.282, 5521.636, 5128.506, 5374.276, 5295.814, 5457.768, 5628.22, 5655.388, 5237.416, 5219.372, 5616.488, 5607.31, 5516.232, 5396.696, 6159.4, 5326.952, 5818.768, 5575.244, 5181.602, 5411.828, 5592.57, 5612.084, 5318.82, 5147.84, 5697.824, 5349.112, 5891.506, 5459.886, 5936.394, 5243.362, 5824.496, 5567.874, 5604.144, 5367.454, 5825.404, 5221.064, 5339.042, 5596.028, 5093.902, 5181.938, 5340.826, 5453.084, 5256.344, 5504.922, 5581.374, 5387.214, 5511.876, 5502.542, 5142.584, 5387.818, 5417.632, 5472.152, 5344.848, 5580.848, 5693.114, 5157.402, 5565.452, 5681.456, 5694.744, 5501.69, 5430.31, 5559.126, 5694.558, 5592.406, 5024.558, 5559.918, 5563.136, 5253.306, 5937.138, 5605.808, 5444.25, 5393.512, 5805.862, 5503.396, 5287.384, 5769.518, 5525.212, 6169.308, 5533.502, 5152.01, 5089.916, 5745.558, 5325.24, 5300.996, 5754.166, 5786.196, 5695.566, 5331.88, 5312.452, 5424.162, 5386.914, 5203.688, 5538.08, 5282.982, 5391.996, 5792.604, 5219.282, 5397.438, 5215.152, 5637.836, 5837.366, 5566.578, 5234.032, 5518.098, 5181.986, 5643.598, 5118.03, 5619.204, 5479.858, 5605.94, 5488.792, 6139.772, 5235.408, 5343.524, 5420.716, 5964.73, 5150.648, 5997.058, 5533.096, 5563.812, 5409.596, 5226.722, 5072.61, 5677.682, 5314.83, 5351.004, 5051.676, 5652.206, 5443.23, 5098.906, 5415.354, 5130.596, 5636.68, 5766.696, 5642.288, 5634.246, 5553.856, 5485.346, 5360.65, 5839.376, 5933.604, 5326.83, 5424.058, 5530.202, 5206.478, 5387.496, 5277.94, 5649.462, 5535.432, 5897.268, 5280.278, 5487.132, 5375.468, 5658.372, 5517.272, 6003.022, 4875.444, 5339.512, 5509.58, 5373.182, 5639.332, 5514.712, 5529.428, 5616.768, 5443.802, 5285.998, 5093.364, 4918.17, 5746.178, 5614.074, 5502.032, 5671.1, 5822.642, 5776.442, 5473.608, 5510.544, 5361.06, 5624.654, 5458.294, 5668.772, 5529.902, 5571.832, 5896.398, 5556.592, 5282.85, 5462.64, 5822.75, 5794.302, 5572.502, 5729.852, 5164.326, 5424.37, 5600.074, 5447.238, 6226.318, 5613.236, 5379.086, 5624.154, 5814.618, 5347.844, 5657.248, 5594.094, 5496.09, 5332.258, 5596.054, 5214.744, 5394.444, 5476.46, 5373.552, 5727.406, 5489.988, 5386.19, 5704.386, 5378.452, 5990.608, 5383.996, 5217.288, 5727.256, 5578.504, 5442.512, 5726.112, 5327.486, 5523.87, 5634.73, 5633.646, 5215.95, 5621.772, 5166.176, 5391.024, 5881.296, 5215.48, 5326.154, 5440.59, 5371.33, 5178.704, 5518.622, 5570.306, 5982.108, 5256.124, 5299.0, 5296.45, 5859.97, 5622.738, 5315.518, 5149.462, 5296.974, 5456.338, 5302.312, 5125.36, 4998.774, 5571.076, 5441.14, 5231.118, 5090.264, 5872.374, 5293.942, 5699.902, 6100.244, 5529.608, 5290.098, 5739.92, 5405.024, 5183.928, 5611.38, 5609.328, 5221.106, 5590.338, 5277.002, 5341.768, 5380.848, 5169.794, 5672.878, 5179.724, 5688.858, 5278.868, 5624.942, 5596.718, 5809.96, 5325.632, 5422.174, 5177.108, 5455.134, 5560.604, 5904.538, 5364.544, 5440.172, 5722.934, 5411.686, 5653.13, 5241.918, 5445.5, 5580.284, 5762.204, 5570.844, 5685.156, 5145.45, 6113.132, 5706.582, 5295.816, 5779.01, 5748.278, 5418.554, 5547.76, 5519.358, 5674.974, 5724.528, 5735.614, 6161.916, 5219.168, 5345.802, 5593.032, 5125.406, 5417.112, 5588.204, 5929.678, 6144.156, 6084.936, 5549.034, 5829.37, 5429.3, 5179.406, 5339.204, 5258.454, 5366.276, 5342.658, 5455.518, 5214.188, 5315.536, 5494.236, 6050.608, 5632.408, 5815.362, 5233.606, 5907.514, 5462.53, 5919.218, 5223.892, 5425.388, 5445.192, 5827.116, 4911.886, 4986.316, 5656.778, 5174.92, 5206.186, 5424.78, 5514.986, 5588.162, 5513.61, 5567.742, 5240.95, 5293.928, 5835.998, 5415.626, 5029.054, 5302.946, 5631.692, 5495.578, 5861.666, 5514.048, 5573.684, 5838.966, 6171.176, 5516.828, 5714.392, 5239.228, 5718.252, 5241.834, 5584.49, 5956.618, 5112.544, 5472.654, 5398.494, 5125.076, 5523.898, 5244.034, 5222.79, 6097.392, 5347.432, 5107.828, 5305.128, 5173.744, 5568.06, 5429.542, 5283.864, 5544.154, 5307.092, 5659.494, 5073.144, 5605.168, 5887.66, 5449.16, 5545.536, 5496.014, 5499.196, 5332.038, 5434.316, 5487.25, 5540.398, 5408.064, 5912.042, 5329.41, 5719.698, 5628.464, 5300.034, 5048.21, 5756.39, 5457.678, 5219.08, 5412.876, 5275.292, 5458.156, 5784.142, 5896.306, 5362.362, 5490.416, 5581.87, 5438.83, 5311.026, 5165.64, 5452.42, 6016.098, 5460.404, 5546.362, 5251.05, 5559.714, 5517.918, 5503.486, 5484.814, 5223.964, 5427.528, 5409.958, 5566.04, 5854.944, 5342.378, 6055.656, 5308.35, 5572.966, 5179.086, 5708.536, 5612.256, 5461.874, 5167.402, 5120.91, 5894.922, 5368.43, 5569.24, 5567.234, 5856.804, 5515.306, 5527.318, 5677.454, 5604.494, 5612.764, 5338.768, 5620.272, 5340.6, 5600.26, 5573.584, 5612.826, 5631.158, 5159.38, 5509.918, 5371.702, 5411.51, 5315.484, 5550.738, 5390.914, 5603.598, 5782.608, 5318.14, 5435.076, 5143.798, 5364.694, 5542.33, 5580.372, 5641.882, 5479.512, 5565.984, 5280.36, 6044.828, 5871.664, 5678.12, 5257.304, 5223.032, 5428.334, 5182.748, 5425.284, 5480.652, 6130.314, 5308.824, 5259.586, 5469.786, 5492.47, 5389.452, 5784.818, 5186.504, 5612.32, 5415.6, 5510.636, 5395.892, 5534.86, 5722.88, 5910.82, 5327.606, 5641.436, 5906.568, 5920.242, 5424.724, 5387.984, 5330.016, 5562.934, 5534.516, 5837.55, 5340.566, 5257.058, 5624.606, 5471.858, 5458.534, 5831.244, 5511.68, 5288.13, 5234.384, 5174.396, 6096.102, 5614.296, 5714.078, 5362.966, 5672.914, 5467.368, 5673.33, 5558.016, 5589.916, 5123.924, 5655.174, 5130.436, 5532.694, 5464.812, 5276.29, 5554.814, 5566.744, 5120.982, 5414.488, 5540.964]\n"
     ]
    }
   ],
   "source": [
    "# 평균소득의 분포는 정규분포를 따를 것이다.\n",
    "# 500개 추출해서 평균소득 구하고, 그걸 만번 반복해서 평균소득의 histogram 그려보자\n",
    "\n",
    "n=10000\n",
    "mn=[]\n",
    "\n",
    "for i in range(n):\n",
    "    sample=np.random.choice(income, size=500, replace=True) #무자귀 보건추출\n",
    "    mean=np.mean(sample)\n",
    "    mn.append(mean)\n",
    "print(mn)"
   ]
  },
  {
   "cell_type": "code",
   "execution_count": 15,
   "id": "e5c7b99e",
   "metadata": {
    "scrolled": true
   },
   "outputs": [
    {
     "data": {
      "image/png": "[encoded data removed]",
      "text/plain": [
       "<Figure size 640x480 with 1 Axes>"
      ]
     },
     "metadata": {},
     "output_type": "display_data"
    }
   ],
   "source": [
    "# 1만개의 표본평균을 히스토그램으로 그린다. by CLT, 표본평균은 정규분포를 따를 것으로 예상한다.\n",
    "plt.hist(mn,alpha=0.3,bins=2000)\n",
    "plt.show()"
   ]
  },
  {
   "cell_type": "code",
   "execution_count": 16,
   "id": "4dee9134",
   "metadata": {},
   "outputs": [],
   "source": [
    "# 5500 중심으로, 정규분포\n",
    "# 전체소득분포는 오른쪽으로 꼬리가 긴 분포이지만\n",
    "# 18000개 표본으로부터 500개뽑은 평균소득은 정규분포(에 가깝다, centeral limit theorem)"
   ]
  },
  {
   "cell_type": "markdown",
   "id": "ff6b38be",
   "metadata": {},
   "source": [
    "## 3 동일 집단 간 차이 검정\n",
    "\n",
    "- 귀무가설, 대립가설\n",
    "- 귀무: 가설검정 통해 귀무 가설을 판단하는 것, REJECT OR NOT\n",
    "- 검정통계량: 귀무가설이 맞다는 하에서 기대하는 값과의 차이"
   ]
  },
  {
   "cell_type": "code",
   "execution_count": 17,
   "id": "0d1bc9b7",
   "metadata": {},
   "outputs": [
    {
     "name": "stdout",
     "output_type": "stream",
     "text": [
      "7.306573138586187\n"
     ]
    }
   ],
   "source": [
    "# Q4\n",
    "z=(167-0)/(2606/np.sqrt(13000))\n",
    "print(z)"
   ]
  },
  {
   "cell_type": "code",
   "execution_count": 18,
   "id": "00599538",
   "metadata": {},
   "outputs": [],
   "source": [
    "# 검정통계량 가지고 어떻게 가설검정 판단 하느냐: 귀무가설 기가하느냐, 기각하지 못하느냐\n",
    "# 7.306이 5%보다 작다 -> 귀무가설 기각 = 소득의 차이가 실제로는 0이고, 차이는 우연으로 나타났다"
   ]
  },
  {
   "cell_type": "markdown",
   "id": "ccec3dd7",
   "metadata": {},
   "source": [
    "> 통계학에서는 \" 두 현상에서는 차이가 없다\" 라는 것을 귀무가설로 설정하고, 이를 기각하는 방법을 선택. 어떤 차이가 우연에 의해서 발생했을 가능성이 매우 적다는 것을 보여줌으로써 그 차이가 실질적으로 나타는 것을 말함\n",
    "\n",
    "- 중요한 건\n",
    "- 소득의 차이는 실질적으로 0이고, 만약에 13000가구 의 소득이  167만원 증가한 거는 우연\n",
    "- 이러한 귀무가설을 검정하기위해 검정 통계량 계산\n",
    "- 13000개에서 얻은 소득 차이의 평균에서 귀무가설기댓값을 빼고, 통계량의 표준오차로 나눔\n",
    "- 검정통계량보다 z가 클 확률 = p-value, \n",
    "- p-vlaue가 0.05보다 작으면 귀무가설을 기각 한다\n"
   ]
  },
  {
   "cell_type": "code",
   "execution_count": 19,
   "id": "6ca06802",
   "metadata": {},
   "outputs": [],
   "source": [
    "from scipy.stats import norm # 정규분포 계산위함"
   ]
  },
  {
   "cell_type": "code",
   "execution_count": 20,
   "id": "42732b89",
   "metadata": {},
   "outputs": [
    {
     "name": "stdout",
     "output_type": "stream",
     "text": [
      "1.438849039914203e-13\n"
     ]
    }
   ],
   "source": [
    "# 그럼 그 z=7.30일때 오른쪽 꼬리 확률\n",
    "# 표준정규분포에서 계산한다\n",
    "# p-value라고 부른다.\n",
    "\n",
    "z=7.3\n",
    "p_value=1-norm.cdf(z)\n",
    "print(p_value)"
   ]
  },
  {
   "cell_type": "code",
   "execution_count": 21,
   "id": "ff4e8697",
   "metadata": {},
   "outputs": [],
   "source": [
    "# e-13 = 10의 -13승\n",
    "\n",
    "# [p_value] 알고 있어야함"
   ]
  },
  {
   "cell_type": "code",
   "execution_count": 22,
   "id": "8dfbe730",
   "metadata": {},
   "outputs": [
    {
     "data": {
      "text/html": [
       "<div>\n",
       "<style scoped>\n",
       "    .dataframe tbody tr th:only-of-type {\n",
       "        vertical-align: middle;\n",
       "    }\n",
       "\n",
       "    .dataframe tbody tr th {\n",
       "        vertical-align: top;\n",
       "    }\n",
       "\n",
       "    .dataframe thead th {\n",
       "        text-align: right;\n",
       "    }\n",
       "</style>\n",
       "<table border=\"1\" class=\"dataframe\">\n",
       "  <thead>\n",
       "    <tr style=\"text-align: right;\">\n",
       "      <th></th>\n",
       "      <th>year</th>\n",
       "      <th>metro</th>\n",
       "      <th>id</th>\n",
       "      <th>sex</th>\n",
       "      <th>age</th>\n",
       "      <th>number</th>\n",
       "      <th>education</th>\n",
       "      <th>marriage</th>\n",
       "      <th>asset</th>\n",
       "      <th>debt</th>\n",
       "      <th>income</th>\n",
       "      <th>income_d</th>\n",
       "      <th>industry</th>\n",
       "      <th>job</th>\n",
       "      <th>house</th>\n",
       "    </tr>\n",
       "  </thead>\n",
       "  <tbody>\n",
       "    <tr>\n",
       "      <th>0</th>\n",
       "      <td>2019</td>\n",
       "      <td>G1</td>\n",
       "      <td>10500141</td>\n",
       "      <td>1</td>\n",
       "      <td>56</td>\n",
       "      <td>6</td>\n",
       "      <td>6</td>\n",
       "      <td>2</td>\n",
       "      <td>44460</td>\n",
       "      <td>18840</td>\n",
       "      <td>3360</td>\n",
       "      <td>2470</td>\n",
       "      <td>C</td>\n",
       "      <td>3</td>\n",
       "      <td>2</td>\n",
       "    </tr>\n",
       "    <tr>\n",
       "      <th>1</th>\n",
       "      <td>2019</td>\n",
       "      <td>G1</td>\n",
       "      <td>10500151</td>\n",
       "      <td>2</td>\n",
       "      <td>64</td>\n",
       "      <td>2</td>\n",
       "      <td>3</td>\n",
       "      <td>3</td>\n",
       "      <td>86485</td>\n",
       "      <td>7000</td>\n",
       "      <td>4090</td>\n",
       "      <td>3855</td>\n",
       "      <td>NaN</td>\n",
       "      <td>NaN</td>\n",
       "      <td>2</td>\n",
       "    </tr>\n",
       "    <tr>\n",
       "      <th>2</th>\n",
       "      <td>2019</td>\n",
       "      <td>G1</td>\n",
       "      <td>10500161</td>\n",
       "      <td>1</td>\n",
       "      <td>84</td>\n",
       "      <td>2</td>\n",
       "      <td>6</td>\n",
       "      <td>2</td>\n",
       "      <td>20350</td>\n",
       "      <td>0</td>\n",
       "      <td>774</td>\n",
       "      <td>730</td>\n",
       "      <td>NaN</td>\n",
       "      <td>NaN</td>\n",
       "      <td>1</td>\n",
       "    </tr>\n",
       "    <tr>\n",
       "      <th>3</th>\n",
       "      <td>2019</td>\n",
       "      <td>G1</td>\n",
       "      <td>10500171</td>\n",
       "      <td>1</td>\n",
       "      <td>57</td>\n",
       "      <td>4</td>\n",
       "      <td>4</td>\n",
       "      <td>2</td>\n",
       "      <td>46498</td>\n",
       "      <td>10300</td>\n",
       "      <td>7411</td>\n",
       "      <td>6215</td>\n",
       "      <td>C</td>\n",
       "      <td>5</td>\n",
       "      <td>1</td>\n",
       "    </tr>\n",
       "    <tr>\n",
       "      <th>4</th>\n",
       "      <td>2019</td>\n",
       "      <td>G1</td>\n",
       "      <td>10500181</td>\n",
       "      <td>1</td>\n",
       "      <td>56</td>\n",
       "      <td>5</td>\n",
       "      <td>5</td>\n",
       "      <td>2</td>\n",
       "      <td>158174</td>\n",
       "      <td>23900</td>\n",
       "      <td>9972</td>\n",
       "      <td>7574</td>\n",
       "      <td>P</td>\n",
       "      <td>1</td>\n",
       "      <td>1</td>\n",
       "    </tr>\n",
       "  </tbody>\n",
       "</table>\n",
       "</div>"
      ],
      "text/plain": [
       "   year metro        id  sex  age  number  education  marriage   asset   debt  \\\n",
       "0  2019    G1  10500141    1   56       6          6         2   44460  18840   \n",
       "1  2019    G1  10500151    2   64       2          3         3   86485   7000   \n",
       "2  2019    G1  10500161    1   84       2          6         2   20350      0   \n",
       "3  2019    G1  10500171    1   57       4          4         2   46498  10300   \n",
       "4  2019    G1  10500181    1   56       5          5         2  158174  23900   \n",
       "\n",
       "   income  income_d industry  job  house  \n",
       "0    3360      2470        C    3      2  \n",
       "1    4090      3855      NaN  NaN      2  \n",
       "2     774       730      NaN  NaN      1  \n",
       "3    7411      6215        C    5      1  \n",
       "4    9972      7574        P    1      1  "
      ]
     },
     "execution_count": 22,
     "metadata": {},
     "output_type": "execute_result"
    }
   ],
   "source": [
    "# 2019, 2020년 데이터 불러오자\n",
    "df10=pd.read_csv('c:/temp/household_2019a.csv')\n",
    "df20=pd.read_csv('c:/temp/household_2020a.csv')\n",
    "df10.head()"
   ]
  },
  {
   "cell_type": "code",
   "execution_count": 23,
   "id": "eb8875a8",
   "metadata": {},
   "outputs": [
    {
     "data": {
      "text/html": [
       "<div>\n",
       "<style scoped>\n",
       "    .dataframe tbody tr th:only-of-type {\n",
       "        vertical-align: middle;\n",
       "    }\n",
       "\n",
       "    .dataframe tbody tr th {\n",
       "        vertical-align: top;\n",
       "    }\n",
       "\n",
       "    .dataframe thead th {\n",
       "        text-align: right;\n",
       "    }\n",
       "</style>\n",
       "<table border=\"1\" class=\"dataframe\">\n",
       "  <thead>\n",
       "    <tr style=\"text-align: right;\">\n",
       "      <th></th>\n",
       "      <th>year</th>\n",
       "      <th>metro</th>\n",
       "      <th>id</th>\n",
       "      <th>sex</th>\n",
       "      <th>age</th>\n",
       "      <th>number</th>\n",
       "      <th>education</th>\n",
       "      <th>marriage</th>\n",
       "      <th>asset</th>\n",
       "      <th>debt</th>\n",
       "      <th>income</th>\n",
       "      <th>income_d</th>\n",
       "      <th>industry</th>\n",
       "      <th>job</th>\n",
       "      <th>house</th>\n",
       "    </tr>\n",
       "  </thead>\n",
       "  <tbody>\n",
       "    <tr>\n",
       "      <th>0</th>\n",
       "      <td>2020</td>\n",
       "      <td>G1</td>\n",
       "      <td>10000112</td>\n",
       "      <td>1</td>\n",
       "      <td>34</td>\n",
       "      <td>3</td>\n",
       "      <td>6</td>\n",
       "      <td>2</td>\n",
       "      <td>112000</td>\n",
       "      <td>54500</td>\n",
       "      <td>6593</td>\n",
       "      <td>4599</td>\n",
       "      <td>F</td>\n",
       "      <td>3</td>\n",
       "      <td>2</td>\n",
       "    </tr>\n",
       "    <tr>\n",
       "      <th>1</th>\n",
       "      <td>2020</td>\n",
       "      <td>G1</td>\n",
       "      <td>10000132</td>\n",
       "      <td>2</td>\n",
       "      <td>45</td>\n",
       "      <td>2</td>\n",
       "      <td>8</td>\n",
       "      <td>2</td>\n",
       "      <td>42500</td>\n",
       "      <td>17500</td>\n",
       "      <td>17720</td>\n",
       "      <td>15257</td>\n",
       "      <td>J</td>\n",
       "      <td>2</td>\n",
       "      <td>3</td>\n",
       "    </tr>\n",
       "    <tr>\n",
       "      <th>2</th>\n",
       "      <td>2020</td>\n",
       "      <td>G1</td>\n",
       "      <td>10000162</td>\n",
       "      <td>2</td>\n",
       "      <td>73</td>\n",
       "      <td>1</td>\n",
       "      <td>2</td>\n",
       "      <td>3</td>\n",
       "      <td>5712</td>\n",
       "      <td>0</td>\n",
       "      <td>908</td>\n",
       "      <td>725</td>\n",
       "      <td>T</td>\n",
       "      <td>4</td>\n",
       "      <td>2</td>\n",
       "    </tr>\n",
       "    <tr>\n",
       "      <th>3</th>\n",
       "      <td>2020</td>\n",
       "      <td>G1</td>\n",
       "      <td>10000182</td>\n",
       "      <td>1</td>\n",
       "      <td>58</td>\n",
       "      <td>2</td>\n",
       "      <td>4</td>\n",
       "      <td>2</td>\n",
       "      <td>14870</td>\n",
       "      <td>0</td>\n",
       "      <td>2748</td>\n",
       "      <td>2431</td>\n",
       "      <td>C</td>\n",
       "      <td>5</td>\n",
       "      <td>2</td>\n",
       "    </tr>\n",
       "    <tr>\n",
       "      <th>4</th>\n",
       "      <td>2020</td>\n",
       "      <td>G1</td>\n",
       "      <td>10000192</td>\n",
       "      <td>2</td>\n",
       "      <td>27</td>\n",
       "      <td>1</td>\n",
       "      <td>4</td>\n",
       "      <td>1</td>\n",
       "      <td>814</td>\n",
       "      <td>0</td>\n",
       "      <td>1015</td>\n",
       "      <td>893</td>\n",
       "      <td>R</td>\n",
       "      <td>2</td>\n",
       "      <td>3</td>\n",
       "    </tr>\n",
       "  </tbody>\n",
       "</table>\n",
       "</div>"
      ],
      "text/plain": [
       "   year metro        id  sex  age  number  education  marriage   asset   debt  \\\n",
       "0  2020    G1  10000112    1   34       3          6         2  112000  54500   \n",
       "1  2020    G1  10000132    2   45       2          8         2   42500  17500   \n",
       "2  2020    G1  10000162    2   73       1          2         3    5712      0   \n",
       "3  2020    G1  10000182    1   58       2          4         2   14870      0   \n",
       "4  2020    G1  10000192    2   27       1          4         1     814      0   \n",
       "\n",
       "   income  income_d industry job  house  \n",
       "0    6593      4599        F   3      2  \n",
       "1   17720     15257        J   2      3  \n",
       "2     908       725        T   4      2  \n",
       "3    2748      2431        C   5      2  \n",
       "4    1015       893        R   2      3  "
      ]
     },
     "execution_count": 23,
     "metadata": {},
     "output_type": "execute_result"
    }
   ],
   "source": [
    "df20.head()"
   ]
  },
  {
   "cell_type": "code",
   "execution_count": 24,
   "id": "c31baad6",
   "metadata": {},
   "outputs": [
    {
     "data": {
      "text/html": [
       "<div>\n",
       "<style scoped>\n",
       "    .dataframe tbody tr th:only-of-type {\n",
       "        vertical-align: middle;\n",
       "    }\n",
       "\n",
       "    .dataframe tbody tr th {\n",
       "        vertical-align: top;\n",
       "    }\n",
       "\n",
       "    .dataframe thead th {\n",
       "        text-align: right;\n",
       "    }\n",
       "</style>\n",
       "<table border=\"1\" class=\"dataframe\">\n",
       "  <thead>\n",
       "    <tr style=\"text-align: right;\">\n",
       "      <th></th>\n",
       "      <th>year</th>\n",
       "      <th>id</th>\n",
       "      <th>income</th>\n",
       "    </tr>\n",
       "  </thead>\n",
       "  <tbody>\n",
       "    <tr>\n",
       "      <th>0</th>\n",
       "      <td>2020</td>\n",
       "      <td>10000112</td>\n",
       "      <td>6593</td>\n",
       "    </tr>\n",
       "    <tr>\n",
       "      <th>1</th>\n",
       "      <td>2020</td>\n",
       "      <td>10000132</td>\n",
       "      <td>17720</td>\n",
       "    </tr>\n",
       "    <tr>\n",
       "      <th>2</th>\n",
       "      <td>2020</td>\n",
       "      <td>10000162</td>\n",
       "      <td>908</td>\n",
       "    </tr>\n",
       "    <tr>\n",
       "      <th>3</th>\n",
       "      <td>2020</td>\n",
       "      <td>10000182</td>\n",
       "      <td>2748</td>\n",
       "    </tr>\n",
       "    <tr>\n",
       "      <th>4</th>\n",
       "      <td>2020</td>\n",
       "      <td>10000192</td>\n",
       "      <td>1015</td>\n",
       "    </tr>\n",
       "  </tbody>\n",
       "</table>\n",
       "</div>"
      ],
      "text/plain": [
       "   year        id  income\n",
       "0  2020  10000112    6593\n",
       "1  2020  10000132   17720\n",
       "2  2020  10000162     908\n",
       "3  2020  10000182    2748\n",
       "4  2020  10000192    1015"
      ]
     },
     "execution_count": 24,
     "metadata": {},
     "output_type": "execute_result"
    }
   ],
   "source": [
    "df11=df10[['year','id','income']]\n",
    "df21=df20[['year','id','income']]\n",
    "df21.head()"
   ]
  },
  {
   "cell_type": "code",
   "execution_count": 28,
   "id": "94a484db",
   "metadata": {},
   "outputs": [
    {
     "data": {
      "text/html": [
       "<div>\n",
       "<style scoped>\n",
       "    .dataframe tbody tr th:only-of-type {\n",
       "        vertical-align: middle;\n",
       "    }\n",
       "\n",
       "    .dataframe tbody tr th {\n",
       "        vertical-align: top;\n",
       "    }\n",
       "\n",
       "    .dataframe thead th {\n",
       "        text-align: right;\n",
       "    }\n",
       "</style>\n",
       "<table border=\"1\" class=\"dataframe\">\n",
       "  <thead>\n",
       "    <tr style=\"text-align: right;\">\n",
       "      <th></th>\n",
       "      <th>year_x</th>\n",
       "      <th>id</th>\n",
       "      <th>income_x</th>\n",
       "      <th>year_y</th>\n",
       "      <th>income_y</th>\n",
       "    </tr>\n",
       "  </thead>\n",
       "  <tbody>\n",
       "    <tr>\n",
       "      <th>0</th>\n",
       "      <td>2019</td>\n",
       "      <td>10600141</td>\n",
       "      <td>5385</td>\n",
       "      <td>2020</td>\n",
       "      <td>2695</td>\n",
       "    </tr>\n",
       "    <tr>\n",
       "      <th>1</th>\n",
       "      <td>2019</td>\n",
       "      <td>10600211</td>\n",
       "      <td>2772</td>\n",
       "      <td>2020</td>\n",
       "      <td>1563</td>\n",
       "    </tr>\n",
       "    <tr>\n",
       "      <th>2</th>\n",
       "      <td>2019</td>\n",
       "      <td>10600221</td>\n",
       "      <td>1140</td>\n",
       "      <td>2020</td>\n",
       "      <td>6014</td>\n",
       "    </tr>\n",
       "    <tr>\n",
       "      <th>3</th>\n",
       "      <td>2019</td>\n",
       "      <td>10600241</td>\n",
       "      <td>803</td>\n",
       "      <td>2020</td>\n",
       "      <td>851</td>\n",
       "    </tr>\n",
       "    <tr>\n",
       "      <th>4</th>\n",
       "      <td>2019</td>\n",
       "      <td>10600271</td>\n",
       "      <td>8021</td>\n",
       "      <td>2020</td>\n",
       "      <td>7264</td>\n",
       "    </tr>\n",
       "  </tbody>\n",
       "</table>\n",
       "</div>"
      ],
      "text/plain": [
       "   year_x        id  income_x  year_y  income_y\n",
       "0    2019  10600141      5385    2020      2695\n",
       "1    2019  10600211      2772    2020      1563\n",
       "2    2019  10600221      1140    2020      6014\n",
       "3    2019  10600241       803    2020       851\n",
       "4    2019  10600271      8021    2020      7264"
      ]
     },
     "execution_count": 28,
     "metadata": {},
     "output_type": "execute_result"
    }
   ],
   "source": [
    "# id가 같은애들 끼리 찾아서, 2019 소득, 2020 소득 보고 두개 빼주면 됨\n",
    "df=pd.merge(df11,df21,on='id',how='inner')\n",
    "# inner join: 2년간 둘다 조사된 id만 남긴다\n",
    "df.head()"
   ]
  },
  {
   "cell_type": "code",
   "execution_count": 29,
   "id": "edc81056",
   "metadata": {},
   "outputs": [
    {
     "data": {
      "text/html": [
       "<div>\n",
       "<style scoped>\n",
       "    .dataframe tbody tr th:only-of-type {\n",
       "        vertical-align: middle;\n",
       "    }\n",
       "\n",
       "    .dataframe tbody tr th {\n",
       "        vertical-align: top;\n",
       "    }\n",
       "\n",
       "    .dataframe thead th {\n",
       "        text-align: right;\n",
       "    }\n",
       "</style>\n",
       "<table border=\"1\" class=\"dataframe\">\n",
       "  <thead>\n",
       "    <tr style=\"text-align: right;\">\n",
       "      <th></th>\n",
       "      <th>year_x</th>\n",
       "      <th>income_x</th>\n",
       "      <th>year_y</th>\n",
       "      <th>income_y</th>\n",
       "    </tr>\n",
       "    <tr>\n",
       "      <th>id</th>\n",
       "      <th></th>\n",
       "      <th></th>\n",
       "      <th></th>\n",
       "      <th></th>\n",
       "    </tr>\n",
       "  </thead>\n",
       "  <tbody>\n",
       "    <tr>\n",
       "      <th>10600141</th>\n",
       "      <td>2019</td>\n",
       "      <td>5385</td>\n",
       "      <td>2020</td>\n",
       "      <td>2695</td>\n",
       "    </tr>\n",
       "    <tr>\n",
       "      <th>10600211</th>\n",
       "      <td>2019</td>\n",
       "      <td>2772</td>\n",
       "      <td>2020</td>\n",
       "      <td>1563</td>\n",
       "    </tr>\n",
       "    <tr>\n",
       "      <th>10600221</th>\n",
       "      <td>2019</td>\n",
       "      <td>1140</td>\n",
       "      <td>2020</td>\n",
       "      <td>6014</td>\n",
       "    </tr>\n",
       "    <tr>\n",
       "      <th>10600241</th>\n",
       "      <td>2019</td>\n",
       "      <td>803</td>\n",
       "      <td>2020</td>\n",
       "      <td>851</td>\n",
       "    </tr>\n",
       "    <tr>\n",
       "      <th>10600271</th>\n",
       "      <td>2019</td>\n",
       "      <td>8021</td>\n",
       "      <td>2020</td>\n",
       "      <td>7264</td>\n",
       "    </tr>\n",
       "  </tbody>\n",
       "</table>\n",
       "</div>"
      ],
      "text/plain": [
       "          year_x  income_x  year_y  income_y\n",
       "id                                          \n",
       "10600141    2019      5385    2020      2695\n",
       "10600211    2019      2772    2020      1563\n",
       "10600221    2019      1140    2020      6014\n",
       "10600241    2019       803    2020       851\n",
       "10600271    2019      8021    2020      7264"
      ]
     },
     "execution_count": 29,
     "metadata": {},
     "output_type": "execute_result"
    }
   ],
   "source": [
    "# income_x: 2019년 소득, _y:2020년 소득, 이 둘을 빼면됨\n",
    "\n",
    "# index column을 id로 바꾸자\n",
    "df1=df.set_index('id')\n",
    "df1.head()"
   ]
  },
  {
   "cell_type": "code",
   "execution_count": 30,
   "id": "03c23c6d",
   "metadata": {},
   "outputs": [
    {
     "data": {
      "text/html": [
       "<div>\n",
       "<style scoped>\n",
       "    .dataframe tbody tr th:only-of-type {\n",
       "        vertical-align: middle;\n",
       "    }\n",
       "\n",
       "    .dataframe tbody tr th {\n",
       "        vertical-align: top;\n",
       "    }\n",
       "\n",
       "    .dataframe thead th {\n",
       "        text-align: right;\n",
       "    }\n",
       "</style>\n",
       "<table border=\"1\" class=\"dataframe\">\n",
       "  <thead>\n",
       "    <tr style=\"text-align: right;\">\n",
       "      <th></th>\n",
       "      <th>income_x</th>\n",
       "      <th>income_y</th>\n",
       "    </tr>\n",
       "    <tr>\n",
       "      <th>id</th>\n",
       "      <th></th>\n",
       "      <th></th>\n",
       "    </tr>\n",
       "  </thead>\n",
       "  <tbody>\n",
       "    <tr>\n",
       "      <th>10600141</th>\n",
       "      <td>5385</td>\n",
       "      <td>2695</td>\n",
       "    </tr>\n",
       "    <tr>\n",
       "      <th>10600211</th>\n",
       "      <td>2772</td>\n",
       "      <td>1563</td>\n",
       "    </tr>\n",
       "    <tr>\n",
       "      <th>10600221</th>\n",
       "      <td>1140</td>\n",
       "      <td>6014</td>\n",
       "    </tr>\n",
       "    <tr>\n",
       "      <th>10600241</th>\n",
       "      <td>803</td>\n",
       "      <td>851</td>\n",
       "    </tr>\n",
       "    <tr>\n",
       "      <th>10600271</th>\n",
       "      <td>8021</td>\n",
       "      <td>7264</td>\n",
       "    </tr>\n",
       "  </tbody>\n",
       "</table>\n",
       "</div>"
      ],
      "text/plain": [
       "          income_x  income_y\n",
       "id                          \n",
       "10600141      5385      2695\n",
       "10600211      2772      1563\n",
       "10600221      1140      6014\n",
       "10600241       803       851\n",
       "10600271      8021      7264"
      ]
     },
     "execution_count": 30,
     "metadata": {},
     "output_type": "execute_result"
    }
   ],
   "source": [
    "df2=df1[['income_x','income_y']]\n",
    "df2.head()"
   ]
  },
  {
   "cell_type": "code",
   "execution_count": 31,
   "id": "8d69bd51",
   "metadata": {},
   "outputs": [
    {
     "data": {
      "text/html": [
       "<div>\n",
       "<style scoped>\n",
       "    .dataframe tbody tr th:only-of-type {\n",
       "        vertical-align: middle;\n",
       "    }\n",
       "\n",
       "    .dataframe tbody tr th {\n",
       "        vertical-align: top;\n",
       "    }\n",
       "\n",
       "    .dataframe thead th {\n",
       "        text-align: right;\n",
       "    }\n",
       "</style>\n",
       "<table border=\"1\" class=\"dataframe\">\n",
       "  <thead>\n",
       "    <tr style=\"text-align: right;\">\n",
       "      <th></th>\n",
       "      <th>income_x</th>\n",
       "      <th>income_y</th>\n",
       "      <th>diff</th>\n",
       "    </tr>\n",
       "    <tr>\n",
       "      <th>id</th>\n",
       "      <th></th>\n",
       "      <th></th>\n",
       "      <th></th>\n",
       "    </tr>\n",
       "  </thead>\n",
       "  <tbody>\n",
       "    <tr>\n",
       "      <th>10600141</th>\n",
       "      <td>5385</td>\n",
       "      <td>2695</td>\n",
       "      <td>-2690</td>\n",
       "    </tr>\n",
       "    <tr>\n",
       "      <th>10600211</th>\n",
       "      <td>2772</td>\n",
       "      <td>1563</td>\n",
       "      <td>-1209</td>\n",
       "    </tr>\n",
       "    <tr>\n",
       "      <th>10600221</th>\n",
       "      <td>1140</td>\n",
       "      <td>6014</td>\n",
       "      <td>4874</td>\n",
       "    </tr>\n",
       "    <tr>\n",
       "      <th>10600241</th>\n",
       "      <td>803</td>\n",
       "      <td>851</td>\n",
       "      <td>48</td>\n",
       "    </tr>\n",
       "    <tr>\n",
       "      <th>10600271</th>\n",
       "      <td>8021</td>\n",
       "      <td>7264</td>\n",
       "      <td>-757</td>\n",
       "    </tr>\n",
       "  </tbody>\n",
       "</table>\n",
       "</div>"
      ],
      "text/plain": [
       "          income_x  income_y  diff\n",
       "id                                \n",
       "10600141      5385      2695 -2690\n",
       "10600211      2772      1563 -1209\n",
       "10600221      1140      6014  4874\n",
       "10600241       803       851    48\n",
       "10600271      8021      7264  -757"
      ]
     },
     "execution_count": 31,
     "metadata": {},
     "output_type": "execute_result"
    }
   ],
   "source": [
    "df2['diff']=df2['income_y']-df2['income_x']\n",
    "df2.head()"
   ]
  },
  {
   "cell_type": "code",
   "execution_count": 32,
   "id": "17f132c9",
   "metadata": {},
   "outputs": [
    {
     "data": {
      "text/plain": [
       "count     13910.000000\n",
       "mean        211.838030\n",
       "std        2935.260708\n",
       "min      -88470.000000\n",
       "25%        -371.000000\n",
       "50%         155.000000\n",
       "75%         840.000000\n",
       "max      137662.000000\n",
       "Name: diff, dtype: float64"
      ]
     },
     "execution_count": 32,
     "metadata": {},
     "output_type": "execute_result"
    }
   ],
   "source": [
    "df2['diff'].describe()"
   ]
  },
  {
   "cell_type": "code",
   "execution_count": 34,
   "id": "a77d5f1b",
   "metadata": {},
   "outputs": [],
   "source": [
    "# 평균소득이 211만원, 표편이 290, 표본크기 13910개"
   ]
  },
  {
   "cell_type": "code",
   "execution_count": 36,
   "id": "94573a7f",
   "metadata": {},
   "outputs": [
    {
     "name": "stdout",
     "output_type": "stream",
     "text": [
      "8.478868791464198\n"
     ]
    }
   ],
   "source": [
    "# 검정통계량 , p-value 구하기\n",
    "\n",
    "z=(211-0)/(2935/np.sqrt(13910))\n",
    "print(z)"
   ]
  },
  {
   "cell_type": "code",
   "execution_count": 37,
   "id": "15ab5c3f",
   "metadata": {},
   "outputs": [
    {
     "name": "stdout",
     "output_type": "stream",
     "text": [
      "0.0\n"
     ]
    }
   ],
   "source": [
    "p_value=1-norm.cdf(z)\n",
    "print(p_value)"
   ]
  },
  {
   "cell_type": "code",
   "execution_count": 38,
   "id": "5186db85",
   "metadata": {},
   "outputs": [],
   "source": [
    "# 거의 0에 가까운 값. 즉 0.05보다 훨씬 작은 값 -> 귀무가설 기각한다\n",
    "# p-value: 검정통계량 값에 대한 오른쪽 꼬리확률\n",
    "# 귀무가설: 소득차이 없다\n",
    "# 2019년에 비해 2020년에 소득이 실질적으로 증가한다\n",
    "\n"
   ]
  },
  {
   "cell_type": "code",
   "execution_count": 40,
   "id": "6da9b4ad",
   "metadata": {},
   "outputs": [
    {
     "data": {
      "image/png": "[encoded data removed]",
      "text/plain": [
       "<Figure size 640x480 with 1 Axes>"
      ]
     },
     "metadata": {},
     "output_type": "display_data"
    }
   ],
   "source": [
    "# 2019,2020 소득분포 hist 그려보기\n",
    "\n",
    "plt.hist(df2['income_x'],alpha=0.3,bins=2000)\n",
    "plt.show()"
   ]
  },
  {
   "cell_type": "code",
   "execution_count": 43,
   "id": "2db54283",
   "metadata": {
    "scrolled": true
   },
   "outputs": [
    {
     "data": {
      "image/png": "[encoded data removed]",
      "text/plain": [
       "<Figure size 1500x600 with 1 Axes>"
      ]
     },
     "metadata": {},
     "output_type": "display_data"
    }
   ],
   "source": [
    "fig, ax=plt.subplots(figsize=(15,6))\n",
    "ax.hist(df2['income_y'], alpha=0.3, bins=2000)\n",
    "ax.grid()\n",
    "ax.set_xlim(0,40000) # 최대 값이 20억이라서 위에가 길게 나와서, limit을 한 4억까지 그리도록 함\n",
    "plt.show()"
   ]
  },
  {
   "cell_type": "markdown",
   "id": "517f687e",
   "metadata": {},
   "source": [
    " ### inner join말고도 outer join, left join, right join 도 있음\n",
    "- inner join: 양쪽 데이터셋 모두 값이 있는 것만 남김\n",
    "- 어느 한쪽에만 있어도 삭제하지 않고 남기는 느낌들이 outer, left, right, ..."
   ]
  },
  {
   "cell_type": "code",
   "execution_count": null,
   "id": "bb02587c",
   "metadata": {},
   "outputs": [],
   "source": []
  },
  {
   "cell_type": "code",
   "execution_count": null,
   "id": "a0142e28",
   "metadata": {},
   "outputs": [],
   "source": []
  },
  {
   "cell_type": "code",
   "execution_count": null,
   "id": "254f0c26",
   "metadata": {},
   "outputs": [],
   "source": []
  }
 ],
 "metadata": {
  "kernelspec": {
   "display_name": "Python 3 (ipykernel)",
   "language": "python",
   "name": "python3"
  },
  "language_info": {
   "codemirror_mode": {
    "name": "ipython",
    "version": 3
   },
   "file_extension": ".py",
   "mimetype": "text/x-python",
   "name": "python",
   "nbconvert_exporter": "python",
   "pygments_lexer": "ipython3",
   "version": "3.9.13"
  }
 },
 "nbformat": 4,
 "nbformat_minor": 5
}
