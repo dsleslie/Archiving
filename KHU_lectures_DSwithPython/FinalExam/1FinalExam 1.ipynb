{
 "cells": [
  {
   "cell_type": "code",
   "execution_count": 4,
   "id": "b10053b1",
   "metadata": {},
   "outputs": [],
   "source": [
    "import pandas as pd\n",
    "import numpy as np\n",
    "import numpy_financial as npf\n",
    "import seaborn as sns\n",
    "import matplotlib.pyplot as plt\n",
    "import statsmodels.api as sm\n",
    "from statsmodels.formula.api import ols\n",
    "from sklearn.model_selection import train_test_split\n",
    "import warnings\n",
    "warnings.filterwarnings(\"ignore\")\n",
    "from numpy import *\n",
    "\n",
    "from ggplot import *\n",
    "from scipy.stats import logistic\n",
    "from sklearn.metrics import roc_curve\n",
    "from sklearn.metrics import roc_auc_score\n",
    "from sklearn.linear_model import LogisticRegression\n",
    "from sklearn.metrics import confusion_matrix, mean_squared_error\n",
    "from sklearn.model_selection import train_test_split\n",
    "from sklearn import preprocessing\n",
    "from sklearn.neighbors import KNeighborsClassifier\n",
    "from sklearn.naive_bayes import *\n",
    "from sklearn.tree import DecisionTreeClassifier, DecisionTreeRegressor, export_graphviz\n",
    "import graphviz\n",
    "from sklearn.ensemble import RandomForestRegressor, RandomForestClassifier\n",
    "from sklearn.svm import SVC, SVR\n",
    "from sklearn.cluster import KMeans\n",
    "from sklearn.preprocessing import StandardScaler\n",
    "from sklearn.preprocessing import MinMaxScaler\n",
    "\n",
    "\n",
    "from linearmodels.iv import IV2SLS\n",
    "from scipy import stats\n",
    "from scipy.stats import trim_mean #trimmed mean\n",
    "from scipy.stats import * #chi2_contingency로 카이제곱통계량계산\n",
    "from scipy.stats import norm\n",
    "\n",
    "import keyword\n",
    "import random\n",
    "\n",
    "#open api 불러올 때 필요한 것\n",
    "from urllib.request import urlopen #request package 설치\n",
    "from bs4 import BeautifulSoup #bs4 package 설치\n",
    "\n",
    "# 그래프에서 한글 깨지지 않기 위헤 사용함\n",
    "from matplotlib import rcParams\n",
    "from matplotlib import font_manager,rc\n",
    "\n",
    "rcParams['axes.unicode_minus']=False\n",
    "plt.rcParams['font.family']='Malgun Gothic'\n",
    "font_name=font_manager.FontProperties(fname='c:/Windows/Fonts/malgun.ttf').get_name()\n",
    "rc('font',family=font_name)\n",
    "\n",
    "import FinanceDataReader as fdr\n",
    "import plotly.graph_objects as go\n",
    "import plotly.subplots as ms\n",
    "import math\n",
    "\n",
    "import tensorflow as tf\n",
    "\n",
    "import qgrid"
   ]
  },
  {
   "cell_type": "code",
   "execution_count": 5,
   "id": "168c2503",
   "metadata": {},
   "outputs": [
    {
     "data": {
      "text/html": [
       "<div>\n",
       "<style scoped>\n",
       "    .dataframe tbody tr th:only-of-type {\n",
       "        vertical-align: middle;\n",
       "    }\n",
       "\n",
       "    .dataframe tbody tr th {\n",
       "        vertical-align: top;\n",
       "    }\n",
       "\n",
       "    .dataframe thead th {\n",
       "        text-align: right;\n",
       "    }\n",
       "</style>\n",
       "<table border=\"1\" class=\"dataframe\">\n",
       "  <thead>\n",
       "    <tr style=\"text-align: right;\">\n",
       "      <th></th>\n",
       "      <th>Date</th>\n",
       "      <th>Open</th>\n",
       "      <th>High</th>\n",
       "      <th>Low</th>\n",
       "      <th>Close</th>\n",
       "      <th>Volume</th>\n",
       "      <th>Change</th>\n",
       "    </tr>\n",
       "  </thead>\n",
       "  <tbody>\n",
       "    <tr>\n",
       "      <th>0</th>\n",
       "      <td>2023-01-02</td>\n",
       "      <td>55500</td>\n",
       "      <td>56100</td>\n",
       "      <td>55200</td>\n",
       "      <td>55500</td>\n",
       "      <td>10031448</td>\n",
       "      <td>0.003617</td>\n",
       "    </tr>\n",
       "    <tr>\n",
       "      <th>1</th>\n",
       "      <td>2023-01-03</td>\n",
       "      <td>55400</td>\n",
       "      <td>56000</td>\n",
       "      <td>54500</td>\n",
       "      <td>55400</td>\n",
       "      <td>13547030</td>\n",
       "      <td>-0.001802</td>\n",
       "    </tr>\n",
       "    <tr>\n",
       "      <th>2</th>\n",
       "      <td>2023-01-04</td>\n",
       "      <td>55700</td>\n",
       "      <td>58000</td>\n",
       "      <td>55600</td>\n",
       "      <td>57800</td>\n",
       "      <td>20188071</td>\n",
       "      <td>0.043321</td>\n",
       "    </tr>\n",
       "    <tr>\n",
       "      <th>3</th>\n",
       "      <td>2023-01-05</td>\n",
       "      <td>58200</td>\n",
       "      <td>58800</td>\n",
       "      <td>57600</td>\n",
       "      <td>58200</td>\n",
       "      <td>15682826</td>\n",
       "      <td>0.006920</td>\n",
       "    </tr>\n",
       "    <tr>\n",
       "      <th>4</th>\n",
       "      <td>2023-01-06</td>\n",
       "      <td>58300</td>\n",
       "      <td>59400</td>\n",
       "      <td>57900</td>\n",
       "      <td>59000</td>\n",
       "      <td>17334989</td>\n",
       "      <td>0.013746</td>\n",
       "    </tr>\n",
       "  </tbody>\n",
       "</table>\n",
       "</div>"
      ],
      "text/plain": [
       "         Date   Open   High    Low  Close    Volume    Change\n",
       "0  2023-01-02  55500  56100  55200  55500  10031448  0.003617\n",
       "1  2023-01-03  55400  56000  54500  55400  13547030 -0.001802\n",
       "2  2023-01-04  55700  58000  55600  57800  20188071  0.043321\n",
       "3  2023-01-05  58200  58800  57600  58200  15682826  0.006920\n",
       "4  2023-01-06  58300  59400  57900  59000  17334989  0.013746"
      ]
     },
     "execution_count": 5,
     "metadata": {},
     "output_type": "execute_result"
    }
   ],
   "source": [
    "df=pd.read_csv('c:/temp/final1_20240619.csv')\n",
    "df.head()"
   ]
  },
  {
   "cell_type": "code",
   "execution_count": 6,
   "id": "0bd699b3",
   "metadata": {},
   "outputs": [
    {
     "data": {
      "text/html": [
       "<div>\n",
       "<style scoped>\n",
       "    .dataframe tbody tr th:only-of-type {\n",
       "        vertical-align: middle;\n",
       "    }\n",
       "\n",
       "    .dataframe tbody tr th {\n",
       "        vertical-align: top;\n",
       "    }\n",
       "\n",
       "    .dataframe thead th {\n",
       "        text-align: right;\n",
       "    }\n",
       "</style>\n",
       "<table border=\"1\" class=\"dataframe\">\n",
       "  <thead>\n",
       "    <tr style=\"text-align: right;\">\n",
       "      <th></th>\n",
       "      <th>Date</th>\n",
       "      <th>Open</th>\n",
       "      <th>High</th>\n",
       "      <th>Low</th>\n",
       "      <th>Close</th>\n",
       "      <th>Volume</th>\n",
       "      <th>Change</th>\n",
       "    </tr>\n",
       "  </thead>\n",
       "  <tbody>\n",
       "    <tr>\n",
       "      <th>240</th>\n",
       "      <td>2023-12-21</td>\n",
       "      <td>74600</td>\n",
       "      <td>75000</td>\n",
       "      <td>74300</td>\n",
       "      <td>75000</td>\n",
       "      <td>13478766</td>\n",
       "      <td>0.002674</td>\n",
       "    </tr>\n",
       "    <tr>\n",
       "      <th>241</th>\n",
       "      <td>2023-12-22</td>\n",
       "      <td>75800</td>\n",
       "      <td>76300</td>\n",
       "      <td>75400</td>\n",
       "      <td>75900</td>\n",
       "      <td>14515608</td>\n",
       "      <td>0.012000</td>\n",
       "    </tr>\n",
       "    <tr>\n",
       "      <th>242</th>\n",
       "      <td>2023-12-26</td>\n",
       "      <td>76100</td>\n",
       "      <td>76700</td>\n",
       "      <td>75700</td>\n",
       "      <td>76600</td>\n",
       "      <td>13164909</td>\n",
       "      <td>0.009223</td>\n",
       "    </tr>\n",
       "    <tr>\n",
       "      <th>243</th>\n",
       "      <td>2023-12-27</td>\n",
       "      <td>76700</td>\n",
       "      <td>78000</td>\n",
       "      <td>76500</td>\n",
       "      <td>78000</td>\n",
       "      <td>20651042</td>\n",
       "      <td>0.018277</td>\n",
       "    </tr>\n",
       "    <tr>\n",
       "      <th>244</th>\n",
       "      <td>2023-12-28</td>\n",
       "      <td>77700</td>\n",
       "      <td>78500</td>\n",
       "      <td>77500</td>\n",
       "      <td>78500</td>\n",
       "      <td>17797536</td>\n",
       "      <td>0.006410</td>\n",
       "    </tr>\n",
       "  </tbody>\n",
       "</table>\n",
       "</div>"
      ],
      "text/plain": [
       "           Date   Open   High    Low  Close    Volume    Change\n",
       "240  2023-12-21  74600  75000  74300  75000  13478766  0.002674\n",
       "241  2023-12-22  75800  76300  75400  75900  14515608  0.012000\n",
       "242  2023-12-26  76100  76700  75700  76600  13164909  0.009223\n",
       "243  2023-12-27  76700  78000  76500  78000  20651042  0.018277\n",
       "244  2023-12-28  77700  78500  77500  78500  17797536  0.006410"
      ]
     },
     "execution_count": 6,
     "metadata": {},
     "output_type": "execute_result"
    }
   ],
   "source": [
    "df.tail()"
   ]
  },
  {
   "cell_type": "code",
   "execution_count": 7,
   "id": "ab36d95a",
   "metadata": {},
   "outputs": [],
   "source": [
    "# daily return(ret) 변수 생성, 평균 구해 소수점 셋째자리, 백분위 퍼센트로 작성할 것"
   ]
  },
  {
   "cell_type": "code",
   "execution_count": 8,
   "id": "de3f795a",
   "metadata": {},
   "outputs": [
    {
     "data": {
      "text/html": [
       "<div>\n",
       "<style scoped>\n",
       "    .dataframe tbody tr th:only-of-type {\n",
       "        vertical-align: middle;\n",
       "    }\n",
       "\n",
       "    .dataframe tbody tr th {\n",
       "        vertical-align: top;\n",
       "    }\n",
       "\n",
       "    .dataframe thead th {\n",
       "        text-align: right;\n",
       "    }\n",
       "</style>\n",
       "<table border=\"1\" class=\"dataframe\">\n",
       "  <thead>\n",
       "    <tr style=\"text-align: right;\">\n",
       "      <th></th>\n",
       "      <th>Date</th>\n",
       "      <th>Open</th>\n",
       "      <th>High</th>\n",
       "      <th>Low</th>\n",
       "      <th>Close</th>\n",
       "      <th>Volume</th>\n",
       "      <th>Change</th>\n",
       "      <th>ret</th>\n",
       "    </tr>\n",
       "  </thead>\n",
       "  <tbody>\n",
       "    <tr>\n",
       "      <th>0</th>\n",
       "      <td>2023-01-02</td>\n",
       "      <td>55500</td>\n",
       "      <td>56100</td>\n",
       "      <td>55200</td>\n",
       "      <td>55500</td>\n",
       "      <td>10031448</td>\n",
       "      <td>0.003617</td>\n",
       "      <td>NaN</td>\n",
       "    </tr>\n",
       "    <tr>\n",
       "      <th>1</th>\n",
       "      <td>2023-01-03</td>\n",
       "      <td>55400</td>\n",
       "      <td>56000</td>\n",
       "      <td>54500</td>\n",
       "      <td>55400</td>\n",
       "      <td>13547030</td>\n",
       "      <td>-0.001802</td>\n",
       "      <td>-0.180180</td>\n",
       "    </tr>\n",
       "    <tr>\n",
       "      <th>2</th>\n",
       "      <td>2023-01-04</td>\n",
       "      <td>55700</td>\n",
       "      <td>58000</td>\n",
       "      <td>55600</td>\n",
       "      <td>57800</td>\n",
       "      <td>20188071</td>\n",
       "      <td>0.043321</td>\n",
       "      <td>4.332130</td>\n",
       "    </tr>\n",
       "    <tr>\n",
       "      <th>3</th>\n",
       "      <td>2023-01-05</td>\n",
       "      <td>58200</td>\n",
       "      <td>58800</td>\n",
       "      <td>57600</td>\n",
       "      <td>58200</td>\n",
       "      <td>15682826</td>\n",
       "      <td>0.006920</td>\n",
       "      <td>0.692042</td>\n",
       "    </tr>\n",
       "    <tr>\n",
       "      <th>4</th>\n",
       "      <td>2023-01-06</td>\n",
       "      <td>58300</td>\n",
       "      <td>59400</td>\n",
       "      <td>57900</td>\n",
       "      <td>59000</td>\n",
       "      <td>17334989</td>\n",
       "      <td>0.013746</td>\n",
       "      <td>1.374570</td>\n",
       "    </tr>\n",
       "  </tbody>\n",
       "</table>\n",
       "</div>"
      ],
      "text/plain": [
       "         Date   Open   High    Low  Close    Volume    Change       ret\n",
       "0  2023-01-02  55500  56100  55200  55500  10031448  0.003617       NaN\n",
       "1  2023-01-03  55400  56000  54500  55400  13547030 -0.001802 -0.180180\n",
       "2  2023-01-04  55700  58000  55600  57800  20188071  0.043321  4.332130\n",
       "3  2023-01-05  58200  58800  57600  58200  15682826  0.006920  0.692042\n",
       "4  2023-01-06  58300  59400  57900  59000  17334989  0.013746  1.374570"
      ]
     },
     "execution_count": 8,
     "metadata": {},
     "output_type": "execute_result"
    }
   ],
   "source": [
    "# return (r): 수익률\n",
    "# 양수면 주가 상승, 음수면 주가 하락\n",
    "# python으로 수익률 r 계산가능\n",
    "df['ret']=100*(df['Close'].pct_change())\n",
    "df.head()"
   ]
  },
  {
   "cell_type": "code",
   "execution_count": 13,
   "id": "70bbd50f",
   "metadata": {},
   "outputs": [
    {
     "data": {
      "text/plain": [
       "count    244.000000\n",
       "mean       0.150921\n",
       "std        1.327962\n",
       "min       -3.633491\n",
       "25%       -0.694461\n",
       "50%        0.137646\n",
       "75%        0.805842\n",
       "max        6.128550\n",
       "Name: ret, dtype: float64"
      ]
     },
     "execution_count": 13,
     "metadata": {},
     "output_type": "execute_result"
    }
   ],
   "source": [
    "\n",
    "# 수익률 나타내는 ret 칼럼 생김\n",
    "# 2021-01-04의 ret는 결측치일 수 밖에 없음, 앞에 데이터가 없으니까\n",
    "df1=df['ret']\n",
    "r=df1.dropna()\n",
    "# r: 수익률만 있는 칼럼 = 247일 동안 주가가 오르고 내린게 기록되어 있는 것\n",
    "r. describe() # r에 대한 통계량 알 수 있음"
   ]
  },
  {
   "cell_type": "code",
   "execution_count": 14,
   "id": "122dc8ff",
   "metadata": {},
   "outputs": [
    {
     "data": {
      "text/plain": [
       "124"
      ]
     },
     "execution_count": 14,
     "metadata": {},
     "output_type": "execute_result"
    }
   ],
   "source": [
    "\n",
    "\n",
    "# 2021년\n",
    "# 평균 수익률 -0.01% -> 거의 0\n",
    "# 근데 알고 싶은 것: 247일 동안 몇일 동안 야으이 수익률 보이는 가\n",
    "# + 값 몇 개인지 세기 : (r>0).sum()\n",
    "positive_count=(r>0).sum()\n",
    "positive_count\n"
   ]
  },
  {
   "cell_type": "code",
   "execution_count": 15,
   "id": "19145d3c",
   "metadata": {},
   "outputs": [
    {
     "data": {
      "text/plain": [
       "0.5081967213114754"
      ]
     },
     "execution_count": 15,
     "metadata": {},
     "output_type": "execute_result"
    }
   ],
   "source": [
    "# 즉 1년동안 데이터로 추정한 '주가가 오를 확률' = p\n",
    "124/244"
   ]
  },
  {
   "cell_type": "code",
   "execution_count": 16,
   "id": "f5ce07df",
   "metadata": {},
   "outputs": [
    {
     "name": "stdout",
     "output_type": "stream",
     "text": [
      "0.15875781906349132\n"
     ]
    }
   ],
   "source": [
    "prob3=math.comb(10,3)*(0.5081967213114754**3)*(1-0.5081967213114754)**7\n",
    "prob2=math.comb(10,2)*(0.5081967213114754**2)*(1-0.5081967213114754)**8\n",
    "prob1=math.comb(10,1)*(0.5081967213114754**1)*(1-0.5081967213114754)**9\n",
    "prob0=math.comb(10,0)*(0.5081967213114754**0)*(1-0.5081967213114754)**10\n",
    "print(prob0+prob1+prob2+prob3)"
   ]
  },
  {
   "cell_type": "code",
   "execution_count": 17,
   "id": "5b854474",
   "metadata": {},
   "outputs": [
    {
     "data": {
      "text/plain": [
       "0.24993281375974202"
      ]
     },
     "execution_count": 17,
     "metadata": {},
     "output_type": "execute_result"
    }
   ],
   "source": [
    "# 1 단계: 상자의 분산인 varX 계산\n",
    "varX=0.5081967213114754-(0.5081967213114754**2)\n",
    "varX"
   ]
  },
  {
   "cell_type": "code",
   "execution_count": 18,
   "id": "3cda5822",
   "metadata": {},
   "outputs": [
    {
     "data": {
      "text/plain": [
       "0.4999328092451445"
      ]
     },
     "execution_count": 18,
     "metadata": {},
     "output_type": "execute_result"
    }
   ],
   "source": [
    "# 2 단계: 상자의 표준편차 sdX 계산\n",
    "sdX=np.sqrt(varX)\n",
    "sdX"
   ]
  },
  {
   "cell_type": "code",
   "execution_count": 19,
   "id": "a7f45828",
   "metadata": {},
   "outputs": [
    {
     "data": {
      "text/plain": [
       "4.999328092451445"
      ]
     },
     "execution_count": 19,
     "metadata": {},
     "output_type": "execute_result"
    }
   ],
   "source": [
    "# 3 단계: 합의 표준오차 계산\n",
    "# 합의 표준오차 = 상자의 표준편차*sqrt(시행횟수)\n",
    "se=sdX*np.sqrt(100)\n",
    "se"
   ]
  },
  {
   "cell_type": "code",
   "execution_count": null,
   "id": "4c121c84",
   "metadata": {},
   "outputs": [],
   "source": []
  },
  {
   "cell_type": "code",
   "execution_count": null,
   "id": "c26688c4",
   "metadata": {},
   "outputs": [],
   "source": []
  },
  {
   "cell_type": "code",
   "execution_count": null,
   "id": "549db3fb",
   "metadata": {},
   "outputs": [],
   "source": []
  },
  {
   "cell_type": "code",
   "execution_count": null,
   "id": "b235fdbb",
   "metadata": {},
   "outputs": [],
   "source": []
  },
  {
   "cell_type": "code",
   "execution_count": null,
   "id": "ae9289a1",
   "metadata": {},
   "outputs": [],
   "source": []
  }
 ],
 "metadata": {
  "kernelspec": {
   "display_name": "Python 3 (ipykernel)",
   "language": "python",
   "name": "python3"
  },
  "language_info": {
   "codemirror_mode": {
    "name": "ipython",
    "version": 3
   },
   "file_extension": ".py",
   "mimetype": "text/x-python",
   "name": "python",
   "nbconvert_exporter": "python",
   "pygments_lexer": "ipython3",
   "version": "3.9.13"
  },
  "toc": {
   "base_numbering": 1,
   "nav_menu": {},
   "number_sections": true,
   "sideBar": true,
   "skip_h1_title": false,
   "title_cell": "Table of Contents",
   "title_sidebar": "Contents",
   "toc_cell": false,
   "toc_position": {},
   "toc_section_display": true,
   "toc_window_display": false
  },
  "varInspector": {
   "cols": {
    "lenName": 16,
    "lenType": 16,
    "lenVar": 40
   },
   "kernels_config": {
    "python": {
     "delete_cmd_postfix": "",
     "delete_cmd_prefix": "del ",
     "library": "var_list.py",
     "varRefreshCmd": "print(var_dic_list())"
    },
    "r": {
     "delete_cmd_postfix": ") ",
     "delete_cmd_prefix": "rm(",
     "library": "var_list.r",
     "varRefreshCmd": "cat(var_dic_list()) "
    }
   },
   "types_to_exclude": [
    "module",
    "function",
    "builtin_function_or_method",
    "instance",
    "_Feature"
   ],
   "window_display": false
  }
 },
 "nbformat": 4,
 "nbformat_minor": 5
}
