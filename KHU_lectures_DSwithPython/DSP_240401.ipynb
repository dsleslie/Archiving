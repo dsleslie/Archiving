{
 "cells": [
  {
   "cell_type": "code",
   "execution_count": 1,
   "id": "8b62f796",
   "metadata": {},
   "outputs": [],
   "source": [
    "import pandas as pd\n",
    "import numpy as np\n",
    "import numpy_financial as npf\n",
    "import seaborn as sns\n",
    "import matplotlib.pyplot as plt\n",
    "import statsmodels.api as sm\n",
    "from sklearn.model_selection import train_test_split\n",
    "import warnings\n",
    "warnings.filterwarnings(\"ignore\")\n",
    "\n",
    "\n",
    "from ggplot import *\n",
    "from scipy.stats import logistic\n",
    "from sklearn.metrics import roc_curve\n",
    "from sklearn.metrics import roc_auc_score\n",
    "from sklearn.linear_model import LogisticRegression\n",
    "from sklearn.metrics import confusion_matrix, mean_squared_error\n",
    "from sklearn.model_selection import train_test_split\n",
    "from sklearn import preprocessing\n",
    "from sklearn.neighbors import KNeighborsClassifier\n",
    "from sklearn.naive_bayes import *\n",
    "from sklearn.tree import DecisionTreeClassifier, DecisionTreeRegressor, export_graphviz\n",
    "import graphviz\n",
    "from sklearn.ensemble import RandomForestRegressor, RandomForestClassifier\n",
    "from sklearn.svm import SVC, SVR\n",
    "from sklearn.cluster import KMeans\n",
    "from sklearn.preprocessing import StandardScaler\n",
    "\n",
    "\n",
    "from linearmodels.iv import IV2SLS\n",
    "from scipy import stats\n",
    "from scipy.stats import trim_mean #trimmed mean\n",
    "\n",
    "#open api 불러올 때 필요한 것\n",
    "from urllib.request import urlopen #request package 설치\n",
    "from bs4 import BeautifulSoup #bs4 package 설치\n",
    "\n",
    "# 그래프에서 한글 깨지지 않기 위헤 사용함\n",
    "from matplotlib import rcParams\n",
    "from matplotlib import font_manager,rc\n",
    "\n",
    "rcParams['axes.unicode_minus']=False\n",
    "plt.rcParams['font.family']='Malgun Gothic'\n",
    "font_name=font_manager.FontProperties(fname='c:/Windows/Fonts/malgun.ttf').get_name()\n",
    "rc('font',family=font_name)"
   ]
  },
  {
   "cell_type": "markdown",
   "id": "4f353a6c",
   "metadata": {},
   "source": [
    "# LN4 이어서\n",
    "## 2 결합확률과 주변확률 부터\n",
    "- 필기 참고\n",
    "## 3 파이썬: 함수\n",
    "- 내장된 함수는 그냥 쓰면 되고\n",
    "- 내장되지 않은 건 내가 만들어 쓰면 됨"
   ]
  },
  {
   "cell_type": "code",
   "execution_count": 2,
   "id": "4d66e3af",
   "metadata": {},
   "outputs": [
    {
     "data": {
      "text/plain": [
       "0"
      ]
     },
     "execution_count": 2,
     "metadata": {},
     "output_type": "execute_result"
    }
   ],
   "source": [
    "min(0,1) # 정의된 함수"
   ]
  },
  {
   "cell_type": "code",
   "execution_count": 3,
   "id": "86a654e0",
   "metadata": {},
   "outputs": [
    {
     "data": {
      "text/plain": [
       "1"
      ]
     },
     "execution_count": 3,
     "metadata": {},
     "output_type": "execute_result"
    }
   ],
   "source": [
    "max(0,1)"
   ]
  },
  {
   "cell_type": "code",
   "execution_count": 5,
   "id": "0a1ac5aa",
   "metadata": {},
   "outputs": [
    {
     "data": {
      "text/html": [
       "<div>\n",
       "<style scoped>\n",
       "    .dataframe tbody tr th:only-of-type {\n",
       "        vertical-align: middle;\n",
       "    }\n",
       "\n",
       "    .dataframe tbody tr th {\n",
       "        vertical-align: top;\n",
       "    }\n",
       "\n",
       "    .dataframe thead th {\n",
       "        text-align: right;\n",
       "    }\n",
       "</style>\n",
       "<table border=\"1\" class=\"dataframe\">\n",
       "  <thead>\n",
       "    <tr style=\"text-align: right;\">\n",
       "      <th></th>\n",
       "      <th>A</th>\n",
       "      <th>B</th>\n",
       "    </tr>\n",
       "  </thead>\n",
       "  <tbody>\n",
       "    <tr>\n",
       "      <th>0</th>\n",
       "      <td>4</td>\n",
       "      <td>9</td>\n",
       "    </tr>\n",
       "    <tr>\n",
       "      <th>1</th>\n",
       "      <td>4</td>\n",
       "      <td>9</td>\n",
       "    </tr>\n",
       "    <tr>\n",
       "      <th>2</th>\n",
       "      <td>4</td>\n",
       "      <td>9</td>\n",
       "    </tr>\n",
       "  </tbody>\n",
       "</table>\n",
       "</div>"
      ],
      "text/plain": [
       "   A  B\n",
       "0  4  9\n",
       "1  4  9\n",
       "2  4  9"
      ]
     },
     "execution_count": 5,
     "metadata": {},
     "output_type": "execute_result"
    }
   ],
   "source": [
    "df=pd.DataFrame([[4,9]]*3,columns=['A','B'])\n",
    "df"
   ]
  },
  {
   "cell_type": "code",
   "execution_count": 6,
   "id": "271c5582",
   "metadata": {},
   "outputs": [
    {
     "data": {
      "text/html": [
       "<div>\n",
       "<style scoped>\n",
       "    .dataframe tbody tr th:only-of-type {\n",
       "        vertical-align: middle;\n",
       "    }\n",
       "\n",
       "    .dataframe tbody tr th {\n",
       "        vertical-align: top;\n",
       "    }\n",
       "\n",
       "    .dataframe thead th {\n",
       "        text-align: right;\n",
       "    }\n",
       "</style>\n",
       "<table border=\"1\" class=\"dataframe\">\n",
       "  <thead>\n",
       "    <tr style=\"text-align: right;\">\n",
       "      <th></th>\n",
       "      <th>A</th>\n",
       "      <th>B</th>\n",
       "    </tr>\n",
       "  </thead>\n",
       "  <tbody>\n",
       "    <tr>\n",
       "      <th>0</th>\n",
       "      <td>2.0</td>\n",
       "      <td>3.0</td>\n",
       "    </tr>\n",
       "    <tr>\n",
       "      <th>1</th>\n",
       "      <td>2.0</td>\n",
       "      <td>3.0</td>\n",
       "    </tr>\n",
       "    <tr>\n",
       "      <th>2</th>\n",
       "      <td>2.0</td>\n",
       "      <td>3.0</td>\n",
       "    </tr>\n",
       "  </tbody>\n",
       "</table>\n",
       "</div>"
      ],
      "text/plain": [
       "     A    B\n",
       "0  2.0  3.0\n",
       "1  2.0  3.0\n",
       "2  2.0  3.0"
      ]
     },
     "execution_count": 6,
     "metadata": {},
     "output_type": "execute_result"
    }
   ],
   "source": [
    "# 이 데이터 프레임 전체에 뭔가 연산을 해주고 싶다 -> apply 쓰면 됨, apply 도 내장함수 built-in function\n",
    "df.apply(np.sqrt)"
   ]
  },
  {
   "cell_type": "markdown",
   "id": "6d782620",
   "metadata": {},
   "source": [
    "#### 사용자 정의 함수\n",
    "- def으로 시작, 이름 정의\n",
    "- indent된 상태에서 함수 정의\n",
    "- x<0이 아니면은 if에 맞춰서 쓰면됨"
   ]
  },
  {
   "cell_type": "code",
   "execution_count": 7,
   "id": "049045f7",
   "metadata": {},
   "outputs": [],
   "source": [
    "def negative(x):\n",
    "    if x<0:\n",
    "        return 'negative'\n",
    "    return 'non-negative' # x<0이 아닐때"
   ]
  },
  {
   "cell_type": "code",
   "execution_count": 8,
   "id": "fe3765ef",
   "metadata": {},
   "outputs": [
    {
     "data": {
      "text/plain": [
       "'negative'"
      ]
     },
     "execution_count": 8,
     "metadata": {},
     "output_type": "execute_result"
    }
   ],
   "source": [
    "negative(-3)"
   ]
  },
  {
   "cell_type": "code",
   "execution_count": 9,
   "id": "46224b7b",
   "metadata": {},
   "outputs": [
    {
     "data": {
      "text/plain": [
       "'non-negative'"
      ]
     },
     "execution_count": 9,
     "metadata": {},
     "output_type": "execute_result"
    }
   ],
   "source": [
    "negative(5)"
   ]
  },
  {
   "cell_type": "code",
   "execution_count": 10,
   "id": "a3fadf70",
   "metadata": {},
   "outputs": [],
   "source": [
    "def f1(x, a=1, b=1): # 값을 3개 입력하겠다. 혹시 a와 b를 입력하지 않으면 자동으로 각각 1을 사용해라. 라는 뜻\n",
    "    return a*b*x"
   ]
  },
  {
   "cell_type": "code",
   "execution_count": 11,
   "id": "68c236b7",
   "metadata": {},
   "outputs": [
    {
     "data": {
      "text/plain": [
       "24"
      ]
     },
     "execution_count": 11,
     "metadata": {},
     "output_type": "execute_result"
    }
   ],
   "source": [
    "f1(2,3,4)"
   ]
  },
  {
   "cell_type": "code",
   "execution_count": 12,
   "id": "edff8e45",
   "metadata": {},
   "outputs": [
    {
     "data": {
      "text/plain": [
       "2"
      ]
     },
     "execution_count": 12,
     "metadata": {},
     "output_type": "execute_result"
    }
   ],
   "source": [
    "f1(2)"
   ]
  },
  {
   "cell_type": "code",
   "execution_count": 13,
   "id": "0440886a",
   "metadata": {},
   "outputs": [
    {
     "data": {
      "text/plain": [
       "8"
      ]
     },
     "execution_count": 13,
     "metadata": {},
     "output_type": "execute_result"
    }
   ],
   "source": [
    "f1(2,4)"
   ]
  },
  {
   "cell_type": "markdown",
   "id": "9ee3538b",
   "metadata": {},
   "source": [
    "## 4 공공데이터 포털에서 증권거래소 종목 가져오기\n",
    "\n",
    "- 주가, 회사의 정보가 필요할 것이다 .\n",
    "- 증권거래소에서 이 정보를 가져오자\n"
   ]
  },
  {
   "cell_type": "code",
   "execution_count": 15,
   "id": "7b1b3c5d",
   "metadata": {},
   "outputs": [
    {
     "data": {
      "text/html": [
       "<div>\n",
       "<style scoped>\n",
       "    .dataframe tbody tr th:only-of-type {\n",
       "        vertical-align: middle;\n",
       "    }\n",
       "\n",
       "    .dataframe tbody tr th {\n",
       "        vertical-align: top;\n",
       "    }\n",
       "\n",
       "    .dataframe thead th {\n",
       "        text-align: right;\n",
       "    }\n",
       "</style>\n",
       "<table border=\"1\" class=\"dataframe\">\n",
       "  <thead>\n",
       "    <tr style=\"text-align: right;\">\n",
       "      <th></th>\n",
       "      <th>표준코드</th>\n",
       "      <th>단축코드</th>\n",
       "      <th>한글 종목명</th>\n",
       "      <th>한글 종목약명</th>\n",
       "      <th>영문 종목명</th>\n",
       "      <th>상장일</th>\n",
       "      <th>시장구분</th>\n",
       "      <th>증권구분</th>\n",
       "      <th>소속부</th>\n",
       "      <th>주식종류</th>\n",
       "      <th>액면가</th>\n",
       "      <th>상장주식수</th>\n",
       "    </tr>\n",
       "  </thead>\n",
       "  <tbody>\n",
       "    <tr>\n",
       "      <th>0</th>\n",
       "      <td>KR7098120009</td>\n",
       "      <td>098120</td>\n",
       "      <td>(주)마이크로컨텍솔루션</td>\n",
       "      <td>마이크로컨텍솔</td>\n",
       "      <td>Micro Contact Solution Co.,Ltd.</td>\n",
       "      <td>2008/09/23</td>\n",
       "      <td>KOSDAQ</td>\n",
       "      <td>주권</td>\n",
       "      <td>벤처기업부</td>\n",
       "      <td>보통주</td>\n",
       "      <td>500</td>\n",
       "      <td>8312766</td>\n",
       "    </tr>\n",
       "    <tr>\n",
       "      <th>1</th>\n",
       "      <td>KR7131100000</td>\n",
       "      <td>131100</td>\n",
       "      <td>(주)스카이이앤엠</td>\n",
       "      <td>스카이이앤엠</td>\n",
       "      <td>SKY E&amp;M Co., Ltd.</td>\n",
       "      <td>2011/06/14</td>\n",
       "      <td>KOSDAQ</td>\n",
       "      <td>주권</td>\n",
       "      <td>관리종목(소속부없음)</td>\n",
       "      <td>보통주</td>\n",
       "      <td>500</td>\n",
       "      <td>11642629</td>\n",
       "    </tr>\n",
       "    <tr>\n",
       "      <th>2</th>\n",
       "      <td>KR7009520008</td>\n",
       "      <td>009520</td>\n",
       "      <td>(주)포스코엠텍</td>\n",
       "      <td>포스코엠텍</td>\n",
       "      <td>POSCO M-TECH CO.,LTD.</td>\n",
       "      <td>1997/11/10</td>\n",
       "      <td>KOSDAQ</td>\n",
       "      <td>주권</td>\n",
       "      <td>우량기업부</td>\n",
       "      <td>보통주</td>\n",
       "      <td>500</td>\n",
       "      <td>41642703</td>\n",
       "    </tr>\n",
       "    <tr>\n",
       "      <th>3</th>\n",
       "      <td>KR7095570008</td>\n",
       "      <td>095570</td>\n",
       "      <td>AJ네트웍스보통주</td>\n",
       "      <td>AJ네트웍스</td>\n",
       "      <td>AJ Networks Co.,Ltd.</td>\n",
       "      <td>2015/08/21</td>\n",
       "      <td>KOSPI</td>\n",
       "      <td>주권</td>\n",
       "      <td>NaN</td>\n",
       "      <td>보통주</td>\n",
       "      <td>1000</td>\n",
       "      <td>46822295</td>\n",
       "    </tr>\n",
       "    <tr>\n",
       "      <th>4</th>\n",
       "      <td>KR7006840003</td>\n",
       "      <td>006840</td>\n",
       "      <td>AK홀딩스보통주</td>\n",
       "      <td>AK홀딩스</td>\n",
       "      <td>AK Holdings, Inc.</td>\n",
       "      <td>1999/08/11</td>\n",
       "      <td>KOSPI</td>\n",
       "      <td>주권</td>\n",
       "      <td>NaN</td>\n",
       "      <td>보통주</td>\n",
       "      <td>5000</td>\n",
       "      <td>13247561</td>\n",
       "    </tr>\n",
       "    <tr>\n",
       "      <th>...</th>\n",
       "      <td>...</td>\n",
       "      <td>...</td>\n",
       "      <td>...</td>\n",
       "      <td>...</td>\n",
       "      <td>...</td>\n",
       "      <td>...</td>\n",
       "      <td>...</td>\n",
       "      <td>...</td>\n",
       "      <td>...</td>\n",
       "      <td>...</td>\n",
       "      <td>...</td>\n",
       "      <td>...</td>\n",
       "    </tr>\n",
       "    <tr>\n",
       "      <th>2603</th>\n",
       "      <td>KR7000542001</td>\n",
       "      <td>000547</td>\n",
       "      <td>흥국화재해상보험2우선주(신형)</td>\n",
       "      <td>흥국화재2우B</td>\n",
       "      <td>HeungkukFire&amp;MarineIns(2PB)</td>\n",
       "      <td>1999/08/09</td>\n",
       "      <td>KOSPI</td>\n",
       "      <td>주권</td>\n",
       "      <td>NaN</td>\n",
       "      <td>신형우선주</td>\n",
       "      <td>5000</td>\n",
       "      <td>153600</td>\n",
       "    </tr>\n",
       "    <tr>\n",
       "      <th>2604</th>\n",
       "      <td>KR7000540005</td>\n",
       "      <td>000540</td>\n",
       "      <td>흥국화재해상보험보통주</td>\n",
       "      <td>흥국화재</td>\n",
       "      <td>HeungkukFire&amp;MarineInsurance</td>\n",
       "      <td>1974/12/05</td>\n",
       "      <td>KOSPI</td>\n",
       "      <td>주권</td>\n",
       "      <td>NaN</td>\n",
       "      <td>보통주</td>\n",
       "      <td>5000</td>\n",
       "      <td>64242645</td>\n",
       "    </tr>\n",
       "    <tr>\n",
       "      <th>2605</th>\n",
       "      <td>KR7003280005</td>\n",
       "      <td>003280</td>\n",
       "      <td>흥아해운보통주</td>\n",
       "      <td>흥아해운</td>\n",
       "      <td>HeungaShipping</td>\n",
       "      <td>1976/06/29</td>\n",
       "      <td>KOSPI</td>\n",
       "      <td>주권</td>\n",
       "      <td>NaN</td>\n",
       "      <td>보통주</td>\n",
       "      <td>500</td>\n",
       "      <td>240424899</td>\n",
       "    </tr>\n",
       "    <tr>\n",
       "      <th>2606</th>\n",
       "      <td>KR7037440005</td>\n",
       "      <td>037440</td>\n",
       "      <td>희림종합건축사사무소</td>\n",
       "      <td>희림</td>\n",
       "      <td>Heerim Architects &amp; Planners</td>\n",
       "      <td>2000/02/03</td>\n",
       "      <td>KOSDAQ</td>\n",
       "      <td>주권</td>\n",
       "      <td>중견기업부</td>\n",
       "      <td>보통주</td>\n",
       "      <td>500</td>\n",
       "      <td>13922475</td>\n",
       "    </tr>\n",
       "    <tr>\n",
       "      <th>2607</th>\n",
       "      <td>KR7238490007</td>\n",
       "      <td>238490</td>\n",
       "      <td>힘스</td>\n",
       "      <td>힘스</td>\n",
       "      <td>HIMS CO., LTD.</td>\n",
       "      <td>2017/07/20</td>\n",
       "      <td>KOSDAQ</td>\n",
       "      <td>주권</td>\n",
       "      <td>우량기업부</td>\n",
       "      <td>보통주</td>\n",
       "      <td>500</td>\n",
       "      <td>11312236</td>\n",
       "    </tr>\n",
       "  </tbody>\n",
       "</table>\n",
       "<p>2608 rows × 12 columns</p>\n",
       "</div>"
      ],
      "text/plain": [
       "              표준코드    단축코드            한글 종목명  한글 종목약명  \\\n",
       "0     KR7098120009  098120      (주)마이크로컨텍솔루션  마이크로컨텍솔   \n",
       "1     KR7131100000  131100         (주)스카이이앤엠   스카이이앤엠   \n",
       "2     KR7009520008  009520          (주)포스코엠텍    포스코엠텍   \n",
       "3     KR7095570008  095570         AJ네트웍스보통주   AJ네트웍스   \n",
       "4     KR7006840003  006840          AK홀딩스보통주    AK홀딩스   \n",
       "...            ...     ...               ...      ...   \n",
       "2603  KR7000542001  000547  흥국화재해상보험2우선주(신형)  흥국화재2우B   \n",
       "2604  KR7000540005  000540       흥국화재해상보험보통주     흥국화재   \n",
       "2605  KR7003280005  003280           흥아해운보통주     흥아해운   \n",
       "2606  KR7037440005  037440        희림종합건축사사무소       희림   \n",
       "2607  KR7238490007  238490                힘스       힘스   \n",
       "\n",
       "                               영문 종목명         상장일    시장구분 증권구분          소속부  \\\n",
       "0     Micro Contact Solution Co.,Ltd.  2008/09/23  KOSDAQ   주권        벤처기업부   \n",
       "1                   SKY E&M Co., Ltd.  2011/06/14  KOSDAQ   주권  관리종목(소속부없음)   \n",
       "2               POSCO M-TECH CO.,LTD.  1997/11/10  KOSDAQ   주권        우량기업부   \n",
       "3                AJ Networks Co.,Ltd.  2015/08/21   KOSPI   주권          NaN   \n",
       "4                   AK Holdings, Inc.  1999/08/11   KOSPI   주권          NaN   \n",
       "...                               ...         ...     ...  ...          ...   \n",
       "2603      HeungkukFire&MarineIns(2PB)  1999/08/09   KOSPI   주권          NaN   \n",
       "2604     HeungkukFire&MarineInsurance  1974/12/05   KOSPI   주권          NaN   \n",
       "2605                   HeungaShipping  1976/06/29   KOSPI   주권          NaN   \n",
       "2606     Heerim Architects & Planners  2000/02/03  KOSDAQ   주권        중견기업부   \n",
       "2607                   HIMS CO., LTD.  2017/07/20  KOSDAQ   주권        우량기업부   \n",
       "\n",
       "       주식종류   액면가      상장주식수  \n",
       "0       보통주   500    8312766  \n",
       "1       보통주   500   11642629  \n",
       "2       보통주   500   41642703  \n",
       "3       보통주  1000   46822295  \n",
       "4       보통주  5000   13247561  \n",
       "...     ...   ...        ...  \n",
       "2603  신형우선주  5000     153600  \n",
       "2604    보통주  5000   64242645  \n",
       "2605    보통주   500  240424899  \n",
       "2606    보통주   500   13922475  \n",
       "2607    보통주   500   11312236  \n",
       "\n",
       "[2608 rows x 12 columns]"
      ]
     },
     "execution_count": 15,
     "metadata": {},
     "output_type": "execute_result"
    }
   ],
   "source": [
    "df=pd.read_excel('c:/temp/stock_list.xlsx')\n",
    "df"
   ]
  },
  {
   "cell_type": "code",
   "execution_count": 18,
   "id": "91a54e05",
   "metadata": {},
   "outputs": [
    {
     "data": {
      "text/html": [
       "<div>\n",
       "<style scoped>\n",
       "    .dataframe tbody tr th:only-of-type {\n",
       "        vertical-align: middle;\n",
       "    }\n",
       "\n",
       "    .dataframe tbody tr th {\n",
       "        vertical-align: top;\n",
       "    }\n",
       "\n",
       "    .dataframe thead th {\n",
       "        text-align: right;\n",
       "    }\n",
       "</style>\n",
       "<table border=\"1\" class=\"dataframe\">\n",
       "  <thead>\n",
       "    <tr style=\"text-align: right;\">\n",
       "      <th></th>\n",
       "      <th>단축코드</th>\n",
       "      <th>한글 종목명</th>\n",
       "    </tr>\n",
       "  </thead>\n",
       "  <tbody>\n",
       "    <tr>\n",
       "      <th>0</th>\n",
       "      <td>098120</td>\n",
       "      <td>(주)마이크로컨텍솔루션</td>\n",
       "    </tr>\n",
       "    <tr>\n",
       "      <th>1</th>\n",
       "      <td>131100</td>\n",
       "      <td>(주)스카이이앤엠</td>\n",
       "    </tr>\n",
       "    <tr>\n",
       "      <th>2</th>\n",
       "      <td>009520</td>\n",
       "      <td>(주)포스코엠텍</td>\n",
       "    </tr>\n",
       "    <tr>\n",
       "      <th>3</th>\n",
       "      <td>095570</td>\n",
       "      <td>AJ네트웍스보통주</td>\n",
       "    </tr>\n",
       "    <tr>\n",
       "      <th>4</th>\n",
       "      <td>006840</td>\n",
       "      <td>AK홀딩스보통주</td>\n",
       "    </tr>\n",
       "    <tr>\n",
       "      <th>...</th>\n",
       "      <td>...</td>\n",
       "      <td>...</td>\n",
       "    </tr>\n",
       "    <tr>\n",
       "      <th>2603</th>\n",
       "      <td>000547</td>\n",
       "      <td>흥국화재해상보험2우선주(신형)</td>\n",
       "    </tr>\n",
       "    <tr>\n",
       "      <th>2604</th>\n",
       "      <td>000540</td>\n",
       "      <td>흥국화재해상보험보통주</td>\n",
       "    </tr>\n",
       "    <tr>\n",
       "      <th>2605</th>\n",
       "      <td>003280</td>\n",
       "      <td>흥아해운보통주</td>\n",
       "    </tr>\n",
       "    <tr>\n",
       "      <th>2606</th>\n",
       "      <td>037440</td>\n",
       "      <td>희림종합건축사사무소</td>\n",
       "    </tr>\n",
       "    <tr>\n",
       "      <th>2607</th>\n",
       "      <td>238490</td>\n",
       "      <td>힘스</td>\n",
       "    </tr>\n",
       "  </tbody>\n",
       "</table>\n",
       "<p>2608 rows × 2 columns</p>\n",
       "</div>"
      ],
      "text/plain": [
       "        단축코드            한글 종목명\n",
       "0     098120      (주)마이크로컨텍솔루션\n",
       "1     131100         (주)스카이이앤엠\n",
       "2     009520          (주)포스코엠텍\n",
       "3     095570         AJ네트웍스보통주\n",
       "4     006840          AK홀딩스보통주\n",
       "...      ...               ...\n",
       "2603  000547  흥국화재해상보험2우선주(신형)\n",
       "2604  000540       흥국화재해상보험보통주\n",
       "2605  003280           흥아해운보통주\n",
       "2606  037440        희림종합건축사사무소\n",
       "2607  238490                힘스\n",
       "\n",
       "[2608 rows x 2 columns]"
      ]
     },
     "execution_count": 18,
     "metadata": {},
     "output_type": "execute_result"
    }
   ],
   "source": [
    "# 보고싶은 칼럼만 보려면...\n",
    "df1=df[['단축코드','한글 종목명']] # 반드시 column이름과 똑같이 쳐야한다, 칼럼 두 개 이상 가져올 때는 [[]] double square braket? 암튼 써야함\n",
    "df1"
   ]
  },
  {
   "cell_type": "code",
   "execution_count": 19,
   "id": "d9c7926c",
   "metadata": {},
   "outputs": [
    {
     "data": {
      "text/html": [
       "<div>\n",
       "<style scoped>\n",
       "    .dataframe tbody tr th:only-of-type {\n",
       "        vertical-align: middle;\n",
       "    }\n",
       "\n",
       "    .dataframe tbody tr th {\n",
       "        vertical-align: top;\n",
       "    }\n",
       "\n",
       "    .dataframe thead th {\n",
       "        text-align: right;\n",
       "    }\n",
       "</style>\n",
       "<table border=\"1\" class=\"dataframe\">\n",
       "  <thead>\n",
       "    <tr style=\"text-align: right;\">\n",
       "      <th></th>\n",
       "      <th>단축코드</th>\n",
       "      <th>한글 종목명</th>\n",
       "    </tr>\n",
       "  </thead>\n",
       "  <tbody>\n",
       "    <tr>\n",
       "      <th>0</th>\n",
       "      <td>098120</td>\n",
       "      <td>(주)마이크로컨텍솔루션</td>\n",
       "    </tr>\n",
       "    <tr>\n",
       "      <th>1</th>\n",
       "      <td>131100</td>\n",
       "      <td>(주)스카이이앤엠</td>\n",
       "    </tr>\n",
       "    <tr>\n",
       "      <th>2</th>\n",
       "      <td>009520</td>\n",
       "      <td>(주)포스코엠텍</td>\n",
       "    </tr>\n",
       "    <tr>\n",
       "      <th>3</th>\n",
       "      <td>095570</td>\n",
       "      <td>AJ네트웍스보통주</td>\n",
       "    </tr>\n",
       "    <tr>\n",
       "      <th>4</th>\n",
       "      <td>006840</td>\n",
       "      <td>AK홀딩스보통주</td>\n",
       "    </tr>\n",
       "  </tbody>\n",
       "</table>\n",
       "</div>"
      ],
      "text/plain": [
       "     단축코드        한글 종목명\n",
       "0  098120  (주)마이크로컨텍솔루션\n",
       "1  131100     (주)스카이이앤엠\n",
       "2  009520      (주)포스코엠텍\n",
       "3  095570     AJ네트웍스보통주\n",
       "4  006840      AK홀딩스보통주"
      ]
     },
     "execution_count": 19,
     "metadata": {},
     "output_type": "execute_result"
    }
   ],
   "source": [
    "df1.head()"
   ]
  },
  {
   "cell_type": "code",
   "execution_count": 20,
   "id": "6e1e0c7a",
   "metadata": {},
   "outputs": [
    {
     "data": {
      "text/html": [
       "<div>\n",
       "<style scoped>\n",
       "    .dataframe tbody tr th:only-of-type {\n",
       "        vertical-align: middle;\n",
       "    }\n",
       "\n",
       "    .dataframe tbody tr th {\n",
       "        vertical-align: top;\n",
       "    }\n",
       "\n",
       "    .dataframe thead th {\n",
       "        text-align: right;\n",
       "    }\n",
       "</style>\n",
       "<table border=\"1\" class=\"dataframe\">\n",
       "  <thead>\n",
       "    <tr style=\"text-align: right;\">\n",
       "      <th></th>\n",
       "      <th>단축코드</th>\n",
       "      <th>한글 종목명</th>\n",
       "    </tr>\n",
       "  </thead>\n",
       "  <tbody>\n",
       "    <tr>\n",
       "      <th>2603</th>\n",
       "      <td>000547</td>\n",
       "      <td>흥국화재해상보험2우선주(신형)</td>\n",
       "    </tr>\n",
       "    <tr>\n",
       "      <th>2604</th>\n",
       "      <td>000540</td>\n",
       "      <td>흥국화재해상보험보통주</td>\n",
       "    </tr>\n",
       "    <tr>\n",
       "      <th>2605</th>\n",
       "      <td>003280</td>\n",
       "      <td>흥아해운보통주</td>\n",
       "    </tr>\n",
       "    <tr>\n",
       "      <th>2606</th>\n",
       "      <td>037440</td>\n",
       "      <td>희림종합건축사사무소</td>\n",
       "    </tr>\n",
       "    <tr>\n",
       "      <th>2607</th>\n",
       "      <td>238490</td>\n",
       "      <td>힘스</td>\n",
       "    </tr>\n",
       "  </tbody>\n",
       "</table>\n",
       "</div>"
      ],
      "text/plain": [
       "        단축코드            한글 종목명\n",
       "2603  000547  흥국화재해상보험2우선주(신형)\n",
       "2604  000540       흥국화재해상보험보통주\n",
       "2605  003280           흥아해운보통주\n",
       "2606  037440        희림종합건축사사무소\n",
       "2607  238490                힘스"
      ]
     },
     "execution_count": 20,
     "metadata": {},
     "output_type": "execute_result"
    }
   ],
   "source": [
    "df1.tail()"
   ]
  },
  {
   "cell_type": "code",
   "execution_count": 25,
   "id": "723fec48",
   "metadata": {},
   "outputs": [
    {
     "data": {
      "text/html": [
       "<div>\n",
       "<style scoped>\n",
       "    .dataframe tbody tr th:only-of-type {\n",
       "        vertical-align: middle;\n",
       "    }\n",
       "\n",
       "    .dataframe tbody tr th {\n",
       "        vertical-align: top;\n",
       "    }\n",
       "\n",
       "    .dataframe thead th {\n",
       "        text-align: right;\n",
       "    }\n",
       "</style>\n",
       "<table border=\"1\" class=\"dataframe\">\n",
       "  <thead>\n",
       "    <tr style=\"text-align: right;\">\n",
       "      <th></th>\n",
       "      <th>단축코드</th>\n",
       "      <th>한글 종목명</th>\n",
       "    </tr>\n",
       "  </thead>\n",
       "  <tbody>\n",
       "    <tr>\n",
       "      <th>836</th>\n",
       "      <td>005930</td>\n",
       "      <td>삼성전자보통주</td>\n",
       "    </tr>\n",
       "  </tbody>\n",
       "</table>\n",
       "</div>"
      ],
      "text/plain": [
       "       단축코드   한글 종목명\n",
       "836  005930  삼성전자보통주"
      ]
     },
     "execution_count": 25,
     "metadata": {},
     "output_type": "execute_result"
    }
   ],
   "source": [
    "# Q: 삼성전자 보통주의 단축코드는 뭔가여\n",
    "# 어디에 있는지 그 숫자(iloc)를 모르고 레이블 사용해야하니까 loc 써야함\n",
    "\n",
    "#isin: 한글종목명 안에 삼성전자보통주가 있으면 그 row를 가져와\n",
    "df1.loc[df1['한글 종목명'].isin(['삼성전자보통주'])]"
   ]
  },
  {
   "cell_type": "markdown",
   "id": "1056d35b",
   "metadata": {},
   "source": [
    "### krx 대신 open api 로 종목 데이터 가져오기"
   ]
  },
  {
   "cell_type": "code",
   "execution_count": 26,
   "id": "f2bbeeec",
   "metadata": {},
   "outputs": [],
   "source": [
    "# api를 이용해서 or krx 든 상장종목 정보 불러올 수 있다.\n",
    "\n",
    "#Servicekey=\"ㅇㅇㅇ\"\n",
    "#numOfRows=3000\n",
    "#url=\"http://openapi.molit.go.kr:8081/OpenAPI_ToolInstallPackage/service/rest/RTMSOBJSvc/getRTMSDataSvcAptTrade?LAWD_CD=\"+str(gu_code)+\"&DEAL_YMD=\"+str(month)+\"&numOfRows=\"+str(numOfRows)+\"&serviceKey=\"+Servicekey\n",
    "\n",
    "# 이렇게 받으면 krx로 받은거랑 똑같음\n",
    "# 강의 노트 보고 꼭 해보기!!!!!!!!!!!!!!!!!!!!!!!!!!!!!\n",
    "\n"
   ]
  },
  {
   "cell_type": "code",
   "execution_count": 27,
   "id": "ae888df3",
   "metadata": {},
   "outputs": [
    {
     "data": {
      "text/plain": [
       "KOSDAQ    1533\n",
       "KOSPI      943\n",
       "KONEX      132\n",
       "Name: 시장구분, dtype: int64"
      ]
     },
     "execution_count": 27,
     "metadata": {},
     "output_type": "execute_result"
    }
   ],
   "source": [
    "# Q: 시장구분이라는 변수를 이용해서 3000개 회사 중 kospi와 kosdaq에 상장된 회사 숫자와 그 비율은? \n",
    "# A: frequency table을 만들어보자\n",
    "\n",
    "#value_counts: 범주형 변수의 frequency table을 만들어주는 함수\n",
    "pd.value_counts(df['시장구분'])"
   ]
  },
  {
   "cell_type": "code",
   "execution_count": 28,
   "id": "d6e4f2ae",
   "metadata": {},
   "outputs": [
    {
     "data": {
      "text/plain": [
       "KOSDAQ    0.587807\n",
       "KOSPI     0.361580\n",
       "KONEX     0.050613\n",
       "Name: 시장구분, dtype: float64"
      ]
     },
     "execution_count": 28,
     "metadata": {},
     "output_type": "execute_result"
    }
   ],
   "source": [
    "# 비율은?  -> normalize=True 사용\n",
    "pd.value_counts(df['시장구분'],normalize=True)"
   ]
  },
  {
   "cell_type": "code",
   "execution_count": 29,
   "id": "dbde20c0",
   "metadata": {},
   "outputs": [
    {
     "ename": "TypeError",
     "evalue": "crosstab() missing 1 required positional argument: 'columns'",
     "output_type": "error",
     "traceback": [
      "\u001b[1;31m---------------------------------------------------------------------------\u001b[0m",
      "\u001b[1;31mTypeError\u001b[0m                                 Traceback (most recent call last)",
      "\u001b[1;32m~\\AppData\\Local\\Temp\\ipykernel_7040\\2208015828.py\u001b[0m in \u001b[0;36m<module>\u001b[1;34m\u001b[0m\n\u001b[0;32m      1\u001b[0m \u001b[1;31m# frequency table 다른 방법으로 : pd의 crosstab\u001b[0m\u001b[1;33m\u001b[0m\u001b[1;33m\u001b[0m\u001b[0m\n\u001b[0;32m      2\u001b[0m \u001b[1;33m\u001b[0m\u001b[0m\n\u001b[1;32m----> 3\u001b[1;33m \u001b[0mpd\u001b[0m\u001b[1;33m.\u001b[0m\u001b[0mcrosstab\u001b[0m\u001b[1;33m(\u001b[0m\u001b[0mdf\u001b[0m\u001b[1;33m[\u001b[0m\u001b[1;34m'시장구분'\u001b[0m\u001b[1;33m]\u001b[0m\u001b[1;33m)\u001b[0m\u001b[1;33m\u001b[0m\u001b[1;33m\u001b[0m\u001b[0m\n\u001b[0m",
      "\u001b[1;31mTypeError\u001b[0m: crosstab() missing 1 required positional argument: 'columns'"
     ]
    }
   ],
   "source": [
    "# frequency table 다른 방법으로 : pd의 crosstab\n",
    "\n",
    "pd.crosstab(df['시장구분'])"
   ]
  },
  {
   "cell_type": "code",
   "execution_count": 30,
   "id": "dfecfb8d",
   "metadata": {},
   "outputs": [
    {
     "data": {
      "text/html": [
       "<div>\n",
       "<style scoped>\n",
       "    .dataframe tbody tr th:only-of-type {\n",
       "        vertical-align: middle;\n",
       "    }\n",
       "\n",
       "    .dataframe tbody tr th {\n",
       "        vertical-align: top;\n",
       "    }\n",
       "\n",
       "    .dataframe thead th {\n",
       "        text-align: right;\n",
       "    }\n",
       "</style>\n",
       "<table border=\"1\" class=\"dataframe\">\n",
       "  <thead>\n",
       "    <tr style=\"text-align: right;\">\n",
       "      <th>col_0</th>\n",
       "      <th>no</th>\n",
       "    </tr>\n",
       "    <tr>\n",
       "      <th>시장구분</th>\n",
       "      <th></th>\n",
       "    </tr>\n",
       "  </thead>\n",
       "  <tbody>\n",
       "    <tr>\n",
       "      <th>KONEX</th>\n",
       "      <td>132</td>\n",
       "    </tr>\n",
       "    <tr>\n",
       "      <th>KOSDAQ</th>\n",
       "      <td>1533</td>\n",
       "    </tr>\n",
       "    <tr>\n",
       "      <th>KOSPI</th>\n",
       "      <td>943</td>\n",
       "    </tr>\n",
       "  </tbody>\n",
       "</table>\n",
       "</div>"
      ],
      "text/plain": [
       "col_0     no\n",
       "시장구분        \n",
       "KONEX    132\n",
       "KOSDAQ  1533\n",
       "KOSPI    943"
      ]
     },
     "execution_count": 30,
     "metadata": {},
     "output_type": "execute_result"
    }
   ],
   "source": [
    "# 에러나는 이유: crosstab은 원래 변수를 두개 입력해야함. two way table 만드는 함수임.\n",
    "# 임의로 하나 써버리자 \n",
    "pd.crosstab(df['시장구분'], 'no')"
   ]
  },
  {
   "cell_type": "code",
   "execution_count": 31,
   "id": "121710b6",
   "metadata": {},
   "outputs": [],
   "source": [
    "# 상장종목정보 url 올려주시면 혼자 꼭 해보기"
   ]
  },
  {
   "cell_type": "code",
   "execution_count": null,
   "id": "46993448",
   "metadata": {},
   "outputs": [],
   "source": []
  },
  {
   "cell_type": "code",
   "execution_count": null,
   "id": "50223c9e",
   "metadata": {},
   "outputs": [],
   "source": []
  },
  {
   "cell_type": "code",
   "execution_count": null,
   "id": "d8279f80",
   "metadata": {},
   "outputs": [],
   "source": []
  },
  {
   "cell_type": "code",
   "execution_count": null,
   "id": "0fd44b10",
   "metadata": {},
   "outputs": [],
   "source": []
  },
  {
   "cell_type": "code",
   "execution_count": null,
   "id": "fb0f70a2",
   "metadata": {},
   "outputs": [],
   "source": []
  },
  {
   "cell_type": "code",
   "execution_count": null,
   "id": "4668e282",
   "metadata": {},
   "outputs": [],
   "source": []
  }
 ],
 "metadata": {
  "kernelspec": {
   "display_name": "Python 3 (ipykernel)",
   "language": "python",
   "name": "python3"
  },
  "language_info": {
   "codemirror_mode": {
    "name": "ipython",
    "version": 3
   },
   "file_extension": ".py",
   "mimetype": "text/x-python",
   "name": "python",
   "nbconvert_exporter": "python",
   "pygments_lexer": "ipython3",
   "version": "3.9.13"
  }
 },
 "nbformat": 4,
 "nbformat_minor": 5
}
