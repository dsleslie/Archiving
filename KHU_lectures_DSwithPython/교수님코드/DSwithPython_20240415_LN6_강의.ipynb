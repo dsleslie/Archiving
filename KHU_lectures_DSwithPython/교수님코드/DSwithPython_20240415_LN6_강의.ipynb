{
 "cells": [
  {
   "cell_type": "code",
   "execution_count": 1,
   "id": "a4d710ec-5591-43e5-ad7e-8da4cc64508c",
   "metadata": {},
   "outputs": [],
   "source": [
    "import pandas as pd\n",
    "import numpy as np\n",
    "\n",
    "import matplotlib.pyplot as plt\n",
    "%matplotlib inline\n",
    "import warnings\n",
    "warnings.filterwarnings(\"ignore\")"
   ]
  },
  {
   "cell_type": "code",
   "execution_count": null,
   "id": "214736c4-5b0f-402a-b161-be61cc4b95cd",
   "metadata": {},
   "outputs": [],
   "source": [
    "# 동전을 던지는 실험\n",
    "# 앞면 +1, 뒷면 -1 \n",
    "# 복원 추출 (with replacement) \n",
    "# np.random.choices([-1,1], size=1000) \n",
    "# np.cumsum "
   ]
  },
  {
   "cell_type": "code",
   "execution_count": 4,
   "id": "8dde77f6-0e43-499c-8ba3-a94f4731726d",
   "metadata": {},
   "outputs": [
    {
     "data": {
      "text/plain": [
       "0.4330127018922193"
      ]
     },
     "execution_count": 4,
     "metadata": {},
     "output_type": "execute_result"
    }
   ],
   "source": [
    "box=[1,2,2,2]\n",
    "np.std(box)"
   ]
  },
  {
   "cell_type": "code",
   "execution_count": 5,
   "id": "bd8ed87d-40ea-4ff6-af3c-ba01ec7aa980",
   "metadata": {},
   "outputs": [
    {
     "data": {
      "text/plain": [
       "4.330127018922193"
      ]
     },
     "execution_count": 5,
     "metadata": {},
     "output_type": "execute_result"
    }
   ],
   "source": [
    "# 합의 표준오차는 어떻게 계산한다. \n",
    "np.sqrt(100)*np.std(box)"
   ]
  },
  {
   "cell_type": "code",
   "execution_count": 6,
   "id": "2cf70d24-7f23-404f-a06f-cea6982d53c6",
   "metadata": {},
   "outputs": [
    {
     "data": {
      "text/plain": [
       "0.5"
      ]
     },
     "execution_count": 6,
     "metadata": {},
     "output_type": "execute_result"
    }
   ],
   "source": [
    "box=[1,0]\n",
    "np.std(box)"
   ]
  },
  {
   "cell_type": "code",
   "execution_count": 7,
   "id": "9394c20b-8b1e-48cb-8e8e-9cbf12b95648",
   "metadata": {},
   "outputs": [
    {
     "data": {
      "text/plain": [
       "5.0"
      ]
     },
     "execution_count": 7,
     "metadata": {},
     "output_type": "execute_result"
    }
   ],
   "source": [
    "np.sqrt(100)*np.std(box)"
   ]
  },
  {
   "cell_type": "code",
   "execution_count": 8,
   "id": "4ddd09ed-b237-4942-a524-7307e733e05c",
   "metadata": {},
   "outputs": [
    {
     "name": "stdout",
     "output_type": "stream",
     "text": [
      "0.07965567455405798\n"
     ]
    }
   ],
   "source": [
    "# 파이썬으로 정규분포 곡선 아래 면적(확률)을 계산하고자 한다. \n",
    "mean=50\n",
    "se=5\n",
    "from scipy.stats import norm \n",
    "# Pr(49.5<X100<50.5)\n",
    "prob=norm.cdf(50.5,mean, se)-norm.cdf(49.5, mean, se)\n",
    "print(prob)"
   ]
  },
  {
   "cell_type": "code",
   "execution_count": null,
   "id": "d03529ae-03a2-4994-8cb3-c529168e6549",
   "metadata": {},
   "outputs": [],
   "source": []
  },
  {
   "cell_type": "code",
   "execution_count": null,
   "id": "4900bfc1-aece-48f9-9db2-fcd3def83b48",
   "metadata": {},
   "outputs": [],
   "source": []
  },
  {
   "cell_type": "code",
   "execution_count": null,
   "id": "529de868-53c2-4cba-a321-a3ea4d56317c",
   "metadata": {},
   "outputs": [],
   "source": []
  }
 ],
 "metadata": {
  "kernelspec": {
   "display_name": "Python 3 (ipykernel)",
   "language": "python",
   "name": "python3"
  },
  "language_info": {
   "codemirror_mode": {
    "name": "ipython",
    "version": 3
   },
   "file_extension": ".py",
   "mimetype": "text/x-python",
   "name": "python",
   "nbconvert_exporter": "python",
   "pygments_lexer": "ipython3",
   "version": "3.9.13"
  }
 },
 "nbformat": 4,
 "nbformat_minor": 5
}
