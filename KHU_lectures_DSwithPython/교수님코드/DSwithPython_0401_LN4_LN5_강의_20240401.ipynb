{
 "cells": [
  {
   "cell_type": "code",
   "execution_count": null,
   "id": "f29dc7b5-b455-4534-9a50-730282fe404a",
   "metadata": {},
   "outputs": [],
   "source": [
    "# Lecture Note 4 "
   ]
  },
  {
   "cell_type": "code",
   "execution_count": 1,
   "id": "f2c26aab-63a7-496e-be1b-ad0bb97350bb",
   "metadata": {},
   "outputs": [
    {
     "data": {
      "text/plain": [
       "0"
      ]
     },
     "execution_count": 1,
     "metadata": {},
     "output_type": "execute_result"
    }
   ],
   "source": [
    "min(0,1)"
   ]
  },
  {
   "cell_type": "code",
   "execution_count": 2,
   "id": "dcda11d7-e9e8-47af-85e6-681f5006306d",
   "metadata": {},
   "outputs": [
    {
     "data": {
      "text/plain": [
       "1"
      ]
     },
     "execution_count": 2,
     "metadata": {},
     "output_type": "execute_result"
    }
   ],
   "source": [
    "max(0,1)"
   ]
  },
  {
   "cell_type": "code",
   "execution_count": 3,
   "id": "83accea0-880c-4d89-9e3d-90bb2a9257f0",
   "metadata": {},
   "outputs": [],
   "source": [
    "import pandas as pd\n",
    "import numpy as np "
   ]
  },
  {
   "cell_type": "code",
   "execution_count": 4,
   "id": "939e87f6-0ba9-47c3-baca-7d4efcae3f77",
   "metadata": {},
   "outputs": [
    {
     "data": {
      "text/html": [
       "<div>\n",
       "<style scoped>\n",
       "    .dataframe tbody tr th:only-of-type {\n",
       "        vertical-align: middle;\n",
       "    }\n",
       "\n",
       "    .dataframe tbody tr th {\n",
       "        vertical-align: top;\n",
       "    }\n",
       "\n",
       "    .dataframe thead th {\n",
       "        text-align: right;\n",
       "    }\n",
       "</style>\n",
       "<table border=\"1\" class=\"dataframe\">\n",
       "  <thead>\n",
       "    <tr style=\"text-align: right;\">\n",
       "      <th></th>\n",
       "      <th>A</th>\n",
       "      <th>B</th>\n",
       "    </tr>\n",
       "  </thead>\n",
       "  <tbody>\n",
       "    <tr>\n",
       "      <th>0</th>\n",
       "      <td>4</td>\n",
       "      <td>9</td>\n",
       "    </tr>\n",
       "    <tr>\n",
       "      <th>1</th>\n",
       "      <td>4</td>\n",
       "      <td>9</td>\n",
       "    </tr>\n",
       "    <tr>\n",
       "      <th>2</th>\n",
       "      <td>4</td>\n",
       "      <td>9</td>\n",
       "    </tr>\n",
       "  </tbody>\n",
       "</table>\n",
       "</div>"
      ],
      "text/plain": [
       "   A  B\n",
       "0  4  9\n",
       "1  4  9\n",
       "2  4  9"
      ]
     },
     "execution_count": 4,
     "metadata": {},
     "output_type": "execute_result"
    }
   ],
   "source": [
    "df=pd.DataFrame([[4,9]]*3, columns=['A', 'B'])\n",
    "df"
   ]
  },
  {
   "cell_type": "code",
   "execution_count": 6,
   "id": "5a099226-f090-4813-bcdc-ef98024d94e4",
   "metadata": {},
   "outputs": [
    {
     "data": {
      "text/html": [
       "<div>\n",
       "<style scoped>\n",
       "    .dataframe tbody tr th:only-of-type {\n",
       "        vertical-align: middle;\n",
       "    }\n",
       "\n",
       "    .dataframe tbody tr th {\n",
       "        vertical-align: top;\n",
       "    }\n",
       "\n",
       "    .dataframe thead th {\n",
       "        text-align: right;\n",
       "    }\n",
       "</style>\n",
       "<table border=\"1\" class=\"dataframe\">\n",
       "  <thead>\n",
       "    <tr style=\"text-align: right;\">\n",
       "      <th></th>\n",
       "      <th>A</th>\n",
       "      <th>B</th>\n",
       "    </tr>\n",
       "  </thead>\n",
       "  <tbody>\n",
       "    <tr>\n",
       "      <th>0</th>\n",
       "      <td>2.0</td>\n",
       "      <td>3.0</td>\n",
       "    </tr>\n",
       "    <tr>\n",
       "      <th>1</th>\n",
       "      <td>2.0</td>\n",
       "      <td>3.0</td>\n",
       "    </tr>\n",
       "    <tr>\n",
       "      <th>2</th>\n",
       "      <td>2.0</td>\n",
       "      <td>3.0</td>\n",
       "    </tr>\n",
       "  </tbody>\n",
       "</table>\n",
       "</div>"
      ],
      "text/plain": [
       "     A    B\n",
       "0  2.0  3.0\n",
       "1  2.0  3.0\n",
       "2  2.0  3.0"
      ]
     },
     "execution_count": 6,
     "metadata": {},
     "output_type": "execute_result"
    }
   ],
   "source": [
    "df.apply(np.sqrt)  # built-in function "
   ]
  },
  {
   "cell_type": "code",
   "execution_count": 7,
   "id": "72db5ec1-89db-40aa-adc9-bd57e55e29e3",
   "metadata": {},
   "outputs": [],
   "source": [
    "# 사용자 정의 함수 \n",
    "def negative(x):\n",
    "    if x<0:\n",
    "        return 'negative'\n",
    "    return 'non-negative'    "
   ]
  },
  {
   "cell_type": "code",
   "execution_count": 8,
   "id": "884a671d-8f14-4e55-8d90-5f871493d95c",
   "metadata": {},
   "outputs": [
    {
     "data": {
      "text/plain": [
       "'negative'"
      ]
     },
     "execution_count": 8,
     "metadata": {},
     "output_type": "execute_result"
    }
   ],
   "source": [
    "negative(-3)"
   ]
  },
  {
   "cell_type": "code",
   "execution_count": 10,
   "id": "1604cd68-23c4-4b47-b5bb-cf7134635bd5",
   "metadata": {},
   "outputs": [
    {
     "data": {
      "text/plain": [
       "'non-negative'"
      ]
     },
     "execution_count": 10,
     "metadata": {},
     "output_type": "execute_result"
    }
   ],
   "source": [
    "negative(5)"
   ]
  },
  {
   "cell_type": "code",
   "execution_count": 11,
   "id": "19bfa545-2ab0-4e78-b99f-bd7de17c6399",
   "metadata": {},
   "outputs": [],
   "source": [
    "def f1(x, a=1, b=1):\n",
    "    return a*b*x"
   ]
  },
  {
   "cell_type": "code",
   "execution_count": 12,
   "id": "4670d980-9c1c-454e-b91c-ca394633076e",
   "metadata": {},
   "outputs": [
    {
     "data": {
      "text/plain": [
       "24"
      ]
     },
     "execution_count": 12,
     "metadata": {},
     "output_type": "execute_result"
    }
   ],
   "source": [
    "f1(2,3,4)"
   ]
  },
  {
   "cell_type": "code",
   "execution_count": 13,
   "id": "7fe1ee5e-33e8-4d0e-80e6-01a8d4907ab4",
   "metadata": {},
   "outputs": [
    {
     "data": {
      "text/plain": [
       "2"
      ]
     },
     "execution_count": 13,
     "metadata": {},
     "output_type": "execute_result"
    }
   ],
   "source": [
    "f1(2)"
   ]
  },
  {
   "cell_type": "code",
   "execution_count": 14,
   "id": "a9f7a97b-24d8-4c2b-85f7-7cca3339a214",
   "metadata": {},
   "outputs": [
    {
     "data": {
      "text/plain": [
       "8"
      ]
     },
     "execution_count": 14,
     "metadata": {},
     "output_type": "execute_result"
    }
   ],
   "source": [
    "f1(2,4) "
   ]
  },
  {
   "cell_type": "code",
   "execution_count": 15,
   "id": "f53cfc4b-3531-4316-8443-006d40bcdb54",
   "metadata": {},
   "outputs": [
    {
     "data": {
      "text/html": [
       "<div>\n",
       "<style scoped>\n",
       "    .dataframe tbody tr th:only-of-type {\n",
       "        vertical-align: middle;\n",
       "    }\n",
       "\n",
       "    .dataframe tbody tr th {\n",
       "        vertical-align: top;\n",
       "    }\n",
       "\n",
       "    .dataframe thead th {\n",
       "        text-align: right;\n",
       "    }\n",
       "</style>\n",
       "<table border=\"1\" class=\"dataframe\">\n",
       "  <thead>\n",
       "    <tr style=\"text-align: right;\">\n",
       "      <th></th>\n",
       "      <th>표준코드</th>\n",
       "      <th>단축코드</th>\n",
       "      <th>한글 종목명</th>\n",
       "      <th>한글 종목약명</th>\n",
       "      <th>영문 종목명</th>\n",
       "      <th>상장일</th>\n",
       "      <th>시장구분</th>\n",
       "      <th>증권구분</th>\n",
       "      <th>소속부</th>\n",
       "      <th>주식종류</th>\n",
       "      <th>액면가</th>\n",
       "      <th>상장주식수</th>\n",
       "    </tr>\n",
       "  </thead>\n",
       "  <tbody>\n",
       "    <tr>\n",
       "      <th>0</th>\n",
       "      <td>KR7098120009</td>\n",
       "      <td>098120</td>\n",
       "      <td>(주)마이크로컨텍솔루션</td>\n",
       "      <td>마이크로컨텍솔</td>\n",
       "      <td>Micro Contact Solution Co.,Ltd.</td>\n",
       "      <td>2008/09/23</td>\n",
       "      <td>KOSDAQ</td>\n",
       "      <td>주권</td>\n",
       "      <td>벤처기업부</td>\n",
       "      <td>보통주</td>\n",
       "      <td>500</td>\n",
       "      <td>8312766</td>\n",
       "    </tr>\n",
       "    <tr>\n",
       "      <th>1</th>\n",
       "      <td>KR7131100000</td>\n",
       "      <td>131100</td>\n",
       "      <td>(주)스카이이앤엠</td>\n",
       "      <td>스카이이앤엠</td>\n",
       "      <td>SKY E&amp;M Co., Ltd.</td>\n",
       "      <td>2011/06/14</td>\n",
       "      <td>KOSDAQ</td>\n",
       "      <td>주권</td>\n",
       "      <td>관리종목(소속부없음)</td>\n",
       "      <td>보통주</td>\n",
       "      <td>500</td>\n",
       "      <td>11642629</td>\n",
       "    </tr>\n",
       "    <tr>\n",
       "      <th>2</th>\n",
       "      <td>KR7009520008</td>\n",
       "      <td>009520</td>\n",
       "      <td>(주)포스코엠텍</td>\n",
       "      <td>포스코엠텍</td>\n",
       "      <td>POSCO M-TECH CO.,LTD.</td>\n",
       "      <td>1997/11/10</td>\n",
       "      <td>KOSDAQ</td>\n",
       "      <td>주권</td>\n",
       "      <td>우량기업부</td>\n",
       "      <td>보통주</td>\n",
       "      <td>500</td>\n",
       "      <td>41642703</td>\n",
       "    </tr>\n",
       "    <tr>\n",
       "      <th>3</th>\n",
       "      <td>KR7095570008</td>\n",
       "      <td>095570</td>\n",
       "      <td>AJ네트웍스보통주</td>\n",
       "      <td>AJ네트웍스</td>\n",
       "      <td>AJ Networks Co.,Ltd.</td>\n",
       "      <td>2015/08/21</td>\n",
       "      <td>KOSPI</td>\n",
       "      <td>주권</td>\n",
       "      <td>NaN</td>\n",
       "      <td>보통주</td>\n",
       "      <td>1000</td>\n",
       "      <td>46822295</td>\n",
       "    </tr>\n",
       "    <tr>\n",
       "      <th>4</th>\n",
       "      <td>KR7006840003</td>\n",
       "      <td>006840</td>\n",
       "      <td>AK홀딩스보통주</td>\n",
       "      <td>AK홀딩스</td>\n",
       "      <td>AK Holdings, Inc.</td>\n",
       "      <td>1999/08/11</td>\n",
       "      <td>KOSPI</td>\n",
       "      <td>주권</td>\n",
       "      <td>NaN</td>\n",
       "      <td>보통주</td>\n",
       "      <td>5000</td>\n",
       "      <td>13247561</td>\n",
       "    </tr>\n",
       "    <tr>\n",
       "      <th>...</th>\n",
       "      <td>...</td>\n",
       "      <td>...</td>\n",
       "      <td>...</td>\n",
       "      <td>...</td>\n",
       "      <td>...</td>\n",
       "      <td>...</td>\n",
       "      <td>...</td>\n",
       "      <td>...</td>\n",
       "      <td>...</td>\n",
       "      <td>...</td>\n",
       "      <td>...</td>\n",
       "      <td>...</td>\n",
       "    </tr>\n",
       "    <tr>\n",
       "      <th>2603</th>\n",
       "      <td>KR7000542001</td>\n",
       "      <td>000547</td>\n",
       "      <td>흥국화재해상보험2우선주(신형)</td>\n",
       "      <td>흥국화재2우B</td>\n",
       "      <td>HeungkukFire&amp;MarineIns(2PB)</td>\n",
       "      <td>1999/08/09</td>\n",
       "      <td>KOSPI</td>\n",
       "      <td>주권</td>\n",
       "      <td>NaN</td>\n",
       "      <td>신형우선주</td>\n",
       "      <td>5000</td>\n",
       "      <td>153600</td>\n",
       "    </tr>\n",
       "    <tr>\n",
       "      <th>2604</th>\n",
       "      <td>KR7000540005</td>\n",
       "      <td>000540</td>\n",
       "      <td>흥국화재해상보험보통주</td>\n",
       "      <td>흥국화재</td>\n",
       "      <td>HeungkukFire&amp;MarineInsurance</td>\n",
       "      <td>1974/12/05</td>\n",
       "      <td>KOSPI</td>\n",
       "      <td>주권</td>\n",
       "      <td>NaN</td>\n",
       "      <td>보통주</td>\n",
       "      <td>5000</td>\n",
       "      <td>64242645</td>\n",
       "    </tr>\n",
       "    <tr>\n",
       "      <th>2605</th>\n",
       "      <td>KR7003280005</td>\n",
       "      <td>003280</td>\n",
       "      <td>흥아해운보통주</td>\n",
       "      <td>흥아해운</td>\n",
       "      <td>HeungaShipping</td>\n",
       "      <td>1976/06/29</td>\n",
       "      <td>KOSPI</td>\n",
       "      <td>주권</td>\n",
       "      <td>NaN</td>\n",
       "      <td>보통주</td>\n",
       "      <td>500</td>\n",
       "      <td>240424899</td>\n",
       "    </tr>\n",
       "    <tr>\n",
       "      <th>2606</th>\n",
       "      <td>KR7037440005</td>\n",
       "      <td>037440</td>\n",
       "      <td>희림종합건축사사무소</td>\n",
       "      <td>희림</td>\n",
       "      <td>Heerim Architects &amp; Planners</td>\n",
       "      <td>2000/02/03</td>\n",
       "      <td>KOSDAQ</td>\n",
       "      <td>주권</td>\n",
       "      <td>중견기업부</td>\n",
       "      <td>보통주</td>\n",
       "      <td>500</td>\n",
       "      <td>13922475</td>\n",
       "    </tr>\n",
       "    <tr>\n",
       "      <th>2607</th>\n",
       "      <td>KR7238490007</td>\n",
       "      <td>238490</td>\n",
       "      <td>힘스</td>\n",
       "      <td>힘스</td>\n",
       "      <td>HIMS CO., LTD.</td>\n",
       "      <td>2017/07/20</td>\n",
       "      <td>KOSDAQ</td>\n",
       "      <td>주권</td>\n",
       "      <td>우량기업부</td>\n",
       "      <td>보통주</td>\n",
       "      <td>500</td>\n",
       "      <td>11312236</td>\n",
       "    </tr>\n",
       "  </tbody>\n",
       "</table>\n",
       "<p>2608 rows × 12 columns</p>\n",
       "</div>"
      ],
      "text/plain": [
       "              표준코드    단축코드            한글 종목명  한글 종목약명  \\\n",
       "0     KR7098120009  098120      (주)마이크로컨텍솔루션  마이크로컨텍솔   \n",
       "1     KR7131100000  131100         (주)스카이이앤엠   스카이이앤엠   \n",
       "2     KR7009520008  009520          (주)포스코엠텍    포스코엠텍   \n",
       "3     KR7095570008  095570         AJ네트웍스보통주   AJ네트웍스   \n",
       "4     KR7006840003  006840          AK홀딩스보통주    AK홀딩스   \n",
       "...            ...     ...               ...      ...   \n",
       "2603  KR7000542001  000547  흥국화재해상보험2우선주(신형)  흥국화재2우B   \n",
       "2604  KR7000540005  000540       흥국화재해상보험보통주     흥국화재   \n",
       "2605  KR7003280005  003280           흥아해운보통주     흥아해운   \n",
       "2606  KR7037440005  037440        희림종합건축사사무소       희림   \n",
       "2607  KR7238490007  238490                힘스       힘스   \n",
       "\n",
       "                               영문 종목명         상장일    시장구분 증권구분          소속부  \\\n",
       "0     Micro Contact Solution Co.,Ltd.  2008/09/23  KOSDAQ   주권        벤처기업부   \n",
       "1                   SKY E&M Co., Ltd.  2011/06/14  KOSDAQ   주권  관리종목(소속부없음)   \n",
       "2               POSCO M-TECH CO.,LTD.  1997/11/10  KOSDAQ   주권        우량기업부   \n",
       "3                AJ Networks Co.,Ltd.  2015/08/21   KOSPI   주권          NaN   \n",
       "4                   AK Holdings, Inc.  1999/08/11   KOSPI   주권          NaN   \n",
       "...                               ...         ...     ...  ...          ...   \n",
       "2603      HeungkukFire&MarineIns(2PB)  1999/08/09   KOSPI   주권          NaN   \n",
       "2604     HeungkukFire&MarineInsurance  1974/12/05   KOSPI   주권          NaN   \n",
       "2605                   HeungaShipping  1976/06/29   KOSPI   주권          NaN   \n",
       "2606     Heerim Architects & Planners  2000/02/03  KOSDAQ   주권        중견기업부   \n",
       "2607                   HIMS CO., LTD.  2017/07/20  KOSDAQ   주권        우량기업부   \n",
       "\n",
       "       주식종류   액면가      상장주식수  \n",
       "0       보통주   500    8312766  \n",
       "1       보통주   500   11642629  \n",
       "2       보통주   500   41642703  \n",
       "3       보통주  1000   46822295  \n",
       "4       보통주  5000   13247561  \n",
       "...     ...   ...        ...  \n",
       "2603  신형우선주  5000     153600  \n",
       "2604    보통주  5000   64242645  \n",
       "2605    보통주   500  240424899  \n",
       "2606    보통주   500   13922475  \n",
       "2607    보통주   500   11312236  \n",
       "\n",
       "[2608 rows x 12 columns]"
      ]
     },
     "execution_count": 15,
     "metadata": {},
     "output_type": "execute_result"
    }
   ],
   "source": [
    "# 상장회사 종목 정보 \n",
    "df=pd.read_excel('c:/temp100/stock_list.xlsx')\n",
    "df"
   ]
  },
  {
   "cell_type": "code",
   "execution_count": 16,
   "id": "e772e44b-aec7-48e4-9112-988025fd509d",
   "metadata": {},
   "outputs": [
    {
     "data": {
      "text/html": [
       "<div>\n",
       "<style scoped>\n",
       "    .dataframe tbody tr th:only-of-type {\n",
       "        vertical-align: middle;\n",
       "    }\n",
       "\n",
       "    .dataframe tbody tr th {\n",
       "        vertical-align: top;\n",
       "    }\n",
       "\n",
       "    .dataframe thead th {\n",
       "        text-align: right;\n",
       "    }\n",
       "</style>\n",
       "<table border=\"1\" class=\"dataframe\">\n",
       "  <thead>\n",
       "    <tr style=\"text-align: right;\">\n",
       "      <th></th>\n",
       "      <th>단축코드</th>\n",
       "      <th>한글 종목명</th>\n",
       "    </tr>\n",
       "  </thead>\n",
       "  <tbody>\n",
       "    <tr>\n",
       "      <th>0</th>\n",
       "      <td>098120</td>\n",
       "      <td>(주)마이크로컨텍솔루션</td>\n",
       "    </tr>\n",
       "    <tr>\n",
       "      <th>1</th>\n",
       "      <td>131100</td>\n",
       "      <td>(주)스카이이앤엠</td>\n",
       "    </tr>\n",
       "    <tr>\n",
       "      <th>2</th>\n",
       "      <td>009520</td>\n",
       "      <td>(주)포스코엠텍</td>\n",
       "    </tr>\n",
       "    <tr>\n",
       "      <th>3</th>\n",
       "      <td>095570</td>\n",
       "      <td>AJ네트웍스보통주</td>\n",
       "    </tr>\n",
       "    <tr>\n",
       "      <th>4</th>\n",
       "      <td>006840</td>\n",
       "      <td>AK홀딩스보통주</td>\n",
       "    </tr>\n",
       "    <tr>\n",
       "      <th>...</th>\n",
       "      <td>...</td>\n",
       "      <td>...</td>\n",
       "    </tr>\n",
       "    <tr>\n",
       "      <th>2603</th>\n",
       "      <td>000547</td>\n",
       "      <td>흥국화재해상보험2우선주(신형)</td>\n",
       "    </tr>\n",
       "    <tr>\n",
       "      <th>2604</th>\n",
       "      <td>000540</td>\n",
       "      <td>흥국화재해상보험보통주</td>\n",
       "    </tr>\n",
       "    <tr>\n",
       "      <th>2605</th>\n",
       "      <td>003280</td>\n",
       "      <td>흥아해운보통주</td>\n",
       "    </tr>\n",
       "    <tr>\n",
       "      <th>2606</th>\n",
       "      <td>037440</td>\n",
       "      <td>희림종합건축사사무소</td>\n",
       "    </tr>\n",
       "    <tr>\n",
       "      <th>2607</th>\n",
       "      <td>238490</td>\n",
       "      <td>힘스</td>\n",
       "    </tr>\n",
       "  </tbody>\n",
       "</table>\n",
       "<p>2608 rows × 2 columns</p>\n",
       "</div>"
      ],
      "text/plain": [
       "        단축코드            한글 종목명\n",
       "0     098120      (주)마이크로컨텍솔루션\n",
       "1     131100         (주)스카이이앤엠\n",
       "2     009520          (주)포스코엠텍\n",
       "3     095570         AJ네트웍스보통주\n",
       "4     006840          AK홀딩스보통주\n",
       "...      ...               ...\n",
       "2603  000547  흥국화재해상보험2우선주(신형)\n",
       "2604  000540       흥국화재해상보험보통주\n",
       "2605  003280           흥아해운보통주\n",
       "2606  037440        희림종합건축사사무소\n",
       "2607  238490                힘스\n",
       "\n",
       "[2608 rows x 2 columns]"
      ]
     },
     "execution_count": 16,
     "metadata": {},
     "output_type": "execute_result"
    }
   ],
   "source": [
    "df1=df[['단축코드','한글 종목명']]\n",
    "df1"
   ]
  },
  {
   "cell_type": "code",
   "execution_count": 17,
   "id": "f9f6f6d7-70da-4dcc-9086-953325faec4b",
   "metadata": {},
   "outputs": [
    {
     "data": {
      "text/html": [
       "<div>\n",
       "<style scoped>\n",
       "    .dataframe tbody tr th:only-of-type {\n",
       "        vertical-align: middle;\n",
       "    }\n",
       "\n",
       "    .dataframe tbody tr th {\n",
       "        vertical-align: top;\n",
       "    }\n",
       "\n",
       "    .dataframe thead th {\n",
       "        text-align: right;\n",
       "    }\n",
       "</style>\n",
       "<table border=\"1\" class=\"dataframe\">\n",
       "  <thead>\n",
       "    <tr style=\"text-align: right;\">\n",
       "      <th></th>\n",
       "      <th>단축코드</th>\n",
       "      <th>한글 종목명</th>\n",
       "    </tr>\n",
       "  </thead>\n",
       "  <tbody>\n",
       "    <tr>\n",
       "      <th>2603</th>\n",
       "      <td>000547</td>\n",
       "      <td>흥국화재해상보험2우선주(신형)</td>\n",
       "    </tr>\n",
       "    <tr>\n",
       "      <th>2604</th>\n",
       "      <td>000540</td>\n",
       "      <td>흥국화재해상보험보통주</td>\n",
       "    </tr>\n",
       "    <tr>\n",
       "      <th>2605</th>\n",
       "      <td>003280</td>\n",
       "      <td>흥아해운보통주</td>\n",
       "    </tr>\n",
       "    <tr>\n",
       "      <th>2606</th>\n",
       "      <td>037440</td>\n",
       "      <td>희림종합건축사사무소</td>\n",
       "    </tr>\n",
       "    <tr>\n",
       "      <th>2607</th>\n",
       "      <td>238490</td>\n",
       "      <td>힘스</td>\n",
       "    </tr>\n",
       "  </tbody>\n",
       "</table>\n",
       "</div>"
      ],
      "text/plain": [
       "        단축코드            한글 종목명\n",
       "2603  000547  흥국화재해상보험2우선주(신형)\n",
       "2604  000540       흥국화재해상보험보통주\n",
       "2605  003280           흥아해운보통주\n",
       "2606  037440        희림종합건축사사무소\n",
       "2607  238490                힘스"
      ]
     },
     "execution_count": 17,
     "metadata": {},
     "output_type": "execute_result"
    }
   ],
   "source": [
    "df1.tail()"
   ]
  },
  {
   "cell_type": "code",
   "execution_count": 18,
   "id": "607b9cfb-6145-4f40-b3d1-6189f95c6c4e",
   "metadata": {},
   "outputs": [
    {
     "data": {
      "text/html": [
       "<div>\n",
       "<style scoped>\n",
       "    .dataframe tbody tr th:only-of-type {\n",
       "        vertical-align: middle;\n",
       "    }\n",
       "\n",
       "    .dataframe tbody tr th {\n",
       "        vertical-align: top;\n",
       "    }\n",
       "\n",
       "    .dataframe thead th {\n",
       "        text-align: right;\n",
       "    }\n",
       "</style>\n",
       "<table border=\"1\" class=\"dataframe\">\n",
       "  <thead>\n",
       "    <tr style=\"text-align: right;\">\n",
       "      <th></th>\n",
       "      <th>단축코드</th>\n",
       "      <th>한글 종목명</th>\n",
       "    </tr>\n",
       "  </thead>\n",
       "  <tbody>\n",
       "    <tr>\n",
       "      <th>0</th>\n",
       "      <td>098120</td>\n",
       "      <td>(주)마이크로컨텍솔루션</td>\n",
       "    </tr>\n",
       "    <tr>\n",
       "      <th>1</th>\n",
       "      <td>131100</td>\n",
       "      <td>(주)스카이이앤엠</td>\n",
       "    </tr>\n",
       "    <tr>\n",
       "      <th>2</th>\n",
       "      <td>009520</td>\n",
       "      <td>(주)포스코엠텍</td>\n",
       "    </tr>\n",
       "    <tr>\n",
       "      <th>3</th>\n",
       "      <td>095570</td>\n",
       "      <td>AJ네트웍스보통주</td>\n",
       "    </tr>\n",
       "    <tr>\n",
       "      <th>4</th>\n",
       "      <td>006840</td>\n",
       "      <td>AK홀딩스보통주</td>\n",
       "    </tr>\n",
       "  </tbody>\n",
       "</table>\n",
       "</div>"
      ],
      "text/plain": [
       "     단축코드        한글 종목명\n",
       "0  098120  (주)마이크로컨텍솔루션\n",
       "1  131100     (주)스카이이앤엠\n",
       "2  009520      (주)포스코엠텍\n",
       "3  095570     AJ네트웍스보통주\n",
       "4  006840      AK홀딩스보통주"
      ]
     },
     "execution_count": 18,
     "metadata": {},
     "output_type": "execute_result"
    }
   ],
   "source": [
    "df1.head()"
   ]
  },
  {
   "cell_type": "code",
   "execution_count": 21,
   "id": "957d39bd-24da-4e15-bf11-8c6680b9ea43",
   "metadata": {},
   "outputs": [
    {
     "data": {
      "text/html": [
       "<div>\n",
       "<style scoped>\n",
       "    .dataframe tbody tr th:only-of-type {\n",
       "        vertical-align: middle;\n",
       "    }\n",
       "\n",
       "    .dataframe tbody tr th {\n",
       "        vertical-align: top;\n",
       "    }\n",
       "\n",
       "    .dataframe thead th {\n",
       "        text-align: right;\n",
       "    }\n",
       "</style>\n",
       "<table border=\"1\" class=\"dataframe\">\n",
       "  <thead>\n",
       "    <tr style=\"text-align: right;\">\n",
       "      <th></th>\n",
       "      <th>단축코드</th>\n",
       "      <th>한글 종목명</th>\n",
       "    </tr>\n",
       "  </thead>\n",
       "  <tbody>\n",
       "    <tr>\n",
       "      <th>836</th>\n",
       "      <td>005930</td>\n",
       "      <td>삼성전자보통주</td>\n",
       "    </tr>\n",
       "  </tbody>\n",
       "</table>\n",
       "</div>"
      ],
      "text/plain": [
       "       단축코드   한글 종목명\n",
       "836  005930  삼성전자보통주"
      ]
     },
     "execution_count": 21,
     "metadata": {},
     "output_type": "execute_result"
    }
   ],
   "source": [
    "# data frame: loc, iloc \n",
    "df1.loc[df1['한글 종목명'].isin(['삼성전자보통주'])]"
   ]
  },
  {
   "cell_type": "code",
   "execution_count": 22,
   "id": "855a7a38-4bfc-4ec2-8000-ecbf26096fb7",
   "metadata": {},
   "outputs": [
    {
     "name": "stderr",
     "output_type": "stream",
     "text": [
      "c:\\temp3\\ipykernel_334320\\3348144377.py:2: FutureWarning: pandas.value_counts is deprecated and will be removed in a future version. Use pd.Series(obj).value_counts() instead.\n",
      "  pd.value_counts(df['시장구분'])\n"
     ]
    },
    {
     "data": {
      "text/plain": [
       "시장구분\n",
       "KOSDAQ    1533\n",
       "KOSPI      943\n",
       "KONEX      132\n",
       "Name: count, dtype: int64"
      ]
     },
     "execution_count": 22,
     "metadata": {},
     "output_type": "execute_result"
    }
   ],
   "source": [
    "# frequency table \n",
    "pd.value_counts(df['시장구분'])"
   ]
  },
  {
   "cell_type": "code",
   "execution_count": 23,
   "id": "373448d8-197e-4f5c-923c-55ad7b37838e",
   "metadata": {},
   "outputs": [
    {
     "name": "stderr",
     "output_type": "stream",
     "text": [
      "c:\\temp3\\ipykernel_334320\\721292801.py:1: FutureWarning: pandas.value_counts is deprecated and will be removed in a future version. Use pd.Series(obj).value_counts() instead.\n",
      "  pd.value_counts(df['시장구분'], normalize=True)\n"
     ]
    },
    {
     "data": {
      "text/plain": [
       "시장구분\n",
       "KOSDAQ    0.587807\n",
       "KOSPI     0.361580\n",
       "KONEX     0.050613\n",
       "Name: proportion, dtype: float64"
      ]
     },
     "execution_count": 23,
     "metadata": {},
     "output_type": "execute_result"
    }
   ],
   "source": [
    "pd.value_counts(df['시장구분'], normalize=True)"
   ]
  },
  {
   "cell_type": "code",
   "execution_count": 24,
   "id": "1fbd07e4-ba68-4500-8870-823f1fc1d07e",
   "metadata": {},
   "outputs": [
    {
     "ename": "TypeError",
     "evalue": "crosstab() missing 1 required positional argument: 'columns'",
     "output_type": "error",
     "traceback": [
      "\u001b[1;31m---------------------------------------------------------------------------\u001b[0m",
      "\u001b[1;31mTypeError\u001b[0m                                 Traceback (most recent call last)",
      "Cell \u001b[1;32mIn[24], line 1\u001b[0m\n\u001b[1;32m----> 1\u001b[0m \u001b[43mpd\u001b[49m\u001b[38;5;241;43m.\u001b[39;49m\u001b[43mcrosstab\u001b[49m\u001b[43m(\u001b[49m\u001b[43mdf\u001b[49m\u001b[43m[\u001b[49m\u001b[38;5;124;43m'\u001b[39;49m\u001b[38;5;124;43m시장구분\u001b[39;49m\u001b[38;5;124;43m'\u001b[39;49m\u001b[43m]\u001b[49m\u001b[43m)\u001b[49m\n",
      "\u001b[1;31mTypeError\u001b[0m: crosstab() missing 1 required positional argument: 'columns'"
     ]
    }
   ],
   "source": [
    "pd.crosstab(df['시장구분'])"
   ]
  },
  {
   "cell_type": "code",
   "execution_count": 25,
   "id": "756b19d2-4890-488d-ac02-a512fe33164e",
   "metadata": {},
   "outputs": [
    {
     "data": {
      "text/html": [
       "<div>\n",
       "<style scoped>\n",
       "    .dataframe tbody tr th:only-of-type {\n",
       "        vertical-align: middle;\n",
       "    }\n",
       "\n",
       "    .dataframe tbody tr th {\n",
       "        vertical-align: top;\n",
       "    }\n",
       "\n",
       "    .dataframe thead th {\n",
       "        text-align: right;\n",
       "    }\n",
       "</style>\n",
       "<table border=\"1\" class=\"dataframe\">\n",
       "  <thead>\n",
       "    <tr style=\"text-align: right;\">\n",
       "      <th>col_0</th>\n",
       "      <th>no</th>\n",
       "    </tr>\n",
       "    <tr>\n",
       "      <th>시장구분</th>\n",
       "      <th></th>\n",
       "    </tr>\n",
       "  </thead>\n",
       "  <tbody>\n",
       "    <tr>\n",
       "      <th>KONEX</th>\n",
       "      <td>132</td>\n",
       "    </tr>\n",
       "    <tr>\n",
       "      <th>KOSDAQ</th>\n",
       "      <td>1533</td>\n",
       "    </tr>\n",
       "    <tr>\n",
       "      <th>KOSPI</th>\n",
       "      <td>943</td>\n",
       "    </tr>\n",
       "  </tbody>\n",
       "</table>\n",
       "</div>"
      ],
      "text/plain": [
       "col_0     no\n",
       "시장구분        \n",
       "KONEX    132\n",
       "KOSDAQ  1533\n",
       "KOSPI    943"
      ]
     },
     "execution_count": 25,
     "metadata": {},
     "output_type": "execute_result"
    }
   ],
   "source": [
    "pd.crosstab(df['시장구분'], 'no')"
   ]
  },
  {
   "cell_type": "code",
   "execution_count": null,
   "id": "5dcf7e0d-f64a-4315-874d-01a2ff56f759",
   "metadata": {},
   "outputs": [],
   "source": []
  }
 ],
 "metadata": {
  "kernelspec": {
   "display_name": "Python 3 (ipykernel)",
   "language": "python",
   "name": "python3"
  },
  "language_info": {
   "codemirror_mode": {
    "name": "ipython",
    "version": 3
   },
   "file_extension": ".py",
   "mimetype": "text/x-python",
   "name": "python",
   "nbconvert_exporter": "python",
   "pygments_lexer": "ipython3",
   "version": "3.9.13"
  }
 },
 "nbformat": 4,
 "nbformat_minor": 5
}
