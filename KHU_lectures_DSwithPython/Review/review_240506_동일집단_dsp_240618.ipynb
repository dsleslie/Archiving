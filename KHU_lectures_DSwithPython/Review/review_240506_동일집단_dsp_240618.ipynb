{
 "cells": [
  {
   "cell_type": "code",
   "execution_count": 1,
   "id": "055182a7",
   "metadata": {},
   "outputs": [],
   "source": [
    "import pandas as pd\n",
    "import numpy as np\n",
    "import numpy_financial as npf\n",
    "import seaborn as sns\n",
    "import matplotlib.pyplot as plt\n",
    "import statsmodels.api as sm\n",
    "from statsmodels.formula.api import ols\n",
    "from sklearn.model_selection import train_test_split\n",
    "import warnings\n",
    "warnings.filterwarnings(\"ignore\")\n",
    "from numpy import *\n",
    "\n",
    "from ggplot import *\n",
    "from scipy.stats import logistic\n",
    "from sklearn.metrics import roc_curve\n",
    "from sklearn.metrics import roc_auc_score\n",
    "from sklearn.linear_model import LogisticRegression\n",
    "from sklearn.metrics import confusion_matrix, mean_squared_error\n",
    "from sklearn.model_selection import train_test_split\n",
    "from sklearn import preprocessing\n",
    "from sklearn.neighbors import KNeighborsClassifier\n",
    "from sklearn.naive_bayes import *\n",
    "from sklearn.tree import DecisionTreeClassifier, DecisionTreeRegressor, export_graphviz\n",
    "import graphviz\n",
    "from sklearn.ensemble import RandomForestRegressor, RandomForestClassifier\n",
    "from sklearn.svm import SVC, SVR\n",
    "from sklearn.cluster import KMeans\n",
    "from sklearn.preprocessing import StandardScaler\n",
    "\n",
    "\n",
    "from linearmodels.iv import IV2SLS\n",
    "from scipy import stats\n",
    "from scipy.stats import trim_mean #trimmed mean\n",
    "from scipy.stats import * #chi2_contingency로 카이제곱통계량계산\n",
    "from scipy.stats import norm\n",
    "\n",
    "import keyword\n",
    "import random\n",
    "\n",
    "#open api 불러올 때 필요한 것\n",
    "from urllib.request import urlopen #request package 설치\n",
    "from bs4 import BeautifulSoup #bs4 package 설치\n",
    "\n",
    "# 그래프에서 한글 깨지지 않기 위헤 사용함\n",
    "from matplotlib import rcParams\n",
    "from matplotlib import font_manager,rc\n",
    "\n",
    "rcParams['axes.unicode_minus']=False\n",
    "plt.rcParams['font.family']='Malgun Gothic'\n",
    "font_name=font_manager.FontProperties(fname='c:/Windows/Fonts/malgun.ttf').get_name()\n",
    "rc('font',family=font_name)\n",
    "\n",
    "import FinanceDataReader as fdr\n",
    "import plotly.graph_objects as go\n",
    "import plotly.subplots as ms\n",
    "import math\n",
    "\n"
   ]
  },
  {
   "cell_type": "code",
   "execution_count": 2,
   "id": "8bcccbd3",
   "metadata": {},
   "outputs": [
    {
     "data": {
      "text/html": [
       "<div>\n",
       "<style scoped>\n",
       "    .dataframe tbody tr th:only-of-type {\n",
       "        vertical-align: middle;\n",
       "    }\n",
       "\n",
       "    .dataframe tbody tr th {\n",
       "        vertical-align: top;\n",
       "    }\n",
       "\n",
       "    .dataframe thead th {\n",
       "        text-align: right;\n",
       "    }\n",
       "</style>\n",
       "<table border=\"1\" class=\"dataframe\">\n",
       "  <thead>\n",
       "    <tr style=\"text-align: right;\">\n",
       "      <th></th>\n",
       "      <th>year</th>\n",
       "      <th>metro</th>\n",
       "      <th>id</th>\n",
       "      <th>sex</th>\n",
       "      <th>age</th>\n",
       "      <th>number</th>\n",
       "      <th>education</th>\n",
       "      <th>marriage</th>\n",
       "      <th>asset</th>\n",
       "      <th>debt</th>\n",
       "      <th>income</th>\n",
       "      <th>income_d</th>\n",
       "      <th>industry</th>\n",
       "      <th>job</th>\n",
       "      <th>house</th>\n",
       "    </tr>\n",
       "  </thead>\n",
       "  <tbody>\n",
       "    <tr>\n",
       "      <th>0</th>\n",
       "      <td>2020</td>\n",
       "      <td>G1</td>\n",
       "      <td>10000112</td>\n",
       "      <td>1</td>\n",
       "      <td>34</td>\n",
       "      <td>3</td>\n",
       "      <td>6</td>\n",
       "      <td>2</td>\n",
       "      <td>112000</td>\n",
       "      <td>54500</td>\n",
       "      <td>6593</td>\n",
       "      <td>4599</td>\n",
       "      <td>F</td>\n",
       "      <td>3</td>\n",
       "      <td>2</td>\n",
       "    </tr>\n",
       "    <tr>\n",
       "      <th>1</th>\n",
       "      <td>2020</td>\n",
       "      <td>G1</td>\n",
       "      <td>10000132</td>\n",
       "      <td>2</td>\n",
       "      <td>45</td>\n",
       "      <td>2</td>\n",
       "      <td>8</td>\n",
       "      <td>2</td>\n",
       "      <td>42500</td>\n",
       "      <td>17500</td>\n",
       "      <td>17720</td>\n",
       "      <td>15257</td>\n",
       "      <td>J</td>\n",
       "      <td>2</td>\n",
       "      <td>3</td>\n",
       "    </tr>\n",
       "    <tr>\n",
       "      <th>2</th>\n",
       "      <td>2020</td>\n",
       "      <td>G1</td>\n",
       "      <td>10000162</td>\n",
       "      <td>2</td>\n",
       "      <td>73</td>\n",
       "      <td>1</td>\n",
       "      <td>2</td>\n",
       "      <td>3</td>\n",
       "      <td>5712</td>\n",
       "      <td>0</td>\n",
       "      <td>908</td>\n",
       "      <td>725</td>\n",
       "      <td>T</td>\n",
       "      <td>4</td>\n",
       "      <td>2</td>\n",
       "    </tr>\n",
       "    <tr>\n",
       "      <th>3</th>\n",
       "      <td>2020</td>\n",
       "      <td>G1</td>\n",
       "      <td>10000182</td>\n",
       "      <td>1</td>\n",
       "      <td>58</td>\n",
       "      <td>2</td>\n",
       "      <td>4</td>\n",
       "      <td>2</td>\n",
       "      <td>14870</td>\n",
       "      <td>0</td>\n",
       "      <td>2748</td>\n",
       "      <td>2431</td>\n",
       "      <td>C</td>\n",
       "      <td>5</td>\n",
       "      <td>2</td>\n",
       "    </tr>\n",
       "    <tr>\n",
       "      <th>4</th>\n",
       "      <td>2020</td>\n",
       "      <td>G1</td>\n",
       "      <td>10000192</td>\n",
       "      <td>2</td>\n",
       "      <td>27</td>\n",
       "      <td>1</td>\n",
       "      <td>4</td>\n",
       "      <td>1</td>\n",
       "      <td>814</td>\n",
       "      <td>0</td>\n",
       "      <td>1015</td>\n",
       "      <td>893</td>\n",
       "      <td>R</td>\n",
       "      <td>2</td>\n",
       "      <td>3</td>\n",
       "    </tr>\n",
       "  </tbody>\n",
       "</table>\n",
       "</div>"
      ],
      "text/plain": [
       "   year metro        id  sex  age  number  education  marriage   asset   debt  \\\n",
       "0  2020    G1  10000112    1   34       3          6         2  112000  54500   \n",
       "1  2020    G1  10000132    2   45       2          8         2   42500  17500   \n",
       "2  2020    G1  10000162    2   73       1          2         3    5712      0   \n",
       "3  2020    G1  10000182    1   58       2          4         2   14870      0   \n",
       "4  2020    G1  10000192    2   27       1          4         1     814      0   \n",
       "\n",
       "   income  income_d industry job  house  \n",
       "0    6593      4599        F   3      2  \n",
       "1   17720     15257        J   2      3  \n",
       "2     908       725        T   4      2  \n",
       "3    2748      2431        C   5      2  \n",
       "4    1015       893        R   2      3  "
      ]
     },
     "execution_count": 2,
     "metadata": {},
     "output_type": "execute_result"
    }
   ],
   "source": [
    "df=pd.read_csv('c:/temp/household_2020a.csv')\n",
    "df.head()"
   ]
  },
  {
   "cell_type": "code",
   "execution_count": 4,
   "id": "0bfd78f0",
   "metadata": {},
   "outputs": [
    {
     "data": {
      "text/plain": [
       "18064"
      ]
     },
     "execution_count": 4,
     "metadata": {},
     "output_type": "execute_result"
    }
   ],
   "source": [
    "income=df['income'].dropna()\n",
    "len(income)"
   ]
  },
  {
   "cell_type": "code",
   "execution_count": 5,
   "id": "2df56320",
   "metadata": {},
   "outputs": [
    {
     "data": {
      "text/html": [
       "<div>\n",
       "<style scoped>\n",
       "    .dataframe tbody tr th:only-of-type {\n",
       "        vertical-align: middle;\n",
       "    }\n",
       "\n",
       "    .dataframe tbody tr th {\n",
       "        vertical-align: top;\n",
       "    }\n",
       "\n",
       "    .dataframe thead th {\n",
       "        text-align: right;\n",
       "    }\n",
       "</style>\n",
       "<table border=\"1\" class=\"dataframe\">\n",
       "  <thead>\n",
       "    <tr style=\"text-align: right;\">\n",
       "      <th></th>\n",
       "      <th>year</th>\n",
       "      <th>metro</th>\n",
       "      <th>id</th>\n",
       "      <th>sex</th>\n",
       "      <th>age</th>\n",
       "      <th>number</th>\n",
       "      <th>education</th>\n",
       "      <th>marriage</th>\n",
       "      <th>asset</th>\n",
       "      <th>debt</th>\n",
       "      <th>income</th>\n",
       "      <th>income_d</th>\n",
       "      <th>industry</th>\n",
       "      <th>job</th>\n",
       "      <th>house</th>\n",
       "    </tr>\n",
       "  </thead>\n",
       "  <tbody>\n",
       "    <tr>\n",
       "      <th>18059</th>\n",
       "      <td>2020</td>\n",
       "      <td>G2</td>\n",
       "      <td>993800291</td>\n",
       "      <td>1</td>\n",
       "      <td>42</td>\n",
       "      <td>3</td>\n",
       "      <td>6</td>\n",
       "      <td>2</td>\n",
       "      <td>6705</td>\n",
       "      <td>2200</td>\n",
       "      <td>179</td>\n",
       "      <td>-390</td>\n",
       "      <td>NaN</td>\n",
       "      <td>NaN</td>\n",
       "      <td>3</td>\n",
       "    </tr>\n",
       "    <tr>\n",
       "      <th>18060</th>\n",
       "      <td>2020</td>\n",
       "      <td>G2</td>\n",
       "      <td>994800251</td>\n",
       "      <td>1</td>\n",
       "      <td>49</td>\n",
       "      <td>5</td>\n",
       "      <td>6</td>\n",
       "      <td>2</td>\n",
       "      <td>130180</td>\n",
       "      <td>22000</td>\n",
       "      <td>15454</td>\n",
       "      <td>11784</td>\n",
       "      <td>O</td>\n",
       "      <td>3</td>\n",
       "      <td>1</td>\n",
       "    </tr>\n",
       "    <tr>\n",
       "      <th>18061</th>\n",
       "      <td>2020</td>\n",
       "      <td>G2</td>\n",
       "      <td>994800261</td>\n",
       "      <td>1</td>\n",
       "      <td>57</td>\n",
       "      <td>5</td>\n",
       "      <td>6</td>\n",
       "      <td>2</td>\n",
       "      <td>265226</td>\n",
       "      <td>29000</td>\n",
       "      <td>15098</td>\n",
       "      <td>11560</td>\n",
       "      <td>NaN</td>\n",
       "      <td>NaN</td>\n",
       "      <td>1</td>\n",
       "    </tr>\n",
       "    <tr>\n",
       "      <th>18062</th>\n",
       "      <td>2020</td>\n",
       "      <td>G2</td>\n",
       "      <td>994800291</td>\n",
       "      <td>2</td>\n",
       "      <td>53</td>\n",
       "      <td>2</td>\n",
       "      <td>7</td>\n",
       "      <td>4</td>\n",
       "      <td>109695</td>\n",
       "      <td>25000</td>\n",
       "      <td>9114</td>\n",
       "      <td>7074</td>\n",
       "      <td>O</td>\n",
       "      <td>2</td>\n",
       "      <td>2</td>\n",
       "    </tr>\n",
       "    <tr>\n",
       "      <th>18063</th>\n",
       "      <td>2020</td>\n",
       "      <td>G2</td>\n",
       "      <td>995800261</td>\n",
       "      <td>1</td>\n",
       "      <td>44</td>\n",
       "      <td>5</td>\n",
       "      <td>6</td>\n",
       "      <td>2</td>\n",
       "      <td>71223</td>\n",
       "      <td>13000</td>\n",
       "      <td>7857</td>\n",
       "      <td>5404</td>\n",
       "      <td>C</td>\n",
       "      <td>3</td>\n",
       "      <td>1</td>\n",
       "    </tr>\n",
       "  </tbody>\n",
       "</table>\n",
       "</div>"
      ],
      "text/plain": [
       "       year metro         id  sex  age  number  education  marriage   asset  \\\n",
       "18059  2020    G2  993800291    1   42       3          6         2    6705   \n",
       "18060  2020    G2  994800251    1   49       5          6         2  130180   \n",
       "18061  2020    G2  994800261    1   57       5          6         2  265226   \n",
       "18062  2020    G2  994800291    2   53       2          7         4  109695   \n",
       "18063  2020    G2  995800261    1   44       5          6         2   71223   \n",
       "\n",
       "        debt  income  income_d industry  job  house  \n",
       "18059   2200     179      -390      NaN  NaN      3  \n",
       "18060  22000   15454     11784        O    3      1  \n",
       "18061  29000   15098     11560      NaN  NaN      1  \n",
       "18062  25000    9114      7074        O    2      2  \n",
       "18063  13000    7857      5404        C    3      1  "
      ]
     },
     "execution_count": 5,
     "metadata": {},
     "output_type": "execute_result"
    }
   ],
   "source": [
    "df.tail()"
   ]
  },
  {
   "cell_type": "code",
   "execution_count": 6,
   "id": "bf6e2e15",
   "metadata": {},
   "outputs": [
    {
     "data": {
      "text/plain": [
       "count     18064.000000\n",
       "mean       5494.711138\n",
       "std        5563.512946\n",
       "min           0.000000\n",
       "25%        2026.000000\n",
       "50%        4183.500000\n",
       "75%        7331.750000\n",
       "max      225116.000000\n",
       "Name: income, dtype: float64"
      ]
     },
     "execution_count": 6,
     "metadata": {},
     "output_type": "execute_result"
    }
   ],
   "source": [
    "income.describe()"
   ]
  },
  {
   "cell_type": "code",
   "execution_count": 7,
   "id": "d2e97f1a",
   "metadata": {},
   "outputs": [],
   "source": [
    "# 평균 5494만원, 최대값 22억5116만원"
   ]
  },
  {
   "cell_type": "code",
   "execution_count": 9,
   "id": "7f8f69db",
   "metadata": {},
   "outputs": [
    {
     "data": {
      "text/plain": [
       "5563.51"
      ]
     },
     "execution_count": 9,
     "metadata": {},
     "output_type": "execute_result"
    }
   ],
   "source": [
    "# 소수점 둘째자리까지 반올림 해라 = 셋째자리에서 반올림해라\n",
    "np.round(5563.512946,2)"
   ]
  },
  {
   "cell_type": "code",
   "execution_count": 11,
   "id": "15366476",
   "metadata": {},
   "outputs": [
    {
     "data": {
      "image/png": "[encoded data removed]",
      "text/plain": [
       "<Figure size 640x480 with 1 Axes>"
      ]
     },
     "metadata": {},
     "output_type": "display_data"
    }
   ],
   "source": [
    "# 경상소득분포 히스토그램 그리기\n",
    "plt.hist(income)\n",
    "plt.grid\n",
    "plt.show()"
   ]
  },
  {
   "cell_type": "code",
   "execution_count": 12,
   "id": "118d1ca8",
   "metadata": {},
   "outputs": [
    {
     "data": {
      "image/png": "[encoded data removed]",
      "text/plain": [
       "<Figure size 1500x600 with 1 Axes>"
      ]
     },
     "metadata": {},
     "output_type": "display_data"
    }
   ],
   "source": [
    "# 경상소득 히소토그램 이쁘게 그리기 1\n",
    "fig, ax= plt.subplots(figsize=(15,6))\n",
    "ax.hist(income, alpha=0.3, bins=2000)\n",
    "ax.grid()\n",
    "plt.show()"
   ]
  },
  {
   "cell_type": "code",
   "execution_count": 14,
   "id": "a1c599a6",
   "metadata": {},
   "outputs": [
    {
     "data": {
      "image/png": "[encoded data removed]",
      "text/plain": [
       "<Figure size 1500x600 with 1 Axes>"
      ]
     },
     "metadata": {},
     "output_type": "display_data"
    }
   ],
   "source": [
    "# 경상소득 히소토그램 이쁘게 그리기 2 : x 축 limit 정하기\n",
    "fig, ax= plt.subplots(figsize=(15,6))\n",
    "ax.hist(income, alpha=0.3, bins=2000)\n",
    "ax.grid()\n",
    "ax.set_xlim(0,40000) # 최대 값이 22억 이어씅니까, 오른쪽 ㄱ고리가 너무 길게 나옴. limit을 4억으로 두자\n",
    "plt.show()"
   ]
  },
  {
   "cell_type": "code",
   "execution_count": 15,
   "id": "692beb75",
   "metadata": {},
   "outputs": [
    {
     "name": "stdout",
     "output_type": "stream",
     "text": [
      "[5691.372, 5281.552, 5675.846, 5446.63, 5305.786, 5811.662, 5538.504, 5280.688, 5338.686, 5452.028, 5228.324, 5221.398, 5467.852, 5741.074, 5365.338, 5398.704, 5783.132, 5654.842, 5200.54, 5437.166, 5429.8, 5186.238, 5507.13, 5231.722, 5556.386, 5615.926, 5524.046, 5507.902, 5706.742, 5436.834, 5171.532, 5341.266, 5384.34, 5101.468, 5171.142, 5405.874, 5420.31, 5552.32, 5574.398, 5257.684, 5049.616, 5125.35, 5152.838, 5199.396, 5358.214, 5515.792, 5596.034, 5202.01, 5244.84, 5219.642, 5445.782, 5584.088, 5298.516, 5416.462, 5823.418, 5465.482, 5577.448, 5726.36, 5416.118, 5338.93, 5490.096, 5609.162, 5600.436, 5805.09, 5372.562, 5919.19, 5227.948, 5229.596, 5189.204, 5323.744, 5404.29, 5384.954, 5334.71, 5190.136, 5341.87, 5259.136, 5585.106, 5180.006, 5837.52, 5108.946, 5329.732, 5306.918, 5167.488, 5431.01, 5236.972, 5852.408, 5360.084, 5667.058, 5129.312, 5512.282, 5579.994, 5409.32, 5536.21, 5839.512, 5394.736, 5375.042, 5433.322, 5759.396, 5339.966, 5182.974, 5618.752, 5145.15, 5511.236, 5608.546, 5361.504, 5567.526, 5585.994, 5246.086, 5450.382, 5423.6, 5444.632, 5648.974, 5384.082, 5514.76, 5766.596, 5654.602, 5636.188, 5396.034, 5591.332, 5236.02, 5561.75, 5605.922, 5376.422, 5645.832, 5459.878, 5497.302, 5887.228, 5186.962, 5617.11, 5337.346, 5306.524, 5630.384, 5111.24, 5393.338, 5603.5, 5504.192, 5446.546, 5103.29, 5516.53, 5494.38, 5348.568, 5173.43, 5384.252, 5428.968, 5368.884, 5611.968, 5445.576, 5478.242, 5768.46, 5926.434, 5793.736, 5869.222, 5289.374, 5604.01, 5220.098, 5503.24, 5206.654, 5320.132, 5833.216, 5928.782, 5420.492, 5448.744, 5361.362, 5778.026, 5373.284, 5300.002, 5624.29, 5701.046, 5313.24, 5162.296, 5634.376, 5533.188, 5575.694, 5537.07, 5242.676, 5287.69, 5707.554, 5569.352, 5157.072, 5192.172, 5291.22, 5477.968, 5357.746, 5572.26, 5503.44, 5607.474, 5223.15, 5579.95, 5696.374, 5517.902, 5481.594, 5424.734, 5286.308, 5506.532, 5623.5, 5209.006, 5478.602, 5294.736, 5439.84, 5527.734, 6059.716, 5463.422, 5090.246, 5823.762, 5200.24, 5437.714, 5239.724, 5727.056, 5784.1, 5595.088, 5068.344, 5373.654, 5285.768, 5775.33, 5668.876, 5269.986, 5750.648, 5359.996, 5435.758, 5436.862, 5115.874, 5397.62, 5479.908, 5493.348, 5044.046, 5343.096, 5511.526, 5483.078, 5564.934, 6089.364, 5452.074, 5096.658, 6101.618, 5322.69, 5535.356, 5540.944, 5676.864, 5533.478, 5365.662, 6100.112, 5418.248, 5825.702, 5532.78, 5212.108, 5212.722, 5674.804, 5674.934, 5269.726, 5710.25, 5240.016, 5318.256, 5494.44, 5236.072, 5352.15, 5343.332, 5398.67, 5666.056, 5592.41, 5568.696, 5123.312, 5109.316, 5593.088, 5542.95, 5284.566, 5966.11, 5269.534, 5643.198, 5709.224, 6004.312, 5390.018, 5143.48, 5443.974, 5520.548, 5560.046, 5925.838, 5444.434, 5512.958, 5313.592, 5859.924, 5276.456, 5495.29, 6441.612, 5536.642, 5610.846, 5097.258, 5498.212, 5372.584, 5607.832, 5285.514, 5685.68, 5747.338, 5432.846, 5668.796, 5287.308, 5251.482, 5758.99, 5350.634, 5146.5, 5664.074, 5451.794, 5517.774, 5368.06, 5464.746, 5047.98, 5406.134, 5824.8, 5037.112, 5206.322, 5985.914, 5434.83, 5198.014, 5156.332, 5346.574, 5647.05, 5883.43, 5173.094, 5772.72, 5409.538, 5887.558, 5384.708, 5255.654, 5606.358, 5660.556, 5514.476, 5610.074, 5370.43, 5558.848, 5290.474, 5679.52, 6069.154, 5411.308, 5731.438, 5680.128, 5177.592, 5502.09, 5092.62, 5308.192, 5583.588, 5669.168, 5335.222, 5645.712, 6097.074, 5415.904, 5567.456, 5336.99, 5263.702, 5398.676, 5660.59, 5722.134, 5523.464, 5525.628, 5303.392, 5836.444, 5399.048, 5116.444, 5011.7, 5766.65, 5361.342, 5278.114, 5646.752, 5455.128, 5597.91, 5669.916, 5173.962, 5435.556, 5609.77, 5403.702, 5685.61, 5373.15, 5375.77, 5794.972, 5337.074, 5466.208, 5189.374, 5153.444, 5572.264, 5614.626, 5605.838, 5516.416, 5911.114, 4934.464, 5021.198, 5626.208, 5335.5, 6118.378, 5484.966, 5868.856, 5211.092, 5085.302, 5442.804, 5334.24, 5545.662, 5624.346, 5319.508, 5091.38, 5299.484, 5411.52, 5726.33, 5583.92, 5544.088, 5862.232, 5432.316, 5283.898, 5601.706, 5355.078, 5274.976, 5234.72, 5218.5, 5692.338, 5306.72, 5583.52, 5135.286, 5202.054, 5513.248, 5315.624, 5390.542, 5479.358, 5460.84, 5230.794, 5324.222, 5672.166, 5280.224, 5661.942, 5608.972, 5728.386, 5823.664, 5296.066, 5303.998, 5463.636, 5177.908, 5378.712, 5465.984, 5247.238, 5534.984, 5375.854, 5468.422, 5305.124, 5579.374, 5025.19, 5933.76, 6248.22, 5579.482, 5432.01, 5558.108, 5398.302, 5737.062, 5695.666, 5402.456, 5219.736, 5759.406, 5392.052, 5328.928, 5530.9, 5328.718, 5647.68, 5289.066, 5113.556, 5640.408, 5881.576, 5061.568, 5475.106, 5478.828, 5426.308, 5522.526, 5735.894, 5438.55, 5212.57, 5611.736, 5431.186, 5808.332, 5503.058, 5620.636, 5527.186, 5708.468, 5453.042, 5324.094, 6081.784, 5752.584, 5275.236, 5470.542, 5195.544, 5500.494, 5234.594, 5948.68, 5719.65, 5526.884, 5278.176, 5296.492, 5268.928, 5355.792, 5589.59, 5434.956, 5419.334, 6087.468, 5733.232, 5596.3, 5599.144, 6217.168, 5293.294, 5696.976, 5224.196, 5503.85, 5494.32, 5444.186, 5559.606, 5601.128, 5588.68, 5575.896, 5337.178, 5620.808, 5203.384, 5857.772, 5533.316, 5319.15, 5040.63, 5322.224, 5558.24, 5568.828, 5556.704, 5147.802, 5582.572, 4977.18, 6563.646, 5419.416, 5262.036, 5439.906, 5844.664, 5640.606, 5982.902, 5702.148, 5698.404, 5371.214, 5447.75, 5328.42, 5532.022, 5503.038, 5761.436, 5581.352, 5628.102, 5470.806, 5575.336, 5423.704, 5311.884, 5198.296, 5687.698, 5842.952, 5625.234, 5187.164, 5512.378, 5404.774, 5080.8, 5286.644, 5475.53, 5361.456, 5381.868, 5353.938, 5167.326, 5717.092, 5257.244, 5694.046, 5178.202, 5325.65, 5371.82, 5297.802, 5838.352, 5698.432, 5771.722, 5499.904, 5051.968, 5208.792, 5667.24, 5641.264, 5513.358, 5189.544, 5302.452, 5618.826, 5209.52, 5768.974, 5592.168, 5475.714, 5271.092, 5225.674, 5795.28, 5164.602, 4996.404, 5830.742, 5304.108, 5183.482, 5691.042, 6133.83, 5434.2, 5440.566, 5916.876, 5769.968, 5112.082, 5552.352, 5442.54, 5769.382, 5465.938, 5220.058, 5409.764, 5360.392, 5447.45, 5335.91, 5762.546, 5553.45, 5488.978, 5456.472, 5682.05, 5793.212, 5508.172, 5310.682, 5573.064, 5843.718, 5487.184, 5664.532, 5671.128, 5518.026, 5483.44, 5433.21, 5557.41, 5203.66, 6312.328, 5245.326, 5464.388, 5546.21, 5416.44, 5484.692, 5596.9, 5370.934, 5167.494, 5752.734, 5512.424, 5456.058, 5458.684, 4994.776, 5380.866, 5242.832, 5453.464, 5806.868, 6178.326, 5559.842, 5348.556, 5105.316, 5716.43, 5787.724, 5144.294, 5690.756, 5674.184, 5420.732, 5557.958, 5648.682, 5541.81, 5065.346, 5495.238, 5262.826, 5643.556, 5434.524, 5439.036, 5688.256, 5345.88, 5440.528, 5331.152, 5628.002, 5457.846, 5301.08, 5408.44, 5102.402, 5520.378, 5206.442, 5375.552, 5714.784, 5265.446, 5619.008, 5709.054, 5208.288, 5473.86, 5296.556, 5374.01, 5885.234, 5210.262, 5592.482, 5565.102, 5465.438, 5642.462, 5185.578, 5662.774, 5526.324, 5807.478, 5550.48, 5284.514, 5747.098, 6001.634, 5610.736, 5497.728, 5283.712, 5337.33, 5477.02, 5781.04, 5319.744, 5623.146, 5090.35, 5429.5, 5205.392, 5653.562, 5565.736, 5685.088, 5742.04, 5545.012, 5471.384, 5485.464, 5782.946, 5199.848, 5598.714, 5838.976, 5704.362, 5449.464, 5741.196, 5395.816, 5463.384, 5691.614, 5297.352, 5618.456, 5499.632, 5594.35, 5509.502, 5547.426, 5278.018, 5280.828, 5765.714, 5552.982, 6067.388, 5684.008, 5648.744, 5712.052, 5876.184, 5295.364, 5431.978, 5416.988, 5209.796, 5566.486, 5677.03, 5691.05, 5422.846, 6372.996, 5272.898, 5413.796, 5757.068, 5824.578, 5195.242, 5187.69, 5257.17, 5750.48, 5404.174, 5246.038, 5820.216, 5223.846, 5702.536, 5320.46, 5369.974, 5786.828, 5058.694, 5676.668, 5300.73, 5279.21, 5795.588, 5754.808, 5607.132, 5981.352, 5361.45, 5071.338, 5309.226, 5729.006, 5345.272, 5583.994, 5468.036, 5826.118, 5137.564, 5126.468, 5306.414, 5706.758, 5746.23, 5852.896, 5511.334, 5213.144, 5309.744, 5343.098, 5486.846, 5531.23, 5839.372, 5290.076, 5712.704, 5383.266, 5513.746, 5216.242, 5453.764, 5654.84, 5329.552, 5300.382, 5802.114, 5892.29, 5776.65, 5295.762, 5288.75, 5434.714, 5317.882, 5785.162, 5499.462, 5362.992, 5250.568, 5520.848, 5111.178, 5083.01, 5707.482, 5116.92, 5487.794, 5493.462, 5401.41, 5905.758, 5435.126, 5245.464, 5783.234, 5501.176, 5389.884, 5400.032, 5697.246, 5800.826, 5355.426, 5361.982, 5592.078, 5499.302, 5669.17, 5375.974, 5501.526, 5038.348, 5016.14, 5385.538, 5418.016, 5670.946, 5877.512, 5056.632, 5472.018, 5470.184, 5707.3, 5504.348, 5708.098, 4982.33, 5813.554, 5442.734, 5582.81, 5367.036, 5203.144, 5577.078, 5259.03, 5190.118, 5812.1, 5242.278, 5138.894, 5588.678, 5525.152, 5441.312, 5936.314, 5965.606, 5601.008, 5273.986, 5060.556, 5496.774, 5303.69, 6253.462, 5891.572, 5370.948, 5562.518, 5272.714, 5508.482, 5681.77, 5519.822, 5579.008, 5571.248, 5330.834, 5729.052, 5909.938, 5814.514, 5660.684, 5676.996, 5493.034, 5216.932, 5181.018, 5305.838, 5949.222, 5315.97, 5927.392, 5587.144, 5594.67, 5716.958, 5484.748, 5480.818, 5345.532, 5582.376, 5307.486, 4888.448, 5869.59, 5173.802, 5470.432, 5797.574, 5530.38, 5638.176, 5566.61, 5972.352, 5185.038, 5395.814, 5157.21, 5586.652, 5399.92, 5324.336, 5637.462, 5297.224, 5693.146, 5613.21, 5554.766, 5511.334, 5548.756, 5290.534, 5363.55, 5429.608, 5953.678, 5298.528, 5170.944, 5358.338, 6062.77, 5579.454, 5423.27, 5531.606, 5311.31, 5723.636, 5821.956, 5616.046, 5008.17, 5518.982, 5582.908, 5199.182, 5137.008, 5532.646, 5734.376, 5352.362, 5809.036, 5227.252, 5965.496, 5569.08, 5355.934, 4931.034, 5426.33, 5851.648, 5443.514, 5392.178, 5595.118, 5917.916, 5532.73, 5575.7, 4828.0, 5550.408, 5637.518, 5218.35, 5877.376, 5001.276, 5860.986, 5119.316, 5598.168, 5739.704, 5582.634, 5713.66, 5119.22, 5414.228, 5532.976, 5644.542, 6385.118, 5558.42, 5308.936, 5728.576, 5075.236, 5540.434, 5324.608, 5613.328, 5416.234, 5343.674, 5299.944, 5344.636, 5306.992, 5744.554, 5865.13, 5760.49, 5120.656, 5401.15, 5072.746, 5587.606, 5636.806, 5300.456, 5358.042, 5527.534, 5506.93, 5723.284, 5535.762, 6070.472, 5323.954, 5522.74, 5734.3, 5824.142, 5933.504, 5820.628, 5457.544, 5360.47, 5400.692, 5272.33, 5589.168, 5673.112, 5445.71, 5332.798, 5003.322, 5686.222, 5629.002, 5643.6, 5784.488, 5762.488, 5827.412, 5361.734, 5490.656, 5646.76, 5977.162, 5393.38, 5691.192, 5508.468, 5035.784, 5570.014, 5681.42, 5683.04, 5227.274, 5788.29, 5261.7, 5288.826, 6106.752, 5077.754, 5716.518, 5694.47, 5435.812, 5307.152, 5518.422, 5354.402, 5392.658, 5292.816, 4945.606, 5234.698, 5459.808, 5104.42, 5330.892, 5951.826, 5397.064, 4894.19, 5334.098, 5457.626, 5847.852, 5838.034, 5464.658, 5279.292, 5619.504, 5621.068, 5581.198, 5354.098, 5698.708, 5281.362, 5272.086, 5352.536, 5255.798, 5454.538, 5403.034, 5513.076, 5709.178, 5384.942, 4781.72, 5455.872, 5560.044, 5596.434, 5553.652, 5043.65, 5364.384, 5573.694, 5364.916, 5079.874, 5441.478, 5404.518, 5422.632, 5365.854, 5112.4, 5940.212, 5389.996, 5127.974, 5584.78, 4989.214, 5864.788, 5295.78, 5929.372, 5277.41, 5670.988, 5622.764, 5319.792, 5611.832, 5090.26, 5445.552, 5876.934, 5063.754, 5306.39, 5437.814, 5132.398, 5464.36, 6343.808, 5691.56, 5742.044, 5461.878, 5343.346, 5238.902, 5675.788, 5265.144, 5195.672, 5919.582, 5680.218, 5881.646, 5448.198, 5897.516, 5106.152, 4991.972, 5590.112, 5712.932, 5751.422, 5381.726, 5559.47, 5618.744, 5221.828, 5625.438, 5782.596, 5577.188, 5573.652, 5604.488, 5529.06, 5417.15, 5689.724, 5674.894, 5450.948, 5365.228, 5667.382, 5351.16, 5829.978, 5934.764, 5356.494, 5380.39, 5516.526, 5445.918, 5316.44, 5062.07, 5668.532, 5621.564, 5841.854, 5079.426, 5609.128, 5565.524, 5717.006, 5179.314, 5956.516, 5554.608, 5998.724, 5174.276, 5574.746, 5653.034, 5782.958, 5573.178, 5412.658, 5359.372, 5768.776, 4936.494, 5613.83, 4987.164, 5537.65, 6071.814, 5598.158, 5625.808, 5535.916, 5751.55, 5254.682, 5691.51, 5719.842, 5126.138, 5549.506, 5249.352, 6300.064, 5680.538, 5665.372, 5711.714, 5626.418, 5223.352, 5063.628, 5546.306, 5491.696, 5632.444, 5201.092, 5146.474, 5383.576, 5655.572, 5255.602, 5624.622, 5253.402, 5463.148, 5280.164, 5693.184, 5395.96, 5242.324, 5517.864, 5570.044, 5335.122, 5473.736, 5667.808, 5714.812, 5972.762, 5462.932, 5264.812, 5593.366, 5410.562, 5303.018, 5618.902, 5408.526, 5026.418, 5446.274, 5537.092, 5405.686, 5248.272, 5500.9, 5536.668, 5823.92, 5872.556, 5629.742, 5623.198, 5273.348, 5629.206, 5173.278, 5238.502, 5243.172, 5350.746, 5356.098, 5231.39, 5069.25, 5959.156, 5337.198, 5661.068, 5527.604, 5372.836, 5187.838, 5092.964, 6082.648, 5557.732, 5480.712, 5784.948, 5687.176, 5416.764, 5335.858, 5517.082, 5398.98, 5694.06, 5281.172, 5516.822, 6038.404, 5073.11, 5086.836, 5758.652, 5764.206, 5584.606, 5310.908, 4912.892, 5168.574, 5444.804, 5499.734, 5558.224, 5116.878, 5544.894, 5618.51, 5582.76, 5690.496, 5730.506, 5646.422, 5341.54, 5166.52, 5600.92, 5417.016, 5405.05, 5998.198, 5494.72, 5421.73, 4837.328, 5808.954, 4846.364, 6083.414, 5289.314, 6358.56, 5581.304, 5806.584, 5374.088, 5568.422, 5477.57, 5634.768, 5292.88, 5445.85, 5284.06, 4984.496, 5179.39, 5802.698, 5615.632, 5453.306, 5384.564, 5810.386, 5536.858, 5336.344, 5401.042, 5286.322, 5831.854, 5326.102, 5489.178, 5768.82, 5514.63, 5057.012, 5442.988, 5369.23, 5346.368, 5528.958, 5507.966, 5964.396, 5620.214, 5307.034, 5790.97, 5733.262, 5564.46, 5558.278, 5831.192, 5354.578, 6032.9, 5651.632, 5439.522, 5502.362, 5315.936, 5127.52, 5435.258, 5664.262, 5192.46, 5549.374, 5588.386, 5568.468, 5896.79, 5697.548, 5161.094, 5519.992, 5732.726, 5341.486, 5402.87, 5721.278, 5504.59, 5390.076, 5174.256, 5837.314, 5489.662, 5419.984, 5749.55, 5310.0, 5649.166, 5383.962, 6037.208, 5737.178, 5858.278, 5384.912, 5160.218, 5609.572, 5686.87, 5577.774, 5663.126, 5336.758, 5591.11, 5601.268, 5448.284, 5403.612, 5472.074, 5416.002, 5437.632, 5358.646, 6007.144, 5400.814, 5758.994, 5183.656, 5519.92, 5448.522, 5969.826, 5810.952, 5422.61, 5561.31, 5285.466, 4844.202, 5899.756, 5583.404, 5422.7, 5498.494, 5028.016, 5862.244, 5397.312, 5960.358, 5165.368, 5330.556, 5246.688, 5683.27, 5347.822, 5499.168, 5464.158, 5508.958, 5465.91, 5696.238, 5569.412, 5403.088, 5496.702, 5617.538, 5299.916, 5482.612, 5455.718, 5384.556, 5077.186, 5242.284, 5248.744, 5473.114, 5423.932, 5102.486, 5592.998, 5376.556, 5706.682, 5491.292, 5343.332, 5194.262, 5365.492, 5751.948, 5312.934, 5756.208, 5724.302, 5470.894, 5352.916, 5735.072, 5863.978, 5229.968, 5599.558, 6437.654, 5412.996, 5494.778, 5396.468, 5136.51, 5393.762, 5657.254, 5797.034, 5754.996, 5454.162, 5574.932, 5701.838, 5380.536, 5438.78, 5436.938, 5378.306, 5643.538, 5706.408, 5409.61, 5583.04, 4907.382, 5346.776, 5483.268, 5174.6, 5261.154, 5490.972, 5198.52, 5338.236, 5426.248, 5401.608, 5356.41, 5865.036, 5582.402, 5558.604, 5607.636, 5455.114, 5581.094, 5275.172, 5567.938, 5005.556, 5328.936, 5453.476, 5552.968, 5387.484, 5464.628, 5377.456, 5404.946, 5553.1, 5919.698, 5472.546, 5786.096, 5867.022, 5530.392, 6274.602, 5642.582, 5337.32, 5392.338, 5517.29, 5682.57, 5677.322, 5450.576, 5648.316, 5671.046, 5137.664, 5944.906, 5561.568, 5499.294, 5629.82, 5529.024, 5422.264, 5490.662, 5271.208, 5564.22, 5488.228, 5325.22, 5675.722, 5461.396, 5690.088, 5218.622, 5260.556, 5384.268, 5884.36, 5190.116, 5275.784, 5519.392, 5526.512, 5276.63, 5377.77, 5304.766, 5387.884, 5389.222, 5667.874, 5755.456, 5339.382, 5474.144, 5693.748, 5508.744, 5464.194, 5747.23, 5243.528, 5331.786, 6046.62, 5984.412, 5246.678, 5410.066, 5661.61, 5362.526, 5651.85, 5208.844, 5145.46, 5416.022, 5866.372, 5706.178, 5752.54, 5518.332, 5930.848, 5762.016, 5593.826, 5416.254, 5429.388, 5729.138, 5514.144, 5247.824, 5492.24, 5561.744, 5825.664, 5583.3, 5449.93, 5099.496, 6095.924, 5375.588, 5973.492, 5112.156, 5207.982, 5532.924, 5504.244, 5548.872, 5593.526, 5596.196, 5406.006, 5260.228, 5643.946, 5656.884, 4967.98, 5518.312, 5883.52, 5220.014, 5652.634, 5087.956, 5520.576, 5537.828, 5693.86, 5458.624, 5713.348, 5819.978, 5458.652, 5167.522, 6073.414, 5603.15, 5452.602, 5595.422, 5577.838, 5767.566, 5563.266, 5364.496, 5268.084, 5328.436, 5456.22, 5656.75, 5355.81, 5661.282, 5515.95, 5340.632, 5509.422, 5586.602, 5620.482, 5197.66, 5700.318, 5255.472, 5371.178, 5634.668, 5527.92, 5481.618, 5427.72, 5819.776, 5863.208, 5746.868, 5689.24, 5295.208, 5439.758, 5399.302, 5652.342, 5274.688, 6058.082, 5574.212, 5079.956, 5465.628, 5840.48, 5329.428, 5478.138, 5480.98, 5422.614, 5379.54, 5824.452, 5349.466, 5343.798, 6636.342, 5415.898, 5313.564, 5671.264, 5716.476, 5834.424, 5597.698, 5711.234, 5102.37, 5411.344, 5230.714, 5754.676, 5271.204, 5726.698, 5497.226, 5743.112, 5458.588, 5548.074, 5216.206, 5557.784, 5530.19, 5890.06, 5328.076, 5342.764, 4942.444, 5625.66, 5726.046, 5401.754, 5152.85, 5770.422, 5893.27, 5526.72, 5569.676, 5695.544, 5492.526, 5390.582, 5681.744, 5552.86, 5724.926, 5601.508, 5734.136, 5624.544, 5524.358, 5323.502, 5654.214, 5314.998, 5125.054, 5610.074, 5977.7, 5721.79, 5599.382, 5341.226, 5558.818, 5353.958, 5332.254, 5120.372, 5605.03, 5573.036, 5843.344, 5576.256, 5538.626, 5248.9, 5309.456, 5744.258, 5650.548, 6079.292, 4950.258, 5286.284, 5373.866, 5584.606, 5136.35, 5518.818, 5176.79, 5727.104, 5633.348, 5106.552, 5245.4, 5346.764, 5400.126, 5375.72, 5474.538, 5598.814, 5809.632, 5939.644, 5729.414, 5199.66, 5254.958, 5426.284, 5816.23, 4961.248, 5163.518, 5428.51, 5290.652, 5302.226, 5183.78, 6233.218, 5678.976, 6167.268, 5550.216, 5688.922, 5326.594, 5301.12, 5326.622, 5529.38, 5277.62, 5573.542, 6052.558, 5461.136, 5938.328, 5735.856, 5539.77, 5599.084, 5385.162, 5520.894, 5709.2, 5296.388, 5804.722, 5059.622, 5342.706, 5670.564, 6245.44, 5383.802, 5252.14, 5332.106, 5356.608, 5606.184, 5494.618, 5306.852, 5673.168, 5027.196, 5166.058, 5513.188, 5184.004, 5546.714, 5344.94, 5683.778, 5304.182, 5666.03, 5279.094, 5431.912, 5566.454, 5258.358, 5466.906, 5405.328, 5112.442, 5393.178, 5293.742, 5530.764, 5841.216, 5408.358, 5320.694, 5449.452, 5399.738, 5069.816, 5728.702, 5387.138, 5488.774, 5496.57, 5124.85, 5187.446, 5363.606, 5398.956, 5636.76, 5504.17, 5539.144, 5340.076, 5402.462, 5678.858, 5287.432, 5591.646, 5646.064, 5292.592, 5726.572, 6121.452, 5277.506, 5469.806, 5122.0, 5266.19, 5671.366, 5247.544, 5429.378, 5627.48, 5534.74, 5175.126, 5388.028, 5729.506, 5627.092, 5602.576, 5372.276, 5843.106, 5262.458, 5297.386, 5619.198, 5370.83, 5193.546, 5310.664, 5502.76, 4930.19, 5136.488, 5703.162, 5666.344, 5543.038, 5373.642, 5488.928, 5782.904, 5573.038, 5566.484, 5127.374, 5354.28, 5743.092, 5652.61, 4860.038, 6068.278, 5242.802, 5700.194, 5431.278, 5715.82, 5758.528, 5537.904, 5389.952, 5409.826, 5784.414, 5294.708, 5315.354, 5486.574, 5255.872, 5219.592, 5108.104, 5641.736, 5577.392, 5212.088, 5235.236, 5530.706, 5487.152, 5748.49, 5847.702, 5476.362, 5524.814, 5660.766, 5726.248, 5316.046, 5525.722, 5724.816, 5271.052, 5631.284, 5523.53, 5529.802, 5833.76, 5517.976, 5160.282, 5595.42, 5616.302, 5407.064, 5531.562, 5768.65, 5620.38, 5378.87, 5579.322, 5451.364, 5679.816, 5193.294, 5744.616, 5232.972, 5650.418, 5466.842, 5112.52, 5381.802, 5900.132, 5282.016, 6028.426, 5481.304, 5430.93, 5469.126, 5804.758, 6194.146, 5678.76, 5273.954, 5769.51, 5265.676, 6032.958, 5380.006, 5647.544, 6150.568, 5639.22, 6242.644, 5291.47, 5453.654, 5552.402, 5406.352, 5790.972, 5411.186, 5874.524, 5127.4, 5286.026, 5499.114, 5048.466, 5318.38, 5529.054, 5398.714, 5673.8, 5490.7, 5378.642, 5300.956, 5333.64, 5855.018, 5868.008, 5430.602, 5103.302, 5340.2, 5467.086, 5276.982, 5449.47, 5470.982, 5570.842, 5591.726, 5554.24, 5234.944, 5309.702, 5532.95, 5119.004, 5570.106, 5484.714, 5447.434, 5327.792, 5602.504, 5449.338, 5447.426, 5987.37, 5488.792, 5852.998, 5381.252, 5470.916, 5304.552, 5561.402, 5674.46, 5246.964, 5120.764, 5624.54, 5485.11, 5149.39, 5601.266, 5037.388, 5391.094, 6094.964, 5653.588, 5707.482, 5246.148, 5607.008, 5384.934, 5621.764, 5574.934, 5984.778, 5542.69, 5374.302, 5361.122, 5529.46, 5610.338, 5228.934, 5496.096, 5102.222, 5533.514, 5471.63, 5533.558, 5630.59, 5464.328, 5318.1, 5149.686, 5403.946, 5400.752, 5027.058, 5693.142, 5872.252, 5530.14, 5714.45, 5462.584, 5761.402, 5416.512, 5251.81, 5647.238, 5399.55, 5547.866, 5257.402, 5012.11, 5363.908, 5370.678, 5578.72, 5168.49, 5459.102, 5752.558, 5393.446, 5472.7, 5676.554, 5809.498, 5359.54, 6207.506, 5511.198, 5141.44, 5358.492, 5349.738, 5160.816, 5235.04, 5328.58, 4970.758, 5648.428, 5729.152, 5274.962, 5105.202, 5149.414, 5635.312, 5398.468, 5394.072, 5691.758, 5856.884, 5623.604, 5552.778, 5472.142, 5378.868, 5416.798, 5243.49, 5736.022, 5639.23, 5596.252, 5455.74, 5930.916, 5710.468, 5563.064, 5202.94, 5669.71, 5297.154, 5626.518, 5118.64, 5448.15, 5729.9, 5334.82, 5530.43, 5065.812, 5164.582, 5293.172, 5500.79, 5434.38, 5136.01, 5815.726, 5115.304, 5892.16, 5201.452, 5558.436, 5315.322, 5599.99, 5538.206, 5613.18, 5415.35, 5848.376, 5566.154, 5245.282, 5130.74, 5472.128, 5847.942, 5493.11, 5468.658, 5199.49, 5439.378, 5357.466, 5505.504, 5286.286, 5663.072, 5885.97, 5507.782, 5232.556, 5358.114, 5521.396, 5251.406, 5444.838, 5758.188, 5279.384, 5596.158, 5495.896, 5737.658, 4997.76, 5288.858, 5481.732, 5373.4, 5194.892, 5053.28, 5320.97, 5376.476, 6004.274, 5617.446, 5667.482, 5390.268, 5013.632, 5252.94, 5773.596, 5248.926, 5410.924, 5495.25, 5539.658, 5618.762, 5174.732, 5437.618, 5114.008, 5485.444, 5704.37, 5448.582, 5005.914, 5569.228, 5466.458, 5317.84, 5586.444, 5440.154, 6053.834, 5522.378, 5573.744, 6508.93, 5626.514, 5528.752, 5275.616, 5303.6, 5422.018, 5247.806, 5714.428, 5009.594, 5740.21, 5692.68, 5717.114, 5477.758, 6151.586, 5641.24, 5189.616, 5779.948, 5306.448, 5188.426, 5788.174, 5699.158, 5467.786, 5490.154, 5462.374, 5353.912, 5548.234, 5388.002, 5823.68, 5445.744, 5794.142, 5462.592, 5574.768, 5494.196, 5345.9, 5473.666, 6338.936, 5182.064, 5163.878, 5597.058, 5647.35, 5126.376, 5564.294, 6045.398, 5556.524, 5394.882, 5530.386, 5282.796, 5560.37, 5232.204, 5152.186, 5593.9, 5305.238, 5619.41, 5358.466, 5719.062, 5661.844, 5410.18, 5708.932, 5321.958, 5327.93, 5935.508, 5077.068, 5187.174, 5419.796, 5433.706, 5392.92, 5822.194, 5406.166, 5493.102, 4980.896, 5406.75, 5335.294, 5415.752, 5438.772, 5202.342, 5510.94, 5254.5, 5964.876, 5463.232, 5110.24, 5920.802, 5437.19, 6084.458, 5453.962, 5607.964, 5625.27, 5335.202, 5747.284, 5346.93, 5988.234, 5270.264, 5989.478, 5870.168, 5620.356, 5471.204, 5485.872, 5263.788, 5779.794, 5448.972, 5328.142, 5166.766, 5606.572, 5873.396, 5305.484, 5510.304, 5598.82, 5314.356, 5055.488, 5483.79, 5669.754, 5498.056, 5577.07, 5526.814, 5483.09, 5426.586, 5326.654, 6061.978, 5675.748, 5186.496, 5553.348, 5816.566, 5419.852, 5649.652, 5547.392, 5286.878, 5875.104, 5330.216, 5156.052, 5754.892, 5472.556, 5562.544, 5717.976, 5397.512, 5534.796, 5489.57, 5658.886, 5730.376, 5476.928, 5437.4, 5540.708, 5173.406, 5495.214, 5660.942, 5725.446, 5593.16, 5595.198, 5549.892, 5686.174, 5511.014, 5427.654, 5594.358, 5816.128, 5238.102, 5413.826, 5183.1, 5527.922, 4906.206, 5618.496, 5738.874, 5200.226, 5554.736, 5541.87, 5599.072, 5093.966, 5123.572, 5464.31, 5321.326, 5494.766, 5847.3, 5527.136, 5389.648, 5841.394, 5267.666, 5237.654, 5799.352, 5461.024, 5565.79, 5555.608, 5407.57, 5537.232, 5736.574, 5474.132, 5433.004, 5101.634, 5577.808, 5072.804, 5481.746, 5552.214, 5653.296, 5265.676, 6020.326, 5742.54, 5348.806, 5382.364, 5583.626, 5836.82, 5538.974, 5666.252, 5647.234, 5524.002, 5706.204, 5583.008, 5456.556, 5600.496, 5898.49, 5243.004, 5513.33, 5568.31, 5461.602, 5306.524, 4802.246, 5261.086, 5448.25, 5935.008, 5578.748, 5202.868, 5376.4, 5254.422, 5252.218, 5258.386, 5642.34, 5715.874, 6119.298, 6077.28, 5862.106, 5277.076, 5531.262, 5198.074, 5277.152, 5636.158, 6070.936, 4973.538, 5332.116, 5323.102, 5351.948, 5511.362, 5368.664, 5520.6, 5398.848, 5155.782, 5672.844, 5268.412, 5761.408, 5969.834, 5479.628, 5333.242, 5225.854, 5508.804, 5252.832, 5646.47, 6044.988, 5495.608, 5408.584, 5726.464, 5463.054, 5746.64, 5616.432, 5584.056, 5896.52, 5020.244, 5339.952, 5658.442, 5720.088, 5761.892, 5249.99, 5402.946, 5587.218, 5989.316, 5768.254, 5445.306, 5393.07, 5986.076, 5402.322, 5296.038, 5162.424, 5199.46, 5582.86, 5464.938, 5761.522, 6284.634, 5946.76, 5383.958, 5543.904, 5518.126, 6073.386, 5291.28, 5635.458, 6005.14, 5783.63, 5663.84, 5113.464, 5315.54, 5476.3, 5759.484, 5370.796, 5484.36, 5306.688, 5572.032, 5339.686, 5748.344, 5402.302, 5772.148, 5628.866, 5539.226, 6094.62, 5696.724, 5424.632, 5214.924, 5737.614, 5011.286, 5507.96, 5233.952, 5698.62, 5835.93, 5466.564, 5498.994, 5268.28, 5017.794, 5413.76, 5560.756, 5751.51, 5431.782, 5996.062, 5603.16, 5575.946, 5585.412, 5491.324, 5607.396, 5320.454, 5874.532, 5477.784, 5698.288, 5336.892, 5523.518, 5204.938, 5213.468, 5790.752, 5381.588, 5218.48, 5597.922, 5782.828, 5708.878, 5558.136, 5262.054, 5528.026, 5501.126, 5623.41, 5270.488, 5384.632, 5538.224, 5458.11, 5121.932, 5313.918, 5516.706, 5318.296, 5838.896, 5322.522, 5633.28, 5509.774, 5980.884, 5418.702, 5729.332, 4867.27, 6291.82, 5512.468, 5248.044, 5345.506, 5323.028, 5590.282, 5383.67, 5756.272, 5556.528, 5654.224, 5391.214, 5623.972, 5605.288, 5697.544, 5372.764, 5219.92, 5496.708, 5244.91, 5985.58, 5275.02, 5397.57, 5423.414, 5057.864, 5863.034, 5370.33, 5221.304, 5976.904, 5783.408, 5123.204, 5214.494, 5195.728, 5693.536, 5925.332, 5371.726, 5571.964, 5798.706, 5119.158, 5673.198, 5509.206, 5423.73, 5534.44, 5329.212, 5164.834, 5519.658, 5496.57, 5417.772, 5541.062, 5691.486, 5540.874, 5394.044, 5280.098, 5393.916, 5336.044, 5437.348, 5568.47, 5567.792, 5496.604, 5634.524, 5232.752, 5727.044, 5531.676, 5819.086, 5421.47, 5466.86, 5686.796, 5027.596, 5567.952, 5366.75, 5424.416, 5371.516, 5608.304, 5345.934, 5563.294, 5434.444, 5283.714, 5494.59, 5758.796, 5494.818, 5210.518, 5804.452, 5033.128, 5373.254, 5588.724, 5973.066, 5179.938, 5133.968, 5596.818, 5358.052, 5596.376, 5580.382, 5618.41, 5679.232, 6613.532, 5409.516, 5252.986, 5496.304, 5353.526, 5681.326, 5646.78, 6170.968, 5705.24, 5253.55, 5432.248, 5230.286, 5770.256, 5487.516, 5303.93, 5806.694, 5333.148, 5795.886, 5918.034, 5150.918, 5331.032, 5789.294, 5618.014, 5833.556, 5748.822, 5741.87, 5330.976, 6285.76, 5302.184, 5398.05, 5272.836, 5622.736, 5307.104, 5530.564, 5261.682, 5514.294, 5541.032, 5605.044, 5569.288, 5733.256, 5965.444, 5225.286, 5317.82, 6076.63, 5167.126, 5322.832, 5657.628, 5586.922, 5358.732, 5795.992, 5594.53, 5271.108, 5074.306, 5568.866, 5268.67, 5569.134, 5657.366, 5832.208, 5388.298, 5807.9, 5390.704, 5205.128, 5674.994, 5362.72, 5075.106, 5323.29, 5702.082, 5489.854, 5462.82, 5590.222, 5579.622, 5651.838, 5912.466, 5549.92, 5172.714, 5540.864, 5629.96, 5478.564, 6107.054, 5454.706, 5483.714, 5685.82, 5083.058, 5789.286, 5810.312, 5276.17, 5447.59, 4934.68, 5420.178, 5757.872, 5319.35, 5463.954, 5790.004, 5282.096, 5516.962, 5755.796, 5253.392, 5375.626, 5525.222, 5544.952, 5371.336, 5755.866, 5450.336, 5462.29, 5357.146, 5437.36, 6024.038, 5499.674, 5749.546, 5287.266, 4941.15, 5267.384, 5700.644, 5405.746, 5503.358, 6160.428, 5607.78, 5417.588, 5365.406, 5431.398, 5769.692, 5283.786, 5138.79, 5387.354, 5624.376, 5165.126, 5779.942, 5401.146, 5479.808, 5495.756, 5395.888, 5688.432, 5689.132, 5511.564, 5388.962, 5051.424, 5679.972, 5452.23, 5865.004, 5134.924, 5112.468, 5104.784, 5404.774, 4908.768, 5278.076, 5703.024, 5028.338, 6146.666, 5510.288, 5755.872, 5631.938, 5480.28, 5187.606, 5603.76, 5369.338, 5274.072, 5832.134, 6118.774, 5703.158, 5598.158, 5356.84, 5305.926, 5951.84, 5803.872, 5377.93, 5696.79, 5410.74, 5350.102, 5666.012, 5193.638, 5386.4, 5640.284, 6027.666, 5494.188, 5571.134, 5755.884, 5468.93, 5879.366, 5347.148, 5790.512, 5052.656, 5375.286, 5543.236, 5780.408, 5529.27, 5667.566, 5202.256, 5660.262, 5403.506, 5487.624, 5618.502, 5470.796, 5289.532, 5666.472, 5458.672, 5529.702, 5360.592, 5547.18, 5526.426, 5176.396, 5507.49, 5635.506, 5235.848, 5215.754, 5065.27, 4997.418, 6121.572, 5419.916, 5257.99, 5318.404, 5581.25, 5216.802, 5224.716, 5437.724, 5729.526, 5575.882, 5637.252, 5157.052, 5728.532, 5192.312, 5659.46, 5435.75, 5408.42, 5442.986, 5609.358, 5896.426, 5388.922, 5590.908, 5486.55, 6293.386, 5530.936, 5631.392, 5002.548, 5579.932, 4863.53, 5684.67, 5724.824, 5333.088, 5331.178, 5373.19, 5292.16, 5530.496, 5244.542, 5410.298, 5132.592, 5378.718, 5252.184, 5432.782, 5686.708, 5395.094, 5504.424, 5419.402, 5330.346, 5198.288, 5882.714, 5889.754, 5457.298, 5815.882, 5954.64, 5564.068, 5664.036, 5618.348, 5327.246, 5439.648, 5454.144, 5365.284, 5434.208, 5702.87, 5495.87, 5464.438, 5086.344, 5403.058, 5643.99, 5636.734, 5635.264, 5577.946, 5276.694, 5350.784, 6036.408, 5348.132, 5099.436, 5492.836, 5722.666, 5255.838, 5378.43, 5134.644, 5423.696, 5328.824, 5382.49, 5543.6, 6022.624, 5528.682, 5107.136, 5498.482, 5269.888, 5185.246, 5728.56, 5330.044, 5383.774, 5398.136, 5915.528, 5420.49, 5362.168, 5519.002, 5413.922, 5207.162, 5227.576, 5832.196, 5571.44, 5705.032, 5160.388, 5306.998, 5614.678, 5454.848, 5488.898, 5698.944, 5299.522, 4983.734, 5189.648, 5134.308, 5083.17, 5237.54, 5284.424, 5579.106, 5356.638, 5541.992, 5707.464, 5157.03, 5917.808, 5577.948, 5470.822, 5483.93, 5416.454, 5872.24, 5393.68, 5689.626, 5334.546, 5851.292, 5737.174, 5218.996, 5551.042, 5505.67, 5552.082, 5276.338, 5412.756, 5656.442, 5423.606, 5201.654, 6181.31, 5512.684, 5494.588, 6037.636, 5408.318, 5173.812, 5577.66, 5378.478, 5617.656, 5511.464, 5514.134, 5750.264, 5595.996, 5721.906, 5733.776, 5289.386, 5323.7, 5864.788, 5459.548, 5159.188, 5677.276, 5633.246, 5628.514, 5961.752, 5360.99, 5407.258, 5678.822, 5567.61, 5387.154, 5360.304, 5707.326, 5338.624, 6040.896, 5398.856, 5563.436, 5342.308, 5512.892, 5447.864, 5297.026, 5528.704, 5573.892, 5464.642, 5847.772, 5552.158, 5369.33, 5572.69, 5434.364, 5345.63, 5751.488, 6063.858, 5239.96, 5337.126, 5503.8, 5200.726, 5572.61, 5140.286, 5564.352, 5607.72, 5371.728, 5211.088, 5374.198, 5969.432, 5528.152, 5697.482, 5411.338, 5651.692, 5533.094, 5621.706, 5442.324, 5437.524, 5410.174, 5397.67, 5459.842, 5202.958, 5644.094, 5677.444, 5521.384, 5454.678, 5431.12, 4970.376, 5596.152, 5619.39, 5479.446, 5716.106, 5258.444, 5594.63, 5445.258, 5154.798, 5290.362, 5735.806, 5578.322, 5563.712, 5831.068, 5559.62, 5711.658, 5228.134, 5443.718, 5522.85, 5718.084, 5162.508, 5641.454, 5559.298, 6023.452, 5427.104, 5368.9, 5162.838, 5447.534, 5818.824, 5479.434, 6039.556, 5506.072, 5438.764, 5496.058, 5352.804, 5362.962, 5658.544, 5253.74, 5508.764, 5375.93, 5941.22, 5539.276, 5728.02, 5305.782, 5294.642, 5174.344, 5142.69, 5456.144, 5323.034, 6191.236, 5508.256, 5409.134, 5559.222, 5156.504, 5408.668, 5844.804, 5349.664, 5841.758, 5906.456, 5445.464, 5368.864, 5444.82, 5259.678, 5717.512, 5448.584, 5236.064, 5273.374, 5676.376, 5074.352, 5446.622, 5412.138, 5601.51, 5568.012, 5296.16, 5575.354, 5503.616, 5515.082, 5297.916, 5224.874, 5623.108, 5560.372, 5447.962, 5344.79, 5144.056, 5623.596, 5279.696, 5112.592, 5772.722, 5460.418, 5640.588, 5056.964, 5291.656, 5148.602, 5984.36, 5804.516, 5708.65, 5354.176, 5326.17, 5949.454, 5528.514, 5358.354, 5695.676, 5781.552, 5850.984, 5277.306, 5461.31, 5655.292, 5744.044, 5210.104, 5349.566, 5329.4, 5501.626, 5446.574, 5727.806, 5183.348, 5985.428, 6110.112, 5165.832, 5607.286, 5627.792, 5306.016, 5310.374, 5546.766, 5592.15, 5405.484, 5522.658, 5512.85, 5152.912, 5572.114, 5600.976, 5679.83, 5706.07, 5734.342, 5387.488, 5735.058, 5361.21, 5291.502, 5659.304, 5304.376, 5440.958, 5730.642, 5251.796, 5469.12, 5317.25, 5564.128, 6032.358, 5828.702, 5623.66, 5725.784, 5491.412, 5572.156, 5308.274, 5529.598, 5330.356, 5358.93, 5711.9, 5639.756, 5501.036, 5708.656, 5673.562, 5339.142, 5707.962, 5527.492, 6107.014, 5441.886, 5182.97, 5162.524, 5279.558, 5738.486, 5072.88, 5495.07, 5506.016, 5245.106, 5552.484, 5430.624, 5431.272, 5320.728, 5879.034, 5587.072, 5162.756, 5582.186, 5468.184, 5579.198, 5243.874, 5456.232, 5751.368, 5181.764, 5321.398, 5438.298, 4917.72, 5486.338, 5207.008, 5371.782, 5548.818, 5211.364, 5514.318, 5811.71, 5520.598, 5819.354, 5339.916, 5700.764, 5635.03, 5637.494, 5576.914, 5684.712, 5704.448, 5439.162, 5350.82, 5578.802, 5784.832, 5234.328, 5270.23, 4836.074, 5283.786, 5641.56, 5413.732, 5669.754, 5260.948, 5682.218, 5748.604, 5653.858, 5691.998, 5130.978, 5433.416, 5891.372, 5231.546, 5462.658, 5029.028, 4966.266, 5585.226, 5248.082, 5589.89, 6015.82, 5292.252, 5489.76, 5224.66, 5547.748, 5245.226, 5526.586, 5417.582, 6158.076, 5013.93, 5296.276, 5622.552, 5403.162, 5613.954, 5831.898, 5606.782, 5612.32, 5430.4, 5749.144, 5453.34, 5662.458, 6013.406, 5880.628, 5406.076, 5200.436, 5265.904, 5682.604, 5388.93, 5326.864, 5737.414, 5244.16, 5711.944, 5885.802, 5446.644, 5388.522, 5377.058, 6012.644, 5780.946, 5631.242, 5434.546, 5184.792, 5679.164, 5498.136, 5144.488, 5272.546, 5438.272, 5361.046, 5418.618, 5885.702, 5804.072, 5490.76, 5382.018, 5572.936, 5254.42, 5421.394, 5611.882, 5623.642, 5370.464, 5471.558, 5581.408, 5722.152, 5260.222, 5640.352, 5510.49, 5056.678, 5601.3, 5319.956, 5025.082, 5191.98, 5429.784, 5104.098, 6152.504, 5557.55, 5885.16, 5705.008, 5358.466, 5898.802, 5458.048, 5542.576, 5197.53, 5510.574, 5454.446, 5376.296, 5374.65, 5381.738, 5775.028, 5196.448, 5351.05, 5259.508, 5255.554, 5934.8, 5950.148, 5567.272, 5551.732, 6277.976, 5651.002, 5690.37, 5436.67, 5259.89, 5247.1, 5244.524, 5336.458, 5955.616, 5114.936, 5539.01, 5406.442, 5230.906, 5497.056, 5584.716, 5146.128, 5792.234, 5146.914, 5621.856, 5413.034, 5757.334, 5730.81, 5754.332, 5398.452, 5402.946, 5153.884, 5306.598, 5351.432, 5401.218, 5483.488, 5450.626, 5088.722, 5284.236, 5904.228, 5186.674, 5208.784, 5331.156, 5826.454, 5389.472, 5459.694, 5554.618, 5575.45, 5076.286, 5324.452, 5350.674, 5392.888, 5387.978, 5300.614, 5470.438, 5529.322, 5338.212, 5817.892, 5475.444, 5170.328, 5482.468, 5145.934, 5563.968, 5679.578, 5691.452, 5324.832, 5486.362, 5157.384, 5482.646, 5494.746, 5374.75, 5498.376, 4970.832, 5503.576, 5643.32, 5539.63, 5911.92, 5439.626, 5553.4, 5367.672, 5034.502, 6161.17, 5449.516, 5755.676, 5204.034, 5379.274, 5668.292, 5287.522, 5337.806, 5622.734, 5375.254, 5354.476, 5758.158, 5600.746, 5733.514, 5662.45, 5300.76, 5288.456, 5108.228, 5502.802, 5345.304, 5667.948, 5932.954, 5290.124, 5453.998, 5790.536, 5627.182, 5789.464, 5163.618, 5319.256, 5890.964, 5602.828, 5218.786, 5067.074, 5320.294, 5598.62, 5469.722, 5272.86, 4868.346, 5570.808, 5889.636, 5488.234, 5720.526, 5386.824, 5537.212, 5430.488, 5190.208, 5373.75, 5645.8, 5730.876, 5701.628, 5401.312, 5381.43, 5537.142, 5516.068, 5312.874, 5840.916, 5512.21, 5916.014, 5532.734, 5444.892, 5475.292, 5538.494, 6010.956, 6395.336, 5444.376, 5350.978, 6012.032, 5695.198, 5710.788, 5101.532, 5264.592, 5476.19, 5397.578, 5429.064, 5224.048, 5464.56, 5566.7, 5671.834, 5438.226, 5111.55, 5254.376, 5271.246, 5254.23, 6029.222, 5210.164, 5130.022, 5307.59, 5529.612, 5099.124, 5878.862, 5705.84, 5278.392, 5634.482, 5172.15, 5548.674, 5413.084, 5559.28, 5693.41, 5367.432, 5543.008, 5258.662, 5223.866, 5112.846, 5740.654, 5370.57, 5306.512, 5002.674, 5317.72, 5260.538, 5521.384, 5466.028, 6027.846, 5706.844, 5041.09, 6157.542, 5361.314, 5806.4, 5001.212, 5507.21, 5354.88, 5492.424, 5396.63, 5549.858, 5370.948, 5269.942, 5437.592, 5419.812, 5845.448, 5319.61, 5643.518, 5208.248, 5661.792, 5465.648, 5399.862, 5677.162, 5464.97, 5586.36, 5468.188, 5455.16, 5616.98, 5886.784, 5483.39, 6130.378, 5261.322, 5402.902, 5237.178, 5352.702, 5273.384, 5423.258, 5559.28, 5570.54, 5303.014, 5626.868, 5180.928, 5576.914, 5316.748, 5948.476, 5361.274, 5412.65, 5901.178, 4954.694, 5437.166, 5819.602, 5949.066, 5291.902, 5361.212, 5653.016, 5540.704, 5582.032, 5335.776, 5909.466, 5657.672, 5973.436, 5226.464, 5430.612, 5378.314, 5609.878, 5698.798, 5247.248, 5738.532, 5186.736, 5217.812, 5576.614, 5564.086, 5463.294, 5546.618, 5601.992, 5150.616, 5340.692, 5816.79, 5326.446, 5259.094, 5458.792, 5314.598, 5506.876, 5125.05, 5134.928, 5791.632, 5456.452, 5699.528, 5421.754, 5627.234, 5234.922, 5500.274, 5415.374, 5817.24, 5562.846, 6113.56, 6135.842, 5146.91, 5540.138, 5589.294, 5836.334, 5652.868, 5250.652, 5075.8, 5256.424, 5339.91, 5498.34, 5753.186, 5515.444, 5603.788, 5437.378, 5466.612, 5441.61, 5804.598, 5542.032, 5266.414, 5641.168, 5499.048, 5351.814, 5130.454, 5311.304, 5267.2, 5851.028, 5385.76, 5567.474, 5313.616, 5363.95, 5405.92, 5717.714, 5268.966, 5557.658, 5945.178, 5689.264, 5303.652, 5126.722, 5767.884, 5479.55, 5827.734, 5567.946, 5719.42, 5921.424, 5332.316, 4999.192, 5437.522, 5344.69, 5661.552, 5772.9, 5713.17, 5556.922, 5178.454, 5545.43, 5284.682, 5848.936, 5486.434, 5250.628, 5708.328, 5278.4, 5642.0, 5375.414, 5744.994, 5452.662, 5128.728, 5385.49, 6176.558, 5191.672, 4949.018, 5610.582, 5440.112, 5279.278, 5171.554, 5627.972, 5745.708, 4951.456, 5730.456, 5534.794, 5306.094, 5594.11, 5369.196, 5139.252, 5311.508, 5191.752, 5495.506, 5882.248, 5230.392, 5247.32, 5747.06, 5326.112, 5532.942, 5551.974, 5551.104, 5470.42, 5133.098, 5797.858, 5666.954, 5482.46, 5565.678, 5453.21, 5248.194, 5769.046, 5392.322, 5198.768, 5850.35, 5675.644, 5353.222, 5573.482, 6059.85, 5372.676, 5468.37, 5329.48, 5033.96, 5272.4, 5439.156, 5705.04, 5433.718, 5732.938, 5798.446, 5392.962, 5392.904, 5493.158, 5321.432, 5598.444, 5742.204, 5831.088, 5420.208, 5183.9, 5224.776, 5460.92, 5439.016, 5216.518, 5575.418, 5356.952, 5674.292, 5517.702, 5488.656, 5260.938, 5309.318, 5531.4, 5212.964, 5611.982, 5685.464, 5249.352, 5508.712, 5353.972, 5638.674, 5222.536, 5447.54, 5457.9, 4712.638, 5618.788, 5086.436, 5811.256, 5273.404, 5368.602, 5566.318, 5631.04, 5739.6, 5022.7, 5740.01, 5504.084, 5299.23, 5421.66, 5765.096, 5162.98, 5462.02, 5496.844, 5248.914, 5616.678, 5271.702, 5219.172, 5161.426, 5878.468, 5317.042, 5708.892, 5350.836, 5435.188, 5474.792, 5687.718, 6008.424, 5334.176, 5676.726, 5682.03, 5365.86, 5408.9, 5666.146, 5656.012, 5836.632, 5360.638, 5433.932, 5094.388, 5547.75, 6119.288, 5470.56, 5702.404, 5095.652, 5240.452, 5698.884, 5760.502, 5784.792, 5783.594, 5854.414, 5273.516, 5626.026, 5357.182, 5336.554, 5686.08, 5804.034, 6074.766, 6057.97, 5236.046, 5588.47, 5088.242, 5891.362, 5656.63, 5782.82, 5948.23, 5561.432, 5451.114, 5383.6, 5421.446, 5444.836, 5345.41, 5161.062, 5548.54, 5183.158, 5547.71, 5544.832, 5974.92, 5432.764, 5270.964, 5123.766, 5514.168, 5259.524, 5238.472, 5622.43, 5179.294, 6113.63, 5487.434, 5420.388, 5706.39, 5396.146, 5425.486, 5490.992, 5187.286, 5258.052, 5090.158, 5506.008, 5522.716, 5666.356, 5637.312, 5154.418, 5367.814, 5439.996, 5687.99, 5393.624, 6231.13, 5388.81, 5370.716, 5735.682, 5565.436, 5347.648, 5810.33, 5476.066, 5385.262, 5567.95, 5660.77, 5901.58, 5693.276, 6072.836, 5275.184, 5237.634, 5431.128, 5674.462, 5024.758, 5779.726, 5869.51, 5486.676, 5762.65, 5653.4, 5350.148, 5129.29, 5509.816, 5735.842, 5654.958, 5445.628, 5479.198, 5264.218, 5926.258, 5509.016, 5362.56, 5712.62, 5588.678, 5704.95, 5430.358, 5387.532, 5253.06, 5265.226, 5283.254, 5011.65, 5311.252, 5464.996, 5193.25, 5539.8, 5516.334, 5677.074, 5390.142, 5645.208, 5694.658, 5206.886, 5339.668, 5443.33, 5582.236, 5357.008, 5338.476, 5706.07, 5601.768, 5421.022, 5188.104, 5449.33, 4957.18, 5376.784, 5495.234, 5618.164, 5229.736, 5659.924, 5435.852, 5336.162, 5671.396, 5266.584, 4897.7, 4980.38, 4988.682, 5835.27, 5207.928, 5946.8, 5233.132, 5561.51, 5170.394, 5403.622, 5479.786, 5848.516, 5302.586, 5530.364, 5621.568, 5476.472, 5787.208, 5995.408, 5811.034, 5317.42, 5637.776, 4931.176, 5952.996, 5207.77, 5787.718, 5735.76, 5725.64, 5974.274, 5420.516, 5219.78, 5899.34, 6003.676, 5489.44, 5567.364, 5257.952, 5150.608, 5231.23, 5718.412, 5249.748, 5614.542, 5651.906, 5023.43, 5560.954, 6011.186, 5718.702, 5532.35, 5392.266, 5618.036, 5133.354, 5506.88, 5586.382, 5439.948, 5561.732, 5712.74, 5520.806, 4945.83, 5160.968, 5440.764, 5520.156, 5592.8, 5304.312, 5482.352, 5236.484, 5797.1, 5357.716, 6038.766, 5062.278, 5608.228, 6019.62, 5158.344, 5480.95, 5732.952, 5574.248, 5655.472, 5078.6, 5424.488, 5444.97, 5458.402, 5454.374, 5355.682, 5381.178, 5525.082, 5243.652, 5616.186, 5799.146, 5667.986, 5841.612, 5569.186, 5222.672, 5550.542, 5438.312, 5604.836, 5537.298, 5319.29, 5532.466, 5373.078, 5340.906, 6022.684, 5560.338, 5700.302, 5636.306, 5395.9, 5595.448, 6081.234, 5790.694, 5403.244, 5349.748, 5197.052, 5415.618, 4938.586, 5454.962, 5442.006, 5916.824, 5422.602, 5303.606, 5645.962, 5610.73, 5765.034, 5137.914, 5565.686, 5491.378, 5805.568, 5361.57, 5579.818, 5841.144, 5502.986, 5329.102, 5396.178, 5530.646, 6038.862, 5838.212, 5535.398, 5349.538, 5856.004, 5705.456, 5175.248, 5800.23, 5650.674, 5353.144, 5155.41, 5457.29, 5075.858, 5459.636, 5392.272, 6234.068, 5332.444, 5922.868, 5657.822, 5215.458, 5616.112, 5111.184, 5734.186, 5880.652, 5335.078, 5926.302, 5757.89, 5169.972, 5307.232, 5237.416, 5335.942, 5432.798, 5432.24, 5517.12, 5895.934, 5566.53, 5519.67, 5429.938, 5515.684, 5523.216, 5508.602, 5692.794, 5374.516, 5452.978, 5742.92, 5367.348, 5701.108, 5218.412, 5394.204, 5237.208, 5362.398, 5325.732, 5300.052, 5442.538, 5704.206, 5056.262, 5314.57, 5216.46, 5375.096, 5511.288, 5368.384, 5453.88, 5671.546, 5562.956, 5467.592, 5546.616, 5678.086, 5488.918, 5274.436, 5725.108, 5297.802, 5370.376, 5436.136, 6024.494, 5465.482, 5591.988, 5498.054, 5468.616, 5409.732, 5775.924, 5500.532, 5637.674, 5449.226, 5591.826, 5667.072, 5711.624, 5604.53, 5868.28, 5263.886, 5540.554, 5718.454, 5717.218, 5411.31, 5749.494, 5583.02, 5366.556, 5323.398, 5553.04, 5260.56, 5068.522, 5402.54, 5656.564, 5165.052, 5399.938, 5516.18, 5117.422, 5200.12, 5721.578, 5714.052, 5537.8, 5598.13, 5252.644, 5583.64, 5216.964, 5140.382, 5219.554, 5714.218, 5768.414, 5578.148, 5489.658, 5473.372, 5375.528, 5530.104, 5265.398, 5455.45, 5873.072, 6352.606, 5516.116, 5763.966, 5461.178, 5192.194, 5385.082, 5155.216, 5367.87, 5134.68, 5230.54, 5381.418, 5619.494, 5316.594, 5670.578, 5272.302, 5398.85, 5504.414, 5347.37, 5429.286, 5566.18, 5436.3, 5307.996, 5955.392, 5180.216, 5232.4, 5834.67, 5300.382, 5728.602, 5500.508, 6136.29, 5574.966, 5517.974, 5657.87, 5679.66, 5511.812, 5502.824, 5157.64, 6005.55, 5761.506, 5095.242, 5576.586, 5219.904, 5858.526, 5519.916, 5674.852, 5198.2, 5595.722, 5885.174, 5513.924, 5594.868, 5429.432, 5416.548, 5603.958, 5416.644, 5607.122, 6068.416, 5026.824, 5365.338, 5361.972, 5536.624, 5700.104, 5535.048, 5534.392, 5802.258, 5061.742, 5463.092, 5771.842, 5599.798, 5789.46, 5590.774, 5413.254, 5482.274, 5300.566, 5722.184, 5509.828, 5509.154, 5191.19, 5502.342, 5967.094, 5791.736, 5417.934, 5825.49, 5247.998, 5703.908, 5613.358, 5336.98, 5274.742, 5300.886, 5440.704, 5275.146, 5615.534, 5276.842, 5396.138, 5640.098, 5530.202, 5765.766, 5591.988, 5311.636, 5368.59, 5783.14, 5915.25, 5793.158, 5612.422, 5393.5, 5724.698, 5570.776, 5362.244, 5231.792, 5484.792, 5434.366, 5193.108, 5447.172, 5942.162, 5506.796, 5487.008, 5307.272, 5599.87, 5933.176, 5788.296, 5802.058, 5477.778, 5459.784, 5389.372, 5247.124, 5818.088, 5955.676, 5723.494, 5110.548, 5596.856, 5329.866, 5460.748, 6077.244, 5761.456, 5307.95, 5292.9, 5477.444, 5065.966, 5308.218, 5426.27, 5480.672, 5279.062, 5526.082, 5637.638, 5515.156, 5113.374, 5776.402, 5237.372, 5458.464, 5119.172, 5818.672, 5450.312, 5441.532, 5431.654, 5334.41, 5153.584, 5730.198, 5331.44, 5531.538, 5147.548, 5198.972, 5598.768, 5358.984, 5298.832, 5314.438, 5588.83, 5354.07, 5674.492, 5372.086, 5696.542, 5313.014, 5472.776, 5799.03, 5990.378, 5394.154, 5346.03, 5351.362, 5548.926, 5321.964, 5487.886, 5214.216, 5279.216, 5409.768, 5449.018, 5481.624, 5236.69, 5503.218, 5574.096, 5501.896, 5329.946, 5340.072, 5274.838, 5153.42, 5015.162, 5754.62, 5692.268, 5272.458, 5320.922, 5579.354, 5728.262, 5225.996, 5382.996, 5469.504, 5454.126, 5763.634, 5262.026, 5767.47, 6189.404, 5598.414, 5438.514, 5314.054, 6003.402, 5241.122, 4933.926, 5489.71, 5439.878, 5295.596, 5723.77, 5251.588, 5576.268, 5299.148, 5422.104, 5531.318, 5352.568, 5520.744, 5462.66, 5480.6, 5874.54, 5798.022, 5217.66, 5550.298, 5734.228, 5229.54, 5579.994, 5154.61, 5738.844, 5569.842, 6138.438, 5280.298, 6016.52, 5477.214, 5286.268, 5134.282, 5209.678, 5628.24, 5115.084, 5408.262, 5746.336, 5393.056, 5046.06, 6026.746, 5830.112, 5487.8, 5061.56, 5680.424, 5761.984, 5443.054, 5596.334, 5760.876, 5361.442, 5562.406, 5375.408, 5299.788, 5319.488, 5502.158, 5483.166, 5965.56, 5411.282, 5347.45, 5445.33, 5557.182, 5344.646, 5984.73, 5617.77, 5958.174, 5672.908, 5224.568, 5666.97, 5128.032, 5581.352, 4813.098, 5950.69, 5367.284, 5660.826, 5374.372, 5660.95, 5307.104, 5428.626, 5404.242, 5507.586, 5291.06, 5603.542, 5581.014, 5598.346, 5776.774, 5571.8, 5408.502, 5686.036, 5431.576, 5653.244, 5538.132, 5251.808, 5755.506, 5618.944, 5860.47, 5555.664, 5501.572, 5398.812, 5031.214, 5259.688, 5575.006, 5579.068, 6065.36, 5293.142, 5612.726, 5507.696, 5888.2, 5490.758, 5462.188, 5411.094, 5508.916, 5541.788, 5402.178, 5445.934, 5913.966, 5244.958, 5325.328, 5705.474, 4962.57, 5519.628, 5450.934, 5532.142, 5560.4, 5409.816, 5506.274, 5754.614, 5431.94, 5452.976, 5067.376, 5329.278, 5675.57, 5637.842, 5834.794, 5678.818, 5534.596, 5211.86, 5506.318, 5394.71, 5554.644, 5729.208, 5922.21, 5493.48, 5379.266, 5645.4, 5407.246, 5513.012, 5559.092, 5010.024, 5384.772, 5515.12, 5610.384, 5394.166, 5642.344, 5260.764, 5454.236, 4965.818, 6306.744, 5205.19, 5781.61, 5429.202, 5650.022, 5983.164, 5400.336, 5413.12, 5657.652, 5754.876, 5425.21, 5666.47, 5878.384, 5471.604, 5706.606, 5289.74, 5597.148, 5603.23, 5873.112, 5457.204, 5742.27, 5710.358, 5301.618, 5319.786, 5506.814, 5540.174, 5276.708, 5419.216, 5263.312, 5494.942, 5026.114, 5863.98, 5744.914, 5351.158, 5677.902, 5359.782, 5278.438, 5066.214, 5243.702, 5677.208, 5915.936, 5213.732, 5405.216, 5581.602, 5792.238, 5419.74, 5421.164, 5091.48, 5689.816, 5422.26, 5343.592, 5233.556, 5593.11, 5551.826, 5565.262, 5778.49, 5868.85, 5445.402, 5673.066, 5196.212, 5202.884, 5351.576, 5668.778, 5214.046, 5459.982, 5293.64, 5289.002, 6067.686, 5469.852, 5647.884, 5040.97, 5356.586, 5421.956, 5502.998, 5382.27, 5512.05, 5258.928, 5461.196, 5284.82, 5332.662, 5396.084, 5258.95, 5949.79, 5560.106, 5430.198, 5632.884, 5432.98, 5414.052, 5392.388, 5239.65, 5480.92, 5296.982, 5573.376, 5613.234, 5364.814, 5670.894, 5660.878, 5711.976, 5578.648, 5147.14, 5471.852, 5232.83, 5424.394, 5472.222, 5556.074, 5302.168, 5319.288, 5247.398, 5401.122, 5530.476, 5566.13, 5527.39, 5263.16, 5922.818, 5841.476, 5352.988, 5867.202, 5614.744, 5435.072, 5336.378, 5498.366, 5007.306, 5496.952, 5136.274, 5490.164, 6057.796, 5489.148, 5234.306, 5519.646, 5372.168, 5431.362, 5613.378, 5600.196, 5083.218, 5713.99, 5244.13, 5459.846, 5292.65, 5484.692, 5312.452, 5501.846, 5684.08, 5474.712, 6000.894, 5460.068, 6268.192, 5334.888, 5311.574, 5375.052, 5254.23, 5500.324, 5436.872, 5263.708, 5882.692, 5896.858, 5233.174, 5528.71, 5577.332, 5686.238, 5447.716, 5489.344, 5388.974, 5788.58, 5316.608, 5763.98, 5498.87, 5334.528, 5568.178, 5251.436, 4914.53, 5686.204, 5413.564, 5049.454, 5225.296, 5241.57, 5481.078, 5336.374, 5728.414, 5207.3, 5321.524, 5396.836, 5694.68, 5426.39, 5564.614, 5654.182, 5583.782, 5187.366, 5293.71, 5092.618, 5589.522, 5472.77, 5341.434, 5598.162, 5489.384, 5596.81, 5448.652, 5662.786, 5500.182, 5144.048, 5326.248, 5476.91, 5515.964, 5622.054, 5621.57, 5570.778, 5173.302, 5030.364, 5811.036, 5559.796, 5594.844, 5528.904, 5699.646, 5635.576, 5588.616, 5272.556, 5700.642, 5718.712, 5196.312, 5663.492, 5689.258, 5685.958, 5407.706, 5850.822, 5554.262, 5523.226, 5738.232, 5268.352, 5799.48, 5495.876, 5739.97, 5443.604, 5614.636, 5575.218, 5619.96, 5439.304, 5778.332, 6071.534, 5318.86, 5459.98, 5469.994, 5587.408, 5393.876, 5523.696, 6026.95, 5455.984, 5399.084, 5080.96, 6639.994, 5142.374, 5432.736, 6033.864, 5246.508, 5455.314, 5869.44, 5424.628, 5424.638, 5930.734, 5437.768, 4997.692, 5156.374, 5973.376, 5354.382, 5229.708, 5201.102, 5222.496, 5281.59, 5771.426, 5832.516, 6113.2, 5793.85, 5205.198, 5822.808, 5497.284, 5549.678, 5713.1, 5586.172, 5705.95, 5826.626, 5535.696, 5591.99, 5490.164, 5832.144, 5550.288, 5174.29, 5708.384, 5264.354, 4897.712, 5388.556, 5570.892, 5654.67, 5360.356, 5584.956, 5120.606, 5471.756, 5619.484, 5316.426, 5425.096, 5127.692, 5593.066, 5475.37, 5458.41, 5705.332, 5722.57, 5554.886, 5470.314, 5515.662, 5833.192, 5433.148, 5461.918, 5785.542, 5095.822, 5551.374, 5277.062, 5297.054, 5506.302, 5436.336, 5663.468, 5625.646, 5383.176, 5273.958, 5530.028, 5594.992, 5667.218, 5516.622, 5638.942, 5622.432, 5310.32, 5408.342, 5720.028, 5478.388, 5379.474, 5608.76, 5446.676, 5380.008, 5257.824, 5995.368, 5166.656, 5634.532, 6144.64, 5632.304, 5678.228, 5850.658, 5808.97, 5693.428, 5141.27, 6026.11, 5602.022, 5728.624, 5549.076, 5451.758, 5416.308, 5974.934, 5171.22, 5653.416, 5403.54, 5406.886, 5442.496, 5686.904, 5600.832, 5129.708, 5291.256, 5639.454, 5547.008, 5307.328, 6071.878, 5779.33, 5547.564, 5905.964, 4853.694, 5413.244, 5293.844, 5733.03, 5737.078, 5671.604, 5191.26, 5448.898, 5022.544, 5616.936, 5556.27, 5357.338, 5147.888, 5953.99, 5378.152, 5480.272, 5249.628, 5523.89, 5662.622, 5329.826, 5285.722, 5399.33, 6177.526, 5150.582, 5310.522, 5379.168, 5136.742, 5713.134, 5654.564, 5114.216, 5342.1, 5548.318, 5403.874, 5590.284, 5186.742, 5253.798, 5274.39, 5488.964, 5236.1, 5871.214, 5338.738, 5397.074, 5848.596, 5417.232, 5488.934, 5594.016, 4962.76, 5348.288, 5638.564, 5109.074, 5739.062, 5270.406, 5340.366, 5666.258, 5330.18, 5388.078, 5624.288, 5425.866, 5564.696, 5188.232, 5626.804, 5606.412, 5728.922, 5740.058, 5215.126, 5794.056, 5484.928, 5241.36, 5630.726, 5705.088, 5259.182, 5208.58, 5317.69, 5801.678, 5087.67, 5671.182, 5245.51, 5011.55, 5821.544, 5537.97, 5754.008, 5588.62, 5411.074, 5618.266, 5301.302, 5380.926, 5365.536, 5632.172, 5360.558, 5606.494, 5206.384, 5409.058, 5825.736, 5594.682, 5356.01, 5381.408, 5262.548, 5424.8, 5752.398, 5332.736, 5624.412, 5618.744, 5900.69, 5600.162, 5574.086, 5510.326, 5536.14, 5682.9, 5665.056, 5004.982, 5519.6, 5490.742, 5605.768, 5924.03, 5818.842, 5712.018, 5347.256, 5362.544, 5583.63, 5503.212, 5424.876, 5571.836, 5347.938, 5640.744, 5467.244, 5512.882, 5523.382, 5441.936, 5437.58, 6141.438, 5489.31, 5199.248, 5380.024, 5598.664, 5245.798, 5847.598, 5608.696, 5595.108, 5496.516, 5271.578, 5728.97, 5535.386, 5926.508, 5410.026, 5439.344, 5760.842, 6061.66, 5371.822, 5740.078, 5459.79, 5131.036, 5626.524, 5508.74, 5071.976, 5332.52, 5524.134, 5181.87, 5813.798, 5096.202, 5289.98, 5701.156, 5742.362, 5315.534, 5541.454, 5382.19, 5389.532, 5128.862, 5192.738, 5694.806, 5543.872, 5421.978, 5400.442, 5482.61, 5547.53, 5570.46, 5255.098, 5802.08, 5550.786, 5508.328, 5537.634, 5478.474, 5459.066, 6189.568, 5150.938, 5019.72, 5363.084, 5639.85, 5685.154, 5260.066, 5213.606, 5550.404, 5754.266, 5341.762, 5617.436, 5283.872, 5349.128, 5295.468, 5764.692, 5489.04, 5562.362, 5657.238, 5597.292, 5301.866, 5672.942, 4881.62, 5342.132, 5678.266, 5746.66, 5515.55, 5528.736, 5672.512, 5159.764, 5500.948, 5816.708, 6060.456, 5096.726, 5322.538, 5696.29, 5171.794, 5249.448, 5658.074, 5590.938, 5405.812, 5341.63, 5566.324, 5485.162, 5409.718, 5552.956, 5328.958, 5557.846, 5353.772, 5245.622, 5078.792, 5505.284, 5259.038, 5500.986, 5741.37, 5142.568, 5013.144, 5109.978, 5763.538, 5749.044, 5032.566, 5190.81, 5833.258, 5207.008, 5301.98, 5587.676, 5763.326, 5351.016, 5176.898, 5016.566, 5678.284, 5176.728, 5314.922, 5673.246, 5131.786, 5701.788, 5539.416, 6054.526, 4880.97, 5977.94, 5317.198, 6284.154, 5583.168, 5096.734, 5677.648, 5763.606, 5453.84, 5751.122, 5759.216, 5720.312, 5288.428, 5470.468, 5544.35, 5730.468, 5418.496, 5406.91, 5743.154, 5671.012, 5682.118, 5969.93, 5241.888, 5566.428, 5894.514, 5565.496, 5244.946, 5274.634, 5469.592, 5793.418, 5270.816, 5467.08, 5498.29, 5763.104, 5453.064, 5859.548, 5584.964, 5573.278, 5612.732, 5361.538, 6070.06, 5765.94, 5652.13, 5953.894, 5217.628, 5799.238, 5581.202, 5257.32, 5547.16, 6124.074, 5713.342, 5564.332, 6029.824, 5301.436, 5175.622, 5988.614, 5720.016, 5620.37, 5796.936, 5340.814, 5429.278, 5432.78, 5753.812, 5814.692, 4994.022, 5761.974, 5519.33, 5842.778, 5512.796, 5547.122, 5488.7, 5799.452, 5470.604, 5716.12, 5553.89, 5502.468, 5790.244, 5471.758, 5426.074, 5818.312, 5947.11, 5408.562, 5843.916, 5214.97, 5777.194, 5877.258, 5825.062, 5084.768, 5706.432, 5416.348, 5525.984, 5613.406, 5495.37, 5402.654, 5243.89, 5517.304, 5436.254, 5259.562, 5903.288, 5228.672, 5514.462, 5404.81, 5767.652, 5496.558, 5678.108, 5730.812, 5211.236, 5268.002, 5631.556, 5480.248, 5515.422, 5131.342, 5618.606, 5393.326, 5754.138, 5561.82, 5583.504, 5429.92, 5540.38, 5922.144, 5463.462, 5631.76, 5582.262, 6085.198, 5647.596, 5748.966, 5269.394, 5650.098, 5411.04, 5503.622, 5128.752, 5201.014, 5427.238, 5417.464, 5530.592, 5539.838, 5303.42, 5622.104, 5444.958, 5787.098, 5485.414, 5517.934, 5501.15, 5238.686, 5512.67, 5231.066, 5097.486, 5621.48, 5038.266, 6156.644, 5315.844, 5392.042, 5654.322, 5497.354, 5725.55, 5737.726, 5850.236, 5644.278, 5345.852, 5342.56, 6034.028, 5243.312, 5334.3, 5448.928, 5588.576, 5179.426, 5358.82, 5645.196, 5384.994, 6159.104, 4800.414, 5843.122, 5414.136, 5570.074, 5685.964, 5292.36, 5303.614, 5231.524, 5301.098, 5482.36, 5180.564, 5519.212, 5703.778, 5310.072, 5581.066, 5437.29, 5819.61, 5268.716, 5661.626, 5445.034, 5591.152, 5459.502, 5267.638, 5340.878, 5660.82, 5392.618, 5199.064, 5594.886, 5073.054, 5370.11, 5184.764, 5736.142, 5736.012, 5381.056, 5511.962, 5492.716, 5523.996, 6262.166, 5953.412, 5476.514, 5649.058, 5565.864, 5669.494, 5465.612, 5230.964, 5502.374, 5415.284, 6066.766, 5309.95, 5347.626, 5748.034, 5444.398, 5833.41, 5296.24, 5300.306, 5511.996, 5473.544, 5415.334, 5500.25, 5409.218, 5584.93, 5614.008, 5685.14, 5287.968, 5792.454, 5315.748, 5395.156, 5118.432, 5403.462, 5264.012, 5349.228, 5381.744, 5620.002, 5626.792, 5828.484, 5591.83, 5794.046, 5521.134, 5533.306, 5736.786, 5562.27, 5256.618, 5191.686, 5528.018, 5362.436, 5663.064, 5391.57, 5538.482, 5351.94, 5973.374, 5759.856, 5842.656, 5346.804, 5744.77, 5658.224, 5723.58, 5747.076, 5708.152, 5645.676, 5158.626, 5756.122, 4810.724, 5640.462, 6345.286, 5872.404, 5618.624, 5528.924, 5738.622, 5265.154, 5386.166, 4942.824, 5454.512, 5638.11, 5433.276, 5459.362, 5331.61, 5223.832, 5316.16, 5894.442, 5351.674, 5670.608, 5380.62, 5454.45, 5614.82, 5570.096, 5540.91, 5511.934, 5438.85, 5636.746, 5260.908, 5529.574, 5549.56, 5627.074, 5402.908, 5489.836, 5385.202, 5402.968, 5537.832, 5200.368, 5285.604, 5423.572, 5478.898, 5330.78, 5895.736, 5498.628, 5761.948, 5160.066, 5696.072, 5767.074, 5247.99, 5498.308, 5498.412, 5744.664, 5202.17, 5322.266, 5336.494, 5590.878, 5420.006, 5781.79, 6081.714, 5425.304, 5395.372, 5518.744, 5365.106, 5230.052, 5626.902, 5363.442, 6105.022, 5504.612, 5856.972, 5323.724, 5430.328, 5304.454, 5436.734, 5535.958, 5458.318, 5321.518, 5361.986, 5274.392, 5648.652, 6291.948, 5643.39, 5766.07, 5760.854, 5180.244, 5326.038, 5428.682, 5249.12, 5563.358, 5061.86, 5598.814, 5467.814, 5152.204, 5249.352, 5381.72, 5287.21, 5697.396, 5526.13, 5416.758, 5402.338, 5267.27, 5323.424, 6478.712, 5174.078, 5259.756, 5456.304, 5141.086, 5417.47, 5580.234, 5483.87, 5693.296, 5710.626, 5667.7, 5284.504, 5546.274, 5613.95, 5541.694, 5295.52, 5246.684, 5448.616, 5803.628, 5604.38, 5024.748, 5496.712, 5394.908, 5424.898, 5917.09, 5584.938, 5399.436, 5457.032, 5586.062, 5696.256, 5155.884, 5432.674, 5316.062, 4965.294, 5572.862, 5692.366, 5420.334, 5831.134, 5454.848, 5265.716, 5634.274, 5687.396, 5991.83, 5205.038, 5171.674, 5105.288, 5742.792, 5462.42, 5630.118, 5076.11, 6643.612, 5043.134, 5814.126, 5268.154, 5581.532, 5209.72, 5662.926, 5241.718, 5216.588, 5630.572, 5203.996, 4829.648, 5578.208, 5420.638, 5448.272, 5948.06, 5854.124, 5417.43, 5701.754, 5617.898, 5379.736, 5645.328, 5186.546, 5332.906, 6041.074, 5093.288, 5334.974, 5423.662, 4967.27, 5743.86, 5476.77, 5485.282, 5710.648, 5501.834, 5559.57, 5612.36, 5348.916, 5609.97, 5418.442, 5182.096, 5048.782, 5164.242, 5313.12, 5808.308, 5456.97, 5650.298, 5271.454, 5777.108, 5502.956, 5298.036, 5029.518, 5295.618, 5518.174, 5452.05, 5549.998, 5302.332, 5872.41, 5497.404, 5184.572, 5369.48, 5737.312, 5612.624, 5405.742, 5573.368, 5599.354, 5591.456, 5545.508, 5533.728, 4919.544, 5759.13, 5276.964, 5700.154, 5533.074, 5552.736, 5639.318, 5385.234, 5034.556, 5467.426, 5298.072, 5597.252, 5413.692, 5219.354, 5409.62, 5577.276, 5411.276, 5448.924, 5576.476, 5466.694, 5330.204, 5553.63, 5644.622, 5225.544, 5779.554, 5530.744, 5692.774, 6100.952, 5500.772, 5293.51, 5632.01, 5472.784, 5793.042, 5262.464, 5402.77, 5541.82, 5560.17, 5721.71, 6160.78, 5104.766, 5656.458, 5452.434, 5717.012, 5412.074, 5518.564, 5569.942, 5756.264, 5228.506, 5095.684, 5617.24, 5527.01, 5167.694, 5394.34, 5776.73, 5303.494, 5530.088, 5184.14, 5317.9, 5520.13, 5895.34, 5347.526, 5521.42, 5550.524, 5445.5, 5272.358, 5727.358, 5647.838, 5598.1, 5564.052, 6250.782, 5558.526, 5410.444, 5153.4, 5603.608, 5214.722, 5728.862, 5322.636, 5268.262, 5239.188, 5716.114, 5971.126, 5328.128, 5465.652, 5273.524, 5469.792, 5385.89, 5318.082, 5487.358, 5230.82, 5559.186, 5509.452, 5610.442, 5421.206, 5632.194, 5343.13, 5374.046, 5153.352, 5419.7, 5808.388, 5221.304, 5494.396, 5807.148, 5799.286, 5213.652, 5680.686, 5467.426, 5335.244, 5417.528, 5586.608, 5407.952, 5631.384, 6320.786, 5135.084, 5580.12, 6027.034, 5434.744, 5522.348, 5637.432, 6226.3, 5325.398, 5603.84, 5585.75, 5481.222, 6026.898, 5547.148, 5122.448, 5328.318, 5284.88, 5765.068, 5171.724, 5085.882, 5224.682, 5247.814, 5717.712, 5356.58, 5503.036, 5400.444, 5266.12, 5747.802, 5406.774, 5776.068, 5353.95, 5573.964, 5402.99, 5403.542, 5366.112, 5274.792, 5215.8, 5493.868, 5068.41, 5452.116, 6067.702, 5683.92, 5357.206, 5900.45, 5620.238, 5900.138, 5092.44, 6107.828, 5155.272, 5834.68, 5722.232, 5519.694, 5831.946, 5471.87, 5532.64, 5210.276, 5453.168, 5290.792, 5903.078, 5410.432, 5358.874, 5152.434, 5608.992, 5199.464, 5837.038, 5600.292, 5855.496, 5523.942, 5510.376, 5494.712, 5387.392, 5385.768, 5712.256, 5542.614, 5523.916, 5521.594, 5593.248, 5521.25, 5374.682, 5230.712, 6156.596, 5517.32, 5699.33, 5651.146, 5612.482, 5536.582, 5623.362, 5440.294, 5718.168, 5678.472, 5557.466, 5660.188, 5663.194, 5161.486, 5594.92, 5642.51, 5174.996, 5464.568, 5464.922, 5170.234, 5633.494, 5538.812, 5609.044, 5490.71, 5644.746, 5134.058, 5173.556, 5367.522, 5462.456, 5489.782, 5701.856, 5858.976, 5629.372, 5321.602, 5306.654, 5302.244, 5587.854, 5406.902, 5516.356, 5123.104, 5289.36, 5680.976, 5483.082, 5806.856, 5283.816, 5795.676, 5823.09, 6044.64, 5481.39, 5506.926, 5361.612, 5561.122, 5025.102, 5669.75, 5302.916, 5494.43, 5249.328, 5456.448, 5345.554, 5509.674, 5756.018, 5312.922, 5428.3, 5514.384, 5783.98, 5014.286, 5156.27, 5501.354, 5284.932, 5074.77, 5558.972, 5878.204, 5265.036, 5684.59, 5776.746, 5701.022, 5570.076, 5480.812, 5378.06, 5089.596, 5286.58, 5489.88, 5345.202, 5694.77, 5212.138, 5466.908, 5177.266, 5225.358, 5242.298, 5832.504, 5418.874, 5367.456, 5522.79, 5348.56, 5520.814, 5650.134, 5371.574, 5329.714, 5641.568, 5342.544, 5140.058, 5381.454, 6107.976, 5566.98, 5628.616, 5882.164, 5458.084, 5602.47, 5762.18, 5616.264, 5431.07, 5495.008, 5316.718, 5351.228, 6207.28, 5576.962, 5493.784, 5293.108, 5508.616, 5765.34, 5307.642, 5708.526, 5441.664, 5623.904, 5288.874, 5609.268, 5303.01, 5510.094, 5175.022, 5370.936, 5531.482, 5526.656, 5414.482, 5692.222, 5305.134, 5685.244, 5545.966, 5493.966, 5415.418, 5630.32, 5627.98, 5406.962, 5335.964, 5492.26, 5599.594, 5313.994, 5857.564, 5238.866, 5353.096, 5224.15, 5347.246, 5478.776, 5616.928, 5162.97, 5199.016, 5192.154, 5348.87, 5664.334, 5433.396, 5538.034, 5509.732, 5490.946, 5386.304, 5577.966, 5656.774, 5741.81, 5744.3, 5463.532, 5633.916, 5231.084, 6002.994, 5342.594, 5226.036, 5323.092, 5212.72, 5533.212, 5583.694, 5187.546, 5515.348, 5435.866, 5869.546, 5563.438, 5467.126, 5709.82, 5370.482, 5019.892, 5632.096, 5590.226, 5409.912, 5367.092, 5861.736, 5430.1, 5692.0, 5472.588, 5466.118, 5499.48, 5348.774, 5675.714, 5355.156, 5557.394, 5506.254, 5092.566, 5570.428, 5286.596, 5515.904, 5655.132, 5577.38, 5829.218, 5578.686, 5403.376, 5387.604, 5554.578, 5249.13, 5095.458, 5810.882, 5308.862, 5345.486, 5704.312, 5560.362, 5331.658, 5639.3, 5721.72, 5210.844, 5451.042, 6287.412, 5171.154, 5302.402, 5419.974, 5675.464, 5418.59, 5633.052, 6033.724, 5217.878, 5411.07, 5638.334, 5613.132, 5264.742, 5465.008, 5623.55, 5592.304, 5412.504, 5928.998, 5361.27, 5520.066, 5260.98, 4890.61, 5467.57, 4940.404, 5235.868, 5528.942, 5511.38, 5765.51, 5563.74, 5703.834, 5521.87, 5387.6, 5285.6, 5813.826, 4979.794, 5523.932, 5400.08, 5770.476, 5560.284, 5462.42, 5450.668, 4907.714, 5521.24, 5571.268, 5306.46, 5455.41, 5632.354, 5263.82, 5291.07, 5332.112, 5496.158, 6299.87, 5503.688, 5298.592, 5456.81, 5732.534, 5526.45, 5187.208, 5309.104, 5533.064, 5619.144, 5702.932, 5373.092, 5698.996, 5371.308, 5096.674, 5352.186, 5467.888, 6097.302, 5452.114, 5409.384, 5731.626, 5548.2, 5365.526, 5050.3, 5582.47, 5453.026, 5679.634, 5501.668, 5413.112, 5424.062, 5079.216, 5775.714, 5093.33, 5115.644, 5398.912, 5568.244, 5122.202, 5905.492, 5463.33, 5372.986, 5182.384, 6014.17, 5459.228, 5309.76, 5290.232, 5506.528, 5417.494, 5413.298, 5748.714, 5101.128, 5515.238, 5552.974, 5721.96, 5341.468, 5768.624, 5349.828, 5742.356, 5534.886, 5473.926, 5856.496, 5706.56, 5376.45, 5450.408, 5436.532, 5441.08, 5336.306, 5715.864, 5483.196, 5622.756, 5482.586, 5019.568, 5272.106, 5253.516, 5766.772, 5282.832, 5439.342, 5632.698, 5383.704, 5087.764, 5499.608, 5560.082, 5011.686, 5800.392, 5504.232, 5492.654, 5376.936, 5028.382, 5344.808, 5234.56, 5606.716, 5610.62, 5663.16, 5562.954, 5330.804, 5505.052, 5082.43, 5417.754, 5087.456, 5613.264, 5645.916, 5290.046, 5355.564, 5681.146, 6250.95, 5456.738, 5476.796, 5489.258, 5427.912, 5296.34, 5693.922, 5693.534, 5494.406, 5117.68, 5767.832, 5247.888, 5565.656, 5715.416, 5694.13, 5273.774, 5272.77, 5241.27, 5387.254, 5619.516, 5764.126, 5542.642, 5441.324, 5197.446, 5653.794, 5486.43, 5560.41, 6072.336, 5292.466, 5308.126, 5448.062, 5554.68, 5359.956, 5463.386, 5360.206, 5442.384, 5180.898, 5457.528, 5867.356, 5246.124, 5246.582, 5498.896, 5668.958, 5333.422, 5586.808, 5319.352, 5636.758, 5579.242, 5406.732, 5740.972, 5423.824, 5478.102, 5128.802, 5446.64, 6080.204, 5327.756, 5388.968, 5569.162, 5265.444, 5392.696, 5359.282, 5290.68, 5769.356, 5387.516, 5150.452, 5609.762, 5652.132, 5407.21, 5094.076, 5503.89, 5232.64, 5694.67, 5553.258, 5502.514, 5523.024, 5496.876, 5154.636, 5227.96, 5258.974, 5281.452, 5303.308, 5732.484, 5671.876, 5532.956, 5387.676, 5301.842, 5539.692, 5219.618, 5806.754, 5249.614, 5716.762, 5862.374, 5541.14, 5888.658, 5526.752, 5347.424, 5406.502, 5684.662, 5393.092, 5516.736, 5704.754, 5641.35, 5351.776, 5588.906, 5526.158, 5768.998, 5662.674, 5259.324, 5710.494, 5363.218, 5425.838, 5603.274, 5563.882, 5483.956, 5488.898, 5378.94, 5651.038, 5665.168, 5999.718, 5446.75, 5230.848, 5663.014, 5446.768, 5131.03, 5413.026, 5314.95, 5403.796, 5564.25, 5535.47, 5597.864, 5376.572, 5551.096, 5876.124, 5193.792, 5673.002, 5378.358, 5390.584, 5481.506, 5768.758, 5334.284, 5809.346, 5340.92, 5405.192, 5754.17, 6188.848, 5373.896, 5715.896, 5526.364, 5702.748, 5699.892, 5800.718, 5210.8, 5828.49, 5715.048, 5545.484, 5887.926, 5750.682, 5073.586, 5668.656, 5746.784, 5166.25, 5017.384, 5189.174, 5514.69, 5856.38, 5927.176, 5207.358, 5708.854, 5498.058, 5294.242, 5604.762, 5608.95, 5572.592, 6013.862, 5155.752, 5149.808, 5428.054, 5242.99, 5302.654, 5947.612, 5551.06, 5352.652, 6019.508, 5712.99, 5399.584, 5373.888, 5314.014, 5563.152, 5369.224, 5548.776, 5416.572, 5439.946, 5467.22, 5150.432, 5267.246, 5385.514, 5453.978, 5947.528, 5441.576, 5554.922, 5321.272, 5906.454, 5529.56, 5805.316, 5695.422, 5350.75, 5634.686, 5469.47, 5195.526, 5334.634, 5189.688, 5403.558, 5343.648, 5452.38, 5716.29, 5183.6, 5502.854, 5237.244, 4948.352, 5385.994, 5826.92, 5731.172, 5545.068, 5541.234, 5586.35, 5611.784, 5390.59, 5374.188, 5423.02, 6439.448, 5426.634, 5452.806, 5382.066, 5243.13, 5449.88, 5768.818, 5414.006, 5662.128, 5320.952, 5702.824, 5436.154, 5687.53, 5374.16, 5460.732, 5574.89, 5689.288, 5479.59, 5437.72, 4946.61, 5511.004, 5374.86, 5564.134, 5386.528, 5095.782, 5404.47, 5294.824, 5748.976, 5650.852, 5559.43, 5533.162, 5729.804, 5848.19, 5364.16, 5130.202, 5303.822, 5655.782, 5006.96, 5264.846, 5111.6, 5386.026, 5546.26, 5823.322, 5439.582, 5318.76, 5611.256, 5501.564, 5485.104, 5611.25, 5335.944, 5671.01, 5499.496, 5296.366, 5668.492, 5398.63, 5471.306, 5344.016, 5748.694, 5475.616, 5518.484, 5371.25, 5244.398, 5110.946, 5267.518, 4732.292, 5296.4, 5044.168, 6115.528, 5239.878, 5623.784, 4973.228, 5143.234, 5114.958, 5669.5, 5758.534, 5248.706, 5425.244, 5378.894, 5885.05, 5756.726, 5430.966, 5607.44, 5509.694, 5626.6, 5303.88, 5583.4, 5783.892, 5335.302, 5066.576, 5589.76, 5689.432, 5532.348, 5361.304, 5099.6, 5211.726, 5551.506, 5594.014, 5177.656, 5955.576, 5633.774, 5660.52, 5388.696, 5214.684, 5728.288, 5309.564, 5497.054, 5598.036, 5728.452, 5742.386, 6111.252, 5603.972, 5735.96, 5361.64, 5436.898, 5088.48, 5581.818, 5467.248, 5609.872, 5296.652, 5173.156, 5412.302, 5460.49, 5529.126, 5674.428, 5395.718, 5681.328, 5472.342, 5367.034, 5348.502, 5856.676, 5072.326, 5267.688, 5607.072, 5607.174, 5334.026, 5492.86, 5320.792, 5277.936, 5665.066, 5607.152, 5419.832, 5229.316, 5433.62, 5598.484, 5824.596, 5187.96, 5538.438, 5375.214, 5246.492, 5699.036, 5725.56, 5779.782, 5160.992, 5186.99, 5432.444, 5691.994, 5578.588, 5048.272, 5547.24, 5303.17, 5598.358, 5864.544, 5307.316, 5297.146, 5421.17, 5493.732, 5296.326, 5303.228, 5568.398, 5679.698, 5606.266, 5415.318, 5811.944, 5733.324, 5392.798, 5644.982, 5255.854, 5333.934, 5412.016, 5016.356, 5468.784, 5392.908, 5446.842, 5238.258, 5666.252, 5557.558, 5303.542, 5104.508, 5455.752, 5268.506, 5293.448, 5755.246, 5299.52, 5458.488, 5345.874, 5544.262, 5487.104, 5324.664, 5525.386, 5356.362, 5580.02, 5504.464, 5331.554, 5927.688, 5446.302, 5249.59, 5890.006, 5692.684, 5059.062, 5696.678, 5607.264, 5533.138, 5269.748, 5733.36, 5390.5, 5261.078, 5984.552, 5620.56, 5281.472, 5423.662, 5167.642, 5358.298, 5242.946, 5398.986, 5403.126, 5602.172, 5290.722, 5409.3, 5050.91, 5579.414, 5351.546, 5095.24, 5177.432, 5241.816, 5340.41, 5638.696, 5615.016, 5316.242, 5642.024, 5454.914, 5376.35, 5089.388, 5636.784, 5341.966, 5404.886, 5200.508, 5414.044, 5419.57, 5744.76, 5211.518, 5224.458, 5236.508, 5728.086, 5495.986, 5486.264, 5240.228, 5340.146, 5117.694, 6037.942, 5302.99, 5288.868, 5768.306, 5476.938, 5592.33, 5475.85, 5436.198, 5637.274, 5814.454, 5482.474, 5254.986, 5682.028, 5238.798, 5096.268, 5843.572, 5184.408, 5863.492, 5494.98, 5471.536, 5342.23, 5716.98, 5015.244, 5534.184, 5575.066, 5866.41, 5083.644, 5269.052, 5362.076, 5786.48, 5526.006, 5391.932, 5602.094, 5268.114, 5355.448, 5378.672, 5431.124, 5244.256, 5344.786, 6146.016, 5152.684, 5463.792, 5554.826, 5522.03, 5695.67, 5695.132, 5419.366, 5374.342, 5824.976, 5497.654, 5528.11, 5434.188, 5695.146, 5977.618, 5608.774, 5510.754, 5247.594, 5374.604, 5228.292, 5468.366, 5805.052, 5493.0, 5519.178, 6216.59, 5382.798, 5308.364, 5481.672, 5526.24, 5538.87, 5306.628, 5279.196, 5509.456, 5411.286, 5775.94, 5554.794, 4998.94, 5472.008, 5807.814, 5481.636, 5821.276, 5590.678, 5080.406, 5638.352, 5570.048, 5545.922, 5471.162, 5822.156, 5215.078, 5932.618, 5543.44, 5788.106, 5703.666, 5233.778, 5489.272, 5641.256, 5153.502, 5358.102, 5752.402, 5418.594, 5705.81, 5710.072, 5668.128, 5448.656, 5066.87, 5318.108, 5230.602, 5658.686, 5471.314, 5936.554, 4961.034, 5580.958, 5338.088, 5585.688, 5381.4, 5811.054, 5629.856, 5700.468, 5448.882, 5517.142, 5482.622, 5613.096, 5794.052, 5606.514, 5662.734, 5443.38, 5313.526, 5407.026, 5645.772, 5843.118, 5465.998, 5661.06, 5286.644, 5822.696, 5470.164, 5307.956, 5256.928, 5892.684, 5792.414, 5822.31, 5472.57, 5266.84, 5569.52, 5659.544, 5379.298, 5605.954, 5401.322, 5618.978, 5009.394, 5854.408, 5086.51, 5314.948, 5421.886, 5623.882, 5541.156, 5487.306, 5163.584, 5394.494, 5440.764, 5362.292, 5353.872, 5267.944, 5664.724, 5510.174, 4998.414, 5681.16, 5366.726, 5444.896, 5607.984, 5250.758, 5436.502, 5231.134, 5170.894, 5630.58, 5112.434, 5493.744, 5383.98, 5107.352, 5658.284, 5062.326, 5344.62, 5870.564, 5590.096, 5407.238, 5746.636, 5527.2, 5890.71, 5607.344, 5375.534, 5218.468, 5476.632, 5643.536, 5388.866, 5497.186, 5372.638, 5244.39, 5537.264, 5780.64, 5174.346, 5359.37, 5460.474, 5329.642, 5776.948, 5261.12, 6202.618, 5506.216, 5590.912, 5304.182, 5371.27, 5457.264, 5623.938, 5045.218, 5319.826, 5697.76, 5365.366, 5509.26, 5768.204, 5722.904, 5198.202, 5695.304, 5464.424, 5202.462, 5385.574, 5194.044, 5917.182, 5181.384, 5167.692, 5443.46, 5501.234, 5768.486, 5359.136, 5684.582, 5548.114, 5612.678, 5805.132, 5205.852, 5733.136, 5484.864, 5787.988, 5815.324, 5811.672, 5450.35, 5575.724, 5843.538, 6031.97, 5345.066, 5193.428, 5315.38, 5317.66, 5479.47, 5691.358, 5419.61, 5444.766, 5597.86, 5739.13, 5715.726, 5284.944, 5439.342, 5698.858, 5402.654, 5612.234, 5400.89, 5256.808, 5483.27, 5783.72, 5628.928, 5568.48, 5763.33, 5165.578, 5292.234, 5731.186, 5272.03, 4972.492, 5881.402, 5811.116, 5772.976, 5318.52, 5421.166, 5527.414, 5399.156, 5201.354, 5780.33, 5755.972, 5566.2, 5250.65, 5324.888, 5674.478, 5323.78, 5528.254, 5605.268, 5328.314, 5756.724, 5807.454, 5362.658, 5690.73, 5482.682, 5216.798, 5516.338, 5659.712, 5730.908, 5992.888, 5395.588, 5417.51, 5673.73, 5370.18, 5789.212, 5254.996, 5757.754, 5208.032, 5716.588, 5549.294, 5278.816, 5313.288, 5454.746, 5382.552, 5222.96, 5445.506, 5256.778, 5660.034, 6345.636, 6279.106, 5775.48, 5554.236, 5523.924, 5586.936, 5193.314, 5550.824, 5244.274, 5317.062, 5757.894, 5628.458, 5979.788, 5275.18, 5648.85, 5766.486, 5104.902, 5548.924, 5299.176, 5762.074, 5242.308, 5090.328, 5685.34, 5434.848, 5175.146, 5464.31, 5425.698, 5901.406, 5441.802, 5451.736, 5813.39, 5614.66, 5604.878, 5781.182, 5862.44, 5362.346, 5596.66, 5891.426, 5197.904, 5453.004, 5341.248, 5882.318, 5433.796, 5416.35, 5242.834, 5192.126, 5431.726, 5655.164, 5614.898, 5081.956, 5497.002, 5369.026, 5793.81, 5430.554, 5689.39, 5440.752, 6107.006, 5543.294, 5608.132, 5870.068, 5299.496, 5327.616, 5443.204, 5424.784, 5772.8, 5567.988, 5496.504, 5858.614, 5455.202, 5381.168, 5287.346, 5282.918, 5382.106, 5850.242, 5704.208, 5494.614, 5516.324, 5275.88, 5610.504, 5216.758, 5171.944, 5485.272, 5469.0, 5744.682, 5764.154, 5232.622, 5285.51, 5358.394, 5217.176, 5152.54, 5449.938, 5876.884, 5822.398, 5381.444, 5554.112, 6015.242, 5496.838, 5132.0, 5594.748, 5469.18, 5613.45, 5477.11, 5219.566, 5479.712, 5327.714, 5400.992, 5331.176, 5348.454, 5538.686, 5019.618, 5821.58, 5547.75, 5518.836, 5671.046, 5448.126, 5369.806, 5419.284, 5445.792, 5473.108, 5254.25, 4955.026, 5533.03, 5570.228, 5537.134, 5317.442, 5478.3, 5446.878, 5628.876, 5318.36, 5192.928, 5769.072, 5453.408, 5650.908, 5426.174, 5452.172, 5373.106, 5386.73, 5443.974, 5475.748, 4958.198, 5951.962, 5436.344, 5254.822, 5597.226, 5556.126, 5319.24, 5573.578, 5639.686, 5461.958, 6144.248, 5668.386, 5471.646, 5590.384, 5366.01, 5644.428, 5418.748, 5805.11, 5584.99, 5317.638, 5160.018, 5243.114, 5653.028, 5982.722, 5754.78, 5778.054, 5083.68, 5322.134, 5527.622, 5340.37, 5506.184, 6127.056, 5138.62, 5354.082, 5535.704, 5436.498, 5797.362, 5567.786, 5455.136, 5453.128, 5307.004, 5496.11, 5591.274, 5181.742, 5861.024, 5656.842, 5544.74, 5301.546, 5518.542, 5957.868, 5700.91, 5501.028, 5911.388, 5239.094, 5699.196, 5201.42, 5070.886, 5685.98, 5819.062, 5642.202, 5494.942, 5180.098, 5878.342, 5424.798, 5373.78, 5790.678, 5140.956, 5297.848, 5424.42, 5654.676, 5544.33, 4947.496, 5612.78, 5812.046, 5528.342, 5468.542, 5750.882, 5552.21, 5420.2, 5812.808, 5160.964, 5311.976, 5413.644, 5885.108, 5768.696, 5316.984, 5576.458, 5605.076, 5951.34, 5045.092, 5208.27, 5574.59, 5352.124, 5260.546, 5874.354, 5704.176, 5887.764, 5439.892, 5341.47, 5271.82, 5245.42, 5066.802, 5659.282, 5636.032, 5362.924, 5723.126, 5983.772, 5337.78, 5408.622, 5336.234, 5422.842, 5190.188, 5555.878, 5914.892, 5413.214, 5464.914, 5213.016, 5921.106, 5317.422, 5573.864, 5617.162, 5221.256, 5293.378, 5764.052, 5643.284, 5804.646, 5514.87, 5501.62, 5658.112, 5404.444, 5272.98, 5230.056, 5448.804, 5787.842, 6088.722, 5638.78, 5983.246, 5055.18, 6027.574, 5479.898, 5554.672, 5691.25, 5824.622, 5437.778, 5345.51, 5382.902, 5480.386, 5269.928, 5358.346, 5522.598, 5628.872, 6337.48, 5051.71, 5065.83, 5487.19, 5285.056, 5626.21, 5666.516, 5443.506, 5542.05, 5399.542, 5263.574, 5745.154, 5358.59, 5696.936, 5396.668, 6011.854, 5526.224, 5280.382, 5514.326, 5417.844, 5861.132, 5551.556, 5795.762, 5319.944, 5170.902, 5752.226, 5458.274, 5703.068, 5550.92, 5138.862, 5126.718, 5791.466, 4967.63, 5518.172, 5892.402, 5500.892, 5413.102, 4936.772, 5345.71, 5975.094, 5342.346, 5741.964, 5461.08, 5203.08, 5593.106, 5463.312, 4856.354, 5501.576, 5243.586, 6050.96, 5359.756, 5577.51, 6029.244, 5383.952, 5683.786, 5314.024, 5403.092, 5531.316, 5026.716, 5497.214, 5582.63, 5538.372, 5862.394, 5461.55, 5316.02, 5419.478, 5424.418, 5543.246, 5316.076, 5585.014, 5380.758, 5346.766, 5719.886, 5559.652, 5591.64, 5786.616, 5410.078, 5226.988, 5727.524, 5893.798, 5396.894, 5702.8, 5548.742, 5488.526, 5013.348, 5337.33, 5395.65, 5128.922, 5830.61, 5439.616, 5178.168, 4919.292, 5186.536, 5232.13, 5065.158, 5179.056, 5162.782, 5561.286, 5664.576, 4940.698, 5997.228, 5246.194, 5737.91, 5655.25, 5576.612, 5437.744, 5712.396, 5387.384, 5397.984, 5356.602, 5113.662, 5527.188, 5318.522, 5453.914, 5651.96, 5173.454, 5287.622, 5703.482, 5526.424, 5381.232, 5258.246, 6044.886, 5674.176, 5862.316, 5421.752, 5431.324, 5664.99, 5502.872, 5626.968, 5230.744, 5359.506, 5823.858, 5359.506, 5318.68, 5769.592, 5696.712, 5719.638, 5848.654, 5966.556, 5809.47, 5542.35, 5050.18, 5089.018, 5518.458, 5967.21, 5421.684, 5360.464, 5966.596, 5302.356, 5521.914, 5161.024, 5700.734, 5433.736, 5799.482, 5503.036, 5394.92, 5709.536, 5206.734, 5732.372, 5545.912, 5545.208, 5618.032, 5438.872, 5356.062, 5530.502, 5396.63, 5650.916, 5204.53, 5450.228, 5329.292, 5744.932, 5710.194, 5258.928, 5409.04, 5517.734, 5508.138, 5463.586, 5865.056, 5678.978, 5812.91, 5243.376, 5752.67, 5362.0, 5369.03, 5534.844, 5603.518, 5639.53, 5460.036, 5580.642, 5025.896, 5632.32, 5522.088, 5712.624, 6020.728, 5506.908, 5453.45, 5288.27, 5746.192, 5435.97, 5180.152, 5341.292, 5455.358, 5505.52, 5763.864, 5678.902, 5318.672, 5655.038, 5268.644, 5345.73, 5382.942, 5290.05, 4958.352, 5525.5, 5357.57, 5400.962, 5399.998, 5332.63, 5687.334, 6020.856, 5159.23, 5467.778, 5436.756, 5812.254, 5367.344, 5061.144, 5160.044, 5716.364, 5402.528, 5165.106, 5374.364, 5543.778, 5271.014, 5825.684, 5735.74, 5388.228, 5950.764, 5463.482, 5525.988, 5649.396, 5096.648, 5362.462, 5856.334, 5566.098, 5514.044, 5427.752, 5418.682, 5762.396, 5614.704, 5180.514, 5473.656, 5636.836, 5512.028, 6028.112, 5339.788, 5402.336, 5246.332, 5717.042, 5834.106, 5841.126, 5376.614, 5770.93, 5149.5, 5256.998, 5287.924, 5380.16, 5480.382, 5596.218, 5238.61, 5751.072, 5371.012, 5423.9, 5578.556, 5125.66, 5106.596, 5610.722, 5584.974, 5516.308, 5300.218, 5596.944, 5184.934, 5636.38, 5886.972, 5783.386, 5390.624, 5515.088, 5294.324, 5214.052, 5364.59, 5644.046, 5716.852, 5379.398, 5852.848, 5445.744, 5684.516, 5388.392, 5880.19, 5290.108, 5252.23, 5489.646, 5413.092, 5216.658, 5383.064, 5090.904, 5359.958, 5355.836, 5482.348, 5370.814, 5487.14, 5489.89, 5284.29, 5355.44, 5629.12, 5615.018, 5417.968, 5358.468, 5061.444, 5325.964, 4894.792, 5482.266, 5531.354, 5666.324, 5426.682, 5382.044, 5229.462, 5499.776, 5548.356, 5486.108, 5404.684, 5792.33, 5402.434, 5203.674, 5427.73, 5527.962, 5454.708, 5962.584, 5653.504, 5359.428, 5334.256, 5580.752, 5381.12, 5738.27, 5302.396, 5610.944, 5629.1, 5904.676, 5556.01, 5544.562, 5385.374, 5576.788, 5221.108, 5463.07, 5464.534, 5535.316, 5402.79, 5287.96, 5766.634, 6080.986, 5359.294, 5892.206, 5651.558, 5262.292, 5723.096, 5863.41, 5644.77, 5615.302, 5434.46, 5445.564, 5298.458, 5474.08, 5226.558, 5497.728, 5433.228, 5504.81, 5692.528, 5486.816, 5484.958, 5824.346, 5485.706, 5407.574, 5540.47, 5430.042, 5560.668, 5496.454, 5300.668, 5396.084, 5365.918, 5320.764, 5193.1, 5326.84, 5760.844, 5032.718, 5451.458, 5692.416, 5106.218, 5605.498, 5335.688, 5647.856, 6053.142, 5187.04, 5410.672, 5703.254, 5562.456, 5339.474, 5705.388, 5393.94, 5867.568, 5283.502, 5710.648, 5840.092, 5615.768, 5725.462, 5100.13, 5210.118, 5234.052, 5303.656, 5497.216, 5532.502, 5383.616, 5327.236, 5333.956, 5601.988, 5456.788, 5255.454, 5585.524, 5003.044, 5723.364, 5532.522, 5326.97, 5461.536, 5380.036, 5821.942, 5543.968, 5776.942, 5351.964, 5262.594, 5348.0, 5853.926, 5747.446, 5160.338, 5832.22, 5386.964, 5481.768, 5375.992, 5531.896, 5704.718, 5845.004, 5305.566, 5323.788, 5538.052, 5078.032, 5165.706, 5263.784, 5547.454, 6288.694, 5737.468, 5212.62, 5362.374, 5608.138, 5168.54, 5556.59, 5807.598, 5439.496, 5612.996, 5360.35, 5097.178, 6066.608, 5742.958, 5253.914, 5751.022, 5968.982, 5507.696, 5671.23, 5204.168, 5630.64, 5192.628, 5799.282, 5623.572, 5324.84, 5585.28, 5454.672, 5386.614, 5501.338, 5169.636, 5983.424, 5113.902, 6283.35, 5215.948, 5421.276, 5496.228, 5283.096, 5658.648, 5497.498, 5529.664, 5420.872, 5767.808, 5246.152, 5896.28, 5448.326, 5456.748, 5413.522, 5582.078, 5593.11, 5217.3, 5210.348, 5882.25, 5552.968, 5626.376, 5581.14, 5234.154, 5041.792, 5501.276, 5248.128, 5362.996, 5184.614, 5829.102, 5614.42, 5881.376, 5498.08, 5365.31, 5533.958, 6105.33, 5043.9, 5282.702, 5416.754, 5554.248, 5556.426, 5675.56, 5550.068, 4885.974, 5942.678, 5225.242, 5322.602, 5832.534, 5438.39, 5705.522, 5833.282, 5733.718, 5684.696, 5341.328, 5293.422, 5385.506, 5310.108, 5558.312, 5483.516, 5487.322, 5259.348, 5110.612, 5418.156, 5782.992, 5532.54, 5754.842, 5849.888, 5509.366, 5486.142, 5548.404, 5596.742, 5457.08, 5772.678, 5293.13, 5352.576, 5368.776, 5306.248, 5786.644, 5306.418, 6076.024, 5457.308, 4894.582, 5532.936, 5344.718, 5393.64, 5596.356, 5651.272, 6138.92, 5843.298, 5271.292, 5560.564, 5410.832, 5590.13, 5140.504, 5638.53, 5515.216, 5344.87, 5215.162, 5771.202, 5082.67, 5561.574, 5530.414, 5614.37, 4987.468, 5431.806, 5384.514, 5404.046, 5272.866, 5442.88, 5335.044, 5551.55, 5698.876, 5175.722, 5811.546, 6240.448, 5398.876, 5476.092, 5339.734, 5715.368, 5727.638, 5051.772, 5515.324, 6105.138, 5304.536, 5513.034, 5433.494, 5320.518, 5800.472, 5118.486, 5201.556, 4916.926, 5018.802, 5212.686, 5528.376, 5801.078, 5486.366, 5757.712, 5533.882, 4999.086, 4962.182, 5546.932, 5261.232, 5248.444, 5436.41, 5211.67, 5669.16, 5089.482, 5648.974, 5499.152, 5522.422, 5838.616, 5796.118, 5282.282, 6110.994, 5386.656, 5837.584, 5663.75, 5384.736, 4996.318, 5251.828, 5623.362, 5232.422, 5188.91, 5478.198, 5527.934, 6031.144, 5480.064, 5396.818, 5549.042, 5289.06, 5439.24, 5794.93, 5874.278, 5928.218, 5539.29, 5449.418, 5478.98, 5599.266, 5290.366, 5149.93, 5335.37, 6322.27, 5297.288, 5989.062, 5205.618, 5473.264, 5274.07, 5600.428, 5744.384, 5335.464, 5424.074, 5392.174, 5432.25, 5683.982, 5275.066, 4840.502, 5904.06, 5474.482, 5254.142, 5457.446, 5507.788, 5160.394, 5315.242, 5894.168, 5607.508, 5325.492, 5340.304, 5133.642, 5489.128, 5643.592, 5502.168, 5290.576, 5524.97, 5678.08, 5654.274, 5227.864, 5637.582, 5446.57, 5327.572, 5987.336, 5488.118, 5350.16, 5916.84, 5883.212, 5919.0, 5394.754, 5008.684, 5184.678, 5248.12, 5701.302, 5508.286, 5877.418, 5209.402, 5390.08, 5343.214, 5155.882, 5576.632, 5436.538, 5479.356, 5403.258, 5864.534, 5202.108, 5712.688, 5478.568, 5503.656, 5514.112, 5560.46, 5794.796, 5812.124, 5348.766, 5383.446, 5633.488, 5401.212, 5258.36, 5721.542, 5451.488, 5476.972, 5233.092, 5349.93, 5472.116, 4960.76, 5613.614, 5588.528, 5583.986, 5399.944, 5700.142, 5116.724, 5139.566, 5132.578, 5383.102, 5523.372, 5303.908, 5592.77, 5796.786, 5561.8, 5165.15, 5550.216, 5653.6, 5814.286, 5179.238, 5344.672, 5175.088, 5624.486, 5082.346, 5543.528, 5748.908, 5575.336, 5862.38, 5807.18, 5434.698, 5326.786, 5669.514, 5342.468, 5952.12, 5171.918, 5109.244, 5681.284, 5441.446, 5313.866, 5415.638, 6043.182, 5181.26, 5193.308, 5418.272, 5423.622, 5727.108, 5167.386, 5834.946, 5326.05, 4864.42, 5546.624, 5344.28, 5334.336, 5494.8, 5399.566, 5087.444, 5398.898, 6102.422, 5670.122, 5590.11, 5748.918, 5295.518, 5620.984, 5434.03, 5406.98, 5498.532, 5858.942, 5147.778, 5836.84, 5386.44, 5641.584, 5439.262, 5415.402, 5836.594, 5336.262, 5417.84, 5588.982, 5396.476, 5268.904, 5226.128, 4896.88, 5531.564, 5404.318, 5427.734, 5530.278, 5362.098, 5729.09, 5431.06, 5530.952, 5247.816, 4910.596, 5210.644, 6095.35, 5480.85, 5584.312, 5619.65, 5588.496, 5782.062, 5342.816, 5458.73, 5753.688, 5306.57, 5456.032, 5657.65, 5746.072, 5453.25, 5623.702, 5285.412, 5238.258, 5931.738, 5583.348, 5597.044, 5196.418, 5273.996, 5724.992, 5397.42, 5541.288, 5756.622, 5435.632, 6026.826, 5752.488, 5064.98, 5945.712, 5244.96, 5743.01, 5523.902, 5778.142, 5476.628, 5231.318, 5430.882, 5662.228, 5417.972, 5469.384, 5394.27, 5451.218, 5351.03, 5296.828, 5202.614, 5693.328, 5395.568, 5661.626, 5135.162, 5665.634, 5491.074, 5384.148, 5084.55, 5396.366, 5810.462, 5348.22, 4878.986, 5405.36, 5555.77, 5058.134, 5411.846, 5484.224, 5231.206, 5495.754, 5562.572, 5335.358, 5557.284, 5850.28, 5483.064, 5568.218, 6173.08, 5429.914, 5437.682, 5567.7, 5130.968, 5423.51, 5278.504, 5495.252, 6040.236, 5515.99, 5588.002, 5401.822, 5712.394, 5580.394, 5649.456, 5625.004, 5297.872, 5977.36, 5305.99, 5143.554, 5209.214, 5597.984, 5859.888, 5082.56, 5555.144, 5503.238, 5558.17, 5527.558, 5412.69, 5515.644, 5641.286, 5667.614, 5394.702, 5580.528, 4979.568, 5240.252, 5787.978, 5574.672, 5537.308, 5765.208, 5532.148, 5545.64, 5601.416, 5453.544, 5503.068, 5586.366, 5315.326, 5435.056, 5553.43, 5752.682, 5478.006, 5560.834, 5807.134, 5275.284, 5388.134, 5787.036, 5448.362, 5028.168, 5640.854, 5667.192, 5206.836, 5211.554, 5678.304, 5406.306, 5822.218, 5369.98, 5514.402, 5415.278, 5400.14, 5430.744, 5240.336, 5482.67, 5407.154, 5209.722, 5037.632, 5348.464, 5433.958, 5059.884, 5463.326, 5643.256, 5358.078, 5525.12, 5631.68, 5804.256, 5427.128, 5302.74, 5695.878, 5412.878, 5538.512, 5552.812, 5128.97, 5592.184, 5464.036, 5244.11, 5393.76, 5608.144, 5594.552, 5626.336, 5223.056, 5557.066, 5543.874, 5683.25, 6119.174, 5805.796, 5433.86, 5010.624, 5827.462, 5904.686, 5140.736, 5476.904, 5585.916, 5485.032, 6033.712, 5503.13, 5512.352, 5226.44, 6004.39, 5393.744, 5649.848, 5187.52, 5503.6, 5645.388, 5287.644, 5327.024, 5576.644, 5681.524, 5408.08, 5379.008, 5844.276, 5665.63, 5092.958, 5624.328, 5502.718, 5654.85, 5665.932, 6144.018, 5461.718, 5642.476, 5434.444, 5270.832, 5395.052, 5740.018, 5984.386, 5576.198, 5752.788, 5602.798, 5777.086, 5766.018, 5144.356, 5158.948, 5673.846, 5560.098, 5741.914, 5354.264, 5356.888, 5338.334, 5468.45, 5601.552, 5671.426, 5682.632, 5849.636, 5699.116, 5321.162, 5269.588, 5302.244, 5623.74, 4996.636, 5440.548, 5838.948, 5532.46, 5775.082, 5460.194, 5349.62, 5299.716, 5618.282, 5670.764, 5298.096, 5960.08, 5590.262, 5259.976, 5609.086, 5181.142, 5574.4, 5220.706, 5599.344, 5690.736, 5462.814, 5839.2, 5454.164, 5702.686, 5360.492, 6020.224, 5668.018, 5379.858, 5613.272, 5733.996, 5990.162, 5694.616, 5447.526, 5202.696, 5121.94, 5333.138, 5390.448, 5210.884, 5344.108, 5528.036, 5627.266, 5545.68, 5752.618, 5289.888, 5635.818, 5300.228, 5560.334, 5119.68, 5078.96, 5435.624, 5550.646, 5595.674, 4821.99, 5607.828, 5583.732, 5952.276, 5287.978, 5011.264, 5078.55, 5536.688, 5660.098, 5232.566, 5510.258, 5383.89, 5354.476, 6152.952, 5430.19, 5457.926, 5003.376, 5522.978, 5369.884, 5678.422, 5997.688, 5286.814, 4849.124, 5833.6, 5570.954, 5775.308, 5356.842, 5745.368, 5355.698, 5344.538, 5160.032, 5167.51, 5712.334, 5440.484, 5481.666, 5709.41, 5613.992, 5720.766, 5354.094, 5311.638, 5273.884, 5316.612, 5490.654, 5585.248, 6309.734, 5268.978, 5562.776, 5546.85, 5937.036, 5491.254, 5700.42, 5291.036, 5268.72, 5475.832, 5445.434, 5788.842, 5498.0, 5508.882, 5675.252, 5360.206, 5418.704, 5194.268, 5289.356, 5167.34, 5217.072, 5276.002, 5302.904, 5506.472, 5336.416, 5478.698, 5320.106, 5885.956, 5122.602, 5224.636, 5043.902, 5054.522, 5736.826, 5783.944, 5201.962, 5374.416, 5513.612, 5873.312, 5756.438, 5246.228, 5524.908, 5430.25, 5508.396, 5964.288, 5594.53, 5977.57, 5010.764, 5808.1, 5655.674, 5572.956, 5604.39, 5438.044, 5441.968, 5100.496, 5401.94, 5560.636, 5503.82, 5529.708, 5225.888, 5357.768, 5344.202, 5466.566, 5312.376, 5300.534, 5628.384, 5604.24, 5674.962, 5572.744, 5822.236, 5876.634, 5371.174, 5309.36, 5545.13, 5411.234, 5081.452, 5651.396, 5405.818, 5588.934, 5660.422, 5338.266, 5706.786, 5520.932, 5215.706, 5078.806, 5327.796, 5566.444, 5454.646, 5048.646, 5208.354, 4978.396, 5697.966, 6082.478, 5617.554, 5530.368, 5207.486, 5695.136, 5418.496, 5453.482, 5299.918, 5270.082, 5627.25, 5519.658, 5517.62, 5447.956, 5379.146, 5158.63, 5253.246, 5783.962, 5306.798, 5364.854, 5319.256, 5915.52, 5511.844, 5518.12, 5500.252, 5014.184, 6121.062, 5609.87, 5822.688, 5462.918, 4864.68, 5048.062, 5778.804, 5314.482, 5566.246, 5164.516, 5688.426, 5422.976, 5488.002, 5449.256, 5616.142, 5483.454, 5534.236, 5609.756, 5352.702, 5488.01, 5504.466, 5426.894, 5671.052, 5711.79, 5508.556, 5619.996, 5882.28, 5678.43, 6253.436, 5357.59, 5587.032, 5551.368, 5428.008, 5489.414, 5350.574, 5283.652, 5802.124, 5855.424, 5729.602, 5797.922, 5660.19, 5666.112, 5405.732, 5447.882, 5496.436, 5605.366, 5317.682, 5857.374, 5352.922, 5642.596, 5262.44, 5379.942, 5902.374, 4990.916, 5808.878, 6232.04, 5809.932, 5916.552, 5814.07, 5599.314, 5736.31, 5624.526, 5590.056, 5339.712, 5368.56, 5672.612, 5396.796, 5442.452, 5512.538, 5731.43, 5200.712, 5342.002, 5193.49, 5687.126, 5613.09, 5915.064, 5732.246, 5268.86, 5497.9, 5383.534, 5103.42, 5877.66, 5393.786, 5523.22, 5526.238, 5255.318, 5732.418, 5296.33, 5604.984, 5737.562, 5360.858, 5319.554, 5553.212, 5769.038, 5602.784, 5035.768, 5657.988, 5145.13, 5478.784, 5350.02, 5438.23, 5020.942, 5158.96, 5627.426, 5112.13, 5370.478, 5353.506, 5154.832, 5720.11, 5656.638, 5887.65, 5678.408, 5256.968, 5558.584, 5408.892, 5267.11, 5551.07, 5680.266, 5422.988, 5523.436, 5113.946, 5087.404, 5389.686, 5522.376, 5462.152, 5381.284, 5488.026, 5589.912, 5425.232, 5367.354, 5477.632, 5241.788, 5373.162, 5493.856, 5398.102, 5635.19, 5617.002, 5529.436, 5556.934, 5680.212, 5464.036, 5913.388, 5714.066, 5536.79, 5210.58, 5741.888, 5312.104, 5063.42, 5362.304, 5648.55, 5859.97, 5567.086, 5583.574, 5598.716, 5642.452, 5228.1, 5452.48, 5526.77, 5659.822, 5241.546, 5186.216, 5278.924, 5592.548, 5169.452, 5508.412, 5665.65, 5277.336, 5582.252, 5518.392, 5472.61, 5869.098, 6046.046, 5593.972, 5554.852, 5742.47, 5863.63, 5697.088, 5544.568, 5461.006, 5434.72, 5344.834, 5425.24, 5443.082, 5561.408, 5556.922, 5433.43, 5718.9, 5837.556, 5514.434, 5707.592, 5214.982, 5084.55, 5563.468, 5742.85, 5891.802, 5581.654, 5513.528, 5543.036, 5280.366, 5410.884, 5642.092, 5086.498, 5628.21, 6111.51, 5563.16, 5792.2, 5462.024, 5375.09, 5324.54, 5307.238, 5711.654, 5376.77, 5427.294, 5754.082, 5316.892, 5502.648, 5820.63, 5964.598, 5454.766, 5352.988, 6270.452, 5421.884, 5608.31, 5539.928, 5375.806, 5274.668, 5642.528, 5603.58, 5148.15, 5113.908, 5495.24, 5419.754, 5466.086, 5612.482, 6019.198, 5365.922, 5548.004, 5647.61, 5245.468, 5066.634, 5347.404, 5333.132, 5355.842, 5653.678, 5321.324, 5651.732, 5254.98, 5529.566, 5268.428, 5280.9, 5586.682, 5376.318, 5927.874, 5727.998, 5714.632, 5522.052, 5344.606, 5872.356, 5527.018, 5540.952, 5756.26, 5619.838, 5272.504, 5606.658, 6594.554, 5785.554, 5626.596, 5717.234, 5498.27, 5544.474, 5226.028, 5395.03, 5485.766, 5920.086, 5713.424, 5622.022, 5205.468, 5263.778, 5801.422, 5381.982, 5383.292, 5455.822, 5814.39, 5151.904, 5171.49, 5521.818, 5408.774, 5915.01, 5248.904, 5641.348, 5474.148, 5186.054, 5233.476, 5456.662, 5743.544, 5249.938, 5668.408, 5625.782, 5318.128, 5367.384, 5625.796, 6082.75, 5737.112, 5462.844, 5366.85, 5774.41, 5169.448, 5532.412, 5765.832, 6068.182, 5462.928, 5354.418, 5777.77, 5020.72, 5476.682, 5607.37, 5829.088, 5137.166, 5244.396, 5409.008, 5141.768, 6111.426, 5923.946, 5568.776, 5450.144, 5115.572, 5235.48, 5738.302, 5132.662, 5223.67, 5426.372, 4912.976, 5187.062, 5221.018, 5279.052, 5917.294, 5369.134, 5428.472, 5422.096, 6199.728, 5275.228, 5637.076, 5615.604, 5323.984, 5671.298, 5231.874, 6031.66, 5641.118, 5359.194, 5414.296, 5556.562, 5761.726, 5198.922, 5227.924, 5455.126, 5529.372, 5534.312, 5718.224, 5438.22, 5412.53, 5535.414, 5645.508, 5657.44, 5501.224, 5537.6, 5783.084, 5701.002, 5341.16, 5616.384, 6159.496, 5492.758, 5403.97, 5608.514, 5323.154, 4951.792, 5955.45, 5171.404, 4910.802, 6055.454, 5583.208, 5228.932, 5456.528, 5834.628, 5433.348, 5552.9, 5319.784, 5313.162, 5573.556, 5546.796, 5429.504, 5287.1, 5312.032, 5833.984, 5400.98, 5404.774, 5670.956, 5722.084, 5560.04, 5452.176, 5344.124, 5222.78, 5387.8, 5407.18, 5482.492, 5708.368, 5438.286, 5283.736, 5161.858, 5668.622, 5665.04, 5355.18, 5342.714, 5267.662, 5261.816, 5686.66, 5594.022, 5435.02, 5540.674, 5576.046, 5205.324, 5723.308, 5420.166, 6350.362, 5180.338, 5563.708, 5603.67, 5431.96, 5555.294, 5118.262, 5430.942, 5786.626, 5380.374, 5646.202, 5857.746, 5396.578, 5525.47, 5777.04, 5530.42, 5541.272, 5576.834, 5262.74, 5428.956, 5302.776, 5254.108, 5840.072, 5434.102, 5567.726, 5533.46, 5209.802, 5365.956, 5893.798, 5417.5, 5146.678, 5627.452, 5468.206, 6042.89, 6061.344, 5568.184, 4994.072, 5318.546, 4937.774, 5316.166, 5582.91, 5542.352, 5711.55, 5080.906, 5418.186, 5788.604, 5553.23, 5368.984, 5771.358, 5253.342, 5687.44, 5474.354, 5164.278, 5532.532, 5238.746, 5200.824, 5085.16, 5711.774, 5297.056, 5180.756, 5275.314, 5452.952, 5172.628, 5431.352, 5519.398, 5594.82, 5417.97, 5923.14, 5551.352, 5042.526, 5466.55, 5352.204, 5574.328, 5190.066, 5921.784, 5522.996, 5681.694, 5315.172, 5666.946, 5593.05, 5371.464, 5550.018, 5651.358, 5840.0, 5433.286, 5430.748, 5776.576, 5686.184, 5749.914, 5284.778, 5281.734, 5688.772, 4838.474, 5317.748, 5487.83, 5652.024, 5329.59, 5349.262, 5645.704, 5472.372, 5252.018, 5998.984, 5463.318, 5805.354, 5455.042, 5481.368, 5349.764, 5343.556, 5730.398, 5711.598, 5359.078, 5075.364, 5834.1, 5409.406, 5498.164, 5246.636, 5679.448, 5287.42, 5657.438, 5416.404, 5415.018, 5230.426, 5523.16, 5491.924, 5485.34, 5675.95, 5592.542, 5888.526, 5214.31, 5305.264, 5195.67, 5654.222, 5374.516, 5403.21, 5388.952, 5250.884, 5379.054, 6062.026, 5894.762, 5594.546, 5074.958, 5454.198, 5148.102, 5526.588, 5568.232, 6008.802, 5365.932, 5495.662, 5746.898, 5322.658, 5332.62, 5615.976, 5344.852, 5741.962, 5418.836, 5384.022, 5431.666, 5428.928, 5568.378, 5522.57, 5424.008, 5614.69, 5178.154, 5729.6, 5754.04, 5603.87, 5661.06, 5900.876, 5417.866, 5538.33, 5148.798, 5586.912, 5499.206, 5385.338, 5380.378, 5937.23, 5005.468, 5401.516, 5843.67, 5150.238, 5215.07, 5984.772, 5702.588, 5202.816, 5554.508, 4984.656, 5017.054, 5324.314, 5606.932, 5297.42, 5071.642, 5128.858, 5288.066, 5639.522, 5795.376, 5231.032, 5282.766, 5276.788, 5824.402, 5656.424, 5541.774, 5679.156, 5481.498, 5312.632, 5378.432, 5945.068, 5691.406, 5483.002, 5782.752, 5711.922, 5139.58, 5760.718, 5545.594, 5690.632, 5673.306, 5661.98, 6022.98, 5209.124, 5346.234, 5352.456, 5860.494, 5528.916, 5545.362, 5542.526, 5439.262, 4939.526, 5330.14, 5651.966, 5626.84, 5549.804, 5388.866, 5348.178, 5646.21, 5602.512, 5734.318, 5383.79, 5177.142, 5197.428, 5402.672, 5391.712, 5317.098, 5697.414, 5187.394, 5408.39, 5721.652, 5327.594, 5599.672, 5664.522, 5759.66, 5218.792, 5514.518, 5643.592, 5555.396, 5149.088, 5330.574, 5365.172, 5363.344, 5990.918, 5749.514, 5639.39, 4951.216, 5697.174, 5627.934, 5437.266, 5260.926, 5847.512, 5166.176, 5619.736, 5119.02, 5767.828, 5455.682, 5743.022, 5565.074, 5159.646, 5197.578, 5220.646, 5535.316, 5873.47, 5214.784, 5225.756, 5384.094, 5344.962, 5652.702, 5283.116, 5317.058, 6124.244, 5119.162, 5347.544, 5348.89, 5391.2, 5534.57, 5771.894, 5307.99, 5627.66, 5593.146, 5575.722, 5839.632, 5895.08, 5548.192, 5313.128, 5603.02, 5175.418, 5251.472, 5685.426, 5594.564, 5047.146, 5625.642, 5473.302, 5322.4, 5178.756, 5456.95, 5090.018, 5694.646, 5607.14, 5805.098, 4912.61, 5569.638, 5883.518, 5489.93, 5270.83, 5733.642, 5385.38, 5062.78, 5396.114, 5361.202, 5732.652, 5218.62, 6018.762, 5667.494, 5702.502, 6088.148, 5474.878, 5443.82, 5514.872, 5581.14, 5247.188, 5787.712, 5708.888, 5500.624, 5520.586, 5153.698, 5398.714, 5523.456, 5669.202, 5343.592, 5477.478, 5438.018, 5421.83, 5436.644, 5350.156, 5565.798, 5574.264, 5260.766, 5527.414, 5303.614, 5390.366, 5647.394, 5298.762, 5838.754, 5796.076, 5844.2, 5632.642, 4954.348, 5734.462, 5596.042, 5253.832, 5452.698, 5311.642, 5139.67, 5462.208, 5234.656, 5215.582, 5506.96, 5284.11, 5350.928, 5316.082, 5652.764, 5073.456, 5497.466, 5279.272, 5467.488, 5454.438, 5060.524, 5605.454, 5352.736, 5465.318, 5758.542, 5710.846, 5195.978, 5382.134, 5419.104, 5169.742, 5696.354, 5854.094, 6233.648, 5515.56, 5508.02, 5529.954, 5551.114, 5349.928, 5817.274, 5486.982, 5381.894, 5542.924, 4898.078, 5635.834, 5610.93, 5298.068, 5486.448, 5242.46, 5585.128, 5709.742, 5726.722, 5780.758, 5277.168, 5647.77, 5430.088, 5909.394, 5233.628, 5142.44, 5294.064, 5709.45, 5502.602, 5462.758, 5323.254, 5655.3, 5681.598, 5384.206, 5353.382, 5509.582, 5422.78, 5764.004, 5411.402, 5372.636, 5278.918, 5560.628, 5836.848, 5733.948, 5792.518, 5576.264, 5615.114, 5161.576, 5122.636, 5620.436, 5477.868, 5610.658, 5558.846, 5729.098, 5338.166, 5514.542, 5626.322, 5368.688, 5367.902, 5649.118, 5403.986, 5421.38, 5193.564, 5116.586, 5241.758, 5431.95, 6119.136, 5595.784, 5509.528, 5413.052, 5565.028, 5377.312, 5479.294, 6037.946, 5411.094, 5388.73, 5614.88, 5498.262, 5290.702, 5694.582, 5458.948, 6055.548, 4834.158, 5248.388, 5491.672, 5419.996, 5253.028, 5109.474, 5477.572, 5922.288, 5527.58, 5252.448, 5325.372, 5190.282, 5456.042, 5158.702, 5195.85, 5430.32, 5646.6, 5676.684, 4991.688, 5349.486, 5218.244, 5962.038, 4991.462, 5719.566, 5409.932, 4886.978, 5687.566, 5398.28, 5710.44, 5174.366, 5736.848, 5109.106, 5739.204, 5709.978, 5947.78, 5158.708, 5574.82, 5161.858, 5378.87, 5391.914, 5518.38, 5635.11, 5538.904, 5704.088, 4834.608, 5338.876, 5256.316, 5110.844, 5364.704, 5851.318, 5192.39, 5313.974, 5521.332, 5561.74, 5703.258, 5018.912, 5568.318, 5119.178, 5412.192, 5435.026, 5495.378, 5229.148, 6186.002, 5680.966, 5436.492, 5405.456, 5585.736, 5565.188, 5569.592, 5565.226, 5481.108, 5111.704, 5479.87, 5784.85, 5492.67, 5253.582, 5717.022, 5511.422, 5638.47, 5543.882, 5761.828, 5918.794, 5194.076, 5542.486, 5296.76, 5075.294, 5872.444, 5704.33, 5635.404, 5445.964, 5206.516, 5270.836, 5632.876, 5312.664, 5455.29, 5572.718, 5846.288, 5137.366, 5703.02, 4990.656, 5646.058, 5650.342, 5565.448, 5559.978, 5558.19, 5835.914, 5382.012, 6015.412, 5136.99, 5772.03, 5455.76, 5130.492, 5334.2, 5334.668, 5321.384, 5683.972, 5585.292, 5708.338, 5353.346, 5270.0, 5615.25, 5775.518, 5001.998, 5848.472, 5570.82, 5436.234, 5550.396, 5542.858, 5575.904, 5651.782, 5838.978, 5997.378, 5450.024, 5647.408, 6134.42, 5541.662, 5266.976, 5372.696, 6028.918, 5645.01, 5696.96, 5727.668, 5530.138, 5777.748, 5526.74, 5343.73, 5451.362, 5422.582, 6062.058, 5265.75, 5596.044, 5336.838, 5189.362, 5337.994, 5584.836, 5576.002, 5973.058, 4969.056, 5728.55, 5331.81, 5384.104, 5586.736, 5595.946, 5127.158, 5286.59, 5867.564, 5551.696, 5609.586, 5268.166, 5202.002, 5505.8, 5502.302, 5475.298, 5388.528, 5392.408, 5631.236, 5214.524, 5530.948, 5827.046, 6055.246, 5744.26, 5254.306, 5349.652, 5344.828, 5631.722, 5858.902, 5696.72, 5658.794, 5684.572, 5905.372, 5468.55, 5928.676, 5747.836, 5329.834, 5541.434, 5526.772, 5331.818, 5989.644, 5406.516, 5282.642, 5898.758, 5445.856, 5491.904, 5566.352, 5335.356, 5225.286, 5408.372, 5047.432, 5311.608, 5276.626, 5159.736, 5545.432, 5504.536, 5257.406, 5389.466, 5777.216, 5330.39, 5198.164, 6033.31, 5383.302, 5235.336, 5442.704, 5408.624, 6296.992, 5414.84, 5445.678, 5536.696, 5566.49, 5207.77, 6122.162, 5480.624, 5418.232, 5269.79, 5225.216, 5285.418, 5475.074, 5451.076, 4943.894, 5954.244, 5663.532, 5560.902, 5369.704, 5418.298, 5276.678, 5131.764, 5310.374, 5469.886, 5764.856, 5850.414, 5405.716, 5820.582, 5298.878, 5210.612, 5210.674, 5755.406, 5260.312, 5781.684, 5516.934, 5657.814, 5512.208, 5383.122, 5385.928, 5548.674, 5758.148, 5576.012, 5683.622, 4800.132, 5577.342, 5520.218, 5220.168, 5733.972, 5692.322, 5783.608, 5352.59, 5652.424, 5569.674, 5391.708, 5231.93, 5734.232, 5452.948, 5545.348, 5002.794, 5827.812, 5832.794, 5688.818, 5233.726, 5547.144, 5359.712, 5338.172, 5347.594, 5490.888, 5844.164, 5025.606, 5310.0, 6086.338, 5214.22, 4992.72, 5866.328, 5676.49, 5488.178, 5617.38, 6084.282, 5560.278, 5898.906, 5463.828, 5753.69, 5456.084, 5520.918, 5181.348, 5443.512, 5277.526, 5740.176, 5633.744, 5919.544, 5575.438, 5636.506, 5364.272, 5545.948, 5714.476, 5251.546, 5481.55, 5153.672, 5311.022, 5329.412, 5517.036, 5556.096, 5255.72, 5678.018, 5835.428, 5367.93, 5575.022, 5431.386, 5282.092, 5598.884, 5772.2, 5156.148, 5292.024, 5034.836, 5204.902, 5613.326, 5390.476, 5830.842, 5494.904, 5948.16, 5509.3, 5473.082, 5665.526, 5570.076, 5675.312, 5281.162, 5465.25, 5003.908, 5412.386, 6215.086, 5170.418, 5855.438, 5198.916, 5556.082, 5465.91, 5295.81, 5431.998, 5661.414, 5263.914, 5434.904, 5848.332, 5384.294, 5926.136, 5773.366, 5200.256, 5199.08, 5001.036, 5187.222, 5455.658, 5409.072, 5545.412, 5533.528, 5733.174, 5722.208, 5486.69, 5071.896, 5117.542, 5728.706, 5790.526, 5612.918, 5814.882, 5669.712, 5496.39, 5873.214, 5160.474, 5330.778, 5327.054, 5416.88, 5197.654, 5428.668, 5482.892, 5536.558, 5480.566, 5281.774, 5298.952, 5971.302, 5432.268, 5338.096, 5126.836, 5219.164, 5502.116, 5635.52, 6169.458, 5068.66, 5410.22, 6115.716, 5348.862, 5811.94, 5489.454, 5413.872, 5711.058, 5310.714, 5612.572, 5326.86, 5393.944, 5967.752, 5294.228, 5735.998, 5332.828, 5630.586, 5562.08, 5565.536]\n"
     ]
    }
   ],
   "source": [
    "# 평균소득의 분포는 정규분포를 따를 것이다.\n",
    "# 500개 추출해서 평균소득 구하고, 그걸 만 번 반복해서 평균소득의 histogram 그려보자\n",
    "\n",
    "n=10000\n",
    "mn=[]\n",
    "\n",
    "for i in range(n):\n",
    "    sample=np.random.choice(income, size=500, replace=True) # 무작위 복원 추출, 500개 뽑음, 이걸 10000번 반복함\n",
    "    mean=np.mean(sample)\n",
    "    mn.append(mean)\n",
    "print(mn)"
   ]
  },
  {
   "cell_type": "code",
   "execution_count": 16,
   "id": "5eb40cab",
   "metadata": {},
   "outputs": [
    {
     "data": {
      "text/plain": [
       "10000"
      ]
     },
     "execution_count": 16,
     "metadata": {},
     "output_type": "execute_result"
    }
   ],
   "source": [
    "# 나온게 전체 소득 중에 500개 뽑아서 평균소득 만들고, 그걸 10000번 해서, 값 10000개 나온것\n",
    "len(mn)"
   ]
  },
  {
   "cell_type": "code",
   "execution_count": 17,
   "id": "5ab908e4",
   "metadata": {},
   "outputs": [
    {
     "data": {
      "image/png": "[encoded data removed]",
      "text/plain": [
       "<Figure size 640x480 with 1 Axes>"
      ]
     },
     "metadata": {},
     "output_type": "display_data"
    }
   ],
   "source": [
    "# 10000개 표본평균 히스토그램 그려보자. \n",
    "# by CLT, 표본평균은 정규분포를 따를 것으로 예상한다\n",
    "plt.hist(mn,alpha=0.3,bins=2000)\n",
    "plt.show()"
   ]
  },
  {
   "cell_type": "code",
   "execution_count": 18,
   "id": "a9df88e5",
   "metadata": {},
   "outputs": [],
   "source": [
    "# cLT 모징 central limit theorem\n",
    "# 여튼\n",
    "# 5500 중심으로, 정규분포\n",
    "# 전체소득분포는 오른쪽으로 꼬리가 긴 분포\n",
    "# 약 18000개 에서 뽑은 표본 500개 로 뽑은 표본평균의 히스토그램은 정규분포에 가깝다. "
   ]
  },
  {
   "cell_type": "code",
   "execution_count": 19,
   "id": "ed01f4ed",
   "metadata": {},
   "outputs": [
    {
     "name": "stdout",
     "output_type": "stream",
     "text": [
      "7.306573138586187\n"
     ]
    }
   ],
   "source": [
    "# 동일 집단간 차이 검정\n",
    "# 귀무가설 기각= p-value가 0.05 보다 작다 = 귀무가설과 실제값 차이가 없고, 차이가 있다면 우연이다\n",
    "# 통계학에선 '두 현상에서는 차이가 없다'라는 것을 귀무가설로 설정한다.\n",
    "\n",
    "# q4 뭐지\n",
    "z=(167-0)/(2606/np.sqrt(13000)) # 머더랏\n",
    "print(z)"
   ]
  },
  {
   "cell_type": "code",
   "execution_count": 20,
   "id": "e435548c",
   "metadata": {},
   "outputs": [
    {
     "name": "stdout",
     "output_type": "stream",
     "text": [
      "1.438849039914203e-13\n"
     ]
    }
   ],
   "source": [
    "z=7.3\n",
    "p_value=1-norm.cdf(z)\n",
    "print(p_value)"
   ]
  },
  {
   "cell_type": "code",
   "execution_count": 26,
   "id": "c5782f0d",
   "metadata": {},
   "outputs": [],
   "source": [
    "# 동일집단간 차이검정 진짜 해보자"
   ]
  },
  {
   "cell_type": "code",
   "execution_count": 21,
   "id": "a12dd3ce",
   "metadata": {},
   "outputs": [],
   "source": [
    "# 2019, 2020년 데이터 불러오자\n",
    "df10=pd.read_csv('c:/temp/household_2019a.csv')\n",
    "df20=pd.read_csv('c:/temp/household_2020a.csv')"
   ]
  },
  {
   "cell_type": "code",
   "execution_count": 22,
   "id": "45d975d5",
   "metadata": {},
   "outputs": [
    {
     "data": {
      "text/html": [
       "<div>\n",
       "<style scoped>\n",
       "    .dataframe tbody tr th:only-of-type {\n",
       "        vertical-align: middle;\n",
       "    }\n",
       "\n",
       "    .dataframe tbody tr th {\n",
       "        vertical-align: top;\n",
       "    }\n",
       "\n",
       "    .dataframe thead th {\n",
       "        text-align: right;\n",
       "    }\n",
       "</style>\n",
       "<table border=\"1\" class=\"dataframe\">\n",
       "  <thead>\n",
       "    <tr style=\"text-align: right;\">\n",
       "      <th></th>\n",
       "      <th>year</th>\n",
       "      <th>metro</th>\n",
       "      <th>id</th>\n",
       "      <th>sex</th>\n",
       "      <th>age</th>\n",
       "      <th>number</th>\n",
       "      <th>education</th>\n",
       "      <th>marriage</th>\n",
       "      <th>asset</th>\n",
       "      <th>debt</th>\n",
       "      <th>income</th>\n",
       "      <th>income_d</th>\n",
       "      <th>industry</th>\n",
       "      <th>job</th>\n",
       "      <th>house</th>\n",
       "    </tr>\n",
       "  </thead>\n",
       "  <tbody>\n",
       "    <tr>\n",
       "      <th>0</th>\n",
       "      <td>2019</td>\n",
       "      <td>G1</td>\n",
       "      <td>10500141</td>\n",
       "      <td>1</td>\n",
       "      <td>56</td>\n",
       "      <td>6</td>\n",
       "      <td>6</td>\n",
       "      <td>2</td>\n",
       "      <td>44460</td>\n",
       "      <td>18840</td>\n",
       "      <td>3360</td>\n",
       "      <td>2470</td>\n",
       "      <td>C</td>\n",
       "      <td>3</td>\n",
       "      <td>2</td>\n",
       "    </tr>\n",
       "    <tr>\n",
       "      <th>1</th>\n",
       "      <td>2019</td>\n",
       "      <td>G1</td>\n",
       "      <td>10500151</td>\n",
       "      <td>2</td>\n",
       "      <td>64</td>\n",
       "      <td>2</td>\n",
       "      <td>3</td>\n",
       "      <td>3</td>\n",
       "      <td>86485</td>\n",
       "      <td>7000</td>\n",
       "      <td>4090</td>\n",
       "      <td>3855</td>\n",
       "      <td>NaN</td>\n",
       "      <td>NaN</td>\n",
       "      <td>2</td>\n",
       "    </tr>\n",
       "    <tr>\n",
       "      <th>2</th>\n",
       "      <td>2019</td>\n",
       "      <td>G1</td>\n",
       "      <td>10500161</td>\n",
       "      <td>1</td>\n",
       "      <td>84</td>\n",
       "      <td>2</td>\n",
       "      <td>6</td>\n",
       "      <td>2</td>\n",
       "      <td>20350</td>\n",
       "      <td>0</td>\n",
       "      <td>774</td>\n",
       "      <td>730</td>\n",
       "      <td>NaN</td>\n",
       "      <td>NaN</td>\n",
       "      <td>1</td>\n",
       "    </tr>\n",
       "    <tr>\n",
       "      <th>3</th>\n",
       "      <td>2019</td>\n",
       "      <td>G1</td>\n",
       "      <td>10500171</td>\n",
       "      <td>1</td>\n",
       "      <td>57</td>\n",
       "      <td>4</td>\n",
       "      <td>4</td>\n",
       "      <td>2</td>\n",
       "      <td>46498</td>\n",
       "      <td>10300</td>\n",
       "      <td>7411</td>\n",
       "      <td>6215</td>\n",
       "      <td>C</td>\n",
       "      <td>5</td>\n",
       "      <td>1</td>\n",
       "    </tr>\n",
       "    <tr>\n",
       "      <th>4</th>\n",
       "      <td>2019</td>\n",
       "      <td>G1</td>\n",
       "      <td>10500181</td>\n",
       "      <td>1</td>\n",
       "      <td>56</td>\n",
       "      <td>5</td>\n",
       "      <td>5</td>\n",
       "      <td>2</td>\n",
       "      <td>158174</td>\n",
       "      <td>23900</td>\n",
       "      <td>9972</td>\n",
       "      <td>7574</td>\n",
       "      <td>P</td>\n",
       "      <td>1</td>\n",
       "      <td>1</td>\n",
       "    </tr>\n",
       "  </tbody>\n",
       "</table>\n",
       "</div>"
      ],
      "text/plain": [
       "   year metro        id  sex  age  number  education  marriage   asset   debt  \\\n",
       "0  2019    G1  10500141    1   56       6          6         2   44460  18840   \n",
       "1  2019    G1  10500151    2   64       2          3         3   86485   7000   \n",
       "2  2019    G1  10500161    1   84       2          6         2   20350      0   \n",
       "3  2019    G1  10500171    1   57       4          4         2   46498  10300   \n",
       "4  2019    G1  10500181    1   56       5          5         2  158174  23900   \n",
       "\n",
       "   income  income_d industry  job  house  \n",
       "0    3360      2470        C    3      2  \n",
       "1    4090      3855      NaN  NaN      2  \n",
       "2     774       730      NaN  NaN      1  \n",
       "3    7411      6215        C    5      1  \n",
       "4    9972      7574        P    1      1  "
      ]
     },
     "execution_count": 22,
     "metadata": {},
     "output_type": "execute_result"
    }
   ],
   "source": [
    "df10.head()"
   ]
  },
  {
   "cell_type": "code",
   "execution_count": 23,
   "id": "f5147c76",
   "metadata": {},
   "outputs": [
    {
     "data": {
      "text/html": [
       "<div>\n",
       "<style scoped>\n",
       "    .dataframe tbody tr th:only-of-type {\n",
       "        vertical-align: middle;\n",
       "    }\n",
       "\n",
       "    .dataframe tbody tr th {\n",
       "        vertical-align: top;\n",
       "    }\n",
       "\n",
       "    .dataframe thead th {\n",
       "        text-align: right;\n",
       "    }\n",
       "</style>\n",
       "<table border=\"1\" class=\"dataframe\">\n",
       "  <thead>\n",
       "    <tr style=\"text-align: right;\">\n",
       "      <th></th>\n",
       "      <th>year</th>\n",
       "      <th>metro</th>\n",
       "      <th>id</th>\n",
       "      <th>sex</th>\n",
       "      <th>age</th>\n",
       "      <th>number</th>\n",
       "      <th>education</th>\n",
       "      <th>marriage</th>\n",
       "      <th>asset</th>\n",
       "      <th>debt</th>\n",
       "      <th>income</th>\n",
       "      <th>income_d</th>\n",
       "      <th>industry</th>\n",
       "      <th>job</th>\n",
       "      <th>house</th>\n",
       "    </tr>\n",
       "  </thead>\n",
       "  <tbody>\n",
       "    <tr>\n",
       "      <th>0</th>\n",
       "      <td>2020</td>\n",
       "      <td>G1</td>\n",
       "      <td>10000112</td>\n",
       "      <td>1</td>\n",
       "      <td>34</td>\n",
       "      <td>3</td>\n",
       "      <td>6</td>\n",
       "      <td>2</td>\n",
       "      <td>112000</td>\n",
       "      <td>54500</td>\n",
       "      <td>6593</td>\n",
       "      <td>4599</td>\n",
       "      <td>F</td>\n",
       "      <td>3</td>\n",
       "      <td>2</td>\n",
       "    </tr>\n",
       "    <tr>\n",
       "      <th>1</th>\n",
       "      <td>2020</td>\n",
       "      <td>G1</td>\n",
       "      <td>10000132</td>\n",
       "      <td>2</td>\n",
       "      <td>45</td>\n",
       "      <td>2</td>\n",
       "      <td>8</td>\n",
       "      <td>2</td>\n",
       "      <td>42500</td>\n",
       "      <td>17500</td>\n",
       "      <td>17720</td>\n",
       "      <td>15257</td>\n",
       "      <td>J</td>\n",
       "      <td>2</td>\n",
       "      <td>3</td>\n",
       "    </tr>\n",
       "    <tr>\n",
       "      <th>2</th>\n",
       "      <td>2020</td>\n",
       "      <td>G1</td>\n",
       "      <td>10000162</td>\n",
       "      <td>2</td>\n",
       "      <td>73</td>\n",
       "      <td>1</td>\n",
       "      <td>2</td>\n",
       "      <td>3</td>\n",
       "      <td>5712</td>\n",
       "      <td>0</td>\n",
       "      <td>908</td>\n",
       "      <td>725</td>\n",
       "      <td>T</td>\n",
       "      <td>4</td>\n",
       "      <td>2</td>\n",
       "    </tr>\n",
       "    <tr>\n",
       "      <th>3</th>\n",
       "      <td>2020</td>\n",
       "      <td>G1</td>\n",
       "      <td>10000182</td>\n",
       "      <td>1</td>\n",
       "      <td>58</td>\n",
       "      <td>2</td>\n",
       "      <td>4</td>\n",
       "      <td>2</td>\n",
       "      <td>14870</td>\n",
       "      <td>0</td>\n",
       "      <td>2748</td>\n",
       "      <td>2431</td>\n",
       "      <td>C</td>\n",
       "      <td>5</td>\n",
       "      <td>2</td>\n",
       "    </tr>\n",
       "    <tr>\n",
       "      <th>4</th>\n",
       "      <td>2020</td>\n",
       "      <td>G1</td>\n",
       "      <td>10000192</td>\n",
       "      <td>2</td>\n",
       "      <td>27</td>\n",
       "      <td>1</td>\n",
       "      <td>4</td>\n",
       "      <td>1</td>\n",
       "      <td>814</td>\n",
       "      <td>0</td>\n",
       "      <td>1015</td>\n",
       "      <td>893</td>\n",
       "      <td>R</td>\n",
       "      <td>2</td>\n",
       "      <td>3</td>\n",
       "    </tr>\n",
       "  </tbody>\n",
       "</table>\n",
       "</div>"
      ],
      "text/plain": [
       "   year metro        id  sex  age  number  education  marriage   asset   debt  \\\n",
       "0  2020    G1  10000112    1   34       3          6         2  112000  54500   \n",
       "1  2020    G1  10000132    2   45       2          8         2   42500  17500   \n",
       "2  2020    G1  10000162    2   73       1          2         3    5712      0   \n",
       "3  2020    G1  10000182    1   58       2          4         2   14870      0   \n",
       "4  2020    G1  10000192    2   27       1          4         1     814      0   \n",
       "\n",
       "   income  income_d industry job  house  \n",
       "0    6593      4599        F   3      2  \n",
       "1   17720     15257        J   2      3  \n",
       "2     908       725        T   4      2  \n",
       "3    2748      2431        C   5      2  \n",
       "4    1015       893        R   2      3  "
      ]
     },
     "execution_count": 23,
     "metadata": {},
     "output_type": "execute_result"
    }
   ],
   "source": [
    "df20.head()"
   ]
  },
  {
   "cell_type": "code",
   "execution_count": 24,
   "id": "632d6bf4",
   "metadata": {},
   "outputs": [],
   "source": [
    "df11=df10[['year','id','income']]\n",
    "df21=df20[['year','id','income']]"
   ]
  },
  {
   "cell_type": "code",
   "execution_count": 25,
   "id": "ae08e83f",
   "metadata": {},
   "outputs": [
    {
     "data": {
      "text/html": [
       "<div>\n",
       "<style scoped>\n",
       "    .dataframe tbody tr th:only-of-type {\n",
       "        vertical-align: middle;\n",
       "    }\n",
       "\n",
       "    .dataframe tbody tr th {\n",
       "        vertical-align: top;\n",
       "    }\n",
       "\n",
       "    .dataframe thead th {\n",
       "        text-align: right;\n",
       "    }\n",
       "</style>\n",
       "<table border=\"1\" class=\"dataframe\">\n",
       "  <thead>\n",
       "    <tr style=\"text-align: right;\">\n",
       "      <th></th>\n",
       "      <th>year</th>\n",
       "      <th>id</th>\n",
       "      <th>income</th>\n",
       "    </tr>\n",
       "  </thead>\n",
       "  <tbody>\n",
       "    <tr>\n",
       "      <th>0</th>\n",
       "      <td>2020</td>\n",
       "      <td>10000112</td>\n",
       "      <td>6593</td>\n",
       "    </tr>\n",
       "    <tr>\n",
       "      <th>1</th>\n",
       "      <td>2020</td>\n",
       "      <td>10000132</td>\n",
       "      <td>17720</td>\n",
       "    </tr>\n",
       "    <tr>\n",
       "      <th>2</th>\n",
       "      <td>2020</td>\n",
       "      <td>10000162</td>\n",
       "      <td>908</td>\n",
       "    </tr>\n",
       "    <tr>\n",
       "      <th>3</th>\n",
       "      <td>2020</td>\n",
       "      <td>10000182</td>\n",
       "      <td>2748</td>\n",
       "    </tr>\n",
       "    <tr>\n",
       "      <th>4</th>\n",
       "      <td>2020</td>\n",
       "      <td>10000192</td>\n",
       "      <td>1015</td>\n",
       "    </tr>\n",
       "  </tbody>\n",
       "</table>\n",
       "</div>"
      ],
      "text/plain": [
       "   year        id  income\n",
       "0  2020  10000112    6593\n",
       "1  2020  10000132   17720\n",
       "2  2020  10000162     908\n",
       "3  2020  10000182    2748\n",
       "4  2020  10000192    1015"
      ]
     },
     "execution_count": 25,
     "metadata": {},
     "output_type": "execute_result"
    }
   ],
   "source": [
    "df21.head()"
   ]
  },
  {
   "cell_type": "code",
   "execution_count": 28,
   "id": "28160cb9",
   "metadata": {},
   "outputs": [
    {
     "data": {
      "text/html": [
       "<div>\n",
       "<style scoped>\n",
       "    .dataframe tbody tr th:only-of-type {\n",
       "        vertical-align: middle;\n",
       "    }\n",
       "\n",
       "    .dataframe tbody tr th {\n",
       "        vertical-align: top;\n",
       "    }\n",
       "\n",
       "    .dataframe thead th {\n",
       "        text-align: right;\n",
       "    }\n",
       "</style>\n",
       "<table border=\"1\" class=\"dataframe\">\n",
       "  <thead>\n",
       "    <tr style=\"text-align: right;\">\n",
       "      <th></th>\n",
       "      <th>year_x</th>\n",
       "      <th>id</th>\n",
       "      <th>income_x</th>\n",
       "      <th>year_y</th>\n",
       "      <th>income_y</th>\n",
       "    </tr>\n",
       "  </thead>\n",
       "  <tbody>\n",
       "    <tr>\n",
       "      <th>0</th>\n",
       "      <td>2019</td>\n",
       "      <td>10600141</td>\n",
       "      <td>5385</td>\n",
       "      <td>2020</td>\n",
       "      <td>2695</td>\n",
       "    </tr>\n",
       "    <tr>\n",
       "      <th>1</th>\n",
       "      <td>2019</td>\n",
       "      <td>10600211</td>\n",
       "      <td>2772</td>\n",
       "      <td>2020</td>\n",
       "      <td>1563</td>\n",
       "    </tr>\n",
       "    <tr>\n",
       "      <th>2</th>\n",
       "      <td>2019</td>\n",
       "      <td>10600221</td>\n",
       "      <td>1140</td>\n",
       "      <td>2020</td>\n",
       "      <td>6014</td>\n",
       "    </tr>\n",
       "    <tr>\n",
       "      <th>3</th>\n",
       "      <td>2019</td>\n",
       "      <td>10600241</td>\n",
       "      <td>803</td>\n",
       "      <td>2020</td>\n",
       "      <td>851</td>\n",
       "    </tr>\n",
       "    <tr>\n",
       "      <th>4</th>\n",
       "      <td>2019</td>\n",
       "      <td>10600271</td>\n",
       "      <td>8021</td>\n",
       "      <td>2020</td>\n",
       "      <td>7264</td>\n",
       "    </tr>\n",
       "  </tbody>\n",
       "</table>\n",
       "</div>"
      ],
      "text/plain": [
       "   year_x        id  income_x  year_y  income_y\n",
       "0    2019  10600141      5385    2020      2695\n",
       "1    2019  10600211      2772    2020      1563\n",
       "2    2019  10600221      1140    2020      6014\n",
       "3    2019  10600241       803    2020       851\n",
       "4    2019  10600271      8021    2020      7264"
      ]
     },
     "execution_count": 28,
     "metadata": {},
     "output_type": "execute_result"
    }
   ],
   "source": [
    "# id 같은 애들끼리 찾아서, 2019 소득, 2020 소득 보고 두개 빼자\n",
    "df=pd.merge(df11,df21,on='id',how='inner')\n",
    "# how='inner' : 2년간 둘 다 조사된 id만 남긴다\n",
    "df.head()"
   ]
  },
  {
   "cell_type": "code",
   "execution_count": 30,
   "id": "820980b6",
   "metadata": {},
   "outputs": [
    {
     "data": {
      "text/html": [
       "<div>\n",
       "<style scoped>\n",
       "    .dataframe tbody tr th:only-of-type {\n",
       "        vertical-align: middle;\n",
       "    }\n",
       "\n",
       "    .dataframe tbody tr th {\n",
       "        vertical-align: top;\n",
       "    }\n",
       "\n",
       "    .dataframe thead th {\n",
       "        text-align: right;\n",
       "    }\n",
       "</style>\n",
       "<table border=\"1\" class=\"dataframe\">\n",
       "  <thead>\n",
       "    <tr style=\"text-align: right;\">\n",
       "      <th></th>\n",
       "      <th>year_x</th>\n",
       "      <th>income_x</th>\n",
       "      <th>year_y</th>\n",
       "      <th>income_y</th>\n",
       "    </tr>\n",
       "    <tr>\n",
       "      <th>id</th>\n",
       "      <th></th>\n",
       "      <th></th>\n",
       "      <th></th>\n",
       "      <th></th>\n",
       "    </tr>\n",
       "  </thead>\n",
       "  <tbody>\n",
       "    <tr>\n",
       "      <th>10600141</th>\n",
       "      <td>2019</td>\n",
       "      <td>5385</td>\n",
       "      <td>2020</td>\n",
       "      <td>2695</td>\n",
       "    </tr>\n",
       "    <tr>\n",
       "      <th>10600211</th>\n",
       "      <td>2019</td>\n",
       "      <td>2772</td>\n",
       "      <td>2020</td>\n",
       "      <td>1563</td>\n",
       "    </tr>\n",
       "    <tr>\n",
       "      <th>10600221</th>\n",
       "      <td>2019</td>\n",
       "      <td>1140</td>\n",
       "      <td>2020</td>\n",
       "      <td>6014</td>\n",
       "    </tr>\n",
       "    <tr>\n",
       "      <th>10600241</th>\n",
       "      <td>2019</td>\n",
       "      <td>803</td>\n",
       "      <td>2020</td>\n",
       "      <td>851</td>\n",
       "    </tr>\n",
       "    <tr>\n",
       "      <th>10600271</th>\n",
       "      <td>2019</td>\n",
       "      <td>8021</td>\n",
       "      <td>2020</td>\n",
       "      <td>7264</td>\n",
       "    </tr>\n",
       "  </tbody>\n",
       "</table>\n",
       "</div>"
      ],
      "text/plain": [
       "          year_x  income_x  year_y  income_y\n",
       "id                                          \n",
       "10600141    2019      5385    2020      2695\n",
       "10600211    2019      2772    2020      1563\n",
       "10600221    2019      1140    2020      6014\n",
       "10600241    2019       803    2020       851\n",
       "10600271    2019      8021    2020      7264"
      ]
     },
     "execution_count": 30,
     "metadata": {},
     "output_type": "execute_result"
    }
   ],
   "source": [
    "# index column을 id로 바꾸자\n",
    "df1=df.set_index('id')\n",
    "df1.head()"
   ]
  },
  {
   "cell_type": "code",
   "execution_count": 31,
   "id": "ebd78054",
   "metadata": {},
   "outputs": [
    {
     "data": {
      "text/html": [
       "<div>\n",
       "<style scoped>\n",
       "    .dataframe tbody tr th:only-of-type {\n",
       "        vertical-align: middle;\n",
       "    }\n",
       "\n",
       "    .dataframe tbody tr th {\n",
       "        vertical-align: top;\n",
       "    }\n",
       "\n",
       "    .dataframe thead th {\n",
       "        text-align: right;\n",
       "    }\n",
       "</style>\n",
       "<table border=\"1\" class=\"dataframe\">\n",
       "  <thead>\n",
       "    <tr style=\"text-align: right;\">\n",
       "      <th></th>\n",
       "      <th>income_x</th>\n",
       "      <th>income_y</th>\n",
       "    </tr>\n",
       "    <tr>\n",
       "      <th>id</th>\n",
       "      <th></th>\n",
       "      <th></th>\n",
       "    </tr>\n",
       "  </thead>\n",
       "  <tbody>\n",
       "    <tr>\n",
       "      <th>10600141</th>\n",
       "      <td>5385</td>\n",
       "      <td>2695</td>\n",
       "    </tr>\n",
       "    <tr>\n",
       "      <th>10600211</th>\n",
       "      <td>2772</td>\n",
       "      <td>1563</td>\n",
       "    </tr>\n",
       "    <tr>\n",
       "      <th>10600221</th>\n",
       "      <td>1140</td>\n",
       "      <td>6014</td>\n",
       "    </tr>\n",
       "    <tr>\n",
       "      <th>10600241</th>\n",
       "      <td>803</td>\n",
       "      <td>851</td>\n",
       "    </tr>\n",
       "    <tr>\n",
       "      <th>10600271</th>\n",
       "      <td>8021</td>\n",
       "      <td>7264</td>\n",
       "    </tr>\n",
       "  </tbody>\n",
       "</table>\n",
       "</div>"
      ],
      "text/plain": [
       "          income_x  income_y\n",
       "id                          \n",
       "10600141      5385      2695\n",
       "10600211      2772      1563\n",
       "10600221      1140      6014\n",
       "10600241       803       851\n",
       "10600271      8021      7264"
      ]
     },
     "execution_count": 31,
     "metadata": {},
     "output_type": "execute_result"
    }
   ],
   "source": [
    "df2=df1[['income_x','income_y']]\n",
    "df2.head()"
   ]
  },
  {
   "cell_type": "code",
   "execution_count": 36,
   "id": "af630c45",
   "metadata": {},
   "outputs": [
    {
     "data": {
      "text/html": [
       "<div>\n",
       "<style scoped>\n",
       "    .dataframe tbody tr th:only-of-type {\n",
       "        vertical-align: middle;\n",
       "    }\n",
       "\n",
       "    .dataframe tbody tr th {\n",
       "        vertical-align: top;\n",
       "    }\n",
       "\n",
       "    .dataframe thead th {\n",
       "        text-align: right;\n",
       "    }\n",
       "</style>\n",
       "<table border=\"1\" class=\"dataframe\">\n",
       "  <thead>\n",
       "    <tr style=\"text-align: right;\">\n",
       "      <th></th>\n",
       "      <th>income_x</th>\n",
       "      <th>income_y</th>\n",
       "      <th>diff</th>\n",
       "    </tr>\n",
       "    <tr>\n",
       "      <th>id</th>\n",
       "      <th></th>\n",
       "      <th></th>\n",
       "      <th></th>\n",
       "    </tr>\n",
       "  </thead>\n",
       "  <tbody>\n",
       "    <tr>\n",
       "      <th>10600141</th>\n",
       "      <td>5385</td>\n",
       "      <td>2695</td>\n",
       "      <td>-2690</td>\n",
       "    </tr>\n",
       "    <tr>\n",
       "      <th>10600211</th>\n",
       "      <td>2772</td>\n",
       "      <td>1563</td>\n",
       "      <td>-1209</td>\n",
       "    </tr>\n",
       "    <tr>\n",
       "      <th>10600221</th>\n",
       "      <td>1140</td>\n",
       "      <td>6014</td>\n",
       "      <td>4874</td>\n",
       "    </tr>\n",
       "    <tr>\n",
       "      <th>10600241</th>\n",
       "      <td>803</td>\n",
       "      <td>851</td>\n",
       "      <td>48</td>\n",
       "    </tr>\n",
       "    <tr>\n",
       "      <th>10600271</th>\n",
       "      <td>8021</td>\n",
       "      <td>7264</td>\n",
       "      <td>-757</td>\n",
       "    </tr>\n",
       "  </tbody>\n",
       "</table>\n",
       "</div>"
      ],
      "text/plain": [
       "          income_x  income_y  diff\n",
       "id                                \n",
       "10600141      5385      2695 -2690\n",
       "10600211      2772      1563 -1209\n",
       "10600221      1140      6014  4874\n",
       "10600241       803       851    48\n",
       "10600271      8021      7264  -757"
      ]
     },
     "execution_count": 36,
     "metadata": {},
     "output_type": "execute_result"
    }
   ],
   "source": [
    "df2['diff']=df2['income_y']-df2['income_x']\n",
    "df2.head()"
   ]
  },
  {
   "cell_type": "code",
   "execution_count": 37,
   "id": "bb94ef9f",
   "metadata": {},
   "outputs": [
    {
     "data": {
      "text/plain": [
       "count     13910.000000\n",
       "mean        211.838030\n",
       "std        2935.260708\n",
       "min      -88470.000000\n",
       "25%        -371.000000\n",
       "50%         155.000000\n",
       "75%         840.000000\n",
       "max      137662.000000\n",
       "Name: diff, dtype: float64"
      ]
     },
     "execution_count": 37,
     "metadata": {},
     "output_type": "execute_result"
    }
   ],
   "source": [
    "df2['diff'].describe()"
   ]
  },
  {
   "cell_type": "code",
   "execution_count": 38,
   "id": "48c7a5a9",
   "metadata": {},
   "outputs": [],
   "source": [
    "# 동일집단간 2019,2020년 소득 차이\n",
    "# 평균소득 211만원, 표본크기 13910개"
   ]
  },
  {
   "cell_type": "code",
   "execution_count": 39,
   "id": "7918c292",
   "metadata": {},
   "outputs": [
    {
     "name": "stdout",
     "output_type": "stream",
     "text": [
      "8.478868791464198\n"
     ]
    }
   ],
   "source": [
    "# 검정통계량 z, p-value 구하기\n",
    "z=(211-0)/(2935/np.sqrt(13910))\n",
    "print(z)"
   ]
  },
  {
   "cell_type": "code",
   "execution_count": 40,
   "id": "ab6c8d54",
   "metadata": {},
   "outputs": [
    {
     "name": "stdout",
     "output_type": "stream",
     "text": [
      "0.0\n"
     ]
    }
   ],
   "source": [
    "p_value=1-norm.cdf(z)\n",
    "print(p_value)"
   ]
  },
  {
   "cell_type": "code",
   "execution_count": 41,
   "id": "15542d46",
   "metadata": {},
   "outputs": [],
   "source": [
    "# p-value가 0에 가까운 값 = 0.05가 훨씬 작은 값 -> 귀무가설 기각\n",
    "# p-value란: 검정통계량 값에 대한 오른쪽 꼬리 확률\n",
    "# 결론: 2019년에 비해 2020년에 소득이 실질적으로 증가한다"
   ]
  },
  {
   "cell_type": "code",
   "execution_count": 42,
   "id": "97830fce",
   "metadata": {},
   "outputs": [
    {
     "data": {
      "image/png": "[encoded data removed]",
      "text/plain": [
       "<Figure size 640x480 with 1 Axes>"
      ]
     },
     "metadata": {},
     "output_type": "display_data"
    }
   ],
   "source": [
    "# 2019년과 2020년의 소득분포 히스토그램 그려보기\n",
    "plt.hist(df2['income_x'],alpha=0.3,bins=2000)\n",
    "plt.show()"
   ]
  },
  {
   "cell_type": "code",
   "execution_count": 43,
   "id": "7cd63110",
   "metadata": {},
   "outputs": [
    {
     "data": {
      "image/png": "[encoded data removed]",
      "text/plain": [
       "<Figure size 1500x600 with 1 Axes>"
      ]
     },
     "metadata": {},
     "output_type": "display_data"
    }
   ],
   "source": [
    "fig, ax=plt.subplots(figsize=(15,6))\n",
    "ax.hist(df2['income_y'], alpha=0.3, bins=2000)\n",
    "ax.grid()\n",
    "ax.set_xlim(0,40000) # 최대 값이 20억이라서 위에가 길게 나와서, limit을 한 4억까지 그리도록 함\n",
    "plt.show()"
   ]
  },
  {
   "cell_type": "code",
   "execution_count": 44,
   "id": "72fb85c6",
   "metadata": {},
   "outputs": [],
   "source": [
    "# inner join 말고도 있음"
   ]
  },
  {
   "cell_type": "code",
   "execution_count": null,
   "id": "4040d07d",
   "metadata": {},
   "outputs": [],
   "source": []
  },
  {
   "cell_type": "code",
   "execution_count": null,
   "id": "8d401a05",
   "metadata": {},
   "outputs": [],
   "source": []
  },
  {
   "cell_type": "code",
   "execution_count": null,
   "id": "5e690542",
   "metadata": {},
   "outputs": [],
   "source": []
  },
  {
   "cell_type": "code",
   "execution_count": null,
   "id": "0fedbca9",
   "metadata": {},
   "outputs": [],
   "source": []
  },
  {
   "cell_type": "code",
   "execution_count": null,
   "id": "daa56f8f",
   "metadata": {},
   "outputs": [],
   "source": []
  },
  {
   "cell_type": "code",
   "execution_count": null,
   "id": "2b88f63e",
   "metadata": {},
   "outputs": [],
   "source": []
  },
  {
   "cell_type": "code",
   "execution_count": null,
   "id": "59218e24",
   "metadata": {},
   "outputs": [],
   "source": []
  },
  {
   "cell_type": "code",
   "execution_count": null,
   "id": "d2e40f30",
   "metadata": {},
   "outputs": [],
   "source": []
  },
  {
   "cell_type": "code",
   "execution_count": null,
   "id": "1a8d7e46",
   "metadata": {},
   "outputs": [],
   "source": []
  },
  {
   "cell_type": "code",
   "execution_count": null,
   "id": "612b5142",
   "metadata": {},
   "outputs": [],
   "source": []
  }
 ],
 "metadata": {
  "kernelspec": {
   "display_name": "Python 3 (ipykernel)",
   "language": "python",
   "name": "python3"
  },
  "language_info": {
   "codemirror_mode": {
    "name": "ipython",
    "version": 3
   },
   "file_extension": ".py",
   "mimetype": "text/x-python",
   "name": "python",
   "nbconvert_exporter": "python",
   "pygments_lexer": "ipython3",
   "version": "3.9.13"
  },
  "toc": {
   "base_numbering": 1,
   "nav_menu": {},
   "number_sections": true,
   "sideBar": true,
   "skip_h1_title": false,
   "title_cell": "Table of Contents",
   "title_sidebar": "Contents",
   "toc_cell": false,
   "toc_position": {},
   "toc_section_display": true,
   "toc_window_display": false
  },
  "varInspector": {
   "cols": {
    "lenName": 16,
    "lenType": 16,
    "lenVar": 40
   },
   "kernels_config": {
    "python": {
     "delete_cmd_postfix": "",
     "delete_cmd_prefix": "del ",
     "library": "var_list.py",
     "varRefreshCmd": "print(var_dic_list())"
    },
    "r": {
     "delete_cmd_postfix": ") ",
     "delete_cmd_prefix": "rm(",
     "library": "var_list.r",
     "varRefreshCmd": "cat(var_dic_list()) "
    }
   },
   "types_to_exclude": [
    "module",
    "function",
    "builtin_function_or_method",
    "instance",
    "_Feature"
   ],
   "window_display": false
  }
 },
 "nbformat": 4,
 "nbformat_minor": 5
}
