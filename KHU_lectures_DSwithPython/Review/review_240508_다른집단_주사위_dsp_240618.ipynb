{
 "cells": [
  {
   "cell_type": "code",
   "execution_count": 1,
   "id": "fd11d4c0",
   "metadata": {},
   "outputs": [],
   "source": [
    "import pandas as pd\n",
    "import numpy as np\n",
    "import numpy_financial as npf\n",
    "import seaborn as sns\n",
    "import matplotlib.pyplot as plt\n",
    "import statsmodels.api as sm\n",
    "from statsmodels.formula.api import ols\n",
    "from sklearn.model_selection import train_test_split\n",
    "import warnings\n",
    "warnings.filterwarnings(\"ignore\")\n",
    "from numpy import *\n",
    "\n",
    "from ggplot import *\n",
    "from scipy.stats import logistic\n",
    "from sklearn.metrics import roc_curve\n",
    "from sklearn.metrics import roc_auc_score\n",
    "from sklearn.linear_model import LogisticRegression\n",
    "from sklearn.metrics import confusion_matrix, mean_squared_error\n",
    "from sklearn.model_selection import train_test_split\n",
    "from sklearn import preprocessing\n",
    "from sklearn.neighbors import KNeighborsClassifier\n",
    "from sklearn.naive_bayes import *\n",
    "from sklearn.tree import DecisionTreeClassifier, DecisionTreeRegressor, export_graphviz\n",
    "import graphviz\n",
    "from sklearn.ensemble import RandomForestRegressor, RandomForestClassifier\n",
    "from sklearn.svm import SVC, SVR\n",
    "from sklearn.cluster import KMeans\n",
    "from sklearn.preprocessing import StandardScaler\n",
    "from sklearn.preprocessing import MinMaxScaler\n",
    "\n",
    "\n",
    "from linearmodels.iv import IV2SLS\n",
    "from scipy import stats\n",
    "from scipy.stats import trim_mean #trimmed mean\n",
    "from scipy.stats import * #chi2_contingency로 카이제곱통계량계산\n",
    "from scipy.stats import norm\n",
    "\n",
    "import keyword\n",
    "import random\n",
    "\n",
    "#open api 불러올 때 필요한 것\n",
    "from urllib.request import urlopen #request package 설치\n",
    "from bs4 import BeautifulSoup #bs4 package 설치\n",
    "\n",
    "# 그래프에서 한글 깨지지 않기 위헤 사용함\n",
    "from matplotlib import rcParams\n",
    "from matplotlib import font_manager,rc\n",
    "\n",
    "rcParams['axes.unicode_minus']=False\n",
    "plt.rcParams['font.family']='Malgun Gothic'\n",
    "font_name=font_manager.FontProperties(fname='c:/Windows/Fonts/malgun.ttf').get_name()\n",
    "rc('font',family=font_name)\n",
    "\n",
    "import FinanceDataReader as fdr\n",
    "import plotly.graph_objects as go\n",
    "import plotly.subplots as ms\n",
    "import math\n",
    "\n",
    "import tensorflow as tf\n",
    "\n",
    "import qgrid"
   ]
  },
  {
   "cell_type": "code",
   "execution_count": 2,
   "id": "7b058c42",
   "metadata": {},
   "outputs": [],
   "source": [
    "# 두 집단간 차이 검정\n",
    "# ln9"
   ]
  },
  {
   "cell_type": "code",
   "execution_count": 3,
   "id": "d8c48148",
   "metadata": {},
   "outputs": [
    {
     "data": {
      "text/html": [
       "<div>\n",
       "<style scoped>\n",
       "    .dataframe tbody tr th:only-of-type {\n",
       "        vertical-align: middle;\n",
       "    }\n",
       "\n",
       "    .dataframe tbody tr th {\n",
       "        vertical-align: top;\n",
       "    }\n",
       "\n",
       "    .dataframe thead th {\n",
       "        text-align: right;\n",
       "    }\n",
       "</style>\n",
       "<table border=\"1\" class=\"dataframe\">\n",
       "  <thead>\n",
       "    <tr style=\"text-align: right;\">\n",
       "      <th></th>\n",
       "      <th>year</th>\n",
       "      <th>metro</th>\n",
       "      <th>id</th>\n",
       "      <th>sex</th>\n",
       "      <th>age</th>\n",
       "      <th>number</th>\n",
       "      <th>education</th>\n",
       "      <th>marriage</th>\n",
       "      <th>asset</th>\n",
       "      <th>debt</th>\n",
       "      <th>income</th>\n",
       "      <th>income_d</th>\n",
       "      <th>industry</th>\n",
       "      <th>job</th>\n",
       "      <th>house</th>\n",
       "    </tr>\n",
       "  </thead>\n",
       "  <tbody>\n",
       "    <tr>\n",
       "      <th>0</th>\n",
       "      <td>2020</td>\n",
       "      <td>G1</td>\n",
       "      <td>10000112</td>\n",
       "      <td>1</td>\n",
       "      <td>34</td>\n",
       "      <td>3</td>\n",
       "      <td>6</td>\n",
       "      <td>2</td>\n",
       "      <td>112000</td>\n",
       "      <td>54500</td>\n",
       "      <td>6593</td>\n",
       "      <td>4599</td>\n",
       "      <td>F</td>\n",
       "      <td>3</td>\n",
       "      <td>2</td>\n",
       "    </tr>\n",
       "    <tr>\n",
       "      <th>1</th>\n",
       "      <td>2020</td>\n",
       "      <td>G1</td>\n",
       "      <td>10000132</td>\n",
       "      <td>2</td>\n",
       "      <td>45</td>\n",
       "      <td>2</td>\n",
       "      <td>8</td>\n",
       "      <td>2</td>\n",
       "      <td>42500</td>\n",
       "      <td>17500</td>\n",
       "      <td>17720</td>\n",
       "      <td>15257</td>\n",
       "      <td>J</td>\n",
       "      <td>2</td>\n",
       "      <td>3</td>\n",
       "    </tr>\n",
       "    <tr>\n",
       "      <th>2</th>\n",
       "      <td>2020</td>\n",
       "      <td>G1</td>\n",
       "      <td>10000162</td>\n",
       "      <td>2</td>\n",
       "      <td>73</td>\n",
       "      <td>1</td>\n",
       "      <td>2</td>\n",
       "      <td>3</td>\n",
       "      <td>5712</td>\n",
       "      <td>0</td>\n",
       "      <td>908</td>\n",
       "      <td>725</td>\n",
       "      <td>T</td>\n",
       "      <td>4</td>\n",
       "      <td>2</td>\n",
       "    </tr>\n",
       "    <tr>\n",
       "      <th>3</th>\n",
       "      <td>2020</td>\n",
       "      <td>G1</td>\n",
       "      <td>10000182</td>\n",
       "      <td>1</td>\n",
       "      <td>58</td>\n",
       "      <td>2</td>\n",
       "      <td>4</td>\n",
       "      <td>2</td>\n",
       "      <td>14870</td>\n",
       "      <td>0</td>\n",
       "      <td>2748</td>\n",
       "      <td>2431</td>\n",
       "      <td>C</td>\n",
       "      <td>5</td>\n",
       "      <td>2</td>\n",
       "    </tr>\n",
       "    <tr>\n",
       "      <th>4</th>\n",
       "      <td>2020</td>\n",
       "      <td>G1</td>\n",
       "      <td>10000192</td>\n",
       "      <td>2</td>\n",
       "      <td>27</td>\n",
       "      <td>1</td>\n",
       "      <td>4</td>\n",
       "      <td>1</td>\n",
       "      <td>814</td>\n",
       "      <td>0</td>\n",
       "      <td>1015</td>\n",
       "      <td>893</td>\n",
       "      <td>R</td>\n",
       "      <td>2</td>\n",
       "      <td>3</td>\n",
       "    </tr>\n",
       "  </tbody>\n",
       "</table>\n",
       "</div>"
      ],
      "text/plain": [
       "   year metro        id  sex  age  number  education  marriage   asset   debt  \\\n",
       "0  2020    G1  10000112    1   34       3          6         2  112000  54500   \n",
       "1  2020    G1  10000132    2   45       2          8         2   42500  17500   \n",
       "2  2020    G1  10000162    2   73       1          2         3    5712      0   \n",
       "3  2020    G1  10000182    1   58       2          4         2   14870      0   \n",
       "4  2020    G1  10000192    2   27       1          4         1     814      0   \n",
       "\n",
       "   income  income_d industry job  house  \n",
       "0    6593      4599        F   3      2  \n",
       "1   17720     15257        J   2      3  \n",
       "2     908       725        T   4      2  \n",
       "3    2748      2431        C   5      2  \n",
       "4    1015       893        R   2      3  "
      ]
     },
     "execution_count": 3,
     "metadata": {},
     "output_type": "execute_result"
    }
   ],
   "source": [
    "df=pd.read_csv('c:/temp/household_2020a.csv')\n",
    "df.head()"
   ]
  },
  {
   "cell_type": "code",
   "execution_count": 4,
   "id": "c3aa2a9f",
   "metadata": {},
   "outputs": [],
   "source": [
    "# 가구주 성별간 소득차이\n",
    "# number: 가구원 수\n",
    "# 성별간이니까 지금 필요한건 가구원이 하나인 사람들"
   ]
  },
  {
   "cell_type": "code",
   "execution_count": 5,
   "id": "ddcadf77",
   "metadata": {},
   "outputs": [
    {
     "name": "stdout",
     "output_type": "stream",
     "text": [
      "<class 'pandas.core.frame.DataFrame'>\n",
      "RangeIndex: 18064 entries, 0 to 18063\n",
      "Data columns (total 15 columns):\n",
      " #   Column     Non-Null Count  Dtype \n",
      "---  ------     --------------  ----- \n",
      " 0   year       18064 non-null  int64 \n",
      " 1   metro      18064 non-null  object\n",
      " 2   id         18064 non-null  int64 \n",
      " 3   sex        18064 non-null  int64 \n",
      " 4   age        18064 non-null  int64 \n",
      " 5   number     18064 non-null  int64 \n",
      " 6   education  18064 non-null  int64 \n",
      " 7   marriage   18064 non-null  int64 \n",
      " 8   asset      18064 non-null  int64 \n",
      " 9   debt       18064 non-null  int64 \n",
      " 10  income     18064 non-null  int64 \n",
      " 11  income_d   18064 non-null  int64 \n",
      " 12  industry   13214 non-null  object\n",
      " 13  job        13214 non-null  object\n",
      " 14  house      18064 non-null  int64 \n",
      "dtypes: int64(12), object(3)\n",
      "memory usage: 2.1+ MB\n"
     ]
    }
   ],
   "source": [
    "df.info()"
   ]
  },
  {
   "cell_type": "code",
   "execution_count": 6,
   "id": "716f33a5",
   "metadata": {},
   "outputs": [
    {
     "data": {
      "text/html": [
       "<div>\n",
       "<style scoped>\n",
       "    .dataframe tbody tr th:only-of-type {\n",
       "        vertical-align: middle;\n",
       "    }\n",
       "\n",
       "    .dataframe tbody tr th {\n",
       "        vertical-align: top;\n",
       "    }\n",
       "\n",
       "    .dataframe thead th {\n",
       "        text-align: right;\n",
       "    }\n",
       "</style>\n",
       "<table border=\"1\" class=\"dataframe\">\n",
       "  <thead>\n",
       "    <tr style=\"text-align: right;\">\n",
       "      <th></th>\n",
       "      <th>year</th>\n",
       "      <th>metro</th>\n",
       "      <th>id</th>\n",
       "      <th>sex</th>\n",
       "      <th>age</th>\n",
       "      <th>number</th>\n",
       "      <th>education</th>\n",
       "      <th>marriage</th>\n",
       "      <th>asset</th>\n",
       "      <th>debt</th>\n",
       "      <th>income</th>\n",
       "      <th>income_d</th>\n",
       "      <th>industry</th>\n",
       "      <th>job</th>\n",
       "      <th>house</th>\n",
       "    </tr>\n",
       "  </thead>\n",
       "  <tbody>\n",
       "    <tr>\n",
       "      <th>2</th>\n",
       "      <td>2020</td>\n",
       "      <td>G1</td>\n",
       "      <td>10000162</td>\n",
       "      <td>2</td>\n",
       "      <td>73</td>\n",
       "      <td>1</td>\n",
       "      <td>2</td>\n",
       "      <td>3</td>\n",
       "      <td>5712</td>\n",
       "      <td>0</td>\n",
       "      <td>908</td>\n",
       "      <td>725</td>\n",
       "      <td>T</td>\n",
       "      <td>4</td>\n",
       "      <td>2</td>\n",
       "    </tr>\n",
       "    <tr>\n",
       "      <th>4</th>\n",
       "      <td>2020</td>\n",
       "      <td>G1</td>\n",
       "      <td>10000192</td>\n",
       "      <td>2</td>\n",
       "      <td>27</td>\n",
       "      <td>1</td>\n",
       "      <td>4</td>\n",
       "      <td>1</td>\n",
       "      <td>814</td>\n",
       "      <td>0</td>\n",
       "      <td>1015</td>\n",
       "      <td>893</td>\n",
       "      <td>R</td>\n",
       "      <td>2</td>\n",
       "      <td>3</td>\n",
       "    </tr>\n",
       "    <tr>\n",
       "      <th>6</th>\n",
       "      <td>2020</td>\n",
       "      <td>G2</td>\n",
       "      <td>10000222</td>\n",
       "      <td>1</td>\n",
       "      <td>52</td>\n",
       "      <td>1</td>\n",
       "      <td>4</td>\n",
       "      <td>1</td>\n",
       "      <td>7930</td>\n",
       "      <td>8000</td>\n",
       "      <td>2808</td>\n",
       "      <td>2443</td>\n",
       "      <td>C</td>\n",
       "      <td>9</td>\n",
       "      <td>1</td>\n",
       "    </tr>\n",
       "    <tr>\n",
       "      <th>15</th>\n",
       "      <td>2020</td>\n",
       "      <td>G1</td>\n",
       "      <td>10000342</td>\n",
       "      <td>1</td>\n",
       "      <td>28</td>\n",
       "      <td>1</td>\n",
       "      <td>7</td>\n",
       "      <td>1</td>\n",
       "      <td>20050</td>\n",
       "      <td>200</td>\n",
       "      <td>5603</td>\n",
       "      <td>4782</td>\n",
       "      <td>C</td>\n",
       "      <td>3</td>\n",
       "      <td>2</td>\n",
       "    </tr>\n",
       "    <tr>\n",
       "      <th>16</th>\n",
       "      <td>2020</td>\n",
       "      <td>G1</td>\n",
       "      <td>10000352</td>\n",
       "      <td>2</td>\n",
       "      <td>65</td>\n",
       "      <td>1</td>\n",
       "      <td>4</td>\n",
       "      <td>3</td>\n",
       "      <td>25700</td>\n",
       "      <td>0</td>\n",
       "      <td>2947</td>\n",
       "      <td>2721</td>\n",
       "      <td>NaN</td>\n",
       "      <td>NaN</td>\n",
       "      <td>1</td>\n",
       "    </tr>\n",
       "  </tbody>\n",
       "</table>\n",
       "</div>"
      ],
      "text/plain": [
       "    year metro        id  sex  age  number  education  marriage  asset  debt  \\\n",
       "2   2020    G1  10000162    2   73       1          2         3   5712     0   \n",
       "4   2020    G1  10000192    2   27       1          4         1    814     0   \n",
       "6   2020    G2  10000222    1   52       1          4         1   7930  8000   \n",
       "15  2020    G1  10000342    1   28       1          7         1  20050   200   \n",
       "16  2020    G1  10000352    2   65       1          4         3  25700     0   \n",
       "\n",
       "    income  income_d industry  job  house  \n",
       "2      908       725        T    4      2  \n",
       "4     1015       893        R    2      3  \n",
       "6     2808      2443        C    9      1  \n",
       "15    5603      4782        C    3      2  \n",
       "16    2947      2721      NaN  NaN      1  "
      ]
     },
     "execution_count": 6,
     "metadata": {},
     "output_type": "execute_result"
    }
   ],
   "source": [
    "# number=1만 선택하자\n",
    "df1=df.loc[df['number'].isin([1])] # df의 number라는 변수가 1과 같은 것만 가져오기\n",
    "df1.head()"
   ]
  },
  {
   "cell_type": "code",
   "execution_count": 8,
   "id": "8f111988",
   "metadata": {},
   "outputs": [
    {
     "data": {
      "text/plain": [
       "1.0"
      ]
     },
     "execution_count": 8,
     "metadata": {},
     "output_type": "execute_result"
    }
   ],
   "source": [
    "df1['number'].mean()"
   ]
  },
  {
   "cell_type": "code",
   "execution_count": 9,
   "id": "51950acb",
   "metadata": {},
   "outputs": [
    {
     "data": {
      "text/html": [
       "<div>\n",
       "<style scoped>\n",
       "    .dataframe tbody tr th:only-of-type {\n",
       "        vertical-align: middle;\n",
       "    }\n",
       "\n",
       "    .dataframe tbody tr th {\n",
       "        vertical-align: top;\n",
       "    }\n",
       "\n",
       "    .dataframe thead th {\n",
       "        text-align: right;\n",
       "    }\n",
       "</style>\n",
       "<table border=\"1\" class=\"dataframe\">\n",
       "  <thead>\n",
       "    <tr style=\"text-align: right;\">\n",
       "      <th></th>\n",
       "      <th>year</th>\n",
       "      <th>metro</th>\n",
       "      <th>id</th>\n",
       "      <th>sex</th>\n",
       "      <th>age</th>\n",
       "      <th>number</th>\n",
       "      <th>education</th>\n",
       "      <th>marriage</th>\n",
       "      <th>asset</th>\n",
       "      <th>debt</th>\n",
       "      <th>income</th>\n",
       "      <th>income_d</th>\n",
       "      <th>industry</th>\n",
       "      <th>job</th>\n",
       "      <th>house</th>\n",
       "    </tr>\n",
       "  </thead>\n",
       "  <tbody>\n",
       "    <tr>\n",
       "      <th>19</th>\n",
       "      <td>2020</td>\n",
       "      <td>G1</td>\n",
       "      <td>10001102</td>\n",
       "      <td>1</td>\n",
       "      <td>35</td>\n",
       "      <td>1</td>\n",
       "      <td>5</td>\n",
       "      <td>1</td>\n",
       "      <td>5252</td>\n",
       "      <td>0</td>\n",
       "      <td>1089</td>\n",
       "      <td>1033</td>\n",
       "      <td>L</td>\n",
       "      <td>5</td>\n",
       "      <td>2</td>\n",
       "    </tr>\n",
       "    <tr>\n",
       "      <th>134</th>\n",
       "      <td>2020</td>\n",
       "      <td>G2</td>\n",
       "      <td>11800271</td>\n",
       "      <td>2</td>\n",
       "      <td>30</td>\n",
       "      <td>1</td>\n",
       "      <td>6</td>\n",
       "      <td>1</td>\n",
       "      <td>17920</td>\n",
       "      <td>5000</td>\n",
       "      <td>3756</td>\n",
       "      <td>3032</td>\n",
       "      <td>O</td>\n",
       "      <td>4</td>\n",
       "      <td>2</td>\n",
       "    </tr>\n",
       "    <tr>\n",
       "      <th>157</th>\n",
       "      <td>2020</td>\n",
       "      <td>G1</td>\n",
       "      <td>12000102</td>\n",
       "      <td>1</td>\n",
       "      <td>30</td>\n",
       "      <td>1</td>\n",
       "      <td>6</td>\n",
       "      <td>1</td>\n",
       "      <td>540</td>\n",
       "      <td>0</td>\n",
       "      <td>2004</td>\n",
       "      <td>1812</td>\n",
       "      <td>G</td>\n",
       "      <td>5</td>\n",
       "      <td>3</td>\n",
       "    </tr>\n",
       "    <tr>\n",
       "      <th>190</th>\n",
       "      <td>2020</td>\n",
       "      <td>G1</td>\n",
       "      <td>12600311</td>\n",
       "      <td>1</td>\n",
       "      <td>36</td>\n",
       "      <td>1</td>\n",
       "      <td>6</td>\n",
       "      <td>1</td>\n",
       "      <td>1500</td>\n",
       "      <td>6280</td>\n",
       "      <td>5802</td>\n",
       "      <td>3959</td>\n",
       "      <td>C</td>\n",
       "      <td>2</td>\n",
       "      <td>3</td>\n",
       "    </tr>\n",
       "    <tr>\n",
       "      <th>191</th>\n",
       "      <td>2020</td>\n",
       "      <td>G1</td>\n",
       "      <td>12600321</td>\n",
       "      <td>2</td>\n",
       "      <td>31</td>\n",
       "      <td>1</td>\n",
       "      <td>6</td>\n",
       "      <td>1</td>\n",
       "      <td>1610</td>\n",
       "      <td>0</td>\n",
       "      <td>3032</td>\n",
       "      <td>1197</td>\n",
       "      <td>J</td>\n",
       "      <td>2</td>\n",
       "      <td>5</td>\n",
       "    </tr>\n",
       "  </tbody>\n",
       "</table>\n",
       "</div>"
      ],
      "text/plain": [
       "     year metro        id  sex  age  number  education  marriage  asset  debt  \\\n",
       "19   2020    G1  10001102    1   35       1          5         1   5252     0   \n",
       "134  2020    G2  11800271    2   30       1          6         1  17920  5000   \n",
       "157  2020    G1  12000102    1   30       1          6         1    540     0   \n",
       "190  2020    G1  12600311    1   36       1          6         1   1500  6280   \n",
       "191  2020    G1  12600321    2   31       1          6         1   1610     0   \n",
       "\n",
       "     income  income_d industry job  house  \n",
       "19     1089      1033        L   5      2  \n",
       "134    3756      3032        O   4      2  \n",
       "157    2004      1812        G   5      3  \n",
       "190    5802      3959        C   2      3  \n",
       "191    3032      1197        J   2      5  "
      ]
     },
     "execution_count": 9,
     "metadata": {},
     "output_type": "execute_result"
    }
   ],
   "source": [
    "# 1인 가구 중에 30대만 선택해보자 ( age 변수 이용 )\n",
    "df2=df1.loc[(df1['age']>=30)&(df1['age']<=39)]\n",
    "df2.head()"
   ]
  },
  {
   "cell_type": "code",
   "execution_count": 10,
   "id": "1c009b41",
   "metadata": {},
   "outputs": [
    {
     "data": {
      "text/html": [
       "<div>\n",
       "<style scoped>\n",
       "    .dataframe tbody tr th:only-of-type {\n",
       "        vertical-align: middle;\n",
       "    }\n",
       "\n",
       "    .dataframe tbody tr th {\n",
       "        vertical-align: top;\n",
       "    }\n",
       "\n",
       "    .dataframe thead th {\n",
       "        text-align: right;\n",
       "    }\n",
       "</style>\n",
       "<table border=\"1\" class=\"dataframe\">\n",
       "  <thead>\n",
       "    <tr style=\"text-align: right;\">\n",
       "      <th></th>\n",
       "      <th>year</th>\n",
       "      <th>id</th>\n",
       "      <th>sex</th>\n",
       "      <th>age</th>\n",
       "      <th>number</th>\n",
       "      <th>education</th>\n",
       "      <th>marriage</th>\n",
       "      <th>asset</th>\n",
       "      <th>debt</th>\n",
       "      <th>income</th>\n",
       "      <th>income_d</th>\n",
       "      <th>house</th>\n",
       "    </tr>\n",
       "  </thead>\n",
       "  <tbody>\n",
       "    <tr>\n",
       "      <th>count</th>\n",
       "      <td>388.0</td>\n",
       "      <td>3.880000e+02</td>\n",
       "      <td>388.000000</td>\n",
       "      <td>388.000000</td>\n",
       "      <td>388.0</td>\n",
       "      <td>388.000000</td>\n",
       "      <td>388.000000</td>\n",
       "      <td>388.000000</td>\n",
       "      <td>388.000000</td>\n",
       "      <td>388.000000</td>\n",
       "      <td>388.000000</td>\n",
       "      <td>388.000000</td>\n",
       "    </tr>\n",
       "    <tr>\n",
       "      <th>mean</th>\n",
       "      <td>2020.0</td>\n",
       "      <td>4.799861e+08</td>\n",
       "      <td>1.373711</td>\n",
       "      <td>34.471649</td>\n",
       "      <td>1.0</td>\n",
       "      <td>5.363402</td>\n",
       "      <td>1.198454</td>\n",
       "      <td>14466.365979</td>\n",
       "      <td>3720.824742</td>\n",
       "      <td>3589.876289</td>\n",
       "      <td>2938.038660</td>\n",
       "      <td>2.574742</td>\n",
       "    </tr>\n",
       "    <tr>\n",
       "      <th>std</th>\n",
       "      <td>0.0</td>\n",
       "      <td>2.995366e+08</td>\n",
       "      <td>0.484413</td>\n",
       "      <td>2.887507</td>\n",
       "      <td>0.0</td>\n",
       "      <td>1.008696</td>\n",
       "      <td>0.743132</td>\n",
       "      <td>16607.456223</td>\n",
       "      <td>6679.132947</td>\n",
       "      <td>2318.505170</td>\n",
       "      <td>1903.050082</td>\n",
       "      <td>1.042795</td>\n",
       "    </tr>\n",
       "    <tr>\n",
       "      <th>min</th>\n",
       "      <td>2020.0</td>\n",
       "      <td>1.000110e+07</td>\n",
       "      <td>1.000000</td>\n",
       "      <td>30.000000</td>\n",
       "      <td>1.0</td>\n",
       "      <td>3.000000</td>\n",
       "      <td>1.000000</td>\n",
       "      <td>10.000000</td>\n",
       "      <td>0.000000</td>\n",
       "      <td>4.000000</td>\n",
       "      <td>-743.000000</td>\n",
       "      <td>1.000000</td>\n",
       "    </tr>\n",
       "    <tr>\n",
       "      <th>25%</th>\n",
       "      <td>2020.0</td>\n",
       "      <td>2.154502e+08</td>\n",
       "      <td>1.000000</td>\n",
       "      <td>32.000000</td>\n",
       "      <td>1.0</td>\n",
       "      <td>4.000000</td>\n",
       "      <td>1.000000</td>\n",
       "      <td>3165.000000</td>\n",
       "      <td>0.000000</td>\n",
       "      <td>1973.000000</td>\n",
       "      <td>1648.500000</td>\n",
       "      <td>2.000000</td>\n",
       "    </tr>\n",
       "    <tr>\n",
       "      <th>50%</th>\n",
       "      <td>2020.0</td>\n",
       "      <td>4.568003e+08</td>\n",
       "      <td>1.000000</td>\n",
       "      <td>34.000000</td>\n",
       "      <td>1.0</td>\n",
       "      <td>6.000000</td>\n",
       "      <td>1.000000</td>\n",
       "      <td>9296.000000</td>\n",
       "      <td>500.000000</td>\n",
       "      <td>3229.500000</td>\n",
       "      <td>2720.500000</td>\n",
       "      <td>3.000000</td>\n",
       "    </tr>\n",
       "    <tr>\n",
       "      <th>75%</th>\n",
       "      <td>2020.0</td>\n",
       "      <td>7.712003e+08</td>\n",
       "      <td>2.000000</td>\n",
       "      <td>37.000000</td>\n",
       "      <td>1.0</td>\n",
       "      <td>6.000000</td>\n",
       "      <td>1.000000</td>\n",
       "      <td>19103.750000</td>\n",
       "      <td>4437.000000</td>\n",
       "      <td>4796.500000</td>\n",
       "      <td>3942.500000</td>\n",
       "      <td>3.000000</td>\n",
       "    </tr>\n",
       "    <tr>\n",
       "      <th>max</th>\n",
       "      <td>2020.0</td>\n",
       "      <td>9.908003e+08</td>\n",
       "      <td>2.000000</td>\n",
       "      <td>39.000000</td>\n",
       "      <td>1.0</td>\n",
       "      <td>8.000000</td>\n",
       "      <td>4.000000</td>\n",
       "      <td>105600.000000</td>\n",
       "      <td>42000.000000</td>\n",
       "      <td>17121.000000</td>\n",
       "      <td>15895.000000</td>\n",
       "      <td>5.000000</td>\n",
       "    </tr>\n",
       "  </tbody>\n",
       "</table>\n",
       "</div>"
      ],
      "text/plain": [
       "         year            id         sex         age  number   education  \\\n",
       "count   388.0  3.880000e+02  388.000000  388.000000   388.0  388.000000   \n",
       "mean   2020.0  4.799861e+08    1.373711   34.471649     1.0    5.363402   \n",
       "std       0.0  2.995366e+08    0.484413    2.887507     0.0    1.008696   \n",
       "min    2020.0  1.000110e+07    1.000000   30.000000     1.0    3.000000   \n",
       "25%    2020.0  2.154502e+08    1.000000   32.000000     1.0    4.000000   \n",
       "50%    2020.0  4.568003e+08    1.000000   34.000000     1.0    6.000000   \n",
       "75%    2020.0  7.712003e+08    2.000000   37.000000     1.0    6.000000   \n",
       "max    2020.0  9.908003e+08    2.000000   39.000000     1.0    8.000000   \n",
       "\n",
       "         marriage          asset          debt        income      income_d  \\\n",
       "count  388.000000     388.000000    388.000000    388.000000    388.000000   \n",
       "mean     1.198454   14466.365979   3720.824742   3589.876289   2938.038660   \n",
       "std      0.743132   16607.456223   6679.132947   2318.505170   1903.050082   \n",
       "min      1.000000      10.000000      0.000000      4.000000   -743.000000   \n",
       "25%      1.000000    3165.000000      0.000000   1973.000000   1648.500000   \n",
       "50%      1.000000    9296.000000    500.000000   3229.500000   2720.500000   \n",
       "75%      1.000000   19103.750000   4437.000000   4796.500000   3942.500000   \n",
       "max      4.000000  105600.000000  42000.000000  17121.000000  15895.000000   \n",
       "\n",
       "            house  \n",
       "count  388.000000  \n",
       "mean     2.574742  \n",
       "std      1.042795  \n",
       "min      1.000000  \n",
       "25%      2.000000  \n",
       "50%      3.000000  \n",
       "75%      3.000000  \n",
       "max      5.000000  "
      ]
     },
     "execution_count": 10,
     "metadata": {},
     "output_type": "execute_result"
    }
   ],
   "source": [
    "df2.describe()"
   ]
  },
  {
   "cell_type": "code",
   "execution_count": 11,
   "id": "651be106",
   "metadata": {},
   "outputs": [],
   "source": [
    "# 가구원 1명이고 30대인 사람 총 388명, 평균 34세, 평균소득 3589만원 정도"
   ]
  },
  {
   "cell_type": "code",
   "execution_count": 12,
   "id": "5dfc7c25",
   "metadata": {},
   "outputs": [
    {
     "data": {
      "text/html": [
       "<div>\n",
       "<style scoped>\n",
       "    .dataframe tbody tr th:only-of-type {\n",
       "        vertical-align: middle;\n",
       "    }\n",
       "\n",
       "    .dataframe tbody tr th {\n",
       "        vertical-align: top;\n",
       "    }\n",
       "\n",
       "    .dataframe thead th {\n",
       "        text-align: right;\n",
       "    }\n",
       "</style>\n",
       "<table border=\"1\" class=\"dataframe\">\n",
       "  <thead>\n",
       "    <tr style=\"text-align: right;\">\n",
       "      <th></th>\n",
       "      <th>sex</th>\n",
       "      <th>number</th>\n",
       "      <th>age</th>\n",
       "      <th>income</th>\n",
       "    </tr>\n",
       "  </thead>\n",
       "  <tbody>\n",
       "    <tr>\n",
       "      <th>19</th>\n",
       "      <td>1</td>\n",
       "      <td>1</td>\n",
       "      <td>35</td>\n",
       "      <td>1089</td>\n",
       "    </tr>\n",
       "    <tr>\n",
       "      <th>134</th>\n",
       "      <td>2</td>\n",
       "      <td>1</td>\n",
       "      <td>30</td>\n",
       "      <td>3756</td>\n",
       "    </tr>\n",
       "    <tr>\n",
       "      <th>157</th>\n",
       "      <td>1</td>\n",
       "      <td>1</td>\n",
       "      <td>30</td>\n",
       "      <td>2004</td>\n",
       "    </tr>\n",
       "    <tr>\n",
       "      <th>190</th>\n",
       "      <td>1</td>\n",
       "      <td>1</td>\n",
       "      <td>36</td>\n",
       "      <td>5802</td>\n",
       "    </tr>\n",
       "    <tr>\n",
       "      <th>191</th>\n",
       "      <td>2</td>\n",
       "      <td>1</td>\n",
       "      <td>31</td>\n",
       "      <td>3032</td>\n",
       "    </tr>\n",
       "  </tbody>\n",
       "</table>\n",
       "</div>"
      ],
      "text/plain": [
       "     sex  number  age  income\n",
       "19     1       1   35    1089\n",
       "134    2       1   30    3756\n",
       "157    1       1   30    2004\n",
       "190    1       1   36    5802\n",
       "191    2       1   31    3032"
      ]
     },
     "execution_count": 12,
     "metadata": {},
     "output_type": "execute_result"
    }
   ],
   "source": [
    "df3=df2[['sex','number','age','income']]\n",
    "df3.head()"
   ]
  },
  {
   "cell_type": "code",
   "execution_count": 13,
   "id": "42f1d9a7",
   "metadata": {},
   "outputs": [],
   "source": [
    "# 30대 1인 가구주의 소득분포를 남1/녀2로 구분해 그려보자"
   ]
  },
  {
   "cell_type": "code",
   "execution_count": 14,
   "id": "dc1934ac",
   "metadata": {},
   "outputs": [],
   "source": [
    "# 먼저 df3를 남자와 여자로 나누자\n",
    "df31=df3.loc[df3['sex'].isin([1])]\n",
    "df32=df3.loc[df3['sex'].isin([2])]"
   ]
  },
  {
   "cell_type": "code",
   "execution_count": 15,
   "id": "6b8f71e2",
   "metadata": {},
   "outputs": [
    {
     "data": {
      "text/html": [
       "<div>\n",
       "<style scoped>\n",
       "    .dataframe tbody tr th:only-of-type {\n",
       "        vertical-align: middle;\n",
       "    }\n",
       "\n",
       "    .dataframe tbody tr th {\n",
       "        vertical-align: top;\n",
       "    }\n",
       "\n",
       "    .dataframe thead th {\n",
       "        text-align: right;\n",
       "    }\n",
       "</style>\n",
       "<table border=\"1\" class=\"dataframe\">\n",
       "  <thead>\n",
       "    <tr style=\"text-align: right;\">\n",
       "      <th></th>\n",
       "      <th>sex</th>\n",
       "      <th>number</th>\n",
       "      <th>age</th>\n",
       "      <th>income</th>\n",
       "    </tr>\n",
       "  </thead>\n",
       "  <tbody>\n",
       "    <tr>\n",
       "      <th>19</th>\n",
       "      <td>1</td>\n",
       "      <td>1</td>\n",
       "      <td>35</td>\n",
       "      <td>1089</td>\n",
       "    </tr>\n",
       "    <tr>\n",
       "      <th>157</th>\n",
       "      <td>1</td>\n",
       "      <td>1</td>\n",
       "      <td>30</td>\n",
       "      <td>2004</td>\n",
       "    </tr>\n",
       "    <tr>\n",
       "      <th>190</th>\n",
       "      <td>1</td>\n",
       "      <td>1</td>\n",
       "      <td>36</td>\n",
       "      <td>5802</td>\n",
       "    </tr>\n",
       "    <tr>\n",
       "      <th>262</th>\n",
       "      <td>1</td>\n",
       "      <td>1</td>\n",
       "      <td>34</td>\n",
       "      <td>4001</td>\n",
       "    </tr>\n",
       "    <tr>\n",
       "      <th>293</th>\n",
       "      <td>1</td>\n",
       "      <td>1</td>\n",
       "      <td>37</td>\n",
       "      <td>4080</td>\n",
       "    </tr>\n",
       "  </tbody>\n",
       "</table>\n",
       "</div>"
      ],
      "text/plain": [
       "     sex  number  age  income\n",
       "19     1       1   35    1089\n",
       "157    1       1   30    2004\n",
       "190    1       1   36    5802\n",
       "262    1       1   34    4001\n",
       "293    1       1   37    4080"
      ]
     },
     "execution_count": 15,
     "metadata": {},
     "output_type": "execute_result"
    }
   ],
   "source": [
    "df31.head()"
   ]
  },
  {
   "cell_type": "code",
   "execution_count": 16,
   "id": "c3b9e8e7",
   "metadata": {},
   "outputs": [
    {
     "data": {
      "text/html": [
       "<div>\n",
       "<style scoped>\n",
       "    .dataframe tbody tr th:only-of-type {\n",
       "        vertical-align: middle;\n",
       "    }\n",
       "\n",
       "    .dataframe tbody tr th {\n",
       "        vertical-align: top;\n",
       "    }\n",
       "\n",
       "    .dataframe thead th {\n",
       "        text-align: right;\n",
       "    }\n",
       "</style>\n",
       "<table border=\"1\" class=\"dataframe\">\n",
       "  <thead>\n",
       "    <tr style=\"text-align: right;\">\n",
       "      <th></th>\n",
       "      <th>sex</th>\n",
       "      <th>number</th>\n",
       "      <th>age</th>\n",
       "      <th>income</th>\n",
       "    </tr>\n",
       "  </thead>\n",
       "  <tbody>\n",
       "    <tr>\n",
       "      <th>134</th>\n",
       "      <td>2</td>\n",
       "      <td>1</td>\n",
       "      <td>30</td>\n",
       "      <td>3756</td>\n",
       "    </tr>\n",
       "    <tr>\n",
       "      <th>191</th>\n",
       "      <td>2</td>\n",
       "      <td>1</td>\n",
       "      <td>31</td>\n",
       "      <td>3032</td>\n",
       "    </tr>\n",
       "    <tr>\n",
       "      <th>338</th>\n",
       "      <td>2</td>\n",
       "      <td>1</td>\n",
       "      <td>38</td>\n",
       "      <td>9767</td>\n",
       "    </tr>\n",
       "    <tr>\n",
       "      <th>353</th>\n",
       "      <td>2</td>\n",
       "      <td>1</td>\n",
       "      <td>38</td>\n",
       "      <td>1009</td>\n",
       "    </tr>\n",
       "    <tr>\n",
       "      <th>355</th>\n",
       "      <td>2</td>\n",
       "      <td>1</td>\n",
       "      <td>34</td>\n",
       "      <td>2462</td>\n",
       "    </tr>\n",
       "  </tbody>\n",
       "</table>\n",
       "</div>"
      ],
      "text/plain": [
       "     sex  number  age  income\n",
       "134    2       1   30    3756\n",
       "191    2       1   31    3032\n",
       "338    2       1   38    9767\n",
       "353    2       1   38    1009\n",
       "355    2       1   34    2462"
      ]
     },
     "execution_count": 16,
     "metadata": {},
     "output_type": "execute_result"
    }
   ],
   "source": [
    "df32.head()"
   ]
  },
  {
   "cell_type": "code",
   "execution_count": 18,
   "id": "b8b52431",
   "metadata": {},
   "outputs": [
    {
     "data": {
      "image/png": "[encoded data removed]",
      "text/plain": [
       "<Figure size 640x480 with 1 Axes>"
      ]
     },
     "metadata": {},
     "output_type": "display_data"
    }
   ],
   "source": [
    "# sns의 kdeplot이용해보자\n",
    "sns.kdeplot(df31['income'],shade=True,label='Male')\n",
    "sns.kdeplot(df32['income'],shade=True,label='Female')\n",
    "plt.legend()\n",
    "plt.grid()\n",
    "plt.show()"
   ]
  },
  {
   "cell_type": "code",
   "execution_count": 20,
   "id": "f70a6e4b",
   "metadata": {
    "hide_input": false
   },
   "outputs": [],
   "source": [
    "# 평균소득이 남자가 더 높다 = 더 오른쪽에 최고점\n",
    "# 평균적으로 남자들이 더 돈 많이 번다\n",
    "# 꼬리는 여자가 더 많음"
   ]
  },
  {
   "cell_type": "code",
   "execution_count": 21,
   "id": "83b53358",
   "metadata": {},
   "outputs": [],
   "source": [
    "# 두 그룹의 소득차이 귀무가설 검정하기\n",
    "# 지금 히스토그램은 388명가지고 그린거임\n",
    "# 난 전체에서 남녀간 소득차이 알고 싶음\n",
    "# 두 그룹(남녀)의 소득차이의 유의성검정을 위해 z통계량을 구해보자"
   ]
  },
  {
   "cell_type": "code",
   "execution_count": 30,
   "id": "ec336893",
   "metadata": {},
   "outputs": [
    {
     "data": {
      "text/html": [
       "<div>\n",
       "<style scoped>\n",
       "    .dataframe tbody tr th:only-of-type {\n",
       "        vertical-align: middle;\n",
       "    }\n",
       "\n",
       "    .dataframe tbody tr th {\n",
       "        vertical-align: top;\n",
       "    }\n",
       "\n",
       "    .dataframe thead th {\n",
       "        text-align: right;\n",
       "    }\n",
       "</style>\n",
       "<table border=\"1\" class=\"dataframe\">\n",
       "  <thead>\n",
       "    <tr style=\"text-align: right;\">\n",
       "      <th></th>\n",
       "      <th>sex</th>\n",
       "      <th>number</th>\n",
       "      <th>age</th>\n",
       "      <th>income</th>\n",
       "    </tr>\n",
       "  </thead>\n",
       "  <tbody>\n",
       "    <tr>\n",
       "      <th>19</th>\n",
       "      <td>1</td>\n",
       "      <td>1</td>\n",
       "      <td>35</td>\n",
       "      <td>1089</td>\n",
       "    </tr>\n",
       "    <tr>\n",
       "      <th>134</th>\n",
       "      <td>2</td>\n",
       "      <td>1</td>\n",
       "      <td>30</td>\n",
       "      <td>3756</td>\n",
       "    </tr>\n",
       "    <tr>\n",
       "      <th>157</th>\n",
       "      <td>1</td>\n",
       "      <td>1</td>\n",
       "      <td>30</td>\n",
       "      <td>2004</td>\n",
       "    </tr>\n",
       "    <tr>\n",
       "      <th>190</th>\n",
       "      <td>1</td>\n",
       "      <td>1</td>\n",
       "      <td>36</td>\n",
       "      <td>5802</td>\n",
       "    </tr>\n",
       "    <tr>\n",
       "      <th>191</th>\n",
       "      <td>2</td>\n",
       "      <td>1</td>\n",
       "      <td>31</td>\n",
       "      <td>3032</td>\n",
       "    </tr>\n",
       "  </tbody>\n",
       "</table>\n",
       "</div>"
      ],
      "text/plain": [
       "     sex  number  age  income\n",
       "19     1       1   35    1089\n",
       "134    2       1   30    3756\n",
       "157    1       1   30    2004\n",
       "190    1       1   36    5802\n",
       "191    2       1   31    3032"
      ]
     },
     "execution_count": 30,
     "metadata": {},
     "output_type": "execute_result"
    }
   ],
   "source": [
    "df3.head()"
   ]
  },
  {
   "cell_type": "code",
   "execution_count": 22,
   "id": "b3a3aafc",
   "metadata": {},
   "outputs": [
    {
     "data": {
      "text/html": [
       "<div>\n",
       "<style scoped>\n",
       "    .dataframe tbody tr th:only-of-type {\n",
       "        vertical-align: middle;\n",
       "    }\n",
       "\n",
       "    .dataframe tbody tr th {\n",
       "        vertical-align: top;\n",
       "    }\n",
       "\n",
       "    .dataframe thead th {\n",
       "        text-align: right;\n",
       "    }\n",
       "</style>\n",
       "<table border=\"1\" class=\"dataframe\">\n",
       "  <thead>\n",
       "    <tr style=\"text-align: right;\">\n",
       "      <th></th>\n",
       "      <th>mean</th>\n",
       "      <th>std</th>\n",
       "      <th>count</th>\n",
       "    </tr>\n",
       "    <tr>\n",
       "      <th>sex</th>\n",
       "      <th></th>\n",
       "      <th></th>\n",
       "      <th></th>\n",
       "    </tr>\n",
       "  </thead>\n",
       "  <tbody>\n",
       "    <tr>\n",
       "      <th>1</th>\n",
       "      <td>3756.971193</td>\n",
       "      <td>2285.066126</td>\n",
       "      <td>243</td>\n",
       "    </tr>\n",
       "    <tr>\n",
       "      <th>2</th>\n",
       "      <td>3309.848276</td>\n",
       "      <td>2354.872075</td>\n",
       "      <td>145</td>\n",
       "    </tr>\n",
       "  </tbody>\n",
       "</table>\n",
       "</div>"
      ],
      "text/plain": [
       "            mean          std  count\n",
       "sex                                 \n",
       "1    3756.971193  2285.066126    243\n",
       "2    3309.848276  2354.872075    145"
      ]
     },
     "execution_count": 22,
     "metadata": {},
     "output_type": "execute_result"
    }
   ],
   "source": [
    "df4=df3['income'].groupby(df3['sex'])\n",
    "df4_1=df4.agg(['mean','std','count'])\n",
    "df4_1"
   ]
  },
  {
   "cell_type": "code",
   "execution_count": 23,
   "id": "cb2997da",
   "metadata": {},
   "outputs": [
    {
     "data": {
      "text/plain": [
       "19     1089\n",
       "134    3756\n",
       "157    2004\n",
       "190    5802\n",
       "191    3032\n",
       "262    4001\n",
       "293    4080\n",
       "338    9767\n",
       "353    1009\n",
       "355    2462\n",
       "Name: income, dtype: int64"
      ]
     },
     "execution_count": 23,
     "metadata": {},
     "output_type": "execute_result"
    }
   ],
   "source": [
    "df4.head()"
   ]
  },
  {
   "cell_type": "code",
   "execution_count": 24,
   "id": "e6437f43",
   "metadata": {},
   "outputs": [],
   "source": [
    "# 이거 df4 뭐지??? 강의 확인!!!!!!!!!!!!!!!!!!!!!!!!!!"
   ]
  },
  {
   "cell_type": "code",
   "execution_count": 25,
   "id": "71d2c554",
   "metadata": {},
   "outputs": [
    {
     "data": {
      "text/plain": [
       "447.0999999999999"
      ]
     },
     "execution_count": 25,
     "metadata": {},
     "output_type": "execute_result"
    }
   ],
   "source": [
    "# 분자 : z1 남자 소득 평균-여자 소득 평균\n",
    "z1=3756.9-3309.8\n",
    "z1"
   ]
  },
  {
   "cell_type": "code",
   "execution_count": 26,
   "id": "dc0967ea",
   "metadata": {},
   "outputs": [
    {
     "name": "stdout",
     "output_type": "stream",
     "text": [
      "244.3409401789597\n"
     ]
    }
   ],
   "source": [
    "# 분모 = se\n",
    "# se 표준오차 = 표본의 표준편차 / 루트 n\n",
    "# 지금은 남자와 여자의 평균소득의 차이의 se를 계산해야함\n",
    "se1=(2285**2)/243+(2354**2)/145\n",
    "se2=np.sqrt(se1)\n",
    "print(se2)"
   ]
  },
  {
   "cell_type": "code",
   "execution_count": 27,
   "id": "2cb47efa",
   "metadata": {},
   "outputs": [
    {
     "name": "stdout",
     "output_type": "stream",
     "text": [
      "1.829820249003445\n"
     ]
    }
   ],
   "source": [
    "z=z1/se2\n",
    "print(z)"
   ]
  },
  {
   "cell_type": "code",
   "execution_count": 28,
   "id": "d13d089e",
   "metadata": {},
   "outputs": [
    {
     "name": "stdout",
     "output_type": "stream",
     "text": [
      "0.03363841094036557\n"
     ]
    }
   ],
   "source": [
    "# 파이썬코드로 (z) p-value 값 계산해ㅗㅂ자\n",
    "p_value=1-norm.cdf(z)\n",
    "print(p_value)"
   ]
  },
  {
   "cell_type": "code",
   "execution_count": 29,
   "id": "c13c5727",
   "metadata": {},
   "outputs": [],
   "source": [
    "# p-value 가 0.05보다 작기 때문에 귀무가설 기각\n",
    "# 남자가 여자보다 소득이 크다!"
   ]
  },
  {
   "cell_type": "code",
   "execution_count": 31,
   "id": "b1534514",
   "metadata": {},
   "outputs": [],
   "source": [
    "# 파이썬으로 어케 한다는거임"
   ]
  },
  {
   "cell_type": "code",
   "execution_count": 32,
   "id": "93c7862c",
   "metadata": {},
   "outputs": [],
   "source": [
    "# 카이제곱 분포의 이해\n",
    "# 두 집단이 아닌 세, 네 집단 일 때\n",
    "# 카이제곱의 자유도 = number of group -1"
   ]
  },
  {
   "cell_type": "code",
   "execution_count": 33,
   "id": "b2f42d2c",
   "metadata": {},
   "outputs": [
    {
     "name": "stdout",
     "output_type": "stream",
     "text": [
      "0.4407729680866631\n"
     ]
    }
   ],
   "source": [
    "# ex. 카이제곱 분포 wth degree of freedom=5 = 6-1\n",
    "chi=4.8\n",
    "p_value=1-chi2.cdf(chi,5)\n",
    "print(p_value)"
   ]
  },
  {
   "cell_type": "code",
   "execution_count": 34,
   "id": "e6a409c0",
   "metadata": {},
   "outputs": [],
   "source": [
    "# p-value=44%\n",
    "# 0.05, 5% 보다는 훨씬 크다. 귀무가설 기각하지 않는다\n",
    "# 저 6집단간 차이가 실질적으로 없다."
   ]
  },
  {
   "cell_type": "code",
   "execution_count": 37,
   "id": "5dda282a",
   "metadata": {},
   "outputs": [
    {
     "data": {
      "text/plain": [
       "[16, 7, 9, 7, 14, 7]"
      ]
     },
     "execution_count": 37,
     "metadata": {},
     "output_type": "execute_result"
    }
   ],
   "source": [
    "# 모의실험(함수를 스스로 정의)으로 카이제곱 분포 구해보자\n",
    "\n",
    "# 60번 주사위 던짐\n",
    "import random # 무작위로 수 나오게..\n",
    "def rolldie():\n",
    "    one=0;two=0;three=0;four=0;five=0;six=0 # 0부터 시작해서 나오는 숫자 더해주기 위함\n",
    "    for i in range(60):\n",
    "        roll=random.choice([1,2,3,4,5,6]) # [] 안에 있는 것 중에 하나 꺼내는데, 복원추출\n",
    "        if roll==1:\n",
    "            one=one+1\n",
    "        elif roll==2:\n",
    "            two=two+1\n",
    "        elif roll==3:\n",
    "            three=three+1\n",
    "        elif roll==4:\n",
    "            four=four+1\n",
    "        elif roll==5:\n",
    "            five=five+1\n",
    "        elif roll==6:\n",
    "            six=six+1\n",
    "    return [one,two,three,four,five,six]\n",
    "rolldie()"
   ]
  },
  {
   "cell_type": "code",
   "execution_count": 38,
   "id": "655eb552",
   "metadata": {},
   "outputs": [
    {
     "data": {
      "text/plain": [
       "[19, 18, 12, 17, 16, 18]"
      ]
     },
     "execution_count": 38,
     "metadata": {},
     "output_type": "execute_result"
    }
   ],
   "source": [
    "# 100번 던지는 결과는 우연으로 서로 차이가 발생했는지 가설검정하세요\n",
    "\n",
    "import random \n",
    "def rolldie():\n",
    "    one=0;two=0;three=0;four=0;five=0;six=0 # 0부터 시작해서 나오는 숫자 더해주기 위함\n",
    "    for i in range(100):\n",
    "        roll=random.choice([1,2,3,4,5,6]) # [] 안에 있는 것 중에 하나 꺼내는데, 복원추출\n",
    "        if roll==1:\n",
    "            one=one+1\n",
    "        elif roll==2:\n",
    "            two=two+1\n",
    "        elif roll==3:\n",
    "            three=three+1\n",
    "        elif roll==4:\n",
    "            four=four+1\n",
    "        elif roll==5:\n",
    "            five=five+1\n",
    "        elif roll==6:\n",
    "            six=six+1\n",
    "    return [one,two,three,four,five,six]\n",
    "rolldie()"
   ]
  },
  {
   "cell_type": "code",
   "execution_count": 39,
   "id": "c2408af2",
   "metadata": {},
   "outputs": [
    {
     "name": "stdout",
     "output_type": "stream",
     "text": [
      "61.33333333333333\n"
     ]
    }
   ],
   "source": [
    "expected=100/6\n",
    "chi_stat=(12-expected)**2+(16-expected)**2+(18-expected)**2+(18-expected)**2+(14-expected)**2+(22-expected)**2\n",
    "print(chi_stat)"
   ]
  },
  {
   "cell_type": "code",
   "execution_count": 40,
   "id": "a9b8801f",
   "metadata": {},
   "outputs": [
    {
     "name": "stdout",
     "output_type": "stream",
     "text": [
      "9.42\n"
     ]
    }
   ],
   "source": [
    "chi_stat1=157/expected\n",
    "print(chi_stat1)"
   ]
  },
  {
   "cell_type": "code",
   "execution_count": 41,
   "id": "e0737a1c",
   "metadata": {},
   "outputs": [
    {
     "name": "stdout",
     "output_type": "stream",
     "text": [
      "0.09343960224958658\n"
     ]
    }
   ],
   "source": [
    "chi=9.42\n",
    "p_value=1-chi2.cdf(chi,5)\n",
    "print(p_value)"
   ]
  },
  {
   "cell_type": "code",
   "execution_count": 42,
   "id": "5d42c30c",
   "metadata": {},
   "outputs": [],
   "source": [
    "# 0.05보다 크다\n",
    "# 귀무가설 기각할 수 없다\n",
    "# 차이는 우연에 의한 것이다"
   ]
  },
  {
   "cell_type": "code",
   "execution_count": null,
   "id": "7252a2c5",
   "metadata": {},
   "outputs": [],
   "source": []
  },
  {
   "cell_type": "code",
   "execution_count": null,
   "id": "a816f18c",
   "metadata": {},
   "outputs": [],
   "source": []
  },
  {
   "cell_type": "code",
   "execution_count": null,
   "id": "42da7b84",
   "metadata": {},
   "outputs": [],
   "source": []
  },
  {
   "cell_type": "code",
   "execution_count": null,
   "id": "9399e966",
   "metadata": {},
   "outputs": [],
   "source": []
  },
  {
   "cell_type": "code",
   "execution_count": null,
   "id": "158a0a12",
   "metadata": {},
   "outputs": [],
   "source": []
  },
  {
   "cell_type": "code",
   "execution_count": null,
   "id": "147ac096",
   "metadata": {},
   "outputs": [],
   "source": []
  },
  {
   "cell_type": "code",
   "execution_count": null,
   "id": "e0d99bbc",
   "metadata": {},
   "outputs": [],
   "source": []
  },
  {
   "cell_type": "code",
   "execution_count": null,
   "id": "14086423",
   "metadata": {},
   "outputs": [],
   "source": []
  }
 ],
 "metadata": {
  "kernelspec": {
   "display_name": "Python 3 (ipykernel)",
   "language": "python",
   "name": "python3"
  },
  "language_info": {
   "codemirror_mode": {
    "name": "ipython",
    "version": 3
   },
   "file_extension": ".py",
   "mimetype": "text/x-python",
   "name": "python",
   "nbconvert_exporter": "python",
   "pygments_lexer": "ipython3",
   "version": "3.12.6"
  },
  "toc": {
   "base_numbering": 1,
   "nav_menu": {},
   "number_sections": true,
   "sideBar": true,
   "skip_h1_title": false,
   "title_cell": "Table of Contents",
   "title_sidebar": "Contents",
   "toc_cell": false,
   "toc_position": {},
   "toc_section_display": true,
   "toc_window_display": false
  },
  "varInspector": {
   "cols": {
    "lenName": 16,
    "lenType": 16,
    "lenVar": 40
   },
   "kernels_config": {
    "python": {
     "delete_cmd_postfix": "",
     "delete_cmd_prefix": "del ",
     "library": "var_list.py",
     "varRefreshCmd": "print(var_dic_list())"
    },
    "r": {
     "delete_cmd_postfix": ") ",
     "delete_cmd_prefix": "rm(",
     "library": "var_list.r",
     "varRefreshCmd": "cat(var_dic_list()) "
    }
   },
   "types_to_exclude": [
    "module",
    "function",
    "builtin_function_or_method",
    "instance",
    "_Feature"
   ],
   "window_display": false
  }
 },
 "nbformat": 4,
 "nbformat_minor": 5
}
