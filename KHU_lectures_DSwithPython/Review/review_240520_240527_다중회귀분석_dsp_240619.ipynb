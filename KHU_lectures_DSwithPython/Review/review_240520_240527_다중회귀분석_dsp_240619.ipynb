{
 "cells": [
  {
   "cell_type": "code",
   "execution_count": 1,
   "id": "b82fefa5",
   "metadata": {},
   "outputs": [],
   "source": [
    "import pandas as pd\n",
    "import numpy as np\n",
    "import numpy_financial as npf\n",
    "import seaborn as sns\n",
    "import matplotlib.pyplot as plt\n",
    "import statsmodels.api as sm\n",
    "from statsmodels.formula.api import ols\n",
    "from sklearn.model_selection import train_test_split\n",
    "import warnings\n",
    "warnings.filterwarnings(\"ignore\")\n",
    "from numpy import *\n",
    "\n",
    "from ggplot import *\n",
    "from scipy.stats import logistic\n",
    "from sklearn.metrics import roc_curve\n",
    "from sklearn.metrics import roc_auc_score\n",
    "from sklearn.linear_model import LogisticRegression\n",
    "from sklearn.metrics import confusion_matrix, mean_squared_error\n",
    "from sklearn.model_selection import train_test_split\n",
    "from sklearn import preprocessing\n",
    "from sklearn.neighbors import KNeighborsClassifier\n",
    "from sklearn.naive_bayes import *\n",
    "from sklearn.tree import DecisionTreeClassifier, DecisionTreeRegressor, export_graphviz\n",
    "import graphviz\n",
    "from sklearn.ensemble import RandomForestRegressor, RandomForestClassifier\n",
    "from sklearn.svm import SVC, SVR\n",
    "from sklearn.cluster import KMeans\n",
    "from sklearn.preprocessing import StandardScaler\n",
    "from sklearn.preprocessing import MinMaxScaler\n",
    "\n",
    "\n",
    "from linearmodels.iv import IV2SLS\n",
    "from scipy import stats\n",
    "from scipy.stats import trim_mean #trimmed mean\n",
    "from scipy.stats import * #chi2_contingency로 카이제곱통계량계산\n",
    "from scipy.stats import norm\n",
    "\n",
    "import keyword\n",
    "import random\n",
    "\n",
    "#open api 불러올 때 필요한 것\n",
    "from urllib.request import urlopen #request package 설치\n",
    "from bs4 import BeautifulSoup #bs4 package 설치\n",
    "\n",
    "# 그래프에서 한글 깨지지 않기 위헤 사용함\n",
    "from matplotlib import rcParams\n",
    "from matplotlib import font_manager,rc\n",
    "\n",
    "rcParams['axes.unicode_minus']=False\n",
    "plt.rcParams['font.family']='Malgun Gothic'\n",
    "font_name=font_manager.FontProperties(fname='c:/Windows/Fonts/malgun.ttf').get_name()\n",
    "rc('font',family=font_name)\n",
    "\n",
    "import FinanceDataReader as fdr\n",
    "import plotly.graph_objects as go\n",
    "import plotly.subplots as ms\n",
    "import math\n",
    "\n",
    "import tensorflow as tf\n",
    "\n",
    "import qgrid"
   ]
  },
  {
   "cell_type": "code",
   "execution_count": 2,
   "id": "f2dee23d",
   "metadata": {},
   "outputs": [],
   "source": [
    "# ln11 다중선형회귀분석"
   ]
  },
  {
   "cell_type": "code",
   "execution_count": 3,
   "id": "df32c9fb",
   "metadata": {},
   "outputs": [
    {
     "data": {
      "text/html": [
       "<div>\n",
       "<style scoped>\n",
       "    .dataframe tbody tr th:only-of-type {\n",
       "        vertical-align: middle;\n",
       "    }\n",
       "\n",
       "    .dataframe tbody tr th {\n",
       "        vertical-align: top;\n",
       "    }\n",
       "\n",
       "    .dataframe thead th {\n",
       "        text-align: right;\n",
       "    }\n",
       "</style>\n",
       "<table border=\"1\" class=\"dataframe\">\n",
       "  <thead>\n",
       "    <tr style=\"text-align: right;\">\n",
       "      <th></th>\n",
       "      <th>Unnamed: 0</th>\n",
       "      <th>year</th>\n",
       "      <th>metro</th>\n",
       "      <th>id</th>\n",
       "      <th>sex</th>\n",
       "      <th>age</th>\n",
       "      <th>number</th>\n",
       "      <th>education</th>\n",
       "      <th>marriage</th>\n",
       "      <th>asset</th>\n",
       "      <th>debt</th>\n",
       "      <th>income</th>\n",
       "      <th>income_d</th>\n",
       "      <th>industry</th>\n",
       "      <th>job</th>\n",
       "      <th>house</th>\n",
       "      <th>education_year</th>\n",
       "    </tr>\n",
       "  </thead>\n",
       "  <tbody>\n",
       "    <tr>\n",
       "      <th>0</th>\n",
       "      <td>0</td>\n",
       "      <td>2020</td>\n",
       "      <td>G1</td>\n",
       "      <td>10000112</td>\n",
       "      <td>1</td>\n",
       "      <td>34</td>\n",
       "      <td>3</td>\n",
       "      <td>6</td>\n",
       "      <td>2</td>\n",
       "      <td>112000</td>\n",
       "      <td>54500</td>\n",
       "      <td>6593</td>\n",
       "      <td>4599</td>\n",
       "      <td>F</td>\n",
       "      <td>3</td>\n",
       "      <td>2</td>\n",
       "      <td>16</td>\n",
       "    </tr>\n",
       "    <tr>\n",
       "      <th>1</th>\n",
       "      <td>1</td>\n",
       "      <td>2020</td>\n",
       "      <td>G1</td>\n",
       "      <td>10000132</td>\n",
       "      <td>2</td>\n",
       "      <td>45</td>\n",
       "      <td>2</td>\n",
       "      <td>8</td>\n",
       "      <td>2</td>\n",
       "      <td>42500</td>\n",
       "      <td>17500</td>\n",
       "      <td>17720</td>\n",
       "      <td>15257</td>\n",
       "      <td>J</td>\n",
       "      <td>2</td>\n",
       "      <td>3</td>\n",
       "      <td>21</td>\n",
       "    </tr>\n",
       "    <tr>\n",
       "      <th>2</th>\n",
       "      <td>2</td>\n",
       "      <td>2020</td>\n",
       "      <td>G1</td>\n",
       "      <td>10000162</td>\n",
       "      <td>2</td>\n",
       "      <td>73</td>\n",
       "      <td>1</td>\n",
       "      <td>2</td>\n",
       "      <td>3</td>\n",
       "      <td>5712</td>\n",
       "      <td>0</td>\n",
       "      <td>908</td>\n",
       "      <td>725</td>\n",
       "      <td>T</td>\n",
       "      <td>4</td>\n",
       "      <td>2</td>\n",
       "      <td>6</td>\n",
       "    </tr>\n",
       "    <tr>\n",
       "      <th>3</th>\n",
       "      <td>3</td>\n",
       "      <td>2020</td>\n",
       "      <td>G1</td>\n",
       "      <td>10000182</td>\n",
       "      <td>1</td>\n",
       "      <td>58</td>\n",
       "      <td>2</td>\n",
       "      <td>4</td>\n",
       "      <td>2</td>\n",
       "      <td>14870</td>\n",
       "      <td>0</td>\n",
       "      <td>2748</td>\n",
       "      <td>2431</td>\n",
       "      <td>C</td>\n",
       "      <td>5</td>\n",
       "      <td>2</td>\n",
       "      <td>12</td>\n",
       "    </tr>\n",
       "    <tr>\n",
       "      <th>4</th>\n",
       "      <td>4</td>\n",
       "      <td>2020</td>\n",
       "      <td>G1</td>\n",
       "      <td>10000192</td>\n",
       "      <td>2</td>\n",
       "      <td>27</td>\n",
       "      <td>1</td>\n",
       "      <td>4</td>\n",
       "      <td>1</td>\n",
       "      <td>814</td>\n",
       "      <td>0</td>\n",
       "      <td>1015</td>\n",
       "      <td>893</td>\n",
       "      <td>R</td>\n",
       "      <td>2</td>\n",
       "      <td>3</td>\n",
       "      <td>12</td>\n",
       "    </tr>\n",
       "  </tbody>\n",
       "</table>\n",
       "</div>"
      ],
      "text/plain": [
       "   Unnamed: 0  year metro        id  sex  age  number  education  marriage  \\\n",
       "0           0  2020    G1  10000112    1   34       3          6         2   \n",
       "1           1  2020    G1  10000132    2   45       2          8         2   \n",
       "2           2  2020    G1  10000162    2   73       1          2         3   \n",
       "3           3  2020    G1  10000182    1   58       2          4         2   \n",
       "4           4  2020    G1  10000192    2   27       1          4         1   \n",
       "\n",
       "    asset   debt  income  income_d industry job  house  education_year  \n",
       "0  112000  54500    6593      4599        F   3      2              16  \n",
       "1   42500  17500   17720     15257        J   2      3              21  \n",
       "2    5712      0     908       725        T   4      2               6  \n",
       "3   14870      0    2748      2431        C   5      2              12  \n",
       "4     814      0    1015       893        R   2      3              12  "
      ]
     },
     "execution_count": 3,
     "metadata": {},
     "output_type": "execute_result"
    }
   ],
   "source": [
    "df=pd.read_csv('c:/temp/education2020.csv')\n",
    "df.head()"
   ]
  },
  {
   "cell_type": "code",
   "execution_count": 4,
   "id": "1f823280",
   "metadata": {},
   "outputs": [],
   "source": [
    "df1=df[['income','age','education_year']] # 필요한 변수만 꺼내기"
   ]
  },
  {
   "cell_type": "code",
   "execution_count": 5,
   "id": "bc82f0af",
   "metadata": {},
   "outputs": [],
   "source": [
    "# 첫번째 방법: ols 함수 이용하기"
   ]
  },
  {
   "cell_type": "code",
   "execution_count": 7,
   "id": "e24f87bd",
   "metadata": {},
   "outputs": [
    {
     "name": "stdout",
     "output_type": "stream",
     "text": [
      "                            OLS Regression Results                            \n",
      "==============================================================================\n",
      "Dep. Variable:                 income   R-squared:                       0.164\n",
      "Model:                            OLS   Adj. R-squared:                  0.164\n",
      "Method:                 Least Squares   F-statistic:                     1773.\n",
      "Date:                Wed, 19 Jun 2024   Prob (F-statistic):               0.00\n",
      "Time:                        06:03:40   Log-Likelihood:            -1.7980e+05\n",
      "No. Observations:               18064   AIC:                         3.596e+05\n",
      "Df Residuals:                   18061   BIC:                         3.596e+05\n",
      "Df Model:                           2                                         \n",
      "Covariance Type:            nonrobust                                         \n",
      "==================================================================================\n",
      "                     coef    std err          t      P>|t|      [0.025      0.975]\n",
      "----------------------------------------------------------------------------------\n",
      "Intercept        322.1142    277.944      1.159      0.247    -222.682     866.910\n",
      "age               -9.7072      3.170     -3.062      0.002     -15.921      -3.494\n",
      "education_year   488.0565     10.601     46.040      0.000     467.278     508.835\n",
      "==============================================================================\n",
      "Omnibus:                    28244.543   Durbin-Watson:                   1.919\n",
      "Prob(Omnibus):                  0.000   Jarque-Bera (JB):         58037057.877\n",
      "Skew:                           9.460   Prob(JB):                         0.00\n",
      "Kurtosis:                     280.039   Cond. No.                         444.\n",
      "==============================================================================\n",
      "\n",
      "Notes:\n",
      "[1] Standard Errors assume that the covariance matrix of the errors is correctly specified.\n"
     ]
    }
   ],
   "source": [
    "# ols\n",
    "edu_model=ols('income~age+education_year',data=df1).fit() # x 변수끼리는 + 로 연결한다\n",
    "print(edu_model.summary())"
   ]
  },
  {
   "cell_type": "code",
   "execution_count": 8,
   "id": "8d9e7c2e",
   "metadata": {},
   "outputs": [],
   "source": [
    "# age coef: -9.7072: 마이너스! : 나이가 많을수록 소득이 줄어든다"
   ]
  },
  {
   "cell_type": "code",
   "execution_count": 9,
   "id": "8a56d405",
   "metadata": {},
   "outputs": [],
   "source": [
    "# 2번째 방법: 실제로 행렬 계산해서 계수 추정하기"
   ]
  },
  {
   "cell_type": "code",
   "execution_count": 10,
   "id": "8a8ac84a",
   "metadata": {},
   "outputs": [
    {
     "data": {
      "text/plain": [
       "array([[277.94376121,          nan,          nan],\n",
       "       [         nan,   3.16994497,   4.46648209],\n",
       "       [         nan,   4.46648209,  10.60068714]])"
      ]
     },
     "execution_count": 10,
     "metadata": {},
     "output_type": "execute_result"
    }
   ],
   "source": [
    "# 불러오기\n",
    "df=pd.read_csv('c:/temp/education2020.csv')\n",
    "\n",
    "\n",
    "# 전처리\n",
    "\n",
    "# x변수들\n",
    "edu=df1[['age','education_year']]\n",
    "X=edu.values #(.values: 앞이 행렬로 바뀐다)\n",
    "\n",
    "# 상수항\n",
    "ones=np.ones(X.shape[0]) # 상수항 만들기\n",
    "# X.shape 하면은 행렬 어케 구성된지 나옴 = 행렬의 dimension\n",
    "# X.shape[0]: X.shape 했을 때 나오는 결과 값 (,)의 앞에거 가져오는 것\n",
    "# 즉 ones= ~~ 로는 1,1,1,1,... 행렬을 만드는 것\n",
    "\n",
    "# 상수항, x 변수 2개 으로 이루어진 행렬\n",
    "X_mat=np.column_stack((ones,X))\n",
    "\n",
    "# X_mat.shape 을 해보면 (row 개수, 칼럼 개수=3=상수항,x변수2개) 이렇게 나온다\n",
    "\n",
    "# y변수\n",
    "Y=df1['income'].values #(.values: 앞이 행렬로 바뀐다)\n",
    "\n",
    "\n",
    "# 베타햇 추정하기 <- 이게 중요\n",
    "beta_hat=np.linalg.inv(X_mat.T @X_mat)@(X_mat.T @Y)\n",
    "#np.linal.inv : 역행렬로 하는 것\n",
    "# .T : transpose '\n",
    "\n",
    "\n",
    "# 추정한 Y = y_hat\n",
    "Y_fitted=X_mat @ beta_hat\n",
    "\n",
    "\n",
    "\n",
    "# std err=se(beta_hat) 계산해보기\n",
    "# 그래야 뒤에 t, p-value 나옴\n",
    "\n",
    "# 잔차\n",
    "e_hat=Y-Y_fitted\n",
    "n=len(e_hat)\n",
    "# 시그마를 구해야 표준오차 구할 수 있다. \n",
    "sigma_hat2=(e_hat.T @ e_hat)/(n-3) # n-3= n-(x변수 개수+1)\n",
    "\n",
    "XX_inv=np.linalg.inv(X_mat.T @ X_mat)\n",
    "\n",
    "# XX_inv랑 sigma_hat2로 표준오차=se(beta_hat) 구할 수 있다.\n",
    "# var(beta_hat)\n",
    "var_beta_hat=sigma_hat2*XX_inv\n",
    "\n",
    "# se(beta_hat)\n",
    "np.sqrt(var_beta_hat)"
   ]
  },
  {
   "cell_type": "code",
   "execution_count": 11,
   "id": "0082af72",
   "metadata": {},
   "outputs": [
    {
     "data": {
      "text/plain": [
       "array([322.11417475,  -9.70719755, 488.05651908])"
      ]
     },
     "execution_count": 11,
     "metadata": {},
     "output_type": "execute_result"
    }
   ],
   "source": [
    "beta_hat"
   ]
  },
  {
   "cell_type": "code",
   "execution_count": 12,
   "id": "f60f2bd9",
   "metadata": {},
   "outputs": [],
   "source": [
    "# 0522 시작"
   ]
  },
  {
   "cell_type": "code",
   "execution_count": 13,
   "id": "20060628",
   "metadata": {},
   "outputs": [],
   "source": [
    "# 제곱항과 더미변수 추가"
   ]
  },
  {
   "cell_type": "code",
   "execution_count": 14,
   "id": "42077540",
   "metadata": {},
   "outputs": [
    {
     "name": "stdout",
     "output_type": "stream",
     "text": [
      "                            OLS Regression Results                            \n",
      "==============================================================================\n",
      "Dep. Variable:                 income   R-squared:                       0.187\n",
      "Model:                            OLS   Adj. R-squared:                  0.187\n",
      "Method:                 Least Squares   F-statistic:                     1387.\n",
      "Date:                Wed, 19 Jun 2024   Prob (F-statistic):               0.00\n",
      "Time:                        06:28:28   Log-Likelihood:            -1.7954e+05\n",
      "No. Observations:               18064   AIC:                         3.591e+05\n",
      "Df Residuals:                   18060   BIC:                         3.591e+05\n",
      "Df Model:                           3                                         \n",
      "Covariance Type:            nonrobust                                         \n",
      "==================================================================================\n",
      "                     coef    std err          t      P>|t|      [0.025      0.975]\n",
      "----------------------------------------------------------------------------------\n",
      "Intercept      -9472.0780    511.480    -18.519      0.000   -1.05e+04   -8469.529\n",
      "education_year   443.6572     10.635     41.717      0.000     422.812     464.503\n",
      "age              380.6299     17.492     21.760      0.000     346.343     414.917\n",
      "age2              -3.4393      0.152    -22.680      0.000      -3.737      -3.142\n",
      "==============================================================================\n",
      "Omnibus:                    28753.561   Durbin-Watson:                   1.917\n",
      "Prob(Omnibus):                  0.000   Jarque-Bera (JB):         64950932.250\n",
      "Skew:                           9.799   Prob(JB):                         0.00\n",
      "Kurtosis:                     296.105   Cond. No.                     5.40e+04\n",
      "==============================================================================\n",
      "\n",
      "Notes:\n",
      "[1] Standard Errors assume that the covariance matrix of the errors is correctly specified.\n",
      "[2] The condition number is large, 5.4e+04. This might indicate that there are\n",
      "strong multicollinearity or other numerical problems.\n"
     ]
    }
   ],
   "source": [
    "# 제곱항\n",
    "# 제곱항 모형, 데이터프레임에 포함시키기\n",
    "df1['age2']=df1['age']**2\n",
    "\n",
    "# ols\n",
    "edu_model1=ols('income~education_year+age+age2',data=df1).fit()\n",
    "print(edu_model1.summary())"
   ]
  },
  {
   "cell_type": "code",
   "execution_count": 16,
   "id": "5fe9ccc7",
   "metadata": {},
   "outputs": [],
   "source": [
    "# 위 문제 행렬로 coef 구해보기"
   ]
  },
  {
   "cell_type": "code",
   "execution_count": 17,
   "id": "a2dbbb86",
   "metadata": {},
   "outputs": [
    {
     "data": {
      "text/plain": [
       "array([-9.47207797e+03,  3.80629899e+02, -3.43928289e+00,  4.43657211e+02])"
      ]
     },
     "execution_count": 17,
     "metadata": {},
     "output_type": "execute_result"
    }
   ],
   "source": [
    "# 불러오기\n",
    "df=pd.read_csv('c:/temp/education2020.csv')\n",
    "df1=df[['income','age','education_year']]\n",
    "df1['age2']=df1['age']**2\n",
    "\n",
    "# 전처리\n",
    "edu=df1[['age','age2','education_year']]\n",
    "X=edu.values \n",
    "ones=np.ones(X.shape[0])\n",
    "X_mat=np.column_stack((ones,X))\n",
    "Y=df1['income'].values\n",
    "\n",
    "# 베타햇 추정하기 <- 이게 중요\n",
    "beta_hat=np.linalg.inv(X_mat.T @X_mat)@(X_mat.T @Y)\n",
    "#np.linal.inv : 역행렬로 하는 것\n",
    "# .T : transpose '\n",
    "beta_hat"
   ]
  },
  {
   "cell_type": "code",
   "execution_count": null,
   "id": "9a20e1ac",
   "metadata": {},
   "outputs": [],
   "source": [
    "# 더미변수"
   ]
  },
  {
   "cell_type": "code",
   "execution_count": 20,
   "id": "776b6e00",
   "metadata": {},
   "outputs": [],
   "source": [
    "# 불러오기\n",
    "df=pd.read_csv('c:/temp/education2020.csv')\n",
    "\n",
    "# 전처리 1\n",
    "df1=df[['income','age','education_year']]"
   ]
  },
  {
   "cell_type": "code",
   "execution_count": 21,
   "id": "6d95bb31",
   "metadata": {},
   "outputs": [],
   "source": [
    "# 더미변수 추가하기 <- 데이터 전처리 2\n",
    "\n",
    "# 더미변수 1: sex_dummies\n",
    "# 지금 df1에 성별 sex 변수있음\n",
    "# 이걸 regression에 사용하기 위해 '더미변수'로 만들자\n",
    "# sex_dum1, sex_dum2\n",
    "#sex_dummies=pd.get_dummies(df1['sex']).rename(columns=lambda x: 'sex'+str(x))\n",
    "# 그럼 알아서 더미 두개로 만들어진다\n",
    "# .rename ~~ : 칼럼이름 지정\n",
    "# lambda x: 람다 함수를 사용한다... 뭔소리야\n",
    "#sex_dummies\n",
    "# 1: 남자, 0: 여자\n",
    "sex_dummies=pd.get_dummies(df['sex'],prefix='s')\n",
    "\n",
    "# 더미변수 2: job_dummies\n",
    "df=df.loc[df['job']!='A']\n",
    "job_dummies=pd.get_dummies(df['job'],prefix='j')\n",
    "\n",
    "# df2와 더미변수를 합친 데이터프레임을 만든다\n",
    "# axis=1 : 칼럼 방향, 옆으로 붙이자\n",
    "df2=pd.concat([df1,sex_dummies,job_dummies],axis=1)"
   ]
  },
  {
   "cell_type": "code",
   "execution_count": 22,
   "id": "c87b6724",
   "metadata": {},
   "outputs": [
    {
     "name": "stdout",
     "output_type": "stream",
     "text": [
      "                            OLS Regression Results                            \n",
      "==============================================================================\n",
      "Dep. Variable:                 income   R-squared:                       0.164\n",
      "Model:                            OLS   Adj. R-squared:                  0.164\n",
      "Method:                 Least Squares   F-statistic:                     1767.\n",
      "Date:                Wed, 19 Jun 2024   Prob (F-statistic):               0.00\n",
      "Time:                        06:47:23   Log-Likelihood:            -1.7955e+05\n",
      "No. Observations:               18039   AIC:                         3.591e+05\n",
      "Df Residuals:                   18036   BIC:                         3.591e+05\n",
      "Df Model:                           2                                         \n",
      "Covariance Type:            nonrobust                                         \n",
      "==================================================================================\n",
      "                     coef    std err          t      P>|t|      [0.025      0.975]\n",
      "----------------------------------------------------------------------------------\n",
      "Intercept        322.8971    278.183      1.161      0.246    -222.368     868.162\n",
      "age               -9.6882      3.173     -3.053      0.002     -15.908      -3.469\n",
      "education_year   487.7636     10.610     45.974      0.000     466.968     508.559\n",
      "==============================================================================\n",
      "Omnibus:                    28206.899   Durbin-Watson:                   1.919\n",
      "Prob(Omnibus):                  0.000   Jarque-Bera (JB):         57917647.772\n",
      "Skew:                           9.461   Prob(JB):                         0.00\n",
      "Kurtosis:                     279.945   Cond. No.                         444.\n",
      "==============================================================================\n",
      "\n",
      "Notes:\n",
      "[1] Standard Errors assume that the covariance matrix of the errors is correctly specified.\n"
     ]
    }
   ],
   "source": [
    "# ols 하기\n",
    "\n",
    "# 1: 그냥 ols\n",
    "edu_model2=ols('income~age+education_year',data=df2).fit()\n",
    "print(edu_model2.summary())"
   ]
  },
  {
   "cell_type": "code",
   "execution_count": 23,
   "id": "082b9a98",
   "metadata": {},
   "outputs": [
    {
     "name": "stdout",
     "output_type": "stream",
     "text": [
      "                            OLS Regression Results                            \n",
      "==============================================================================\n",
      "Dep. Variable:                 income   R-squared:                       0.228\n",
      "Model:                            OLS   Adj. R-squared:                  0.228\n",
      "Method:                 Least Squares   F-statistic:                     484.8\n",
      "Date:                Wed, 19 Jun 2024   Prob (F-statistic):               0.00\n",
      "Time:                        06:47:45   Log-Likelihood:            -1.7883e+05\n",
      "No. Observations:               18039   AIC:                         3.577e+05\n",
      "Df Residuals:                   18027   BIC:                         3.578e+05\n",
      "Df Model:                          11                                         \n",
      "Covariance Type:            nonrobust                                         \n",
      "==================================================================================\n",
      "                     coef    std err          t      P>|t|      [0.025      0.975]\n",
      "----------------------------------------------------------------------------------\n",
      "Intercept      -2686.6412    304.369     -8.827      0.000   -3283.234   -2090.048\n",
      "age               25.7915      3.447      7.483      0.000      19.036      32.547\n",
      "education_year   318.5723     11.445     27.835      0.000     296.139     341.005\n",
      "s_1             1971.4080     93.776     21.023      0.000    1787.598    2155.218\n",
      "j_2             4115.6540    150.220     27.398      0.000    3821.209    4410.099\n",
      "j_3             3649.1653    148.460     24.580      0.000    3358.170    3940.160\n",
      "j_4             1595.2434    166.586      9.576      0.000    1268.719    1921.768\n",
      "j_5             1888.2839    166.323     11.353      0.000    1562.275    2214.293\n",
      "j_6              630.9427    158.449      3.982      0.000     320.367     941.519\n",
      "j_7             1507.6025    157.028      9.601      0.000    1199.812    1815.393\n",
      "j_8             1867.8125    143.349     13.030      0.000    1586.835    2148.790\n",
      "j_9              369.1482    134.015      2.755      0.006     106.467     631.830\n",
      "==============================================================================\n",
      "Omnibus:                    29352.408   Durbin-Watson:                   1.928\n",
      "Prob(Omnibus):                  0.000   Jarque-Bera (JB):         74361836.330\n",
      "Skew:                          10.239   Prob(JB):                         0.00\n",
      "Kurtosis:                     316.872   Cond. No.                         580.\n",
      "==============================================================================\n",
      "\n",
      "Notes:\n",
      "[1] Standard Errors assume that the covariance matrix of the errors is correctly specified.\n"
     ]
    }
   ],
   "source": [
    "# 2: 더미변수 포함한 ols\n",
    "# 더미변수는 하나씩 빼준다\n",
    "edu_model3=ols('income~age+education_year+s_1+j_2+j_3+j_4+j_5+j_6+j_7+j_8+j_9',data=df2).fit()\n",
    "print(edu_model3.summary())"
   ]
  },
  {
   "cell_type": "code",
   "execution_count": 24,
   "id": "84a416a7",
   "metadata": {},
   "outputs": [],
   "source": [
    "# 해석\n",
    "# s_1 = 남자: 1971 (양수)\n",
    "# 남자가 여자(빠진 더미)보다 돈 더 많이 번다\n",
    "\n",
    "# j_2: 4115\n",
    "# j_1 보다 4115만큼 돈을 더 벌고 있구나"
   ]
  },
  {
   "cell_type": "code",
   "execution_count": null,
   "id": "ddd30c47",
   "metadata": {},
   "outputs": [],
   "source": []
  },
  {
   "cell_type": "code",
   "execution_count": null,
   "id": "7924e22c",
   "metadata": {},
   "outputs": [],
   "source": []
  }
 ],
 "metadata": {
  "kernelspec": {
   "display_name": "Python 3 (ipykernel)",
   "language": "python",
   "name": "python3"
  },
  "language_info": {
   "codemirror_mode": {
    "name": "ipython",
    "version": 3
   },
   "file_extension": ".py",
   "mimetype": "text/x-python",
   "name": "python",
   "nbconvert_exporter": "python",
   "pygments_lexer": "ipython3",
   "version": "3.9.13"
  },
  "toc": {
   "base_numbering": 1,
   "nav_menu": {},
   "number_sections": true,
   "sideBar": true,
   "skip_h1_title": false,
   "title_cell": "Table of Contents",
   "title_sidebar": "Contents",
   "toc_cell": false,
   "toc_position": {},
   "toc_section_display": true,
   "toc_window_display": false
  },
  "varInspector": {
   "cols": {
    "lenName": 16,
    "lenType": 16,
    "lenVar": 40
   },
   "kernels_config": {
    "python": {
     "delete_cmd_postfix": "",
     "delete_cmd_prefix": "del ",
     "library": "var_list.py",
     "varRefreshCmd": "print(var_dic_list())"
    },
    "r": {
     "delete_cmd_postfix": ") ",
     "delete_cmd_prefix": "rm(",
     "library": "var_list.r",
     "varRefreshCmd": "cat(var_dic_list()) "
    }
   },
   "types_to_exclude": [
    "module",
    "function",
    "builtin_function_or_method",
    "instance",
    "_Feature"
   ],
   "window_display": false
  }
 },
 "nbformat": 4,
 "nbformat_minor": 5
}
