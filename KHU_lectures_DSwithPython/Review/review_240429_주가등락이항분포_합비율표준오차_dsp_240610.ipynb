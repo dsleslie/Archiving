{
 "cells": [
  {
   "cell_type": "code",
   "execution_count": 1,
   "id": "07716729",
   "metadata": {},
   "outputs": [],
   "source": [
    "import pandas as pd\n",
    "import numpy as np\n",
    "import numpy_financial as npf\n",
    "import seaborn as sns\n",
    "import matplotlib.pyplot as plt\n",
    "import statsmodels.api as sm\n",
    "from statsmodels.formula.api import ols\n",
    "from sklearn.model_selection import train_test_split\n",
    "import warnings\n",
    "warnings.filterwarnings(\"ignore\")\n",
    "from numpy import *\n",
    "\n",
    "from ggplot import *\n",
    "from scipy.stats import logistic\n",
    "from sklearn.metrics import roc_curve\n",
    "from sklearn.metrics import roc_auc_score\n",
    "from sklearn.linear_model import LogisticRegression\n",
    "from sklearn.metrics import confusion_matrix, mean_squared_error\n",
    "from sklearn.model_selection import train_test_split\n",
    "from sklearn import preprocessing\n",
    "from sklearn.neighbors import KNeighborsClassifier\n",
    "from sklearn.naive_bayes import *\n",
    "from sklearn.tree import DecisionTreeClassifier, DecisionTreeRegressor, export_graphviz\n",
    "import graphviz\n",
    "from sklearn.ensemble import RandomForestRegressor, RandomForestClassifier\n",
    "from sklearn.svm import SVC, SVR\n",
    "from sklearn.cluster import KMeans\n",
    "from sklearn.preprocessing import StandardScaler\n",
    "\n",
    "\n",
    "from linearmodels.iv import IV2SLS\n",
    "from scipy import stats\n",
    "from scipy.stats import trim_mean #trimmed mean\n",
    "from scipy.stats import * #chi2_contingency로 카이제곱통계량계산\n",
    "from scipy.stats import norm\n",
    "\n",
    "import keyword\n",
    "import random\n",
    "\n",
    "#open api 불러올 때 필요한 것\n",
    "from urllib.request import urlopen #request package 설치\n",
    "from bs4 import BeautifulSoup #bs4 package 설치\n",
    "\n",
    "# 그래프에서 한글 깨지지 않기 위헤 사용함\n",
    "from matplotlib import rcParams\n",
    "from matplotlib import font_manager,rc\n",
    "\n",
    "rcParams['axes.unicode_minus']=False\n",
    "plt.rcParams['font.family']='Malgun Gothic'\n",
    "font_name=font_manager.FontProperties(fname='c:/Windows/Fonts/malgun.ttf').get_name()\n",
    "rc('font',family=font_name)\n",
    "\n",
    "import FinanceDataReader as fdr\n",
    "import plotly.graph_objects as go\n",
    "import plotly.subplots as ms\n",
    "import math\n",
    "\n"
   ]
  },
  {
   "cell_type": "markdown",
   "id": "2fdae123",
   "metadata": {},
   "source": [
    "## lecture 7 주가수익률 분포(2)\n",
    "### 2 주가등락을 이항분포로 설명\n",
    "- 주가등락하는 매일은 베르누이 시행\n",
    "- 주가등락 누적되면 이항분포\n",
    "- 이항분포의 성공확률 p를 얻기 위해 과거 데이터 사용한다"
   ]
  },
  {
   "cell_type": "code",
   "execution_count": 2,
   "id": "34fe2bf0",
   "metadata": {},
   "outputs": [
    {
     "data": {
      "text/html": [
       "<div>\n",
       "<style scoped>\n",
       "    .dataframe tbody tr th:only-of-type {\n",
       "        vertical-align: middle;\n",
       "    }\n",
       "\n",
       "    .dataframe tbody tr th {\n",
       "        vertical-align: top;\n",
       "    }\n",
       "\n",
       "    .dataframe thead th {\n",
       "        text-align: right;\n",
       "    }\n",
       "</style>\n",
       "<table border=\"1\" class=\"dataframe\">\n",
       "  <thead>\n",
       "    <tr style=\"text-align: right;\">\n",
       "      <th></th>\n",
       "      <th>Open</th>\n",
       "      <th>High</th>\n",
       "      <th>Low</th>\n",
       "      <th>Close</th>\n",
       "      <th>Volume</th>\n",
       "      <th>Change</th>\n",
       "    </tr>\n",
       "    <tr>\n",
       "      <th>Date</th>\n",
       "      <th></th>\n",
       "      <th></th>\n",
       "      <th></th>\n",
       "      <th></th>\n",
       "      <th></th>\n",
       "      <th></th>\n",
       "    </tr>\n",
       "  </thead>\n",
       "  <tbody>\n",
       "    <tr>\n",
       "      <th>2010-01-04</th>\n",
       "      <td>16060</td>\n",
       "      <td>16180</td>\n",
       "      <td>16000</td>\n",
       "      <td>16180</td>\n",
       "      <td>239271</td>\n",
       "      <td>0.012516</td>\n",
       "    </tr>\n",
       "    <tr>\n",
       "      <th>2010-01-05</th>\n",
       "      <td>16520</td>\n",
       "      <td>16580</td>\n",
       "      <td>16300</td>\n",
       "      <td>16440</td>\n",
       "      <td>559219</td>\n",
       "      <td>0.016069</td>\n",
       "    </tr>\n",
       "    <tr>\n",
       "      <th>2010-01-06</th>\n",
       "      <td>16580</td>\n",
       "      <td>16820</td>\n",
       "      <td>16520</td>\n",
       "      <td>16820</td>\n",
       "      <td>459755</td>\n",
       "      <td>0.023114</td>\n",
       "    </tr>\n",
       "    <tr>\n",
       "      <th>2010-01-07</th>\n",
       "      <td>16820</td>\n",
       "      <td>16820</td>\n",
       "      <td>16260</td>\n",
       "      <td>16260</td>\n",
       "      <td>443237</td>\n",
       "      <td>-0.033294</td>\n",
       "    </tr>\n",
       "    <tr>\n",
       "      <th>2010-01-08</th>\n",
       "      <td>16400</td>\n",
       "      <td>16420</td>\n",
       "      <td>16120</td>\n",
       "      <td>16420</td>\n",
       "      <td>295798</td>\n",
       "      <td>0.009840</td>\n",
       "    </tr>\n",
       "  </tbody>\n",
       "</table>\n",
       "</div>"
      ],
      "text/plain": [
       "             Open   High    Low  Close  Volume    Change\n",
       "Date                                                    \n",
       "2010-01-04  16060  16180  16000  16180  239271  0.012516\n",
       "2010-01-05  16520  16580  16300  16440  559219  0.016069\n",
       "2010-01-06  16580  16820  16520  16820  459755  0.023114\n",
       "2010-01-07  16820  16820  16260  16260  443237 -0.033294\n",
       "2010-01-08  16400  16420  16120  16420  295798  0.009840"
      ]
     },
     "execution_count": 2,
     "metadata": {},
     "output_type": "execute_result"
    }
   ],
   "source": [
    "df=pd.read_csv('c:/temp/samsung_LN7.csv',index_col='Date',parse_dates=True)\n",
    "df.head()"
   ]
  },
  {
   "cell_type": "code",
   "execution_count": 3,
   "id": "ff9f1a67",
   "metadata": {},
   "outputs": [
    {
     "name": "stdout",
     "output_type": "stream",
     "text": [
      "<class 'pandas.core.frame.DataFrame'>\n",
      "DatetimeIndex: 3519 entries, 2010-01-04 to 2024-04-05\n",
      "Data columns (total 6 columns):\n",
      " #   Column  Non-Null Count  Dtype  \n",
      "---  ------  --------------  -----  \n",
      " 0   Open    3519 non-null   int64  \n",
      " 1   High    3519 non-null   int64  \n",
      " 2   Low     3519 non-null   int64  \n",
      " 3   Close   3519 non-null   int64  \n",
      " 4   Volume  3519 non-null   int64  \n",
      " 5   Change  3519 non-null   float64\n",
      "dtypes: float64(1), int64(5)\n",
      "memory usage: 192.4 KB\n"
     ]
    }
   ],
   "source": [
    "df.info()"
   ]
  },
  {
   "cell_type": "code",
   "execution_count": 4,
   "id": "ae1b6c2a",
   "metadata": {},
   "outputs": [
    {
     "data": {
      "text/plain": [
       "(3519, 6)"
      ]
     },
     "execution_count": 4,
     "metadata": {},
     "output_type": "execute_result"
    }
   ],
   "source": [
    "df.shape"
   ]
  },
  {
   "cell_type": "code",
   "execution_count": 5,
   "id": "b4a12fe4",
   "metadata": {},
   "outputs": [
    {
     "data": {
      "text/html": [
       "<div>\n",
       "<style scoped>\n",
       "    .dataframe tbody tr th:only-of-type {\n",
       "        vertical-align: middle;\n",
       "    }\n",
       "\n",
       "    .dataframe tbody tr th {\n",
       "        vertical-align: top;\n",
       "    }\n",
       "\n",
       "    .dataframe thead th {\n",
       "        text-align: right;\n",
       "    }\n",
       "</style>\n",
       "<table border=\"1\" class=\"dataframe\">\n",
       "  <thead>\n",
       "    <tr style=\"text-align: right;\">\n",
       "      <th></th>\n",
       "      <th>Open</th>\n",
       "      <th>High</th>\n",
       "      <th>Low</th>\n",
       "      <th>Close</th>\n",
       "      <th>Volume</th>\n",
       "      <th>Change</th>\n",
       "    </tr>\n",
       "    <tr>\n",
       "      <th>Date</th>\n",
       "      <th></th>\n",
       "      <th></th>\n",
       "      <th></th>\n",
       "      <th></th>\n",
       "      <th></th>\n",
       "      <th></th>\n",
       "    </tr>\n",
       "  </thead>\n",
       "  <tbody>\n",
       "    <tr>\n",
       "      <th>2024-04-01</th>\n",
       "      <td>83200</td>\n",
       "      <td>83300</td>\n",
       "      <td>82000</td>\n",
       "      <td>82000</td>\n",
       "      <td>20116513</td>\n",
       "      <td>-0.004854</td>\n",
       "    </tr>\n",
       "    <tr>\n",
       "      <th>2024-04-02</th>\n",
       "      <td>82900</td>\n",
       "      <td>85000</td>\n",
       "      <td>82900</td>\n",
       "      <td>85000</td>\n",
       "      <td>37077944</td>\n",
       "      <td>0.036585</td>\n",
       "    </tr>\n",
       "    <tr>\n",
       "      <th>2024-04-03</th>\n",
       "      <td>84300</td>\n",
       "      <td>85000</td>\n",
       "      <td>83500</td>\n",
       "      <td>84100</td>\n",
       "      <td>30493347</td>\n",
       "      <td>-0.010588</td>\n",
       "    </tr>\n",
       "    <tr>\n",
       "      <th>2024-04-04</th>\n",
       "      <td>85200</td>\n",
       "      <td>85500</td>\n",
       "      <td>84300</td>\n",
       "      <td>85300</td>\n",
       "      <td>25248934</td>\n",
       "      <td>0.014269</td>\n",
       "    </tr>\n",
       "    <tr>\n",
       "      <th>2024-04-05</th>\n",
       "      <td>84500</td>\n",
       "      <td>85000</td>\n",
       "      <td>83800</td>\n",
       "      <td>84500</td>\n",
       "      <td>18773002</td>\n",
       "      <td>-0.009379</td>\n",
       "    </tr>\n",
       "  </tbody>\n",
       "</table>\n",
       "</div>"
      ],
      "text/plain": [
       "             Open   High    Low  Close    Volume    Change\n",
       "Date                                                      \n",
       "2024-04-01  83200  83300  82000  82000  20116513 -0.004854\n",
       "2024-04-02  82900  85000  82900  85000  37077944  0.036585\n",
       "2024-04-03  84300  85000  83500  84100  30493347 -0.010588\n",
       "2024-04-04  85200  85500  84300  85300  25248934  0.014269\n",
       "2024-04-05  84500  85000  83800  84500  18773002 -0.009379"
      ]
     },
     "execution_count": 5,
     "metadata": {},
     "output_type": "execute_result"
    }
   ],
   "source": [
    "df.tail()"
   ]
  },
  {
   "cell_type": "code",
   "execution_count": 6,
   "id": "66a3ae5b",
   "metadata": {},
   "outputs": [],
   "source": [
    "# 최근 1년치만 가지고 p를 계산해보자\n",
    "# 2021-01-01 : 2021-12-31\n",
    "# loc로 가져온다\n",
    "# loc: label을 이용해서 가져오는 방식"
   ]
  },
  {
   "cell_type": "code",
   "execution_count": 7,
   "id": "ee9d38e1",
   "metadata": {},
   "outputs": [
    {
     "data": {
      "text/html": [
       "<div>\n",
       "<style scoped>\n",
       "    .dataframe tbody tr th:only-of-type {\n",
       "        vertical-align: middle;\n",
       "    }\n",
       "\n",
       "    .dataframe tbody tr th {\n",
       "        vertical-align: top;\n",
       "    }\n",
       "\n",
       "    .dataframe thead th {\n",
       "        text-align: right;\n",
       "    }\n",
       "</style>\n",
       "<table border=\"1\" class=\"dataframe\">\n",
       "  <thead>\n",
       "    <tr style=\"text-align: right;\">\n",
       "      <th></th>\n",
       "      <th>Open</th>\n",
       "      <th>High</th>\n",
       "      <th>Low</th>\n",
       "      <th>Close</th>\n",
       "      <th>Volume</th>\n",
       "      <th>Change</th>\n",
       "    </tr>\n",
       "    <tr>\n",
       "      <th>Date</th>\n",
       "      <th></th>\n",
       "      <th></th>\n",
       "      <th></th>\n",
       "      <th></th>\n",
       "      <th></th>\n",
       "      <th></th>\n",
       "    </tr>\n",
       "  </thead>\n",
       "  <tbody>\n",
       "    <tr>\n",
       "      <th>2021-01-04</th>\n",
       "      <td>81000</td>\n",
       "      <td>84400</td>\n",
       "      <td>80200</td>\n",
       "      <td>83000</td>\n",
       "      <td>38655276</td>\n",
       "      <td>0.024691</td>\n",
       "    </tr>\n",
       "    <tr>\n",
       "      <th>2021-01-05</th>\n",
       "      <td>81600</td>\n",
       "      <td>83900</td>\n",
       "      <td>81600</td>\n",
       "      <td>83900</td>\n",
       "      <td>35335669</td>\n",
       "      <td>0.010843</td>\n",
       "    </tr>\n",
       "    <tr>\n",
       "      <th>2021-01-06</th>\n",
       "      <td>83300</td>\n",
       "      <td>84500</td>\n",
       "      <td>82100</td>\n",
       "      <td>82200</td>\n",
       "      <td>42089013</td>\n",
       "      <td>-0.020262</td>\n",
       "    </tr>\n",
       "    <tr>\n",
       "      <th>2021-01-07</th>\n",
       "      <td>82800</td>\n",
       "      <td>84200</td>\n",
       "      <td>82700</td>\n",
       "      <td>82900</td>\n",
       "      <td>32644642</td>\n",
       "      <td>0.008516</td>\n",
       "    </tr>\n",
       "    <tr>\n",
       "      <th>2021-01-08</th>\n",
       "      <td>83300</td>\n",
       "      <td>90000</td>\n",
       "      <td>83000</td>\n",
       "      <td>88800</td>\n",
       "      <td>59013307</td>\n",
       "      <td>0.071170</td>\n",
       "    </tr>\n",
       "  </tbody>\n",
       "</table>\n",
       "</div>"
      ],
      "text/plain": [
       "             Open   High    Low  Close    Volume    Change\n",
       "Date                                                      \n",
       "2021-01-04  81000  84400  80200  83000  38655276  0.024691\n",
       "2021-01-05  81600  83900  81600  83900  35335669  0.010843\n",
       "2021-01-06  83300  84500  82100  82200  42089013 -0.020262\n",
       "2021-01-07  82800  84200  82700  82900  32644642  0.008516\n",
       "2021-01-08  83300  90000  83000  88800  59013307  0.071170"
      ]
     },
     "execution_count": 7,
     "metadata": {},
     "output_type": "execute_result"
    }
   ],
   "source": [
    "df1=df.loc['2021-01-01':'2021-12-31']\n",
    "df1.head()"
   ]
  },
  {
   "cell_type": "code",
   "execution_count": 8,
   "id": "f253d3e2",
   "metadata": {},
   "outputs": [
    {
     "data": {
      "text/html": [
       "<div>\n",
       "<style scoped>\n",
       "    .dataframe tbody tr th:only-of-type {\n",
       "        vertical-align: middle;\n",
       "    }\n",
       "\n",
       "    .dataframe tbody tr th {\n",
       "        vertical-align: top;\n",
       "    }\n",
       "\n",
       "    .dataframe thead th {\n",
       "        text-align: right;\n",
       "    }\n",
       "</style>\n",
       "<table border=\"1\" class=\"dataframe\">\n",
       "  <thead>\n",
       "    <tr style=\"text-align: right;\">\n",
       "      <th></th>\n",
       "      <th>Open</th>\n",
       "      <th>High</th>\n",
       "      <th>Low</th>\n",
       "      <th>Close</th>\n",
       "      <th>Volume</th>\n",
       "      <th>Change</th>\n",
       "    </tr>\n",
       "    <tr>\n",
       "      <th>Date</th>\n",
       "      <th></th>\n",
       "      <th></th>\n",
       "      <th></th>\n",
       "      <th></th>\n",
       "      <th></th>\n",
       "      <th></th>\n",
       "    </tr>\n",
       "  </thead>\n",
       "  <tbody>\n",
       "    <tr>\n",
       "      <th>2021-12-24</th>\n",
       "      <td>80200</td>\n",
       "      <td>80800</td>\n",
       "      <td>80200</td>\n",
       "      <td>80500</td>\n",
       "      <td>12086380</td>\n",
       "      <td>0.007509</td>\n",
       "    </tr>\n",
       "    <tr>\n",
       "      <th>2021-12-27</th>\n",
       "      <td>80600</td>\n",
       "      <td>80600</td>\n",
       "      <td>79800</td>\n",
       "      <td>80200</td>\n",
       "      <td>10783368</td>\n",
       "      <td>-0.003727</td>\n",
       "    </tr>\n",
       "    <tr>\n",
       "      <th>2021-12-28</th>\n",
       "      <td>80200</td>\n",
       "      <td>80400</td>\n",
       "      <td>79700</td>\n",
       "      <td>80300</td>\n",
       "      <td>18226325</td>\n",
       "      <td>0.001247</td>\n",
       "    </tr>\n",
       "    <tr>\n",
       "      <th>2021-12-29</th>\n",
       "      <td>80200</td>\n",
       "      <td>80200</td>\n",
       "      <td>78500</td>\n",
       "      <td>78800</td>\n",
       "      <td>19794795</td>\n",
       "      <td>-0.018680</td>\n",
       "    </tr>\n",
       "    <tr>\n",
       "      <th>2021-12-30</th>\n",
       "      <td>78900</td>\n",
       "      <td>79500</td>\n",
       "      <td>78100</td>\n",
       "      <td>78300</td>\n",
       "      <td>14236700</td>\n",
       "      <td>-0.006345</td>\n",
       "    </tr>\n",
       "  </tbody>\n",
       "</table>\n",
       "</div>"
      ],
      "text/plain": [
       "             Open   High    Low  Close    Volume    Change\n",
       "Date                                                      \n",
       "2021-12-24  80200  80800  80200  80500  12086380  0.007509\n",
       "2021-12-27  80600  80600  79800  80200  10783368 -0.003727\n",
       "2021-12-28  80200  80400  79700  80300  18226325  0.001247\n",
       "2021-12-29  80200  80200  78500  78800  19794795 -0.018680\n",
       "2021-12-30  78900  79500  78100  78300  14236700 -0.006345"
      ]
     },
     "execution_count": 8,
     "metadata": {},
     "output_type": "execute_result"
    }
   ],
   "source": [
    "df1.tail()"
   ]
  },
  {
   "cell_type": "code",
   "execution_count": 9,
   "id": "26a8bb6b",
   "metadata": {},
   "outputs": [],
   "source": [
    "# return (r): 수익률\n",
    "# 양수면 주가 상승, 음수면 주가 하락\n",
    "# python으로 수익률 r 계산가능"
   ]
  },
  {
   "cell_type": "code",
   "execution_count": 10,
   "id": "4a00f433",
   "metadata": {},
   "outputs": [
    {
     "data": {
      "text/html": [
       "<div>\n",
       "<style scoped>\n",
       "    .dataframe tbody tr th:only-of-type {\n",
       "        vertical-align: middle;\n",
       "    }\n",
       "\n",
       "    .dataframe tbody tr th {\n",
       "        vertical-align: top;\n",
       "    }\n",
       "\n",
       "    .dataframe thead th {\n",
       "        text-align: right;\n",
       "    }\n",
       "</style>\n",
       "<table border=\"1\" class=\"dataframe\">\n",
       "  <thead>\n",
       "    <tr style=\"text-align: right;\">\n",
       "      <th></th>\n",
       "      <th>Open</th>\n",
       "      <th>High</th>\n",
       "      <th>Low</th>\n",
       "      <th>Close</th>\n",
       "      <th>Volume</th>\n",
       "      <th>Change</th>\n",
       "      <th>ret</th>\n",
       "    </tr>\n",
       "    <tr>\n",
       "      <th>Date</th>\n",
       "      <th></th>\n",
       "      <th></th>\n",
       "      <th></th>\n",
       "      <th></th>\n",
       "      <th></th>\n",
       "      <th></th>\n",
       "      <th></th>\n",
       "    </tr>\n",
       "  </thead>\n",
       "  <tbody>\n",
       "    <tr>\n",
       "      <th>2021-01-04</th>\n",
       "      <td>81000</td>\n",
       "      <td>84400</td>\n",
       "      <td>80200</td>\n",
       "      <td>83000</td>\n",
       "      <td>38655276</td>\n",
       "      <td>0.024691</td>\n",
       "      <td>NaN</td>\n",
       "    </tr>\n",
       "    <tr>\n",
       "      <th>2021-01-05</th>\n",
       "      <td>81600</td>\n",
       "      <td>83900</td>\n",
       "      <td>81600</td>\n",
       "      <td>83900</td>\n",
       "      <td>35335669</td>\n",
       "      <td>0.010843</td>\n",
       "      <td>1.084337</td>\n",
       "    </tr>\n",
       "    <tr>\n",
       "      <th>2021-01-06</th>\n",
       "      <td>83300</td>\n",
       "      <td>84500</td>\n",
       "      <td>82100</td>\n",
       "      <td>82200</td>\n",
       "      <td>42089013</td>\n",
       "      <td>-0.020262</td>\n",
       "      <td>-2.026222</td>\n",
       "    </tr>\n",
       "    <tr>\n",
       "      <th>2021-01-07</th>\n",
       "      <td>82800</td>\n",
       "      <td>84200</td>\n",
       "      <td>82700</td>\n",
       "      <td>82900</td>\n",
       "      <td>32644642</td>\n",
       "      <td>0.008516</td>\n",
       "      <td>0.851582</td>\n",
       "    </tr>\n",
       "    <tr>\n",
       "      <th>2021-01-08</th>\n",
       "      <td>83300</td>\n",
       "      <td>90000</td>\n",
       "      <td>83000</td>\n",
       "      <td>88800</td>\n",
       "      <td>59013307</td>\n",
       "      <td>0.071170</td>\n",
       "      <td>7.117008</td>\n",
       "    </tr>\n",
       "  </tbody>\n",
       "</table>\n",
       "</div>"
      ],
      "text/plain": [
       "             Open   High    Low  Close    Volume    Change       ret\n",
       "Date                                                                \n",
       "2021-01-04  81000  84400  80200  83000  38655276  0.024691       NaN\n",
       "2021-01-05  81600  83900  81600  83900  35335669  0.010843  1.084337\n",
       "2021-01-06  83300  84500  82100  82200  42089013 -0.020262 -2.026222\n",
       "2021-01-07  82800  84200  82700  82900  32644642  0.008516  0.851582\n",
       "2021-01-08  83300  90000  83000  88800  59013307  0.071170  7.117008"
      ]
     },
     "execution_count": 10,
     "metadata": {},
     "output_type": "execute_result"
    }
   ],
   "source": [
    "df1['ret']=100*(df1['Close'].pct_change())\n",
    "df1.head()"
   ]
  },
  {
   "cell_type": "code",
   "execution_count": 11,
   "id": "f92b9a21",
   "metadata": {},
   "outputs": [],
   "source": [
    "# 수익률 나타내는 ret 칼럼 생김\n",
    "# 2021-01-04의 ret는 결측치일 수 밖에 없음, 앞에 데이터가 없으니까"
   ]
  },
  {
   "cell_type": "code",
   "execution_count": 12,
   "id": "a4152326",
   "metadata": {},
   "outputs": [
    {
     "data": {
      "text/plain": [
       "Date\n",
       "2021-01-04         NaN\n",
       "2021-01-05    1.084337\n",
       "2021-01-06   -2.026222\n",
       "2021-01-07    0.851582\n",
       "2021-01-08    7.117008\n",
       "                ...   \n",
       "2021-12-24    0.750939\n",
       "2021-12-27   -0.372671\n",
       "2021-12-28    0.124688\n",
       "2021-12-29   -1.867995\n",
       "2021-12-30   -0.634518\n",
       "Name: ret, Length: 248, dtype: float64"
      ]
     },
     "execution_count": 12,
     "metadata": {},
     "output_type": "execute_result"
    }
   ],
   "source": [
    "df2=df1['ret']\n",
    "df2"
   ]
  },
  {
   "cell_type": "code",
   "execution_count": 13,
   "id": "abf05d63",
   "metadata": {},
   "outputs": [],
   "source": [
    "# dropna(): 결측치 없애겠다"
   ]
  },
  {
   "cell_type": "code",
   "execution_count": 14,
   "id": "a48fcc86",
   "metadata": {},
   "outputs": [
    {
     "data": {
      "text/plain": [
       "Date\n",
       "2021-01-05    1.084337\n",
       "2021-01-06   -2.026222\n",
       "2021-01-07    0.851582\n",
       "2021-01-08    7.117008\n",
       "2021-01-11    2.477477\n",
       "                ...   \n",
       "2021-12-24    0.750939\n",
       "2021-12-27   -0.372671\n",
       "2021-12-28    0.124688\n",
       "2021-12-29   -1.867995\n",
       "2021-12-30   -0.634518\n",
       "Name: ret, Length: 247, dtype: float64"
      ]
     },
     "execution_count": 14,
     "metadata": {},
     "output_type": "execute_result"
    }
   ],
   "source": [
    "r=df2.dropna()\n",
    "r"
   ]
  },
  {
   "cell_type": "code",
   "execution_count": 15,
   "id": "d5070ad8",
   "metadata": {},
   "outputs": [
    {
     "name": "stdout",
     "output_type": "stream",
     "text": [
      "Date\n",
      "2021-01-05    1.084337\n",
      "2021-01-06   -2.026222\n",
      "2021-01-07    0.851582\n",
      "2021-01-08    7.117008\n",
      "2021-01-11    2.477477\n",
      "                ...   \n",
      "2021-12-24    0.750939\n",
      "2021-12-27   -0.372671\n",
      "2021-12-28    0.124688\n",
      "2021-12-29   -1.867995\n",
      "2021-12-30   -0.634518\n",
      "Name: ret, Length: 247, dtype: float64\n"
     ]
    }
   ],
   "source": [
    "print(r)"
   ]
  },
  {
   "cell_type": "code",
   "execution_count": 16,
   "id": "1532b3d7",
   "metadata": {},
   "outputs": [
    {
     "data": {
      "text/plain": [
       "count    247.000000\n",
       "mean      -0.014333\n",
       "std        1.369006\n",
       "min       -3.496503\n",
       "25%       -0.731262\n",
       "50%       -0.123305\n",
       "75%        0.724664\n",
       "max        7.117008\n",
       "Name: ret, dtype: float64"
      ]
     },
     "execution_count": 16,
     "metadata": {},
     "output_type": "execute_result"
    }
   ],
   "source": [
    "# r: 247일 동안 주가가 오르고 내린게 기록되어 있는 것\n",
    "r.describe()"
   ]
  },
  {
   "cell_type": "code",
   "execution_count": 17,
   "id": "d973c6c8",
   "metadata": {},
   "outputs": [
    {
     "data": {
      "text/plain": [
       "110"
      ]
     },
     "execution_count": 17,
     "metadata": {},
     "output_type": "execute_result"
    }
   ],
   "source": [
    "# 2021년\n",
    "# 평균 수익률 -0.01% -> 거의 0\n",
    "# 근데 알고 싶은 것: 247일 동안 몇일 동안 야으이 수익률 보이는 가\n",
    "# + 값 몇 개인지 세기 : (r>0).sum()\n",
    "positive_count=(r>0).sum()\n",
    "positive_count"
   ]
  },
  {
   "cell_type": "code",
   "execution_count": 18,
   "id": "b01c2c50",
   "metadata": {},
   "outputs": [],
   "source": [
    "# 2021년 247일 중 양의 수익률 보인 날은 110일"
   ]
  },
  {
   "cell_type": "code",
   "execution_count": 20,
   "id": "af2279eb",
   "metadata": {},
   "outputs": [
    {
     "data": {
      "text/plain": [
       "0.44534412955465585"
      ]
     },
     "execution_count": 20,
     "metadata": {},
     "output_type": "execute_result"
    }
   ],
   "source": [
    "# 즉 1년동안 데이터로 추정한 '주가가 오를 확률' = p\n",
    "110/247"
   ]
  },
  {
   "cell_type": "code",
   "execution_count": 21,
   "id": "e6991a5d",
   "metadata": {},
   "outputs": [
    {
     "data": {
      "text/plain": [
       "0.2716904775542357"
      ]
     },
     "execution_count": 21,
     "metadata": {},
     "output_type": "execute_result"
    }
   ],
   "source": [
    "# Q: 5일간 삼전 보유하려 함, 그 5일 중에서 3일 주가가 상승할 확률 얼마인가?\n",
    "# 조합 계산 math.comb(n,r)\n",
    "prob=math.comb(5,3)*(0.4453**3)*(1-0.4453)**2\n",
    "prob"
   ]
  },
  {
   "cell_type": "code",
   "execution_count": 22,
   "id": "980cc22a",
   "metadata": {},
   "outputs": [],
   "source": [
    "# A: 5일 삼전 보유 동안 3일은 오를 확률: 약 27%"
   ]
  },
  {
   "cell_type": "markdown",
   "id": "d6eca14d",
   "metadata": {},
   "source": [
    "### 3 합의 표준오차\n",
    "- 이항분포는 정규분포로 근사가 가능하다\n",
    "- 정규분포를 이용해서 확률을 구할 수 있다\n",
    "- 그러려면 정규분포의 평균, 표준오차를 알아야함\n",
    "- 강의, 필기추가"
   ]
  },
  {
   "cell_type": "code",
   "execution_count": 23,
   "id": "b8c0b492",
   "metadata": {},
   "outputs": [],
   "source": [
    "# 먼저 '합의 표준오차'를 '손 계산'"
   ]
  },
  {
   "cell_type": "code",
   "execution_count": 24,
   "id": "fb3e6b40",
   "metadata": {},
   "outputs": [
    {
     "data": {
      "text/plain": [
       "0.24700791"
      ]
     },
     "execution_count": 24,
     "metadata": {},
     "output_type": "execute_result"
    }
   ],
   "source": [
    "# 1 단계: 상자의 분산인 varX 계산\n",
    "varX=0.4453-(0.4453**2)\n",
    "varX"
   ]
  },
  {
   "cell_type": "code",
   "execution_count": 25,
   "id": "47a3d0e2",
   "metadata": {},
   "outputs": [
    {
     "data": {
      "text/plain": [
       "0.4969989034193134"
      ]
     },
     "execution_count": 25,
     "metadata": {},
     "output_type": "execute_result"
    }
   ],
   "source": [
    "# 2 단계: 상자의 표준편차 sdX 계산\n",
    "sdX=np.sqrt(varX)\n",
    "sdX"
   ]
  },
  {
   "cell_type": "code",
   "execution_count": 26,
   "id": "fae5762b",
   "metadata": {},
   "outputs": [
    {
     "data": {
      "text/plain": [
       "4.969989034193134"
      ]
     },
     "execution_count": 26,
     "metadata": {},
     "output_type": "execute_result"
    }
   ],
   "source": [
    "# 3 단계: 합의 표준오차 계산\n",
    "# 합의 표준오차 = 상자의 표준편차*sqrt(시행횟수)\n",
    "se=sdX*np.sqrt(100)\n",
    "se"
   ]
  },
  {
   "cell_type": "code",
   "execution_count": 27,
   "id": "1c7249c3",
   "metadata": {},
   "outputs": [],
   "source": [
    "# 합의 정규분포: 평균 44.53 ( 아까의 p 네? 왜이런고징?) , 표준오차 4.969 인 분포가 된다\n",
    "# 해석\n",
    "# 평균적으로 44일 정도 ㅗㅇ르는데, +4.9일 정도 오차가 있다."
   ]
  },
  {
   "cell_type": "markdown",
   "id": "38d31312",
   "metadata": {},
   "source": [
    "### 4 비율의 표준오차\n",
    "> Q: 100일 동안 삼전 보유할건데, 그 100일 중 주가가 오르는 날의 비율은 몇 퍼센트?\n",
    "> - cf) 247일 보유하는 동안, 이 주가가 오를 확률은 44.53% ( 위에 계산한 p )\n",
    "> - 비율의 표준오차: 비율에 대한 평균과 표준오차 계산하는 것\n",
    "- 필참, 강참"
   ]
  },
  {
   "cell_type": "code",
   "execution_count": 28,
   "id": "d0f07584",
   "metadata": {},
   "outputs": [],
   "source": [
    "# 비율의 표준오차를 계산해보자"
   ]
  },
  {
   "cell_type": "code",
   "execution_count": 29,
   "id": "c86911f0",
   "metadata": {},
   "outputs": [],
   "source": [
    "# 삼전을 247일(1년)동안 보유한다고 가정한다\n",
    "# 주가가 오른 날의 비율: 평균=0.4453, 표준오차는 ? \n",
    "# 비율의 평균은 0.4453이네..?"
   ]
  },
  {
   "cell_type": "code",
   "execution_count": 30,
   "id": "161632ac",
   "metadata": {},
   "outputs": [
    {
     "name": "stdout",
     "output_type": "stream",
     "text": [
      "0.03162328294613793\n"
     ]
    }
   ],
   "source": [
    "# 비율의 표준오차\n",
    "se_ratio=sdX/np.sqrt(247)\n",
    "print(se_ratio)"
   ]
  },
  {
   "cell_type": "code",
   "execution_count": 31,
   "id": "b61c131e",
   "metadata": {},
   "outputs": [],
   "source": [
    "# 해석\n",
    "# 평균적으로 오르는 비율은 44.53%, + - 3.1%정도는 왔다갔다 한다 "
   ]
  },
  {
   "cell_type": "markdown",
   "id": "93d8538f",
   "metadata": {},
   "source": [
    "### 5 최대 예상손실액 구하기\n",
    "> 최대 예상손실액 = VaR = Value at Risk\n",
    "> - 위험관리를 위해 만들어진 개념\n",
    "\n",
    "> VaR\n",
    "> - 정상적인 시장 하에 일정기간 동안 발생할 수 있는 최대 손실금액\n",
    "\n",
    "> 95% VaR=1,000만원\n",
    "> - 해당 자산의 가치변동으로 인해 6개월동안 발생할 수 있는 최대 손실금액이 1000만원이 넘지 않을 확률이 95%\n",
    "> - = 손실금액이 1000만원을 초과할 확률이 5%\n",
    "\n",
    "> Q: 5%의 확률로 손실하는 1000만원 <- 이 값은 어케나온걸까?\n",
    "> A: 과거 데이터로...\n",
    "> - 삼전 과거 10년치를 봐서, 극단적인 상황이 나올 가능성이 가령 5%의 가능성으로 극단적인 - 나오는게 어느정도 인지 보는 것\n",
    "> - 왼쪽 꼬리가 5% 정도인, - 수익률이 얼마인지 구하는 것\n",
    "\n",
    "> 구하는 방법: boostrapping\n",
    "- 다음 강의에...\n"
   ]
  },
  {
   "cell_type": "code",
   "execution_count": null,
   "id": "1fc58103",
   "metadata": {},
   "outputs": [],
   "source": []
  },
  {
   "cell_type": "code",
   "execution_count": null,
   "id": "bfbd0bf2",
   "metadata": {},
   "outputs": [],
   "source": []
  },
  {
   "cell_type": "code",
   "execution_count": null,
   "id": "48cfab28",
   "metadata": {},
   "outputs": [],
   "source": []
  },
  {
   "cell_type": "code",
   "execution_count": null,
   "id": "95a5b206",
   "metadata": {},
   "outputs": [],
   "source": []
  }
 ],
 "metadata": {
  "kernelspec": {
   "display_name": "Python 3 (ipykernel)",
   "language": "python",
   "name": "python3"
  },
  "language_info": {
   "codemirror_mode": {
    "name": "ipython",
    "version": 3
   },
   "file_extension": ".py",
   "mimetype": "text/x-python",
   "name": "python",
   "nbconvert_exporter": "python",
   "pygments_lexer": "ipython3",
   "version": "3.9.13"
  }
 },
 "nbformat": 4,
 "nbformat_minor": 5
}
