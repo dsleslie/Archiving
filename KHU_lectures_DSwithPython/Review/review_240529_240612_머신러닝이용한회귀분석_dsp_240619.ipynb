{
 "cells": [
  {
   "cell_type": "code",
   "execution_count": 88,
   "id": "82eb9009",
   "metadata": {},
   "outputs": [],
   "source": [
    "import pandas as pd\n",
    "import numpy as np\n",
    "import numpy_financial as npf\n",
    "import seaborn as sns\n",
    "import matplotlib.pyplot as plt\n",
    "import statsmodels.api as sm\n",
    "from statsmodels.formula.api import ols\n",
    "from sklearn.model_selection import train_test_split\n",
    "import warnings\n",
    "warnings.filterwarnings(\"ignore\")\n",
    "from numpy import *\n",
    "\n",
    "from ggplot import *\n",
    "from scipy.stats import logistic\n",
    "from sklearn.metrics import roc_curve\n",
    "from sklearn.metrics import roc_auc_score\n",
    "from sklearn.linear_model import LogisticRegression\n",
    "from sklearn.metrics import confusion_matrix, mean_squared_error\n",
    "from sklearn.model_selection import train_test_split\n",
    "from sklearn import preprocessing\n",
    "from sklearn.neighbors import KNeighborsClassifier\n",
    "from sklearn.naive_bayes import *\n",
    "from sklearn.tree import DecisionTreeClassifier, DecisionTreeRegressor, export_graphviz\n",
    "import graphviz\n",
    "from sklearn.ensemble import RandomForestRegressor, RandomForestClassifier\n",
    "from sklearn.svm import SVC, SVR\n",
    "from sklearn.cluster import KMeans\n",
    "from sklearn.preprocessing import StandardScaler\n",
    "from sklearn.preprocessing import MinMaxScaler\n",
    "\n",
    "\n",
    "from linearmodels.iv import IV2SLS\n",
    "from scipy import stats\n",
    "from scipy.stats import trim_mean #trimmed mean\n",
    "from scipy.stats import * #chi2_contingency로 카이제곱통계량계산\n",
    "from scipy.stats import norm\n",
    "\n",
    "import keyword\n",
    "import random\n",
    "\n",
    "#open api 불러올 때 필요한 것\n",
    "from urllib.request import urlopen #request package 설치\n",
    "from bs4 import BeautifulSoup #bs4 package 설치\n",
    "\n",
    "# 그래프에서 한글 깨지지 않기 위헤 사용함\n",
    "from matplotlib import rcParams\n",
    "from matplotlib import font_manager,rc\n",
    "\n",
    "rcParams['axes.unicode_minus']=False\n",
    "plt.rcParams['font.family']='Malgun Gothic'\n",
    "font_name=font_manager.FontProperties(fname='c:/Windows/Fonts/malgun.ttf').get_name()\n",
    "rc('font',family=font_name)\n",
    "\n",
    "import FinanceDataReader as fdr\n",
    "import plotly.graph_objects as go\n",
    "import plotly.subplots as ms\n",
    "import math\n",
    "\n",
    "import tensorflow as tf\n",
    "\n",
    "import qgrid"
   ]
  },
  {
   "cell_type": "markdown",
   "id": "dc6119e5",
   "metadata": {},
   "source": [
    "# 부동산 개념"
   ]
  },
  {
   "cell_type": "code",
   "execution_count": 89,
   "id": "d8c7239e",
   "metadata": {},
   "outputs": [],
   "source": [
    "# 부동산 개념"
   ]
  },
  {
   "cell_type": "code",
   "execution_count": 90,
   "id": "d4d1a0ef",
   "metadata": {},
   "outputs": [
    {
     "data": {
      "text/html": [
       "<div>\n",
       "<style scoped>\n",
       "    .dataframe tbody tr th:only-of-type {\n",
       "        vertical-align: middle;\n",
       "    }\n",
       "\n",
       "    .dataframe tbody tr th {\n",
       "        vertical-align: top;\n",
       "    }\n",
       "\n",
       "    .dataframe thead th {\n",
       "        text-align: right;\n",
       "    }\n",
       "</style>\n",
       "<table border=\"1\" class=\"dataframe\">\n",
       "  <thead>\n",
       "    <tr style=\"text-align: right;\">\n",
       "      <th></th>\n",
       "      <th>YYM1</th>\n",
       "      <th>CITY</th>\n",
       "      <th>CITY_CODE</th>\n",
       "      <th>GU_NAME</th>\n",
       "      <th>GU_CODE2</th>\n",
       "      <th>API_TT0</th>\n",
       "      <th>BaseRate</th>\n",
       "      <th>MoRate</th>\n",
       "      <th>FREQ</th>\n",
       "      <th>A_PSUM</th>\n",
       "      <th>...</th>\n",
       "      <th>LTV</th>\n",
       "      <th>DTI</th>\n",
       "      <th>MV_APT</th>\n",
       "      <th>JAEGO</th>\n",
       "      <th>BUNYANG</th>\n",
       "      <th>N_BUNYANG</th>\n",
       "      <th>IND_INDEX</th>\n",
       "      <th>JTP</th>\n",
       "      <th>LOAN_T</th>\n",
       "      <th>MON</th>\n",
       "    </tr>\n",
       "  </thead>\n",
       "  <tbody>\n",
       "    <tr>\n",
       "      <th>0</th>\n",
       "      <td>200603</td>\n",
       "      <td>서울특별시</td>\n",
       "      <td>11</td>\n",
       "      <td>종로중구</td>\n",
       "      <td>1111</td>\n",
       "      <td>75.245608</td>\n",
       "      <td>4.00</td>\n",
       "      <td>5.46</td>\n",
       "      <td>71</td>\n",
       "      <td>2.559029</td>\n",
       "      <td>...</td>\n",
       "      <td>42.912677</td>\n",
       "      <td>93.255607</td>\n",
       "      <td>4.891421</td>\n",
       "      <td>110</td>\n",
       "      <td>0</td>\n",
       "      <td>277</td>\n",
       "      <td>109.907</td>\n",
       "      <td>48.372</td>\n",
       "      <td>104.381241</td>\n",
       "      <td>3</td>\n",
       "    </tr>\n",
       "    <tr>\n",
       "      <th>1</th>\n",
       "      <td>200606</td>\n",
       "      <td>서울특별시</td>\n",
       "      <td>11</td>\n",
       "      <td>종로중구</td>\n",
       "      <td>1111</td>\n",
       "      <td>81.009183</td>\n",
       "      <td>4.25</td>\n",
       "      <td>5.48</td>\n",
       "      <td>58</td>\n",
       "      <td>1.774481</td>\n",
       "      <td>...</td>\n",
       "      <td>43.944172</td>\n",
       "      <td>94.827586</td>\n",
       "      <td>4.891421</td>\n",
       "      <td>0</td>\n",
       "      <td>0</td>\n",
       "      <td>277</td>\n",
       "      <td>99.469</td>\n",
       "      <td>47.454</td>\n",
       "      <td>107.564252</td>\n",
       "      <td>6</td>\n",
       "    </tr>\n",
       "    <tr>\n",
       "      <th>2</th>\n",
       "      <td>200609</td>\n",
       "      <td>서울특별시</td>\n",
       "      <td>11</td>\n",
       "      <td>종로중구</td>\n",
       "      <td>1111</td>\n",
       "      <td>81.208640</td>\n",
       "      <td>4.50</td>\n",
       "      <td>5.77</td>\n",
       "      <td>90</td>\n",
       "      <td>2.898839</td>\n",
       "      <td>...</td>\n",
       "      <td>44.425621</td>\n",
       "      <td>94.000000</td>\n",
       "      <td>4.891421</td>\n",
       "      <td>0</td>\n",
       "      <td>0</td>\n",
       "      <td>14</td>\n",
       "      <td>123.203</td>\n",
       "      <td>47.670</td>\n",
       "      <td>110.666410</td>\n",
       "      <td>9</td>\n",
       "    </tr>\n",
       "    <tr>\n",
       "      <th>3</th>\n",
       "      <td>200612</td>\n",
       "      <td>서울특별시</td>\n",
       "      <td>11</td>\n",
       "      <td>종로중구</td>\n",
       "      <td>1111</td>\n",
       "      <td>88.068940</td>\n",
       "      <td>4.50</td>\n",
       "      <td>5.88</td>\n",
       "      <td>99</td>\n",
       "      <td>3.181162</td>\n",
       "      <td>...</td>\n",
       "      <td>50.340131</td>\n",
       "      <td>95.151515</td>\n",
       "      <td>4.891421</td>\n",
       "      <td>0</td>\n",
       "      <td>136</td>\n",
       "      <td>6</td>\n",
       "      <td>128.718</td>\n",
       "      <td>43.811</td>\n",
       "      <td>101.843742</td>\n",
       "      <td>12</td>\n",
       "    </tr>\n",
       "    <tr>\n",
       "      <th>4</th>\n",
       "      <td>200703</td>\n",
       "      <td>서울특별시</td>\n",
       "      <td>11</td>\n",
       "      <td>종로중구</td>\n",
       "      <td>1111</td>\n",
       "      <td>86.507762</td>\n",
       "      <td>4.50</td>\n",
       "      <td>6.20</td>\n",
       "      <td>68</td>\n",
       "      <td>1.955622</td>\n",
       "      <td>...</td>\n",
       "      <td>50.951451</td>\n",
       "      <td>48.890836</td>\n",
       "      <td>6.083816</td>\n",
       "      <td>0</td>\n",
       "      <td>112</td>\n",
       "      <td>0</td>\n",
       "      <td>110.893</td>\n",
       "      <td>42.987</td>\n",
       "      <td>107.877226</td>\n",
       "      <td>3</td>\n",
       "    </tr>\n",
       "  </tbody>\n",
       "</table>\n",
       "<p>5 rows × 22 columns</p>\n",
       "</div>"
      ],
      "text/plain": [
       "     YYM1   CITY  CITY_CODE GU_NAME  GU_CODE2    API_TT0  BaseRate  MoRate  \\\n",
       "0  200603  서울특별시         11    종로중구      1111  75.245608      4.00    5.46   \n",
       "1  200606  서울특별시         11    종로중구      1111  81.009183      4.25    5.48   \n",
       "2  200609  서울특별시         11    종로중구      1111  81.208640      4.50    5.77   \n",
       "3  200612  서울특별시         11    종로중구      1111  88.068940      4.50    5.88   \n",
       "4  200703  서울특별시         11    종로중구      1111  86.507762      4.50    6.20   \n",
       "\n",
       "   FREQ    A_PSUM  ...        LTV        DTI    MV_APT  JAEGO  BUNYANG  \\\n",
       "0    71  2.559029  ...  42.912677  93.255607  4.891421    110        0   \n",
       "1    58  1.774481  ...  43.944172  94.827586  4.891421      0        0   \n",
       "2    90  2.898839  ...  44.425621  94.000000  4.891421      0        0   \n",
       "3    99  3.181162  ...  50.340131  95.151515  4.891421      0      136   \n",
       "4    68  1.955622  ...  50.951451  48.890836  6.083816      0      112   \n",
       "\n",
       "   N_BUNYANG  IND_INDEX     JTP      LOAN_T  MON  \n",
       "0        277    109.907  48.372  104.381241    3  \n",
       "1        277     99.469  47.454  107.564252    6  \n",
       "2         14    123.203  47.670  110.666410    9  \n",
       "3          6    128.718  43.811  101.843742   12  \n",
       "4          0    110.893  42.987  107.877226    3  \n",
       "\n",
       "[5 rows x 22 columns]"
      ]
     },
     "execution_count": 90,
     "metadata": {},
     "output_type": "execute_result"
    }
   ],
   "source": [
    "df=pd.read_csv('c:/temp/HPI_SEOUL.csv',encoding='CP949')\n",
    "df.head()"
   ]
  },
  {
   "cell_type": "code",
   "execution_count": 91,
   "id": "d23098ff",
   "metadata": {},
   "outputs": [],
   "source": [
    "# LTV: Loan to value : 집값 대비 부채\n",
    "# DTI: Debt to income ratio : 소득 대비 부채가 몇퍼센트인지\n",
    "# DSR: ...\n",
    "# 가장 최근 규제가 무엇인지"
   ]
  },
  {
   "cell_type": "markdown",
   "id": "358a9142",
   "metadata": {},
   "source": [
    "# 텐서 연산"
   ]
  },
  {
   "cell_type": "code",
   "execution_count": 92,
   "id": "44260a09",
   "metadata": {},
   "outputs": [],
   "source": [
    "# tensorflow"
   ]
  },
  {
   "cell_type": "code",
   "execution_count": 93,
   "id": "88c599a0",
   "metadata": {},
   "outputs": [],
   "source": [
    "# 텐서 연산"
   ]
  },
  {
   "cell_type": "code",
   "execution_count": 94,
   "id": "f39bdc44",
   "metadata": {},
   "outputs": [
    {
     "data": {
      "text/plain": [
       "<tf.Tensor: shape=(), dtype=int32, numpy=12>"
      ]
     },
     "execution_count": 94,
     "metadata": {},
     "output_type": "execute_result"
    }
   ],
   "source": [
    "# 텐서는 constant, variable로 가져올 수 있다.\n",
    "a=tf.constant(12)\n",
    "a"
   ]
  },
  {
   "cell_type": "code",
   "execution_count": 95,
   "id": "a58c86b4",
   "metadata": {},
   "outputs": [
    {
     "data": {
      "text/plain": [
       "<tf.Tensor: shape=(3,), dtype=int32, numpy=array([1, 2, 3])>"
      ]
     },
     "execution_count": 95,
     "metadata": {},
     "output_type": "execute_result"
    }
   ],
   "source": [
    "b=tf.constant([1,2,3])\n",
    "b"
   ]
  },
  {
   "cell_type": "code",
   "execution_count": 96,
   "id": "d838d5e0",
   "metadata": {},
   "outputs": [],
   "source": [
    "# b는 벡터, a는 스칼라가 된다\n",
    "# shape=(3,): 행의 갯수가 3개라는 뜻"
   ]
  },
  {
   "cell_type": "code",
   "execution_count": 97,
   "id": "b83e14cd",
   "metadata": {},
   "outputs": [
    {
     "data": {
      "text/plain": [
       "0"
      ]
     },
     "execution_count": 97,
     "metadata": {},
     "output_type": "execute_result"
    }
   ],
   "source": [
    "#.ndim: 텐서에서 차원을 알려줌\n",
    "a.ndim"
   ]
  },
  {
   "cell_type": "code",
   "execution_count": 98,
   "id": "e339e6db",
   "metadata": {},
   "outputs": [
    {
     "data": {
      "text/plain": [
       "1"
      ]
     },
     "execution_count": 98,
     "metadata": {},
     "output_type": "execute_result"
    }
   ],
   "source": [
    "b.ndim"
   ]
  },
  {
   "cell_type": "code",
   "execution_count": 99,
   "id": "e7095627",
   "metadata": {},
   "outputs": [],
   "source": [
    "# a 0차원, b 1차원"
   ]
  },
  {
   "cell_type": "code",
   "execution_count": 100,
   "id": "1a4a30fe",
   "metadata": {},
   "outputs": [
    {
     "name": "stdout",
     "output_type": "stream",
     "text": [
      "() (3,)\n"
     ]
    }
   ],
   "source": [
    "#.shape: 텐서에서 차원을 알려줌\n",
    "print(a.shape,b.shape)"
   ]
  },
  {
   "cell_type": "code",
   "execution_count": 101,
   "id": "97efe77e",
   "metadata": {},
   "outputs": [],
   "source": [
    "# b는 3개의 행으로 구성된 벡터"
   ]
  },
  {
   "cell_type": "code",
   "execution_count": 102,
   "id": "9b9dc494",
   "metadata": {},
   "outputs": [
    {
     "data": {
      "text/plain": [
       "<tf.Tensor: shape=(2, 3), dtype=int32, numpy=\n",
       "array([[1, 2, 3],\n",
       "       [4, 5, 6]])>"
      ]
     },
     "execution_count": 102,
     "metadata": {},
     "output_type": "execute_result"
    }
   ],
   "source": [
    "c=tf.constant([[1,2,3],[4,5,6]])\n",
    "c"
   ]
  },
  {
   "cell_type": "code",
   "execution_count": 103,
   "id": "83990879",
   "metadata": {},
   "outputs": [],
   "source": [
    "# shape=(2,3): 행렬의 dimension이 2x3이라는 뜻 가로 2 세로3"
   ]
  },
  {
   "cell_type": "code",
   "execution_count": 104,
   "id": "2ca0f4b0",
   "metadata": {},
   "outputs": [
    {
     "name": "stdout",
     "output_type": "stream",
     "text": [
      "2 (2, 3)\n"
     ]
    }
   ],
   "source": [
    "print(c.ndim,c.shape)"
   ]
  },
  {
   "cell_type": "code",
   "execution_count": 105,
   "id": "1d2193a1",
   "metadata": {},
   "outputs": [
    {
     "data": {
      "text/plain": [
       "<tf.Tensor: shape=(2,), dtype=int32, numpy=array([2, 3])>"
      ]
     },
     "execution_count": 105,
     "metadata": {},
     "output_type": "execute_result"
    }
   ],
   "source": [
    "tf.constant([2,3]) # 2개의 값이 있는 1차원의 텐서 구조라는 뜻"
   ]
  },
  {
   "cell_type": "code",
   "execution_count": 106,
   "id": "066bc5e8",
   "metadata": {},
   "outputs": [
    {
     "data": {
      "text/plain": [
       "<tf.Tensor: shape=(1, 3, 3), dtype=int32, numpy=\n",
       "array([[[1, 2, 3],\n",
       "        [4, 5, 6],\n",
       "        [7, 8, 9]]])>"
      ]
     },
     "execution_count": 106,
     "metadata": {},
     "output_type": "execute_result"
    }
   ],
   "source": [
    "# 3차원의 텐서구조 만들기\n",
    "d=tf.constant([[[1,2,3],[4,5,6],[7,8,9]]])\n",
    "d"
   ]
  },
  {
   "cell_type": "code",
   "execution_count": 107,
   "id": "a96fc7ba",
   "metadata": {},
   "outputs": [
    {
     "name": "stdout",
     "output_type": "stream",
     "text": [
      "3 (1, 3, 3)\n"
     ]
    }
   ],
   "source": [
    "print(d.ndim,d.shape)"
   ]
  },
  {
   "cell_type": "code",
   "execution_count": 108,
   "id": "8024087e",
   "metadata": {},
   "outputs": [],
   "source": [
    "# TensorShape([1, 3, 3])\n",
    "# 뒤에 3,3: 행의 갯수, 열 갯수\n",
    "# 앞에 1: depth, 행렬의 층\n",
    "# 3x3 행렬이 하나 있다는 뜻"
   ]
  },
  {
   "cell_type": "code",
   "execution_count": 109,
   "id": "69722aef",
   "metadata": {},
   "outputs": [
    {
     "data": {
      "text/plain": [
       "1"
      ]
     },
     "execution_count": 109,
     "metadata": {},
     "output_type": "execute_result"
    }
   ],
   "source": [
    "a=tf.constant(np.arange(1,13)) # np.arange: 1부터 12까지 연속적 숫자 , 벡터임\n",
    "a.ndim"
   ]
  },
  {
   "cell_type": "code",
   "execution_count": 110,
   "id": "ccb41cd7",
   "metadata": {},
   "outputs": [
    {
     "data": {
      "text/plain": [
       "<tf.Tensor: shape=(12,), dtype=int32, numpy=array([ 1,  2,  3,  4,  5,  6,  7,  8,  9, 10, 11, 12])>"
      ]
     },
     "execution_count": 110,
     "metadata": {},
     "output_type": "execute_result"
    }
   ],
   "source": [
    "a"
   ]
  },
  {
   "cell_type": "code",
   "execution_count": 111,
   "id": "078418f5",
   "metadata": {},
   "outputs": [
    {
     "data": {
      "text/plain": [
       "<tf.Tensor: shape=(2, 6), dtype=int32, numpy=\n",
       "array([[ 1,  2,  3,  4,  5,  6],\n",
       "       [ 7,  8,  9, 10, 11, 12]])>"
      ]
     },
     "execution_count": 111,
     "metadata": {},
     "output_type": "execute_result"
    }
   ],
   "source": [
    "# reshape: 다른 텐서구조로 바꾸자\n",
    "# 2x6구조로 바꾸자\n",
    "b=tf.reshape(a,[2,6])\n",
    "b"
   ]
  },
  {
   "cell_type": "code",
   "execution_count": 112,
   "id": "79f4608e",
   "metadata": {},
   "outputs": [
    {
     "data": {
      "text/plain": [
       "3"
      ]
     },
     "execution_count": 112,
     "metadata": {},
     "output_type": "execute_result"
    }
   ],
   "source": [
    "# a를 3차원으로 바꿔보자\n",
    "# 2x3 행렬을 겹겹이(2층) 쌓아보자\n",
    "c=tf.reshape(a,[2,2,3])\n",
    "c.ndim"
   ]
  },
  {
   "cell_type": "code",
   "execution_count": 113,
   "id": "6c8f4d67",
   "metadata": {},
   "outputs": [
    {
     "data": {
      "text/plain": [
       "<tf.Tensor: shape=(2, 2, 3), dtype=int32, numpy=\n",
       "array([[[ 1,  2,  3],\n",
       "        [ 4,  5,  6]],\n",
       "\n",
       "       [[ 7,  8,  9],\n",
       "        [10, 11, 12]]])>"
      ]
     },
     "execution_count": 113,
     "metadata": {},
     "output_type": "execute_result"
    }
   ],
   "source": [
    "c"
   ]
  },
  {
   "cell_type": "code",
   "execution_count": 114,
   "id": "6d330ca5",
   "metadata": {},
   "outputs": [],
   "source": [
    "# 깊이가 2인 2x3 행렬"
   ]
  },
  {
   "cell_type": "code",
   "execution_count": 115,
   "id": "ddebafc9",
   "metadata": {},
   "outputs": [],
   "source": [
    "# 0529 part2"
   ]
  },
  {
   "cell_type": "code",
   "execution_count": 116,
   "id": "39f7fc74",
   "metadata": {},
   "outputs": [],
   "source": [
    "# tensor 연산"
   ]
  },
  {
   "cell_type": "code",
   "execution_count": 117,
   "id": "4aa2d7f4",
   "metadata": {},
   "outputs": [],
   "source": [
    "x=tf.constant([1,2,3,4,5,6],shape=[2,3])\n",
    "y=tf.constant([1,2,3,4,5,6],shape=[2,3])"
   ]
  },
  {
   "cell_type": "code",
   "execution_count": 118,
   "id": "044d93ef",
   "metadata": {},
   "outputs": [
    {
     "data": {
      "text/plain": [
       "<tf.Tensor: shape=(2, 3), dtype=int32, numpy=\n",
       "array([[0, 0, 0],\n",
       "       [0, 0, 0]])>"
      ]
     },
     "execution_count": 118,
     "metadata": {},
     "output_type": "execute_result"
    }
   ],
   "source": [
    "# 텐서 뺄셈 ( element 끼리의 차이다 )\n",
    "tf.math.subtract(x,y)"
   ]
  },
  {
   "cell_type": "code",
   "execution_count": 119,
   "id": "466d0e06",
   "metadata": {},
   "outputs": [
    {
     "data": {
      "text/plain": [
       "<tf.Tensor: shape=(2, 3), dtype=int32, numpy=\n",
       "array([[ 2,  4,  6],\n",
       "       [ 8, 10, 12]])>"
      ]
     },
     "execution_count": 119,
     "metadata": {},
     "output_type": "execute_result"
    }
   ],
   "source": [
    "# 텐서 덧셈 ( element 끼리의 합이다 )\n",
    "tf.math.add(x,y)"
   ]
  },
  {
   "cell_type": "code",
   "execution_count": 120,
   "id": "1a4a686d",
   "metadata": {},
   "outputs": [
    {
     "data": {
      "text/plain": [
       "<tf.Tensor: shape=(2, 3), dtype=int32, numpy=\n",
       "array([[ 1,  4,  9],\n",
       "       [16, 25, 36]])>"
      ]
     },
     "execution_count": 120,
     "metadata": {},
     "output_type": "execute_result"
    }
   ],
   "source": [
    "# 텐서 곱셈 ( element 끼리의 곱이다 )\n",
    "tf.math.multiply(x,y)"
   ]
  },
  {
   "cell_type": "code",
   "execution_count": 121,
   "id": "fc2a668b",
   "metadata": {},
   "outputs": [
    {
     "data": {
      "text/plain": [
       "<tf.Tensor: shape=(2, 2), dtype=int32, numpy=\n",
       "array([[14, 32],\n",
       "       [32, 77]])>"
      ]
     },
     "execution_count": 121,
     "metadata": {},
     "output_type": "execute_result"
    }
   ],
   "source": [
    "# 비교: 행렬 곱셈 .matmul\n",
    "y1=tf.transpose(y)\n",
    "tf.matmul(x,y1)"
   ]
  },
  {
   "cell_type": "markdown",
   "id": "81263449",
   "metadata": {},
   "source": [
    "# 텐서 미분"
   ]
  },
  {
   "cell_type": "code",
   "execution_count": 122,
   "id": "70d8f897",
   "metadata": {},
   "outputs": [],
   "source": [
    "# 텐서 미분"
   ]
  },
  {
   "cell_type": "code",
   "execution_count": 123,
   "id": "77c1286c",
   "metadata": {},
   "outputs": [
    {
     "name": "stdout",
     "output_type": "stream",
     "text": [
      "tf.Tensor(12.0, shape=(), dtype=float32)\n"
     ]
    }
   ],
   "source": [
    "# 미분.. x가 움직일 수 있는 여지 있음 -> x를 Variable로 정의\n",
    "x=tf.Variable(2.0)\n",
    "\n",
    "# 미분 파트\n",
    "with tf.GradientTape() as t:\n",
    "    y=x**3\n",
    "    dy_dx=t.gradient(y,x) # 미분해라\n",
    "print(dy_dx)"
   ]
  },
  {
   "cell_type": "code",
   "execution_count": 124,
   "id": "31887185",
   "metadata": {},
   "outputs": [],
   "source": [
    "# 미분한 값 : 12 로 나옴"
   ]
  },
  {
   "cell_type": "code",
   "execution_count": 125,
   "id": "2564c854",
   "metadata": {},
   "outputs": [
    {
     "name": "stdout",
     "output_type": "stream",
     "text": [
      "[<tf.Tensor: shape=(), dtype=float32, numpy=8.0>, <tf.Tensor: shape=(), dtype=float32, numpy=2.0>]\n"
     ]
    }
   ],
   "source": [
    "# 미지수가 두개인  경우 텐서 미분\n",
    "w1=tf.Variable(1.0) # 1.0에서 시작\n",
    "w2=tf.Variable(1.0) # 1.0에서 시작\n",
    "\n",
    "with tf.GradientTape() as t:\n",
    "    y=3*(w1**2)+2*w1*w2\n",
    "    grad=t.gradient(y,[w1,w2])\n",
    "print(grad)"
   ]
  },
  {
   "cell_type": "code",
   "execution_count": 126,
   "id": "d3d2727c",
   "metadata": {},
   "outputs": [],
   "source": [
    "# 미분값: numpy=8.0, numpy=2.0"
   ]
  },
  {
   "cell_type": "code",
   "execution_count": 127,
   "id": "0ed83622",
   "metadata": {},
   "outputs": [],
   "source": [
    "# ML을 이용한 회귀분석 원리"
   ]
  },
  {
   "cell_type": "code",
   "execution_count": 128,
   "id": "ea9a5c17",
   "metadata": {},
   "outputs": [
    {
     "name": "stdout",
     "output_type": "stream",
     "text": [
      "tf.Tensor([ 2.5  4.5  6.5  8.5 10.5], shape=(5,), dtype=float32)\n"
     ]
    }
   ],
   "source": [
    "x_data=[1,2,3,4,5]\n",
    "W=tf.Variable(2.0)\n",
    "b=tf.Variable(0.5)\n",
    "\n",
    "hypothesis=W*x_data+b\n",
    "print(hypothesis)"
   ]
  },
  {
   "cell_type": "code",
   "execution_count": 129,
   "id": "9c2aa139",
   "metadata": {},
   "outputs": [],
   "source": [
    "# 2.5  4.5  6.5  8.5 10.5: 이게 알아낸 가설의 값\n",
    "# 이 가설의 값과, y값이 얼마나 가까운지 측정하는게 cost function"
   ]
  },
  {
   "cell_type": "code",
   "execution_count": 130,
   "id": "2d8ac6da",
   "metadata": {},
   "outputs": [],
   "source": [
    "# 여기까지가 0529\n",
    "# 다음날짜부터 하면됨"
   ]
  },
  {
   "cell_type": "code",
   "execution_count": 131,
   "id": "0a2e81b5",
   "metadata": {},
   "outputs": [],
   "source": [
    "#0603"
   ]
  },
  {
   "cell_type": "code",
   "execution_count": 132,
   "id": "19bf5288",
   "metadata": {},
   "outputs": [
    {
     "name": "stdout",
     "output_type": "stream",
     "text": [
      "tf.Tensor([ 2.5  4.5  6.5  8.5 10.5], shape=(5,), dtype=float32)\n",
      "tf.Tensor(14.25, shape=(), dtype=float32)\n"
     ]
    }
   ],
   "source": [
    "x_data=[1,2,3,4,5]\n",
    "y_data=[1,2,3,4,5]\n",
    "W=tf.Variable(2.0)\n",
    "b=tf.Variable(0.5)\n",
    "\n",
    "hypothesis=W*x_data+b\n",
    "print(hypothesis)\n",
    "\n",
    "# cost function 정의\n",
    "cost=tf.reduce_mean(tf.square(hypothesis-y_data))\n",
    "print(cost)"
   ]
  },
  {
   "cell_type": "code",
   "execution_count": 133,
   "id": "2b7ea536",
   "metadata": {},
   "outputs": [
    {
     "data": {
      "text/plain": [
       "<tf.Tensor: shape=(5,), dtype=float32, numpy=array([ 2.5,  4.5,  6.5,  8.5, 10.5], dtype=float32)>"
      ]
     },
     "execution_count": 133,
     "metadata": {},
     "output_type": "execute_result"
    }
   ],
   "source": [
    "# 초기값에서 나온 hypothesis 값 = 회귀직선의 값\n",
    "hypothesis"
   ]
  },
  {
   "cell_type": "code",
   "execution_count": 134,
   "id": "7c7741b9",
   "metadata": {},
   "outputs": [
    {
     "data": {
      "text/plain": [
       "14.25"
      ]
     },
     "execution_count": 134,
     "metadata": {},
     "output_type": "execute_result"
    }
   ],
   "source": [
    "# cost=14.25=((2.5-1)**2+ () + .... )/5\n",
    "cost.numpy()"
   ]
  },
  {
   "cell_type": "code",
   "execution_count": 135,
   "id": "04258606",
   "metadata": {},
   "outputs": [
    {
     "name": "stdout",
     "output_type": "stream",
     "text": [
      "7.282724 [1.3346161] [1.0148789]\n",
      "0.034686986 [0.8794935] [0.43506676]\n",
      "0.008950316 [0.9387867] [0.2209997]\n",
      "0.0023094572 [0.9689056] [0.11226072]\n",
      "0.0005959122 [0.984205] [0.05702474]\n",
      "0.00015376188 [0.9919767] [0.02896672]\n"
     ]
    }
   ],
   "source": [
    "# 경사하강법\n",
    "\n",
    "# 초기값 랜덤으로 주기\n",
    "tf.random.set_seed(0)\n",
    "W=tf.Variable(tf.random.normal([1]), name='weight') # [1]: random.normal에서 하나를 끄집어내\n",
    "b=tf.Variable(tf.random.normal([1]), name='bias')\n",
    "learning_rate=tf.Variable(0.01)\n",
    "\n",
    "# 1001번 반복하도록 한다\n",
    "for i in range(1000+1):\n",
    "    with tf.GradientTape() as tape:\n",
    "        hypothesis=W*x_data+b\n",
    "        cost=tf.reduce_mean(tf.square(hypothesis-y_data))\n",
    "    W_grad, b_grad=tape.gradient(cost,[W,b])\n",
    "    W.assign_sub(learning_rate*W_grad) # _sub: 빼준다, 이 라인이 그 알파써서 W 옮기는 식 쓴거임\n",
    "    b.assign_sub(learning_rate*b_grad)\n",
    "    if i%200==0: # 1000번 반복 중에 너무 많으니까 200번 마다 보여줘라\n",
    "        print(cost.numpy(),W.numpy(),b.numpy())"
   ]
  },
  {
   "cell_type": "markdown",
   "id": "35ce6ada",
   "metadata": {},
   "source": [
    "# 머신러닝 이용한 주택가격(지수) 추정\n",
    "- ex. API_TT0: 100을 기준으로 생각하며됨, '주택가격지수'\n",
    "- 분기마다 측정한 가격지수임. yym1 보셈\n",
    "- BaseRate: '기준금리' -> 모기지금리가 결ㅈㅇ되고 -> 주택가격도 결정되니까\n",
    "- IND_INDEX: industry index, 경기 보는것, 오르면 호경기\n",
    "- LTV: 집 최대 몇퍼까지 빚낼 수 있는지\n",
    "- DTI: 소득대비 빚낼 수 있는 정도\n",
    "- FREQ: 3개월간 주택거래량"
   ]
  },
  {
   "cell_type": "code",
   "execution_count": 136,
   "id": "3234db6c",
   "metadata": {},
   "outputs": [
    {
     "name": "stdout",
     "output_type": "stream",
     "text": [
      "                            OLS Regression Results                            \n",
      "==============================================================================\n",
      "Dep. Variable:                API_TT0   R-squared:                       0.369\n",
      "Model:                            OLS   Adj. R-squared:                  0.366\n",
      "Method:                 Least Squares   F-statistic:                     160.4\n",
      "Date:                Wed, 19 Jun 2024   Prob (F-statistic):          3.75e-108\n",
      "Time:                        11:29:14   Log-Likelihood:                -3856.6\n",
      "No. Observations:                1104   AIC:                             7723.\n",
      "Df Residuals:                    1099   BIC:                             7748.\n",
      "Df Model:                           4                                         \n",
      "Covariance Type:            nonrobust                                         \n",
      "==============================================================================\n",
      "                 coef    std err          t      P>|t|      [0.025      0.975]\n",
      "------------------------------------------------------------------------------\n",
      "Intercept     72.1081      3.594     20.065      0.000      65.057      79.160\n",
      "BaseRate1     -3.1000      0.314     -9.875      0.000      -3.716      -2.484\n",
      "IND_INDEX1     0.1678      0.025      6.795      0.000       0.119       0.216\n",
      "LTV2           0.3151      0.048      6.543      0.000       0.221       0.410\n",
      "DTI2          -0.0418      0.013     -3.104      0.002      -0.068      -0.015\n",
      "==============================================================================\n",
      "Omnibus:                       19.621   Durbin-Watson:                   0.552\n",
      "Prob(Omnibus):                  0.000   Jarque-Bera (JB):               29.386\n",
      "Skew:                           0.163   Prob(JB):                     4.16e-07\n",
      "Kurtosis:                       3.729   Cond. No.                     2.04e+03\n",
      "==============================================================================\n",
      "\n",
      "Notes:\n",
      "[1] Standard Errors assume that the covariance matrix of the errors is correctly specified.\n",
      "[2] The condition number is large, 2.04e+03. This might indicate that there are\n",
      "strong multicollinearity or other numerical problems.\n"
     ]
    }
   ],
   "source": [
    "df=pd.read_csv('c:/temp/HPI_SEOUL.csv',encoding='CP949')\n",
    "df1=df[['API_TT0','GU_CODE2','BaseRate','IND_INDEX','LTV','DTI','FREQ']]\n",
    "df2=df1.copy()\n",
    "\n",
    "df2['BaseRate1']=df2.groupby('GU_CODE2')['BaseRate'].shift(1)\n",
    "df2['IND_INDEX1']=df2.groupby('GU_CODE2')['IND_INDEX'].shift(1)\n",
    "df2['LTV2']=df2.groupby('GU_CODE2')['LTV'].shift(2)\n",
    "df2['DTI2']=df2.groupby('GU_CODE2')['DTI'].shift(2)\n",
    "df3=df2.dropna() # shift 하다보면 결측치 생길 수 밖에 없음\n",
    "\n",
    "# way 1: ols\n",
    "housing_model=ols('API_TT0 ~ BaseRate1+IND_INDEX1+LTV2+DTI2',data=df3).fit()\n",
    "print(housing_model.summary())\n",
    "\n",
    "# 해석\n",
    "# BaseRate1     -2.9000: 금리가 높아지면 주택가격이 떨어진다. 라는 뜻\n",
    "# IND_INDEX1     0.1311 : 경기가 좋아지면 주택가격도 높아진다\n",
    "# LTV2           0.3556 : LTV 커지면 주택가격 높아진다\n",
    "# DTI2          -0.0526 : DTI 커지면 주택가격 낮아진다"
   ]
  },
  {
   "cell_type": "code",
   "execution_count": 137,
   "id": "33314899",
   "metadata": {},
   "outputs": [
    {
     "name": "stdout",
     "output_type": "stream",
     "text": [
      "19553.852 [[ 1.5117962 ]\n",
      " [ 0.45172164]\n",
      " [-0.40336663]\n",
      " [-1.0178057 ]] [1.067156]\n",
      "300.92145 [[ 1.526857  ]\n",
      " [ 1.1557647 ]\n",
      " [ 0.03515402]\n",
      " [-0.49247092]] [1.0742552]\n",
      "273.9708 [[ 1.5225036 ]\n",
      " [ 1.1118581 ]\n",
      " [ 0.05381156]\n",
      " [-0.43691325]] [1.0742317]\n",
      "251.48212 [[ 1.5182948 ]\n",
      " [ 1.0709859 ]\n",
      " [ 0.07251053]\n",
      " [-0.3873814 ]] [1.0742235]\n",
      "232.63147 [[ 1.5142334 ]\n",
      " [ 1.0332146 ]\n",
      " [ 0.09138675]\n",
      " [-0.34304821]] [1.0742265]\n",
      "216.7551 [[ 1.5103104 ]\n",
      " [ 0.99825734]\n",
      " [ 0.11037003]\n",
      " [-0.30338386]] [1.0742503]\n"
     ]
    }
   ],
   "source": [
    "# ols 말고 경사하강법 가지고도 해보자\n",
    "\n",
    "# 전처리 1\n",
    "df=pd.read_csv('c:/temp/HPI_SEOUL.csv',encoding='CP949')\n",
    "df1=df[['API_TT0','GU_CODE2','BaseRate','IND_INDEX','LTV','DTI','FREQ']]\n",
    "df2=df1.copy()\n",
    "\n",
    "df2['BaseRate1']=df2.groupby('GU_CODE2')['BaseRate'].shift(1)\n",
    "df2['IND_INDEX1']=df2.groupby('GU_CODE2')['IND_INDEX'].shift(1)\n",
    "df2['LTV2']=df2.groupby('GU_CODE2')['LTV'].shift(2)\n",
    "df2['DTI2']=df2.groupby('GU_CODE2')['DTI'].shift(2)\n",
    "df3=df2.dropna() # shift 하다보면 결측치 생길 수 밖에 없음\n",
    "\n",
    "# 전처리 2 : 데이터타입 변경\n",
    "# ols는 데이터프레임 그대로 쓰지만, ml은 array로 바꿔서 써야함: .to_numpy()\n",
    "# tensor type을 'float32로 바꿔야함'\n",
    "X=df3[['BaseRate1','IND_INDEX1','LTV2','DTI2']].to_numpy()\n",
    "y=df3[['API_TT0']].to_numpy()\n",
    "X=X.astype('float32')\n",
    "y=y.astype('float32')\n",
    "\n",
    "# 경사하강법 (텐서 미분 준비)\n",
    "# X.shape # (1104,4) 로 나옴 : 1104개의 행, x변수가 4개로 구성됨\n",
    "k=X.shape[1] # k=4라고 정의한 것\n",
    "\n",
    "# 경사하강법 - 초기값 주기\n",
    "tf.random.set_seed(0)\n",
    "W=tf.Variable(tf.random.normal([k,1]), name='weight') # [k,1]: x변수가 4개 이니까\n",
    "b=tf.Variable(tf.random.normal([1]), name='bias')\n",
    "learning_rate=tf.Variable(0.000001) # 값이 안나오면 learning rate= alpha 를 더 낮게 줘보자\n",
    "\n",
    "# 1001번 반복하도록 한다\n",
    "for i in range(1000+1):\n",
    "    with tf.GradientTape() as tape:\n",
    "        hypothesis=tf.matmul(X,W)+b \n",
    "        #X변수가 4개임. 행렬곱임. : tf.matmul(X,W) 로 써야함. 행렬곱이라 dimension이 맞아야 해서 () 안에 X가 먼저 나오는 거임 \n",
    "        cost=tf.reduce_mean(tf.square(hypothesis-y))\n",
    "    W_grad, b_grad=tape.gradient(cost,[W,b])\n",
    "    W.assign_sub(learning_rate*W_grad) # _sub: 빼준다, 이 라인이 그 알파써서 W 옮기는 식 쓴거임\n",
    "    b.assign_sub(learning_rate*b_grad)\n",
    "    if i%200==0: # 1000번 반복 중에 너무 많으니까 200번 마다 보여줘라\n",
    "        print(cost.numpy(),W.numpy(),b.numpy())"
   ]
  },
  {
   "cell_type": "code",
   "execution_count": 138,
   "id": "150eab74",
   "metadata": {},
   "outputs": [
    {
     "name": "stdout",
     "output_type": "stream",
     "text": [
      "19553.852 [ 1.5117962   0.45172164 -0.40336663 -1.0178057 ] [1.067156]\n",
      "326.22324 [ 1.5286672   1.1626481   0.01674775 -0.5327681 ] [1.0741175]\n",
      "300.92145 [ 1.526857    1.1557647   0.03515402 -0.49247092] [1.0742552]\n",
      "286.8283 [ 1.5246658   1.133547    0.04454836 -0.46381575] [1.0742437]\n",
      "273.9708 [ 1.5225036   1.1118581   0.05381156 -0.43691325] [1.0742317]\n",
      "262.22458 [ 1.52038     1.0910152   0.06313424 -0.41146207] [1.0742235]\n",
      "251.48212 [ 1.5182948   1.0709859   0.07251053 -0.3873814 ] [1.0742235]\n",
      "241.64679 [ 1.5162463   1.0517311   0.08193109 -0.3645994 ] [1.0742235]\n",
      "232.63147 [ 1.5142334   1.0332146   0.09138675 -0.34304821] [1.0742265]\n",
      "224.35777 [ 1.5122548   1.015401    0.10086902 -0.3226634 ] [1.0742384]\n",
      "216.7551 [ 1.5103104   0.99825734  0.11037003 -0.30338386] [1.0742503]\n"
     ]
    }
   ],
   "source": [
    "# ols 말고 경사하강법 가지고도 해보자 ver2\n",
    "# x변수 여러개\n",
    "\n",
    "# 전처리 1\n",
    "df=pd.read_csv('c:/temp/HPI_SEOUL.csv',encoding='CP949')\n",
    "df1=df[['API_TT0','GU_CODE2','BaseRate','IND_INDEX','LTV','DTI','FREQ']]\n",
    "df2=df1.copy()\n",
    "\n",
    "df2['BaseRate1']=df2.groupby('GU_CODE2')['BaseRate'].shift(1)\n",
    "df2['IND_INDEX1']=df2.groupby('GU_CODE2')['IND_INDEX'].shift(1)\n",
    "df2['LTV2']=df2.groupby('GU_CODE2')['LTV'].shift(2)\n",
    "df2['DTI2']=df2.groupby('GU_CODE2')['DTI'].shift(2)\n",
    "df3=df2.dropna() # shift 하다보면 결측치 생길 수 밖에 없음\n",
    "\n",
    "# 전처리 2 : 데이터타입 변경\n",
    "# ols는 데이터프레임 그대로 쓰지만, ml은 array로 바꿔서 써야함: .to_numpy()\n",
    "# tensor type을 'float32로 바꿔야함'\n",
    "X=df3[['BaseRate1','IND_INDEX1','LTV2','DTI2']].to_numpy()\n",
    "y=df3[['API_TT0']].to_numpy()\n",
    "X=X.astype('float32')\n",
    "y=y.astype('float32')\n",
    "\n",
    "# 경사하강법 (텐서 미분 준비)\n",
    "# X.shape # (1104,4) 로 나옴 : 1104개의 행, x변수가 4개로 구성됨\n",
    "k=X.shape[1] # x변수 숫자만 큼 k 생성 # k=4라고 정의한 것\n",
    "\n",
    "# 경사하강법 - 초기값 주기\n",
    "tf.random.set_seed(0)\n",
    "W=tf.Variable(tf.random.normal([k,1]), name='weight') # [k,1]: x변수가 4개 이니까\n",
    "b=tf.Variable(tf.random.normal([1]), name='bias')\n",
    "learning_rate=tf.Variable(0.000001) # 값이 안나오면 learning rate= alpha 를 더 낮게 줘보자\n",
    "loss=[]\n",
    "\n",
    "# 1001번 반복하도록 한다\n",
    "for i in range(1000+1):\n",
    "    with tf.GradientTape() as tape:\n",
    "        hypothesis=tf.matmul(X,W)+b \n",
    "        cost=tf.reduce_mean(tf.square(hypothesis-y))\n",
    "        loss.append(cost.numpy()) # cost function의 값을 loss에 모은다. 나중에 그래프\n",
    "    # 경사 찾기 위해 미분\n",
    "    W_grad, b_grad=tape.gradient(cost,[W,b])\n",
    "    # 경사 update\n",
    "    W.assign_sub(learning_rate*W_grad) # _sub: 빼준다, 이 라인이 그 알파써서 W 옮기는 식 쓴거임\n",
    "    b.assign_sub(learning_rate*b_grad)\n",
    "    \n",
    "    if i%100==0: # 1000번 반복 중에 너무 많으니까 100번 마다 보여줘라\n",
    "        print(cost.numpy(),W.numpy().flatten(),b.numpy())"
   ]
  },
  {
   "cell_type": "code",
   "execution_count": 139,
   "id": "39395c8e",
   "metadata": {},
   "outputs": [],
   "source": [
    "# 맨 윗줄은 초기값\n",
    "# 그 아래부터 100번째 결과값, 200번째 결과값, 300번째 결과값, ... 등\n",
    "# 220.06773 [-0.48506594 -0.10185054  1.255872    0.5248685 ] [1.2058413]\n",
    "# cost function 값 (계속 minimize 되고 있다) / base rate의 효과 / 경기 효과 / ltv / dti / 상수항 bias 의 챋ㄹ\n",
    "# cost func 많이 줄어들다가 끝에는 적게 줄어들고 있다"
   ]
  },
  {
   "cell_type": "code",
   "execution_count": 140,
   "id": "8a285538",
   "metadata": {},
   "outputs": [
    {
     "data": {
      "image/png": "[encoded data removed]",
      "text/plain": [
       "<Figure size 640x480 with 1 Axes>"
      ]
     },
     "metadata": {},
     "output_type": "display_data"
    }
   ],
   "source": [
    "# cost function 줄어드는 모양을 그래프로 그려보자\n",
    "# loss는 array 구조였으니, data frame으로 바꿔야 한다.\n",
    "loss_data=pd.Series(loss)\n",
    "plt.plot(loss_data)\n",
    "plt.grid()\n",
    "plt.show()"
   ]
  },
  {
   "cell_type": "code",
   "execution_count": 141,
   "id": "1dbcb38f",
   "metadata": {},
   "outputs": [
    {
     "data": {
      "image/png": "[encoded data removed]",
      "text/plain": [
       "<Figure size 640x480 with 1 Axes>"
      ]
     },
     "metadata": {},
     "output_type": "display_data"
    }
   ],
   "source": [
    "# 100 ~ 1000번 만 잘라서 그리자\n",
    "loss_data1=loss_data.loc[100:1000]\n",
    "plt.plot(loss_data1)\n",
    "plt.grid()\n",
    "plt.show()"
   ]
  },
  {
   "cell_type": "code",
   "execution_count": 142,
   "id": "db9fe642",
   "metadata": {},
   "outputs": [
    {
     "data": {
      "text/plain": [
       "array([[  4.25    ,  99.469   ,  42.912678,  93.25561 ],\n",
       "       [  4.5     , 123.203   ,  43.94417 ,  94.82758 ],\n",
       "       [  4.5     , 128.718   ,  44.42562 ,  94.      ],\n",
       "       ...,\n",
       "       [  1.25    , 113.7     ,  70.      ,  63.611317],\n",
       "       [  1.25    ,  98.4     ,  70.      ,  63.602882],\n",
       "       [  1.25    , 129.      ,  70.      ,  63.611485]], dtype=float32)"
      ]
     },
     "execution_count": 142,
     "metadata": {},
     "output_type": "execute_result"
    }
   ],
   "source": [
    "X"
   ]
  },
  {
   "cell_type": "code",
   "execution_count": 143,
   "id": "c34533bd",
   "metadata": {},
   "outputs": [
    {
     "data": {
      "text/plain": [
       "array([  4.5    , 123.203  ,  43.94417,  94.82758], dtype=float32)"
      ]
     },
     "execution_count": 143,
     "metadata": {},
     "output_type": "execute_result"
    }
   ],
   "source": [
    "# Q: 두번째 가로의 예측값이 주어졌을 때 y hat이 얼마냐?\n",
    "#        [  4.5     , 123.203   ,  43.94417 ,  94.82758 ],\n",
    "second_row=X[1,:]\n",
    "second_row"
   ]
  },
  {
   "cell_type": "code",
   "execution_count": 144,
   "id": "4174ee9a",
   "metadata": {},
   "outputs": [
    {
     "data": {
      "text/plain": [
       "<tf.Tensor: shape=(1, 1), dtype=float32, numpy=array([[106.9399]], dtype=float32)>"
      ]
     },
     "execution_count": 144,
     "metadata": {},
     "output_type": "execute_result"
    }
   ],
   "source": [
    "predicted_y_ML=tf.matmul([second_row],W)+b\n",
    "# 위에 loop 1000번 돌려서 W,랑 b값 나와있기 때문에, 여기서 W,b는 자동으로 그 중에 제일 마지막 값임\n",
    "predicted_y_ML"
   ]
  },
  {
   "cell_type": "code",
   "execution_count": 145,
   "id": "db6a0aa4",
   "metadata": {},
   "outputs": [],
   "source": [
    "# 86.723: 예측 결과"
   ]
  },
  {
   "cell_type": "code",
   "execution_count": 146,
   "id": "e98c660e",
   "metadata": {},
   "outputs": [
    {
     "data": {
      "text/plain": [
       "array([88.06894], dtype=float32)"
      ]
     },
     "execution_count": 146,
     "metadata": {},
     "output_type": "execute_result"
    }
   ],
   "source": [
    "# X 두번째 row 일때 실제 y 값\n",
    "y[1,:]"
   ]
  },
  {
   "cell_type": "code",
   "execution_count": 147,
   "id": "049b52b5",
   "metadata": {},
   "outputs": [],
   "source": [
    "# 예측값과 실제값 차이남"
   ]
  },
  {
   "cell_type": "code",
   "execution_count": 148,
   "id": "cab0fd2a",
   "metadata": {},
   "outputs": [
    {
     "data": {
      "text/plain": [
       "API_TT0         88.068940\n",
       "GU_CODE2      1111.000000\n",
       "BaseRate         4.500000\n",
       "IND_INDEX      128.718000\n",
       "LTV             50.340131\n",
       "DTI             95.151515\n",
       "FREQ            99.000000\n",
       "BaseRate1        4.500000\n",
       "IND_INDEX1     123.203000\n",
       "LTV2            43.944172\n",
       "DTI2            94.827586\n",
       "Name: 3, dtype: float64"
      ]
     },
     "execution_count": 148,
     "metadata": {},
     "output_type": "execute_result"
    }
   ],
   "source": [
    "# ols 쓸 때는?\n",
    "# # seond row에 대한 y의 예측값을 계산해라 ols\n",
    "housing_model=ols('API_TT0 ~ BaseRate1+IND_INDEX1+LTV2+DTI2',data=df3).fit()\n",
    "second_row_ols=df3.iloc[1]\n",
    "second_row_ols"
   ]
  },
  {
   "cell_type": "code",
   "execution_count": 149,
   "id": "c6f1ea45",
   "metadata": {},
   "outputs": [],
   "source": [
    "# second row ols y 실제값 : API_TT0         88.068940"
   ]
  },
  {
   "cell_type": "code",
   "execution_count": 150,
   "id": "1339bb85",
   "metadata": {},
   "outputs": [
    {
     "data": {
      "text/plain": [
       "3    88.716887\n",
       "dtype: float64"
      ]
     },
     "execution_count": 150,
     "metadata": {},
     "output_type": "execute_result"
    }
   ],
   "source": [
    "predicted_y_ols=housing_model.predict(second_row_ols)\n",
    "predicted_y_ols"
   ]
  },
  {
   "cell_type": "code",
   "execution_count": 151,
   "id": "6d205b12",
   "metadata": {},
   "outputs": [],
   "source": [
    "# second row ols y 예측값 : 88.716887"
   ]
  },
  {
   "cell_type": "code",
   "execution_count": 152,
   "id": "5b8f4ca2",
   "metadata": {},
   "outputs": [],
   "source": [
    "# 0610"
   ]
  },
  {
   "cell_type": "markdown",
   "id": "c5c5e484",
   "metadata": {},
   "source": [
    "# y가 이산형 종속변수일때 ML추정\n",
    "## 이항종속변수 모형\n",
    "- 종속변수가 0 또는 1의 값을 가진다\n",
    "- 어떤 변수가 0또는 1의 값을 가질 때 이 변수의 평균은 이 변수가 1의 값을 가질 확률과 동일하다\n",
    "## 로짓모형 logit model\n",
    "- 범위를 맞춰주기 위해 사용\n",
    "- 승산 = p/(1-p) = 어떤 사건이 일어나지 않을 확률 대비 일어날 확률\n",
    "- 승산은 0~무한대의 범위를 가진다\n",
    "- 알파, 베타 햇 추정가능하면 -> p 값도 계산할 수 있다\n",
    "- 이떄 p 함수를 로지스틱 함수, 시그모이드 함수라고 한다\n",
    "- 로지스틱 함수는 선형이 아니라서 최소제곱법이 아니라, '최대우도추정(Maximum Lilihood Estimation)을 사용해서 베타를 추정한다\n",
    "- 최대우도추정: 전통적 계량경제학에서 쓰던 거다\n"
   ]
  },
  {
   "cell_type": "code",
   "execution_count": 153,
   "id": "adad2100",
   "metadata": {},
   "outputs": [
    {
     "data": {
      "text/html": [
       "<div>\n",
       "<style scoped>\n",
       "    .dataframe tbody tr th:only-of-type {\n",
       "        vertical-align: middle;\n",
       "    }\n",
       "\n",
       "    .dataframe tbody tr th {\n",
       "        vertical-align: top;\n",
       "    }\n",
       "\n",
       "    .dataframe thead th {\n",
       "        text-align: right;\n",
       "    }\n",
       "</style>\n",
       "<table border=\"1\" class=\"dataframe\">\n",
       "  <thead>\n",
       "    <tr style=\"text-align: right;\">\n",
       "      <th></th>\n",
       "      <th>hours</th>\n",
       "      <th>pass</th>\n",
       "    </tr>\n",
       "  </thead>\n",
       "  <tbody>\n",
       "    <tr>\n",
       "      <th>0</th>\n",
       "      <td>0.50</td>\n",
       "      <td>0</td>\n",
       "    </tr>\n",
       "    <tr>\n",
       "      <th>1</th>\n",
       "      <td>0.75</td>\n",
       "      <td>0</td>\n",
       "    </tr>\n",
       "    <tr>\n",
       "      <th>2</th>\n",
       "      <td>1.00</td>\n",
       "      <td>0</td>\n",
       "    </tr>\n",
       "    <tr>\n",
       "      <th>3</th>\n",
       "      <td>1.25</td>\n",
       "      <td>0</td>\n",
       "    </tr>\n",
       "    <tr>\n",
       "      <th>4</th>\n",
       "      <td>1.50</td>\n",
       "      <td>0</td>\n",
       "    </tr>\n",
       "  </tbody>\n",
       "</table>\n",
       "</div>"
      ],
      "text/plain": [
       "   hours  pass\n",
       "0   0.50     0\n",
       "1   0.75     0\n",
       "2   1.00     0\n",
       "3   1.25     0\n",
       "4   1.50     0"
      ]
     },
     "execution_count": 153,
     "metadata": {},
     "output_type": "execute_result"
    }
   ],
   "source": [
    "df=pd.read_excel('c:/temp/exam_pass.xlsx')\n",
    "df.head()\n",
    "# 이항종속변수가 y 변수임을 확인한다"
   ]
  },
  {
   "cell_type": "code",
   "execution_count": 154,
   "id": "cc2fccba",
   "metadata": {},
   "outputs": [
    {
     "data": {
      "text/html": [
       "<div>\n",
       "<style scoped>\n",
       "    .dataframe tbody tr th:only-of-type {\n",
       "        vertical-align: middle;\n",
       "    }\n",
       "\n",
       "    .dataframe tbody tr th {\n",
       "        vertical-align: top;\n",
       "    }\n",
       "\n",
       "    .dataframe thead th {\n",
       "        text-align: right;\n",
       "    }\n",
       "</style>\n",
       "<table border=\"1\" class=\"dataframe\">\n",
       "  <thead>\n",
       "    <tr style=\"text-align: right;\">\n",
       "      <th></th>\n",
       "      <th>hours</th>\n",
       "      <th>pass</th>\n",
       "      <th>const</th>\n",
       "    </tr>\n",
       "  </thead>\n",
       "  <tbody>\n",
       "    <tr>\n",
       "      <th>0</th>\n",
       "      <td>0.50</td>\n",
       "      <td>0</td>\n",
       "      <td>1</td>\n",
       "    </tr>\n",
       "    <tr>\n",
       "      <th>1</th>\n",
       "      <td>0.75</td>\n",
       "      <td>0</td>\n",
       "      <td>1</td>\n",
       "    </tr>\n",
       "    <tr>\n",
       "      <th>2</th>\n",
       "      <td>1.00</td>\n",
       "      <td>0</td>\n",
       "      <td>1</td>\n",
       "    </tr>\n",
       "    <tr>\n",
       "      <th>3</th>\n",
       "      <td>1.25</td>\n",
       "      <td>0</td>\n",
       "      <td>1</td>\n",
       "    </tr>\n",
       "    <tr>\n",
       "      <th>4</th>\n",
       "      <td>1.50</td>\n",
       "      <td>0</td>\n",
       "      <td>1</td>\n",
       "    </tr>\n",
       "    <tr>\n",
       "      <th>5</th>\n",
       "      <td>1.75</td>\n",
       "      <td>0</td>\n",
       "      <td>1</td>\n",
       "    </tr>\n",
       "    <tr>\n",
       "      <th>6</th>\n",
       "      <td>1.75</td>\n",
       "      <td>1</td>\n",
       "      <td>1</td>\n",
       "    </tr>\n",
       "    <tr>\n",
       "      <th>7</th>\n",
       "      <td>2.00</td>\n",
       "      <td>0</td>\n",
       "      <td>1</td>\n",
       "    </tr>\n",
       "    <tr>\n",
       "      <th>8</th>\n",
       "      <td>2.25</td>\n",
       "      <td>1</td>\n",
       "      <td>1</td>\n",
       "    </tr>\n",
       "    <tr>\n",
       "      <th>9</th>\n",
       "      <td>2.50</td>\n",
       "      <td>0</td>\n",
       "      <td>1</td>\n",
       "    </tr>\n",
       "  </tbody>\n",
       "</table>\n",
       "</div>"
      ],
      "text/plain": [
       "   hours  pass  const\n",
       "0   0.50     0      1\n",
       "1   0.75     0      1\n",
       "2   1.00     0      1\n",
       "3   1.25     0      1\n",
       "4   1.50     0      1\n",
       "5   1.75     0      1\n",
       "6   1.75     1      1\n",
       "7   2.00     0      1\n",
       "8   2.25     1      1\n",
       "9   2.50     0      1"
      ]
     },
     "execution_count": 154,
     "metadata": {},
     "output_type": "execute_result"
    }
   ],
   "source": [
    "# 상수항 변수 만들자.\n",
    "# alpha +beta*x니까, alpha *1이라서 '1' 상수항을 만든것\n",
    "df['const']=1\n",
    "df.head(10)"
   ]
  },
  {
   "cell_type": "code",
   "execution_count": 155,
   "id": "02780d78",
   "metadata": {},
   "outputs": [
    {
     "name": "stdout",
     "output_type": "stream",
     "text": [
      "Optimization terminated successfully.\n",
      "         Current function value: 0.401494\n",
      "         Iterations 7\n",
      "                           Logit Regression Results                           \n",
      "==============================================================================\n",
      "Dep. Variable:                   pass   No. Observations:                   20\n",
      "Model:                          Logit   Df Residuals:                       18\n",
      "Method:                           MLE   Df Model:                            1\n",
      "Date:                Wed, 19 Jun 2024   Pseudo R-squ.:                  0.4208\n",
      "Time:                        11:29:17   Log-Likelihood:                -8.0299\n",
      "converged:                       True   LL-Null:                       -13.863\n",
      "Covariance Type:            nonrobust   LLR p-value:                 0.0006365\n",
      "==============================================================================\n",
      "                 coef    std err          z      P>|z|      [0.025      0.975]\n",
      "------------------------------------------------------------------------------\n",
      "const         -4.0777      1.761     -2.316      0.021      -7.529      -0.626\n",
      "hours          1.5046      0.629      2.393      0.017       0.272       2.737\n",
      "==============================================================================\n"
     ]
    }
   ],
   "source": [
    "# y: pass, x: const, hours\n",
    "# 최대우도추정이라는 방법을 사용한다 MLE\n",
    "logit=sm.Logit(endog=df['pass'],exog=df[['const','hours']]).fit()\n",
    "print(logit.summary())"
   ]
  },
  {
   "cell_type": "code",
   "execution_count": 156,
   "id": "5c00dfab",
   "metadata": {},
   "outputs": [],
   "source": [
    "# hours coef: 1.5046\n",
    "# 해석 : 공부시간 많을수록 [로그승산이 증가한다.] = [pr(y=1)일 확률이 증가한다]"
   ]
  },
  {
   "cell_type": "code",
   "execution_count": 157,
   "id": "99c3b723",
   "metadata": {},
   "outputs": [
    {
     "name": "stdout",
     "output_type": "stream",
     "text": [
      "0.07089643911688731\n"
     ]
    }
   ],
   "source": [
    "# 로짓모형에서의 예측 prediction - 직접 계산\n",
    "\n",
    "# Q  공부시간이 1시간이면 합격할 확률\n",
    "# alpha=-4.077, beta=1.504\n",
    "alpha=-4.077\n",
    "beta=1.504\n",
    "z=alpha+beta*1\n",
    "pr_1=1/(1+np.exp(-z))\n",
    "print(pr_1)"
   ]
  },
  {
   "cell_type": "code",
   "execution_count": 158,
   "id": "f341e6bd",
   "metadata": {},
   "outputs": [],
   "source": [
    "# 공부시간이 1시간이면 합격할 확률: 7%"
   ]
  },
  {
   "cell_type": "code",
   "execution_count": 159,
   "id": "cbe49862",
   "metadata": {},
   "outputs": [
    {
     "name": "stdout",
     "output_type": "stream",
     "text": [
      "Optimization terminated successfully.\n",
      "         Current function value: 0.401494\n",
      "         Iterations 7\n",
      "                           Logit Regression Results                           \n",
      "==============================================================================\n",
      "Dep. Variable:                   pass   No. Observations:                   20\n",
      "Model:                          Logit   Df Residuals:                       18\n",
      "Method:                           MLE   Df Model:                            1\n",
      "Date:                Wed, 19 Jun 2024   Pseudo R-squ.:                  0.4208\n",
      "Time:                        11:29:17   Log-Likelihood:                -8.0299\n",
      "converged:                       True   LL-Null:                       -13.863\n",
      "Covariance Type:            nonrobust   LLR p-value:                 0.0006365\n",
      "==============================================================================\n",
      "                 coef    std err          z      P>|z|      [0.025      0.975]\n",
      "------------------------------------------------------------------------------\n",
      "const         -4.0777      1.761     -2.316      0.021      -7.529      -0.626\n",
      "hours          1.5046      0.629      2.393      0.017       0.272       2.737\n",
      "==============================================================================\n",
      "0.07089195989968797\n"
     ]
    }
   ],
   "source": [
    "# 로짓모형 요약\n",
    "\n",
    "# 불러오기\n",
    "df=pd.read_excel('c:/temp/exam_pass.xlsx')\n",
    "\n",
    "# 데이터 전처리 1: 상수항 변수 만들기\n",
    "# alpha +beta*x니까, alpha *1이라서 '1' 상수항을 만든것\n",
    "df['const']=1\n",
    "\n",
    "# 바로 추정\n",
    "# y: pass, x: const, hours\n",
    "# 최대우도추정이라는 방법을 사용한다 MLE\n",
    "logit=sm.Logit(endog=df['pass'],exog=df[['const','hours']]).fit()\n",
    "print(logit.summary())\n",
    "# 결과\n",
    "# hours coef: 1.5046\n",
    "# 해석 : 공부시간 많을수록 [로그승산이 증가한다.] = [pr(y=1)일 확률이 증가한다]\n",
    "\n",
    "# 예측\n",
    "alpha=logit.params[0]\n",
    "beta=logit.params[1]\n",
    "z=alpha+beta*1\n",
    "pr_1=1/(1+np.exp(-z))\n",
    "print(pr_1)"
   ]
  },
  {
   "cell_type": "markdown",
   "id": "922ac411",
   "metadata": {},
   "source": [
    "## 로짓모형에서 예측"
   ]
  },
  {
   "cell_type": "code",
   "execution_count": 160,
   "id": "80253743",
   "metadata": {},
   "outputs": [
    {
     "name": "stdout",
     "output_type": "stream",
     "text": [
      "0.07089195989968797\n"
     ]
    }
   ],
   "source": [
    "# 로짓모형에서의 예측 prediction - 코드 쓰기\n",
    "alpha=logit.params[0]\n",
    "beta=logit.params[1]\n",
    "z=alpha+beta*1\n",
    "pr_1=1/(1+np.exp(-z))\n",
    "print(pr_1)"
   ]
  },
  {
   "cell_type": "code",
   "execution_count": 161,
   "id": "71bddf37",
   "metadata": {},
   "outputs": [
    {
     "data": {
      "text/plain": [
       "array([[2.        , 0.25570318],\n",
       "       [3.        , 0.60735865],\n",
       "       [4.        , 0.8744475 ],\n",
       "       [5.        , 0.96909707],\n",
       "       [1.        , 0.07089196]])"
      ]
     },
     "execution_count": 161,
     "metadata": {},
     "output_type": "execute_result"
    }
   ],
   "source": [
    "# sigmoid 함수를 이용해 공부를 1~5시간까지 했을 때 합격할 확률을 계산해보자\n",
    "n=5 # 1~5시간 이니까\n",
    "total=np.zeros((n,2)) # nx2 비어있는 행렬을 만든다\n",
    "\n",
    "for i in range(5): # i는 0부터 4까지, i=0~4\n",
    "    k=i+1 # k = 1 ~ 5\n",
    "    z=alpha+beta*k\n",
    "    prob=1/(1+np.exp(-z))\n",
    "    total[i-1][0]=k # 값을 채워 넣는 과정 : 0번째 칼럼에 k 넣는다 ..??\n",
    "    total[i-1][1]=prob #첫번째 칼럼에 prob넣는다\n",
    "total"
   ]
  },
  {
   "cell_type": "code",
   "execution_count": 162,
   "id": "4f56f5b2",
   "metadata": {},
   "outputs": [],
   "source": [
    "# 해석\n",
    "# 2. , 0.25570318] : 공부하는 시간이 2시간이면, 합격확률 25%\n",
    "# 합격확률이 가장 크게 증가하는 공부시간 변화는 : 2->3"
   ]
  },
  {
   "cell_type": "code",
   "execution_count": 163,
   "id": "21c1d0c2",
   "metadata": {},
   "outputs": [
    {
     "data": {
      "text/html": [
       "<div>\n",
       "<style scoped>\n",
       "    .dataframe tbody tr th:only-of-type {\n",
       "        vertical-align: middle;\n",
       "    }\n",
       "\n",
       "    .dataframe tbody tr th {\n",
       "        vertical-align: top;\n",
       "    }\n",
       "\n",
       "    .dataframe thead th {\n",
       "        text-align: right;\n",
       "    }\n",
       "</style>\n",
       "<table border=\"1\" class=\"dataframe\">\n",
       "  <thead>\n",
       "    <tr style=\"text-align: right;\">\n",
       "      <th></th>\n",
       "      <th>hours</th>\n",
       "      <th>prob</th>\n",
       "    </tr>\n",
       "  </thead>\n",
       "  <tbody>\n",
       "    <tr>\n",
       "      <th>4</th>\n",
       "      <td>1.0</td>\n",
       "      <td>0.070892</td>\n",
       "    </tr>\n",
       "    <tr>\n",
       "      <th>0</th>\n",
       "      <td>2.0</td>\n",
       "      <td>0.255703</td>\n",
       "    </tr>\n",
       "    <tr>\n",
       "      <th>1</th>\n",
       "      <td>3.0</td>\n",
       "      <td>0.607359</td>\n",
       "    </tr>\n",
       "    <tr>\n",
       "      <th>2</th>\n",
       "      <td>4.0</td>\n",
       "      <td>0.874448</td>\n",
       "    </tr>\n",
       "    <tr>\n",
       "      <th>3</th>\n",
       "      <td>5.0</td>\n",
       "      <td>0.969097</td>\n",
       "    </tr>\n",
       "  </tbody>\n",
       "</table>\n",
       "</div>"
      ],
      "text/plain": [
       "   hours      prob\n",
       "4    1.0  0.070892\n",
       "0    2.0  0.255703\n",
       "1    3.0  0.607359\n",
       "2    4.0  0.874448\n",
       "3    5.0  0.969097"
      ]
     },
     "execution_count": 163,
     "metadata": {},
     "output_type": "execute_result"
    }
   ],
   "source": [
    "# 위에 결과를 data frame으로 변환해서 그림을 그린다\n",
    "df1=pd.DataFrame(data=total, columns=['hours','prob'])\n",
    "df1.sort_values(by=['hours'], inplace=True) # 순서를 hours에 맞게, 그니까 1부터 5까지 순서대로 바ㄱ꿔라 # 왜 안돼??\n",
    "df1.head()"
   ]
  },
  {
   "cell_type": "code",
   "execution_count": 164,
   "id": "679e71b9",
   "metadata": {},
   "outputs": [
    {
     "data": {
      "text/plain": [
       "<function matplotlib.pyplot.show(close=None, block=None)>"
      ]
     },
     "execution_count": 164,
     "metadata": {},
     "output_type": "execute_result"
    },
    {
     "data": {
      "image/png": "[encoded data removed]",
      "text/plain": [
       "<Figure size 640x480 with 1 Axes>"
      ]
     },
     "metadata": {},
     "output_type": "display_data"
    }
   ],
   "source": [
    "x=df1['hours']\n",
    "y=df1['prob']\n",
    "plt.plot(x,y)\n",
    "plt.grid()\n",
    "plt.show"
   ]
  },
  {
   "cell_type": "code",
   "execution_count": 165,
   "id": "023b02aa",
   "metadata": {},
   "outputs": [],
   "source": [
    "# 0612"
   ]
  },
  {
   "cell_type": "markdown",
   "id": "8b12ddd7",
   "metadata": {},
   "source": [
    "# ML을 써서 binary종속변수 회귀분석"
   ]
  },
  {
   "cell_type": "markdown",
   "id": "89db5058",
   "metadata": {},
   "source": [
    "## 시그모이드 함수 정의"
   ]
  },
  {
   "cell_type": "code",
   "execution_count": 166,
   "id": "4dda3b1f",
   "metadata": {},
   "outputs": [
    {
     "data": {
      "text/plain": [
       "0.7310585786300049"
      ]
     },
     "execution_count": 166,
     "metadata": {},
     "output_type": "execute_result"
    }
   ],
   "source": [
    "# 시그모이드 함수 정의\n",
    "def sigmoid(z):\n",
    "    return 1/(1+np.exp(-z)) # 이 값은 무조건 0~1의 값이 나오게 된다\n",
    "sigmoid(1)"
   ]
  },
  {
   "cell_type": "code",
   "execution_count": 167,
   "id": "e0becb8a",
   "metadata": {},
   "outputs": [],
   "source": [
    "# p=0.73 = 73%"
   ]
  },
  {
   "cell_type": "markdown",
   "id": "82e0c136",
   "metadata": {},
   "source": [
    "## 불황 0/ 호황 1 예측"
   ]
  },
  {
   "cell_type": "code",
   "execution_count": 168,
   "id": "c7853815",
   "metadata": {},
   "outputs": [
    {
     "name": "stdout",
     "output_type": "stream",
     "text": [
      "0 1.1952106 [ 0.8369028 -0.734328   1.0402688] [1.146763]\n",
      "1000 1.1535413 [ 0.80871063 -0.7641665   1.0150895 ] [1.1037824]\n",
      "2000 1.114245 [ 0.78132886 -0.7931322   0.99062204] [1.0620484]\n",
      "3000 1.077331 [ 0.75478685 -0.82119447  0.9668943 ] [1.0216016]\n",
      "4000 1.0427855 [ 0.7291073  -0.8483294   0.94392633] [0.9824767]\n",
      "5000 1.0105796 [ 0.7043105  -0.8745164   0.92173505] [0.9447015]\n",
      "6000 0.9806656 [ 0.68041027 -0.8997411   0.9003336 ] [0.9082961]\n",
      "7000 0.9529786 [ 0.6574155 -0.9239948  0.8797309] [0.87327206]\n",
      "8000 0.9274401 [ 0.6353296  -0.94727397  0.8599291 ] [0.83963346]\n",
      "9000 0.9039601 [ 0.6141515  -0.96958023  0.8409295 ] [0.80737776]\n",
      "10000 0.8824377 [ 0.5938753 -0.990921   0.8227258] [0.77649426]\n"
     ]
    }
   ],
   "source": [
    "# y가 범주형일 때 ML -> 경사하강법으로 예측하기, using sigmoid\n",
    "\n",
    "# 불러오기\n",
    "df=pd.read_csv('c:/temp/MACRO_Binary.csv')\n",
    "\n",
    "# 데이터 전처리 1\n",
    "x_data=df[['REALGDP','REALCONS','INV']]\n",
    "y_data=df['TARGET1']\n",
    "\n",
    "# 데이터 전처리 2 : ML 방식은 tensor flow 에서 사용해야 한다. \n",
    "# data frame -> numpy array 형식으로 바꿔야 한다.\n",
    "x_data=x_data.to_numpy()\n",
    "y_data=y_data.to_numpy()\n",
    "\n",
    "# 데이터 전처리 3: 변수들 간 범위 맞춰 준다. 최소0~최대1\n",
    "x_data_norm=MinMaxScaler().fit_transform(x_data)\n",
    "\n",
    "# 데이터 전처리 4: 'float32'로 바꿔야 tf에서 사용 가능\n",
    "x_data_norm=x_data_norm.astype('float32')\n",
    "y_data=y_data.astype('float32')\n",
    "\n",
    "# 경사하강법 적용\n",
    "k=x_data_norm.shape[1]\n",
    "tf.random.set_seed(1234)\n",
    "learning_rate=tf.Variable(0.0001)\n",
    "W=tf.Variable(tf.random.normal((k,1),name='Weignt'))\n",
    "b=tf.Variable(tf.random.normal([1]),name='bias')\n",
    "# 초기값 보기: print(W.numpy(),b.numpy()) \n",
    "# 10000번 실행한다\n",
    "for i in range(10000+1):\n",
    "    with tf.GradientTape() as tape:\n",
    "        hypothesis=tf.sigmoid(tf.matmul(x_data_norm,W)+b) # tensor flow 내에 내장된 sigmoid 함수 들어가 있다. hypothesis=H(x)\n",
    "        cost=-tf.reduce_mean(y_data*tf.math.log(hypothesis)+(1-y_data)*tf.math.log(1-hypothesis))\n",
    "        W_grad, b_grad=tape.gradient(cost,[W,b])\n",
    "        # W, b를 경사하강법에 의해 update 한다\n",
    "        W.assign_sub(learning_rate*W_grad)\n",
    "        b.assign_sub(learning_rate*b_grad)\n",
    "        # 다른 부분은 다 같고, hypothesis, cost만 잘 정의하면 됨\n",
    "    \n",
    "    # 결과보기\n",
    "    if i%1000==0:\n",
    "        print(i,cost.numpy(),W.numpy().flatten(),b.numpy())"
   ]
  },
  {
   "cell_type": "code",
   "execution_count": 169,
   "id": "3eb4ad81",
   "metadata": {},
   "outputs": [],
   "source": [
    "# 1000번 단위로 결과 나옴\n",
    "# 10000 0.7506217 [ 0.4368408 -1.1554717  0.6811289] [0.53703636] : 요게 원하는 결과\n",
    "# 0.4368408 : 소득이 증가할 수록 경기가 호황일 가능성이 크다\n",
    "# -1.1554717  : 소비 증가율이 높을 수록 경ㄱ 호황 가능성 작다\n",
    "# 0.6811289 : 투자 증가율이 높을 수록 호황 가능성 높다\n",
    "# RealGDP 증가율이 높아질수록 y=1(호황)일 가능성이 증가한다.\n",
    "# RealCons 증가율이 높아질수록 y=1(호황)일 가능성이 감소한다.\n",
    "# INV 증가율이 높아질수록 y=1(호황)일 가능성이 증가한다."
   ]
  },
  {
   "cell_type": "code",
   "execution_count": null,
   "id": "503aef5e",
   "metadata": {},
   "outputs": [],
   "source": []
  },
  {
   "cell_type": "code",
   "execution_count": null,
   "id": "2570238e",
   "metadata": {},
   "outputs": [],
   "source": []
  },
  {
   "cell_type": "code",
   "execution_count": null,
   "id": "2e719bd8",
   "metadata": {},
   "outputs": [],
   "source": []
  },
  {
   "cell_type": "code",
   "execution_count": null,
   "id": "eaf4e930",
   "metadata": {},
   "outputs": [],
   "source": []
  },
  {
   "cell_type": "code",
   "execution_count": null,
   "id": "70a021d0",
   "metadata": {},
   "outputs": [],
   "source": []
  },
  {
   "cell_type": "code",
   "execution_count": null,
   "id": "3108be4e",
   "metadata": {},
   "outputs": [],
   "source": []
  },
  {
   "cell_type": "code",
   "execution_count": null,
   "id": "b89de0db",
   "metadata": {},
   "outputs": [],
   "source": []
  }
 ],
 "metadata": {
  "kernelspec": {
   "display_name": "Python 3 (ipykernel)",
   "language": "python",
   "name": "python3"
  },
  "language_info": {
   "codemirror_mode": {
    "name": "ipython",
    "version": 3
   },
   "file_extension": ".py",
   "mimetype": "text/x-python",
   "name": "python",
   "nbconvert_exporter": "python",
   "pygments_lexer": "ipython3",
   "version": "3.9.13"
  },
  "toc": {
   "base_numbering": 1,
   "nav_menu": {},
   "number_sections": true,
   "sideBar": true,
   "skip_h1_title": false,
   "title_cell": "Table of Contents",
   "title_sidebar": "Contents",
   "toc_cell": false,
   "toc_position": {
    "height": "calc(100% - 180px)",
    "left": "10px",
    "top": "150px",
    "width": "384px"
   },
   "toc_section_display": true,
   "toc_window_display": false
  },
  "varInspector": {
   "cols": {
    "lenName": 16,
    "lenType": 16,
    "lenVar": 40
   },
   "kernels_config": {
    "python": {
     "delete_cmd_postfix": "",
     "delete_cmd_prefix": "del ",
     "library": "var_list.py",
     "varRefreshCmd": "print(var_dic_list())"
    },
    "r": {
     "delete_cmd_postfix": ") ",
     "delete_cmd_prefix": "rm(",
     "library": "var_list.r",
     "varRefreshCmd": "cat(var_dic_list()) "
    }
   },
   "types_to_exclude": [
    "module",
    "function",
    "builtin_function_or_method",
    "instance",
    "_Feature"
   ],
   "window_display": false
  }
 },
 "nbformat": 4,
 "nbformat_minor": 5
}
