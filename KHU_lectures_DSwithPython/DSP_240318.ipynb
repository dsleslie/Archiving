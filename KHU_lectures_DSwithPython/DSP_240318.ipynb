{
 "cells": [
  {
   "cell_type": "code",
   "execution_count": 1,
   "id": "eac09085",
   "metadata": {},
   "outputs": [],
   "source": [
    "import pandas as pd\n",
    "import numpy as np\n",
    "import numpy_financial as npf\n",
    "import seaborn as sns\n",
    "import matplotlib.pyplot as plt\n",
    "import statsmodels.api as sm\n",
    "from sklearn.model_selection import train_test_split\n",
    "import warnings\n",
    "warnings.filterwarnings(\"ignore\")\n",
    "\n",
    "\n",
    "from ggplot import *\n",
    "from scipy.stats import logistic\n",
    "from sklearn.metrics import roc_curve\n",
    "from sklearn.metrics import roc_auc_score\n",
    "from sklearn.linear_model import LogisticRegression\n",
    "from sklearn.metrics import confusion_matrix, mean_squared_error\n",
    "from sklearn.model_selection import train_test_split\n",
    "from sklearn import preprocessing\n",
    "from sklearn.neighbors import KNeighborsClassifier\n",
    "from sklearn.naive_bayes import *\n",
    "from sklearn.tree import DecisionTreeClassifier, DecisionTreeRegressor, export_graphviz\n",
    "import graphviz\n",
    "from sklearn.ensemble import RandomForestRegressor, RandomForestClassifier\n",
    "from sklearn.svm import SVC, SVR\n",
    "from sklearn.cluster import KMeans\n",
    "from sklearn.preprocessing import StandardScaler\n",
    "\n",
    "\n",
    "from linearmodels.iv import IV2SLS\n",
    "from scipy import stats\n",
    "from scipy.stats import trim_mean #trimmed mean"
   ]
  },
  {
   "cell_type": "markdown",
   "id": "23ef5b27",
   "metadata": {},
   "source": [
    "# Data Science with Python LN2: 주택실거래가 데이터 분석(1) 이어서..."
   ]
  },
  {
   "cell_type": "code",
   "execution_count": 2,
   "id": "00102547",
   "metadata": {},
   "outputs": [
    {
     "data": {
      "text/plain": [
       "tuple"
      ]
     },
     "execution_count": 2,
     "metadata": {},
     "output_type": "execute_result"
    }
   ],
   "source": [
    "# Tuple 정의\n",
    "x=(1,2)\n",
    "type(x)"
   ]
  },
  {
   "cell_type": "code",
   "execution_count": 3,
   "id": "5f75dac0",
   "metadata": {},
   "outputs": [
    {
     "data": {
      "text/plain": [
       "(1, 2)"
      ]
     },
     "execution_count": 3,
     "metadata": {},
     "output_type": "execute_result"
    }
   ],
   "source": [
    "x"
   ]
  },
  {
   "cell_type": "markdown",
   "id": "3b620a79",
   "metadata": {},
   "source": [
    "#### list와 tuple의 가장 큰 차이점\n",
    "- list는 값 추가, 변경 가능\n",
    "- tuple은 정의 하면 변경 불가능\n",
    "- tuple 은 append 사용하기 불가능"
   ]
  },
  {
   "cell_type": "code",
   "execution_count": 4,
   "id": "4fbb3d65",
   "metadata": {},
   "outputs": [
    {
     "ename": "TypeError",
     "evalue": "'tuple' object does not support item assignment",
     "output_type": "error",
     "traceback": [
      "\u001b[1;31m---------------------------------------------------------------------------\u001b[0m",
      "\u001b[1;31mTypeError\u001b[0m                                 Traceback (most recent call last)",
      "\u001b[1;32m~\\AppData\\Local\\Temp\\ipykernel_2372\\705704758.py\u001b[0m in \u001b[0;36m<module>\u001b[1;34m\u001b[0m\n\u001b[0;32m      1\u001b[0m \u001b[1;31m# 2번째 값을 4로 추가하고 싶다, 라고 하면 에러날 것임\u001b[0m\u001b[1;33m\u001b[0m\u001b[1;33m\u001b[0m\u001b[0m\n\u001b[1;32m----> 2\u001b[1;33m \u001b[0mx\u001b[0m\u001b[1;33m[\u001b[0m\u001b[1;36m2\u001b[0m\u001b[1;33m]\u001b[0m\u001b[1;33m=\u001b[0m\u001b[1;36m4\u001b[0m\u001b[1;33m\u001b[0m\u001b[1;33m\u001b[0m\u001b[0m\n\u001b[0m",
      "\u001b[1;31mTypeError\u001b[0m: 'tuple' object does not support item assignment"
     ]
    }
   ],
   "source": [
    "# 2번째 값을 4로 추가하고 싶다, 라고 하면 에러날 것임\n",
    "x[2]=4"
   ]
  },
  {
   "cell_type": "code",
   "execution_count": 5,
   "id": "35f467dc",
   "metadata": {},
   "outputs": [
    {
     "ename": "AttributeError",
     "evalue": "'tuple' object has no attribute 'append'",
     "output_type": "error",
     "traceback": [
      "\u001b[1;31m---------------------------------------------------------------------------\u001b[0m",
      "\u001b[1;31mAttributeError\u001b[0m                            Traceback (most recent call last)",
      "\u001b[1;32m~\\AppData\\Local\\Temp\\ipykernel_2372\\1633038997.py\u001b[0m in \u001b[0;36m<module>\u001b[1;34m\u001b[0m\n\u001b[0;32m      1\u001b[0m \u001b[1;31m# list에서 값 추가할 때 쓰는 append 도 tuple에선 안됨\u001b[0m\u001b[1;33m\u001b[0m\u001b[1;33m\u001b[0m\u001b[0m\n\u001b[0;32m      2\u001b[0m \u001b[1;31m# .append(5) = > 마지막에 5 추가해라\u001b[0m\u001b[1;33m\u001b[0m\u001b[1;33m\u001b[0m\u001b[0m\n\u001b[1;32m----> 3\u001b[1;33m \u001b[0mx\u001b[0m\u001b[1;33m.\u001b[0m\u001b[0mappend\u001b[0m\u001b[1;33m(\u001b[0m\u001b[1;36m5\u001b[0m\u001b[1;33m)\u001b[0m\u001b[1;33m\u001b[0m\u001b[1;33m\u001b[0m\u001b[0m\n\u001b[0m",
      "\u001b[1;31mAttributeError\u001b[0m: 'tuple' object has no attribute 'append'"
     ]
    }
   ],
   "source": [
    "# list에서 값 추가할 때 쓰는 append 도 tuple에선 안됨\n",
    "# .append(5) = > 마지막에 5 추가해라\n",
    "x.append(5)"
   ]
  },
  {
   "cell_type": "markdown",
   "id": "3a2a2fdc",
   "metadata": {},
   "source": [
    "#### 반복문 다시\n",
    "\n",
    "- for\n",
    "\n",
    "- range *주의!*\n",
    "\n",
    "- while"
   ]
  },
  {
   "cell_type": "code",
   "execution_count": 6,
   "id": "12793c3f",
   "metadata": {},
   "outputs": [
    {
     "name": "stdout",
     "output_type": "stream",
     "text": [
      "dog\n",
      "cat\n",
      "bird\n"
     ]
    }
   ],
   "source": [
    "animals=['dog','cat','bird']\n",
    "for i in animals:\n",
    "    print(i)"
   ]
  },
  {
   "cell_type": "code",
   "execution_count": 7,
   "id": "3e302503",
   "metadata": {},
   "outputs": [
    {
     "data": {
      "text/plain": [
       "3"
      ]
     },
     "execution_count": 7,
     "metadata": {},
     "output_type": "execute_result"
    }
   ],
   "source": [
    "# range 사용해서 반복문 쓰기\n",
    "\n",
    "k=len(animals) #animals 리스트 내의 값의 갯수를 저장한다. length=len\n",
    "k"
   ]
  },
  {
   "cell_type": "code",
   "execution_count": 8,
   "id": "e9d9d7fc",
   "metadata": {},
   "outputs": [
    {
     "name": "stdout",
     "output_type": "stream",
     "text": [
      "dog\n",
      "cat\n",
      "bird\n"
     ]
    }
   ],
   "source": [
    " # range(k) : 처음부터 k가 3이니까 세번째까지가 아니고 3을 제외한 그 바로 앞, 그니까 두번째까지 0,1,2 이렇게 3개가 나옴\n",
    "for i in range(k): \n",
    "    print(animals[i])"
   ]
  },
  {
   "cell_type": "code",
   "execution_count": 9,
   "id": "fd79b83b",
   "metadata": {},
   "outputs": [
    {
     "name": "stdout",
     "output_type": "stream",
     "text": [
      "1\n",
      "2\n",
      "3\n",
      "4\n"
     ]
    }
   ],
   "source": [
    "# while 이용해서 loop 실행하기\n",
    "\n",
    "# i는1, 5보다 작을때까지 loop를 돌린다. 그리고 i를 출력한다. 그리고 1을 더한다\n",
    "\n",
    "i=1\n",
    "while i<5:\n",
    "    print(i)\n",
    "    i=i+1"
   ]
  },
  {
   "cell_type": "code",
   "execution_count": 10,
   "id": "00012e80",
   "metadata": {},
   "outputs": [
    {
     "name": "stdout",
     "output_type": "stream",
     "text": [
      "0\n",
      "2\n",
      "4\n",
      "6\n",
      "8\n",
      "10\n",
      "12\n",
      "14\n",
      "16\n",
      "18\n"
     ]
    }
   ],
   "source": [
    "# 0-9까지 숫자를 2를 매번 곱해서 리스트로 생성하자\n",
    "# 0,2,4,6,8,10,12,14,16,18 이 리스트로 만들어지면 될 것\n",
    "\n",
    "for i in range(10):\n",
    "    x=i*2\n",
    "    print(x)"
   ]
  },
  {
   "cell_type": "code",
   "execution_count": 11,
   "id": "d9293270",
   "metadata": {},
   "outputs": [
    {
     "name": "stdout",
     "output_type": "stream",
     "text": [
      "[0, 2, 4, 6, 8, 10, 12, 14, 16, 18]\n"
     ]
    }
   ],
   "source": [
    "# 실행된 값을 모아서 리스트로 만들려면.. = Q11\n",
    "\n",
    "y=[] # 비어있는 리스트 object\n",
    "for i in range(10):\n",
    "    x=i*2\n",
    "    y.append(x) # list append 할 수 있다\n",
    "print(y)"
   ]
  },
  {
   "cell_type": "markdown",
   "id": "6996c82e",
   "metadata": {},
   "source": [
    "#### list comprehension을 사용하면 같은 결과(Q11)를 간단한 코드로 쓸 수 있다.\n",
    "#### => loop 구문을 list 안에서 정의할 수 있는 것"
   ]
  },
  {
   "cell_type": "code",
   "execution_count": 12,
   "id": "50ce7ec0",
   "metadata": {},
   "outputs": [
    {
     "data": {
      "text/plain": [
       "[0, 2, 4, 6, 8, 10, 12, 14, 16, 18]"
      ]
     },
     "execution_count": 12,
     "metadata": {},
     "output_type": "execute_result"
    }
   ],
   "source": [
    "# list comprehension\n",
    "\n",
    "y1=[2*x for x in range(10)]\n",
    "y1"
   ]
  },
  {
   "cell_type": "markdown",
   "id": "c8af1a92",
   "metadata": {},
   "source": [
    "### 4 API를 이용한 주택실거래가 데이터 수집\n",
    "\n",
    " "
   ]
  },
  {
   "cell_type": "code",
   "execution_count": 13,
   "id": "6d26ef69",
   "metadata": {},
   "outputs": [
    {
     "name": "stdout",
     "output_type": "stream",
     "text": [
      "Note: you may need to restart the kernel to use updated packages.\n"
     ]
    },
    {
     "name": "stderr",
     "output_type": "stream",
     "text": [
      "ERROR: Could not find a version that satisfies the requirement urllib.request (from versions: none)\n",
      "ERROR: No matching distribution found for urllib.request\n"
     ]
    }
   ],
   "source": [
    "pip install urllib.request"
   ]
  },
  {
   "cell_type": "code",
   "execution_count": 18,
   "id": "0af7d974",
   "metadata": {},
   "outputs": [
    {
     "name": "stdout",
     "output_type": "stream",
     "text": [
      "Requirement already satisfied: requests in c:\\users\\chaer\\anaconda3\\lib\\site-packages (2.28.1)Note: you may need to restart the kernel to use updated packages.\n",
      "\n",
      "Requirement already satisfied: urllib3<1.27,>=1.21.1 in c:\\users\\chaer\\anaconda3\\lib\\site-packages (from requests) (1.26.11)\n",
      "Requirement already satisfied: charset-normalizer<3,>=2 in c:\\users\\chaer\\anaconda3\\lib\\site-packages (from requests) (2.0.4)\n",
      "Requirement already satisfied: idna<4,>=2.5 in c:\\users\\chaer\\anaconda3\\lib\\site-packages (from requests) (3.3)\n",
      "Requirement already satisfied: certifi>=2017.4.17 in c:\\users\\chaer\\anaconda3\\lib\\site-packages (from requests) (2022.9.14)\n"
     ]
    }
   ],
   "source": [
    "pip install requests"
   ]
  },
  {
   "cell_type": "code",
   "execution_count": 20,
   "id": "b4cbef77",
   "metadata": {},
   "outputs": [
    {
     "name": "stdout",
     "output_type": "stream",
     "text": [
      "Requirement already satisfied: beautifulsoup4 in c:\\users\\chaer\\anaconda3\\lib\\site-packages (4.11.1)\n",
      "Requirement already satisfied: soupsieve>1.2 in c:\\users\\chaer\\anaconda3\\lib\\site-packages (from beautifulsoup4) (2.3.1)\n",
      "Note: you may need to restart the kernel to use updated packages.\n"
     ]
    }
   ],
   "source": [
    "pip install beautifulsoup4"
   ]
  },
  {
   "cell_type": "code",
   "execution_count": 21,
   "id": "3805a5ba",
   "metadata": {},
   "outputs": [],
   "source": [
    "from urllib.request import urlopen #request package 설치\n",
    "from bs4 import BeautifulSoup #bs4 package 설치"
   ]
  },
  {
   "cell_type": "code",
   "execution_count": 31,
   "id": "e5f6488e",
   "metadata": {},
   "outputs": [],
   "source": [
    "# 표에 있는 걸 미리 정의 해줘야 한다\n",
    "Servicekey=\"29jTU1S%2B7bDI1Rb2LV0S5D0d3Xn%2Fji9T3k%2FWjsLR%2FyI9O3wEU0atKsr9hj9ATsfIpKgWmV8k8Ll67O%2F73Nyj6w%3D%3D\"\n",
    "month=202401 # 2024년 1월 거래 정보를 사용하고자 한다.\n",
    "gu_code=11110 # 서울시 종로구 데이터를 사용하겠다\n",
    "numOfRows=1000 # 최대 1000개의 거래정보를 가져오겠다\n",
    "url=\"http://openapi.molit.go.kr:8081/OpenAPI_ToolInstallPackage/service/rest/RTMSOBJSvc/getRTMSDataSvcAptTrade?LAWD_CD=\"+str(gu_code)+\"&DEAL_YMD=\"+str(month)+\"&numOfRows=\"+str(numOfRows)+\"&serviceKey=\"+Servicekey"
   ]
  },
  {
   "cell_type": "code",
   "execution_count": 32,
   "id": "184778fd",
   "metadata": {},
   "outputs": [
    {
     "name": "stdout",
     "output_type": "stream",
     "text": [
      "http://openapi.molit.go.kr:8081/OpenAPI_ToolInstallPackage/service/rest/RTMSOBJSvc/getRTMSDataSvcAptTrade?LAWD_CD=11110&DEAL_YMD=202401&numOfRows=1000&serviceKey=29jTU1S%2B7bDI1Rb2LV0S5D0d3Xn%2Fji9T3k%2FWjsLR%2FyI9O3wEU0atKsr9hj9ATsfIpKgWmV8k8Ll67O%2F73Nyj6w%3D%3D\n"
     ]
    }
   ],
   "source": [
    "print(url)"
   ]
  },
  {
   "cell_type": "code",
   "execution_count": 35,
   "id": "fe73828f",
   "metadata": {},
   "outputs": [
    {
     "data": {
      "text/plain": [
       "<?xml version=\"1.0\" encoding=\"utf-8\"?>\n",
       "<response><header><resultCode>00</resultCode><resultMsg>NORMAL SERVICE.</resultMsg></header><body><items><item><거래금액>     192,000</거래금액><거래유형>중개거래</거래유형><건축년도>2004</건축년도><년>2024</년><동> </동><등기일자> </등기일자><매도자>개인</매도자><매수자>개인</매수자><법정동> 내수동</법정동><아파트>경희궁의아침3단지</아파트><월>1</월><일>13</일><전용면적>149</전용면적><중개사소재지>서울 종로구</중개사소재지><지번>72</지번><지역코드>11110</지역코드><층>4</층><해제사유발생일> </해제사유발생일><해제여부> </해제여부></item><item><거래금액>     192,000</거래금액><거래유형>중개거래</거래유형><건축년도>2004</건축년도><년>2024</년><동> </동><등기일자> </등기일자><매도자>개인</매도자><매수자>개인</매수자><법정동> 내수동</법정동><아파트>경희궁의아침3단지</아파트><월>1</월><일>13</일><전용면적>149</전용면적><중개사소재지>서울 종로구</중개사소재지><지번>72</지번><지역코드>11110</지역코드><층>4</층><해제사유발생일> </해제사유발생일><해제여부> </해제여부></item><item><거래금액>      42,000</거래금액><거래유형>중개거래</거래유형><건축년도>2003</건축년도><년>2024</년><동> </동><등기일자> </등기일자><매도자>개인</매도자><매수자>개인</매수자><법정동> 익선동</법정동><아파트>현대뜨레비앙</아파트><월>1</월><일>30</일><전용면적>48.54</전용면적><중개사소재지>서울 종로구</중개사소재지><지번>55</지번><지역코드>11110</지역코드><층>2</층><해제사유발생일> </해제사유발생일><해제여부> </해제여부></item><item><거래금액>      46,000</거래금액><거래유형>중개거래</거래유형><건축년도>2003</건축년도><년>2024</년><동> </동><등기일자> </등기일자><매도자>개인</매도자><매수자>개인</매수자><법정동> 명륜1가</법정동><아파트>리치캐슬아파트</아파트><월>1</월><일>4</일><전용면적>64.68</전용면적><중개사소재지>서울 종로구</중개사소재지><지번>33-85</지번><지역코드>11110</지역코드><층>4</층><해제사유발생일> </해제사유발생일><해제여부> </해제여부></item><item><거래금액>      57,400</거래금액><거래유형>중개거래</거래유형><건축년도>2003</건축년도><년>2024</년><동> </동><등기일자>24.02.05</등기일자><매도자>개인</매도자><매수자>개인</매수자><법정동> 명륜1가</법정동><아파트>송림아마레스아파트</아파트><월>1</월><일>26</일><전용면적>75.62</전용면적><중개사소재지>서울 종로구</중개사소재지><지번>2-12</지번><지역코드>11110</지역코드><층>5</층><해제사유발생일> </해제사유발생일><해제여부> </해제여부></item><item><거래금액>      57,500</거래금액><거래유형>중개거래</거래유형><건축년도>1993</건축년도><년>2024</년><동> </동><등기일자> </등기일자><매도자>개인</매도자><매수자>개인</매수자><법정동> 창신동</법정동><아파트>창신쌍용2</아파트><월>1</월><일>8</일><전용면적>64.66</전용면적><중개사소재지>서울 종로구</중개사소재지><지번>703</지번><지역코드>11110</지역코드><층>9</층><해제사유발생일> </해제사유발생일><해제여부> </해제여부></item><item><거래금액>      13,500</거래금액><거래유형>중개거래</거래유형><건축년도>2014</건축년도><년>2024</년><동>삼전솔하임4차</동><등기일자>24.01.25</등기일자><매도자>개인</매도자><매수자>개인</매수자><법정동> 숭인동</법정동><아파트>삼전솔하임4차</아파트><월>1</월><일>9</일><전용면적>15.09</전용면적><중개사소재지>서울 종로구</중개사소재지><지번>318-2</지번><지역코드>11110</지역코드><층>15</층><해제사유발생일> </해제사유발생일><해제여부> </해제여부></item><item><거래금액>      95,000</거래금액><거래유형>중개거래</거래유형><건축년도>2008</건축년도><년>2024</년><동> </동><등기일자> </등기일자><매도자>개인</매도자><매수자>개인</매수자><법정동> 숭인동</법정동><아파트>종로센트레빌</아파트><월>1</월><일>19</일><전용면적>84.92</전용면적><중개사소재지>서울 종로구</중개사소재지><지번>2-1</지번><지역코드>11110</지역코드><층>2</층><해제사유발생일> </해제사유발생일><해제여부> </해제여부></item><item><거래금액>     101,300</거래금액><거래유형>중개거래</거래유형><건축년도>2009</건축년도><년>2024</년><동> </동><등기일자> </등기일자><매도자>개인</매도자><매수자>개인</매수자><법정동> 숭인동</법정동><아파트>종로청계힐스테이트</아파트><월>1</월><일>19</일><전용면적>84.9478</전용면적><중개사소재지>서울 종로구</중개사소재지><지번>766</지번><지역코드>11110</지역코드><층>13</층><해제사유발생일> </해제사유발생일><해제여부> </해제여부></item><item><거래금액>      80,000</거래금액><거래유형>중개거래</거래유형><건축년도>2009</건축년도><년>2024</년><동> </동><등기일자> </등기일자><매도자>개인</매도자><매수자>개인</매수자><법정동> 숭인동</법정동><아파트>종로청계힐스테이트</아파트><월>1</월><일>27</일><전용면적>59.9426</전용면적><중개사소재지>서울 종로구</중개사소재지><지번>766</지번><지역코드>11110</지역코드><층>11</층><해제사유발생일> </해제사유발생일><해제여부> </해제여부></item><item><거래금액>     200,000</거래금액><거래유형>중개거래</거래유형><건축년도>2017</건축년도><년>2024</년><동> </동><등기일자> </등기일자><매도자>개인</매도자><매수자>개인</매수자><법정동> 평동</법정동><아파트>경희궁자이(3단지)</아파트><월>1</월><일>27</일><전용면적>84.8359</전용면적><중개사소재지>서울 종로구</중개사소재지><지번>233</지번><지역코드>11110</지역코드><층>14</층><해제사유발생일> </해제사유발생일><해제여부> </해제여부></item><item><거래금액>     195,000</거래금액><거래유형>중개거래</거래유형><건축년도>2017</건축년도><년>2024</년><동> </동><등기일자> </등기일자><매도자>개인</매도자><매수자>개인</매수자><법정동> 홍파동</법정동><아파트>경희궁자이(2단지)</아파트><월>1</월><일>18</일><전용면적>84.8359</전용면적><중개사소재지>서울 종로구</중개사소재지><지번>199</지번><지역코드>11110</지역코드><층>12</층><해제사유발생일> </해제사유발생일><해제여부> </해제여부></item><item><거래금액>     200,000</거래금액><거래유형>중개거래</거래유형><건축년도>2017</건축년도><년>2024</년><동> </동><등기일자> </등기일자><매도자>개인</매도자><매수자>개인</매수자><법정동> 홍파동</법정동><아파트>경희궁자이(2단지)</아파트><월>1</월><일>22</일><전용면적>84.614</전용면적><중개사소재지>서울 종로구</중개사소재지><지번>199</지번><지역코드>11110</지역코드><층>4</층><해제사유발생일> </해제사유발생일><해제여부> </해제여부></item><item><거래금액>     156,000</거래금액><거래유형>중개거래</거래유형><건축년도>2017</건축년도><년>2024</년><동> </동><등기일자> </등기일자><매도자>개인</매도자><매수자>개인</매수자><법정동> 홍파동</법정동><아파트>경희궁자이(2단지)</아파트><월>1</월><일>24</일><전용면적>59.8547</전용면적><중개사소재지>서울 종로구</중개사소재지><지번>199</지번><지역코드>11110</지역코드><층>9</층><해제사유발생일> </해제사유발생일><해제여부> </해제여부></item><item><거래금액>     135,000</거래금액><거래유형>직거래</거래유형><건축년도>2009</건축년도><년>2024</년><동> </동><등기일자> </등기일자><매도자>개인</매도자><매수자>개인</매수자><법정동> 평창동</법정동><아파트>롯데캐슬로잔</아파트><월>1</월><일>22</일><전용면적>191.725</전용면적><중개사소재지> </중개사소재지><지번>108</지번><지역코드>11110</지역코드><층>1</층><해제사유발생일> </해제사유발생일><해제여부> </해제여부></item><item><거래금액>      70,500</거래금액><거래유형>중개거래</거래유형><건축년도>1996</건축년도><년>2024</년><동> </동><등기일자> </등기일자><매도자>개인</매도자><매수자>개인</매수자><법정동> 평창동</법정동><아파트>일성빌라트</아파트><월>1</월><일>27</일><전용면적>84.99</전용면적><중개사소재지>서울 종로구</중개사소재지><지번>145-5</지번><지역코드>11110</지역코드><층>3</층><해제사유발생일> </해제사유발생일><해제여부> </해제여부></item><item><거래금액>      39,000</거래금액><거래유형>중개거래</거래유형><건축년도>2011</건축년도><년>2024</년><동> </동><등기일자> </등기일자><매도자>개인</매도자><매수자>개인</매수자><법정동> 무악동</법정동><아파트>무악다온채</아파트><월>1</월><일>29</일><전용면적>33.76</전용면적><중개사소재지>서울 종로구</중개사소재지><지번>66-1</지번><지역코드>11110</지역코드><층>9</층><해제사유발생일> </해제사유발생일><해제여부> </해제여부></item><item><거래금액>     101,000</거래금액><거래유형>중개거래</거래유형><건축년도>2008</건축년도><년>2024</년><동> </동><등기일자> </등기일자><매도자>개인</매도자><매수자>개인</매수자><법정동> 무악동</법정동><아파트>인왕산아이파크</아파트><월>1</월><일>29</일><전용면적>59.993</전용면적><중개사소재지>서울 종로구</중개사소재지><지번>60</지번><지역코드>11110</지역코드><층>11</층><해제사유발생일> </해제사유발생일><해제여부> </해제여부></item></items><numOfRows>1000</numOfRows><pageNo>1</pageNo><totalCount>18</totalCount></body></response>"
      ]
     },
     "execution_count": 35,
     "metadata": {},
     "output_type": "execute_result"
    }
   ],
   "source": [
    "# url 불러오기\n",
    "result=urlopen(url)\n",
    "house=BeautifulSoup(result,'lxml-xml') # lxml-xml: xml이라는 data를 저장하는 방식 , 외우는 수 밖에 없음!!\n",
    "house"
   ]
  },
  {
   "cell_type": "code",
   "execution_count": 36,
   "id": "de5cdbbf",
   "metadata": {},
   "outputs": [
    {
     "data": {
      "text/plain": [
       "[<item><거래금액>     192,000</거래금액><거래유형>중개거래</거래유형><건축년도>2004</건축년도><년>2024</년><동> </동><등기일자> </등기일자><매도자>개인</매도자><매수자>개인</매수자><법정동> 내수동</법정동><아파트>경희궁의아침3단지</아파트><월>1</월><일>13</일><전용면적>149</전용면적><중개사소재지>서울 종로구</중개사소재지><지번>72</지번><지역코드>11110</지역코드><층>4</층><해제사유발생일> </해제사유발생일><해제여부> </해제여부></item>,\n",
       " <item><거래금액>     192,000</거래금액><거래유형>중개거래</거래유형><건축년도>2004</건축년도><년>2024</년><동> </동><등기일자> </등기일자><매도자>개인</매도자><매수자>개인</매수자><법정동> 내수동</법정동><아파트>경희궁의아침3단지</아파트><월>1</월><일>13</일><전용면적>149</전용면적><중개사소재지>서울 종로구</중개사소재지><지번>72</지번><지역코드>11110</지역코드><층>4</층><해제사유발생일> </해제사유발생일><해제여부> </해제여부></item>,\n",
       " <item><거래금액>      42,000</거래금액><거래유형>중개거래</거래유형><건축년도>2003</건축년도><년>2024</년><동> </동><등기일자> </등기일자><매도자>개인</매도자><매수자>개인</매수자><법정동> 익선동</법정동><아파트>현대뜨레비앙</아파트><월>1</월><일>30</일><전용면적>48.54</전용면적><중개사소재지>서울 종로구</중개사소재지><지번>55</지번><지역코드>11110</지역코드><층>2</층><해제사유발생일> </해제사유발생일><해제여부> </해제여부></item>,\n",
       " <item><거래금액>      46,000</거래금액><거래유형>중개거래</거래유형><건축년도>2003</건축년도><년>2024</년><동> </동><등기일자> </등기일자><매도자>개인</매도자><매수자>개인</매수자><법정동> 명륜1가</법정동><아파트>리치캐슬아파트</아파트><월>1</월><일>4</일><전용면적>64.68</전용면적><중개사소재지>서울 종로구</중개사소재지><지번>33-85</지번><지역코드>11110</지역코드><층>4</층><해제사유발생일> </해제사유발생일><해제여부> </해제여부></item>,\n",
       " <item><거래금액>      57,400</거래금액><거래유형>중개거래</거래유형><건축년도>2003</건축년도><년>2024</년><동> </동><등기일자>24.02.05</등기일자><매도자>개인</매도자><매수자>개인</매수자><법정동> 명륜1가</법정동><아파트>송림아마레스아파트</아파트><월>1</월><일>26</일><전용면적>75.62</전용면적><중개사소재지>서울 종로구</중개사소재지><지번>2-12</지번><지역코드>11110</지역코드><층>5</층><해제사유발생일> </해제사유발생일><해제여부> </해제여부></item>,\n",
       " <item><거래금액>      57,500</거래금액><거래유형>중개거래</거래유형><건축년도>1993</건축년도><년>2024</년><동> </동><등기일자> </등기일자><매도자>개인</매도자><매수자>개인</매수자><법정동> 창신동</법정동><아파트>창신쌍용2</아파트><월>1</월><일>8</일><전용면적>64.66</전용면적><중개사소재지>서울 종로구</중개사소재지><지번>703</지번><지역코드>11110</지역코드><층>9</층><해제사유발생일> </해제사유발생일><해제여부> </해제여부></item>,\n",
       " <item><거래금액>      13,500</거래금액><거래유형>중개거래</거래유형><건축년도>2014</건축년도><년>2024</년><동>삼전솔하임4차</동><등기일자>24.01.25</등기일자><매도자>개인</매도자><매수자>개인</매수자><법정동> 숭인동</법정동><아파트>삼전솔하임4차</아파트><월>1</월><일>9</일><전용면적>15.09</전용면적><중개사소재지>서울 종로구</중개사소재지><지번>318-2</지번><지역코드>11110</지역코드><층>15</층><해제사유발생일> </해제사유발생일><해제여부> </해제여부></item>,\n",
       " <item><거래금액>      95,000</거래금액><거래유형>중개거래</거래유형><건축년도>2008</건축년도><년>2024</년><동> </동><등기일자> </등기일자><매도자>개인</매도자><매수자>개인</매수자><법정동> 숭인동</법정동><아파트>종로센트레빌</아파트><월>1</월><일>19</일><전용면적>84.92</전용면적><중개사소재지>서울 종로구</중개사소재지><지번>2-1</지번><지역코드>11110</지역코드><층>2</층><해제사유발생일> </해제사유발생일><해제여부> </해제여부></item>,\n",
       " <item><거래금액>     101,300</거래금액><거래유형>중개거래</거래유형><건축년도>2009</건축년도><년>2024</년><동> </동><등기일자> </등기일자><매도자>개인</매도자><매수자>개인</매수자><법정동> 숭인동</법정동><아파트>종로청계힐스테이트</아파트><월>1</월><일>19</일><전용면적>84.9478</전용면적><중개사소재지>서울 종로구</중개사소재지><지번>766</지번><지역코드>11110</지역코드><층>13</층><해제사유발생일> </해제사유발생일><해제여부> </해제여부></item>,\n",
       " <item><거래금액>      80,000</거래금액><거래유형>중개거래</거래유형><건축년도>2009</건축년도><년>2024</년><동> </동><등기일자> </등기일자><매도자>개인</매도자><매수자>개인</매수자><법정동> 숭인동</법정동><아파트>종로청계힐스테이트</아파트><월>1</월><일>27</일><전용면적>59.9426</전용면적><중개사소재지>서울 종로구</중개사소재지><지번>766</지번><지역코드>11110</지역코드><층>11</층><해제사유발생일> </해제사유발생일><해제여부> </해제여부></item>,\n",
       " <item><거래금액>     200,000</거래금액><거래유형>중개거래</거래유형><건축년도>2017</건축년도><년>2024</년><동> </동><등기일자> </등기일자><매도자>개인</매도자><매수자>개인</매수자><법정동> 평동</법정동><아파트>경희궁자이(3단지)</아파트><월>1</월><일>27</일><전용면적>84.8359</전용면적><중개사소재지>서울 종로구</중개사소재지><지번>233</지번><지역코드>11110</지역코드><층>14</층><해제사유발생일> </해제사유발생일><해제여부> </해제여부></item>,\n",
       " <item><거래금액>     195,000</거래금액><거래유형>중개거래</거래유형><건축년도>2017</건축년도><년>2024</년><동> </동><등기일자> </등기일자><매도자>개인</매도자><매수자>개인</매수자><법정동> 홍파동</법정동><아파트>경희궁자이(2단지)</아파트><월>1</월><일>18</일><전용면적>84.8359</전용면적><중개사소재지>서울 종로구</중개사소재지><지번>199</지번><지역코드>11110</지역코드><층>12</층><해제사유발생일> </해제사유발생일><해제여부> </해제여부></item>,\n",
       " <item><거래금액>     200,000</거래금액><거래유형>중개거래</거래유형><건축년도>2017</건축년도><년>2024</년><동> </동><등기일자> </등기일자><매도자>개인</매도자><매수자>개인</매수자><법정동> 홍파동</법정동><아파트>경희궁자이(2단지)</아파트><월>1</월><일>22</일><전용면적>84.614</전용면적><중개사소재지>서울 종로구</중개사소재지><지번>199</지번><지역코드>11110</지역코드><층>4</층><해제사유발생일> </해제사유발생일><해제여부> </해제여부></item>,\n",
       " <item><거래금액>     156,000</거래금액><거래유형>중개거래</거래유형><건축년도>2017</건축년도><년>2024</년><동> </동><등기일자> </등기일자><매도자>개인</매도자><매수자>개인</매수자><법정동> 홍파동</법정동><아파트>경희궁자이(2단지)</아파트><월>1</월><일>24</일><전용면적>59.8547</전용면적><중개사소재지>서울 종로구</중개사소재지><지번>199</지번><지역코드>11110</지역코드><층>9</층><해제사유발생일> </해제사유발생일><해제여부> </해제여부></item>,\n",
       " <item><거래금액>     135,000</거래금액><거래유형>직거래</거래유형><건축년도>2009</건축년도><년>2024</년><동> </동><등기일자> </등기일자><매도자>개인</매도자><매수자>개인</매수자><법정동> 평창동</법정동><아파트>롯데캐슬로잔</아파트><월>1</월><일>22</일><전용면적>191.725</전용면적><중개사소재지> </중개사소재지><지번>108</지번><지역코드>11110</지역코드><층>1</층><해제사유발생일> </해제사유발생일><해제여부> </해제여부></item>,\n",
       " <item><거래금액>      70,500</거래금액><거래유형>중개거래</거래유형><건축년도>1996</건축년도><년>2024</년><동> </동><등기일자> </등기일자><매도자>개인</매도자><매수자>개인</매수자><법정동> 평창동</법정동><아파트>일성빌라트</아파트><월>1</월><일>27</일><전용면적>84.99</전용면적><중개사소재지>서울 종로구</중개사소재지><지번>145-5</지번><지역코드>11110</지역코드><층>3</층><해제사유발생일> </해제사유발생일><해제여부> </해제여부></item>,\n",
       " <item><거래금액>      39,000</거래금액><거래유형>중개거래</거래유형><건축년도>2011</건축년도><년>2024</년><동> </동><등기일자> </등기일자><매도자>개인</매도자><매수자>개인</매수자><법정동> 무악동</법정동><아파트>무악다온채</아파트><월>1</월><일>29</일><전용면적>33.76</전용면적><중개사소재지>서울 종로구</중개사소재지><지번>66-1</지번><지역코드>11110</지역코드><층>9</층><해제사유발생일> </해제사유발생일><해제여부> </해제여부></item>,\n",
       " <item><거래금액>     101,000</거래금액><거래유형>중개거래</거래유형><건축년도>2008</건축년도><년>2024</년><동> </동><등기일자> </등기일자><매도자>개인</매도자><매수자>개인</매수자><법정동> 무악동</법정동><아파트>인왕산아이파크</아파트><월>1</월><일>29</일><전용면적>59.993</전용면적><중개사소재지>서울 종로구</중개사소재지><지번>60</지번><지역코드>11110</지역코드><층>11</층><해제사유발생일> </해제사유발생일><해제여부> </해제여부></item>]"
      ]
     },
     "execution_count": 36,
     "metadata": {},
     "output_type": "execute_result"
    }
   ],
   "source": [
    "# 거래금액, 지역 등 같은 변수 끼리 엑셀 처럼 묶어 보려면...\n",
    "# item으로 시작해서 끝남 <- 하나의 매물이 item에 들어있음. \n",
    "\n",
    "te=house.find_all(\"item\")\n",
    "te"
   ]
  },
  {
   "cell_type": "code",
   "execution_count": 38,
   "id": "de162c04",
   "metadata": {},
   "outputs": [],
   "source": [
    "# [<item><거래금액>     192,000</거래금액><거래유형>중개거래</거래유형><건축년도>2004</건축년도><년>2024</년><동> </동><등기일자> </등기일자><매도자>개인</매도자><매수자>개인</매수자><법정동> 내수동</법정동><아파트>경희궁의아침3단지</아파트><월>1</월><일>13</일><전용면적>149</전용면적><중개사소재지>서울 종로구</중개사소재지><지번>72</지번><지역코드>11110</지역코드><층>4</층><해제사유발생일> </해제사유발생일><해제여부> </해제여부></item>\n",
    "# 이게 하나의 매물\n",
    "\n",
    "# api url 따라 들어가면 맨 아래에\n",
    "# <totalCount>18</totalCount>\n",
    "# 이걸 보고 총 18개 len 인걸 알 수 있음"
   ]
  },
  {
   "cell_type": "code",
   "execution_count": 40,
   "id": "6984dd88",
   "metadata": {},
   "outputs": [
    {
     "name": "stdout",
     "output_type": "stream",
     "text": [
      "[['192,000', '경희궁의아침3단지'], ['192,000', '경희궁의아침3단지'], ['42,000', '현대뜨레비앙'], ['46,000', '리치캐슬아파트'], ['57,400', '송림아마레스아파트'], ['57,500', '창신쌍용2'], ['13,500', '삼전솔하임4차'], ['95,000', '종로센트레빌'], ['101,300', '종로청계힐스테이트'], ['80,000', '종로청계힐스테이트'], ['200,000', '경희궁자이(3단지)'], ['195,000', '경희궁자이(2단지)'], ['200,000', '경희궁자이(2단지)'], ['156,000', '경희궁자이(2단지)'], ['135,000', '롯데캐슬로잔'], ['70,500', '일성빌라트'], ['39,000', '무악다온채'], ['101,000', '인왕산아이파크']]\n"
     ]
    }
   ],
   "source": [
    "data=[]\n",
    "for i in range(len(te)):\n",
    "    price=te[i].거래금액.string.strip() \n",
    "    #.string.strip() 거래금액 19200을 숫자 말고 문자로 가져와라\n",
    "    apt_name=te[i].아파트.string.strip()\n",
    "    total=[price,apt_name] # Price랑 apt_name 묶어서 리스트로 나타내자\n",
    "    data.append(total)\n",
    "print(data)"
   ]
  },
  {
   "cell_type": "code",
   "execution_count": 44,
   "id": "e0ab1a4d",
   "metadata": {},
   "outputs": [
    {
     "name": "stdout",
     "output_type": "stream",
     "text": [
      "[['192,000', '경희궁의아침3단지', '내수동'], ['192,000', '경희궁의아침3단지', '내수동'], ['42,000', '현대뜨레비앙', '익선동'], ['46,000', '리치캐슬아파트', '명륜1가'], ['57,400', '송림아마레스아파트', '명륜1가'], ['57,500', '창신쌍용2', '창신동'], ['13,500', '삼전솔하임4차', '숭인동'], ['95,000', '종로센트레빌', '숭인동'], ['101,300', '종로청계힐스테이트', '숭인동'], ['80,000', '종로청계힐스테이트', '숭인동'], ['200,000', '경희궁자이(3단지)', '평동'], ['195,000', '경희궁자이(2단지)', '홍파동'], ['200,000', '경희궁자이(2단지)', '홍파동'], ['156,000', '경희궁자이(2단지)', '홍파동'], ['135,000', '롯데캐슬로잔', '평창동'], ['70,500', '일성빌라트', '평창동'], ['39,000', '무악다온채', '무악동'], ['101,000', '인왕산아이파크', '무악동']]\n"
     ]
    }
   ],
   "source": [
    "# 동 이름도 넣어보자\n",
    "data1=[]\n",
    "for i in range(len(te)):\n",
    "    price=te[i].거래금액.string.strip() \n",
    "    #.string.strip() 거래금액 19200을 숫자 말고 문자로 가져와라\n",
    "    apt_name=te[i].아파트.string.strip()\n",
    "    dong_name=te[i].법정동.string.strip()\n",
    "    \n",
    "    total1=[price,apt_name,dong_name] # Price랑 apt_name 묶어서 리스트로 나타내자\n",
    "    data1.append(total1)\n",
    "print(data1) #list type의 데이터로 저장"
   ]
  },
  {
   "cell_type": "markdown",
   "id": "28f6a731",
   "metadata": {},
   "source": [
    "#### 마지막으로 저장된 list \"data\"를 excel 또는 csv 파일로 내보내보자\n",
    "\n",
    "#### csv 파일로 저장해보자\n",
    "- 1단계: list를 데이터 프레임으로 생성한다. pandas의 data frame으로 변환한다\n",
    "- 2단계: panadas data frame을 csv 파일로 내보낸다\n"
   ]
  },
  {
   "cell_type": "code",
   "execution_count": 49,
   "id": "5e89b070",
   "metadata": {},
   "outputs": [],
   "source": [
    "# data frame 이름을 temp로 지정한다\n",
    "#coulmns는 데이터 프레임에서 각 칼럼의 이름을 지정한다"
   ]
  },
  {
   "cell_type": "code",
   "execution_count": 51,
   "id": "52c8ec23",
   "metadata": {},
   "outputs": [],
   "source": [
    "import pandas as pd"
   ]
  },
  {
   "cell_type": "code",
   "execution_count": 53,
   "id": "0e31c7d6",
   "metadata": {},
   "outputs": [
    {
     "data": {
      "text/html": [
       "<div>\n",
       "<style scoped>\n",
       "    .dataframe tbody tr th:only-of-type {\n",
       "        vertical-align: middle;\n",
       "    }\n",
       "\n",
       "    .dataframe tbody tr th {\n",
       "        vertical-align: top;\n",
       "    }\n",
       "\n",
       "    .dataframe thead th {\n",
       "        text-align: right;\n",
       "    }\n",
       "</style>\n",
       "<table border=\"1\" class=\"dataframe\">\n",
       "  <thead>\n",
       "    <tr style=\"text-align: right;\">\n",
       "      <th></th>\n",
       "      <th>price</th>\n",
       "      <th>apt_name</th>\n",
       "      <th>dong_name</th>\n",
       "    </tr>\n",
       "  </thead>\n",
       "  <tbody>\n",
       "    <tr>\n",
       "      <th>0</th>\n",
       "      <td>192,000</td>\n",
       "      <td>경희궁의아침3단지</td>\n",
       "      <td>내수동</td>\n",
       "    </tr>\n",
       "    <tr>\n",
       "      <th>1</th>\n",
       "      <td>192,000</td>\n",
       "      <td>경희궁의아침3단지</td>\n",
       "      <td>내수동</td>\n",
       "    </tr>\n",
       "    <tr>\n",
       "      <th>2</th>\n",
       "      <td>42,000</td>\n",
       "      <td>현대뜨레비앙</td>\n",
       "      <td>익선동</td>\n",
       "    </tr>\n",
       "    <tr>\n",
       "      <th>3</th>\n",
       "      <td>46,000</td>\n",
       "      <td>리치캐슬아파트</td>\n",
       "      <td>명륜1가</td>\n",
       "    </tr>\n",
       "    <tr>\n",
       "      <th>4</th>\n",
       "      <td>57,400</td>\n",
       "      <td>송림아마레스아파트</td>\n",
       "      <td>명륜1가</td>\n",
       "    </tr>\n",
       "    <tr>\n",
       "      <th>5</th>\n",
       "      <td>57,500</td>\n",
       "      <td>창신쌍용2</td>\n",
       "      <td>창신동</td>\n",
       "    </tr>\n",
       "    <tr>\n",
       "      <th>6</th>\n",
       "      <td>13,500</td>\n",
       "      <td>삼전솔하임4차</td>\n",
       "      <td>숭인동</td>\n",
       "    </tr>\n",
       "    <tr>\n",
       "      <th>7</th>\n",
       "      <td>95,000</td>\n",
       "      <td>종로센트레빌</td>\n",
       "      <td>숭인동</td>\n",
       "    </tr>\n",
       "    <tr>\n",
       "      <th>8</th>\n",
       "      <td>101,300</td>\n",
       "      <td>종로청계힐스테이트</td>\n",
       "      <td>숭인동</td>\n",
       "    </tr>\n",
       "    <tr>\n",
       "      <th>9</th>\n",
       "      <td>80,000</td>\n",
       "      <td>종로청계힐스테이트</td>\n",
       "      <td>숭인동</td>\n",
       "    </tr>\n",
       "    <tr>\n",
       "      <th>10</th>\n",
       "      <td>200,000</td>\n",
       "      <td>경희궁자이(3단지)</td>\n",
       "      <td>평동</td>\n",
       "    </tr>\n",
       "    <tr>\n",
       "      <th>11</th>\n",
       "      <td>195,000</td>\n",
       "      <td>경희궁자이(2단지)</td>\n",
       "      <td>홍파동</td>\n",
       "    </tr>\n",
       "    <tr>\n",
       "      <th>12</th>\n",
       "      <td>200,000</td>\n",
       "      <td>경희궁자이(2단지)</td>\n",
       "      <td>홍파동</td>\n",
       "    </tr>\n",
       "    <tr>\n",
       "      <th>13</th>\n",
       "      <td>156,000</td>\n",
       "      <td>경희궁자이(2단지)</td>\n",
       "      <td>홍파동</td>\n",
       "    </tr>\n",
       "    <tr>\n",
       "      <th>14</th>\n",
       "      <td>135,000</td>\n",
       "      <td>롯데캐슬로잔</td>\n",
       "      <td>평창동</td>\n",
       "    </tr>\n",
       "    <tr>\n",
       "      <th>15</th>\n",
       "      <td>70,500</td>\n",
       "      <td>일성빌라트</td>\n",
       "      <td>평창동</td>\n",
       "    </tr>\n",
       "    <tr>\n",
       "      <th>16</th>\n",
       "      <td>39,000</td>\n",
       "      <td>무악다온채</td>\n",
       "      <td>무악동</td>\n",
       "    </tr>\n",
       "    <tr>\n",
       "      <th>17</th>\n",
       "      <td>101,000</td>\n",
       "      <td>인왕산아이파크</td>\n",
       "      <td>무악동</td>\n",
       "    </tr>\n",
       "  </tbody>\n",
       "</table>\n",
       "</div>"
      ],
      "text/plain": [
       "      price    apt_name dong_name\n",
       "0   192,000   경희궁의아침3단지       내수동\n",
       "1   192,000   경희궁의아침3단지       내수동\n",
       "2    42,000      현대뜨레비앙       익선동\n",
       "3    46,000     리치캐슬아파트      명륜1가\n",
       "4    57,400   송림아마레스아파트      명륜1가\n",
       "5    57,500       창신쌍용2       창신동\n",
       "6    13,500     삼전솔하임4차       숭인동\n",
       "7    95,000      종로센트레빌       숭인동\n",
       "8   101,300   종로청계힐스테이트       숭인동\n",
       "9    80,000   종로청계힐스테이트       숭인동\n",
       "10  200,000  경희궁자이(3단지)        평동\n",
       "11  195,000  경희궁자이(2단지)       홍파동\n",
       "12  200,000  경희궁자이(2단지)       홍파동\n",
       "13  156,000  경희궁자이(2단지)       홍파동\n",
       "14  135,000      롯데캐슬로잔       평창동\n",
       "15   70,500       일성빌라트       평창동\n",
       "16   39,000       무악다온채       무악동\n",
       "17  101,000     인왕산아이파크       무악동"
      ]
     },
     "execution_count": 53,
     "metadata": {},
     "output_type": "execute_result"
    }
   ],
   "source": [
    "temp=pd.DataFrame(data1, columns=['price', 'apt_name', 'dong_name'])\n",
    "temp\n"
   ]
  },
  {
   "cell_type": "code",
   "execution_count": 54,
   "id": "f7c55709",
   "metadata": {},
   "outputs": [],
   "source": [
    "#csv 파일로 내보내기\n",
    "temp.to_csv(\"c:/temp/house_price100.csv\")"
   ]
  },
  {
   "cell_type": "code",
   "execution_count": null,
   "id": "34e3a6a2",
   "metadata": {},
   "outputs": [],
   "source": []
  },
  {
   "cell_type": "code",
   "execution_count": null,
   "id": "1b06254e",
   "metadata": {},
   "outputs": [],
   "source": []
  },
  {
   "cell_type": "code",
   "execution_count": null,
   "id": "318d413e",
   "metadata": {},
   "outputs": [],
   "source": []
  },
  {
   "cell_type": "code",
   "execution_count": null,
   "id": "760e8443",
   "metadata": {},
   "outputs": [],
   "source": []
  },
  {
   "cell_type": "code",
   "execution_count": null,
   "id": "bbfff2f0",
   "metadata": {},
   "outputs": [],
   "source": []
  },
  {
   "cell_type": "code",
   "execution_count": null,
   "id": "ec8103cd",
   "metadata": {},
   "outputs": [],
   "source": []
  },
  {
   "cell_type": "code",
   "execution_count": null,
   "id": "e847a60d",
   "metadata": {},
   "outputs": [],
   "source": []
  },
  {
   "cell_type": "code",
   "execution_count": null,
   "id": "dae81c28",
   "metadata": {},
   "outputs": [],
   "source": []
  },
  {
   "cell_type": "code",
   "execution_count": null,
   "id": "789f1695",
   "metadata": {},
   "outputs": [],
   "source": []
  }
 ],
 "metadata": {
  "kernelspec": {
   "display_name": "Python 3 (ipykernel)",
   "language": "python",
   "name": "python3"
  },
  "language_info": {
   "codemirror_mode": {
    "name": "ipython",
    "version": 3
   },
   "file_extension": ".py",
   "mimetype": "text/x-python",
   "name": "python",
   "nbconvert_exporter": "python",
   "pygments_lexer": "ipython3",
   "version": "3.12.6"
  }
 },
 "nbformat": 4,
 "nbformat_minor": 5
}
