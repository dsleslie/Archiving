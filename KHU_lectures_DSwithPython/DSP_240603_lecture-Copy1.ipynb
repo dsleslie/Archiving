{
 "cells": [
  {
   "cell_type": "code",
   "execution_count": 2,
   "id": "02b3738e",
   "metadata": {},
   "outputs": [],
   "source": [
    "import pandas as pd\n",
    "import numpy as np\n",
    "import numpy_financial as npf\n",
    "import seaborn as sns\n",
    "import matplotlib.pyplot as plt\n",
    "import statsmodels.api as sm\n",
    "from statsmodels.formula.api import ols\n",
    "from sklearn.model_selection import train_test_split\n",
    "import warnings\n",
    "warnings.filterwarnings(\"ignore\")\n",
    "from numpy import *\n",
    "\n",
    "from ggplot import *\n",
    "from scipy.stats import logistic\n",
    "from sklearn.metrics import roc_curve\n",
    "from sklearn.metrics import roc_auc_score\n",
    "from sklearn.linear_model import LogisticRegression\n",
    "from sklearn.metrics import confusion_matrix, mean_squared_error\n",
    "from sklearn.model_selection import train_test_split\n",
    "from sklearn import preprocessing\n",
    "from sklearn.neighbors import KNeighborsClassifier\n",
    "from sklearn.naive_bayes import *\n",
    "from sklearn.tree import DecisionTreeClassifier, DecisionTreeRegressor, export_graphviz\n",
    "import graphviz\n",
    "from sklearn.ensemble import RandomForestRegressor, RandomForestClassifier\n",
    "from sklearn.svm import SVC, SVR\n",
    "from sklearn.cluster import KMeans\n",
    "from sklearn.preprocessing import StandardScaler\n",
    "\n",
    "\n",
    "from linearmodels.iv import IV2SLS\n",
    "from scipy import stats\n",
    "from scipy.stats import trim_mean #trimmed mean\n",
    "from scipy.stats import * #chi2_contingency로 카이제곱통계량계산\n",
    "from scipy.stats import norm\n",
    "\n",
    "import keyword\n",
    "import random\n",
    "\n",
    "#open api 불러올 때 필요한 것\n",
    "from urllib.request import urlopen #request package 설치\n",
    "from bs4 import BeautifulSoup #bs4 package 설치\n",
    "\n",
    "# 그래프에서 한글 깨지지 않기 위헤 사용함\n",
    "from matplotlib import rcParams\n",
    "from matplotlib import font_manager,rc\n",
    "\n",
    "rcParams['axes.unicode_minus']=False\n",
    "plt.rcParams['font.family']='Malgun Gothic'\n",
    "font_name=font_manager.FontProperties(fname='c:/Windows/Fonts/malgun.ttf').get_name()\n",
    "rc('font',family=font_name)\n",
    "\n",
    "import FinanceDataReader as fdr\n",
    "import plotly.graph_objects as go\n",
    "import plotly.subplots as ms\n",
    "import math\n",
    "\n",
    "import tensorflow as tf"
   ]
  },
  {
   "cell_type": "markdown",
   "id": "65918ae2",
   "metadata": {},
   "source": [
    "# Lecture 12\n",
    "## 3 ML을 이용한 회귀분석 원리\n"
   ]
  },
  {
   "cell_type": "code",
   "execution_count": 3,
   "id": "a8ce8643",
   "metadata": {},
   "outputs": [],
   "source": [
    "# x, y 데이터 정의\n",
    "x_data=[1,2,3,4,5]\n",
    "y_data=[1,2,3,4,5]"
   ]
  },
  {
   "cell_type": "code",
   "execution_count": 4,
   "id": "a91782e0",
   "metadata": {},
   "outputs": [],
   "source": [
    "# W: 텐서플로우의 베리어블로 정의. \n",
    "# 왜 베리어블로 정의하는 지는 저번 시간에 이야기 함: 미분할 때는 값이 고정된게 아니라 조금씩 이동하기 때문\n",
    "W=tf.Variable(2.0) # initial value\n",
    "b=tf.Variable(0.5) # initial value"
   ]
  },
  {
   "cell_type": "code",
   "execution_count": 5,
   "id": "f2cf1b2f",
   "metadata": {},
   "outputs": [
    {
     "name": "stdout",
     "output_type": "stream",
     "text": [
      "tf.Tensor([ 2.5  4.5  6.5  8.5 10.5], shape=(5,), dtype=float32)\n"
     ]
    }
   ],
   "source": [
    "hypothesis=W*x_data+b\n",
    "print(hypothesis)"
   ]
  },
  {
   "cell_type": "code",
   "execution_count": 6,
   "id": "381eb582",
   "metadata": {},
   "outputs": [],
   "source": [
    "# [ 2.5  4.5  6.5  8.5 10.5] : 초기값에서 나온 가설의 값, 회귀직선의 값"
   ]
  },
  {
   "cell_type": "code",
   "execution_count": 7,
   "id": "d70574e5",
   "metadata": {},
   "outputs": [
    {
     "name": "stdout",
     "output_type": "stream",
     "text": [
      "tf.Tensor(14.25, shape=(), dtype=float32)\n"
     ]
    }
   ],
   "source": [
    "# cost function 정의\n",
    "cost=tf.reduce_mean(tf.square(hypothesis-y_data))\n",
    "print(cost)"
   ]
  },
  {
   "cell_type": "code",
   "execution_count": 8,
   "id": "0ee6c846",
   "metadata": {},
   "outputs": [],
   "source": [
    "# 14.25 =((2.5-1)**2+ () + .... )/5"
   ]
  },
  {
   "cell_type": "code",
   "execution_count": 9,
   "id": "c120dd06",
   "metadata": {},
   "outputs": [
    {
     "data": {
      "text/plain": [
       "14.25"
      ]
     },
     "execution_count": 9,
     "metadata": {},
     "output_type": "execute_result"
    }
   ],
   "source": [
    "cost.numpy()"
   ]
  },
  {
   "cell_type": "code",
   "execution_count": 10,
   "id": "a88462cf",
   "metadata": {},
   "outputs": [],
   "source": [
    "# 초기값 주기\n",
    "tf.random.set_seed(0)\n",
    "W=tf.Variable(tf.random.normal([1]), name='weight') # [1]: random.normal에서 하나를 끄집어내\n",
    "b=tf.Variable(tf.random.normal([1]), name='bias')\n",
    "learning_rate=tf.Variable(0.01)"
   ]
  },
  {
   "cell_type": "code",
   "execution_count": 11,
   "id": "bb5132d1",
   "metadata": {},
   "outputs": [
    {
     "name": "stdout",
     "output_type": "stream",
     "text": [
      "7.282724 [1.3346161] [1.0148789]\n",
      "0.034686986 [0.8794935] [0.43506676]\n",
      "0.008950316 [0.9387867] [0.2209997]\n",
      "0.0023094572 [0.9689056] [0.11226072]\n",
      "0.0005959122 [0.984205] [0.05702474]\n",
      "0.00015376188 [0.9919767] [0.02896672]\n"
     ]
    }
   ],
   "source": [
    "# 1001번 반복하도록 한다\n",
    "for i in range(1000+1):\n",
    "    with tf.GradientTape() as tape:\n",
    "        hypothesis=W*x_data+b\n",
    "        cost=tf.reduce_mean(tf.square(hypothesis-y_data))\n",
    "    W_grad, b_grad=tape.gradient(cost,[W,b])\n",
    "    W.assign_sub(learning_rate*W_grad) # _sub: 빼준다, 이 라인이 그 알파써서 W 옮기는 식 쓴거임\n",
    "    b.assign_sub(learning_rate*b_grad)\n",
    "    if i%200==0: # 1000번 반복 중에 너무 많으니까 200번 마다 보여줘라\n",
    "        print(cost.numpy(),W.numpy(),b.numpy())"
   ]
  },
  {
   "cell_type": "code",
   "execution_count": 12,
   "id": "9840b65d",
   "metadata": {},
   "outputs": [],
   "source": [
    "# ... [] [] : costfunction의 값, w의 값, b의 값\n",
    "# 0.00015376188 [0.9919767] [0.02896672]\n",
    "# 거의 0, 거의 1, 거의 0\n",
    "# 1000번 실행했더니 예상한 방향으로 갔다"
   ]
  },
  {
   "cell_type": "code",
   "execution_count": 13,
   "id": "0a9a032c",
   "metadata": {},
   "outputs": [],
   "source": [
    "# 위 코드 중요함"
   ]
  },
  {
   "cell_type": "code",
   "execution_count": 14,
   "id": "43f65d6f",
   "metadata": {},
   "outputs": [],
   "source": [
    "# x 변수가 여러개면 위에 x_data를 어떻게 고치지가 고민"
   ]
  },
  {
   "cell_type": "markdown",
   "id": "e1c825ca",
   "metadata": {},
   "source": [
    "# Lecture 13 회귀분석과 머신러닝(3)\n",
    "## 1 머신러닝을 이용한 주택가격(지수) 추정\n",
    "- LTV, DTI 등.."
   ]
  },
  {
   "cell_type": "code",
   "execution_count": 15,
   "id": "dae989b2",
   "metadata": {},
   "outputs": [
    {
     "data": {
      "text/html": [
       "<div>\n",
       "<style scoped>\n",
       "    .dataframe tbody tr th:only-of-type {\n",
       "        vertical-align: middle;\n",
       "    }\n",
       "\n",
       "    .dataframe tbody tr th {\n",
       "        vertical-align: top;\n",
       "    }\n",
       "\n",
       "    .dataframe thead th {\n",
       "        text-align: right;\n",
       "    }\n",
       "</style>\n",
       "<table border=\"1\" class=\"dataframe\">\n",
       "  <thead>\n",
       "    <tr style=\"text-align: right;\">\n",
       "      <th></th>\n",
       "      <th>YYM1</th>\n",
       "      <th>CITY</th>\n",
       "      <th>CITY_CODE</th>\n",
       "      <th>GU_NAME</th>\n",
       "      <th>GU_CODE2</th>\n",
       "      <th>API_TT0</th>\n",
       "      <th>BaseRate</th>\n",
       "      <th>MoRate</th>\n",
       "      <th>FREQ</th>\n",
       "      <th>A_PSUM</th>\n",
       "      <th>...</th>\n",
       "      <th>LTV</th>\n",
       "      <th>DTI</th>\n",
       "      <th>MV_APT</th>\n",
       "      <th>JAEGO</th>\n",
       "      <th>BUNYANG</th>\n",
       "      <th>N_BUNYANG</th>\n",
       "      <th>IND_INDEX</th>\n",
       "      <th>JTP</th>\n",
       "      <th>LOAN_T</th>\n",
       "      <th>MON</th>\n",
       "    </tr>\n",
       "  </thead>\n",
       "  <tbody>\n",
       "    <tr>\n",
       "      <th>0</th>\n",
       "      <td>200603</td>\n",
       "      <td>서울특별시</td>\n",
       "      <td>11</td>\n",
       "      <td>종로중구</td>\n",
       "      <td>1111</td>\n",
       "      <td>75.245608</td>\n",
       "      <td>4.00</td>\n",
       "      <td>5.46</td>\n",
       "      <td>71</td>\n",
       "      <td>2.559029</td>\n",
       "      <td>...</td>\n",
       "      <td>42.912677</td>\n",
       "      <td>93.255607</td>\n",
       "      <td>4.891421</td>\n",
       "      <td>110</td>\n",
       "      <td>0</td>\n",
       "      <td>277</td>\n",
       "      <td>109.907</td>\n",
       "      <td>48.372</td>\n",
       "      <td>104.381241</td>\n",
       "      <td>3</td>\n",
       "    </tr>\n",
       "    <tr>\n",
       "      <th>1</th>\n",
       "      <td>200606</td>\n",
       "      <td>서울특별시</td>\n",
       "      <td>11</td>\n",
       "      <td>종로중구</td>\n",
       "      <td>1111</td>\n",
       "      <td>81.009183</td>\n",
       "      <td>4.25</td>\n",
       "      <td>5.48</td>\n",
       "      <td>58</td>\n",
       "      <td>1.774481</td>\n",
       "      <td>...</td>\n",
       "      <td>43.944172</td>\n",
       "      <td>94.827586</td>\n",
       "      <td>4.891421</td>\n",
       "      <td>0</td>\n",
       "      <td>0</td>\n",
       "      <td>277</td>\n",
       "      <td>99.469</td>\n",
       "      <td>47.454</td>\n",
       "      <td>107.564252</td>\n",
       "      <td>6</td>\n",
       "    </tr>\n",
       "    <tr>\n",
       "      <th>2</th>\n",
       "      <td>200609</td>\n",
       "      <td>서울특별시</td>\n",
       "      <td>11</td>\n",
       "      <td>종로중구</td>\n",
       "      <td>1111</td>\n",
       "      <td>81.208640</td>\n",
       "      <td>4.50</td>\n",
       "      <td>5.77</td>\n",
       "      <td>90</td>\n",
       "      <td>2.898839</td>\n",
       "      <td>...</td>\n",
       "      <td>44.425621</td>\n",
       "      <td>94.000000</td>\n",
       "      <td>4.891421</td>\n",
       "      <td>0</td>\n",
       "      <td>0</td>\n",
       "      <td>14</td>\n",
       "      <td>123.203</td>\n",
       "      <td>47.670</td>\n",
       "      <td>110.666410</td>\n",
       "      <td>9</td>\n",
       "    </tr>\n",
       "    <tr>\n",
       "      <th>3</th>\n",
       "      <td>200612</td>\n",
       "      <td>서울특별시</td>\n",
       "      <td>11</td>\n",
       "      <td>종로중구</td>\n",
       "      <td>1111</td>\n",
       "      <td>88.068940</td>\n",
       "      <td>4.50</td>\n",
       "      <td>5.88</td>\n",
       "      <td>99</td>\n",
       "      <td>3.181162</td>\n",
       "      <td>...</td>\n",
       "      <td>50.340131</td>\n",
       "      <td>95.151515</td>\n",
       "      <td>4.891421</td>\n",
       "      <td>0</td>\n",
       "      <td>136</td>\n",
       "      <td>6</td>\n",
       "      <td>128.718</td>\n",
       "      <td>43.811</td>\n",
       "      <td>101.843742</td>\n",
       "      <td>12</td>\n",
       "    </tr>\n",
       "    <tr>\n",
       "      <th>4</th>\n",
       "      <td>200703</td>\n",
       "      <td>서울특별시</td>\n",
       "      <td>11</td>\n",
       "      <td>종로중구</td>\n",
       "      <td>1111</td>\n",
       "      <td>86.507762</td>\n",
       "      <td>4.50</td>\n",
       "      <td>6.20</td>\n",
       "      <td>68</td>\n",
       "      <td>1.955622</td>\n",
       "      <td>...</td>\n",
       "      <td>50.951451</td>\n",
       "      <td>48.890836</td>\n",
       "      <td>6.083816</td>\n",
       "      <td>0</td>\n",
       "      <td>112</td>\n",
       "      <td>0</td>\n",
       "      <td>110.893</td>\n",
       "      <td>42.987</td>\n",
       "      <td>107.877226</td>\n",
       "      <td>3</td>\n",
       "    </tr>\n",
       "  </tbody>\n",
       "</table>\n",
       "<p>5 rows × 22 columns</p>\n",
       "</div>"
      ],
      "text/plain": [
       "     YYM1   CITY  CITY_CODE GU_NAME  GU_CODE2    API_TT0  BaseRate  MoRate  \\\n",
       "0  200603  서울특별시         11    종로중구      1111  75.245608      4.00    5.46   \n",
       "1  200606  서울특별시         11    종로중구      1111  81.009183      4.25    5.48   \n",
       "2  200609  서울특별시         11    종로중구      1111  81.208640      4.50    5.77   \n",
       "3  200612  서울특별시         11    종로중구      1111  88.068940      4.50    5.88   \n",
       "4  200703  서울특별시         11    종로중구      1111  86.507762      4.50    6.20   \n",
       "\n",
       "   FREQ    A_PSUM  ...        LTV        DTI    MV_APT  JAEGO  BUNYANG  \\\n",
       "0    71  2.559029  ...  42.912677  93.255607  4.891421    110        0   \n",
       "1    58  1.774481  ...  43.944172  94.827586  4.891421      0        0   \n",
       "2    90  2.898839  ...  44.425621  94.000000  4.891421      0        0   \n",
       "3    99  3.181162  ...  50.340131  95.151515  4.891421      0      136   \n",
       "4    68  1.955622  ...  50.951451  48.890836  6.083816      0      112   \n",
       "\n",
       "   N_BUNYANG  IND_INDEX     JTP      LOAN_T  MON  \n",
       "0        277    109.907  48.372  104.381241    3  \n",
       "1        277     99.469  47.454  107.564252    6  \n",
       "2         14    123.203  47.670  110.666410    9  \n",
       "3          6    128.718  43.811  101.843742   12  \n",
       "4          0    110.893  42.987  107.877226    3  \n",
       "\n",
       "[5 rows x 22 columns]"
      ]
     },
     "execution_count": 15,
     "metadata": {},
     "output_type": "execute_result"
    }
   ],
   "source": [
    "df=pd.read_csv('c:/temp/HPI_SEOUL.csv',encoding='CP949')\n",
    "df.head()"
   ]
  },
  {
   "cell_type": "markdown",
   "id": "ad56e13a",
   "metadata": {},
   "source": [
    "- ex. API_TT0: 100을 기준으로 생각하며됨, '주택가격지수'\n",
    "- 분기마다 측정한 가격지수임. yym1 보셈\n",
    "- BaseRate: '기준금리' -> 모기지금리가 결ㅈㅇ되고 -> 주택가격도 결정되니까\n",
    "- IND_INDEX: industry index, 경기 보는것, 오르면 호경기\n",
    "- LTV: 집 최대 몇퍼까지 빚낼 수 있는지\n",
    "- DTI: 소득대비 빚낼 수 있는 정도"
   ]
  },
  {
   "cell_type": "code",
   "execution_count": 16,
   "id": "aa97ea41",
   "metadata": {},
   "outputs": [],
   "source": [
    "df1=df[['API_TT0','GU_CODE2','BaseRate','IND_INDEX','LTV','DTI','FREQ']]\n",
    "# FREQ: frequency (3개월간)주택거래량\n",
    "df2=df1.copy()"
   ]
  },
  {
   "cell_type": "code",
   "execution_count": 17,
   "id": "badb9929",
   "metadata": {},
   "outputs": [],
   "source": [
    "# 과거 값을 변수로 생성해야함 . shift 이용\n",
    "# 주의!! : shift(1) 할 때, 그 구 내에서만 전걸로 가져오고, 다른 구로 넘어가면 그 구안에서 또 하나씩 과거 껄 가져와야 함\n",
    "# groupby 로 씀 그걸\n",
    "# groupby('GU_CODE2'): 구 코드 별로 그룹바이 하셈"
   ]
  },
  {
   "cell_type": "code",
   "execution_count": 18,
   "id": "df85c53d",
   "metadata": {},
   "outputs": [
    {
     "data": {
      "text/html": [
       "<div>\n",
       "<style scoped>\n",
       "    .dataframe tbody tr th:only-of-type {\n",
       "        vertical-align: middle;\n",
       "    }\n",
       "\n",
       "    .dataframe tbody tr th {\n",
       "        vertical-align: top;\n",
       "    }\n",
       "\n",
       "    .dataframe thead th {\n",
       "        text-align: right;\n",
       "    }\n",
       "</style>\n",
       "<table border=\"1\" class=\"dataframe\">\n",
       "  <thead>\n",
       "    <tr style=\"text-align: right;\">\n",
       "      <th></th>\n",
       "      <th>API_TT0</th>\n",
       "      <th>GU_CODE2</th>\n",
       "      <th>BaseRate</th>\n",
       "      <th>IND_INDEX</th>\n",
       "      <th>LTV</th>\n",
       "      <th>DTI</th>\n",
       "      <th>FREQ</th>\n",
       "      <th>BaseRate1</th>\n",
       "      <th>IND_INDEX1</th>\n",
       "      <th>LTV2</th>\n",
       "      <th>DTI2</th>\n",
       "    </tr>\n",
       "  </thead>\n",
       "  <tbody>\n",
       "    <tr>\n",
       "      <th>0</th>\n",
       "      <td>75.245608</td>\n",
       "      <td>1111</td>\n",
       "      <td>4.00</td>\n",
       "      <td>109.907</td>\n",
       "      <td>42.912677</td>\n",
       "      <td>93.255607</td>\n",
       "      <td>71</td>\n",
       "      <td>NaN</td>\n",
       "      <td>NaN</td>\n",
       "      <td>NaN</td>\n",
       "      <td>NaN</td>\n",
       "    </tr>\n",
       "    <tr>\n",
       "      <th>1</th>\n",
       "      <td>81.009183</td>\n",
       "      <td>1111</td>\n",
       "      <td>4.25</td>\n",
       "      <td>99.469</td>\n",
       "      <td>43.944172</td>\n",
       "      <td>94.827586</td>\n",
       "      <td>58</td>\n",
       "      <td>4.00</td>\n",
       "      <td>109.907</td>\n",
       "      <td>NaN</td>\n",
       "      <td>NaN</td>\n",
       "    </tr>\n",
       "    <tr>\n",
       "      <th>2</th>\n",
       "      <td>81.208640</td>\n",
       "      <td>1111</td>\n",
       "      <td>4.50</td>\n",
       "      <td>123.203</td>\n",
       "      <td>44.425621</td>\n",
       "      <td>94.000000</td>\n",
       "      <td>90</td>\n",
       "      <td>4.25</td>\n",
       "      <td>99.469</td>\n",
       "      <td>42.912677</td>\n",
       "      <td>93.255607</td>\n",
       "    </tr>\n",
       "    <tr>\n",
       "      <th>3</th>\n",
       "      <td>88.068940</td>\n",
       "      <td>1111</td>\n",
       "      <td>4.50</td>\n",
       "      <td>128.718</td>\n",
       "      <td>50.340131</td>\n",
       "      <td>95.151515</td>\n",
       "      <td>99</td>\n",
       "      <td>4.50</td>\n",
       "      <td>123.203</td>\n",
       "      <td>43.944172</td>\n",
       "      <td>94.827586</td>\n",
       "    </tr>\n",
       "    <tr>\n",
       "      <th>4</th>\n",
       "      <td>86.507762</td>\n",
       "      <td>1111</td>\n",
       "      <td>4.50</td>\n",
       "      <td>110.893</td>\n",
       "      <td>50.951451</td>\n",
       "      <td>48.890836</td>\n",
       "      <td>68</td>\n",
       "      <td>4.50</td>\n",
       "      <td>128.718</td>\n",
       "      <td>44.425621</td>\n",
       "      <td>94.000000</td>\n",
       "    </tr>\n",
       "  </tbody>\n",
       "</table>\n",
       "</div>"
      ],
      "text/plain": [
       "     API_TT0  GU_CODE2  BaseRate  IND_INDEX        LTV        DTI  FREQ  \\\n",
       "0  75.245608      1111      4.00    109.907  42.912677  93.255607    71   \n",
       "1  81.009183      1111      4.25     99.469  43.944172  94.827586    58   \n",
       "2  81.208640      1111      4.50    123.203  44.425621  94.000000    90   \n",
       "3  88.068940      1111      4.50    128.718  50.340131  95.151515    99   \n",
       "4  86.507762      1111      4.50    110.893  50.951451  48.890836    68   \n",
       "\n",
       "   BaseRate1  IND_INDEX1       LTV2       DTI2  \n",
       "0        NaN         NaN        NaN        NaN  \n",
       "1       4.00     109.907        NaN        NaN  \n",
       "2       4.25      99.469  42.912677  93.255607  \n",
       "3       4.50     123.203  43.944172  94.827586  \n",
       "4       4.50     128.718  44.425621  94.000000  "
      ]
     },
     "execution_count": 18,
     "metadata": {},
     "output_type": "execute_result"
    }
   ],
   "source": [
    "df2['BaseRate1']=df2.groupby('GU_CODE2')['BaseRate'].shift(1)\n",
    "df2['IND_INDEX1']=df2.groupby('GU_CODE2')['IND_INDEX'].shift(1)\n",
    "df2['LTV2']=df2.groupby('GU_CODE2')['LTV'].shift(2)\n",
    "df2['DTI2']=df2.groupby('GU_CODE2')['DTI'].shift(2)\n",
    "df2.head()"
   ]
  },
  {
   "cell_type": "code",
   "execution_count": 19,
   "id": "d836f6cf",
   "metadata": {},
   "outputs": [],
   "source": [
    "# 뒤에 변수 4개 추가 됨"
   ]
  },
  {
   "cell_type": "code",
   "execution_count": 20,
   "id": "6906336d",
   "metadata": {},
   "outputs": [],
   "source": [
    "# 보면 결측치가 있음. 결측치 삭제한 데이터를 만들자\n",
    "df3=df2.dropna()"
   ]
  },
  {
   "cell_type": "code",
   "execution_count": 21,
   "id": "97f880b2",
   "metadata": {},
   "outputs": [
    {
     "data": {
      "text/html": [
       "<div>\n",
       "<style scoped>\n",
       "    .dataframe tbody tr th:only-of-type {\n",
       "        vertical-align: middle;\n",
       "    }\n",
       "\n",
       "    .dataframe tbody tr th {\n",
       "        vertical-align: top;\n",
       "    }\n",
       "\n",
       "    .dataframe thead th {\n",
       "        text-align: right;\n",
       "    }\n",
       "</style>\n",
       "<table border=\"1\" class=\"dataframe\">\n",
       "  <thead>\n",
       "    <tr style=\"text-align: right;\">\n",
       "      <th></th>\n",
       "      <th>API_TT0</th>\n",
       "      <th>GU_CODE2</th>\n",
       "      <th>BaseRate</th>\n",
       "      <th>IND_INDEX</th>\n",
       "      <th>LTV</th>\n",
       "      <th>DTI</th>\n",
       "      <th>FREQ</th>\n",
       "      <th>BaseRate1</th>\n",
       "      <th>IND_INDEX1</th>\n",
       "      <th>LTV2</th>\n",
       "      <th>DTI2</th>\n",
       "    </tr>\n",
       "  </thead>\n",
       "  <tbody>\n",
       "    <tr>\n",
       "      <th>2</th>\n",
       "      <td>81.208640</td>\n",
       "      <td>1111</td>\n",
       "      <td>4.5</td>\n",
       "      <td>123.203</td>\n",
       "      <td>44.425621</td>\n",
       "      <td>94.000000</td>\n",
       "      <td>90</td>\n",
       "      <td>4.25</td>\n",
       "      <td>99.469</td>\n",
       "      <td>42.912677</td>\n",
       "      <td>93.255607</td>\n",
       "    </tr>\n",
       "    <tr>\n",
       "      <th>3</th>\n",
       "      <td>88.068940</td>\n",
       "      <td>1111</td>\n",
       "      <td>4.5</td>\n",
       "      <td>128.718</td>\n",
       "      <td>50.340131</td>\n",
       "      <td>95.151515</td>\n",
       "      <td>99</td>\n",
       "      <td>4.50</td>\n",
       "      <td>123.203</td>\n",
       "      <td>43.944172</td>\n",
       "      <td>94.827586</td>\n",
       "    </tr>\n",
       "    <tr>\n",
       "      <th>4</th>\n",
       "      <td>86.507762</td>\n",
       "      <td>1111</td>\n",
       "      <td>4.5</td>\n",
       "      <td>110.893</td>\n",
       "      <td>50.951451</td>\n",
       "      <td>48.890836</td>\n",
       "      <td>68</td>\n",
       "      <td>4.50</td>\n",
       "      <td>128.718</td>\n",
       "      <td>44.425621</td>\n",
       "      <td>94.000000</td>\n",
       "    </tr>\n",
       "    <tr>\n",
       "      <th>5</th>\n",
       "      <td>91.769299</td>\n",
       "      <td>1111</td>\n",
       "      <td>4.5</td>\n",
       "      <td>102.227</td>\n",
       "      <td>51.251565</td>\n",
       "      <td>48.351863</td>\n",
       "      <td>48</td>\n",
       "      <td>4.50</td>\n",
       "      <td>110.893</td>\n",
       "      <td>50.340131</td>\n",
       "      <td>95.151515</td>\n",
       "    </tr>\n",
       "    <tr>\n",
       "      <th>6</th>\n",
       "      <td>92.079847</td>\n",
       "      <td>1111</td>\n",
       "      <td>5.0</td>\n",
       "      <td>108.332</td>\n",
       "      <td>52.053270</td>\n",
       "      <td>48.055339</td>\n",
       "      <td>55</td>\n",
       "      <td>4.50</td>\n",
       "      <td>102.227</td>\n",
       "      <td>50.951451</td>\n",
       "      <td>48.890836</td>\n",
       "    </tr>\n",
       "  </tbody>\n",
       "</table>\n",
       "</div>"
      ],
      "text/plain": [
       "     API_TT0  GU_CODE2  BaseRate  IND_INDEX        LTV        DTI  FREQ  \\\n",
       "2  81.208640      1111       4.5    123.203  44.425621  94.000000    90   \n",
       "3  88.068940      1111       4.5    128.718  50.340131  95.151515    99   \n",
       "4  86.507762      1111       4.5    110.893  50.951451  48.890836    68   \n",
       "5  91.769299      1111       4.5    102.227  51.251565  48.351863    48   \n",
       "6  92.079847      1111       5.0    108.332  52.053270  48.055339    55   \n",
       "\n",
       "   BaseRate1  IND_INDEX1       LTV2       DTI2  \n",
       "2       4.25      99.469  42.912677  93.255607  \n",
       "3       4.50     123.203  43.944172  94.827586  \n",
       "4       4.50     128.718  44.425621  94.000000  \n",
       "5       4.50     110.893  50.340131  95.151515  \n",
       "6       4.50     102.227  50.951451  48.890836  "
      ]
     },
     "execution_count": 21,
     "metadata": {},
     "output_type": "execute_result"
    }
   ],
   "source": [
    "df3.head()"
   ]
  },
  {
   "cell_type": "code",
   "execution_count": 22,
   "id": "9d310019",
   "metadata": {},
   "outputs": [
    {
     "name": "stdout",
     "output_type": "stream",
     "text": [
      "                            OLS Regression Results                            \n",
      "==============================================================================\n",
      "Dep. Variable:                API_TT0   R-squared:                       0.369\n",
      "Model:                            OLS   Adj. R-squared:                  0.366\n",
      "Method:                 Least Squares   F-statistic:                     160.4\n",
      "Date:                Fri, 14 Jun 2024   Prob (F-statistic):          3.75e-108\n",
      "Time:                        19:18:46   Log-Likelihood:                -3856.6\n",
      "No. Observations:                1104   AIC:                             7723.\n",
      "Df Residuals:                    1099   BIC:                             7748.\n",
      "Df Model:                           4                                         \n",
      "Covariance Type:            nonrobust                                         \n",
      "==============================================================================\n",
      "                 coef    std err          t      P>|t|      [0.025      0.975]\n",
      "------------------------------------------------------------------------------\n",
      "Intercept     72.1081      3.594     20.065      0.000      65.057      79.160\n",
      "BaseRate1     -3.1000      0.314     -9.875      0.000      -3.716      -2.484\n",
      "IND_INDEX1     0.1678      0.025      6.795      0.000       0.119       0.216\n",
      "LTV2           0.3151      0.048      6.543      0.000       0.221       0.410\n",
      "DTI2          -0.0418      0.013     -3.104      0.002      -0.068      -0.015\n",
      "==============================================================================\n",
      "Omnibus:                       19.621   Durbin-Watson:                   0.552\n",
      "Prob(Omnibus):                  0.000   Jarque-Bera (JB):               29.386\n",
      "Skew:                           0.163   Prob(JB):                     4.16e-07\n",
      "Kurtosis:                       3.729   Cond. No.                     2.04e+03\n",
      "==============================================================================\n",
      "\n",
      "Notes:\n",
      "[1] Standard Errors assume that the covariance matrix of the errors is correctly specified.\n",
      "[2] The condition number is large, 2.04e+03. This might indicate that there are\n",
      "strong multicollinearity or other numerical problems.\n"
     ]
    }
   ],
   "source": [
    "# OLS로 다중회귀모형 추정하기\n",
    "housing_model=ols('API_TT0 ~ BaseRate1+IND_INDEX1+LTV2+DTI2',data=df3).fit()\n",
    "print(housing_model.summary())"
   ]
  },
  {
   "cell_type": "code",
   "execution_count": 23,
   "id": "467e8940",
   "metadata": {},
   "outputs": [],
   "source": [
    "# BaseRate1     -2.9000: 금리가 높아지면 주택가격이 떨어진다. 라는 뜻\n",
    "# IND_INDEX1     0.1311 : 경기가 좋아지면 주택가격도 높아진다\n",
    "# LTV2           0.3556 : LTV 커지면 주택가격 높아진다\n",
    "# DTI2          -0.0526 : DTI 커지면 주택가격 낮아진다"
   ]
  },
  {
   "cell_type": "code",
   "execution_count": 24,
   "id": "55b168ac",
   "metadata": {},
   "outputs": [],
   "source": [
    "# 경사하강법을 써서 해보자\n",
    "\n",
    "# x, y 데이터 정의\n",
    "# 데이터프레임에서 ols 처럼 그냥 가져와서 쓸순 없고\n",
    "# 저기서 가져와서 array 로 만들어 정의해야함 : .to_numpy()\n",
    "X=df3[['BaseRate1','IND_INDEX1','LTV2','DTI2']].to_numpy()\n",
    "y=df3[['API_TT0']].to_numpy()\n",
    "# tensor type 정해줘야함\n",
    "X=X.astype('float32')\n",
    "y=y.astype('float32')"
   ]
  },
  {
   "cell_type": "code",
   "execution_count": 25,
   "id": "03551c72",
   "metadata": {},
   "outputs": [
    {
     "data": {
      "text/plain": [
       "(1104, 4)"
      ]
     },
     "execution_count": 25,
     "metadata": {},
     "output_type": "execute_result"
    }
   ],
   "source": [
    "X.shape # x변수 4개이고, 1104개의 행으로 구성되어있구나"
   ]
  },
  {
   "cell_type": "code",
   "execution_count": 26,
   "id": "87409389",
   "metadata": {},
   "outputs": [],
   "source": [
    "k=X.shape[1] #k=4 라는 걸 정의한 것"
   ]
  },
  {
   "cell_type": "code",
   "execution_count": 27,
   "id": "f964e13e",
   "metadata": {},
   "outputs": [],
   "source": [
    "# 초기값 주기\n",
    "tf.random.set_seed(0)\n",
    "W=tf.Variable(tf.random.normal([k,1]), name='weight') # [k,1]: x변수가 4개 이니까\n",
    "b=tf.Variable(tf.random.normal([1]), name='bias')\n",
    "learning_rate=tf.Variable(0.01)"
   ]
  },
  {
   "cell_type": "code",
   "execution_count": 28,
   "id": "49434de2",
   "metadata": {},
   "outputs": [
    {
     "name": "stdout",
     "output_type": "stream",
     "text": [
      "19553.852 [[  8.847416]\n",
      " [288.41885 ]\n",
      " [162.8633  ]\n",
      " [181.27948 ]] [3.8239536]\n",
      "nan [[nan]\n",
      " [nan]\n",
      " [nan]\n",
      " [nan]] [nan]\n",
      "nan [[nan]\n",
      " [nan]\n",
      " [nan]\n",
      " [nan]] [nan]\n",
      "nan [[nan]\n",
      " [nan]\n",
      " [nan]\n",
      " [nan]] [nan]\n",
      "nan [[nan]\n",
      " [nan]\n",
      " [nan]\n",
      " [nan]] [nan]\n",
      "nan [[nan]\n",
      " [nan]\n",
      " [nan]\n",
      " [nan]] [nan]\n"
     ]
    }
   ],
   "source": [
    "# 1001번 반복하도록 한다\n",
    "for i in range(1000+1):\n",
    "    with tf.GradientTape() as tape:\n",
    "        hypothesis=tf.matmul(X,W)+b # X변수가 4개임. 행렬곱임. : tf.matmul(X,W) 로 써야함. 행렬곱이라 dimension이 맞아야 해서 () 안에 X가 먼저 나오는 거임 \n",
    "        cost=tf.reduce_mean(tf.square(hypothesis-y))\n",
    "    W_grad, b_grad=tape.gradient(cost,[W,b])\n",
    "    W.assign_sub(learning_rate*W_grad) # _sub: 빼준다, 이 라인이 그 알파써서 W 옮기는 식 쓴거임\n",
    "    b.assign_sub(learning_rate*b_grad)\n",
    "    if i%200==0: # 1000번 반복 중에 너무 많으니까 200번 마다 보여줘라\n",
    "        print(cost.numpy(),W.numpy(),b.numpy())"
   ]
  },
  {
   "cell_type": "code",
   "execution_count": 30,
   "id": "7637b4d0",
   "metadata": {},
   "outputs": [
    {
     "data": {
      "application/vnd.jupyter.widget-view+json": {
       "model_id": "c3488e5ed96345a0a3087d74556862c5",
       "version_major": 2,
       "version_minor": 0
      },
      "text/plain": [
       "QgridWidget(grid_options={'fullWidthRows': True, 'syncColumnCellResize': True, 'forceFitColumns': True, 'defau…"
      ]
     },
     "metadata": {},
     "output_type": "display_data"
    }
   ],
   "source": [
    "import qgrid\n",
    "qgrid_widget=qgrid.show_grid(df3,show_toolbar=True)\n",
    "qgrid_widget"
   ]
  },
  {
   "cell_type": "code",
   "execution_count": null,
   "id": "61cfb057",
   "metadata": {},
   "outputs": [],
   "source": []
  },
  {
   "cell_type": "code",
   "execution_count": null,
   "id": "4d11daa2",
   "metadata": {},
   "outputs": [],
   "source": []
  },
  {
   "cell_type": "code",
   "execution_count": null,
   "id": "2a0ce350",
   "metadata": {},
   "outputs": [],
   "source": []
  }
 ],
 "metadata": {
  "kernelspec": {
   "display_name": "Python 3 (ipykernel)",
   "language": "python",
   "name": "python3"
  },
  "language_info": {
   "codemirror_mode": {
    "name": "ipython",
    "version": 3
   },
   "file_extension": ".py",
   "mimetype": "text/x-python",
   "name": "python",
   "nbconvert_exporter": "python",
   "pygments_lexer": "ipython3",
   "version": "3.9.13"
  },
  "toc": {
   "base_numbering": 1,
   "nav_menu": {},
   "number_sections": true,
   "sideBar": true,
   "skip_h1_title": false,
   "title_cell": "Table of Contents",
   "title_sidebar": "Contents",
   "toc_cell": false,
   "toc_position": {},
   "toc_section_display": true,
   "toc_window_display": false
  },
  "varInspector": {
   "cols": {
    "lenName": 16,
    "lenType": 16,
    "lenVar": 40
   },
   "kernels_config": {
    "python": {
     "delete_cmd_postfix": "",
     "delete_cmd_prefix": "del ",
     "library": "var_list.py",
     "varRefreshCmd": "print(var_dic_list())"
    },
    "r": {
     "delete_cmd_postfix": ") ",
     "delete_cmd_prefix": "rm(",
     "library": "var_list.r",
     "varRefreshCmd": "cat(var_dic_list()) "
    }
   },
   "types_to_exclude": [
    "module",
    "function",
    "builtin_function_or_method",
    "instance",
    "_Feature"
   ],
   "window_display": false
  }
 },
 "nbformat": 4,
 "nbformat_minor": 5
}
