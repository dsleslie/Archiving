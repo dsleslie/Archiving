{
 "cells": [
  {
   "cell_type": "code",
   "execution_count": 35,
   "id": "173be6dc",
   "metadata": {},
   "outputs": [],
   "source": [
    "import pandas as pd\n",
    "import numpy as np\n",
    "import numpy_financial as npf\n",
    "import seaborn as sns\n",
    "import matplotlib.pyplot as plt\n",
    "import statsmodels.api as sm\n",
    "from sklearn.model_selection import train_test_split\n",
    "import warnings\n",
    "warnings.filterwarnings(\"ignore\")\n",
    "from numpy import *\n",
    "\n",
    "from ggplot import *\n",
    "from scipy.stats import logistic\n",
    "from sklearn.metrics import roc_curve\n",
    "from sklearn.metrics import roc_auc_score\n",
    "from sklearn.linear_model import LogisticRegression\n",
    "from sklearn.metrics import confusion_matrix, mean_squared_error\n",
    "from sklearn.model_selection import train_test_split\n",
    "from sklearn import preprocessing\n",
    "from sklearn.neighbors import KNeighborsClassifier\n",
    "from sklearn.naive_bayes import *\n",
    "from sklearn.tree import DecisionTreeClassifier, DecisionTreeRegressor, export_graphviz\n",
    "import graphviz\n",
    "from sklearn.ensemble import RandomForestRegressor, RandomForestClassifier\n",
    "from sklearn.svm import SVC, SVR\n",
    "from sklearn.cluster import KMeans\n",
    "from sklearn.preprocessing import StandardScaler\n",
    "\n",
    "\n",
    "from linearmodels.iv import IV2SLS\n",
    "from scipy import stats\n",
    "from scipy.stats import trim_mean #trimmed mean\n",
    "from scipy.stats import * #chi2_contingency로 카이제곱통계량계산\n",
    "from scipy.stats import norm\n",
    "\n",
    "import keyword\n",
    "import random\n",
    "\n",
    "#open api 불러올 때 필요한 것\n",
    "from urllib.request import urlopen #request package 설치\n",
    "from bs4 import BeautifulSoup #bs4 package 설치\n",
    "\n",
    "# 그래프에서 한글 깨지지 않기 위헤 사용함\n",
    "from matplotlib import rcParams\n",
    "from matplotlib import font_manager,rc\n",
    "\n",
    "rcParams['axes.unicode_minus']=False\n",
    "plt.rcParams['font.family']='Malgun Gothic'\n",
    "font_name=font_manager.FontProperties(fname='c:/Windows/Fonts/malgun.ttf').get_name()\n",
    "rc('font',family=font_name)\n",
    "\n",
    "import FinanceDataReader as fdr\n",
    "import plotly.graph_objects as go\n",
    "import plotly.subplots as ms\n",
    "import math\n",
    "\n"
   ]
  },
  {
   "cell_type": "markdown",
   "id": "c992cd63",
   "metadata": {},
   "source": [
    "# LN9 소득 차이에 대한 검정(2)\n",
    "## 3 성별, 직업군별 소득 차이 검정\n",
    "\n",
    "- 두 범주형 변수가 서로 독립인지 카이분포를 사용해서 가설검정해보기\n",
    "- 범주 1: 성별 (남, 여) / 범주 2: 지지정당 (보수, 진보)\n",
    "- 표 나오겠지..\n",
    "- 직업 10가지 -> 범주 10개\n",
    "- 귀무가설: 남녀 간 직업의 차이는 독립이다. (남녀 간의 직업의 차이는 우연에 지나지 않는다)\n",
    "- 대립가설: 남녀 간 차이가 직업에 영향을 미친다 (남녀 간의 직업 차이는 실질적이다.)\n",
    "- > 카이제곱검정 사용!\n",
    "- 먼저 frequency table 만듦\n",
    "- 그다음 귀무가설 아래 카이제곱 계산\n",
    "- 여기서 기대도수는 뭐냐?!"
   ]
  },
  {
   "cell_type": "code",
   "execution_count": 36,
   "id": "395f1136",
   "metadata": {},
   "outputs": [
    {
     "data": {
      "text/html": [
       "<div>\n",
       "<style scoped>\n",
       "    .dataframe tbody tr th:only-of-type {\n",
       "        vertical-align: middle;\n",
       "    }\n",
       "\n",
       "    .dataframe tbody tr th {\n",
       "        vertical-align: top;\n",
       "    }\n",
       "\n",
       "    .dataframe thead th {\n",
       "        text-align: right;\n",
       "    }\n",
       "</style>\n",
       "<table border=\"1\" class=\"dataframe\">\n",
       "  <thead>\n",
       "    <tr style=\"text-align: right;\">\n",
       "      <th></th>\n",
       "      <th>year</th>\n",
       "      <th>metro</th>\n",
       "      <th>id</th>\n",
       "      <th>sex</th>\n",
       "      <th>age</th>\n",
       "      <th>number</th>\n",
       "      <th>education</th>\n",
       "      <th>marriage</th>\n",
       "      <th>asset</th>\n",
       "      <th>debt</th>\n",
       "      <th>income</th>\n",
       "      <th>income_d</th>\n",
       "      <th>industry</th>\n",
       "      <th>job</th>\n",
       "      <th>house</th>\n",
       "    </tr>\n",
       "  </thead>\n",
       "  <tbody>\n",
       "    <tr>\n",
       "      <th>0</th>\n",
       "      <td>2020</td>\n",
       "      <td>G1</td>\n",
       "      <td>10000112</td>\n",
       "      <td>1</td>\n",
       "      <td>34</td>\n",
       "      <td>3</td>\n",
       "      <td>6</td>\n",
       "      <td>2</td>\n",
       "      <td>112000</td>\n",
       "      <td>54500</td>\n",
       "      <td>6593</td>\n",
       "      <td>4599</td>\n",
       "      <td>F</td>\n",
       "      <td>3</td>\n",
       "      <td>2</td>\n",
       "    </tr>\n",
       "    <tr>\n",
       "      <th>1</th>\n",
       "      <td>2020</td>\n",
       "      <td>G1</td>\n",
       "      <td>10000132</td>\n",
       "      <td>2</td>\n",
       "      <td>45</td>\n",
       "      <td>2</td>\n",
       "      <td>8</td>\n",
       "      <td>2</td>\n",
       "      <td>42500</td>\n",
       "      <td>17500</td>\n",
       "      <td>17720</td>\n",
       "      <td>15257</td>\n",
       "      <td>J</td>\n",
       "      <td>2</td>\n",
       "      <td>3</td>\n",
       "    </tr>\n",
       "    <tr>\n",
       "      <th>2</th>\n",
       "      <td>2020</td>\n",
       "      <td>G1</td>\n",
       "      <td>10000162</td>\n",
       "      <td>2</td>\n",
       "      <td>73</td>\n",
       "      <td>1</td>\n",
       "      <td>2</td>\n",
       "      <td>3</td>\n",
       "      <td>5712</td>\n",
       "      <td>0</td>\n",
       "      <td>908</td>\n",
       "      <td>725</td>\n",
       "      <td>T</td>\n",
       "      <td>4</td>\n",
       "      <td>2</td>\n",
       "    </tr>\n",
       "    <tr>\n",
       "      <th>3</th>\n",
       "      <td>2020</td>\n",
       "      <td>G1</td>\n",
       "      <td>10000182</td>\n",
       "      <td>1</td>\n",
       "      <td>58</td>\n",
       "      <td>2</td>\n",
       "      <td>4</td>\n",
       "      <td>2</td>\n",
       "      <td>14870</td>\n",
       "      <td>0</td>\n",
       "      <td>2748</td>\n",
       "      <td>2431</td>\n",
       "      <td>C</td>\n",
       "      <td>5</td>\n",
       "      <td>2</td>\n",
       "    </tr>\n",
       "    <tr>\n",
       "      <th>4</th>\n",
       "      <td>2020</td>\n",
       "      <td>G1</td>\n",
       "      <td>10000192</td>\n",
       "      <td>2</td>\n",
       "      <td>27</td>\n",
       "      <td>1</td>\n",
       "      <td>4</td>\n",
       "      <td>1</td>\n",
       "      <td>814</td>\n",
       "      <td>0</td>\n",
       "      <td>1015</td>\n",
       "      <td>893</td>\n",
       "      <td>R</td>\n",
       "      <td>2</td>\n",
       "      <td>3</td>\n",
       "    </tr>\n",
       "  </tbody>\n",
       "</table>\n",
       "</div>"
      ],
      "text/plain": [
       "   year metro        id  sex  age  number  education  marriage   asset   debt  \\\n",
       "0  2020    G1  10000112    1   34       3          6         2  112000  54500   \n",
       "1  2020    G1  10000132    2   45       2          8         2   42500  17500   \n",
       "2  2020    G1  10000162    2   73       1          2         3    5712      0   \n",
       "3  2020    G1  10000182    1   58       2          4         2   14870      0   \n",
       "4  2020    G1  10000192    2   27       1          4         1     814      0   \n",
       "\n",
       "   income  income_d industry job  house  \n",
       "0    6593      4599        F   3      2  \n",
       "1   17720     15257        J   2      3  \n",
       "2     908       725        T   4      2  \n",
       "3    2748      2431        C   5      2  \n",
       "4    1015       893        R   2      3  "
      ]
     },
     "execution_count": 36,
     "metadata": {},
     "output_type": "execute_result"
    }
   ],
   "source": [
    "df=pd.read_csv('c:/temp/household_2020a.csv')\n",
    "df.head()"
   ]
  },
  {
   "cell_type": "code",
   "execution_count": 37,
   "id": "a444e15c",
   "metadata": {},
   "outputs": [
    {
     "data": {
      "text/plain": [
       "2    2043\n",
       "3    1959\n",
       "8    1919\n",
       "9    1904\n",
       "7    1455\n",
       "6    1217\n",
       "5    1205\n",
       "4    1159\n",
       "1     328\n",
       "A      25\n",
       "Name: job, dtype: int64"
      ]
     },
     "execution_count": 37,
     "metadata": {},
     "output_type": "execute_result"
    }
   ],
   "source": [
    "pd.value_counts(df['job'])"
   ]
  },
  {
   "cell_type": "code",
   "execution_count": 38,
   "id": "9724e78d",
   "metadata": {},
   "outputs": [],
   "source": [
    "df1=df[['sex','job']]\n",
    "df1=df1.dropna()"
   ]
  },
  {
   "cell_type": "code",
   "execution_count": 39,
   "id": "1b9c5578",
   "metadata": {},
   "outputs": [
    {
     "data": {
      "text/plain": [
       "2    2043\n",
       "3    1959\n",
       "8    1919\n",
       "9    1904\n",
       "7    1455\n",
       "6    1217\n",
       "5    1205\n",
       "4    1159\n",
       "1     328\n",
       "Name: job, dtype: int64"
      ]
     },
     "execution_count": 39,
     "metadata": {},
     "output_type": "execute_result"
    }
   ],
   "source": [
    "# A 군인은 남자가 압도겆으로 많을 테니 a가진 사람 다 지우자\n",
    "df2=df1.loc[df1['job']!='A']  # !='A' : 앞에 있는 거랑 A랑 같지 '않은' 것만 남겨라\n",
    "pd.value_counts(df2['job'])"
   ]
  },
  {
   "cell_type": "code",
   "execution_count": 40,
   "id": "c55824fe",
   "metadata": {},
   "outputs": [],
   "source": [
    "# a 사라짐"
   ]
  },
  {
   "cell_type": "code",
   "execution_count": 41,
   "id": "3d47c6eb",
   "metadata": {},
   "outputs": [
    {
     "data": {
      "text/html": [
       "<div>\n",
       "<style scoped>\n",
       "    .dataframe tbody tr th:only-of-type {\n",
       "        vertical-align: middle;\n",
       "    }\n",
       "\n",
       "    .dataframe tbody tr th {\n",
       "        vertical-align: top;\n",
       "    }\n",
       "\n",
       "    .dataframe thead th {\n",
       "        text-align: right;\n",
       "    }\n",
       "</style>\n",
       "<table border=\"1\" class=\"dataframe\">\n",
       "  <thead>\n",
       "    <tr style=\"text-align: right;\">\n",
       "      <th>job</th>\n",
       "      <th>1</th>\n",
       "      <th>2</th>\n",
       "      <th>3</th>\n",
       "      <th>4</th>\n",
       "      <th>5</th>\n",
       "      <th>6</th>\n",
       "      <th>7</th>\n",
       "      <th>8</th>\n",
       "      <th>9</th>\n",
       "    </tr>\n",
       "    <tr>\n",
       "      <th>sex</th>\n",
       "      <th></th>\n",
       "      <th></th>\n",
       "      <th></th>\n",
       "      <th></th>\n",
       "      <th></th>\n",
       "      <th></th>\n",
       "      <th></th>\n",
       "      <th></th>\n",
       "      <th></th>\n",
       "    </tr>\n",
       "  </thead>\n",
       "  <tbody>\n",
       "    <tr>\n",
       "      <th>1</th>\n",
       "      <td>316</td>\n",
       "      <td>1623</td>\n",
       "      <td>1644</td>\n",
       "      <td>558</td>\n",
       "      <td>882</td>\n",
       "      <td>1020</td>\n",
       "      <td>1379</td>\n",
       "      <td>1832</td>\n",
       "      <td>1318</td>\n",
       "    </tr>\n",
       "    <tr>\n",
       "      <th>2</th>\n",
       "      <td>12</td>\n",
       "      <td>420</td>\n",
       "      <td>315</td>\n",
       "      <td>601</td>\n",
       "      <td>323</td>\n",
       "      <td>197</td>\n",
       "      <td>76</td>\n",
       "      <td>87</td>\n",
       "      <td>586</td>\n",
       "    </tr>\n",
       "  </tbody>\n",
       "</table>\n",
       "</div>"
      ],
      "text/plain": [
       "job    1     2     3    4    5     6     7     8     9\n",
       "sex                                                   \n",
       "1    316  1623  1644  558  882  1020  1379  1832  1318\n",
       "2     12   420   315  601  323   197    76    87   586"
      ]
     },
     "execution_count": 41,
     "metadata": {},
     "output_type": "execute_result"
    }
   ],
   "source": [
    "# 가설검정을 위해 첫번째 할 일 : two-way frequency table을 만든다\n",
    "pd.crosstab(df2['sex'],df2['job'])"
   ]
  },
  {
   "cell_type": "code",
   "execution_count": 42,
   "id": "f9291a2d",
   "metadata": {},
   "outputs": [
    {
     "data": {
      "text/html": [
       "<div>\n",
       "<style scoped>\n",
       "    .dataframe tbody tr th:only-of-type {\n",
       "        vertical-align: middle;\n",
       "    }\n",
       "\n",
       "    .dataframe tbody tr th {\n",
       "        vertical-align: top;\n",
       "    }\n",
       "\n",
       "    .dataframe thead th {\n",
       "        text-align: right;\n",
       "    }\n",
       "</style>\n",
       "<table border=\"1\" class=\"dataframe\">\n",
       "  <thead>\n",
       "    <tr style=\"text-align: right;\">\n",
       "      <th>job</th>\n",
       "      <th>1</th>\n",
       "      <th>2</th>\n",
       "      <th>3</th>\n",
       "      <th>4</th>\n",
       "      <th>5</th>\n",
       "      <th>6</th>\n",
       "      <th>7</th>\n",
       "      <th>8</th>\n",
       "      <th>9</th>\n",
       "      <th>All</th>\n",
       "    </tr>\n",
       "    <tr>\n",
       "      <th>sex</th>\n",
       "      <th></th>\n",
       "      <th></th>\n",
       "      <th></th>\n",
       "      <th></th>\n",
       "      <th></th>\n",
       "      <th></th>\n",
       "      <th></th>\n",
       "      <th></th>\n",
       "      <th></th>\n",
       "      <th></th>\n",
       "    </tr>\n",
       "  </thead>\n",
       "  <tbody>\n",
       "    <tr>\n",
       "      <th>1</th>\n",
       "      <td>316</td>\n",
       "      <td>1623</td>\n",
       "      <td>1644</td>\n",
       "      <td>558</td>\n",
       "      <td>882</td>\n",
       "      <td>1020</td>\n",
       "      <td>1379</td>\n",
       "      <td>1832</td>\n",
       "      <td>1318</td>\n",
       "      <td>10572</td>\n",
       "    </tr>\n",
       "    <tr>\n",
       "      <th>2</th>\n",
       "      <td>12</td>\n",
       "      <td>420</td>\n",
       "      <td>315</td>\n",
       "      <td>601</td>\n",
       "      <td>323</td>\n",
       "      <td>197</td>\n",
       "      <td>76</td>\n",
       "      <td>87</td>\n",
       "      <td>586</td>\n",
       "      <td>2617</td>\n",
       "    </tr>\n",
       "    <tr>\n",
       "      <th>All</th>\n",
       "      <td>328</td>\n",
       "      <td>2043</td>\n",
       "      <td>1959</td>\n",
       "      <td>1159</td>\n",
       "      <td>1205</td>\n",
       "      <td>1217</td>\n",
       "      <td>1455</td>\n",
       "      <td>1919</td>\n",
       "      <td>1904</td>\n",
       "      <td>13189</td>\n",
       "    </tr>\n",
       "  </tbody>\n",
       "</table>\n",
       "</div>"
      ],
      "text/plain": [
       "job    1     2     3     4     5     6     7     8     9    All\n",
       "sex                                                            \n",
       "1    316  1623  1644   558   882  1020  1379  1832  1318  10572\n",
       "2     12   420   315   601   323   197    76    87   586   2617\n",
       "All  328  2043  1959  1159  1205  1217  1455  1919  1904  13189"
      ]
     },
     "execution_count": 42,
     "metadata": {},
     "output_type": "execute_result"
    }
   ],
   "source": [
    "pd.crosstab(df2['sex'],df2['job'],margins=True) # All 칼럼 하나 더 나옴 ( 다 더한 값)"
   ]
  },
  {
   "cell_type": "code",
   "execution_count": 43,
   "id": "75eafe65",
   "metadata": {},
   "outputs": [],
   "source": [
    "# 위에 표가 관측도수\n",
    "# 기대도수는 뭐냐?!!\n",
    "# 가설검정을 위해 2번째 할 일 : 카이제곱 검정통계량을 계산한다"
   ]
  },
  {
   "cell_type": "code",
   "execution_count": 44,
   "id": "152fd476",
   "metadata": {},
   "outputs": [
    {
     "data": {
      "text/plain": [
       "262.91727955114106"
      ]
     },
     "execution_count": 44,
     "metadata": {},
     "output_type": "execute_result"
    }
   ],
   "source": [
    "# 남녀간 직업 차이가 없다면 남자,여자들은 n번 job을 몇명이나 가질까? <- 기대도수\n",
    "# ex. 1번 job 가질 비율\n",
    "\n",
    "# 남자의 1번 직업 기대도수\n",
    "10572*(328/13189)"
   ]
  },
  {
   "cell_type": "code",
   "execution_count": 45,
   "id": "7ea252e2",
   "metadata": {},
   "outputs": [
    {
     "data": {
      "text/plain": [
       "65.0827204488589"
      ]
     },
     "execution_count": 45,
     "metadata": {},
     "output_type": "execute_result"
    }
   ],
   "source": [
    "# 여자의 1번 직업 기대도수\n",
    "2617*(328/13189)"
   ]
  },
  {
   "cell_type": "code",
   "execution_count": 46,
   "id": "2976a1db",
   "metadata": {},
   "outputs": [],
   "source": [
    "# 가설검정을 위해 3번째 할 일 : 카이제곱 검정통계량의 p-value를 계산하여 p-value<0.05이면 귀무가설을 기각한다\n",
    "\n",
    "# 이 경우 카이제곱 자유도\n",
    "\n",
    "# chi2_crntingency 함수를 사용하기 위해서는 먼저 pd.crosstab의 결과를 data frame으로 저장해야 한다.\n",
    "# 이때 반드시 'all(margins=True)'는 빼고 저장해야함\n",
    "cross_tab1=pd.crosstab(df2['sex'],df2['job'])"
   ]
  },
  {
   "cell_type": "code",
   "execution_count": 47,
   "id": "68c3a3ff",
   "metadata": {},
   "outputs": [
    {
     "data": {
      "text/html": [
       "<div>\n",
       "<style scoped>\n",
       "    .dataframe tbody tr th:only-of-type {\n",
       "        vertical-align: middle;\n",
       "    }\n",
       "\n",
       "    .dataframe tbody tr th {\n",
       "        vertical-align: top;\n",
       "    }\n",
       "\n",
       "    .dataframe thead th {\n",
       "        text-align: right;\n",
       "    }\n",
       "</style>\n",
       "<table border=\"1\" class=\"dataframe\">\n",
       "  <thead>\n",
       "    <tr style=\"text-align: right;\">\n",
       "      <th>job</th>\n",
       "      <th>1</th>\n",
       "      <th>2</th>\n",
       "      <th>3</th>\n",
       "      <th>4</th>\n",
       "      <th>5</th>\n",
       "      <th>6</th>\n",
       "      <th>7</th>\n",
       "      <th>8</th>\n",
       "      <th>9</th>\n",
       "    </tr>\n",
       "    <tr>\n",
       "      <th>sex</th>\n",
       "      <th></th>\n",
       "      <th></th>\n",
       "      <th></th>\n",
       "      <th></th>\n",
       "      <th></th>\n",
       "      <th></th>\n",
       "      <th></th>\n",
       "      <th></th>\n",
       "      <th></th>\n",
       "    </tr>\n",
       "  </thead>\n",
       "  <tbody>\n",
       "    <tr>\n",
       "      <th>1</th>\n",
       "      <td>316</td>\n",
       "      <td>1623</td>\n",
       "      <td>1644</td>\n",
       "      <td>558</td>\n",
       "      <td>882</td>\n",
       "      <td>1020</td>\n",
       "      <td>1379</td>\n",
       "      <td>1832</td>\n",
       "      <td>1318</td>\n",
       "    </tr>\n",
       "    <tr>\n",
       "      <th>2</th>\n",
       "      <td>12</td>\n",
       "      <td>420</td>\n",
       "      <td>315</td>\n",
       "      <td>601</td>\n",
       "      <td>323</td>\n",
       "      <td>197</td>\n",
       "      <td>76</td>\n",
       "      <td>87</td>\n",
       "      <td>586</td>\n",
       "    </tr>\n",
       "  </tbody>\n",
       "</table>\n",
       "</div>"
      ],
      "text/plain": [
       "job    1     2     3    4    5     6     7     8     9\n",
       "sex                                                   \n",
       "1    316  1623  1644  558  882  1020  1379  1832  1318\n",
       "2     12   420   315  601  323   197    76    87   586"
      ]
     },
     "execution_count": 47,
     "metadata": {},
     "output_type": "execute_result"
    }
   ],
   "source": [
    "cross_tab1"
   ]
  },
  {
   "cell_type": "code",
   "execution_count": 48,
   "id": "85f00dda",
   "metadata": {},
   "outputs": [],
   "source": [
    "# chi2_contingency 함수를 사용하면 아래 네개 값이 나옴\n",
    "# chi2: 카이 가설 검정 통계량\n",
    "# p: p value\n",
    "# dof: 자유도\n",
    "# expected: 기대도수\n",
    "chi_2,p,dof,expected=chi2_contingency(cross_tab1)"
   ]
  },
  {
   "cell_type": "code",
   "execution_count": 49,
   "id": "9f39101d",
   "metadata": {},
   "outputs": [
    {
     "name": "stdout",
     "output_type": "stream",
     "text": [
      "[[ 262.91727955 1637.62195769 1570.28948366  929.02782622  965.90037152\n",
      "   975.51929638 1166.29463947 1538.22640079 1526.20274471]\n",
      " [  65.08272045  405.37804231  388.71051634  229.97217378  239.09962848\n",
      "   241.48070362  288.70536053  380.77359921  377.79725529]]\n"
     ]
    }
   ],
   "source": [
    "# 기대도수를 위에 처럼 일일이 계산하지 말고 파이썬으로 그냥 보여줘\n",
    "print(expected)"
   ]
  },
  {
   "cell_type": "code",
   "execution_count": 50,
   "id": "2050b357",
   "metadata": {},
   "outputs": [
    {
     "name": "stdout",
     "output_type": "stream",
     "text": [
      "8\n"
     ]
    }
   ],
   "source": [
    "print(dof)"
   ]
  },
  {
   "cell_type": "code",
   "execution_count": 51,
   "id": "60a6515e",
   "metadata": {},
   "outputs": [
    {
     "name": "stdout",
     "output_type": "stream",
     "text": [
      "1487.2418760780276\n"
     ]
    }
   ],
   "source": [
    "print(chi_2)"
   ]
  },
  {
   "cell_type": "code",
   "execution_count": 53,
   "id": "7792d1b4",
   "metadata": {},
   "outputs": [
    {
     "data": {
      "text/plain": [
       "0.0"
      ]
     },
     "execution_count": 53,
     "metadata": {},
     "output_type": "execute_result"
    }
   ],
   "source": [
    "# p-value 는 다음과 같이 계산한다\n",
    "1-chi2.cdf(chi_2,8)"
   ]
  },
  {
   "cell_type": "code",
   "execution_count": 54,
   "id": "32d370c9",
   "metadata": {},
   "outputs": [],
   "source": [
    "# p-value가 0.05보다 작다 -> 귀무가설 기각"
   ]
  },
  {
   "cell_type": "code",
   "execution_count": 55,
   "id": "809e9765",
   "metadata": {},
   "outputs": [
    {
     "name": "stdout",
     "output_type": "stream",
     "text": [
      "0.0\n"
     ]
    }
   ],
   "source": [
    "# 사실 'p'에 저장되어있음\n",
    "print(p)"
   ]
  },
  {
   "cell_type": "code",
   "execution_count": 57,
   "id": "c784bf35",
   "metadata": {},
   "outputs": [],
   "source": [
    " # 같은 결과 나옴"
   ]
  },
  {
   "cell_type": "code",
   "execution_count": 58,
   "id": "0f4b17a9",
   "metadata": {},
   "outputs": [],
   "source": [
    "# python 코드 이용해서 카이제곱 분포의 pdf 생성해보자"
   ]
  },
  {
   "cell_type": "code",
   "execution_count": 59,
   "id": "983e6387",
   "metadata": {},
   "outputs": [
    {
     "data": {
      "image/png": "[encoded data removed]",
      "text/plain": [
       "<Figure size 640x480 with 1 Axes>"
      ]
     },
     "metadata": {},
     "output_type": "display_data"
    }
   ],
   "source": [
    "# 카이제곱 분포의 PDF with DOF=8\n",
    "x=np.arange(0,50,0.05) # x값 만들기: 0부터 50까지 0.05 간격으로 x값 만들기\n",
    "DoF=8 # 자유도는 8로 지정\n",
    "plt.plot(x,chi2.pdf(x,DoF))\n",
    "plt.show()"
   ]
  },
  {
   "cell_type": "markdown",
   "id": "677edebe",
   "metadata": {},
   "source": [
    "# LN10 : 회귀분석(1)\n",
    "## 1 회귀분석 방법: simple linear regression\n",
    "- 필기하기\n",
    "## 2 소득과 순자산 간 관계\n",
    "- 다음시간에 이어서"
   ]
  },
  {
   "cell_type": "code",
   "execution_count": null,
   "id": "d7c507f6",
   "metadata": {},
   "outputs": [],
   "source": []
  },
  {
   "cell_type": "code",
   "execution_count": null,
   "id": "7530e458",
   "metadata": {},
   "outputs": [],
   "source": []
  },
  {
   "cell_type": "code",
   "execution_count": null,
   "id": "bfd30a1a",
   "metadata": {},
   "outputs": [],
   "source": []
  },
  {
   "cell_type": "code",
   "execution_count": null,
   "id": "e0ff3879",
   "metadata": {},
   "outputs": [],
   "source": []
  },
  {
   "cell_type": "code",
   "execution_count": null,
   "id": "fa282bbc",
   "metadata": {},
   "outputs": [],
   "source": []
  }
 ],
 "metadata": {
  "kernelspec": {
   "display_name": "Python 3 (ipykernel)",
   "language": "python",
   "name": "python3"
  },
  "language_info": {
   "codemirror_mode": {
    "name": "ipython",
    "version": 3
   },
   "file_extension": ".py",
   "mimetype": "text/x-python",
   "name": "python",
   "nbconvert_exporter": "python",
   "pygments_lexer": "ipython3",
   "version": "3.9.13"
  }
 },
 "nbformat": 4,
 "nbformat_minor": 5
}
