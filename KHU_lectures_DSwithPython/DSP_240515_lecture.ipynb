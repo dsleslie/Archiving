{
 "cells": [
  {
   "cell_type": "code",
   "execution_count": 16,
   "id": "96db45f6",
   "metadata": {},
   "outputs": [],
   "source": [
    "import pandas as pd\n",
    "import numpy as np\n",
    "import numpy_financial as npf\n",
    "import seaborn as sns\n",
    "import matplotlib.pyplot as plt\n",
    "import statsmodels.api as sm\n",
    "from statsmodels.formula.api import ols\n",
    "from sklearn.model_selection import train_test_split\n",
    "import warnings\n",
    "warnings.filterwarnings(\"ignore\")\n",
    "from numpy import *\n",
    "\n",
    "from ggplot import *\n",
    "from scipy.stats import logistic\n",
    "from sklearn.metrics import roc_curve\n",
    "from sklearn.metrics import roc_auc_score\n",
    "from sklearn.linear_model import LogisticRegression\n",
    "from sklearn.metrics import confusion_matrix, mean_squared_error\n",
    "from sklearn.model_selection import train_test_split\n",
    "from sklearn import preprocessing\n",
    "from sklearn.neighbors import KNeighborsClassifier\n",
    "from sklearn.naive_bayes import *\n",
    "from sklearn.tree import DecisionTreeClassifier, DecisionTreeRegressor, export_graphviz\n",
    "import graphviz\n",
    "from sklearn.ensemble import RandomForestRegressor, RandomForestClassifier\n",
    "from sklearn.svm import SVC, SVR\n",
    "from sklearn.cluster import KMeans\n",
    "from sklearn.preprocessing import StandardScaler\n",
    "\n",
    "\n",
    "from linearmodels.iv import IV2SLS\n",
    "from scipy import stats\n",
    "from scipy.stats import trim_mean #trimmed mean\n",
    "from scipy.stats import * #chi2_contingency로 카이제곱통계량계산\n",
    "from scipy.stats import norm\n",
    "\n",
    "import keyword\n",
    "import random\n",
    "\n",
    "#open api 불러올 때 필요한 것\n",
    "from urllib.request import urlopen #request package 설치\n",
    "from bs4 import BeautifulSoup #bs4 package 설치\n",
    "\n",
    "# 그래프에서 한글 깨지지 않기 위헤 사용함\n",
    "from matplotlib import rcParams\n",
    "from matplotlib import font_manager,rc\n",
    "\n",
    "rcParams['axes.unicode_minus']=False\n",
    "plt.rcParams['font.family']='Malgun Gothic'\n",
    "font_name=font_manager.FontProperties(fname='c:/Windows/Fonts/malgun.ttf').get_name()\n",
    "rc('font',family=font_name)\n",
    "\n",
    "import FinanceDataReader as fdr\n",
    "import plotly.graph_objects as go\n",
    "import plotly.subplots as ms\n",
    "import math\n",
    "\n"
   ]
  },
  {
   "cell_type": "markdown",
   "id": "c7be48ea",
   "metadata": {},
   "source": [
    "# LN10 : 회귀분석(1)\n",
    "## 1 회귀분석 방법: simple linear regression\n",
    "- 0513 후반 필기하기\n",
    "\n",
    "## 2 소득과 순자산 간 관계\n",
    "- "
   ]
  },
  {
   "cell_type": "code",
   "execution_count": 17,
   "id": "1a8d8593",
   "metadata": {},
   "outputs": [
    {
     "data": {
      "text/html": [
       "<div>\n",
       "<style scoped>\n",
       "    .dataframe tbody tr th:only-of-type {\n",
       "        vertical-align: middle;\n",
       "    }\n",
       "\n",
       "    .dataframe tbody tr th {\n",
       "        vertical-align: top;\n",
       "    }\n",
       "\n",
       "    .dataframe thead th {\n",
       "        text-align: right;\n",
       "    }\n",
       "</style>\n",
       "<table border=\"1\" class=\"dataframe\">\n",
       "  <thead>\n",
       "    <tr style=\"text-align: right;\">\n",
       "      <th></th>\n",
       "      <th>Unnamed: 0</th>\n",
       "      <th>year</th>\n",
       "      <th>metro</th>\n",
       "      <th>id</th>\n",
       "      <th>sex</th>\n",
       "      <th>age</th>\n",
       "      <th>number</th>\n",
       "      <th>education</th>\n",
       "      <th>marriage</th>\n",
       "      <th>asset</th>\n",
       "      <th>debt</th>\n",
       "      <th>income</th>\n",
       "      <th>income_d</th>\n",
       "      <th>industry</th>\n",
       "      <th>job</th>\n",
       "      <th>house</th>\n",
       "    </tr>\n",
       "  </thead>\n",
       "  <tbody>\n",
       "    <tr>\n",
       "      <th>0</th>\n",
       "      <td>19</td>\n",
       "      <td>2020</td>\n",
       "      <td>G1</td>\n",
       "      <td>10001102</td>\n",
       "      <td>1</td>\n",
       "      <td>35</td>\n",
       "      <td>1</td>\n",
       "      <td>5</td>\n",
       "      <td>1</td>\n",
       "      <td>5252</td>\n",
       "      <td>0</td>\n",
       "      <td>1089</td>\n",
       "      <td>1033</td>\n",
       "      <td>L</td>\n",
       "      <td>5</td>\n",
       "      <td>2</td>\n",
       "    </tr>\n",
       "    <tr>\n",
       "      <th>1</th>\n",
       "      <td>134</td>\n",
       "      <td>2020</td>\n",
       "      <td>G2</td>\n",
       "      <td>11800271</td>\n",
       "      <td>2</td>\n",
       "      <td>30</td>\n",
       "      <td>1</td>\n",
       "      <td>6</td>\n",
       "      <td>1</td>\n",
       "      <td>17920</td>\n",
       "      <td>5000</td>\n",
       "      <td>3756</td>\n",
       "      <td>3032</td>\n",
       "      <td>O</td>\n",
       "      <td>4</td>\n",
       "      <td>2</td>\n",
       "    </tr>\n",
       "    <tr>\n",
       "      <th>2</th>\n",
       "      <td>157</td>\n",
       "      <td>2020</td>\n",
       "      <td>G1</td>\n",
       "      <td>12000102</td>\n",
       "      <td>1</td>\n",
       "      <td>30</td>\n",
       "      <td>1</td>\n",
       "      <td>6</td>\n",
       "      <td>1</td>\n",
       "      <td>540</td>\n",
       "      <td>0</td>\n",
       "      <td>2004</td>\n",
       "      <td>1812</td>\n",
       "      <td>G</td>\n",
       "      <td>5</td>\n",
       "      <td>3</td>\n",
       "    </tr>\n",
       "    <tr>\n",
       "      <th>3</th>\n",
       "      <td>190</td>\n",
       "      <td>2020</td>\n",
       "      <td>G1</td>\n",
       "      <td>12600311</td>\n",
       "      <td>1</td>\n",
       "      <td>36</td>\n",
       "      <td>1</td>\n",
       "      <td>6</td>\n",
       "      <td>1</td>\n",
       "      <td>1500</td>\n",
       "      <td>6280</td>\n",
       "      <td>5802</td>\n",
       "      <td>3959</td>\n",
       "      <td>C</td>\n",
       "      <td>2</td>\n",
       "      <td>3</td>\n",
       "    </tr>\n",
       "    <tr>\n",
       "      <th>4</th>\n",
       "      <td>191</td>\n",
       "      <td>2020</td>\n",
       "      <td>G1</td>\n",
       "      <td>12600321</td>\n",
       "      <td>2</td>\n",
       "      <td>31</td>\n",
       "      <td>1</td>\n",
       "      <td>6</td>\n",
       "      <td>1</td>\n",
       "      <td>1610</td>\n",
       "      <td>0</td>\n",
       "      <td>3032</td>\n",
       "      <td>1197</td>\n",
       "      <td>J</td>\n",
       "      <td>2</td>\n",
       "      <td>5</td>\n",
       "    </tr>\n",
       "  </tbody>\n",
       "</table>\n",
       "</div>"
      ],
      "text/plain": [
       "   Unnamed: 0  year metro        id  sex  age  number  education  marriage  \\\n",
       "0          19  2020    G1  10001102    1   35       1          5         1   \n",
       "1         134  2020    G2  11800271    2   30       1          6         1   \n",
       "2         157  2020    G1  12000102    1   30       1          6         1   \n",
       "3         190  2020    G1  12600311    1   36       1          6         1   \n",
       "4         191  2020    G1  12600321    2   31       1          6         1   \n",
       "\n",
       "   asset  debt  income  income_d industry job  house  \n",
       "0   5252     0    1089      1033        L   5      2  \n",
       "1  17920  5000    3756      3032        O   4      2  \n",
       "2    540     0    2004      1812        G   5      3  \n",
       "3   1500  6280    5802      3959        C   2      3  \n",
       "4   1610     0    3032      1197        J   2      5  "
      ]
     },
     "execution_count": 17,
     "metadata": {},
     "output_type": "execute_result"
    }
   ],
   "source": [
    "df=pd.read_csv('c:/temp/household_2020a_1_30.csv')\n",
    "df.head()"
   ]
  },
  {
   "cell_type": "code",
   "execution_count": 18,
   "id": "20dbb86a",
   "metadata": {},
   "outputs": [
    {
     "data": {
      "text/plain": [
       "(388, 16)"
      ]
     },
     "execution_count": 18,
     "metadata": {},
     "output_type": "execute_result"
    }
   ],
   "source": [
    "# 전체 데이터에서 30대 1인가구 데이터만 모아 놓은 것\n",
    "# 몇명?\n",
    "df.shape"
   ]
  },
  {
   "cell_type": "code",
   "execution_count": 19,
   "id": "9b8ecac1",
   "metadata": {},
   "outputs": [
    {
     "data": {
      "text/html": [
       "<div>\n",
       "<style scoped>\n",
       "    .dataframe tbody tr th:only-of-type {\n",
       "        vertical-align: middle;\n",
       "    }\n",
       "\n",
       "    .dataframe tbody tr th {\n",
       "        vertical-align: top;\n",
       "    }\n",
       "\n",
       "    .dataframe thead th {\n",
       "        text-align: right;\n",
       "    }\n",
       "</style>\n",
       "<table border=\"1\" class=\"dataframe\">\n",
       "  <thead>\n",
       "    <tr style=\"text-align: right;\">\n",
       "      <th></th>\n",
       "      <th>income_d</th>\n",
       "      <th>asset</th>\n",
       "    </tr>\n",
       "  </thead>\n",
       "  <tbody>\n",
       "    <tr>\n",
       "      <th>0</th>\n",
       "      <td>1033</td>\n",
       "      <td>5252</td>\n",
       "    </tr>\n",
       "    <tr>\n",
       "      <th>1</th>\n",
       "      <td>3032</td>\n",
       "      <td>17920</td>\n",
       "    </tr>\n",
       "    <tr>\n",
       "      <th>2</th>\n",
       "      <td>1812</td>\n",
       "      <td>540</td>\n",
       "    </tr>\n",
       "    <tr>\n",
       "      <th>3</th>\n",
       "      <td>3959</td>\n",
       "      <td>1500</td>\n",
       "    </tr>\n",
       "    <tr>\n",
       "      <th>4</th>\n",
       "      <td>1197</td>\n",
       "      <td>1610</td>\n",
       "    </tr>\n",
       "  </tbody>\n",
       "</table>\n",
       "</div>"
      ],
      "text/plain": [
       "   income_d  asset\n",
       "0      1033   5252\n",
       "1      3032  17920\n",
       "2      1812    540\n",
       "3      3959   1500\n",
       "4      1197   1610"
      ]
     },
     "execution_count": 19,
     "metadata": {},
     "output_type": "execute_result"
    }
   ],
   "source": [
    "# income: 경상소득, _d: 가처분소득\n",
    "df1=df[['income_d','asset']]\n",
    "df1.head()"
   ]
  },
  {
   "cell_type": "code",
   "execution_count": 20,
   "id": "129f0240",
   "metadata": {},
   "outputs": [
    {
     "data": {
      "text/html": [
       "<div>\n",
       "<style scoped>\n",
       "    .dataframe tbody tr th:only-of-type {\n",
       "        vertical-align: middle;\n",
       "    }\n",
       "\n",
       "    .dataframe tbody tr th {\n",
       "        vertical-align: top;\n",
       "    }\n",
       "\n",
       "    .dataframe thead th {\n",
       "        text-align: right;\n",
       "    }\n",
       "</style>\n",
       "<table border=\"1\" class=\"dataframe\">\n",
       "  <thead>\n",
       "    <tr style=\"text-align: right;\">\n",
       "      <th></th>\n",
       "      <th>income_d</th>\n",
       "      <th>asset</th>\n",
       "      <th>income</th>\n",
       "      <th>net_asset</th>\n",
       "    </tr>\n",
       "  </thead>\n",
       "  <tbody>\n",
       "    <tr>\n",
       "      <th>0</th>\n",
       "      <td>1033</td>\n",
       "      <td>5252</td>\n",
       "      <td>0.1033</td>\n",
       "      <td>0.5252</td>\n",
       "    </tr>\n",
       "    <tr>\n",
       "      <th>1</th>\n",
       "      <td>3032</td>\n",
       "      <td>17920</td>\n",
       "      <td>0.3032</td>\n",
       "      <td>1.7920</td>\n",
       "    </tr>\n",
       "    <tr>\n",
       "      <th>2</th>\n",
       "      <td>1812</td>\n",
       "      <td>540</td>\n",
       "      <td>0.1812</td>\n",
       "      <td>0.0540</td>\n",
       "    </tr>\n",
       "    <tr>\n",
       "      <th>3</th>\n",
       "      <td>3959</td>\n",
       "      <td>1500</td>\n",
       "      <td>0.3959</td>\n",
       "      <td>0.1500</td>\n",
       "    </tr>\n",
       "    <tr>\n",
       "      <th>4</th>\n",
       "      <td>1197</td>\n",
       "      <td>1610</td>\n",
       "      <td>0.1197</td>\n",
       "      <td>0.1610</td>\n",
       "    </tr>\n",
       "  </tbody>\n",
       "</table>\n",
       "</div>"
      ],
      "text/plain": [
       "   income_d  asset  income  net_asset\n",
       "0      1033   5252  0.1033     0.5252\n",
       "1      3032  17920  0.3032     1.7920\n",
       "2      1812    540  0.1812     0.0540\n",
       "3      3959   1500  0.3959     0.1500\n",
       "4      1197   1610  0.1197     0.1610"
      ]
     },
     "execution_count": 20,
     "metadata": {},
     "output_type": "execute_result"
    }
   ],
   "source": [
    "df1['income']=df1['income_d']/10000 # 억 단위로 변환\n",
    "df1['net_asset']=df1['asset']/10000 # 억 단위로 변환\n",
    "df1.head()"
   ]
  },
  {
   "cell_type": "code",
   "execution_count": 21,
   "id": "e9f56de9",
   "metadata": {},
   "outputs": [
    {
     "data": {
      "text/html": [
       "<div>\n",
       "<style scoped>\n",
       "    .dataframe tbody tr th:only-of-type {\n",
       "        vertical-align: middle;\n",
       "    }\n",
       "\n",
       "    .dataframe tbody tr th {\n",
       "        vertical-align: top;\n",
       "    }\n",
       "\n",
       "    .dataframe thead th {\n",
       "        text-align: right;\n",
       "    }\n",
       "</style>\n",
       "<table border=\"1\" class=\"dataframe\">\n",
       "  <thead>\n",
       "    <tr style=\"text-align: right;\">\n",
       "      <th></th>\n",
       "      <th>income</th>\n",
       "      <th>net_asset</th>\n",
       "    </tr>\n",
       "  </thead>\n",
       "  <tbody>\n",
       "    <tr>\n",
       "      <th>income</th>\n",
       "      <td>1.000000</td>\n",
       "      <td>0.367209</td>\n",
       "    </tr>\n",
       "    <tr>\n",
       "      <th>net_asset</th>\n",
       "      <td>0.367209</td>\n",
       "      <td>1.000000</td>\n",
       "    </tr>\n",
       "  </tbody>\n",
       "</table>\n",
       "</div>"
      ],
      "text/plain": [
       "             income  net_asset\n",
       "income     1.000000   0.367209\n",
       "net_asset  0.367209   1.000000"
      ]
     },
     "execution_count": 21,
     "metadata": {},
     "output_type": "execute_result"
    }
   ],
   "source": [
    "# 두 변수 간 상관계수를 계산해보자\n",
    "# 상관계수 : -1~1, 상관관계 정도\n",
    "df1[['income','net_asset']].corr() # 매우 높은 야의 상관관계가 나타난다"
   ]
  },
  {
   "cell_type": "code",
   "execution_count": 22,
   "id": "ca65ca66",
   "metadata": {},
   "outputs": [
    {
     "data": {
      "text/plain": [
       "0.19005961153980735"
      ]
     },
     "execution_count": 22,
     "metadata": {},
     "output_type": "execute_result"
    }
   ],
   "source": [
    "# 산포도와 회귀직선... 필기 하기\n",
    "# 상관계수 0.37의 의미\n",
    "# x변수인 소득이 1 standard devation 증가하면 y변수인 순자산이 0.37 std 증가한다느 뜻\n",
    "# 설명\n",
    "np.std(df1['income']) # X 변수의 표준편차를 계산한다"
   ]
  },
  {
   "cell_type": "code",
   "execution_count": 23,
   "id": "3b41b386",
   "metadata": {},
   "outputs": [
    {
     "data": {
      "text/plain": [
       "1.6586041054791034"
      ]
     },
     "execution_count": 23,
     "metadata": {},
     "output_type": "execute_result"
    }
   ],
   "source": [
    "np.std(df1['net_asset']) # Y 변수의 표준편차를 계산한다"
   ]
  },
  {
   "cell_type": "code",
   "execution_count": 24,
   "id": "72c5d6b0",
   "metadata": {},
   "outputs": [
    {
     "name": "stdout",
     "output_type": "stream",
     "text": [
      "0.6104999999999999\n"
     ]
    }
   ],
   "source": [
    "# X 변수가 0.19억 증가하면, Y변수는 0.37*1.65 증가한다\n",
    "print(0.37*1.65)"
   ]
  },
  {
   "cell_type": "code",
   "execution_count": 25,
   "id": "d56a80d6",
   "metadata": {},
   "outputs": [],
   "source": [
    "# 0.61억, 6100만원"
   ]
  },
  {
   "cell_type": "code",
   "execution_count": 26,
   "id": "47b156ee",
   "metadata": {},
   "outputs": [
    {
     "data": {
      "text/plain": [
       "3.2289002069160513"
      ]
     },
     "execution_count": 26,
     "metadata": {},
     "output_type": "execute_result"
    }
   ],
   "source": [
    "# 회귀직선의 기울기\n",
    "# 회귀를 돌리지 않아도, simple linear regression에서의 beta_1(기울기) 값은 아마 다음과 같이 계산될 것이다.\n",
    "# X, Y변수의 sd와 두 변수의 corr만 알면 기울기 구할 수 있다\n",
    "0.37*(1.6586041054791034/0.19005961153980735)"
   ]
  },
  {
   "cell_type": "markdown",
   "id": "4d4ad25f",
   "metadata": {},
   "source": [
    "## 3 회귀직선\n",
    "- 필기하기"
   ]
  },
  {
   "cell_type": "markdown",
   "id": "07e4a838",
   "metadata": {},
   "source": [
    "## 4 30대 1인가구의 소득과 자산 간 회귀 분석\n",
    "- 필기 하기\n"
   ]
  },
  {
   "cell_type": "code",
   "execution_count": 27,
   "id": "8338d182",
   "metadata": {},
   "outputs": [
    {
     "name": "stdout",
     "output_type": "stream",
     "text": [
      "                            OLS Regression Results                            \n",
      "==============================================================================\n",
      "Dep. Variable:              net_asset   R-squared:                       0.135\n",
      "Model:                            OLS   Adj. R-squared:                  0.133\n",
      "Method:                 Least Squares   F-statistic:                     60.16\n",
      "Date:                Sun, 09 Jun 2024   Prob (F-statistic):           7.87e-14\n",
      "Time:                        16:33:53   Log-Likelihood:                -718.77\n",
      "No. Observations:                 388   AIC:                             1442.\n",
      "Df Residuals:                     386   BIC:                             1449.\n",
      "Df Model:                           1                                         \n",
      "Covariance Type:            nonrobust                                         \n",
      "==============================================================================\n",
      "                 coef    std err          t      P>|t|      [0.025      0.975]\n",
      "------------------------------------------------------------------------------\n",
      "Intercept      0.5051      0.145      3.494      0.001       0.221       0.789\n",
      "income         3.2045      0.413      7.756      0.000       2.392       4.017\n",
      "==============================================================================\n",
      "Omnibus:                      224.958   Durbin-Watson:                   2.059\n",
      "Prob(Omnibus):                  0.000   Jarque-Bera (JB):             1543.642\n",
      "Skew:                           2.458   Prob(JB):                         0.00\n",
      "Kurtosis:                      11.445   Cond. No.                         5.73\n",
      "==============================================================================\n",
      "\n",
      "Notes:\n",
      "[1] Standard Errors assume that the covariance matrix of the errors is correctly specified.\n"
     ]
    }
   ],
   "source": [
    "# Simple Linear Regression 추정 결과: alpha_hat, beta_hat을 얻는다\n",
    "\n",
    "# Y: df1['net_asset'], X: df1['income']\n",
    "# ols 함수에서는 formula 방식으로 변수를 표현\n",
    "# y, x, 변수 순서로 쓰고 ~로 이어준다\n",
    "# 그 두 변수가 어느 데이터프레임에 있는지는 data= 하고 쓴다\n",
    "\n",
    "asset_model=ols('net_asset~income',data=df1).fit()\n",
    "print(asset_model.summary())"
   ]
  },
  {
   "cell_type": "code",
   "execution_count": 28,
   "id": "b441dc3c",
   "metadata": {},
   "outputs": [],
   "source": [
    "# incoe coef: 3.20 = 기울기가 3.20\n",
    "# 절편은 0.50"
   ]
  },
  {
   "cell_type": "markdown",
   "id": "4c9d2534",
   "metadata": {},
   "source": [
    "> 위 추정 해석\n",
    "> - 상수항 : 0.50 = 5000만원 = 소득이 없는 사람 (x=0)도 자산 5000만원은 있는 것\n",
    "> - 기울기 : 3.2 = x가 1억 증가하면 자산은 3.2억 증가한다. \n",
    "> - 그 뒤 강의 필기하기\n",
    "\n",
    "- 해석 이어서"
   ]
  },
  {
   "cell_type": "code",
   "execution_count": 29,
   "id": "16fa93d3",
   "metadata": {},
   "outputs": [
    {
     "data": {
      "text/plain": [
       "2.10735"
      ]
     },
     "execution_count": 29,
     "metadata": {},
     "output_type": "execute_result"
    }
   ],
   "source": [
    "# 소득이 5000만원인 1인 가구의 자산 평균은?\n",
    "0.5051+3.2045*0.5"
   ]
  },
  {
   "cell_type": "code",
   "execution_count": 32,
   "id": "bcef40d7",
   "metadata": {},
   "outputs": [],
   "source": [
    "# 2억 천만원 정도, 2.1억 정도"
   ]
  },
  {
   "cell_type": "markdown",
   "id": "2e63edd5",
   "metadata": {},
   "source": [
    "> -그 중에 순자산이 2억 이상일 확률은?\n",
    "> - 그걸 알라면 표준편차 알아ㅑㅇ 함 \n",
    "> - 표준편차 어케 계산하냐??\n",
    "> - 이 앞뒤로 필기\n",
    "> - 여기서 표준편차는 RMSE로 정의 함"
   ]
  },
  {
   "cell_type": "code",
   "execution_count": 35,
   "id": "18a24e96",
   "metadata": {},
   "outputs": [
    {
     "data": {
      "text/plain": [
       "1.5428682725699487"
      ]
     },
     "execution_count": 35,
     "metadata": {},
     "output_type": "execute_result"
    }
   ],
   "source": [
    "# 회귀직선의 표준편차 = 1.54\n",
    "np.sqrt(1-0.367**2)*np.std(df1['net_asset'])"
   ]
  },
  {
   "cell_type": "code",
   "execution_count": 36,
   "id": "8da47068",
   "metadata": {},
   "outputs": [],
   "source": [
    "# RMSE = 1.54"
   ]
  },
  {
   "cell_type": "code",
   "execution_count": 38,
   "id": "e3f8c639",
   "metadata": {},
   "outputs": [
    {
     "data": {
      "text/plain": [
       "-0.06493506493506498"
      ]
     },
     "execution_count": 38,
     "metadata": {},
     "output_type": "execute_result"
    }
   ],
   "source": [
    "# 표준화 \n",
    "z=(2-2.1)/1.54\n",
    "z"
   ]
  },
  {
   "cell_type": "code",
   "execution_count": 39,
   "id": "9d780040",
   "metadata": {},
   "outputs": [
    {
     "name": "stdout",
     "output_type": "stream",
     "text": [
      "0.5258871491417278\n"
     ]
    }
   ],
   "source": [
    "# Pr(z>-0.064) 일 확률?\n",
    "p_value=1-norm.cdf(z)\n",
    "print(p_value)"
   ]
  },
  {
   "cell_type": "code",
   "execution_count": 40,
   "id": "b141b665",
   "metadata": {},
   "outputs": [],
   "source": [
    "# 52% = 소득이 5000만원인 사람은 평균자산은 2.1억이지만, 자산이 2억 이상일 확률"
   ]
  },
  {
   "cell_type": "code",
   "execution_count": 41,
   "id": "cbaec0fc",
   "metadata": {},
   "outputs": [],
   "source": [
    "# z, rmse 이런거 이번처럼 찾지 말고, 파이썬으로 하는 법 다음시간에 배울 것"
   ]
  },
  {
   "cell_type": "code",
   "execution_count": null,
   "id": "4a8b86a4",
   "metadata": {},
   "outputs": [],
   "source": []
  },
  {
   "cell_type": "code",
   "execution_count": null,
   "id": "c677734f",
   "metadata": {},
   "outputs": [],
   "source": []
  },
  {
   "cell_type": "code",
   "execution_count": null,
   "id": "6a630679",
   "metadata": {},
   "outputs": [],
   "source": []
  },
  {
   "cell_type": "code",
   "execution_count": null,
   "id": "7273acd9",
   "metadata": {},
   "outputs": [],
   "source": []
  },
  {
   "cell_type": "code",
   "execution_count": null,
   "id": "c2774afe",
   "metadata": {},
   "outputs": [],
   "source": []
  },
  {
   "cell_type": "code",
   "execution_count": null,
   "id": "9ab1fa6b",
   "metadata": {},
   "outputs": [],
   "source": []
  },
  {
   "cell_type": "code",
   "execution_count": null,
   "id": "60677739",
   "metadata": {},
   "outputs": [],
   "source": []
  }
 ],
 "metadata": {
  "kernelspec": {
   "display_name": "Python 3 (ipykernel)",
   "language": "python",
   "name": "python3"
  },
  "language_info": {
   "codemirror_mode": {
    "name": "ipython",
    "version": 3
   },
   "file_extension": ".py",
   "mimetype": "text/x-python",
   "name": "python",
   "nbconvert_exporter": "python",
   "pygments_lexer": "ipython3",
   "version": "3.9.13"
  }
 },
 "nbformat": 4,
 "nbformat_minor": 5
}
