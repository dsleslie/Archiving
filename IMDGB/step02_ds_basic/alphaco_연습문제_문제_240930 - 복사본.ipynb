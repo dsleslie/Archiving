{
 "cells": [
  {
   "cell_type": "code",
   "execution_count": 7,
   "id": "ff8542ed-fe35-44ab-9237-7f1a001e19f7",
   "metadata": {},
   "outputs": [],
   "source": [
    "import pandas as pd\n",
    "import numpy as np"
   ]
  },
  {
   "cell_type": "markdown",
   "id": "294ecd95-5716-409d-bc14-7fbb85c06fe2",
   "metadata": {},
   "source": [
    "# NumPy & Series 문제\n"
   ]
  },
  {
   "cell_type": "markdown",
   "id": "2ff68c61-f01b-4535-a1b1-aa86d1112799",
   "metadata": {},
   "source": [
    "# 문제 1. \n",
    "- 답지를 확인하고 알맞게 슬라이싱을 진행하세요. "
   ]
  },
  {
   "cell_type": "code",
   "execution_count": 3,
   "id": "7ae6f217-73ae-4f30-a9d7-47d5d3a34ac6",
   "metadata": {},
   "outputs": [],
   "source": [
    "import numpy as np\n",
    "arr = np.array([1, 2, 3, 4, 5, 6])"
   ]
  },
  {
   "cell_type": "code",
   "execution_count": 1,
   "id": "40e5798c-a2f5-4f18-9130-0e6bf4a34cc9",
   "metadata": {},
   "outputs": [
    {
     "data": {
      "text/plain": [
       "[2, 4]"
      ]
     },
     "execution_count": 1,
     "metadata": {},
     "output_type": "execute_result"
    }
   ],
   "source": [
    "# 답지\n",
    "[2, 4]"
   ]
  },
  {
   "cell_type": "code",
   "execution_count": 19,
   "id": "3fd7f2da-0b8b-4c0b-9e78-290bb4bdb5ad",
   "metadata": {},
   "outputs": [
    {
     "data": {
      "text/plain": [
       "array([], shape=(0, 3), dtype=int64)"
      ]
     },
     "execution_count": 19,
     "metadata": {},
     "output_type": "execute_result"
    }
   ],
   "source": [
    "arr[1:3][3:5]"
   ]
  },
  {
   "cell_type": "code",
   "execution_count": null,
   "id": "5b858709-9c92-4ab0-9f19-a03c81d454b3",
   "metadata": {},
   "outputs": [],
   "source": []
  },
  {
   "cell_type": "code",
   "execution_count": null,
   "id": "d78e03a7-3f2a-4fe7-86c8-9a057dabc12a",
   "metadata": {},
   "outputs": [],
   "source": []
  },
  {
   "cell_type": "markdown",
   "id": "dab83b11-69bf-41f3-bb90-3e85822cfe7d",
   "metadata": {},
   "source": [
    "# 문제 2. 다차원 배열에서 슬라이싱"
   ]
  },
  {
   "cell_type": "code",
   "execution_count": 9,
   "id": "330bff95-1a72-4fbd-a92c-df8c2e437f31",
   "metadata": {},
   "outputs": [],
   "source": [
    "arr = np.array([[1, 2, 3], [4, 5, 6], [7, 8, 9]])"
   ]
  },
  {
   "cell_type": "code",
   "execution_count": 10,
   "id": "4b8c5543-03ec-4c73-9e54-fc721716c535",
   "metadata": {},
   "outputs": [],
   "source": [
    "# 답지\n",
    "# [[2, 3], [5, 6]]"
   ]
  },
  {
   "cell_type": "code",
   "execution_count": 11,
   "id": "d315218d-7503-4085-ad5b-395e5fa37005",
   "metadata": {},
   "outputs": [
    {
     "data": {
      "text/plain": [
       "array([1, 2, 3])"
      ]
     },
     "execution_count": 11,
     "metadata": {},
     "output_type": "execute_result"
    }
   ],
   "source": [
    "arr[0]"
   ]
  },
  {
   "cell_type": "code",
   "execution_count": 15,
   "id": "e739ae1e-56d8-4817-9350-6a5b888a57fb",
   "metadata": {},
   "outputs": [
    {
     "name": "stdout",
     "output_type": "stream",
     "text": [
      "[2 3] [5 6]\n"
     ]
    }
   ],
   "source": [
    "print(arr[0][1:3],arr[1][1:])"
   ]
  },
  {
   "cell_type": "code",
   "execution_count": null,
   "id": "3f6b2f78-0880-4bca-a4fa-9bc230b7ac90",
   "metadata": {},
   "outputs": [],
   "source": []
  },
  {
   "cell_type": "markdown",
   "id": "20fca97c-c55b-47dc-83c6-e67cb673ec23",
   "metadata": {},
   "source": [
    "# 문제 3. 배열에서 슬라이싱과 조건 사용"
   ]
  },
  {
   "cell_type": "code",
   "execution_count": 20,
   "id": "b13750ab-60bb-44f1-8477-ba13456a2c6d",
   "metadata": {},
   "outputs": [],
   "source": [
    "arr = np.array([1, 2, 3, 4, 5, 6])"
   ]
  },
  {
   "cell_type": "code",
   "execution_count": 21,
   "id": "9601f81a-5b72-4dfb-ba76-0af657c5e0a5",
   "metadata": {},
   "outputs": [],
   "source": [
    "# 답지\n",
    "# [4, 5, 6]"
   ]
  },
  {
   "cell_type": "code",
   "execution_count": 23,
   "id": "b04f5be2-ca94-45bb-a114-a6895bc5eb40",
   "metadata": {},
   "outputs": [
    {
     "name": "stdout",
     "output_type": "stream",
     "text": [
      "[4 5 6]\n"
     ]
    }
   ],
   "source": [
    "print(arr[3:])"
   ]
  },
  {
   "cell_type": "code",
   "execution_count": null,
   "id": "bc2aef15-e518-451d-9d16-6e022a2499a4",
   "metadata": {},
   "outputs": [],
   "source": []
  },
  {
   "cell_type": "markdown",
   "id": "9b195735-ef24-4fe3-9d49-df193c5c7c36",
   "metadata": {},
   "source": [
    "# 문제 4. 배열의 일부 값 변경\n",
    "- 두 번째와 세 번째 값을 10과 20으로 변경: [1, 10, 20, 4, 5]"
   ]
  },
  {
   "cell_type": "code",
   "execution_count": 24,
   "id": "4cd88502-bf35-4988-a368-9ec5fb6f8fa6",
   "metadata": {},
   "outputs": [],
   "source": [
    "arr = np.array([1, 2, 3, 4, 5])"
   ]
  },
  {
   "cell_type": "code",
   "execution_count": 25,
   "id": "0236b558-728c-4921-9104-a1e3b256c03f",
   "metadata": {},
   "outputs": [],
   "source": [
    "# 답지"
   ]
  },
  {
   "cell_type": "code",
   "execution_count": 26,
   "id": "9875579f-c09a-4d67-9756-bc1a39a1aeb3",
   "metadata": {},
   "outputs": [
    {
     "name": "stdout",
     "output_type": "stream",
     "text": [
      "[ 1 10 20  4  5]\n"
     ]
    }
   ],
   "source": [
    "arr[1]=10\n",
    "arr[2]=20\n",
    "print(arr)"
   ]
  },
  {
   "cell_type": "code",
   "execution_count": null,
   "id": "558ae263-7ab4-4960-a7d4-b4d2deaa11e9",
   "metadata": {},
   "outputs": [],
   "source": []
  },
  {
   "cell_type": "markdown",
   "id": "84aef9d2-1888-4309-8144-cbbd734a47c3",
   "metadata": {},
   "source": [
    "# 문제 5. 다차원 배열의 축 기준으로 슬라이싱\n",
    "- 모든 행의 두번째 열 선택"
   ]
  },
  {
   "cell_type": "code",
   "execution_count": 27,
   "id": "8f29654a-ba0a-4836-ac18-e946313012e7",
   "metadata": {},
   "outputs": [],
   "source": [
    "arr = np.array([[1, 2, 3], [4, 5, 6], [7, 8, 9]])"
   ]
  },
  {
   "cell_type": "code",
   "execution_count": 28,
   "id": "2c87490b-2c76-4834-97fe-a9c1e10608fd",
   "metadata": {},
   "outputs": [],
   "source": [
    "# 답지\n",
    "# [2, 5, 8]"
   ]
  },
  {
   "cell_type": "code",
   "execution_count": 29,
   "id": "7dec6f7c-99fa-4377-9545-9b028d0e0a8c",
   "metadata": {},
   "outputs": [
    {
     "name": "stdout",
     "output_type": "stream",
     "text": [
      "2 5 8\n"
     ]
    }
   ],
   "source": [
    "print(arr[0][1],arr[1][1],arr[2][1])"
   ]
  },
  {
   "cell_type": "markdown",
   "id": "d7bc395b-4eec-43a8-96d1-d23af0eba67d",
   "metadata": {},
   "source": [
    "# 문제 6. 복합 조건(여러 조건)을 사용\n",
    "- 2보다 크고 5보다 작은 값 조회"
   ]
  },
  {
   "cell_type": "code",
   "execution_count": 35,
   "id": "e373e8f4-a439-4951-af12-31b4a673f120",
   "metadata": {},
   "outputs": [],
   "source": [
    "arr = np.array([1, 2, 3, 4, 5])\n",
    "filtered_arr = arr[(arr > 2) & (arr < 5)]"
   ]
  },
  {
   "cell_type": "code",
   "execution_count": 32,
   "id": "a4a4c3f4-1ef8-4ae5-9fe1-e9f1a0037407",
   "metadata": {},
   "outputs": [
    {
     "data": {
      "text/plain": [
       "[3, 4]"
      ]
     },
     "execution_count": 32,
     "metadata": {},
     "output_type": "execute_result"
    }
   ],
   "source": [
    "# 2보다 크고 5보다 작은 값\n",
    "\n",
    "# 답지\n",
    "[3, 4]"
   ]
  },
  {
   "cell_type": "code",
   "execution_count": 37,
   "id": "c90ed4f6-8680-4e01-bf67-fbfd6fa5150a",
   "metadata": {},
   "outputs": [
    {
     "name": "stdout",
     "output_type": "stream",
     "text": [
      "[3 4]\n"
     ]
    }
   ],
   "source": [
    "con0 = arr > 2\n",
    "con1 = arr < 5\n",
    "print(arr[con0 & con1])"
   ]
  },
  {
   "cell_type": "markdown",
   "id": "7e132a59-7983-487d-810d-b9dadc5c7a9d",
   "metadata": {},
   "source": [
    "# 문제 7. 다차원 배열에 조건 적용\n",
    "- 4보다 큰 값은 그대로, 나머지는 0으로 대체"
   ]
  },
  {
   "cell_type": "code",
   "execution_count": 59,
   "id": "883e9d58-5ed0-4ed0-84a1-4df2724b2235",
   "metadata": {},
   "outputs": [],
   "source": [
    "arr = np.array([[1, 2, 3], [4, 5, 6], [7, 8, 9]])"
   ]
  },
  {
   "cell_type": "code",
   "execution_count": 39,
   "id": "a067dddf-ae23-4f67-9f38-593e145c6aee",
   "metadata": {},
   "outputs": [
    {
     "data": {
      "text/plain": [
       "[[0, 0, 0], [0, 5, 6], [7, 8, 9]]"
      ]
     },
     "execution_count": 39,
     "metadata": {},
     "output_type": "execute_result"
    }
   ],
   "source": [
    "# 답지\n",
    "[[0, 0, 0], [0, 5, 6], [7, 8, 9]]"
   ]
  },
  {
   "cell_type": "code",
   "execution_count": 42,
   "id": "cc1c7e62-c032-4c44-a82d-e1ed85fea0d6",
   "metadata": {},
   "outputs": [
    {
     "name": "stdout",
     "output_type": "stream",
     "text": [
      "[0 0 0]\n"
     ]
    }
   ],
   "source": [
    "con0 = arr[arr<=4] = 0\n",
    "print(arr[con0])"
   ]
  },
  {
   "cell_type": "code",
   "execution_count": 61,
   "id": "12d1da78-6d92-49d4-a47e-2466f7b1a3ff",
   "metadata": {},
   "outputs": [
    {
     "name": "stdout",
     "output_type": "stream",
     "text": [
      "[[0 0 0]\n",
      " [4 5 6]\n",
      " [7 8 9]]\n"
     ]
    }
   ],
   "source": [
    "result = np.where(arr<4 , arr*0, arr)\n",
    "print(result)"
   ]
  },
  {
   "cell_type": "markdown",
   "id": "b7aa639c-9f18-495f-b304-2ae145f5782e",
   "metadata": {},
   "source": [
    "# 문제 8. series에 numpy 적용1\n",
    "- 주어진 Series에서 값이 50보다 큰 경우에는 1로, 그렇지 않은 경우에는 0으로 변경하시오.\n",
    "- numpy 메서드 이용 (numpy.where)"
   ]
  },
  {
   "cell_type": "code",
   "execution_count": 57,
   "id": "04120d63-279f-42c1-bde8-a3e37bb8ba0d",
   "metadata": {},
   "outputs": [],
   "source": [
    "import pandas as pd\n",
    "import numpy as np\n",
    "\n",
    "# Pandas Series 생성\n",
    "series = pd.Series([10, 55, 30, 70, 45])"
   ]
  },
  {
   "cell_type": "code",
   "execution_count": 44,
   "id": "4cc8b933-f4ac-4cc6-b794-1996c4ceb21c",
   "metadata": {},
   "outputs": [],
   "source": [
    "# 답지\n",
    "# 결과 출력\n",
    "# [0 1 0 1 0] <class 'numpy.ndarray'>"
   ]
  },
  {
   "cell_type": "code",
   "execution_count": 58,
   "id": "5ad138c9-f26a-4c70-90f1-89a2e872a732",
   "metadata": {},
   "outputs": [
    {
     "name": "stdout",
     "output_type": "stream",
     "text": [
      "[0 1 0 1 0]\n"
     ]
    }
   ],
   "source": [
    "result = np.where( series > 50 , 1 , 0)\n",
    "print(result)"
   ]
  },
  {
   "cell_type": "code",
   "execution_count": null,
   "id": "58e5ce2b-9fc7-436d-87e4-f024ecfa66d4",
   "metadata": {},
   "outputs": [],
   "source": []
  },
  {
   "cell_type": "markdown",
   "id": "fc4d757f-159f-4b2a-b60f-7bdba0852a95",
   "metadata": {},
   "source": [
    "# 문제 9. series에 numpy 적용2\n",
    "- 주어진 Series에서 값이 30보다 크고 60보다 작은 경우에는 해당 값에 10을 더하고, 그 외의 값은 그대로 두시오.\n",
    "- numpy 메서드 이용 (numpy.where)"
   ]
  },
  {
   "cell_type": "code",
   "execution_count": 62,
   "id": "1c24c950-3ae6-46b6-b286-6cff7d9280c1",
   "metadata": {},
   "outputs": [],
   "source": [
    "# Pandas Series 생성\n",
    "series = pd.Series([25, 35, 45, 60, 75])"
   ]
  },
  {
   "cell_type": "code",
   "execution_count": 63,
   "id": "6de4a0a2-47df-4b0c-a806-0dc3b4f0ef8d",
   "metadata": {},
   "outputs": [
    {
     "name": "stdout",
     "output_type": "stream",
     "text": [
      "0    25\n",
      "1    45\n",
      "2    55\n",
      "3    60\n",
      "4    75\n",
      "dtype: int64\n"
     ]
    }
   ],
   "source": [
    "# Series 결과 답안\n",
    "result_series = pd.Series([25, 45, 55, 60, 75])\n",
    "\n",
    "# 결과 출력\n",
    "print(result_series)"
   ]
  },
  {
   "cell_type": "code",
   "execution_count": null,
   "id": "001be7d7-0c16-42bd-b3b2-41db2d4be59c",
   "metadata": {},
   "outputs": [],
   "source": [
    "result = pd.Series(np.where(series>30 & series<60))"
   ]
  },
  {
   "cell_type": "markdown",
   "id": "fcf184e2-52b8-40da-807b-76f739e7dafd",
   "metadata": {},
   "source": [
    "# 문제 10. 다중 조건\n",
    "- 주어진 Series에서 cond 리스트에 조건을 정의하고, 각 조건을 만족하는 값에 대해 다른 연산을 수행하여 새로운 Series를 생성하시오.\n",
    "    + cond[0]: 값이 50보다 크면 해당 값을 2배로 증가시킴.\n",
    "    + cond[1]: 값이 30보다 작으면 해당 값을 10으로 변경.\n",
    "    + 그 외의 값은 그대로 유지."
   ]
  },
  {
   "cell_type": "code",
   "execution_count": 55,
   "id": "d253ae00-1a88-4a73-91f1-e0722989c4f0",
   "metadata": {},
   "outputs": [
    {
     "name": "stdout",
     "output_type": "stream",
     "text": [
      "0    25\n",
      "1    45\n",
      "2    55\n",
      "3    60\n",
      "4    75\n",
      "dtype: int64\n"
     ]
    }
   ],
   "source": [
    "series = pd.Series([25, 45, 55, 60, 75])"
   ]
  },
  {
   "cell_type": "code",
   "execution_count": 20,
   "id": "b8673339-38e1-4982-ab2f-23b6b36e49a8",
   "metadata": {},
   "outputs": [
    {
     "data": {
      "text/plain": [
       "0     10\n",
       "1     45\n",
       "2    110\n",
       "3    120\n",
       "4    150\n",
       "dtype: int64"
      ]
     },
     "execution_count": 20,
     "metadata": {},
     "output_type": "execute_result"
    }
   ],
   "source": [
    "# 결과 답안\n",
    "pd.Series([10, 45, 110, 120, 150])"
   ]
  }
 ],
 "metadata": {
  "kernelspec": {
   "display_name": "Python 3 (ipykernel)",
   "language": "python",
   "name": "python3"
  },
  "language_info": {
   "codemirror_mode": {
    "name": "ipython",
    "version": 3
   },
   "file_extension": ".py",
   "mimetype": "text/x-python",
   "name": "python",
   "nbconvert_exporter": "python",
   "pygments_lexer": "ipython3",
   "version": "3.12.6"
  }
 },
 "nbformat": 4,
 "nbformat_minor": 5
}
