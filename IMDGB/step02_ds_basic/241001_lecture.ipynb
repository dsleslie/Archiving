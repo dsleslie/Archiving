{
 "cells": [
  {
   "cell_type": "code",
   "execution_count": 1,
   "id": "f8ccbcf9-c978-4942-8bcb-6813dcd48467",
   "metadata": {},
   "outputs": [],
   "source": [
    "import pandas as pd\n",
    "import numpy as np"
   ]
  },
  {
   "cell_type": "code",
   "execution_count": 14,
   "id": "bbdf0b25-51be-49a7-bc92-a08ca09c9f6f",
   "metadata": {},
   "outputs": [
    {
     "data": {
      "text/html": [
       "<div>\n",
       "<style scoped>\n",
       "    .dataframe tbody tr th:only-of-type {\n",
       "        vertical-align: middle;\n",
       "    }\n",
       "\n",
       "    .dataframe tbody tr th {\n",
       "        vertical-align: top;\n",
       "    }\n",
       "\n",
       "    .dataframe thead th {\n",
       "        text-align: right;\n",
       "    }\n",
       "</style>\n",
       "<table border=\"1\" class=\"dataframe\">\n",
       "  <thead>\n",
       "    <tr style=\"text-align: right;\">\n",
       "      <th></th>\n",
       "      <th>ACC_YEAR</th>\n",
       "      <th>SGG_CD</th>\n",
       "      <th>SGG_NM</th>\n",
       "      <th>BJDONG_CD</th>\n",
       "      <th>BJDONG_NM</th>\n",
       "      <th>LAND_GBN</th>\n",
       "      <th>LAND_GBN_NM</th>\n",
       "      <th>BONBEON</th>\n",
       "      <th>BUBEON</th>\n",
       "      <th>BLDG_NM</th>\n",
       "      <th>...</th>\n",
       "      <th>OBJ_AMT</th>\n",
       "      <th>BLDG_AREA</th>\n",
       "      <th>TOT_AREA</th>\n",
       "      <th>FLOOR</th>\n",
       "      <th>RIGHT_GBN</th>\n",
       "      <th>CNTL_YMD</th>\n",
       "      <th>BUILD_YEAR</th>\n",
       "      <th>HOUSE_TYPE</th>\n",
       "      <th>REQ_GBN</th>\n",
       "      <th>RDEALER_LAWDNM</th>\n",
       "    </tr>\n",
       "  </thead>\n",
       "  <tbody>\n",
       "    <tr>\n",
       "      <th>0</th>\n",
       "      <td>2023</td>\n",
       "      <td>11650</td>\n",
       "      <td>서초구</td>\n",
       "      <td>10800</td>\n",
       "      <td>서초동</td>\n",
       "      <td>1.0</td>\n",
       "      <td>대지</td>\n",
       "      <td>1328.0</td>\n",
       "      <td>11.0</td>\n",
       "      <td>대우도씨에빛2</td>\n",
       "      <td>...</td>\n",
       "      <td>38500</td>\n",
       "      <td>38.81</td>\n",
       "      <td>50.85</td>\n",
       "      <td>14.0</td>\n",
       "      <td>NaN</td>\n",
       "      <td>NaN</td>\n",
       "      <td>2005.0</td>\n",
       "      <td>오피스텔</td>\n",
       "      <td>중개거래</td>\n",
       "      <td>서울 서초구</td>\n",
       "    </tr>\n",
       "    <tr>\n",
       "      <th>1</th>\n",
       "      <td>2023</td>\n",
       "      <td>11620</td>\n",
       "      <td>관악구</td>\n",
       "      <td>10200</td>\n",
       "      <td>신림동</td>\n",
       "      <td>1.0</td>\n",
       "      <td>대지</td>\n",
       "      <td>1567.0</td>\n",
       "      <td>25.0</td>\n",
       "      <td>태성휴빌3차</td>\n",
       "      <td>...</td>\n",
       "      <td>17200</td>\n",
       "      <td>24.76</td>\n",
       "      <td>15.99</td>\n",
       "      <td>6.0</td>\n",
       "      <td>NaN</td>\n",
       "      <td>NaN</td>\n",
       "      <td>2015.0</td>\n",
       "      <td>연립다세대</td>\n",
       "      <td>직거래</td>\n",
       "      <td>NaN</td>\n",
       "    </tr>\n",
       "    <tr>\n",
       "      <th>2</th>\n",
       "      <td>2023</td>\n",
       "      <td>11530</td>\n",
       "      <td>구로구</td>\n",
       "      <td>10200</td>\n",
       "      <td>구로동</td>\n",
       "      <td>1.0</td>\n",
       "      <td>대지</td>\n",
       "      <td>44.0</td>\n",
       "      <td>8.0</td>\n",
       "      <td>비즈트위트 오렌지</td>\n",
       "      <td>...</td>\n",
       "      <td>12000</td>\n",
       "      <td>17.81</td>\n",
       "      <td>26.91</td>\n",
       "      <td>18.0</td>\n",
       "      <td>NaN</td>\n",
       "      <td>NaN</td>\n",
       "      <td>2013.0</td>\n",
       "      <td>오피스텔</td>\n",
       "      <td>직거래</td>\n",
       "      <td>NaN</td>\n",
       "    </tr>\n",
       "    <tr>\n",
       "      <th>3</th>\n",
       "      <td>2023</td>\n",
       "      <td>11410</td>\n",
       "      <td>서대문구</td>\n",
       "      <td>11800</td>\n",
       "      <td>홍은동</td>\n",
       "      <td>NaN</td>\n",
       "      <td>NaN</td>\n",
       "      <td>NaN</td>\n",
       "      <td>NaN</td>\n",
       "      <td>NaN</td>\n",
       "      <td>...</td>\n",
       "      <td>45000</td>\n",
       "      <td>39.67</td>\n",
       "      <td>142.00</td>\n",
       "      <td>0.0</td>\n",
       "      <td>NaN</td>\n",
       "      <td>NaN</td>\n",
       "      <td>1988.0</td>\n",
       "      <td>단독다가구</td>\n",
       "      <td>중개거래</td>\n",
       "      <td>서울 서대문구</td>\n",
       "    </tr>\n",
       "    <tr>\n",
       "      <th>4</th>\n",
       "      <td>2023</td>\n",
       "      <td>11380</td>\n",
       "      <td>은평구</td>\n",
       "      <td>11400</td>\n",
       "      <td>진관동</td>\n",
       "      <td>1.0</td>\n",
       "      <td>대지</td>\n",
       "      <td>100.0</td>\n",
       "      <td>3.0</td>\n",
       "      <td>아이파크 포레스트 게이트</td>\n",
       "      <td>...</td>\n",
       "      <td>14400</td>\n",
       "      <td>24.91</td>\n",
       "      <td>35.78</td>\n",
       "      <td>24.0</td>\n",
       "      <td>NaN</td>\n",
       "      <td>NaN</td>\n",
       "      <td>2013.0</td>\n",
       "      <td>오피스텔</td>\n",
       "      <td>중개거래</td>\n",
       "      <td>서울 은평구</td>\n",
       "    </tr>\n",
       "    <tr>\n",
       "      <th>...</th>\n",
       "      <td>...</td>\n",
       "      <td>...</td>\n",
       "      <td>...</td>\n",
       "      <td>...</td>\n",
       "      <td>...</td>\n",
       "      <td>...</td>\n",
       "      <td>...</td>\n",
       "      <td>...</td>\n",
       "      <td>...</td>\n",
       "      <td>...</td>\n",
       "      <td>...</td>\n",
       "      <td>...</td>\n",
       "      <td>...</td>\n",
       "      <td>...</td>\n",
       "      <td>...</td>\n",
       "      <td>...</td>\n",
       "      <td>...</td>\n",
       "      <td>...</td>\n",
       "      <td>...</td>\n",
       "      <td>...</td>\n",
       "      <td>...</td>\n",
       "    </tr>\n",
       "    <tr>\n",
       "      <th>10995</th>\n",
       "      <td>2023</td>\n",
       "      <td>11290</td>\n",
       "      <td>성북구</td>\n",
       "      <td>13900</td>\n",
       "      <td>석관동</td>\n",
       "      <td>1.0</td>\n",
       "      <td>대지</td>\n",
       "      <td>10.0</td>\n",
       "      <td>0.0</td>\n",
       "      <td>두산</td>\n",
       "      <td>...</td>\n",
       "      <td>97000</td>\n",
       "      <td>164.92</td>\n",
       "      <td>0.00</td>\n",
       "      <td>5.0</td>\n",
       "      <td>NaN</td>\n",
       "      <td>NaN</td>\n",
       "      <td>1998.0</td>\n",
       "      <td>아파트</td>\n",
       "      <td>중개거래</td>\n",
       "      <td>서울 성북구</td>\n",
       "    </tr>\n",
       "    <tr>\n",
       "      <th>10996</th>\n",
       "      <td>2023</td>\n",
       "      <td>11740</td>\n",
       "      <td>강동구</td>\n",
       "      <td>10900</td>\n",
       "      <td>천호동</td>\n",
       "      <td>1.0</td>\n",
       "      <td>대지</td>\n",
       "      <td>201.0</td>\n",
       "      <td>3.0</td>\n",
       "      <td>이스투아빌</td>\n",
       "      <td>...</td>\n",
       "      <td>37900</td>\n",
       "      <td>40.47</td>\n",
       "      <td>26.60</td>\n",
       "      <td>5.0</td>\n",
       "      <td>NaN</td>\n",
       "      <td>NaN</td>\n",
       "      <td>2023.0</td>\n",
       "      <td>연립다세대</td>\n",
       "      <td>직거래</td>\n",
       "      <td>NaN</td>\n",
       "    </tr>\n",
       "    <tr>\n",
       "      <th>10997</th>\n",
       "      <td>2023</td>\n",
       "      <td>11350</td>\n",
       "      <td>노원구</td>\n",
       "      <td>10300</td>\n",
       "      <td>공릉동</td>\n",
       "      <td>1.0</td>\n",
       "      <td>대지</td>\n",
       "      <td>747.0</td>\n",
       "      <td>0.0</td>\n",
       "      <td>두산힐스빌아파트</td>\n",
       "      <td>...</td>\n",
       "      <td>85000</td>\n",
       "      <td>114.72</td>\n",
       "      <td>0.00</td>\n",
       "      <td>13.0</td>\n",
       "      <td>NaN</td>\n",
       "      <td>NaN</td>\n",
       "      <td>2000.0</td>\n",
       "      <td>아파트</td>\n",
       "      <td>중개거래</td>\n",
       "      <td>서울 노원구</td>\n",
       "    </tr>\n",
       "    <tr>\n",
       "      <th>10998</th>\n",
       "      <td>2023</td>\n",
       "      <td>11500</td>\n",
       "      <td>강서구</td>\n",
       "      <td>10200</td>\n",
       "      <td>등촌동</td>\n",
       "      <td>1.0</td>\n",
       "      <td>대지</td>\n",
       "      <td>707.0</td>\n",
       "      <td>0.0</td>\n",
       "      <td>등촌7,8단지주공아파트</td>\n",
       "      <td>...</td>\n",
       "      <td>50000</td>\n",
       "      <td>41.85</td>\n",
       "      <td>0.00</td>\n",
       "      <td>7.0</td>\n",
       "      <td>NaN</td>\n",
       "      <td>NaN</td>\n",
       "      <td>1994.0</td>\n",
       "      <td>아파트</td>\n",
       "      <td>중개거래</td>\n",
       "      <td>서울 강서구, 서울 도봉구</td>\n",
       "    </tr>\n",
       "    <tr>\n",
       "      <th>10999</th>\n",
       "      <td>2023</td>\n",
       "      <td>11500</td>\n",
       "      <td>강서구</td>\n",
       "      <td>10200</td>\n",
       "      <td>등촌동</td>\n",
       "      <td>1.0</td>\n",
       "      <td>대지</td>\n",
       "      <td>715.0</td>\n",
       "      <td>0.0</td>\n",
       "      <td>등촌동아이파크</td>\n",
       "      <td>...</td>\n",
       "      <td>87000</td>\n",
       "      <td>85.00</td>\n",
       "      <td>0.00</td>\n",
       "      <td>11.0</td>\n",
       "      <td>NaN</td>\n",
       "      <td>NaN</td>\n",
       "      <td>2004.0</td>\n",
       "      <td>아파트</td>\n",
       "      <td>중개거래</td>\n",
       "      <td>서울 강서구</td>\n",
       "    </tr>\n",
       "  </tbody>\n",
       "</table>\n",
       "<p>11000 rows × 21 columns</p>\n",
       "</div>"
      ],
      "text/plain": [
       "       ACC_YEAR  SGG_CD SGG_NM  BJDONG_CD BJDONG_NM  LAND_GBN LAND_GBN_NM  \\\n",
       "0          2023   11650    서초구      10800       서초동       1.0          대지   \n",
       "1          2023   11620    관악구      10200       신림동       1.0          대지   \n",
       "2          2023   11530    구로구      10200       구로동       1.0          대지   \n",
       "3          2023   11410   서대문구      11800       홍은동       NaN         NaN   \n",
       "4          2023   11380    은평구      11400       진관동       1.0          대지   \n",
       "...         ...     ...    ...        ...       ...       ...         ...   \n",
       "10995      2023   11290    성북구      13900       석관동       1.0          대지   \n",
       "10996      2023   11740    강동구      10900       천호동       1.0          대지   \n",
       "10997      2023   11350    노원구      10300       공릉동       1.0          대지   \n",
       "10998      2023   11500    강서구      10200       등촌동       1.0          대지   \n",
       "10999      2023   11500    강서구      10200       등촌동       1.0          대지   \n",
       "\n",
       "       BONBEON  BUBEON        BLDG_NM  ...  OBJ_AMT  BLDG_AREA  TOT_AREA  \\\n",
       "0       1328.0    11.0        대우도씨에빛2  ...    38500      38.81     50.85   \n",
       "1       1567.0    25.0         태성휴빌3차  ...    17200      24.76     15.99   \n",
       "2         44.0     8.0      비즈트위트 오렌지  ...    12000      17.81     26.91   \n",
       "3          NaN     NaN            NaN  ...    45000      39.67    142.00   \n",
       "4        100.0     3.0  아이파크 포레스트 게이트  ...    14400      24.91     35.78   \n",
       "...        ...     ...            ...  ...      ...        ...       ...   \n",
       "10995     10.0     0.0             두산  ...    97000     164.92      0.00   \n",
       "10996    201.0     3.0          이스투아빌  ...    37900      40.47     26.60   \n",
       "10997    747.0     0.0       두산힐스빌아파트  ...    85000     114.72      0.00   \n",
       "10998    707.0     0.0   등촌7,8단지주공아파트  ...    50000      41.85      0.00   \n",
       "10999    715.0     0.0        등촌동아이파크  ...    87000      85.00      0.00   \n",
       "\n",
       "       FLOOR  RIGHT_GBN CNTL_YMD  BUILD_YEAR  HOUSE_TYPE REQ_GBN  \\\n",
       "0       14.0        NaN      NaN      2005.0        오피스텔    중개거래   \n",
       "1        6.0        NaN      NaN      2015.0       연립다세대     직거래   \n",
       "2       18.0        NaN      NaN      2013.0        오피스텔     직거래   \n",
       "3        0.0        NaN      NaN      1988.0       단독다가구    중개거래   \n",
       "4       24.0        NaN      NaN      2013.0        오피스텔    중개거래   \n",
       "...      ...        ...      ...         ...         ...     ...   \n",
       "10995    5.0        NaN      NaN      1998.0         아파트    중개거래   \n",
       "10996    5.0        NaN      NaN      2023.0       연립다세대     직거래   \n",
       "10997   13.0        NaN      NaN      2000.0         아파트    중개거래   \n",
       "10998    7.0        NaN      NaN      1994.0         아파트    중개거래   \n",
       "10999   11.0        NaN      NaN      2004.0         아파트    중개거래   \n",
       "\n",
       "       RDEALER_LAWDNM  \n",
       "0              서울 서초구  \n",
       "1                 NaN  \n",
       "2                 NaN  \n",
       "3             서울 서대문구  \n",
       "4              서울 은평구  \n",
       "...               ...  \n",
       "10995          서울 성북구  \n",
       "10996             NaN  \n",
       "10997          서울 노원구  \n",
       "10998  서울 강서구, 서울 도봉구  \n",
       "10999          서울 강서구  \n",
       "\n",
       "[11000 rows x 21 columns]"
      ]
     },
     "execution_count": 14,
     "metadata": {},
     "output_type": "execute_result"
    }
   ],
   "source": [
    "estate=pd.read_csv(\"seoul_real_estate.csv\")\n",
    "estate"
   ]
  },
  {
   "cell_type": "code",
   "execution_count": 6,
   "id": "42bd9368-a702-4323-b323-04efdde31c97",
   "metadata": {},
   "outputs": [
    {
     "name": "stdout",
     "output_type": "stream",
     "text": [
      "<class 'pandas.core.frame.DataFrame'>\n",
      "RangeIndex: 3 entries, 0 to 2\n",
      "Data columns (total 3 columns):\n",
      " #   Column  Non-Null Count  Dtype \n",
      "---  ------  --------------  ----- \n",
      " 0   03/02   3 non-null      object\n",
      " 1   03/03   3 non-null      object\n",
      " 2   03/04   3 non-null      object\n",
      "dtypes: object(3)\n",
      "memory usage: 204.0+ bytes\n"
     ]
    }
   ],
   "source": [
    "# 03/02 , 03/03 컬럼만 int 형으로 변경\n",
    "# 데이터프레임 생성\n",
    "data = [\n",
    "    [\"1,000\", \"1,100\", '1,510'],\n",
    "    [\"1,410\", \"1,420\", '1,790'],\n",
    "    [\"850\", \"900\", '1,185'],\n",
    "]\n",
    "columns = [\"03/02\", \"03/03\", \"03/04\"]\n",
    "df = pd.DataFrame(data=data, columns=columns)\n",
    "df.info()"
   ]
  },
  {
   "cell_type": "code",
   "execution_count": 7,
   "id": "496733b8-cf2c-4a5a-aa44-287f845cfcd1",
   "metadata": {},
   "outputs": [
    {
     "data": {
      "text/plain": [
       "'1000'"
      ]
     },
     "execution_count": 7,
     "metadata": {},
     "output_type": "execute_result"
    }
   ],
   "source": [
    "x = \"1,000\" # 애를 먼저 int로 바꿔보자\n",
    "x.replace(\",\" ,\"\")"
   ]
  },
  {
   "cell_type": "code",
   "execution_count": 8,
   "id": "4264c592-a925-4690-a612-ee0f51b22102",
   "metadata": {},
   "outputs": [],
   "source": [
    "# 먼저 쉼표 제거 했음"
   ]
  },
  {
   "cell_type": "code",
   "execution_count": 10,
   "id": "3fa8dfbc-ab51-4946-bb7b-32e1a7e1d04c",
   "metadata": {},
   "outputs": [
    {
     "data": {
      "text/plain": [
       "1000"
      ]
     },
     "execution_count": 10,
     "metadata": {},
     "output_type": "execute_result"
    }
   ],
   "source": [
    "int(x.replace(\",\",\"\")) # 형 변환함! 이걸 사용자 정의 함수로 써서 할거임"
   ]
  },
  {
   "cell_type": "code",
   "execution_count": 11,
   "id": "eb995080-a613-48e8-88da-88896359d8b3",
   "metadata": {},
   "outputs": [
    {
     "name": "stdout",
     "output_type": "stream",
     "text": [
      "1000\n"
     ]
    }
   ],
   "source": [
    "# 사용자 정의 함수\n",
    "def rm_comma(x):\n",
    "    return int(x.replace(\",\",\"\"))\n",
    "\n",
    "# 사용자 정의 함수 잘 돌아가는 지 확인\n",
    "y = \"1,000\"\n",
    "print(rm_comma(y))"
   ]
  },
  {
   "cell_type": "code",
   "execution_count": 12,
   "id": "cdc12045-4631-45f4-b4c6-964d42bb0fac",
   "metadata": {},
   "outputs": [],
   "source": [
    "# 이 단계를 거쳐서 하고, pandas 확인"
   ]
  },
  {
   "cell_type": "code",
   "execution_count": 13,
   "id": "f06f37e6-caa8-4b2d-8ff0-547f73cd75b6",
   "metadata": {},
   "outputs": [
    {
     "name": "stdout",
     "output_type": "stream",
     "text": [
      "<class 'pandas.core.frame.DataFrame'>\n",
      "RangeIndex: 3 entries, 0 to 2\n",
      "Data columns (total 3 columns):\n",
      " #   Column  Non-Null Count  Dtype \n",
      "---  ------  --------------  ----- \n",
      " 0   03/02   3 non-null      int64 \n",
      " 1   03/03   3 non-null      int64 \n",
      " 2   03/04   3 non-null      object\n",
      "dtypes: int64(2), object(1)\n",
      "memory usage: 204.0+ bytes\n"
     ]
    }
   ],
   "source": [
    "df[\"03/02\"] = df[\"03/02\"].apply(rm_comma)\n",
    "df[\"03/03\"] = df[\"03/03\"].apply(rm_comma)\n",
    "df.info()"
   ]
  },
  {
   "cell_type": "markdown",
   "id": "ff44e3a5-ecd7-44a0-8e18-4fa9a5d872b4",
   "metadata": {},
   "source": [
    "# 데이터 시각화"
   ]
  },
  {
   "cell_type": "code",
   "execution_count": 15,
   "id": "254164ad-4056-479b-88df-67e4017ed83c",
   "metadata": {},
   "outputs": [],
   "source": [
    "import seaborn as sns"
   ]
  },
  {
   "cell_type": "code",
   "execution_count": 16,
   "id": "b6047f96-be42-4baa-be40-05d76064996f",
   "metadata": {},
   "outputs": [
    {
     "data": {
      "text/plain": [
       "'0.13.2'"
      ]
     },
     "execution_count": 16,
     "metadata": {},
     "output_type": "execute_result"
    }
   ],
   "source": [
    "sns.__version__"
   ]
  },
  {
   "cell_type": "code",
   "execution_count": 17,
   "id": "8ec21534-9225-4183-9dca-f5da778eec6e",
   "metadata": {},
   "outputs": [],
   "source": [
    "# 빠른 시간 안에, 예쁘게 만드는 게 중요함"
   ]
  },
  {
   "cell_type": "code",
   "execution_count": 40,
   "id": "b2e3bc1c-d036-423d-9d8e-192599a27784",
   "metadata": {},
   "outputs": [],
   "source": [
    "import matplotlib\n",
    "#from matplotlib import pyplot as plt\n",
    "import matplotlib.pyplot as plt\n",
    "%matplotlib inline"
   ]
  },
  {
   "cell_type": "code",
   "execution_count": 43,
   "id": "37dd4f4c-1b64-4254-bd0d-fc62ea16eaaa",
   "metadata": {},
   "outputs": [
    {
     "ename": "AttributeError",
     "evalue": "'numpy.ndarray' object has no attribute 'plot'",
     "output_type": "error",
     "traceback": [
      "\u001b[1;31m---------------------------------------------------------------------------\u001b[0m",
      "\u001b[1;31mAttributeError\u001b[0m                            Traceback (most recent call last)",
      "Cell \u001b[1;32mIn[43], line 11\u001b[0m\n\u001b[0;32m      9\u001b[0m fig, ax  \u001b[38;5;241m=\u001b[39m plt\u001b[38;5;241m.\u001b[39msubplots(nrows\u001b[38;5;241m=\u001b[39m\u001b[38;5;241m2\u001b[39m, ncols\u001b[38;5;241m=\u001b[39m\u001b[38;5;241m1\u001b[39m, figsize\u001b[38;5;241m=\u001b[39m(\u001b[38;5;241m10\u001b[39m,\u001b[38;5;241m6\u001b[39m)) \u001b[38;5;66;03m# 축, 그래프 사이즈 등 지정\u001b[39;00m\n\u001b[0;32m     10\u001b[0m \u001b[38;5;66;03m# fig 건드릴 일 없음. ax 는 보통 건드림. ax가 artist layer\u001b[39;00m\n\u001b[1;32m---> 11\u001b[0m \u001b[43max\u001b[49m\u001b[38;5;241;43m.\u001b[39;49m\u001b[43mplot\u001b[49m(dates, min_temperature, label \u001b[38;5;241m=\u001b[39m \u001b[38;5;124m\"\u001b[39m\u001b[38;5;124mMin Temp\u001b[39m\u001b[38;5;124m\"\u001b[39m)\n\u001b[0;32m     12\u001b[0m plt\u001b[38;5;241m.\u001b[39mshow()\n",
      "\u001b[1;31mAttributeError\u001b[0m: 'numpy.ndarray' object has no attribute 'plot'"
     ]
    },
    {
     "data": {
      "image/png": "[encoded data removed]",
      "text/plain": [
       "<Figure size 1000x600 with 2 Axes>"
      ]
     },
     "metadata": {},
     "output_type": "display_data"
    }
   ],
   "source": [
    "dates = [\n",
    "    '2021-01-01', '2021-01-02', '2021-01-03', '2021-01-04', '2021-01-05',\n",
    "    '2021-01-06', '2021-01-07', '2021-01-08', '2021-01-09', '2021-01-10'\n",
    "] # 지금 자료형이 list임. matpolitlib은 기본적으로 list를 받음. dataframe으로 작업하던 걸 list로 변환해야함. \n",
    "min_temperature = [20.7, 17.9, 18.8, 14.6, 15.8, 15.8, 15.8, 17.4, 21.8, 20.0]\n",
    "max_temperature = [34.7, 28.9, 31.8, 25.6, 28.8, 21.8, 22.8, 28.4, 30.8, 32.0]\n",
    "\n",
    "# 객체 지향으로 작성하겠다.\n",
    "fig, ax  = plt.subplots(nrows=2, ncols=1, figsize=(10,6)) # 축, 그래프 사이즈 등 지정\n",
    "# fig 건드릴 일 없음. ax 는 보통 건드림. ax가 artist layer\n",
    "ax.plot(dates, min_temperature, label = \"Min Temp\")\n",
    "plt.show()\n",
    "\n",
    "# 얘 왜 안되냐!!!!!!!!!!!"
   ]
  },
  {
   "cell_type": "code",
   "execution_count": 45,
   "id": "f080a0df-464a-4d5e-9dd1-52763d8afc6f",
   "metadata": {},
   "outputs": [
    {
     "data": {
      "image/png": "[encoded data removed]",
      "text/plain": [
       "<Figure size 1000x600 with 1 Axes>"
      ]
     },
     "metadata": {},
     "output_type": "display_data"
    }
   ],
   "source": [
    "fig, ax = plt.subplots(nrows = 1, ncols = 1, figsize=(10, 6))\n",
    "ax.plot(dates, min_temperature, label = \"Min Temp\")\n",
    "ax.plot(dates, max_temperature, label = \"Max Temp\")\n",
    "ax.legend()\n",
    "plt.show()"
   ]
  },
  {
   "cell_type": "code",
   "execution_count": 46,
   "id": "7f1474d0-ed77-4887-937f-cdfb42b6300d",
   "metadata": {},
   "outputs": [
    {
     "name": "stdout",
     "output_type": "stream",
     "text": [
      "Figure(1000x600)\n",
      "Axes(0.125,0.11;0.775x0.77)\n"
     ]
    }
   ],
   "source": [
    "print(fig)\n",
    "print(ax)"
   ]
  },
  {
   "cell_type": "code",
   "execution_count": 47,
   "id": "03fd9e11-da85-4575-aab1-ea8974ef654f",
   "metadata": {},
   "outputs": [],
   "source": [
    "# Figure (차트 사이즈)\n",
    "# Axes ( 그래프 라인들 의미 <- 이해 어렵)"
   ]
  },
  {
   "cell_type": "code",
   "execution_count": 52,
   "id": "86246d09-24ad-4528-9b40-07438d390e84",
   "metadata": {},
   "outputs": [
    {
     "ename": "ModuleNotFoundError",
     "evalue": "No module named 'yfinance'",
     "output_type": "error",
     "traceback": [
      "\u001b[1;31m---------------------------------------------------------------------------\u001b[0m",
      "\u001b[1;31mModuleNotFoundError\u001b[0m                       Traceback (most recent call last)",
      "Cell \u001b[1;32mIn[52], line 2\u001b[0m\n\u001b[0;32m      1\u001b[0m \u001b[38;5;66;03m# Yahoo API에서 무료 주식 데이터 가져오기\u001b[39;00m\n\u001b[1;32m----> 2\u001b[0m \u001b[38;5;28;01mimport\u001b[39;00m \u001b[38;5;21;01myfinance\u001b[39;00m \u001b[38;5;28;01mas\u001b[39;00m \u001b[38;5;21;01myf\u001b[39;00m\n",
      "\u001b[1;31mModuleNotFoundError\u001b[0m: No module named 'yfinance'"
     ]
    }
   ],
   "source": [
    "# Yahoo API에서 무료 주식 데이터 가져오기\n",
    "\n",
    "import yfinance as yf\n"
   ]
  },
  {
   "cell_type": "code",
   "execution_count": null,
   "id": "1bce7e34-4f52-48fe-a704-8a79d08c6e15",
   "metadata": {},
   "outputs": [],
   "source": [
    "apple = yf.download(\"AAPL\", start = \"2020-01-01\", end=\"2024-09-30\")\n",
    "apple"
   ]
  },
  {
   "cell_type": "code",
   "execution_count": null,
   "id": "0fcc5ef8-86be-4ae2-b40a-02f515f4c3a0",
   "metadata": {},
   "outputs": [],
   "source": []
  },
  {
   "cell_type": "code",
   "execution_count": null,
   "id": "497deb10-65c7-48ea-8c77-e044ad70ddca",
   "metadata": {},
   "outputs": [],
   "source": []
  },
  {
   "cell_type": "code",
   "execution_count": null,
   "id": "3ede42c9-9498-425d-9d39-ad5637cfd2b1",
   "metadata": {},
   "outputs": [],
   "source": []
  },
  {
   "cell_type": "code",
   "execution_count": null,
   "id": "396f7d33-e6dd-43d8-aeee-9cdf11f4717e",
   "metadata": {},
   "outputs": [],
   "source": []
  },
  {
   "cell_type": "code",
   "execution_count": null,
   "id": "a8cdc1f4-3f4f-4efc-b3f6-4c6f48a4955e",
   "metadata": {},
   "outputs": [],
   "source": []
  }
 ],
 "metadata": {
  "kernelspec": {
   "display_name": "Python 3 (ipykernel)",
   "language": "python",
   "name": "python3"
  },
  "language_info": {
   "codemirror_mode": {
    "name": "ipython",
    "version": 3
   },
   "file_extension": ".py",
   "mimetype": "text/x-python",
   "name": "python",
   "nbconvert_exporter": "python",
   "pygments_lexer": "ipython3",
   "version": "3.12.6"
  }
 },
 "nbformat": 4,
 "nbformat_minor": 5
}
