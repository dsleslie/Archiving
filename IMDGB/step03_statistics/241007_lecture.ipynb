{
 "cells": [
  {
   "cell_type": "markdown",
   "metadata": {
    "id": "VFwQs6Jpi8_A"
   },
   "source": [
    "# Google Colab 한글 폰트 설치"
   ]
  },
  {
   "cell_type": "code",
   "execution_count": 6,
   "metadata": {
    "colab": {
     "base_uri": "https://localhost:8080/"
    },
    "id": "Yvj4_gyhi6VJ",
    "outputId": "166384d0-9de5-44e4-aa63-bd8b4056ed22"
   },
   "outputs": [],
   "source": [
    "#import sys\n",
    "\n",
    "# Google Colab 환경에서 실행 중인지 확인\n",
    "#if 'google.colab' in sys.modules:\n",
    "    # debconf를 Noninteractive 모드로 설정\n",
    " #   !echo 'debconf debconf/frontend select Noninteractive' | \\\n",
    "  #  debconf-set-selections\n",
    "\n",
    "    # fonts-nanum 패키지를 설치\n",
    "   # !sudo apt-get -qq -y install fonts-nanum\n",
    "\n",
    "    # Matplotlib의 폰트 매니저 가져오기\n",
    "    #import matplotlib.font_manager as fm\n",
    "\n",
    "    # 나눔 폰트의 시스템 경로 찾기\n",
    "    #font_files = fm.findSystemFonts(fontpaths=['/usr/share/fonts/truetype/nanum'])\n",
    "\n",
    "    # 찾은 각 나눔 폰트를 Matplotlib 폰트 매니저에 추가\n",
    "    #for fpath in font_files:\n",
    "     #   fm.fontManager.addfont(fpath)"
   ]
  },
  {
   "cell_type": "code",
   "execution_count": 3,
   "metadata": {
    "colab": {
     "base_uri": "https://localhost:8080/"
    },
    "id": "JTopSdDDpro9",
    "outputId": "d80d2dcd-ac92-455d-f75f-85fc64b8e867"
   },
   "outputs": [
    {
     "name": "stdout",
     "output_type": "stream",
     "text": [
      "['NanumBarunGothic'] 11.0\n"
     ]
    }
   ],
   "source": [
    "#import matplotlib.pyplot as plt\n",
    "\n",
    "#plt.rcParams['font.family'] = 'NanumGothic'    #사용 방법1\n",
    "#plt.rc('font', family='NanumBarunGothic', size=11) #사용 방법2\n",
    "#print(plt.rcParams['font.family'], plt.rcParams['font.size'])   # 폰트확인"
   ]
  },
  {
   "cell_type": "markdown",
   "metadata": {
    "id": "aNHYHG2Vptrd"
   },
   "source": [
    "- 테스트"
   ]
  },
  {
   "cell_type": "code",
   "execution_count": 7,
   "metadata": {},
   "outputs": [],
   "source": [
    "# 한글 폰트 실행\n",
    "from matplotlib import rcParams\n",
    "from matplotlib import font_manager,rc\n",
    "rcParams['axes.unicode_minus']=False\n",
    "plt.rcParams['font.family']='Malgun Gothic'\n",
    "font_name=font_manager.FontProperties(fname='c:/Windows/Fonts/malgun.ttf').get_name()\n",
    "rc('font',family=font_name)"
   ]
  },
  {
   "cell_type": "code",
   "execution_count": 8,
   "metadata": {
    "colab": {
     "base_uri": "https://localhost:8080/",
     "height": 455
    },
    "id": "Q25lV0i1ps0e",
    "outputId": "57a45e7c-d955-423b-cca8-c617563e3779"
   },
   "outputs": [
    {
     "data": {
      "image/png": "[encoded data removed]",
      "text/plain": [
       "<Figure size 640x480 with 1 Axes>"
      ]
     },
     "metadata": {},
     "output_type": "display_data"
    }
   ],
   "source": [
    "plt.plot([1, 2, 3])\n",
    "plt.title(\"한글 잘 나옵니까?\")\n",
    "plt.show()"
   ]
  },
  {
   "cell_type": "code",
   "execution_count": null,
   "metadata": {},
   "outputs": [],
   "source": []
  },
  {
   "cell_type": "markdown",
   "metadata": {
    "id": "mxS6ciZ4pyB9"
   },
   "source": [
    "# Google Colab과 드라이브 연동"
   ]
  },
  {
   "cell_type": "code",
   "execution_count": 9,
   "metadata": {
    "colab": {
     "base_uri": "https://localhost:8080/"
    },
    "id": "LvSC43A0p0Gg",
    "outputId": "f0fcb7dd-1a20-4ee8-8461-a1ffc6740351"
   },
   "outputs": [],
   "source": [
    "#from google.colab import drive\n",
    "#drive.mount(\"/content/drive\")"
   ]
  },
  {
   "cell_type": "markdown",
   "metadata": {
    "id": "oNxQuefLkLVw"
   },
   "source": [
    "# z-검정, t-검정\n",
    "- 평균 차이 검정\n",
    "- z검정\n",
    "  + 모수의 분산, 표준편차 등을 알고 있어야 함"
   ]
  },
  {
   "cell_type": "code",
   "execution_count": 10,
   "metadata": {
    "colab": {
     "base_uri": "https://localhost:8080/",
     "height": 206
    },
    "id": "S1W0-MpMlOxk",
    "outputId": "3b4355b2-0cbf-4040-b157-567fc671dd85"
   },
   "outputs": [
    {
     "data": {
      "text/html": [
       "<div>\n",
       "<style scoped>\n",
       "    .dataframe tbody tr th:only-of-type {\n",
       "        vertical-align: middle;\n",
       "    }\n",
       "\n",
       "    .dataframe tbody tr th {\n",
       "        vertical-align: top;\n",
       "    }\n",
       "\n",
       "    .dataframe thead th {\n",
       "        text-align: right;\n",
       "    }\n",
       "</style>\n",
       "<table border=\"1\" class=\"dataframe\">\n",
       "  <thead>\n",
       "    <tr style=\"text-align: right;\">\n",
       "      <th></th>\n",
       "      <th>grades</th>\n",
       "    </tr>\n",
       "  </thead>\n",
       "  <tbody>\n",
       "    <tr>\n",
       "      <th>0</th>\n",
       "      <td>50</td>\n",
       "    </tr>\n",
       "    <tr>\n",
       "      <th>1</th>\n",
       "      <td>60</td>\n",
       "    </tr>\n",
       "    <tr>\n",
       "      <th>2</th>\n",
       "      <td>60</td>\n",
       "    </tr>\n",
       "    <tr>\n",
       "      <th>3</th>\n",
       "      <td>64</td>\n",
       "    </tr>\n",
       "    <tr>\n",
       "      <th>4</th>\n",
       "      <td>66</td>\n",
       "    </tr>\n",
       "  </tbody>\n",
       "</table>\n",
       "</div>"
      ],
      "text/plain": [
       "   grades\n",
       "0      50\n",
       "1      60\n",
       "2      60\n",
       "3      64\n",
       "4      66"
      ]
     },
     "execution_count": 10,
     "metadata": {},
     "output_type": "execute_result"
    }
   ],
   "source": [
    "import pandas as pd\n",
    "df = pd.DataFrame({\"grades\" : [50, 60, 60, 64, 66, 66, 67, 69, 70, 74, 76, 76, 77, 79, 79, 79, 81, 82, 82, 89]})\n",
    "df.head()"
   ]
  },
  {
   "cell_type": "markdown",
   "metadata": {
    "id": "_U1k7I-0lWJt"
   },
   "source": [
    "- 모수의 표준편차는 9.5로 알고 있음"
   ]
  },
  {
   "cell_type": "code",
   "execution_count": 11,
   "metadata": {
    "colab": {
     "base_uri": "https://localhost:8080/",
     "height": 453
    },
    "id": "JFfKynC7lZEH",
    "outputId": "57f3b3ca-6566-499b-adbd-3c73b67443c3"
   },
   "outputs": [
    {
     "data": {
      "image/png": "[encoded data removed]",
      "text/plain": [
       "<Figure size 640x480 with 1 Axes>"
      ]
     },
     "metadata": {},
     "output_type": "display_data"
    }
   ],
   "source": [
    "import matplotlib.pyplot as plt\n",
    "import numpy as np\n",
    "import seaborn as sns\n",
    "import scipy.stats as stats\n",
    "\n",
    "mu = 67.5       # 모수의 평균\n",
    "sigma = 9.5     # 모수의 편차\n",
    "x = np.linspace(mu - 3*sigma, mu + 3*sigma, 100)\n",
    "y = 100* stats.norm.pdf(x, mu, sigma)\n",
    "\n",
    "fig, ax = plt.subplots()\n",
    "ax1 = sns.histplot(df['grades'])\n",
    "\n",
    "ax2 = sns.lineplot(x=x,y=y, color='black')\n",
    "\n",
    "plt.ylim(bottom=-1)\n",
    "\n",
    "ax1.set_frame_on(False)\n",
    "ax1.axes.get_yaxis().set_visible(False)\n",
    "\n",
    "plt.show()"
   ]
  },
  {
   "cell_type": "markdown",
   "metadata": {
    "id": "-Ux_dXTjmY0T"
   },
   "source": [
    "## 가설수립\n",
    "- 귀무가설 : 모집단의 수학점수 평균과 1반의 수학점수 평균차이는 없다!\n",
    "- 대립가설 : 모집단의 수학점수 평균과 1반의 수학점수 평균차이는 있다."
   ]
  },
  {
   "cell_type": "markdown",
   "metadata": {
    "id": "1dzvuPmGnZfq"
   },
   "source": [
    "## z-score 구하기"
   ]
  },
  {
   "cell_type": "code",
   "execution_count": 12,
   "metadata": {
    "colab": {
     "base_uri": "https://localhost:8080/"
    },
    "id": "IXbePcOynWsV",
    "outputId": "a53017f1-7ba8-4b00-868e-fc2ee1d0c007"
   },
   "outputs": [
    {
     "data": {
      "text/plain": [
       "np.float64(2.259605535157681)"
      ]
     },
     "execution_count": 12,
     "metadata": {},
     "output_type": "execute_result"
    }
   ],
   "source": [
    "import math\n",
    "sample_mean = df['grades'].mean()\n",
    "sd_true = 9.5\n",
    "mu_null = 67.5\n",
    "N = len(df['grades'])\n",
    "sem_true = sd_true / math.sqrt(N)\n",
    "z_score = (sample_mean - mu_null) / sem_true\n",
    "z_score # 통계량"
   ]
  },
  {
   "cell_type": "markdown",
   "metadata": {
    "id": "JzxOB4OFoDyk"
   },
   "source": [
    "## p-value"
   ]
  },
  {
   "cell_type": "code",
   "execution_count": 13,
   "metadata": {
    "colab": {
     "base_uri": "https://localhost:8080/"
    },
    "id": "xwNFo9IdoFf4",
    "outputId": "643f294f-ac4e-491a-ac2a-0bd058283007"
   },
   "outputs": [
    {
     "data": {
      "text/plain": [
       "0.023845743764939753"
      ]
     },
     "execution_count": 13,
     "metadata": {},
     "output_type": "execute_result"
    }
   ],
   "source": [
    "from statistics import NormalDist\n",
    "\n",
    "lower_area = NormalDist().cdf(-z_score)\n",
    "upper_area = lower_area\n",
    "p_value = lower_area + upper_area\n",
    "p_value"
   ]
  },
  {
   "cell_type": "markdown",
   "metadata": {
    "id": "w1Xu-pc4wek4"
   },
   "source": [
    "# t-검정의 종류\n",
    "- One-Sample t-test (일표본 단일검정)\n",
    "- Paired t-test (대응표본)\n",
    "- Independent t-test (두 평균의 비교, 독립검정)"
   ]
  },
  {
   "cell_type": "markdown",
   "metadata": {
    "id": "8qrMOpnvw5Yu"
   },
   "source": [
    "## One-Sample t-test\n",
    "- 일표본 단일검정\n",
    "- z-검정과의 차이점\n",
    "  + 모집단의 표준편차를 모름\n",
    "  + 모집단의 평균을 알고 있음\n",
    "  + 자유도 : N-1 (z-검정은 N)\n",
    "- 모집단의 평균 : 사회적인 통념, 알려진 사실\n",
    "- 가설설정\n",
    "  + 귀무가설 : 모집단의 평균과 표본의 평균은 같다.\n",
    "    - 오리온 초코칩의 무게중량 45g이 맞을 것이야\n",
    "  + 대립가설 : 모집단의 평균과 표본의 평균은 다르다.\n",
    "    - 오리온 초코칩의 무게중량 45g이 아니다!\n"
   ]
  },
  {
   "cell_type": "code",
   "execution_count": 14,
   "metadata": {
    "colab": {
     "base_uri": "https://localhost:8080/"
    },
    "id": "UsjTfCkL1OGi",
    "outputId": "99fcfb37-7154-4c9f-f7e1-e78d27def2df"
   },
   "outputs": [
    {
     "name": "stdout",
     "output_type": "stream",
     "text": [
      "Sample mean: 72.3\n",
      "Degrees of freedom: 19\n"
     ]
    }
   ],
   "source": [
    "N = len(df['grades'])\n",
    "degfree = N-1\n",
    "sample_mean = df['grades'].mean()\n",
    "print('Sample mean:', sample_mean)\n",
    "print('Degrees of freedom:', degfree)"
   ]
  },
  {
   "cell_type": "code",
   "execution_count": 15,
   "metadata": {
    "colab": {
     "base_uri": "https://localhost:8080/"
    },
    "id": "3th6LLwQ1f5g",
    "outputId": "23c80359-8eed-42be-d64b-e68b88301dec"
   },
   "outputs": [
    {
     "data": {
      "text/plain": [
       "(np.float64(0.6106514014810425), np.float64(0.5486662606700853))"
      ]
     },
     "execution_count": 15,
     "metadata": {},
     "output_type": "execute_result"
    }
   ],
   "source": [
    "from scipy.stats import ttest_1samp\n",
    "\n",
    "t, p = ttest_1samp(a = df['grades'], popmean = 71)\n",
    "t, p"
   ]
  },
  {
   "cell_type": "markdown",
   "metadata": {
    "id": "8DLFkkHY3Fx6"
   },
   "source": [
    "- 신뢰구간 추정"
   ]
  },
  {
   "cell_type": "code",
   "execution_count": 16,
   "metadata": {
    "colab": {
     "base_uri": "https://localhost:8080/"
    },
    "id": "gZ0dZFiX3O3f",
    "outputId": "8f896047-7e1b-4987-eeb4-1f9e2b8a3e98"
   },
   "outputs": [
    {
     "data": {
      "text/plain": [
       "(np.float64(67.84421513791415), np.float64(76.75578486208585))"
      ]
     },
     "execution_count": 16,
     "metadata": {},
     "output_type": "execute_result"
    }
   ],
   "source": [
    "from scipy import stats\n",
    "\n",
    "confidence_level = 0.95\n",
    "degrees_freedom = len(df['grades'])-1\n",
    "sample_mean = df['grades'].mean()\n",
    "sample_standard_error = df['grades'].sem()\n",
    "\n",
    "confidence_interval = stats.t.interval(confidence_level, degrees_freedom, sample_mean, sample_standard_error)\n",
    "confidence_interval"
   ]
  },
  {
   "cell_type": "code",
   "execution_count": 17,
   "metadata": {
    "colab": {
     "base_uri": "https://localhost:8080/"
    },
    "id": "No_jlmuz38WC",
    "outputId": "96ef1352-52d7-48c6-a585-bebaea58716d"
   },
   "outputs": [
    {
     "data": {
      "text/plain": [
       "ConfidenceInterval(low=np.float64(67.84421513791415), high=np.float64(76.75578486208585))"
      ]
     },
     "execution_count": 17,
     "metadata": {},
     "output_type": "execute_result"
    }
   ],
   "source": [
    "ttest_1samp(a = df['grades'], popmean = 71).confidence_interval()"
   ]
  },
  {
   "cell_type": "markdown",
   "metadata": {
    "id": "OknU4yioyVgO"
   },
   "source": [
    "## 문제\n",
    "- 주어진 데이터(data/trees.csv)에는 블랙 체리나무 31그루의 둘레와 높이, 부피가 저장되어 있다. 체리나무의 평균 높이는 75로 알려져 있다. 이 높이에 대해서 이 표본의 평균이 모평균과 일치하는지 단일표본 t-검정(One Sample t-test)을 통해 답하고자 한다. 가설은 아래와 같다.\n",
    "- 가설검정\n",
    "    + 귀무가설 : 체리나무의 모평균(평균 75)과 표본평균(평균 75)의 차이는 0이다.\n",
    "    + 대립가설 : 체리나무의 모평균과 표본평균이 차이가는 같지 않다.\n",
    "- 데이터의 변수\n",
    "    + Girth : 둘레\n",
    "    + Height : 높이\n",
    "    + Volume : 부피\n",
    "- 단, 데이터의 각 변수들은 정규 분포를 만족한다고 가정한다. -> 중심극한정리 (central limit theorem clt)\n",
    "- 문제 1 : 표본평균 X를 구하시오. (반올림하여 소숫점 둘째 자리까지 계산)\n",
    "- 문제 2 : 위의 가설을 검정하기 위한 검정통계량을 구하시오. (반올림하여 소숫점 둘째 자리까지 계산)\n",
    "- 문제 3 : 위의 통계량에 대한 p-값을 구하고(반올림하여 소숫점 넷째 자리까지 계산), 유의수준 0.05하에서 가설검정의 결과를 채택/기각 중 하나로 선택하시오."
   ]
  },
  {
   "cell_type": "code",
   "execution_count": 18,
   "metadata": {},
   "outputs": [
    {
     "data": {
      "text/html": [
       "<div>\n",
       "<style scoped>\n",
       "    .dataframe tbody tr th:only-of-type {\n",
       "        vertical-align: middle;\n",
       "    }\n",
       "\n",
       "    .dataframe tbody tr th {\n",
       "        vertical-align: top;\n",
       "    }\n",
       "\n",
       "    .dataframe thead th {\n",
       "        text-align: right;\n",
       "    }\n",
       "</style>\n",
       "<table border=\"1\" class=\"dataframe\">\n",
       "  <thead>\n",
       "    <tr style=\"text-align: right;\">\n",
       "      <th></th>\n",
       "      <th>Girth</th>\n",
       "      <th>Height</th>\n",
       "      <th>Volume</th>\n",
       "    </tr>\n",
       "  </thead>\n",
       "  <tbody>\n",
       "    <tr>\n",
       "      <th>0</th>\n",
       "      <td>8.3</td>\n",
       "      <td>70</td>\n",
       "      <td>10.3</td>\n",
       "    </tr>\n",
       "    <tr>\n",
       "      <th>1</th>\n",
       "      <td>8.6</td>\n",
       "      <td>65</td>\n",
       "      <td>10.3</td>\n",
       "    </tr>\n",
       "    <tr>\n",
       "      <th>2</th>\n",
       "      <td>8.8</td>\n",
       "      <td>63</td>\n",
       "      <td>10.2</td>\n",
       "    </tr>\n",
       "    <tr>\n",
       "      <th>3</th>\n",
       "      <td>10.5</td>\n",
       "      <td>72</td>\n",
       "      <td>16.4</td>\n",
       "    </tr>\n",
       "    <tr>\n",
       "      <th>4</th>\n",
       "      <td>10.7</td>\n",
       "      <td>81</td>\n",
       "      <td>18.8</td>\n",
       "    </tr>\n",
       "  </tbody>\n",
       "</table>\n",
       "</div>"
      ],
      "text/plain": [
       "   Girth  Height  Volume\n",
       "0    8.3      70    10.3\n",
       "1    8.6      65    10.3\n",
       "2    8.8      63    10.2\n",
       "3   10.5      72    16.4\n",
       "4   10.7      81    18.8"
      ]
     },
     "execution_count": 18,
     "metadata": {},
     "output_type": "execute_result"
    }
   ],
   "source": [
    "trees = pd.read_csv(\"dataset/trees.csv\")\n",
    "trees.head()"
   ]
  },
  {
   "cell_type": "code",
   "execution_count": 19,
   "metadata": {},
   "outputs": [
    {
     "data": {
      "text/plain": [
       "np.float64(76.0)"
      ]
     },
     "execution_count": 19,
     "metadata": {},
     "output_type": "execute_result"
    }
   ],
   "source": [
    "# 문제 1: 표본평균 x 구하기\n",
    "result = trees['Height'].mean()\n",
    "result"
   ]
  },
  {
   "cell_type": "code",
   "execution_count": 25,
   "metadata": {},
   "outputs": [
    {
     "data": {
      "text/plain": [
       "(np.float64(0.8738116490580545), np.float64(0.38916223357338076))"
      ]
     },
     "execution_count": 25,
     "metadata": {},
     "output_type": "execute_result"
    }
   ],
   "source": [
    "# 문제 2\n",
    "from scipy import stats\n",
    "\n",
    "t, p = stats.ttest_1samp(trees['Height'], popmean = 75)\n",
    "t, p"
   ]
  },
  {
   "cell_type": "code",
   "execution_count": 22,
   "metadata": {},
   "outputs": [
    {
     "name": "stdout",
     "output_type": "stream",
     "text": [
      "귀무가설 채택\n"
     ]
    }
   ],
   "source": [
    "# 문제 3\n",
    "if p>= 0.05:\n",
    "  print(\"귀무가설 채택\")\n",
    "else:\n",
    "  print(\"귀무가설 기각 ==> 대립가설 채택\")"
   ]
  },
  {
   "cell_type": "code",
   "execution_count": 23,
   "metadata": {},
   "outputs": [],
   "source": [
    "# 241007_ 달린거 다 합치기.."
   ]
  },
  {
   "cell_type": "code",
   "execution_count": 24,
   "metadata": {},
   "outputs": [],
   "source": [
    "# 문제 4개, 코랩 ㅇㅇ"
   ]
  },
  {
   "cell_type": "markdown",
   "metadata": {},
   "source": [
    "## t-검정 ( independent t-test )\n",
    "- 가정 만족 확인 : 정규성, 등분산성 검정\n",
    "- 정규성의 가설 검정\n",
    "  + 귀무가설 : 데이터가 정규분포를 따른다.\n",
    "  + 대립가설 : 데이터가 정규분포를 이루고 있지 않다.\n",
    "  + Shapiro-wilk tests로 확인\n",
    "  + 만족 안하면 비모수 검정함 : Mann-Whiteney test\n",
    "\n",
    "- 등분산성 가설 검정\n",
    "  + 귀무가설: 두 그룹의 분산 같다.\n",
    "  + 대립가설: 두 그룹의 분산 다르다.\n",
    "  + 일반적으로 levene 검정으로 확인\n",
    "  + 만족 안하면 비모수 검정: welch test\n",
    "\n",
    "- 이걸 다 만족하면, t-검정 가설 검정을 한다.\n",
    "\n",
    "> 단일표본 t-검정\n",
    "- 귀무가설: 모평균과 표본평균 같다.\n",
    "- 대립가설 : 모푱균과 표본평균 같지 않다.\n",
    "\n",
    "> 독립표본 t-검정\n",
    "- 귀무가설: 그룹 1과 그룹 2의 평균 같다.\n",
    "- 대립가설: 그룹 1과 그룹 2의 평균 같지 않다.\n",
    "- 가정: 독릷성, 정규성, 등분산성 만족해야함\n",
    "  \n",
    "> 대응표본 t-검정\n",
    "- 귀무가설: 실험전후 평균 차이 0이다.\n",
    "- 대립가설: 실험 전후 평균 차이는 0이 아니다.\n",
    "\n",
    "- p-value가 0.05보다 크면 귀무가설 채택\n"
   ]
  },
  {
   "cell_type": "code",
   "execution_count": 26,
   "metadata": {},
   "outputs": [
    {
     "data": {
      "text/html": [
       "<div>\n",
       "<style scoped>\n",
       "    .dataframe tbody tr th:only-of-type {\n",
       "        vertical-align: middle;\n",
       "    }\n",
       "\n",
       "    .dataframe tbody tr th {\n",
       "        vertical-align: top;\n",
       "    }\n",
       "\n",
       "    .dataframe thead th {\n",
       "        text-align: right;\n",
       "    }\n",
       "</style>\n",
       "<table border=\"1\" class=\"dataframe\">\n",
       "  <thead>\n",
       "    <tr style=\"text-align: right;\">\n",
       "      <th></th>\n",
       "      <th>total_bill</th>\n",
       "      <th>tip</th>\n",
       "      <th>sex</th>\n",
       "      <th>smoker</th>\n",
       "      <th>day</th>\n",
       "      <th>time</th>\n",
       "      <th>size</th>\n",
       "    </tr>\n",
       "  </thead>\n",
       "  <tbody>\n",
       "    <tr>\n",
       "      <th>0</th>\n",
       "      <td>16.99</td>\n",
       "      <td>1.01</td>\n",
       "      <td>Female</td>\n",
       "      <td>No</td>\n",
       "      <td>Sun</td>\n",
       "      <td>Dinner</td>\n",
       "      <td>2</td>\n",
       "    </tr>\n",
       "    <tr>\n",
       "      <th>1</th>\n",
       "      <td>10.34</td>\n",
       "      <td>1.66</td>\n",
       "      <td>Male</td>\n",
       "      <td>No</td>\n",
       "      <td>Sun</td>\n",
       "      <td>Dinner</td>\n",
       "      <td>3</td>\n",
       "    </tr>\n",
       "    <tr>\n",
       "      <th>2</th>\n",
       "      <td>21.01</td>\n",
       "      <td>3.50</td>\n",
       "      <td>Male</td>\n",
       "      <td>No</td>\n",
       "      <td>Sun</td>\n",
       "      <td>Dinner</td>\n",
       "      <td>3</td>\n",
       "    </tr>\n",
       "    <tr>\n",
       "      <th>3</th>\n",
       "      <td>23.68</td>\n",
       "      <td>3.31</td>\n",
       "      <td>Male</td>\n",
       "      <td>No</td>\n",
       "      <td>Sun</td>\n",
       "      <td>Dinner</td>\n",
       "      <td>2</td>\n",
       "    </tr>\n",
       "    <tr>\n",
       "      <th>4</th>\n",
       "      <td>24.59</td>\n",
       "      <td>3.61</td>\n",
       "      <td>Female</td>\n",
       "      <td>No</td>\n",
       "      <td>Sun</td>\n",
       "      <td>Dinner</td>\n",
       "      <td>4</td>\n",
       "    </tr>\n",
       "  </tbody>\n",
       "</table>\n",
       "</div>"
      ],
      "text/plain": [
       "   total_bill   tip     sex smoker  day    time  size\n",
       "0       16.99  1.01  Female     No  Sun  Dinner     2\n",
       "1       10.34  1.66    Male     No  Sun  Dinner     3\n",
       "2       21.01  3.50    Male     No  Sun  Dinner     3\n",
       "3       23.68  3.31    Male     No  Sun  Dinner     2\n",
       "4       24.59  3.61  Female     No  Sun  Dinner     4"
      ]
     },
     "execution_count": 26,
     "metadata": {},
     "output_type": "execute_result"
    }
   ],
   "source": [
    "import seaborn as sns\n",
    "import pandas as pd\n",
    "\n",
    "tips = sns.load_dataset(\"tips\")\n",
    "tips.head()"
   ]
  },
  {
   "cell_type": "code",
   "execution_count": 27,
   "metadata": {},
   "outputs": [],
   "source": [
    "# 데이터를 확인하려하면 시각화 해야함"
   ]
  },
  {
   "cell_type": "markdown",
   "metadata": {},
   "source": [
    "# 시각화\n",
    "- 그러려면 value_counts 찍어서 데이터 분포를 보자\n",
    "- 보면... 독립성검정 시행할 수 있는 변수는 총 3개인것을 확인 가능.\n",
    "- 왜냐, 그룹화가 2개로만 된거면 할 수 있으니까.\n",
    "- ㅇㅇ\n",
    "\n",
    "- 시나리오 \n",
    "  + 성별에 따라서 팁의 액수 평균차이가 존재할 까?\n",
    "  + 흡연여부에 따라서 팁의 액수 평균차이가 존재할까?\n",
    "  + 시간대에 따라서 팁의 액수 평균 차이가 존재할까?\n",
    "\n",
    "\n",
    "- 히스토그램\n",
    "  + 정규분포 따르는지 아닌지 알아야함.\n",
    "  + 데이터가 연속형일 때, 숫자일 때 그래프 그려야 함\n",
    "  + tip을 그릴 때...  그룹 단위로 정규분포를 따르는지 아닌지 체크 해야함 -> 그래프 쌍으로 그려야함. 그룹별로"
   ]
  },
  {
   "cell_type": "code",
   "execution_count": 28,
   "metadata": {},
   "outputs": [
    {
     "data": {
      "text/plain": [
       "smoker\n",
       "No     151\n",
       "Yes     93\n",
       "Name: count, dtype: int64"
      ]
     },
     "execution_count": 28,
     "metadata": {},
     "output_type": "execute_result"
    }
   ],
   "source": [
    "tips['smoker'].value_counts()"
   ]
  },
  {
   "cell_type": "code",
   "execution_count": 30,
   "metadata": {
    "scrolled": true
   },
   "outputs": [
    {
     "data": {
      "image/png": "[encoded data removed]",
      "text/plain": [
       "<Figure size 1500x500 with 2 Axes>"
      ]
     },
     "metadata": {},
     "output_type": "display_data"
    }
   ],
   "source": [
    "import matplotlib.pyplot as plt\n",
    "import seaborn as sns\n",
    "\n",
    "# 데이터 분리\n",
    "smoker_yes=tips.loc[tips['smoker']=='Yes',:]\n",
    "smoker_no=tips.loc[tips['smoker']=='No',:]\n",
    "\n",
    "\n",
    "fig, ax = plt.subplots(nrows = 1, ncols = 2, figsize=(15,5))\n",
    "\n",
    "sns.histplot(smoker_yes['tip'], ax=ax[0])\n",
    "sns.histplot(smoker_no['tip'], ax=ax[1])\n",
    "\n",
    "\n",
    "plt.show()"
   ]
  },
  {
   "cell_type": "code",
   "execution_count": 32,
   "metadata": {},
   "outputs": [],
   "source": [
    "# 위에거는 정규분포 안따르는 것으로 보이지만, 데이터 개수가 30개가 넘으니까 정규분포 만족한다고 생각하고 갈거임. by 중심극한정리 "
   ]
  },
  {
   "cell_type": "code",
   "execution_count": 33,
   "metadata": {},
   "outputs": [
    {
     "data": {
      "image/png": "[encoded data removed]",
      "text/plain": [
       "<Figure size 1500x500 with 2 Axes>"
      ]
     },
     "metadata": {},
     "output_type": "display_data"
    },
    {
     "data": {
      "text/plain": [
       "ShapiroResult(statistic=np.float64(0.9898833815158516), pvalue=np.float64(0.6551676754214818))"
      ]
     },
     "execution_count": 33,
     "metadata": {},
     "output_type": "execute_result"
    }
   ],
   "source": [
    "# 참고: 정규분포를 이루는 그래프\n",
    "import numpy as np\n",
    "import seaborn as sns\n",
    "from matplotlib import pyplot as plt\n",
    "from scipy.stats import probplot\n",
    "from scipy.stats import shapiro\n",
    "\n",
    "np.random.seed(42)\n",
    "normal_data = np.random.normal(size=100)\n",
    "\n",
    "fig, axes = plt.subplots(1, 2, figsize=(15, 5))\n",
    "\n",
    "probplot(normal_data, dist=\"norm\", plot = axes[0]);\n",
    "sns.histplot(normal_data, axes=axes[1]);\n",
    "\n",
    "titles = ['QQ plot', 'Histogram']\n",
    "for i, ax in enumerate(axes):\n",
    "    ax.spines[['right', 'top']].set_visible(False)\n",
    "    ax.set_title(titles[i])\n",
    "\n",
    "plt.show()\n",
    "shapiro(normal_data)"
   ]
  },
  {
   "cell_type": "markdown",
   "metadata": {},
   "source": [
    "## Shapiro Wilk 검정\n",
    "- 30개 미만이라는 가정하에, 정규성 검정을 해보자."
   ]
  },
  {
   "cell_type": "code",
   "execution_count": 35,
   "metadata": {},
   "outputs": [
    {
     "data": {
      "image/png": "[encoded data removed]",
      "text/plain": [
       "<Figure size 1500x500 with 2 Axes>"
      ]
     },
     "metadata": {},
     "output_type": "display_data"
    },
    {
     "data": {
      "text/plain": [
       "ShapiroResult(statistic=np.float64(0.8788249661085323), pvalue=np.float64(3.612564299352561e-07))"
      ]
     },
     "execution_count": 35,
     "metadata": {},
     "output_type": "execute_result"
    }
   ],
   "source": [
    "import numpy as np\n",
    "import seaborn as sns\n",
    "from matplotlib import pyplot as plt\n",
    "from scipy.stats import probplot\n",
    "from scipy.stats import shapiro\n",
    "\n",
    "np.random.seed(42)\n",
    "normal_data = smoker_yes['tip']\n",
    "\n",
    "fig, axes = plt.subplots(1, 2, figsize=(15, 5))\n",
    "\n",
    "probplot(normal_data, dist=\"norm\", plot = axes[0]);\n",
    "sns.histplot(normal_data, axes=axes[1]);\n",
    "\n",
    "titles = ['QQ plot', 'Histogram']\n",
    "for i, ax in enumerate(axes):\n",
    "    ax.spines[['right', 'top']].set_visible(False)\n",
    "    ax.set_title(titles[i])\n",
    "\n",
    "plt.show()\n",
    "shapiro(normal_data)"
   ]
  },
  {
   "cell_type": "markdown",
   "metadata": {},
   "source": [
    "### 가설설정\n",
    "- 귀무가설: 데이터는 정규분포다\n",
    "- 대립가설: 데이터는 정규분포가 아니다.\n",
    "\n",
    "- pvalue=np.float64(3.612564299352561e-07))\n",
    "  + 귀무가설을 기각하고, 대립가설 채택 ?????????????????????"
   ]
  },
  {
   "cell_type": "code",
   "execution_count": 37,
   "metadata": {},
   "outputs": [
    {
     "data": {
      "text/plain": [
       "(np.float64(0.02051159105706963), np.float64(0.8862366542563404))"
      ]
     },
     "execution_count": 37,
     "metadata": {},
     "output_type": "execute_result"
    }
   ],
   "source": [
    "# 등분산검정\n",
    "\n",
    "from scipy import stats\n",
    "\n",
    "t,p = stats.levene(smoker_yes['tip'], smoker_no['tip'])\n",
    "t, p"
   ]
  },
  {
   "cell_type": "code",
   "execution_count": 40,
   "metadata": {},
   "outputs": [],
   "source": [
    "# 0.88이니까 귀무가설 채택 -> 두 집단 분산 같다. -> t-test 할 때  =True로 잡고 하면됨"
   ]
  },
  {
   "cell_type": "code",
   "execution_count": 38,
   "metadata": {},
   "outputs": [
    {
     "data": {
      "image/png": "[encoded data removed]",
      "text/plain": [
       "<Figure size 640x480 with 1 Axes>"
      ]
     },
     "metadata": {},
     "output_type": "display_data"
    }
   ],
   "source": [
    "fig, ax = plt.subplots(1, 1)\n",
    "sns.pointplot(x = 'smoker', y = 'tip', data = tips)\n",
    "sns.despine()\n",
    "# 이게 분산이래.. 가운데 점이 평균, 막대가 분산 , yes가 no보다 분산 넓어보임"
   ]
  },
  {
   "cell_type": "code",
   "execution_count": 42,
   "metadata": {},
   "outputs": [
    {
     "data": {
      "text/plain": [
       "(np.float64(0.09222805186888201), np.float64(0.9265931522244976))"
      ]
     },
     "execution_count": 42,
     "metadata": {},
     "output_type": "execute_result"
    }
   ],
   "source": [
    "# t-test\n",
    "\n",
    "t,p = stats.ttest_ind(smoker_yes['tip'], smoker_no['tip'], equal_var=True)\n",
    "t, p"
   ]
  },
  {
   "cell_type": "code",
   "execution_count": 44,
   "metadata": {},
   "outputs": [],
   "source": [
    "# p= np.float64(0.9265931522244976)) -> t-test 결과 : 두 그룹 평균 같댜ㅏ. -> 담배를 피던지 안피던지 팁주는 평균 비슷하다"
   ]
  },
  {
   "cell_type": "markdown",
   "metadata": {},
   "source": [
    "#### 두 그룹의 boxplot 시각화"
   ]
  },
  {
   "cell_type": "code",
   "execution_count": 45,
   "metadata": {},
   "outputs": [
    {
     "data": {
      "image/png": "[encoded data removed]",
      "text/plain": [
       "<Figure size 1500x500 with 2 Axes>"
      ]
     },
     "metadata": {},
     "output_type": "display_data"
    }
   ],
   "source": [
    "import matplotlib.pyplot as plt\n",
    "import seaborn as sns\n",
    "\n",
    "# 데이터 분리\n",
    "smoker_yes=tips.loc[tips['smoker']=='Yes',:]\n",
    "smoker_no=tips.loc[tips['smoker']=='No',:]\n",
    "\n",
    "\n",
    "fig, ax = plt.subplots(nrows = 1, ncols = 2, figsize=(15,5))\n",
    "\n",
    "sns.boxplot(smoker_yes['tip'], ax=ax[0])\n",
    "sns.boxplot(smoker_no['tip'], ax=ax[1])\n",
    "\n",
    "\n",
    "plt.show()"
   ]
  },
  {
   "cell_type": "code",
   "execution_count": 46,
   "metadata": {},
   "outputs": [],
   "source": [
    "# 진짜 비슿ㅅ하네\n",
    "# 점원 입장에선 어떤 손님집단이 팁 많이 주는지 찾아야 좋은거니까, sex론 안나왔으니, 다른 독립검정(?) 돌려봐야함"
   ]
  },
  {
   "cell_type": "markdown",
   "metadata": {},
   "source": [
    "# 5시 | 문제"
   ]
  },
  {
   "cell_type": "code",
   "execution_count": null,
   "metadata": {},
   "outputs": [],
   "source": []
  },
  {
   "cell_type": "code",
   "execution_count": null,
   "metadata": {},
   "outputs": [],
   "source": []
  },
  {
   "cell_type": "code",
   "execution_count": null,
   "metadata": {},
   "outputs": [],
   "source": []
  }
 ],
 "metadata": {
  "colab": {
   "provenance": [],
   "toc_visible": true
  },
  "kernelspec": {
   "display_name": "Python 3 (ipykernel)",
   "language": "python",
   "name": "python3"
  },
  "language_info": {
   "codemirror_mode": {
    "name": "ipython",
    "version": 3
   },
   "file_extension": ".py",
   "mimetype": "text/x-python",
   "name": "python",
   "nbconvert_exporter": "python",
   "pygments_lexer": "ipython3",
   "version": "3.12.6"
  }
 },
 "nbformat": 4,
 "nbformat_minor": 4
}
