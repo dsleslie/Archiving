{
 "cells": [
  {
   "cell_type": "markdown",
   "id": "b2d6302f-b837-4478-82ff-da823e2489ee",
   "metadata": {
    "id": "b2d6302f-b837-4478-82ff-da823e2489ee"
   },
   "source": [
    "## 문제\n",
    "- 주어진 데이터(data/insectsprays.csv)에는 여러 지역에서 스프레이를 뿌리기 전에 측정한 곤충의 수와 스프레이를 뿌린 다음의 곤충의 수가 저장되어 있다. 해당 스프레이가 구제 효과가 있는지(즉, 스프레이를 뿌린 뒤 곤충의 수가 감소했는지) 쌍체표본 t-검정(Paired t-test)을 통해 답하고자 한다.\n",
    "- 가설검정 가설검정 만들기\n",
    "    + 귀무가설 : 스프레이 뿌리기 전 곤충 수의 평균과 뿌린 후의 평균의 차가 0이다.\n",
    "    + 대립가설 : 스프레이 뿌리기 전 곤충 수의 평균과 뿌린 후의 평균의 차가 0이 아니다.\n",
    "- 데이터의 변수\n",
    "    + before_spr : 살충제 뿌리기 전 곤충의 수\n",
    "    + after_spr : 살충제 뿌린 뒤 곤충의 수\n",
    "- 단, $\\overline{\\mu_{d}}$는 정규분포를 만족한다.\n",
    "- 문제 1: 표본평균 $\\overline{\\mu_{d}}$의 표본 평균을 구하시오. (반올림하여 소숫점 둘째 자리까지 계산)\n",
    "- 문제 2: 위의 가설을 검정하기 위한 검정통계량을 구하시오. (반올림하여 소숫점 둘째 자리까지 계산)\n",
    "- 문제 3: 위의 통계량에 대한 p-값을 구하고 (반올림하여 소숫점 넷째 자리까지 계산), 유의수준 0.05하에서 가설검정의 결과를 채택/기각 중 하나로 선택하시오.\n",
    "      "
   ]
  },
  {
   "cell_type": "code",
   "execution_count": 5,
   "id": "4d67352c-5ded-4508-b0fe-05f02c72bf76",
   "metadata": {},
   "outputs": [],
   "source": [
    "import pandas as pd\n",
    "import matplotlib.pyplot as plt\n",
    "import numpy as np\n",
    "import seaborn as sns\n",
    "import scipy.stats as stats\n",
    "import math\n",
    "from statistics import NormalDist\n",
    "from scipy.stats import ttest_1samp\n",
    "from scipy import stats"
   ]
  },
  {
   "cell_type": "markdown",
   "id": "53bba55e-b064-43c7-89bf-cee7f1cd0c84",
   "metadata": {
    "id": "53bba55e-b064-43c7-89bf-cee7f1cd0c84"
   },
   "source": [
    "## 데이터 불러오기"
   ]
  },
  {
   "cell_type": "code",
   "execution_count": 6,
   "id": "f30ebbd0-56c8-4081-ab6a-e2e9dbe2c803",
   "metadata": {
    "id": "f30ebbd0-56c8-4081-ab6a-e2e9dbe2c803",
    "outputId": "8bbfc3ac-7635-46e6-d7ac-9f514d4aff71"
   },
   "outputs": [
    {
     "data": {
      "text/html": [
       "<div>\n",
       "<style scoped>\n",
       "    .dataframe tbody tr th:only-of-type {\n",
       "        vertical-align: middle;\n",
       "    }\n",
       "\n",
       "    .dataframe tbody tr th {\n",
       "        vertical-align: top;\n",
       "    }\n",
       "\n",
       "    .dataframe thead th {\n",
       "        text-align: right;\n",
       "    }\n",
       "</style>\n",
       "<table border=\"1\" class=\"dataframe\">\n",
       "  <thead>\n",
       "    <tr style=\"text-align: right;\">\n",
       "      <th></th>\n",
       "      <th>before_spr</th>\n",
       "      <th>after_spr</th>\n",
       "    </tr>\n",
       "  </thead>\n",
       "  <tbody>\n",
       "    <tr>\n",
       "      <th>0</th>\n",
       "      <td>10</td>\n",
       "      <td>0</td>\n",
       "    </tr>\n",
       "    <tr>\n",
       "      <th>1</th>\n",
       "      <td>7</td>\n",
       "      <td>1</td>\n",
       "    </tr>\n",
       "    <tr>\n",
       "      <th>2</th>\n",
       "      <td>20</td>\n",
       "      <td>7</td>\n",
       "    </tr>\n",
       "    <tr>\n",
       "      <th>3</th>\n",
       "      <td>14</td>\n",
       "      <td>2</td>\n",
       "    </tr>\n",
       "    <tr>\n",
       "      <th>4</th>\n",
       "      <td>14</td>\n",
       "      <td>3</td>\n",
       "    </tr>\n",
       "  </tbody>\n",
       "</table>\n",
       "</div>"
      ],
      "text/plain": [
       "   before_spr  after_spr\n",
       "0          10          0\n",
       "1           7          1\n",
       "2          20          7\n",
       "3          14          2\n",
       "4          14          3"
      ]
     },
     "execution_count": 6,
     "metadata": {},
     "output_type": "execute_result"
    }
   ],
   "source": [
    "import pandas as pd\n",
    "data = pd.read_csv(\"c:/Archiving/IMDGB/step03_statistics/dataset/insectsprays.csv\")\n",
    "data.head()"
   ]
  },
  {
   "cell_type": "code",
   "execution_count": 7,
   "id": "115ff2e8-04af-48a6-bbb2-20e5a25de9a3",
   "metadata": {},
   "outputs": [
    {
     "data": {
      "text/html": [
       "<div>\n",
       "<style scoped>\n",
       "    .dataframe tbody tr th:only-of-type {\n",
       "        vertical-align: middle;\n",
       "    }\n",
       "\n",
       "    .dataframe tbody tr th {\n",
       "        vertical-align: top;\n",
       "    }\n",
       "\n",
       "    .dataframe thead th {\n",
       "        text-align: right;\n",
       "    }\n",
       "</style>\n",
       "<table border=\"1\" class=\"dataframe\">\n",
       "  <thead>\n",
       "    <tr style=\"text-align: right;\">\n",
       "      <th></th>\n",
       "      <th>before_spr</th>\n",
       "      <th>after_spr</th>\n",
       "    </tr>\n",
       "  </thead>\n",
       "  <tbody>\n",
       "    <tr>\n",
       "      <th>count</th>\n",
       "      <td>36.000000</td>\n",
       "      <td>36.000000</td>\n",
       "    </tr>\n",
       "    <tr>\n",
       "      <th>mean</th>\n",
       "      <td>15.500000</td>\n",
       "      <td>3.500000</td>\n",
       "    </tr>\n",
       "    <tr>\n",
       "      <th>std</th>\n",
       "      <td>5.068108</td>\n",
       "      <td>2.348252</td>\n",
       "    </tr>\n",
       "    <tr>\n",
       "      <th>min</th>\n",
       "      <td>7.000000</td>\n",
       "      <td>0.000000</td>\n",
       "    </tr>\n",
       "    <tr>\n",
       "      <th>25%</th>\n",
       "      <td>11.750000</td>\n",
       "      <td>2.000000</td>\n",
       "    </tr>\n",
       "    <tr>\n",
       "      <th>50%</th>\n",
       "      <td>14.500000</td>\n",
       "      <td>3.000000</td>\n",
       "    </tr>\n",
       "    <tr>\n",
       "      <th>75%</th>\n",
       "      <td>19.250000</td>\n",
       "      <td>5.000000</td>\n",
       "    </tr>\n",
       "    <tr>\n",
       "      <th>max</th>\n",
       "      <td>26.000000</td>\n",
       "      <td>12.000000</td>\n",
       "    </tr>\n",
       "  </tbody>\n",
       "</table>\n",
       "</div>"
      ],
      "text/plain": [
       "       before_spr  after_spr\n",
       "count   36.000000  36.000000\n",
       "mean    15.500000   3.500000\n",
       "std      5.068108   2.348252\n",
       "min      7.000000   0.000000\n",
       "25%     11.750000   2.000000\n",
       "50%     14.500000   3.000000\n",
       "75%     19.250000   5.000000\n",
       "max     26.000000  12.000000"
      ]
     },
     "execution_count": 7,
     "metadata": {},
     "output_type": "execute_result"
    }
   ],
   "source": [
    "data.describe()"
   ]
  },
  {
   "cell_type": "code",
   "execution_count": 9,
   "id": "0e230078-f5a4-46b0-9355-4c23f77681a5",
   "metadata": {},
   "outputs": [
    {
     "data": {
      "text/plain": [
       "np.float64(15.5)"
      ]
     },
     "execution_count": 9,
     "metadata": {},
     "output_type": "execute_result"
    }
   ],
   "source": [
    "np.mean(data['before_spr'])"
   ]
  },
  {
   "cell_type": "code",
   "execution_count": 10,
   "id": "6261a67a-9051-4373-bc18-a1a91f634924",
   "metadata": {},
   "outputs": [
    {
     "data": {
      "text/plain": [
       "np.float64(3.5)"
      ]
     },
     "execution_count": 10,
     "metadata": {},
     "output_type": "execute_result"
    }
   ],
   "source": [
    "np.mean(data['after_spr'])"
   ]
  },
  {
   "cell_type": "markdown",
   "id": "67bea173-8324-458f-98e5-b619fe4dc364",
   "metadata": {
    "id": "67bea173-8324-458f-98e5-b619fe4dc364"
   },
   "source": [
    "## 문제 1\n",
    "- 표본평균 $\\overline{\\mu_{d}}$의 표본 평균을 구하시오. (반올림하여 소숫점 둘째 자리까지 계산)"
   ]
  },
  {
   "cell_type": "code",
   "execution_count": 11,
   "id": "6e1064f2-e602-4967-be42-66deabf34256",
   "metadata": {
    "id": "6e1064f2-e602-4967-be42-66deabf34256",
    "outputId": "187cbdc3-adea-4dfe-898b-a7cf23e7509c"
   },
   "outputs": [
    {
     "data": {
      "text/plain": [
       "np.float64(12.0)"
      ]
     },
     "execution_count": 11,
     "metadata": {},
     "output_type": "execute_result"
    }
   ],
   "source": [
    "result = round( np.mean(data['before_spr']) - np.mean(data['after_spr']), 2)\n",
    "result"
   ]
  },
  {
   "cell_type": "markdown",
   "id": "88bab335-c823-4c68-9329-4a4ce1b21252",
   "metadata": {
    "id": "88bab335-c823-4c68-9329-4a4ce1b21252"
   },
   "source": [
    "## 문제 2\n",
    "- 위의 가설을 검정하기 위한 검정통계량을 구하시오. (반올림하여 소숫점 둘째 자리까지 계산)"
   ]
  },
  {
   "cell_type": "code",
   "execution_count": 12,
   "id": "06237dad-831b-434a-a0c6-9efd3b6c0d38",
   "metadata": {},
   "outputs": [
    {
     "name": "stdout",
     "output_type": "stream",
     "text": [
      "14.89 0.0\n"
     ]
    }
   ],
   "source": [
    "from scipy import stats\n",
    "t, p = stats.ttest_rel(data['before_spr'], data['after_spr'])\n",
    "print(round(t, 2),round(p ,2))"
   ]
  },
  {
   "cell_type": "markdown",
   "id": "8c825fdc-d795-4fd7-b760-56430e2676f3",
   "metadata": {
    "id": "8c825fdc-d795-4fd7-b760-56430e2676f3"
   },
   "source": [
    "## 문제 3.\n",
    "- 위의 통계량에 대한 p-값을 구하고 (반올림하여 소숫점 넷째 자리까지 계산), 유의수준 0.05하에서 가설검정의 결과를 채택/기각 중 하나로 선택하시오."
   ]
  },
  {
   "cell_type": "code",
   "execution_count": 13,
   "id": "6455bec3-00f0-4e2a-8742-6308e10562cf",
   "metadata": {},
   "outputs": [
    {
     "name": "stdout",
     "output_type": "stream",
     "text": [
      "0.0\n"
     ]
    }
   ],
   "source": [
    "print(round(p,2))"
   ]
  },
  {
   "cell_type": "code",
   "execution_count": 14,
   "id": "11cf637f-b47b-4631-b3c9-1c3683b364bc",
   "metadata": {},
   "outputs": [
    {
     "name": "stdout",
     "output_type": "stream",
     "text": [
      "귀무가설 기각 ==> 대립가설 채택\n"
     ]
    }
   ],
   "source": [
    "if p>= 0.05:\n",
    "  print(\"귀무가설 채택\")\n",
    "else:\n",
    "  print(\"귀무가설 기각 ==> 대립가설 채택\")"
   ]
  }
 ],
 "metadata": {
  "colab": {
   "provenance": []
  },
  "kernelspec": {
   "display_name": "Python 3 (ipykernel)",
   "language": "python",
   "name": "python3"
  },
  "language_info": {
   "codemirror_mode": {
    "name": "ipython",
    "version": 3
   },
   "file_extension": ".py",
   "mimetype": "text/x-python",
   "name": "python",
   "nbconvert_exporter": "python",
   "pygments_lexer": "ipython3",
   "version": "3.12.6"
  }
 },
 "nbformat": 4,
 "nbformat_minor": 5
}
