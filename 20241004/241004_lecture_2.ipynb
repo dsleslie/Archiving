{
 "cells": [
  {
   "cell_type": "code",
   "execution_count": 2,
   "id": "3608b8a9-b624-484f-a519-7c67b13511d3",
   "metadata": {},
   "outputs": [],
   "source": [
    "import pandas as pd\n",
    "import numpy as np\n",
    "import seaborn as sns\n",
    "import matplotlib.pyplot as plt\n",
    "import yfinance as yf\n",
    "# pip install yfinance --upgrade --no-cache-dir <- 이거 bash terminal 에서 실행\n",
    "from pandas import DataFrame\n",
    "# import plotly\n",
    "\n",
    "# 폴더 생성\n",
    "# os 라이브러리\n",
    "#import os\n",
    "#if not os.path.isdir(\"abcd\"):\n",
    "#    os.mkdir(\"abcd\") # 폴더 생성"
   ]
  },
  {
   "cell_type": "code",
   "execution_count": 4,
   "id": "92c89778-1813-4afc-b614-37c29fd00460",
   "metadata": {},
   "outputs": [
    {
     "data": {
      "text/html": [
       "<div>\n",
       "<style scoped>\n",
       "    .dataframe tbody tr th:only-of-type {\n",
       "        vertical-align: middle;\n",
       "    }\n",
       "\n",
       "    .dataframe tbody tr th {\n",
       "        vertical-align: top;\n",
       "    }\n",
       "\n",
       "    .dataframe thead th {\n",
       "        text-align: right;\n",
       "    }\n",
       "</style>\n",
       "<table border=\"1\" class=\"dataframe\">\n",
       "  <thead>\n",
       "    <tr style=\"text-align: right;\">\n",
       "      <th></th>\n",
       "      <th>연도</th>\n",
       "      <th>회사</th>\n",
       "      <th>시가총액</th>\n",
       "    </tr>\n",
       "  </thead>\n",
       "  <tbody>\n",
       "    <tr>\n",
       "      <th>0</th>\n",
       "      <td>2017</td>\n",
       "      <td>삼성</td>\n",
       "      <td>500</td>\n",
       "    </tr>\n",
       "    <tr>\n",
       "      <th>1</th>\n",
       "      <td>2017</td>\n",
       "      <td>LG</td>\n",
       "      <td>300</td>\n",
       "    </tr>\n",
       "    <tr>\n",
       "      <th>2</th>\n",
       "      <td>2017</td>\n",
       "      <td>SK하이닉스</td>\n",
       "      <td>200</td>\n",
       "    </tr>\n",
       "    <tr>\n",
       "      <th>3</th>\n",
       "      <td>2018</td>\n",
       "      <td>삼성</td>\n",
       "      <td>600</td>\n",
       "    </tr>\n",
       "    <tr>\n",
       "      <th>4</th>\n",
       "      <td>2018</td>\n",
       "      <td>LG</td>\n",
       "      <td>400</td>\n",
       "    </tr>\n",
       "    <tr>\n",
       "      <th>5</th>\n",
       "      <td>2018</td>\n",
       "      <td>SK하이닉스</td>\n",
       "      <td>300</td>\n",
       "    </tr>\n",
       "  </tbody>\n",
       "</table>\n",
       "</div>"
      ],
      "text/plain": [
       "     연도      회사  시가총액\n",
       "0  2017      삼성   500\n",
       "1  2017      LG   300\n",
       "2  2017  SK하이닉스   200\n",
       "3  2018      삼성   600\n",
       "4  2018      LG   400\n",
       "5  2018  SK하이닉스   300"
      ]
     },
     "execution_count": 4,
     "metadata": {},
     "output_type": "execute_result"
    }
   ],
   "source": [
    "# 문제!\n",
    "# 연도별로 그룹바이 연산, 시가총액 평균 구하기\n",
    "data = [\n",
    "    [\"2017\", \"삼성\", 500],\n",
    "    [\"2017\", \"LG\", 300],    \n",
    "    [\"2017\", \"SK하이닉스\", 200],\n",
    "    [\"2018\", \"삼성\", 600],\n",
    "    [\"2018\", \"LG\", 400],\n",
    "    [\"2018\", \"SK하이닉스\", 300],    \n",
    "]\n",
    "\n",
    "columns = [\"연도\", \"회사\", \"시가총액\"]\n",
    "df = DataFrame(data=data, columns=columns)\n",
    "df\n",
    "\n",
    "#result = df.groupby(\"연도\")[[\"시가총액\"]].mean()\n",
    "#print(result)\n",
    "#print(type(result))\n",
    "# 이걸 데이터프레임으로 만들어야 합칠 수 있음. 그래서 데이터 프레임으로 만들어야 함.\n",
    "\n",
    "#result = df.groupby(\"연도\")[[\"시가총액\"]].mean() #.to_frame() ?? 뭐지 d왜 나는 이미 df였지?\n",
    "#result.columns = ['시가총액평균']\n",
    "#print(result)\n",
    "#print(type(result))\n",
    "\n",
    "#df2 = df.join(result, on = '연도') # 연도로 지정해줘야, df와 result가 다른 형태임에도, 알아서 잘 찾아서 값 넣어줌.\n",
    "#print(df2)"
   ]
  },
  {
   "cell_type": "code",
   "execution_count": 5,
   "id": "a420c93f-393f-470c-afd7-84eafde7671d",
   "metadata": {},
   "outputs": [],
   "source": [
    "# 문제\n",
    "# 시가총액평균 기준값으로\n",
    "# 새로운 커럼 : 규모\n",
    "# 대형주, 중소형주\n",
    "# numpy.where 사용"
   ]
  },
  {
   "cell_type": "code",
   "execution_count": 6,
   "id": "0c03bb5c-47a0-4fa0-91c1-6a2d022880c4",
   "metadata": {},
   "outputs": [
    {
     "name": "stdout",
     "output_type": "stream",
     "text": [
      "            시가총액\n",
      "연도              \n",
      "2017  333.333333\n",
      "2018  433.333333\n"
     ]
    }
   ],
   "source": [
    "result = df.groupby(\"연도\")[[\"시가총액\"]].mean()\n",
    "print(result)"
   ]
  },
  {
   "cell_type": "code",
   "execution_count": 8,
   "id": "95c6fc57-9fe8-4833-88f3-7e7949feae97",
   "metadata": {},
   "outputs": [],
   "source": [
    "result = df.groupby(\"연도\")[[\"시가총액\"]].mean()\n",
    "result.columns = ['시가총액평균']\n"
   ]
  },
  {
   "cell_type": "code",
   "execution_count": 9,
   "id": "d8bf32bf-4aea-49e7-aa98-0c944a12b2f4",
   "metadata": {},
   "outputs": [
    {
     "data": {
      "text/html": [
       "<div>\n",
       "<style scoped>\n",
       "    .dataframe tbody tr th:only-of-type {\n",
       "        vertical-align: middle;\n",
       "    }\n",
       "\n",
       "    .dataframe tbody tr th {\n",
       "        vertical-align: top;\n",
       "    }\n",
       "\n",
       "    .dataframe thead th {\n",
       "        text-align: right;\n",
       "    }\n",
       "</style>\n",
       "<table border=\"1\" class=\"dataframe\">\n",
       "  <thead>\n",
       "    <tr style=\"text-align: right;\">\n",
       "      <th></th>\n",
       "      <th>연도</th>\n",
       "      <th>회사</th>\n",
       "      <th>시가총액</th>\n",
       "      <th>시가총액평균</th>\n",
       "    </tr>\n",
       "  </thead>\n",
       "  <tbody>\n",
       "    <tr>\n",
       "      <th>0</th>\n",
       "      <td>2017</td>\n",
       "      <td>삼성</td>\n",
       "      <td>500</td>\n",
       "      <td>333.333333</td>\n",
       "    </tr>\n",
       "    <tr>\n",
       "      <th>1</th>\n",
       "      <td>2017</td>\n",
       "      <td>LG</td>\n",
       "      <td>300</td>\n",
       "      <td>333.333333</td>\n",
       "    </tr>\n",
       "    <tr>\n",
       "      <th>2</th>\n",
       "      <td>2017</td>\n",
       "      <td>SK하이닉스</td>\n",
       "      <td>200</td>\n",
       "      <td>333.333333</td>\n",
       "    </tr>\n",
       "    <tr>\n",
       "      <th>3</th>\n",
       "      <td>2018</td>\n",
       "      <td>삼성</td>\n",
       "      <td>600</td>\n",
       "      <td>433.333333</td>\n",
       "    </tr>\n",
       "    <tr>\n",
       "      <th>4</th>\n",
       "      <td>2018</td>\n",
       "      <td>LG</td>\n",
       "      <td>400</td>\n",
       "      <td>433.333333</td>\n",
       "    </tr>\n",
       "    <tr>\n",
       "      <th>5</th>\n",
       "      <td>2018</td>\n",
       "      <td>SK하이닉스</td>\n",
       "      <td>300</td>\n",
       "      <td>433.333333</td>\n",
       "    </tr>\n",
       "  </tbody>\n",
       "</table>\n",
       "</div>"
      ],
      "text/plain": [
       "     연도      회사  시가총액      시가총액평균\n",
       "0  2017      삼성   500  333.333333\n",
       "1  2017      LG   300  333.333333\n",
       "2  2017  SK하이닉스   200  333.333333\n",
       "3  2018      삼성   600  433.333333\n",
       "4  2018      LG   400  433.333333\n",
       "5  2018  SK하이닉스   300  433.333333"
      ]
     },
     "execution_count": 9,
     "metadata": {},
     "output_type": "execute_result"
    }
   ],
   "source": [
    "df2 = df.join(result, on = '연도') # 연도로 지정해줘야, df와 result가 다른 형태임에도, 알아서 잘 찾아서 값 넣어줌.\n",
    "df2"
   ]
  },
  {
   "cell_type": "code",
   "execution_count": 12,
   "id": "687090fa-34e4-42e5-8054-76b659af8e77",
   "metadata": {},
   "outputs": [
    {
     "data": {
      "text/plain": [
       "(array([0, 1, 2]),)"
      ]
     },
     "execution_count": 12,
     "metadata": {},
     "output_type": "execute_result"
    }
   ],
   "source": [
    "test1 = np.where(df2['시가총액평균']<400)\n",
    "test1"
   ]
  },
  {
   "cell_type": "code",
   "execution_count": 13,
   "id": "960213d3-7786-4f18-98b5-2ef6abecd8e3",
   "metadata": {},
   "outputs": [
    {
     "data": {
      "text/plain": [
       "array(['중소형주', '중소형주', '중소형주', '대형주', '대형주', '대형주'], dtype='<U4')"
      ]
     },
     "execution_count": 13,
     "metadata": {},
     "output_type": "execute_result"
    }
   ],
   "source": [
    "test2 = np.where(df2['시가총액평균']<400, '중소형주' , '대형주')\n",
    "test2"
   ]
  },
  {
   "cell_type": "code",
   "execution_count": 15,
   "id": "a43682fc-dd66-4e05-bbbf-5f6d4dac08fc",
   "metadata": {},
   "outputs": [
    {
     "data": {
      "text/html": [
       "<div>\n",
       "<style scoped>\n",
       "    .dataframe tbody tr th:only-of-type {\n",
       "        vertical-align: middle;\n",
       "    }\n",
       "\n",
       "    .dataframe tbody tr th {\n",
       "        vertical-align: top;\n",
       "    }\n",
       "\n",
       "    .dataframe thead th {\n",
       "        text-align: right;\n",
       "    }\n",
       "</style>\n",
       "<table border=\"1\" class=\"dataframe\">\n",
       "  <thead>\n",
       "    <tr style=\"text-align: right;\">\n",
       "      <th></th>\n",
       "      <th>연도</th>\n",
       "      <th>회사</th>\n",
       "      <th>시가총액</th>\n",
       "      <th>시가총액평균</th>\n",
       "      <th>규모</th>\n",
       "    </tr>\n",
       "  </thead>\n",
       "  <tbody>\n",
       "    <tr>\n",
       "      <th>0</th>\n",
       "      <td>2017</td>\n",
       "      <td>삼성</td>\n",
       "      <td>500</td>\n",
       "      <td>333.333333</td>\n",
       "      <td>대형주</td>\n",
       "    </tr>\n",
       "    <tr>\n",
       "      <th>1</th>\n",
       "      <td>2017</td>\n",
       "      <td>LG</td>\n",
       "      <td>300</td>\n",
       "      <td>333.333333</td>\n",
       "      <td>중소형주</td>\n",
       "    </tr>\n",
       "    <tr>\n",
       "      <th>2</th>\n",
       "      <td>2017</td>\n",
       "      <td>SK하이닉스</td>\n",
       "      <td>200</td>\n",
       "      <td>333.333333</td>\n",
       "      <td>중소형주</td>\n",
       "    </tr>\n",
       "    <tr>\n",
       "      <th>3</th>\n",
       "      <td>2018</td>\n",
       "      <td>삼성</td>\n",
       "      <td>600</td>\n",
       "      <td>433.333333</td>\n",
       "      <td>대형주</td>\n",
       "    </tr>\n",
       "    <tr>\n",
       "      <th>4</th>\n",
       "      <td>2018</td>\n",
       "      <td>LG</td>\n",
       "      <td>400</td>\n",
       "      <td>433.333333</td>\n",
       "      <td>중소형주</td>\n",
       "    </tr>\n",
       "    <tr>\n",
       "      <th>5</th>\n",
       "      <td>2018</td>\n",
       "      <td>SK하이닉스</td>\n",
       "      <td>300</td>\n",
       "      <td>433.333333</td>\n",
       "      <td>중소형주</td>\n",
       "    </tr>\n",
       "  </tbody>\n",
       "</table>\n",
       "</div>"
      ],
      "text/plain": [
       "     연도      회사  시가총액      시가총액평균    규모\n",
       "0  2017      삼성   500  333.333333   대형주\n",
       "1  2017      LG   300  333.333333  중소형주\n",
       "2  2017  SK하이닉스   200  333.333333  중소형주\n",
       "3  2018      삼성   600  433.333333   대형주\n",
       "4  2018      LG   400  433.333333  중소형주\n",
       "5  2018  SK하이닉스   300  433.333333  중소형주"
      ]
     },
     "execution_count": 15,
     "metadata": {},
     "output_type": "execute_result"
    }
   ],
   "source": [
    "df2['규모'] = np.where(df2['시가총액']<= df2['시가총액평균'] , '중소형주' , '대형주')\n",
    "df2"
   ]
  },
  {
   "cell_type": "code",
   "execution_count": 16,
   "id": "94b607af-c036-4e29-bba4-bb7072796857",
   "metadata": {},
   "outputs": [],
   "source": [
    "# 위는, numpy.where 홀용해서 sereies 연산 한 것"
   ]
  },
  {
   "cell_type": "code",
   "execution_count": 17,
   "id": "b6d069b1-bc0b-4f74-8807-b22facbb6850",
   "metadata": {},
   "outputs": [
    {
     "data": {
      "text/html": [
       "<div>\n",
       "<style scoped>\n",
       "    .dataframe tbody tr th:only-of-type {\n",
       "        vertical-align: middle;\n",
       "    }\n",
       "\n",
       "    .dataframe tbody tr th {\n",
       "        vertical-align: top;\n",
       "    }\n",
       "\n",
       "    .dataframe thead th {\n",
       "        text-align: right;\n",
       "    }\n",
       "</style>\n",
       "<table border=\"1\" class=\"dataframe\">\n",
       "  <thead>\n",
       "    <tr style=\"text-align: right;\">\n",
       "      <th></th>\n",
       "      <th>연도</th>\n",
       "      <th>회사</th>\n",
       "      <th>시가총액</th>\n",
       "      <th>규모</th>\n",
       "    </tr>\n",
       "  </thead>\n",
       "  <tbody>\n",
       "    <tr>\n",
       "      <th>0</th>\n",
       "      <td>2017</td>\n",
       "      <td>삼성</td>\n",
       "      <td>500</td>\n",
       "      <td>대형주</td>\n",
       "    </tr>\n",
       "    <tr>\n",
       "      <th>1</th>\n",
       "      <td>2017</td>\n",
       "      <td>LG</td>\n",
       "      <td>300</td>\n",
       "      <td>중소형주</td>\n",
       "    </tr>\n",
       "    <tr>\n",
       "      <th>2</th>\n",
       "      <td>2017</td>\n",
       "      <td>SK하이닉스</td>\n",
       "      <td>200</td>\n",
       "      <td>중소형주</td>\n",
       "    </tr>\n",
       "    <tr>\n",
       "      <th>3</th>\n",
       "      <td>2018</td>\n",
       "      <td>삼성</td>\n",
       "      <td>600</td>\n",
       "      <td>대형주</td>\n",
       "    </tr>\n",
       "    <tr>\n",
       "      <th>4</th>\n",
       "      <td>2018</td>\n",
       "      <td>LG</td>\n",
       "      <td>400</td>\n",
       "      <td>중소형주</td>\n",
       "    </tr>\n",
       "    <tr>\n",
       "      <th>5</th>\n",
       "      <td>2018</td>\n",
       "      <td>SK하이닉스</td>\n",
       "      <td>300</td>\n",
       "      <td>중소형주</td>\n",
       "    </tr>\n",
       "  </tbody>\n",
       "</table>\n",
       "</div>"
      ],
      "text/plain": [
       "     연도      회사  시가총액    규모\n",
       "0  2017      삼성   500   대형주\n",
       "1  2017      LG   300  중소형주\n",
       "2  2017  SK하이닉스   200  중소형주\n",
       "3  2018      삼성   600   대형주\n",
       "4  2018      LG   400  중소형주\n",
       "5  2018  SK하이닉스   300  중소형주"
      ]
     },
     "execution_count": 17,
     "metadata": {},
     "output_type": "execute_result"
    }
   ],
   "source": [
    "df3=df2.drop('시가총액평균', axis=1)\n",
    "df3"
   ]
  },
  {
   "cell_type": "markdown",
   "id": "1e3cf15b-cf5c-400d-8d91-e2bebe5e9ce1",
   "metadata": {},
   "source": [
    "# Multi Index"
   ]
  },
  {
   "cell_type": "code",
   "execution_count": 18,
   "id": "f455d839-606e-4fe5-b0ef-977267516add",
   "metadata": {},
   "outputs": [
    {
     "data": {
      "text/html": [
       "<div>\n",
       "<style scoped>\n",
       "    .dataframe tbody tr th:only-of-type {\n",
       "        vertical-align: middle;\n",
       "    }\n",
       "\n",
       "    .dataframe tbody tr th {\n",
       "        vertical-align: top;\n",
       "    }\n",
       "\n",
       "    .dataframe thead th {\n",
       "        text-align: right;\n",
       "    }\n",
       "</style>\n",
       "<table border=\"1\" class=\"dataframe\">\n",
       "  <thead>\n",
       "    <tr style=\"text-align: right;\">\n",
       "      <th></th>\n",
       "      <th></th>\n",
       "      <th>2</th>\n",
       "      <th>3</th>\n",
       "    </tr>\n",
       "    <tr>\n",
       "      <th>0</th>\n",
       "      <th>1</th>\n",
       "      <th></th>\n",
       "      <th></th>\n",
       "    </tr>\n",
       "  </thead>\n",
       "  <tbody>\n",
       "    <tr>\n",
       "      <th rowspan=\"2\" valign=\"top\">영업이익</th>\n",
       "      <th>컨센서스</th>\n",
       "      <td>1000</td>\n",
       "      <td>1200</td>\n",
       "    </tr>\n",
       "    <tr>\n",
       "      <th>잠정치</th>\n",
       "      <td>900</td>\n",
       "      <td>1400</td>\n",
       "    </tr>\n",
       "    <tr>\n",
       "      <th rowspan=\"2\" valign=\"top\">당기순이익</th>\n",
       "      <th>컨센서스</th>\n",
       "      <td>800</td>\n",
       "      <td>900</td>\n",
       "    </tr>\n",
       "    <tr>\n",
       "      <th>잠정치</th>\n",
       "      <td>700</td>\n",
       "      <td>800</td>\n",
       "    </tr>\n",
       "  </tbody>\n",
       "</table>\n",
       "</div>"
      ],
      "text/plain": [
       "               2     3\n",
       "0     1               \n",
       "영업이익  컨센서스  1000  1200\n",
       "      잠정치    900  1400\n",
       "당기순이익 컨센서스   800   900\n",
       "      잠정치    700   800"
      ]
     },
     "execution_count": 18,
     "metadata": {},
     "output_type": "execute_result"
    }
   ],
   "source": [
    "from pandas import DataFrame\n",
    "import pandas as pd\n",
    "\n",
    "data = [\n",
    "    [\"영업이익\", \"컨센서스\", 1000, 1200],\n",
    "    [\"영업이익\", \"잠정치\", 900, 1400],\n",
    "    [\"당기순이익\", \"컨센서스\", 800, 900],\n",
    "    [\"당기순이익\", \"잠정치\", 700, 800]\n",
    "]\n",
    "\n",
    "df = DataFrame(data=data)\n",
    "df = df.set_index([0, 1])\n",
    "df"
   ]
  },
  {
   "cell_type": "code",
   "execution_count": 19,
   "id": "248c9cdb-f7d1-4ea0-886e-b318b9ff22a1",
   "metadata": {},
   "outputs": [
    {
     "data": {
      "text/plain": [
       "pandas.core.frame.DataFrame"
      ]
     },
     "execution_count": 19,
     "metadata": {},
     "output_type": "execute_result"
    }
   ],
   "source": [
    "type(df)"
   ]
  },
  {
   "cell_type": "code",
   "execution_count": 20,
   "id": "dc0d2416-440c-47fa-a415-46fa3c65ef76",
   "metadata": {},
   "outputs": [],
   "source": [
    "# 이 데이터프레임은 인덱스가 두개임!! multi inde"
   ]
  },
  {
   "cell_type": "code",
   "execution_count": 21,
   "id": "53d1609f-6574-4b9c-acbc-c0b9b7fc8348",
   "metadata": {},
   "outputs": [
    {
     "data": {
      "text/html": [
       "<div>\n",
       "<style scoped>\n",
       "    .dataframe tbody tr th:only-of-type {\n",
       "        vertical-align: middle;\n",
       "    }\n",
       "\n",
       "    .dataframe tbody tr th {\n",
       "        vertical-align: top;\n",
       "    }\n",
       "\n",
       "    .dataframe thead th {\n",
       "        text-align: right;\n",
       "    }\n",
       "</style>\n",
       "<table border=\"1\" class=\"dataframe\">\n",
       "  <thead>\n",
       "    <tr style=\"text-align: right;\">\n",
       "      <th></th>\n",
       "      <th>2</th>\n",
       "      <th>3</th>\n",
       "    </tr>\n",
       "    <tr>\n",
       "      <th>1</th>\n",
       "      <th></th>\n",
       "      <th></th>\n",
       "    </tr>\n",
       "  </thead>\n",
       "  <tbody>\n",
       "    <tr>\n",
       "      <th>컨센서스</th>\n",
       "      <td>1000</td>\n",
       "      <td>1200</td>\n",
       "    </tr>\n",
       "    <tr>\n",
       "      <th>잠정치</th>\n",
       "      <td>900</td>\n",
       "      <td>1400</td>\n",
       "    </tr>\n",
       "  </tbody>\n",
       "</table>\n",
       "</div>"
      ],
      "text/plain": [
       "         2     3\n",
       "1               \n",
       "컨센서스  1000  1200\n",
       "잠정치    900  1400"
      ]
     },
     "execution_count": 21,
     "metadata": {},
     "output_type": "execute_result"
    }
   ],
   "source": [
    "df.loc[('영업이익'),:]"
   ]
  },
  {
   "cell_type": "code",
   "execution_count": 22,
   "id": "2e805601-3d61-482d-8783-3cafd0e3d839",
   "metadata": {},
   "outputs": [
    {
     "data": {
      "text/plain": [
       "2    1000\n",
       "3    1200\n",
       "Name: (영업이익, 컨센서스), dtype: int64"
      ]
     },
     "execution_count": 22,
     "metadata": {},
     "output_type": "execute_result"
    }
   ],
   "source": [
    "df.loc[('영업이익', '컨센서스'),:]"
   ]
  },
  {
   "cell_type": "code",
   "execution_count": 24,
   "id": "6c9ac10e-6538-414d-9803-90ecd482f30e",
   "metadata": {},
   "outputs": [
    {
     "data": {
      "text/html": [
       "<div>\n",
       "<style scoped>\n",
       "    .dataframe tbody tr th:only-of-type {\n",
       "        vertical-align: middle;\n",
       "    }\n",
       "\n",
       "    .dataframe tbody tr th {\n",
       "        vertical-align: top;\n",
       "    }\n",
       "\n",
       "    .dataframe thead th {\n",
       "        text-align: right;\n",
       "    }\n",
       "</style>\n",
       "<table border=\"1\" class=\"dataframe\">\n",
       "  <thead>\n",
       "    <tr style=\"text-align: right;\">\n",
       "      <th></th>\n",
       "      <th>0</th>\n",
       "      <th>1</th>\n",
       "      <th>2</th>\n",
       "      <th>3</th>\n",
       "    </tr>\n",
       "  </thead>\n",
       "  <tbody>\n",
       "    <tr>\n",
       "      <th>0</th>\n",
       "      <td>영업이익</td>\n",
       "      <td>컨센서스</td>\n",
       "      <td>1000</td>\n",
       "      <td>1200</td>\n",
       "    </tr>\n",
       "    <tr>\n",
       "      <th>1</th>\n",
       "      <td>영업이익</td>\n",
       "      <td>잠정치</td>\n",
       "      <td>900</td>\n",
       "      <td>1400</td>\n",
       "    </tr>\n",
       "    <tr>\n",
       "      <th>2</th>\n",
       "      <td>당기순이익</td>\n",
       "      <td>컨센서스</td>\n",
       "      <td>800</td>\n",
       "      <td>900</td>\n",
       "    </tr>\n",
       "    <tr>\n",
       "      <th>3</th>\n",
       "      <td>당기순이익</td>\n",
       "      <td>잠정치</td>\n",
       "      <td>700</td>\n",
       "      <td>800</td>\n",
       "    </tr>\n",
       "  </tbody>\n",
       "</table>\n",
       "</div>"
      ],
      "text/plain": [
       "       0     1     2     3\n",
       "0   영업이익  컨센서스  1000  1200\n",
       "1   영업이익   잠정치   900  1400\n",
       "2  당기순이익  컨센서스   800   900\n",
       "3  당기순이익   잠정치   700   800"
      ]
     },
     "execution_count": 24,
     "metadata": {},
     "output_type": "execute_result"
    }
   ],
   "source": [
    "df2 = df.reset_index()\n",
    "df2\n",
    "# 멀티 인덱스가 다루기 어려울 떈... 이렇게 해보셈. "
   ]
  },
  {
   "cell_type": "code",
   "execution_count": 25,
   "id": "3e3c25ce-1ef9-477d-ab6a-c7b5258af565",
   "metadata": {},
   "outputs": [],
   "source": [
    "# group by 연산할 떄 기준값 두개 주면 무조건 multi index 나옴. 익수갷져야할ㄷ스"
   ]
  },
  {
   "cell_type": "code",
   "execution_count": 26,
   "id": "e4e7acb5-f684-41ae-bad7-b163aa57ed92",
   "metadata": {},
   "outputs": [],
   "source": [
    "# 연습"
   ]
  },
  {
   "cell_type": "code",
   "execution_count": 27,
   "id": "6e55efe9-e923-4fa6-ba86-2a20704c8b55",
   "metadata": {},
   "outputs": [
    {
     "data": {
      "text/html": [
       "<div>\n",
       "<style scoped>\n",
       "    .dataframe tbody tr th:only-of-type {\n",
       "        vertical-align: middle;\n",
       "    }\n",
       "\n",
       "    .dataframe tbody tr th {\n",
       "        vertical-align: top;\n",
       "    }\n",
       "\n",
       "    .dataframe thead th {\n",
       "        text-align: right;\n",
       "    }\n",
       "</style>\n",
       "<table border=\"1\" class=\"dataframe\">\n",
       "  <thead>\n",
       "    <tr style=\"text-align: right;\">\n",
       "      <th></th>\n",
       "      <th>total_bill</th>\n",
       "      <th>tip</th>\n",
       "      <th>sex</th>\n",
       "      <th>smoker</th>\n",
       "      <th>day</th>\n",
       "      <th>time</th>\n",
       "      <th>size</th>\n",
       "    </tr>\n",
       "  </thead>\n",
       "  <tbody>\n",
       "    <tr>\n",
       "      <th>0</th>\n",
       "      <td>16.99</td>\n",
       "      <td>1.01</td>\n",
       "      <td>Female</td>\n",
       "      <td>No</td>\n",
       "      <td>Sun</td>\n",
       "      <td>Dinner</td>\n",
       "      <td>2</td>\n",
       "    </tr>\n",
       "    <tr>\n",
       "      <th>1</th>\n",
       "      <td>10.34</td>\n",
       "      <td>1.66</td>\n",
       "      <td>Male</td>\n",
       "      <td>No</td>\n",
       "      <td>Sun</td>\n",
       "      <td>Dinner</td>\n",
       "      <td>3</td>\n",
       "    </tr>\n",
       "    <tr>\n",
       "      <th>2</th>\n",
       "      <td>21.01</td>\n",
       "      <td>3.50</td>\n",
       "      <td>Male</td>\n",
       "      <td>No</td>\n",
       "      <td>Sun</td>\n",
       "      <td>Dinner</td>\n",
       "      <td>3</td>\n",
       "    </tr>\n",
       "    <tr>\n",
       "      <th>3</th>\n",
       "      <td>23.68</td>\n",
       "      <td>3.31</td>\n",
       "      <td>Male</td>\n",
       "      <td>No</td>\n",
       "      <td>Sun</td>\n",
       "      <td>Dinner</td>\n",
       "      <td>2</td>\n",
       "    </tr>\n",
       "    <tr>\n",
       "      <th>4</th>\n",
       "      <td>24.59</td>\n",
       "      <td>3.61</td>\n",
       "      <td>Female</td>\n",
       "      <td>No</td>\n",
       "      <td>Sun</td>\n",
       "      <td>Dinner</td>\n",
       "      <td>4</td>\n",
       "    </tr>\n",
       "    <tr>\n",
       "      <th>...</th>\n",
       "      <td>...</td>\n",
       "      <td>...</td>\n",
       "      <td>...</td>\n",
       "      <td>...</td>\n",
       "      <td>...</td>\n",
       "      <td>...</td>\n",
       "      <td>...</td>\n",
       "    </tr>\n",
       "    <tr>\n",
       "      <th>239</th>\n",
       "      <td>29.03</td>\n",
       "      <td>5.92</td>\n",
       "      <td>Male</td>\n",
       "      <td>No</td>\n",
       "      <td>Sat</td>\n",
       "      <td>Dinner</td>\n",
       "      <td>3</td>\n",
       "    </tr>\n",
       "    <tr>\n",
       "      <th>240</th>\n",
       "      <td>27.18</td>\n",
       "      <td>2.00</td>\n",
       "      <td>Female</td>\n",
       "      <td>Yes</td>\n",
       "      <td>Sat</td>\n",
       "      <td>Dinner</td>\n",
       "      <td>2</td>\n",
       "    </tr>\n",
       "    <tr>\n",
       "      <th>241</th>\n",
       "      <td>22.67</td>\n",
       "      <td>2.00</td>\n",
       "      <td>Male</td>\n",
       "      <td>Yes</td>\n",
       "      <td>Sat</td>\n",
       "      <td>Dinner</td>\n",
       "      <td>2</td>\n",
       "    </tr>\n",
       "    <tr>\n",
       "      <th>242</th>\n",
       "      <td>17.82</td>\n",
       "      <td>1.75</td>\n",
       "      <td>Male</td>\n",
       "      <td>No</td>\n",
       "      <td>Sat</td>\n",
       "      <td>Dinner</td>\n",
       "      <td>2</td>\n",
       "    </tr>\n",
       "    <tr>\n",
       "      <th>243</th>\n",
       "      <td>18.78</td>\n",
       "      <td>3.00</td>\n",
       "      <td>Female</td>\n",
       "      <td>No</td>\n",
       "      <td>Thur</td>\n",
       "      <td>Dinner</td>\n",
       "      <td>2</td>\n",
       "    </tr>\n",
       "  </tbody>\n",
       "</table>\n",
       "<p>244 rows × 7 columns</p>\n",
       "</div>"
      ],
      "text/plain": [
       "     total_bill   tip     sex smoker   day    time  size\n",
       "0         16.99  1.01  Female     No   Sun  Dinner     2\n",
       "1         10.34  1.66    Male     No   Sun  Dinner     3\n",
       "2         21.01  3.50    Male     No   Sun  Dinner     3\n",
       "3         23.68  3.31    Male     No   Sun  Dinner     2\n",
       "4         24.59  3.61  Female     No   Sun  Dinner     4\n",
       "..          ...   ...     ...    ...   ...     ...   ...\n",
       "239       29.03  5.92    Male     No   Sat  Dinner     3\n",
       "240       27.18  2.00  Female    Yes   Sat  Dinner     2\n",
       "241       22.67  2.00    Male    Yes   Sat  Dinner     2\n",
       "242       17.82  1.75    Male     No   Sat  Dinner     2\n",
       "243       18.78  3.00  Female     No  Thur  Dinner     2\n",
       "\n",
       "[244 rows x 7 columns]"
      ]
     },
     "execution_count": 27,
     "metadata": {},
     "output_type": "execute_result"
    }
   ],
   "source": [
    "tips = sns.load_dataset(\"tips\")\n",
    "tips"
   ]
  },
  {
   "cell_type": "code",
   "execution_count": 30,
   "id": "ec4a8b5a-3278-417a-81c3-573e41ded2e9",
   "metadata": {},
   "outputs": [
    {
     "name": "stderr",
     "output_type": "stream",
     "text": [
      "C:\\Users\\chaer\\AppData\\Local\\Temp\\ipykernel_9832\\3028506295.py:1: FutureWarning: The default of observed=False is deprecated and will be changed to True in a future version of pandas. Pass observed=False to retain current behavior or observed=True to adopt the future default and silence this warning.\n",
      "  tips.groupby(['sex','smoker','day'])[['total_bill', 'tip']].mean()\n"
     ]
    },
    {
     "data": {
      "text/html": [
       "<div>\n",
       "<style scoped>\n",
       "    .dataframe tbody tr th:only-of-type {\n",
       "        vertical-align: middle;\n",
       "    }\n",
       "\n",
       "    .dataframe tbody tr th {\n",
       "        vertical-align: top;\n",
       "    }\n",
       "\n",
       "    .dataframe thead th {\n",
       "        text-align: right;\n",
       "    }\n",
       "</style>\n",
       "<table border=\"1\" class=\"dataframe\">\n",
       "  <thead>\n",
       "    <tr style=\"text-align: right;\">\n",
       "      <th></th>\n",
       "      <th></th>\n",
       "      <th></th>\n",
       "      <th>total_bill</th>\n",
       "      <th>tip</th>\n",
       "    </tr>\n",
       "    <tr>\n",
       "      <th>sex</th>\n",
       "      <th>smoker</th>\n",
       "      <th>day</th>\n",
       "      <th></th>\n",
       "      <th></th>\n",
       "    </tr>\n",
       "  </thead>\n",
       "  <tbody>\n",
       "    <tr>\n",
       "      <th rowspan=\"8\" valign=\"top\">Male</th>\n",
       "      <th rowspan=\"4\" valign=\"top\">Yes</th>\n",
       "      <th>Thur</th>\n",
       "      <td>19.171000</td>\n",
       "      <td>3.058000</td>\n",
       "    </tr>\n",
       "    <tr>\n",
       "      <th>Fri</th>\n",
       "      <td>20.452500</td>\n",
       "      <td>2.741250</td>\n",
       "    </tr>\n",
       "    <tr>\n",
       "      <th>Sat</th>\n",
       "      <td>21.837778</td>\n",
       "      <td>2.879259</td>\n",
       "    </tr>\n",
       "    <tr>\n",
       "      <th>Sun</th>\n",
       "      <td>26.141333</td>\n",
       "      <td>3.521333</td>\n",
       "    </tr>\n",
       "    <tr>\n",
       "      <th rowspan=\"4\" valign=\"top\">No</th>\n",
       "      <th>Thur</th>\n",
       "      <td>18.486500</td>\n",
       "      <td>2.941500</td>\n",
       "    </tr>\n",
       "    <tr>\n",
       "      <th>Fri</th>\n",
       "      <td>17.475000</td>\n",
       "      <td>2.500000</td>\n",
       "    </tr>\n",
       "    <tr>\n",
       "      <th>Sat</th>\n",
       "      <td>19.929063</td>\n",
       "      <td>3.256563</td>\n",
       "    </tr>\n",
       "    <tr>\n",
       "      <th>Sun</th>\n",
       "      <td>20.403256</td>\n",
       "      <td>3.115349</td>\n",
       "    </tr>\n",
       "    <tr>\n",
       "      <th rowspan=\"8\" valign=\"top\">Female</th>\n",
       "      <th rowspan=\"4\" valign=\"top\">Yes</th>\n",
       "      <th>Thur</th>\n",
       "      <td>19.218571</td>\n",
       "      <td>2.990000</td>\n",
       "    </tr>\n",
       "    <tr>\n",
       "      <th>Fri</th>\n",
       "      <td>12.654286</td>\n",
       "      <td>2.682857</td>\n",
       "    </tr>\n",
       "    <tr>\n",
       "      <th>Sat</th>\n",
       "      <td>20.266667</td>\n",
       "      <td>2.868667</td>\n",
       "    </tr>\n",
       "    <tr>\n",
       "      <th>Sun</th>\n",
       "      <td>16.540000</td>\n",
       "      <td>3.500000</td>\n",
       "    </tr>\n",
       "    <tr>\n",
       "      <th rowspan=\"4\" valign=\"top\">No</th>\n",
       "      <th>Thur</th>\n",
       "      <td>16.014400</td>\n",
       "      <td>2.459600</td>\n",
       "    </tr>\n",
       "    <tr>\n",
       "      <th>Fri</th>\n",
       "      <td>19.365000</td>\n",
       "      <td>3.125000</td>\n",
       "    </tr>\n",
       "    <tr>\n",
       "      <th>Sat</th>\n",
       "      <td>19.003846</td>\n",
       "      <td>2.724615</td>\n",
       "    </tr>\n",
       "    <tr>\n",
       "      <th>Sun</th>\n",
       "      <td>20.824286</td>\n",
       "      <td>3.329286</td>\n",
       "    </tr>\n",
       "  </tbody>\n",
       "</table>\n",
       "</div>"
      ],
      "text/plain": [
       "                    total_bill       tip\n",
       "sex    smoker day                       \n",
       "Male   Yes    Thur   19.171000  3.058000\n",
       "              Fri    20.452500  2.741250\n",
       "              Sat    21.837778  2.879259\n",
       "              Sun    26.141333  3.521333\n",
       "       No     Thur   18.486500  2.941500\n",
       "              Fri    17.475000  2.500000\n",
       "              Sat    19.929063  3.256563\n",
       "              Sun    20.403256  3.115349\n",
       "Female Yes    Thur   19.218571  2.990000\n",
       "              Fri    12.654286  2.682857\n",
       "              Sat    20.266667  2.868667\n",
       "              Sun    16.540000  3.500000\n",
       "       No     Thur   16.014400  2.459600\n",
       "              Fri    19.365000  3.125000\n",
       "              Sat    19.003846  2.724615\n",
       "              Sun    20.824286  3.329286"
      ]
     },
     "execution_count": 30,
     "metadata": {},
     "output_type": "execute_result"
    }
   ],
   "source": [
    "tips.groupby(['sex','smoker','day'])[['total_bill', 'tip']].mean()"
   ]
  },
  {
   "cell_type": "code",
   "execution_count": 31,
   "id": "de82e605-b924-44d0-ac2a-dfdb259615ec",
   "metadata": {},
   "outputs": [
    {
     "name": "stderr",
     "output_type": "stream",
     "text": [
      "C:\\Users\\chaer\\AppData\\Local\\Temp\\ipykernel_9832\\1606572608.py:2: FutureWarning: The default of observed=False is deprecated and will be changed to True in a future version of pandas. Pass observed=False to retain current behavior or observed=True to adopt the future default and silence this warning.\n",
      "  result = tips.groupby(['sex','smoker','day'])[['total_bill', 'tip']].mean()\n",
      "C:\\Users\\chaer\\AppData\\Local\\Temp\\ipykernel_9832\\1606572608.py:3: FutureWarning: Series.__getitem__ treating keys as positions is deprecated. In a future version, integer keys will always be treated as labels (consistent with DataFrame behavior). To access a value by position, use `ser.iloc[pos]`\n",
      "  result.loc[('Male','Yes','Fri'), :][1]\n"
     ]
    },
    {
     "data": {
      "text/plain": [
       "np.float64(2.74125)"
      ]
     },
     "execution_count": 31,
     "metadata": {},
     "output_type": "execute_result"
    }
   ],
   "source": [
    "# multi index 접근하기\n",
    "result = tips.groupby(['sex','smoker','day'])[['total_bill', 'tip']].mean()\n",
    "result.loc[('Male','Yes','Fri'), :][1]"
   ]
  },
  {
   "cell_type": "code",
   "execution_count": 38,
   "id": "03f0a96f-41a6-43b2-bd35-3e02ea7aa281",
   "metadata": {},
   "outputs": [
    {
     "name": "stderr",
     "output_type": "stream",
     "text": [
      "C:\\Users\\chaer\\AppData\\Local\\Temp\\ipykernel_9832\\395181603.py:2: FutureWarning: The default of observed=False is deprecated and will be changed to True in a future version of pandas. Pass observed=False to retain current behavior or observed=True to adopt the future default and silence this warning.\n",
      "  result2 = tips.groupby(['sex', 'smoker', 'day'])[['total_bill', 'tip']].mean().reset_index()\n"
     ]
    },
    {
     "data": {
      "text/html": [
       "<div>\n",
       "<style scoped>\n",
       "    .dataframe tbody tr th:only-of-type {\n",
       "        vertical-align: middle;\n",
       "    }\n",
       "\n",
       "    .dataframe tbody tr th {\n",
       "        vertical-align: top;\n",
       "    }\n",
       "\n",
       "    .dataframe thead th {\n",
       "        text-align: right;\n",
       "    }\n",
       "</style>\n",
       "<table border=\"1\" class=\"dataframe\">\n",
       "  <thead>\n",
       "    <tr style=\"text-align: right;\">\n",
       "      <th></th>\n",
       "      <th>sex</th>\n",
       "      <th>smoker</th>\n",
       "      <th>day</th>\n",
       "      <th>total_bill</th>\n",
       "      <th>tip</th>\n",
       "    </tr>\n",
       "  </thead>\n",
       "  <tbody>\n",
       "    <tr>\n",
       "      <th>1</th>\n",
       "      <td>Male</td>\n",
       "      <td>Yes</td>\n",
       "      <td>Fri</td>\n",
       "      <td>20.452500</td>\n",
       "      <td>2.741250</td>\n",
       "    </tr>\n",
       "    <tr>\n",
       "      <th>5</th>\n",
       "      <td>Male</td>\n",
       "      <td>No</td>\n",
       "      <td>Fri</td>\n",
       "      <td>17.475000</td>\n",
       "      <td>2.500000</td>\n",
       "    </tr>\n",
       "    <tr>\n",
       "      <th>9</th>\n",
       "      <td>Female</td>\n",
       "      <td>Yes</td>\n",
       "      <td>Fri</td>\n",
       "      <td>12.654286</td>\n",
       "      <td>2.682857</td>\n",
       "    </tr>\n",
       "    <tr>\n",
       "      <th>13</th>\n",
       "      <td>Female</td>\n",
       "      <td>No</td>\n",
       "      <td>Fri</td>\n",
       "      <td>19.365000</td>\n",
       "      <td>3.125000</td>\n",
       "    </tr>\n",
       "  </tbody>\n",
       "</table>\n",
       "</div>"
      ],
      "text/plain": [
       "       sex smoker  day  total_bill       tip\n",
       "1     Male    Yes  Fri   20.452500  2.741250\n",
       "5     Male     No  Fri   17.475000  2.500000\n",
       "9   Female    Yes  Fri   12.654286  2.682857\n",
       "13  Female     No  Fri   19.365000  3.125000"
      ]
     },
     "execution_count": 38,
     "metadata": {},
     "output_type": "execute_result"
    }
   ],
   "source": [
    "# reset index 해서 해오기\n",
    "result2 = tips.groupby(['sex', 'smoker', 'day'])[['total_bill', 'tip']].mean().reset_index()\n",
    "result2.loc[result2['day'] == 'Fri', :]"
   ]
  },
  {
   "cell_type": "code",
   "execution_count": 39,
   "id": "5709e757-c77d-44f9-ae53-6f1b9d29c2fc",
   "metadata": {},
   "outputs": [
    {
     "data": {
      "text/html": [
       "<div>\n",
       "<style scoped>\n",
       "    .dataframe tbody tr th:only-of-type {\n",
       "        vertical-align: middle;\n",
       "    }\n",
       "\n",
       "    .dataframe tbody tr th {\n",
       "        vertical-align: top;\n",
       "    }\n",
       "\n",
       "    .dataframe thead tr th {\n",
       "        text-align: left;\n",
       "    }\n",
       "</style>\n",
       "<table border=\"1\" class=\"dataframe\">\n",
       "  <thead>\n",
       "    <tr>\n",
       "      <th></th>\n",
       "      <th colspan=\"2\" halign=\"left\">영업이익</th>\n",
       "      <th colspan=\"2\" halign=\"left\">당기순이익</th>\n",
       "    </tr>\n",
       "    <tr>\n",
       "      <th></th>\n",
       "      <th>컨센서스</th>\n",
       "      <th>잠정치</th>\n",
       "      <th>컨센서스</th>\n",
       "      <th>잠정치</th>\n",
       "    </tr>\n",
       "  </thead>\n",
       "  <tbody>\n",
       "    <tr>\n",
       "      <th>2020/06</th>\n",
       "      <td>100</td>\n",
       "      <td>900</td>\n",
       "      <td>800</td>\n",
       "      <td>700</td>\n",
       "    </tr>\n",
       "    <tr>\n",
       "      <th>2020/09</th>\n",
       "      <td>1200</td>\n",
       "      <td>1400</td>\n",
       "      <td>900</td>\n",
       "      <td>800</td>\n",
       "    </tr>\n",
       "  </tbody>\n",
       "</table>\n",
       "</div>"
      ],
      "text/plain": [
       "         영업이익       당기순이익     \n",
       "         컨센서스   잠정치  컨센서스  잠정치\n",
       "2020/06   100   900   800  700\n",
       "2020/09  1200  1400   900  800"
      ]
     },
     "execution_count": 39,
     "metadata": {},
     "output_type": "execute_result"
    }
   ],
   "source": [
    "from pandas import DataFrame\n",
    "\n",
    "data = [\n",
    "    [100, 900, 800, 700],\n",
    "    [1200, 1400, 900, 800]\n",
    "]\n",
    "\n",
    "columns = [\n",
    "    ['영업이익', '영업이익', '당기순이익', '당기순이익'],\n",
    "    ['컨센서스', '잠정치', '컨센서스', '잠정치']\n",
    "]\n",
    "\n",
    "index = [\"2020/06\", \"2020/09\"]\n",
    "\n",
    "df = DataFrame(data=data, index=index, columns=columns)\n",
    "df"
   ]
  },
  {
   "cell_type": "code",
   "execution_count": 40,
   "id": "49c21515-61de-4c52-a4a4-09feb2564c58",
   "metadata": {},
   "outputs": [],
   "source": [
    "# 영업이익 부분을 level 0\n",
    "# 컨센서스 행을 level 1 \n",
    "# 이라고 부른다. 계층구조 명칭임."
   ]
  },
  {
   "cell_type": "code",
   "execution_count": 41,
   "id": "86a77a79-4b42-46ac-99f0-8a3a0b219689",
   "metadata": {},
   "outputs": [],
   "source": [
    "# 여기서 해당 값을 갖고 오고 싶다믄.."
   ]
  },
  {
   "cell_type": "code",
   "execution_count": 42,
   "id": "5702f2eb-2b4b-4bf8-a42c-caa6b2afb59c",
   "metadata": {},
   "outputs": [
    {
     "data": {
      "text/html": [
       "<div>\n",
       "<style scoped>\n",
       "    .dataframe tbody tr th:only-of-type {\n",
       "        vertical-align: middle;\n",
       "    }\n",
       "\n",
       "    .dataframe tbody tr th {\n",
       "        vertical-align: top;\n",
       "    }\n",
       "\n",
       "    .dataframe thead th {\n",
       "        text-align: right;\n",
       "    }\n",
       "</style>\n",
       "<table border=\"1\" class=\"dataframe\">\n",
       "  <thead>\n",
       "    <tr style=\"text-align: right;\">\n",
       "      <th></th>\n",
       "      <th>컨센서스</th>\n",
       "      <th>잠정치</th>\n",
       "    </tr>\n",
       "  </thead>\n",
       "  <tbody>\n",
       "    <tr>\n",
       "      <th>2020/06</th>\n",
       "      <td>100</td>\n",
       "      <td>900</td>\n",
       "    </tr>\n",
       "    <tr>\n",
       "      <th>2020/09</th>\n",
       "      <td>1200</td>\n",
       "      <td>1400</td>\n",
       "    </tr>\n",
       "  </tbody>\n",
       "</table>\n",
       "</div>"
      ],
      "text/plain": [
       "         컨센서스   잠정치\n",
       "2020/06   100   900\n",
       "2020/09  1200  1400"
      ]
     },
     "execution_count": 42,
     "metadata": {},
     "output_type": "execute_result"
    }
   ],
   "source": [
    "import pandas as pd\n",
    "\n",
    "level_0 = [\"영업이익\", \"당기순이익\"]\n",
    "level_1 = [\"컨센서스\", \"잠정치\"]\n",
    "\n",
    "idx = pd.MultiIndex.from_product([level_0, level_1])\n",
    "# multi index의 경우이렇게 column을 뽑아서 써야함.\n",
    "# 뽑은 걸 dataframe으로 바꿔서 써야함\n",
    "df = pd.DataFrame(data = data, index = ['2020/06' , '2020/09'], columns = idx)\n",
    "\n",
    "# 이렇게 접근하면 뽑아 써야함\n",
    "df['영업이익']"
   ]
  },
  {
   "cell_type": "code",
   "execution_count": 45,
   "id": "5274260d-52f7-4cc8-b1f3-e9aeafd17d3d",
   "metadata": {},
   "outputs": [],
   "source": [
    "# 아까 위에처럼 하면 복잡하니까, 방금 위에 처럼 계층구조를 활용해서 하면 뽑기 편함."
   ]
  },
  {
   "cell_type": "code",
   "execution_count": 46,
   "id": "84ebd895-ee0f-47cd-8ded-352c90930779",
   "metadata": {},
   "outputs": [
    {
     "data": {
      "text/plain": [
       "2020/06     100\n",
       "2020/09    1200\n",
       "Name: 컨센서스, dtype: int64"
      ]
     },
     "execution_count": 46,
     "metadata": {},
     "output_type": "execute_result"
    }
   ],
   "source": [
    "df['영업이익']['컨센서스']"
   ]
  },
  {
   "cell_type": "code",
   "execution_count": null,
   "id": "97f2347f-c357-4698-87ca-c84f5e2cddfe",
   "metadata": {},
   "outputs": [],
   "source": []
  },
  {
   "cell_type": "code",
   "execution_count": null,
   "id": "d9178138-ef47-4222-965b-64baea389f3a",
   "metadata": {},
   "outputs": [],
   "source": []
  },
  {
   "cell_type": "code",
   "execution_count": null,
   "id": "25d956b0-42b3-4744-92a9-724a8c05750f",
   "metadata": {},
   "outputs": [],
   "source": []
  },
  {
   "cell_type": "code",
   "execution_count": null,
   "id": "8f0b5448-4af7-4c2f-9803-1ebf0e7898bb",
   "metadata": {},
   "outputs": [],
   "source": []
  },
  {
   "cell_type": "code",
   "execution_count": null,
   "id": "6cde43b8-8113-444b-a1ba-93112ee590d0",
   "metadata": {},
   "outputs": [],
   "source": []
  },
  {
   "cell_type": "code",
   "execution_count": null,
   "id": "042d53fd-91d2-4782-9f20-e93f1ae652e6",
   "metadata": {},
   "outputs": [],
   "source": []
  }
 ],
 "metadata": {
  "kernelspec": {
   "display_name": "Python 3 (ipykernel)",
   "language": "python",
   "name": "python3"
  },
  "language_info": {
   "codemirror_mode": {
    "name": "ipython",
    "version": 3
   },
   "file_extension": ".py",
   "mimetype": "text/x-python",
   "name": "python",
   "nbconvert_exporter": "python",
   "pygments_lexer": "ipython3",
   "version": "3.12.6"
  }
 },
 "nbformat": 4,
 "nbformat_minor": 5
}
