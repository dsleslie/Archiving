{
 "cells": [
  {
   "cell_type": "code",
   "execution_count": 2,
   "id": "3608b8a9-b624-484f-a519-7c67b13511d3",
   "metadata": {},
   "outputs": [],
   "source": [
    "import pandas as pd\n",
    "import numpy as np\n",
    "import seaborn as sns\n",
    "import matplotlib.pyplot as plt\n",
    "import yfinance as yf\n",
    "# pip install yfinance --upgrade --no-cache-dir <- 이거 bash terminal 에서 실행\n",
    "from pandas import DataFrame\n",
    "# import plotly\n",
    "\n",
    "# 폴더 생성\n",
    "# os 라이브러리\n",
    "#import os\n",
    "#if not os.path.isdir(\"abcd\"):\n",
    "#    os.mkdir(\"abcd\") # 폴더 생성"
   ]
  },
  {
   "cell_type": "code",
   "execution_count": 4,
   "id": "92c89778-1813-4afc-b614-37c29fd00460",
   "metadata": {},
   "outputs": [
    {
     "data": {
      "text/html": [
       "<div>\n",
       "<style scoped>\n",
       "    .dataframe tbody tr th:only-of-type {\n",
       "        vertical-align: middle;\n",
       "    }\n",
       "\n",
       "    .dataframe tbody tr th {\n",
       "        vertical-align: top;\n",
       "    }\n",
       "\n",
       "    .dataframe thead th {\n",
       "        text-align: right;\n",
       "    }\n",
       "</style>\n",
       "<table border=\"1\" class=\"dataframe\">\n",
       "  <thead>\n",
       "    <tr style=\"text-align: right;\">\n",
       "      <th></th>\n",
       "      <th>연도</th>\n",
       "      <th>회사</th>\n",
       "      <th>시가총액</th>\n",
       "    </tr>\n",
       "  </thead>\n",
       "  <tbody>\n",
       "    <tr>\n",
       "      <th>0</th>\n",
       "      <td>2017</td>\n",
       "      <td>삼성</td>\n",
       "      <td>500</td>\n",
       "    </tr>\n",
       "    <tr>\n",
       "      <th>1</th>\n",
       "      <td>2017</td>\n",
       "      <td>LG</td>\n",
       "      <td>300</td>\n",
       "    </tr>\n",
       "    <tr>\n",
       "      <th>2</th>\n",
       "      <td>2017</td>\n",
       "      <td>SK하이닉스</td>\n",
       "      <td>200</td>\n",
       "    </tr>\n",
       "    <tr>\n",
       "      <th>3</th>\n",
       "      <td>2018</td>\n",
       "      <td>삼성</td>\n",
       "      <td>600</td>\n",
       "    </tr>\n",
       "    <tr>\n",
       "      <th>4</th>\n",
       "      <td>2018</td>\n",
       "      <td>LG</td>\n",
       "      <td>400</td>\n",
       "    </tr>\n",
       "    <tr>\n",
       "      <th>5</th>\n",
       "      <td>2018</td>\n",
       "      <td>SK하이닉스</td>\n",
       "      <td>300</td>\n",
       "    </tr>\n",
       "  </tbody>\n",
       "</table>\n",
       "</div>"
      ],
      "text/plain": [
       "     연도      회사  시가총액\n",
       "0  2017      삼성   500\n",
       "1  2017      LG   300\n",
       "2  2017  SK하이닉스   200\n",
       "3  2018      삼성   600\n",
       "4  2018      LG   400\n",
       "5  2018  SK하이닉스   300"
      ]
     },
     "execution_count": 4,
     "metadata": {},
     "output_type": "execute_result"
    }
   ],
   "source": [
    "# 문제!\n",
    "# 연도별로 그룹바이 연산, 시가총액 평균 구하기\n",
    "data = [\n",
    "    [\"2017\", \"삼성\", 500],\n",
    "    [\"2017\", \"LG\", 300],    \n",
    "    [\"2017\", \"SK하이닉스\", 200],\n",
    "    [\"2018\", \"삼성\", 600],\n",
    "    [\"2018\", \"LG\", 400],\n",
    "    [\"2018\", \"SK하이닉스\", 300],    \n",
    "]\n",
    "\n",
    "columns = [\"연도\", \"회사\", \"시가총액\"]\n",
    "df = DataFrame(data=data, columns=columns)\n",
    "df\n",
    "\n",
    "#result = df.groupby(\"연도\")[[\"시가총액\"]].mean()\n",
    "#print(result)\n",
    "#print(type(result))\n",
    "# 이걸 데이터프레임으로 만들어야 합칠 수 있음. 그래서 데이터 프레임으로 만들어야 함.\n",
    "\n",
    "#result = df.groupby(\"연도\")[[\"시가총액\"]].mean() #.to_frame() ?? 뭐지 d왜 나는 이미 df였지?\n",
    "#result.columns = ['시가총액평균']\n",
    "#print(result)\n",
    "#print(type(result))\n",
    "\n",
    "#df2 = df.join(result, on = '연도') # 연도로 지정해줘야, df와 result가 다른 형태임에도, 알아서 잘 찾아서 값 넣어줌.\n",
    "#print(df2)"
   ]
  },
  {
   "cell_type": "code",
   "execution_count": 5,
   "id": "a420c93f-393f-470c-afd7-84eafde7671d",
   "metadata": {},
   "outputs": [],
   "source": [
    "# 문제\n",
    "# 시가총액평균 기준값으로\n",
    "# 새로운 커럼 : 규모\n",
    "# 대형주, 중소형주\n",
    "# numpy.where 사용"
   ]
  },
  {
   "cell_type": "code",
   "execution_count": 6,
   "id": "0c03bb5c-47a0-4fa0-91c1-6a2d022880c4",
   "metadata": {},
   "outputs": [
    {
     "name": "stdout",
     "output_type": "stream",
     "text": [
      "            시가총액\n",
      "연도              \n",
      "2017  333.333333\n",
      "2018  433.333333\n"
     ]
    }
   ],
   "source": [
    "result = df.groupby(\"연도\")[[\"시가총액\"]].mean()\n",
    "print(result)"
   ]
  },
  {
   "cell_type": "code",
   "execution_count": 8,
   "id": "95c6fc57-9fe8-4833-88f3-7e7949feae97",
   "metadata": {},
   "outputs": [],
   "source": [
    "result = df.groupby(\"연도\")[[\"시가총액\"]].mean()\n",
    "result.columns = ['시가총액평균']\n"
   ]
  },
  {
   "cell_type": "code",
   "execution_count": 9,
   "id": "d8bf32bf-4aea-49e7-aa98-0c944a12b2f4",
   "metadata": {},
   "outputs": [
    {
     "data": {
      "text/html": [
       "<div>\n",
       "<style scoped>\n",
       "    .dataframe tbody tr th:only-of-type {\n",
       "        vertical-align: middle;\n",
       "    }\n",
       "\n",
       "    .dataframe tbody tr th {\n",
       "        vertical-align: top;\n",
       "    }\n",
       "\n",
       "    .dataframe thead th {\n",
       "        text-align: right;\n",
       "    }\n",
       "</style>\n",
       "<table border=\"1\" class=\"dataframe\">\n",
       "  <thead>\n",
       "    <tr style=\"text-align: right;\">\n",
       "      <th></th>\n",
       "      <th>연도</th>\n",
       "      <th>회사</th>\n",
       "      <th>시가총액</th>\n",
       "      <th>시가총액평균</th>\n",
       "    </tr>\n",
       "  </thead>\n",
       "  <tbody>\n",
       "    <tr>\n",
       "      <th>0</th>\n",
       "      <td>2017</td>\n",
       "      <td>삼성</td>\n",
       "      <td>500</td>\n",
       "      <td>333.333333</td>\n",
       "    </tr>\n",
       "    <tr>\n",
       "      <th>1</th>\n",
       "      <td>2017</td>\n",
       "      <td>LG</td>\n",
       "      <td>300</td>\n",
       "      <td>333.333333</td>\n",
       "    </tr>\n",
       "    <tr>\n",
       "      <th>2</th>\n",
       "      <td>2017</td>\n",
       "      <td>SK하이닉스</td>\n",
       "      <td>200</td>\n",
       "      <td>333.333333</td>\n",
       "    </tr>\n",
       "    <tr>\n",
       "      <th>3</th>\n",
       "      <td>2018</td>\n",
       "      <td>삼성</td>\n",
       "      <td>600</td>\n",
       "      <td>433.333333</td>\n",
       "    </tr>\n",
       "    <tr>\n",
       "      <th>4</th>\n",
       "      <td>2018</td>\n",
       "      <td>LG</td>\n",
       "      <td>400</td>\n",
       "      <td>433.333333</td>\n",
       "    </tr>\n",
       "    <tr>\n",
       "      <th>5</th>\n",
       "      <td>2018</td>\n",
       "      <td>SK하이닉스</td>\n",
       "      <td>300</td>\n",
       "      <td>433.333333</td>\n",
       "    </tr>\n",
       "  </tbody>\n",
       "</table>\n",
       "</div>"
      ],
      "text/plain": [
       "     연도      회사  시가총액      시가총액평균\n",
       "0  2017      삼성   500  333.333333\n",
       "1  2017      LG   300  333.333333\n",
       "2  2017  SK하이닉스   200  333.333333\n",
       "3  2018      삼성   600  433.333333\n",
       "4  2018      LG   400  433.333333\n",
       "5  2018  SK하이닉스   300  433.333333"
      ]
     },
     "execution_count": 9,
     "metadata": {},
     "output_type": "execute_result"
    }
   ],
   "source": [
    "df2 = df.join(result, on = '연도') # 연도로 지정해줘야, df와 result가 다른 형태임에도, 알아서 잘 찾아서 값 넣어줌.\n",
    "df2"
   ]
  },
  {
   "cell_type": "code",
   "execution_count": 12,
   "id": "687090fa-34e4-42e5-8054-76b659af8e77",
   "metadata": {},
   "outputs": [
    {
     "data": {
      "text/plain": [
       "(array([0, 1, 2]),)"
      ]
     },
     "execution_count": 12,
     "metadata": {},
     "output_type": "execute_result"
    }
   ],
   "source": [
    "test1 = np.where(df2['시가총액평균']<400)\n",
    "test1"
   ]
  },
  {
   "cell_type": "code",
   "execution_count": 13,
   "id": "960213d3-7786-4f18-98b5-2ef6abecd8e3",
   "metadata": {},
   "outputs": [
    {
     "data": {
      "text/plain": [
       "array(['중소형주', '중소형주', '중소형주', '대형주', '대형주', '대형주'], dtype='<U4')"
      ]
     },
     "execution_count": 13,
     "metadata": {},
     "output_type": "execute_result"
    }
   ],
   "source": [
    "test2 = np.where(df2['시가총액평균']<400, '중소형주' , '대형주')\n",
    "test2"
   ]
  },
  {
   "cell_type": "code",
   "execution_count": 15,
   "id": "a43682fc-dd66-4e05-bbbf-5f6d4dac08fc",
   "metadata": {},
   "outputs": [
    {
     "data": {
      "text/html": [
       "<div>\n",
       "<style scoped>\n",
       "    .dataframe tbody tr th:only-of-type {\n",
       "        vertical-align: middle;\n",
       "    }\n",
       "\n",
       "    .dataframe tbody tr th {\n",
       "        vertical-align: top;\n",
       "    }\n",
       "\n",
       "    .dataframe thead th {\n",
       "        text-align: right;\n",
       "    }\n",
       "</style>\n",
       "<table border=\"1\" class=\"dataframe\">\n",
       "  <thead>\n",
       "    <tr style=\"text-align: right;\">\n",
       "      <th></th>\n",
       "      <th>연도</th>\n",
       "      <th>회사</th>\n",
       "      <th>시가총액</th>\n",
       "      <th>시가총액평균</th>\n",
       "      <th>규모</th>\n",
       "    </tr>\n",
       "  </thead>\n",
       "  <tbody>\n",
       "    <tr>\n",
       "      <th>0</th>\n",
       "      <td>2017</td>\n",
       "      <td>삼성</td>\n",
       "      <td>500</td>\n",
       "      <td>333.333333</td>\n",
       "      <td>대형주</td>\n",
       "    </tr>\n",
       "    <tr>\n",
       "      <th>1</th>\n",
       "      <td>2017</td>\n",
       "      <td>LG</td>\n",
       "      <td>300</td>\n",
       "      <td>333.333333</td>\n",
       "      <td>중소형주</td>\n",
       "    </tr>\n",
       "    <tr>\n",
       "      <th>2</th>\n",
       "      <td>2017</td>\n",
       "      <td>SK하이닉스</td>\n",
       "      <td>200</td>\n",
       "      <td>333.333333</td>\n",
       "      <td>중소형주</td>\n",
       "    </tr>\n",
       "    <tr>\n",
       "      <th>3</th>\n",
       "      <td>2018</td>\n",
       "      <td>삼성</td>\n",
       "      <td>600</td>\n",
       "      <td>433.333333</td>\n",
       "      <td>대형주</td>\n",
       "    </tr>\n",
       "    <tr>\n",
       "      <th>4</th>\n",
       "      <td>2018</td>\n",
       "      <td>LG</td>\n",
       "      <td>400</td>\n",
       "      <td>433.333333</td>\n",
       "      <td>중소형주</td>\n",
       "    </tr>\n",
       "    <tr>\n",
       "      <th>5</th>\n",
       "      <td>2018</td>\n",
       "      <td>SK하이닉스</td>\n",
       "      <td>300</td>\n",
       "      <td>433.333333</td>\n",
       "      <td>중소형주</td>\n",
       "    </tr>\n",
       "  </tbody>\n",
       "</table>\n",
       "</div>"
      ],
      "text/plain": [
       "     연도      회사  시가총액      시가총액평균    규모\n",
       "0  2017      삼성   500  333.333333   대형주\n",
       "1  2017      LG   300  333.333333  중소형주\n",
       "2  2017  SK하이닉스   200  333.333333  중소형주\n",
       "3  2018      삼성   600  433.333333   대형주\n",
       "4  2018      LG   400  433.333333  중소형주\n",
       "5  2018  SK하이닉스   300  433.333333  중소형주"
      ]
     },
     "execution_count": 15,
     "metadata": {},
     "output_type": "execute_result"
    }
   ],
   "source": [
    "df2['규모'] = np.where(df2['시가총액']<= df2['시가총액평균'] , '중소형주' , '대형주')\n",
    "df2"
   ]
  },
  {
   "cell_type": "code",
   "execution_count": 16,
   "id": "94b607af-c036-4e29-bba4-bb7072796857",
   "metadata": {},
   "outputs": [],
   "source": [
    "# 위는, numpy.where 홀용해서 sereies 연산 한 것"
   ]
  },
  {
   "cell_type": "code",
   "execution_count": 17,
   "id": "b6d069b1-bc0b-4f74-8807-b22facbb6850",
   "metadata": {},
   "outputs": [
    {
     "data": {
      "text/html": [
       "<div>\n",
       "<style scoped>\n",
       "    .dataframe tbody tr th:only-of-type {\n",
       "        vertical-align: middle;\n",
       "    }\n",
       "\n",
       "    .dataframe tbody tr th {\n",
       "        vertical-align: top;\n",
       "    }\n",
       "\n",
       "    .dataframe thead th {\n",
       "        text-align: right;\n",
       "    }\n",
       "</style>\n",
       "<table border=\"1\" class=\"dataframe\">\n",
       "  <thead>\n",
       "    <tr style=\"text-align: right;\">\n",
       "      <th></th>\n",
       "      <th>연도</th>\n",
       "      <th>회사</th>\n",
       "      <th>시가총액</th>\n",
       "      <th>규모</th>\n",
       "    </tr>\n",
       "  </thead>\n",
       "  <tbody>\n",
       "    <tr>\n",
       "      <th>0</th>\n",
       "      <td>2017</td>\n",
       "      <td>삼성</td>\n",
       "      <td>500</td>\n",
       "      <td>대형주</td>\n",
       "    </tr>\n",
       "    <tr>\n",
       "      <th>1</th>\n",
       "      <td>2017</td>\n",
       "      <td>LG</td>\n",
       "      <td>300</td>\n",
       "      <td>중소형주</td>\n",
       "    </tr>\n",
       "    <tr>\n",
       "      <th>2</th>\n",
       "      <td>2017</td>\n",
       "      <td>SK하이닉스</td>\n",
       "      <td>200</td>\n",
       "      <td>중소형주</td>\n",
       "    </tr>\n",
       "    <tr>\n",
       "      <th>3</th>\n",
       "      <td>2018</td>\n",
       "      <td>삼성</td>\n",
       "      <td>600</td>\n",
       "      <td>대형주</td>\n",
       "    </tr>\n",
       "    <tr>\n",
       "      <th>4</th>\n",
       "      <td>2018</td>\n",
       "      <td>LG</td>\n",
       "      <td>400</td>\n",
       "      <td>중소형주</td>\n",
       "    </tr>\n",
       "    <tr>\n",
       "      <th>5</th>\n",
       "      <td>2018</td>\n",
       "      <td>SK하이닉스</td>\n",
       "      <td>300</td>\n",
       "      <td>중소형주</td>\n",
       "    </tr>\n",
       "  </tbody>\n",
       "</table>\n",
       "</div>"
      ],
      "text/plain": [
       "     연도      회사  시가총액    규모\n",
       "0  2017      삼성   500   대형주\n",
       "1  2017      LG   300  중소형주\n",
       "2  2017  SK하이닉스   200  중소형주\n",
       "3  2018      삼성   600   대형주\n",
       "4  2018      LG   400  중소형주\n",
       "5  2018  SK하이닉스   300  중소형주"
      ]
     },
     "execution_count": 17,
     "metadata": {},
     "output_type": "execute_result"
    }
   ],
   "source": [
    "df3=df2.drop('시가총액평균', axis=1)\n",
    "df3"
   ]
  },
  {
   "cell_type": "markdown",
   "id": "1e3cf15b-cf5c-400d-8d91-e2bebe5e9ce1",
   "metadata": {},
   "source": [
    "# Multi Index"
   ]
  },
  {
   "cell_type": "code",
   "execution_count": 18,
   "id": "f455d839-606e-4fe5-b0ef-977267516add",
   "metadata": {},
   "outputs": [
    {
     "data": {
      "text/html": [
       "<div>\n",
       "<style scoped>\n",
       "    .dataframe tbody tr th:only-of-type {\n",
       "        vertical-align: middle;\n",
       "    }\n",
       "\n",
       "    .dataframe tbody tr th {\n",
       "        vertical-align: top;\n",
       "    }\n",
       "\n",
       "    .dataframe thead th {\n",
       "        text-align: right;\n",
       "    }\n",
       "</style>\n",
       "<table border=\"1\" class=\"dataframe\">\n",
       "  <thead>\n",
       "    <tr style=\"text-align: right;\">\n",
       "      <th></th>\n",
       "      <th></th>\n",
       "      <th>2</th>\n",
       "      <th>3</th>\n",
       "    </tr>\n",
       "    <tr>\n",
       "      <th>0</th>\n",
       "      <th>1</th>\n",
       "      <th></th>\n",
       "      <th></th>\n",
       "    </tr>\n",
       "  </thead>\n",
       "  <tbody>\n",
       "    <tr>\n",
       "      <th rowspan=\"2\" valign=\"top\">영업이익</th>\n",
       "      <th>컨센서스</th>\n",
       "      <td>1000</td>\n",
       "      <td>1200</td>\n",
       "    </tr>\n",
       "    <tr>\n",
       "      <th>잠정치</th>\n",
       "      <td>900</td>\n",
       "      <td>1400</td>\n",
       "    </tr>\n",
       "    <tr>\n",
       "      <th rowspan=\"2\" valign=\"top\">당기순이익</th>\n",
       "      <th>컨센서스</th>\n",
       "      <td>800</td>\n",
       "      <td>900</td>\n",
       "    </tr>\n",
       "    <tr>\n",
       "      <th>잠정치</th>\n",
       "      <td>700</td>\n",
       "      <td>800</td>\n",
       "    </tr>\n",
       "  </tbody>\n",
       "</table>\n",
       "</div>"
      ],
      "text/plain": [
       "               2     3\n",
       "0     1               \n",
       "영업이익  컨센서스  1000  1200\n",
       "      잠정치    900  1400\n",
       "당기순이익 컨센서스   800   900\n",
       "      잠정치    700   800"
      ]
     },
     "execution_count": 18,
     "metadata": {},
     "output_type": "execute_result"
    }
   ],
   "source": [
    "from pandas import DataFrame\n",
    "import pandas as pd\n",
    "\n",
    "data = [\n",
    "    [\"영업이익\", \"컨센서스\", 1000, 1200],\n",
    "    [\"영업이익\", \"잠정치\", 900, 1400],\n",
    "    [\"당기순이익\", \"컨센서스\", 800, 900],\n",
    "    [\"당기순이익\", \"잠정치\", 700, 800]\n",
    "]\n",
    "\n",
    "df = DataFrame(data=data)\n",
    "df = df.set_index([0, 1])\n",
    "df"
   ]
  },
  {
   "cell_type": "code",
   "execution_count": 19,
   "id": "248c9cdb-f7d1-4ea0-886e-b318b9ff22a1",
   "metadata": {},
   "outputs": [
    {
     "data": {
      "text/plain": [
       "pandas.core.frame.DataFrame"
      ]
     },
     "execution_count": 19,
     "metadata": {},
     "output_type": "execute_result"
    }
   ],
   "source": [
    "type(df)"
   ]
  },
  {
   "cell_type": "code",
   "execution_count": 20,
   "id": "dc0d2416-440c-47fa-a415-46fa3c65ef76",
   "metadata": {},
   "outputs": [],
   "source": [
    "# 이 데이터프레임은 인덱스가 두개임!! multi inde"
   ]
  },
  {
   "cell_type": "code",
   "execution_count": 21,
   "id": "53d1609f-6574-4b9c-acbc-c0b9b7fc8348",
   "metadata": {},
   "outputs": [
    {
     "data": {
      "text/html": [
       "<div>\n",
       "<style scoped>\n",
       "    .dataframe tbody tr th:only-of-type {\n",
       "        vertical-align: middle;\n",
       "    }\n",
       "\n",
       "    .dataframe tbody tr th {\n",
       "        vertical-align: top;\n",
       "    }\n",
       "\n",
       "    .dataframe thead th {\n",
       "        text-align: right;\n",
       "    }\n",
       "</style>\n",
       "<table border=\"1\" class=\"dataframe\">\n",
       "  <thead>\n",
       "    <tr style=\"text-align: right;\">\n",
       "      <th></th>\n",
       "      <th>2</th>\n",
       "      <th>3</th>\n",
       "    </tr>\n",
       "    <tr>\n",
       "      <th>1</th>\n",
       "      <th></th>\n",
       "      <th></th>\n",
       "    </tr>\n",
       "  </thead>\n",
       "  <tbody>\n",
       "    <tr>\n",
       "      <th>컨센서스</th>\n",
       "      <td>1000</td>\n",
       "      <td>1200</td>\n",
       "    </tr>\n",
       "    <tr>\n",
       "      <th>잠정치</th>\n",
       "      <td>900</td>\n",
       "      <td>1400</td>\n",
       "    </tr>\n",
       "  </tbody>\n",
       "</table>\n",
       "</div>"
      ],
      "text/plain": [
       "         2     3\n",
       "1               \n",
       "컨센서스  1000  1200\n",
       "잠정치    900  1400"
      ]
     },
     "execution_count": 21,
     "metadata": {},
     "output_type": "execute_result"
    }
   ],
   "source": [
    "df.loc[('영업이익'),:]"
   ]
  },
  {
   "cell_type": "code",
   "execution_count": 22,
   "id": "2e805601-3d61-482d-8783-3cafd0e3d839",
   "metadata": {},
   "outputs": [
    {
     "data": {
      "text/plain": [
       "2    1000\n",
       "3    1200\n",
       "Name: (영업이익, 컨센서스), dtype: int64"
      ]
     },
     "execution_count": 22,
     "metadata": {},
     "output_type": "execute_result"
    }
   ],
   "source": [
    "df.loc[('영업이익', '컨센서스'),:]"
   ]
  },
  {
   "cell_type": "code",
   "execution_count": null,
   "id": "6c9ac10e-6538-414d-9803-90ecd482f30e",
   "metadata": {},
   "outputs": [],
   "source": []
  },
  {
   "cell_type": "code",
   "execution_count": null,
   "id": "8f0b5448-4af7-4c2f-9803-1ebf0e7898bb",
   "metadata": {},
   "outputs": [],
   "source": []
  },
  {
   "cell_type": "code",
   "execution_count": null,
   "id": "6cde43b8-8113-444b-a1ba-93112ee590d0",
   "metadata": {},
   "outputs": [],
   "source": []
  },
  {
   "cell_type": "code",
   "execution_count": null,
   "id": "042d53fd-91d2-4782-9f20-e93f1ae652e6",
   "metadata": {},
   "outputs": [],
   "source": []
  }
 ],
 "metadata": {
  "kernelspec": {
   "display_name": "Python 3 (ipykernel)",
   "language": "python",
   "name": "python3"
  },
  "language_info": {
   "codemirror_mode": {
    "name": "ipython",
    "version": 3
   },
   "file_extension": ".py",
   "mimetype": "text/x-python",
   "name": "python",
   "nbconvert_exporter": "python",
   "pygments_lexer": "ipython3",
   "version": "3.12.6"
  }
 },
 "nbformat": 4,
 "nbformat_minor": 5
}
